{
 "cells": [
  {
   "cell_type": "code",
   "execution_count": 26,
   "metadata": {},
   "outputs": [
    {
     "name": "stdout",
     "output_type": "stream",
     "text": [
      "The tensorboard extension is already loaded. To reload it, use:\n",
      "  %reload_ext tensorboard\n"
     ]
    },
    {
     "data": {
      "text/plain": [
       "[]"
      ]
     },
     "execution_count": 26,
     "metadata": {},
     "output_type": "execute_result"
    }
   ],
   "source": [
    "# Load the TensorBoard notebook extension\n",
    "%load_ext tensorboard\n",
    "\n",
    "# Clear any logs from previous runs\n",
    "%rm -rf ./my_logs/\n",
    "\n",
    "import tensorflow as tf\n",
    "\n",
    "tf.config.list_physical_devices(\"GPU\")"
   ]
  },
  {
   "cell_type": "markdown",
   "metadata": {},
   "source": [
    "# Data Import and Pre-processing"
   ]
  },
  {
   "cell_type": "code",
   "execution_count": 2,
   "metadata": {},
   "outputs": [],
   "source": [
    "import pandas as pd\n",
    "import numpy as np"
   ]
  },
  {
   "cell_type": "code",
   "execution_count": 3,
   "metadata": {},
   "outputs": [],
   "source": [
    "creepy = pd.read_pickle('./pickles/new/creepy_with_log.pickle')\n",
    "noncreepy = pd.read_pickle('./pickles/new/non-creepy_with_log.pickle')"
   ]
  },
  {
   "cell_type": "code",
   "execution_count": 4,
   "metadata": {},
   "outputs": [],
   "source": [
    "creepy_sum_vec_with_log_prepended = creepy.loc[:,'sum_vec_with_log_prepended'].copy()\n",
    "noncreepy_sum_vec_with_log_prepended = noncreepy.loc[:,'sum_vec_with_log_prepended'].copy()"
   ]
  },
  {
   "cell_type": "code",
   "execution_count": 5,
   "metadata": {},
   "outputs": [],
   "source": [
    "creepy_features = pd.DataFrame(creepy_sum_vec_with_log_prepended.to_list()).to_numpy(dtype = float)\n",
    "creepy_labels = np.ones(len(creepy_features))"
   ]
  },
  {
   "cell_type": "code",
   "execution_count": 6,
   "metadata": {},
   "outputs": [],
   "source": [
    "noncreepy_features = pd.DataFrame(noncreepy_sum_vec_with_log_prepended.to_list()).to_numpy(dtype = float)\n",
    "noncreepy_labels = np.zeros(len(noncreepy_features))"
   ]
  },
  {
   "cell_type": "code",
   "execution_count": 7,
   "metadata": {},
   "outputs": [
    {
     "name": "stdout",
     "output_type": "stream",
     "text": [
      "[[  0.69813472   2.94098592  -5.6173358  ...  -4.59305143   0.358845\n",
      "   -9.06916523]\n",
      " [  0.69813472   2.94098592  -5.6173358  ...  -4.59305143   0.358845\n",
      "   -9.06916523]\n",
      " [  0.69813472 -19.20127296 -13.71549892 ...  18.18037987 -16.4872303\n",
      "   -6.75176859]\n",
      " ...\n",
      " [  0.69813472  -0.78924334   0.29064384 ...   1.36802995  -3.79267383\n",
      "   -1.91743255]\n",
      " [  0.69813472   2.08661604  -1.43281949 ...  -1.90943027   3.40888762\n",
      "    0.54635704]\n",
      " [  0.69813472  -1.46298337  -2.17777109 ...   1.96948338  -0.8519302\n",
      "   -2.56011105]] [1. 1. 1. ... 0. 0. 0.]\n"
     ]
    }
   ],
   "source": [
    "features = np.concatenate((creepy_features, noncreepy_features))\n",
    "labels = np.concatenate((creepy_labels, noncreepy_labels))\n",
    "print(features, labels)"
   ]
  },
  {
   "cell_type": "code",
   "execution_count": 8,
   "metadata": {},
   "outputs": [
    {
     "name": "stdout",
     "output_type": "stream",
     "text": [
      "(37846, 769) (37846,)\n"
     ]
    }
   ],
   "source": [
    "print(features.shape, labels.shape)"
   ]
  },
  {
   "cell_type": "code",
   "execution_count": 9,
   "metadata": {},
   "outputs": [
    {
     "name": "stdout",
     "output_type": "stream",
     "text": [
      "[[  0.69813472  -0.20541106  -0.63220668 ...  -2.06296015  -0.31214005\n",
      "    0.56931061]\n",
      " [  1.3887912  -25.27742004  24.78032303 ...   7.8399291   -3.42366266\n",
      "  -16.19086075]\n",
      " [  0.69813472  -0.24916789   0.44955307 ...   0.1818856    0.18441162\n",
      "   -0.2176342 ]\n",
      " ...\n",
      " [  0.69813472 -29.94803429  -6.8827877  ...   6.85386038  -3.31302452\n",
      "  -10.02892494]\n",
      " [  2.08069086 -13.33821583  -4.91020679 ...  14.74181557  -2.53234529\n",
      "  -15.17952728]\n",
      " [  0.69813472   0.66823739   0.31437737 ...  -2.00469542  -0.96237332\n",
      "    0.297732  ]] [0. 1. 0. ... 1. 0. 0.]\n"
     ]
    }
   ],
   "source": [
    "from sklearn.utils import shuffle\n",
    "\n",
    "features, labels = shuffle(features, labels)\n",
    "print(features, labels)"
   ]
  },
  {
   "cell_type": "code",
   "execution_count": 10,
   "metadata": {},
   "outputs": [
    {
     "name": "stdout",
     "output_type": "stream",
     "text": [
      "[[0.         0.92648435 0.60011581 ... 0.84156141 0.47176894 0.42119204]\n",
      " [0.084699   0.9184889  0.61621742 ... 0.84866518 0.46909632 0.41530716]\n",
      " [0.         0.92647039 0.60080122 ... 0.84317173 0.47219545 0.42091572]\n",
      " ...\n",
      " [0.         0.91699945 0.59615538 ... 0.84795783 0.46919135 0.41747076]\n",
      " [0.16955046 0.9222963  0.59740523 ... 0.8536162  0.46986191 0.41566226]\n",
      " [0.         0.92676295 0.60071557 ... 0.8416032  0.47121042 0.42109668]] [0. 1. 0. ... 1. 0. 0.]\n"
     ]
    }
   ],
   "source": [
    "from sklearn.preprocessing import MinMaxScaler\n",
    "scaler = MinMaxScaler(feature_range=(0, 1))\n",
    "scaled_features = scaler.fit_transform(features)\n",
    "print(scaled_features, labels)"
   ]
  },
  {
   "cell_type": "markdown",
   "metadata": {},
   "source": [
    "- [x] 70% train, 15% val, 15% test\n",
    " - Train: 26500\n",
    " - Valid: 5677\n",
    " - Test: 5669\n",
    "- [ ] 80% train, 10% val, 10% test\n",
    "- [ ] 60% train, 20% val, 20% test"
   ]
  },
  {
   "cell_type": "code",
   "execution_count": 11,
   "metadata": {},
   "outputs": [
    {
     "data": {
      "text/plain": [
       "array([0.        , 0.084699  , 0.        , ..., 0.        , 0.16955046,\n",
       "       0.        ])"
      ]
     },
     "execution_count": 11,
     "metadata": {},
     "output_type": "execute_result"
    }
   ],
   "source": [
    "scaled_features[:,0]"
   ]
  },
  {
   "cell_type": "code",
   "execution_count": 12,
   "metadata": {},
   "outputs": [],
   "source": [
    "X_train, X_valid, X_test = scaled_features[:26500], scaled_features[26500:26500+5677], scaled_features[26500+5677:]\n",
    "y_train, y_valid, y_test = labels[:26500], labels[26500:26500+5677], labels[26500+5677:]"
   ]
  },
  {
   "cell_type": "code",
   "execution_count": 14,
   "metadata": {},
   "outputs": [],
   "source": [
    "import tensorflow as tf\n",
    "from tensorflow import keras"
   ]
  },
  {
   "cell_type": "markdown",
   "metadata": {},
   "source": [
    "# Model here"
   ]
  },
  {
   "cell_type": "code",
   "execution_count": 22,
   "metadata": {},
   "outputs": [],
   "source": [
    "model = keras.Sequential([\n",
    "#     keras.layers.Dense(units = 303, input_shape = (769,), activation = 'relu'),\n",
    "#     keras.layers.Dropout(0.5),\n",
    "    keras.layers.Dense(units = 303, input_shape = (769,), activation = 'relu'),\n",
    "    keras.layers.Dropout(0.1),\n",
    "#     keras.layers.Dense(units = 256, activation = 'relu'),\n",
    "    keras.layers.Dense(units = 128, activation = 'relu'),\n",
    "    keras.layers.Dense(units = 64, activation = 'relu'),\n",
    "    keras.layers.Dense(units = 32, activation = 'relu'),\n",
    "    keras.layers.Dense(units = 16, activation = 'relu'),\n",
    "    keras.layers.Dense(units = 1, activation = 'sigmoid') # here the units must be 1 in order for binary classifications to work\n",
    "])"
   ]
  },
  {
   "cell_type": "code",
   "execution_count": 23,
   "metadata": {},
   "outputs": [
    {
     "name": "stdout",
     "output_type": "stream",
     "text": [
      "Model: \"sequential_2\"\n",
      "_________________________________________________________________\n",
      "Layer (type)                 Output Shape              Param #   \n",
      "=================================================================\n",
      "dense_13 (Dense)             (None, 303)               233310    \n",
      "_________________________________________________________________\n",
      "dropout_3 (Dropout)          (None, 303)               0         \n",
      "_________________________________________________________________\n",
      "dense_14 (Dense)             (None, 128)               38912     \n",
      "_________________________________________________________________\n",
      "dense_15 (Dense)             (None, 64)                8256      \n",
      "_________________________________________________________________\n",
      "dense_16 (Dense)             (None, 32)                2080      \n",
      "_________________________________________________________________\n",
      "dense_17 (Dense)             (None, 16)                528       \n",
      "_________________________________________________________________\n",
      "dense_18 (Dense)             (None, 1)                 17        \n",
      "=================================================================\n",
      "Total params: 283,103\n",
      "Trainable params: 283,103\n",
      "Non-trainable params: 0\n",
      "_________________________________________________________________\n"
     ]
    }
   ],
   "source": [
    "model.summary()"
   ]
  },
  {
   "cell_type": "code",
   "execution_count": 24,
   "metadata": {},
   "outputs": [],
   "source": [
    "model.compile(loss = 'binary_crossentropy',\n",
    "             optimizer = keras.optimizers.Adam(lr=0.000959, beta_1 = 0.9, beta_2=0.999), # you can tune the learning rate here. Default lr = 0.01\n",
    "             metrics=['accuracy'])"
   ]
  },
  {
   "cell_type": "code",
   "execution_count": 27,
   "metadata": {},
   "outputs": [
    {
     "name": "stdout",
     "output_type": "stream",
     "text": [
      "Epoch 1/30\n",
      "  1/829 [..............................] - ETA: 0s - loss: 0.2378 - accuracy: 0.9062WARNING:tensorflow:Callbacks method `on_train_batch_end` is slow compared to the batch time (batch time: 0.0127s vs `on_train_batch_end` time: 0.0212s). Check your callbacks.\n",
      "829/829 [==============================] - 2s 2ms/step - loss: 0.3014 - accuracy: 0.8969 - val_loss: 0.2114 - val_accuracy: 0.9309\n",
      "Epoch 2/30\n",
      "829/829 [==============================] - 2s 2ms/step - loss: 0.3001 - accuracy: 0.8964 - val_loss: 0.1863 - val_accuracy: 0.9457\n",
      "Epoch 3/30\n",
      "829/829 [==============================] - 2s 2ms/step - loss: 0.2990 - accuracy: 0.8968 - val_loss: 0.2015 - val_accuracy: 0.9429\n",
      "Epoch 4/30\n",
      "829/829 [==============================] - 2s 2ms/step - loss: 0.3001 - accuracy: 0.8961 - val_loss: 0.2197 - val_accuracy: 0.9280\n",
      "Epoch 5/30\n",
      "829/829 [==============================] - 2s 3ms/step - loss: 0.2916 - accuracy: 0.9013 - val_loss: 0.2008 - val_accuracy: 0.9417\n",
      "Epoch 6/30\n",
      "829/829 [==============================] - 2s 2ms/step - loss: 0.2982 - accuracy: 0.8950 - val_loss: 0.2478 - val_accuracy: 0.9086\n",
      "Epoch 7/30\n",
      "829/829 [==============================] - 2s 2ms/step - loss: 0.2923 - accuracy: 0.8996 - val_loss: 0.3317 - val_accuracy: 0.8765\n",
      "Epoch 8/30\n",
      "829/829 [==============================] - 2s 2ms/step - loss: 0.2891 - accuracy: 0.9007 - val_loss: 0.1911 - val_accuracy: 0.9449\n",
      "Epoch 9/30\n",
      "829/829 [==============================] - 2s 2ms/step - loss: 0.2883 - accuracy: 0.9028 - val_loss: 0.1887 - val_accuracy: 0.9436\n",
      "Epoch 10/30\n",
      "829/829 [==============================] - 2s 2ms/step - loss: 0.2884 - accuracy: 0.9023 - val_loss: 0.2846 - val_accuracy: 0.9019\n",
      "Epoch 11/30\n",
      "829/829 [==============================] - 2s 2ms/step - loss: 0.2911 - accuracy: 0.8994 - val_loss: 0.2731 - val_accuracy: 0.9024\n",
      "Epoch 12/30\n",
      "829/829 [==============================] - 2s 2ms/step - loss: 0.2863 - accuracy: 0.9020 - val_loss: 0.1817 - val_accuracy: 0.9456\n",
      "Epoch 13/30\n",
      "829/829 [==============================] - 2s 2ms/step - loss: 0.2915 - accuracy: 0.9001 - val_loss: 0.2090 - val_accuracy: 0.9412\n",
      "Epoch 14/30\n",
      "829/829 [==============================] - 2s 2ms/step - loss: 0.2822 - accuracy: 0.9047 - val_loss: 0.1749 - val_accuracy: 0.9523\n",
      "Epoch 15/30\n",
      "829/829 [==============================] - 2s 2ms/step - loss: 0.2795 - accuracy: 0.9057 - val_loss: 0.2146 - val_accuracy: 0.9357\n",
      "Epoch 16/30\n",
      "829/829 [==============================] - 2s 2ms/step - loss: 0.2818 - accuracy: 0.9040 - val_loss: 0.2215 - val_accuracy: 0.9294\n",
      "Epoch 17/30\n",
      "829/829 [==============================] - 2s 2ms/step - loss: 0.2908 - accuracy: 0.9008 - val_loss: 0.2858 - val_accuracy: 0.8961\n",
      "Epoch 18/30\n",
      "829/829 [==============================] - 2s 2ms/step - loss: 0.2843 - accuracy: 0.9046 - val_loss: 0.2688 - val_accuracy: 0.9063\n",
      "Epoch 19/30\n",
      "829/829 [==============================] - 2s 2ms/step - loss: 0.2799 - accuracy: 0.9049 - val_loss: 0.1649 - val_accuracy: 0.9542\n",
      "Epoch 20/30\n",
      "829/829 [==============================] - 2s 2ms/step - loss: 0.2837 - accuracy: 0.9030 - val_loss: 0.1904 - val_accuracy: 0.9412\n",
      "Epoch 21/30\n",
      "829/829 [==============================] - 2s 2ms/step - loss: 0.2783 - accuracy: 0.9060 - val_loss: 0.2148 - val_accuracy: 0.9359\n",
      "Epoch 22/30\n",
      "829/829 [==============================] - 2s 2ms/step - loss: 0.2771 - accuracy: 0.9059 - val_loss: 0.1659 - val_accuracy: 0.9533\n",
      "Epoch 23/30\n",
      "829/829 [==============================] - 2s 2ms/step - loss: 0.2821 - accuracy: 0.9050 - val_loss: 0.1894 - val_accuracy: 0.9465\n",
      "Epoch 24/30\n",
      "829/829 [==============================] - 2s 2ms/step - loss: 0.2798 - accuracy: 0.9051 - val_loss: 0.2087 - val_accuracy: 0.9348\n",
      "Epoch 25/30\n",
      "829/829 [==============================] - 2s 2ms/step - loss: 0.2754 - accuracy: 0.9066 - val_loss: 0.2319 - val_accuracy: 0.9246\n",
      "Epoch 26/30\n",
      "829/829 [==============================] - 2s 2ms/step - loss: 0.2791 - accuracy: 0.9057 - val_loss: 0.2899 - val_accuracy: 0.8959\n",
      "Epoch 27/30\n",
      "829/829 [==============================] - 2s 2ms/step - loss: 0.2729 - accuracy: 0.9084 - val_loss: 0.2030 - val_accuracy: 0.9361\n",
      "Epoch 28/30\n",
      "829/829 [==============================] - 2s 2ms/step - loss: 0.2784 - accuracy: 0.9058 - val_loss: 0.1648 - val_accuracy: 0.9537\n",
      "Epoch 29/30\n",
      "829/829 [==============================] - 2s 2ms/step - loss: 0.2813 - accuracy: 0.9060 - val_loss: 0.1783 - val_accuracy: 0.9479\n",
      "Epoch 30/30\n",
      "829/829 [==============================] - 2s 2ms/step - loss: 0.2667 - accuracy: 0.9118 - val_loss: 0.2258 - val_accuracy: 0.9230\n"
     ]
    },
    {
     "data": {
      "text/plain": [
       "Reusing TensorBoard on port 6006 (pid 39995), started 2 days, 2:22:47 ago. (Use '!kill 39995' to kill it.)"
      ]
     },
     "metadata": {},
     "output_type": "display_data"
    },
    {
     "data": {
      "text/html": [
       "\n",
       "      <iframe id=\"tensorboard-frame-c949afa279a13faf\" width=\"100%\" height=\"800\" frameborder=\"0\">\n",
       "      </iframe>\n",
       "      <script>\n",
       "        (function() {\n",
       "          const frame = document.getElementById(\"tensorboard-frame-c949afa279a13faf\");\n",
       "          const url = new URL(\"/\", window.location);\n",
       "          const port = 6006;\n",
       "          if (port) {\n",
       "            url.port = port;\n",
       "          }\n",
       "          frame.src = url;\n",
       "        })();\n",
       "      </script>\n",
       "    "
      ],
      "text/plain": [
       "<IPython.core.display.HTML object>"
      ]
     },
     "metadata": {},
     "output_type": "display_data"
    }
   ],
   "source": [
    "import os\n",
    "root_logdir = os.path.join(os.curdir, \"my_logs\")\n",
    "\n",
    "def get_run_log_dir():\n",
    "    import time\n",
    "    run_id = time.strftime(\"run_%Y_%m_%d-%H_%M_%S\")\n",
    "    return os.path.join(root_logdir, run_id)\n",
    "\n",
    "run_logdir = get_run_log_dir()\n",
    "\n",
    "tensorboard_cb = keras.callbacks.TensorBoard(run_logdir)\n",
    "\n",
    "history = model.fit(X_train, y_train, epochs = 30, \n",
    "                   validation_data=(X_valid, y_valid),\n",
    "                   callbacks=[tensorboard_cb])\n",
    "\n",
    "%tensorboard --logdir my_logs"
   ]
  },
  {
   "cell_type": "code",
   "execution_count": 28,
   "metadata": {},
   "outputs": [
    {
     "data": {
      "image/png": "[encoded data removed]",
      "text/plain": [
       "<Figure size 576x360 with 1 Axes>"
      ]
     },
     "metadata": {
      "needs_background": "light"
     },
     "output_type": "display_data"
    }
   ],
   "source": [
    "import matplotlib.pyplot as plt\n",
    "pd.DataFrame(history.history).plot(figsize = (8,5))\n",
    "plt.grid = True\n",
    "plt.gca().set_ylim(0,1)\n",
    "plt.savefig('./Presentations/10-26-2020/loss&accuracy.png')\n"
   ]
  },
  {
   "cell_type": "code",
   "execution_count": 29,
   "metadata": {},
   "outputs": [
    {
     "name": "stdout",
     "output_type": "stream",
     "text": [
      "178/178 [==============================] - 0s 1ms/step - loss: 0.2246 - accuracy: 0.9249\n"
     ]
    },
    {
     "data": {
      "text/plain": [
       "[0.2246343493461609, 0.9248544573783875]"
      ]
     },
     "execution_count": 29,
     "metadata": {},
     "output_type": "execute_result"
    }
   ],
   "source": [
    "model.evaluate(X_test, y_test)"
   ]
  },
  {
   "cell_type": "markdown",
   "metadata": {},
   "source": [
    "# Keras Tuner"
   ]
  },
  {
   "cell_type": "code",
   "execution_count": 17,
   "metadata": {},
   "outputs": [],
   "source": [
    "import kerastuner as kt\n",
    "from tensorflow import keras\n",
    "from tensorflow.keras.layers import Dense, Dropout\n",
    "import time"
   ]
  },
  {
   "cell_type": "code",
   "execution_count": 10,
   "metadata": {},
   "outputs": [
    {
     "data": {
      "text/plain": [
       "'1.0.1'"
      ]
     },
     "execution_count": 10,
     "metadata": {},
     "output_type": "execute_result"
    }
   ],
   "source": [
    "kerastuner.__version__"
   ]
  },
  {
   "cell_type": "code",
   "execution_count": null,
   "metadata": {},
   "outputs": [],
   "source": [
    "LOG_DIR = f\"./keras_tuner_logs/{int(time.time())}\""
   ]
  },
  {
   "cell_type": "code",
   "execution_count": null,
   "metadata": {},
   "outputs": [],
   "source": [
    "def build_model(hp):\n",
    "    model = keras.Sequential()\n",
    "\n",
    "    # Tune the number of units in the first Dense layer\n",
    "    # Choose an optimal value between 256-512 tep 32\n",
    "    hp_input_units = hp.Int('input_units', min_value = 256, max_value = 512, step = 32)\n",
    "    model.add(Dense(units = hp_input_units, input_shape = (769,), activation = 'relu'))\n",
    "    \n",
    "    for i in range(hp.Int(\"n_layers\", min_value = 1, max_value = 6)):\n",
    "        # Tune the number of units in the each Dense layer\n",
    "        # Choose an optimal value between 8-512 step 8\n",
    "        hp_dense_i_units = hp.Int(f\"dense_{i}_units\", min_value = 8, max_value = 512, step = 8)\n",
    "        model.add(Dense(units = hp_dense_i_units, activation = 'relu'))\n",
    "        \n",
    "        # Tune the number of dropout rate between Dense layers\n",
    "        # Choose an optimal value between 0-0.5 step 0.1\n",
    "        hp_dense_i_dropout_rate = hp.Float(f\"dense_{i}_dropout_rate\", min_value = 0, max_value = 0.5, step = 0.1)\n",
    "        model.add(Dropout(hp_dense_i_dropout_rate))\n",
    "    \n",
    "    model.add(Dense(units = 1, activation = 'sigmoid'))# here the units must be 1 in order for binary classifications to work\n",
    "    \n",
    "    # Tune the number of dropout rate between Dense layers\n",
    "    # Choose an optimal value between 0.0008-0.001 step 0.00002\n",
    "    # 10 numbers\n",
    "    hp_lr_rate = hp.Float(f\"optimizer_lr_rate\", min_value = 0.0008, max_value = 0.001, step = 0.00002)\n",
    "    model.compile(loss = 'binary_crossentropy',\n",
    "             optimizer = keras.optimizers.Adam(lr=hp_lr_rate, beta_1 = 0.9, beta_2=0.999), # you can tune the learning rate here. Default lr = 0.01\n",
    "             metrics=['accuracy'])\n",
    "    \n",
    "    return model"
   ]
  },
  {
   "cell_type": "code",
   "execution_count": null,
   "metadata": {},
   "outputs": [],
   "source": [
    "tuner = kt.RandomSearch(\n",
    "    build_model,\n",
    "    objective = \"val_accuracy\",\n",
    "    max_trails = 1,\n",
    "    executions_per_trail = 1,\n",
    "    directory = LOG_DIR\n",
    ")"
   ]
  },
  {
   "cell_type": "code",
   "execution_count": null,
   "metadata": {},
   "outputs": [],
   "source": [
    "tuner.search(x = X_train,\n",
    "             y = y_train,\n",
    "             epochs = 1,\n",
    "#              batch_size = 64,\n",
    "             validation_data = (X_valid, y_valid))"
   ]
  },
  {
   "cell_type": "code",
   "execution_count": null,
   "metadata": {},
   "outputs": [],
   "source": [
    "tuner.get_best_hyperparameters(num_trials=1)"
   ]
  },
  {
   "cell_type": "code",
   "execution_count": null,
   "metadata": {},
   "outputs": [],
   "source": [
    "tuner.results_summery()"
   ]
  },
  {
   "cell_type": "code",
   "execution_count": null,
   "metadata": {},
   "outputs": [],
   "source": [
    "tuner.get_best_models()[0].summary()"
   ]
  },
  {
   "cell_type": "code",
   "execution_count": null,
   "metadata": {},
   "outputs": [],
   "source": []
  },
  {
   "cell_type": "code",
   "execution_count": null,
   "metadata": {},
   "outputs": [],
   "source": []
  },
  {
   "cell_type": "code",
   "execution_count": null,
   "metadata": {},
   "outputs": [],
   "source": []
  },
  {
   "cell_type": "code",
   "execution_count": null,
   "metadata": {},
   "outputs": [],
   "source": []
  },
  {
   "cell_type": "code",
   "execution_count": null,
   "metadata": {},
   "outputs": [],
   "source": []
  },
  {
   "cell_type": "markdown",
   "metadata": {},
   "source": [
    "# Real-world Test (r/shortscarystories and r/self)"
   ]
  },
  {
   "cell_type": "code",
   "execution_count": 53,
   "metadata": {},
   "outputs": [],
   "source": [
    "from sentence_transformers import SentenceTransformer\n",
    "sbert_model = SentenceTransformer('distilbert-base-nli-stsb-mean-tokens')"
   ]
  },
  {
   "cell_type": "code",
   "execution_count": 3,
   "metadata": {},
   "outputs": [],
   "source": [
    "text_creepy = \"\"\"\n",
    "This is so creepy. I feel so bad.\n",
    "\"\"\"\n",
    "\n",
    "text_non_creepy = \"\"\"\n",
    "Apples can grow from 10 to 30 feet tall and nearly as wide. They are moderately fast-growing, but growth slows with age. Apple trees can live for 100 years or more. \n",
    "Apple trees bloom in the spring, set fruit, and take from 100 to 200 days to reach harvest depending upon the variety.\n",
    "\"\"\""
   ]
  },
  {
   "cell_type": "code",
   "execution_count": 55,
   "metadata": {},
   "outputs": [
    {
     "data": {
      "text/plain": [
       "array([[ 7.17855311, -0.00752399,  0.31660137, ..., -0.43979916,\n",
       "         0.28065592,  0.92305583],\n",
       "       [ 7.03615729,  0.06392828,  0.48229328, ...,  0.24400151,\n",
       "        -0.7688421 , -0.31326136]])"
      ]
     },
     "execution_count": 55,
     "metadata": {},
     "output_type": "execute_result"
    }
   ],
   "source": [
    "creepy_vec = np.concatenate(([np.log(1310+1+0.01)],sbert_model.encode(text_creepy)))\n",
    "non_creepy_vec = np.concatenate(([np.log(1136+1+0.01)],sbert_model.encode(text_non_creepy)))\n",
    "vecs = np.array([creepy_vec, non_creepy_vec])\n",
    "vecs"
   ]
  },
  {
   "cell_type": "code",
   "execution_count": 56,
   "metadata": {},
   "outputs": [],
   "source": [
    "scaler = MinMaxScaler(feature_range=(0, 1))\n",
    "scaled_vecs = scaler.fit_transform(vecs)"
   ]
  },
  {
   "cell_type": "code",
   "execution_count": 57,
   "metadata": {},
   "outputs": [
    {
     "data": {
      "text/plain": [
       "array([[0., 1., 1., ..., 1., 0., 0.],\n",
       "       [1., 0., 0., ..., 0., 1., 1.]])"
      ]
     },
     "execution_count": 57,
     "metadata": {},
     "output_type": "execute_result"
    }
   ],
   "source": [
    "scaled_vecs[::-1]"
   ]
  },
  {
   "cell_type": "code",
   "execution_count": 58,
   "metadata": {},
   "outputs": [
    {
     "data": {
      "text/plain": [
       "array([[1., 0., 0., ..., 0., 1., 1.],\n",
       "       [0., 1., 1., ..., 1., 0., 0.]])"
      ]
     },
     "execution_count": 58,
     "metadata": {},
     "output_type": "execute_result"
    }
   ],
   "source": [
    "import sys\n",
    "np.set_printoptions(threshold=100)\n",
    "scaled_vecs"
   ]
  },
  {
   "cell_type": "code",
   "execution_count": 39,
   "metadata": {},
   "outputs": [
    {
     "data": {
      "text/plain": [
       "array([[8.292496e-04],\n",
       "       [9.999510e-01]], dtype=float32)"
      ]
     },
     "execution_count": 39,
     "metadata": {},
     "output_type": "execute_result"
    }
   ],
   "source": [
    "model.predict(scaled_vecs)"
   ]
  },
  {
   "cell_type": "code",
   "execution_count": 41,
   "metadata": {},
   "outputs": [
    {
     "data": {
      "text/plain": [
       "<tensorflow.python.keras.engine.sequential.Sequential at 0x7fd702cd0c10>"
      ]
     },
     "execution_count": 41,
     "metadata": {},
     "output_type": "execute_result"
    }
   ],
   "source": [
    "model"
   ]
  },
  {
   "cell_type": "markdown",
   "metadata": {},
   "source": [
    "Failed"
   ]
  },
  {
   "cell_type": "code",
   "execution_count": 2,
   "metadata": {},
   "outputs": [],
   "source": [
    "import spacy"
   ]
  },
  {
   "cell_type": "code",
   "execution_count": 4,
   "metadata": {},
   "outputs": [
    {
     "name": "stdout",
     "output_type": "stream",
     "text": [
      "3\n"
     ]
    }
   ],
   "source": [
    "nlp = spacy.load(\"en_core_web_sm\")\n",
    "doc = nlp(text_non_creepy)\n",
    "for idx, sents in enumerate(doc.sents):\n",
    "    pass\n",
    "print(idx)"
   ]
  },
  {
   "cell_type": "code",
   "execution_count": null,
   "metadata": {},
   "outputs": [],
   "source": []
  }
 ],
 "metadata": {
  "kernelspec": {
   "display_name": "creepyvenv",
   "language": "python",
   "name": "creepyvenv"
  },
  "language_info": {
   "codemirror_mode": {
    "name": "ipython",
    "version": 3
   },
   "file_extension": ".py",
   "mimetype": "text/x-python",
   "name": "python",
   "nbconvert_exporter": "python",
   "pygments_lexer": "ipython3",
   "version": "3.8.3"
  }
 },
 "nbformat": 4,
 "nbformat_minor": 4
}
