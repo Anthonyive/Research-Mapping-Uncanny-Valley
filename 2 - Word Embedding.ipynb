{
 "cells": [
  {
   "cell_type": "markdown",
   "metadata": {},
   "source": [
    "# Description and Instructions"
   ]
  },
  {
   "cell_type": "markdown",
   "metadata": {},
   "source": [
    "First, here are the weekly progress slides, where you can attach your own slides you presented this week. This also allows anyone who was not at the meeting to see what we discussed. \n",
    "These slides are also in the common [Google Drive folder](https://docs.google.com/presentation/d/1Rd4fOrHJsaspa9cP1Wb7OtlT-J98kX-KtIS0ymMAP0c/edit?usp=sharing). "
   ]
  },
  {
   "cell_type": "markdown",
   "metadata": {},
   "source": [
    "I have computing resources available if you need them, especially for large datasets. I suggest you first test your code on small datasets, and when you believe your code is ready, just send it to me, and I can run it locally. Do other researchers here have free space on their computer/available CPUs to run some code? If so, I encourage you to contact them."
   ]
  },
  {
   "cell_type": "markdown",
   "metadata": {},
   "source": [
    "As a reminder, the tentative next steps are to find ground truth measurements for what makes a text creepy. I suggest exploring the comments sections and seeing if there are words that are used uncommonly often in creepy text vs non-creepy text (e.g., I suggest using TF-IDF), or if there are words similar to \"creepy\" that appear often in particularly creepy text."
   ]
  },
  {
   "cell_type": "markdown",
   "metadata": {},
   "source": [
    "Finally, some researchers found noon on Monday to be an inconvenient time. Do people prefer another time on Monday? We could move back to 5 p.m., if that works for all of you."
   ]
  },
  {
   "cell_type": "markdown",
   "metadata": {},
   "source": [
    "> @Anthony, you wanted to explore how similar a story is to \"human\", which might even be a good parallel project, as it provides a metric to infer the uncanny valley in text. We could also explore how similar text is to words like \"creepy\", which dovetails well with our goal of a creepy metric for stories. One method I mentioned is word embedding. Thinking it over, I suggest we meet later this week to discuss how this can be achieved. I will be happy to show you how I created word embeddings, and what we can use to embed text rather than words into a vector space. Once these ideas are finalized, I believe we will be able to quickly make progress."
   ]
  },
  {
   "cell_type": "markdown",
   "metadata": {},
   "source": [
    "# Word Embeddings"
   ]
  },
  {
   "cell_type": "markdown",
   "metadata": {},
   "source": [
    "## Import Library and Poreprocessing the Data"
   ]
  },
  {
   "cell_type": "code",
   "execution_count": 53,
   "metadata": {},
   "outputs": [],
   "source": [
    "import fasttext"
   ]
  },
  {
   "cell_type": "code",
   "execution_count": 54,
   "metadata": {},
   "outputs": [],
   "source": [
    "import numpy as np\n",
    "import pandas as pd\n",
    "import spacy\n",
    "nlp = spacy.load('en_core_web_md')"
   ]
  },
  {
   "cell_type": "code",
   "execution_count": 115,
   "metadata": {},
   "outputs": [
    {
     "data": {
      "text/html": [
       "<div>\n",
       "<style scoped>\n",
       "    .dataframe tbody tr th:only-of-type {\n",
       "        vertical-align: middle;\n",
       "    }\n",
       "\n",
       "    .dataframe tbody tr th {\n",
       "        vertical-align: top;\n",
       "    }\n",
       "\n",
       "    .dataframe thead th {\n",
       "        text-align: right;\n",
       "    }\n",
       "</style>\n",
       "<table border=\"1\" class=\"dataframe\">\n",
       "  <thead>\n",
       "    <tr style=\"text-align: right;\">\n",
       "      <th></th>\n",
       "      <th>title</th>\n",
       "      <th>selftext</th>\n",
       "      <th>score</th>\n",
       "    </tr>\n",
       "  </thead>\n",
       "  <tbody>\n",
       "    <tr>\n",
       "      <th>766</th>\n",
       "      <td>I am a detective with the gift of second sight...</td>\n",
       "      <td>Some people have greatness written all over th...</td>\n",
       "      <td>72</td>\n",
       "    </tr>\n",
       "    <tr>\n",
       "      <th>782</th>\n",
       "      <td>I am staying with an exchange family in Japan....</td>\n",
       "      <td>[Part 6](https://www.reddit.com/r/nosleep/comm...</td>\n",
       "      <td>726</td>\n",
       "    </tr>\n",
       "    <tr>\n",
       "      <th>1045</th>\n",
       "      <td>I am staying with an exchange family in Japan....</td>\n",
       "      <td>[Part 5](https://www.reddit.com/r/nosleep/comm...</td>\n",
       "      <td>74</td>\n",
       "    </tr>\n",
       "    <tr>\n",
       "      <th>3125</th>\n",
       "      <td>I'm convinced my son killed his dad</td>\n",
       "      <td>I was fourteen when I had my first child. My d...</td>\n",
       "      <td>75</td>\n",
       "    </tr>\n",
       "    <tr>\n",
       "      <th>3248</th>\n",
       "      <td>I took a job as a Fire lookout in the middle o...</td>\n",
       "      <td>[Part 6](https://www.reddit.com/r/nosleep/comm...</td>\n",
       "      <td>61</td>\n",
       "    </tr>\n",
       "    <tr>\n",
       "      <th>...</th>\n",
       "      <td>...</td>\n",
       "      <td>...</td>\n",
       "      <td>...</td>\n",
       "    </tr>\n",
       "    <tr>\n",
       "      <th>21055</th>\n",
       "      <td>I'm in love with my girlfriend's tattoo.</td>\n",
       "      <td>I was sixteen years old when I first had the d...</td>\n",
       "      <td>280</td>\n",
       "    </tr>\n",
       "    <tr>\n",
       "      <th>21070</th>\n",
       "      <td>Mother's Love</td>\n",
       "      <td>When my mother died, she left me our old child...</td>\n",
       "      <td>53</td>\n",
       "    </tr>\n",
       "    <tr>\n",
       "      <th>21072</th>\n",
       "      <td>On the Pennsylvania Backroads, You Keep Drivin...</td>\n",
       "      <td>The story I’m about to share with you took pla...</td>\n",
       "      <td>406</td>\n",
       "    </tr>\n",
       "    <tr>\n",
       "      <th>21080</th>\n",
       "      <td>My sisters and I went to an all girls Catholic...</td>\n",
       "      <td>I’ve never told anyone this story, not even my...</td>\n",
       "      <td>92</td>\n",
       "    </tr>\n",
       "    <tr>\n",
       "      <th>21087</th>\n",
       "      <td>My Psycho Girlfriend Decapitated Me, The After...</td>\n",
       "      <td>&amp;amp;#x200B;\\n\\nAs in it ain't the fuckin' pla...</td>\n",
       "      <td>321</td>\n",
       "    </tr>\n",
       "  </tbody>\n",
       "</table>\n",
       "<p>147 rows × 3 columns</p>\n",
       "</div>"
      ],
      "text/plain": [
       "                                                   title  \\\n",
       "766    I am a detective with the gift of second sight...   \n",
       "782    I am staying with an exchange family in Japan....   \n",
       "1045   I am staying with an exchange family in Japan....   \n",
       "3125                 I'm convinced my son killed his dad   \n",
       "3248   I took a job as a Fire lookout in the middle o...   \n",
       "...                                                  ...   \n",
       "21055           I'm in love with my girlfriend's tattoo.   \n",
       "21070                                      Mother's Love   \n",
       "21072  On the Pennsylvania Backroads, You Keep Drivin...   \n",
       "21080  My sisters and I went to an all girls Catholic...   \n",
       "21087  My Psycho Girlfriend Decapitated Me, The After...   \n",
       "\n",
       "                                                selftext  score  \n",
       "766    Some people have greatness written all over th...     72  \n",
       "782    [Part 6](https://www.reddit.com/r/nosleep/comm...    726  \n",
       "1045   [Part 5](https://www.reddit.com/r/nosleep/comm...     74  \n",
       "3125   I was fourteen when I had my first child. My d...     75  \n",
       "3248   [Part 6](https://www.reddit.com/r/nosleep/comm...     61  \n",
       "...                                                  ...    ...  \n",
       "21055  I was sixteen years old when I first had the d...    280  \n",
       "21070  When my mother died, she left me our old child...     53  \n",
       "21072  The story I’m about to share with you took pla...    406  \n",
       "21080  I’ve never told anyone this story, not even my...     92  \n",
       "21087  &amp;#x200B;\\n\\nAs in it ain't the fuckin' pla...    321  \n",
       "\n",
       "[147 rows x 3 columns]"
      ]
     },
     "execution_count": 115,
     "metadata": {},
     "output_type": "execute_result"
    }
   ],
   "source": [
    "nosleep2020 = pd.read_csv('./Creepy Data/NoSleep/RS_2020_nosleep.csv')\n",
    "\n",
    "df = nosleep2020[['title', 'selftext', 'score']]\n",
    "df = df[df.selftext != '[removed]']\n",
    "df = df[df.selftext != '[deleted]']\n",
    "df.dropna(subset = [\"selftext\"], inplace=True)\n",
    "df = df.replace(r'^\\s+','', regex=True) \n",
    "df[df.score > 50]"
   ]
  },
  {
   "cell_type": "code",
   "execution_count": 159,
   "metadata": {},
   "outputs": [
    {
     "data": {
      "image/png": "[encoded data removed]",
      "text/plain": [
       "<Figure size 864x288 with 1 Axes>"
      ]
     },
     "metadata": {
      "needs_background": "light"
     },
     "output_type": "display_data"
    }
   ],
   "source": [
    "import matplotlib.pyplot as plt\n",
    "import seaborn as sns\n",
    "scores = df.score.value_counts()\n",
    "\n",
    "plt.figure(figsize=(12,4))\n",
    "sns.barplot(scores.index, scores.values, alpha=0.8)\n",
    "plt.ylabel('Number of Occurrences', fontsize=12)\n",
    "plt.xlabel('Score')\n",
    "plt.xticks(rotation=90)\n",
    "plt.show();"
   ]
  },
  {
   "cell_type": "markdown",
   "metadata": {},
   "source": [
    "# Clean sentences and Lemmatization"
   ]
  },
  {
   "cell_type": "code",
   "execution_count": 57,
   "metadata": {},
   "outputs": [],
   "source": [
    "def cleansents(text):\n",
    "    doc = nlp(text)\n",
    "\n",
    "    sentences = list(doc.sents)\n",
    "\n",
    "    sentences_cleaned = [] # this will be list of lists. Each list contains tokens of a sentence as strings\n",
    "    for idx, sents in enumerate(sentences):\n",
    "        sentences_cleaned.append([])\n",
    "        for token in sents:\n",
    "            if not token.is_punct:\n",
    "                sentences_cleaned[idx].append(token.lemma_)\n",
    "    return sentences_cleaned"
   ]
  },
  {
   "cell_type": "code",
   "execution_count": 257,
   "metadata": {},
   "outputs": [
    {
     "data": {
      "text/plain": [
       "0    [[this, be, the, only, rule, of, -PRON-, house...\n",
       "1    [[this, be, the, only, rule, of, -PRON-, house...\n",
       "3    [[-PRON-, be, hard, for, -PRON-, to, talk, abo...\n",
       "5    [[-PRON-, say, the, devil, be, in, the, detail...\n",
       "6    [[any, sign, of, -PRON-, yet, \\n\\n], [-PRON-, ...\n",
       "Name: selftext, dtype: object"
      ]
     },
     "execution_count": 257,
     "metadata": {},
     "output_type": "execute_result"
    }
   ],
   "source": [
    "# cleansents(df['selftext'].iloc[0])\n",
    "docs_cleaned = df['selftext'].head().apply(cleansents)\n",
    "docs_cleaned"
   ]
  },
  {
   "cell_type": "markdown",
   "metadata": {},
   "source": [
    "## Some examples of Word2Vec"
   ]
  },
  {
   "cell_type": "code",
   "execution_count": 1,
   "metadata": {},
   "outputs": [
    {
     "ename": "NameError",
     "evalue": "name 'cleansents' is not defined",
     "output_type": "error",
     "traceback": [
      "\u001b[0;31m---------------------------------------------------------------------------\u001b[0m",
      "\u001b[0;31mNameError\u001b[0m                                 Traceback (most recent call last)",
      "\u001b[0;32m<ipython-input-1-daba533f6169>\u001b[0m in \u001b[0;36m<module>\u001b[0;34m\u001b[0m\n\u001b[1;32m      1\u001b[0m \u001b[0;32mfrom\u001b[0m \u001b[0mgensim\u001b[0m\u001b[0;34m.\u001b[0m\u001b[0mmodels\u001b[0m \u001b[0;32mimport\u001b[0m \u001b[0mWord2Vec\u001b[0m\u001b[0;34m\u001b[0m\u001b[0;34m\u001b[0m\u001b[0m\n\u001b[0;32m----> 2\u001b[0;31m \u001b[0mmodel\u001b[0m \u001b[0;34m=\u001b[0m \u001b[0mWord2Vec\u001b[0m\u001b[0;34m(\u001b[0m\u001b[0mcleansents\u001b[0m\u001b[0;34m(\u001b[0m\u001b[0mdf\u001b[0m\u001b[0;34m[\u001b[0m\u001b[0;34m'selftext'\u001b[0m\u001b[0;34m]\u001b[0m\u001b[0;34m.\u001b[0m\u001b[0miloc\u001b[0m\u001b[0;34m[\u001b[0m\u001b[0;36m0\u001b[0m\u001b[0;34m]\u001b[0m\u001b[0;34m)\u001b[0m\u001b[0;34m,\u001b[0m \u001b[0mmin_count\u001b[0m \u001b[0;34m=\u001b[0m \u001b[0;36m1\u001b[0m\u001b[0;34m,\u001b[0m \u001b[0msize\u001b[0m \u001b[0;34m=\u001b[0m \u001b[0;36m100\u001b[0m\u001b[0;34m)\u001b[0m\u001b[0;34m\u001b[0m\u001b[0;34m\u001b[0m\u001b[0m\n\u001b[0m\u001b[1;32m      3\u001b[0m \u001b[0mmodel\u001b[0m\u001b[0;34m.\u001b[0m\u001b[0mwv\u001b[0m\u001b[0;34m.\u001b[0m\u001b[0maccuracy\u001b[0m\u001b[0;34m\u001b[0m\u001b[0;34m\u001b[0m\u001b[0m\n\u001b[1;32m      4\u001b[0m \u001b[0;34m\u001b[0m\u001b[0m\n\u001b[1;32m      5\u001b[0m \u001b[0;31m# get the vector of a word\u001b[0m\u001b[0;34m\u001b[0m\u001b[0;34m\u001b[0m\u001b[0;34m\u001b[0m\u001b[0m\n",
      "\u001b[0;31mNameError\u001b[0m: name 'cleansents' is not defined"
     ]
    }
   ],
   "source": [
    "from gensim.models import Word2Vec\n",
    "model = Word2Vec(cleansents(df['selftext'].iloc[0]), min_count = 1, size = 100)\n",
    "model.wv.accuracy\n",
    "\n",
    "# get the vector of a word\n",
    "model.wv['household']\n",
    "\n",
    "model.wv.similarity('this', 'household')\n",
    "\n",
    "# top 10 similar words in vocab\n",
    "model.wv.most_similar_cosmul('household', topn = 10)\n",
    "\n",
    "# given a vector, find the top similarities\n",
    "model.wv.similar_by_vector(np.zeros(100, dtype = float), topn = 10)\n",
    "\n",
    "# given a word, find the top similarities\n",
    "model.wv.similar_by_word(\"household\", topn = 10)\n",
    "\n",
    "# cosine similarity\n",
    "model.wv.similarity(\"while\", \"household\")\n",
    "\n",
    "model.wv.vocab\n",
    "\n",
    "# example\n",
    "model.wv.most_similar(positive=['while', 'household'], negative=['rule'])\n",
    "\n",
    "model.save('word2vec.model')"
   ]
  },
  {
   "cell_type": "code",
   "execution_count": 71,
   "metadata": {},
   "outputs": [
    {
     "data": {
      "text/plain": [
       "[('badger', 0.32902300357818604),\n",
       " ('go', 0.3218536078929901),\n",
       " ('get', 0.29330241680145264),\n",
       " ('rule', 0.25406700372695923),\n",
       " ('an', 0.24876931309700012),\n",
       " ('see', 0.22298695147037506),\n",
       " ('shock', 0.22225886583328247),\n",
       " ('creature', 0.21616804599761963),\n",
       " ('around', 0.21256431937217712),\n",
       " ('household', 0.2055148482322693)]"
      ]
     },
     "execution_count": 71,
     "metadata": {},
     "output_type": "execute_result"
    }
   ],
   "source": [
    "\n",
    "model.wv.most_similar(positive = \"animal\")"
   ]
  },
  {
   "cell_type": "markdown",
   "metadata": {},
   "source": [
    "## Some examples of fasttext"
   ]
  },
  {
   "cell_type": "code",
   "execution_count": 30,
   "metadata": {},
   "outputs": [],
   "source": [
    "np.savetxt('nosleep2020.txt', df[['score','selftext']].values, fmt='%s')"
   ]
  },
  {
   "cell_type": "code",
   "execution_count": 269,
   "metadata": {},
   "outputs": [],
   "source": [
    "# [[' '.join(sents) for sents in doc] for doc in docs_cleaned.to_list()]"
   ]
  },
  {
   "cell_type": "code",
   "execution_count": 346,
   "metadata": {},
   "outputs": [],
   "source": [
    "from gensim.models.fasttext import FastText\n",
    "\n",
    "model = FastText(size=128, window = 12, min_count=1)\n",
    "\n",
    "model.build_vocab(sentences = cleansents(df.selftext.iloc[0]))\n",
    "model.train(sentences=cleansents(df.selftext.iloc[0]), total_examples=len(cleansents(df.selftext.iloc[0])), epochs=20)"
   ]
  },
  {
   "cell_type": "code",
   "execution_count": 350,
   "metadata": {},
   "outputs": [
    {
     "data": {
      "text/plain": [
       "[('5', 0.21093954145908356),\n",
       " ('eye', 0.182565838098526),\n",
       " ('horrify', 0.14730384945869446),\n",
       " ('open', 0.12307310849428177),\n",
       " ('no', 0.12293888628482819),\n",
       " ('cross', 0.10568945109844208),\n",
       " ('pretty', 0.10437776893377304),\n",
       " ('run', 0.10406724363565445),\n",
       " ('set', 0.10227492451667786),\n",
       " ('single', 0.10002846270799637)]"
      ]
     },
     "execution_count": 350,
     "metadata": {},
     "output_type": "execute_result"
    }
   ],
   "source": [
    "model.wv.most_similar(positive = [\"human\", \"man\", \"woman\"], negative = \"adverb\")"
   ]
  },
  {
   "cell_type": "code",
   "execution_count": 314,
   "metadata": {},
   "outputs": [
    {
     "data": {
      "text/plain": [
       "0.0909659"
      ]
     },
     "execution_count": 314,
     "metadata": {},
     "output_type": "execute_result"
    }
   ],
   "source": [
    "model.wv.similarity('human', 'house')"
   ]
  },
  {
   "cell_type": "code",
   "execution_count": 299,
   "metadata": {},
   "outputs": [
    {
     "data": {
      "text/plain": [
       "\"This is the only rule of our household. If you feel a presence standing over you while you sleep, do **NOT** open your eyes. Ignore it and try to fall asleep. This may sound a bit like the show Bird Box from Netflix but this is real, this is serious. You don't want to know what happens if you open your eyes. Let me start from the beginning, from where it all began.\\n\\n------------------------\\n\\nMy family had just moved to a new house in a new city in an eerily quiet neighborhood. We barely ever saw the neighbors and there were almost no animals around. It threw me off a little bit but i quickly got accustomed to it. My school was pretty close to my house so it was not difficult to make friends that I could regularly bring home. So, a few months in the new house, when i was sleeping one night, i felt a figure standing over me. Now, I have always been a bit of a scaredy cat so I slammed my eyes shut and waited. A few moments later, I felt it go away. This happened to me every night and I continuously told my parents about it but they never believed me. They said that i was dreaming and not to think about it too much but i kept on badgering them until they finally installed a camera in every room just as a precaution. The next night when the presence came again, i followed the same routine of keeping my eyes shut until it went away. The next morning i asked my parents to check the cameras. Even though they were skeptical, they checked the camera and what they saw apparently shocked them to the core but me, not so much.\\n\\nThe camera showed that when i go to sleep, or act like it, a shadowy figure came and stood over my bed with its face hidden in such a fashion that it can only be seen if the person in the bed looked straight up. The figure/creature appeared to be wearing some sort of cloak with a 5 point star drawn on it. Now, my family is not very religious but seemed to horrify my parents. The problem was, which we soon figured out, we could not go to the church or temple or any kind of holy place without angering this creature. Every time any of my parents set out to go to any of these places, dangerous incidents seem to happen which, don't happen to kill, but seem to be some kind of warning like the car swerving off the road or a car speeding dangerously close while crossing the road. We soon realized that something supernatural was at play.\\n\\nIt was after my mom almost got run over by a cement mixture truck that we gave up our attempts to contact a holy leader. We made the rule and to this day we have never had a single incident except ONE. But that is a story for some other time...\""
      ]
     },
     "execution_count": 299,
     "metadata": {},
     "output_type": "execute_result"
    }
   ],
   "source": [
    "df.selftext.iloc[0]"
   ]
  },
  {
   "cell_type": "code",
   "execution_count": 279,
   "metadata": {},
   "outputs": [
    {
     "data": {
      "text/plain": [
       "'“Alright, guys, we will take a short break now and begin our hike once everyone is ready. Toilet is down the hall, last door on your right” I said after Lavinia, Toby, and Mimi walked into the family cabin after me. Toby took in his surrounding and nodded in approval while Lavinia rushed to the toilet, she was probably holding in her pee for the past hour. I dropped my hand carry next to the black faux leather couch before sitting down, trying to relax a little after driving for the past 2 hours.\\n\\nToby and Mimi spent some time exploring the cabin, looking at pictures of previous family gatherings in the cabin while remarking how goofy I looked when I was young. I laughed in response to their teasing. Lavinia returned from the toilet shortly after, volunteered to show them around, clearly still remembering her way around the place from her trip here 2 months ago to meet my family. I took the opportunity to double check the contents of my hiking bag, making sure I have everything we need for our 2 hours hike to the top of the hill. \\n\\nToby returned about 10 minutes later, while I was on the couch, dozing off without realizing it. He plopped down right beside me, jolting me awake. “Oops! Sorry, Mel. Didn’t realize you were sleeping!’ Toby said apologetically. \\n\\nI smiled at him and said, “Don’t worry about it. I didn’t realize it myself.” I chuckled and Toby laughed. I zipped my bag and place it back at the side of the couch and turn to Toby.\\n\\n“So…. Can I see it? Please, please, please!” I pleaded him, inching closer to him in an attempt to pressure him into relenting. \\n\\n“Shh!!!!!” Toby placed his finger in front of his mouth while frantically look around the room. He glared at me briefly after making sure that no one was around us while I smiled sheepishly, knowing that he is yielding to my request. He shuffled slightly on the couch to produce a small black box out of his pocket. He passed me the box and I opened it and there it was, a beautiful ring with rose gold and platinum bands, and a diamond etched right in the middle. \\n\\n“Nice!” I said, closing the box and returning it to him before Mimi returns to the living room. “Are you nervous about your proposal later?”\\n\\n“More nervous than I’d expect actually. But I am also very excited.” Toby beamed. I smiled and added, “Of course you are! It is finally happening, man! I am truly happy for you guys!” I patted him on the shoulder before moving back to my side of the couch. I look at his face, noting how genuinely joyful he really seemed, feeling happy for my old friend for finally proposing to his soulmate. \\n\\n“What about you, Mel? How are things with V?” he asked, concern and care in his eyes. I look at him for a moment before turning to face the front, looking at nothing in particular. “She is great, Toby. She is really supportive and patient with me, giving me space when I needed it but doesn’t hesitate to let me know when I am doing something damaging to myself.” I said, and added after a long pause, “I still miss him, Toby…” wiping away a tear running down my cheek.\\n\\n“Of course you do, Mel. Nobody go through what you’ve been through unscathed. Losing someone you love to a freak accident like that… I don’t even know what I would do if I ever lose Mimi.” Toby said, head bowing down, fidgeting with his fingers.\\n\\nI nodded in agreement, memories of Jake and our happy memories together playing in my mind. Our diving trips to Maldives, the inside jokes that we shared, and the future that we envisioned together. Then V came into my mind, her sweet smile and warm personality, her soothing voice whenever she held me on our bed when I cry myself to sleep, thinking about Jake. Somehow, the thought of V made me feel lighter, the weight on my shoulder is still there but they somehow feel more bearable. “But I am feeling much better now.” I turned to him and smile genuinely, “You know, I feel like I am ready to move on now, I think that’s what Jake would’ve wanted as well.” \\n\\n“Yea, I think he wou…” Toby stopped mid-sentence, as laughter drifted out of the upper level of the cabin, seconds later, Lavinia and Mimi were moving towards the staircase, both of them changed into a looser t-shirt and short pants, apparently all set for the hike. They were giggling, sharing some inside joke that only both are aware of at this moment. \\n\\nToby winked at me, before leaving the couch to approach his would-be fiancée who has no idea the surprise that is waiting for her at the top of the hill. I look at Lavinia and when our eyes meet, we share a smile, and it occur to me right at that moment, how much I truly love her. \\n\\n&amp;#x200B;\\n\\nThe hike itself was relaxing, as it is a pretty straightforward track with very little obstacles and slopes. We took our sweet time walking up the well-trodden path, taking in our luscious green surrounding, basking in the sound of birds chirping, and breathing in the fresh air that we could not get in the city. We even hummed a few songs along the way, talking about the good ol’ days of our college lives, and laughing at how Toby had to leave his lights on for a whole week after he watched the “lights out” horror short clip. He is usually embarrassed by this story and hated it whenever we brought it up. However, today, he just laughed along with the rest of us. I guess his excitement for his proposal later wouldn’t be dampen by his embarrassment. \\n\\nAbout halfway through our 2-hour hike, I started hearing a strange noise coming from the woods to our right. It was a sound that I have never heard before in my entire life. I turn my head towards the direction the sound is coming from, trying to discern what it was. It was a low, grumbling bellow, not unlike a deep trumpet sound. However, it was also interweaved with what sounded like low pitched flute sound and metallic scraping sound. It didn’t sound natural and the fact that it was coming from within the forest made me feel uneasy. Somehow, it made me feel… suffocated… like something was pushing against me for that brief moment. I realized this because I instinctively gasped for air after a while. \\n\\nShocked by my sudden gasp for air, I came back to my senses and started looking around me, at my friends and girlfriend. I saw that they were equally puzzled and baffled as I. Lavinia even seemed afraid, her eyes widened, and I could see a couple of sweat started trickling down her forehead. She inched closer to me, wrapping her hands around my left arm. I turned to her and gave her a hug, in an attempt to comfort both her and me. The warmth of her body against mine seemed to calm me down a bit. \\n\\nThe sound eventually stopped, slowly fading away, until eventually, there was nothing but silence. Only then did I noticed that the birds and insects have stopped chirping and the whole forest was dead silence, as if someone has pressed the mute button. Moments later, the chirping sound came on once again and the forest gradually became alive with the sound of its inhabitants. \\n\\nMimi was the first to break the silence, “What the hell was that, guys?”. I shook my head and turn to Lavinia and Toby. Nobody seems to have the slightest clue as to what made that sound. \\n\\n“It wasn’t like anything I have ever heard before.” Lavinia said after a while, “It sounded… ominous.” All of us nodded in agreement.\\n\\n“I don’t like this, baby. Can we please go back to the cabin?” Lavinia’s clutch tightens now, I can sense the fear in her trembling voice. I’d be lying if I said the sound didn’t affect me, it somehow instilled fear in me, I couldn’t shake the feeling that something was off here. I was about to agree with her when I made eye contact with Toby and is suddenly reminded of his plan for proposal. \\n\\nToby looked disappointed and scared but somehow forced himself to try and convince us to keep to our initial plan. “Maybe it was nothing guys, Maybe a tree fell somewhere in the forest, or… or… someone is building a cabin or a hut in the middle of the forest.” He tried his best to think of an excuse to convince us to resume our hike towards the hilltop, but from the sound of his voice, even he has a hard time believing himself.\\n\\nI braved myself and was about to help Toby think of an excuse to proceed with our plan, but Mimi beat me to the punch by saying, “Let’s go back to the cabin, Toby, I am scared as well. I don’t like what we just heard. I don’t know how to say this, but somehow, the sound just now made me feel… hopeless, made me feel like I am trapped, in a vast darkness where I am all alone and there is nowhere to escape…” then she added, “I feel stupid now that I said it out loud, I don’t even know how I conjured up all these feelings from just the sound alone, but that’s exactly how I felt just now. It just felt… wrong.” \\n\\nToby looked as if he wanted to say something, then he turned and look at me while I was racking my brain to figure out how to come to my friend’s aid, hoping to salvage his plan for the evening. Finally, he admits defeat and said, “Fine, let’s go back to the cabin then.”. I feel sorry for him, but I guess he knows the plan is ruined now and there is no point forcing it. To be perfectly honest, even I wanted to leave the place as soon as possible and to go back to somewhere where I would feel safe. To go back to the cabin and hide behind the walls. The thought of putting some solid wood construct between us and the forest made me feel slightly safer. \\n\\n&amp;#x200B;\\n\\nOn our way back, I gradually fall back to walk beside Toby, letting Lavinia and Mimi walk together in front of us. When they are out of earshot, I whispered to Toby, “Sorry that your plan is ruined, man.” Toby nodded as he walked, “It’s alright, the stupid sound already ruined the evening, making everyone feels uneasy and what not, the evening is not special anymore. I will come out with another plan for the proposal.” He turned and winked at me and I smiled at him. He has always been like that, someone who knows how to pick himself up and adapt to the situation. I sometimes wish I am like him, especially after I lost Jake, maybe then I would have gotten back on my feet sooner, rather than making everyone around me feel miserable and suffered with me.  \\n\\nAbout a quarter of an hour later, while Toby and I were quietly whispering and planning for an alternate plan for his proposal, we heard a gasp coming from the girls who were about 20 feet in front of us. We quickly picked up our pace and caught up with the girls. \\n\\nI could feel my jaw drop the moment I caught up to them and looked ahead. All four of us just stood there in utter bewilderment, none of us made a sound. \\n\\nWhat appeared before us felt like it was lifted straight out of a surreal painting. The trees were twisted in some weird and impossible angle, some going in spiral, while others… seem to grow in and out of itself. Worse still are many others that I couldn’t even describe. There was even one tree that always seemed to be within my eyesight for a time, no matter where I look, it is always right there, smack dab in the middle of my vision, like it was actually an organism that could move around, trying to seek my attention. I tried rubbing my eyes, but it was still there when I was done. It only went away after a while, finally settling down on a spot towards the back of a bunch of… pyramid-shaped… trees? \\n\\nThe colors were also not the colors that you would come to expect from a tree, some were a mixture of yellow and red, some were your typical brown but with a hint of rainbow swirl in patches all over it, there were even some that just look like diamond trees, sparkling and glinting as it reflected the sunlight that shined upon it. \\n\\n“What the fuck…” I heard myself said. \\n\\nThe whole scene made me dizzy, both because the angle and dimension seem to be wrong, so illogical. The depth perception did not make sense at certain places. Plants that are right in front of us seems to be so far away while trees that are seemingly 12 feet tall has a missing top the moment you try to look up at the treetop, but would resume to normal again the moment you look down. The whole thing seemed like a fever dream, but I couldn’t tear my gaze away from the surreal sight before me. It was unbelievable, it was otherworldly, it was… mesmerizing. \\n\\nAfter a while, my mind couldn’t take it anymore and I vomited due to the nauseating sight. The others didn’t fare any better than I as Lavinia had to sit down on the path to steady herself, probably because she was feeling dizzy from the impossible angles. Toby was also bending over and hurling his lunch over at a patch of weird translucent grass while Mimi just closed her eyes, trying to steady herself by closing her eyes and reached out to both sides with her hands, in an attempt to steady herself. \\n\\nWhen we finally settled down and composed ourselves, Mimi asked “We are on the right path right?”, turning to each of us. I nodded to her, tracing the hiking path with my eyes, from where we came from to the weird sight before us and along the path leading deeper into the fever forest. Somehow, the path is still discernible from the orgy of colors and weird shapes, although the path was also somewhat altered, now looking like… like it was floating a couple feet off the actual ground, and somehow it seemed to be intangible, like it was made of immaterial object. “There is only one clear path through this place, so yes, we are indeed on the right track….” I muttered, “Taking the long way and going through the forest might be dangerous, none of us are very experienced hikers, and we could easily get lost in there. Besides, we don’t know what else we might find in the woods itself.” I gestured towards our surrounding, suggesting that things might get even weirder in the forest. \\n\\n“I think we have no choice but to press forward.” I said reluctantly after a while. The rest of the group just nodded in silence. \\n\\nLavinia and I clutch our hands tightly and walk closely together, and I could see Toby and Mimi doing the same behind us. We were careful not to touch anything around us. As we took our first step on the seemingly immaterial path, it felt as though we were stepping on clouds, or at least that’s what I imagined stepping on a cloud would feel like. It felt unreal, like I was stepping on something that couldn’t support my weight, but when I thought my leg was going to go right through the path itself, it held my weight as well as a concrete path would. It takes some getting used to, walking on this soft, cloud-like path, and all of us were stumbling like a toddler learning to walk, but eventually, we got a better hang of it, still stumbling through but also being able to better balance ourselves.\\n\\nAs we walk, I couldn’t help but stare in amazement at some of the weird and wonderful flora in our vicinity. It was fascinating that these plants actually exist, right here before us. Are they some undiscovered species or are they some weird mutation of existing species? How did they appear all of a sudden when they weren’t even here just under half an hour again? Did we unwittingly inhaled some psychedelic drugs? The more I think about it, the more my brain hurts, struggling to figure out how something so impossible could have happened to us, right here at this moment. Part of me wanted to slap myself silly just to make sure I am actually awake, and this is all real. However, the warmth of Lavinia’s hand in my grip and the vividness of our surrounding are all too real to be anything but reality. There is no way any human mind could conjure up such fantastic images, dream or not. Everyone walk in silence and I am pretty sure they are just as amazed by what is unfolding before us as I am. At some point during our bizarre journey, I heard Lavinia muttered “It’s so beautiful”, her eyes showing a childlike wonderment at the wondrous scenery before us. Despite the situation that we found ourselves in, the lack of immediate danger has somehow calmed us, and we can’t help but gradually began to appreciate the view of a lifetime before us. \\n\\nAs we are following a bend along the extraordinary path, something screeched ahead and flew at us at breakneck speed. It shot upward at a right-angle right before it collides with Mimi. It was eventually obscured by the trees as it flew ever upward. I think I saw a paper-thin flying dreamcatcher-esque thing in hot pursuit of a rather normal looking bird. To be honest, I wouldn’t be surprised if that is indeed what I saw, I guess anything is possible in this forest. Mimi, taken aback by the sudden appearance of the two creatures, lost her balance on the path and fell on the forest floor.\\n\\n“Shit!” Mimi cursed, trying to get up from the floor. Toby quickly turned around to extend his hand to help Mimi to climb up the path again. Realizing he doesn’t have a solid footing to pull her up and fearing he might lose his balance as well, attempted to step down from the path to help her up. \\n\\nRight then, the bellowing sound that we heard earlier returned, sounding closer than before. This time, I could catch some details that I missed earlier, details that gave me goosebumps. Underneath the metallic scrapping sound, the low-pitched flute, and deep bellowing, there seem to be an eerie plopping sound that occurs at irregular interval and faint puffing sounds that is repeated in regular interval. Strange as it seems, the regularity of the puffing sound reminds me of breathing. \\n\\nAll of us stopped whatever we were doing and just look all around us, trying to determine the source of the sound. Shortly after, Toby snapped back to his senses and once again tried to help his would-be fiancée. \\n\\nThings escalated quickly right then. Everything around us instantly changed. The bright, vibrant-colored forest around us instantly warped into metallic silver and black-colored plants. They took on a biomechanical quality now, covered by leathery textures with strange pipes and tubes fused to the trees themselves. Some pipes and tubes have steam coming out from them. They now pulsate with a sickening brown hue, giving out an eerie glow that also serves as a light source around us. The illumination of silver and black leather by a brown hue is not exactly a decent and appetizing sight, it made my stomach feel queasy. \\n\\nI stifled a gasp, taken aback by the sudden change in our surrounding, not knowing how to react to such transformation in our environment. Mimi was stunned by this sudden transformation and she frantically tried to get up from the ground. Before Toby could get off the path however, Lavinia tackled him and held him down. He was surprised by her sudden attack and stared at Lavinia. She wouldn’t budge but instead, gestured him to look around the forest floor, the forest floor was already filled with black goo that was not there mere seconds ago, now looking like a black tar pit that bubbles all around us. The black goo was gushing out from the ground itself, quickly covering the path and forming a shallow pool of mud everywhere.\\n\\nMimi started screaming and crying in pain as she struggled to get up from the ground, but the black goo seems to refuse to let her go, sucking her and holding her in place. She tried her hardest to scramble to her feet but to no avail, and soon Mimi was sliced to hundreds of pieces within seconds, with no visible assailant in sight. Smaller pieces of her submerged into the goo while bigger pieces of her was being chewed and swallowed by mouths that suddenly appeared in the mud. \\n\\nWe were horrified by the sudden turn of event before us, the sudden loss of a dear friend within seconds and the instantaneous escalation of a life-threatening situation. Toby started howling, trying to get back on his feet but Lavinia, being the well-trained gym trainer, has the upper hand and was still subduing him, while I, acting on instinct, rushed over to help Lavinia, making sure that he doesn’t jump into the black goo in a foolish attempt to save his now completely vanished girlfriend. \\n\\nToby was crying and yelling, “NOOOOOOOOOOOO! LET ME GOOOOOOOOO!!! I NEED TO HELP HERRRRRRR!!!!”, tears streaming down his cheeks. Lavinia was hugging him tightly now, hoping to at least calm him down a little. All the while, I am still trying to make sense of the whole situation while I pinned his legs to the ground. I couldn’t stop thinking just what the hell is happening to us, where are we, and how are we going to get out of here. \\n\\nToby slowly stopped struggling, coming to his senses and realizing that his girlfriend is now gone. Sensing Toby’s gradual tranquility, Lavinia and I slowly let go of him and help him to his feet. The three of us were sobbing, heart pumping, and clueless about what can we do to escape from this hellish nightmare. Everything around us is the leathery black and silver biomechanical trees, the previous amazement that we had for the place gone without a trace, replaced with nothing but apprehension, confusion, and the thought of survival. \\n\\n“We need to get out of here!” cried Lavinia while she stood up and started leading the way. Toby and I follow suit and I look down at the black goo along the forest floor as we walk. It seemed so calm now, no sign of any potential danger or deadly things lurking there. Whatever it was, it was either vanished or lying in wait, ready to ambush whatever that enters their territory. \\n\\nWe tread carefully along the path that was fortunately still there. It has turned into a more tangible and solid path, albeit one also with leathery texture. The only source of light now comes from the strange pulsating glow that comes from the otherworldly trees that lined both sides of the path. They were strong enough to illuminate the path, for us to be sure where we are stepping. We started running along the path, too fearful to stay at the same place for long, afraid that some unknown things would attack us again. \\n\\nI turned to look up at the sky while I was running, but was met with nothing but darkness, darkness so dark it seems as though all the lights were sucked into it, never to be able to escape. Darkness so oppressive that it felt like it was pressing down on us, about to suffocate and crush us into pulps. I feel as though the sky was gone, the entire sky, along with the clouds and sun, were sucked and consumed by this infinite blackness. I could feel my heart racing, feeling so terrified, feeling as though something was in the darkness on top of our head, ready to descent upon us at a moment’s notice. I forced myself to tear my gaze away from the sunless sky, to focus on the path ahead. To focus on survival.\\n\\nAs we progress further along the path, the forests on both sides began to inch closer to us, it was imperceptible at first, but it started becoming more obvious as they close in on us at a faster pace. “Hurry guys! The walls are closing in!!!!” Toby shouted from behind me, survival instinct and adrenaline kicking in, momentarily forgetting the death of Mimi and focusing on escaping this hell hole. And he is right, the leathery trees have somehow merged into solid walls, walls that stretched on and on for the entire length of our path, walls that seem determined to crush and squash us, as they pick up the speed of closing in. My lungs are burning at this point, my legs are arching, I have never run this fast for this long in my entire life. \\n\\nThen I heard a sickening plop behind us, a plop so loud it reverberates through the entire length of the leather corridor, a plop that sounded like a wet steak being thrown on a slab, ready to be cut. Then a loud puff, like the breathing sound that I faintly heard earlier. And then I smelled it, as the air travel down the corridor, the smell of rot, of dead rats and road kills, but somehow, there was a hint of sweetness in it, the sweetness reminds me of honey. The plopping sounds keep repeating behind us, at a longer interval initially, but became more frequent, as though something is picking up speed and chasing us. None of us dared to look behind, for fear of losing our footing on the ground, and afraid to discover what new monstrosity is now pursuing us. \\n\\nWe kept running for our lives and shortly after, we began to see light ahead of us, light the color of evening sky, light that symbolizes hope in this nightmare dreamscape. Somehow, despite our absolute fatigue, we kept going. All three of us are pushing our limit now, our speed noticeably slower than before, we gasped for air, relying only on adrenaline and the desire to live to fuel ourselves. The walls are just within arm’s reach from us now, threatening to swallow us soon if we couldn’t make it out in time, I could see the walls squirming next to us, expanding and retracting, as though it was breathing. The leathery texture looks sickeningly alive, making a wet squishing sound as it squirms. All the while, the sickening “plop” keeps getting closer behind us, threatening to catch up to us soon.\\n\\nWhen we finally reached the end of the tunnel, the walls are only a couple of feet away from being sealed off, Lavinia and I managed to squeeze past the enclosing wall and got our feet firmly planted on a world that we know so well, surrounded by forest that are illuminated by the beautiful dusk sunlight. Toby could only squeeze himself halfway through before the walls fully enclose upon his waistline, Lavinia and I both rushed back to help pull him out of the black and silver mass, hoping against all hope that we will be able to save our friend in time. My hands firmly pushing against the leathery wall that somehow suspended in mid-air, it felt moist and warm to my touch, the walls pulsing, as though there is a heart beating underneath the mass. All the while, we are pulling Toby out while he struggles to push himself out of the wall’s tight grasp.\\n\\nFinally, we managed to get him out and all three of us landed squarely on the forest floor. I breathed a sigh of relief, and quickly got back to my feet, and helped Lavinia and Toby get on theirs, hoping to leave this nightmare behind as soon as possible. I quickly turn around to get one last look at the unbelievable sight before we hightail it back to our cabin. \\n\\nAnd right there in front of us, the biochemical portal twisted and retracted away, revealing the tunnel that it was hiding just seconds ago. All of us gasp, chill running through my body, I couldn’t believe what appears before my eyes. \\n\\nThis is the creature that makes the plopping and puffing sound, the one that was stalking us through the otherworldly tunnel. It was a horrific sight. There are no distinct features that I could recognize, nothing that gives me a sense of familiarity, to let me know what we are dealing with here. Some of its features don’t even make sense to me. It was a huge blob of flesh and leather that seem to have fused together. Here and there I could see flesh throbbing while the leathery textured part of it glistened under the waning evening sunlight. I could find no facial features on it, no eyes, nose, mouths, or ears that humans are familiar with. The whole mass is constantly squirming, expanding, and contracting, not unlike the walls around it. I could see several leathery pipes extending from behind it, with smoke coming out from them, smoke so thick that black goo drip from them. Several appendages extend from its body, they follow no symmetrical order but seem to grow haphazardly around its body. One of them ends with a claw, a couple of them seem to end in a jumbled mess, half-formed even, while the others ended with drill-like feature.\\n\\nSeveral blister-like features around its body popped and fizzled as we stood staring at it, making a “plop” sound. Every time a blister popped; another would appear elsewhere on the thing’s body. The “plop” sound that I thought was its movement along the path, in hot pursuit of us. But right now, I have a feeling that it was just toying with us in there rather than chasing us, I don’t think it follows our rule of movement, our laws of physics. It was nowhere near us when we escaped from the tunnel but the moment we left the passage, it is right there, behind us. It might be able to go anywhere it wants at a moment’s notice in that tunnel but it chose to taunt us instead, to inspire fear in us. \\n\\nSuddenly, I became aware of the sound of Toby vomiting beside me, I turned to look at him briefly before turning back to face that…. thing. When I saw it, I too struggled to hold down my vomit. There, at the bottom right of the creature’s body, I could clearly see Mimi’s head, somehow fused with its body. Her head turned around and smiled at us, not an eerie smile, but a peaceful and inviting smile, as if she is genuinely happy at that moment, to be part of the horrible abomination. \\n\\nThe creature’s clawed limb then began to claw at itself, engaging in self-mutilation. Liquid that I assumed was blood started oozing out of its wound. The sound of it clawing at itself and blood streaming down its wound was sickening. It then tears off a small chunk of its body and threw it at us. We instinctively duck out of the way but realize that nothing came through to our world. I righted myself and look at it again, this time I swear I could see some movement at the middle of its body. I couldn’t tell with my eyes, but I could feel it in my mind, the creature… it was smirking at us! It was as though it is letting us know that it cannot cross over to our world and that we are lucky that it lets us live for another day. That we were at its mercy. I got chills and started shivering. \\n\\nAnd then it began to raise another appendage, one of the ones that ends in a jumble of mess. It pointed at each of us in succession. Even though there was no mouth that I could see, I can hear it calling our name, hear it with my ears, as though it is standing right next to me. “Tobias… Melanie… Lavinia…” in a clear voice that sounded neither male nor female. Its voice was disturbingly human, strangely warm and soothing. \\n\\nA thousand thoughts ran through my mind at the mention of my name, different ways I imagined I would die at the hands of this creature. How I would be trapped in the tunnel with it, how it would use one of its many appendages to violate me, to rip me apart, to torture me, to consume me. How I would be oppressed and crushed in the tunnel by the darkness and the void. How I would be absorbed by the wall. How I would get sucked in and devoured by the black goo. Ways that I never imagined a human could die flashed in my mind. They keep flashing and flashing, each one more gruesome and grotesque than the one before. I have never been so afraid in my entire life and I never knew it is possible to be this afraid. I felt despair, my legs buckled under me, I collapse on the ground, right shoulder hitting the ground as I lay there crying, tears streaming down my cheek. From the corner of my eyes, I saw Lavinia is also on the ground, involuntarily jerking, foam forming in the corner of her mouth, tears streaming down her cheek. Toby just stood there in silence, not a peep came out of his mouth. \\n\\n&amp;#x200B;\\n\\nThe low bellowing returned once more, the creature and portal vanished without a trace, leaving the three of us in the woods all by ourselves. \\n\\n“Look, I know you wouldn’t believe us, but it is true! It happened!!! IT TOOK OUR FRIEND FOR GOD SAKE!!!!” I started yelling at Rick, the park ranger. The hopelessness in me disappeared for a moment, as I tried to warn Rick of the horror that we experienced up in the woods. \\n\\n“Okay, okay, please calm down, Mel.” Rick tried to calm me, seeing that I am about to lose control. Lavinia was waiting in the car, refusing to leave the small, confined safe space of the vehicle. She hasn’t stopped mumbling ever since the whole ordeal. Toby is in the office toilet, probably vomiting again. It must have been like the fifth time he is doing that since we barely escaped with our lives. I am surprised there is still anything left in him to hurl. \\n\\n“Mel, you have to know how crazy your story sounds! I mean, come on, a surreal forest along the hiking trail that transformed into some horrid nightmare?” Rick explained. I kept quiet, knowing full well how crazy our experience sounded, I wouldn’t believe myself either. But it is true, our friend is gone, and no one can tell me what we witness was just our minds playing tricks on us. No human mind could conceive of such otherworldly things. Even trying to recall some of the details of the weird plants and things we saw earlier makes me head hurt, and I already left out so many details that I just couldn’t explain or put into words. I did not mention our encounter with the abomination during my account of the story. \\n\\n“Regardless, I am not… we are not lying, Rick.” I was massaging my forehead, explaining the situation to Rick. I felt like I could faint and so I closed my eyes. \\n\\n“I don’t think you are lying Mel, I have known you for what, 5? 6 years now? I know that you are a good kid. But nevertheless, I need to ask, you know, just as formality. Did any of you guys took anything today? Any kind of drugs, prescription or otherwise.” He asked, jotting something down on his notepad. \\n\\nI saw this question coming from miles away, in fact, I asked myself repeatedly on the way down here to the ranger station. I look him in the eye and said “No, we didn’t. We are not really into recreational drugs. We were just planning to hike and have a simple barbeque, a nice get together. My friend in the toilet, Toby, was going to propose to his girlfriend tonight, you know. To the girl who is now dead. Whose body can never be found now. You can search us or the car if you want.” I looked him squarely in the eye to show that I am not lying, tears once again streaming down my eyes at the mention of Mimi. \\n\\n“I am really sorry to hear that.” He looks right back at me, concern and sympathy in his eyes, “There’s no need for that, just a formality you know. Just to put in the report that I did check with you guys. Also, is there any one amongst you that have any history of mental illness? He marked a cross down on his notepad. \\n\\n“Nope. Although I suspect we will need some help after all these craziness…” I said, Rick just kept quiet. I leaned forward, “Was there ever any case of missing person in the forest before?” I asked, wiping the tears away from my eyes \\n\\nRick shook his head, “The forest is really not that big and the trail is pretty easy and straightforward. There are hikers reported missing once in a while, thrill seekers getting off the path to go for a bit of exploring, but never anything like this.” He paused, then put away his notepad in one of his drawers, “We will file a missing person report for your friend and organize a search part for her. I will contact you if we find anything, okay?”\\n\\n&amp;#x200B;\\n\\n“I don’t know if I want you guys up there, but it might give us a clue about what the fuck actually happened.” I got up and started walking towards the door. With my hands on the doorknob, I turned around, looked at Rick and said, “Be careful out there, Rick.”, and I went back to the car, to my girlfriend, and wait for Toby to join us.\\n\\nIt has been 2 days since we got back to our home, Lavinia hasn’t been the same, she stares off into space a lot. We have been crying ourselves to sleep at night, hugging each other to feel each other’s warmth, to remind ourselves that we are still very much alive, in this reality that we know of. We haven’t heard from Toby after I dropped him off at his place. I was worried about him but also thought of giving him some space before calling him to find out how he is doing. \\n\\nLavinia and I haven’t talked about the incidence, I wanted to bring it up during our dinner last night, but I just didn’t know what to say or how to start. How do you bring up a topic like this? Something so surreal and horrid that you doubt your sanity and the reality of it. Did it really happen? How could something so absurd has ever happened to us? We felt as though we were in a horror movie, not even a good one at that, one of those cheesy horror movies filled with clichés, about a bunch of people stumbling upon some unknown interdimensional thing during their trip. The absurdity of it all makes me burst of laughing sometimes. \\n\\nWe haven’t been to work for the past couple of days. Everything just seemed so insignificant after all that we have witnessed. There are things out there that we never knew existed. Impossible things that defy our laws of physics, things that made me feel so small, so worthless and insignificant. I often find myself sitting in a corner, hugging myself, while Lavinia sat on the couch staring off into space and mumbling. I try not to think about the creature in the tunnel but every so often, it would appear in my mind, a stark reminder of the horror that we have been through. I tried my best to distract myself with other thoughts, to watch some tv, to read, to play my favorite video games. Sometimes they help, but more often than not, they don’t. Worse still are my nightmares at night, where its hideous form vividly presented before me, its voice, clear as day, calling my name. I wonder how we are ever going back to a normal life again. \\n\\nThis morning, the third day since our return, around 11am, Toby dropped by. Mimi’s parents have been calling him like crazy for the past few days. He never picked up their calls, not knowing how to explain to them the death of their one and only daughter. He eventually destroyed his phone with a hammer to avoid the feeling of guilt. \\n\\nHe brought with him today’s newspaper. When I told him I hadn’t read it yet, he shoved it in my hands, and asked me to flip to the third page. I complied, and Lavinia, hearing our exchange, walked over and sat next to me on the couch. There it was, occupying the top half of the page, a title that says, “Mysterious disappearance of search party during search and rescue mission”. \\n\\nRick’s name was listed along with his 9 other colleagues as members of the missing search party. I look at up Toby but he gestured for me to continue reading. I turned my head down towards the news piece again and felt goosebumps all over my skin when I read the last paragraph. It simply states:\\n\\n*Authorities also discovered an unknown patch of land filled with undiscovered species of flora and fauna located near the hiking trail, where a girl was reportedly missing. Representative stated that the land seemingly appeared overnight as it has never been seen by anyone since the opening of the hiking trail more than 50 years ago. The area has now been sealed off for further investigation and no further comment regarding the nature of the land was issued by the relevant parties.* \\n\\nToby was no longer in his seat when I look at again. Later, I found him sitting on our bathroom floor with his back against our cabinet, razor blade in his left hand, and multiple cuts on his right forearm, with a huge pool of blood on the floor. He was still conscious when I found him and we locked eyes for a brief moment. I then left the bathroom, closing the door behind me. \\n\\nLavinia returned to her usual state of staring off into space and mumbling while I was heading upstairs. I returned couple of minutes later, with my 9mm in my hand. I walked to Lavinia and gave her a kiss on the forehead, then positioned myself in front of her, noticing once again just how beautiful she really is. Her auburn shoulder length hair that perfectly framed her slightly chubby and rosy cheeks, her long eyelashes, and her supple lips. Her big brown eyes that were once so beautiful and full of spirit now seem dull and hollow. \\n\\nI raised my handgun at her and took aim at her forehead, making sure that she will not suffer. She gradually turned and look at me lovingly with her eyes. “I love you, Mel”, she said before closing her eyes. \\n\\nTears streaming down my eyes as I smiled at her.\\n\\n“I love you, Lavinia.”\\n\\nI pull the trigger.'"
      ]
     },
     "execution_count": 279,
     "metadata": {},
     "output_type": "execute_result"
    }
   ],
   "source": [
    "max(df.selftext, key = len)"
   ]
  },
  {
   "cell_type": "code",
   "execution_count": 270,
   "metadata": {},
   "outputs": [
    {
     "data": {
      "text/plain": [
       "[('even', 0.9141172766685486),\n",
       " ('difficult', 0.7864644527435303),\n",
       " ('school', 0.7781825065612793),\n",
       " ('sleep', 0.6567755937576294),\n",
       " ('room', 0.6378039717674255),\n",
       " ('such', 0.6023737192153931),\n",
       " ('about', 0.5972634553909302),\n",
       " ('month', 0.5876403450965881),\n",
       " ('same', 0.5868575572967529),\n",
       " ('much', 0.5778570771217346)]"
      ]
     },
     "execution_count": 270,
     "metadata": {},
     "output_type": "execute_result"
    }
   ],
   "source": [
    "model.wv.most_similar(\"creepy\")"
   ]
  },
  {
   "cell_type": "code",
   "execution_count": 266,
   "metadata": {},
   "outputs": [
    {
     "data": {
      "text/plain": [
       "array([ 0.00173925,  0.02513937,  0.00793332,  0.01284806, -0.0147222 ,\n",
       "       -0.01050904,  0.00935848,  0.02294658], dtype=float32)"
      ]
     },
     "execution_count": 266,
     "metadata": {},
     "output_type": "execute_result"
    }
   ],
   "source": [
    "model.wv['household']"
   ]
  },
  {
   "cell_type": "code",
   "execution_count": 267,
   "metadata": {},
   "outputs": [
    {
     "data": {
      "text/plain": [
       "array([ 0.00063227,  0.03101333,  0.02075868,  0.03140384,  0.00802631,\n",
       "       -0.01354257,  0.00466461,  0.03090959], dtype=float32)"
      ]
     },
     "execution_count": 267,
     "metadata": {},
     "output_type": "execute_result"
    }
   ],
   "source": [
    "model.wv['house']"
   ]
  },
  {
   "cell_type": "code",
   "execution_count": 268,
   "metadata": {},
   "outputs": [
    {
     "data": {
      "text/plain": [
       "[['human', 'interface', 'computer'],\n",
       " ['survey', 'user', 'computer', 'system', 'response', 'time'],\n",
       " ['eps', 'user', 'interface', 'system'],\n",
       " ['system', 'human', 'system', 'eps'],\n",
       " ['user', 'response', 'time'],\n",
       " ['trees'],\n",
       " ['graph', 'trees'],\n",
       " ['graph', 'minors', 'trees'],\n",
       " ['graph', 'minors', 'survey']]"
      ]
     },
     "execution_count": 268,
     "metadata": {},
     "output_type": "execute_result"
    }
   ],
   "source": [
    "from gensim.test.utils import common_texts\n",
    "common_texts"
   ]
  },
  {
   "cell_type": "markdown",
   "metadata": {},
   "source": [
    "# Retry fasttext"
   ]
  },
  {
   "cell_type": "code",
   "execution_count": 353,
   "metadata": {},
   "outputs": [],
   "source": [
    "import fasttext\n",
    "\n",
    "model = fasttext.train_supervised(input=\"nosleep2020.train\")"
   ]
  },
  {
   "cell_type": "code",
   "execution_count": 354,
   "metadata": {},
   "outputs": [
    {
     "data": {
      "text/plain": [
       "array([ 1.35314744e-02,  8.65187123e-03,  2.40284321e-03, -1.36253340e-02,\n",
       "        1.68970581e-02,  1.92914363e-02, -1.71355251e-02, -6.89798268e-03,\n",
       "        1.48539199e-02,  2.21174862e-02, -6.98215468e-03, -2.54741102e-03,\n",
       "       -1.32349264e-02,  8.75478052e-03, -8.07327498e-03,  4.72321687e-03,\n",
       "       -3.48434388e-03, -6.50956528e-03,  3.10050818e-04,  3.38251528e-04,\n",
       "        2.81524193e-03,  2.17929091e-02,  1.08932080e-02, -3.22492281e-03,\n",
       "       -1.89098436e-02,  3.92926438e-03,  1.28023168e-02, -1.02781132e-02,\n",
       "       -3.20901908e-03,  6.77986257e-03,  2.49713566e-03, -4.11914708e-03,\n",
       "       -2.40851864e-02, -1.93119366e-02, -1.85228232e-02, -3.59350699e-03,\n",
       "       -9.96103510e-03, -4.80608462e-04,  1.96208199e-03, -2.84460164e-03,\n",
       "        3.06287617e-03,  1.81163810e-02, -8.03209725e-04,  2.23033354e-02,\n",
       "        2.50377450e-02, -1.24218063e-02,  1.84561089e-02, -1.33921038e-02,\n",
       "       -9.97486059e-03,  1.87694207e-02, -2.26605535e-02,  9.50213522e-03,\n",
       "       -1.31522855e-02,  3.70150642e-03, -1.80163532e-02, -7.41983391e-03,\n",
       "       -1.15704341e-02,  1.24296802e-03,  1.18247112e-02, -7.01229292e-05,\n",
       "        1.22212269e-03,  2.20673662e-02,  2.45623104e-02,  9.67766438e-03,\n",
       "       -1.23024508e-02, -3.37494700e-03, -9.24591627e-03, -4.84902225e-03,\n",
       "        1.66182674e-03, -4.84248484e-03, -9.02895443e-03,  1.11321565e-02,\n",
       "        9.83479805e-03, -1.11492286e-02, -9.45916120e-03,  8.04247800e-03,\n",
       "        1.03815868e-02,  1.07231094e-02,  2.86517246e-03, -9.78009868e-03,\n",
       "        8.93709902e-03, -5.73806139e-03,  8.60552210e-03, -1.35804489e-02,\n",
       "        4.25210642e-03, -4.99695307e-03, -7.31557980e-03,  1.78338382e-02,\n",
       "       -1.43292230e-02,  3.98465963e-05,  7.95659516e-03, -5.00091445e-03,\n",
       "        2.14571860e-02, -8.45874287e-03,  3.75197758e-03, -1.19244605e-02,\n",
       "       -1.67274754e-03,  1.93144486e-03, -1.89309381e-02, -2.50067585e-03],\n",
       "      dtype=float32)"
      ]
     },
     "execution_count": 354,
     "metadata": {},
     "output_type": "execute_result"
    }
   ],
   "source": [
    "model['human']"
   ]
  },
  {
   "cell_type": "code",
   "execution_count": 75,
   "metadata": {},
   "outputs": [],
   "source": [
    "model.save_model(\"model_nosleep2020.bin\")"
   ]
  },
  {
   "cell_type": "code",
   "execution_count": 104,
   "metadata": {},
   "outputs": [
    {
     "data": {
      "text/plain": [
       "(('__label__1',), array([0.89555889]))"
      ]
     },
     "execution_count": 104,
     "metadata": {},
     "output_type": "execute_result"
    }
   ],
   "source": [
    "text = '''\n",
    "Whoever is reading this... I urge you to stop now. Please. Before it's too late. I was allowed to put in a warning. One warning. This is all I get. The only chance I have to stop others from suffering a horrible fate. So if you value your life... You'll stop reading.\n",
    "Seven days... Seven wishes. I didn't believe the stories that my friends told me about the house in the woods. I thought it was all just some silly joke. You see, our town has a legend about an old witch who would grant you seven wishes in seven days... But whatever you wished for had a price. You had to go inside the house and say, \"Seven wishes in seven days. I agree to the price I shall pay.\" and the witch would appear and give you a ribbon. You'd make your first wish, and a black stripe would appear on the ribbon. This would go on for the next seven days, and on the seventh day the witch would demand her price.\n",
    "One night, my friends and I all went walking through the woods and came across the old house. They pushed me inside and locked the door, telling me to \"summon the witch\" and then they'd let me out. I hated to admit it, but I was terrified of that dark creepy house and just wanted to get out of there, so I spoke the words. \"Seven wishes...\" my voice caught in my throat. \"I-In seven days... I agree to the price I shall pay.\"\n",
    "At first... nothing happened. I was about to turn around and walk out of the house, but then she appeared. The ghost of the witch. She was surprisingly beautiful, and her smile was warm and inviting. Her whole body glowed, and she held her hand out to me, a white ribbon in her palm. I hesitantly raised my hand and took the ribbon, expecting for her to disappear, but she just kept floating there, tilting her head as if she were waiting for something. Waiting... \"Oh,\" I muttered. \"Right. My first wish... I wish I was the most beautiful girl in the world.\"\n",
    "I'd never been the prettiest flower in the garden. My hair was super frizzy, my eyesight is absolutely terrible, and I was also kind of on the plump side. I dressed like somebody's grandma, more to hide the features I found undesirable than because I wanted to. I just wanted to be beautiful. The witch nodded and disappeared, leaving me alone with my ribbon that now had one black stripe. The door to the house flew open, and I walked out shrugging off my friend's badgering questions with, \"It's just a legend.\"\n",
    "But my ribbon was shoved in my pocket.\n",
    "The next day I got up, and was shocked when I looked in the mirror and saw I was now flawless. My skin was clear, my hair was perfect and straight, I didn't need my glasses, and my body was like a model's. My wish had been granted. I put on some of my clothes I only ever wore when I was somewhere with my family since I knew they wouldn't judge me.\n",
    "My friends were shocked by my sudden transformation, but once again I brushed off their questions and said I'd just lost a lot of weight and had been hiding it for awhile. I walked past Spencer and waved, and his eyes latched on to me. He smiled, and I felt incredibly giddy.\n",
    "Spencer was my crush, and had been for a really long time. He was the perfect guy. Captain of the football team, smartest guy in school, not to mention super handsome. He also didn't even know I was alive. Sure, I'd tried to get his attention in the past, but it never worked. I'm a really nerdy girl, always have been, but even with the witch's makeover wasn't enough to get him to want to be with me forever like I wanted. It would've taken a miracle to do that.\n",
    "A miracle... or a wish.\n",
    "I woke up for school as usual the next day, but when I got there... I was really surprised when Spencer approached me holding a big bouquet of flowers and smiling. \"Hi, Anna,\" he said. \"I know this might seem super sudden, but last night I just started thinking about you. I couldn't get you out of my head. Do you think you might want to go out with me?\"\n",
    "I couldn't believe what I was hearing. Spencer... Perfect, handsome, intelligent Spencer, was asking me on a date. I smiled and nodded, \"Are you kidding me? Yes!\"\n",
    "That day I felt like I was on cloud nine, and all day Spencer and I were practically inseparable until I had to go to the bathroom. I was washing my hands when Amber and her friends all came out of the other stalls at the same time. I winced. Amber had been bullying me since we were little, and now she was the most popular girl in school, meaning she basically owned the place.\n",
    "She had also been Spencer's girlfriend.\n",
    "\"So...\" she began, tapping a perfectly manicured nail against one of the sinks, \"You think you can just steal my boyfriend and get away with it?\"\n",
    "The next thing I knew I'd gotten beaten up and had my face shoved in the toilet. As I stumbled out of the bathroom stall, I saw the witch in the mirror. My hand flew to my pocket, and I pulled out the ribbon with two stripes on it, \"I wish I was the queen bee of the school.\"\n",
    "Sure enough, my wish was granted. I became popular, and all of my friends joined my royal court. That was three stripes. I still had four more. As the days passed, I made wishes every time I could. I wished to have remarkable intelligence. Four. I wished that my dream school would accept my college education. Five. I wished that when I graduated college I could get my dream job. Six. Finally, I wished that after all that I could live my dream life. Seven.\n",
    "On the seventh night, after I'd made that wish, the witch appeared in my room. She smiled, \"Seven wishes in seven days. Now it is time for my price to be paid.\"\n",
    "I nodded, \"Okay. What price do you want?\"\n",
    "She chuckled and replied, \"For seven wishes that have so drastically changed you and your life, I require seven lives in return.\"\n",
    "My eyes widened, \"Wha-What? You want the lives of seven people? But how do I even--?\"\n",
    "\"Tell them the story of your seven wishes. Of my legend. They shall be the seven whose lives I take,\" she responded, her smile unfading.\n",
    "I shook my head, \"N-No way! I can't do that! I don't want to see anyone die!\"\n",
    "The witch shrugged, \"If you don't wish to pay my price, I will turn back time, and your wishes shall be undone. You will be the only one who remembers. Shall I take away my gifts--?\"\n",
    "\"NO!\" I exclaimed, reaching out to grab her hand which had risen to turn back time. \"There... There must be another way. Something else I can give you.\"\n",
    "The witch shook her head, \"The price is final, no bargain may be struck. However, you may choose how you tell this story, and you may give one warning not to listen.\"\n",
    "And that brings us to now. The only way I can even be slightly absolved of my guilt from having to give the witch seven lives for my seven wishes. You've read the story I begged you not to read. You didn't heed my warnings. And unless more than seven have already seen it...\n",
    "That means she's coming for you.\n",
    "'''\n",
    "model.predict(text.replace(u\"\\n\", \" \"))\n"
   ]
  },
  {
   "cell_type": "code",
   "execution_count": 351,
   "metadata": {},
   "outputs": [
    {
     "data": {
      "text/plain": [
       "167"
      ]
     },
     "execution_count": 351,
     "metadata": {},
     "output_type": "execute_result"
    }
   ],
   "source": [
    "len(df.score.unique())"
   ]
  },
  {
   "cell_type": "code",
   "execution_count": 355,
   "metadata": {},
   "outputs": [
    {
     "data": {
      "text/plain": [
       "(3199, 0.1917474210690841, 0.9587371053454204)"
      ]
     },
     "execution_count": 355,
     "metadata": {},
     "output_type": "execute_result"
    }
   ],
   "source": [
    "model.test(\"nosleep2020.valid\", k = 5)"
   ]
  },
  {
   "cell_type": "code",
   "execution_count": 356,
   "metadata": {},
   "outputs": [
    {
     "data": {
      "text/plain": [
       "[(0.5640825629234314, 'whistling'),\n",
       " (0.5383956432342529, 'cast'),\n",
       " (0.5276153087615967, '11.'),\n",
       " (0.5245822668075562, 'situation'),\n",
       " (0.5215111970901489, 'slept'),\n",
       " (0.5163429379463196, 'Vincenzo'),\n",
       " (0.5157709121704102,\n",
       "  '1](https://www.reddit.com/r/nosleep/comments/gc2tf7/when_i_was_15_i_ran_away_and_something_chased_me/)'),\n",
       " (0.5128104090690613, 'With'),\n",
       " (0.5107607841491699, 'called'),\n",
       " (0.5096826553344727, 'head')]"
      ]
     },
     "execution_count": 356,
     "metadata": {},
     "output_type": "execute_result"
    }
   ],
   "source": [
    "model.get_analogies(\"human\", \"man\", \"woman\")"
   ]
  },
  {
   "cell_type": "code",
   "execution_count": 132,
   "metadata": {},
   "outputs": [],
   "source": [
    "from pprint import pprint as print\n",
    "from gensim.models.fasttext import FastText\n",
    "from gensim.test.utils import datapath\n",
    "from gensim.models import KeyedVectors"
   ]
  },
  {
   "cell_type": "code",
   "execution_count": null,
   "metadata": {},
   "outputs": [],
   "source": []
  },
  {
   "cell_type": "code",
   "execution_count": null,
   "metadata": {},
   "outputs": [],
   "source": []
  },
  {
   "cell_type": "code",
   "execution_count": null,
   "metadata": {},
   "outputs": [],
   "source": []
  }
 ],
 "metadata": {
  "kernelspec": {
   "display_name": "creepyvenv",
   "language": "python",
   "name": "creepyvenv"
  },
  "language_info": {
   "codemirror_mode": {
    "name": "ipython",
    "version": 3
   },
   "file_extension": ".py",
   "mimetype": "text/x-python",
   "name": "python",
   "nbconvert_exporter": "python",
   "pygments_lexer": "ipython3",
   "version": "3.8.3"
  }
 },
 "nbformat": 4,
 "nbformat_minor": 4
}
