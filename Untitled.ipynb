{
 "cells": [
  {
   "cell_type": "code",
   "execution_count": 1,
   "metadata": {},
   "outputs": [],
   "source": [
    "import pandas as pd\n",
    "import numpy as np"
   ]
  },
  {
   "cell_type": "code",
   "execution_count": 2,
   "metadata": {},
   "outputs": [],
   "source": [
    "creepy = pd.read_pickle('./pickles/new/creepy_with_log.pickle')\n",
    "noncreepy = pd.read_pickle('./pickles/new/non-creepy_with_log.pickle')"
   ]
  },
  {
   "cell_type": "code",
   "execution_count": 3,
   "metadata": {},
   "outputs": [],
   "source": [
    "creepy_sum_vec_with_log_prepended = creepy.loc[:,'sum_vec_with_log_prepended'].copy()\n",
    "noncreepy_sum_vec_with_log_prepended = noncreepy.loc[:,'sum_vec_with_log_prepended'].copy()"
   ]
  },
  {
   "cell_type": "code",
   "execution_count": 4,
   "metadata": {},
   "outputs": [],
   "source": [
    "creepy_features = pd.DataFrame(creepy_sum_vec_with_log_prepended.to_list()).to_numpy(dtype = float)\n",
    "creepy_labels = np.ones(len(creepy_features))"
   ]
  },
  {
   "cell_type": "code",
   "execution_count": 5,
   "metadata": {},
   "outputs": [],
   "source": [
    "noncreepy_features = pd.DataFrame(noncreepy_sum_vec_with_log_prepended.to_list()).to_numpy(dtype = float)\n",
    "noncreepy_labels = np.zeros(len(noncreepy_features))"
   ]
  },
  {
   "cell_type": "code",
   "execution_count": 6,
   "metadata": {},
   "outputs": [
    {
     "name": "stdout",
     "output_type": "stream",
     "text": [
      "[[  0.69813472   2.94098592  -5.6173358  ...  -4.59305143   0.358845\n",
      "   -9.06916523]\n",
      " [  0.69813472   2.94098592  -5.6173358  ...  -4.59305143   0.358845\n",
      "   -9.06916523]\n",
      " [  0.69813472 -19.20127296 -13.71549892 ...  18.18037987 -16.4872303\n",
      "   -6.75176859]\n",
      " ...\n",
      " [  0.69813472  -0.78924334   0.29064384 ...   1.36802995  -3.79267383\n",
      "   -1.91743255]\n",
      " [  0.69813472   2.08661604  -1.43281949 ...  -1.90943027   3.40888762\n",
      "    0.54635704]\n",
      " [  0.69813472  -1.46298337  -2.17777109 ...   1.96948338  -0.8519302\n",
      "   -2.56011105]] [1. 1. 1. ... 0. 0. 0.]\n"
     ]
    }
   ],
   "source": [
    "features = np.concatenate((creepy_features, noncreepy_features))\n",
    "labels = np.concatenate((creepy_labels, noncreepy_labels))\n",
    "print(features, labels)"
   ]
  },
  {
   "cell_type": "code",
   "execution_count": 7,
   "metadata": {},
   "outputs": [
    {
     "name": "stdout",
     "output_type": "stream",
     "text": [
      "(37846, 769) (37846,)\n"
     ]
    }
   ],
   "source": [
    "print(features.shape, labels.shape)"
   ]
  },
  {
   "cell_type": "code",
   "execution_count": 8,
   "metadata": {},
   "outputs": [
    {
     "name": "stdout",
     "output_type": "stream",
     "text": [
      "[[  0.69813472  -3.53852844  -0.31579074 ...   1.31440938  -0.80066258\n",
      "    0.54209977]\n",
      " [  0.69813472 -12.14674187 -13.22692966 ...  -0.46130756  -7.85133839\n",
      "  -10.30980968]\n",
      " [  0.69813472   0.33147132   0.28914267 ...   0.54954106   0.75470912\n",
      "   -0.45916367]\n",
      " ...\n",
      " [  0.69813472   0.62860852   0.03657692 ...  -0.37546822   0.59443361\n",
      "   -0.38360611]\n",
      " [  0.69813472  -2.30263209  -2.3751421  ...   1.35152864  -6.59425688\n",
      "   -4.73477459]\n",
      " [  0.69813472  -3.41545081  -0.63333941 ...   6.25186634   0.89150512\n",
      "  -11.39844608]] [0. 1. 0. ... 0. 0. 1.]\n"
     ]
    }
   ],
   "source": [
    "from sklearn.utils import shuffle\n",
    "\n",
    "features, labels = shuffle(features, labels)\n",
    "print(features, labels)"
   ]
  },
  {
   "cell_type": "code",
   "execution_count": 9,
   "metadata": {},
   "outputs": [
    {
     "name": "stdout",
     "output_type": "stream",
     "text": [
      "[[0.         0.92542142 0.60031629 ... 0.84398414 0.47134932 0.42118248]\n",
      " [0.         0.92267626 0.59213567 ... 0.84271034 0.4652932  0.41737213]\n",
      " [0.         0.92665556 0.60069958 ... 0.84343547 0.4726853  0.42083092]\n",
      " ...\n",
      " [0.         0.92675031 0.60053955 ... 0.84277192 0.47254763 0.42085745]\n",
      " [0.         0.92581554 0.59901147 ... 0.84401077 0.46637296 0.41932965]\n",
      " [0.         0.92546067 0.60011509 ... 0.84752599 0.4728028  0.41698989]] [0. 1. 0. ... 0. 0. 1.]\n"
     ]
    }
   ],
   "source": [
    "from sklearn.preprocessing import MinMaxScaler\n",
    "scaler = MinMaxScaler(feature_range=(0, 1))\n",
    "scaled_features = scaler.fit_transform(features)\n",
    "print(scaled_features, labels)"
   ]
  },
  {
   "cell_type": "markdown",
   "metadata": {},
   "source": [
    "- [x] 70% train, 15% val, 15% test\n",
    " - Train: 26500\n",
    " - Valid: 5677\n",
    " - Test: 5669\n",
    "- [ ] 80% train, 10% val, 10% test\n",
    "- [ ] 60% train, 20% val, 20% test"
   ]
  },
  {
   "cell_type": "code",
   "execution_count": 10,
   "metadata": {},
   "outputs": [],
   "source": [
    "X_train, X_valid, X_test = scaled_features[:26500], scaled_features[26500:26500+5677], scaled_features[26500+5677:]\n",
    "y_train, y_valid, y_test = labels[:26500], labels[26500:26500+5677], labels[26500+5677:]"
   ]
  },
  {
   "cell_type": "code",
   "execution_count": 11,
   "metadata": {},
   "outputs": [],
   "source": [
    "import tensorflow as tf\n",
    "from tensorflow import keras"
   ]
  },
  {
   "cell_type": "markdown",
   "metadata": {},
   "source": [
    "## KerasRegressor method to fine-tuning neural network hyperparameters"
   ]
  },
  {
   "cell_type": "code",
   "execution_count": 81,
   "metadata": {},
   "outputs": [],
   "source": [
    "def build_model(n_hidden=5, n_neurons=30, learning_rate=1e-5, input_shape=(769,)):\n",
    "    model = keras.Sequential()\n",
    "    model.add(keras.layers.InputLayer(input_shape=input_shape))\n",
    "    for layer in range(n_hidden):\n",
    "        model.add(keras.layers.Dense(n_neurons, activation = 'relu'))\n",
    "    model.add(keras.layers.Dense(1, activation='sigmoid')) # here the units must be 1 in order for binary classifications to work\n",
    "    model.compile(loss = 'binary_crossentropy',\n",
    "             optimizer = keras.optimizers.SGD(lr=learning_rate), # you can tune the learning rate here. Default lr = 0.01\n",
    "             metrics=['accuracy'])\n",
    "    return model"
   ]
  },
  {
   "cell_type": "code",
   "execution_count": 82,
   "metadata": {},
   "outputs": [],
   "source": [
    "keras_reg = keras.wrappers.scikit_learn.KerasRegressor(build_model)"
   ]
  },
  {
   "cell_type": "code",
   "execution_count": 72,
   "metadata": {
    "scrolled": true
   },
   "outputs": [
    {
     "name": "stdout",
     "output_type": "stream",
     "text": [
      "Epoch 1/100\n",
      "829/829 [==============================] - 7s 9ms/step - loss: 0.6931 - accuracy: 0.5942 - val_loss: 0.6930 - val_accuracy: 0.5940\n",
      "Epoch 2/100\n",
      "829/829 [==============================] - 7s 8ms/step - loss: 0.6929 - accuracy: 0.5942 - val_loss: 0.6928 - val_accuracy: 0.5940\n",
      "Epoch 3/100\n",
      "829/829 [==============================] - 7s 8ms/step - loss: 0.6928 - accuracy: 0.5942 - val_loss: 0.6927 - val_accuracy: 0.5940\n",
      "Epoch 4/100\n",
      "829/829 [==============================] - 7s 8ms/step - loss: 0.6926 - accuracy: 0.5942 - val_loss: 0.6926 - val_accuracy: 0.5940\n",
      "Epoch 5/100\n",
      "829/829 [==============================] - 7s 8ms/step - loss: 0.6925 - accuracy: 0.5942 - val_loss: 0.6924 - val_accuracy: 0.5940\n",
      "Epoch 6/100\n",
      "829/829 [==============================] - 7s 8ms/step - loss: 0.6924 - accuracy: 0.5942 - val_loss: 0.6923 - val_accuracy: 0.5940\n",
      "Epoch 7/100\n",
      "829/829 [==============================] - 7s 8ms/step - loss: 0.6922 - accuracy: 0.5942 - val_loss: 0.6922 - val_accuracy: 0.5940\n",
      "Epoch 8/100\n",
      "829/829 [==============================] - 7s 8ms/step - loss: 0.6921 - accuracy: 0.5942 - val_loss: 0.6920 - val_accuracy: 0.5940\n",
      "Epoch 9/100\n",
      "829/829 [==============================] - 7s 8ms/step - loss: 0.6919 - accuracy: 0.5942 - val_loss: 0.6919 - val_accuracy: 0.5940\n",
      "Epoch 10/100\n",
      "829/829 [==============================] - 7s 8ms/step - loss: 0.6918 - accuracy: 0.5942 - val_loss: 0.6918 - val_accuracy: 0.5940\n",
      "Epoch 11/100\n",
      "829/829 [==============================] - 7s 8ms/step - loss: 0.6917 - accuracy: 0.5942 - val_loss: 0.6916 - val_accuracy: 0.5940\n",
      "Epoch 12/100\n",
      "829/829 [==============================] - 7s 8ms/step - loss: 0.6916 - accuracy: 0.5942 - val_loss: 0.6915 - val_accuracy: 0.5940\n",
      "Epoch 13/100\n",
      "829/829 [==============================] - 7s 8ms/step - loss: 0.6914 - accuracy: 0.5942 - val_loss: 0.6914 - val_accuracy: 0.5940\n",
      "Epoch 14/100\n",
      "829/829 [==============================] - 7s 8ms/step - loss: 0.6913 - accuracy: 0.5942 - val_loss: 0.6912 - val_accuracy: 0.5940\n",
      "Epoch 15/100\n",
      "829/829 [==============================] - 7s 8ms/step - loss: 0.6912 - accuracy: 0.5942 - val_loss: 0.6911 - val_accuracy: 0.5940\n",
      "Epoch 16/100\n",
      "829/829 [==============================] - 7s 8ms/step - loss: 0.6910 - accuracy: 0.5942 - val_loss: 0.6910 - val_accuracy: 0.5940\n",
      "Epoch 17/100\n",
      "829/829 [==============================] - 7s 8ms/step - loss: 0.6909 - accuracy: 0.5942 - val_loss: 0.6909 - val_accuracy: 0.5940\n",
      "Epoch 18/100\n",
      "829/829 [==============================] - 7s 8ms/step - loss: 0.6908 - accuracy: 0.5942 - val_loss: 0.6907 - val_accuracy: 0.5940\n",
      "Epoch 19/100\n",
      "829/829 [==============================] - 7s 8ms/step - loss: 0.6907 - accuracy: 0.5942 - val_loss: 0.6906 - val_accuracy: 0.5940\n",
      "Epoch 20/100\n",
      "829/829 [==============================] - 7s 8ms/step - loss: 0.6905 - accuracy: 0.5942 - val_loss: 0.6905 - val_accuracy: 0.5940\n",
      "Epoch 21/100\n",
      "829/829 [==============================] - 7s 8ms/step - loss: 0.6904 - accuracy: 0.5942 - val_loss: 0.6904 - val_accuracy: 0.5940\n",
      "Epoch 22/100\n",
      "829/829 [==============================] - 7s 8ms/step - loss: 0.6903 - accuracy: 0.5942 - val_loss: 0.6902 - val_accuracy: 0.5940\n",
      "Epoch 23/100\n",
      "829/829 [==============================] - 7s 8ms/step - loss: 0.6902 - accuracy: 0.5942 - val_loss: 0.6901 - val_accuracy: 0.5940\n",
      "Epoch 24/100\n",
      "829/829 [==============================] - 7s 9ms/step - loss: 0.6901 - accuracy: 0.5942 - val_loss: 0.6900 - val_accuracy: 0.5940\n",
      "Epoch 25/100\n",
      "829/829 [==============================] - 7s 9ms/step - loss: 0.6899 - accuracy: 0.5942 - val_loss: 0.6899 - val_accuracy: 0.5940\n",
      "Epoch 26/100\n",
      "633/829 [=====================>........] - ETA: 1s - loss: 0.6899 - accuracy: 0.5921"
     ]
    },
    {
     "ename": "KeyboardInterrupt",
     "evalue": "",
     "output_type": "error",
     "traceback": [
      "\u001b[0;31m---------------------------------------------------------------------------\u001b[0m",
      "\u001b[0;31mKeyboardInterrupt\u001b[0m                         Traceback (most recent call last)",
      "\u001b[0;32m<ipython-input-72-6b09d5ba10f3>\u001b[0m in \u001b[0;36m<module>\u001b[0;34m\u001b[0m\n\u001b[0;32m----> 1\u001b[0;31m keras_reg.fit(X_train, y_train, epochs = 100, \n\u001b[0m\u001b[1;32m      2\u001b[0m              \u001b[0mvalidation_data\u001b[0m\u001b[0;34m=\u001b[0m\u001b[0;34m(\u001b[0m\u001b[0mX_valid\u001b[0m\u001b[0;34m,\u001b[0m\u001b[0my_valid\u001b[0m\u001b[0;34m)\u001b[0m\u001b[0;34m,\u001b[0m\u001b[0;34m\u001b[0m\u001b[0;34m\u001b[0m\u001b[0m\n\u001b[1;32m      3\u001b[0m              callbacks=[keras.callbacks.EarlyStopping(patience=0)])\n",
      "\u001b[0;32m~/Documents/GitHub/Research-Mapping-Uncanny-Valley/.venv/creepyvenv/lib/python3.8/site-packages/tensorflow/python/keras/wrappers/scikit_learn.py\u001b[0m in \u001b[0;36mfit\u001b[0;34m(self, x, y, **kwargs)\u001b[0m\n\u001b[1;32m    164\u001b[0m     \u001b[0mfit_args\u001b[0m\u001b[0;34m.\u001b[0m\u001b[0mupdate\u001b[0m\u001b[0;34m(\u001b[0m\u001b[0mkwargs\u001b[0m\u001b[0;34m)\u001b[0m\u001b[0;34m\u001b[0m\u001b[0;34m\u001b[0m\u001b[0m\n\u001b[1;32m    165\u001b[0m \u001b[0;34m\u001b[0m\u001b[0m\n\u001b[0;32m--> 166\u001b[0;31m     \u001b[0mhistory\u001b[0m \u001b[0;34m=\u001b[0m \u001b[0mself\u001b[0m\u001b[0;34m.\u001b[0m\u001b[0mmodel\u001b[0m\u001b[0;34m.\u001b[0m\u001b[0mfit\u001b[0m\u001b[0;34m(\u001b[0m\u001b[0mx\u001b[0m\u001b[0;34m,\u001b[0m \u001b[0my\u001b[0m\u001b[0;34m,\u001b[0m \u001b[0;34m**\u001b[0m\u001b[0mfit_args\u001b[0m\u001b[0;34m)\u001b[0m\u001b[0;34m\u001b[0m\u001b[0;34m\u001b[0m\u001b[0m\n\u001b[0m\u001b[1;32m    167\u001b[0m \u001b[0;34m\u001b[0m\u001b[0m\n\u001b[1;32m    168\u001b[0m     \u001b[0;32mreturn\u001b[0m \u001b[0mhistory\u001b[0m\u001b[0;34m\u001b[0m\u001b[0;34m\u001b[0m\u001b[0m\n",
      "\u001b[0;32m~/Documents/GitHub/Research-Mapping-Uncanny-Valley/.venv/creepyvenv/lib/python3.8/site-packages/tensorflow/python/keras/engine/training.py\u001b[0m in \u001b[0;36m_method_wrapper\u001b[0;34m(self, *args, **kwargs)\u001b[0m\n\u001b[1;32m    106\u001b[0m   \u001b[0;32mdef\u001b[0m \u001b[0m_method_wrapper\u001b[0m\u001b[0;34m(\u001b[0m\u001b[0mself\u001b[0m\u001b[0;34m,\u001b[0m \u001b[0;34m*\u001b[0m\u001b[0margs\u001b[0m\u001b[0;34m,\u001b[0m \u001b[0;34m**\u001b[0m\u001b[0mkwargs\u001b[0m\u001b[0;34m)\u001b[0m\u001b[0;34m:\u001b[0m\u001b[0;34m\u001b[0m\u001b[0;34m\u001b[0m\u001b[0m\n\u001b[1;32m    107\u001b[0m     \u001b[0;32mif\u001b[0m \u001b[0;32mnot\u001b[0m \u001b[0mself\u001b[0m\u001b[0;34m.\u001b[0m\u001b[0m_in_multi_worker_mode\u001b[0m\u001b[0;34m(\u001b[0m\u001b[0;34m)\u001b[0m\u001b[0;34m:\u001b[0m  \u001b[0;31m# pylint: disable=protected-access\u001b[0m\u001b[0;34m\u001b[0m\u001b[0;34m\u001b[0m\u001b[0m\n\u001b[0;32m--> 108\u001b[0;31m       \u001b[0;32mreturn\u001b[0m \u001b[0mmethod\u001b[0m\u001b[0;34m(\u001b[0m\u001b[0mself\u001b[0m\u001b[0;34m,\u001b[0m \u001b[0;34m*\u001b[0m\u001b[0margs\u001b[0m\u001b[0;34m,\u001b[0m \u001b[0;34m**\u001b[0m\u001b[0mkwargs\u001b[0m\u001b[0;34m)\u001b[0m\u001b[0;34m\u001b[0m\u001b[0;34m\u001b[0m\u001b[0m\n\u001b[0m\u001b[1;32m    109\u001b[0m \u001b[0;34m\u001b[0m\u001b[0m\n\u001b[1;32m    110\u001b[0m     \u001b[0;31m# Running inside `run_distribute_coordinator` already.\u001b[0m\u001b[0;34m\u001b[0m\u001b[0;34m\u001b[0m\u001b[0;34m\u001b[0m\u001b[0m\n",
      "\u001b[0;32m~/Documents/GitHub/Research-Mapping-Uncanny-Valley/.venv/creepyvenv/lib/python3.8/site-packages/tensorflow/python/keras/engine/training.py\u001b[0m in \u001b[0;36mfit\u001b[0;34m(self, x, y, batch_size, epochs, verbose, callbacks, validation_split, validation_data, shuffle, class_weight, sample_weight, initial_epoch, steps_per_epoch, validation_steps, validation_batch_size, validation_freq, max_queue_size, workers, use_multiprocessing)\u001b[0m\n\u001b[1;32m   1096\u001b[0m                 batch_size=batch_size):\n\u001b[1;32m   1097\u001b[0m               \u001b[0mcallbacks\u001b[0m\u001b[0;34m.\u001b[0m\u001b[0mon_train_batch_begin\u001b[0m\u001b[0;34m(\u001b[0m\u001b[0mstep\u001b[0m\u001b[0;34m)\u001b[0m\u001b[0;34m\u001b[0m\u001b[0;34m\u001b[0m\u001b[0m\n\u001b[0;32m-> 1098\u001b[0;31m               \u001b[0mtmp_logs\u001b[0m \u001b[0;34m=\u001b[0m \u001b[0mtrain_function\u001b[0m\u001b[0;34m(\u001b[0m\u001b[0miterator\u001b[0m\u001b[0;34m)\u001b[0m\u001b[0;34m\u001b[0m\u001b[0;34m\u001b[0m\u001b[0m\n\u001b[0m\u001b[1;32m   1099\u001b[0m               \u001b[0;32mif\u001b[0m \u001b[0mdata_handler\u001b[0m\u001b[0;34m.\u001b[0m\u001b[0mshould_sync\u001b[0m\u001b[0;34m:\u001b[0m\u001b[0;34m\u001b[0m\u001b[0;34m\u001b[0m\u001b[0m\n\u001b[1;32m   1100\u001b[0m                 \u001b[0mcontext\u001b[0m\u001b[0;34m.\u001b[0m\u001b[0masync_wait\u001b[0m\u001b[0;34m(\u001b[0m\u001b[0;34m)\u001b[0m\u001b[0;34m\u001b[0m\u001b[0;34m\u001b[0m\u001b[0m\n",
      "\u001b[0;32m~/Documents/GitHub/Research-Mapping-Uncanny-Valley/.venv/creepyvenv/lib/python3.8/site-packages/tensorflow/python/eager/def_function.py\u001b[0m in \u001b[0;36m__call__\u001b[0;34m(self, *args, **kwds)\u001b[0m\n\u001b[1;32m    778\u001b[0m       \u001b[0;32melse\u001b[0m\u001b[0;34m:\u001b[0m\u001b[0;34m\u001b[0m\u001b[0;34m\u001b[0m\u001b[0m\n\u001b[1;32m    779\u001b[0m         \u001b[0mcompiler\u001b[0m \u001b[0;34m=\u001b[0m \u001b[0;34m\"nonXla\"\u001b[0m\u001b[0;34m\u001b[0m\u001b[0;34m\u001b[0m\u001b[0m\n\u001b[0;32m--> 780\u001b[0;31m         \u001b[0mresult\u001b[0m \u001b[0;34m=\u001b[0m \u001b[0mself\u001b[0m\u001b[0;34m.\u001b[0m\u001b[0m_call\u001b[0m\u001b[0;34m(\u001b[0m\u001b[0;34m*\u001b[0m\u001b[0margs\u001b[0m\u001b[0;34m,\u001b[0m \u001b[0;34m**\u001b[0m\u001b[0mkwds\u001b[0m\u001b[0;34m)\u001b[0m\u001b[0;34m\u001b[0m\u001b[0;34m\u001b[0m\u001b[0m\n\u001b[0m\u001b[1;32m    781\u001b[0m \u001b[0;34m\u001b[0m\u001b[0m\n\u001b[1;32m    782\u001b[0m       \u001b[0mnew_tracing_count\u001b[0m \u001b[0;34m=\u001b[0m \u001b[0mself\u001b[0m\u001b[0;34m.\u001b[0m\u001b[0m_get_tracing_count\u001b[0m\u001b[0;34m(\u001b[0m\u001b[0;34m)\u001b[0m\u001b[0;34m\u001b[0m\u001b[0;34m\u001b[0m\u001b[0m\n",
      "\u001b[0;32m~/Documents/GitHub/Research-Mapping-Uncanny-Valley/.venv/creepyvenv/lib/python3.8/site-packages/tensorflow/python/eager/def_function.py\u001b[0m in \u001b[0;36m_call\u001b[0;34m(self, *args, **kwds)\u001b[0m\n\u001b[1;32m    805\u001b[0m       \u001b[0;31m# In this case we have created variables on the first call, so we run the\u001b[0m\u001b[0;34m\u001b[0m\u001b[0;34m\u001b[0m\u001b[0;34m\u001b[0m\u001b[0m\n\u001b[1;32m    806\u001b[0m       \u001b[0;31m# defunned version which is guaranteed to never create variables.\u001b[0m\u001b[0;34m\u001b[0m\u001b[0;34m\u001b[0m\u001b[0;34m\u001b[0m\u001b[0m\n\u001b[0;32m--> 807\u001b[0;31m       \u001b[0;32mreturn\u001b[0m \u001b[0mself\u001b[0m\u001b[0;34m.\u001b[0m\u001b[0m_stateless_fn\u001b[0m\u001b[0;34m(\u001b[0m\u001b[0;34m*\u001b[0m\u001b[0margs\u001b[0m\u001b[0;34m,\u001b[0m \u001b[0;34m**\u001b[0m\u001b[0mkwds\u001b[0m\u001b[0;34m)\u001b[0m  \u001b[0;31m# pylint: disable=not-callable\u001b[0m\u001b[0;34m\u001b[0m\u001b[0;34m\u001b[0m\u001b[0m\n\u001b[0m\u001b[1;32m    808\u001b[0m     \u001b[0;32melif\u001b[0m \u001b[0mself\u001b[0m\u001b[0;34m.\u001b[0m\u001b[0m_stateful_fn\u001b[0m \u001b[0;32mis\u001b[0m \u001b[0;32mnot\u001b[0m \u001b[0;32mNone\u001b[0m\u001b[0;34m:\u001b[0m\u001b[0;34m\u001b[0m\u001b[0;34m\u001b[0m\u001b[0m\n\u001b[1;32m    809\u001b[0m       \u001b[0;31m# Release the lock early so that multiple threads can perform the call\u001b[0m\u001b[0;34m\u001b[0m\u001b[0;34m\u001b[0m\u001b[0;34m\u001b[0m\u001b[0m\n",
      "\u001b[0;32m~/Documents/GitHub/Research-Mapping-Uncanny-Valley/.venv/creepyvenv/lib/python3.8/site-packages/tensorflow/python/eager/function.py\u001b[0m in \u001b[0;36m__call__\u001b[0;34m(self, *args, **kwargs)\u001b[0m\n\u001b[1;32m   2827\u001b[0m     \u001b[0;32mwith\u001b[0m \u001b[0mself\u001b[0m\u001b[0;34m.\u001b[0m\u001b[0m_lock\u001b[0m\u001b[0;34m:\u001b[0m\u001b[0;34m\u001b[0m\u001b[0;34m\u001b[0m\u001b[0m\n\u001b[1;32m   2828\u001b[0m       \u001b[0mgraph_function\u001b[0m\u001b[0;34m,\u001b[0m \u001b[0margs\u001b[0m\u001b[0;34m,\u001b[0m \u001b[0mkwargs\u001b[0m \u001b[0;34m=\u001b[0m \u001b[0mself\u001b[0m\u001b[0;34m.\u001b[0m\u001b[0m_maybe_define_function\u001b[0m\u001b[0;34m(\u001b[0m\u001b[0margs\u001b[0m\u001b[0;34m,\u001b[0m \u001b[0mkwargs\u001b[0m\u001b[0;34m)\u001b[0m\u001b[0;34m\u001b[0m\u001b[0;34m\u001b[0m\u001b[0m\n\u001b[0;32m-> 2829\u001b[0;31m     \u001b[0;32mreturn\u001b[0m \u001b[0mgraph_function\u001b[0m\u001b[0;34m.\u001b[0m\u001b[0m_filtered_call\u001b[0m\u001b[0;34m(\u001b[0m\u001b[0margs\u001b[0m\u001b[0;34m,\u001b[0m \u001b[0mkwargs\u001b[0m\u001b[0;34m)\u001b[0m  \u001b[0;31m# pylint: disable=protected-access\u001b[0m\u001b[0;34m\u001b[0m\u001b[0;34m\u001b[0m\u001b[0m\n\u001b[0m\u001b[1;32m   2830\u001b[0m \u001b[0;34m\u001b[0m\u001b[0m\n\u001b[1;32m   2831\u001b[0m   \u001b[0;34m@\u001b[0m\u001b[0mproperty\u001b[0m\u001b[0;34m\u001b[0m\u001b[0;34m\u001b[0m\u001b[0m\n",
      "\u001b[0;32m~/Documents/GitHub/Research-Mapping-Uncanny-Valley/.venv/creepyvenv/lib/python3.8/site-packages/tensorflow/python/eager/function.py\u001b[0m in \u001b[0;36m_filtered_call\u001b[0;34m(self, args, kwargs, cancellation_manager)\u001b[0m\n\u001b[1;32m   1841\u001b[0m       \u001b[0;31m`\u001b[0m\u001b[0margs\u001b[0m\u001b[0;31m`\u001b[0m \u001b[0;32mand\u001b[0m\u001b[0;31m \u001b[0m\u001b[0;31m`\u001b[0m\u001b[0mkwargs\u001b[0m\u001b[0;31m`\u001b[0m\u001b[0;34m.\u001b[0m\u001b[0;34m\u001b[0m\u001b[0;34m\u001b[0m\u001b[0m\n\u001b[1;32m   1842\u001b[0m     \"\"\"\n\u001b[0;32m-> 1843\u001b[0;31m     return self._call_flat(\n\u001b[0m\u001b[1;32m   1844\u001b[0m         [t for t in nest.flatten((args, kwargs), expand_composites=True)\n\u001b[1;32m   1845\u001b[0m          if isinstance(t, (ops.Tensor,\n",
      "\u001b[0;32m~/Documents/GitHub/Research-Mapping-Uncanny-Valley/.venv/creepyvenv/lib/python3.8/site-packages/tensorflow/python/eager/function.py\u001b[0m in \u001b[0;36m_call_flat\u001b[0;34m(self, args, captured_inputs, cancellation_manager)\u001b[0m\n\u001b[1;32m   1921\u001b[0m         and executing_eagerly):\n\u001b[1;32m   1922\u001b[0m       \u001b[0;31m# No tape is watching; skip to running the function.\u001b[0m\u001b[0;34m\u001b[0m\u001b[0;34m\u001b[0m\u001b[0;34m\u001b[0m\u001b[0m\n\u001b[0;32m-> 1923\u001b[0;31m       return self._build_call_outputs(self._inference_function.call(\n\u001b[0m\u001b[1;32m   1924\u001b[0m           ctx, args, cancellation_manager=cancellation_manager))\n\u001b[1;32m   1925\u001b[0m     forward_backward = self._select_forward_and_backward_functions(\n",
      "\u001b[0;32m~/Documents/GitHub/Research-Mapping-Uncanny-Valley/.venv/creepyvenv/lib/python3.8/site-packages/tensorflow/python/eager/function.py\u001b[0m in \u001b[0;36mcall\u001b[0;34m(self, ctx, args, cancellation_manager)\u001b[0m\n\u001b[1;32m    543\u001b[0m       \u001b[0;32mwith\u001b[0m \u001b[0m_InterpolateFunctionError\u001b[0m\u001b[0;34m(\u001b[0m\u001b[0mself\u001b[0m\u001b[0;34m)\u001b[0m\u001b[0;34m:\u001b[0m\u001b[0;34m\u001b[0m\u001b[0;34m\u001b[0m\u001b[0m\n\u001b[1;32m    544\u001b[0m         \u001b[0;32mif\u001b[0m \u001b[0mcancellation_manager\u001b[0m \u001b[0;32mis\u001b[0m \u001b[0;32mNone\u001b[0m\u001b[0;34m:\u001b[0m\u001b[0;34m\u001b[0m\u001b[0;34m\u001b[0m\u001b[0m\n\u001b[0;32m--> 545\u001b[0;31m           outputs = execute.execute(\n\u001b[0m\u001b[1;32m    546\u001b[0m               \u001b[0mstr\u001b[0m\u001b[0;34m(\u001b[0m\u001b[0mself\u001b[0m\u001b[0;34m.\u001b[0m\u001b[0msignature\u001b[0m\u001b[0;34m.\u001b[0m\u001b[0mname\u001b[0m\u001b[0;34m)\u001b[0m\u001b[0;34m,\u001b[0m\u001b[0;34m\u001b[0m\u001b[0;34m\u001b[0m\u001b[0m\n\u001b[1;32m    547\u001b[0m               \u001b[0mnum_outputs\u001b[0m\u001b[0;34m=\u001b[0m\u001b[0mself\u001b[0m\u001b[0;34m.\u001b[0m\u001b[0m_num_outputs\u001b[0m\u001b[0;34m,\u001b[0m\u001b[0;34m\u001b[0m\u001b[0;34m\u001b[0m\u001b[0m\n",
      "\u001b[0;32m~/Documents/GitHub/Research-Mapping-Uncanny-Valley/.venv/creepyvenv/lib/python3.8/site-packages/tensorflow/python/eager/execute.py\u001b[0m in \u001b[0;36mquick_execute\u001b[0;34m(op_name, num_outputs, inputs, attrs, ctx, name)\u001b[0m\n\u001b[1;32m     57\u001b[0m   \u001b[0;32mtry\u001b[0m\u001b[0;34m:\u001b[0m\u001b[0;34m\u001b[0m\u001b[0;34m\u001b[0m\u001b[0m\n\u001b[1;32m     58\u001b[0m     \u001b[0mctx\u001b[0m\u001b[0;34m.\u001b[0m\u001b[0mensure_initialized\u001b[0m\u001b[0;34m(\u001b[0m\u001b[0;34m)\u001b[0m\u001b[0;34m\u001b[0m\u001b[0;34m\u001b[0m\u001b[0m\n\u001b[0;32m---> 59\u001b[0;31m     tensors = pywrap_tfe.TFE_Py_Execute(ctx._handle, device_name, op_name,\n\u001b[0m\u001b[1;32m     60\u001b[0m                                         inputs, attrs, num_outputs)\n\u001b[1;32m     61\u001b[0m   \u001b[0;32mexcept\u001b[0m \u001b[0mcore\u001b[0m\u001b[0;34m.\u001b[0m\u001b[0m_NotOkStatusException\u001b[0m \u001b[0;32mas\u001b[0m \u001b[0me\u001b[0m\u001b[0;34m:\u001b[0m\u001b[0;34m\u001b[0m\u001b[0;34m\u001b[0m\u001b[0m\n",
      "\u001b[0;31mKeyboardInterrupt\u001b[0m: "
     ]
    }
   ],
   "source": [
    "keras_reg.fit(X_train, y_train, epochs = 100, \n",
    "             validation_data=(X_valid,y_valid),\n",
    "             callbacks=[keras.callbacks.EarlyStopping(patience=10)])"
   ]
  },
  {
   "cell_type": "code",
   "execution_count": 83,
   "metadata": {},
   "outputs": [],
   "source": [
    "from scipy.stats import reciprocal\n",
    "from sklearn.model_selection import RandomizedSearchCV"
   ]
  },
  {
   "cell_type": "code",
   "execution_count": 87,
   "metadata": {
    "scrolled": true
   },
   "outputs": [
    {
     "name": "stdout",
     "output_type": "stream",
     "text": [
      "Epoch 1/30\n",
      "553/553 [==============================] - 1s 2ms/step - loss: 0.6662 - accuracy: 0.5919 - val_loss: 0.6613 - val_accuracy: 0.5942\n",
      "Epoch 2/30\n",
      "553/553 [==============================] - 1s 2ms/step - loss: 0.6592 - accuracy: 0.5958 - val_loss: 0.6537 - val_accuracy: 0.5975\n",
      "Epoch 3/30\n",
      "553/553 [==============================] - 1s 2ms/step - loss: 0.6524 - accuracy: 0.6001 - val_loss: 0.6473 - val_accuracy: 0.5993\n",
      "Epoch 4/30\n",
      "553/553 [==============================] - 1s 2ms/step - loss: 0.6459 - accuracy: 0.6087 - val_loss: 0.6410 - val_accuracy: 0.6308\n",
      "Epoch 5/30\n",
      "553/553 [==============================] - 1s 2ms/step - loss: 0.6389 - accuracy: 0.6205 - val_loss: 0.6327 - val_accuracy: 0.6141\n",
      "Epoch 6/30\n",
      "553/553 [==============================] - 1s 2ms/step - loss: 0.6313 - accuracy: 0.6310 - val_loss: 0.6249 - val_accuracy: 0.6211\n",
      "Epoch 7/30\n",
      "553/553 [==============================] - 1s 2ms/step - loss: 0.6232 - accuracy: 0.6433 - val_loss: 0.6148 - val_accuracy: 0.6665\n",
      "Epoch 8/30\n",
      "553/553 [==============================] - 1s 2ms/step - loss: 0.6142 - accuracy: 0.6579 - val_loss: 0.6085 - val_accuracy: 0.7312\n",
      "Epoch 9/30\n",
      "553/553 [==============================] - 1s 2ms/step - loss: 0.6044 - accuracy: 0.6732 - val_loss: 0.6063 - val_accuracy: 0.8235\n",
      "Epoch 10/30\n",
      "553/553 [==============================] - 1s 2ms/step - loss: 0.5940 - accuracy: 0.6878 - val_loss: 0.5903 - val_accuracy: 0.6498\n",
      "Epoch 11/30\n",
      "553/553 [==============================] - 1s 2ms/step - loss: 0.5825 - accuracy: 0.6983 - val_loss: 0.5696 - val_accuracy: 0.7190\n",
      "Epoch 12/30\n",
      "553/553 [==============================] - 1s 2ms/step - loss: 0.5694 - accuracy: 0.7173 - val_loss: 0.5658 - val_accuracy: 0.6768\n",
      "Epoch 13/30\n",
      "553/553 [==============================] - 1s 2ms/step - loss: 0.5568 - accuracy: 0.7302 - val_loss: 0.5610 - val_accuracy: 0.8822\n",
      "Epoch 14/30\n",
      "553/553 [==============================] - 1s 2ms/step - loss: 0.5434 - accuracy: 0.7440 - val_loss: 0.5610 - val_accuracy: 0.9237\n",
      "Epoch 15/30\n",
      "553/553 [==============================] - 1s 2ms/step - loss: 0.5290 - accuracy: 0.7585 - val_loss: 0.5122 - val_accuracy: 0.7837\n",
      "Epoch 16/30\n",
      "553/553 [==============================] - 1s 2ms/step - loss: 0.5147 - accuracy: 0.7694 - val_loss: 0.4994 - val_accuracy: 0.8207\n",
      "Epoch 17/30\n",
      "553/553 [==============================] - 1s 2ms/step - loss: 0.4992 - accuracy: 0.7830 - val_loss: 0.4883 - val_accuracy: 0.7467\n",
      "Epoch 18/30\n",
      "553/553 [==============================] - 1s 2ms/step - loss: 0.4846 - accuracy: 0.7937 - val_loss: 0.4660 - val_accuracy: 0.8198\n",
      "Epoch 19/30\n",
      "553/553 [==============================] - 1s 2ms/step - loss: 0.4696 - accuracy: 0.8010 - val_loss: 0.4579 - val_accuracy: 0.8621\n",
      "Epoch 20/30\n",
      "553/553 [==============================] - 1s 2ms/step - loss: 0.4551 - accuracy: 0.8105 - val_loss: 0.4671 - val_accuracy: 0.7455\n",
      "Epoch 21/30\n",
      "553/553 [==============================] - 1s 2ms/step - loss: 0.4411 - accuracy: 0.8216 - val_loss: 0.4247 - val_accuracy: 0.8577\n",
      "Epoch 22/30\n",
      "553/553 [==============================] - 1s 2ms/step - loss: 0.4276 - accuracy: 0.8267 - val_loss: 0.4508 - val_accuracy: 0.7552\n",
      "Epoch 23/30\n",
      "553/553 [==============================] - 1s 2ms/step - loss: 0.4148 - accuracy: 0.8351 - val_loss: 0.4321 - val_accuracy: 0.7680\n",
      "Epoch 24/30\n",
      "553/553 [==============================] - 1s 2ms/step - loss: 0.4028 - accuracy: 0.8402 - val_loss: 0.4018 - val_accuracy: 0.7914\n",
      "Epoch 25/30\n",
      "553/553 [==============================] - 1s 2ms/step - loss: 0.3917 - accuracy: 0.8446 - val_loss: 0.4404 - val_accuracy: 0.7636\n",
      "Epoch 26/30\n",
      "553/553 [==============================] - 1s 2ms/step - loss: 0.3800 - accuracy: 0.8502 - val_loss: 0.3869 - val_accuracy: 0.7980\n",
      "Epoch 27/30\n",
      "553/553 [==============================] - 1s 2ms/step - loss: 0.3708 - accuracy: 0.8555 - val_loss: 0.3499 - val_accuracy: 0.8556\n",
      "Epoch 28/30\n",
      "553/553 [==============================] - 1s 2ms/step - loss: 0.3604 - accuracy: 0.8591 - val_loss: 0.3403 - val_accuracy: 0.8642\n",
      "Epoch 29/30\n",
      "553/553 [==============================] - 1s 2ms/step - loss: 0.3516 - accuracy: 0.8628 - val_loss: 0.3752 - val_accuracy: 0.8024\n",
      "Epoch 30/30\n",
      "553/553 [==============================] - 1s 2ms/step - loss: 0.3433 - accuracy: 0.8677 - val_loss: 0.3318 - val_accuracy: 0.8468\n",
      "277/277 [==============================] - 0s 1ms/step - loss: 0.3448 - accuracy: 0.8361\n",
      "Epoch 1/30\n",
      "553/553 [==============================] - 1s 2ms/step - loss: 0.6737 - accuracy: 0.5913 - val_loss: 0.6687 - val_accuracy: 0.5942\n",
      "Epoch 2/30\n",
      "553/553 [==============================] - 1s 2ms/step - loss: 0.6670 - accuracy: 0.5914 - val_loss: 0.6620 - val_accuracy: 0.5942\n",
      "Epoch 3/30\n",
      "553/553 [==============================] - 1s 2ms/step - loss: 0.6611 - accuracy: 0.5921 - val_loss: 0.6590 - val_accuracy: 0.5942\n",
      "Epoch 4/30\n",
      "553/553 [==============================] - 1s 2ms/step - loss: 0.6558 - accuracy: 0.5961 - val_loss: 0.6503 - val_accuracy: 0.6044\n",
      "Epoch 5/30\n",
      "553/553 [==============================] - 1s 2ms/step - loss: 0.6500 - accuracy: 0.6029 - val_loss: 0.6463 - val_accuracy: 0.6304\n",
      "Epoch 6/30\n",
      "553/553 [==============================] - 1s 2ms/step - loss: 0.6436 - accuracy: 0.6116 - val_loss: 0.6376 - val_accuracy: 0.6089\n",
      "Epoch 7/30\n",
      "553/553 [==============================] - 1s 2ms/step - loss: 0.6367 - accuracy: 0.6226 - val_loss: 0.6295 - val_accuracy: 0.6306\n",
      "Epoch 8/30\n",
      "553/553 [==============================] - 1s 2ms/step - loss: 0.6295 - accuracy: 0.6337 - val_loss: 0.6214 - val_accuracy: 0.6502\n",
      "Epoch 9/30\n",
      "553/553 [==============================] - 1s 2ms/step - loss: 0.6217 - accuracy: 0.6454 - val_loss: 0.6135 - val_accuracy: 0.6354\n",
      "Epoch 10/30\n",
      "553/553 [==============================] - 1s 2ms/step - loss: 0.6128 - accuracy: 0.6578 - val_loss: 0.6038 - val_accuracy: 0.7088\n",
      "Epoch 11/30\n",
      "553/553 [==============================] - 1s 2ms/step - loss: 0.6030 - accuracy: 0.6741 - val_loss: 0.5916 - val_accuracy: 0.6831\n",
      "Epoch 12/30\n",
      "553/553 [==============================] - 1s 2ms/step - loss: 0.5920 - accuracy: 0.6906 - val_loss: 0.5866 - val_accuracy: 0.7872\n",
      "Epoch 13/30\n",
      "553/553 [==============================] - 1s 2ms/step - loss: 0.5809 - accuracy: 0.7054 - val_loss: 0.5708 - val_accuracy: 0.6826\n",
      "Epoch 14/30\n",
      "553/553 [==============================] - 1s 2ms/step - loss: 0.5688 - accuracy: 0.7166 - val_loss: 0.5542 - val_accuracy: 0.7513\n",
      "Epoch 15/30\n",
      "553/553 [==============================] - 1s 2ms/step - loss: 0.5555 - accuracy: 0.7313 - val_loss: 0.5445 - val_accuracy: 0.8025\n",
      "Epoch 16/30\n",
      "553/553 [==============================] - 1s 2ms/step - loss: 0.5421 - accuracy: 0.7472 - val_loss: 0.5284 - val_accuracy: 0.8032\n",
      "Epoch 17/30\n",
      "553/553 [==============================] - 1s 2ms/step - loss: 0.5277 - accuracy: 0.7597 - val_loss: 0.5381 - val_accuracy: 0.9102\n",
      "Epoch 18/30\n",
      "553/553 [==============================] - 1s 2ms/step - loss: 0.5131 - accuracy: 0.7725 - val_loss: 0.5027 - val_accuracy: 0.7345\n",
      "Epoch 19/30\n",
      "553/553 [==============================] - 1s 2ms/step - loss: 0.4984 - accuracy: 0.7843 - val_loss: 0.4890 - val_accuracy: 0.7425\n",
      "Epoch 20/30\n",
      "553/553 [==============================] - 1s 2ms/step - loss: 0.4834 - accuracy: 0.7928 - val_loss: 0.4682 - val_accuracy: 0.7668\n",
      "Epoch 21/30\n",
      "553/553 [==============================] - 1s 2ms/step - loss: 0.4690 - accuracy: 0.8008 - val_loss: 0.4626 - val_accuracy: 0.7553\n",
      "Epoch 22/30\n",
      "553/553 [==============================] - 1s 2ms/step - loss: 0.4547 - accuracy: 0.8096 - val_loss: 0.4824 - val_accuracy: 0.9267\n",
      "Epoch 23/30\n",
      "553/553 [==============================] - 1s 2ms/step - loss: 0.4406 - accuracy: 0.8234 - val_loss: 0.4197 - val_accuracy: 0.8140\n",
      "Epoch 24/30\n",
      "553/553 [==============================] - 1s 2ms/step - loss: 0.4264 - accuracy: 0.8269 - val_loss: 0.4212 - val_accuracy: 0.7821\n",
      "Epoch 25/30\n",
      "553/553 [==============================] - 1s 2ms/step - loss: 0.4138 - accuracy: 0.8343 - val_loss: 0.4189 - val_accuracy: 0.9103\n",
      "Epoch 26/30\n",
      "553/553 [==============================] - 1s 2ms/step - loss: 0.4016 - accuracy: 0.8400 - val_loss: 0.3830 - val_accuracy: 0.8247\n",
      "Epoch 27/30\n",
      "553/553 [==============================] - 1s 2ms/step - loss: 0.3905 - accuracy: 0.8455 - val_loss: 0.3694 - val_accuracy: 0.8637\n",
      "Epoch 28/30\n",
      "553/553 [==============================] - 1s 2ms/step - loss: 0.3801 - accuracy: 0.8520 - val_loss: 0.3629 - val_accuracy: 0.8323\n",
      "Epoch 29/30\n",
      "553/553 [==============================] - 1s 2ms/step - loss: 0.3700 - accuracy: 0.8560 - val_loss: 0.4330 - val_accuracy: 0.9082\n",
      "Epoch 30/30\n",
      "553/553 [==============================] - 1s 2ms/step - loss: 0.3601 - accuracy: 0.8590 - val_loss: 0.3893 - val_accuracy: 0.7936\n",
      "277/277 [==============================] - 0s 1ms/step - loss: 0.4009 - accuracy: 0.7875\n",
      "Epoch 1/30\n",
      "553/553 [==============================] - 1s 2ms/step - loss: 0.6680 - accuracy: 0.5981 - val_loss: 0.6667 - val_accuracy: 0.5940\n",
      "Epoch 2/30\n",
      "553/553 [==============================] - 1s 2ms/step - loss: 0.6610 - accuracy: 0.5982 - val_loss: 0.6586 - val_accuracy: 0.5959\n",
      "Epoch 3/30\n",
      "553/553 [==============================] - 1s 2ms/step - loss: 0.6548 - accuracy: 0.6009 - val_loss: 0.6521 - val_accuracy: 0.5968\n",
      "Epoch 4/30\n",
      "553/553 [==============================] - 1s 2ms/step - loss: 0.6486 - accuracy: 0.6060 - val_loss: 0.6451 - val_accuracy: 0.6089\n",
      "Epoch 5/30\n",
      "553/553 [==============================] - 1s 2ms/step - loss: 0.6414 - accuracy: 0.6160 - val_loss: 0.6378 - val_accuracy: 0.6130\n",
      "Epoch 6/30\n",
      "553/553 [==============================] - 1s 2ms/step - loss: 0.6345 - accuracy: 0.6256 - val_loss: 0.6302 - val_accuracy: 0.6412\n",
      "Epoch 7/30\n",
      "553/553 [==============================] - 1s 2ms/step - loss: 0.6267 - accuracy: 0.6368 - val_loss: 0.6212 - val_accuracy: 0.6449\n",
      "Epoch 8/30\n",
      "553/553 [==============================] - 1s 2ms/step - loss: 0.6181 - accuracy: 0.6497 - val_loss: 0.6136 - val_accuracy: 0.6338\n",
      "Epoch 9/30\n",
      "553/553 [==============================] - 1s 2ms/step - loss: 0.6088 - accuracy: 0.6633 - val_loss: 0.6021 - val_accuracy: 0.6632\n",
      "Epoch 10/30\n",
      "553/553 [==============================] - 1s 2ms/step - loss: 0.5988 - accuracy: 0.6771 - val_loss: 0.5920 - val_accuracy: 0.7208\n",
      "Epoch 11/30\n",
      "553/553 [==============================] - 1s 2ms/step - loss: 0.5881 - accuracy: 0.6903 - val_loss: 0.5793 - val_accuracy: 0.6924\n",
      "Epoch 12/30\n",
      "553/553 [==============================] - 1s 2ms/step - loss: 0.5761 - accuracy: 0.7042 - val_loss: 0.5682 - val_accuracy: 0.7601\n",
      "Epoch 13/30\n",
      "553/553 [==============================] - 1s 2ms/step - loss: 0.5636 - accuracy: 0.7198 - val_loss: 0.5528 - val_accuracy: 0.7268\n",
      "Epoch 14/30\n",
      "553/553 [==============================] - 1s 2ms/step - loss: 0.5503 - accuracy: 0.7348 - val_loss: 0.5405 - val_accuracy: 0.7199\n",
      "Epoch 15/30\n",
      "553/553 [==============================] - 1s 2ms/step - loss: 0.5369 - accuracy: 0.7470 - val_loss: 0.5240 - val_accuracy: 0.7495\n",
      "Epoch 16/30\n",
      "553/553 [==============================] - 1s 2ms/step - loss: 0.5228 - accuracy: 0.7594 - val_loss: 0.5223 - val_accuracy: 0.8663\n",
      "Epoch 17/30\n",
      "553/553 [==============================] - 1s 2ms/step - loss: 0.5081 - accuracy: 0.7726 - val_loss: 0.4934 - val_accuracy: 0.7772\n",
      "Epoch 18/30\n",
      "553/553 [==============================] - 1s 2ms/step - loss: 0.4935 - accuracy: 0.7814 - val_loss: 0.4884 - val_accuracy: 0.8621\n",
      "Epoch 19/30\n",
      "553/553 [==============================] - 1s 2ms/step - loss: 0.4786 - accuracy: 0.7924 - val_loss: 0.4838 - val_accuracy: 0.7365\n",
      "Epoch 20/30\n",
      "553/553 [==============================] - 1s 2ms/step - loss: 0.4647 - accuracy: 0.8020 - val_loss: 0.4677 - val_accuracy: 0.7492\n",
      "Epoch 21/30\n",
      "553/553 [==============================] - 1s 2ms/step - loss: 0.4503 - accuracy: 0.8115 - val_loss: 0.4414 - val_accuracy: 0.7786\n",
      "Epoch 22/30\n",
      "553/553 [==============================] - 1s 2ms/step - loss: 0.4370 - accuracy: 0.8196 - val_loss: 0.4332 - val_accuracy: 0.7768\n",
      "Epoch 23/30\n",
      "553/553 [==============================] - 1s 2ms/step - loss: 0.4234 - accuracy: 0.8261 - val_loss: 0.4523 - val_accuracy: 0.7537\n",
      "Epoch 24/30\n",
      "553/553 [==============================] - 1s 2ms/step - loss: 0.4108 - accuracy: 0.8343 - val_loss: 0.3936 - val_accuracy: 0.8320\n",
      "Epoch 25/30\n",
      "553/553 [==============================] - 1s 2ms/step - loss: 0.3986 - accuracy: 0.8406 - val_loss: 0.3879 - val_accuracy: 0.8113\n",
      "Epoch 26/30\n",
      "553/553 [==============================] - 1s 2ms/step - loss: 0.3875 - accuracy: 0.8455 - val_loss: 0.4138 - val_accuracy: 0.7798\n",
      "Epoch 27/30\n",
      "553/553 [==============================] - 1s 2ms/step - loss: 0.3772 - accuracy: 0.8501 - val_loss: 0.3830 - val_accuracy: 0.8010\n",
      "Epoch 28/30\n",
      "553/553 [==============================] - 1s 2ms/step - loss: 0.3679 - accuracy: 0.8535 - val_loss: 0.3875 - val_accuracy: 0.7960\n",
      "Epoch 29/30\n",
      "553/553 [==============================] - 1s 2ms/step - loss: 0.3575 - accuracy: 0.8591 - val_loss: 0.3605 - val_accuracy: 0.8168\n",
      "Epoch 30/30\n",
      "553/553 [==============================] - 1s 2ms/step - loss: 0.3488 - accuracy: 0.8627 - val_loss: 0.3722 - val_accuracy: 0.9237\n",
      "277/277 [==============================] - 0s 1ms/step - loss: 0.3790 - accuracy: 0.9140\n"
     ]
    },
    {
     "ename": "RuntimeError",
     "evalue": "Cannot clone object <tensorflow.python.keras.wrappers.scikit_learn.KerasRegressor object at 0x7fe3a406a9d0>, as the constructor either does not set or modifies parameter learning_rate",
     "output_type": "error",
     "traceback": [
      "\u001b[0;31m---------------------------------------------------------------------------\u001b[0m",
      "\u001b[0;31mRuntimeError\u001b[0m                              Traceback (most recent call last)",
      "\u001b[0;32m<ipython-input-87-1b43480e6e09>\u001b[0m in \u001b[0;36m<module>\u001b[0;34m\u001b[0m\n\u001b[1;32m      6\u001b[0m \u001b[0;34m\u001b[0m\u001b[0m\n\u001b[1;32m      7\u001b[0m \u001b[0mrnd_search_cv\u001b[0m \u001b[0;34m=\u001b[0m \u001b[0mRandomizedSearchCV\u001b[0m\u001b[0;34m(\u001b[0m\u001b[0mkeras_reg\u001b[0m\u001b[0;34m,\u001b[0m \u001b[0mparam_distribs\u001b[0m\u001b[0;34m,\u001b[0m \u001b[0mn_iter\u001b[0m\u001b[0;34m=\u001b[0m\u001b[0;36m1\u001b[0m\u001b[0;34m,\u001b[0m \u001b[0mcv\u001b[0m\u001b[0;34m=\u001b[0m\u001b[0;36m3\u001b[0m\u001b[0;34m)\u001b[0m\u001b[0;34m\u001b[0m\u001b[0;34m\u001b[0m\u001b[0m\n\u001b[0;32m----> 8\u001b[0;31m rnd_search_cv.fit(X_train, y_train, epochs = 30, \n\u001b[0m\u001b[1;32m      9\u001b[0m              \u001b[0mvalidation_data\u001b[0m\u001b[0;34m=\u001b[0m\u001b[0;34m(\u001b[0m\u001b[0mX_valid\u001b[0m\u001b[0;34m,\u001b[0m\u001b[0my_valid\u001b[0m\u001b[0;34m)\u001b[0m\u001b[0;34m,\u001b[0m\u001b[0;34m\u001b[0m\u001b[0;34m\u001b[0m\u001b[0m\n\u001b[1;32m     10\u001b[0m              callbacks=[keras.callbacks.EarlyStopping(patience=10)])\n",
      "\u001b[0;32m~/Documents/GitHub/Research-Mapping-Uncanny-Valley/.venv/creepyvenv/lib/python3.8/site-packages/sklearn/utils/validation.py\u001b[0m in \u001b[0;36minner_f\u001b[0;34m(*args, **kwargs)\u001b[0m\n\u001b[1;32m     70\u001b[0m                           FutureWarning)\n\u001b[1;32m     71\u001b[0m         \u001b[0mkwargs\u001b[0m\u001b[0;34m.\u001b[0m\u001b[0mupdate\u001b[0m\u001b[0;34m(\u001b[0m\u001b[0;34m{\u001b[0m\u001b[0mk\u001b[0m\u001b[0;34m:\u001b[0m \u001b[0marg\u001b[0m \u001b[0;32mfor\u001b[0m \u001b[0mk\u001b[0m\u001b[0;34m,\u001b[0m \u001b[0marg\u001b[0m \u001b[0;32min\u001b[0m \u001b[0mzip\u001b[0m\u001b[0;34m(\u001b[0m\u001b[0msig\u001b[0m\u001b[0;34m.\u001b[0m\u001b[0mparameters\u001b[0m\u001b[0;34m,\u001b[0m \u001b[0margs\u001b[0m\u001b[0;34m)\u001b[0m\u001b[0;34m}\u001b[0m\u001b[0;34m)\u001b[0m\u001b[0;34m\u001b[0m\u001b[0;34m\u001b[0m\u001b[0m\n\u001b[0;32m---> 72\u001b[0;31m         \u001b[0;32mreturn\u001b[0m \u001b[0mf\u001b[0m\u001b[0;34m(\u001b[0m\u001b[0;34m**\u001b[0m\u001b[0mkwargs\u001b[0m\u001b[0;34m)\u001b[0m\u001b[0;34m\u001b[0m\u001b[0;34m\u001b[0m\u001b[0m\n\u001b[0m\u001b[1;32m     73\u001b[0m     \u001b[0;32mreturn\u001b[0m \u001b[0minner_f\u001b[0m\u001b[0;34m\u001b[0m\u001b[0;34m\u001b[0m\u001b[0m\n\u001b[1;32m     74\u001b[0m \u001b[0;34m\u001b[0m\u001b[0m\n",
      "\u001b[0;32m~/Documents/GitHub/Research-Mapping-Uncanny-Valley/.venv/creepyvenv/lib/python3.8/site-packages/sklearn/model_selection/_search.py\u001b[0m in \u001b[0;36mfit\u001b[0;34m(self, X, y, groups, **fit_params)\u001b[0m\n\u001b[1;32m    759\u001b[0m             \u001b[0;31m# we clone again after setting params in case some\u001b[0m\u001b[0;34m\u001b[0m\u001b[0;34m\u001b[0m\u001b[0;34m\u001b[0m\u001b[0m\n\u001b[1;32m    760\u001b[0m             \u001b[0;31m# of the params are estimators as well.\u001b[0m\u001b[0;34m\u001b[0m\u001b[0;34m\u001b[0m\u001b[0;34m\u001b[0m\u001b[0m\n\u001b[0;32m--> 761\u001b[0;31m             self.best_estimator_ = clone(clone(base_estimator).set_params(\n\u001b[0m\u001b[1;32m    762\u001b[0m                 **self.best_params_))\n\u001b[1;32m    763\u001b[0m             \u001b[0mrefit_start_time\u001b[0m \u001b[0;34m=\u001b[0m \u001b[0mtime\u001b[0m\u001b[0;34m.\u001b[0m\u001b[0mtime\u001b[0m\u001b[0;34m(\u001b[0m\u001b[0;34m)\u001b[0m\u001b[0;34m\u001b[0m\u001b[0;34m\u001b[0m\u001b[0m\n",
      "\u001b[0;32m~/Documents/GitHub/Research-Mapping-Uncanny-Valley/.venv/creepyvenv/lib/python3.8/site-packages/sklearn/utils/validation.py\u001b[0m in \u001b[0;36minner_f\u001b[0;34m(*args, **kwargs)\u001b[0m\n\u001b[1;32m     70\u001b[0m                           FutureWarning)\n\u001b[1;32m     71\u001b[0m         \u001b[0mkwargs\u001b[0m\u001b[0;34m.\u001b[0m\u001b[0mupdate\u001b[0m\u001b[0;34m(\u001b[0m\u001b[0;34m{\u001b[0m\u001b[0mk\u001b[0m\u001b[0;34m:\u001b[0m \u001b[0marg\u001b[0m \u001b[0;32mfor\u001b[0m \u001b[0mk\u001b[0m\u001b[0;34m,\u001b[0m \u001b[0marg\u001b[0m \u001b[0;32min\u001b[0m \u001b[0mzip\u001b[0m\u001b[0;34m(\u001b[0m\u001b[0msig\u001b[0m\u001b[0;34m.\u001b[0m\u001b[0mparameters\u001b[0m\u001b[0;34m,\u001b[0m \u001b[0margs\u001b[0m\u001b[0;34m)\u001b[0m\u001b[0;34m}\u001b[0m\u001b[0;34m)\u001b[0m\u001b[0;34m\u001b[0m\u001b[0;34m\u001b[0m\u001b[0m\n\u001b[0;32m---> 72\u001b[0;31m         \u001b[0;32mreturn\u001b[0m \u001b[0mf\u001b[0m\u001b[0;34m(\u001b[0m\u001b[0;34m**\u001b[0m\u001b[0mkwargs\u001b[0m\u001b[0;34m)\u001b[0m\u001b[0;34m\u001b[0m\u001b[0;34m\u001b[0m\u001b[0m\n\u001b[0m\u001b[1;32m     73\u001b[0m     \u001b[0;32mreturn\u001b[0m \u001b[0minner_f\u001b[0m\u001b[0;34m\u001b[0m\u001b[0;34m\u001b[0m\u001b[0m\n\u001b[1;32m     74\u001b[0m \u001b[0;34m\u001b[0m\u001b[0m\n",
      "\u001b[0;32m~/Documents/GitHub/Research-Mapping-Uncanny-Valley/.venv/creepyvenv/lib/python3.8/site-packages/sklearn/base.py\u001b[0m in \u001b[0;36mclone\u001b[0;34m(estimator, safe)\u001b[0m\n\u001b[1;32m     94\u001b[0m         \u001b[0mparam2\u001b[0m \u001b[0;34m=\u001b[0m \u001b[0mparams_set\u001b[0m\u001b[0;34m[\u001b[0m\u001b[0mname\u001b[0m\u001b[0;34m]\u001b[0m\u001b[0;34m\u001b[0m\u001b[0;34m\u001b[0m\u001b[0m\n\u001b[1;32m     95\u001b[0m         \u001b[0;32mif\u001b[0m \u001b[0mparam1\u001b[0m \u001b[0;32mis\u001b[0m \u001b[0;32mnot\u001b[0m \u001b[0mparam2\u001b[0m\u001b[0;34m:\u001b[0m\u001b[0;34m\u001b[0m\u001b[0;34m\u001b[0m\u001b[0m\n\u001b[0;32m---> 96\u001b[0;31m             raise RuntimeError('Cannot clone object %s, as the constructor '\n\u001b[0m\u001b[1;32m     97\u001b[0m                                \u001b[0;34m'either does not set or modifies parameter %s'\u001b[0m \u001b[0;34m%\u001b[0m\u001b[0;34m\u001b[0m\u001b[0;34m\u001b[0m\u001b[0m\n\u001b[1;32m     98\u001b[0m                                (estimator, name))\n",
      "\u001b[0;31mRuntimeError\u001b[0m: Cannot clone object <tensorflow.python.keras.wrappers.scikit_learn.KerasRegressor object at 0x7fe3a406a9d0>, as the constructor either does not set or modifies parameter learning_rate"
     ]
    }
   ],
   "source": [
    "param_distribs = {\n",
    "    \"n_hidden\": [0,1,2,3,4,5,6],\n",
    "    \"n_neurons\": np.arange(1,600),\n",
    "    \"learning_rate\": reciprocal(1e-5,0.01),\n",
    "}\n",
    "\n",
    "rnd_search_cv = RandomizedSearchCV(keras_reg, param_distribs, n_iter=10, cv=3)\n",
    "rnd_search_cv.fit(X_train, y_train, epochs = 100, \n",
    "             validation_data=(X_valid, y_valid),\n",
    "             callbacks=[keras.callbacks.EarlyStopping(patience=10)])"
   ]
  },
  {
   "cell_type": "code",
   "execution_count": 88,
   "metadata": {},
   "outputs": [
    {
     "data": {
      "text/plain": [
       "{'learning_rate': 0.0009593657178384627, 'n_hidden': 2, 'n_neurons': 303}"
      ]
     },
     "execution_count": 88,
     "metadata": {},
     "output_type": "execute_result"
    }
   ],
   "source": [
    "rnd_search_cv.best_params_"
   ]
  },
  {
   "cell_type": "code",
   "execution_count": 89,
   "metadata": {},
   "outputs": [
    {
     "data": {
      "text/plain": [
       "-0.374898761510849"
      ]
     },
     "execution_count": 89,
     "metadata": {},
     "output_type": "execute_result"
    }
   ],
   "source": [
    "rnd_search_cv.best_score_"
   ]
  },
  {
   "cell_type": "code",
   "execution_count": null,
   "metadata": {},
   "outputs": [],
   "source": [
    "# run this line of code if you are sure \n",
    "model = rnd_search_cv.best_estimator_.model"
   ]
  },
  {
   "cell_type": "markdown",
   "metadata": {},
   "source": [
    "## Model here"
   ]
  },
  {
   "cell_type": "code",
   "execution_count": 20,
   "metadata": {},
   "outputs": [],
   "source": [
    "model = keras.Sequential([\n",
    "    keras.layers.Dense(units = 303, input_shape = (769,), activation = 'relu'),\n",
    "    keras.layers.Dense(units = 303, activation = 'relu'),\n",
    "    keras.layers.Dense(units = 1, activation = 'sigmoid') # here the units must be 1 in order for binary classifications to work\n",
    "])"
   ]
  },
  {
   "cell_type": "code",
   "execution_count": 21,
   "metadata": {},
   "outputs": [
    {
     "name": "stdout",
     "output_type": "stream",
     "text": [
      "Model: \"sequential_1\"\n",
      "_________________________________________________________________\n",
      "Layer (type)                 Output Shape              Param #   \n",
      "=================================================================\n",
      "dense_6 (Dense)              (None, 303)               233310    \n",
      "_________________________________________________________________\n",
      "dense_7 (Dense)              (None, 303)               92112     \n",
      "_________________________________________________________________\n",
      "dense_8 (Dense)              (None, 1)                 304       \n",
      "=================================================================\n",
      "Total params: 325,726\n",
      "Trainable params: 325,726\n",
      "Non-trainable params: 0\n",
      "_________________________________________________________________\n"
     ]
    }
   ],
   "source": [
    "model.summary()"
   ]
  },
  {
   "cell_type": "code",
   "execution_count": 22,
   "metadata": {},
   "outputs": [],
   "source": [
    "model.compile(loss = 'binary_crossentropy',\n",
    "             optimizer = keras.optimizers.SGD(lr=0.001), # you can tune the learning rate here. Default lr = 0.01\n",
    "             metrics=['accuracy'])"
   ]
  },
  {
   "cell_type": "code",
   "execution_count": 23,
   "metadata": {},
   "outputs": [
    {
     "name": "stdout",
     "output_type": "stream",
     "text": [
      "Epoch 1/30\n",
      "829/829 [==============================] - 2s 2ms/step - loss: 0.6651 - accuracy: 0.5985 - val_loss: 0.6666 - val_accuracy: 0.5868\n",
      "Epoch 2/30\n",
      "829/829 [==============================] - 2s 2ms/step - loss: 0.6568 - accuracy: 0.6000 - val_loss: 0.6571 - val_accuracy: 0.5882\n",
      "Epoch 3/30\n",
      "829/829 [==============================] - 2s 2ms/step - loss: 0.6479 - accuracy: 0.6062 - val_loss: 0.6468 - val_accuracy: 0.6079\n",
      "Epoch 4/30\n",
      "829/829 [==============================] - 2s 2ms/step - loss: 0.6387 - accuracy: 0.6169 - val_loss: 0.6369 - val_accuracy: 0.6148\n",
      "Epoch 5/30\n",
      "829/829 [==============================] - 2s 2ms/step - loss: 0.6280 - accuracy: 0.6331 - val_loss: 0.6247 - val_accuracy: 0.6384\n",
      "Epoch 6/30\n",
      "829/829 [==============================] - 2s 2ms/step - loss: 0.6156 - accuracy: 0.6523 - val_loss: 0.6150 - val_accuracy: 0.6290\n",
      "Epoch 7/30\n",
      "829/829 [==============================] - 2s 2ms/step - loss: 0.6013 - accuracy: 0.6725 - val_loss: 0.6020 - val_accuracy: 0.6382\n",
      "Epoch 8/30\n",
      "829/829 [==============================] - 2s 2ms/step - loss: 0.5845 - accuracy: 0.6942 - val_loss: 0.5771 - val_accuracy: 0.7197\n",
      "Epoch 9/30\n",
      "829/829 [==============================] - 2s 2ms/step - loss: 0.5651 - accuracy: 0.7184 - val_loss: 0.5589 - val_accuracy: 0.7789\n",
      "Epoch 10/30\n",
      "829/829 [==============================] - 2s 2ms/step - loss: 0.5445 - accuracy: 0.7383 - val_loss: 0.5359 - val_accuracy: 0.7259\n",
      "Epoch 11/30\n",
      "829/829 [==============================] - 2s 2ms/step - loss: 0.5220 - accuracy: 0.7608 - val_loss: 0.5123 - val_accuracy: 0.7511\n",
      "Epoch 12/30\n",
      "829/829 [==============================] - 2s 2ms/step - loss: 0.4989 - accuracy: 0.7800 - val_loss: 0.5085 - val_accuracy: 0.7138\n",
      "Epoch 13/30\n",
      "829/829 [==============================] - 2s 2ms/step - loss: 0.4758 - accuracy: 0.7978 - val_loss: 0.4812 - val_accuracy: 0.7397\n",
      "Epoch 14/30\n",
      "829/829 [==============================] - 2s 2ms/step - loss: 0.4533 - accuracy: 0.8115 - val_loss: 0.4458 - val_accuracy: 0.7835\n",
      "Epoch 15/30\n",
      "829/829 [==============================] - 2s 2ms/step - loss: 0.4309 - accuracy: 0.8229 - val_loss: 0.4336 - val_accuracy: 0.7775\n",
      "Epoch 16/30\n",
      "829/829 [==============================] - 2s 2ms/step - loss: 0.4106 - accuracy: 0.8354 - val_loss: 0.4001 - val_accuracy: 0.8489\n",
      "Epoch 17/30\n",
      "829/829 [==============================] - 2s 2ms/step - loss: 0.3919 - accuracy: 0.8444 - val_loss: 0.3856 - val_accuracy: 0.8212\n",
      "Epoch 18/30\n",
      "829/829 [==============================] - 2s 2ms/step - loss: 0.3747 - accuracy: 0.8516 - val_loss: 0.4174 - val_accuracy: 0.7768\n",
      "Epoch 19/30\n",
      "829/829 [==============================] - 2s 2ms/step - loss: 0.3589 - accuracy: 0.8598 - val_loss: 0.3553 - val_accuracy: 0.8355\n",
      "Epoch 20/30\n",
      "829/829 [==============================] - 2s 2ms/step - loss: 0.3455 - accuracy: 0.8652 - val_loss: 0.3362 - val_accuracy: 0.8707\n",
      "Epoch 21/30\n",
      "829/829 [==============================] - 2s 2ms/step - loss: 0.3334 - accuracy: 0.8711 - val_loss: 0.3908 - val_accuracy: 0.9117\n",
      "Epoch 22/30\n",
      "829/829 [==============================] - 2s 2ms/step - loss: 0.3228 - accuracy: 0.8759 - val_loss: 0.3334 - val_accuracy: 0.8357\n",
      "Epoch 23/30\n",
      "829/829 [==============================] - 2s 2ms/step - loss: 0.3143 - accuracy: 0.8785 - val_loss: 0.3142 - val_accuracy: 0.8540\n",
      "Epoch 24/30\n",
      "829/829 [==============================] - 2s 2ms/step - loss: 0.3045 - accuracy: 0.8831 - val_loss: 0.4725 - val_accuracy: 0.8265\n",
      "Epoch 25/30\n",
      "829/829 [==============================] - 2s 2ms/step - loss: 0.2977 - accuracy: 0.8855 - val_loss: 0.2891 - val_accuracy: 0.8920\n",
      "Epoch 26/30\n",
      "829/829 [==============================] - 2s 2ms/step - loss: 0.2908 - accuracy: 0.8881 - val_loss: 0.3115 - val_accuracy: 0.8473\n",
      "Epoch 27/30\n",
      "829/829 [==============================] - 2s 2ms/step - loss: 0.2851 - accuracy: 0.8908 - val_loss: 0.2836 - val_accuracy: 0.9086\n",
      "Epoch 28/30\n",
      "829/829 [==============================] - 2s 2ms/step - loss: 0.2810 - accuracy: 0.8913 - val_loss: 0.3898 - val_accuracy: 0.8115\n",
      "Epoch 29/30\n",
      "829/829 [==============================] - 2s 2ms/step - loss: 0.2759 - accuracy: 0.8942 - val_loss: 0.2681 - val_accuracy: 0.8892\n",
      "Epoch 30/30\n",
      "829/829 [==============================] - 2s 2ms/step - loss: 0.2721 - accuracy: 0.8962 - val_loss: 0.2687 - val_accuracy: 0.9117\n"
     ]
    },
    {
     "data": {
      "image/png": "[encoded data removed]",
      "text/plain": [
       "<Figure size 576x360 with 1 Axes>"
      ]
     },
     "metadata": {
      "needs_background": "light"
     },
     "output_type": "display_data"
    }
   ],
   "source": [
    "history = model.fit(X_train, y_train, epochs = 30, \n",
    "                   validation_data=(X_valid, y_valid))\n",
    "\n",
    "import matplotlib.pyplot as plt\n",
    "pd.DataFrame(history.history).plot(figsize = (8,5))\n",
    "plt.grid = True\n",
    "plt.gca().set_ylim(0,1)\n",
    "plt.show()"
   ]
  },
  {
   "cell_type": "code",
   "execution_count": 24,
   "metadata": {},
   "outputs": [
    {
     "name": "stdout",
     "output_type": "stream",
     "text": [
      "178/178 [==============================] - 0s 1ms/step - loss: 0.2729 - accuracy: 0.9092\n"
     ]
    },
    {
     "data": {
      "text/plain": [
       "[0.272865891456604, 0.9091550707817078]"
      ]
     },
     "execution_count": 24,
     "metadata": {},
     "output_type": "execute_result"
    }
   ],
   "source": [
    "model.evaluate(X_test, y_test)"
   ]
  },
  {
   "cell_type": "code",
   "execution_count": null,
   "metadata": {},
   "outputs": [],
   "source": []
  }
 ],
 "metadata": {
  "kernelspec": {
   "display_name": "creepyvenv",
   "language": "python",
   "name": "creepyvenv"
  },
  "language_info": {
   "codemirror_mode": {
    "name": "ipython",
    "version": 3
   },
   "file_extension": ".py",
   "mimetype": "text/x-python",
   "name": "python",
   "nbconvert_exporter": "python",
   "pygments_lexer": "ipython3",
   "version": "3.8.3"
  }
 },
 "nbformat": 4,
 "nbformat_minor": 4
}
