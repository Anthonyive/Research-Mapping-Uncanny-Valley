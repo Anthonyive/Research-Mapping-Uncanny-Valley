{
 "cells": [
  {
   "cell_type": "markdown",
   "metadata": {},
   "source": [
    "# Create sum_vec for nosleep and confessions"
   ]
  },
  {
   "cell_type": "code",
   "execution_count": 26,
   "metadata": {},
   "outputs": [],
   "source": [
    "import pandas as pd\n",
    "import numpy as np\n",
    "\n",
    "nosleep2020 = pd.read_pickle('./pickles/nosleep2020.pickle')\n",
    "confessions2020 = pd.read_pickle('./pickles/confessions2020.pickle')\n",
    "nosleep_comments = pd.read_pickle('./pickles/nosleep_comments.pickle')\n",
    "confessions_comments = pd.read_pickle('./pickles/confessions_comments.pickle')\n",
    "\n",
    "from sentence_transformers import SentenceTransformer\n",
    "model = SentenceTransformer('distilbert-base-nli-stsb-mean-tokens')\n",
    "\n",
    "import spacy\n",
    "\n",
    "spacy.prefer_gpu()\n",
    "# Must return True for GPU to work\n",
    "\n",
    "nlp = spacy.load('en_core_web_lg')\n",
    "\n",
    "# need nlp and model\n",
    "def sum_vec(text):\n",
    "    doc = nlp(text)\n",
    "    sentences = [sent.text for sent in doc.sents]\n",
    "    comment_vec = model.encode(sentences)\n",
    "    return np.sum(comment_vec, axis = 0)\n",
    "\n",
    "from tqdm import tqdm, tqdm_pandas, tqdm_notebook\n",
    "tqdm.pandas()\n",
    "\n",
    "nosleep2020.loc[:,'sum_vec'] = nosleep2020.progress_apply(lambda x: sum_vec(x['selftext']), axis=1)\n",
    "nosleep2020.to_pickle('./pickles/new/creepy(nosleep2020).pickle')\n",
    "\n",
    "confessions2020.loc[:,'sum_vec'] = confessions2020.progress_apply(lambda x: sum_vec(x['selftext']), axis=1)\n",
    "confessions2020.to_pickle('./pickles/new/non-creepy(confessions2020).pickle')"
   ]
  },
  {
   "cell_type": "markdown",
   "metadata": {},
   "source": [
    "# Create lc for nosleep and confessions"
   ]
  },
  {
   "cell_type": "markdown",
   "metadata": {},
   "source": [
    "Start from here. No need to run previous cells again."
   ]
  },
  {
   "cell_type": "code",
   "execution_count": 58,
   "metadata": {},
   "outputs": [],
   "source": [
    "import pandas as pd\n",
    "creepy = pd.read_pickle('./pickles/new/creepy(nosleep2020).pickle')\n",
    "noncreepy = pd.read_pickle('./pickles/new/non-creepy(confessions2020).pickle')"
   ]
  },
  {
   "cell_type": "code",
   "execution_count": 59,
   "metadata": {},
   "outputs": [],
   "source": [
    "creepy_w_idx = creepy.reset_index(drop = True).reset_index()\n",
    "noncreepy_w_idx = noncreepy.reset_index(drop = True).reset_index()"
   ]
  },
  {
   "cell_type": "code",
   "execution_count": 60,
   "metadata": {},
   "outputs": [
    {
     "data": {
      "image/png": "[encoded data removed]",
      "text/plain": [
       "<Figure size 432x288 with 1 Axes>"
      ]
     },
     "metadata": {
      "needs_background": "light"
     },
     "output_type": "display_data"
    }
   ],
   "source": [
    "import matplotlib.pyplot as plt\n",
    "import numpy as np\n",
    "\n",
    "creepy_w_idx.plot(x = 'index', y = 'score')\n",
    "plt.show()"
   ]
  },
  {
   "cell_type": "code",
   "execution_count": 61,
   "metadata": {},
   "outputs": [
    {
     "data": {
      "image/png": "[encoded data removed]",
      "text/plain": [
       "<Figure size 432x288 with 1 Axes>"
      ]
     },
     "metadata": {
      "needs_background": "light"
     },
     "output_type": "display_data"
    }
   ],
   "source": [
    "noncreepy_w_idx.plot(x = 'index', y = 'score')\n",
    "plt.show()"
   ]
  },
  {
   "cell_type": "code",
   "execution_count": 72,
   "metadata": {},
   "outputs": [
    {
     "data": {
      "text/html": [
       "<div>\n",
       "<style scoped>\n",
       "    .dataframe tbody tr th:only-of-type {\n",
       "        vertical-align: middle;\n",
       "    }\n",
       "\n",
       "    .dataframe tbody tr th {\n",
       "        vertical-align: top;\n",
       "    }\n",
       "\n",
       "    .dataframe thead th {\n",
       "        text-align: right;\n",
       "    }\n",
       "</style>\n",
       "<table border=\"1\" class=\"dataframe\">\n",
       "  <thead>\n",
       "    <tr style=\"text-align: right;\">\n",
       "      <th></th>\n",
       "      <th>index</th>\n",
       "      <th>id</th>\n",
       "      <th>title</th>\n",
       "      <th>selftext</th>\n",
       "      <th>score</th>\n",
       "      <th>sum_vec</th>\n",
       "      <th>log_score</th>\n",
       "    </tr>\n",
       "  </thead>\n",
       "  <tbody>\n",
       "    <tr>\n",
       "      <th>0</th>\n",
       "      <td>0</td>\n",
       "      <td>gxsa0i</td>\n",
       "      <td>Do NOT Open Your Eyes... (Pt. 1)</td>\n",
       "      <td>This is the only rule of our household. If you...</td>\n",
       "      <td>1</td>\n",
       "      <td>[2.940986, -5.617336, 11.896912, -15.436118, -...</td>\n",
       "      <td>0.0</td>\n",
       "    </tr>\n",
       "    <tr>\n",
       "      <th>1</th>\n",
       "      <td>1</td>\n",
       "      <td>gxs6jf</td>\n",
       "      <td>Do NOT open your eyes. (The Beginning)</td>\n",
       "      <td>This is the only rule of our household. If you...</td>\n",
       "      <td>1</td>\n",
       "      <td>[2.940986, -5.617336, 11.896912, -15.436118, -...</td>\n",
       "      <td>0.0</td>\n",
       "    </tr>\n",
       "    <tr>\n",
       "      <th>2</th>\n",
       "      <td>2</td>\n",
       "      <td>gxrytp</td>\n",
       "      <td>My Best Friend Saw Bugs Under His Skin</td>\n",
       "      <td>It is hard for me to talk about my old friend ...</td>\n",
       "      <td>1</td>\n",
       "      <td>[-19.201273, -13.715499, 24.393753, -33.97739,...</td>\n",
       "      <td>0.0</td>\n",
       "    </tr>\n",
       "    <tr>\n",
       "      <th>3</th>\n",
       "      <td>3</td>\n",
       "      <td>gxrnj7</td>\n",
       "      <td>I picked up a hitchhiker by mistake, now he's ...</td>\n",
       "      <td>They say the devil is in the details.  Well th...</td>\n",
       "      <td>1</td>\n",
       "      <td>[-60.77887, -33.726135, 119.47121, -95.021385,...</td>\n",
       "      <td>0.0</td>\n",
       "    </tr>\n",
       "    <tr>\n",
       "      <th>4</th>\n",
       "      <td>4</td>\n",
       "      <td>gxrm8v</td>\n",
       "      <td>I'm tasked with killing nameless things out in...</td>\n",
       "      <td>“Any sign of ‘em yet?” \\n\\nI continued staring...</td>\n",
       "      <td>1</td>\n",
       "      <td>[-22.785084, 14.806147, 26.129469, -24.832222,...</td>\n",
       "      <td>0.0</td>\n",
       "    </tr>\n",
       "    <tr>\n",
       "      <th>...</th>\n",
       "      <td>...</td>\n",
       "      <td>...</td>\n",
       "      <td>...</td>\n",
       "      <td>...</td>\n",
       "      <td>...</td>\n",
       "      <td>...</td>\n",
       "      <td>...</td>\n",
       "    </tr>\n",
       "    <tr>\n",
       "      <th>15482</th>\n",
       "      <td>15482</td>\n",
       "      <td>eihp0m</td>\n",
       "      <td>Hylophobia</td>\n",
       "      <td>*There is no cure for trauma. Once it enters t...</td>\n",
       "      <td>1</td>\n",
       "      <td>[-51.169456, -5.836507, 70.7862, -111.05138, 7...</td>\n",
       "      <td>0.0</td>\n",
       "    </tr>\n",
       "    <tr>\n",
       "      <th>15483</th>\n",
       "      <td>15483</td>\n",
       "      <td>eihmg7</td>\n",
       "      <td>I adopted my late sisters orphaned child. This...</td>\n",
       "      <td>I knew Persephone would need time to adjust, b...</td>\n",
       "      <td>1</td>\n",
       "      <td>[-22.327501, -34.563572, 39.197514, -72.437645...</td>\n",
       "      <td>0.0</td>\n",
       "    </tr>\n",
       "    <tr>\n",
       "      <th>15484</th>\n",
       "      <td>15484</td>\n",
       "      <td>eihgtp</td>\n",
       "      <td>My first paranormal experience!!</td>\n",
       "      <td>This isnt much, but this is surely the first u...</td>\n",
       "      <td>1</td>\n",
       "      <td>[-4.7810946, 0.12821773, 2.941056, -3.949329, ...</td>\n",
       "      <td>0.0</td>\n",
       "    </tr>\n",
       "    <tr>\n",
       "      <th>15485</th>\n",
       "      <td>15485</td>\n",
       "      <td>eigzgj</td>\n",
       "      <td>I met the demon under my bed... Its not what I...</td>\n",
       "      <td>Okay. for context, this story started about a ...</td>\n",
       "      <td>1</td>\n",
       "      <td>[-1.7662485, -4.471965, 8.116567, -12.409156, ...</td>\n",
       "      <td>0.0</td>\n",
       "    </tr>\n",
       "    <tr>\n",
       "      <th>15486</th>\n",
       "      <td>15486</td>\n",
       "      <td>eiggxr</td>\n",
       "      <td>The Perfect Wife</td>\n",
       "      <td>&amp;amp;#x200B;\\n\\nI  was never able to find love...</td>\n",
       "      <td>1</td>\n",
       "      <td>[2.2265594, -10.923081, 8.348171, -10.28161, 0...</td>\n",
       "      <td>0.0</td>\n",
       "    </tr>\n",
       "  </tbody>\n",
       "</table>\n",
       "<p>15487 rows × 7 columns</p>\n",
       "</div>"
      ],
      "text/plain": [
       "       index      id                                              title  \\\n",
       "0          0  gxsa0i                   Do NOT Open Your Eyes... (Pt. 1)   \n",
       "1          1  gxs6jf             Do NOT open your eyes. (The Beginning)   \n",
       "2          2  gxrytp             My Best Friend Saw Bugs Under His Skin   \n",
       "3          3  gxrnj7  I picked up a hitchhiker by mistake, now he's ...   \n",
       "4          4  gxrm8v  I'm tasked with killing nameless things out in...   \n",
       "...      ...     ...                                                ...   \n",
       "15482  15482  eihp0m                                         Hylophobia   \n",
       "15483  15483  eihmg7  I adopted my late sisters orphaned child. This...   \n",
       "15484  15484  eihgtp                   My first paranormal experience!!   \n",
       "15485  15485  eigzgj  I met the demon under my bed... Its not what I...   \n",
       "15486  15486  eiggxr                                   The Perfect Wife   \n",
       "\n",
       "                                                selftext  score  \\\n",
       "0      This is the only rule of our household. If you...      1   \n",
       "1      This is the only rule of our household. If you...      1   \n",
       "2      It is hard for me to talk about my old friend ...      1   \n",
       "3      They say the devil is in the details.  Well th...      1   \n",
       "4      “Any sign of ‘em yet?” \\n\\nI continued staring...      1   \n",
       "...                                                  ...    ...   \n",
       "15482  *There is no cure for trauma. Once it enters t...      1   \n",
       "15483  I knew Persephone would need time to adjust, b...      1   \n",
       "15484  This isnt much, but this is surely the first u...      1   \n",
       "15485  Okay. for context, this story started about a ...      1   \n",
       "15486  &amp;#x200B;\\n\\nI  was never able to find love...      1   \n",
       "\n",
       "                                                 sum_vec  log_score  \n",
       "0      [2.940986, -5.617336, 11.896912, -15.436118, -...        0.0  \n",
       "1      [2.940986, -5.617336, 11.896912, -15.436118, -...        0.0  \n",
       "2      [-19.201273, -13.715499, 24.393753, -33.97739,...        0.0  \n",
       "3      [-60.77887, -33.726135, 119.47121, -95.021385,...        0.0  \n",
       "4      [-22.785084, 14.806147, 26.129469, -24.832222,...        0.0  \n",
       "...                                                  ...        ...  \n",
       "15482  [-51.169456, -5.836507, 70.7862, -111.05138, 7...        0.0  \n",
       "15483  [-22.327501, -34.563572, 39.197514, -72.437645...        0.0  \n",
       "15484  [-4.7810946, 0.12821773, 2.941056, -3.949329, ...        0.0  \n",
       "15485  [-1.7662485, -4.471965, 8.116567, -12.409156, ...        0.0  \n",
       "15486  [2.2265594, -10.923081, 8.348171, -10.28161, 0...        0.0  \n",
       "\n",
       "[15487 rows x 7 columns]"
      ]
     },
     "execution_count": 72,
     "metadata": {},
     "output_type": "execute_result"
    }
   ],
   "source": [
    "creepy_w_idx['log_score'] = np.ma.log(creepy_w_idx['score'].to_numpy()).filled(0.01)\n",
    "creepy_w_idx"
   ]
  },
  {
   "cell_type": "code",
   "execution_count": 74,
   "metadata": {},
   "outputs": [
    {
     "data": {
      "image/png": "[encoded data removed]",
      "text/plain": [
       "<Figure size 432x288 with 1 Axes>"
      ]
     },
     "metadata": {
      "needs_background": "light"
     },
     "output_type": "display_data"
    },
    {
     "data": {
      "image/png": "[encoded data removed]",
      "text/plain": [
       "<Figure size 432x288 with 1 Axes>"
      ]
     },
     "metadata": {
      "needs_background": "light"
     },
     "output_type": "display_data"
    }
   ],
   "source": [
    "creepy_w_idx.plot(x = 'index', y = ['score', 'log_score'])\n",
    "plt.show()\n",
    "\n",
    "creepy_w_idx.plot(x = 'index', y = ['score', 'log_score'])\n",
    "plt.ylim([0,1])\n",
    "plt.show()"
   ]
  },
  {
   "cell_type": "code",
   "execution_count": null,
   "metadata": {},
   "outputs": [],
   "source": [
    "fig = plt.figure()\n",
    "\n",
    "for frame in [newdf, newdf2, newdf3, newdf4, newdf5]:\n",
    "    plt.plot(frame['Time'], frame['Data'])\n",
    "\n",
    "plt.xlim(0,18000)\n",
    "plt.ylim(0,30)\n",
    "plt.show()"
   ]
  }
 ],
 "metadata": {
  "kernelspec": {
   "display_name": "creepyvenv",
   "language": "python",
   "name": "creepyvenv"
  },
  "language_info": {
   "codemirror_mode": {
    "name": "ipython",
    "version": 3
   },
   "file_extension": ".py",
   "mimetype": "text/x-python",
   "name": "python",
   "nbconvert_exporter": "python",
   "pygments_lexer": "ipython3",
   "version": "3.8.3"
  }
 },
 "nbformat": 4,
 "nbformat_minor": 4
}
