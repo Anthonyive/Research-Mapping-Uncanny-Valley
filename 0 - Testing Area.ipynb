{
 "cells": [
  {
   "cell_type": "code",
   "execution_count": 1,
   "metadata": {},
   "outputs": [
    {
     "name": "stdout",
     "output_type": "stream",
     "text": [
      "\n",
      "\n",
      "======================\n",
      "\n",
      "\n",
      "Query: A cheetah chases prey on across a field.\n",
      "\n",
      "Top 5 most similar sentences in corpus:\n",
      "I feel creepy. (Score: 0.0888)\n",
      "I feel terrifying. (Score: 0.0292)\n",
      "I feel frightening. (Score: 0.0197)\n",
      "I feel chilling. (Score: -0.0419)\n",
      "I feel scaried. (Score: -0.0801)\n",
      "\n",
      "\n",
      "======================\n",
      "\n",
      "\n",
      "Query: A horrible curse befell my girlfriend and now she can only eat human meat.\n",
      "\n",
      "Top 5 most similar sentences in corpus:\n",
      "I feel terrifying. (Score: 0.2653)\n",
      "I feel scaried. (Score: 0.1889)\n",
      "I feel creepy. (Score: 0.1667)\n",
      "I feel frightening. (Score: 0.1488)\n",
      "I feel chilling. (Score: 0.0610)\n",
      "\n",
      "\n",
      "======================\n",
      "\n",
      "\n",
      "Query: Apple tress can grow as tall as 20 feet.\n",
      "\n",
      "Top 5 most similar sentences in corpus:\n",
      "I feel frightening. (Score: -0.0347)\n",
      "I feel terrifying. (Score: -0.0469)\n",
      "I feel scaried. (Score: -0.0677)\n",
      "I feel chilling. (Score: -0.0813)\n",
      "I feel creepy. (Score: -0.1176)\n"
     ]
    }
   ],
   "source": [
    "\"\"\"\n",
    "This is a simple application for sentence embeddings: semantic search\n",
    "\n",
    "We have a corpus with various sentences. Then, for a given query sentence,\n",
    "we want to find the most similar sentence in this corpus.\n",
    "\n",
    "This script outputs for various queries the top 5 most similar sentences in the corpus.\n",
    "\"\"\"\n",
    "from sentence_transformers import SentenceTransformer, util\n",
    "import torch\n",
    "\n",
    "embedder = SentenceTransformer('distilbert-base-nli-stsb-mean-tokens')\n",
    "\n",
    "# Corpus with example sentences\n",
    "corpus = ['I feel creepy.',\n",
    "          'I feel scaried.',\n",
    "          'I feel chilling.',\n",
    "          'I feel terrifying.',\n",
    "          'I feel frightening.'\n",
    "          ]\n",
    "corpus_embeddings = embedder.encode(corpus, convert_to_tensor=True)\n",
    "\n",
    "# Query sentences:\n",
    "queries = ['A cheetah chases prey on across a field.', 'A horrible curse befell my girlfriend and now she can only eat human meat.', \"Apple tress can grow as tall as 20 feet.\"]\n",
    "\n",
    "\n",
    "# Find the closest 5 sentences of the corpus for each query sentence based on cosine similarity\n",
    "top_k = 5\n",
    "for query in queries:\n",
    "    query_embedding = embedder.encode(query, convert_to_tensor=True)\n",
    "    cos_scores = util.pytorch_cos_sim(query_embedding, corpus_embeddings)[0]\n",
    "    cos_scores = cos_scores.cpu()\n",
    "\n",
    "    #We use torch.topk to find the highest 5 scores\n",
    "    top_results = torch.topk(cos_scores, k=top_k)\n",
    "\n",
    "    print(\"\\n\\n======================\\n\\n\")\n",
    "    print(\"Query:\", query)\n",
    "    print(\"\\nTop 5 most similar sentences in corpus:\")\n",
    "\n",
    "    for score, idx in zip(top_results[0], top_results[1]):\n",
    "        print(corpus[idx], \"(Score: %.4f)\" % (score))"
   ]
  },
  {
   "cell_type": "code",
   "execution_count": 2,
   "metadata": {},
   "outputs": [],
   "source": [
    "import tensorflow as tf\n",
    "import pandas as pd\n",
    "import numpy as np\n",
    "import spacy\n",
    "from sentence_transformers import SentenceTransformer\n",
    "embedder = SentenceTransformer('distilbert-base-nli-stsb-mean-tokens')\n",
    "from tensorflow import keras"
   ]
  },
  {
   "cell_type": "code",
   "execution_count": null,
   "metadata": {},
   "outputs": [],
   "source": [
    "def clean_data(csv_in):\n",
    "    csv_read = pd.read_csv(csv_in)\n",
    "\n",
    "    # extract columns we want\n",
    "    csv = csv_read[['id', 'title', 'selftext', 'score']]\n",
    "    \n",
    "    # drop removed, deleted, and nas\n",
    "    csv = csv[csv.selftext != '[removed]']\n",
    "    csv = csv[csv.selftext != '[deleted]']\n",
    "    csv.dropna(subset = [\"selftext\"], inplace=True)\n",
    "    \n",
    "    # remove urls in text\n",
    "    def remove_urls(row):        \n",
    "        import re\n",
    "        '''\n",
    "        This insane regex is written by kerim from here:\n",
    "        https://stackoverflow.com/questions/14081050/remove-all-forms-of-urls-from-a-given-string-in-python\n",
    "        '''\n",
    "        row = re.sub(r'''(?i)\\b((?:https?://|www\\d{0,3}[.]|[a-z0-9.\\-]+[.][a-z]{2,4}/)(?:[^\\s()<>]+|\\(([^\\s()<>]+|(\\([^\\s()<>]+\\)))*\\))+(?:\\(([^\\s()<>]+|(\\([^\\s()<>]+\\)))*\\)|[^\\s`!()\\[\\]{};:'\".,<>?«»“”‘’]))''', '', row, flags=re.MULTILINE)\n",
    "        \n",
    "        return row\n",
    "        \n",
    "    csv.selftext = csv.selftext.apply(remove_urls)\n",
    "    \n",
    "    # clean html, something like &amp;\n",
    "    def clean_html(row):\n",
    "        from bs4 import BeautifulSoup\n",
    "        from html import unescape\n",
    "\n",
    "        soup = BeautifulSoup(unescape(row), 'lxml')\n",
    "        return soup.text\n",
    "    \n",
    "    csv.selftext = csv.selftext.apply(clean_html)\n",
    "        \n",
    "    return csv\n",
    "\n",
    "nosleep2020 = clean_data('./Creepy Data/NoSleep/NoSleep/RS_2020_nosleep.csv')"
   ]
  },
  {
   "cell_type": "code",
   "execution_count": 88,
   "metadata": {},
   "outputs": [
    {
     "data": {
      "text/plain": [
       "id                                                     gxk0ml\n",
       "title                                  Half Rock cave part 2.\n",
       "selftext    [Part 1]()\\n\\n*\"Jaaaaacckkk…\"*\\n\\n\"Demetri?\" I...\n",
       "score                                                       1\n",
       "Name: 61, dtype: object"
      ]
     },
     "execution_count": 88,
     "metadata": {},
     "output_type": "execute_result"
    }
   ],
   "source": [
    "nosleep2020.iloc[45,:]"
   ]
  },
  {
   "cell_type": "code",
   "execution_count": 89,
   "metadata": {},
   "outputs": [
    {
     "data": {
      "text/plain": [
       "'[Part 1]()\\n\\n*\"Jaaaaacckkk…\"*\\n\\n\"Demetri?\" I grabbed his shoulders and shook him, \"Did you-\"\\n\\n*\"Jaaahhh.\"* The low whisper came to my ears again.\\n\\n\"Who\\'s there?…\"\\n\\nI strained my eyes, but the darkness was so thick I could feel it pooling into the pores of my skin. I felt along the floor and found a stone, then pitched it into the cave. \\n\\nIt clattered into the wall with a clang then skid across the stone floor. I breathed shallow and sharp, my skin raising in peaks. I wanted to run screaming out into the water. \\n\\n\"Calm down Ryder. It\\'s just an empty cave, nothing to be afraid of.\" Another whistling gust of wind rushed past me, carrying with it the smell of decay. I turned to shield myself from the foulness and saw a faint green light outside. A glowstick! \\n\\nI reached out and put a hand on Demetri, who groaned. \\n\\n\"Just hold on, I\\'m going to get us some light, buddy.\" \\n\\n I stood and pressed my back against the cave wall, then sidestepped into the current. The flooding had increased and was still growing. The canoe was now nearly underwater. I waded out in the hip-deep water using the tree that had become wedged for balance. The green glow was coming from under the boat. As I reached it, I traced my fingers along the side until I found the fishing line, then used it to pull the glow stick toward me. Light at last, albeit dim, it meant the world to me. In the glow, I noticed dad\\'s fishing pole still strapped into the canoe. I couldn\\'t leave it behind. It was one of the last things I had of his. \\n\\nMom had sold or donated the rest because she claimed it was too painful to keep them. To me, though, it was a reminder of all the good times we shared. It was him lifting me onto his broad shoulders and lending me his polarized glasses to see the fish swimming around the dock. \\n\\nI stuffed the glowstick in my pocket. Then grabbed the strap holding the pole and pulled. The canoe pitched downward, the rushing water caught the lip and did the rest. The pole ripped from my hands as the boat vanished downstream.\\n\\n\"Dammit!\" I roared into the storm, punching the water around me. You took him already, now this?\" Tears squeezed between my eyelids as I held my face to the violent sky. \"I miss him, why did he have to go?\"\\n\\nLightning crackled, and thunder rumbled, like God\\'s voice in the clouds, warning me not to push anymore. \\n\\n I sniffed, then wiped my eyes. Demetri still needed my help. The water rose my stomach when I crossed to the cave again. I retrieved the glowstick from my pocket and held it out as I entered. The dim light cast long shadows of rocks onto the walls as I moved forward. I wasn’t sure how far I had pulled Demetri in, but after twenty paces, I was certain I hadn\\'t dragged him that far. I held the green light above my head and wheeled looking all around, but Demetri was gone. \\n\\n\"Demetri, Demetri?!\" -E, E, E…- The echo mocked back.\\n\\n Maybe he had regained consciousness and stumbled out into the water, but I would have seen that. There was a clack like a rock dropping from somewhere further in the cave.\\n\\n\"Demetri?\" I held the light up, there was a small dark blob on the floor, a few yards in front of me. I walked forward and knelt, it was a wet sock, Demetri\\'s sock. \\n\\n\"No, hell no,\" I screamed into the darkness. \"You hear me? I\\'m not going in after you, Dem? You bring your ass back here right now!\" I sat quietly, water droplets squeezed between my fingers, turning the sandstone on which they landed, to a darker hue. There was no response and Demetri wasn\\'t coming back. He had wandered off with a concussion at least, and a skull fracture more likely. He could fall into a hole, killing himself, and that would be my fault if I didn’t go after him. I crushed the sock and threw it into the wall with a plop. I could follow his wet footprints if I hurried. \\n\\n\"You\\'ll owe me for this, you asshole!\"\\n\\n \\\\-ole, ole, ole.-\\n\\n I crawled forward near the floor, tracing his steps. I followed a shaft up, then down. I went around a bend, and then another. A cold realization welled inside of my stomach by the time I stopped. How far had I gone, and more importantly, could I remember the way back? Sure my soaked jeans had made some tracks, but would they remain until I found him?\\n\\nI scowled, “why did he have to fucking wake up while I was getting the light!”\\n\\n I saw the next track ahead several feet, I had already come this far. Demetri, in his slowed state, couldn\\'t possibly be much further.\\n\\n I shivered, from panic or wet clothing I\\'m not quite sure, then went back to crawling. I came into a large cavern where the footprints stopped. I searched in a semi-circle, starting from the left wall, then working my way back to the right. As I reached the wall on the right, I saw the smear mark. A handprint on the wall from which red lines dragged in a downward arc. A crimson rainbow of blood that made my throat seize when I tried to swallow. There was more on the floor, a bloody skid-mark a yard long. \\n\\n\"Oh no, no, no,\" I whispered. \\n\\nThere was a movement in the dark, beyond the dim aura of the glow stick, a skittering sound, followed by dead silence. \\n\\nMy heart pounded in my chest and temples as I waved the light through the stagnant air. I turned to trace my own prints back. \\n\\n\"I\\'m sorry I\\'m so sorry,\" I whispered. I ducked back into the shaft in the wall, fully intent on leaving my friend. Then a low delirious moan broke the silence from somewhere deeper in the cave. \\n\\n\"He\\'s alive, oh God, he\\'s alive.\" Hope that had vanished along with him came flooding back, in sharp, almost painful waves.\\n\\n“Ry- Ryder!” -er, er,er.- “Ryder, where are you?” -ou, ou,ou.-\\n\\n\"I\\'m coming, Dem!\" \\n\\nI followed the smear along the floor until it jogged toward the center of the room. I crouched and walked low to the ground, holding the light in front of me until the ceiling\\'s pitch changed so drastically I had to crawl to continue. \\n\\n\"I, I can\\'t see anything!\" His voice was shrill and panicked.\\n\\n\"Hang tight, buddy. It\\'s just dark. I\\'m bringing a light,\" I responded, dust puffing off the floor with each word.\\n\\n I could make out another passage through a cramped hole in front of me. Fresh and dried blood marked the tiny crawl space. I hoped I was going the right way, and not following an injured animal seeking shelter from the flood. I didn’t know what I would do if I came face to face with a cougar that was bleeding and scared.\\n\\n“Oh fuck me,” I whined as I dragged my stomach on the floor. The blood, soaked through my shirt and onto my chest creating a mop like suction dragging against the stone. With a grunt, I toppled into another shaft onto something wet. I picked myself up, and panting looked around. I had dropped from the hole at the T intersection of a steep tunnel. To the right 30 feet, water trickled in from a vertical shaft soaking the stone in its path. Two yards to the left, the floor dropped away in a gorge. The water dribbled off the edge into the abyss, but I couldn\\'t hear it hit bottom. If I slipped, no one would find my body. I braced myself against the wall and walked up the incline stopping at the pattering water. \\n\\n\"Dem, where you at man?\" I hollered in front of me.\\n\\n\"Uhhh, Ry, I don\\'t feel so good.\" There was some dull clattering as he repositioned, he wasn\\'t much further. I looked around, getting my barrings, the shaft opened up into another room. This one was covered in stalagmites and rock formations. My light did little, casting a glow of about 10 feet in diameter, just enough to see the next obstacle as I walked over the uneven floor. \\n\\n*\"Jaaack, so hungry, Jahhhh…\"*\\n\\nI turned in the direction the whisper had come. But the darkness kept its secrets.\\n\\n\"Dem! Did you say something?\" I shouted, my eyes scanning the edge of my light.\\n\\nFrom behind me, more rocks fell, followed by what sounded like a thin snicker. I spun and crouched as I listened. \\n\\nBut all was quiet. \\n\\n\"Dem, say something dammit!\" \\n\\n\"Ryder, my head, it hurts.\" He sounded like he was maybe 50 feet across the room I was in, but still muted in some way. \\n\\nI trekked over rocks, calling to him until I realized why he still sounded muffled.\\n\\n\"Over here Ry, I can see the light.\"\\n\\n I rushed to a formation of stalagmites creating a wall between him and me. I peered through the rock bars. He was lying down, his hand, covering his injured eye. Blood smeared down his face from a fresh gash in his eyebrow. \\n\\n\"Dem!\" He crawled, clattering through something on the floor. I shoved my arm through the spaces between the rocks. \\n\\n\"Ryder what happened, where are we?\"\\n\\n\"Half rock cave, you got hurt.\" I grabbed his hand as he struggled up the wall and stood. \"I\\'ll explain everything we just need to get you out of there first.\" \\n\\n\"Ry, there is stuff on the ground in here, give me the light for a minute.\" I handed him the light. \\n\\n\"What the fuck?\" he whispered. \"Oh fuck, get me out of here, man.\" \\n\\n\"What is it?\" I pulled my head closer to the wall straining to see.\\n\\n\"It- it\\'s bones, man, lots of bones. I can\\'t see the floor there are so many.\" He picked one up and handed it to me through the stalagmites. It was a deer leg judging from the size and shape, but it was too rough.\\n\\n\"Dem, hold the light up.\" He held it up, and I examined the leg. There were crisscrossed notches all over it like someone had taken a hack saw and cut divots on its entirety. I ran my fingers down the bone examining the lines until something jabbed me.\\n\\n\"Ouch, the damn thing is sharp!\" I shook my hand, a drop of crimson splashed on the stalagmite wall. I sucked my finger, looking for what had nicked my finger. My eyes widened, there was a needle-shaped serrated tooth lodged in the joint; a tooth that was the same size as the lines. \"What the fu-\"\\n\\n\"Ry, somethings moving around in here man!\" Dem withdrew the light and started to scream.\\n\\n My blood ran cold. I scrambled along the wall pressing my body into the spaces between the stalagmites trying desperately to get to Demetri. But without the glowstick, I had to grope blindly. \\n\\n\"Ahhhhh! Ahhhhhhhhh! Help Ryder help me. Stay back you shit!\"  \\n\\nI shoved my arm through a crack then pressed my body into it, I fit!\\n\\nI toppled into the room, displacing bones as I landed. Demetri had dropped the glow stick and was swinging wildly around him with the skull of some kind of animal. Bones crunched and ground together as I stood awkwardly on thousands of corpses. \\n\\n*\"Jaaaaa, sooooo, hungry Jaaaaccckkk,\"* something hissed. \\n\\nI swung the leg bone that I was still holding. Bones clattered as something jumped back.\\n\\n*\"Reeeeeeeeeekkkkkkkkkk,\"* The ear-piercing shriek reverberated in the cavern, at first it was just one, then a dozen, then hundreds of shrill voices, screaming at us. \\n\\n \"Dem, over here,\" I screamed over the hideous cry. I swung again at movement nearby. The leg bone whacked with a dull thud, cranking my wrists back as it did. There was a hiss followed by sucking roar sound. \\n\\nDem scooped up the glow stick, still swinging the skull and charged by the stalagmites towards me. I maneuvered the bone, ripping it like a bat through the dank air. I didn\\'t hit anything, but I caught a glimpse of a gray shape dodging away. Then it vanished again into the darkness. \\n\\nDemetri stumbled into my shoulder. \\n\\n\"Through here!\" I thrust my finger at the hole.\\n\\n\"What the fuck are they?\" He screamed in my face.\\n\\n\"I don\\'t fucking know, move!\"\\n\\n*\"Jack, we\\'re hungry Jaaaaaeeeeyaahhhhhhhhkkk.\"*\\n\\nDemetri jumped through the hole, taking the light with him. I swung again, and for a moment, as the light faded away. I saw hundreds of black eyes shimmering, and under those eyes were rows of splinter like teeth gnawing the air in anticipation. \\n\\n\"Stay back!\" I pressed my back to the Stalagmite wall, my breath coming in ragged gasps. \\n\\nThe light flashed back through the hole, and I dove headlong at the gap as small vice-like hands tore into me. Demetri hooked his arms under my shoulders and pulled. I felt a searing pain as claws ripped into my waist and dragged down my leg to the ankle. With a yank, Demetri pulled me through the hole, my pants tearing off in the process. We landed in a pile, and I rolled off of him, blood oozing from my legs in lines. My pants disappeared back through the hole. Fabric shredded, as the things chattered angrily on the other side. \\n\\n\"Dem, they got my legs, help me up.\" I winced as I stood, but found I could still walk.  \\n\\n\"Hold onto me, and I\\'ll help you walk,\" Demetri said. \" Please tell me you know how to get the hell out of here.\"  \\n\\n\"Go towards the dripping water.\"\\n\\nWe hobbled together toward the faint pattering. Demetri held the bone while supporting me, and I held the light. \\n\\nClaws scraped against sandstone as the things clambered through the wall in droves and circled, cutting us off. They chattered in high pitched whines and screeches. The pungent stench of death followed them, like a bloated animal\\'s guts had erupted, showering the surroundings in rot. My stomach turned, and I felt bile rise into my mouth. I spat, then heard snarling where it landed. There were high pitched screeches as they tore into each other. We bolted toward the dripping sound while they were distracted. As we reached the dripping water, I remembered the slick floor leading down.\\n\\n\"Wait, we\\'ll fall!\" I skidded to a halt just before we reached the decline into the next tunnel. “We have to go slow, it drops off at the end!” I realized then that the light in my hands was so slight I was having a hard time even seeing Demetri. \\n\\n\"How much further?\" He asked breathlessly.\\n\\n\"Too far, I whispered.\" \\n\\n\"What!?\" \\n\\n\"It’s too far!\"\\n\\nHe looked at me, stunned. \\n\\n I knew we would never make it. \\n\\n\"I, I don\\'t want to die.\" The tears welled up in his eyes. One was so puffy and crusted with blood it was almost completely shut. \"My mom and sister won\\'t make it without me. My dad, he\\'ll find them.\" \\n\\nClaws raked the floor, and a gray maw chomped down near my ear, making a chilling snick. My body tensed instinctively, pain spiking in my seeping wounds. I was holding us back, and I was practically a blood beacon to the things.\\n\\n There was a profound calmness that came over me as I realized what I needed to do. Either we would both die here, ripped apart, our bones becoming chew toys for the devils. Or one of us could take the light and have a chance. \\n\\n\"Dem, when you get back, tell my mom- tell her I\\'m sorry I lied and I love her.\" \\n\\n\"What the hell do you mean?\" He grabbed my shoulders.\\n\\n\"I mean, I\\'m going to make a run for it, you follow after. Take it slow, though, there is a hole in the wall on the left. Get through it while they are distracted with me. Follow the tunnels until you get into the main chamber. After that, listen for the river, follow it out.\"\\n\\n\"No! No fucking way, we both get out!\"\\n\\n\"We can\\'t, and there isn\\'t time to argue.\" The shrieking started again, one loud and near our feet, then hundreds. My head rattled like it was inside a subwoofer from the reverberating sound. \\n\\nI pivoted, holding the light at arm\\'s length in an attempt to keep them at bay. Something cold hit me like a club, I screamed as exquisite pain blazed through my hand. \\n\\n\"Gahh, my finger!\" I brought the hand to my chest, glowing fluid leaked from the glowstick coalescing with the blood spurting from the place my forefinger used to be. I turned the tube upside down, pouring the liquid into my other hand, then smeared it on Demetri before he could react. \\n\\n\"No, Ryder, don\\'t do this man, don\\'t!\" I poured the last bit out into my hands and knelt, tossing the tube behind me on the floor. I rubbed it on his feet and legs as he tried to pull me up. \\n\\n\"I love you like a brother,\" I said as I stood. \"Take care of our moms.\" I stepped into the darkness, ready to run for the chasm lurking at the end of the slope. I trembled with adrenalin, even my cuts no longer burned so badly.\\n\\n\"No! Ryder!\"\\n\\n\"Ahhhhhhhhh!\" I screamed, The shrieking things spun around me, ramming my legs in bursts of pain. I began my charge, then from above, a dazzling white light flashed, charring the stone floor and throwing Demetri and me backward. The water on the floor vaporized instantly into steam. A subsidiary thunderclap exploded like dynamite in the room. Ozone blanketed the smell of death, and all around me, teeth and claws began ravaging into the closest flesh. They had gone berserk, turning the room into a living garbage disposal composed of gnashing rage. I stood reeling from the impact of the lightning.\\n\\n\"Up there!\" Demetri yelled as he grabbed me and lifted me onto his shoulder. I don\\'t know how he did it. Maybe the same adrenalin rush I had experienced was now coursing his blood. He ran forward and boosted me into the vertical shaft. I braced myself against the walls (still hot from electricity) and used my legs to stay in place. I spidered another couple feet upward before I found a small recess big enough to turn around in. Then I knelt suspending myself over the hole like a human pulley system and shoved my arm down the shaft into the room. \\n\\n\"Grab my hand Dem!\"\\n\\n \"Ryder,\" he screamed from below, then went quiet.\\n\\n \"Demetri! Demetri, grab my fucking hand!\"\\n\\nI kept it extended for a long time, then tears filled my eyes. The rain mingled with my tears, blurring my vision until the only thing I could see was the outline of my glowing palm in the darkness. \\n\\nSuddenly my arm dug into the wall as weight pulled downward. I lifted hard, Demetri\\'s glowing form ascending from out of the dark hole. He shoved his knee into the wall and then began lifting himself.\\n\\n\"Oh, Thank you… thank you, thank you, God, thank you!\" I cried, holding my glowing friend.\\n\\n\"I slipped.\" He said, blinking his uninjured eye. \"They almost got me when they were taring each other to shit, but I saw your hand. That\\'s the only reason I knew where to go.\" \\n\\nWe climbed out of the shaft, squeezing through roots and loose dirt for the last few feet. Then collapsed on the ground with the storm clearing overhead. \\n\\nThe first lights of day broke through the clouds like a flashlight through an afghan blanket. The light hurt my eyes, but it was the best pain I had ever felt. We had surfaced above the flood line, on top of a hill, overlooking the Niangua moving swiftly below.\\n\\n \\n\\nIt took us several hours on foot to find our way back home through the woods. By the time we arrived at my house, there was a sheriff parked in the driveway. My mom rushed to me and held me close sobbing.\\n\\n“You’re alive, Oh Jesus you’re alive.” She pushed me to arm\\'s length and looked me over. “Your finger!” \\n\\n“I’m OK mom, it’s OK,” I soothed. “It’s just  missing the first knuckle, it will heal.”\\n\\n “Where are your pants?” she said in broken gasps.\\n\\n“Blackberry vines pulled them off in the flood.” I lied again, feeling sick.\\n\\n She then called Demetri\\'s mom and an ambulance for both of us. Demetri\\'s mom pulled in the drive 10 minutes later with his sister.  \\n\\nI smiled at his sister and waved a bandaged hand at her from the ambulance. She blushed and then got back into the car. Demetri\\'s mom gave him a ride to the hospital (refusing the ambulance.) But before he loaded up with his mom, he ran back over to me.\\n\\n\"Hey, man.\" He looked around nervously.\\n\\n\"Hey,\" I replied. \\n\\n\"We should probably keep this on the down-low, with all the shit I\\'m in.\"\\n\\nI nodded, looking at my mom. She was talking with the sheriff. \"Yeah, I probably won\\'t be seeing you for a while, but when all this stuff settles, we need to make sure those things don\\'t get free. They could hurt someone else.\" I said.\\n\\n\"No one will believe us,\" he said grimly.\\n\\n\"I know, that\\'s why it\\'s up to you and me.\" \\n\\nHe nodded. \"Hey, thanks, I\\'d be dead if you hadn\\'t come looking for me.\"\\n\\nA pang of guilt rushed over me, and I looked down.\\n\\n \"We\\'d both be if it weren\\'t for you, Dem.\" \\n\\n\"Come on, Demetri!\" His mom propped her hands on her hips. \"You got a whole load of laundry to do, and dishes, oh and dinner to make too when we get home from the hospital.\"\\n\\n\"Gotta roll, man, I\\'ll see you around, we\\'ll figure out a way to take care of the problem,” he said.\\n\\n\"See ya,\" I said.\\n\\nHe turned to leave, then stopped. “Brothers for life.\"\\n\\n\"Yeah man, brothers.\" He clasped my good hand, and hugged me, then jogged back to his car.   \\n\\n  I was grounded for the remainder of the summer. Systematically my things began disappearing. First, it was my bike, then the other poles from the shed, my football, anything I left in the yard. When I asked mom about it, she told me I needed to keep better track of my things, and it was no one\\'s fault but my own that they were gone. I suspected she was still pissed and was donating my stuff like she had my dad\\'s.\\n\\n My only respite was the library where I could access the Internet when mom went shopping in town. I couldn\\'t find anything about the gray monsters in the cave. And to this day, I\\'m not sure what they were. I do know that when I finally was released from my summer-long prison sentence. I went back to Mr. Sticks\\' store. The lady behind the counter told me that he had decided to move, but that he had left something for a Ryder Kuhn, in the back.\\n\\nThat was me, so I waited. I tapped what was left of my finger on the countertop, not knowing what to expect.\\n\\n What she brought to me set my teeth on edge. It was my dad\\'s fishing pole and a brown bag. Inside the bag, was a glow stick, well part of one anyway, and a note.  \\n\\n I unfolded the halved paper and read.\\n\\n*\"Hey kiddo, I found this stuff where you shouldn\\'t have been. You knew better, but you went in anyway. They liked what you lost.\"* \\n\\nI looked down at my short pointer finger, chills bursting in my spine, then continued to read.\\n\\n*\"So much so in fact, that they kept venturing out and getting things of yours to bring back with them. It was only a matter of time before they\\'d have brought you back. I put a stop to it, for now anyway. I have relocated them, but from here on, you should be careful at night. I\\'m giving you back the important stuff. But the rest of your belongings have to stay with me for a while. Go on and have an ice cream on the house. -Mr. Stick.\"*\\n\\nI folded the paper and must have turned white as a ghost because the lady asked if I was alright, I just nodded. \\n\\n\"Mr. Stick told me I could have an ice cream on the house.\" I showed her the note (keeping everything but the ice-cream part hidden.) She handed me the ice cream with a frown and told me that it was the last freebie I\\'d get. I left with my dad\\'s pole tucked under my arm, licking the melted vanilla from my fingers.\\n\\nI didn\\'t see Demetri until school started. He told me a similar story, things of his had disappeared. That one morning in place of his baseball mitt, he had found an old book on his front porch. The book was titled Energies and Entities and held some very interesting ideas about the area we lived, or rather shared. That book leads to my next tale; a tale that perhaps is better suited for another time. \\n\\nAnd now, dear reader, I must take my leave. The package that was delivered to me from Demetri last week needs my attention. Be safe friends, and always carry a light in the dark.'"
      ]
     },
     "execution_count": 89,
     "metadata": {},
     "output_type": "execute_result"
    }
   ],
   "source": [
    "import re\n",
    "text = nosleep2020.iloc[45,:].selftext\n",
    "re.sub(r'''(?i)\\b((?:https?://|www\\d{0,3}[.]|[a-z0-9.\\-]+[.][a-z]{2,4}/)(?:[^\\s()<>]+|\\(([^\\s()<>]+|(\\([^\\s()<>]+\\)))*\\))+(?:\\(([^\\s()<>]+|(\\([^\\s()<>]+\\)))*\\)|[^\\s`!()\\[\\]{};:'\".,<>?«»“”‘’]))''', '', text, flags=re.MULTILINE)"
   ]
  },
  {
   "cell_type": "code",
   "execution_count": 90,
   "metadata": {},
   "outputs": [],
   "source": [
    "nosleep2020.to_excel('test.xlsx')"
   ]
  },
  {
   "cell_type": "code",
   "execution_count": 7,
   "metadata": {},
   "outputs": [
    {
     "name": "stdout",
     "output_type": "stream",
     "text": [
      "0        This is the only rule of our household. If you...\n",
      "1        This is the only rule of our household. If you...\n",
      "3        It is hard for me to talk about my old friend ...\n",
      "5        They say the devil is in the details.  Well th...\n",
      "6        “Any sign of ‘em yet?” \\n\\nI continued staring...\n",
      "                               ...                        \n",
      "21218    *There is no cure for trauma. Once it enters t...\n",
      "21219    I knew Persephone would need time to adjust, b...\n",
      "21221    This isnt much, but this is surely the first u...\n",
      "21223    Okay. for context, this story started about a ...\n",
      "21225    ​\\n\\nI  was never able to find love...\n",
      "Name: selftext, Length: 15487, dtype: object\n"
     ]
    }
   ],
   "source": [
    "from bs4 import BeautifulSoup\n",
    "from html import unescape\n",
    "\n",
    "soup = BeautifulSoup(unescape(str(nosleep2020.selftext)), 'lxml')\n",
    "print(soup.text)"
   ]
  },
  {
   "cell_type": "code",
   "execution_count": 6,
   "metadata": {},
   "outputs": [
    {
     "ename": "OSError",
     "evalue": "[E050] Can't find model 'en_core_web_lg'. It doesn't seem to be a shortcut link, a Python package or a valid path to a data directory.",
     "output_type": "error",
     "traceback": [
      "\u001b[1;31m---------------------------------------------------------------------------\u001b[0m",
      "\u001b[1;31mOSError\u001b[0m                                   Traceback (most recent call last)",
      "\u001b[1;32m<ipython-input-6-28f7521b5cf5>\u001b[0m in \u001b[0;36m<module>\u001b[1;34m\u001b[0m\n\u001b[1;32m----> 1\u001b[1;33m \u001b[0mnlp\u001b[0m \u001b[1;33m=\u001b[0m \u001b[0mspacy\u001b[0m\u001b[1;33m.\u001b[0m\u001b[0mload\u001b[0m\u001b[1;33m(\u001b[0m\u001b[1;34m'en_core_web_lg'\u001b[0m\u001b[1;33m)\u001b[0m\u001b[1;33m\u001b[0m\u001b[1;33m\u001b[0m\u001b[0m\n\u001b[0m\u001b[0;32m      2\u001b[0m \u001b[0mdoc\u001b[0m \u001b[1;33m=\u001b[0m \u001b[0mnlp\u001b[0m\u001b[1;33m(\u001b[0m\u001b[0mcreepy\u001b[0m\u001b[1;33m.\u001b[0m\u001b[0mselftext\u001b[0m\u001b[1;33m[\u001b[0m\u001b[1;36m1\u001b[0m\u001b[1;33m]\u001b[0m\u001b[1;33m)\u001b[0m\u001b[1;33m\u001b[0m\u001b[1;33m\u001b[0m\u001b[0m\n",
      "\u001b[1;32m~\\Documents\\Research-Mapping-Uncanny-Valley\\.venv\\creepyvenv\\lib\\site-packages\\spacy\\__init__.py\u001b[0m in \u001b[0;36mload\u001b[1;34m(name, **overrides)\u001b[0m\n\u001b[0;32m     28\u001b[0m     \u001b[1;32mif\u001b[0m \u001b[0mdepr_path\u001b[0m \u001b[1;32mnot\u001b[0m \u001b[1;32min\u001b[0m \u001b[1;33m(\u001b[0m\u001b[1;32mTrue\u001b[0m\u001b[1;33m,\u001b[0m \u001b[1;32mFalse\u001b[0m\u001b[1;33m,\u001b[0m \u001b[1;32mNone\u001b[0m\u001b[1;33m)\u001b[0m\u001b[1;33m:\u001b[0m\u001b[1;33m\u001b[0m\u001b[1;33m\u001b[0m\u001b[0m\n\u001b[0;32m     29\u001b[0m         \u001b[0mwarnings\u001b[0m\u001b[1;33m.\u001b[0m\u001b[0mwarn\u001b[0m\u001b[1;33m(\u001b[0m\u001b[0mWarnings\u001b[0m\u001b[1;33m.\u001b[0m\u001b[0mW001\u001b[0m\u001b[1;33m.\u001b[0m\u001b[0mformat\u001b[0m\u001b[1;33m(\u001b[0m\u001b[0mpath\u001b[0m\u001b[1;33m=\u001b[0m\u001b[0mdepr_path\u001b[0m\u001b[1;33m)\u001b[0m\u001b[1;33m,\u001b[0m \u001b[0mDeprecationWarning\u001b[0m\u001b[1;33m)\u001b[0m\u001b[1;33m\u001b[0m\u001b[1;33m\u001b[0m\u001b[0m\n\u001b[1;32m---> 30\u001b[1;33m     \u001b[1;32mreturn\u001b[0m \u001b[0mutil\u001b[0m\u001b[1;33m.\u001b[0m\u001b[0mload_model\u001b[0m\u001b[1;33m(\u001b[0m\u001b[0mname\u001b[0m\u001b[1;33m,\u001b[0m \u001b[1;33m**\u001b[0m\u001b[0moverrides\u001b[0m\u001b[1;33m)\u001b[0m\u001b[1;33m\u001b[0m\u001b[1;33m\u001b[0m\u001b[0m\n\u001b[0m\u001b[0;32m     31\u001b[0m \u001b[1;33m\u001b[0m\u001b[0m\n\u001b[0;32m     32\u001b[0m \u001b[1;33m\u001b[0m\u001b[0m\n",
      "\u001b[1;32m~\\Documents\\Research-Mapping-Uncanny-Valley\\.venv\\creepyvenv\\lib\\site-packages\\spacy\\util.py\u001b[0m in \u001b[0;36mload_model\u001b[1;34m(name, **overrides)\u001b[0m\n\u001b[0;32m    173\u001b[0m     \u001b[1;32melif\u001b[0m \u001b[0mhasattr\u001b[0m\u001b[1;33m(\u001b[0m\u001b[0mname\u001b[0m\u001b[1;33m,\u001b[0m \u001b[1;34m\"exists\"\u001b[0m\u001b[1;33m)\u001b[0m\u001b[1;33m:\u001b[0m  \u001b[1;31m# Path or Path-like to model data\u001b[0m\u001b[1;33m\u001b[0m\u001b[1;33m\u001b[0m\u001b[0m\n\u001b[0;32m    174\u001b[0m         \u001b[1;32mreturn\u001b[0m \u001b[0mload_model_from_path\u001b[0m\u001b[1;33m(\u001b[0m\u001b[0mname\u001b[0m\u001b[1;33m,\u001b[0m \u001b[1;33m**\u001b[0m\u001b[0moverrides\u001b[0m\u001b[1;33m)\u001b[0m\u001b[1;33m\u001b[0m\u001b[1;33m\u001b[0m\u001b[0m\n\u001b[1;32m--> 175\u001b[1;33m     \u001b[1;32mraise\u001b[0m \u001b[0mIOError\u001b[0m\u001b[1;33m(\u001b[0m\u001b[0mErrors\u001b[0m\u001b[1;33m.\u001b[0m\u001b[0mE050\u001b[0m\u001b[1;33m.\u001b[0m\u001b[0mformat\u001b[0m\u001b[1;33m(\u001b[0m\u001b[0mname\u001b[0m\u001b[1;33m=\u001b[0m\u001b[0mname\u001b[0m\u001b[1;33m)\u001b[0m\u001b[1;33m)\u001b[0m\u001b[1;33m\u001b[0m\u001b[1;33m\u001b[0m\u001b[0m\n\u001b[0m\u001b[0;32m    176\u001b[0m \u001b[1;33m\u001b[0m\u001b[0m\n\u001b[0;32m    177\u001b[0m \u001b[1;33m\u001b[0m\u001b[0m\n",
      "\u001b[1;31mOSError\u001b[0m: [E050] Can't find model 'en_core_web_lg'. It doesn't seem to be a shortcut link, a Python package or a valid path to a data directory."
     ]
    }
   ],
   "source": [
    "nlp = spacy.load('en_core_web_lg')\n",
    "doc = nlp(creepy.selftext[1])"
   ]
  },
  {
   "cell_type": "code",
   "execution_count": 31,
   "metadata": {},
   "outputs": [],
   "source": [
    "for idx, sent in enumerate(doc.sents):\n",
    "    encoded_text = np.expand_dims(embedder.encode(sent.text), axis = 0)\n",
    "    if idx == 0:\n",
    "        x = encoded_text\n",
    "    else:\n",
    "        x = np.append(x, encoded_text, axis = 0)"
   ]
  },
  {
   "cell_type": "code",
   "execution_count": 3,
   "metadata": {},
   "outputs": [
    {
     "ename": "NameError",
     "evalue": "name 'x' is not defined",
     "output_type": "error",
     "traceback": [
      "\u001b[1;31m---------------------------------------------------------------------------\u001b[0m",
      "\u001b[1;31mNameError\u001b[0m                                 Traceback (most recent call last)",
      "\u001b[1;32m<ipython-input-3-6fcf9dfbd479>\u001b[0m in \u001b[0;36m<module>\u001b[1;34m\u001b[0m\n\u001b[1;32m----> 1\u001b[1;33m \u001b[0mx\u001b[0m\u001b[1;33m\u001b[0m\u001b[1;33m\u001b[0m\u001b[0m\n\u001b[0m",
      "\u001b[1;31mNameError\u001b[0m: name 'x' is not defined"
     ]
    }
   ],
   "source": [
    "x"
   ]
  },
  {
   "cell_type": "code",
   "execution_count": null,
   "metadata": {},
   "outputs": [],
   "source": [
    "model = keras.models.Sequential([\n",
    "    keras.layers.LSTM()\n",
    "])"
   ]
  },
  {
   "cell_type": "code",
   "execution_count": 34,
   "metadata": {},
   "outputs": [
    {
     "data": {
      "text/plain": [
       "<tf.Tensor: shape=(32, 10, 8), dtype=float32, numpy=\n",
       "array([[[-0.8919805 , -1.4307563 ,  0.15166256, ..., -1.7649478 ,\n",
       "         -1.021099  , -0.02627978],\n",
       "        [-1.4783181 ,  0.08943315,  0.17854673, ..., -0.19954081,\n",
       "          0.83018124, -0.5244327 ],\n",
       "        [ 0.4220114 ,  0.46339417, -0.79892176, ..., -0.19948697,\n",
       "          1.6006763 ,  1.775066  ],\n",
       "        ...,\n",
       "        [ 0.06492849, -1.7639278 , -0.27689138, ..., -0.0975803 ,\n",
       "         -0.55004656, -0.36803925],\n",
       "        [ 0.21676254,  0.46872047, -0.4581078 , ...,  0.57250595,\n",
       "          0.94552565,  0.69256175],\n",
       "        [-0.21706009,  1.0176384 , -0.29759172, ...,  0.10234821,\n",
       "         -0.7302468 , -0.10730033]],\n",
       "\n",
       "       [[ 0.70369136, -1.492371  , -0.00349201, ...,  0.27868918,\n",
       "          0.00752653, -1.2992821 ],\n",
       "        [-0.6542289 ,  1.655241  ,  0.5115025 , ...,  0.9593869 ,\n",
       "          0.02697794, -0.33769584],\n",
       "        [-0.6231138 ,  2.0751064 , -0.18052201, ..., -0.32436767,\n",
       "         -1.58487   ,  0.23079748],\n",
       "        ...,\n",
       "        [ 0.34623948, -0.6061341 ,  0.6046219 , ...,  0.59148204,\n",
       "          0.52786857,  1.0259186 ],\n",
       "        [ 1.4534197 , -0.48743206, -1.9399943 , ..., -1.383842  ,\n",
       "         -0.72536916,  0.08401131],\n",
       "        [ 0.12095169, -1.4706234 , -1.0866276 , ..., -0.13907197,\n",
       "          1.1877521 ,  0.88498414]],\n",
       "\n",
       "       [[ 1.5381111 ,  1.7943208 , -1.8118631 , ...,  0.51485467,\n",
       "         -1.5077109 ,  0.73991245],\n",
       "        [-0.12317562,  0.8019065 ,  0.23181851, ..., -1.8284345 ,\n",
       "          0.39918098, -0.42935404],\n",
       "        [ 0.5489498 ,  0.29058492, -0.7163982 , ..., -0.15996805,\n",
       "          0.7234546 ,  1.6929523 ],\n",
       "        ...,\n",
       "        [-1.5192128 , -0.6432286 ,  0.09102363, ...,  0.36311132,\n",
       "         -0.11855694,  0.26303554],\n",
       "        [ 1.5733589 , -0.48040214, -0.3102734 , ..., -0.7709761 ,\n",
       "          0.31788594, -0.41791776],\n",
       "        [-1.0632298 ,  0.73812604,  0.13090684, ..., -0.10609443,\n",
       "         -0.680478  ,  1.0416461 ]],\n",
       "\n",
       "       ...,\n",
       "\n",
       "       [[ 0.09556957,  1.3478434 ,  0.09041398, ...,  0.96595293,\n",
       "         -1.1162318 ,  0.66081053],\n",
       "        [ 1.5366329 , -0.53437346, -0.18271637, ..., -0.10972424,\n",
       "          0.84558105,  0.4825357 ],\n",
       "        [ 0.6946907 ,  1.0760901 , -0.6282669 , ..., -0.4771344 ,\n",
       "         -0.10791536,  0.6387555 ],\n",
       "        ...,\n",
       "        [-0.9492747 ,  1.0810653 , -0.5208035 , ...,  0.62055755,\n",
       "         -0.61695814,  0.8248391 ],\n",
       "        [ 1.0583895 ,  0.03736502, -0.5435381 , ...,  1.5400387 ,\n",
       "          0.03794611,  1.6306831 ],\n",
       "        [ 0.52607465,  1.0557736 ,  0.10045443, ...,  1.2906582 ,\n",
       "          0.34316638,  0.07289706]],\n",
       "\n",
       "       [[ 0.31008828, -0.48749736, -0.8629992 , ..., -0.72362596,\n",
       "          0.35882205,  0.3956305 ],\n",
       "        [ 0.34895587, -1.7468438 ,  0.44164196, ...,  2.2342968 ,\n",
       "          0.21330787, -0.7474117 ],\n",
       "        [-0.4820205 , -0.8684077 ,  0.81925076, ...,  0.2288416 ,\n",
       "          0.25693366,  2.1310766 ],\n",
       "        ...,\n",
       "        [-0.18733983, -0.0263906 , -1.1225334 , ...,  1.6538315 ,\n",
       "         -0.04926474,  1.3674538 ],\n",
       "        [-0.02061714, -0.86114126,  0.60299295, ...,  1.2489537 ,\n",
       "         -0.46712533,  0.14558421],\n",
       "        [-1.0051517 , -0.522422  , -0.8683605 , ..., -0.64168906,\n",
       "          1.2092884 , -1.0277344 ]],\n",
       "\n",
       "       [[ 0.6761186 , -0.40471044,  1.0049759 , ..., -0.989711  ,\n",
       "          0.19694547, -0.66273236],\n",
       "        [-0.80405515, -0.4514382 ,  2.2694142 , ..., -1.2888895 ,\n",
       "          0.49643135,  0.07977428],\n",
       "        [ 0.5526255 ,  0.24187207,  1.4495387 , ...,  0.9620111 ,\n",
       "         -2.2466807 ,  1.1059195 ],\n",
       "        ...,\n",
       "        [-0.8373081 , -0.25999016, -0.11890558, ..., -1.1348801 ,\n",
       "         -0.1783902 ,  0.613148  ],\n",
       "        [ 0.7638512 ,  0.36922157,  0.82043165, ...,  0.19487207,\n",
       "          0.99174756, -1.5156589 ],\n",
       "        [-0.73393244,  0.1543688 , -0.99476254, ..., -1.1591582 ,\n",
       "          0.6415371 , -0.8322137 ]]], dtype=float32)>"
      ]
     },
     "execution_count": 34,
     "metadata": {},
     "output_type": "execute_result"
    }
   ],
   "source": [
    "tf.random.normal([32, 10, 8])"
   ]
  },
  {
   "cell_type": "code",
   "execution_count": null,
   "metadata": {},
   "outputs": [],
   "source": []
  },
  {
   "cell_type": "code",
   "execution_count": 55,
   "metadata": {},
   "outputs": [
    {
     "name": "stderr",
     "output_type": "stream",
     "text": [
      "INFO:absl:No config specified, defaulting to first: imdb_reviews/plain_text\n",
      "INFO:absl:Load pre-computed DatasetInfo (eg: splits, num examples,...) from GCS: imdb_reviews/plain_text/1.0.0\n",
      "INFO:absl:Load dataset info from /var/folders/xg/vnbr1nbs5pv86wd58cwl_mxm0000gn/T/tmpnja58or5tfds\n",
      "INFO:absl:Field info.config_name from disk and from code do not match. Keeping the one from code.\n",
      "INFO:absl:Field info.config_description from disk and from code do not match. Keeping the one from code.\n",
      "INFO:absl:Field info.citation from disk and from code do not match. Keeping the one from code.\n",
      "INFO:absl:Generating dataset imdb_reviews (/Users/anthony/tensorflow_datasets/imdb_reviews/plain_text/1.0.0)\n"
     ]
    },
    {
     "name": "stdout",
     "output_type": "stream",
     "text": [
      "\u001b[1mDownloading and preparing dataset imdb_reviews/plain_text/1.0.0 (download: 80.23 MiB, generated: Unknown size, total: 80.23 MiB) to /Users/anthony/tensorflow_datasets/imdb_reviews/plain_text/1.0.0...\u001b[0m\n"
     ]
    },
    {
     "data": {
      "application/vnd.jupyter.widget-view+json": {
       "model_id": "104fb5ed3dd94963a0ce9567e5959007",
       "version_major": 2,
       "version_minor": 0
      },
      "text/plain": [
       "HBox(children=(HTML(value='Dl Completed...'), FloatProgress(value=1.0, bar_style='info', layout=Layout(width='…"
      ]
     },
     "metadata": {},
     "output_type": "display_data"
    },
    {
     "data": {
      "application/vnd.jupyter.widget-view+json": {
       "model_id": "63f5899a607d4843aac9332a446fd241",
       "version_major": 2,
       "version_minor": 0
      },
      "text/plain": [
       "HBox(children=(HTML(value='Dl Size...'), FloatProgress(value=1.0, bar_style='info', layout=Layout(width='20px'…"
      ]
     },
     "metadata": {},
     "output_type": "display_data"
    },
    {
     "name": "stderr",
     "output_type": "stream",
     "text": [
      "INFO:absl:URL http://ai.stanford.edu/~amaas/data/sentiment/aclImdb_v1.tar.gz already downloaded: reusing /Users/anthony/tensorflow_datasets/downloads/ai.stanfor.edu_amaas_sentime_aclImdb_v1PaujRp-TxjBWz59jHXsMDm5WiexbxzaFQkEnXc3Tvo8.tar.gz.\n",
      "INFO:absl:Generating split train\n"
     ]
    },
    {
     "name": "stdout",
     "output_type": "stream",
     "text": [
      "\n",
      "\n",
      "\n",
      "\n"
     ]
    },
    {
     "data": {
      "application/vnd.jupyter.widget-view+json": {
       "model_id": "c75ecf9a564747488b9775a3beb19b59",
       "version_major": 2,
       "version_minor": 0
      },
      "text/plain": [
       "HBox(children=(HTML(value=''), FloatProgress(value=1.0, bar_style='info', layout=Layout(width='20px'), max=1.0…"
      ]
     },
     "metadata": {},
     "output_type": "display_data"
    },
    {
     "name": "stdout",
     "output_type": "stream",
     "text": [
      "Shuffling and writing examples to /Users/anthony/tensorflow_datasets/imdb_reviews/plain_text/1.0.0.incompleteSM226Q/imdb_reviews-train.tfrecord\n"
     ]
    },
    {
     "data": {
      "application/vnd.jupyter.widget-view+json": {
       "model_id": "12d883d4d7b3410b811b37beb9e68ea5",
       "version_major": 2,
       "version_minor": 0
      },
      "text/plain": [
       "HBox(children=(HTML(value=''), FloatProgress(value=0.0, max=25000.0), HTML(value='')))"
      ]
     },
     "metadata": {},
     "output_type": "display_data"
    },
    {
     "name": "stderr",
     "output_type": "stream",
     "text": [
      "INFO:absl:Done writing /Users/anthony/tensorflow_datasets/imdb_reviews/plain_text/1.0.0.incompleteSM226Q/imdb_reviews-train.tfrecord. Shard lengths: [25000]\n",
      "INFO:absl:Generating split test\n"
     ]
    },
    {
     "data": {
      "application/vnd.jupyter.widget-view+json": {
       "model_id": "e4384eec4a7b43acacfb54fc8ed00c8b",
       "version_major": 2,
       "version_minor": 0
      },
      "text/plain": [
       "HBox(children=(HTML(value=''), FloatProgress(value=1.0, bar_style='info', layout=Layout(width='20px'), max=1.0…"
      ]
     },
     "metadata": {},
     "output_type": "display_data"
    },
    {
     "name": "stdout",
     "output_type": "stream",
     "text": [
      "Shuffling and writing examples to /Users/anthony/tensorflow_datasets/imdb_reviews/plain_text/1.0.0.incompleteSM226Q/imdb_reviews-test.tfrecord\n"
     ]
    },
    {
     "data": {
      "application/vnd.jupyter.widget-view+json": {
       "model_id": "f3f4dce4164d43a18428573e6e2da4a9",
       "version_major": 2,
       "version_minor": 0
      },
      "text/plain": [
       "HBox(children=(HTML(value=''), FloatProgress(value=0.0, max=25000.0), HTML(value='')))"
      ]
     },
     "metadata": {},
     "output_type": "display_data"
    },
    {
     "name": "stderr",
     "output_type": "stream",
     "text": [
      "INFO:absl:Done writing /Users/anthony/tensorflow_datasets/imdb_reviews/plain_text/1.0.0.incompleteSM226Q/imdb_reviews-test.tfrecord. Shard lengths: [25000]\n",
      "INFO:absl:Generating split unsupervised\n"
     ]
    },
    {
     "data": {
      "application/vnd.jupyter.widget-view+json": {
       "model_id": "1727ff25819b4e06a87b83c31159687b",
       "version_major": 2,
       "version_minor": 0
      },
      "text/plain": [
       "HBox(children=(HTML(value=''), FloatProgress(value=1.0, bar_style='info', layout=Layout(width='20px'), max=1.0…"
      ]
     },
     "metadata": {},
     "output_type": "display_data"
    },
    {
     "name": "stdout",
     "output_type": "stream",
     "text": [
      "Shuffling and writing examples to /Users/anthony/tensorflow_datasets/imdb_reviews/plain_text/1.0.0.incompleteSM226Q/imdb_reviews-unsupervised.tfrecord\n"
     ]
    },
    {
     "data": {
      "application/vnd.jupyter.widget-view+json": {
       "model_id": "8acdd77a7051425d8bbd941c8a17101a",
       "version_major": 2,
       "version_minor": 0
      },
      "text/plain": [
       "HBox(children=(HTML(value=''), FloatProgress(value=0.0, max=50000.0), HTML(value='')))"
      ]
     },
     "metadata": {},
     "output_type": "display_data"
    },
    {
     "name": "stderr",
     "output_type": "stream",
     "text": [
      "INFO:absl:Done writing /Users/anthony/tensorflow_datasets/imdb_reviews/plain_text/1.0.0.incompleteSM226Q/imdb_reviews-unsupervised.tfrecord. Shard lengths: [50000]\n",
      "INFO:absl:Skipping computing stats for mode ComputeStatsMode.SKIP.\n",
      "WARNING:absl:Dataset is using deprecated text encoder API which will be removed soon. Please use the plain_text version of the dataset and migrate to `tensorflow_text`.\n",
      "INFO:absl:Constructing tf.data.Dataset for split None, from /Users/anthony/tensorflow_datasets/imdb_reviews/plain_text/1.0.0\n"
     ]
    },
    {
     "name": "stdout",
     "output_type": "stream",
     "text": [
      "\u001b[1mDataset imdb_reviews downloaded and prepared to /Users/anthony/tensorflow_datasets/imdb_reviews/plain_text/1.0.0. Subsequent calls will reuse this data.\u001b[0m\n"
     ]
    }
   ],
   "source": [
    "import tensorflow_datasets as tfds\n",
    "\n",
    "datasets, info = tfds.load('imdb_reviews', as_supervised = True, with_info = True)"
   ]
  },
  {
   "cell_type": "code",
   "execution_count": 58,
   "metadata": {},
   "outputs": [],
   "source": [
    "train_size = info.splits['train'].num_examples"
   ]
  },
  {
   "cell_type": "code",
   "execution_count": 60,
   "metadata": {},
   "outputs": [],
   "source": [
    "def preprocess(X_batch, y_batch):\n",
    "    X_batch = tf.strings.substr(X_batch, 0, 300)\n",
    "    X_batch = tf.strings.regex_replace(X_batch, b\"<br\\\\s*/?>\", b\" \")\n",
    "    X_batch = tf.strings.regex_replace(X_batch, b\"[^a-zA-Z']\", b\" \")\n",
    "    X_batch = tf.strings.split(X_batch)\n",
    "    return X_batch.to_tensor(default_value=b\"<pad>\"), y_batch"
   ]
  },
  {
   "cell_type": "code",
   "execution_count": 61,
   "metadata": {},
   "outputs": [],
   "source": [
    "from collections import Counter\n",
    "vocabulary = Counter()\n",
    "for X_batch, y_batch in datasets[\"train\"].batch(32).map(preprocess):\n",
    "    for review in X_batch:\n",
    "        vocabulary.update(list(review.numpy()))"
   ]
  },
  {
   "cell_type": "code",
   "execution_count": 68,
   "metadata": {},
   "outputs": [],
   "source": [
    "vocab_size = 10000\n",
    "truncated_vocabulary = [word for word, count in vocabulary.most_common()[:vocab_size]]"
   ]
  },
  {
   "cell_type": "code",
   "execution_count": null,
   "metadata": {},
   "outputs": [],
   "source": []
  },
  {
   "cell_type": "code",
   "execution_count": null,
   "metadata": {},
   "outputs": [],
   "source": []
  },
  {
   "cell_type": "code",
   "execution_count": null,
   "metadata": {},
   "outputs": [],
   "source": []
  },
  {
   "cell_type": "code",
   "execution_count": null,
   "metadata": {},
   "outputs": [],
   "source": []
  },
  {
   "cell_type": "code",
   "execution_count": null,
   "metadata": {},
   "outputs": [],
   "source": []
  },
  {
   "cell_type": "code",
   "execution_count": null,
   "metadata": {},
   "outputs": [],
   "source": []
  },
  {
   "cell_type": "code",
   "execution_count": null,
   "metadata": {},
   "outputs": [],
   "source": []
  },
  {
   "cell_type": "code",
   "execution_count": null,
   "metadata": {},
   "outputs": [],
   "source": []
  },
  {
   "cell_type": "code",
   "execution_count": null,
   "metadata": {},
   "outputs": [],
   "source": []
  },
  {
   "cell_type": "code",
   "execution_count": null,
   "metadata": {},
   "outputs": [],
   "source": []
  },
  {
   "cell_type": "code",
   "execution_count": null,
   "metadata": {},
   "outputs": [],
   "source": []
  },
  {
   "cell_type": "code",
   "execution_count": null,
   "metadata": {},
   "outputs": [],
   "source": []
  }
 ],
 "metadata": {
  "kernelspec": {
   "display_name": "creepyvenv",
   "language": "python",
   "name": "creepyvenv"
  },
  "language_info": {
   "codemirror_mode": {
    "name": "ipython",
    "version": 3
   },
   "file_extension": ".py",
   "mimetype": "text/x-python",
   "name": "python",
   "nbconvert_exporter": "python",
   "pygments_lexer": "ipython3",
   "version": "3.8.6"
  }
 },
 "nbformat": 4,
 "nbformat_minor": 4
}
