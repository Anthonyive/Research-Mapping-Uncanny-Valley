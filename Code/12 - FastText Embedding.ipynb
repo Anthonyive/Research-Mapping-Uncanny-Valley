{
 "cells": [
  {
   "cell_type": "code",
   "execution_count": 24,
   "metadata": {},
   "outputs": [
    {
     "data": {
      "application/vnd.jupyter.widget-view+json": {
       "model_id": "adb007d1068a4d288706a29cb5d84812",
       "version_major": 2,
       "version_minor": 0
      },
      "text/plain": [
       "  0%|          | 0/9 [00:00<?, ?it/s]"
      ]
     },
     "metadata": {},
     "output_type": "display_data"
    }
   ],
   "source": [
    "import pandas as pd\n",
    "import os\n",
    "import numpy as np\n",
    "from tqdm.notebook import tqdm\n",
    "\n",
    "CREEPY_SUBREDDIT = ['CreepyPasta','NoSleep','ShortScaryStories']\n",
    "NONCREEPY_SUBREDDIT = ['Confession','Confessions','Self','StoriesAboutKevin','TIFU']\n",
    "IGNORED_SUBREDDIT = ['SpanishText']\n",
    "\n",
    "PATH = 'Download/Cleaned Data/'\n",
    "\n",
    "creepy_df = []\n",
    "noncreepy_df = []\n",
    "\n",
    "for csv in tqdm(os.listdir(PATH)):\n",
    "    csv_without_ext = os.path.splitext(csv)[0]\n",
    "    \n",
    "    if csv_without_ext in CREEPY_SUBREDDIT:\n",
    "        df = pd.read_csv(os.path.join(PATH, csv))\n",
    "        df['subreddit_label'] = '__label__' + df['subreddit'].astype(str)\n",
    "        df['label'] = '__label__creepy'\n",
    "        df = df[['label','subreddit_label', 'selftext']]\n",
    "        creepy_df.append(df)\n",
    "        np.savetxt(f'Download/fasttext train/{csv_without_ext}_train.txt',df.values,fmt=\"%s\")\n",
    "    elif csv_without_ext in NONCREEPY_SUBREDDIT:\n",
    "        df = pd.read_csv(os.path.join(PATH, csv))\n",
    "        df['subreddit_label'] = '__label__' + df['subreddit'].astype(str)\n",
    "        df['label'] = '__label__noncreepy'\n",
    "        df = df[['label','subreddit_label', 'selftext']]\n",
    "        noncreepy_df.append(df)\n",
    "        np.savetxt(f'Download/fasttext train/{csv_without_ext}_train.txt',df.values,fmt=\"%s\")\n",
    "    else:\n",
    "        pass\n",
    "    \n",
    "creepy_df = pd.concat(creepy_df)\n",
    "noncreepy_df = pd.concat(noncreepy_df)\n",
    "\n",
    "np.savetxt(f'Download/fasttext train/creepy_train.txt',creepy_df.values,fmt=\"%s\")\n",
    "np.savetxt(f'Download/fasttext train/noncreepy_train.txt', noncreepy_df.values,fmt='%s')"
   ]
  },
  {
   "cell_type": "code",
   "execution_count": 17,
   "metadata": {},
   "outputs": [],
   "source": [
    "import fasttext\n",
    "import os\n",
    "\n",
    "PATH = 'Download/fasttext train/'\n",
    "\n",
    "\n",
    "with open(os.path.join(PATH,'all_train.txt'), 'w') as outfile:\n",
    "    for fname in os.listdir(PATH):\n",
    "        with open(os.path.join(PATH,fname)) as infile:\n",
    "            for line in infile:\n",
    "                outfile.write(line)"
   ]
  },
  {
   "cell_type": "markdown",
   "metadata": {},
   "source": [
    "# All subreddits"
   ]
  },
  {
   "cell_type": "code",
   "execution_count": 18,
   "metadata": {},
   "outputs": [],
   "source": [
    "model = fasttext.train_unsupervised('Download/fasttext train/all_train.txt', dim=300)"
   ]
  },
  {
   "cell_type": "markdown",
   "metadata": {},
   "source": [
    "Read 445M words\n",
    "\n",
    "Number of words:  476451\n",
    "\n",
    "Number of labels: 10\n",
    "\n",
    "Progress:   1.7% words/sec/thread:   35424 lr:  0.049162 avg.loss:  1.721248 ETA:   1h33m42s\n",
    "\n",
    "Progress:   3.8% words/sec/thread:   35510 lr:  0.048107 avg.loss:  1.676645 ETA:   1h31m28s\n",
    "\n",
    "Progress:  89.9% words/sec/thread:   35445 lr:  0.005064 avg.loss:  0.271396 ETA:   0h 9m38s\n",
    "\n",
    "Progress: 100.0% words/sec/thread:   35436 lr:  0.000000 avg.loss:  0.244439 ETA:   0h 0m 0s"
   ]
  },
  {
   "cell_type": "code",
   "execution_count": 20,
   "metadata": {},
   "outputs": [],
   "source": [
    "model.save_model(\"Download/fasttext model/all_subreddits.bin\")"
   ]
  },
  {
   "cell_type": "code",
   "execution_count": 23,
   "metadata": {},
   "outputs": [
    {
     "data": {
      "text/plain": [
       "[(0.773425817489624, 'human/animal'),\n",
       " (0.7595513463020325, 'humanimal'),\n",
       " (0.7519474625587463, \"human's\"),\n",
       " (0.745766282081604, 'human,'),\n",
       " (0.7381467819213867, 'human-to-human'),\n",
       " (0.7371481657028198, 'human/half'),\n",
       " (0.7301920652389526, 'human;'),\n",
       " (0.7290088534355164, 'humaniod'),\n",
       " (0.7278894782066345, 'human.'),\n",
       " (0.7212916016578674, 'human-')]"
      ]
     },
     "execution_count": 23,
     "metadata": {},
     "output_type": "execute_result"
    }
   ],
   "source": [
    "model.get_nearest_neighbors('human')"
   ]
  },
  {
   "cell_type": "code",
   "execution_count": 13,
   "metadata": {},
   "outputs": [
    {
     "data": {
      "text/plain": [
       "('confession_train', '.txt')"
      ]
     },
     "execution_count": 13,
     "metadata": {},
     "output_type": "execute_result"
    }
   ],
   "source": [
    "import os\n",
    "os.path.splitext('confession_train.txt')"
   ]
  },
  {
   "cell_type": "code",
   "execution_count": 15,
   "metadata": {},
   "outputs": [
    {
     "data": {
      "text/plain": [
       "'Download/fasttext train/all_train.txt'"
      ]
     },
     "execution_count": 15,
     "metadata": {},
     "output_type": "execute_result"
    }
   ],
   "source": [
    "os.path.join(PATH,'all_train.txt')"
   ]
  },
  {
   "cell_type": "markdown",
   "metadata": {},
   "source": [
    "# Creepy subreddits"
   ]
  },
  {
   "cell_type": "code",
   "execution_count": 25,
   "metadata": {},
   "outputs": [],
   "source": [
    "model = fasttext.train_unsupervised('Download/fasttext train/creepy_train.txt', dim=300)"
   ]
  },
  {
   "cell_type": "markdown",
   "metadata": {},
   "source": [
    "Read 279M words\n",
    "\n",
    "Number of words:  358999\n",
    "\n",
    "Number of labels: 4\n",
    "\n",
    "Progress:   1.1% words/sec/thread:   35213 lr:  0.049447 avg.loss:  1.754926 ETA:   0h59m28s"
   ]
  },
  {
   "cell_type": "code",
   "execution_count": 26,
   "metadata": {},
   "outputs": [],
   "source": [
    "model.save_model(\"Download/fasttext model/creepy_subreddits.bin\")"
   ]
  },
  {
   "cell_type": "code",
   "execution_count": null,
   "metadata": {},
   "outputs": [],
   "source": []
  }
 ],
 "metadata": {
  "kernelspec": {
   "display_name": "creepy-venv",
   "language": "python",
   "name": "creepy-venv"
  },
  "language_info": {
   "codemirror_mode": {
    "name": "ipython",
    "version": 3
   },
   "file_extension": ".py",
   "mimetype": "text/x-python",
   "name": "python",
   "nbconvert_exporter": "python",
   "pygments_lexer": "ipython3",
   "version": "3.8.5"
  }
 },
 "nbformat": 4,
 "nbformat_minor": 4
}
