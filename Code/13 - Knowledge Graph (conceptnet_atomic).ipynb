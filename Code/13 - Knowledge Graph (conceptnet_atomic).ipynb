{
 "cells": [
  {
   "cell_type": "markdown",
   "metadata": {},
   "source": [
    "# Create DB for all triples"
   ]
  },
  {
   "cell_type": "code",
   "execution_count": 43,
   "metadata": {},
   "outputs": [],
   "source": [
    "import pandas as pd\n",
    "from tqdm.notebook import tqdm\n",
    "import os\n",
    "from sqlalchemy import create_engine\n",
    "\n",
    "engine = create_engine('sqlite:///Download/main.db')"
   ]
  },
  {
   "cell_type": "code",
   "execution_count": 22,
   "metadata": {},
   "outputs": [],
   "source": [
    "PATH = \"Download/Cleaned Data/\"\n",
    "\n",
    "for file in os.listdir(PATH):\n",
    "    \n",
    "    df = pd.read_csv(os.path.join(PATH,file))\n",
    "\n",
    "    df.to_sql(os.path.splitext(file)[0], con=engine, if_exists='replace')"
   ]
  },
  {
   "cell_type": "code",
   "execution_count": 24,
   "metadata": {},
   "outputs": [
    {
     "data": {
      "text/plain": [
       "['Confession',\n",
       " 'Confessions',\n",
       " 'CreepyPasta',\n",
       " 'NoSleep',\n",
       " 'Self',\n",
       " 'ShortScaryStories',\n",
       " 'SpanishText',\n",
       " 'StoriesAboutKevin',\n",
       " 'TIFU']"
      ]
     },
     "execution_count": 24,
     "metadata": {},
     "output_type": "execute_result"
    }
   ],
   "source": [
    "engine.table_names()"
   ]
  },
  {
   "cell_type": "code",
   "execution_count": 27,
   "metadata": {},
   "outputs": [
    {
     "data": {
      "text/html": [
       "<div>\n",
       "<style scoped>\n",
       "    .dataframe tbody tr th:only-of-type {\n",
       "        vertical-align: middle;\n",
       "    }\n",
       "\n",
       "    .dataframe tbody tr th {\n",
       "        vertical-align: top;\n",
       "    }\n",
       "\n",
       "    .dataframe thead th {\n",
       "        text-align: right;\n",
       "    }\n",
       "</style>\n",
       "<table border=\"1\" class=\"dataframe\">\n",
       "  <thead>\n",
       "    <tr style=\"text-align: right;\">\n",
       "      <th></th>\n",
       "      <th>index</th>\n",
       "      <th>created_utc</th>\n",
       "      <th>id</th>\n",
       "      <th>score</th>\n",
       "      <th>selftext</th>\n",
       "      <th>subreddit</th>\n",
       "      <th>title</th>\n",
       "      <th>title_language</th>\n",
       "      <th>selftext_language</th>\n",
       "    </tr>\n",
       "  </thead>\n",
       "  <tbody>\n",
       "    <tr>\n",
       "      <th>0</th>\n",
       "      <td>0</td>\n",
       "      <td>1269397810</td>\n",
       "      <td>bhef5</td>\n",
       "      <td>24</td>\n",
       "      <td>Hey guys! Thanks for checking out /r/NoSleep! ...</td>\n",
       "      <td>nosleep</td>\n",
       "      <td>Welcome to /r/NoSleep!</td>\n",
       "      <td>nl</td>\n",
       "      <td>en</td>\n",
       "    </tr>\n",
       "    <tr>\n",
       "      <th>1</th>\n",
       "      <td>1</td>\n",
       "      <td>1269458850</td>\n",
       "      <td>bhq4w</td>\n",
       "      <td>68</td>\n",
       "      <td>This is copypasta from an earlier post... no w...</td>\n",
       "      <td>nosleep</td>\n",
       "      <td>The only possible supernatural experience I've...</td>\n",
       "      <td>en</td>\n",
       "      <td>en</td>\n",
       "    </tr>\n",
       "    <tr>\n",
       "      <th>2</th>\n",
       "      <td>2</td>\n",
       "      <td>1269476233</td>\n",
       "      <td>bhtlo</td>\n",
       "      <td>19</td>\n",
       "      <td>Reposting at the request of another. This was ...</td>\n",
       "      <td>nosleep</td>\n",
       "      <td>The Longhorn</td>\n",
       "      <td>en</td>\n",
       "      <td>en</td>\n",
       "    </tr>\n",
       "    <tr>\n",
       "      <th>3</th>\n",
       "      <td>3</td>\n",
       "      <td>1269479929</td>\n",
       "      <td>bhu80</td>\n",
       "      <td>29</td>\n",
       "      <td>So, after looking at some other subreddits, I ...</td>\n",
       "      <td>nosleep</td>\n",
       "      <td>/r/NoSleep Rules</td>\n",
       "      <td>af</td>\n",
       "      <td>en</td>\n",
       "    </tr>\n",
       "    <tr>\n",
       "      <th>4</th>\n",
       "      <td>4</td>\n",
       "      <td>1269481302</td>\n",
       "      <td>bhufy</td>\n",
       "      <td>18</td>\n",
       "      <td>This is copy and pasted from the thread that s...</td>\n",
       "      <td>nosleep</td>\n",
       "      <td>My dad's story</td>\n",
       "      <td>cy</td>\n",
       "      <td>en</td>\n",
       "    </tr>\n",
       "    <tr>\n",
       "      <th>...</th>\n",
       "      <td>...</td>\n",
       "      <td>...</td>\n",
       "      <td>...</td>\n",
       "      <td>...</td>\n",
       "      <td>...</td>\n",
       "      <td>...</td>\n",
       "      <td>...</td>\n",
       "      <td>...</td>\n",
       "      <td>...</td>\n",
       "    </tr>\n",
       "    <tr>\n",
       "      <th>173274</th>\n",
       "      <td>173274</td>\n",
       "      <td>1591452441</td>\n",
       "      <td>gxrm8v</td>\n",
       "      <td>1</td>\n",
       "      <td>\"Any sign of 'em yet?\" \\n\\nI continued staring...</td>\n",
       "      <td>nosleep</td>\n",
       "      <td>I'm tasked with killing nameless things out in...</td>\n",
       "      <td>en</td>\n",
       "      <td>en</td>\n",
       "    </tr>\n",
       "    <tr>\n",
       "      <th>173275</th>\n",
       "      <td>173275</td>\n",
       "      <td>1591452568</td>\n",
       "      <td>gxrnj7</td>\n",
       "      <td>1</td>\n",
       "      <td>They say the devil is in the details.  Well th...</td>\n",
       "      <td>nosleep</td>\n",
       "      <td>I picked up a hitchhiker by mistake, now he's ...</td>\n",
       "      <td>en</td>\n",
       "      <td>en</td>\n",
       "    </tr>\n",
       "    <tr>\n",
       "      <th>173276</th>\n",
       "      <td>173276</td>\n",
       "      <td>1591453707</td>\n",
       "      <td>gxrytp</td>\n",
       "      <td>1</td>\n",
       "      <td>It is hard for me to talk about my old friend ...</td>\n",
       "      <td>nosleep</td>\n",
       "      <td>My Best Friend Saw Bugs Under His Skin</td>\n",
       "      <td>de</td>\n",
       "      <td>en</td>\n",
       "    </tr>\n",
       "    <tr>\n",
       "      <th>173277</th>\n",
       "      <td>173277</td>\n",
       "      <td>1591454493</td>\n",
       "      <td>gxs6jf</td>\n",
       "      <td>1</td>\n",
       "      <td>This is the only rule of our household. If you...</td>\n",
       "      <td>nosleep</td>\n",
       "      <td>Do NOT open your eyes. (The Beginning)</td>\n",
       "      <td>en</td>\n",
       "      <td>en</td>\n",
       "    </tr>\n",
       "    <tr>\n",
       "      <th>173278</th>\n",
       "      <td>173278</td>\n",
       "      <td>1591454838</td>\n",
       "      <td>gxsa0i</td>\n",
       "      <td>1</td>\n",
       "      <td>This is the only rule of our household. If you...</td>\n",
       "      <td>nosleep</td>\n",
       "      <td>Do NOT Open Your Eyes... (Pt. 1)</td>\n",
       "      <td>en</td>\n",
       "      <td>en</td>\n",
       "    </tr>\n",
       "  </tbody>\n",
       "</table>\n",
       "<p>173279 rows × 9 columns</p>\n",
       "</div>"
      ],
      "text/plain": [
       "         index  created_utc      id  score  \\\n",
       "0            0   1269397810   bhef5     24   \n",
       "1            1   1269458850   bhq4w     68   \n",
       "2            2   1269476233   bhtlo     19   \n",
       "3            3   1269479929   bhu80     29   \n",
       "4            4   1269481302   bhufy     18   \n",
       "...        ...          ...     ...    ...   \n",
       "173274  173274   1591452441  gxrm8v      1   \n",
       "173275  173275   1591452568  gxrnj7      1   \n",
       "173276  173276   1591453707  gxrytp      1   \n",
       "173277  173277   1591454493  gxs6jf      1   \n",
       "173278  173278   1591454838  gxsa0i      1   \n",
       "\n",
       "                                                 selftext subreddit  \\\n",
       "0       Hey guys! Thanks for checking out /r/NoSleep! ...   nosleep   \n",
       "1       This is copypasta from an earlier post... no w...   nosleep   \n",
       "2       Reposting at the request of another. This was ...   nosleep   \n",
       "3       So, after looking at some other subreddits, I ...   nosleep   \n",
       "4       This is copy and pasted from the thread that s...   nosleep   \n",
       "...                                                   ...       ...   \n",
       "173274  \"Any sign of 'em yet?\" \\n\\nI continued staring...   nosleep   \n",
       "173275  They say the devil is in the details.  Well th...   nosleep   \n",
       "173276  It is hard for me to talk about my old friend ...   nosleep   \n",
       "173277  This is the only rule of our household. If you...   nosleep   \n",
       "173278  This is the only rule of our household. If you...   nosleep   \n",
       "\n",
       "                                                    title title_language  \\\n",
       "0                                  Welcome to /r/NoSleep!             nl   \n",
       "1       The only possible supernatural experience I've...             en   \n",
       "2                                            The Longhorn             en   \n",
       "3                                        /r/NoSleep Rules             af   \n",
       "4                                          My dad's story             cy   \n",
       "...                                                   ...            ...   \n",
       "173274  I'm tasked with killing nameless things out in...             en   \n",
       "173275  I picked up a hitchhiker by mistake, now he's ...             en   \n",
       "173276             My Best Friend Saw Bugs Under His Skin             de   \n",
       "173277             Do NOT open your eyes. (The Beginning)             en   \n",
       "173278                   Do NOT Open Your Eyes... (Pt. 1)             en   \n",
       "\n",
       "       selftext_language  \n",
       "0                     en  \n",
       "1                     en  \n",
       "2                     en  \n",
       "3                     en  \n",
       "4                     en  \n",
       "...                  ...  \n",
       "173274                en  \n",
       "173275                en  \n",
       "173276                en  \n",
       "173277                en  \n",
       "173278                en  \n",
       "\n",
       "[173279 rows x 9 columns]"
      ]
     },
     "execution_count": 27,
     "metadata": {},
     "output_type": "execute_result"
    }
   ],
   "source": [
    "df = pd.read_sql_table('NoSleep', 'sqlite:///Download/main.db')  \n",
    "# df['selftext'].to_list()\n",
    "df"
   ]
  },
  {
   "cell_type": "code",
   "execution_count": 30,
   "metadata": {},
   "outputs": [
    {
     "data": {
      "application/vnd.jupyter.widget-view+json": {
       "model_id": "b76a76ce7c404c998de7a8e40953649a",
       "version_major": 2,
       "version_minor": 0
      },
      "text/plain": [
       "  0%|          | 0/9 [00:00<?, ?it/s]"
      ]
     },
     "metadata": {},
     "output_type": "display_data"
    },
    {
     "data": {
      "application/vnd.jupyter.widget-view+json": {
       "model_id": "74d597758f1d4e3688943b63a931b931",
       "version_major": 2,
       "version_minor": 0
      },
      "text/plain": [
       "  0%|          | 0/1000 [00:00<?, ?it/s]"
      ]
     },
     "metadata": {},
     "output_type": "display_data"
    },
    {
     "name": "stdout",
     "output_type": "stream",
     "text": [
      "Starting server with command: java -Xmx8G -cp /home/anthony/stanfordnlp_resources/stanford-corenlp-full-2018-10-05/* edu.stanford.nlp.pipeline.StanfordCoreNLPServer -port 9000 -timeout 60000 -threads 5 -maxCharLength 100000 -quiet True -serverProperties corenlp_server-b7156e21bcdc44a4.props -preload openie\n"
     ]
    },
    {
     "data": {
      "application/vnd.jupyter.widget-view+json": {
       "model_id": "bb1977a5d9b644c2a7c33f9572275998",
       "version_major": 2,
       "version_minor": 0
      },
      "text/plain": [
       "  0%|          | 0/1000 [00:00<?, ?it/s]"
      ]
     },
     "metadata": {},
     "output_type": "display_data"
    },
    {
     "data": {
      "application/vnd.jupyter.widget-view+json": {
       "model_id": "9f4a209bc3804be4b98514740344c07e",
       "version_major": 2,
       "version_minor": 0
      },
      "text/plain": [
       "  0%|          | 0/1000 [00:00<?, ?it/s]"
      ]
     },
     "metadata": {},
     "output_type": "display_data"
    },
    {
     "data": {
      "application/vnd.jupyter.widget-view+json": {
       "model_id": "af8531be4e4d40a8a9e2f0ae58c1c4cd",
       "version_major": 2,
       "version_minor": 0
      },
      "text/plain": [
       "  0%|          | 0/1000 [00:00<?, ?it/s]"
      ]
     },
     "metadata": {},
     "output_type": "display_data"
    },
    {
     "data": {
      "application/vnd.jupyter.widget-view+json": {
       "model_id": "618aea2458fb43608b65b97494fa67ec",
       "version_major": 2,
       "version_minor": 0
      },
      "text/plain": [
       "  0%|          | 0/1000 [00:00<?, ?it/s]"
      ]
     },
     "metadata": {},
     "output_type": "display_data"
    },
    {
     "data": {
      "application/vnd.jupyter.widget-view+json": {
       "model_id": "2bcd7de5cf7142a895b62316d9247a94",
       "version_major": 2,
       "version_minor": 0
      },
      "text/plain": [
       "  0%|          | 0/1000 [00:00<?, ?it/s]"
      ]
     },
     "metadata": {},
     "output_type": "display_data"
    },
    {
     "data": {
      "application/vnd.jupyter.widget-view+json": {
       "model_id": "76add8aee6d0409e835e692d5539fc35",
       "version_major": 2,
       "version_minor": 0
      },
      "text/plain": [
       "  0%|          | 0/144 [00:00<?, ?it/s]"
      ]
     },
     "metadata": {},
     "output_type": "display_data"
    },
    {
     "data": {
      "application/vnd.jupyter.widget-view+json": {
       "model_id": "65cf9a9339e04e66ab4400344a86b558",
       "version_major": 2,
       "version_minor": 0
      },
      "text/plain": [
       "  0%|          | 0/1000 [00:00<?, ?it/s]"
      ]
     },
     "metadata": {},
     "output_type": "display_data"
    },
    {
     "data": {
      "application/vnd.jupyter.widget-view+json": {
       "model_id": "1717fe44c78b40f0b399eb6d177a0749",
       "version_major": 2,
       "version_minor": 0
      },
      "text/plain": [
       "  0%|          | 0/1000 [00:00<?, ?it/s]"
      ]
     },
     "metadata": {},
     "output_type": "display_data"
    }
   ],
   "source": [
    "import spacy\n",
    "nlp = spacy.load('en_core_web_lg')\n",
    "\n",
    "from openie import StanfordOpenIE\n",
    "import truecase\n",
    "from tqdm.notebook import tqdm\n",
    "\n",
    "with StanfordOpenIE() as client:\n",
    "    for table in tqdm(engine.table_names()):\n",
    "        # here i only have first 1000 rows per subreddit since the processing time is so slow\n",
    "        df = pd.read_sql_table(table, 'sqlite:///Download/main.db').head(1000)\n",
    "        df_li = []\n",
    "        for story_id, story in tqdm(zip(df['id'].to_list(), df['selftext'].to_list()), total = len(df['id'].to_list())):\n",
    "            doc = nlp(story)\n",
    "            for sent in doc.sents:\n",
    "                original_text = sent.text\n",
    "                truecase_text = truecase.get_true_case(original_text)\n",
    "                text = truecase_text[0].lower() + truecase_text[1:]\n",
    "                for triple in client.annotate(text):\n",
    "                    triple['id'] = story_id\n",
    "                    triple['subreddit'] = table\n",
    "                    triple['original sent'] = text\n",
    "                    df_li.append(triple)\n",
    "            \n",
    "        kg_df = pd.DataFrame(df_li)\n",
    "        kg_df.to_sql(f\"{table}_kg\", con=engine, if_exists='replace')"
   ]
  },
  {
   "cell_type": "code",
   "execution_count": 2,
   "metadata": {},
   "outputs": [
    {
     "data": {
      "text/plain": [
       "['Confession',\n",
       " 'Confession_kg',\n",
       " 'Confessions',\n",
       " 'Confessions_kg',\n",
       " 'CreepyPasta',\n",
       " 'CreepyPasta_kg',\n",
       " 'NoSleep',\n",
       " 'NoSleep_kg',\n",
       " 'Self',\n",
       " 'Self_kg',\n",
       " 'ShortScaryStories',\n",
       " 'ShortScaryStories_kg',\n",
       " 'SpanishText',\n",
       " 'SpanishText_kg',\n",
       " 'StoriesAboutKevin',\n",
       " 'StoriesAboutKevin_kg',\n",
       " 'TIFU',\n",
       " 'TIFU_kg']"
      ]
     },
     "execution_count": 2,
     "metadata": {},
     "output_type": "execute_result"
    }
   ],
   "source": [
    "engine.table_names()"
   ]
  },
  {
   "cell_type": "code",
   "execution_count": 3,
   "metadata": {},
   "outputs": [
    {
     "data": {
      "text/html": [
       "<div>\n",
       "<style scoped>\n",
       "    .dataframe tbody tr th:only-of-type {\n",
       "        vertical-align: middle;\n",
       "    }\n",
       "\n",
       "    .dataframe tbody tr th {\n",
       "        vertical-align: top;\n",
       "    }\n",
       "\n",
       "    .dataframe thead th {\n",
       "        text-align: right;\n",
       "    }\n",
       "</style>\n",
       "<table border=\"1\" class=\"dataframe\">\n",
       "  <thead>\n",
       "    <tr style=\"text-align: right;\">\n",
       "      <th></th>\n",
       "      <th>0</th>\n",
       "      <th>1</th>\n",
       "      <th>2</th>\n",
       "      <th>3</th>\n",
       "      <th>4</th>\n",
       "      <th>5</th>\n",
       "      <th>6</th>\n",
       "    </tr>\n",
       "  </thead>\n",
       "  <tbody>\n",
       "    <tr>\n",
       "      <th>0</th>\n",
       "      <td>0</td>\n",
       "      <td>i</td>\n",
       "      <td>would really like</td>\n",
       "      <td>see</td>\n",
       "      <td>bhef5</td>\n",
       "      <td>NoSleep</td>\n",
       "      <td>i would really like to see this get off the gr...</td>\n",
       "    </tr>\n",
       "    <tr>\n",
       "      <th>1</th>\n",
       "      <td>1</td>\n",
       "      <td>i</td>\n",
       "      <td>would like</td>\n",
       "      <td>see</td>\n",
       "      <td>bhef5</td>\n",
       "      <td>NoSleep</td>\n",
       "      <td>i would really like to see this get off the gr...</td>\n",
       "    </tr>\n",
       "    <tr>\n",
       "      <th>2</th>\n",
       "      <td>2</td>\n",
       "      <td>I</td>\n",
       "      <td>love</td>\n",
       "      <td>scared</td>\n",
       "      <td>bhef5</td>\n",
       "      <td>NoSleep</td>\n",
       "      <td>* I love being scared</td>\n",
       "    </tr>\n",
       "    <tr>\n",
       "      <th>3</th>\n",
       "      <td>3</td>\n",
       "      <td>I</td>\n",
       "      <td>being</td>\n",
       "      <td>scared</td>\n",
       "      <td>bhef5</td>\n",
       "      <td>NoSleep</td>\n",
       "      <td>* I love being scared</td>\n",
       "    </tr>\n",
       "    <tr>\n",
       "      <th>4</th>\n",
       "      <td>4</td>\n",
       "      <td>you</td>\n",
       "      <td>being</td>\n",
       "      <td>scared</td>\n",
       "      <td>bhef5</td>\n",
       "      <td>NoSleep</td>\n",
       "      <td>* you love being scared</td>\n",
       "    </tr>\n",
       "  </tbody>\n",
       "</table>\n",
       "</div>"
      ],
      "text/plain": [
       "   0    1                  2       3      4        5  \\\n",
       "0  0    i  would really like     see  bhef5  NoSleep   \n",
       "1  1    i         would like     see  bhef5  NoSleep   \n",
       "2  2    I               love  scared  bhef5  NoSleep   \n",
       "3  3    I              being  scared  bhef5  NoSleep   \n",
       "4  4  you              being  scared  bhef5  NoSleep   \n",
       "\n",
       "                                                   6  \n",
       "0  i would really like to see this get off the gr...  \n",
       "1  i would really like to see this get off the gr...  \n",
       "2                              * I love being scared  \n",
       "3                              * I love being scared  \n",
       "4                            * you love being scared  "
      ]
     },
     "execution_count": 3,
     "metadata": {},
     "output_type": "execute_result"
    }
   ],
   "source": [
    "pd.DataFrame(engine.execute(\"SELECT * FROM NoSleep_kg LIMIT 5\").fetchall())"
   ]
  },
  {
   "cell_type": "markdown",
   "metadata": {},
   "source": [
    "# Generate knowledge graph and support queries using Neo4j¶"
   ]
  },
  {
   "cell_type": "code",
   "execution_count": 2,
   "metadata": {},
   "outputs": [],
   "source": [
    "from py2neo import Graph\n",
    "from py2neo import Node, Relationship"
   ]
  },
  {
   "cell_type": "code",
   "execution_count": 56,
   "metadata": {},
   "outputs": [],
   "source": [
    "CREEPY_SUBREDDIT = ['CreepyPasta_kg','NoSleep_kg','ShortScaryStories_kg']\n",
    "NONCREEPY_SUBREDDIT = ['Confession_kg','Confessions_kg','Self_kg','StoriesAboutKevin_kg','TIFU_kg']\n",
    "IGNORED_SUBREDDIT = ['SpanishText_kg']\n",
    "\n",
    "df_li=[]\n",
    "for dfname in CREEPY_SUBREDDIT:\n",
    "    df = pd.DataFrame(engine.execute(f\"SELECT * FROM {dfname}\").fetchall(),\n",
    "                     columns=['index','subject','relation','object','id','subreddit','originial_sent'])\n",
    "    df_li.append(df)\n",
    "    \n",
    "creepy_kg_df = pd.concat(df_li)\n",
    "creepy_kg_df = creepy_kg_df.applymap(str)\n",
    "creepy_kg_df.to_sql(f\"creepy_kg\", con=engine, if_exists='replace')"
   ]
  },
  {
   "cell_type": "code",
   "execution_count": 57,
   "metadata": {},
   "outputs": [],
   "source": [
    "CREEPY_SUBREDDIT = ['CreepyPasta_kg','NoSleep_kg','ShortScaryStories_kg']\n",
    "NONCREEPY_SUBREDDIT = ['Confession_kg','Confessions_kg','Self_kg','StoriesAboutKevin_kg','TIFU_kg']\n",
    "IGNORED_SUBREDDIT = ['SpanishText_kg']\n",
    "\n",
    "df_li=[]\n",
    "for dfname in NONCREEPY_SUBREDDIT:\n",
    "    df = pd.DataFrame(engine.execute(f\"SELECT * FROM {dfname}\").fetchall(),\n",
    "                     columns=['index','subject','relation','object','id','subreddit','originial_sent'])\n",
    "    df_li.append(df)\n",
    "    \n",
    "noncreepy_kg_df = pd.concat(df_li)\n",
    "noncreepy_kg_df = noncreepy_kg_df.applymap(str)\n",
    "noncreepy_kg_df.to_sql(f\"noncreepy_kg\", con=engine, if_exists='replace')"
   ]
  },
  {
   "cell_type": "code",
   "execution_count": 48,
   "metadata": {},
   "outputs": [
    {
     "data": {
      "text/plain": [
       "['Confession',\n",
       " 'Confession_kg',\n",
       " 'Confessions',\n",
       " 'Confessions_kg',\n",
       " 'CreepyPasta',\n",
       " 'CreepyPasta_kg',\n",
       " 'NoSleep',\n",
       " 'NoSleep_kg',\n",
       " 'Self',\n",
       " 'Self_kg',\n",
       " 'ShortScaryStories',\n",
       " 'ShortScaryStories_kg',\n",
       " 'SpanishText',\n",
       " 'SpanishText_kg',\n",
       " 'StoriesAboutKevin',\n",
       " 'StoriesAboutKevin_kg',\n",
       " 'TIFU',\n",
       " 'TIFU_kg',\n",
       " 'creepy_kg',\n",
       " 'noncreepy_kg']"
      ]
     },
     "execution_count": 48,
     "metadata": {},
     "output_type": "execute_result"
    }
   ],
   "source": [
    "engine.table_names()"
   ]
  },
  {
   "cell_type": "code",
   "execution_count": 27,
   "metadata": {},
   "outputs": [],
   "source": [
    "from tqdm.notebook import tqdm\n",
    "# Connect to Neo4j using corresponding <port:7687> and <password>\n",
    "graph = Graph(\"bolt://localhost:11003\", auth = (\"neo4j\", \"Neo4j\"))\n",
    "# graph.delete_all()"
   ]
  },
  {
   "cell_type": "code",
   "execution_count": 60,
   "metadata": {},
   "outputs": [
    {
     "data": {
      "text/html": [
       "<div>\n",
       "<style scoped>\n",
       "    .dataframe tbody tr th:only-of-type {\n",
       "        vertical-align: middle;\n",
       "    }\n",
       "\n",
       "    .dataframe tbody tr th {\n",
       "        vertical-align: top;\n",
       "    }\n",
       "\n",
       "    .dataframe thead th {\n",
       "        text-align: right;\n",
       "    }\n",
       "</style>\n",
       "<table border=\"1\" class=\"dataframe\">\n",
       "  <thead>\n",
       "    <tr style=\"text-align: right;\">\n",
       "      <th></th>\n",
       "      <th>index</th>\n",
       "      <th>subject</th>\n",
       "      <th>relation</th>\n",
       "      <th>object</th>\n",
       "      <th>id</th>\n",
       "      <th>subreddit</th>\n",
       "      <th>originial_sent</th>\n",
       "    </tr>\n",
       "  </thead>\n",
       "  <tbody>\n",
       "    <tr>\n",
       "      <th>0</th>\n",
       "      <td>0</td>\n",
       "      <td>i</td>\n",
       "      <td>was</td>\n",
       "      <td>sure</td>\n",
       "      <td>g7y03</td>\n",
       "      <td>CreepyPasta</td>\n",
       "      <td>i was sure there was one involving Candlejack,...</td>\n",
       "    </tr>\n",
       "    <tr>\n",
       "      <th>1</th>\n",
       "      <td>1</td>\n",
       "      <td>one</td>\n",
       "      <td>involving</td>\n",
       "      <td>Candlejack</td>\n",
       "      <td>g7y03</td>\n",
       "      <td>CreepyPasta</td>\n",
       "      <td>i was sure there was one involving Candlejack,...</td>\n",
       "    </tr>\n",
       "    <tr>\n",
       "      <th>2</th>\n",
       "      <td>2</td>\n",
       "      <td>eddie</td>\n",
       "      <td>had</td>\n",
       "      <td>one sister</td>\n",
       "      <td>gn6u7</td>\n",
       "      <td>CreepyPasta</td>\n",
       "      <td>eddie had one sister.</td>\n",
       "    </tr>\n",
       "    <tr>\n",
       "      <th>3</th>\n",
       "      <td>3</td>\n",
       "      <td>he</td>\n",
       "      <td>walked at_time</td>\n",
       "      <td>one day</td>\n",
       "      <td>gn6u7</td>\n",
       "      <td>CreepyPasta</td>\n",
       "      <td>one day he walked into the bathroom</td>\n",
       "    </tr>\n",
       "    <tr>\n",
       "      <th>4</th>\n",
       "      <td>4</td>\n",
       "      <td>he</td>\n",
       "      <td>walked into</td>\n",
       "      <td>bathroom</td>\n",
       "      <td>gn6u7</td>\n",
       "      <td>CreepyPasta</td>\n",
       "      <td>one day he walked into the bathroom</td>\n",
       "    </tr>\n",
       "    <tr>\n",
       "      <th>...</th>\n",
       "      <td>...</td>\n",
       "      <td>...</td>\n",
       "      <td>...</td>\n",
       "      <td>...</td>\n",
       "      <td>...</td>\n",
       "      <td>...</td>\n",
       "      <td>...</td>\n",
       "    </tr>\n",
       "    <tr>\n",
       "      <th>27976</th>\n",
       "      <td>27976</td>\n",
       "      <td>it</td>\n",
       "      <td>has</td>\n",
       "      <td>hands</td>\n",
       "      <td>z9wq6</td>\n",
       "      <td>ShortScaryStories</td>\n",
       "      <td>oh God, it's Fucking hands.</td>\n",
       "    </tr>\n",
       "    <tr>\n",
       "      <th>27977</th>\n",
       "      <td>27977</td>\n",
       "      <td>it</td>\n",
       "      <td>has</td>\n",
       "      <td>Fucking hands</td>\n",
       "      <td>z9wq6</td>\n",
       "      <td>ShortScaryStories</td>\n",
       "      <td>oh God, it's Fucking hands.</td>\n",
       "    </tr>\n",
       "    <tr>\n",
       "      <th>27978</th>\n",
       "      <td>27978</td>\n",
       "      <td>it</td>\n",
       "      <td>'s moves in</td>\n",
       "      <td>in kill</td>\n",
       "      <td>z9wq6</td>\n",
       "      <td>ShortScaryStories</td>\n",
       "      <td>it's moves in for the kill, you pinch yourself...</td>\n",
       "    </tr>\n",
       "    <tr>\n",
       "      <th>27979</th>\n",
       "      <td>27979</td>\n",
       "      <td>it</td>\n",
       "      <td>has</td>\n",
       "      <td>moves</td>\n",
       "      <td>z9wq6</td>\n",
       "      <td>ShortScaryStories</td>\n",
       "      <td>it's moves in for the kill, you pinch yourself...</td>\n",
       "    </tr>\n",
       "    <tr>\n",
       "      <th>27980</th>\n",
       "      <td>27980</td>\n",
       "      <td>it</td>\n",
       "      <td>RAISES</td>\n",
       "      <td>hand</td>\n",
       "      <td>z9wq6</td>\n",
       "      <td>ShortScaryStories</td>\n",
       "      <td>as it RAISES a hand, four claws, one missing f...</td>\n",
       "    </tr>\n",
       "  </tbody>\n",
       "</table>\n",
       "<p>272034 rows × 7 columns</p>\n",
       "</div>"
      ],
      "text/plain": [
       "       index subject        relation         object     id          subreddit  \\\n",
       "0          0       i             was           sure  g7y03        CreepyPasta   \n",
       "1          1     one       involving     Candlejack  g7y03        CreepyPasta   \n",
       "2          2   eddie             had     one sister  gn6u7        CreepyPasta   \n",
       "3          3      he  walked at_time        one day  gn6u7        CreepyPasta   \n",
       "4          4      he     walked into       bathroom  gn6u7        CreepyPasta   \n",
       "...      ...     ...             ...            ...    ...                ...   \n",
       "27976  27976      it             has          hands  z9wq6  ShortScaryStories   \n",
       "27977  27977      it             has  Fucking hands  z9wq6  ShortScaryStories   \n",
       "27978  27978      it     's moves in        in kill  z9wq6  ShortScaryStories   \n",
       "27979  27979      it             has          moves  z9wq6  ShortScaryStories   \n",
       "27980  27980      it          RAISES           hand  z9wq6  ShortScaryStories   \n",
       "\n",
       "                                          originial_sent  \n",
       "0      i was sure there was one involving Candlejack,...  \n",
       "1      i was sure there was one involving Candlejack,...  \n",
       "2                                  eddie had one sister.  \n",
       "3                    one day he walked into the bathroom  \n",
       "4                    one day he walked into the bathroom  \n",
       "...                                                  ...  \n",
       "27976                        oh God, it's Fucking hands.  \n",
       "27977                        oh God, it's Fucking hands.  \n",
       "27978  it's moves in for the kill, you pinch yourself...  \n",
       "27979  it's moves in for the kill, you pinch yourself...  \n",
       "27980  as it RAISES a hand, four claws, one missing f...  \n",
       "\n",
       "[272034 rows x 7 columns]"
      ]
     },
     "execution_count": 60,
     "metadata": {},
     "output_type": "execute_result"
    }
   ],
   "source": [
    "creepy_kg_df"
   ]
  },
  {
   "cell_type": "code",
   "execution_count": 61,
   "metadata": {},
   "outputs": [
    {
     "data": {
      "application/vnd.jupyter.widget-view+json": {
       "model_id": "94e8f1a127b641e689ad1acd095958e9",
       "version_major": 2,
       "version_minor": 0
      },
      "text/plain": [
       "  0%|          | 0/272034 [00:00<?, ?it/s]"
      ]
     },
     "metadata": {},
     "output_type": "display_data"
    }
   ],
   "source": [
    "entities = {}\n",
    "\n",
    "# Parse the entities and build the knowledge graph in Neo4j Database\n",
    "for index, row in tqdm(creepy_kg_df.iterrows(), total=len(creepy_kg_df)):\n",
    "    index, sub, rel, obj, story_id, subreddit, original_sent = row\n",
    "    \n",
    "    sub_node = graph.nodes.match(entities.get(sub, \"Object\"), name=sub).first()\n",
    "    obj_node = graph.nodes.match(\"Object\", name=obj).first()\n",
    "    if not sub_node:\n",
    "        sub_node = Node(entities.get(sub, \"Object\"),name = sub)\n",
    "    if not obj_node:\n",
    "        obj_node = Node(entities.get(obj, \"Object\"),name = obj)\n",
    "    relation = Relationship.type(rel)    \n",
    "    graph.merge(relation(sub_node, obj_node), entities.get(sub, \"Object\"), \"name\" )"
   ]
  },
  {
   "cell_type": "code",
   "execution_count": null,
   "metadata": {},
   "outputs": [],
   "source": []
  },
  {
   "cell_type": "code",
   "execution_count": null,
   "metadata": {},
   "outputs": [],
   "source": []
  },
  {
   "cell_type": "code",
   "execution_count": 20,
   "metadata": {},
   "outputs": [
    {
     "data": {
      "text/plain": [
       " name         | versions  | edition    \n",
       "--------------|-----------|------------\n",
       " Neo4j Kernel | ['4.2.2'] | enterprise "
      ]
     },
     "execution_count": 20,
     "metadata": {},
     "output_type": "execute_result"
    }
   ],
   "source": [
    "graph.call.dbms.components()"
   ]
  },
  {
   "cell_type": "code",
   "execution_count": 29,
   "metadata": {},
   "outputs": [],
   "source": [
    "def describe(graph, node):\n",
    "    nodes = graph.run(\"MATCH ({name: '%s'})-[r]->(m)RETURN r,m\" % node)\n",
    "    flag=True\n",
    "    for node in nodes:\n",
    "        #print(node['m']['name'])\n",
    "        print(node['r'])\n",
    "        flag = False\n",
    "    if flag:\n",
    "        print(\"{} not found\".format(actor))"
   ]
  },
  {
   "cell_type": "code",
   "execution_count": 31,
   "metadata": {},
   "outputs": [
    {
     "name": "stdout",
     "output_type": "stream",
     "text": [
      "(him)-[:go {}]->(I stared)\n",
      "(him)-[:go {}]->(I stared at mirror)\n",
      "(him)-[:have laid up {}]->(there)\n",
      "(him)-[:have pulled off {}]->(it)\n",
      "(him)-[:start {}]->(chuckle)\n",
      "(him)-[:start {}]->(giggling)\n"
     ]
    }
   ],
   "source": [
    "describe(graph,'him')"
   ]
  },
  {
   "cell_type": "markdown",
   "metadata": {},
   "source": [
    "# networkx answer questions"
   ]
  },
  {
   "cell_type": "code",
   "execution_count": 38,
   "metadata": {},
   "outputs": [],
   "source": [
    "import networkx as nx\n",
    "import matplotlib.pyplot as plt\n",
    "# create a directed-graph from a dataframe\n",
    "G=nx.from_pandas_edgelist(df, \"subject\", \"object\", \n",
    "                          edge_attr=True, create_using=nx.MultiDiGraph())"
   ]
  },
  {
   "cell_type": "code",
   "execution_count": 37,
   "metadata": {},
   "outputs": [
    {
     "ename": "KeyboardInterrupt",
     "evalue": "",
     "output_type": "error",
     "traceback": [
      "\u001b[0;31m---------------------------------------------------------------------------\u001b[0m",
      "\u001b[0;31mKeyboardInterrupt\u001b[0m                         Traceback (most recent call last)",
      "\u001b[0;32m<ipython-input-37-cf4542a37b9c>\u001b[0m in \u001b[0;36m<module>\u001b[0;34m\u001b[0m\n\u001b[1;32m      7\u001b[0m \u001b[0mplt\u001b[0m\u001b[0;34m.\u001b[0m\u001b[0mfigure\u001b[0m\u001b[0;34m(\u001b[0m\u001b[0mfigsize\u001b[0m\u001b[0;34m=\u001b[0m\u001b[0;34m(\u001b[0m\u001b[0;36m12\u001b[0m\u001b[0;34m,\u001b[0m\u001b[0;36m12\u001b[0m\u001b[0;34m)\u001b[0m\u001b[0;34m)\u001b[0m\u001b[0;34m\u001b[0m\u001b[0;34m\u001b[0m\u001b[0m\n\u001b[1;32m      8\u001b[0m \u001b[0;34m\u001b[0m\u001b[0m\n\u001b[0;32m----> 9\u001b[0;31m \u001b[0mpos\u001b[0m \u001b[0;34m=\u001b[0m \u001b[0mnx\u001b[0m\u001b[0;34m.\u001b[0m\u001b[0mfruchterman_reingold_layout\u001b[0m\u001b[0;34m(\u001b[0m\u001b[0mG\u001b[0m\u001b[0;34m)\u001b[0m\u001b[0;34m\u001b[0m\u001b[0;34m\u001b[0m\u001b[0m\n\u001b[0m\u001b[1;32m     10\u001b[0m \u001b[0mnx\u001b[0m\u001b[0;34m.\u001b[0m\u001b[0mdraw\u001b[0m\u001b[0;34m(\u001b[0m\u001b[0mG\u001b[0m\u001b[0;34m,\u001b[0m \u001b[0mwith_labels\u001b[0m\u001b[0;34m=\u001b[0m\u001b[0;32mTrue\u001b[0m\u001b[0;34m,\u001b[0m \u001b[0mnode_color\u001b[0m\u001b[0;34m=\u001b[0m\u001b[0;34m'skyblue'\u001b[0m\u001b[0;34m,\u001b[0m \u001b[0medge_cmap\u001b[0m\u001b[0;34m=\u001b[0m\u001b[0mplt\u001b[0m\u001b[0;34m.\u001b[0m\u001b[0mcm\u001b[0m\u001b[0;34m.\u001b[0m\u001b[0mBlues\u001b[0m\u001b[0;34m,\u001b[0m \u001b[0mpos\u001b[0m \u001b[0;34m=\u001b[0m \u001b[0mpos\u001b[0m\u001b[0;34m)\u001b[0m\u001b[0;34m\u001b[0m\u001b[0;34m\u001b[0m\u001b[0m\n\u001b[1;32m     11\u001b[0m \u001b[0;31m# edge_labels = nx.get_edge_attributes(G,'relation')\u001b[0m\u001b[0;34m\u001b[0m\u001b[0;34m\u001b[0m\u001b[0;34m\u001b[0m\u001b[0m\n",
      "\u001b[0;32m<decorator-gen-852>\u001b[0m in \u001b[0;36mfruchterman_reingold_layout\u001b[0;34m(G, k, pos, fixed, iterations, threshold, weight, scale, center, dim, seed)\u001b[0m\n",
      "\u001b[0;32m~/.local/share/virtualenvs/Research-Mapping-Uncanny-Valley-DSc8QBrC/lib/python3.8/site-packages/networkx/utils/decorators.py\u001b[0m in \u001b[0;36m_random_state\u001b[0;34m(func, *args, **kwargs)\u001b[0m\n\u001b[1;32m    406\u001b[0m         \u001b[0mnew_args\u001b[0m \u001b[0;34m=\u001b[0m \u001b[0mlist\u001b[0m\u001b[0;34m(\u001b[0m\u001b[0margs\u001b[0m\u001b[0;34m)\u001b[0m\u001b[0;34m\u001b[0m\u001b[0;34m\u001b[0m\u001b[0m\n\u001b[1;32m    407\u001b[0m         \u001b[0mnew_args\u001b[0m\u001b[0;34m[\u001b[0m\u001b[0mrandom_state_index\u001b[0m\u001b[0;34m]\u001b[0m \u001b[0;34m=\u001b[0m \u001b[0mrandom_state\u001b[0m\u001b[0;34m\u001b[0m\u001b[0;34m\u001b[0m\u001b[0m\n\u001b[0;32m--> 408\u001b[0;31m         \u001b[0;32mreturn\u001b[0m \u001b[0mfunc\u001b[0m\u001b[0;34m(\u001b[0m\u001b[0;34m*\u001b[0m\u001b[0mnew_args\u001b[0m\u001b[0;34m,\u001b[0m \u001b[0;34m**\u001b[0m\u001b[0mkwargs\u001b[0m\u001b[0;34m)\u001b[0m\u001b[0;34m\u001b[0m\u001b[0;34m\u001b[0m\u001b[0m\n\u001b[0m\u001b[1;32m    409\u001b[0m \u001b[0;34m\u001b[0m\u001b[0m\n\u001b[1;32m    410\u001b[0m     \u001b[0;32mreturn\u001b[0m \u001b[0m_random_state\u001b[0m\u001b[0;34m\u001b[0m\u001b[0;34m\u001b[0m\u001b[0m\n",
      "\u001b[0;32m~/.local/share/virtualenvs/Research-Mapping-Uncanny-Valley-DSc8QBrC/lib/python3.8/site-packages/networkx/drawing/layout.py\u001b[0m in \u001b[0;36mfruchterman_reingold_layout\u001b[0;34m(G, k, pos, fixed, iterations, threshold, weight, scale, center, dim, seed)\u001b[0m\n\u001b[1;32m    489\u001b[0m             \u001b[0mnnodes\u001b[0m\u001b[0;34m,\u001b[0m \u001b[0m_\u001b[0m \u001b[0;34m=\u001b[0m \u001b[0mA\u001b[0m\u001b[0;34m.\u001b[0m\u001b[0mshape\u001b[0m\u001b[0;34m\u001b[0m\u001b[0;34m\u001b[0m\u001b[0m\n\u001b[1;32m    490\u001b[0m             \u001b[0mk\u001b[0m \u001b[0;34m=\u001b[0m \u001b[0mdom_size\u001b[0m \u001b[0;34m/\u001b[0m \u001b[0mnp\u001b[0m\u001b[0;34m.\u001b[0m\u001b[0msqrt\u001b[0m\u001b[0;34m(\u001b[0m\u001b[0mnnodes\u001b[0m\u001b[0;34m)\u001b[0m\u001b[0;34m\u001b[0m\u001b[0;34m\u001b[0m\u001b[0m\n\u001b[0;32m--> 491\u001b[0;31m         pos = _sparse_fruchterman_reingold(\n\u001b[0m\u001b[1;32m    492\u001b[0m             \u001b[0mA\u001b[0m\u001b[0;34m,\u001b[0m \u001b[0mk\u001b[0m\u001b[0;34m,\u001b[0m \u001b[0mpos_arr\u001b[0m\u001b[0;34m,\u001b[0m \u001b[0mfixed\u001b[0m\u001b[0;34m,\u001b[0m \u001b[0miterations\u001b[0m\u001b[0;34m,\u001b[0m \u001b[0mthreshold\u001b[0m\u001b[0;34m,\u001b[0m \u001b[0mdim\u001b[0m\u001b[0;34m,\u001b[0m \u001b[0mseed\u001b[0m\u001b[0;34m\u001b[0m\u001b[0;34m\u001b[0m\u001b[0m\n\u001b[1;32m    493\u001b[0m         )\n",
      "\u001b[0;32m<decorator-gen-856>\u001b[0m in \u001b[0;36m_sparse_fruchterman_reingold\u001b[0;34m(A, k, pos, fixed, iterations, threshold, dim, seed)\u001b[0m\n",
      "\u001b[0;32m~/.local/share/virtualenvs/Research-Mapping-Uncanny-Valley-DSc8QBrC/lib/python3.8/site-packages/networkx/utils/decorators.py\u001b[0m in \u001b[0;36m_random_state\u001b[0;34m(func, *args, **kwargs)\u001b[0m\n\u001b[1;32m    406\u001b[0m         \u001b[0mnew_args\u001b[0m \u001b[0;34m=\u001b[0m \u001b[0mlist\u001b[0m\u001b[0;34m(\u001b[0m\u001b[0margs\u001b[0m\u001b[0;34m)\u001b[0m\u001b[0;34m\u001b[0m\u001b[0;34m\u001b[0m\u001b[0m\n\u001b[1;32m    407\u001b[0m         \u001b[0mnew_args\u001b[0m\u001b[0;34m[\u001b[0m\u001b[0mrandom_state_index\u001b[0m\u001b[0;34m]\u001b[0m \u001b[0;34m=\u001b[0m \u001b[0mrandom_state\u001b[0m\u001b[0;34m\u001b[0m\u001b[0;34m\u001b[0m\u001b[0m\n\u001b[0;32m--> 408\u001b[0;31m         \u001b[0;32mreturn\u001b[0m \u001b[0mfunc\u001b[0m\u001b[0;34m(\u001b[0m\u001b[0;34m*\u001b[0m\u001b[0mnew_args\u001b[0m\u001b[0;34m,\u001b[0m \u001b[0;34m**\u001b[0m\u001b[0mkwargs\u001b[0m\u001b[0;34m)\u001b[0m\u001b[0;34m\u001b[0m\u001b[0;34m\u001b[0m\u001b[0m\n\u001b[0m\u001b[1;32m    409\u001b[0m \u001b[0;34m\u001b[0m\u001b[0m\n\u001b[1;32m    410\u001b[0m     \u001b[0;32mreturn\u001b[0m \u001b[0m_random_state\u001b[0m\u001b[0;34m\u001b[0m\u001b[0;34m\u001b[0m\u001b[0m\n",
      "\u001b[0;32m~/.local/share/virtualenvs/Research-Mapping-Uncanny-Valley-DSc8QBrC/lib/python3.8/site-packages/networkx/drawing/layout.py\u001b[0m in \u001b[0;36m_sparse_fruchterman_reingold\u001b[0;34m(A, k, pos, fixed, iterations, threshold, dim, seed)\u001b[0m\n\u001b[1;32m    633\u001b[0m             \u001b[0mdistance\u001b[0m \u001b[0;34m=\u001b[0m \u001b[0mnp\u001b[0m\u001b[0;34m.\u001b[0m\u001b[0mwhere\u001b[0m\u001b[0;34m(\u001b[0m\u001b[0mdistance\u001b[0m \u001b[0;34m<\u001b[0m \u001b[0;36m0.01\u001b[0m\u001b[0;34m,\u001b[0m \u001b[0;36m0.01\u001b[0m\u001b[0;34m,\u001b[0m \u001b[0mdistance\u001b[0m\u001b[0;34m)\u001b[0m\u001b[0;34m\u001b[0m\u001b[0;34m\u001b[0m\u001b[0m\n\u001b[1;32m    634\u001b[0m             \u001b[0;31m# the adjacency matrix row\u001b[0m\u001b[0;34m\u001b[0m\u001b[0;34m\u001b[0m\u001b[0;34m\u001b[0m\u001b[0m\n\u001b[0;32m--> 635\u001b[0;31m             \u001b[0mAi\u001b[0m \u001b[0;34m=\u001b[0m \u001b[0mnp\u001b[0m\u001b[0;34m.\u001b[0m\u001b[0masarray\u001b[0m\u001b[0;34m(\u001b[0m\u001b[0mA\u001b[0m\u001b[0;34m.\u001b[0m\u001b[0mgetrowview\u001b[0m\u001b[0;34m(\u001b[0m\u001b[0mi\u001b[0m\u001b[0;34m)\u001b[0m\u001b[0;34m.\u001b[0m\u001b[0mtoarray\u001b[0m\u001b[0;34m(\u001b[0m\u001b[0;34m)\u001b[0m\u001b[0;34m)\u001b[0m\u001b[0;34m\u001b[0m\u001b[0;34m\u001b[0m\u001b[0m\n\u001b[0m\u001b[1;32m    636\u001b[0m             \u001b[0;31m# displacement \"force\"\u001b[0m\u001b[0;34m\u001b[0m\u001b[0;34m\u001b[0m\u001b[0;34m\u001b[0m\u001b[0m\n\u001b[1;32m    637\u001b[0m             displacement[:, i] += (\n",
      "\u001b[0;32m~/.local/share/virtualenvs/Research-Mapping-Uncanny-Valley-DSc8QBrC/lib/python3.8/site-packages/scipy/sparse/lil.py\u001b[0m in \u001b[0;36mgetrowview\u001b[0;34m(self, i)\u001b[0m\n\u001b[1;32m    185\u001b[0m         \"\"\"Returns a view of the 'i'th row (without copying).\n\u001b[1;32m    186\u001b[0m         \"\"\"\n\u001b[0;32m--> 187\u001b[0;31m         \u001b[0mnew\u001b[0m \u001b[0;34m=\u001b[0m \u001b[0mlil_matrix\u001b[0m\u001b[0;34m(\u001b[0m\u001b[0;34m(\u001b[0m\u001b[0;36m1\u001b[0m\u001b[0;34m,\u001b[0m \u001b[0mself\u001b[0m\u001b[0;34m.\u001b[0m\u001b[0mshape\u001b[0m\u001b[0;34m[\u001b[0m\u001b[0;36m1\u001b[0m\u001b[0;34m]\u001b[0m\u001b[0;34m)\u001b[0m\u001b[0;34m,\u001b[0m \u001b[0mdtype\u001b[0m\u001b[0;34m=\u001b[0m\u001b[0mself\u001b[0m\u001b[0;34m.\u001b[0m\u001b[0mdtype\u001b[0m\u001b[0;34m)\u001b[0m\u001b[0;34m\u001b[0m\u001b[0;34m\u001b[0m\u001b[0m\n\u001b[0m\u001b[1;32m    188\u001b[0m         \u001b[0mnew\u001b[0m\u001b[0;34m.\u001b[0m\u001b[0mrows\u001b[0m\u001b[0;34m[\u001b[0m\u001b[0;36m0\u001b[0m\u001b[0;34m]\u001b[0m \u001b[0;34m=\u001b[0m \u001b[0mself\u001b[0m\u001b[0;34m.\u001b[0m\u001b[0mrows\u001b[0m\u001b[0;34m[\u001b[0m\u001b[0mi\u001b[0m\u001b[0;34m]\u001b[0m\u001b[0;34m\u001b[0m\u001b[0;34m\u001b[0m\u001b[0m\n\u001b[1;32m    189\u001b[0m         \u001b[0mnew\u001b[0m\u001b[0;34m.\u001b[0m\u001b[0mdata\u001b[0m\u001b[0;34m[\u001b[0m\u001b[0;36m0\u001b[0m\u001b[0;34m]\u001b[0m \u001b[0;34m=\u001b[0m \u001b[0mself\u001b[0m\u001b[0;34m.\u001b[0m\u001b[0mdata\u001b[0m\u001b[0;34m[\u001b[0m\u001b[0mi\u001b[0m\u001b[0;34m]\u001b[0m\u001b[0;34m\u001b[0m\u001b[0;34m\u001b[0m\u001b[0m\n",
      "\u001b[0;32m~/.local/share/virtualenvs/Research-Mapping-Uncanny-Valley-DSc8QBrC/lib/python3.8/site-packages/scipy/sparse/lil.py\u001b[0m in \u001b[0;36m__init__\u001b[0;34m(self, arg1, shape, dtype, copy)\u001b[0m\n\u001b[1;32m     85\u001b[0m     \u001b[0;32mdef\u001b[0m \u001b[0m__init__\u001b[0m\u001b[0;34m(\u001b[0m\u001b[0mself\u001b[0m\u001b[0;34m,\u001b[0m \u001b[0marg1\u001b[0m\u001b[0;34m,\u001b[0m \u001b[0mshape\u001b[0m\u001b[0;34m=\u001b[0m\u001b[0;32mNone\u001b[0m\u001b[0;34m,\u001b[0m \u001b[0mdtype\u001b[0m\u001b[0;34m=\u001b[0m\u001b[0;32mNone\u001b[0m\u001b[0;34m,\u001b[0m \u001b[0mcopy\u001b[0m\u001b[0;34m=\u001b[0m\u001b[0;32mFalse\u001b[0m\u001b[0;34m)\u001b[0m\u001b[0;34m:\u001b[0m\u001b[0;34m\u001b[0m\u001b[0;34m\u001b[0m\u001b[0m\n\u001b[1;32m     86\u001b[0m         \u001b[0mspmatrix\u001b[0m\u001b[0;34m.\u001b[0m\u001b[0m__init__\u001b[0m\u001b[0;34m(\u001b[0m\u001b[0mself\u001b[0m\u001b[0;34m)\u001b[0m\u001b[0;34m\u001b[0m\u001b[0;34m\u001b[0m\u001b[0m\n\u001b[0;32m---> 87\u001b[0;31m         \u001b[0mself\u001b[0m\u001b[0;34m.\u001b[0m\u001b[0mdtype\u001b[0m \u001b[0;34m=\u001b[0m \u001b[0mgetdtype\u001b[0m\u001b[0;34m(\u001b[0m\u001b[0mdtype\u001b[0m\u001b[0;34m,\u001b[0m \u001b[0marg1\u001b[0m\u001b[0;34m,\u001b[0m \u001b[0mdefault\u001b[0m\u001b[0;34m=\u001b[0m\u001b[0mfloat\u001b[0m\u001b[0;34m)\u001b[0m\u001b[0;34m\u001b[0m\u001b[0;34m\u001b[0m\u001b[0m\n\u001b[0m\u001b[1;32m     88\u001b[0m \u001b[0;34m\u001b[0m\u001b[0m\n\u001b[1;32m     89\u001b[0m         \u001b[0;31m# First get the shape\u001b[0m\u001b[0;34m\u001b[0m\u001b[0;34m\u001b[0m\u001b[0;34m\u001b[0m\u001b[0m\n",
      "\u001b[0;31mKeyboardInterrupt\u001b[0m: "
     ]
    },
    {
     "data": {
      "text/plain": [
       "<Figure size 864x864 with 0 Axes>"
      ]
     },
     "metadata": {},
     "output_type": "display_data"
    }
   ],
   "source": [
    "plt.figure(figsize=(12,12))\n",
    "\n",
    "pos = nx.fruchterman_reingold_layout(G)\n",
    "nx.draw(G, with_labels=True, node_color='skyblue', edge_cmap=plt.cm.Blues, pos = pos)\n",
    "# edge_labels = nx.get_edge_attributes(G,'relation')\n",
    "# for old_key in list(edge_labels):\n",
    "#     new_key = old_key[:2]\n",
    "#     edge_labels[new_key] = edge_labels.pop(old_key)\n",
    "# nx.draw_networkx_edge_labels(G, pos, edge_labels=edge_labels)\n",
    "plt.show()"
   ]
  },
  {
   "cell_type": "code",
   "execution_count": 39,
   "metadata": {},
   "outputs": [
    {
     "data": {
      "text/plain": [
       "6101"
      ]
     },
     "execution_count": 39,
     "metadata": {},
     "output_type": "execute_result"
    }
   ],
   "source": [
    "G.number_of_nodes()"
   ]
  },
  {
   "cell_type": "code",
   "execution_count": 40,
   "metadata": {},
   "outputs": [
    {
     "data": {
      "text/plain": [
       "10000"
      ]
     },
     "execution_count": 40,
     "metadata": {},
     "output_type": "execute_result"
    }
   ],
   "source": [
    "G.size()"
   ]
  },
  {
   "cell_type": "code",
   "execution_count": null,
   "metadata": {},
   "outputs": [],
   "source": []
  }
 ],
 "metadata": {
  "kernelspec": {
   "display_name": "creepy-venv",
   "language": "python",
   "name": "creepy-venv"
  },
  "language_info": {
   "codemirror_mode": {
    "name": "ipython",
    "version": 3
   },
   "file_extension": ".py",
   "mimetype": "text/x-python",
   "name": "python",
   "nbconvert_exporter": "python",
   "pygments_lexer": "ipython3",
   "version": "3.8.5"
  }
 },
 "nbformat": 4,
 "nbformat_minor": 4
}
