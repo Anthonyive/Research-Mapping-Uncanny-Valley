{
 "cells": [
  {
   "cell_type": "code",
   "execution_count": 2,
   "metadata": {},
   "outputs": [],
   "source": [
    "import pandas as pd\n",
    "import numpy as np\n",
    "\n",
    "kevin = pd.read_pickle('Download/Cleaned Data with Longformer/StoriesAboutKevin.csv.pkl')\n",
    "creepy = pd.read_pickle('Download/Cleaned Data with Longformer/CreepyPasta.csv.pkl')\n",
    "creepy = creepy[:len(kevin)].copy()"
   ]
  },
  {
   "cell_type": "code",
   "execution_count": 15,
   "metadata": {},
   "outputs": [],
   "source": [
    "from textblob import TextBlob"
   ]
  },
  {
   "cell_type": "code",
   "execution_count": 16,
   "metadata": {},
   "outputs": [],
   "source": [
    "zen = TextBlob(kevin.loc[4,'selftext'])"
   ]
  },
  {
   "cell_type": "code",
   "execution_count": 17,
   "metadata": {},
   "outputs": [
    {
     "data": {
      "text/plain": [
       "[Sentence(\"I was living with my older brother while attending college and stayed up one night to watch the lunar eclipse.\"),\n",
       " Sentence(\"As I rushed outside my brother asked where I was going in such a rush.\"),\n",
       " Sentence(\"I told him I wanted to see the lunar eclipse.\"),\n",
       " Sentence(\"He the asked (and I quote), \"Is that when the sun goes in front of the moon?\"\"),\n",
       " Sentence(\"He wasn't always a Kevin.\"),\n",
       " Sentence(\"He was a hippie in the Sixties and just continued to drink and drug well past the point of idiocy.\"),\n",
       " Sentence(\"I've seen him nail his hand to a wall, walk off of a loading dock and face plant, stab himself in the knee with a screwdriver, loose the ability to read and write over time.\"),\n",
       " Sentence(\"I'm not sure a self-made Kevin counts but there it is.\")]"
      ]
     },
     "execution_count": 17,
     "metadata": {},
     "output_type": "execute_result"
    }
   ],
   "source": [
    "zen.sentences"
   ]
  },
  {
   "cell_type": "code",
   "execution_count": 18,
   "metadata": {},
   "outputs": [
    {
     "name": "stdout",
     "output_type": "stream",
     "text": [
      "Sentiment(polarity=0.16666666666666666, subjectivity=0.3333333333333333)\n",
      "Sentiment(polarity=0.0, subjectivity=0.275)\n",
      "Sentiment(polarity=0.0, subjectivity=0.0)\n",
      "Sentiment(polarity=0.0, subjectivity=0.0)\n",
      "Sentiment(polarity=0.0, subjectivity=0.0)\n",
      "Sentiment(polarity=-0.275, subjectivity=0.325)\n",
      "Sentiment(polarity=-0.07692307692307693, subjectivity=0.2692307692307692)\n",
      "Sentiment(polarity=-0.25, subjectivity=0.8888888888888888)\n"
     ]
    }
   ],
   "source": [
    "for sentence in zen.sentences:\n",
    "    print(sentence.sentiment)"
   ]
  },
  {
   "cell_type": "code",
   "execution_count": 46,
   "metadata": {},
   "outputs": [
    {
     "data": {
      "text/plain": [
       "Sentiment(polarity=-0.10146520146520145, subjectivity=0.38449328449328446, assessments=[(['older'], 0.16666666666666666, 0.3333333333333333, None), (['outside'], 0.0, 0.05, None), (['such'], 0.0, 0.5, None), (['past'], -0.25, 0.25, None), (['idiocy'], -0.3, 0.4, None), (['loose'], -0.07692307692307693, 0.2692307692307692, None), (['not', 'sure'], -0.25, 0.8888888888888888, None)])"
      ]
     },
     "execution_count": 46,
     "metadata": {},
     "output_type": "execute_result"
    }
   ],
   "source": [
    "zen.sentiment_assessments"
   ]
  },
  {
   "cell_type": "code",
   "execution_count": 43,
   "metadata": {},
   "outputs": [
    {
     "data": {
      "text/plain": [
       "(-0.10146520146520145, 0.38449328449328446)"
      ]
     },
     "execution_count": 43,
     "metadata": {},
     "output_type": "execute_result"
    }
   ],
   "source": [
    "tuple(list(zen.sentiment_assessments)[:2])"
   ]
  },
  {
   "cell_type": "code",
   "execution_count": 54,
   "metadata": {},
   "outputs": [],
   "source": [
    "def blob_senti_assessments(text):\n",
    "    zen = TextBlob(text)\n",
    "    polarity, subjectivity = tuple(zen.sentiment_assessments)[:2]\n",
    "    return polarity, subjectivity\n",
    "\n",
    "creepy['polarity'], creepy['subjectivity'] = zip(*creepy['selftext'].map(blob_senti_assessments))\n",
    "kevin['polarity'], kevin['subjectivity'] = zip(*kevin['selftext'].map(blob_senti_assessments))"
   ]
  },
  {
   "cell_type": "code",
   "execution_count": 50,
   "metadata": {},
   "outputs": [],
   "source": [
    "import tensorflow as tf"
   ]
  },
  {
   "cell_type": "code",
   "execution_count": 51,
   "metadata": {},
   "outputs": [],
   "source": [
    "creepyLF = tf.stack(creepy.loc[:,'LF pooler output'].to_list())\n",
    "kevinLF = tf.stack(kevin.loc[:,'LF pooler output'].to_list())\n",
    "\n",
    "creepyLF = tf.reshape(creepyLF, creepyLF.shape[::2])\n",
    "kevinLF = tf.reshape(kevinLF, kevinLF.shape[::2])"
   ]
  },
  {
   "cell_type": "code",
   "execution_count": 55,
   "metadata": {},
   "outputs": [],
   "source": [
    "import numpy as np\n",
    "from sklearn.manifold import TSNE\n",
    "import seaborn as sns\n",
    "\n",
    "%matplotlib widget\n",
    "import matplotlib.pyplot as plt\n",
    "\n",
    "X_embedded_nosleep = TSNE(perplexity=30, learning_rate=50, n_components=3, n_iter=5000).fit_transform(creepyLF)\n",
    "X_embedded_self = TSNE(perplexity=30, learning_rate=50, n_components=3, n_iter=2000).fit_transform(kevinLF)\n",
    "\n",
    "df1 = pd.DataFrame(X_embedded_nosleep, columns=['x','y', 'z'])\n",
    "df1['subreddit'] = 'creepy'\n",
    "df1[['polarity','subjectivity']] = creepy[['polarity','subjectivity']]\n",
    "df2 = pd.DataFrame(X_embedded_self, columns=['x','y', 'z'])\n",
    "df2['subreddit'] = 'kevin'\n",
    "df2[['polarity','subjectivity']] = kevin[['polarity','subjectivity']]\n",
    "\n",
    "df = pd.concat([df1,df2])"
   ]
  },
  {
   "cell_type": "code",
   "execution_count": 56,
   "metadata": {},
   "outputs": [
    {
     "data": {
      "text/html": [
       "<div>\n",
       "<style scoped>\n",
       "    .dataframe tbody tr th:only-of-type {\n",
       "        vertical-align: middle;\n",
       "    }\n",
       "\n",
       "    .dataframe tbody tr th {\n",
       "        vertical-align: top;\n",
       "    }\n",
       "\n",
       "    .dataframe thead th {\n",
       "        text-align: right;\n",
       "    }\n",
       "</style>\n",
       "<table border=\"1\" class=\"dataframe\">\n",
       "  <thead>\n",
       "    <tr style=\"text-align: right;\">\n",
       "      <th></th>\n",
       "      <th>x</th>\n",
       "      <th>y</th>\n",
       "      <th>z</th>\n",
       "      <th>subreddit</th>\n",
       "      <th>polarity</th>\n",
       "      <th>subjectivity</th>\n",
       "    </tr>\n",
       "  </thead>\n",
       "  <tbody>\n",
       "    <tr>\n",
       "      <th>0</th>\n",
       "      <td>-13.846015</td>\n",
       "      <td>-30.075722</td>\n",
       "      <td>19.178976</td>\n",
       "      <td>creepy</td>\n",
       "      <td>0.500000</td>\n",
       "      <td>0.888889</td>\n",
       "    </tr>\n",
       "    <tr>\n",
       "      <th>1</th>\n",
       "      <td>-1.835241</td>\n",
       "      <td>-0.122834</td>\n",
       "      <td>16.612370</td>\n",
       "      <td>creepy</td>\n",
       "      <td>-0.156250</td>\n",
       "      <td>0.375000</td>\n",
       "    </tr>\n",
       "    <tr>\n",
       "      <th>2</th>\n",
       "      <td>-1.686234</td>\n",
       "      <td>-12.288081</td>\n",
       "      <td>41.553974</td>\n",
       "      <td>creepy</td>\n",
       "      <td>0.075000</td>\n",
       "      <td>0.400000</td>\n",
       "    </tr>\n",
       "    <tr>\n",
       "      <th>3</th>\n",
       "      <td>-5.652670</td>\n",
       "      <td>3.080822</td>\n",
       "      <td>17.556034</td>\n",
       "      <td>creepy</td>\n",
       "      <td>-0.026020</td>\n",
       "      <td>0.429932</td>\n",
       "    </tr>\n",
       "    <tr>\n",
       "      <th>4</th>\n",
       "      <td>-7.979607</td>\n",
       "      <td>-6.499038</td>\n",
       "      <td>14.884555</td>\n",
       "      <td>creepy</td>\n",
       "      <td>0.459615</td>\n",
       "      <td>0.532692</td>\n",
       "    </tr>\n",
       "    <tr>\n",
       "      <th>...</th>\n",
       "      <td>...</td>\n",
       "      <td>...</td>\n",
       "      <td>...</td>\n",
       "      <td>...</td>\n",
       "      <td>...</td>\n",
       "      <td>...</td>\n",
       "    </tr>\n",
       "    <tr>\n",
       "      <th>3398</th>\n",
       "      <td>-5.209599</td>\n",
       "      <td>0.949645</td>\n",
       "      <td>12.987222</td>\n",
       "      <td>kevin</td>\n",
       "      <td>-0.009167</td>\n",
       "      <td>0.492778</td>\n",
       "    </tr>\n",
       "    <tr>\n",
       "      <th>3399</th>\n",
       "      <td>-17.569633</td>\n",
       "      <td>-17.486656</td>\n",
       "      <td>-4.802795</td>\n",
       "      <td>kevin</td>\n",
       "      <td>0.455000</td>\n",
       "      <td>0.280000</td>\n",
       "    </tr>\n",
       "    <tr>\n",
       "      <th>3400</th>\n",
       "      <td>-11.678261</td>\n",
       "      <td>17.448963</td>\n",
       "      <td>10.173971</td>\n",
       "      <td>kevin</td>\n",
       "      <td>-0.247966</td>\n",
       "      <td>0.559127</td>\n",
       "    </tr>\n",
       "    <tr>\n",
       "      <th>3401</th>\n",
       "      <td>2.363497</td>\n",
       "      <td>27.583939</td>\n",
       "      <td>21.587803</td>\n",
       "      <td>kevin</td>\n",
       "      <td>-0.001716</td>\n",
       "      <td>0.413725</td>\n",
       "    </tr>\n",
       "    <tr>\n",
       "      <th>3402</th>\n",
       "      <td>4.659627</td>\n",
       "      <td>3.727932</td>\n",
       "      <td>18.521519</td>\n",
       "      <td>kevin</td>\n",
       "      <td>-0.089008</td>\n",
       "      <td>0.296865</td>\n",
       "    </tr>\n",
       "  </tbody>\n",
       "</table>\n",
       "<p>6806 rows × 6 columns</p>\n",
       "</div>"
      ],
      "text/plain": [
       "              x          y          z subreddit  polarity  subjectivity\n",
       "0    -13.846015 -30.075722  19.178976    creepy  0.500000      0.888889\n",
       "1     -1.835241  -0.122834  16.612370    creepy -0.156250      0.375000\n",
       "2     -1.686234 -12.288081  41.553974    creepy  0.075000      0.400000\n",
       "3     -5.652670   3.080822  17.556034    creepy -0.026020      0.429932\n",
       "4     -7.979607  -6.499038  14.884555    creepy  0.459615      0.532692\n",
       "...         ...        ...        ...       ...       ...           ...\n",
       "3398  -5.209599   0.949645  12.987222     kevin -0.009167      0.492778\n",
       "3399 -17.569633 -17.486656  -4.802795     kevin  0.455000      0.280000\n",
       "3400 -11.678261  17.448963  10.173971     kevin -0.247966      0.559127\n",
       "3401   2.363497  27.583939  21.587803     kevin -0.001716      0.413725\n",
       "3402   4.659627   3.727932  18.521519     kevin -0.089008      0.296865\n",
       "\n",
       "[6806 rows x 6 columns]"
      ]
     },
     "execution_count": 56,
     "metadata": {},
     "output_type": "execute_result"
    }
   ],
   "source": [
    "df"
   ]
  },
  {
   "cell_type": "code",
   "execution_count": 57,
   "metadata": {},
   "outputs": [],
   "source": [
    "import matplotlib.cm as cm\n",
    "\n",
    "creepy_colors = cm.rainbow(np.linspace(0, 1, 4))\n",
    "kevin_colors = cm.rainbow(np.linspace(0, 1, 4))"
   ]
  },
  {
   "cell_type": "code",
   "execution_count": 65,
   "metadata": {},
   "outputs": [
    {
     "data": {
      "text/plain": [
       "array([[-13.846014976501465, -1.8352407217025757, -1.6862335205078125,\n",
       "        ..., -11.678260803222656, 2.363496780395508, 4.659627437591553],\n",
       "       [-30.075721740722656, -0.12283439934253693, -12.288081169128418,\n",
       "        ..., 17.448963165283203, 27.583938598632812, 3.7279324531555176],\n",
       "       [19.17897605895996, 16.612369537353516, 41.55397415161133, ...,\n",
       "        10.173971176147461, 21.58780288696289, 18.52151870727539],\n",
       "       ['creepy', 'creepy', 'creepy', ..., 'kevin', 'kevin', 'kevin'],\n",
       "       [0.5, -0.15625, 0.07500000000000001, ..., -0.24796626984126982,\n",
       "        -0.0017156862745098076, -0.08900793650793652],\n",
       "       [0.8888888888888888, 0.375, 0.4, ..., 0.5591269841269841,\n",
       "        0.41372549019607846, 0.2968650793650794]], dtype=object)"
      ]
     },
     "execution_count": 65,
     "metadata": {},
     "output_type": "execute_result"
    }
   ],
   "source": [
    "df.T.values"
   ]
  },
  {
   "cell_type": "code",
   "execution_count": 71,
   "metadata": {},
   "outputs": [
    {
     "data": {
      "application/vnd.jupyter.widget-view+json": {
       "model_id": "238aa92033654fc499494f598847c34c",
       "version_major": 2,
       "version_minor": 0
      },
      "text/plain": [
       "Canvas(toolbar=Toolbar(toolitems=[('Home', 'Reset original view', 'home', 'home'), ('Back', 'Back to previous …"
      ]
     },
     "metadata": {},
     "output_type": "display_data"
    }
   ],
   "source": [
    "from mpl_toolkits.mplot3d import Axes3D,axes3d\n",
    "sns.set(style = \"darkgrid\")\n",
    "\n",
    "\n",
    "\n",
    "fig = plt.figure()\n",
    "fig.set_size_inches(18.5, 10.5)\n",
    "ax = fig.add_subplot(111, projection = '3d')\n",
    "\n",
    "ax.set_xlabel(\"x\")\n",
    "ax.set_ylabel(\"y\")\n",
    "ax.set_zlabel(\"z\")\n",
    "\n",
    "ax.scatter(df[(df['subreddit']=='creepy') & (df['polarity']>0.5) & (df['subjectivity']>0.5)]['x'], \n",
    "           df[(df['subreddit']=='creepy') & (df['polarity']>0.5) & (df['subjectivity']>0.5)]['y'], \n",
    "           df[(df['subreddit']=='creepy') & (df['polarity']>0.5) & (df['subjectivity']>0.5)]['z'], \n",
    "           c='brown', label='CreepyPasta (p&s > 0.5)')\n",
    "ax.scatter(df[(df['subreddit']=='creepy') & (df['polarity']<0.5) & (df['subjectivity']>=0.5)]['x'], \n",
    "           df[(df['subreddit']=='creepy') & (df['polarity']<0.5) & (df['subjectivity']>=0.5)]['y'], \n",
    "           df[(df['subreddit']=='creepy') & (df['polarity']<0.5) & (df['subjectivity']>=0.5)]['z'], \n",
    "           c='red', label='CreepyPasta (p<0.5, s>0.5)', marker='^')\n",
    "ax.scatter(df[(df['subreddit']=='creepy') & (df['polarity']>=0.5) & (df['subjectivity']<0.5)]['x'], \n",
    "           df[(df['subreddit']=='creepy') & (df['polarity']>=0.5) & (df['subjectivity']<0.5)]['y'], \n",
    "           df[(df['subreddit']=='creepy') & (df['polarity']>=0.5) & (df['subjectivity']<0.5)]['z'], \n",
    "           c='coral', label='CreepyPasta (p>0.5, s<0.5)', marker='s')\n",
    "ax.scatter(df[(df['subreddit']=='creepy') & (df['polarity']<=0.5) & (df['subjectivity']<=0.5)]['x'], \n",
    "           df[(df['subreddit']=='creepy') & (df['polarity']<=0.5) & (df['subjectivity']<=0.5)]['y'], \n",
    "           df[(df['subreddit']=='creepy') & (df['polarity']<=0.5) & (df['subjectivity']<=0.5)]['z'], \n",
    "           c='chocolate', label='CreepyPasta (p&s<0.5)', marker='P')\n",
    "\n",
    "ax.scatter(df[(df['subreddit']=='kevin') & (df['polarity']>0.5) & (df['subjectivity']>0.5)]['x'], \n",
    "           df[(df['subreddit']=='kevin') & (df['polarity']>0.5) & (df['subjectivity']>0.5)]['y'], \n",
    "           df[(df['subreddit']=='kevin') & (df['polarity']>0.5) & (df['subjectivity']>0.5)]['z'], \n",
    "           c='brown', label='StoriesAboutKevin (p&s > 0.5)')\n",
    "ax.scatter(df[(df['subreddit']=='kevin') & (df['polarity']<0.5) & (df['subjectivity']>=0.5)]['x'], \n",
    "           df[(df['subreddit']=='kevin') & (df['polarity']<0.5) & (df['subjectivity']>=0.5)]['y'], \n",
    "           df[(df['subreddit']=='kevin') & (df['polarity']<0.5) & (df['subjectivity']>=0.5)]['z'], \n",
    "           c='red', label='StoriesAboutKevin (p<0.5, s>0.5)', marker='^')\n",
    "ax.scatter(df[(df['subreddit']=='kevin') & (df['polarity']>=0.5) & (df['subjectivity']<0.5)]['x'], \n",
    "           df[(df['subreddit']=='kevin') & (df['polarity']>=0.5) & (df['subjectivity']<0.5)]['y'], \n",
    "           df[(df['subreddit']=='kevin') & (df['polarity']>=0.5) & (df['subjectivity']<0.5)]['z'], \n",
    "           c='coral', label='StoriesAboutKevin (p>0.5, s<0.5)', marker='s')\n",
    "ax.scatter(df[(df['subreddit']=='kevin') & (df['polarity']<=0.5) & (df['subjectivity']<=0.5)]['x'], \n",
    "           df[(df['subreddit']=='kevin') & (df['polarity']<=0.5) & (df['subjectivity']<=0.5)]['y'], \n",
    "           df[(df['subreddit']=='kevin') & (df['polarity']<=0.5) & (df['subjectivity']<=0.5)]['z'], \n",
    "           c='chocolate', label='StoriesAboutKevin (p&s<0.5)', marker='P')\n",
    "plt.legend()\n",
    "\n",
    "plt.show()\n"
   ]
  },
  {
   "cell_type": "code",
   "execution_count": null,
   "metadata": {},
   "outputs": [],
   "source": []
  }
 ],
 "metadata": {
  "kernelspec": {
   "display_name": "creepy-venv",
   "language": "python",
   "name": "creepy-venv"
  },
  "language_info": {
   "codemirror_mode": {
    "name": "ipython",
    "version": 3
   },
   "file_extension": ".py",
   "mimetype": "text/x-python",
   "name": "python",
   "nbconvert_exporter": "python",
   "pygments_lexer": "ipython3",
   "version": "3.8.5"
  }
 },
 "nbformat": 4,
 "nbformat_minor": 4
}
