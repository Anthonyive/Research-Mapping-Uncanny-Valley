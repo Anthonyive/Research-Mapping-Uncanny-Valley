{
 "cells": [
  {
   "cell_type": "code",
   "execution_count": 1,
   "metadata": {},
   "outputs": [],
   "source": [
    "import pandas as pd\n",
    "import numpy as np\n",
    "\n",
    "kevin = pd.read_pickle('Download/Cleaned Data with Longformer/StoriesAboutKevin.csv.pkl')\n",
    "creepy = pd.read_pickle('Download/Cleaned Data with Longformer/CreepyPasta.csv.pkl')\n",
    "creepy = creepy[:len(kevin)].copy()"
   ]
  },
  {
   "cell_type": "code",
   "execution_count": 2,
   "metadata": {},
   "outputs": [],
   "source": [
    "from textblob import TextBlob"
   ]
  },
  {
   "cell_type": "code",
   "execution_count": 3,
   "metadata": {},
   "outputs": [],
   "source": [
    "zen = TextBlob(kevin.loc[4,'selftext'])"
   ]
  },
  {
   "cell_type": "code",
   "execution_count": 4,
   "metadata": {},
   "outputs": [
    {
     "data": {
      "text/plain": [
       "[Sentence(\"I was living with my older brother while attending college and stayed up one night to watch the lunar eclipse.\"),\n",
       " Sentence(\"As I rushed outside my brother asked where I was going in such a rush.\"),\n",
       " Sentence(\"I told him I wanted to see the lunar eclipse.\"),\n",
       " Sentence(\"He the asked (and I quote), \"Is that when the sun goes in front of the moon?\"\"),\n",
       " Sentence(\"He wasn't always a Kevin.\"),\n",
       " Sentence(\"He was a hippie in the Sixties and just continued to drink and drug well past the point of idiocy.\"),\n",
       " Sentence(\"I've seen him nail his hand to a wall, walk off of a loading dock and face plant, stab himself in the knee with a screwdriver, loose the ability to read and write over time.\"),\n",
       " Sentence(\"I'm not sure a self-made Kevin counts but there it is.\")]"
      ]
     },
     "execution_count": 4,
     "metadata": {},
     "output_type": "execute_result"
    }
   ],
   "source": [
    "zen.sentences"
   ]
  },
  {
   "cell_type": "code",
   "execution_count": 5,
   "metadata": {},
   "outputs": [
    {
     "name": "stdout",
     "output_type": "stream",
     "text": [
      "Sentiment(polarity=0.16666666666666666, subjectivity=0.3333333333333333)\n",
      "Sentiment(polarity=0.0, subjectivity=0.275)\n",
      "Sentiment(polarity=0.0, subjectivity=0.0)\n",
      "Sentiment(polarity=0.0, subjectivity=0.0)\n",
      "Sentiment(polarity=0.0, subjectivity=0.0)\n",
      "Sentiment(polarity=-0.275, subjectivity=0.325)\n",
      "Sentiment(polarity=-0.07692307692307693, subjectivity=0.2692307692307692)\n",
      "Sentiment(polarity=-0.25, subjectivity=0.8888888888888888)\n"
     ]
    }
   ],
   "source": [
    "for sentence in zen.sentences:\n",
    "    print(sentence.sentiment)"
   ]
  },
  {
   "cell_type": "code",
   "execution_count": 6,
   "metadata": {},
   "outputs": [
    {
     "data": {
      "text/plain": [
       "Sentiment(polarity=-0.10146520146520145, subjectivity=0.38449328449328446, assessments=[(['older'], 0.16666666666666666, 0.3333333333333333, None), (['outside'], 0.0, 0.05, None), (['such'], 0.0, 0.5, None), (['past'], -0.25, 0.25, None), (['idiocy'], -0.3, 0.4, None), (['loose'], -0.07692307692307693, 0.2692307692307692, None), (['not', 'sure'], -0.25, 0.8888888888888888, None)])"
      ]
     },
     "execution_count": 6,
     "metadata": {},
     "output_type": "execute_result"
    }
   ],
   "source": [
    "zen.sentiment_assessments"
   ]
  },
  {
   "cell_type": "code",
   "execution_count": 7,
   "metadata": {},
   "outputs": [
    {
     "data": {
      "text/plain": [
       "(-0.10146520146520145, 0.38449328449328446)"
      ]
     },
     "execution_count": 7,
     "metadata": {},
     "output_type": "execute_result"
    }
   ],
   "source": [
    "tuple(list(zen.sentiment_assessments)[:2])"
   ]
  },
  {
   "cell_type": "code",
   "execution_count": 8,
   "metadata": {},
   "outputs": [],
   "source": [
    "def blob_senti_assessments(text):\n",
    "    zen = TextBlob(text)\n",
    "    polarity, subjectivity = tuple(zen.sentiment_assessments)[:2]\n",
    "    return polarity, subjectivity\n",
    "\n",
    "creepy['polarity'], creepy['subjectivity'] = zip(*creepy['selftext'].map(blob_senti_assessments))\n",
    "kevin['polarity'], kevin['subjectivity'] = zip(*kevin['selftext'].map(blob_senti_assessments))"
   ]
  },
  {
   "cell_type": "code",
   "execution_count": 9,
   "metadata": {},
   "outputs": [],
   "source": [
    "import tensorflow as tf"
   ]
  },
  {
   "cell_type": "code",
   "execution_count": 10,
   "metadata": {},
   "outputs": [],
   "source": [
    "creepyLF = tf.stack(creepy.loc[:,'LF pooler output'].to_list())\n",
    "kevinLF = tf.stack(kevin.loc[:,'LF pooler output'].to_list())\n",
    "\n",
    "creepyLF = tf.reshape(creepyLF, creepyLF.shape[::2])\n",
    "kevinLF = tf.reshape(kevinLF, kevinLF.shape[::2])"
   ]
  },
  {
   "cell_type": "code",
   "execution_count": 11,
   "metadata": {},
   "outputs": [],
   "source": [
    "import numpy as np\n",
    "from sklearn.manifold import TSNE\n",
    "import seaborn as sns\n",
    "\n",
    "%matplotlib widget\n",
    "import matplotlib.pyplot as plt\n",
    "\n",
    "X_embedded_nosleep = TSNE(perplexity=30, learning_rate=50, n_components=3, n_iter=5000).fit_transform(creepyLF)\n",
    "X_embedded_self = TSNE(perplexity=30, learning_rate=50, n_components=3, n_iter=2000).fit_transform(kevinLF)\n",
    "\n",
    "df1 = pd.DataFrame(X_embedded_nosleep, columns=['x','y', 'z'])\n",
    "df1['subreddit'] = 'creepy'\n",
    "df1[['polarity','subjectivity']] = creepy[['polarity','subjectivity']]\n",
    "df2 = pd.DataFrame(X_embedded_self, columns=['x','y', 'z'])\n",
    "df2['subreddit'] = 'kevin'\n",
    "df2[['polarity','subjectivity']] = kevin[['polarity','subjectivity']]\n",
    "\n",
    "df = pd.concat([df1,df2])"
   ]
  },
  {
   "cell_type": "code",
   "execution_count": 12,
   "metadata": {},
   "outputs": [
    {
     "data": {
      "text/html": [
       "<div>\n",
       "<style scoped>\n",
       "    .dataframe tbody tr th:only-of-type {\n",
       "        vertical-align: middle;\n",
       "    }\n",
       "\n",
       "    .dataframe tbody tr th {\n",
       "        vertical-align: top;\n",
       "    }\n",
       "\n",
       "    .dataframe thead th {\n",
       "        text-align: right;\n",
       "    }\n",
       "</style>\n",
       "<table border=\"1\" class=\"dataframe\">\n",
       "  <thead>\n",
       "    <tr style=\"text-align: right;\">\n",
       "      <th></th>\n",
       "      <th>x</th>\n",
       "      <th>y</th>\n",
       "      <th>z</th>\n",
       "      <th>subreddit</th>\n",
       "      <th>polarity</th>\n",
       "      <th>subjectivity</th>\n",
       "    </tr>\n",
       "  </thead>\n",
       "  <tbody>\n",
       "    <tr>\n",
       "      <th>0</th>\n",
       "      <td>-15.346008</td>\n",
       "      <td>-41.437752</td>\n",
       "      <td>-3.963685</td>\n",
       "      <td>creepy</td>\n",
       "      <td>0.500000</td>\n",
       "      <td>0.888889</td>\n",
       "    </tr>\n",
       "    <tr>\n",
       "      <th>1</th>\n",
       "      <td>-6.087790</td>\n",
       "      <td>-14.491609</td>\n",
       "      <td>9.949881</td>\n",
       "      <td>creepy</td>\n",
       "      <td>-0.156250</td>\n",
       "      <td>0.375000</td>\n",
       "    </tr>\n",
       "    <tr>\n",
       "      <th>2</th>\n",
       "      <td>-5.909782</td>\n",
       "      <td>-34.020397</td>\n",
       "      <td>18.488398</td>\n",
       "      <td>creepy</td>\n",
       "      <td>0.075000</td>\n",
       "      <td>0.400000</td>\n",
       "    </tr>\n",
       "    <tr>\n",
       "      <th>3</th>\n",
       "      <td>13.267905</td>\n",
       "      <td>-9.316761</td>\n",
       "      <td>24.250471</td>\n",
       "      <td>creepy</td>\n",
       "      <td>-0.026020</td>\n",
       "      <td>0.429932</td>\n",
       "    </tr>\n",
       "    <tr>\n",
       "      <th>4</th>\n",
       "      <td>-1.563671</td>\n",
       "      <td>-26.331141</td>\n",
       "      <td>3.544478</td>\n",
       "      <td>creepy</td>\n",
       "      <td>0.459615</td>\n",
       "      <td>0.532692</td>\n",
       "    </tr>\n",
       "    <tr>\n",
       "      <th>...</th>\n",
       "      <td>...</td>\n",
       "      <td>...</td>\n",
       "      <td>...</td>\n",
       "      <td>...</td>\n",
       "      <td>...</td>\n",
       "      <td>...</td>\n",
       "    </tr>\n",
       "    <tr>\n",
       "      <th>3398</th>\n",
       "      <td>34.205353</td>\n",
       "      <td>-11.127311</td>\n",
       "      <td>4.069194</td>\n",
       "      <td>kevin</td>\n",
       "      <td>-0.009167</td>\n",
       "      <td>0.492778</td>\n",
       "    </tr>\n",
       "    <tr>\n",
       "      <th>3399</th>\n",
       "      <td>-7.357478</td>\n",
       "      <td>-1.596703</td>\n",
       "      <td>21.046482</td>\n",
       "      <td>kevin</td>\n",
       "      <td>0.455000</td>\n",
       "      <td>0.280000</td>\n",
       "    </tr>\n",
       "    <tr>\n",
       "      <th>3400</th>\n",
       "      <td>4.808536</td>\n",
       "      <td>-12.250474</td>\n",
       "      <td>-2.052197</td>\n",
       "      <td>kevin</td>\n",
       "      <td>-0.247966</td>\n",
       "      <td>0.559127</td>\n",
       "    </tr>\n",
       "    <tr>\n",
       "      <th>3401</th>\n",
       "      <td>24.651768</td>\n",
       "      <td>-14.635349</td>\n",
       "      <td>-17.551437</td>\n",
       "      <td>kevin</td>\n",
       "      <td>-0.001716</td>\n",
       "      <td>0.413725</td>\n",
       "    </tr>\n",
       "    <tr>\n",
       "      <th>3402</th>\n",
       "      <td>13.560359</td>\n",
       "      <td>-6.747723</td>\n",
       "      <td>1.373242</td>\n",
       "      <td>kevin</td>\n",
       "      <td>-0.089008</td>\n",
       "      <td>0.296865</td>\n",
       "    </tr>\n",
       "  </tbody>\n",
       "</table>\n",
       "<p>6806 rows × 6 columns</p>\n",
       "</div>"
      ],
      "text/plain": [
       "              x          y          z subreddit  polarity  subjectivity\n",
       "0    -15.346008 -41.437752  -3.963685    creepy  0.500000      0.888889\n",
       "1     -6.087790 -14.491609   9.949881    creepy -0.156250      0.375000\n",
       "2     -5.909782 -34.020397  18.488398    creepy  0.075000      0.400000\n",
       "3     13.267905  -9.316761  24.250471    creepy -0.026020      0.429932\n",
       "4     -1.563671 -26.331141   3.544478    creepy  0.459615      0.532692\n",
       "...         ...        ...        ...       ...       ...           ...\n",
       "3398  34.205353 -11.127311   4.069194     kevin -0.009167      0.492778\n",
       "3399  -7.357478  -1.596703  21.046482     kevin  0.455000      0.280000\n",
       "3400   4.808536 -12.250474  -2.052197     kevin -0.247966      0.559127\n",
       "3401  24.651768 -14.635349 -17.551437     kevin -0.001716      0.413725\n",
       "3402  13.560359  -6.747723   1.373242     kevin -0.089008      0.296865\n",
       "\n",
       "[6806 rows x 6 columns]"
      ]
     },
     "execution_count": 12,
     "metadata": {},
     "output_type": "execute_result"
    }
   ],
   "source": [
    "df"
   ]
  },
  {
   "cell_type": "code",
   "execution_count": 13,
   "metadata": {},
   "outputs": [],
   "source": [
    "import matplotlib.cm as cm\n",
    "\n",
    "creepy_colors = cm.rainbow(np.linspace(0, 1, 4))\n",
    "kevin_colors = cm.rainbow(np.linspace(0, 1, 4))"
   ]
  },
  {
   "cell_type": "code",
   "execution_count": 14,
   "metadata": {},
   "outputs": [
    {
     "data": {
      "text/plain": [
       "array([[-15.34600830078125, -6.087789535522461, -5.909782409667969, ...,\n",
       "        4.808536052703857, 24.65176773071289, 13.560359001159668],\n",
       "       [-41.43775177001953, -14.491608619689941, -34.0203971862793, ...,\n",
       "        -12.250473976135254, -14.63534927368164, -6.74772310256958],\n",
       "       [-3.9636847972869873, 9.949880599975586, 18.4883975982666, ...,\n",
       "        -2.052197217941284, -17.551437377929688, 1.373241901397705],\n",
       "       ['creepy', 'creepy', 'creepy', ..., 'kevin', 'kevin', 'kevin'],\n",
       "       [0.5, -0.15625, 0.07500000000000001, ..., -0.24796626984126982,\n",
       "        -0.0017156862745098076, -0.08900793650793652],\n",
       "       [0.8888888888888888, 0.375, 0.4, ..., 0.5591269841269841,\n",
       "        0.41372549019607846, 0.2968650793650794]], dtype=object)"
      ]
     },
     "execution_count": 14,
     "metadata": {},
     "output_type": "execute_result"
    }
   ],
   "source": [
    "df.T.values"
   ]
  },
  {
   "cell_type": "code",
   "execution_count": 19,
   "metadata": {},
   "outputs": [
    {
     "data": {
      "application/vnd.jupyter.widget-view+json": {
       "model_id": "0cb959534cee42e9a84e6e2d6b5e6e8b",
       "version_major": 2,
       "version_minor": 0
      },
      "text/plain": [
       "Canvas(toolbar=Toolbar(toolitems=[('Home', 'Reset original view', 'home', 'home'), ('Back', 'Back to previous …"
      ]
     },
     "metadata": {},
     "output_type": "display_data"
    }
   ],
   "source": [
    "from mpl_toolkits.mplot3d import Axes3D,axes3d\n",
    "sns.set(style = \"darkgrid\")\n",
    "\n",
    "\n",
    "\n",
    "fig = plt.figure()\n",
    "fig.set_size_inches(18.5, 10.5)\n",
    "ax = fig.add_subplot(111, projection = '3d')\n",
    "\n",
    "ax.set_xlabel(\"x\")\n",
    "ax.set_ylabel(\"y\")\n",
    "ax.set_zlabel(\"z\")\n",
    "\n",
    "ax.scatter(df[(df['polarity']>0) & (df['subjectivity']>0)]['x'], \n",
    "           df[(df['polarity']>0) & (df['subjectivity']>0)]['y'], \n",
    "           df[(df['polarity']>0) & (df['subjectivity']>0)]['z'], \n",
    "           c='brown', label='p&s > 0')\n",
    "ax.scatter(df[(df['polarity']<0) & (df['subjectivity']>=0)]['x'], \n",
    "           df[(df['polarity']<0) & (df['subjectivity']>=0)]['y'], \n",
    "           df[(df['polarity']<0) & (df['subjectivity']>=0)]['z'], \n",
    "           c='blue', label='p<0, s>0', marker='^')\n",
    "ax.scatter(df[(df['polarity']>=0) & (df['subjectivity']<0)]['x'], \n",
    "           df[(df['polarity']>=0) & (df['subjectivity']<0)]['y'], \n",
    "           df[(df['polarity']>=0) & (df['subjectivity']<0)]['z'], \n",
    "           c='yellow', label='p>0, s<0', marker='s')\n",
    "ax.scatter(df[(df['polarity']<=0) & (df['subjectivity']<=0)]['x'], \n",
    "           df[(df['polarity']<=0) & (df['subjectivity']<=0)]['y'], \n",
    "           df[(df['polarity']<=0) & (df['subjectivity']<=0)]['z'], \n",
    "           c='green', label='p&s<0', marker='P')\n",
    "plt.legend()\n",
    "\n",
    "plt.show()\n"
   ]
  },
  {
   "cell_type": "code",
   "execution_count": null,
   "metadata": {},
   "outputs": [],
   "source": []
  }
 ],
 "metadata": {
  "kernelspec": {
   "display_name": "creepyenv",
   "language": "python",
   "name": "creepyenv"
  },
  "language_info": {
   "codemirror_mode": {
    "name": "ipython",
    "version": 3
   },
   "file_extension": ".py",
   "mimetype": "text/x-python",
   "name": "python",
   "nbconvert_exporter": "python",
   "pygments_lexer": "ipython3",
   "version": "3.8.5"
  }
 },
 "nbformat": 4,
 "nbformat_minor": 4
}
