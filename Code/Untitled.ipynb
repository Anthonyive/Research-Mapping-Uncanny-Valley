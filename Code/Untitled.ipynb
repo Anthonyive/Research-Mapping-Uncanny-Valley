{
 "cells": [
  {
   "cell_type": "code",
   "execution_count": 17,
   "metadata": {},
   "outputs": [],
   "source": [
    "import pandas as pd\n",
    "from sentence_transformers import SentenceTransformer\n",
    "import nltk\n",
    "import swifter\n",
    "from tqdm.notebook import tqdm\n",
    "tqdm.pandas()\n",
    "import pickle\n",
    "\n",
    "def sbert_sum(row):\n",
    "    return sum([sbert.encode(sent) for sent in nltk.sent_tokenize(row['selftext'])])\n",
    "\n",
    "file=['NoSleep','Confession']\n",
    "\n",
    "for name in file:\n",
    "    df = pd.read_csv(f'Download/Cleaned Data/{name}_cleaned.csv')\n",
    "    df = df.loc[df['created_utc']>1546300800].copy()\n",
    "\n",
    "    sbert = SentenceTransformer('distilbert-base-nli-stsb-mean-tokens')\n",
    "\n",
    "    df['sent_count'] = df.swifter.progress_bar(enable=True, desc='Counting sentences').apply(lambda row: len(nltk.sent_tokenize(row['selftext'])), axis=1)\n",
    "    df['sbert_sum'] = df.progress_apply(sbert_sum, axis=1)\n",
    "    df['sbert_avg'] = df.swifter.progress_bar(enable=True, desc='Calculating averge').apply(lambda row: row['sbert_sum']/row['sent_count'], axis=1)\n",
    "    \n",
    "    pickle.dump(df, open(f'Download/Cleaned Data/{name}.pickle', 'wb'))"
   ]
  }
 ],
 "metadata": {
  "kernelspec": {
   "display_name": "creepy-venv",
   "language": "python",
   "name": "creepy-venv"
  },
  "language_info": {
   "codemirror_mode": {
    "name": "ipython",
    "version": 3
   },
   "file_extension": ".py",
   "mimetype": "text/x-python",
   "name": "python",
   "nbconvert_exporter": "python",
   "pygments_lexer": "ipython3",
   "version": "3.8.5"
  }
 },
 "nbformat": 4,
 "nbformat_minor": 4
}
