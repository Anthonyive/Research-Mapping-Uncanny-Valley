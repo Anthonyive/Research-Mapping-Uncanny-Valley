{
 "cells": [
  {
   "cell_type": "code",
   "execution_count": 14,
   "id": "565ad2e7-555d-4fa3-99da-6bf32bf28525",
   "metadata": {},
   "outputs": [
    {
     "data": {
      "application/vnd.jupyter.widget-view+json": {
       "model_id": "3f6e9bc7eec24641b0c2b7b96e098dd6",
       "version_major": 2,
       "version_minor": 0
      },
      "text/plain": [
       "Batches:   0%|          | 0/79 [00:00<?, ?it/s]"
      ]
     },
     "metadata": {},
     "output_type": "display_data"
    }
   ],
   "source": [
    "import pandas as pd\n",
    "import numpy as np\n",
    "import tensorflow as tf\n",
    "from sentence_transformers import SentenceTransformer\n",
    "\n",
    "model = SentenceTransformer('distiluse-base-multilingual-cased-v2')\n",
    "\n",
    "df = pd.read_csv('Downloads/MFTD.csv')\n",
    "\n",
    "df['super_category'] = pd.cut(df['ATU'].str.extract('(\\d+)').astype(int).squeeze(), # extract numbers and convert dtype to int\n",
    "                              [-1, 299, 749, 849, 999, 1199, 1999, 2399],\n",
    "                              labels=['ANIMAL TALES', # (-1, 299]\n",
    "                                      'TALES OF MAGIC', # (299, 749]\n",
    "                                      'RELIGIOUS TALES', # ...\n",
    "                                      'REALISTIC TALES',\n",
    "                                      'TALES OF THE STUPID OGRE (GIANT, DEVIL)',\n",
    "                                      'ANECDOTES AND JOKES',\n",
    "                                      'FORMULA TALES'])\n",
    "\n",
    "df = df[~df['super_category'].isna()]\n",
    "\n",
    "data = df['content'].to_list()\n",
    "\n",
    "embeddings = model.encode(data, show_progress_bar=True)"
   ]
  },
  {
   "cell_type": "code",
   "execution_count": 17,
   "id": "5f50cd7b-d751-4b5d-964b-02e19bb86554",
   "metadata": {},
   "outputs": [],
   "source": [
    "X = embeddings"
   ]
  },
  {
   "cell_type": "code",
   "execution_count": 18,
   "id": "a2607c0e-a2f3-4f50-a8da-baa634510104",
   "metadata": {},
   "outputs": [],
   "source": [
    "from sklearn.preprocessing import LabelEncoder\n",
    "le = LabelEncoder()\n",
    "y = le.fit_transform(df[\"super_category\"])"
   ]
  },
  {
   "cell_type": "code",
   "execution_count": 25,
   "id": "95221732-6c1c-4371-88c6-e366a0363960",
   "metadata": {},
   "outputs": [
    {
     "data": {
      "application/javascript": [
       "\n",
       "        if (window._pyforest_update_imports_cell) { window._pyforest_update_imports_cell('import sklearn'); }\n",
       "    "
      ],
      "text/plain": [
       "<IPython.core.display.Javascript object>"
      ]
     },
     "metadata": {},
     "output_type": "display_data"
    },
    {
     "data": {
      "text/plain": [
       "{0: 1.246031746031746,\n",
       " 1: 0.5372112917023096,\n",
       " 2: 5.356076759061834,\n",
       " 3: 3.484049930651872,\n",
       " 4: 3.518207282913165,\n",
       " 5: 0.28847037207165827,\n",
       " 6: 8.971428571428572}"
      ]
     },
     "execution_count": 25,
     "metadata": {},
     "output_type": "execute_result"
    }
   ],
   "source": [
    "weights = sklearn.utils.class_weight.compute_class_weight('balanced', classes=np.unique(y), y=y)\n",
    "\n",
    "class_weights = {k:v for k,v in enumerate(weights)}\n",
    "class_weights"
   ]
  },
  {
   "cell_type": "code",
   "execution_count": 19,
   "id": "82757e8e-17a6-4cb0-b7d8-45b8d79ccc8a",
   "metadata": {},
   "outputs": [],
   "source": [
    "from sklearn.utils import shuffle\n",
    "\n",
    "X, y = shuffle(X, y)"
   ]
  },
  {
   "cell_type": "code",
   "execution_count": 37,
   "id": "a2df9736-a34c-4e7f-89ca-e09d9226e1ba",
   "metadata": {},
   "outputs": [],
   "source": [
    "from sklearn.model_selection import train_test_split\n",
    "\n",
    "X_train, X_test, y_train, y_test = train_test_split(X, y, test_size=0.2, random_state=42)\n",
    "X_test, X_valid, y_test, y_valid = train_test_split(X_test, y_test, test_size=0.5, random_state=42)"
   ]
  },
  {
   "cell_type": "code",
   "execution_count": 32,
   "id": "a0d4ad14-b07e-4a64-baa9-3181d1ca0efe",
   "metadata": {},
   "outputs": [
    {
     "data": {
      "text/plain": [
       "7"
      ]
     },
     "execution_count": 32,
     "metadata": {},
     "output_type": "execute_result"
    }
   ],
   "source": [
    "len(np.unique(y))"
   ]
  },
  {
   "cell_type": "code",
   "execution_count": 33,
   "id": "ecb9634c-a8c5-4af8-86e0-2e8ab28a28b4",
   "metadata": {},
   "outputs": [],
   "source": [
    "from tensorflow import keras\n",
    "\n",
    "model = keras.models.Sequential([\n",
    "    keras.layers.Dense(512, input_shape=X.shape[1:]),\n",
    "    keras.layers.Dense(128, activation='relu'),\n",
    "    keras.layers.Dense(len(np.unique(y)), activation='softmax')\n",
    "])"
   ]
  },
  {
   "cell_type": "code",
   "execution_count": 39,
   "id": "730067bb-6bf4-40b1-8556-d1b3f4fce05c",
   "metadata": {},
   "outputs": [],
   "source": [
    "model.compile(loss='sparse_categorical_crossentropy',\n",
    "              optimizer='Adam',\n",
    "              metrics=['accuracy'])"
   ]
  },
  {
   "cell_type": "code",
   "execution_count": 41,
   "id": "d0960248-da01-48cb-88e5-51c3b3e6a264",
   "metadata": {},
   "outputs": [
    {
     "name": "stdout",
     "output_type": "stream",
     "text": [
      "Epoch 1/20\n",
      "63/63 [==============================] - 0s 2ms/step - loss: 0.0424 - accuracy: 0.9935 - val_loss: 0.8196 - val_accuracy: 0.8056\n",
      "Epoch 2/20\n",
      "63/63 [==============================] - 0s 1ms/step - loss: 0.0319 - accuracy: 0.9970 - val_loss: 0.8365 - val_accuracy: 0.8095\n",
      "Epoch 3/20\n",
      "63/63 [==============================] - 0s 1ms/step - loss: 0.0283 - accuracy: 0.9980 - val_loss: 0.9379 - val_accuracy: 0.8056\n",
      "Epoch 4/20\n",
      "63/63 [==============================] - 0s 2ms/step - loss: 0.0216 - accuracy: 0.9990 - val_loss: 0.9402 - val_accuracy: 0.8214\n",
      "Epoch 5/20\n",
      "63/63 [==============================] - 0s 1ms/step - loss: 0.0223 - accuracy: 0.9965 - val_loss: 0.9510 - val_accuracy: 0.8016\n",
      "Epoch 6/20\n",
      "63/63 [==============================] - 0s 1ms/step - loss: 0.0168 - accuracy: 0.9990 - val_loss: 0.9590 - val_accuracy: 0.8214\n",
      "Epoch 7/20\n",
      "63/63 [==============================] - 0s 1ms/step - loss: 0.0133 - accuracy: 0.9995 - val_loss: 0.9993 - val_accuracy: 0.8214\n",
      "Epoch 8/20\n",
      "63/63 [==============================] - 0s 1ms/step - loss: 0.0107 - accuracy: 0.9995 - val_loss: 1.0382 - val_accuracy: 0.8254\n",
      "Epoch 9/20\n",
      "63/63 [==============================] - 0s 1ms/step - loss: 0.0097 - accuracy: 1.0000 - val_loss: 1.0604 - val_accuracy: 0.8214\n",
      "Epoch 10/20\n",
      "63/63 [==============================] - 0s 2ms/step - loss: 0.0086 - accuracy: 0.9995 - val_loss: 1.0530 - val_accuracy: 0.8175\n",
      "Epoch 11/20\n",
      "63/63 [==============================] - 0s 1ms/step - loss: 0.0102 - accuracy: 0.9995 - val_loss: 1.0628 - val_accuracy: 0.8135\n",
      "Epoch 12/20\n",
      "63/63 [==============================] - 0s 1ms/step - loss: 0.0071 - accuracy: 1.0000 - val_loss: 1.1120 - val_accuracy: 0.8214\n",
      "Epoch 13/20\n",
      "63/63 [==============================] - 0s 1ms/step - loss: 0.0056 - accuracy: 1.0000 - val_loss: 1.1201 - val_accuracy: 0.8095\n",
      "Epoch 14/20\n",
      "63/63 [==============================] - 0s 1ms/step - loss: 0.0048 - accuracy: 1.0000 - val_loss: 1.1538 - val_accuracy: 0.8214\n",
      "Epoch 15/20\n",
      "63/63 [==============================] - 0s 1ms/step - loss: 0.0057 - accuracy: 0.9985 - val_loss: 1.1097 - val_accuracy: 0.8135\n",
      "Epoch 16/20\n",
      "63/63 [==============================] - 0s 1ms/step - loss: 0.0072 - accuracy: 0.9985 - val_loss: 1.1885 - val_accuracy: 0.8214\n",
      "Epoch 17/20\n",
      "63/63 [==============================] - 0s 1ms/step - loss: 0.0040 - accuracy: 1.0000 - val_loss: 1.1919 - val_accuracy: 0.8175\n",
      "Epoch 18/20\n",
      "63/63 [==============================] - 0s 2ms/step - loss: 0.0053 - accuracy: 0.9990 - val_loss: 1.2346 - val_accuracy: 0.8175\n",
      "Epoch 19/20\n",
      "63/63 [==============================] - 0s 1ms/step - loss: 0.0236 - accuracy: 0.9945 - val_loss: 1.2248 - val_accuracy: 0.8095\n",
      "Epoch 20/20\n",
      "63/63 [==============================] - 0s 1ms/step - loss: 0.0430 - accuracy: 0.9841 - val_loss: 1.1814 - val_accuracy: 0.8294\n"
     ]
    }
   ],
   "source": [
    "history = model.fit(X_train, y_train, epochs=20, validation_data=(X_valid, y_valid))"
   ]
  },
  {
   "cell_type": "code",
   "execution_count": 42,
   "id": "3ebfcf51-8791-4cae-a634-6a7c94096631",
   "metadata": {},
   "outputs": [
    {
     "name": "stdout",
     "output_type": "stream",
     "text": [
      "8/8 [==============================] - 0s 1ms/step - loss: 1.2281 - accuracy: 0.8088\n"
     ]
    },
    {
     "data": {
      "text/plain": [
       "[1.2281465530395508, 0.8087649345397949]"
      ]
     },
     "execution_count": 42,
     "metadata": {},
     "output_type": "execute_result"
    }
   ],
   "source": [
    "model.evaluate(X_test, y_test)"
   ]
  },
  {
   "cell_type": "code",
   "execution_count": null,
   "id": "d98526cc-5f0d-4e9c-9863-d6ae649f250a",
   "metadata": {},
   "outputs": [],
   "source": []
  }
 ],
 "metadata": {
  "kernelspec": {
   "display_name": "creepyenv",
   "language": "python",
   "name": "creepyenv"
  },
  "language_info": {
   "codemirror_mode": {
    "name": "ipython",
    "version": 3
   },
   "file_extension": ".py",
   "mimetype": "text/x-python",
   "name": "python",
   "nbconvert_exporter": "python",
   "pygments_lexer": "ipython3",
   "version": "3.8.5"
  }
 },
 "nbformat": 4,
 "nbformat_minor": 5
}
