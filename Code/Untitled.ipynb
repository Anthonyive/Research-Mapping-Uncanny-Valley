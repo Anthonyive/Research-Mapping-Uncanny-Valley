{
 "cells": [
  {
   "cell_type": "code",
   "execution_count": 1,
   "metadata": {},
   "outputs": [
    {
     "name": "stdout",
     "output_type": "stream",
     "text": [
      "Num GPUs Available:  1\n"
     ]
    }
   ],
   "source": [
    "import tensorflow as tf\n",
    "physical_devices = tf.config.list_physical_devices('GPU')\n",
    "tf.config.experimental.set_memory_growth(physical_devices[0], enable=True)\n",
    "print(\"Num GPUs Available: \", len(physical_devices))"
   ]
  },
  {
   "cell_type": "markdown",
   "metadata": {},
   "source": [
    "# Import data"
   ]
  },
  {
   "cell_type": "code",
   "execution_count": 2,
   "metadata": {},
   "outputs": [],
   "source": [
    "import pickle\n",
    "import gdown"
   ]
  },
  {
   "cell_type": "code",
   "execution_count": 3,
   "metadata": {},
   "outputs": [
    {
     "name": "stderr",
     "output_type": "stream",
     "text": [
      "Downloading...\n",
      "From: https://drive.google.com/uc?id=1-I5k-1NlFozfdbRb5JVy7nEfQEXqYP9c\n",
      "To: /home/anthony/Documents/Research-Mapping-Uncanny-Valley/Code/Download/data_cleaned_gdown.zip\n",
      "786MB [00:14, 54.5MB/s] \n"
     ]
    },
    {
     "data": {
      "text/plain": [
       "'./Download/data_cleaned_gdown.zip'"
      ]
     },
     "execution_count": 3,
     "metadata": {},
     "output_type": "execute_result"
    }
   ],
   "source": [
    "data_cleaned_url = \"https://drive.google.com/uc?id=1-I5k-1NlFozfdbRb5JVy7nEfQEXqYP9c\"\n",
    "output = './Download/data_cleaned_gdown.zip'\n",
    "gdown.download(data_cleaned_url, output, quiet=False)"
   ]
  },
  {
   "cell_type": "markdown",
   "metadata": {},
   "source": [
    "module zipfile does not support the compression format (I don't know why). \n",
    "You can use\n",
    "```bash\n",
    "sudo apt-get update\n",
    "sudo apt-get install unzip\n",
    "unzip ./Download/data_cleaned_gdown.zip\n",
    "```\n",
    "to unzip the file to `/Code/Download` directory"
   ]
  },
  {
   "cell_type": "code",
   "execution_count": 3,
   "metadata": {},
   "outputs": [],
   "source": [
    "with open('./Download/data_cleaned.pickle', 'rb') as handle:\n",
    "    data_cleaned = pickle.load(handle)"
   ]
  },
  {
   "cell_type": "markdown",
   "metadata": {},
   "source": [
    "# Cosine similarity with emotions"
   ]
  },
  {
   "cell_type": "code",
   "execution_count": 5,
   "metadata": {},
   "outputs": [
    {
     "data": {
      "text/plain": [
       "array([[ 0.21698272,  0.20960012,  0.19537641, ..., -0.02441338,\n",
       "        -0.0326806 , -0.06282185],\n",
       "       [ 0.42663223,  0.37293845,  0.36481518, ...,  0.10002041,\n",
       "         0.05779833,  0.03616553],\n",
       "       [ 0.30050087,  0.21807092,  0.19975151, ...,  0.03358124,\n",
       "        -0.00511191, -0.02358057],\n",
       "       ...,\n",
       "       [ 0.55303162,  0.49452001,  0.4796218 , ..., -0.03603059,\n",
       "        -0.06295857, -0.07457595],\n",
       "       [ 0.26004642,  0.24877664,  0.22177438, ..., -0.0289279 ,\n",
       "        -0.04870765, -0.09610555],\n",
       "       [ 0.23916952,  0.2003721 ,  0.14978789, ..., -0.09678131,\n",
       "        -0.12432525, -0.17019036]])"
      ]
     },
     "execution_count": 5,
     "metadata": {},
     "output_type": "execute_result"
    }
   ],
   "source": [
    "from util import semantic_search\n",
    "sents_emotion_vec = semantic_search(data_cleaned['RS_2020_nosleep']['selftext'][5], verbose = False)\n",
    "sents_emotion_vec"
   ]
  },
  {
   "cell_type": "code",
   "execution_count": 6,
   "metadata": {},
   "outputs": [],
   "source": [
    "from sklearn.preprocessing import MinMaxScaler\n",
    "import numpy as np\n",
    "scaler = MinMaxScaler(feature_range=(-1, 1))\n",
    "scaled_sents_emotion_vec = scaler.fit_transform(sents_emotion_vec)"
   ]
  },
  {
   "cell_type": "code",
   "execution_count": 7,
   "metadata": {},
   "outputs": [
    {
     "data": {
      "text/plain": [
       "array([[-0.58307311, -0.54791709, -0.54447741, ..., -0.20292152,\n",
       "        -0.092175  , -0.13933973],\n",
       "       [-0.02789105, -0.11317501, -0.09906804, ...,  0.39033676,\n",
       "         0.33625014,  0.30587438],\n",
       "       [-0.36190504, -0.52537116, -0.53297644, ...,  0.07357725,\n",
       "         0.038365  ,  0.03715519],\n",
       "       ...,\n",
       "       [ 0.30683274,  0.21042704,  0.20272799, ..., -0.25830845,\n",
       "        -0.23554366, -0.19220596],\n",
       "       [-0.46903424, -0.44364467, -0.47508417, ..., -0.22444521,\n",
       "        -0.16806437, -0.28903936],\n",
       "       [-0.52431927, -0.57247844, -0.66431749, ..., -0.54794736,\n",
       "        -0.52611991, -0.62224954]])"
      ]
     },
     "execution_count": 7,
     "metadata": {},
     "output_type": "execute_result"
    }
   ],
   "source": [
    "scaled_sents_emotion_vec"
   ]
  },
  {
   "cell_type": "markdown",
   "metadata": {},
   "source": [
    "# Construct E, S matrices"
   ]
  },
  {
   "cell_type": "markdown",
   "metadata": {},
   "source": [
    "## Idea: maybe a custom layer in the end before the last layer.\n",
    "\n",
    "For each sentence in a document, we have a (1,768) sentence embeddings. Combining all sentence embeddings, we have a matrix S of dimension (N,768)\n",
    "\n",
    "$$\n",
    "S = \n",
    "\\begin{bmatrix}\n",
    "    s_{1,1} & s_{1,2} & s_{1,3} & \\dots  & s_{1,d} \\\\\n",
    "    s_{2,1} & s_{2,2} & s_{2,3} & \\dots  & s_{2,d} \\\\\n",
    "    \\vdots & \\vdots & \\vdots & \\ddots & \\vdots \\\\\n",
    "    s_{N,1} & s_{N,2} & s_{N,3} & \\dots  & s_{N,d}\n",
    "\\end{bmatrix} \\\\\n",
    "\\text{where d is the embedding dimension (in this case, 768) and N is number of sentences in a document}\n",
    "$$"
   ]
  },
  {
   "cell_type": "markdown",
   "metadata": {},
   "source": [
    "Based on these embeddings, we can get the emotional scores by calculating the cosine similarity between each motion and a sentence. We can conbine these scores into another matrix E. E has dimension of (27,N)\n",
    "\n",
    "$$\n",
    "E = \n",
    "\\begin{bmatrix}\n",
    "    e_{1,1} & e_{2,1} & e_{3,1} & \\dots  & e_{N,1} \\\\\n",
    "    e_{1,2} & e_{2,2} & e_{3,2} & \\dots  & e_{N,2} \\\\\n",
    "    \\vdots & \\vdots & \\vdots & \\ddots & \\vdots \\\\\n",
    "    e_{1,27} & e_{2,27} & e_{3,27} & \\dots  & e_{N,27}\n",
    "\\end{bmatrix} \\\\\n",
    "\\text{where N is number of sentences in a document}\n",
    "$$"
   ]
  },
  {
   "cell_type": "markdown",
   "metadata": {},
   "source": [
    "Natually, we want to have the same dimension for each post (document). So, we can multiply these two matrices together: \n",
    "\n",
    "$$E\\times S$$\n",
    "$$(27,N) \\times (N,768) = (27,768)$$\n",
    "\n",
    "Then we will have the same dimension for each post."
   ]
  },
  {
   "cell_type": "code",
   "execution_count": 8,
   "metadata": {},
   "outputs": [
    {
     "name": "stdout",
     "output_type": "stream",
     "text": [
      "\n",
      "\n",
      "======================\n",
      "\n",
      "Dataset: RS_2020_nosleep\n",
      "\n",
      "Calculating...\n"
     ]
    },
    {
     "data": {
      "application/vnd.jupyter.widget-view+json": {
       "model_id": "05fc324c72fa47d083eeeb8d02c3affc",
       "version_major": 2,
       "version_minor": 0
      },
      "text/plain": [
       "HBox(children=(HTML(value='Calculating Emotion Matrix E'), FloatProgress(value=0.0, max=1000.0), HTML(value=''…"
      ]
     },
     "metadata": {},
     "output_type": "display_data"
    },
    {
     "name": "stdout",
     "output_type": "stream",
     "text": [
      "\n"
     ]
    },
    {
     "data": {
      "application/vnd.jupyter.widget-view+json": {
       "model_id": "ebe938afebeb4230a2f6da445485382e",
       "version_major": 2,
       "version_minor": 0
      },
      "text/plain": [
       "HBox(children=(HTML(value='Scaling E'), FloatProgress(value=0.0, max=1000.0), HTML(value='')))"
      ]
     },
     "metadata": {},
     "output_type": "display_data"
    },
    {
     "name": "stdout",
     "output_type": "stream",
     "text": [
      "\n"
     ]
    },
    {
     "data": {
      "application/vnd.jupyter.widget-view+json": {
       "model_id": "80bc3579d1e04f208a0c45c8e328394d",
       "version_major": 2,
       "version_minor": 0
      },
      "text/plain": [
       "HBox(children=(HTML(value='Calculating SBERT embeddings S'), FloatProgress(value=0.0, max=1000.0), HTML(value=…"
      ]
     },
     "metadata": {},
     "output_type": "display_data"
    },
    {
     "name": "stdout",
     "output_type": "stream",
     "text": [
      "\n"
     ]
    },
    {
     "data": {
      "application/vnd.jupyter.widget-view+json": {
       "model_id": "9d79c41eaf8d4a75ac8e367750516838",
       "version_major": 2,
       "version_minor": 0
      },
      "text/plain": [
       "HBox(children=(HTML(value='Calculating multiplication of scaled E and S'), FloatProgress(value=0.0, max=1000.0…"
      ]
     },
     "metadata": {},
     "output_type": "display_data"
    },
    {
     "name": "stdout",
     "output_type": "stream",
     "text": [
      "\n",
      "\n",
      "\n",
      "======================\n",
      "\n",
      "Dataset: RS_2020_self\n",
      "\n",
      "Calculating...\n"
     ]
    },
    {
     "data": {
      "application/vnd.jupyter.widget-view+json": {
       "model_id": "bad008379ac54e8281b4f1ae1b088e10",
       "version_major": 2,
       "version_minor": 0
      },
      "text/plain": [
       "HBox(children=(HTML(value='Calculating Emotion Matrix E'), FloatProgress(value=0.0, max=1000.0), HTML(value=''…"
      ]
     },
     "metadata": {},
     "output_type": "display_data"
    },
    {
     "name": "stdout",
     "output_type": "stream",
     "text": [
      "\n"
     ]
    },
    {
     "data": {
      "application/vnd.jupyter.widget-view+json": {
       "model_id": "1c241dda36b441eebb9606243232a3e4",
       "version_major": 2,
       "version_minor": 0
      },
      "text/plain": [
       "HBox(children=(HTML(value='Scaling E'), FloatProgress(value=0.0, max=1000.0), HTML(value='')))"
      ]
     },
     "metadata": {},
     "output_type": "display_data"
    },
    {
     "name": "stdout",
     "output_type": "stream",
     "text": [
      "\n"
     ]
    },
    {
     "data": {
      "application/vnd.jupyter.widget-view+json": {
       "model_id": "d4c4753524fe4ab4aa05121377d8ecff",
       "version_major": 2,
       "version_minor": 0
      },
      "text/plain": [
       "HBox(children=(HTML(value='Calculating SBERT embeddings S'), FloatProgress(value=0.0, max=1000.0), HTML(value=…"
      ]
     },
     "metadata": {},
     "output_type": "display_data"
    },
    {
     "name": "stdout",
     "output_type": "stream",
     "text": [
      "\n"
     ]
    },
    {
     "data": {
      "application/vnd.jupyter.widget-view+json": {
       "model_id": "066c7838b9ad46048f442495361e1639",
       "version_major": 2,
       "version_minor": 0
      },
      "text/plain": [
       "HBox(children=(HTML(value='Calculating multiplication of scaled E and S'), FloatProgress(value=0.0, max=1000.0…"
      ]
     },
     "metadata": {},
     "output_type": "display_data"
    },
    {
     "name": "stdout",
     "output_type": "stream",
     "text": [
      "\n"
     ]
    }
   ],
   "source": [
    "from IPythonfeature_dfslay import display\n",
    "from util import semantic_search\n",
    "from sentence_transformers import SentenceTransformer\n",
    "import spacy\n",
    "nlp = spacy.load('en_core_web_lg')\n",
    "import swifter\n",
    "from sklearn.preprocessing import MinMaxScaler\n",
    "import numpy as np\n",
    "\n",
    "\n",
    "def apply_semantic_search(row):\n",
    "    E = semantic_search(row['selftext'], verbose = False)\n",
    "    return np.transpose(E)\n",
    "\n",
    "def apply_scaled_E(row):\n",
    "    scaler = MinMaxScaler(feature_range=(-1, 1))\n",
    "    return scaler.fit_transform(row['E'])\n",
    "\n",
    "def apply_SBERT(row):\n",
    "    model = SentenceTransformer('distilbert-base-nli-stsb-mean-tokens')\n",
    "\n",
    "    doc = nlp(row['selftext'])\n",
    "    #Our sentences we like to encode\n",
    "    sentences = [repr(sent) for sent in doc.sents]\n",
    "\n",
    "    #Sentences are encoded by calling model.encode()\n",
    "    S = model.encode(sentences)\n",
    "    return S\n",
    "\n",
    "feature_dfs = dict()\n",
    "\n",
    "for key, df in data_cleaned.items():\n",
    "    if not key.endswith('comments'):\n",
    "        if key.endswith(('self','nosleep')):\n",
    "            print(\"\\n\\n======================\\n\")\n",
    "            print(\"Dataset:\", key)\n",
    "            print(\"\\nCalculating...\")\n",
    "            df_new = df.head(1000).copy()\n",
    "            df_new['E'] = df_new.swifter.progress_bar(enable=True, desc=\"Calculating Emotion Matrix E\").apply(apply_semantic_search, axis=1)\n",
    "            df_new['scaled_E'] = df_new.swifter.progress_bar(enable=True, desc=\"Scaling E\").apply(apply_scaled_E, axis=1)\n",
    "            df_new['S'] = df_new.swifter.progress_bar(enable=True, desc=\"Calculating SBERT embeddings S\").apply(apply_SBERT, axis=1)\n",
    "            df_new['scaled_E*S'] = df_new.swifter.progress_bar(enable=True, desc=\"Calculating multiplication of scaled E and S\").apply(lambda x: np.matmul(x['scaled_E'], x['S']), axis=1)\n",
    "            \n",
    "            feature_dfs[key] = df_new"
   ]
  },
  {
   "cell_type": "code",
   "execution_count": 9,
   "metadata": {},
   "outputs": [],
   "source": [
    "pickle.dump(feature_dfs, open(\"./Download/feature_dfs.pickle\", \"wb\" ))"
   ]
  },
  {
   "cell_type": "markdown",
   "metadata": {},
   "source": [
    "## Re-import featue_dfs"
   ]
  },
  {
   "cell_type": "code",
   "execution_count": 26,
   "metadata": {},
   "outputs": [],
   "source": [
    "with open('./Download/feature_dfs.pickle', 'rb') as handle:\n",
    "    feature_dfs = pickle.load(handle)"
   ]
  },
  {
   "cell_type": "markdown",
   "metadata": {},
   "source": [
    "## Pre-processing"
   ]
  },
  {
   "cell_type": "markdown",
   "metadata": {},
   "source": [
    "Extract features"
   ]
  },
  {
   "cell_type": "code",
   "execution_count": 31,
   "metadata": {},
   "outputs": [],
   "source": [
    "non_creepy_features = np.array(feature_dfs['RS_2020_self']['scaled_E*S'].to_list())\n",
    "creepy_features = np.array(feature_dfs['RS_2020_nosleep']['scaled_E*S'].to_list())\n",
    "\n",
    "features = np.concatenate((creepy_features, non_creepy_features))\n",
    "labels = np.concatenate((np.zeros(len(non_creepy_features)), np.ones(len(creepy_features))))"
   ]
  },
  {
   "cell_type": "markdown",
   "metadata": {},
   "source": [
    "Show shapes"
   ]
  },
  {
   "cell_type": "code",
   "execution_count": 33,
   "metadata": {},
   "outputs": [
    {
     "name": "stdout",
     "output_type": "stream",
     "text": [
      "(2000, 27, 768)\n",
      "(2000,)\n"
     ]
    }
   ],
   "source": [
    "print(features.shape)\n",
    "print(labels.shape)"
   ]
  },
  {
   "cell_type": "markdown",
   "metadata": {},
   "source": [
    "Shuffle the features and labels correspondingly"
   ]
  },
  {
   "cell_type": "code",
   "execution_count": 51,
   "metadata": {},
   "outputs": [
    {
     "name": "stdout",
     "output_type": "stream",
     "text": [
      "[1. 1. 1. ... 1. 0. 0.]\n"
     ]
    }
   ],
   "source": [
    "from sklearn.utils import shuffle\n",
    "\n",
    "features, labels = shuffle(features, labels)\n",
    "print(labels)"
   ]
  },
  {
   "cell_type": "markdown",
   "metadata": {},
   "source": [
    "Scale to 0 to 1"
   ]
  },
  {
   "cell_type": "code",
   "execution_count": 52,
   "metadata": {},
   "outputs": [
    {
     "data": {
      "text/plain": [
       "(2000, 27, 768)"
      ]
     },
     "execution_count": 52,
     "metadata": {},
     "output_type": "execute_result"
    }
   ],
   "source": [
    "# flatten each matrix\n",
    "features.reshape((features.shape[0],features.shape[1]*features.shape[2]))\n",
    "features.shape"
   ]
  },
  {
   "cell_type": "code",
   "execution_count": 53,
   "metadata": {},
   "outputs": [
    {
     "name": "stdout",
     "output_type": "stream",
     "text": [
      "[[[0.59345985 0.3588411  0.11536062 ... 0.48649159 0.72945515 0.51658735]\n",
      "  [0.58991645 0.40486651 0.09210209 ... 0.4807704  0.73828055 0.51701695]\n",
      "  [0.56836426 0.37029778 0.04639268 ... 0.47304686 0.7465258  0.48780608]\n",
      "  ...\n",
      "  [0.38347799 0.62341635 0.85331821 ... 0.516262   0.29008619 0.43205983]\n",
      "  [0.3820513  0.66644165 0.86990313 ... 0.514917   0.25028084 0.43732169]\n",
      "  [0.40654015 0.6411589  0.88463938 ... 0.51350841 0.27054485 0.48341265]]\n",
      "\n",
      " [[0.56967154 0.36566652 0.14307911 ... 0.51601968 0.69547726 0.50617166]\n",
      "  [0.56658306 0.41634796 0.12549715 ... 0.5093266  0.70411305 0.50863007]\n",
      "  [0.54730556 0.37976092 0.08124663 ... 0.49850657 0.71915803 0.48281625]\n",
      "  ...\n",
      "  [0.40626285 0.61578989 0.83402833 ... 0.49330352 0.3239246  0.44429007]\n",
      "  [0.40545094 0.65950012 0.84874162 ... 0.49169395 0.28193262 0.44755589]\n",
      "  [0.43032846 0.63433348 0.85692089 ... 0.48398032 0.30452274 0.49382834]]\n",
      "\n",
      " [[0.58821783 0.3618635  0.11713574 ... 0.48067929 0.72311369 0.51202072]\n",
      "  [0.58319217 0.41094973 0.09506042 ... 0.47939907 0.73091914 0.51430922]\n",
      "  [0.56088886 0.3766719  0.04910727 ... 0.47260471 0.74012568 0.48473297]\n",
      "  ...\n",
      "  [0.38883797 0.61868644 0.85002857 ... 0.52254732 0.29728596 0.43805051]\n",
      "  [0.38734125 0.6623816  0.86767218 ... 0.52133391 0.2567511  0.44259355]\n",
      "  [0.41178217 0.6381365  0.88286426 ... 0.51932071 0.27688631 0.48797928]]\n",
      "\n",
      " ...\n",
      "\n",
      " [[0.58004708 0.330168   0.10939976 ... 0.48372914 0.72080545 0.50156534]\n",
      "  [0.57981552 0.38159409 0.08832479 ... 0.48099327 0.72881003 0.50364195]\n",
      "  [0.55867803 0.35535892 0.0455514  ... 0.47424173 0.74199626 0.47796547]\n",
      "  ...\n",
      "  [0.39519695 0.65464316 0.85882505 ... 0.51692317 0.2989883  0.44813452]\n",
      "  [0.39754958 0.69516738 0.87612551 ... 0.51865196 0.2594329  0.45263774]\n",
      "  [0.41995292 0.669832   0.89060024 ... 0.51627086 0.27919455 0.49843466]]\n",
      "\n",
      " [[0.62663079 0.27411258 0.16070915 ... 0.46014207 0.74944628 0.50039847]\n",
      "  [0.62704823 0.32937807 0.14252665 ... 0.46250428 0.75024324 0.50707209]\n",
      "  [0.61076949 0.30774616 0.09808571 ... 0.4558266  0.75657019 0.47719382]\n",
      "  ...\n",
      "  [0.35641443 0.72268491 0.81705775 ... 0.53990761 0.26438184 0.45232855]\n",
      "  [0.35203133 0.7503864  0.82834673 ... 0.54218475 0.22756033 0.45525362]\n",
      "  [0.37336921 0.72588742 0.83929085 ... 0.53985793 0.25055372 0.49960153]]\n",
      "\n",
      " [[0.35580584 0.25437163 0.71205049 ... 0.82384434 0.67120774 0.1334973 ]\n",
      "  [0.38597167 0.30634989 0.71321779 ... 0.77953512 0.66597361 0.15222814]\n",
      "  [0.39469346 0.27755226 0.63805209 ... 0.77307957 0.6869133  0.15750629]\n",
      "  ...\n",
      "  [0.64805262 0.74262348 0.2469364  ... 0.17777363 0.36160159 0.84744994]\n",
      "  [0.62757381 0.77250719 0.31803688 ... 0.18195975 0.30906163 0.84725745]\n",
      "  [0.64419416 0.74562837 0.28794951 ... 0.17615566 0.32879226 0.8665027 ]]] [1. 1. 1. ... 1. 0. 0.]\n"
     ]
    }
   ],
   "source": [
    "from sklearn.preprocessing import MinMaxScaler\n",
    "scaler = MinMaxScaler(feature_range=(0, 1))\n",
    "scaled_features = scaler.fit_transform(features.reshape((features.shape[0],features.shape[1]*features.shape[2])))\n",
    "scaled_features = scaled_features.reshape(features.shape)\n",
    "print(scaled_features, labels)"
   ]
  },
  {
   "cell_type": "markdown",
   "metadata": {},
   "source": [
    "Split the data\n",
    "\n",
    "- [ ] 70% train, 15% val, 15% test\n",
    "- [x] 80% train, 10% val, 10% test\n",
    "- [ ] 60% train, 20% val, 20% test"
   ]
  },
  {
   "cell_type": "code",
   "execution_count": 63,
   "metadata": {},
   "outputs": [],
   "source": [
    "from sklearn.model_selection import train_test_split\n",
    "\n",
    "X = scaled_features.reshape(-1, 27, 768, 1)\n",
    "y = labels\n",
    "\n",
    "X_train, X_test, y_train, y_test = train_test_split(X, y, test_size=0.2, random_state=1)\n",
    "X_test, X_val, y_test, y_val = train_test_split(X_test, y_test, test_size=0.5, random_state=1)"
   ]
  },
  {
   "cell_type": "markdown",
   "metadata": {},
   "source": [
    "# Recall: our best \"hand-tuned\" model"
   ]
  },
  {
   "cell_type": "markdown",
   "metadata": {},
   "source": [
    "```python\n",
    "model = keras.Sequential([\n",
    "    keras.layers.Dense(units = 303, input_shape = (769,), activation = 'relu'),\n",
    "    keras.layers.Dropout(0.1),\n",
    "    keras.layers.Dense(units = 128, activation = 'relu'),\n",
    "    keras.layers.Dense(units = 64, activation = 'relu'),\n",
    "    keras.layers.Dense(units = 32, activation = 'relu'),\n",
    "    keras.layers.Dense(units = 16, activation = 'relu'),\n",
    "    keras.layers.Dense(units = 1, activation = 'sigmoid')\n",
    "])\n",
    "```"
   ]
  },
  {
   "cell_type": "markdown",
   "metadata": {},
   "source": [
    "## Model here"
   ]
  },
  {
   "cell_type": "code",
   "execution_count": 65,
   "metadata": {},
   "outputs": [],
   "source": [
    "from tensorflow import keras\n",
    "from tensorflow.keras.models import Sequential\n",
    "from tensorflow.keras.layers import Dense, Dropout, Activation, Flatten, Conv2D, MaxPooling2D"
   ]
  },
  {
   "cell_type": "code",
   "execution_count": 67,
   "metadata": {},
   "outputs": [
    {
     "name": "stdout",
     "output_type": "stream",
     "text": [
      "Epoch 1/30\n",
      "50/50 [==============================] - 1s 17ms/step - loss: 0.5831 - accuracy: 0.7144 - val_loss: 0.2582 - val_accuracy: 0.9200\n",
      "Epoch 2/30\n",
      "50/50 [==============================] - 1s 15ms/step - loss: 0.3097 - accuracy: 0.8794 - val_loss: 0.1904 - val_accuracy: 0.9200\n",
      "Epoch 3/30\n",
      "50/50 [==============================] - 1s 15ms/step - loss: 0.2462 - accuracy: 0.9156 - val_loss: 0.1804 - val_accuracy: 0.9450\n",
      "Epoch 4/30\n",
      "50/50 [==============================] - 1s 15ms/step - loss: 0.2091 - accuracy: 0.9281 - val_loss: 0.1423 - val_accuracy: 0.9600\n",
      "Epoch 5/30\n",
      "50/50 [==============================] - 1s 15ms/step - loss: 0.2082 - accuracy: 0.9294 - val_loss: 0.1476 - val_accuracy: 0.9650\n",
      "Epoch 6/30\n",
      "50/50 [==============================] - 1s 15ms/step - loss: 0.1986 - accuracy: 0.9300 - val_loss: 0.1081 - val_accuracy: 0.9750\n",
      "Epoch 7/30\n",
      "50/50 [==============================] - 1s 15ms/step - loss: 0.1605 - accuracy: 0.9450 - val_loss: 0.0953 - val_accuracy: 0.9700\n",
      "Epoch 8/30\n",
      "50/50 [==============================] - 1s 15ms/step - loss: 0.1730 - accuracy: 0.9394 - val_loss: 0.1613 - val_accuracy: 0.9250\n",
      "Epoch 9/30\n",
      "50/50 [==============================] - 1s 15ms/step - loss: 0.1670 - accuracy: 0.9450 - val_loss: 0.0899 - val_accuracy: 0.9650\n",
      "Epoch 10/30\n",
      "50/50 [==============================] - 1s 15ms/step - loss: 0.1462 - accuracy: 0.9519 - val_loss: 0.0960 - val_accuracy: 0.9800\n",
      "Epoch 11/30\n",
      "50/50 [==============================] - 1s 15ms/step - loss: 0.1472 - accuracy: 0.9550 - val_loss: 0.0784 - val_accuracy: 0.9850\n",
      "Epoch 12/30\n",
      "50/50 [==============================] - 1s 15ms/step - loss: 0.1237 - accuracy: 0.9575 - val_loss: 0.0658 - val_accuracy: 0.9800\n",
      "Epoch 13/30\n",
      "50/50 [==============================] - 1s 15ms/step - loss: 0.1410 - accuracy: 0.9588 - val_loss: 0.0705 - val_accuracy: 0.9850\n",
      "Epoch 14/30\n",
      "50/50 [==============================] - 1s 15ms/step - loss: 0.1147 - accuracy: 0.9669 - val_loss: 0.0557 - val_accuracy: 0.9850\n",
      "Epoch 15/30\n",
      "50/50 [==============================] - 1s 15ms/step - loss: 0.1165 - accuracy: 0.9644 - val_loss: 0.1376 - val_accuracy: 0.9600\n",
      "Epoch 16/30\n",
      "50/50 [==============================] - 1s 15ms/step - loss: 0.1214 - accuracy: 0.9631 - val_loss: 0.0901 - val_accuracy: 0.9600\n",
      "Epoch 17/30\n",
      "50/50 [==============================] - 1s 15ms/step - loss: 0.1114 - accuracy: 0.9700 - val_loss: 0.0558 - val_accuracy: 0.9900\n",
      "Epoch 18/30\n",
      "50/50 [==============================] - 1s 15ms/step - loss: 0.1205 - accuracy: 0.9613 - val_loss: 0.0684 - val_accuracy: 0.9850\n",
      "Epoch 19/30\n",
      "50/50 [==============================] - 1s 15ms/step - loss: 0.0944 - accuracy: 0.9731 - val_loss: 0.0502 - val_accuracy: 0.9900\n",
      "Epoch 20/30\n",
      "50/50 [==============================] - 1s 15ms/step - loss: 0.0940 - accuracy: 0.9731 - val_loss: 0.0567 - val_accuracy: 0.9900\n",
      "Epoch 21/30\n",
      "50/50 [==============================] - 1s 15ms/step - loss: 0.0981 - accuracy: 0.9725 - val_loss: 0.0521 - val_accuracy: 0.9900\n",
      "Epoch 22/30\n",
      "50/50 [==============================] - 1s 15ms/step - loss: 0.0905 - accuracy: 0.9769 - val_loss: 0.0592 - val_accuracy: 0.9900\n",
      "Epoch 23/30\n",
      "50/50 [==============================] - 1s 15ms/step - loss: 0.1073 - accuracy: 0.9694 - val_loss: 0.0722 - val_accuracy: 0.9900\n",
      "Epoch 24/30\n",
      "50/50 [==============================] - 1s 15ms/step - loss: 0.0848 - accuracy: 0.9762 - val_loss: 0.0529 - val_accuracy: 0.9900\n",
      "Epoch 25/30\n",
      "50/50 [==============================] - 1s 16ms/step - loss: 0.1187 - accuracy: 0.9675 - val_loss: 0.0600 - val_accuracy: 0.9800\n",
      "Epoch 26/30\n",
      "50/50 [==============================] - 1s 15ms/step - loss: 0.0886 - accuracy: 0.9775 - val_loss: 0.0714 - val_accuracy: 0.9900\n",
      "Epoch 27/30\n",
      "50/50 [==============================] - 1s 15ms/step - loss: 0.0816 - accuracy: 0.9787 - val_loss: 0.0717 - val_accuracy: 0.9700\n",
      "Epoch 28/30\n",
      "50/50 [==============================] - 1s 15ms/step - loss: 0.0899 - accuracy: 0.9731 - val_loss: 0.0937 - val_accuracy: 0.9700\n",
      "Epoch 29/30\n",
      "50/50 [==============================] - 1s 15ms/step - loss: 0.0986 - accuracy: 0.9700 - val_loss: 0.0560 - val_accuracy: 0.9900\n",
      "Epoch 30/30\n",
      "50/50 [==============================] - 1s 15ms/step - loss: 0.0905 - accuracy: 0.9750 - val_loss: 0.0547 - val_accuracy: 0.9900\n"
     ]
    }
   ],
   "source": [
    "model = Sequential([\n",
    "    Conv2D(64, (2,2), input_shape = X.shape[1:], activation='relu'),\n",
    "    MaxPooling2D(pool_size=(2, 2)),\n",
    "    \n",
    "    Conv2D(64, (2,2), activation='relu'),\n",
    "    MaxPooling2D(pool_size=(2, 2)),\n",
    "    \n",
    "    Flatten(),\n",
    "    Dense(64, activation=\"relu\"),\n",
    "    Dropout(0.1),\n",
    "    \n",
    "    Dense(units = 1, activation = 'sigmoid')\n",
    "])\n",
    "\n",
    "model.compile(loss = 'binary_crossentropy',\n",
    "             optimizer = \"Adam\", # you can tune the learning rate here. Default lr = 0.01\n",
    "             metrics=['accuracy'])\n",
    "history = model.fit(X_train, y_train, validation_data = (X_val, y_val), epochs = 30, batch_size = 32)"
   ]
  },
  {
   "cell_type": "code",
   "execution_count": 70,
   "metadata": {},
   "outputs": [
    {
     "name": "stdout",
     "output_type": "stream",
     "text": [
      "7/7 [==============================] - 0s 5ms/step - loss: 0.0372 - accuracy: 0.9750\n"
     ]
    },
    {
     "data": {
      "text/plain": [
       "[0.03715205565094948, 0.9750000238418579]"
      ]
     },
     "execution_count": 70,
     "metadata": {},
     "output_type": "execute_result"
    }
   ],
   "source": [
    "model.evaluate(X_test, y_test)"
   ]
  },
  {
   "cell_type": "code",
   "execution_count": 69,
   "metadata": {},
   "outputs": [
    {
     "data": {
      "image/png": "[encoded data removed]",
      "text/plain": [
       "<Figure size 576x360 with 1 Axes>"
      ]
     },
     "metadata": {
      "needs_background": "light"
     },
     "output_type": "display_data"
    }
   ],
   "source": [
    "import matplotlib.pyplot as plt\n",
    "import pandas as pd\n",
    "pd.DataFrame(history.history).plot(figsize = (8,5))\n",
    "plt.grid = True\n",
    "plt.gca().set_ylim(0,1)\n",
    "plt.show()"
   ]
  },
  {
   "cell_type": "code",
   "execution_count": null,
   "metadata": {},
   "outputs": [],
   "source": []
  },
  {
   "cell_type": "code",
   "execution_count": null,
   "metadata": {},
   "outputs": [],
   "source": []
  },
  {
   "cell_type": "code",
   "execution_count": null,
   "metadata": {},
   "outputs": [],
   "source": []
  },
  {
   "cell_type": "code",
   "execution_count": null,
   "metadata": {},
   "outputs": [],
   "source": []
  },
  {
   "cell_type": "code",
   "execution_count": null,
   "metadata": {},
   "outputs": [],
   "source": []
  },
  {
   "cell_type": "code",
   "execution_count": null,
   "metadata": {},
   "outputs": [],
   "source": []
  },
  {
   "cell_type": "code",
   "execution_count": null,
   "metadata": {},
   "outputs": [],
   "source": []
  }
 ],
 "metadata": {
  "kernelspec": {
   "display_name": "creepy-venv",
   "language": "python",
   "name": "creepy-venv"
  },
  "language_info": {
   "codemirror_mode": {
    "name": "ipython",
    "version": 3
   },
   "file_extension": ".py",
   "mimetype": "text/x-python",
   "name": "python",
   "nbconvert_exporter": "python",
   "pygments_lexer": "ipython3",
   "version": "3.8.5"
  },
  "toc-showmarkdowntxt": true
 },
 "nbformat": 4,
 "nbformat_minor": 4
}
