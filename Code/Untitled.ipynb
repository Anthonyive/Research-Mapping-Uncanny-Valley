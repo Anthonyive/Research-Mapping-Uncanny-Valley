{
 "cells": [
  {
   "cell_type": "code",
   "execution_count": 77,
   "metadata": {},
   "outputs": [
    {
     "data": {
      "text/html": [
       "<div>\n",
       "<style scoped>\n",
       "    .dataframe tbody tr th:only-of-type {\n",
       "        vertical-align: middle;\n",
       "    }\n",
       "\n",
       "    .dataframe tbody tr th {\n",
       "        vertical-align: top;\n",
       "    }\n",
       "\n",
       "    .dataframe thead th {\n",
       "        text-align: right;\n",
       "    }\n",
       "</style>\n",
       "<table border=\"1\" class=\"dataframe\">\n",
       "  <thead>\n",
       "    <tr style=\"text-align: right;\">\n",
       "      <th></th>\n",
       "      <th>index</th>\n",
       "      <th>index</th>\n",
       "      <th>subject</th>\n",
       "      <th>relation</th>\n",
       "      <th>object</th>\n",
       "      <th>id</th>\n",
       "      <th>subreddit</th>\n",
       "      <th>originial_sent</th>\n",
       "    </tr>\n",
       "  </thead>\n",
       "  <tbody>\n",
       "    <tr>\n",
       "      <th>0</th>\n",
       "      <td>0</td>\n",
       "      <td>0</td>\n",
       "      <td>I</td>\n",
       "      <td>constantly found</td>\n",
       "      <td>ourselves</td>\n",
       "      <td>f95dr</td>\n",
       "      <td>Confession</td>\n",
       "      <td>and I constantly found ourselves with a lot of...</td>\n",
       "    </tr>\n",
       "    <tr>\n",
       "      <th>1</th>\n",
       "      <td>1</td>\n",
       "      <td>1</td>\n",
       "      <td>I</td>\n",
       "      <td>constantly found together</td>\n",
       "      <td>ourselves</td>\n",
       "      <td>f95dr</td>\n",
       "      <td>Confession</td>\n",
       "      <td>and I constantly found ourselves with a lot of...</td>\n",
       "    </tr>\n",
       "    <tr>\n",
       "      <th>2</th>\n",
       "      <td>2</td>\n",
       "      <td>2</td>\n",
       "      <td>I</td>\n",
       "      <td>found</td>\n",
       "      <td>ourselves</td>\n",
       "      <td>f95dr</td>\n",
       "      <td>Confession</td>\n",
       "      <td>and I constantly found ourselves with a lot of...</td>\n",
       "    </tr>\n",
       "    <tr>\n",
       "      <th>3</th>\n",
       "      <td>3</td>\n",
       "      <td>3</td>\n",
       "      <td>I</td>\n",
       "      <td>found together</td>\n",
       "      <td>ourselves</td>\n",
       "      <td>f95dr</td>\n",
       "      <td>Confession</td>\n",
       "      <td>and I constantly found ourselves with a lot of...</td>\n",
       "    </tr>\n",
       "    <tr>\n",
       "      <th>4</th>\n",
       "      <td>4</td>\n",
       "      <td>4</td>\n",
       "      <td>it</td>\n",
       "      <td>would</td>\n",
       "      <td>would us for few hours</td>\n",
       "      <td>f95dr</td>\n",
       "      <td>Confession</td>\n",
       "      <td>we'd come home from school and it would just b...</td>\n",
       "    </tr>\n",
       "    <tr>\n",
       "      <th>...</th>\n",
       "      <td>...</td>\n",
       "      <td>...</td>\n",
       "      <td>...</td>\n",
       "      <td>...</td>\n",
       "      <td>...</td>\n",
       "      <td>...</td>\n",
       "      <td>...</td>\n",
       "      <td>...</td>\n",
       "    </tr>\n",
       "    <tr>\n",
       "      <th>236364</th>\n",
       "      <td>29132</td>\n",
       "      <td>29132</td>\n",
       "      <td>tL ;D R</td>\n",
       "      <td>is same colour of</td>\n",
       "      <td>Coke</td>\n",
       "      <td>waj5q</td>\n",
       "      <td>TIFU</td>\n",
       "      <td>tL ;D R- chip fat is the same colour of Coke i...</td>\n",
       "    </tr>\n",
       "    <tr>\n",
       "      <th>236365</th>\n",
       "      <td>29133</td>\n",
       "      <td>29133</td>\n",
       "      <td>tL ;D R</td>\n",
       "      <td>is same colour in</td>\n",
       "      <td>bottle</td>\n",
       "      <td>waj5q</td>\n",
       "      <td>TIFU</td>\n",
       "      <td>tL ;D R- chip fat is the same colour of Coke i...</td>\n",
       "    </tr>\n",
       "    <tr>\n",
       "      <th>236366</th>\n",
       "      <td>29134</td>\n",
       "      <td>29134</td>\n",
       "      <td>tL ;D R</td>\n",
       "      <td>is</td>\n",
       "      <td>same colour of Coke in bottle</td>\n",
       "      <td>waj5q</td>\n",
       "      <td>TIFU</td>\n",
       "      <td>tL ;D R- chip fat is the same colour of Coke i...</td>\n",
       "    </tr>\n",
       "    <tr>\n",
       "      <th>236367</th>\n",
       "      <td>29135</td>\n",
       "      <td>29135</td>\n",
       "      <td>tL ;D R</td>\n",
       "      <td>is</td>\n",
       "      <td>same colour</td>\n",
       "      <td>waj5q</td>\n",
       "      <td>TIFU</td>\n",
       "      <td>tL ;D R- chip fat is the same colour of Coke i...</td>\n",
       "    </tr>\n",
       "    <tr>\n",
       "      <th>236368</th>\n",
       "      <td>29136</td>\n",
       "      <td>29136</td>\n",
       "      <td>tL ;D R</td>\n",
       "      <td>is colour of</td>\n",
       "      <td>Coke</td>\n",
       "      <td>waj5q</td>\n",
       "      <td>TIFU</td>\n",
       "      <td>tL ;D R- chip fat is the same colour of Coke i...</td>\n",
       "    </tr>\n",
       "  </tbody>\n",
       "</table>\n",
       "<p>236369 rows × 8 columns</p>\n",
       "</div>"
      ],
      "text/plain": [
       "        index  index  subject                   relation  \\\n",
       "0           0      0        I           constantly found   \n",
       "1           1      1        I  constantly found together   \n",
       "2           2      2        I                      found   \n",
       "3           3      3        I             found together   \n",
       "4           4      4       it                      would   \n",
       "...       ...    ...      ...                        ...   \n",
       "236364  29132  29132  tL ;D R          is same colour of   \n",
       "236365  29133  29133  tL ;D R          is same colour in   \n",
       "236366  29134  29134  tL ;D R                         is   \n",
       "236367  29135  29135  tL ;D R                         is   \n",
       "236368  29136  29136  tL ;D R               is colour of   \n",
       "\n",
       "                               object     id   subreddit  \\\n",
       "0                           ourselves  f95dr  Confession   \n",
       "1                           ourselves  f95dr  Confession   \n",
       "2                           ourselves  f95dr  Confession   \n",
       "3                           ourselves  f95dr  Confession   \n",
       "4              would us for few hours  f95dr  Confession   \n",
       "...                               ...    ...         ...   \n",
       "236364                           Coke  waj5q        TIFU   \n",
       "236365                         bottle  waj5q        TIFU   \n",
       "236366  same colour of Coke in bottle  waj5q        TIFU   \n",
       "236367                    same colour  waj5q        TIFU   \n",
       "236368                           Coke  waj5q        TIFU   \n",
       "\n",
       "                                           originial_sent  \n",
       "0       and I constantly found ourselves with a lot of...  \n",
       "1       and I constantly found ourselves with a lot of...  \n",
       "2       and I constantly found ourselves with a lot of...  \n",
       "3       and I constantly found ourselves with a lot of...  \n",
       "4       we'd come home from school and it would just b...  \n",
       "...                                                   ...  \n",
       "236364  tL ;D R- chip fat is the same colour of Coke i...  \n",
       "236365  tL ;D R- chip fat is the same colour of Coke i...  \n",
       "236366  tL ;D R- chip fat is the same colour of Coke i...  \n",
       "236367  tL ;D R- chip fat is the same colour of Coke i...  \n",
       "236368  tL ;D R- chip fat is the same colour of Coke i...  \n",
       "\n",
       "[236369 rows x 8 columns]"
      ]
     },
     "execution_count": 77,
     "metadata": {},
     "output_type": "execute_result"
    }
   ],
   "source": [
    "import pandas as pd\n",
    "from tqdm.notebook import tqdm\n",
    "import os\n",
    "from sqlalchemy import create_engine\n",
    "\n",
    "engine = create_engine('sqlite:///Download/main.db')\n",
    "df = pd.DataFrame(engine.execute(\"SELECT * FROM noncreepy_kg\").fetchall(),\n",
    "                  columns=['index','index','subject','relation','object','id','subreddit','originial_sent'])\n",
    "df"
   ]
  },
  {
   "cell_type": "code",
   "execution_count": 78,
   "metadata": {},
   "outputs": [
    {
     "data": {
      "text/plain": [
       "236369"
      ]
     },
     "execution_count": 78,
     "metadata": {},
     "output_type": "execute_result"
    }
   ],
   "source": [
    "len(df)"
   ]
  },
  {
   "cell_type": "code",
   "execution_count": 79,
   "metadata": {},
   "outputs": [],
   "source": [
    "import networkx as nx\n",
    "import matplotlib.pyplot as plt\n",
    "# create a directed-graph from a dataframe\n",
    "G=nx.from_pandas_edgelist(df, \"subject\", \"object\", create_using=nx.MultiDiGraph())"
   ]
  },
  {
   "cell_type": "code",
   "execution_count": 80,
   "metadata": {},
   "outputs": [
    {
     "data": {
      "text/plain": [
       "96325"
      ]
     },
     "execution_count": 80,
     "metadata": {},
     "output_type": "execute_result"
    }
   ],
   "source": [
    "G.number_of_nodes()"
   ]
  },
  {
   "cell_type": "code",
   "execution_count": 81,
   "metadata": {},
   "outputs": [
    {
     "data": {
      "text/plain": [
       "236369"
      ]
     },
     "execution_count": 81,
     "metadata": {},
     "output_type": "execute_result"
    }
   ],
   "source": [
    "G.size()"
   ]
  },
  {
   "cell_type": "code",
   "execution_count": 82,
   "metadata": {},
   "outputs": [
    {
     "data": {
      "text/plain": [
       "<networkx.classes.multidigraph.MultiDiGraph at 0x7fa30c73b8b0>"
      ]
     },
     "execution_count": 82,
     "metadata": {},
     "output_type": "execute_result"
    }
   ],
   "source": [
    "G.to_directed()"
   ]
  },
  {
   "cell_type": "code",
   "execution_count": 83,
   "metadata": {},
   "outputs": [],
   "source": [
    "Gcc = sorted(nx.connected_components(G.to_undirected()), key=len, reverse=True)\n",
    "G0 = G.subgraph(Gcc[0])\n",
    "size = len(G0)"
   ]
  },
  {
   "cell_type": "code",
   "execution_count": 84,
   "metadata": {},
   "outputs": [
    {
     "data": {
      "text/plain": [
       "93496"
      ]
     },
     "execution_count": 84,
     "metadata": {},
     "output_type": "execute_result"
    }
   ],
   "source": [
    "size"
   ]
  },
  {
   "cell_type": "code",
   "execution_count": 85,
   "metadata": {},
   "outputs": [
    {
     "data": {
      "text/plain": [
       "[('I', 52636),\n",
       " ('i', 30286),\n",
       " ('he', 22256),\n",
       " ('it', 19708),\n",
       " ('we', 12103),\n",
       " ('she', 11828),\n",
       " ('me', 7987),\n",
       " ('you', 6872),\n",
       " ('Kevin', 6187),\n",
       " ('they', 4748),\n",
       " ('kevin', 4081),\n",
       " ('him', 4062),\n",
       " ('her', 2497),\n",
       " ('them', 1658),\n",
       " ('people', 1645),\n",
       " ('time', 1459),\n",
       " ('myself', 1059),\n",
       " ('this', 1045),\n",
       " ('guy', 994),\n",
       " ('things', 909)]"
      ]
     },
     "execution_count": 85,
     "metadata": {},
     "output_type": "execute_result"
    }
   ],
   "source": [
    "from collections import Counter\n",
    "counter = Counter(dict(G.degree))\n",
    "counter.most_common(20)"
   ]
  },
  {
   "cell_type": "code",
   "execution_count": 86,
   "metadata": {},
   "outputs": [
    {
     "name": "stderr",
     "output_type": "stream",
     "text": [
      "[nltk_data] Downloading package names to /home/anthony/nltk_data...\n",
      "[nltk_data]   Package names is already up-to-date!\n"
     ]
    },
    {
     "data": {
      "text/plain": [
       "True"
      ]
     },
     "execution_count": 86,
     "metadata": {},
     "output_type": "execute_result"
    }
   ],
   "source": [
    "import nltk\n",
    "nltk.download('names')"
   ]
  },
  {
   "cell_type": "code",
   "execution_count": 87,
   "metadata": {},
   "outputs": [
    {
     "data": {
      "text/plain": [
       "array(['and I constantly found ourselves with a lot of idle time alone together.',\n",
       "       'and I constantly found ourselves with a lot of idle time alone together.',\n",
       "       'and I constantly found ourselves with a lot of idle time alone together.',\n",
       "       ..., 'tL ;D R- chip fat is the same colour of Coke in a bottle.',\n",
       "       'tL ;D R- chip fat is the same colour of Coke in a bottle.',\n",
       "       'tL ;D R- chip fat is the same colour of Coke in a bottle.'],\n",
       "      dtype=object)"
      ]
     },
     "execution_count": 87,
     "metadata": {},
     "output_type": "execute_result"
    }
   ],
   "source": [
    "df['originial_sent'].values"
   ]
  },
  {
   "cell_type": "code",
   "execution_count": null,
   "metadata": {},
   "outputs": [],
   "source": []
  },
  {
   "cell_type": "code",
   "execution_count": null,
   "metadata": {},
   "outputs": [],
   "source": []
  },
  {
   "cell_type": "code",
   "execution_count": null,
   "metadata": {},
   "outputs": [],
   "source": []
  },
  {
   "cell_type": "code",
   "execution_count": null,
   "metadata": {},
   "outputs": [],
   "source": []
  },
  {
   "cell_type": "code",
   "execution_count": null,
   "metadata": {},
   "outputs": [],
   "source": []
  },
  {
   "cell_type": "markdown",
   "metadata": {},
   "source": [
    "# Mean number of nodes and edges (G.number_of_nodes() and G.size(), respectively) for creepy and non-creepy stories"
   ]
  },
  {
   "cell_type": "code",
   "execution_count": 89,
   "metadata": {},
   "outputs": [
    {
     "data": {
      "text/html": [
       "<div>\n",
       "<style scoped>\n",
       "    .dataframe tbody tr th:only-of-type {\n",
       "        vertical-align: middle;\n",
       "    }\n",
       "\n",
       "    .dataframe tbody tr th {\n",
       "        vertical-align: top;\n",
       "    }\n",
       "\n",
       "    .dataframe thead th {\n",
       "        text-align: right;\n",
       "    }\n",
       "</style>\n",
       "<table border=\"1\" class=\"dataframe\">\n",
       "  <thead>\n",
       "    <tr style=\"text-align: right;\">\n",
       "      <th></th>\n",
       "      <th>index</th>\n",
       "      <th>index</th>\n",
       "      <th>subject</th>\n",
       "      <th>relation</th>\n",
       "      <th>object</th>\n",
       "      <th>id</th>\n",
       "      <th>subreddit</th>\n",
       "      <th>originial_sent</th>\n",
       "    </tr>\n",
       "  </thead>\n",
       "  <tbody>\n",
       "    <tr>\n",
       "      <th>0</th>\n",
       "      <td>0</td>\n",
       "      <td>0</td>\n",
       "      <td>I</td>\n",
       "      <td>constantly found</td>\n",
       "      <td>ourselves</td>\n",
       "      <td>f95dr</td>\n",
       "      <td>Confession</td>\n",
       "      <td>and I constantly found ourselves with a lot of...</td>\n",
       "    </tr>\n",
       "    <tr>\n",
       "      <th>1</th>\n",
       "      <td>1</td>\n",
       "      <td>1</td>\n",
       "      <td>I</td>\n",
       "      <td>constantly found together</td>\n",
       "      <td>ourselves</td>\n",
       "      <td>f95dr</td>\n",
       "      <td>Confession</td>\n",
       "      <td>and I constantly found ourselves with a lot of...</td>\n",
       "    </tr>\n",
       "    <tr>\n",
       "      <th>2</th>\n",
       "      <td>2</td>\n",
       "      <td>2</td>\n",
       "      <td>I</td>\n",
       "      <td>found</td>\n",
       "      <td>ourselves</td>\n",
       "      <td>f95dr</td>\n",
       "      <td>Confession</td>\n",
       "      <td>and I constantly found ourselves with a lot of...</td>\n",
       "    </tr>\n",
       "    <tr>\n",
       "      <th>3</th>\n",
       "      <td>3</td>\n",
       "      <td>3</td>\n",
       "      <td>I</td>\n",
       "      <td>found together</td>\n",
       "      <td>ourselves</td>\n",
       "      <td>f95dr</td>\n",
       "      <td>Confession</td>\n",
       "      <td>and I constantly found ourselves with a lot of...</td>\n",
       "    </tr>\n",
       "    <tr>\n",
       "      <th>4</th>\n",
       "      <td>4</td>\n",
       "      <td>4</td>\n",
       "      <td>it</td>\n",
       "      <td>would</td>\n",
       "      <td>would us for few hours</td>\n",
       "      <td>f95dr</td>\n",
       "      <td>Confession</td>\n",
       "      <td>we'd come home from school and it would just b...</td>\n",
       "    </tr>\n",
       "    <tr>\n",
       "      <th>...</th>\n",
       "      <td>...</td>\n",
       "      <td>...</td>\n",
       "      <td>...</td>\n",
       "      <td>...</td>\n",
       "      <td>...</td>\n",
       "      <td>...</td>\n",
       "      <td>...</td>\n",
       "      <td>...</td>\n",
       "    </tr>\n",
       "    <tr>\n",
       "      <th>236364</th>\n",
       "      <td>29132</td>\n",
       "      <td>29132</td>\n",
       "      <td>tL ;D R</td>\n",
       "      <td>is same colour of</td>\n",
       "      <td>Coke</td>\n",
       "      <td>waj5q</td>\n",
       "      <td>TIFU</td>\n",
       "      <td>tL ;D R- chip fat is the same colour of Coke i...</td>\n",
       "    </tr>\n",
       "    <tr>\n",
       "      <th>236365</th>\n",
       "      <td>29133</td>\n",
       "      <td>29133</td>\n",
       "      <td>tL ;D R</td>\n",
       "      <td>is same colour in</td>\n",
       "      <td>bottle</td>\n",
       "      <td>waj5q</td>\n",
       "      <td>TIFU</td>\n",
       "      <td>tL ;D R- chip fat is the same colour of Coke i...</td>\n",
       "    </tr>\n",
       "    <tr>\n",
       "      <th>236366</th>\n",
       "      <td>29134</td>\n",
       "      <td>29134</td>\n",
       "      <td>tL ;D R</td>\n",
       "      <td>is</td>\n",
       "      <td>same colour of Coke in bottle</td>\n",
       "      <td>waj5q</td>\n",
       "      <td>TIFU</td>\n",
       "      <td>tL ;D R- chip fat is the same colour of Coke i...</td>\n",
       "    </tr>\n",
       "    <tr>\n",
       "      <th>236367</th>\n",
       "      <td>29135</td>\n",
       "      <td>29135</td>\n",
       "      <td>tL ;D R</td>\n",
       "      <td>is</td>\n",
       "      <td>same colour</td>\n",
       "      <td>waj5q</td>\n",
       "      <td>TIFU</td>\n",
       "      <td>tL ;D R- chip fat is the same colour of Coke i...</td>\n",
       "    </tr>\n",
       "    <tr>\n",
       "      <th>236368</th>\n",
       "      <td>29136</td>\n",
       "      <td>29136</td>\n",
       "      <td>tL ;D R</td>\n",
       "      <td>is colour of</td>\n",
       "      <td>Coke</td>\n",
       "      <td>waj5q</td>\n",
       "      <td>TIFU</td>\n",
       "      <td>tL ;D R- chip fat is the same colour of Coke i...</td>\n",
       "    </tr>\n",
       "  </tbody>\n",
       "</table>\n",
       "<p>236369 rows × 8 columns</p>\n",
       "</div>"
      ],
      "text/plain": [
       "        index  index  subject                   relation  \\\n",
       "0           0      0        I           constantly found   \n",
       "1           1      1        I  constantly found together   \n",
       "2           2      2        I                      found   \n",
       "3           3      3        I             found together   \n",
       "4           4      4       it                      would   \n",
       "...       ...    ...      ...                        ...   \n",
       "236364  29132  29132  tL ;D R          is same colour of   \n",
       "236365  29133  29133  tL ;D R          is same colour in   \n",
       "236366  29134  29134  tL ;D R                         is   \n",
       "236367  29135  29135  tL ;D R                         is   \n",
       "236368  29136  29136  tL ;D R               is colour of   \n",
       "\n",
       "                               object     id   subreddit  \\\n",
       "0                           ourselves  f95dr  Confession   \n",
       "1                           ourselves  f95dr  Confession   \n",
       "2                           ourselves  f95dr  Confession   \n",
       "3                           ourselves  f95dr  Confession   \n",
       "4              would us for few hours  f95dr  Confession   \n",
       "...                               ...    ...         ...   \n",
       "236364                           Coke  waj5q        TIFU   \n",
       "236365                         bottle  waj5q        TIFU   \n",
       "236366  same colour of Coke in bottle  waj5q        TIFU   \n",
       "236367                    same colour  waj5q        TIFU   \n",
       "236368                           Coke  waj5q        TIFU   \n",
       "\n",
       "                                           originial_sent  \n",
       "0       and I constantly found ourselves with a lot of...  \n",
       "1       and I constantly found ourselves with a lot of...  \n",
       "2       and I constantly found ourselves with a lot of...  \n",
       "3       and I constantly found ourselves with a lot of...  \n",
       "4       we'd come home from school and it would just b...  \n",
       "...                                                   ...  \n",
       "236364  tL ;D R- chip fat is the same colour of Coke i...  \n",
       "236365  tL ;D R- chip fat is the same colour of Coke i...  \n",
       "236366  tL ;D R- chip fat is the same colour of Coke i...  \n",
       "236367  tL ;D R- chip fat is the same colour of Coke i...  \n",
       "236368  tL ;D R- chip fat is the same colour of Coke i...  \n",
       "\n",
       "[236369 rows x 8 columns]"
      ]
     },
     "execution_count": 89,
     "metadata": {},
     "output_type": "execute_result"
    }
   ],
   "source": [
    "import pandas as pd\n",
    "from tqdm.notebook import tqdm\n",
    "import os\n",
    "from sqlalchemy import create_engine\n",
    "\n",
    "engine = create_engine('sqlite:///Download/main.db')\n",
    "df = pd.DataFrame(engine.execute(\"SELECT * FROM noncreepy_kg\").fetchall(),\n",
    "                  columns=['index','index','subject','relation','object','id','subreddit','originial_sent'])\n",
    "df"
   ]
  },
  {
   "cell_type": "code",
   "execution_count": 90,
   "metadata": {},
   "outputs": [
    {
     "data": {
      "text/plain": [
       "0         and I constantly found ourselves with a lot of...\n",
       "1         and I constantly found ourselves with a lot of...\n",
       "2         and I constantly found ourselves with a lot of...\n",
       "3         and I constantly found ourselves with a lot of...\n",
       "4         we'd come home from school and it would just b...\n",
       "                                ...                        \n",
       "236364    tL ;D R- chip fat is the same colour of Coke i...\n",
       "236365    tL ;D R- chip fat is the same colour of Coke i...\n",
       "236366    tL ;D R- chip fat is the same colour of Coke i...\n",
       "236367    tL ;D R- chip fat is the same colour of Coke i...\n",
       "236368    tL ;D R- chip fat is the same colour of Coke i...\n",
       "Name: originial_sent, Length: 236369, dtype: object"
      ]
     },
     "execution_count": 90,
     "metadata": {},
     "output_type": "execute_result"
    }
   ],
   "source": [
    "df['originial_sent']"
   ]
  },
  {
   "cell_type": "code",
   "execution_count": 91,
   "metadata": {},
   "outputs": [
    {
     "name": "stderr",
     "output_type": "stream",
     "text": [
      "[nltk_data] Downloading package brown to /home/anthony/nltk_data...\n",
      "[nltk_data]   Package brown is already up-to-date!\n"
     ]
    },
    {
     "data": {
      "text/plain": [
       "True"
      ]
     },
     "execution_count": 91,
     "metadata": {},
     "output_type": "execute_result"
    }
   ],
   "source": [
    "import nltk\n",
    "nltk.download('brown')"
   ]
  },
  {
   "cell_type": "code",
   "execution_count": 92,
   "metadata": {},
   "outputs": [
    {
     "data": {
      "application/vnd.jupyter.widget-view+json": {
       "model_id": "3fa1446433134f8ab792ef73fe5df57e",
       "version_major": 2,
       "version_minor": 0
      },
      "text/plain": [
       "  0%|          | 0/4753 [00:00<?, ?it/s]"
      ]
     },
     "metadata": {},
     "output_type": "display_data"
    }
   ],
   "source": [
    "import networkx as nx\n",
    "import matplotlib.pyplot as plt\n",
    "from textblob import TextBlob\n",
    "from tqdm.notebook import tqdm\n",
    "\n",
    "graph_properties_li=[]\n",
    "\n",
    "for id in tqdm(df['id'].unique()):\n",
    "    kg_df = df[df['id']==id]\n",
    "    \n",
    "    # create a directed-graph from a dataframe\n",
    "    G=nx.from_pandas_edgelist(kg_df, \"subject\", \"object\", create_using=nx.MultiDiGraph())\n",
    "    \n",
    "    Gcc = sorted(nx.connected_components(G.to_undirected()), key=len, reverse=True)\n",
    "    G0 = G.subgraph(Gcc[0])\n",
    "    size = len(G0)\n",
    "    \n",
    "    noun=0\n",
    "    for text in kg_df['originial_sent'].to_list():\n",
    "        blob = TextBlob(text)\n",
    "        noun+=len(blob.noun_phrases)\n",
    "\n",
    "    row = {'id':id,'# of nodes':G.number_of_nodes(),'# of edges':G.number_of_edges(),'size of the largest connected components':size,'# of noun phrases':noun}\n",
    "    graph_properties_li.append(row)\n",
    "    \n",
    "graph_properties_df = pd.DataFrame(graph_properties_li)"
   ]
  },
  {
   "cell_type": "code",
   "execution_count": 93,
   "metadata": {},
   "outputs": [
    {
     "data": {
      "text/html": [
       "<div>\n",
       "<style scoped>\n",
       "    .dataframe tbody tr th:only-of-type {\n",
       "        vertical-align: middle;\n",
       "    }\n",
       "\n",
       "    .dataframe tbody tr th {\n",
       "        vertical-align: top;\n",
       "    }\n",
       "\n",
       "    .dataframe thead th {\n",
       "        text-align: right;\n",
       "    }\n",
       "</style>\n",
       "<table border=\"1\" class=\"dataframe\">\n",
       "  <thead>\n",
       "    <tr style=\"text-align: right;\">\n",
       "      <th></th>\n",
       "      <th>id</th>\n",
       "      <th># of nodes</th>\n",
       "      <th># of edges</th>\n",
       "      <th>size of the largest connected components</th>\n",
       "      <th># of noun phrases</th>\n",
       "    </tr>\n",
       "  </thead>\n",
       "  <tbody>\n",
       "    <tr>\n",
       "      <th>0</th>\n",
       "      <td>f95dr</td>\n",
       "      <td>148</td>\n",
       "      <td>187</td>\n",
       "      <td>124</td>\n",
       "      <td>97</td>\n",
       "    </tr>\n",
       "    <tr>\n",
       "      <th>1</th>\n",
       "      <td>f970p</td>\n",
       "      <td>5</td>\n",
       "      <td>6</td>\n",
       "      <td>3</td>\n",
       "      <td>0</td>\n",
       "    </tr>\n",
       "    <tr>\n",
       "      <th>2</th>\n",
       "      <td>f98j9</td>\n",
       "      <td>43</td>\n",
       "      <td>57</td>\n",
       "      <td>40</td>\n",
       "      <td>39</td>\n",
       "    </tr>\n",
       "    <tr>\n",
       "      <th>3</th>\n",
       "      <td>f99mx</td>\n",
       "      <td>38</td>\n",
       "      <td>38</td>\n",
       "      <td>11</td>\n",
       "      <td>71</td>\n",
       "    </tr>\n",
       "    <tr>\n",
       "      <th>4</th>\n",
       "      <td>f9bcv</td>\n",
       "      <td>21</td>\n",
       "      <td>47</td>\n",
       "      <td>13</td>\n",
       "      <td>15</td>\n",
       "    </tr>\n",
       "    <tr>\n",
       "      <th>...</th>\n",
       "      <td>...</td>\n",
       "      <td>...</td>\n",
       "      <td>...</td>\n",
       "      <td>...</td>\n",
       "      <td>...</td>\n",
       "    </tr>\n",
       "    <tr>\n",
       "      <th>4748</th>\n",
       "      <td>w9vwg</td>\n",
       "      <td>39</td>\n",
       "      <td>42</td>\n",
       "      <td>14</td>\n",
       "      <td>62</td>\n",
       "    </tr>\n",
       "    <tr>\n",
       "      <th>4749</th>\n",
       "      <td>wa2pl</td>\n",
       "      <td>8</td>\n",
       "      <td>7</td>\n",
       "      <td>4</td>\n",
       "      <td>8</td>\n",
       "    </tr>\n",
       "    <tr>\n",
       "      <th>4750</th>\n",
       "      <td>wac39</td>\n",
       "      <td>19</td>\n",
       "      <td>20</td>\n",
       "      <td>7</td>\n",
       "      <td>19</td>\n",
       "    </tr>\n",
       "    <tr>\n",
       "      <th>4751</th>\n",
       "      <td>wae9n</td>\n",
       "      <td>21</td>\n",
       "      <td>22</td>\n",
       "      <td>12</td>\n",
       "      <td>27</td>\n",
       "    </tr>\n",
       "    <tr>\n",
       "      <th>4752</th>\n",
       "      <td>waj5q</td>\n",
       "      <td>26</td>\n",
       "      <td>29</td>\n",
       "      <td>19</td>\n",
       "      <td>44</td>\n",
       "    </tr>\n",
       "  </tbody>\n",
       "</table>\n",
       "<p>4753 rows × 5 columns</p>\n",
       "</div>"
      ],
      "text/plain": [
       "         id  # of nodes  # of edges  size of the largest connected components  \\\n",
       "0     f95dr         148         187                                       124   \n",
       "1     f970p           5           6                                         3   \n",
       "2     f98j9          43          57                                        40   \n",
       "3     f99mx          38          38                                        11   \n",
       "4     f9bcv          21          47                                        13   \n",
       "...     ...         ...         ...                                       ...   \n",
       "4748  w9vwg          39          42                                        14   \n",
       "4749  wa2pl           8           7                                         4   \n",
       "4750  wac39          19          20                                         7   \n",
       "4751  wae9n          21          22                                        12   \n",
       "4752  waj5q          26          29                                        19   \n",
       "\n",
       "      # of noun phrases  \n",
       "0                    97  \n",
       "1                     0  \n",
       "2                    39  \n",
       "3                    71  \n",
       "4                    15  \n",
       "...                 ...  \n",
       "4748                 62  \n",
       "4749                  8  \n",
       "4750                 19  \n",
       "4751                 27  \n",
       "4752                 44  \n",
       "\n",
       "[4753 rows x 5 columns]"
      ]
     },
     "execution_count": 93,
     "metadata": {},
     "output_type": "execute_result"
    }
   ],
   "source": [
    "graph_properties_df"
   ]
  },
  {
   "cell_type": "code",
   "execution_count": 94,
   "metadata": {},
   "outputs": [
    {
     "data": {
      "text/plain": [
       "# of nodes                                  42.269304\n",
       "# of edges                                  49.730486\n",
       "size of the largest connected components    25.087313\n",
       "# of noun phrases                           71.390701\n",
       "dtype: float64"
      ]
     },
     "execution_count": 94,
     "metadata": {},
     "output_type": "execute_result"
    }
   ],
   "source": [
    "graph_properties_df.mean()"
   ]
  },
  {
   "cell_type": "code",
   "execution_count": null,
   "metadata": {},
   "outputs": [],
   "source": []
  }
 ],
 "metadata": {
  "kernelspec": {
   "display_name": "creepy-venv",
   "language": "python",
   "name": "creepy-venv"
  },
  "language_info": {
   "codemirror_mode": {
    "name": "ipython",
    "version": 3
   },
   "file_extension": ".py",
   "mimetype": "text/x-python",
   "name": "python",
   "nbconvert_exporter": "python",
   "pygments_lexer": "ipython3",
   "version": "3.8.5"
  }
 },
 "nbformat": 4,
 "nbformat_minor": 4
}
