{
 "cells": [
  {
   "cell_type": "code",
   "execution_count": 1,
   "metadata": {},
   "outputs": [
    {
     "ename": "FileNotFoundError",
     "evalue": "[Errno 2] No such file or directory: '../pickles/data_cleaned.pickle'",
     "output_type": "error",
     "traceback": [
      "\u001b[0;31m---------------------------------------------------------------------------\u001b[0m",
      "\u001b[0;31mFileNotFoundError\u001b[0m                         Traceback (most recent call last)",
      "\u001b[0;32m<ipython-input-1-42c9421008fc>\u001b[0m in \u001b[0;36m<module>\u001b[0;34m\u001b[0m\n\u001b[1;32m      1\u001b[0m \u001b[0;32mimport\u001b[0m \u001b[0mpickle\u001b[0m\u001b[0;34m\u001b[0m\u001b[0;34m\u001b[0m\u001b[0m\n\u001b[0;32m----> 2\u001b[0;31m \u001b[0;32mwith\u001b[0m \u001b[0mopen\u001b[0m\u001b[0;34m(\u001b[0m\u001b[0;34m'../pickles/data_cleaned.pickle'\u001b[0m\u001b[0;34m,\u001b[0m \u001b[0;34m'rb'\u001b[0m\u001b[0;34m)\u001b[0m \u001b[0;32mas\u001b[0m \u001b[0mhandle\u001b[0m\u001b[0;34m:\u001b[0m\u001b[0;34m\u001b[0m\u001b[0;34m\u001b[0m\u001b[0m\n\u001b[0m\u001b[1;32m      3\u001b[0m     \u001b[0mdata_cleaned\u001b[0m \u001b[0;34m=\u001b[0m \u001b[0mpickle\u001b[0m\u001b[0;34m.\u001b[0m\u001b[0mload\u001b[0m\u001b[0;34m(\u001b[0m\u001b[0mhandle\u001b[0m\u001b[0;34m)\u001b[0m\u001b[0;34m\u001b[0m\u001b[0;34m\u001b[0m\u001b[0m\n",
      "\u001b[0;31mFileNotFoundError\u001b[0m: [Errno 2] No such file or directory: '../pickles/data_cleaned.pickle'"
     ]
    }
   ],
   "source": [
    "import pickle\n",
    "with open('../pickles/data_cleaned.pickle', 'rb') as handle:\n",
    "    data_cleaned = pickle.load(handle)"
   ]
  },
  {
   "cell_type": "code",
   "execution_count": 2,
   "metadata": {},
   "outputs": [
    {
     "data": {
      "text/plain": [
       "dict_keys(['RS_2020_confession', 'confession_comments', 'RS_2020_confessions', 'confessions_comments', 'RS_2020_creepypasta', 'creepypasta_comments', 'RS_2020_nosleep', 'nosleep_comments', 'RS_2020_self', 'self_comments', 'RS_2020_shortscarystories', 'shortscarystories_comments', 'RS_2020_storiesaboutkevin', 'storiesaboutkevin_comments', 'RS_2020_tifu', 'tifu_comments'])"
      ]
     },
     "execution_count": 2,
     "metadata": {},
     "output_type": "execute_result"
    }
   ],
   "source": [
    "data_cleaned.keys()"
   ]
  },
  {
   "cell_type": "code",
   "execution_count": 3,
   "metadata": {},
   "outputs": [
    {
     "name": "stdout",
     "output_type": "stream",
     "text": [
      "RS_2020_confession\n",
      "Number of posts:  206075 \n",
      "\n",
      "confession_comments\n",
      "Number of posts:  1315746 \n",
      "\n",
      "RS_2020_confessions\n",
      "Number of posts:  22863 \n",
      "\n",
      "confessions_comments\n",
      "Number of posts:  711770 \n",
      "\n",
      "RS_2020_creepypasta\n",
      "Number of posts:  2391 \n",
      "\n",
      "creepypasta_comments\n",
      "Number of posts:  61105 \n",
      "\n",
      "RS_2020_nosleep\n",
      "Number of posts:  15426 \n",
      "\n",
      "nosleep_comments\n",
      "Number of posts:  1378102 \n",
      "\n",
      "RS_2020_self\n",
      "Number of posts:  17600 \n",
      "\n",
      "self_comments\n",
      "Number of posts:  818179 \n",
      "\n",
      "RS_2020_shortscarystories\n",
      "Number of posts:  54974 \n",
      "\n",
      "shortscarystories_comments\n",
      "Number of posts:  191192 \n",
      "\n",
      "RS_2020_storiesaboutkevin\n",
      "Number of posts:  3403 \n",
      "\n",
      "storiesaboutkevin_comments\n",
      "Number of posts:  21343 \n",
      "\n",
      "RS_2020_tifu\n",
      "Number of posts:  17135 \n",
      "\n",
      "tifu_comments\n",
      "Number of posts:  2795480 \n",
      "\n"
     ]
    }
   ],
   "source": [
    "for k,v in data_cleaned.items():\n",
    "    print(k)\n",
    "    print('Number of posts: ', len(v.index), '\\n')"
   ]
  },
  {
   "cell_type": "code",
   "execution_count": 4,
   "metadata": {},
   "outputs": [
    {
     "name": "stdout",
     "output_type": "stream",
     "text": [
      "Num GPUs Available:  1\n"
     ]
    }
   ],
   "source": [
    "import tensorflow as tf\n",
    "print(\"Num GPUs Available: \", len(tf.config.experimental.list_physical_devices('GPU')))"
   ]
  },
  {
   "cell_type": "code",
   "execution_count": 5,
   "metadata": {},
   "outputs": [],
   "source": [
    "data_cleaned['RS_2020_storiesaboutkevin']['id'] = 't3_' + data_cleaned['RS_2020_storiesaboutkevin']['id'].astype(str)"
   ]
  },
  {
   "cell_type": "code",
   "execution_count": 6,
   "metadata": {},
   "outputs": [
    {
     "data": {
      "text/html": [
       "<div>\n",
       "<style scoped>\n",
       "    .dataframe tbody tr th:only-of-type {\n",
       "        vertical-align: middle;\n",
       "    }\n",
       "\n",
       "    .dataframe tbody tr th {\n",
       "        vertical-align: top;\n",
       "    }\n",
       "\n",
       "    .dataframe thead th {\n",
       "        text-align: right;\n",
       "    }\n",
       "</style>\n",
       "<table border=\"1\" class=\"dataframe\">\n",
       "  <thead>\n",
       "    <tr style=\"text-align: right;\">\n",
       "      <th></th>\n",
       "      <th>parent_id</th>\n",
       "      <th>score</th>\n",
       "      <th>body</th>\n",
       "      <th>link_id</th>\n",
       "      <th>body_language</th>\n",
       "    </tr>\n",
       "  </thead>\n",
       "  <tbody>\n",
       "    <tr>\n",
       "      <th>0</th>\n",
       "      <td>t3_h17ue6</td>\n",
       "      <td>1</td>\n",
       "      <td>See if your Kevin can out-stare a cat. He'll l...</td>\n",
       "      <td>t3_h17ue6</td>\n",
       "      <td>en</td>\n",
       "    </tr>\n",
       "    <tr>\n",
       "      <th>3</th>\n",
       "      <td>t3_h17ue6</td>\n",
       "      <td>1</td>\n",
       "      <td>Wait how did he have a staring contest if the ...</td>\n",
       "      <td>t3_h17ue6</td>\n",
       "      <td>en</td>\n",
       "    </tr>\n",
       "    <tr>\n",
       "      <th>7</th>\n",
       "      <td>t3_gz9cqx</td>\n",
       "      <td>1</td>\n",
       "      <td>Please correct me if I'm mistaken but I think ...</td>\n",
       "      <td>t3_gz9cqx</td>\n",
       "      <td>en</td>\n",
       "    </tr>\n",
       "    <tr>\n",
       "      <th>11</th>\n",
       "      <td>t3_gz9cqx</td>\n",
       "      <td>1</td>\n",
       "      <td>Suddenly I am reminded of the character from A...</td>\n",
       "      <td>t3_gz9cqx</td>\n",
       "      <td>en</td>\n",
       "    </tr>\n",
       "    <tr>\n",
       "      <th>15</th>\n",
       "      <td>t3_h7bbs5</td>\n",
       "      <td>1</td>\n",
       "      <td>Absolute gold! 🏅</td>\n",
       "      <td>t3_h7bbs5</td>\n",
       "      <td>en</td>\n",
       "    </tr>\n",
       "    <tr>\n",
       "      <th>...</th>\n",
       "      <td>...</td>\n",
       "      <td>...</td>\n",
       "      <td>...</td>\n",
       "      <td>...</td>\n",
       "      <td>...</td>\n",
       "    </tr>\n",
       "    <tr>\n",
       "      <th>69811</th>\n",
       "      <td>t3_2ht4oe</td>\n",
       "      <td>37</td>\n",
       "      <td>Sorry, but if you are self aware enough to won...</td>\n",
       "      <td>t3_2ht4oe</td>\n",
       "      <td>en</td>\n",
       "    </tr>\n",
       "    <tr>\n",
       "      <th>69812</th>\n",
       "      <td>t3_2emlgx</td>\n",
       "      <td>14</td>\n",
       "      <td>I'm not retarded. At least... I hope not.</td>\n",
       "      <td>t3_2emlgx</td>\n",
       "      <td>en</td>\n",
       "    </tr>\n",
       "    <tr>\n",
       "      <th>69817</th>\n",
       "      <td>t3_2bptpe</td>\n",
       "      <td>4</td>\n",
       "      <td>Same here...</td>\n",
       "      <td>t3_2bptpe</td>\n",
       "      <td>en</td>\n",
       "    </tr>\n",
       "    <tr>\n",
       "      <th>69818</th>\n",
       "      <td>t3_2a02qe</td>\n",
       "      <td>13</td>\n",
       "      <td>i think it was definitely a waste of time, but...</td>\n",
       "      <td>t3_2a02qe</td>\n",
       "      <td>en</td>\n",
       "    </tr>\n",
       "    <tr>\n",
       "      <th>69826</th>\n",
       "      <td>t3_29vigr</td>\n",
       "      <td>29</td>\n",
       "      <td>I suspect you got here [the] [same] [way] I did?</td>\n",
       "      <td>t3_29vigr</td>\n",
       "      <td>en</td>\n",
       "    </tr>\n",
       "  </tbody>\n",
       "</table>\n",
       "<p>21343 rows × 5 columns</p>\n",
       "</div>"
      ],
      "text/plain": [
       "       parent_id  score                                               body  \\\n",
       "0      t3_h17ue6      1  See if your Kevin can out-stare a cat. He'll l...   \n",
       "3      t3_h17ue6      1  Wait how did he have a staring contest if the ...   \n",
       "7      t3_gz9cqx      1  Please correct me if I'm mistaken but I think ...   \n",
       "11     t3_gz9cqx      1  Suddenly I am reminded of the character from A...   \n",
       "15     t3_h7bbs5      1                                   Absolute gold! 🏅   \n",
       "...          ...    ...                                                ...   \n",
       "69811  t3_2ht4oe     37  Sorry, but if you are self aware enough to won...   \n",
       "69812  t3_2emlgx     14          I'm not retarded. At least... I hope not.   \n",
       "69817  t3_2bptpe      4                                       Same here...   \n",
       "69818  t3_2a02qe     13  i think it was definitely a waste of time, but...   \n",
       "69826  t3_29vigr     29   I suspect you got here [the] [same] [way] I did?   \n",
       "\n",
       "         link_id body_language  \n",
       "0      t3_h17ue6            en  \n",
       "3      t3_h17ue6            en  \n",
       "7      t3_gz9cqx            en  \n",
       "11     t3_gz9cqx            en  \n",
       "15     t3_h7bbs5            en  \n",
       "...          ...           ...  \n",
       "69811  t3_2ht4oe            en  \n",
       "69812  t3_2emlgx            en  \n",
       "69817  t3_2bptpe            en  \n",
       "69818  t3_2a02qe            en  \n",
       "69826  t3_29vigr            en  \n",
       "\n",
       "[21343 rows x 5 columns]"
      ]
     },
     "execution_count": 6,
     "metadata": {},
     "output_type": "execute_result"
    }
   ],
   "source": [
    "data_cleaned['storiesaboutkevin_comments']"
   ]
  },
  {
   "cell_type": "code",
   "execution_count": 7,
   "metadata": {},
   "outputs": [
    {
     "ename": "NameError",
     "evalue": "name 'pd' is not defined",
     "output_type": "error",
     "traceback": [
      "\u001b[1;31m---------------------------------------------------------------------------\u001b[0m",
      "\u001b[1;31mNameError\u001b[0m                                 Traceback (most recent call last)",
      "\u001b[1;32m<ipython-input-7-463099942c9b>\u001b[0m in \u001b[0;36m<module>\u001b[1;34m\u001b[0m\n\u001b[1;32m----> 1\u001b[1;33m \u001b[0mx\u001b[0m \u001b[1;33m=\u001b[0m \u001b[0mpd\u001b[0m\u001b[1;33m.\u001b[0m\u001b[0mmerge\u001b[0m\u001b[1;33m(\u001b[0m\u001b[0mdata_cleaned\u001b[0m\u001b[1;33m[\u001b[0m\u001b[1;34m'RS_2020_storiesaboutkevin'\u001b[0m\u001b[1;33m]\u001b[0m\u001b[1;33m,\u001b[0m \u001b[0mdata_cleaned\u001b[0m\u001b[1;33m[\u001b[0m\u001b[1;34m'storiesaboutkevin_comments'\u001b[0m\u001b[1;33m]\u001b[0m\u001b[1;33m,\u001b[0m \u001b[0mhow\u001b[0m \u001b[1;33m=\u001b[0m \u001b[1;34m'inner'\u001b[0m\u001b[1;33m,\u001b[0m \u001b[0mleft_on\u001b[0m \u001b[1;33m=\u001b[0m \u001b[1;34m'id'\u001b[0m\u001b[1;33m,\u001b[0m \u001b[0mright_on\u001b[0m \u001b[1;33m=\u001b[0m \u001b[1;34m'parent_id'\u001b[0m\u001b[1;33m)\u001b[0m\u001b[1;33m\u001b[0m\u001b[1;33m\u001b[0m\u001b[0m\n\u001b[0m\u001b[0;32m      2\u001b[0m \u001b[0mx\u001b[0m\u001b[1;33m.\u001b[0m\u001b[0mgroupby\u001b[0m\u001b[1;33m(\u001b[0m\u001b[1;33m[\u001b[0m\u001b[1;34m'title'\u001b[0m\u001b[1;33m,\u001b[0m \u001b[1;34m'body'\u001b[0m\u001b[1;33m]\u001b[0m\u001b[1;33m)\u001b[0m\u001b[1;33m.\u001b[0m\u001b[0mfirst\u001b[0m\u001b[1;33m(\u001b[0m\u001b[1;33m)\u001b[0m\u001b[1;33m\u001b[0m\u001b[1;33m\u001b[0m\u001b[0m\n",
      "\u001b[1;31mNameError\u001b[0m: name 'pd' is not defined"
     ]
    }
   ],
   "source": [
    "x = pd.merge(data_cleaned['RS_2020_storiesaboutkevin'], data_cleaned['storiesaboutkevin_comments'], how = 'inner', left_on = 'id', right_on = 'parent_id')\n",
    "x.groupby(['title', 'body']).first()"
   ]
  },
  {
   "cell_type": "code",
   "execution_count": 8,
   "metadata": {},
   "outputs": [],
   "source": [
    "test_text = data_cleaned['RS_2020_storiesaboutkevin'].iloc[0]['selftext']"
   ]
  },
  {
   "cell_type": "code",
   "execution_count": 9,
   "metadata": {},
   "outputs": [],
   "source": [
    "import spacy\n",
    "nlp = spacy.load(\"en_core_web_lg\")"
   ]
  },
  {
   "cell_type": "code",
   "execution_count": 10,
   "metadata": {},
   "outputs": [
    {
     "name": "stdout",
     "output_type": "stream",
     "text": [
      "10\n"
     ]
    }
   ],
   "source": [
    "doc = nlp(test_text)\n",
    "\n",
    "from sentence_transformers import SentenceTransformer, util\n",
    "import torch\n",
    "import numpy as np\n",
    "\n",
    "embedder = SentenceTransformer('distilbert-base-nli-stsb-mean-tokens')\n",
    "\n",
    "x = [sent.text for sent in doc.sents]\n",
    "print(len(x))\n",
    "data = embedder.encode(x)\n",
    "data = data.reshape((10,768,1))\n",
    "target = np.expand_dims(np.ones(10), axis = 1)"
   ]
  },
  {
   "cell_type": "code",
   "execution_count": 11,
   "metadata": {},
   "outputs": [
    {
     "data": {
      "text/plain": [
       "(768, 1)"
      ]
     },
     "execution_count": 11,
     "metadata": {},
     "output_type": "execute_result"
    }
   ],
   "source": [
    "data.shape[1:]"
   ]
  },
  {
   "cell_type": "code",
   "execution_count": 15,
   "metadata": {},
   "outputs": [],
   "source": [
    "from tensorflow import keras\n",
    "import tensorflow as tf\n",
    "from tensorflow.keras.models import Sequential\n",
    "from tensorflow.keras.layers import Dense, LSTM, Dropout\n"
   ]
  },
  {
   "cell_type": "code",
   "execution_count": 13,
   "metadata": {},
   "outputs": [],
   "source": [
    "model = Sequential()\n",
    "\n",
    "model.add(LSTM(128, input_shape=data.shape[1:], return_sequences = True))\n",
    "model.add(Dropout(0.1))\n",
    "\n",
    "model.add(LSTM(128))\n",
    "model.add(Dropout(0.1, name = 'layer'))\n",
    "\n",
    "model.add(Dense(1, activation = 'sigmoid'))"
   ]
  },
  {
   "cell_type": "code",
   "execution_count": null,
   "metadata": {},
   "outputs": [],
   "source": []
  },
  {
   "cell_type": "code",
   "execution_count": 16,
   "metadata": {},
   "outputs": [],
   "source": [
    "model.compile(loss = 'binary_crossentropy',\n",
    "             optimizer = keras.optimizers.Adam(lr=0.000959, beta_1 = 0.9, beta_2=0.999), # you can tune the learning rate here. Default lr = 0.01\n",
    "             metrics=['accuracy'])"
   ]
  },
  {
   "cell_type": "code",
   "execution_count": 19,
   "metadata": {},
   "outputs": [],
   "source": [
    "intermediate_layer_model = keras.Model(inputs=model.input,\n",
    "                                 outputs=model.get_layer('layer').output)\n",
    "intermediate_output = intermediate_layer_model.predict(data)"
   ]
  },
  {
   "cell_type": "markdown",
   "metadata": {},
   "source": [
    "intermediate_output"
   ]
  },
  {
   "cell_type": "code",
   "execution_count": 155,
   "metadata": {},
   "outputs": [
    {
     "data": {
      "text/plain": [
       "array([[[ 0.6356785 ],\n",
       "        [-0.33482894],\n",
       "        [-0.20639172],\n",
       "        ...,\n",
       "        [ 0.05474838],\n",
       "        [-0.9565444 ],\n",
       "        [-0.5991295 ]],\n",
       "\n",
       "       [[ 0.60855883],\n",
       "        [-0.06837752],\n",
       "        [ 0.4189801 ],\n",
       "        ...,\n",
       "        [ 0.23462464],\n",
       "        [-0.540445  ],\n",
       "        [-0.15702581]],\n",
       "\n",
       "       [[-0.0566089 ],\n",
       "        [-0.2259286 ],\n",
       "        [ 0.23525931],\n",
       "        ...,\n",
       "        [ 0.21601215],\n",
       "        [-0.43980205],\n",
       "        [-0.8149141 ]],\n",
       "\n",
       "       ...,\n",
       "\n",
       "       [[ 0.15632093],\n",
       "        [-0.5775589 ],\n",
       "        [-0.01583201],\n",
       "        ...,\n",
       "        [ 0.4154871 ],\n",
       "        [-0.5812536 ],\n",
       "        [ 0.10089789]],\n",
       "\n",
       "       [[ 0.45729637],\n",
       "        [ 0.2174945 ],\n",
       "        [ 0.3085463 ],\n",
       "        ...,\n",
       "        [ 0.01471978],\n",
       "        [ 0.45252237],\n",
       "        [ 0.42063355]],\n",
       "\n",
       "       [[ 0.47682437],\n",
       "        [ 0.59148335],\n",
       "        [ 0.4708005 ],\n",
       "        ...,\n",
       "        [-0.60607916],\n",
       "        [ 0.09449449],\n",
       "        [-0.47713733]]], dtype=float32)"
      ]
     },
     "execution_count": 155,
     "metadata": {},
     "output_type": "execute_result"
    }
   ],
   "source": [
    "data"
   ]
  },
  {
   "cell_type": "code",
   "execution_count": null,
   "metadata": {},
   "outputs": [],
   "source": []
  }
 ],
 "metadata": {
  "kernelspec": {
   "display_name": "creepyvenv",
   "language": "python",
   "name": "creepyvenv"
  },
  "language_info": {
   "codemirror_mode": {
    "name": "ipython",
    "version": 3
   },
   "file_extension": ".py",
   "mimetype": "text/x-python",
   "name": "python",
   "nbconvert_exporter": "python",
   "pygments_lexer": "ipython3",
   "version": "3.8.3"
  }
 },
 "nbformat": 4,
 "nbformat_minor": 4
}
