{
 "cells": [
  {
   "cell_type": "markdown",
   "id": "4e5620ee-8dc2-45ae-8da8-517e43e14e40",
   "metadata": {},
   "source": [
    "# Modeling with k-fold cross validation"
   ]
  },
  {
   "cell_type": "markdown",
   "id": "be6d1b8e-6d62-4f1e-8cec-58a2aa3ec420",
   "metadata": {},
   "source": [
    "Given 10+ stories per categories, create a model and use 5-fold cross validation to predict story categories\n",
    "The model can be a neural network, so we will have confidences, or multinomial regression, in both cases we offer potential alternative categories, because multiple categories could represent a given story"
   ]
  },
  {
   "cell_type": "markdown",
   "id": "f42ec535-22ac-4635-a6a1-57db66b11884",
   "metadata": {},
   "source": [
    "## Preprocessing data\n",
    "- Add super categories"
   ]
  },
  {
   "cell_type": "code",
   "execution_count": 1,
   "id": "46c954c1-6bd4-4d54-b728-da07bd748996",
   "metadata": {},
   "outputs": [
    {
     "data": {
      "application/javascript": [
       "\n",
       "        if (window._pyforest_update_imports_cell) { window._pyforest_update_imports_cell('import pandas as pd'); }\n",
       "    "
      ],
      "text/plain": [
       "<IPython.core.display.Javascript object>"
      ]
     },
     "metadata": {},
     "output_type": "display_data"
    }
   ],
   "source": [
    "import json\n",
    "with open('Downloads/ATU.jl') as f:\n",
    "    df_li = []\n",
    "    for line in f:\n",
    "        j = json.loads(line)\n",
    "        df_li.append(j)\n",
    "        \n",
    "df = pd.DataFrame(df_li)"
   ]
  },
  {
   "cell_type": "code",
   "execution_count": 2,
   "id": "51bdc995-b662-4f4d-9fcf-21cc824f8ff4",
   "metadata": {},
   "outputs": [
    {
     "data": {
      "application/javascript": [
       "\n",
       "        if (window._pyforest_update_imports_cell) { window._pyforest_update_imports_cell('import pandas as pd'); }\n",
       "    "
      ],
      "text/plain": [
       "<IPython.core.display.Javascript object>"
      ]
     },
     "metadata": {},
     "output_type": "display_data"
    }
   ],
   "source": [
    "import numpy as np\n",
    "df['super_category'] = pd.cut(df['atu'].str.extract('(\\d+)').astype(int).squeeze(), # extract numbers and convert dtype to int\n",
    "                              [-1, 299, 749, 849, 999, 1199, 1999, 2399],\n",
    "                              labels=['ANIMAL TALES', # (-1, 299]\n",
    "                                      'TALES OF MAGIC', # (299, 749]\n",
    "                                      'RELIGIOUS TALES', # ...\n",
    "                                      'REALISTIC TALES',\n",
    "                                      'TALES OF THE STUPID OGRE (GIANT, DEVIL)',\n",
    "                                      'ANECDOTES AND JOKES',\n",
    "                                      'FORMULA TALES'])"
   ]
  },
  {
   "cell_type": "code",
   "execution_count": 35,
   "id": "4635a16a-e2d4-47bb-8862-de875a25fd6a",
   "metadata": {},
   "outputs": [
    {
     "data": {
      "image/png": "[encoded data removed]",
      "text/plain": [
       "<Figure size 432x288 with 1 Axes>"
      ]
     },
     "metadata": {
      "needs_background": "light"
     },
     "output_type": "display_data"
    }
   ],
   "source": [
    "ax = df['super_category_codes'].hist(bins=df['super_category_codes'].nunique(), ec='black')\n",
    "ax.grid(False)\n",
    "ax.title.set_text('Super Category Histogram')"
   ]
  },
  {
   "cell_type": "code",
   "execution_count": 17,
   "id": "28136c89-43d0-422c-905b-fc0616568a44",
   "metadata": {},
   "outputs": [
    {
     "data": {
      "application/javascript": [
       "\n",
       "        if (window._pyforest_update_imports_cell) { window._pyforest_update_imports_cell('import pandas as pd'); }\n",
       "    "
      ],
      "text/plain": [
       "<IPython.core.display.Javascript object>"
      ]
     },
     "metadata": {},
     "output_type": "display_data"
    },
    {
     "data": {
      "text/plain": [
       "0        ANIMAL TALES\n",
       "1        ANIMAL TALES\n",
       "2        ANIMAL TALES\n",
       "3        ANIMAL TALES\n",
       "4        ANIMAL TALES\n",
       "            ...      \n",
       "1553    FORMULA TALES\n",
       "1554    FORMULA TALES\n",
       "1555    FORMULA TALES\n",
       "1556    FORMULA TALES\n",
       "1557    FORMULA TALES\n",
       "Name: super_category, Length: 1558, dtype: category\n",
       "Categories (7, object): ['ANIMAL TALES' < 'TALES OF MAGIC' < 'RELIGIOUS TALES' < 'REALISTIC TALES' < 'TALES OF THE STUPID OGRE (GIANT, DEVIL)' < 'ANECDOTES AND JOKES' < 'FORMULA TALES']"
      ]
     },
     "execution_count": 17,
     "metadata": {},
     "output_type": "execute_result"
    }
   ],
   "source": [
    "df['super_category'] = pd.Categorical(df['super_category'])\n",
    "df['super_category_codes'] = df['super_category'].cat.codes\n",
    "df['super_category']"
   ]
  },
  {
   "cell_type": "code",
   "execution_count": 1,
   "id": "3b23ce2f-d5fe-411c-af3d-358ace84e258",
   "metadata": {},
   "outputs": [
    {
     "data": {
      "application/javascript": [
       "\n",
       "        if (window._pyforest_update_imports_cell) { window._pyforest_update_imports_cell('import pandas as pd'); }\n",
       "    "
      ],
      "text/plain": [
       "<IPython.core.display.Javascript object>"
      ]
     },
     "metadata": {},
     "output_type": "display_data"
    }
   ],
   "source": [
    "df = pd.read_pickle('Downloads/ATUwithLF.pkl')"
   ]
  },
  {
   "cell_type": "markdown",
   "id": "492f023c-8e56-4a57-ab8d-c6477368bb54",
   "metadata": {},
   "source": [
    "## Improved longformer\n",
    "- Used longformer-large-4096\n",
    "- Pytorch implementation\n",
    "- introducing batch size and torch.no_grad() to better use of GPU memory which greatly reduced the chance of OOM error\n",
    "- Uses larger dimension, 1024 instead of 768"
   ]
  },
  {
   "cell_type": "code",
   "execution_count": 4,
   "id": "a34b0ef3-e137-419f-bdcb-0857a1cd750f",
   "metadata": {},
   "outputs": [],
   "source": [
    "import torch\n",
    "def pad_to_window_size(input_ids: torch.Tensor, attention_mask: torch.Tensor,\n",
    "                       one_sided_window_size: int, pad_token_id: int):\n",
    "    '''A helper function to pad tokens and mask to work with the sliding_chunks implementation of Longformer selfattention.\n",
    "    Input:\n",
    "        input_ids = torch.Tensor(bsz x seqlen): ids of wordpieces\n",
    "        attention_mask = torch.Tensor(bsz x seqlen): attention mask\n",
    "        one_sided_window_size = int: window size on one side of each token\n",
    "        pad_token_id = int: tokenizer.pad_token_id\n",
    "    Returns\n",
    "        (input_ids, attention_mask) padded to length divisible by 2 * one_sided_window_size\n",
    "    '''\n",
    "    import torch.nn.functional as F\n",
    "    w = int(2 * one_sided_window_size)\n",
    "    seqlen = input_ids.size(1)\n",
    "    padding_len = (w - seqlen % w) % w\n",
    "    input_ids = F.pad(input_ids, (0, padding_len), value=pad_token_id)\n",
    "    attention_mask = F.pad(attention_mask, (0, padding_len), value=False)  # no attention on the padding tokens\n",
    "    return input_ids, attention_mask"
   ]
  },
  {
   "cell_type": "code",
   "execution_count": 5,
   "id": "04b16c9b-687b-46be-a989-1d6dffc17e54",
   "metadata": {},
   "outputs": [],
   "source": [
    "import torch, gc\n",
    "from transformers import TFLongformerModel, LongformerTokenizerFast, LongformerConfig\n",
    "from transformers import RobertaTokenizer, LongformerModel\n",
    "from transformers import AutoTokenizer, AutoModel\n",
    "\n",
    "config = LongformerConfig.from_pretrained('allenai/longformer-large-4096')\n",
    "# choose the attention mode 'n2', 'tvm' or 'sliding_chunks'\n",
    "# 'n2': for regular n2 attantion\n",
    "# 'tvm': a custom CUDA kernel implementation of our sliding window attention\n",
    "# 'sliding_chunks': a PyTorch implementation of our sliding window attention\n",
    "config.attention_mode = 'tvm'\n",
    "\n",
    "tokenizer = AutoTokenizer.from_pretrained(\"allenai/longformer-large-4096\")\n",
    "model = AutoModel.from_pretrained(\"allenai/longformer-large-4096\")\n",
    "tokenizer.model_max_length = model.config.max_position_embeddings\n",
    "\n",
    "model = model.cuda();\n",
    "\n",
    "def LFencode(row):\n",
    "    TEXT = row['text']\n",
    "    input_ids = torch.tensor(tokenizer.encode(TEXT, max_length=4096, truncation=True)).unsqueeze(0) # batch of size 1\n",
    "\n",
    "    # TVM code doesn't work on CPU. Uncomment this if `config.attention_mode = 'tvm'`\n",
    "    input_ids = input_ids.cuda()\n",
    "\n",
    "    # Attention mask values -- 0: no attention, 1: local attention, 2: global attention\n",
    "    attention_mask = torch.ones(input_ids.shape, dtype=torch.long, device=input_ids.device) # initialize to local attention\n",
    "#     attention_mask[:, [1, 4, 21,]] =  2  # Set global attention based on the task. For example,\n",
    "                                         # classification: the <s> token\n",
    "                                         # QA: question tokens\n",
    "\n",
    "    # padding seqlen to the nearest multiple of 512. Needed for the 'sliding_chunks' attention\n",
    "    input_ids, attention_mask = pad_to_window_size(\n",
    "            input_ids, attention_mask, config.attention_window[0], tokenizer.pad_token_id)\n",
    "\n",
    "    output = model(input_ids, attention_mask=attention_mask)\n",
    "\n",
    "    result = output.pooler_output.cpu()\n",
    "    \n",
    "    return result.detach().numpy() # tensor to numpy"
   ]
  },
  {
   "cell_type": "code",
   "execution_count": 6,
   "id": "d9231e84-9a5d-472c-9a5b-c17f76d32fe4",
   "metadata": {},
   "outputs": [
    {
     "data": {
      "application/vnd.jupyter.widget-view+json": {
       "model_id": "d754cbcfe80a4171a23e37f059347bac",
       "version_major": 2,
       "version_minor": 0
      },
      "text/plain": [
       "  0%|          | 0/98 [00:00<?, ?it/s]"
      ]
     },
     "metadata": {},
     "output_type": "display_data"
    }
   ],
   "source": [
    "from tqdm.notebook import tqdm\n",
    "tqdm.pandas()\n",
    "# df['longformer_output'] = df.progress_apply(LFencode,axis=1)\n",
    "\n",
    "import time\n",
    "\n",
    "batch_size = 16\n",
    "result = []\n",
    "for batch_number, batch_df in tqdm(df.groupby(np.arange(len(df)) // batch_size)):\n",
    "    # result.append(batch_df['ID'].nunique())\n",
    "    with torch.no_grad(): # VERY IMPORTANT to have this, this clears the memory of every batch apply\n",
    "        batch_df['longformer_output'] = batch_df.apply(LFencode, axis=1)\n",
    "    result.append(batch_df)"
   ]
  },
  {
   "cell_type": "code",
   "execution_count": 12,
   "id": "26a1d2a6-0d0f-4b47-a76b-c2b6d3b31432",
   "metadata": {},
   "outputs": [
    {
     "data": {
      "application/javascript": [
       "\n",
       "        if (window._pyforest_update_imports_cell) { window._pyforest_update_imports_cell('import pandas as pd'); }\n",
       "    "
      ],
      "text/plain": [
       "<IPython.core.display.Javascript object>"
      ]
     },
     "metadata": {},
     "output_type": "display_data"
    }
   ],
   "source": [
    "df = pd.concat(result)"
   ]
  },
  {
   "cell_type": "code",
   "execution_count": 16,
   "id": "506bc7d9-d9ab-4414-893e-7245ce7afd66",
   "metadata": {},
   "outputs": [],
   "source": [
    "df.to_pickle('Downloads/ATUwithLF.pkl')"
   ]
  },
  {
   "cell_type": "markdown",
   "id": "7a990b3c-800b-4472-a0fc-b6e819c8f4de",
   "metadata": {},
   "source": [
    "## 5-fold Cross Validation - Neural Nets"
   ]
  },
  {
   "cell_type": "code",
   "execution_count": 2,
   "id": "fd597e25-e3ab-4bfc-b216-99d09b2d2427",
   "metadata": {},
   "outputs": [
    {
     "data": {
      "application/javascript": [
       "\n",
       "        if (window._pyforest_update_imports_cell) { window._pyforest_update_imports_cell('import numpy as np\\nimport pandas as pd'); }\n",
       "    "
      ],
      "text/plain": [
       "<IPython.core.display.Javascript object>"
      ]
     },
     "metadata": {},
     "output_type": "display_data"
    }
   ],
   "source": [
    "X = np.concatenate(df['longformer_output'].to_numpy())\n",
    "y = df['super_category_codes'].to_numpy()"
   ]
  },
  {
   "cell_type": "code",
   "execution_count": 3,
   "id": "1a9dbcb7-b220-4814-81c3-f0e45f93dae1",
   "metadata": {},
   "outputs": [
    {
     "name": "stdout",
     "output_type": "stream",
     "text": [
      "(1558, 1024)\n",
      "(1558,)\n"
     ]
    }
   ],
   "source": [
    "print(X.shape)\n",
    "print(y.shape)"
   ]
  },
  {
   "cell_type": "code",
   "execution_count": 4,
   "id": "dfc8a5b9-e168-4444-87da-ff722db82c1a",
   "metadata": {},
   "outputs": [],
   "source": []
  },
  {
   "cell_type": "code",
   "execution_count": 5,
   "id": "d47962d9-4487-48ad-9e6f-aa28832f85c5",
   "metadata": {},
   "outputs": [
    {
     "name": "stdout",
     "output_type": "stream",
     "text": [
      "[[0.63413596 0.4456663  0.49524045 ... 0.50179315 0.35628453 0.47142467]\n",
      " [0.8203745  0.47535574 0.36462855 ... 0.46277332 0.6610025  0.3797953 ]\n",
      " [0.60574067 0.5679672  0.4279511  ... 0.52810097 0.30722252 0.6043082 ]\n",
      " ...\n",
      " [0.7386455  0.39600325 0.32427216 ... 0.5084808  0.4033128  0.5282249 ]\n",
      " [0.49282753 0.46960258 0.22107387 ... 0.48322392 0.09316686 0.52675474]\n",
      " [0.5299714  0.2679236  0.33538485 ... 0.53706217 0.3451777  0.4605823 ]] [0 0 1 ... 1 0 3]\n"
     ]
    }
   ],
   "source": [
    "from sklearn.preprocessing import MinMaxScaler\n",
    "\n",
    "scaler = MinMaxScaler(feature_range=(0, 1))\n",
    "scaled_X = scaler.fit_transform(X)\n",
    "\n",
    "print(scaled_X, y)"
   ]
  },
  {
   "cell_type": "markdown",
   "id": "11d8de2e-2c36-4b06-b36b-b263263c0713",
   "metadata": {},
   "source": [
    "### Dealing with imbalanced data\n",
    "Solution: Using different metrics"
   ]
  },
  {
   "cell_type": "code",
   "execution_count": 6,
   "id": "c550c972-931b-4d60-a1b1-903934d02eb8",
   "metadata": {},
   "outputs": [],
   "source": [
    "from sklearn.model_selection import train_test_split\n",
    "X_train, X_test, y_train, y_test = train_test_split(scaled_X, y, test_size=0.2)\n",
    "X_test, X_eval, y_test, y_eval = train_test_split(X_test, y_test, test_size=0.5)"
   ]
  },
  {
   "cell_type": "code",
   "execution_count": 7,
   "id": "e150d2fc-fa35-4955-97c2-9bf7b1975eab",
   "metadata": {},
   "outputs": [
    {
     "name": "stdout",
     "output_type": "stream",
     "text": [
      "(1246, 1024) (156, 1024) (156, 1024)\n",
      "(1246,) (156,) (156,)\n"
     ]
    }
   ],
   "source": [
    "print(X_train.shape, X_test.shape, X_eval.shape)\n",
    "print(y_train.shape, y_test.shape, y_eval.shape)"
   ]
  },
  {
   "cell_type": "markdown",
   "id": "5b8e56a7-2729-4fae-8903-fa8c7b370428",
   "metadata": {},
   "source": [
    "I give up on the following cell..."
   ]
  },
  {
   "cell_type": "code",
   "execution_count": 470,
   "id": "fbdd757e-2386-4ba4-9652-705e34aff1a5",
   "metadata": {},
   "outputs": [],
   "source": [
    "def PRE_micro(y_true, y_pred):\n",
    "#     squared_difference = tf.square(y_true - y_pred)\n",
    "#     return tf.reduce_mean(squared_difference, axis=-1)  # Note the `axis=-1`\n",
    "    TP_tf = tf.equal(y_true, y_pred)\n",
    "    TP_tf = tf.reshape(TP_tf, [-1])\n",
    "    \n",
    "    TP = tf.TensorArray(tf.float32, size=0, dynamic_size=True, clear_after_read=False)\n",
    "    FP = tf.TensorArray(tf.float32, size=0, dynamic_size=True, clear_after_read=False)\n",
    "    \n",
    "    unique_indices, new_index_positions = tf.unique(tf.reshape(y_true, [-1]))\n",
    "\n",
    "    i = 0\n",
    "    for val in tf.unstack(unique_indices):\n",
    "        where = tf.where(y_true == val)\n",
    "        where = tf.reshape(where, [-1])\n",
    "        TPi = tf.reduce_sum(tf.cast(tf.gather(TP_tf, where), tf.float32))\n",
    "        TP.write(i, TPi)\n",
    "        \n",
    "        FPi = tf.reduce_sum(tf.cast(tf.gather(tf.math.logical_not(TP_tf), where), tf.float32))\n",
    "        FP.write(i, FPi)\n",
    "        i+=1\n",
    "        \n",
    "    return tf.reduce_sum(tf.stack(TP)) / (tf.reduce_sum(tf.stack(TP)) + tf.reduce_sum(tf.stack(FP)))\n",
    "\n",
    "def PRE_macro(y_true, y_pred):\n",
    "#     squared_difference = tf.square(y_true - y_pred)\n",
    "#     return tf.reduce_mean(squared_difference, axis=-1)  # Note the `axis=-1`\n",
    "    TP_tf = tf.equal(y_true, y_pred)\n",
    "    TP_tf = tf.reshape(TP_tf, [-1])\n",
    "    \n",
    "    PRE = tf.TensorArray(tf.float32, size=0, dynamic_size=True, clear_after_read=False)\n",
    "    \n",
    "    unique_indices, new_index_positions = tf.unique(tf.reshape(y_true, [-1]))\n",
    "    i = 0\n",
    "    for val in tf.unstack(unique_indices):\n",
    "        where = tf.where(y_true == val)\n",
    "        where = tf.reshape(where, [-1])\n",
    "        TPi = tf.reduce_sum(tf.cast(tf.gather(TP_tf, where), tf.float32))\n",
    "        FPi = tf.reduce_sum(tf.cast(tf.gather(tf.math.logical_not(TP_tf), where), tf.float32))\n",
    "        \n",
    "        PREi = TPi / (TPi+FPi)\n",
    "        PRE.write(i, PREi)\n",
    "        i += 1\n",
    "        \n",
    "    return tf.reduce_mean(tf.stack(PRE))"
   ]
  },
  {
   "cell_type": "code",
   "execution_count": 486,
   "id": "aff31f5c-9e1a-4c8b-91e9-55b341337f7c",
   "metadata": {},
   "outputs": [],
   "source": [
    "import tensorflow.keras as keras\n",
    "METRICS = [\n",
    "    keras.metrics.BinaryAccuracy(name='accuracy'),\n",
    "    keras.metrics.CategoricalAccuracy(name='cat_accuracy'),\n",
    "    keras.metrics.SparseCategoricalAccuracy(name='sparse_cat_accuracy'),\n",
    "    keras.metrics.TopKCategoricalAccuracy(name='top_k', k=5),\n",
    "#     PRE_micro,\n",
    "#     PRE_macro\n",
    "]\n",
    "\n",
    "def make_model(metrics=METRICS, output_bias=None):\n",
    "    if output_bias is not None:\n",
    "        output_bias = tf.keras.initializers.Constant(output_bias)\n",
    "        \n",
    "    n_cat = df['super_category_codes'].nunique()\n",
    "    model = keras.Sequential([\n",
    "        keras.layers.Dense(\n",
    "            16, activation='relu',\n",
    "            input_shape=(X_train.shape[-1],)),\n",
    "        keras.layers.Dropout(0.5),\n",
    "        keras.layers.Dense(n_cat, activation='softmax',\n",
    "                           bias_initializer=output_bias),\n",
    "    ])\n",
    "\n",
    "    model.compile(\n",
    "        optimizer=keras.optimizers.Adam(lr=1e-3),\n",
    "        loss=keras.losses.sparse_categorical_crossentropy,\n",
    "        metrics=METRICS)\n",
    "\n",
    "    return model"
   ]
  },
  {
   "cell_type": "code",
   "execution_count": 487,
   "id": "2b9a74c7-cb9c-41c1-bae2-8fee4b104889",
   "metadata": {},
   "outputs": [
    {
     "data": {
      "text/plain": [
       "7"
      ]
     },
     "execution_count": 487,
     "metadata": {},
     "output_type": "execute_result"
    }
   ],
   "source": [
    "df['super_category_codes'].nunique()"
   ]
  },
  {
   "cell_type": "code",
   "execution_count": 488,
   "id": "889145f8-b81a-4918-a761-9c128edd2454",
   "metadata": {},
   "outputs": [
    {
     "data": {
      "application/javascript": [
       "\n",
       "        if (window._pyforest_update_imports_cell) { window._pyforest_update_imports_cell('import tensorflow as tf\\nimport matplotlib.pyplot as plt\\nimport numpy as np\\nimport pandas as pd\\nimport os'); }\n",
       "    "
      ],
      "text/plain": [
       "<IPython.core.display.Javascript object>"
      ]
     },
     "metadata": {},
     "output_type": "display_data"
    }
   ],
   "source": [
    "EPOCHS = 100\n",
    "BATCH_SIZE = 2048\n",
    "\n",
    "early_stopping = tf.keras.callbacks.EarlyStopping(\n",
    "    monitor='val_accuracy', \n",
    "    verbose=1,\n",
    "    patience=10,\n",
    "    mode='max',\n",
    "    restore_best_weights=True)"
   ]
  },
  {
   "cell_type": "markdown",
   "id": "44af0b88-1c1a-42ef-917f-e382c7a60de9",
   "metadata": {},
   "source": [
    "### Without init bias"
   ]
  },
  {
   "cell_type": "code",
   "execution_count": 489,
   "id": "32fb1020-fb7c-40f6-9400-bac63932c896",
   "metadata": {},
   "outputs": [
    {
     "name": "stdout",
     "output_type": "stream",
     "text": [
      "Model: \"sequential_36\"\n",
      "_________________________________________________________________\n",
      "Layer (type)                 Output Shape              Param #   \n",
      "=================================================================\n",
      "dense_72 (Dense)             (None, 16)                16400     \n",
      "_________________________________________________________________\n",
      "dropout_36 (Dropout)         (None, 16)                0         \n",
      "_________________________________________________________________\n",
      "dense_73 (Dense)             (None, 7)                 119       \n",
      "=================================================================\n",
      "Total params: 16,519\n",
      "Trainable params: 16,519\n",
      "Non-trainable params: 0\n",
      "_________________________________________________________________\n"
     ]
    }
   ],
   "source": [
    "model = make_model()\n",
    "model.summary()"
   ]
  },
  {
   "cell_type": "code",
   "execution_count": 490,
   "id": "91ae7670-e1ec-424a-9762-48dbb481542e",
   "metadata": {},
   "outputs": [
    {
     "name": "stdout",
     "output_type": "stream",
     "text": [
      "WARNING:tensorflow:11 out of the last 11 calls to <function Model.make_predict_function.<locals>.predict_function at 0x7fd38c73a310> triggered tf.function retracing. Tracing is expensive and the excessive number of tracings could be due to (1) creating @tf.function repeatedly in a loop, (2) passing tensors with different shapes, (3) passing Python objects instead of tensors. For (1), please define your @tf.function outside of the loop. For (2), @tf.function has experimental_relax_shapes=True option that relaxes argument shapes that can avoid unnecessary retracing. For (3), please refer to https://www.tensorflow.org/tutorials/customization/performance#python_or_tensor_args and https://www.tensorflow.org/api_docs/python/tf/function for  more details.\n"
     ]
    },
    {
     "data": {
      "text/plain": [
       "array([[0.22776468, 0.21393569, 0.19730502, 0.04178772, 0.08693311,\n",
       "        0.03542528, 0.19684847],\n",
       "       [0.2278321 , 0.22867823, 0.18053056, 0.03296838, 0.08928347,\n",
       "        0.0298159 , 0.21089138],\n",
       "       [0.23790574, 0.20474868, 0.18366858, 0.04131659, 0.09289884,\n",
       "        0.04135191, 0.19810975],\n",
       "       [0.22434384, 0.20093167, 0.20665982, 0.04504499, 0.09639455,\n",
       "        0.04016279, 0.18646234],\n",
       "       [0.21495444, 0.2682784 , 0.195406  , 0.04239253, 0.0725728 ,\n",
       "        0.02996504, 0.17643076],\n",
       "       [0.22957188, 0.20777546, 0.2018392 , 0.04255635, 0.0956448 ,\n",
       "        0.04104115, 0.18157119],\n",
       "       [0.22536656, 0.17590497, 0.26868433, 0.05576181, 0.07079273,\n",
       "        0.04803738, 0.15545225],\n",
       "       [0.24495204, 0.21333948, 0.21639763, 0.03740046, 0.08203125,\n",
       "        0.03340758, 0.1724716 ],\n",
       "       [0.23049897, 0.2185978 , 0.19171222, 0.04159183, 0.0956441 ,\n",
       "        0.03860355, 0.18335146],\n",
       "       [0.23675162, 0.18813948, 0.20678057, 0.04840578, 0.08749888,\n",
       "        0.04191944, 0.19050415]], dtype=float32)"
      ]
     },
     "execution_count": 490,
     "metadata": {},
     "output_type": "execute_result"
    }
   ],
   "source": [
    "model.predict(X_train[:10])"
   ]
  },
  {
   "cell_type": "code",
   "execution_count": 491,
   "id": "6c09de1f-a342-4dab-83fb-061063433a70",
   "metadata": {},
   "outputs": [
    {
     "name": "stdout",
     "output_type": "stream",
     "text": [
      "With the default bias initialization the loss should be about 1.9459101490553135\n",
      "Loss: 2.0521\n"
     ]
    }
   ],
   "source": [
    "results = model.evaluate(X_train, y_train, batch_size=BATCH_SIZE, verbose=0)\n",
    "import math\n",
    "print(\"With the default bias initialization the loss should be about\", -math.log(1/7))\n",
    "print(\"Loss: {:0.4f}\".format(results[0]))"
   ]
  },
  {
   "cell_type": "code",
   "execution_count": 492,
   "id": "a9496a86-67bf-41aa-bfcc-66c47febae4e",
   "metadata": {},
   "outputs": [],
   "source": [
    "def as_perc(value, total):\n",
    "    return value/float(total)\n",
    "\n",
    "grouped_count = df.groupby(['super_category_codes']).size()\n",
    "initial_bias = grouped_count.apply(as_perc, total=df['super_category_codes'].count()).to_numpy()"
   ]
  },
  {
   "cell_type": "markdown",
   "id": "5dbd322a-67f1-40d2-83b2-f2abd1b76cbf",
   "metadata": {},
   "source": [
    "### With init bias"
   ]
  },
  {
   "cell_type": "code",
   "execution_count": 493,
   "id": "af26b4cf-ef58-400f-8acd-97e233fea6f3",
   "metadata": {},
   "outputs": [
    {
     "data": {
      "application/javascript": [
       "\n",
       "        if (window._pyforest_update_imports_cell) { window._pyforest_update_imports_cell('import tensorflow as tf\\nimport matplotlib.pyplot as plt\\nimport numpy as np\\nimport pandas as pd\\nimport os'); }\n",
       "    "
      ],
      "text/plain": [
       "<IPython.core.display.Javascript object>"
      ]
     },
     "metadata": {},
     "output_type": "display_data"
    },
    {
     "name": "stdout",
     "output_type": "stream",
     "text": [
      "WARNING:tensorflow:11 out of the last 11 calls to <function Model.make_predict_function.<locals>.predict_function at 0x7fd19c520430> triggered tf.function retracing. Tracing is expensive and the excessive number of tracings could be due to (1) creating @tf.function repeatedly in a loop, (2) passing tensors with different shapes, (3) passing Python objects instead of tensors. For (1), please define your @tf.function outside of the loop. For (2), @tf.function has experimental_relax_shapes=True option that relaxes argument shapes that can avoid unnecessary retracing. For (3), please refer to https://www.tensorflow.org/tutorials/customization/performance#python_or_tensor_args and https://www.tensorflow.org/api_docs/python/tf/function for  more details.\n"
     ]
    },
    {
     "data": {
      "text/plain": [
       "array([[0.07188553, 0.05698005, 0.06506176, 0.03358047, 0.19453092,\n",
       "        0.53203905, 0.04592223],\n",
       "       [0.05996474, 0.04062741, 0.05998416, 0.0248975 , 0.24349995,\n",
       "        0.5312853 , 0.03974096],\n",
       "       [0.07037967, 0.0319027 , 0.08217628, 0.02431443, 0.2946176 ,\n",
       "        0.46834925, 0.02826017],\n",
       "       [0.0657557 , 0.04503817, 0.04595721, 0.02453991, 0.19239032,\n",
       "        0.57668877, 0.04962996],\n",
       "       [0.05475193, 0.04416414, 0.0777797 , 0.02645856, 0.22780333,\n",
       "        0.53008115, 0.0389612 ],\n",
       "       [0.0655489 , 0.05387358, 0.07701661, 0.02761445, 0.21332939,\n",
       "        0.52499706, 0.03761997],\n",
       "       [0.11795447, 0.05319924, 0.0902392 , 0.04869634, 0.21172245,\n",
       "        0.43134075, 0.04684756],\n",
       "       [0.06696362, 0.04710291, 0.07427142, 0.02802566, 0.22690395,\n",
       "        0.5163493 , 0.04038315],\n",
       "       [0.06271685, 0.05561503, 0.0637228 , 0.02740328, 0.22873661,\n",
       "        0.529289  , 0.03251645],\n",
       "       [0.06242148, 0.05817706, 0.05440645, 0.02493226, 0.19363303,\n",
       "        0.55975765, 0.04667211]], dtype=float32)"
      ]
     },
     "execution_count": 493,
     "metadata": {},
     "output_type": "execute_result"
    }
   ],
   "source": [
    "model = make_model(output_bias=initial_bias)\n",
    "model.predict(X_train[:10])"
   ]
  },
  {
   "cell_type": "code",
   "execution_count": 494,
   "id": "ec037ec4-894a-4892-ad2b-dce92630d2e3",
   "metadata": {},
   "outputs": [
    {
     "name": "stdout",
     "output_type": "stream",
     "text": [
      "Loss: 2.5112\n"
     ]
    }
   ],
   "source": [
    "results = model.evaluate(X_train, y_train, batch_size=BATCH_SIZE, verbose=0)\n",
    "print(\"Loss: {:0.4f}\".format(results[0]))"
   ]
  },
  {
   "cell_type": "code",
   "execution_count": 495,
   "id": "bf92d90a-6b5b-473b-8aa9-cb6de288a2ce",
   "metadata": {},
   "outputs": [
    {
     "data": {
      "application/javascript": [
       "\n",
       "        if (window._pyforest_update_imports_cell) { window._pyforest_update_imports_cell('import tensorflow as tf\\nimport matplotlib.pyplot as plt\\nimport numpy as np\\nimport pandas as pd\\nimport os'); }\n",
       "    "
      ],
      "text/plain": [
       "<IPython.core.display.Javascript object>"
      ]
     },
     "metadata": {},
     "output_type": "display_data"
    }
   ],
   "source": [
    "import tempfile\n",
    "initial_weights = os.path.join(tempfile.mkdtemp(), 'initial_weights')\n",
    "model.save_weights(initial_weights)"
   ]
  },
  {
   "cell_type": "code",
   "execution_count": 496,
   "id": "7b8ff97e-7577-4270-8376-1a6b65f08ddc",
   "metadata": {},
   "outputs": [
    {
     "data": {
      "application/javascript": [
       "\n",
       "        if (window._pyforest_update_imports_cell) { window._pyforest_update_imports_cell('import tensorflow as tf\\nimport matplotlib.pyplot as plt\\nimport numpy as np\\nimport pandas as pd\\nimport os'); }\n",
       "    "
      ],
      "text/plain": [
       "<IPython.core.display.Javascript object>"
      ]
     },
     "metadata": {},
     "output_type": "display_data"
    }
   ],
   "source": [
    "model = make_model()\n",
    "model.load_weights(initial_weights)\n",
    "model.layers[-1].bias.assign(np.zeros(7))\n",
    "zero_bias_history = model.fit(\n",
    "    X_train,\n",
    "    y_train,\n",
    "    batch_size=BATCH_SIZE,\n",
    "    epochs=20,\n",
    "    validation_data=(X_eval, y_eval), \n",
    "    verbose=0)"
   ]
  },
  {
   "cell_type": "code",
   "execution_count": 497,
   "id": "8e97fb1a-296d-411a-ac24-fa50cf6adc8e",
   "metadata": {},
   "outputs": [],
   "source": [
    "model = make_model()\n",
    "model.load_weights(initial_weights)\n",
    "careful_bias_history = model.fit(\n",
    "    X_train,\n",
    "    y_train,\n",
    "    batch_size=BATCH_SIZE,\n",
    "    epochs=20,\n",
    "    validation_data=(X_eval, y_eval), \n",
    "    verbose=0)"
   ]
  },
  {
   "cell_type": "code",
   "execution_count": 498,
   "id": "e16af231-9811-464a-ba45-d3a245d0e772",
   "metadata": {},
   "outputs": [
    {
     "data": {
      "application/javascript": [
       "\n",
       "        if (window._pyforest_update_imports_cell) { window._pyforest_update_imports_cell('import tensorflow as tf\\nimport matplotlib.pyplot as plt\\nimport numpy as np\\nimport pandas as pd\\nimport os'); }\n",
       "    "
      ],
      "text/plain": [
       "<IPython.core.display.Javascript object>"
      ]
     },
     "metadata": {},
     "output_type": "display_data"
    }
   ],
   "source": [
    "colors = plt.rcParams['axes.prop_cycle'].by_key()['color']"
   ]
  },
  {
   "cell_type": "code",
   "execution_count": 499,
   "id": "e1bfcdad-b678-4bd5-ac18-25ba702eee7c",
   "metadata": {},
   "outputs": [],
   "source": [
    "def plot_loss(history, label, n):\n",
    "    # Use a log scale on y-axis to show the wide range of values.\n",
    "    plt.semilogy(history.epoch, history.history['loss'],\n",
    "               color=colors[n], label='Train ' + label)\n",
    "    plt.semilogy(history.epoch, history.history['val_loss'],\n",
    "               color=colors[n], label='Val ' + label,\n",
    "               linestyle=\"--\")\n",
    "    plt.xlabel('Epoch')\n",
    "    plt.ylabel('Loss')"
   ]
  },
  {
   "cell_type": "code",
   "execution_count": 500,
   "id": "8c0f9fcd-f30e-4605-9361-73c0fdefcb7b",
   "metadata": {},
   "outputs": [
    {
     "data": {
      "application/javascript": [
       "\n",
       "        if (window._pyforest_update_imports_cell) { window._pyforest_update_imports_cell('import tensorflow as tf\\nimport matplotlib.pyplot as plt\\nimport numpy as np\\nimport pandas as pd\\nimport os'); }\n",
       "    "
      ],
      "text/plain": [
       "<IPython.core.display.Javascript object>"
      ]
     },
     "metadata": {},
     "output_type": "display_data"
    },
    {
     "data": {
      "application/javascript": [
       "\n",
       "        if (window._pyforest_update_imports_cell) { window._pyforest_update_imports_cell('import tensorflow as tf\\nimport matplotlib.pyplot as plt\\nimport numpy as np\\nimport pandas as pd\\nimport os'); }\n",
       "    "
      ],
      "text/plain": [
       "<IPython.core.display.Javascript object>"
      ]
     },
     "metadata": {},
     "output_type": "display_data"
    },
    {
     "data": {
      "application/javascript": [
       "\n",
       "        if (window._pyforest_update_imports_cell) { window._pyforest_update_imports_cell('import tensorflow as tf\\nimport matplotlib.pyplot as plt\\nimport numpy as np\\nimport pandas as pd\\nimport os'); }\n",
       "    "
      ],
      "text/plain": [
       "<IPython.core.display.Javascript object>"
      ]
     },
     "metadata": {},
     "output_type": "display_data"
    },
    {
     "data": {
      "application/javascript": [
       "\n",
       "        if (window._pyforest_update_imports_cell) { window._pyforest_update_imports_cell('import tensorflow as tf\\nimport matplotlib.pyplot as plt\\nimport numpy as np\\nimport pandas as pd\\nimport os'); }\n",
       "    "
      ],
      "text/plain": [
       "<IPython.core.display.Javascript object>"
      ]
     },
     "metadata": {},
     "output_type": "display_data"
    },
    {
     "data": {
      "application/javascript": [
       "\n",
       "        if (window._pyforest_update_imports_cell) { window._pyforest_update_imports_cell('import tensorflow as tf\\nimport matplotlib.pyplot as plt\\nimport numpy as np\\nimport pandas as pd\\nimport os'); }\n",
       "    "
      ],
      "text/plain": [
       "<IPython.core.display.Javascript object>"
      ]
     },
     "metadata": {},
     "output_type": "display_data"
    },
    {
     "data": {
      "application/javascript": [
       "\n",
       "        if (window._pyforest_update_imports_cell) { window._pyforest_update_imports_cell('import tensorflow as tf\\nimport matplotlib.pyplot as plt\\nimport numpy as np\\nimport pandas as pd\\nimport os'); }\n",
       "    "
      ],
      "text/plain": [
       "<IPython.core.display.Javascript object>"
      ]
     },
     "metadata": {},
     "output_type": "display_data"
    },
    {
     "data": {
      "application/javascript": [
       "\n",
       "        if (window._pyforest_update_imports_cell) { window._pyforest_update_imports_cell('import tensorflow as tf\\nimport matplotlib.pyplot as plt\\nimport numpy as np\\nimport pandas as pd\\nimport os'); }\n",
       "    "
      ],
      "text/plain": [
       "<IPython.core.display.Javascript object>"
      ]
     },
     "metadata": {},
     "output_type": "display_data"
    },
    {
     "data": {
      "application/javascript": [
       "\n",
       "        if (window._pyforest_update_imports_cell) { window._pyforest_update_imports_cell('import tensorflow as tf\\nimport matplotlib.pyplot as plt\\nimport numpy as np\\nimport pandas as pd\\nimport os'); }\n",
       "    "
      ],
      "text/plain": [
       "<IPython.core.display.Javascript object>"
      ]
     },
     "metadata": {},
     "output_type": "display_data"
    },
    {
     "data": {
      "image/png": "[encoded data removed]",
      "text/plain": [
       "<Figure size 432x288 with 1 Axes>"
      ]
     },
     "metadata": {
      "needs_background": "light"
     },
     "output_type": "display_data"
    }
   ],
   "source": [
    "plot_loss(zero_bias_history, \"Zero Bias\", 0)\n",
    "plot_loss(careful_bias_history, \"Careful Bias\", 1)"
   ]
  },
  {
   "cell_type": "markdown",
   "id": "d6fc075d-27f6-4e55-b4f7-725e262d355f",
   "metadata": {},
   "source": [
    "### Train the model"
   ]
  },
  {
   "cell_type": "code",
   "execution_count": 501,
   "id": "554171c9-a016-4687-8f19-cff97812c4dc",
   "metadata": {
    "collapsed": true,
    "jupyter": {
     "outputs_hidden": true
    },
    "tags": []
   },
   "outputs": [
    {
     "name": "stdout",
     "output_type": "stream",
     "text": [
      "Epoch 1/20\n",
      "1/1 [==============================] - 0s 33ms/step - loss: 1.7539 - accuracy: 0.2310 - cat_accuracy: 0.0835 - sparse_cat_accuracy: 0.3499 - top_k: 1.0000 - val_loss: 1.7471 - val_accuracy: 0.2179 - val_cat_accuracy: 0.0000e+00 - val_sparse_cat_accuracy: 0.3333 - val_top_k: 1.0000\n",
      "Epoch 2/20\n",
      "1/1 [==============================] - 0s 18ms/step - loss: 1.7832 - accuracy: 0.2306 - cat_accuracy: 0.0827 - sparse_cat_accuracy: 0.3451 - top_k: 1.0000 - val_loss: 1.7456 - val_accuracy: 0.2179 - val_cat_accuracy: 0.0000e+00 - val_sparse_cat_accuracy: 0.3333 - val_top_k: 1.0000\n",
      "Epoch 3/20\n",
      "1/1 [==============================] - 0s 19ms/step - loss: 1.7790 - accuracy: 0.2307 - cat_accuracy: 0.0770 - sparse_cat_accuracy: 0.3475 - top_k: 1.0000 - val_loss: 1.7462 - val_accuracy: 0.2179 - val_cat_accuracy: 0.0064 - val_sparse_cat_accuracy: 0.3333 - val_top_k: 1.0000\n",
      "Epoch 4/20\n",
      "1/1 [==============================] - 0s 15ms/step - loss: 1.7711 - accuracy: 0.2292 - cat_accuracy: 0.1011 - sparse_cat_accuracy: 0.3547 - top_k: 1.0000 - val_loss: 1.7490 - val_accuracy: 0.2179 - val_cat_accuracy: 0.0064 - val_sparse_cat_accuracy: 0.3333 - val_top_k: 1.0000\n",
      "Epoch 5/20\n",
      "1/1 [==============================] - 0s 15ms/step - loss: 1.7635 - accuracy: 0.2270 - cat_accuracy: 0.1124 - sparse_cat_accuracy: 0.3443 - top_k: 1.0000 - val_loss: 1.7529 - val_accuracy: 0.2179 - val_cat_accuracy: 0.0128 - val_sparse_cat_accuracy: 0.3397 - val_top_k: 1.0000\n",
      "Epoch 6/20\n",
      "1/1 [==============================] - 0s 17ms/step - loss: 1.7602 - accuracy: 0.2275 - cat_accuracy: 0.1268 - sparse_cat_accuracy: 0.3403 - top_k: 1.0000 - val_loss: 1.7568 - val_accuracy: 0.2179 - val_cat_accuracy: 0.0128 - val_sparse_cat_accuracy: 0.3397 - val_top_k: 1.0000\n",
      "Epoch 7/20\n",
      "1/1 [==============================] - 0s 19ms/step - loss: 1.7739 - accuracy: 0.2270 - cat_accuracy: 0.1517 - sparse_cat_accuracy: 0.3218 - top_k: 1.0000 - val_loss: 1.7605 - val_accuracy: 0.2179 - val_cat_accuracy: 0.0128 - val_sparse_cat_accuracy: 0.3397 - val_top_k: 1.0000\n",
      "Epoch 8/20\n",
      "1/1 [==============================] - 0s 16ms/step - loss: 1.7661 - accuracy: 0.2270 - cat_accuracy: 0.1116 - sparse_cat_accuracy: 0.3531 - top_k: 1.0000 - val_loss: 1.7626 - val_accuracy: 0.2179 - val_cat_accuracy: 0.0128 - val_sparse_cat_accuracy: 0.3397 - val_top_k: 1.0000\n",
      "Epoch 9/20\n",
      "1/1 [==============================] - 0s 13ms/step - loss: 1.7682 - accuracy: 0.2271 - cat_accuracy: 0.1100 - sparse_cat_accuracy: 0.3475 - top_k: 1.0000 - val_loss: 1.7629 - val_accuracy: 0.2179 - val_cat_accuracy: 0.0064 - val_sparse_cat_accuracy: 0.3333 - val_top_k: 1.0000\n",
      "Epoch 10/20\n",
      "1/1 [==============================] - 0s 17ms/step - loss: 1.7531 - accuracy: 0.2274 - cat_accuracy: 0.0843 - sparse_cat_accuracy: 0.3563 - top_k: 1.0000 - val_loss: 1.7609 - val_accuracy: 0.2179 - val_cat_accuracy: 0.0064 - val_sparse_cat_accuracy: 0.3333 - val_top_k: 1.0000\n",
      "Epoch 11/20\n",
      "1/1 [==============================] - 0s 14ms/step - loss: 1.7639 - accuracy: 0.2271 - cat_accuracy: 0.0811 - sparse_cat_accuracy: 0.3475 - top_k: 1.0000 - val_loss: 1.7582 - val_accuracy: 0.2179 - val_cat_accuracy: 0.0064 - val_sparse_cat_accuracy: 0.3333 - val_top_k: 1.0000\n",
      "Epoch 12/20\n",
      "1/1 [==============================] - 0s 16ms/step - loss: 1.7648 - accuracy: 0.2271 - cat_accuracy: 0.0859 - sparse_cat_accuracy: 0.3523 - top_k: 1.0000 - val_loss: 1.7554 - val_accuracy: 0.2179 - val_cat_accuracy: 0.0064 - val_sparse_cat_accuracy: 0.3333 - val_top_k: 1.0000\n",
      "Epoch 13/20\n",
      "1/1 [==============================] - 0s 19ms/step - loss: 1.7520 - accuracy: 0.2269 - cat_accuracy: 0.1132 - sparse_cat_accuracy: 0.3475 - top_k: 1.0000 - val_loss: 1.7522 - val_accuracy: 0.2179 - val_cat_accuracy: 0.0064 - val_sparse_cat_accuracy: 0.3333 - val_top_k: 1.0000\n",
      "Epoch 14/20\n",
      "1/1 [==============================] - 0s 15ms/step - loss: 1.7464 - accuracy: 0.2277 - cat_accuracy: 0.1533 - sparse_cat_accuracy: 0.3539 - top_k: 1.0000 - val_loss: 1.7493 - val_accuracy: 0.2179 - val_cat_accuracy: 0.0064 - val_sparse_cat_accuracy: 0.3333 - val_top_k: 1.0000\n",
      "Epoch 15/20\n",
      "1/1 [==============================] - 0s 14ms/step - loss: 1.7614 - accuracy: 0.2282 - cat_accuracy: 0.1421 - sparse_cat_accuracy: 0.3459 - top_k: 1.0000 - val_loss: 1.7471 - val_accuracy: 0.2179 - val_cat_accuracy: 0.0064 - val_sparse_cat_accuracy: 0.3333 - val_top_k: 1.0000\n",
      "Epoch 16/20\n",
      "1/1 [==============================] - 0s 19ms/step - loss: 1.7582 - accuracy: 0.2290 - cat_accuracy: 0.1404 - sparse_cat_accuracy: 0.3507 - top_k: 1.0000 - val_loss: 1.7452 - val_accuracy: 0.2179 - val_cat_accuracy: 0.0064 - val_sparse_cat_accuracy: 0.3333 - val_top_k: 1.0000\n",
      "Epoch 17/20\n",
      "1/1 [==============================] - 0s 15ms/step - loss: 1.7551 - accuracy: 0.2305 - cat_accuracy: 0.1212 - sparse_cat_accuracy: 0.3539 - top_k: 1.0000 - val_loss: 1.7434 - val_accuracy: 0.2179 - val_cat_accuracy: 0.0064 - val_sparse_cat_accuracy: 0.3333 - val_top_k: 1.0000\n",
      "Epoch 18/20\n",
      "1/1 [==============================] - 0s 15ms/step - loss: 1.7556 - accuracy: 0.2290 - cat_accuracy: 0.1011 - sparse_cat_accuracy: 0.3604 - top_k: 1.0000 - val_loss: 1.7421 - val_accuracy: 0.2179 - val_cat_accuracy: 0.0064 - val_sparse_cat_accuracy: 0.3333 - val_top_k: 1.0000\n",
      "Epoch 19/20\n",
      "1/1 [==============================] - 0s 15ms/step - loss: 1.7289 - accuracy: 0.2302 - cat_accuracy: 0.1011 - sparse_cat_accuracy: 0.3660 - top_k: 1.0000 - val_loss: 1.7402 - val_accuracy: 0.2179 - val_cat_accuracy: 0.0064 - val_sparse_cat_accuracy: 0.3333 - val_top_k: 1.0000\n",
      "Epoch 20/20\n",
      "1/1 [==============================] - 0s 17ms/step - loss: 1.7269 - accuracy: 0.2292 - cat_accuracy: 0.1212 - sparse_cat_accuracy: 0.3612 - top_k: 1.0000 - val_loss: 1.7386 - val_accuracy: 0.2179 - val_cat_accuracy: 0.0064 - val_sparse_cat_accuracy: 0.3333 - val_top_k: 1.0000\n"
     ]
    },
    {
     "data": {
      "text/plain": [
       "<tensorflow.python.keras.callbacks.History at 0x7fd19cf52940>"
      ]
     },
     "execution_count": 501,
     "metadata": {},
     "output_type": "execute_result"
    }
   ],
   "source": [
    "model.fit(\n",
    "    X_train,\n",
    "    y_train,\n",
    "    batch_size=BATCH_SIZE,\n",
    "    epochs=20,\n",
    "    validation_data=(X_eval, y_eval))"
   ]
  },
  {
   "cell_type": "markdown",
   "id": "a0366531-681e-407e-99e4-6df4bf3542f0",
   "metadata": {},
   "source": [
    "## 5-fold"
   ]
  },
  {
   "cell_type": "code",
   "execution_count": 505,
   "id": "8106c478-db28-4e6c-b91b-ba161e0a083c",
   "metadata": {},
   "outputs": [
    {
     "data": {
      "application/javascript": [
       "\n",
       "        if (window._pyforest_update_imports_cell) { window._pyforest_update_imports_cell('import tensorflow as tf\\nimport matplotlib.pyplot as plt\\nimport numpy as np\\nimport pandas as pd\\nimport os'); }\n",
       "    "
      ],
      "text/plain": [
       "<IPython.core.display.Javascript object>"
      ]
     },
     "metadata": {},
     "output_type": "display_data"
    }
   ],
   "source": [
    "X = np.concatenate(df['longformer_output'].to_numpy())\n",
    "y = df['super_category_codes'].to_numpy()"
   ]
  },
  {
   "cell_type": "code",
   "execution_count": 507,
   "id": "97680ebf-3694-4492-ac7e-b031729a893e",
   "metadata": {
    "collapsed": true,
    "jupyter": {
     "outputs_hidden": true
    },
    "tags": []
   },
   "outputs": [
    {
     "name": "stdout",
     "output_type": "stream",
     "text": [
      "Epoch 1/20\n",
      "1/1 [==============================] - 0s 1ms/step - loss: 1.8130 - accuracy: 0.2224 - cat_accuracy: 0.2665 - sparse_cat_accuracy: 0.2705 - top_k: 1.0000\n",
      "Epoch 2/20\n",
      "1/1 [==============================] - 0s 1ms/step - loss: 1.8112 - accuracy: 0.2223 - cat_accuracy: 0.2825 - sparse_cat_accuracy: 0.2648 - top_k: 1.0000\n",
      "Epoch 3/20\n",
      "1/1 [==============================] - 0s 833us/step - loss: 1.8102 - accuracy: 0.2223 - cat_accuracy: 0.2913 - sparse_cat_accuracy: 0.2552 - top_k: 1.0000\n",
      "Epoch 4/20\n",
      "1/1 [==============================] - 0s 828us/step - loss: 1.7656 - accuracy: 0.2221 - cat_accuracy: 0.2608 - sparse_cat_accuracy: 0.2937 - top_k: 1.0000\n",
      "Epoch 5/20\n",
      "1/1 [==============================] - 0s 997us/step - loss: 1.7386 - accuracy: 0.2228 - cat_accuracy: 0.1798 - sparse_cat_accuracy: 0.3074 - top_k: 1.0000\n",
      "Epoch 6/20\n",
      "1/1 [==============================] - 0s 1ms/step - loss: 1.7471 - accuracy: 0.2231 - cat_accuracy: 0.1581 - sparse_cat_accuracy: 0.3090 - top_k: 1.0000\n",
      "Epoch 7/20\n",
      "1/1 [==============================] - 0s 1ms/step - loss: 1.7170 - accuracy: 0.2254 - cat_accuracy: 0.1364 - sparse_cat_accuracy: 0.3331 - top_k: 0.9968\n",
      "Epoch 8/20\n",
      "1/1 [==============================] - 0s 1ms/step - loss: 1.7254 - accuracy: 0.2249 - cat_accuracy: 0.1501 - sparse_cat_accuracy: 0.3170 - top_k: 0.9968\n",
      "Epoch 9/20\n",
      "1/1 [==============================] - 0s 883us/step - loss: 1.7465 - accuracy: 0.2245 - cat_accuracy: 0.1774 - sparse_cat_accuracy: 0.3162 - top_k: 0.9896\n",
      "Epoch 10/20\n",
      "1/1 [==============================] - 0s 1ms/step - loss: 1.7351 - accuracy: 0.2228 - cat_accuracy: 0.2039 - sparse_cat_accuracy: 0.3194 - top_k: 0.9984\n",
      "Epoch 11/20\n",
      "1/1 [==============================] - 0s 1ms/step - loss: 1.7455 - accuracy: 0.2225 - cat_accuracy: 0.2945 - sparse_cat_accuracy: 0.3178 - top_k: 0.9992\n",
      "Epoch 12/20\n",
      "1/1 [==============================] - 0s 1ms/step - loss: 1.7383 - accuracy: 0.2223 - cat_accuracy: 0.2504 - sparse_cat_accuracy: 0.3050 - top_k: 0.9992\n",
      "Epoch 13/20\n",
      "1/1 [==============================] - 0s 901us/step - loss: 1.7270 - accuracy: 0.2227 - cat_accuracy: 0.1758 - sparse_cat_accuracy: 0.3202 - top_k: 0.9968\n",
      "Epoch 14/20\n",
      "1/1 [==============================] - 0s 1ms/step - loss: 1.7289 - accuracy: 0.2224 - cat_accuracy: 0.1605 - sparse_cat_accuracy: 0.3178 - top_k: 0.9960\n",
      "Epoch 15/20\n",
      "1/1 [==============================] - 0s 1ms/step - loss: 1.7352 - accuracy: 0.2225 - cat_accuracy: 0.1886 - sparse_cat_accuracy: 0.3274 - top_k: 0.9984\n",
      "Epoch 16/20\n",
      "1/1 [==============================] - 0s 1ms/step - loss: 1.7378 - accuracy: 0.2227 - cat_accuracy: 0.2673 - sparse_cat_accuracy: 0.3226 - top_k: 1.0000\n",
      "Epoch 17/20\n",
      "1/1 [==============================] - 0s 1ms/step - loss: 1.7289 - accuracy: 0.2225 - cat_accuracy: 0.2713 - sparse_cat_accuracy: 0.3299 - top_k: 1.0000\n",
      "Epoch 18/20\n",
      "1/1 [==============================] - 0s 983us/step - loss: 1.7445 - accuracy: 0.2223 - cat_accuracy: 0.2440 - sparse_cat_accuracy: 0.3178 - top_k: 0.9992\n",
      "Epoch 19/20\n",
      "1/1 [==============================] - 0s 1ms/step - loss: 1.7242 - accuracy: 0.2233 - cat_accuracy: 0.1613 - sparse_cat_accuracy: 0.3250 - top_k: 0.9992\n",
      "Epoch 20/20\n",
      "1/1 [==============================] - 0s 840us/step - loss: 1.7121 - accuracy: 0.2243 - cat_accuracy: 0.0795 - sparse_cat_accuracy: 0.3411 - top_k: 0.9984\n",
      "Epoch 1/20\n",
      "1/1 [==============================] - 0s 1ms/step - loss: 1.7223 - accuracy: 0.2244 - cat_accuracy: 0.0594 - sparse_cat_accuracy: 0.3347 - top_k: 1.0000\n",
      "Epoch 2/20\n",
      "1/1 [==============================] - 0s 988us/step - loss: 1.7336 - accuracy: 0.2222 - cat_accuracy: 0.0819 - sparse_cat_accuracy: 0.3507 - top_k: 0.9992\n",
      "Epoch 3/20\n",
      "1/1 [==============================] - 0s 1ms/step - loss: 1.7142 - accuracy: 0.2225 - cat_accuracy: 0.1453 - sparse_cat_accuracy: 0.3411 - top_k: 1.0000\n",
      "Epoch 4/20\n",
      "1/1 [==============================] - 0s 1ms/step - loss: 1.7199 - accuracy: 0.2233 - cat_accuracy: 0.2159 - sparse_cat_accuracy: 0.3419 - top_k: 0.9984\n",
      "Epoch 5/20\n",
      "1/1 [==============================] - 0s 1ms/step - loss: 1.7189 - accuracy: 0.2240 - cat_accuracy: 0.2287 - sparse_cat_accuracy: 0.3242 - top_k: 0.9960\n",
      "Epoch 6/20\n",
      "1/1 [==============================] - 0s 1ms/step - loss: 1.7185 - accuracy: 0.2240 - cat_accuracy: 0.1734 - sparse_cat_accuracy: 0.3443 - top_k: 1.0000\n",
      "Epoch 7/20\n",
      "1/1 [==============================] - 0s 796us/step - loss: 1.7232 - accuracy: 0.2230 - cat_accuracy: 0.1637 - sparse_cat_accuracy: 0.3363 - top_k: 0.9968\n",
      "Epoch 8/20\n",
      "1/1 [==============================] - 0s 997us/step - loss: 1.7235 - accuracy: 0.2231 - cat_accuracy: 0.1589 - sparse_cat_accuracy: 0.3459 - top_k: 0.9992\n",
      "Epoch 9/20\n",
      "1/1 [==============================] - 0s 843us/step - loss: 1.7189 - accuracy: 0.2231 - cat_accuracy: 0.1814 - sparse_cat_accuracy: 0.3443 - top_k: 1.0000\n",
      "Epoch 10/20\n",
      "1/1 [==============================] - 0s 754us/step - loss: 1.7081 - accuracy: 0.2223 - cat_accuracy: 0.1661 - sparse_cat_accuracy: 0.3403 - top_k: 0.9992\n",
      "Epoch 11/20\n",
      "1/1 [==============================] - 0s 1ms/step - loss: 1.7055 - accuracy: 0.2225 - cat_accuracy: 0.1701 - sparse_cat_accuracy: 0.3523 - top_k: 0.9976\n",
      "Epoch 12/20\n",
      "1/1 [==============================] - 0s 1ms/step - loss: 1.7156 - accuracy: 0.2232 - cat_accuracy: 0.1469 - sparse_cat_accuracy: 0.3299 - top_k: 0.9928\n",
      "Epoch 13/20\n",
      "1/1 [==============================] - 0s 2ms/step - loss: 1.7125 - accuracy: 0.2237 - cat_accuracy: 0.2199 - sparse_cat_accuracy: 0.3323 - top_k: 0.9960\n",
      "Epoch 14/20\n",
      "1/1 [==============================] - 0s 1ms/step - loss: 1.7188 - accuracy: 0.2237 - cat_accuracy: 0.2865 - sparse_cat_accuracy: 0.3202 - top_k: 0.9984\n",
      "Epoch 15/20\n",
      "1/1 [==============================] - 0s 1ms/step - loss: 1.7049 - accuracy: 0.2230 - cat_accuracy: 0.2697 - sparse_cat_accuracy: 0.3315 - top_k: 0.9968\n",
      "Epoch 16/20\n",
      "1/1 [==============================] - 0s 900us/step - loss: 1.7002 - accuracy: 0.2229 - cat_accuracy: 0.2632 - sparse_cat_accuracy: 0.3419 - top_k: 1.0000\n",
      "Epoch 17/20\n",
      "1/1 [==============================] - 0s 2ms/step - loss: 1.6827 - accuracy: 0.2239 - cat_accuracy: 0.1878 - sparse_cat_accuracy: 0.3299 - top_k: 0.9992\n",
      "Epoch 18/20\n",
      "1/1 [==============================] - 0s 875us/step - loss: 1.6985 - accuracy: 0.2246 - cat_accuracy: 0.1573 - sparse_cat_accuracy: 0.3435 - top_k: 0.9976\n",
      "Epoch 19/20\n",
      "1/1 [==============================] - 0s 1ms/step - loss: 1.7121 - accuracy: 0.2243 - cat_accuracy: 0.1388 - sparse_cat_accuracy: 0.3339 - top_k: 0.9984\n",
      "Epoch 20/20\n",
      "1/1 [==============================] - 0s 2ms/step - loss: 1.7028 - accuracy: 0.2244 - cat_accuracy: 0.1132 - sparse_cat_accuracy: 0.3419 - top_k: 0.9992\n",
      "Epoch 1/20\n",
      "1/1 [==============================] - 0s 1ms/step - loss: 1.7075 - accuracy: 0.2239 - cat_accuracy: 0.1236 - sparse_cat_accuracy: 0.3427 - top_k: 0.9976\n",
      "Epoch 2/20\n",
      "1/1 [==============================] - 0s 847us/step - loss: 1.7086 - accuracy: 0.2240 - cat_accuracy: 0.1316 - sparse_cat_accuracy: 0.3467 - top_k: 0.9960\n",
      "Epoch 3/20\n",
      "1/1 [==============================] - 0s 1ms/step - loss: 1.6946 - accuracy: 0.2244 - cat_accuracy: 0.1669 - sparse_cat_accuracy: 0.3395 - top_k: 0.9960\n",
      "Epoch 4/20\n",
      "1/1 [==============================] - 0s 2ms/step - loss: 1.6944 - accuracy: 0.2237 - cat_accuracy: 0.2191 - sparse_cat_accuracy: 0.3427 - top_k: 0.9976\n",
      "Epoch 5/20\n",
      "1/1 [==============================] - 0s 1ms/step - loss: 1.7004 - accuracy: 0.2245 - cat_accuracy: 0.2135 - sparse_cat_accuracy: 0.3403 - top_k: 0.9976\n",
      "Epoch 6/20\n",
      "1/1 [==============================] - 0s 904us/step - loss: 1.6970 - accuracy: 0.2238 - cat_accuracy: 0.2119 - sparse_cat_accuracy: 0.3363 - top_k: 0.9968\n",
      "Epoch 7/20\n",
      "1/1 [==============================] - 0s 1ms/step - loss: 1.6931 - accuracy: 0.2240 - cat_accuracy: 0.1661 - sparse_cat_accuracy: 0.3371 - top_k: 0.9984\n",
      "Epoch 8/20\n",
      "1/1 [==============================] - 0s 2ms/step - loss: 1.6947 - accuracy: 0.2244 - cat_accuracy: 0.1637 - sparse_cat_accuracy: 0.3571 - top_k: 0.9928\n",
      "Epoch 9/20\n",
      "1/1 [==============================] - 0s 777us/step - loss: 1.7106 - accuracy: 0.2251 - cat_accuracy: 0.1308 - sparse_cat_accuracy: 0.3531 - top_k: 0.9880\n",
      "Epoch 10/20\n",
      "1/1 [==============================] - 0s 1ms/step - loss: 1.7015 - accuracy: 0.2244 - cat_accuracy: 0.1300 - sparse_cat_accuracy: 0.3387 - top_k: 0.9936\n",
      "Epoch 11/20\n",
      "1/1 [==============================] - 0s 908us/step - loss: 1.6899 - accuracy: 0.2245 - cat_accuracy: 0.1661 - sparse_cat_accuracy: 0.3636 - top_k: 0.9984\n",
      "Epoch 12/20\n",
      "1/1 [==============================] - 0s 762us/step - loss: 1.6925 - accuracy: 0.2233 - cat_accuracy: 0.1830 - sparse_cat_accuracy: 0.3347 - top_k: 1.0000\n",
      "Epoch 13/20\n",
      "1/1 [==============================] - 0s 1ms/step - loss: 1.6929 - accuracy: 0.2240 - cat_accuracy: 0.2055 - sparse_cat_accuracy: 0.3363 - top_k: 0.9992\n",
      "Epoch 14/20\n",
      "1/1 [==============================] - 0s 1ms/step - loss: 1.6859 - accuracy: 0.2245 - cat_accuracy: 0.2014 - sparse_cat_accuracy: 0.3499 - top_k: 0.9976\n",
      "Epoch 15/20\n",
      "1/1 [==============================] - 0s 965us/step - loss: 1.6803 - accuracy: 0.2256 - cat_accuracy: 0.1894 - sparse_cat_accuracy: 0.3451 - top_k: 0.9920\n",
      "Epoch 16/20\n",
      "1/1 [==============================] - 0s 823us/step - loss: 1.6902 - accuracy: 0.2268 - cat_accuracy: 0.1645 - sparse_cat_accuracy: 0.3443 - top_k: 0.9872\n",
      "Epoch 17/20\n",
      "1/1 [==============================] - 0s 1ms/step - loss: 1.6990 - accuracy: 0.2270 - cat_accuracy: 0.1693 - sparse_cat_accuracy: 0.3443 - top_k: 0.9767\n",
      "Epoch 18/20\n",
      "1/1 [==============================] - 0s 989us/step - loss: 1.6992 - accuracy: 0.2237 - cat_accuracy: 0.1830 - sparse_cat_accuracy: 0.3379 - top_k: 0.9952\n",
      "Epoch 19/20\n",
      "1/1 [==============================] - 0s 886us/step - loss: 1.6950 - accuracy: 0.2244 - cat_accuracy: 0.2456 - sparse_cat_accuracy: 0.3507 - top_k: 0.9984\n",
      "Epoch 20/20\n",
      "1/1 [==============================] - 0s 1ms/step - loss: 1.6870 - accuracy: 0.2243 - cat_accuracy: 0.1549 - sparse_cat_accuracy: 0.3523 - top_k: 0.9992\n",
      "Epoch 1/20\n",
      "1/1 [==============================] - 0s 1ms/step - loss: 1.7045 - accuracy: 0.2243 - cat_accuracy: 0.1484 - sparse_cat_accuracy: 0.3472 - top_k: 0.9976\n",
      "Epoch 2/20\n",
      "1/1 [==============================] - 0s 1ms/step - loss: 1.6843 - accuracy: 0.2255 - cat_accuracy: 0.1331 - sparse_cat_accuracy: 0.3440 - top_k: 0.9896\n",
      "Epoch 3/20\n",
      "1/1 [==============================] - 0s 990us/step - loss: 1.6735 - accuracy: 0.2267 - cat_accuracy: 0.1155 - sparse_cat_accuracy: 0.3657 - top_k: 0.9864\n",
      "Epoch 4/20\n",
      "1/1 [==============================] - 0s 1ms/step - loss: 1.7069 - accuracy: 0.2249 - cat_accuracy: 0.1403 - sparse_cat_accuracy: 0.3480 - top_k: 0.9872\n",
      "Epoch 5/20\n",
      "1/1 [==============================] - 0s 2ms/step - loss: 1.6857 - accuracy: 0.2269 - cat_accuracy: 0.2085 - sparse_cat_accuracy: 0.3464 - top_k: 0.9960\n",
      "Epoch 6/20\n",
      "1/1 [==============================] - 0s 1ms/step - loss: 1.6945 - accuracy: 0.2244 - cat_accuracy: 0.2622 - sparse_cat_accuracy: 0.3352 - top_k: 0.9984\n",
      "Epoch 7/20\n",
      "1/1 [==============================] - 0s 1ms/step - loss: 1.6871 - accuracy: 0.2247 - cat_accuracy: 0.2630 - sparse_cat_accuracy: 0.3545 - top_k: 0.9984\n",
      "Epoch 8/20\n",
      "1/1 [==============================] - 0s 1ms/step - loss: 1.6808 - accuracy: 0.2236 - cat_accuracy: 0.2061 - sparse_cat_accuracy: 0.3488 - top_k: 0.9984\n",
      "Epoch 9/20\n",
      "1/1 [==============================] - 0s 1ms/step - loss: 1.6781 - accuracy: 0.2247 - cat_accuracy: 0.1403 - sparse_cat_accuracy: 0.3569 - top_k: 0.9904\n",
      "Epoch 10/20\n",
      "1/1 [==============================] - 0s 2ms/step - loss: 1.6870 - accuracy: 0.2255 - cat_accuracy: 0.1387 - sparse_cat_accuracy: 0.3561 - top_k: 0.9880\n",
      "Epoch 11/20\n",
      "1/1 [==============================] - 0s 961us/step - loss: 1.6806 - accuracy: 0.2263 - cat_accuracy: 0.1347 - sparse_cat_accuracy: 0.3328 - top_k: 0.9896\n",
      "Epoch 12/20\n",
      "1/1 [==============================] - 0s 995us/step - loss: 1.6891 - accuracy: 0.2245 - cat_accuracy: 0.1604 - sparse_cat_accuracy: 0.3520 - top_k: 0.9896\n",
      "Epoch 13/20\n",
      "1/1 [==============================] - 0s 1ms/step - loss: 1.6864 - accuracy: 0.2257 - cat_accuracy: 0.1588 - sparse_cat_accuracy: 0.3625 - top_k: 0.9952\n",
      "Epoch 14/20\n",
      "1/1 [==============================] - 0s 891us/step - loss: 1.6785 - accuracy: 0.2249 - cat_accuracy: 0.2213 - sparse_cat_accuracy: 0.3400 - top_k: 0.9984\n",
      "Epoch 15/20\n",
      "1/1 [==============================] - 0s 2ms/step - loss: 1.6572 - accuracy: 0.2244 - cat_accuracy: 0.2165 - sparse_cat_accuracy: 0.3633 - top_k: 1.0000\n",
      "Epoch 16/20\n",
      "1/1 [==============================] - 0s 996us/step - loss: 1.6811 - accuracy: 0.2249 - cat_accuracy: 0.1965 - sparse_cat_accuracy: 0.3496 - top_k: 0.9984\n",
      "Epoch 17/20\n",
      "1/1 [==============================] - 0s 812us/step - loss: 1.6722 - accuracy: 0.2253 - cat_accuracy: 0.1909 - sparse_cat_accuracy: 0.3641 - top_k: 0.9968\n",
      "Epoch 18/20\n",
      "1/1 [==============================] - 0s 2ms/step - loss: 1.6705 - accuracy: 0.2261 - cat_accuracy: 0.1660 - sparse_cat_accuracy: 0.3569 - top_k: 0.9952\n",
      "Epoch 19/20\n",
      "1/1 [==============================] - 0s 802us/step - loss: 1.6875 - accuracy: 0.2256 - cat_accuracy: 0.1243 - sparse_cat_accuracy: 0.3561 - top_k: 0.9904\n",
      "Epoch 20/20\n",
      "1/1 [==============================] - 0s 1ms/step - loss: 1.6658 - accuracy: 0.2259 - cat_accuracy: 0.1476 - sparse_cat_accuracy: 0.3641 - top_k: 1.0000\n",
      "Epoch 1/20\n",
      "1/1 [==============================] - 0s 4ms/step - loss: 1.6731 - accuracy: 0.2250 - cat_accuracy: 0.1820 - sparse_cat_accuracy: 0.3625 - top_k: 0.9992\n",
      "Epoch 2/20\n",
      "1/1 [==============================] - 0s 830us/step - loss: 1.6602 - accuracy: 0.2244 - cat_accuracy: 0.1893 - sparse_cat_accuracy: 0.3528 - top_k: 1.0000\n",
      "Epoch 3/20\n",
      "1/1 [==============================] - 0s 1ms/step - loss: 1.6748 - accuracy: 0.2255 - cat_accuracy: 0.1965 - sparse_cat_accuracy: 0.3553 - top_k: 0.9976\n",
      "Epoch 4/20\n",
      "1/1 [==============================] - 0s 971us/step - loss: 1.6908 - accuracy: 0.2260 - cat_accuracy: 0.1435 - sparse_cat_accuracy: 0.3376 - top_k: 0.9920\n",
      "Epoch 5/20\n",
      "1/1 [==============================] - 0s 1ms/step - loss: 1.6647 - accuracy: 0.2266 - cat_accuracy: 0.1403 - sparse_cat_accuracy: 0.3585 - top_k: 0.9936\n",
      "Epoch 6/20\n",
      "1/1 [==============================] - 0s 1ms/step - loss: 1.6599 - accuracy: 0.2266 - cat_accuracy: 0.1492 - sparse_cat_accuracy: 0.3721 - top_k: 0.9928\n",
      "Epoch 7/20\n",
      "1/1 [==============================] - 0s 859us/step - loss: 1.6713 - accuracy: 0.2255 - cat_accuracy: 0.1668 - sparse_cat_accuracy: 0.3593 - top_k: 0.9928\n",
      "Epoch 8/20\n",
      "1/1 [==============================] - 0s 1ms/step - loss: 1.6668 - accuracy: 0.2261 - cat_accuracy: 0.1997 - sparse_cat_accuracy: 0.3633 - top_k: 0.9928\n",
      "Epoch 9/20\n",
      "1/1 [==============================] - 0s 933us/step - loss: 1.6584 - accuracy: 0.2261 - cat_accuracy: 0.2141 - sparse_cat_accuracy: 0.3633 - top_k: 0.9960\n",
      "Epoch 10/20\n",
      "1/1 [==============================] - 0s 996us/step - loss: 1.6614 - accuracy: 0.2250 - cat_accuracy: 0.1989 - sparse_cat_accuracy: 0.3512 - top_k: 0.9968\n",
      "Epoch 11/20\n",
      "1/1 [==============================] - 0s 1ms/step - loss: 1.6619 - accuracy: 0.2259 - cat_accuracy: 0.1684 - sparse_cat_accuracy: 0.3601 - top_k: 0.9960\n",
      "Epoch 12/20\n",
      "1/1 [==============================] - 0s 1ms/step - loss: 1.6569 - accuracy: 0.2252 - cat_accuracy: 0.1540 - sparse_cat_accuracy: 0.3601 - top_k: 0.9976\n",
      "Epoch 13/20\n",
      "1/1 [==============================] - 0s 1ms/step - loss: 1.6584 - accuracy: 0.2267 - cat_accuracy: 0.1500 - sparse_cat_accuracy: 0.3561 - top_k: 0.9976\n",
      "Epoch 14/20\n",
      "1/1 [==============================] - 0s 807us/step - loss: 1.6666 - accuracy: 0.2275 - cat_accuracy: 0.1516 - sparse_cat_accuracy: 0.3536 - top_k: 0.9904\n",
      "Epoch 15/20\n",
      "1/1 [==============================] - 0s 959us/step - loss: 1.6589 - accuracy: 0.2258 - cat_accuracy: 0.1644 - sparse_cat_accuracy: 0.3528 - top_k: 0.9920\n",
      "Epoch 16/20\n",
      "1/1 [==============================] - 0s 872us/step - loss: 1.6580 - accuracy: 0.2259 - cat_accuracy: 0.1844 - sparse_cat_accuracy: 0.3729 - top_k: 0.9944\n",
      "Epoch 17/20\n",
      "1/1 [==============================] - 0s 906us/step - loss: 1.6588 - accuracy: 0.2260 - cat_accuracy: 0.1925 - sparse_cat_accuracy: 0.3673 - top_k: 0.9960\n",
      "Epoch 18/20\n",
      "1/1 [==============================] - 0s 961us/step - loss: 1.6668 - accuracy: 0.2256 - cat_accuracy: 0.2165 - sparse_cat_accuracy: 0.3593 - top_k: 0.9968\n",
      "Epoch 19/20\n",
      "1/1 [==============================] - 0s 786us/step - loss: 1.6649 - accuracy: 0.2252 - cat_accuracy: 0.1868 - sparse_cat_accuracy: 0.3561 - top_k: 0.9984\n",
      "Epoch 20/20\n",
      "1/1 [==============================] - 0s 993us/step - loss: 1.6674 - accuracy: 0.2253 - cat_accuracy: 0.1844 - sparse_cat_accuracy: 0.3601 - top_k: 0.9968\n"
     ]
    }
   ],
   "source": [
    "from sklearn.model_selection import StratifiedKFold\n",
    "from sklearn.preprocessing import MinMaxScaler\n",
    "scaler = MinMaxScaler(feature_range=(0, 1))\n",
    "scaled_X = scaler.fit_transform(X)\n",
    "\n",
    "skf = StratifiedKFold(n_splits=5, shuffle=True)\n",
    "skf.get_n_splits(scaled_X, y)\n",
    "\n",
    "for train_index, test_index in skf.split(X, y):\n",
    "    X_train, X_test = X[train_index], X[test_index]\n",
    "    y_train, y_test = y[train_index], y[test_index]\n",
    "    model.fit(\n",
    "        X_train,\n",
    "        y_train,\n",
    "        batch_size=BATCH_SIZE,\n",
    "        epochs=20)"
   ]
  },
  {
   "cell_type": "code",
   "execution_count": null,
   "id": "fc4d1389-82c0-46a2-a35e-65ad43b7ec9a",
   "metadata": {},
   "outputs": [],
   "source": []
  }
 ],
 "metadata": {
  "kernelspec": {
   "display_name": "creepyenv",
   "language": "python",
   "name": "creepyenv"
  },
  "language_info": {
   "codemirror_mode": {
    "name": "ipython",
    "version": 3
   },
   "file_extension": ".py",
   "mimetype": "text/x-python",
   "name": "python",
   "nbconvert_exporter": "python",
   "pygments_lexer": "ipython3",
   "version": "3.8.5"
  }
 },
 "nbformat": 4,
 "nbformat_minor": 5
}
