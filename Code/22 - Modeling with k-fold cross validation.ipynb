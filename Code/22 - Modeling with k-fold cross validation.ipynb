{
 "cells": [
  {
   "cell_type": "markdown",
   "id": "4e5620ee-8dc2-45ae-8da8-517e43e14e40",
   "metadata": {},
   "source": [
    "# Modeling with k-fold cross validation"
   ]
  },
  {
   "cell_type": "markdown",
   "id": "be6d1b8e-6d62-4f1e-8cec-58a2aa3ec420",
   "metadata": {},
   "source": [
    "Given 10+ stories per categories, create a model and use 5-fold cross validation to predict story categories\n",
    "The model can be a neural network, so we will have confidences, or multinomial regression, in both cases we offer potential alternative categories, because multiple categories could represent a given story"
   ]
  },
  {
   "cell_type": "markdown",
   "id": "f42ec535-22ac-4635-a6a1-57db66b11884",
   "metadata": {},
   "source": [
    "## Preprocessing data\n",
    "- Add super categories"
   ]
  },
  {
   "cell_type": "code",
   "execution_count": 44,
   "id": "46c954c1-6bd4-4d54-b728-da07bd748996",
   "metadata": {},
   "outputs": [
    {
     "data": {
      "application/javascript": [
       "\n",
       "        if (window._pyforest_update_imports_cell) { window._pyforest_update_imports_cell('import numpy as np\\nimport pandas as pd\\nimport matplotlib.pyplot as plt\\nimport os\\nimport tensorflow as tf'); }\n",
       "    "
      ],
      "text/plain": [
       "<IPython.core.display.Javascript object>"
      ]
     },
     "metadata": {},
     "output_type": "display_data"
    },
    {
     "data": {
      "text/html": [
       "<div>\n",
       "<style scoped>\n",
       "    .dataframe tbody tr th:only-of-type {\n",
       "        vertical-align: middle;\n",
       "    }\n",
       "\n",
       "    .dataframe tbody tr th {\n",
       "        vertical-align: top;\n",
       "    }\n",
       "\n",
       "    .dataframe thead th {\n",
       "        text-align: right;\n",
       "    }\n",
       "</style>\n",
       "<table border=\"1\" class=\"dataframe\">\n",
       "  <thead>\n",
       "    <tr style=\"text-align: right;\">\n",
       "      <th></th>\n",
       "      <th>atu</th>\n",
       "      <th>desc</th>\n",
       "      <th>title</th>\n",
       "      <th>origin</th>\n",
       "      <th>text</th>\n",
       "      <th>url</th>\n",
       "    </tr>\n",
       "  </thead>\n",
       "  <tbody>\n",
       "    <tr>\n",
       "      <th>0</th>\n",
       "      <td>1</td>\n",
       "      <td>The theft of fish</td>\n",
       "      <td>Reynard Steals Fish</td>\n",
       "      <td>Joseph Jacobs</td>\n",
       "      <td>Reynard saw a man driving a cart full of fish,...</td>\n",
       "      <td>http://www.pitt.edu/~dash/type0001.html</td>\n",
       "    </tr>\n",
       "    <tr>\n",
       "      <th>1</th>\n",
       "      <td>1</td>\n",
       "      <td>The theft of fish</td>\n",
       "      <td>Two Foxes Steal Herrings</td>\n",
       "      <td>Scotland</td>\n",
       "      <td>A man was one day walking along the road with ...</td>\n",
       "      <td>http://www.pitt.edu/~dash/type0001.html</td>\n",
       "    </tr>\n",
       "    <tr>\n",
       "      <th>2</th>\n",
       "      <td>1</td>\n",
       "      <td>The theft of fish</td>\n",
       "      <td>The Fox and the Lapp</td>\n",
       "      <td>Andrew Lang</td>\n",
       "      <td>Once upon a time a fox lay peeping out of his ...</td>\n",
       "      <td>http://www.pitt.edu/~dash/type0001.html</td>\n",
       "    </tr>\n",
       "    <tr>\n",
       "      <th>3</th>\n",
       "      <td>1</td>\n",
       "      <td>The theft of fish</td>\n",
       "      <td>Mr. Fox Goes a-Hunting, but Mr. Rabbit Bags th...</td>\n",
       "      <td>Joel Chandler Harris</td>\n",
       "      <td>One day Brer Fox came along all rigged out and...</td>\n",
       "      <td>http://www.pitt.edu/~dash/type0001.html</td>\n",
       "    </tr>\n",
       "    <tr>\n",
       "      <th>4</th>\n",
       "      <td>1</td>\n",
       "      <td>The theft of fish</td>\n",
       "      <td>How Brother Fox Was Too Smart</td>\n",
       "      <td>Joel Chandler Harris</td>\n",
       "      <td>One day Brer Fox heard Mr. Man coming down the...</td>\n",
       "      <td>http://www.pitt.edu/~dash/type0001.html</td>\n",
       "    </tr>\n",
       "    <tr>\n",
       "      <th>...</th>\n",
       "      <td>...</td>\n",
       "      <td>...</td>\n",
       "      <td>...</td>\n",
       "      <td>...</td>\n",
       "      <td>...</td>\n",
       "      <td>...</td>\n",
       "    </tr>\n",
       "    <tr>\n",
       "      <th>1553</th>\n",
       "      <td>2250</td>\n",
       "      <td>Unfinished tales</td>\n",
       "      <td>The Story That Never Ends</td>\n",
       "      <td>Czechoslovakia</td>\n",
       "      <td>Once upon a time there was a shepherd who had ...</td>\n",
       "      <td>http://www.pitt.edu/~dash/type2250.html</td>\n",
       "    </tr>\n",
       "    <tr>\n",
       "      <th>1554</th>\n",
       "      <td>2250</td>\n",
       "      <td>Unfinished tales</td>\n",
       "      <td>A Storyteller of Messer Azzolino</td>\n",
       "      <td>Italy</td>\n",
       "      <td>Messer Azzolino had a storyteller whom he made...</td>\n",
       "      <td>http://www.pitt.edu/~dash/type2250.html</td>\n",
       "    </tr>\n",
       "    <tr>\n",
       "      <th>1555</th>\n",
       "      <td>2250</td>\n",
       "      <td>Unfinished tales</td>\n",
       "      <td>The Treasure</td>\n",
       "      <td>Italy</td>\n",
       "      <td>Once upon a time there was a prince who studie...</td>\n",
       "      <td>http://www.pitt.edu/~dash/type2250.html</td>\n",
       "    </tr>\n",
       "    <tr>\n",
       "      <th>1556</th>\n",
       "      <td>2250</td>\n",
       "      <td>Unfinished tales</td>\n",
       "      <td>The Shepherd</td>\n",
       "      <td>Italy</td>\n",
       "      <td>Once upon a time there was a shepherd who went...</td>\n",
       "      <td>http://www.pitt.edu/~dash/type2250.html</td>\n",
       "    </tr>\n",
       "    <tr>\n",
       "      <th>1557</th>\n",
       "      <td>2250</td>\n",
       "      <td>Unfinished tales</td>\n",
       "      <td>The Endless Tale</td>\n",
       "      <td>England (Nottinghamshire)</td>\n",
       "      <td>Once upon a time there was a king who had a ve...</td>\n",
       "      <td>http://www.pitt.edu/~dash/type2250.html</td>\n",
       "    </tr>\n",
       "  </tbody>\n",
       "</table>\n",
       "<p>1558 rows × 6 columns</p>\n",
       "</div>"
      ],
      "text/plain": [
       "       atu               desc  \\\n",
       "0        1  The theft of fish   \n",
       "1        1  The theft of fish   \n",
       "2        1  The theft of fish   \n",
       "3        1  The theft of fish   \n",
       "4        1  The theft of fish   \n",
       "...    ...                ...   \n",
       "1553  2250   Unfinished tales   \n",
       "1554  2250   Unfinished tales   \n",
       "1555  2250   Unfinished tales   \n",
       "1556  2250   Unfinished tales   \n",
       "1557  2250   Unfinished tales   \n",
       "\n",
       "                                                  title  \\\n",
       "0                                   Reynard Steals Fish   \n",
       "1                              Two Foxes Steal Herrings   \n",
       "2                                  The Fox and the Lapp   \n",
       "3     Mr. Fox Goes a-Hunting, but Mr. Rabbit Bags th...   \n",
       "4                         How Brother Fox Was Too Smart   \n",
       "...                                                 ...   \n",
       "1553                          The Story That Never Ends   \n",
       "1554                   A Storyteller of Messer Azzolino   \n",
       "1555                                       The Treasure   \n",
       "1556                                       The Shepherd   \n",
       "1557                                   The Endless Tale   \n",
       "\n",
       "                         origin  \\\n",
       "0                 Joseph Jacobs   \n",
       "1                      Scotland   \n",
       "2                   Andrew Lang   \n",
       "3          Joel Chandler Harris   \n",
       "4          Joel Chandler Harris   \n",
       "...                         ...   \n",
       "1553             Czechoslovakia   \n",
       "1554                      Italy   \n",
       "1555                      Italy   \n",
       "1556                      Italy   \n",
       "1557  England (Nottinghamshire)   \n",
       "\n",
       "                                                   text  \\\n",
       "0     Reynard saw a man driving a cart full of fish,...   \n",
       "1     A man was one day walking along the road with ...   \n",
       "2     Once upon a time a fox lay peeping out of his ...   \n",
       "3     One day Brer Fox came along all rigged out and...   \n",
       "4     One day Brer Fox heard Mr. Man coming down the...   \n",
       "...                                                 ...   \n",
       "1553  Once upon a time there was a shepherd who had ...   \n",
       "1554  Messer Azzolino had a storyteller whom he made...   \n",
       "1555  Once upon a time there was a prince who studie...   \n",
       "1556  Once upon a time there was a shepherd who went...   \n",
       "1557  Once upon a time there was a king who had a ve...   \n",
       "\n",
       "                                          url  \n",
       "0     http://www.pitt.edu/~dash/type0001.html  \n",
       "1     http://www.pitt.edu/~dash/type0001.html  \n",
       "2     http://www.pitt.edu/~dash/type0001.html  \n",
       "3     http://www.pitt.edu/~dash/type0001.html  \n",
       "4     http://www.pitt.edu/~dash/type0001.html  \n",
       "...                                       ...  \n",
       "1553  http://www.pitt.edu/~dash/type2250.html  \n",
       "1554  http://www.pitt.edu/~dash/type2250.html  \n",
       "1555  http://www.pitt.edu/~dash/type2250.html  \n",
       "1556  http://www.pitt.edu/~dash/type2250.html  \n",
       "1557  http://www.pitt.edu/~dash/type2250.html  \n",
       "\n",
       "[1558 rows x 6 columns]"
      ]
     },
     "execution_count": 44,
     "metadata": {},
     "output_type": "execute_result"
    }
   ],
   "source": [
    "import json\n",
    "with open('Downloads/ATU.jl') as f:\n",
    "    df_li = []\n",
    "    for line in f:\n",
    "        j = json.loads(line)\n",
    "        df_li.append(j)\n",
    "        \n",
    "df = pd.DataFrame(df_li)\n",
    "df"
   ]
  },
  {
   "cell_type": "code",
   "execution_count": 2,
   "id": "51bdc995-b662-4f4d-9fcf-21cc824f8ff4",
   "metadata": {},
   "outputs": [
    {
     "data": {
      "application/javascript": [
       "\n",
       "        if (window._pyforest_update_imports_cell) { window._pyforest_update_imports_cell('import pandas as pd'); }\n",
       "    "
      ],
      "text/plain": [
       "<IPython.core.display.Javascript object>"
      ]
     },
     "metadata": {},
     "output_type": "display_data"
    }
   ],
   "source": [
    "import numpy as np\n",
    "df['super_category'] = pd.cut(df['atu'].str.extract('(\\d+)').astype(int).squeeze(), # extract numbers and convert dtype to int\n",
    "                              [-1, 299, 749, 849, 999, 1199, 1999, 2399],\n",
    "                              labels=['ANIMAL TALES', # (-1, 299]\n",
    "                                      'TALES OF MAGIC', # (299, 749]\n",
    "                                      'RELIGIOUS TALES', # ...\n",
    "                                      'REALISTIC TALES',\n",
    "                                      'TALES OF THE STUPID OGRE (GIANT, DEVIL)',\n",
    "                                      'ANECDOTES AND JOKES',\n",
    "                                      'FORMULA TALES'])"
   ]
  },
  {
   "cell_type": "code",
   "execution_count": 133,
   "id": "4635a16a-e2d4-47bb-8862-de875a25fd6a",
   "metadata": {},
   "outputs": [
    {
     "data": {
      "image/png": "[encoded data removed]",
      "text/plain": [
       "<Figure size 432x288 with 1 Axes>"
      ]
     },
     "metadata": {
      "needs_background": "light"
     },
     "output_type": "display_data"
    }
   ],
   "source": [
    "ax = df['super_category'].hist(bins=df['super_category'].nunique(), ec='black')\n",
    "ax.grid(False)\n",
    "ax.title.set_text('Super Category Histogram')"
   ]
  },
  {
   "cell_type": "code",
   "execution_count": 161,
   "id": "dc9d1c72-c20b-47cc-bc7e-fa0d027bc9a9",
   "metadata": {},
   "outputs": [
    {
     "data": {
      "application/javascript": [
       "\n",
       "        if (window._pyforest_update_imports_cell) { window._pyforest_update_imports_cell('import numpy as np\\nimport tensorflow as tf\\nimport matplotlib.pyplot as plt\\nimport os\\nimport pandas as pd'); }\n",
       "    "
      ],
      "text/plain": [
       "<IPython.core.display.Javascript object>"
      ]
     },
     "metadata": {},
     "output_type": "display_data"
    },
    {
     "data": {
      "application/javascript": [
       "\n",
       "        if (window._pyforest_update_imports_cell) { window._pyforest_update_imports_cell('import numpy as np\\nimport tensorflow as tf\\nimport matplotlib.pyplot as plt\\nimport os\\nimport pandas as pd'); }\n",
       "    "
      ],
      "text/plain": [
       "<IPython.core.display.Javascript object>"
      ]
     },
     "metadata": {},
     "output_type": "display_data"
    },
    {
     "data": {
      "application/javascript": [
       "\n",
       "        if (window._pyforest_update_imports_cell) { window._pyforest_update_imports_cell('import numpy as np\\nimport tensorflow as tf\\nimport matplotlib.pyplot as plt\\nimport os\\nimport pandas as pd'); }\n",
       "    "
      ],
      "text/plain": [
       "<IPython.core.display.Javascript object>"
      ]
     },
     "metadata": {},
     "output_type": "display_data"
    },
    {
     "data": {
      "application/javascript": [
       "\n",
       "        if (window._pyforest_update_imports_cell) { window._pyforest_update_imports_cell('import numpy as np\\nimport tensorflow as tf\\nimport matplotlib.pyplot as plt\\nimport os\\nimport pandas as pd'); }\n",
       "    "
      ],
      "text/plain": [
       "<IPython.core.display.Javascript object>"
      ]
     },
     "metadata": {},
     "output_type": "display_data"
    },
    {
     "data": {
      "application/javascript": [
       "\n",
       "        if (window._pyforest_update_imports_cell) { window._pyforest_update_imports_cell('import numpy as np\\nimport tensorflow as tf\\nimport matplotlib.pyplot as plt\\nimport os\\nimport pandas as pd'); }\n",
       "    "
      ],
      "text/plain": [
       "<IPython.core.display.Javascript object>"
      ]
     },
     "metadata": {},
     "output_type": "display_data"
    },
    {
     "data": {
      "application/javascript": [
       "\n",
       "        if (window._pyforest_update_imports_cell) { window._pyforest_update_imports_cell('import numpy as np\\nimport tensorflow as tf\\nimport matplotlib.pyplot as plt\\nimport os\\nimport pandas as pd'); }\n",
       "    "
      ],
      "text/plain": [
       "<IPython.core.display.Javascript object>"
      ]
     },
     "metadata": {},
     "output_type": "display_data"
    },
    {
     "data": {
      "image/png": "[encoded data removed]",
      "text/plain": [
       "<Figure size 576x432 with 1 Axes>"
      ]
     },
     "metadata": {
      "needs_background": "light"
     },
     "output_type": "display_data"
    }
   ],
   "source": [
    "from matplotlib.ticker import AutoMinorLocator\n",
    "\n",
    "fig = plt.figure(figsize=(8,6))\n",
    "n, bins, patches = plt.hist(df['super_category'], bins=7)\n",
    "# define minor ticks and draw a grid with them\n",
    "minor_locator = AutoMinorLocator(2)\n",
    "plt.gca().xaxis.set_minor_locator(minor_locator)\n",
    "plt.grid(which='minor', color='white', lw = 0.5)\n",
    "# x ticks\n",
    "xticks = [(bins[idx+1] + value)/2 for idx, value in enumerate(bins[:-1])]\n",
    "xticks_labels = [ value for idx, value in enumerate(df['super_category'].unique())]\n",
    "plt.xticks(xticks, labels = xticks_labels, rotation=90)\n",
    "plt.show()"
   ]
  },
  {
   "cell_type": "code",
   "execution_count": 149,
   "id": "ade2059a-253b-4ff1-addf-f7faf1c47f74",
   "metadata": {},
   "outputs": [
    {
     "data": {
      "text/plain": [
       "[(0, 'ANIMAL TALES'),\n",
       " (1, 'TALES OF MAGIC'),\n",
       " (2, 'RELIGIOUS TALES'),\n",
       " (3, 'REALISTIC TALES'),\n",
       " (4, 'TALES OF THE STUPID OGRE (GIANT, DEVIL)'),\n",
       " (5, 'ANECDOTES AND JOKES'),\n",
       " (6, 'FORMULA TALES')]"
      ]
     },
     "execution_count": 149,
     "metadata": {},
     "output_type": "execute_result"
    }
   ],
   "source": [
    "[ (idx,value) for idx, value in enumerate(df['super_category'].unique())]"
   ]
  },
  {
   "cell_type": "code",
   "execution_count": 49,
   "id": "9be8dfb4-2476-472e-9c95-96c42f6a119c",
   "metadata": {},
   "outputs": [
    {
     "data": {
      "image/png": "[encoded data removed]",
      "text/plain": [
       "<Figure size 432x288 with 1 Axes>"
      ]
     },
     "metadata": {
      "needs_background": "light"
     },
     "output_type": "display_data"
    }
   ],
   "source": [
    "data = df['atu'].str.extract('(\\d+)').astype(int).squeeze()\n",
    "ax = data.hist(bins=data.nunique())\n",
    "ax.grid(False)\n",
    "ax.title.set_text('ATU Histogram')"
   ]
  },
  {
   "cell_type": "code",
   "execution_count": 127,
   "id": "28136c89-43d0-422c-905b-fc0616568a44",
   "metadata": {},
   "outputs": [
    {
     "data": {
      "application/javascript": [
       "\n",
       "        if (window._pyforest_update_imports_cell) { window._pyforest_update_imports_cell('import numpy as np\\nimport tensorflow as tf\\nimport matplotlib.pyplot as plt\\nimport os\\nimport pandas as pd'); }\n",
       "    "
      ],
      "text/plain": [
       "<IPython.core.display.Javascript object>"
      ]
     },
     "metadata": {},
     "output_type": "display_data"
    },
    {
     "data": {
      "text/plain": [
       "0        ANIMAL TALES\n",
       "1        ANIMAL TALES\n",
       "2        ANIMAL TALES\n",
       "3        ANIMAL TALES\n",
       "4        ANIMAL TALES\n",
       "            ...      \n",
       "1553    FORMULA TALES\n",
       "1554    FORMULA TALES\n",
       "1555    FORMULA TALES\n",
       "1556    FORMULA TALES\n",
       "1557    FORMULA TALES\n",
       "Name: super_category, Length: 1558, dtype: category\n",
       "Categories (7, object): ['ANIMAL TALES' < 'TALES OF MAGIC' < 'RELIGIOUS TALES' < 'REALISTIC TALES' < 'TALES OF THE STUPID OGRE (GIANT, DEVIL)' < 'ANECDOTES AND JOKES' < 'FORMULA TALES']"
      ]
     },
     "execution_count": 127,
     "metadata": {},
     "output_type": "execute_result"
    }
   ],
   "source": [
    "df['super_category'] = pd.Categorical(df['super_category'])\n",
    "df['super_category_codes'] = df['super_category'].cat.codes\n",
    "df['super_category']"
   ]
  },
  {
   "cell_type": "code",
   "execution_count": 1,
   "id": "3b23ce2f-d5fe-411c-af3d-358ace84e258",
   "metadata": {},
   "outputs": [
    {
     "data": {
      "application/javascript": [
       "\n",
       "        if (window._pyforest_update_imports_cell) { window._pyforest_update_imports_cell('import pandas as pd'); }\n",
       "    "
      ],
      "text/plain": [
       "<IPython.core.display.Javascript object>"
      ]
     },
     "metadata": {},
     "output_type": "display_data"
    }
   ],
   "source": [
    "df = pd.read_pickle('Downloads/ATUwithLF.pkl')"
   ]
  },
  {
   "cell_type": "markdown",
   "id": "492f023c-8e56-4a57-ab8d-c6477368bb54",
   "metadata": {},
   "source": [
    "## Improved longformer\n",
    "- Used longformer-large-4096\n",
    "- Pytorch implementation\n",
    "- introducing batch size and torch.no_grad() to better use of GPU memory which greatly reduced the chance of OOM error\n",
    "- Uses larger dimension, 1024 instead of 768"
   ]
  },
  {
   "cell_type": "code",
   "execution_count": 4,
   "id": "a34b0ef3-e137-419f-bdcb-0857a1cd750f",
   "metadata": {},
   "outputs": [],
   "source": [
    "import torch\n",
    "def pad_to_window_size(input_ids: torch.Tensor, attention_mask: torch.Tensor,\n",
    "                       one_sided_window_size: int, pad_token_id: int):\n",
    "    '''A helper function to pad tokens and mask to work with the sliding_chunks implementation of Longformer selfattention.\n",
    "    Input:\n",
    "        input_ids = torch.Tensor(bsz x seqlen): ids of wordpieces\n",
    "        attention_mask = torch.Tensor(bsz x seqlen): attention mask\n",
    "        one_sided_window_size = int: window size on one side of each token\n",
    "        pad_token_id = int: tokenizer.pad_token_id\n",
    "    Returns\n",
    "        (input_ids, attention_mask) padded to length divisible by 2 * one_sided_window_size\n",
    "    '''\n",
    "    import torch.nn.functional as F\n",
    "    w = int(2 * one_sided_window_size)\n",
    "    seqlen = input_ids.size(1)\n",
    "    padding_len = (w - seqlen % w) % w\n",
    "    input_ids = F.pad(input_ids, (0, padding_len), value=pad_token_id)\n",
    "    attention_mask = F.pad(attention_mask, (0, padding_len), value=False)  # no attention on the padding tokens\n",
    "    return input_ids, attention_mask"
   ]
  },
  {
   "cell_type": "code",
   "execution_count": 5,
   "id": "04b16c9b-687b-46be-a989-1d6dffc17e54",
   "metadata": {},
   "outputs": [],
   "source": [
    "import torch, gc\n",
    "from transformers import TFLongformerModel, LongformerTokenizerFast, LongformerConfig\n",
    "from transformers import RobertaTokenizer, LongformerModel\n",
    "from transformers import AutoTokenizer, AutoModel\n",
    "\n",
    "config = LongformerConfig.from_pretrained('allenai/longformer-large-4096')\n",
    "# choose the attention mode 'n2', 'tvm' or 'sliding_chunks'\n",
    "# 'n2': for regular n2 attantion\n",
    "# 'tvm': a custom CUDA kernel implementation of our sliding window attention\n",
    "# 'sliding_chunks': a PyTorch implementation of our sliding window attention\n",
    "config.attention_mode = 'tvm'\n",
    "\n",
    "tokenizer = AutoTokenizer.from_pretrained(\"allenai/longformer-large-4096\")\n",
    "model = AutoModel.from_pretrained(\"allenai/longformer-large-4096\")\n",
    "tokenizer.model_max_length = model.config.max_position_embeddings\n",
    "\n",
    "model = model.cuda();\n",
    "\n",
    "def LFencode(row):\n",
    "    TEXT = row['text']\n",
    "    input_ids = torch.tensor(tokenizer.encode(TEXT, max_length=4096, truncation=True)).unsqueeze(0) # batch of size 1\n",
    "\n",
    "    # TVM code doesn't work on CPU. Uncomment this if `config.attention_mode = 'tvm'`\n",
    "    input_ids = input_ids.cuda()\n",
    "\n",
    "    # Attention mask values -- 0: no attention, 1: local attention, 2: global attention\n",
    "    attention_mask = torch.ones(input_ids.shape, dtype=torch.long, device=input_ids.device) # initialize to local attention\n",
    "#     attention_mask[:, [1, 4, 21,]] =  2  # Set global attention based on the task. For example,\n",
    "                                         # classification: the <s> token\n",
    "                                         # QA: question tokens\n",
    "\n",
    "    # padding seqlen to the nearest multiple of 512. Needed for the 'sliding_chunks' attention\n",
    "    input_ids, attention_mask = pad_to_window_size(\n",
    "            input_ids, attention_mask, config.attention_window[0], tokenizer.pad_token_id)\n",
    "\n",
    "    output = model(input_ids, attention_mask=attention_mask)\n",
    "\n",
    "    result = output.pooler_output.cpu()\n",
    "    \n",
    "    return result.detach().numpy() # tensor to numpy"
   ]
  },
  {
   "cell_type": "code",
   "execution_count": 6,
   "id": "d9231e84-9a5d-472c-9a5b-c17f76d32fe4",
   "metadata": {},
   "outputs": [
    {
     "data": {
      "application/vnd.jupyter.widget-view+json": {
       "model_id": "d754cbcfe80a4171a23e37f059347bac",
       "version_major": 2,
       "version_minor": 0
      },
      "text/plain": [
       "  0%|          | 0/98 [00:00<?, ?it/s]"
      ]
     },
     "metadata": {},
     "output_type": "display_data"
    }
   ],
   "source": [
    "from tqdm.notebook import tqdm\n",
    "tqdm.pandas()\n",
    "# df['longformer_output'] = df.progress_apply(LFencode,axis=1)\n",
    "\n",
    "import time\n",
    "\n",
    "batch_size = 16\n",
    "result = []\n",
    "for batch_number, batch_df in tqdm(df.groupby(np.arange(len(df)) // batch_size)):\n",
    "    # result.append(batch_df['ID'].nunique())\n",
    "    with torch.no_grad(): # VERY IMPORTANT to have this, this clears the memory of every batch apply\n",
    "        batch_df['longformer_output'] = batch_df.apply(LFencode, axis=1)\n",
    "    result.append(batch_df)"
   ]
  },
  {
   "cell_type": "code",
   "execution_count": 12,
   "id": "26a1d2a6-0d0f-4b47-a76b-c2b6d3b31432",
   "metadata": {},
   "outputs": [
    {
     "data": {
      "application/javascript": [
       "\n",
       "        if (window._pyforest_update_imports_cell) { window._pyforest_update_imports_cell('import pandas as pd'); }\n",
       "    "
      ],
      "text/plain": [
       "<IPython.core.display.Javascript object>"
      ]
     },
     "metadata": {},
     "output_type": "display_data"
    }
   ],
   "source": [
    "df = pd.concat(result)"
   ]
  },
  {
   "cell_type": "code",
   "execution_count": 16,
   "id": "506bc7d9-d9ab-4414-893e-7245ce7afd66",
   "metadata": {},
   "outputs": [],
   "source": [
    "df.to_pickle('Downloads/ATUwithLF.pkl')"
   ]
  },
  {
   "cell_type": "markdown",
   "id": "7a990b3c-800b-4472-a0fc-b6e819c8f4de",
   "metadata": {},
   "source": [
    "## 5-fold Cross Validation - Neural Nets"
   ]
  },
  {
   "cell_type": "code",
   "execution_count": 2,
   "id": "fd597e25-e3ab-4bfc-b216-99d09b2d2427",
   "metadata": {},
   "outputs": [
    {
     "data": {
      "application/javascript": [
       "\n",
       "        if (window._pyforest_update_imports_cell) { window._pyforest_update_imports_cell('import numpy as np\\nimport pandas as pd'); }\n",
       "    "
      ],
      "text/plain": [
       "<IPython.core.display.Javascript object>"
      ]
     },
     "metadata": {},
     "output_type": "display_data"
    }
   ],
   "source": [
    "X = np.concatenate(df['longformer_output'].to_numpy())\n",
    "y = df['super_category_codes'].to_numpy()"
   ]
  },
  {
   "cell_type": "code",
   "execution_count": 3,
   "id": "1a9dbcb7-b220-4814-81c3-f0e45f93dae1",
   "metadata": {},
   "outputs": [
    {
     "name": "stdout",
     "output_type": "stream",
     "text": [
      "(1558, 1024)\n",
      "(1558,)\n"
     ]
    }
   ],
   "source": [
    "print(X.shape)\n",
    "print(y.shape)"
   ]
  },
  {
   "cell_type": "code",
   "execution_count": null,
   "id": "dfc8a5b9-e168-4444-87da-ff722db82c1a",
   "metadata": {},
   "outputs": [],
   "source": []
  },
  {
   "cell_type": "code",
   "execution_count": 4,
   "id": "d47962d9-4487-48ad-9e6f-aa28832f85c5",
   "metadata": {},
   "outputs": [
    {
     "name": "stdout",
     "output_type": "stream",
     "text": [
      "[[0.4283533  0.40000248 0.23964429 ... 0.48592663 0.4139542  0.32341695]\n",
      " [0.49106818 0.50427806 0.38821864 ... 0.33221245 0.3870903  0.43134838]\n",
      " [0.48769316 0.21859753 0.2861817  ... 0.3809061  0.5470168  0.45680666]\n",
      " ...\n",
      " [0.6460567  0.3823918  0.4386909  ... 0.46167827 0.31094456 0.37116343]\n",
      " [0.41123998 0.37448668 0.36525416 ... 0.41871262 0.44636244 0.3154747 ]\n",
      " [0.62211263 0.41466892 0.5272293  ... 0.44343853 0.34853104 0.38825452]] [0 0 0 ... 6 6 6]\n"
     ]
    }
   ],
   "source": [
    "from sklearn.preprocessing import MinMaxScaler\n",
    "\n",
    "scaler = MinMaxScaler(feature_range=(0, 1))\n",
    "scaled_X = scaler.fit_transform(X)\n",
    "\n",
    "print(scaled_X, y)"
   ]
  },
  {
   "cell_type": "markdown",
   "id": "11d8de2e-2c36-4b06-b36b-b263263c0713",
   "metadata": {},
   "source": [
    "### Dealing with imbalanced data\n",
    "Solution: Using different metrics"
   ]
  },
  {
   "cell_type": "code",
   "execution_count": 5,
   "id": "c550c972-931b-4d60-a1b1-903934d02eb8",
   "metadata": {},
   "outputs": [],
   "source": [
    "from sklearn.model_selection import train_test_split\n",
    "X_train, X_test, y_train, y_test = train_test_split(scaled_X, y, test_size=0.2)\n",
    "X_test, X_eval, y_test, y_eval = train_test_split(X_test, y_test, test_size=0.5)"
   ]
  },
  {
   "cell_type": "code",
   "execution_count": 6,
   "id": "e150d2fc-fa35-4955-97c2-9bf7b1975eab",
   "metadata": {},
   "outputs": [
    {
     "name": "stdout",
     "output_type": "stream",
     "text": [
      "(1246, 1024) (156, 1024) (156, 1024)\n",
      "(1246,) (156,) (156,)\n"
     ]
    }
   ],
   "source": [
    "print(X_train.shape, X_test.shape, X_eval.shape)\n",
    "print(y_train.shape, y_test.shape, y_eval.shape)"
   ]
  },
  {
   "cell_type": "markdown",
   "id": "5b8e56a7-2729-4fae-8903-fa8c7b370428",
   "metadata": {},
   "source": [
    "I give up on the following cell..."
   ]
  },
  {
   "cell_type": "code",
   "execution_count": 7,
   "id": "fbdd757e-2386-4ba4-9652-705e34aff1a5",
   "metadata": {},
   "outputs": [],
   "source": [
    "from tensorflow.keras import backend as K\n",
    "\n",
    "def f1(y_true, y_pred):\n",
    "    def recall(y_true, y_pred):\n",
    "        \"\"\"Recall metric.\n",
    "\n",
    "        Only computes a batch-wise average of recall.\n",
    "\n",
    "        Computes the recall, a metric for multi-label classification of\n",
    "        how many relevant items are selected.\n",
    "        \"\"\"\n",
    "        true_positives = K.sum(K.round(K.clip(y_true * y_pred, 0, 1)))\n",
    "        possible_positives = K.sum(K.round(K.clip(y_true, 0, 1)))\n",
    "        recall = true_positives / (possible_positives + K.epsilon())\n",
    "        return recall\n",
    "\n",
    "    def precision(y_true, y_pred):\n",
    "        \"\"\"Precision metric.\n",
    "\n",
    "        Only computes a batch-wise average of precision.\n",
    "\n",
    "        Computes the precision, a metric for multi-label classification of\n",
    "        how many selected items are relevant.\n",
    "        \"\"\"\n",
    "        true_positives = K.sum(K.round(K.clip(y_true * y_pred, 0, 1)))\n",
    "        predicted_positives = K.sum(K.round(K.clip(y_pred, 0, 1)))\n",
    "        precision = true_positives / (predicted_positives + K.epsilon())\n",
    "        return precision\n",
    "    precision = precision(y_true, y_pred)\n",
    "    recall = recall(y_true, y_pred)\n",
    "    return 2*((precision*recall)/(precision+recall+K.epsilon()))"
   ]
  },
  {
   "cell_type": "code",
   "execution_count": 8,
   "id": "aff31f5c-9e1a-4c8b-91e9-55b341337f7c",
   "metadata": {},
   "outputs": [],
   "source": [
    "import tensorflow.keras as keras\n",
    "METRICS = [\n",
    "    keras.metrics.BinaryAccuracy(name='accuracy'),\n",
    "    keras.metrics.CategoricalAccuracy(name='cat_accuracy'),\n",
    "    keras.metrics.SparseCategoricalAccuracy(name='sparse_cat_accuracy'),\n",
    "    keras.metrics.TopKCategoricalAccuracy(name='top_k', k=5),\n",
    "    f1\n",
    "#     PRE_micro,\n",
    "#     PRE_macro\n",
    "]\n",
    "\n",
    "def make_model(metrics=METRICS, output_bias=None):\n",
    "    if output_bias is not None:\n",
    "        output_bias = tf.keras.initializers.Constant(output_bias)\n",
    "        \n",
    "    n_cat = df['super_category_codes'].nunique()\n",
    "    model = keras.Sequential([\n",
    "        keras.layers.Dense(\n",
    "            768, activation='relu',\n",
    "            input_shape=(X_train.shape[-1],)),\n",
    "        keras.layers.Dropout(0.5),\n",
    "        keras.layers.Dense(512, activation='relu'),\n",
    "        keras.layers.Dense(128, activation='relu'),\n",
    "        keras.layers.Dense(7, activation='relu'),\n",
    "        keras.layers.Dense(n_cat, activation='softmax',\n",
    "                           bias_initializer=output_bias),\n",
    "    ])\n",
    "\n",
    "    model.compile(\n",
    "        optimizer=keras.optimizers.Adam(lr=1e-3),\n",
    "        loss=keras.losses.sparse_categorical_crossentropy,\n",
    "        metrics=METRICS)\n",
    "\n",
    "    return model"
   ]
  },
  {
   "cell_type": "code",
   "execution_count": 9,
   "id": "2b9a74c7-cb9c-41c1-bae2-8fee4b104889",
   "metadata": {},
   "outputs": [
    {
     "data": {
      "text/plain": [
       "7"
      ]
     },
     "execution_count": 9,
     "metadata": {},
     "output_type": "execute_result"
    }
   ],
   "source": [
    "df['super_category_codes'].nunique()"
   ]
  },
  {
   "cell_type": "code",
   "execution_count": 10,
   "id": "889145f8-b81a-4918-a761-9c128edd2454",
   "metadata": {},
   "outputs": [
    {
     "data": {
      "application/javascript": [
       "\n",
       "        if (window._pyforest_update_imports_cell) { window._pyforest_update_imports_cell('import numpy as np\\nimport pandas as pd\\nimport tensorflow as tf'); }\n",
       "    "
      ],
      "text/plain": [
       "<IPython.core.display.Javascript object>"
      ]
     },
     "metadata": {},
     "output_type": "display_data"
    }
   ],
   "source": [
    "EPOCHS = 100\n",
    "BATCH_SIZE = 2048\n",
    "\n",
    "early_stopping = tf.keras.callbacks.EarlyStopping(\n",
    "    monitor='f1', \n",
    "    verbose=1,\n",
    "    patience=10,\n",
    "    mode='max',\n",
    "    restore_best_weights=True)"
   ]
  },
  {
   "cell_type": "markdown",
   "id": "44af0b88-1c1a-42ef-917f-e382c7a60de9",
   "metadata": {},
   "source": [
    "### Without init bias"
   ]
  },
  {
   "cell_type": "code",
   "execution_count": 11,
   "id": "32fb1020-fb7c-40f6-9400-bac63932c896",
   "metadata": {},
   "outputs": [
    {
     "name": "stdout",
     "output_type": "stream",
     "text": [
      "Model: \"sequential\"\n",
      "_________________________________________________________________\n",
      "Layer (type)                 Output Shape              Param #   \n",
      "=================================================================\n",
      "dense (Dense)                (None, 768)               787200    \n",
      "_________________________________________________________________\n",
      "dropout (Dropout)            (None, 768)               0         \n",
      "_________________________________________________________________\n",
      "dense_1 (Dense)              (None, 512)               393728    \n",
      "_________________________________________________________________\n",
      "dense_2 (Dense)              (None, 128)               65664     \n",
      "_________________________________________________________________\n",
      "dense_3 (Dense)              (None, 7)                 903       \n",
      "_________________________________________________________________\n",
      "dense_4 (Dense)              (None, 7)                 56        \n",
      "=================================================================\n",
      "Total params: 1,247,551\n",
      "Trainable params: 1,247,551\n",
      "Non-trainable params: 0\n",
      "_________________________________________________________________\n"
     ]
    }
   ],
   "source": [
    "model = make_model()\n",
    "model.summary()"
   ]
  },
  {
   "cell_type": "code",
   "execution_count": 12,
   "id": "91ae7670-e1ec-424a-9762-48dbb481542e",
   "metadata": {},
   "outputs": [
    {
     "data": {
      "text/plain": [
       "array([[0.16619445, 0.16005711, 0.09515496, 0.09313602, 0.17830901,\n",
       "        0.07158539, 0.23556307],\n",
       "       [0.18351337, 0.14966878, 0.11254904, 0.08995315, 0.17529052,\n",
       "        0.07924186, 0.20978321],\n",
       "       [0.17389424, 0.15595374, 0.10442132, 0.09341401, 0.17385565,\n",
       "        0.07539152, 0.22306958],\n",
       "       [0.17279094, 0.15560538, 0.10395287, 0.09054197, 0.17785867,\n",
       "        0.07505967, 0.22419046],\n",
       "       [0.15984805, 0.15441726, 0.09667192, 0.09490881, 0.17136967,\n",
       "        0.0709114 , 0.2518729 ],\n",
       "       [0.15782255, 0.1586021 , 0.0959175 , 0.09591958, 0.17895433,\n",
       "        0.07383339, 0.23895045],\n",
       "       [0.15891217, 0.16036332, 0.09607813, 0.09334528, 0.17097446,\n",
       "        0.06882756, 0.25149912],\n",
       "       [0.17365734, 0.15899558, 0.1051111 , 0.09254802, 0.1696567 ,\n",
       "        0.07288765, 0.22714363],\n",
       "       [0.17445725, 0.15967445, 0.10461501, 0.09191887, 0.16792355,\n",
       "        0.0714283 , 0.22998255],\n",
       "       [0.17886668, 0.15523182, 0.10807554, 0.0967759 , 0.15585496,\n",
       "        0.07120132, 0.23399374]], dtype=float32)"
      ]
     },
     "execution_count": 12,
     "metadata": {},
     "output_type": "execute_result"
    }
   ],
   "source": [
    "model.predict(X_train[:10])"
   ]
  },
  {
   "cell_type": "code",
   "execution_count": 13,
   "id": "6c09de1f-a342-4dab-83fb-061063433a70",
   "metadata": {},
   "outputs": [
    {
     "name": "stdout",
     "output_type": "stream",
     "text": [
      "With the default bias initialization the loss should be about 1.9459101490553135\n",
      "Loss: 2.0404\n"
     ]
    }
   ],
   "source": [
    "results = model.evaluate(X_train, y_train, batch_size=BATCH_SIZE, verbose=0)\n",
    "import math\n",
    "print(\"With the default bias initialization the loss should be about\", -math.log(1/7))\n",
    "print(\"Loss: {:0.4f}\".format(results[0]))"
   ]
  },
  {
   "cell_type": "code",
   "execution_count": 14,
   "id": "a9496a86-67bf-41aa-bfcc-66c47febae4e",
   "metadata": {},
   "outputs": [],
   "source": [
    "def as_perc(value, total):\n",
    "    return value/float(total)\n",
    "\n",
    "grouped_count = df.groupby(['super_category_codes']).size()\n",
    "initial_bias = grouped_count.apply(as_perc, total=df['super_category_codes'].count()).to_numpy()"
   ]
  },
  {
   "cell_type": "markdown",
   "id": "5dbd322a-67f1-40d2-83b2-f2abd1b76cbf",
   "metadata": {},
   "source": [
    "### With init bias"
   ]
  },
  {
   "cell_type": "code",
   "execution_count": 15,
   "id": "af26b4cf-ef58-400f-8acd-97e233fea6f3",
   "metadata": {},
   "outputs": [
    {
     "data": {
      "application/javascript": [
       "\n",
       "        if (window._pyforest_update_imports_cell) { window._pyforest_update_imports_cell('import numpy as np\\nimport pandas as pd\\nimport tensorflow as tf'); }\n",
       "    "
      ],
      "text/plain": [
       "<IPython.core.display.Javascript object>"
      ]
     },
     "metadata": {},
     "output_type": "display_data"
    },
    {
     "data": {
      "text/plain": [
       "array([[0.19096453, 0.10575305, 0.17690384, 0.08216934, 0.20456658,\n",
       "        0.10374679, 0.13589588],\n",
       "       [0.1706677 , 0.11476849, 0.18763666, 0.08977364, 0.17753868,\n",
       "        0.11938189, 0.14023298],\n",
       "       [0.18326998, 0.11100608, 0.17785339, 0.08026547, 0.20000449,\n",
       "        0.10797773, 0.13962285],\n",
       "       [0.18923348, 0.11423152, 0.17051475, 0.0875806 , 0.18370852,\n",
       "        0.11230435, 0.1424267 ],\n",
       "       [0.18042834, 0.12089681, 0.16914509, 0.08556965, 0.19081706,\n",
       "        0.11336347, 0.13977955],\n",
       "       [0.18170656, 0.12005426, 0.17013663, 0.0863148 , 0.17889275,\n",
       "        0.1167639 , 0.14613105],\n",
       "       [0.19149649, 0.10777512, 0.17762826, 0.08155143, 0.1897676 ,\n",
       "        0.10880373, 0.14297737],\n",
       "       [0.18689804, 0.11288752, 0.17288733, 0.08104543, 0.19741324,\n",
       "        0.10830344, 0.14056498],\n",
       "       [0.19187187, 0.12292738, 0.15965119, 0.08625542, 0.17966025,\n",
       "        0.1146071 , 0.14502683],\n",
       "       [0.19733217, 0.09721798, 0.1848197 , 0.08089922, 0.19393955,\n",
       "        0.10347824, 0.14231317]], dtype=float32)"
      ]
     },
     "execution_count": 15,
     "metadata": {},
     "output_type": "execute_result"
    }
   ],
   "source": [
    "model = make_model(output_bias=initial_bias)\n",
    "model.predict(X_train[:10])"
   ]
  },
  {
   "cell_type": "code",
   "execution_count": 16,
   "id": "ec037ec4-894a-4892-ad2b-dce92630d2e3",
   "metadata": {},
   "outputs": [
    {
     "name": "stdout",
     "output_type": "stream",
     "text": [
      "Loss: 2.0704\n"
     ]
    }
   ],
   "source": [
    "results = model.evaluate(X_train, y_train, batch_size=BATCH_SIZE, verbose=0)\n",
    "print(\"Loss: {:0.4f}\".format(results[0]))"
   ]
  },
  {
   "cell_type": "code",
   "execution_count": 17,
   "id": "bf92d90a-6b5b-473b-8aa9-cb6de288a2ce",
   "metadata": {},
   "outputs": [
    {
     "data": {
      "application/javascript": [
       "\n",
       "        if (window._pyforest_update_imports_cell) { window._pyforest_update_imports_cell('import numpy as np\\nimport pandas as pd\\nimport os\\nimport tensorflow as tf'); }\n",
       "    "
      ],
      "text/plain": [
       "<IPython.core.display.Javascript object>"
      ]
     },
     "metadata": {},
     "output_type": "display_data"
    }
   ],
   "source": [
    "import tempfile\n",
    "initial_weights = os.path.join(tempfile.mkdtemp(), 'initial_weights')\n",
    "model.save_weights(initial_weights)"
   ]
  },
  {
   "cell_type": "code",
   "execution_count": 18,
   "id": "7b8ff97e-7577-4270-8376-1a6b65f08ddc",
   "metadata": {},
   "outputs": [
    {
     "data": {
      "application/javascript": [
       "\n",
       "        if (window._pyforest_update_imports_cell) { window._pyforest_update_imports_cell('import numpy as np\\nimport pandas as pd\\nimport os\\nimport tensorflow as tf'); }\n",
       "    "
      ],
      "text/plain": [
       "<IPython.core.display.Javascript object>"
      ]
     },
     "metadata": {},
     "output_type": "display_data"
    }
   ],
   "source": [
    "model = make_model()\n",
    "model.load_weights(initial_weights)\n",
    "model.layers[-1].bias.assign(np.zeros(7))\n",
    "zero_bias_history = model.fit(\n",
    "    X_train,\n",
    "    y_train,\n",
    "    batch_size=BATCH_SIZE,\n",
    "    epochs=20,\n",
    "    validation_data=(X_eval, y_eval), \n",
    "    verbose=0)"
   ]
  },
  {
   "cell_type": "code",
   "execution_count": 19,
   "id": "8e97fb1a-296d-411a-ac24-fa50cf6adc8e",
   "metadata": {},
   "outputs": [],
   "source": [
    "model = make_model()\n",
    "model.load_weights(initial_weights)\n",
    "careful_bias_history = model.fit(\n",
    "    X_train,\n",
    "    y_train,\n",
    "    batch_size=BATCH_SIZE,\n",
    "    epochs=20,\n",
    "    validation_data=(X_eval, y_eval), \n",
    "    verbose=0)"
   ]
  },
  {
   "cell_type": "code",
   "execution_count": 20,
   "id": "e16af231-9811-464a-ba45-d3a245d0e772",
   "metadata": {},
   "outputs": [
    {
     "data": {
      "application/javascript": [
       "\n",
       "        if (window._pyforest_update_imports_cell) { window._pyforest_update_imports_cell('import numpy as np\\nimport tensorflow as tf\\nimport matplotlib.pyplot as plt\\nimport os\\nimport pandas as pd'); }\n",
       "    "
      ],
      "text/plain": [
       "<IPython.core.display.Javascript object>"
      ]
     },
     "metadata": {},
     "output_type": "display_data"
    }
   ],
   "source": [
    "colors = plt.rcParams['axes.prop_cycle'].by_key()['color']"
   ]
  },
  {
   "cell_type": "code",
   "execution_count": 21,
   "id": "e1bfcdad-b678-4bd5-ac18-25ba702eee7c",
   "metadata": {},
   "outputs": [],
   "source": [
    "def plot_loss(history, label, n):\n",
    "    # Use a log scale on y-axis to show the wide range of values.\n",
    "    plt.semilogy(history.epoch, history.history['loss'],\n",
    "               color=colors[n], label='Train ' + label)\n",
    "    plt.semilogy(history.epoch, history.history['val_loss'],\n",
    "               color=colors[n], label='Val ' + label,\n",
    "               linestyle=\"--\")\n",
    "    plt.xlabel('Epoch')\n",
    "    plt.ylabel('Loss')\n",
    "    plt.legend()"
   ]
  },
  {
   "cell_type": "code",
   "execution_count": 22,
   "id": "1163037e-7651-428e-bf45-16dc8937337c",
   "metadata": {},
   "outputs": [
    {
     "data": {
      "text/plain": [
       "'#1f77b4'"
      ]
     },
     "execution_count": 22,
     "metadata": {},
     "output_type": "execute_result"
    }
   ],
   "source": [
    "colors[0]"
   ]
  },
  {
   "cell_type": "code",
   "execution_count": 23,
   "id": "8c0f9fcd-f30e-4605-9361-73c0fdefcb7b",
   "metadata": {},
   "outputs": [
    {
     "data": {
      "application/javascript": [
       "\n",
       "        if (window._pyforest_update_imports_cell) { window._pyforest_update_imports_cell('import numpy as np\\nimport tensorflow as tf\\nimport matplotlib.pyplot as plt\\nimport os\\nimport pandas as pd'); }\n",
       "    "
      ],
      "text/plain": [
       "<IPython.core.display.Javascript object>"
      ]
     },
     "metadata": {},
     "output_type": "display_data"
    },
    {
     "data": {
      "application/javascript": [
       "\n",
       "        if (window._pyforest_update_imports_cell) { window._pyforest_update_imports_cell('import numpy as np\\nimport tensorflow as tf\\nimport matplotlib.pyplot as plt\\nimport os\\nimport pandas as pd'); }\n",
       "    "
      ],
      "text/plain": [
       "<IPython.core.display.Javascript object>"
      ]
     },
     "metadata": {},
     "output_type": "display_data"
    },
    {
     "data": {
      "application/javascript": [
       "\n",
       "        if (window._pyforest_update_imports_cell) { window._pyforest_update_imports_cell('import numpy as np\\nimport tensorflow as tf\\nimport matplotlib.pyplot as plt\\nimport os\\nimport pandas as pd'); }\n",
       "    "
      ],
      "text/plain": [
       "<IPython.core.display.Javascript object>"
      ]
     },
     "metadata": {},
     "output_type": "display_data"
    },
    {
     "data": {
      "application/javascript": [
       "\n",
       "        if (window._pyforest_update_imports_cell) { window._pyforest_update_imports_cell('import numpy as np\\nimport tensorflow as tf\\nimport matplotlib.pyplot as plt\\nimport os\\nimport pandas as pd'); }\n",
       "    "
      ],
      "text/plain": [
       "<IPython.core.display.Javascript object>"
      ]
     },
     "metadata": {},
     "output_type": "display_data"
    },
    {
     "data": {
      "application/javascript": [
       "\n",
       "        if (window._pyforest_update_imports_cell) { window._pyforest_update_imports_cell('import numpy as np\\nimport tensorflow as tf\\nimport matplotlib.pyplot as plt\\nimport os\\nimport pandas as pd'); }\n",
       "    "
      ],
      "text/plain": [
       "<IPython.core.display.Javascript object>"
      ]
     },
     "metadata": {},
     "output_type": "display_data"
    },
    {
     "data": {
      "application/javascript": [
       "\n",
       "        if (window._pyforest_update_imports_cell) { window._pyforest_update_imports_cell('import numpy as np\\nimport tensorflow as tf\\nimport matplotlib.pyplot as plt\\nimport os\\nimport pandas as pd'); }\n",
       "    "
      ],
      "text/plain": [
       "<IPython.core.display.Javascript object>"
      ]
     },
     "metadata": {},
     "output_type": "display_data"
    },
    {
     "data": {
      "application/javascript": [
       "\n",
       "        if (window._pyforest_update_imports_cell) { window._pyforest_update_imports_cell('import numpy as np\\nimport tensorflow as tf\\nimport matplotlib.pyplot as plt\\nimport os\\nimport pandas as pd'); }\n",
       "    "
      ],
      "text/plain": [
       "<IPython.core.display.Javascript object>"
      ]
     },
     "metadata": {},
     "output_type": "display_data"
    },
    {
     "data": {
      "application/javascript": [
       "\n",
       "        if (window._pyforest_update_imports_cell) { window._pyforest_update_imports_cell('import numpy as np\\nimport tensorflow as tf\\nimport matplotlib.pyplot as plt\\nimport os\\nimport pandas as pd'); }\n",
       "    "
      ],
      "text/plain": [
       "<IPython.core.display.Javascript object>"
      ]
     },
     "metadata": {},
     "output_type": "display_data"
    },
    {
     "data": {
      "application/javascript": [
       "\n",
       "        if (window._pyforest_update_imports_cell) { window._pyforest_update_imports_cell('import numpy as np\\nimport tensorflow as tf\\nimport matplotlib.pyplot as plt\\nimport os\\nimport pandas as pd'); }\n",
       "    "
      ],
      "text/plain": [
       "<IPython.core.display.Javascript object>"
      ]
     },
     "metadata": {},
     "output_type": "display_data"
    },
    {
     "data": {
      "application/javascript": [
       "\n",
       "        if (window._pyforest_update_imports_cell) { window._pyforest_update_imports_cell('import numpy as np\\nimport tensorflow as tf\\nimport matplotlib.pyplot as plt\\nimport os\\nimport pandas as pd'); }\n",
       "    "
      ],
      "text/plain": [
       "<IPython.core.display.Javascript object>"
      ]
     },
     "metadata": {},
     "output_type": "display_data"
    },
    {
     "data": {
      "image/png": "[encoded data removed]",
      "text/plain": [
       "<Figure size 432x288 with 1 Axes>"
      ]
     },
     "metadata": {
      "needs_background": "light"
     },
     "output_type": "display_data"
    }
   ],
   "source": [
    "plot_loss(zero_bias_history, \"Zero Bias\", 0)\n",
    "plot_loss(careful_bias_history, \"Careful Bias\", 1)"
   ]
  },
  {
   "cell_type": "markdown",
   "id": "d6fc075d-27f6-4e55-b4f7-725e262d355f",
   "metadata": {},
   "source": [
    "### Train the model"
   ]
  },
  {
   "cell_type": "code",
   "execution_count": 24,
   "id": "554171c9-a016-4687-8f19-cff97812c4dc",
   "metadata": {
    "tags": []
   },
   "outputs": [
    {
     "name": "stdout",
     "output_type": "stream",
     "text": [
      "Epoch 1/100\n",
      "1/1 [==============================] - 0s 38ms/step - loss: 1.7776 - accuracy: 0.2167 - cat_accuracy: 0.0072 - sparse_cat_accuracy: 0.3587 - top_k: 1.0000 - f1: 3.7193 - val_loss: 1.7454 - val_accuracy: 0.2756 - val_cat_accuracy: 0.0000e+00 - val_sparse_cat_accuracy: 0.3718 - val_top_k: 1.0000 - val_f1: 3.5752\n",
      "Epoch 2/100\n",
      "1/1 [==============================] - 0s 18ms/step - loss: 1.7851 - accuracy: 0.2167 - cat_accuracy: 0.0080 - sparse_cat_accuracy: 0.3547 - top_k: 1.0000 - f1: 3.7357 - val_loss: 1.7432 - val_accuracy: 0.2756 - val_cat_accuracy: 0.0128 - val_sparse_cat_accuracy: 0.3654 - val_top_k: 1.0000 - val_f1: 3.4513\n",
      "Epoch 3/100\n",
      "1/1 [==============================] - 0s 20ms/step - loss: 1.7768 - accuracy: 0.2167 - cat_accuracy: 0.0546 - sparse_cat_accuracy: 0.3531 - top_k: 1.0000 - f1: 3.8627 - val_loss: 1.7327 - val_accuracy: 0.2756 - val_cat_accuracy: 0.1218 - val_sparse_cat_accuracy: 0.4038 - val_top_k: 1.0000 - val_f1: 3.6991\n",
      "Epoch 4/100\n",
      "1/1 [==============================] - 0s 21ms/step - loss: 1.7850 - accuracy: 0.2167 - cat_accuracy: 0.1003 - sparse_cat_accuracy: 0.3523 - top_k: 1.0000 - f1: 3.9119 - val_loss: 1.7170 - val_accuracy: 0.2756 - val_cat_accuracy: 0.0064 - val_sparse_cat_accuracy: 0.3654 - val_top_k: 1.0000 - val_f1: 3.7522\n",
      "Epoch 5/100\n",
      "1/1 [==============================] - 0s 17ms/step - loss: 1.7749 - accuracy: 0.2167 - cat_accuracy: 0.0465 - sparse_cat_accuracy: 0.3547 - top_k: 1.0000 - f1: 3.8197 - val_loss: 1.7133 - val_accuracy: 0.2756 - val_cat_accuracy: 0.0000e+00 - val_sparse_cat_accuracy: 0.3718 - val_top_k: 1.0000 - val_f1: 3.5929\n",
      "Epoch 6/100\n",
      "1/1 [==============================] - 0s 19ms/step - loss: 1.7789 - accuracy: 0.2167 - cat_accuracy: 0.0120 - sparse_cat_accuracy: 0.3579 - top_k: 1.0000 - f1: 3.7316 - val_loss: 1.7184 - val_accuracy: 0.2756 - val_cat_accuracy: 0.0000e+00 - val_sparse_cat_accuracy: 0.3718 - val_top_k: 1.0000 - val_f1: 3.4159\n",
      "Epoch 7/100\n",
      "1/1 [==============================] - 0s 13ms/step - loss: 1.7708 - accuracy: 0.2167 - cat_accuracy: 0.0064 - sparse_cat_accuracy: 0.3571 - top_k: 1.0000 - f1: 3.6639 - val_loss: 1.7256 - val_accuracy: 0.2756 - val_cat_accuracy: 0.0000e+00 - val_sparse_cat_accuracy: 0.3718 - val_top_k: 1.0000 - val_f1: 3.4513\n",
      "Epoch 8/100\n",
      "1/1 [==============================] - 0s 16ms/step - loss: 1.7660 - accuracy: 0.2167 - cat_accuracy: 0.0241 - sparse_cat_accuracy: 0.3579 - top_k: 1.0000 - f1: 3.7725 - val_loss: 1.7242 - val_accuracy: 0.2756 - val_cat_accuracy: 0.0128 - val_sparse_cat_accuracy: 0.3654 - val_top_k: 1.0000 - val_f1: 3.4336\n",
      "Epoch 9/100\n",
      "1/1 [==============================] - 0s 18ms/step - loss: 1.7738 - accuracy: 0.2167 - cat_accuracy: 0.0506 - sparse_cat_accuracy: 0.3539 - top_k: 1.0000 - f1: 3.8012 - val_loss: 1.7132 - val_accuracy: 0.2756 - val_cat_accuracy: 0.0128 - val_sparse_cat_accuracy: 0.3654 - val_top_k: 1.0000 - val_f1: 3.5044\n",
      "Epoch 10/100\n",
      "1/1 [==============================] - 0s 15ms/step - loss: 1.7632 - accuracy: 0.2167 - cat_accuracy: 0.0433 - sparse_cat_accuracy: 0.3531 - top_k: 1.0000 - f1: 3.7992 - val_loss: 1.7012 - val_accuracy: 0.2756 - val_cat_accuracy: 0.0000e+00 - val_sparse_cat_accuracy: 0.3718 - val_top_k: 1.0000 - val_f1: 3.5929\n",
      "Epoch 11/100\n",
      "1/1 [==============================] - 0s 17ms/step - loss: 1.7637 - accuracy: 0.2167 - cat_accuracy: 0.0152 - sparse_cat_accuracy: 0.3571 - top_k: 1.0000 - f1: 3.7480 - val_loss: 1.6992 - val_accuracy: 0.2756 - val_cat_accuracy: 0.0000e+00 - val_sparse_cat_accuracy: 0.3718 - val_top_k: 1.0000 - val_f1: 3.4159\n",
      "Epoch 12/100\n",
      "1/1 [==============================] - 0s 18ms/step - loss: 1.7648 - accuracy: 0.2167 - cat_accuracy: 0.0241 - sparse_cat_accuracy: 0.3563 - top_k: 1.0000 - f1: 3.6988 - val_loss: 1.7039 - val_accuracy: 0.2756 - val_cat_accuracy: 0.0000e+00 - val_sparse_cat_accuracy: 0.3718 - val_top_k: 1.0000 - val_f1: 3.3982\n",
      "Epoch 13/100\n",
      "1/1 [==============================] - 0s 19ms/step - loss: 1.7598 - accuracy: 0.2167 - cat_accuracy: 0.0233 - sparse_cat_accuracy: 0.3579 - top_k: 1.0000 - f1: 3.7725 - val_loss: 1.7120 - val_accuracy: 0.2756 - val_cat_accuracy: 0.0128 - val_sparse_cat_accuracy: 0.3654 - val_top_k: 1.0000 - val_f1: 3.4336\n",
      "Epoch 14/100\n",
      "1/1 [==============================] - ETA: 0s - loss: 1.7639 - accuracy: 0.2167 - cat_accuracy: 0.0337 - sparse_cat_accuracy: 0.3571 - top_k: 1.0000 - f1: 3.7398Restoring model weights from the end of the best epoch.\n",
      "1/1 [==============================] - 0s 18ms/step - loss: 1.7639 - accuracy: 0.2167 - cat_accuracy: 0.0337 - sparse_cat_accuracy: 0.3571 - top_k: 1.0000 - f1: 3.7398 - val_loss: 1.7127 - val_accuracy: 0.2756 - val_cat_accuracy: 0.0128 - val_sparse_cat_accuracy: 0.3654 - val_top_k: 1.0000 - val_f1: 3.4513\n",
      "Epoch 00014: early stopping\n"
     ]
    },
    {
     "data": {
      "text/plain": [
       "<tensorflow.python.keras.callbacks.History at 0x7fccc074a9d0>"
      ]
     },
     "execution_count": 24,
     "metadata": {},
     "output_type": "execute_result"
    }
   ],
   "source": [
    "model.fit(\n",
    "    X_train,\n",
    "    y_train,\n",
    "    batch_size=BATCH_SIZE,\n",
    "    epochs=100,\n",
    "    callbacks=early_stopping,\n",
    "    validation_data=(X_eval, y_eval))"
   ]
  },
  {
   "cell_type": "markdown",
   "id": "a0366531-681e-407e-99e4-6df4bf3542f0",
   "metadata": {},
   "source": [
    "## 5-fold"
   ]
  },
  {
   "cell_type": "code",
   "execution_count": 25,
   "id": "8106c478-db28-4e6c-b91b-ba161e0a083c",
   "metadata": {},
   "outputs": [
    {
     "data": {
      "application/javascript": [
       "\n",
       "        if (window._pyforest_update_imports_cell) { window._pyforest_update_imports_cell('import numpy as np\\nimport tensorflow as tf\\nimport matplotlib.pyplot as plt\\nimport os\\nimport pandas as pd'); }\n",
       "    "
      ],
      "text/plain": [
       "<IPython.core.display.Javascript object>"
      ]
     },
     "metadata": {},
     "output_type": "display_data"
    }
   ],
   "source": [
    "X = np.concatenate(df['longformer_output'].to_numpy())\n",
    "y = df['super_category_codes'].to_numpy()"
   ]
  },
  {
   "cell_type": "markdown",
   "id": "f83c99a1-127c-4dd3-8a16-ebaad2c9ec23",
   "metadata": {},
   "source": [
    "### Neural Nets"
   ]
  },
  {
   "cell_type": "code",
   "execution_count": 27,
   "id": "97680ebf-3694-4492-ac7e-b031729a893e",
   "metadata": {
    "tags": []
   },
   "outputs": [
    {
     "name": "stdout",
     "output_type": "stream",
     "text": [
      "Restoring model weights from the end of the best epoch.\n",
      "Epoch 00012: early stopping\n",
      "10/10 [==============================] - 0s 1ms/step - loss: 1.7334 - accuracy: 0.2244 - cat_accuracy: 0.0641 - sparse_cat_accuracy: 0.3654 - top_k: 1.0000 - f1: 3.0480\n",
      "Restoring model weights from the end of the best epoch.\n",
      "Epoch 00013: early stopping\n",
      "10/10 [==============================] - 0s 1ms/step - loss: 1.6698 - accuracy: 0.2248 - cat_accuracy: 0.1699 - sparse_cat_accuracy: 0.4038 - top_k: 1.0000 - f1: 3.0863\n",
      "Restoring model weights from the end of the best epoch.\n",
      "Epoch 00025: early stopping\n",
      "10/10 [==============================] - 0s 2ms/step - loss: 1.6140 - accuracy: 0.2331 - cat_accuracy: 0.1250 - sparse_cat_accuracy: 0.4071 - top_k: 1.0000 - f1: 3.2573\n",
      "Restoring model weights from the end of the best epoch.\n",
      "Epoch 00015: early stopping\n",
      "10/10 [==============================] - 0s 1ms/step - loss: 1.6756 - accuracy: 0.2219 - cat_accuracy: 0.3023 - sparse_cat_accuracy: 0.4277 - top_k: 1.0000 - f1: 3.3471\n",
      "Restoring model weights from the end of the best epoch.\n",
      "Epoch 00011: early stopping\n",
      "10/10 [==============================] - 0s 2ms/step - loss: 1.6261 - accuracy: 0.2333 - cat_accuracy: 0.2090 - sparse_cat_accuracy: 0.3955 - top_k: 1.0000 - f1: 3.1399\n"
     ]
    }
   ],
   "source": [
    "from sklearn.model_selection import StratifiedKFold\n",
    "from sklearn.preprocessing import MinMaxScaler\n",
    "scaler = MinMaxScaler(feature_range=(0, 1))\n",
    "scaled_X = scaler.fit_transform(X)\n",
    "\n",
    "skf = StratifiedKFold(n_splits=5, shuffle=True)\n",
    "skf.get_n_splits(scaled_X, y)\n",
    "\n",
    "for train_index, test_index in skf.split(X, y):\n",
    "    X_train, X_test = X[train_index], X[test_index]\n",
    "    y_train, y_test = y[train_index], y[test_index]\n",
    "    model.fit(\n",
    "        X_train,\n",
    "        y_train,\n",
    "        batch_size=BATCH_SIZE,\n",
    "        epochs=100,\n",
    "        verbose=0,\n",
    "        callbacks=early_stopping,\n",
    "    )\n",
    "    model.evaluate(X_test, y_test)"
   ]
  },
  {
   "cell_type": "markdown",
   "id": "341fb6b0-1749-4400-b85f-462727ae599f",
   "metadata": {},
   "source": [
    "### Logistic Regression"
   ]
  },
  {
   "cell_type": "code",
   "execution_count": 121,
   "id": "3244909e-3234-4650-832c-075a2e916b1b",
   "metadata": {},
   "outputs": [],
   "source": [
    "from sklearn.linear_model import LogisticRegression\n",
    "from sklearn.model_selection import RepeatedStratifiedKFold\n",
    "from sklearn.model_selection import cross_val_score\n",
    "\n",
    "from numpy import mean\n",
    "from numpy import std\n",
    "\n",
    "from sklearn.preprocessing import MinMaxScaler\n",
    "scaler = MinMaxScaler(feature_range=(0, 1))\n",
    "scaled_X = scaler.fit_transform(X)\n",
    "\n",
    "model = LogisticRegression(multi_class='multinomial',\n",
    "                           solver='lbfgs',\n",
    "                           class_weight='balanced',\n",
    "                          max_iter=4000,\n",
    "                          n_jobs=-1)"
   ]
  },
  {
   "cell_type": "code",
   "execution_count": 122,
   "id": "a303f053-c107-47da-a2f3-13f04e786d62",
   "metadata": {},
   "outputs": [
    {
     "name": "stdout",
     "output_type": "stream",
     "text": [
      "Mean Accuracy: 0.524 (0.027)\n"
     ]
    }
   ],
   "source": [
    "# define the model evaluation procedure\n",
    "cv = RepeatedStratifiedKFold(n_splits=5, n_repeats=3, random_state=1)\n",
    "# evaluate the model and collect the scores\n",
    "n_scores = cross_val_score(model, scaled_X, y, scoring='accuracy', cv=cv, n_jobs=-1)\n",
    "# report the model performance\n",
    "print('Mean Accuracy: %.3f (%.3f)' % (mean(n_scores), std(n_scores)))"
   ]
  },
  {
   "cell_type": "code",
   "execution_count": 123,
   "id": "07523ef2-47c5-47a4-aa38-d27da31610e4",
   "metadata": {},
   "outputs": [
    {
     "data": {
      "text/plain": [
       "LogisticRegression(class_weight='balanced', max_iter=4000,\n",
       "                   multi_class='multinomial', n_jobs=-1)"
      ]
     },
     "execution_count": 123,
     "metadata": {},
     "output_type": "execute_result"
    }
   ],
   "source": [
    "model.fit(X_train, y_train)"
   ]
  },
  {
   "cell_type": "code",
   "execution_count": 124,
   "id": "e892e683-eafa-4545-a0c9-ca035f640831",
   "metadata": {},
   "outputs": [
    {
     "data": {
      "text/plain": [
       "array([0, 4, 0, 2, 6, 6, 6, 0, 0, 6, 0, 0, 0, 0, 0, 0, 0, 0, 0, 0, 0, 0,\n",
       "       0, 0, 0, 0, 1, 0, 6, 6, 3, 0, 5, 0, 0, 5, 2, 0, 0, 5, 0, 1, 2, 1,\n",
       "       0, 0, 0, 5, 0, 0, 0, 0, 0, 4, 0, 0, 0, 0, 0, 0, 1, 0, 0, 4, 0, 1,\n",
       "       1, 1, 1, 1, 1, 1, 1, 5, 1, 1, 1, 1, 4, 1, 0, 2, 2, 4, 1, 1, 3, 1,\n",
       "       3, 6, 5, 2, 2, 4, 1, 1, 5, 1, 1, 1, 1, 1, 5, 0, 5, 5, 1, 1, 1, 1,\n",
       "       1, 2, 4, 3, 1, 1, 1, 3, 1, 1, 3, 1, 1, 4, 1, 1, 3, 4, 1, 6, 1, 1,\n",
       "       2, 1, 3, 1, 2, 2, 1, 2, 1, 3, 1, 1, 3, 3, 1, 1, 1, 5, 1, 1, 1, 1,\n",
       "       5, 1, 4, 1, 1, 1, 3, 2, 3, 1, 1, 4, 1, 1, 3, 5, 2, 3, 1, 2, 3, 4,\n",
       "       2, 3, 1, 3, 2, 1, 5, 5, 2, 2, 3, 1, 1, 2, 2, 2, 1, 2, 3, 3, 3, 3,\n",
       "       3, 3, 1, 3, 5, 6, 1, 0, 3, 2, 3, 1, 1, 1, 5, 5, 3, 5, 5, 1, 4, 3,\n",
       "       3, 2, 0, 3, 3, 2, 4, 2, 0, 0, 5, 1, 2, 2, 4, 0, 0, 4, 4, 5, 2, 5,\n",
       "       5, 5, 6, 4, 3, 4, 6, 5, 5, 6, 3, 5, 5, 0, 0, 3, 1, 2, 5, 1, 5, 3,\n",
       "       6, 5, 5, 5, 0, 6, 1, 3, 3, 6, 4, 5, 6, 2, 0, 3, 5, 4, 2, 4, 3, 5,\n",
       "       5, 1, 5, 5, 5, 5, 5, 5, 6, 5, 5, 5, 4, 0, 6, 6, 4, 1, 3, 0, 6, 0,\n",
       "       6, 1, 5], dtype=int8)"
      ]
     },
     "execution_count": 124,
     "metadata": {},
     "output_type": "execute_result"
    }
   ],
   "source": [
    "model.predict(X_test)"
   ]
  },
  {
   "cell_type": "code",
   "execution_count": 125,
   "id": "15c222a2-2ea1-4669-810e-c5286e080f55",
   "metadata": {},
   "outputs": [
    {
     "data": {
      "text/plain": [
       "0.5080385852090032"
      ]
     },
     "execution_count": 125,
     "metadata": {},
     "output_type": "execute_result"
    }
   ],
   "source": [
    "model.score(X_test, y_test)"
   ]
  },
  {
   "cell_type": "code",
   "execution_count": 126,
   "id": "ae10539f-d436-45b0-9929-79196f5f7560",
   "metadata": {},
   "outputs": [
    {
     "data": {
      "text/plain": [
       "0.14743589743589744"
      ]
     },
     "execution_count": 126,
     "metadata": {},
     "output_type": "execute_result"
    }
   ],
   "source": [
    "model.score(X_eval, y_eval)"
   ]
  },
  {
   "cell_type": "code",
   "execution_count": null,
   "id": "4f40213c-b77f-4e91-ad14-4b676e6b597e",
   "metadata": {},
   "outputs": [],
   "source": []
  }
 ],
 "metadata": {
  "kernelspec": {
   "display_name": "creepyenv",
   "language": "python",
   "name": "creepyenv"
  },
  "language_info": {
   "codemirror_mode": {
    "name": "ipython",
    "version": 3
   },
   "file_extension": ".py",
   "mimetype": "text/x-python",
   "name": "python",
   "nbconvert_exporter": "python",
   "pygments_lexer": "ipython3",
   "version": "3.8.5"
  }
 },
 "nbformat": 4,
 "nbformat_minor": 5
}
