{
 "cells": [
  {
   "cell_type": "code",
   "execution_count": 1,
   "metadata": {},
   "outputs": [
    {
     "name": "stdout",
     "output_type": "stream",
     "text": [
      "Num GPUs Available:  1\n"
     ]
    }
   ],
   "source": [
    "import tensorflow as tf\n",
    "physical_devices = tf.config.list_physical_devices('GPU')\n",
    "tf.config.experimental.set_memory_growth(physical_devices[0], enable=True)\n",
    "print(\"Num GPUs Available: \", len(physical_devices))"
   ]
  },
  {
   "cell_type": "markdown",
   "metadata": {},
   "source": [
    "# Import data"
   ]
  },
  {
   "cell_type": "code",
   "execution_count": 2,
   "metadata": {},
   "outputs": [],
   "source": [
    "import pickle\n",
    "import gdown"
   ]
  },
  {
   "cell_type": "code",
   "execution_count": 3,
   "metadata": {},
   "outputs": [
    {
     "name": "stderr",
     "output_type": "stream",
     "text": [
      "Downloading...\n",
      "From: https://drive.google.com/uc?id=1-I5k-1NlFozfdbRb5JVy7nEfQEXqYP9c\n",
      "To: /home/anthony/Documents/Research-Mapping-Uncanny-Valley/Code/Download/data_cleaned_gdown.zip\n",
      "786MB [00:16, 49.1MB/s] \n"
     ]
    },
    {
     "data": {
      "text/plain": [
       "'./Download/data_cleaned_gdown.zip'"
      ]
     },
     "execution_count": 3,
     "metadata": {},
     "output_type": "execute_result"
    }
   ],
   "source": [
    "data_cleaned_url = \"https://drive.google.com/uc?id=1-I5k-1NlFozfdbRb5JVy7nEfQEXqYP9c\"\n",
    "output = './Download/data_cleaned_gdown.zip'\n",
    "gdown.download(data_cleaned_url, output, quiet=False)"
   ]
  },
  {
   "cell_type": "markdown",
   "metadata": {},
   "source": [
    "module zipfile does not support the compression format (I don't know why). \n",
    "You can use\n",
    "```bash\n",
    "sudo apt-get update\n",
    "sudo apt-get install unzip\n",
    "unzip ./Download/data_cleaned_gdown.zip\n",
    "```\n",
    "to unzip the file to `/Code/Download` directory"
   ]
  },
  {
   "cell_type": "code",
   "execution_count": 3,
   "metadata": {},
   "outputs": [],
   "source": [
    "with open('./Download/data_cleaned.pickle', 'rb') as handle:\n",
    "    data_cleaned = pickle.load(handle)"
   ]
  },
  {
   "cell_type": "markdown",
   "metadata": {},
   "source": [
    "# 1. Building a Set of Microframes"
   ]
  },
  {
   "cell_type": "code",
   "execution_count": 4,
   "metadata": {},
   "outputs": [
    {
     "name": "stderr",
     "output_type": "stream",
     "text": [
      "[nltk_data] Downloading package wordnet to /home/anthony/nltk_data...\n",
      "[nltk_data]   Package wordnet is already up-to-date!\n"
     ]
    },
    {
     "data": {
      "text/plain": [
       "True"
      ]
     },
     "execution_count": 4,
     "metadata": {},
     "output_type": "execute_result"
    }
   ],
   "source": [
    "import nltk\n",
    "from nltk.corpus import wordnet as wn\n",
    "nltk.download('wordnet')"
   ]
  },
  {
   "cell_type": "markdown",
   "metadata": {},
   "source": [
    "### Show all antonyms in WordNet:"
   ]
  },
  {
   "cell_type": "code",
   "execution_count": 5,
   "metadata": {},
   "outputs": [],
   "source": [
    "from nltk.corpus import wordnet as wn\n",
    "\n",
    "def antonyms_for(word):\n",
    "    antonyms = set()\n",
    "    for ss in wn.synsets(word):\n",
    "        for lemma in ss.lemmas():\n",
    "            any_pos_antonyms = [ antonym.name() for antonym in lemma.antonyms() ]\n",
    "            for antonym in any_pos_antonyms:\n",
    "                antonym_synsets = wn.synsets(antonym)\n",
    "                if wn.ADJ not in [ ss.pos() for ss in antonym_synsets ]:\n",
    "                    continue\n",
    "                antonyms.add(antonym)\n",
    "    return antonyms"
   ]
  },
  {
   "cell_type": "code",
   "execution_count": 6,
   "metadata": {},
   "outputs": [
    {
     "data": {
      "text/plain": [
       "set()"
      ]
     },
     "execution_count": 6,
     "metadata": {},
     "output_type": "execute_result"
    }
   ],
   "source": [
    "antonyms_for(\"terrifying\")"
   ]
  },
  {
   "cell_type": "code",
   "execution_count": 7,
   "metadata": {},
   "outputs": [],
   "source": [
    "import torch\n",
    "import torchtext"
   ]
  },
  {
   "cell_type": "code",
   "execution_count": 8,
   "metadata": {},
   "outputs": [],
   "source": [
    "glove = torchtext.vocab.GloVe(name=\"840B\",dim=300)"
   ]
  },
  {
   "cell_type": "markdown",
   "metadata": {},
   "source": [
    "### Example text"
   ]
  },
  {
   "cell_type": "code",
   "execution_count": 106,
   "metadata": {},
   "outputs": [],
   "source": [
    "v_p_1 = glove['creepy']\n",
    "v_p_2 = glove['non-creepy']\n",
    "v_a_1 = v_p_2 - v_p_1"
   ]
  },
  {
   "cell_type": "code",
   "execution_count": 107,
   "metadata": {},
   "outputs": [],
   "source": [
    "v_p_1 = glove['man']\n",
    "v_p_2 = glove['woman']\n",
    "v_a_2 = v_p_2 - v_p_1"
   ]
  },
  {
   "cell_type": "code",
   "execution_count": 78,
   "metadata": {},
   "outputs": [],
   "source": [
    "v_a = [np.array(v_a_1.tolist()),np.array(v_a_2.tolist())]"
   ]
  },
  {
   "cell_type": "markdown",
   "metadata": {},
   "source": [
    "# Framing Bias and Intensity"
   ]
  },
  {
   "cell_type": "code",
   "execution_count": 191,
   "metadata": {},
   "outputs": [],
   "source": [
    "import pandas as pd\n",
    "import numpy as np"
   ]
  },
  {
   "cell_type": "code",
   "execution_count": 247,
   "metadata": {},
   "outputs": [
    {
     "data": {
      "text/html": [
       "<div>\n",
       "<style scoped>\n",
       "    .dataframe tbody tr th:only-of-type {\n",
       "        vertical-align: middle;\n",
       "    }\n",
       "\n",
       "    .dataframe tbody tr th {\n",
       "        vertical-align: top;\n",
       "    }\n",
       "\n",
       "    .dataframe thead th {\n",
       "        text-align: right;\n",
       "    }\n",
       "</style>\n",
       "<table border=\"1\" class=\"dataframe\">\n",
       "  <thead>\n",
       "    <tr style=\"text-align: right;\">\n",
       "      <th></th>\n",
       "      <th></th>\n",
       "      <th>title</th>\n",
       "      <th>selftext</th>\n",
       "      <th>score</th>\n",
       "    </tr>\n",
       "    <tr>\n",
       "      <th>id</th>\n",
       "      <th>microframe</th>\n",
       "      <th></th>\n",
       "      <th></th>\n",
       "      <th></th>\n",
       "    </tr>\n",
       "  </thead>\n",
       "  <tbody>\n",
       "    <tr>\n",
       "      <th rowspan=\"2\" valign=\"top\">gxsfpz</th>\n",
       "      <th>creepy - non-creepy</th>\n",
       "      <td>My older sister is moving out of country soon</td>\n",
       "      <td>We hung out a lot and I was closest to her out...</td>\n",
       "      <td>1</td>\n",
       "    </tr>\n",
       "    <tr>\n",
       "      <th>man - woman</th>\n",
       "      <td>My older sister is moving out of country soon</td>\n",
       "      <td>We hung out a lot and I was closest to her out...</td>\n",
       "      <td>1</td>\n",
       "    </tr>\n",
       "    <tr>\n",
       "      <th rowspan=\"2\" valign=\"top\">gxs6xf</th>\n",
       "      <th>creepy - non-creepy</th>\n",
       "      <td>Started Drawabox after like 5 months of puttin...</td>\n",
       "      <td>(still not sure what this sub is used for, so ...</td>\n",
       "      <td>1</td>\n",
       "    </tr>\n",
       "    <tr>\n",
       "      <th>man - woman</th>\n",
       "      <td>Started Drawabox after like 5 months of puttin...</td>\n",
       "      <td>(still not sure what this sub is used for, so ...</td>\n",
       "      <td>1</td>\n",
       "    </tr>\n",
       "    <tr>\n",
       "      <th>gxs658</th>\n",
       "      <th>creepy - non-creepy</th>\n",
       "      <td>It's my birthday today</td>\n",
       "      <td>As the title says. It's my 19th birthday and I...</td>\n",
       "      <td>1</td>\n",
       "    </tr>\n",
       "    <tr>\n",
       "      <th>...</th>\n",
       "      <th>...</th>\n",
       "      <td>...</td>\n",
       "      <td>...</td>\n",
       "      <td>...</td>\n",
       "    </tr>\n",
       "    <tr>\n",
       "      <th>gvcpoy</th>\n",
       "      <th>man - woman</th>\n",
       "      <td>What are some really good ways to cope with an...</td>\n",
       "      <td>I ask this mostly towards people who have seve...</td>\n",
       "      <td>1</td>\n",
       "    </tr>\n",
       "    <tr>\n",
       "      <th rowspan=\"2\" valign=\"top\">gvchgd</th>\n",
       "      <th>creepy - non-creepy</th>\n",
       "      <td>Any ideas for what to write on a poster for pr...</td>\n",
       "      <td>I live in the US and am going protesting in a ...</td>\n",
       "      <td>1</td>\n",
       "    </tr>\n",
       "    <tr>\n",
       "      <th>man - woman</th>\n",
       "      <td>Any ideas for what to write on a poster for pr...</td>\n",
       "      <td>I live in the US and am going protesting in a ...</td>\n",
       "      <td>1</td>\n",
       "    </tr>\n",
       "    <tr>\n",
       "      <th rowspan=\"2\" valign=\"top\">gvc9rm</th>\n",
       "      <th>creepy - non-creepy</th>\n",
       "      <td>I got over myself and started sharing my art o...</td>\n",
       "      <td>I picked up painting over two years ago, and d...</td>\n",
       "      <td>2</td>\n",
       "    </tr>\n",
       "    <tr>\n",
       "      <th>man - woman</th>\n",
       "      <td>I got over myself and started sharing my art o...</td>\n",
       "      <td>I picked up painting over two years ago, and d...</td>\n",
       "      <td>2</td>\n",
       "    </tr>\n",
       "  </tbody>\n",
       "</table>\n",
       "<p>1000 rows × 3 columns</p>\n",
       "</div>"
      ],
      "text/plain": [
       "                                                                        title  \\\n",
       "id     microframe                                                               \n",
       "gxsfpz creepy - non-creepy      My older sister is moving out of country soon   \n",
       "       man - woman              My older sister is moving out of country soon   \n",
       "gxs6xf creepy - non-creepy  Started Drawabox after like 5 months of puttin...   \n",
       "       man - woman          Started Drawabox after like 5 months of puttin...   \n",
       "gxs658 creepy - non-creepy                             It's my birthday today   \n",
       "...                                                                       ...   \n",
       "gvcpoy man - woman          What are some really good ways to cope with an...   \n",
       "gvchgd creepy - non-creepy  Any ideas for what to write on a poster for pr...   \n",
       "       man - woman          Any ideas for what to write on a poster for pr...   \n",
       "gvc9rm creepy - non-creepy  I got over myself and started sharing my art o...   \n",
       "       man - woman          I got over myself and started sharing my art o...   \n",
       "\n",
       "                                                                     selftext  \\\n",
       "id     microframe                                                               \n",
       "gxsfpz creepy - non-creepy  We hung out a lot and I was closest to her out...   \n",
       "       man - woman          We hung out a lot and I was closest to her out...   \n",
       "gxs6xf creepy - non-creepy  (still not sure what this sub is used for, so ...   \n",
       "       man - woman          (still not sure what this sub is used for, so ...   \n",
       "gxs658 creepy - non-creepy  As the title says. It's my 19th birthday and I...   \n",
       "...                                                                       ...   \n",
       "gvcpoy man - woman          I ask this mostly towards people who have seve...   \n",
       "gvchgd creepy - non-creepy  I live in the US and am going protesting in a ...   \n",
       "       man - woman          I live in the US and am going protesting in a ...   \n",
       "gvc9rm creepy - non-creepy  I picked up painting over two years ago, and d...   \n",
       "       man - woman          I picked up painting over two years ago, and d...   \n",
       "\n",
       "                           score  \n",
       "id     microframe                 \n",
       "gxsfpz creepy - non-creepy     1  \n",
       "       man - woman             1  \n",
       "gxs6xf creepy - non-creepy     1  \n",
       "       man - woman             1  \n",
       "gxs658 creepy - non-creepy     1  \n",
       "...                          ...  \n",
       "gvcpoy man - woman             1  \n",
       "gvchgd creepy - non-creepy     1  \n",
       "       man - woman             1  \n",
       "gvc9rm creepy - non-creepy     2  \n",
       "       man - woman             2  \n",
       "\n",
       "[1000 rows x 3 columns]"
      ]
     },
     "execution_count": 247,
     "metadata": {},
     "output_type": "execute_result"
    }
   ],
   "source": [
    "topn = 1000\n",
    "\n",
    "iterables = [data_cleaned['RS_2020_self']['id'].head(topn).to_list(), ['creepy - non-creepy', 'man - woman']]\n",
    "\n",
    "index = pd.MultiIndex.from_product(iterables, names=['id', 'microframe'])\n",
    "import swifter\n",
    "df = pd.DataFrame(np.repeat(data_cleaned['RS_2020_self'][['title', 'selftext', 'score']].head(topn).values, 2, axis = 0),index=index, columns=['title', 'selftext', 'score']).head(topn).copy()\n",
    "df"
   ]
  },
  {
   "cell_type": "code",
   "execution_count": 248,
   "metadata": {},
   "outputs": [],
   "source": [
    "def v_a_apply(row):\n",
    "    if row.name[1] == \"creepy - non-creepy\":\n",
    "        return np.array(v_a_1)\n",
    "    else: \n",
    "        return np.array(v_a_2)"
   ]
  },
  {
   "cell_type": "code",
   "execution_count": 249,
   "metadata": {},
   "outputs": [
    {
     "data": {
      "text/html": [
       "<div>\n",
       "<style scoped>\n",
       "    .dataframe tbody tr th:only-of-type {\n",
       "        vertical-align: middle;\n",
       "    }\n",
       "\n",
       "    .dataframe tbody tr th {\n",
       "        vertical-align: top;\n",
       "    }\n",
       "\n",
       "    .dataframe thead th {\n",
       "        text-align: right;\n",
       "    }\n",
       "</style>\n",
       "<table border=\"1\" class=\"dataframe\">\n",
       "  <thead>\n",
       "    <tr style=\"text-align: right;\">\n",
       "      <th></th>\n",
       "      <th></th>\n",
       "      <th>title</th>\n",
       "      <th>selftext</th>\n",
       "      <th>score</th>\n",
       "      <th>v_a</th>\n",
       "    </tr>\n",
       "    <tr>\n",
       "      <th>id</th>\n",
       "      <th>microframe</th>\n",
       "      <th></th>\n",
       "      <th></th>\n",
       "      <th></th>\n",
       "      <th></th>\n",
       "    </tr>\n",
       "  </thead>\n",
       "  <tbody>\n",
       "    <tr>\n",
       "      <th rowspan=\"2\" valign=\"top\">gxsfpz</th>\n",
       "      <th>creepy - non-creepy</th>\n",
       "      <td>My older sister is moving out of country soon</td>\n",
       "      <td>We hung out a lot and I was closest to her out...</td>\n",
       "      <td>1</td>\n",
       "      <td>[-0.31623998, -0.18520999, 0.06655002, 0.31497...</td>\n",
       "    </tr>\n",
       "    <tr>\n",
       "      <th>man - woman</th>\n",
       "      <td>My older sister is moving out of country soon</td>\n",
       "      <td>We hung out a lot and I was closest to her out...</td>\n",
       "      <td>1</td>\n",
       "      <td>[0.19866699, 0.07221998, -0.186463, 0.58374, -...</td>\n",
       "    </tr>\n",
       "    <tr>\n",
       "      <th rowspan=\"2\" valign=\"top\">gxs6xf</th>\n",
       "      <th>creepy - non-creepy</th>\n",
       "      <td>Started Drawabox after like 5 months of puttin...</td>\n",
       "      <td>(still not sure what this sub is used for, so ...</td>\n",
       "      <td>1</td>\n",
       "      <td>[-0.31623998, -0.18520999, 0.06655002, 0.31497...</td>\n",
       "    </tr>\n",
       "    <tr>\n",
       "      <th>man - woman</th>\n",
       "      <td>Started Drawabox after like 5 months of puttin...</td>\n",
       "      <td>(still not sure what this sub is used for, so ...</td>\n",
       "      <td>1</td>\n",
       "      <td>[0.19866699, 0.07221998, -0.186463, 0.58374, -...</td>\n",
       "    </tr>\n",
       "    <tr>\n",
       "      <th>gxs658</th>\n",
       "      <th>creepy - non-creepy</th>\n",
       "      <td>It's my birthday today</td>\n",
       "      <td>As the title says. It's my 19th birthday and I...</td>\n",
       "      <td>1</td>\n",
       "      <td>[-0.31623998, -0.18520999, 0.06655002, 0.31497...</td>\n",
       "    </tr>\n",
       "    <tr>\n",
       "      <th>...</th>\n",
       "      <th>...</th>\n",
       "      <td>...</td>\n",
       "      <td>...</td>\n",
       "      <td>...</td>\n",
       "      <td>...</td>\n",
       "    </tr>\n",
       "    <tr>\n",
       "      <th>gvcpoy</th>\n",
       "      <th>man - woman</th>\n",
       "      <td>What are some really good ways to cope with an...</td>\n",
       "      <td>I ask this mostly towards people who have seve...</td>\n",
       "      <td>1</td>\n",
       "      <td>[0.19866699, 0.07221998, -0.186463, 0.58374, -...</td>\n",
       "    </tr>\n",
       "    <tr>\n",
       "      <th rowspan=\"2\" valign=\"top\">gvchgd</th>\n",
       "      <th>creepy - non-creepy</th>\n",
       "      <td>Any ideas for what to write on a poster for pr...</td>\n",
       "      <td>I live in the US and am going protesting in a ...</td>\n",
       "      <td>1</td>\n",
       "      <td>[-0.31623998, -0.18520999, 0.06655002, 0.31497...</td>\n",
       "    </tr>\n",
       "    <tr>\n",
       "      <th>man - woman</th>\n",
       "      <td>Any ideas for what to write on a poster for pr...</td>\n",
       "      <td>I live in the US and am going protesting in a ...</td>\n",
       "      <td>1</td>\n",
       "      <td>[0.19866699, 0.07221998, -0.186463, 0.58374, -...</td>\n",
       "    </tr>\n",
       "    <tr>\n",
       "      <th rowspan=\"2\" valign=\"top\">gvc9rm</th>\n",
       "      <th>creepy - non-creepy</th>\n",
       "      <td>I got over myself and started sharing my art o...</td>\n",
       "      <td>I picked up painting over two years ago, and d...</td>\n",
       "      <td>2</td>\n",
       "      <td>[-0.31623998, -0.18520999, 0.06655002, 0.31497...</td>\n",
       "    </tr>\n",
       "    <tr>\n",
       "      <th>man - woman</th>\n",
       "      <td>I got over myself and started sharing my art o...</td>\n",
       "      <td>I picked up painting over two years ago, and d...</td>\n",
       "      <td>2</td>\n",
       "      <td>[0.19866699, 0.07221998, -0.186463, 0.58374, -...</td>\n",
       "    </tr>\n",
       "  </tbody>\n",
       "</table>\n",
       "<p>1000 rows × 4 columns</p>\n",
       "</div>"
      ],
      "text/plain": [
       "                                                                        title  \\\n",
       "id     microframe                                                               \n",
       "gxsfpz creepy - non-creepy      My older sister is moving out of country soon   \n",
       "       man - woman              My older sister is moving out of country soon   \n",
       "gxs6xf creepy - non-creepy  Started Drawabox after like 5 months of puttin...   \n",
       "       man - woman          Started Drawabox after like 5 months of puttin...   \n",
       "gxs658 creepy - non-creepy                             It's my birthday today   \n",
       "...                                                                       ...   \n",
       "gvcpoy man - woman          What are some really good ways to cope with an...   \n",
       "gvchgd creepy - non-creepy  Any ideas for what to write on a poster for pr...   \n",
       "       man - woman          Any ideas for what to write on a poster for pr...   \n",
       "gvc9rm creepy - non-creepy  I got over myself and started sharing my art o...   \n",
       "       man - woman          I got over myself and started sharing my art o...   \n",
       "\n",
       "                                                                     selftext  \\\n",
       "id     microframe                                                               \n",
       "gxsfpz creepy - non-creepy  We hung out a lot and I was closest to her out...   \n",
       "       man - woman          We hung out a lot and I was closest to her out...   \n",
       "gxs6xf creepy - non-creepy  (still not sure what this sub is used for, so ...   \n",
       "       man - woman          (still not sure what this sub is used for, so ...   \n",
       "gxs658 creepy - non-creepy  As the title says. It's my 19th birthday and I...   \n",
       "...                                                                       ...   \n",
       "gvcpoy man - woman          I ask this mostly towards people who have seve...   \n",
       "gvchgd creepy - non-creepy  I live in the US and am going protesting in a ...   \n",
       "       man - woman          I live in the US and am going protesting in a ...   \n",
       "gvc9rm creepy - non-creepy  I picked up painting over two years ago, and d...   \n",
       "       man - woman          I picked up painting over two years ago, and d...   \n",
       "\n",
       "                           score  \\\n",
       "id     microframe                  \n",
       "gxsfpz creepy - non-creepy     1   \n",
       "       man - woman             1   \n",
       "gxs6xf creepy - non-creepy     1   \n",
       "       man - woman             1   \n",
       "gxs658 creepy - non-creepy     1   \n",
       "...                          ...   \n",
       "gvcpoy man - woman             1   \n",
       "gvchgd creepy - non-creepy     1   \n",
       "       man - woman             1   \n",
       "gvc9rm creepy - non-creepy     2   \n",
       "       man - woman             2   \n",
       "\n",
       "                                                                          v_a  \n",
       "id     microframe                                                              \n",
       "gxsfpz creepy - non-creepy  [-0.31623998, -0.18520999, 0.06655002, 0.31497...  \n",
       "       man - woman          [0.19866699, 0.07221998, -0.186463, 0.58374, -...  \n",
       "gxs6xf creepy - non-creepy  [-0.31623998, -0.18520999, 0.06655002, 0.31497...  \n",
       "       man - woman          [0.19866699, 0.07221998, -0.186463, 0.58374, -...  \n",
       "gxs658 creepy - non-creepy  [-0.31623998, -0.18520999, 0.06655002, 0.31497...  \n",
       "...                                                                       ...  \n",
       "gvcpoy man - woman          [0.19866699, 0.07221998, -0.186463, 0.58374, -...  \n",
       "gvchgd creepy - non-creepy  [-0.31623998, -0.18520999, 0.06655002, 0.31497...  \n",
       "       man - woman          [0.19866699, 0.07221998, -0.186463, 0.58374, -...  \n",
       "gvc9rm creepy - non-creepy  [-0.31623998, -0.18520999, 0.06655002, 0.31497...  \n",
       "       man - woman          [0.19866699, 0.07221998, -0.186463, 0.58374, -...  \n",
       "\n",
       "[1000 rows x 4 columns]"
      ]
     },
     "execution_count": 249,
     "metadata": {},
     "output_type": "execute_result"
    }
   ],
   "source": [
    "df['v_a'] = df.apply(v_a_apply, axis=1)\n",
    "df"
   ]
  },
  {
   "cell_type": "code",
   "execution_count": 250,
   "metadata": {},
   "outputs": [],
   "source": [
    "import spacy\n",
    "from sklearn.metrics.pairwise import cosine_similarity\n",
    "nlp = spacy.load(\"en_core_web_lg\")\n",
    "    \n",
    "def bias(row):\n",
    "    # --- Calculate GloVe embeddings\n",
    "    doc = nlp(row['selftext'])\n",
    "\n",
    "    # doc_li is a list of tuples, where each tuple is (word, GloVe embedding)\n",
    "    doc_li = []\n",
    "    for token in doc:\n",
    "        doc_li.append((token.text, glove[token.text]))\n",
    "        \n",
    "    # --- Calculate B\n",
    "    denom_B = 0\n",
    "    for word, emb in dict(doc_li).items():\n",
    "        c = cosine_similarity(emb.reshape(1,-1), row['v_a'].reshape(1,-1)).item()\n",
    "        f = [i[0] for i in doc_li].count(word)\n",
    "        denom_B += f*c\n",
    "\n",
    "    B = denom_B / len(doc_li)\n",
    "    return B\n",
    "\n",
    "\n",
    "def intensity(row):\n",
    "    doc = nlp(row['selftext'])\n",
    "\n",
    "    # doc_li is a list of tuples, where each tuple is (word, GloVe embedding)\n",
    "    doc_li = []\n",
    "    for token in doc:\n",
    "        doc_li.append((token.text, glove[token.text]))\n",
    "\n",
    "    # --- Calculate I\n",
    "    denom_I = 0\n",
    "    for word, emb in dict(doc_li).items():\n",
    "        f = [i[0] for i in doc_li].count(word)\n",
    "        c = cosine_similarity(emb.reshape(1,-1), row['v_a'].reshape(1,-1)).item()\n",
    "        denom_I += f*(c - row['B'])**2\n",
    "\n",
    "    I = denom_I / len(doc_li)\n",
    "    return I"
   ]
  },
  {
   "cell_type": "code",
   "execution_count": 251,
   "metadata": {},
   "outputs": [],
   "source": [
    "from tqdm import tqdm\n",
    "tqdm.pandas()"
   ]
  },
  {
   "cell_type": "code",
   "execution_count": 252,
   "metadata": {},
   "outputs": [
    {
     "name": "stderr",
     "output_type": "stream",
     "text": [
      "100%|██████████| 1000/1000 [00:47<00:00, 20.84it/s]\n"
     ]
    }
   ],
   "source": [
    "df['B'] = df.progress_apply(bias, axis = 1)"
   ]
  },
  {
   "cell_type": "code",
   "execution_count": 253,
   "metadata": {},
   "outputs": [
    {
     "name": "stderr",
     "output_type": "stream",
     "text": [
      "100%|██████████| 1000/1000 [00:47<00:00, 20.93it/s]\n"
     ]
    }
   ],
   "source": [
    "df['I'] = df.progress_apply(intensity, axis = 1)"
   ]
  },
  {
   "cell_type": "code",
   "execution_count": 261,
   "metadata": {},
   "outputs": [
    {
     "data": {
      "text/plain": [
       "-0.2677257756392161"
      ]
     },
     "execution_count": 261,
     "metadata": {},
     "output_type": "execute_result"
    }
   ],
   "source": [
    "df['B'].min()"
   ]
  },
  {
   "cell_type": "code",
   "execution_count": 258,
   "metadata": {},
   "outputs": [
    {
     "data": {
      "text/html": [
       "<div>\n",
       "<style scoped>\n",
       "    .dataframe tbody tr th:only-of-type {\n",
       "        vertical-align: middle;\n",
       "    }\n",
       "\n",
       "    .dataframe tbody tr th {\n",
       "        vertical-align: top;\n",
       "    }\n",
       "\n",
       "    .dataframe thead th {\n",
       "        text-align: right;\n",
       "    }\n",
       "</style>\n",
       "<table border=\"1\" class=\"dataframe\">\n",
       "  <thead>\n",
       "    <tr style=\"text-align: right;\">\n",
       "      <th></th>\n",
       "      <th>B</th>\n",
       "      <th>I</th>\n",
       "    </tr>\n",
       "    <tr>\n",
       "      <th>microframe</th>\n",
       "      <th></th>\n",
       "      <th></th>\n",
       "    </tr>\n",
       "  </thead>\n",
       "  <tbody>\n",
       "    <tr>\n",
       "      <th>creepy - non-creepy</th>\n",
       "      <td>-0.184740</td>\n",
       "      <td>0.004282</td>\n",
       "    </tr>\n",
       "    <tr>\n",
       "      <th>man - woman</th>\n",
       "      <td>-0.017204</td>\n",
       "      <td>0.003647</td>\n",
       "    </tr>\n",
       "  </tbody>\n",
       "</table>\n",
       "</div>"
      ],
      "text/plain": [
       "                            B         I\n",
       "microframe                             \n",
       "creepy - non-creepy -0.184740  0.004282\n",
       "man - woman         -0.017204  0.003647"
      ]
     },
     "execution_count": 258,
     "metadata": {},
     "output_type": "execute_result"
    }
   ],
   "source": [
    "df.groupby(level=1).mean(['B','I'])"
   ]
  },
  {
   "cell_type": "code",
   "execution_count": 259,
   "metadata": {},
   "outputs": [
    {
     "data": {
      "text/html": [
       "<div>\n",
       "<style scoped>\n",
       "    .dataframe tbody tr th:only-of-type {\n",
       "        vertical-align: middle;\n",
       "    }\n",
       "\n",
       "    .dataframe tbody tr th {\n",
       "        vertical-align: top;\n",
       "    }\n",
       "\n",
       "    .dataframe thead th {\n",
       "        text-align: right;\n",
       "    }\n",
       "</style>\n",
       "<table border=\"1\" class=\"dataframe\">\n",
       "  <thead>\n",
       "    <tr style=\"text-align: right;\">\n",
       "      <th></th>\n",
       "      <th></th>\n",
       "      <th>title</th>\n",
       "      <th>selftext</th>\n",
       "      <th>score</th>\n",
       "      <th>v_a</th>\n",
       "      <th>B</th>\n",
       "      <th>I</th>\n",
       "    </tr>\n",
       "    <tr>\n",
       "      <th>id</th>\n",
       "      <th>microframe</th>\n",
       "      <th></th>\n",
       "      <th></th>\n",
       "      <th></th>\n",
       "      <th></th>\n",
       "      <th></th>\n",
       "      <th></th>\n",
       "    </tr>\n",
       "  </thead>\n",
       "  <tbody>\n",
       "    <tr>\n",
       "      <th rowspan=\"2\" valign=\"top\">gxsfpz</th>\n",
       "      <th>creepy - non-creepy</th>\n",
       "      <td>My older sister is moving out of country soon</td>\n",
       "      <td>We hung out a lot and I was closest to her out...</td>\n",
       "      <td>1</td>\n",
       "      <td>[-0.31623998, -0.18520999, 0.06655002, 0.31497...</td>\n",
       "      <td>-0.209010</td>\n",
       "      <td>0.002355</td>\n",
       "    </tr>\n",
       "    <tr>\n",
       "      <th>man - woman</th>\n",
       "      <td>My older sister is moving out of country soon</td>\n",
       "      <td>We hung out a lot and I was closest to her out...</td>\n",
       "      <td>1</td>\n",
       "      <td>[0.19866699, 0.07221998, -0.186463, 0.58374, -...</td>\n",
       "      <td>0.005989</td>\n",
       "      <td>0.008664</td>\n",
       "    </tr>\n",
       "    <tr>\n",
       "      <th rowspan=\"2\" valign=\"top\">gxs6xf</th>\n",
       "      <th>creepy - non-creepy</th>\n",
       "      <td>Started Drawabox after like 5 months of puttin...</td>\n",
       "      <td>(still not sure what this sub is used for, so ...</td>\n",
       "      <td>1</td>\n",
       "      <td>[-0.31623998, -0.18520999, 0.06655002, 0.31497...</td>\n",
       "      <td>-0.170364</td>\n",
       "      <td>0.005717</td>\n",
       "    </tr>\n",
       "    <tr>\n",
       "      <th>man - woman</th>\n",
       "      <td>Started Drawabox after like 5 months of puttin...</td>\n",
       "      <td>(still not sure what this sub is used for, so ...</td>\n",
       "      <td>1</td>\n",
       "      <td>[0.19866699, 0.07221998, -0.186463, 0.58374, -...</td>\n",
       "      <td>-0.024467</td>\n",
       "      <td>0.001907</td>\n",
       "    </tr>\n",
       "    <tr>\n",
       "      <th>gxs658</th>\n",
       "      <th>creepy - non-creepy</th>\n",
       "      <td>It's my birthday today</td>\n",
       "      <td>As the title says. It's my 19th birthday and I...</td>\n",
       "      <td>1</td>\n",
       "      <td>[-0.31623998, -0.18520999, 0.06655002, 0.31497...</td>\n",
       "      <td>-0.195810</td>\n",
       "      <td>0.003534</td>\n",
       "    </tr>\n",
       "    <tr>\n",
       "      <th>...</th>\n",
       "      <th>...</th>\n",
       "      <td>...</td>\n",
       "      <td>...</td>\n",
       "      <td>...</td>\n",
       "      <td>...</td>\n",
       "      <td>...</td>\n",
       "      <td>...</td>\n",
       "    </tr>\n",
       "    <tr>\n",
       "      <th>gvcpoy</th>\n",
       "      <th>man - woman</th>\n",
       "      <td>What are some really good ways to cope with an...</td>\n",
       "      <td>I ask this mostly towards people who have seve...</td>\n",
       "      <td>1</td>\n",
       "      <td>[0.19866699, 0.07221998, -0.186463, 0.58374, -...</td>\n",
       "      <td>0.007790</td>\n",
       "      <td>0.007326</td>\n",
       "    </tr>\n",
       "    <tr>\n",
       "      <th rowspan=\"2\" valign=\"top\">gvchgd</th>\n",
       "      <th>creepy - non-creepy</th>\n",
       "      <td>Any ideas for what to write on a poster for pr...</td>\n",
       "      <td>I live in the US and am going protesting in a ...</td>\n",
       "      <td>1</td>\n",
       "      <td>[-0.31623998, -0.18520999, 0.06655002, 0.31497...</td>\n",
       "      <td>-0.196011</td>\n",
       "      <td>0.001836</td>\n",
       "    </tr>\n",
       "    <tr>\n",
       "      <th>man - woman</th>\n",
       "      <td>Any ideas for what to write on a poster for pr...</td>\n",
       "      <td>I live in the US and am going protesting in a ...</td>\n",
       "      <td>1</td>\n",
       "      <td>[0.19866699, 0.07221998, -0.186463, 0.58374, -...</td>\n",
       "      <td>-0.021439</td>\n",
       "      <td>0.002024</td>\n",
       "    </tr>\n",
       "    <tr>\n",
       "      <th rowspan=\"2\" valign=\"top\">gvc9rm</th>\n",
       "      <th>creepy - non-creepy</th>\n",
       "      <td>I got over myself and started sharing my art o...</td>\n",
       "      <td>I picked up painting over two years ago, and d...</td>\n",
       "      <td>2</td>\n",
       "      <td>[-0.31623998, -0.18520999, 0.06655002, 0.31497...</td>\n",
       "      <td>-0.187010</td>\n",
       "      <td>0.004767</td>\n",
       "    </tr>\n",
       "    <tr>\n",
       "      <th>man - woman</th>\n",
       "      <td>I got over myself and started sharing my art o...</td>\n",
       "      <td>I picked up painting over two years ago, and d...</td>\n",
       "      <td>2</td>\n",
       "      <td>[0.19866699, 0.07221998, -0.186463, 0.58374, -...</td>\n",
       "      <td>-0.017403</td>\n",
       "      <td>0.002508</td>\n",
       "    </tr>\n",
       "  </tbody>\n",
       "</table>\n",
       "<p>1000 rows × 6 columns</p>\n",
       "</div>"
      ],
      "text/plain": [
       "                                                                        title  \\\n",
       "id     microframe                                                               \n",
       "gxsfpz creepy - non-creepy      My older sister is moving out of country soon   \n",
       "       man - woman              My older sister is moving out of country soon   \n",
       "gxs6xf creepy - non-creepy  Started Drawabox after like 5 months of puttin...   \n",
       "       man - woman          Started Drawabox after like 5 months of puttin...   \n",
       "gxs658 creepy - non-creepy                             It's my birthday today   \n",
       "...                                                                       ...   \n",
       "gvcpoy man - woman          What are some really good ways to cope with an...   \n",
       "gvchgd creepy - non-creepy  Any ideas for what to write on a poster for pr...   \n",
       "       man - woman          Any ideas for what to write on a poster for pr...   \n",
       "gvc9rm creepy - non-creepy  I got over myself and started sharing my art o...   \n",
       "       man - woman          I got over myself and started sharing my art o...   \n",
       "\n",
       "                                                                     selftext  \\\n",
       "id     microframe                                                               \n",
       "gxsfpz creepy - non-creepy  We hung out a lot and I was closest to her out...   \n",
       "       man - woman          We hung out a lot and I was closest to her out...   \n",
       "gxs6xf creepy - non-creepy  (still not sure what this sub is used for, so ...   \n",
       "       man - woman          (still not sure what this sub is used for, so ...   \n",
       "gxs658 creepy - non-creepy  As the title says. It's my 19th birthday and I...   \n",
       "...                                                                       ...   \n",
       "gvcpoy man - woman          I ask this mostly towards people who have seve...   \n",
       "gvchgd creepy - non-creepy  I live in the US and am going protesting in a ...   \n",
       "       man - woman          I live in the US and am going protesting in a ...   \n",
       "gvc9rm creepy - non-creepy  I picked up painting over two years ago, and d...   \n",
       "       man - woman          I picked up painting over two years ago, and d...   \n",
       "\n",
       "                           score  \\\n",
       "id     microframe                  \n",
       "gxsfpz creepy - non-creepy     1   \n",
       "       man - woman             1   \n",
       "gxs6xf creepy - non-creepy     1   \n",
       "       man - woman             1   \n",
       "gxs658 creepy - non-creepy     1   \n",
       "...                          ...   \n",
       "gvcpoy man - woman             1   \n",
       "gvchgd creepy - non-creepy     1   \n",
       "       man - woman             1   \n",
       "gvc9rm creepy - non-creepy     2   \n",
       "       man - woman             2   \n",
       "\n",
       "                                                                          v_a  \\\n",
       "id     microframe                                                               \n",
       "gxsfpz creepy - non-creepy  [-0.31623998, -0.18520999, 0.06655002, 0.31497...   \n",
       "       man - woman          [0.19866699, 0.07221998, -0.186463, 0.58374, -...   \n",
       "gxs6xf creepy - non-creepy  [-0.31623998, -0.18520999, 0.06655002, 0.31497...   \n",
       "       man - woman          [0.19866699, 0.07221998, -0.186463, 0.58374, -...   \n",
       "gxs658 creepy - non-creepy  [-0.31623998, -0.18520999, 0.06655002, 0.31497...   \n",
       "...                                                                       ...   \n",
       "gvcpoy man - woman          [0.19866699, 0.07221998, -0.186463, 0.58374, -...   \n",
       "gvchgd creepy - non-creepy  [-0.31623998, -0.18520999, 0.06655002, 0.31497...   \n",
       "       man - woman          [0.19866699, 0.07221998, -0.186463, 0.58374, -...   \n",
       "gvc9rm creepy - non-creepy  [-0.31623998, -0.18520999, 0.06655002, 0.31497...   \n",
       "       man - woman          [0.19866699, 0.07221998, -0.186463, 0.58374, -...   \n",
       "\n",
       "                                   B         I  \n",
       "id     microframe                               \n",
       "gxsfpz creepy - non-creepy -0.209010  0.002355  \n",
       "       man - woman          0.005989  0.008664  \n",
       "gxs6xf creepy - non-creepy -0.170364  0.005717  \n",
       "       man - woman         -0.024467  0.001907  \n",
       "gxs658 creepy - non-creepy -0.195810  0.003534  \n",
       "...                              ...       ...  \n",
       "gvcpoy man - woman          0.007790  0.007326  \n",
       "gvchgd creepy - non-creepy -0.196011  0.001836  \n",
       "       man - woman         -0.021439  0.002024  \n",
       "gvc9rm creepy - non-creepy -0.187010  0.004767  \n",
       "       man - woman         -0.017403  0.002508  \n",
       "\n",
       "[1000 rows x 6 columns]"
      ]
     },
     "execution_count": 259,
     "metadata": {},
     "output_type": "execute_result"
    }
   ],
   "source": [
    "df"
   ]
  },
  {
   "cell_type": "code",
   "execution_count": null,
   "metadata": {},
   "outputs": [],
   "source": []
  }
 ],
 "metadata": {
  "kernelspec": {
   "display_name": "creepy-venv",
   "language": "python",
   "name": "creepy-venv"
  },
  "language_info": {
   "codemirror_mode": {
    "name": "ipython",
    "version": 3
   },
   "file_extension": ".py",
   "mimetype": "text/x-python",
   "name": "python",
   "nbconvert_exporter": "python",
   "pygments_lexer": "ipython3",
   "version": "3.8.5"
  }
 },
 "nbformat": 4,
 "nbformat_minor": 4
}
