{
 "cells": [
  {
   "cell_type": "markdown",
   "metadata": {},
   "source": [
    "import data"
   ]
  },
  {
   "cell_type": "code",
   "execution_count": 1,
   "metadata": {},
   "outputs": [],
   "source": [
    "import pickle\n",
    "with open('./Download/data_cleaned.pickle', 'rb') as handle:\n",
    "    data_cleaned = pickle.load(handle)"
   ]
  },
  {
   "cell_type": "code",
   "execution_count": 2,
   "metadata": {},
   "outputs": [],
   "source": [
    "nosleep2020 = data_cleaned['RS_2020_nosleep']"
   ]
  },
  {
   "cell_type": "code",
   "execution_count": 3,
   "metadata": {},
   "outputs": [],
   "source": [
    "confessions2020 = data_cleaned['RS_2020_confessions']"
   ]
  },
  {
   "cell_type": "code",
   "execution_count": 4,
   "metadata": {},
   "outputs": [
    {
     "name": "stdout",
     "output_type": "stream",
     "text": [
      "Num GPUs Available:  1\n"
     ]
    }
   ],
   "source": [
    "import tensorflow as tf\n",
    "print(\"Num GPUs Available: \", len(tf.config.experimental.list_physical_devices('GPU')))"
   ]
  },
  {
   "cell_type": "code",
   "execution_count": 5,
   "metadata": {},
   "outputs": [],
   "source": [
    "import tensorflow as tf\n",
    "from tensorflow.keras.models import Sequential\n",
    "from tensorflow.keras.layers import Dense, Dropout, LSTM, Flatten\n",
    "from tqdm.notebook import tqdm\n",
    "import swifter\n",
    "import pandas as pd\n",
    "import numpy as np"
   ]
  },
  {
   "cell_type": "code",
   "execution_count": 6,
   "metadata": {},
   "outputs": [],
   "source": [
    "def LSTMlastLayer(row):\n",
    "    import spacy\n",
    "    from sentence_transformers import SentenceTransformer, util\n",
    "    import torch\n",
    "    import numpy as np\n",
    "    spacy.prefer_gpu()\n",
    "    \n",
    "    nlp = spacy.load(\"en_core_web_lg\")\n",
    "    doc = nlp(row)\n",
    "    \n",
    "    embedder = SentenceTransformer('distilbert-base-nli-stsb-mean-tokens')\n",
    "\n",
    "    sents = [sent.text for sent in doc.sents]\n",
    "    # encode gives shape (# of sents, 768,)\n",
    "    data = embedder.encode(sents)\n",
    "    # reshape the data to shape (# of sents, 768, 1)\n",
    "    data = data.reshape(data.shape[0],data.shape[1],-1)\n",
    "    \n",
    "    LSTMmodel = Sequential([\n",
    "        LSTM(768, input_shape = data.shape[1:], return_sequences = True),\n",
    "        Dropout(0.1),\n",
    "        LSTM(768),\n",
    "        Dropout(0.1, name=\"lastLayer\")\n",
    "    ])\n",
    "\n",
    "    intermediate_layer_model = tf.keras.Model(inputs=LSTMmodel.input,\n",
    "                                     outputs=LSTMmodel.get_layer('lastLayer').output)\n",
    "    intermediate_output = intermediate_layer_model.predict(data)\n",
    "    \n",
    "    return np.average(intermediate_output,axis=0)"
   ]
  },
  {
   "cell_type": "code",
   "execution_count": 7,
   "metadata": {},
   "outputs": [],
   "source": [
    "import tensorflow as tf\n",
    "physical_devices = tf.config.list_physical_devices('GPU')\n",
    "tf.config.experimental.set_memory_growth(physical_devices[0], enable=True)"
   ]
  },
  {
   "cell_type": "code",
   "execution_count": 8,
   "metadata": {},
   "outputs": [
    {
     "data": {
      "application/vnd.jupyter.widget-view+json": {
       "model_id": "13b4cae4eb0d4646b62cd499bcb2dcbc",
       "version_major": 2,
       "version_minor": 0
      },
      "text/plain": [
       "HBox(children=(HTML(value='Pandas Apply'), FloatProgress(value=0.0, max=5.0), HTML(value='')))"
      ]
     },
     "metadata": {},
     "output_type": "display_data"
    },
    {
     "name": "stdout",
     "output_type": "stream",
     "text": [
      "\n"
     ]
    },
    {
     "data": {
      "text/plain": [
       "0    [-0.00046038005, -0.00034187164, 0.0007914177,...\n",
       "1    [-0.00034174538, 0.00035388497, 0.0005596879, ...\n",
       "3    [0.00024171697, 0.00014909534, 0.00020795027, ...\n",
       "5    [-7.931058e-05, 8.217732e-05, -1.1163004e-05, ...\n",
       "6    [-0.00042569393, 0.0009215654, 0.00041509923, ...\n",
       "Name: selftext, dtype: object"
      ]
     },
     "execution_count": 8,
     "metadata": {},
     "output_type": "execute_result"
    }
   ],
   "source": [
    "nosleep2020.head().selftext.swifter.progress_bar(enable=True).apply(LSTMlastLayer)"
   ]
  },
  {
   "cell_type": "code",
   "execution_count": 9,
   "metadata": {},
   "outputs": [],
   "source": [
    "from util import release_vram\n",
    "release_vram()"
   ]
  },
  {
   "cell_type": "code",
   "execution_count": null,
   "metadata": {},
   "outputs": [],
   "source": [
    "nosleep2020['LSTMvec'] = nosleep2020.selftext.swifter.progress_bar(enable=True).apply(LSTMlastLayer)"
   ]
  },
  {
   "cell_type": "code",
   "execution_count": 10,
   "metadata": {},
   "outputs": [
    {
     "data": {
      "text/html": [
       "<div>\n",
       "<style scoped>\n",
       "    .dataframe tbody tr th:only-of-type {\n",
       "        vertical-align: middle;\n",
       "    }\n",
       "\n",
       "    .dataframe tbody tr th {\n",
       "        vertical-align: top;\n",
       "    }\n",
       "\n",
       "    .dataframe thead th {\n",
       "        text-align: right;\n",
       "    }\n",
       "</style>\n",
       "<table border=\"1\" class=\"dataframe\">\n",
       "  <thead>\n",
       "    <tr style=\"text-align: right;\">\n",
       "      <th></th>\n",
       "      <th>id</th>\n",
       "      <th>title</th>\n",
       "      <th>selftext</th>\n",
       "      <th>score</th>\n",
       "      <th>title_language</th>\n",
       "      <th>selftext_language</th>\n",
       "    </tr>\n",
       "  </thead>\n",
       "  <tbody>\n",
       "    <tr>\n",
       "      <th>0</th>\n",
       "      <td>gxsa0i</td>\n",
       "      <td>Do NOT Open Your Eyes... (Pt. 1)</td>\n",
       "      <td>This is the only rule of our household. If you...</td>\n",
       "      <td>1</td>\n",
       "      <td>en</td>\n",
       "      <td>en</td>\n",
       "    </tr>\n",
       "    <tr>\n",
       "      <th>1</th>\n",
       "      <td>gxs6jf</td>\n",
       "      <td>Do NOT open your eyes. (The Beginning)</td>\n",
       "      <td>This is the only rule of our household. If you...</td>\n",
       "      <td>1</td>\n",
       "      <td>en</td>\n",
       "      <td>en</td>\n",
       "    </tr>\n",
       "    <tr>\n",
       "      <th>3</th>\n",
       "      <td>gxrytp</td>\n",
       "      <td>My Best Friend Saw Bugs Under His Skin</td>\n",
       "      <td>It is hard for me to talk about my old friend ...</td>\n",
       "      <td>1</td>\n",
       "      <td>de</td>\n",
       "      <td>en</td>\n",
       "    </tr>\n",
       "    <tr>\n",
       "      <th>5</th>\n",
       "      <td>gxrnj7</td>\n",
       "      <td>I picked up a hitchhiker by mistake, now he's ...</td>\n",
       "      <td>They say the devil is in the details.  Well th...</td>\n",
       "      <td>1</td>\n",
       "      <td>en</td>\n",
       "      <td>en</td>\n",
       "    </tr>\n",
       "    <tr>\n",
       "      <th>6</th>\n",
       "      <td>gxrm8v</td>\n",
       "      <td>I'm tasked with killing nameless things out in...</td>\n",
       "      <td>\"Any sign of 'em yet?\" \\n\\nI continued staring...</td>\n",
       "      <td>1</td>\n",
       "      <td>en</td>\n",
       "      <td>en</td>\n",
       "    </tr>\n",
       "    <tr>\n",
       "      <th>...</th>\n",
       "      <td>...</td>\n",
       "      <td>...</td>\n",
       "      <td>...</td>\n",
       "      <td>...</td>\n",
       "      <td>...</td>\n",
       "      <td>...</td>\n",
       "    </tr>\n",
       "    <tr>\n",
       "      <th>21218</th>\n",
       "      <td>eihp0m</td>\n",
       "      <td>Hylophobia</td>\n",
       "      <td>*There is no cure for trauma. Once it enters t...</td>\n",
       "      <td>1</td>\n",
       "      <td>vi</td>\n",
       "      <td>en</td>\n",
       "    </tr>\n",
       "    <tr>\n",
       "      <th>21219</th>\n",
       "      <td>eihmg7</td>\n",
       "      <td>I adopted my late sisters orphaned child. This...</td>\n",
       "      <td>I knew Persephone would need time to adjust, b...</td>\n",
       "      <td>1</td>\n",
       "      <td>en</td>\n",
       "      <td>en</td>\n",
       "    </tr>\n",
       "    <tr>\n",
       "      <th>21221</th>\n",
       "      <td>eihgtp</td>\n",
       "      <td>My first paranormal experience!!</td>\n",
       "      <td>This isnt much, but this is surely the first u...</td>\n",
       "      <td>1</td>\n",
       "      <td>en</td>\n",
       "      <td>en</td>\n",
       "    </tr>\n",
       "    <tr>\n",
       "      <th>21223</th>\n",
       "      <td>eigzgj</td>\n",
       "      <td>I met the demon under my bed... Its not what I...</td>\n",
       "      <td>Okay. for context, this story started about a ...</td>\n",
       "      <td>1</td>\n",
       "      <td>en</td>\n",
       "      <td>en</td>\n",
       "    </tr>\n",
       "    <tr>\n",
       "      <th>21225</th>\n",
       "      <td>eiggxr</td>\n",
       "      <td>The Perfect Wife</td>\n",
       "      <td>I  was never able to find love, therefore I ne...</td>\n",
       "      <td>1</td>\n",
       "      <td>en</td>\n",
       "      <td>en</td>\n",
       "    </tr>\n",
       "  </tbody>\n",
       "</table>\n",
       "<p>15426 rows × 6 columns</p>\n",
       "</div>"
      ],
      "text/plain": [
       "           id                                              title  \\\n",
       "0      gxsa0i                   Do NOT Open Your Eyes... (Pt. 1)   \n",
       "1      gxs6jf             Do NOT open your eyes. (The Beginning)   \n",
       "3      gxrytp             My Best Friend Saw Bugs Under His Skin   \n",
       "5      gxrnj7  I picked up a hitchhiker by mistake, now he's ...   \n",
       "6      gxrm8v  I'm tasked with killing nameless things out in...   \n",
       "...       ...                                                ...   \n",
       "21218  eihp0m                                         Hylophobia   \n",
       "21219  eihmg7  I adopted my late sisters orphaned child. This...   \n",
       "21221  eihgtp                   My first paranormal experience!!   \n",
       "21223  eigzgj  I met the demon under my bed... Its not what I...   \n",
       "21225  eiggxr                                   The Perfect Wife   \n",
       "\n",
       "                                                selftext  score  \\\n",
       "0      This is the only rule of our household. If you...      1   \n",
       "1      This is the only rule of our household. If you...      1   \n",
       "3      It is hard for me to talk about my old friend ...      1   \n",
       "5      They say the devil is in the details.  Well th...      1   \n",
       "6      \"Any sign of 'em yet?\" \\n\\nI continued staring...      1   \n",
       "...                                                  ...    ...   \n",
       "21218  *There is no cure for trauma. Once it enters t...      1   \n",
       "21219  I knew Persephone would need time to adjust, b...      1   \n",
       "21221  This isnt much, but this is surely the first u...      1   \n",
       "21223  Okay. for context, this story started about a ...      1   \n",
       "21225  I  was never able to find love, therefore I ne...      1   \n",
       "\n",
       "      title_language selftext_language  \n",
       "0                 en                en  \n",
       "1                 en                en  \n",
       "3                 de                en  \n",
       "5                 en                en  \n",
       "6                 en                en  \n",
       "...              ...               ...  \n",
       "21218             vi                en  \n",
       "21219             en                en  \n",
       "21221             en                en  \n",
       "21223             en                en  \n",
       "21225             en                en  \n",
       "\n",
       "[15426 rows x 6 columns]"
      ]
     },
     "execution_count": 10,
     "metadata": {},
     "output_type": "execute_result"
    }
   ],
   "source": [
    "nosleep2020"
   ]
  },
  {
   "cell_type": "code",
   "execution_count": null,
   "metadata": {},
   "outputs": [],
   "source": []
  },
  {
   "cell_type": "code",
   "execution_count": null,
   "metadata": {},
   "outputs": [],
   "source": []
  },
  {
   "cell_type": "code",
   "execution_count": null,
   "metadata": {},
   "outputs": [],
   "source": []
  },
  {
   "cell_type": "code",
   "execution_count": null,
   "metadata": {},
   "outputs": [],
   "source": []
  },
  {
   "cell_type": "code",
   "execution_count": null,
   "metadata": {},
   "outputs": [],
   "source": []
  },
  {
   "cell_type": "code",
   "execution_count": null,
   "metadata": {},
   "outputs": [],
   "source": []
  },
  {
   "cell_type": "code",
   "execution_count": null,
   "metadata": {},
   "outputs": [],
   "source": []
  }
 ],
 "metadata": {
  "kernelspec": {
   "display_name": "creepy-venv",
   "language": "python",
   "name": "creepy-venv"
  },
  "language_info": {
   "codemirror_mode": {
    "name": "ipython",
    "version": 3
   },
   "file_extension": ".py",
   "mimetype": "text/x-python",
   "name": "python",
   "nbconvert_exporter": "python",
   "pygments_lexer": "ipython3",
   "version": "3.8.5"
  }
 },
 "nbformat": 4,
 "nbformat_minor": 4
}
