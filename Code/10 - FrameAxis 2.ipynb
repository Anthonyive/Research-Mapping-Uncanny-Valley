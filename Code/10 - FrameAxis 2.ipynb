{
 "cells": [
  {
   "cell_type": "markdown",
   "metadata": {},
   "source": [
    "# FrameAxis analysis for r/self and r/nosleep"
   ]
  },
  {
   "cell_type": "code",
   "execution_count": 1,
   "metadata": {},
   "outputs": [
    {
     "name": "stdout",
     "output_type": "stream",
     "text": [
      "Num GPUs Available:  1\n"
     ]
    }
   ],
   "source": [
    "import tensorflow as tf\n",
    "physical_devices = tf.config.list_physical_devices('GPU')\n",
    "tf.config.experimental.set_memory_growth(physical_devices[0], enable=True)\n",
    "print(\"Num GPUs Available: \", len(physical_devices))"
   ]
  },
  {
   "cell_type": "code",
   "execution_count": 2,
   "metadata": {},
   "outputs": [],
   "source": [
    "import pickle\n",
    "with open('./Download/data_cleaned.pickle', 'rb') as handle:\n",
    "    data_cleaned = pickle.load(handle)"
   ]
  },
  {
   "cell_type": "markdown",
   "metadata": {},
   "source": [
    "# 1. Building a Set of Microframes"
   ]
  },
  {
   "cell_type": "code",
   "execution_count": 3,
   "metadata": {},
   "outputs": [
    {
     "name": "stderr",
     "output_type": "stream",
     "text": [
      "[nltk_data] Downloading package wordnet to /home/anthony/nltk_data...\n",
      "[nltk_data]   Package wordnet is already up-to-date!\n",
      "[nltk_data] Downloading package punkt to /home/anthony/nltk_data...\n",
      "[nltk_data]   Package punkt is already up-to-date!\n"
     ]
    },
    {
     "data": {
      "text/plain": [
       "True"
      ]
     },
     "execution_count": 3,
     "metadata": {},
     "output_type": "execute_result"
    }
   ],
   "source": [
    "import nltk\n",
    "from nltk.corpus import wordnet as wn\n",
    "nltk.download('wordnet')\n",
    "nltk.download('punkt')"
   ]
  },
  {
   "cell_type": "markdown",
   "metadata": {},
   "source": [
    "### Show all antonyms in WordNet:"
   ]
  },
  {
   "cell_type": "code",
   "execution_count": 4,
   "metadata": {},
   "outputs": [],
   "source": [
    "from nltk.corpus import wordnet as wn\n",
    "\n",
    "def antonyms_for(word):\n",
    "    antonyms = set()\n",
    "    for ss in wn.synsets(word):\n",
    "        for lemma in ss.lemmas():\n",
    "            any_pos_antonyms = [ antonym.name() for antonym in lemma.antonyms() ]\n",
    "            for antonym in any_pos_antonyms:\n",
    "                antonym_synsets = wn.synsets(antonym)\n",
    "                if wn.ADJ not in [ ss.pos() for ss in antonym_synsets ]:\n",
    "                    continue\n",
    "                antonyms.add(antonym)\n",
    "    return antonyms"
   ]
  },
  {
   "cell_type": "code",
   "execution_count": 5,
   "metadata": {},
   "outputs": [],
   "source": [
    "from nltk.corpus import wordnet as wn\n",
    "\n",
    "wn_all_antonyms = set()\n",
    "\n",
    "for i in wn.all_synsets():\n",
    "    if i.pos() in ['a', 's']: # If synset is adj or satelite-adj.\n",
    "        for j in i.lemmas(): # Iterating through lemmas for each synset.\n",
    "            if j.antonyms(): # If adj has antonym.\n",
    "                # Prints the adj-antonym pair.\n",
    "                wn_all_antonyms.add((j.name(), j.antonyms()[0].name()))"
   ]
  },
  {
   "cell_type": "code",
   "execution_count": 6,
   "metadata": {},
   "outputs": [
    {
     "data": {
      "text/plain": [
       "3531"
      ]
     },
     "execution_count": 6,
     "metadata": {},
     "output_type": "execute_result"
    }
   ],
   "source": [
    "len(wn_all_antonyms)"
   ]
  },
  {
   "cell_type": "markdown",
   "metadata": {},
   "source": [
    "### Import pretrained embeddings"
   ]
  },
  {
   "cell_type": "markdown",
   "metadata": {},
   "source": [
    "### **Options**\n",
    "\n",
    "`CLASStorchtext.vocab.GloVe(name='840B', dim=300, **kwargs)`\n",
    "\n",
    "`CLASStorchtext.vocab.FastText(language='en', **kwargs)`\n",
    "\n",
    "`CLASStorchtext.vocab.CharNGram(**kwargs)`"
   ]
  },
  {
   "cell_type": "code",
   "execution_count": 7,
   "metadata": {},
   "outputs": [],
   "source": [
    "import torch\n",
    "import torchtext\n",
    "import numpy as np"
   ]
  },
  {
   "cell_type": "code",
   "execution_count": 8,
   "metadata": {},
   "outputs": [],
   "source": [
    "glove = torchtext.vocab.GloVe(name=\"840B\",dim=300)"
   ]
  },
  {
   "cell_type": "code",
   "execution_count": 9,
   "metadata": {},
   "outputs": [],
   "source": [
    "import spacy\n",
    "nlp = spacy.load('en_core_web_lg')"
   ]
  },
  {
   "cell_type": "code",
   "execution_count": 10,
   "metadata": {},
   "outputs": [],
   "source": [
    "from nltk.corpus import wordnet as wn\n",
    "\n",
    "wn_all_antonyms_words = set()\n",
    "\n",
    "for ant_pair in wn_all_antonyms:\n",
    "    wn_all_antonyms_words = set(tuple(wn_all_antonyms_words) + ant_pair)"
   ]
  },
  {
   "cell_type": "code",
   "execution_count": 11,
   "metadata": {},
   "outputs": [],
   "source": [
    "no_emb_words = set()\n",
    "for adj in wn_all_antonyms_words:\n",
    "    if torch.all(glove[adj] == torch.zeros(300)):\n",
    "        no_emb_words.add(adj)"
   ]
  },
  {
   "cell_type": "code",
   "execution_count": 12,
   "metadata": {},
   "outputs": [
    {
     "data": {
      "text/plain": [
       "3531"
      ]
     },
     "execution_count": 12,
     "metadata": {},
     "output_type": "execute_result"
    }
   ],
   "source": [
    "len(wn_all_antonyms)"
   ]
  },
  {
   "cell_type": "code",
   "execution_count": 13,
   "metadata": {},
   "outputs": [],
   "source": [
    "copy = wn_all_antonyms.copy()\n",
    "for pair in wn_all_antonyms:\n",
    "    pair1, pair2 = pair\n",
    "    if pair1 in no_emb_words or pair2 in no_emb_words:\n",
    "        copy.remove(pair)\n",
    "        \n",
    "wn_all_antonyms = copy"
   ]
  },
  {
   "cell_type": "code",
   "execution_count": 14,
   "metadata": {},
   "outputs": [
    {
     "data": {
      "text/plain": [
       "3131"
      ]
     },
     "execution_count": 14,
     "metadata": {},
     "output_type": "execute_result"
    }
   ],
   "source": [
    "len(wn_all_antonyms)"
   ]
  },
  {
   "cell_type": "code",
   "execution_count": 15,
   "metadata": {},
   "outputs": [
    {
     "data": {
      "text/plain": [
       "400"
      ]
     },
     "execution_count": 15,
     "metadata": {},
     "output_type": "execute_result"
    }
   ],
   "source": [
    "3531-3131"
   ]
  },
  {
   "cell_type": "code",
   "execution_count": 16,
   "metadata": {},
   "outputs": [
    {
     "data": {
      "text/plain": [
       "{('orienting', 'disorienting'),\n",
       " ('stingy', 'generous'),\n",
       " ('preprandial', 'postprandial'),\n",
       " ('flexible', 'inflexible'),\n",
       " ('consumptive', 'generative'),\n",
       " ('senior', 'junior'),\n",
       " ('landless', 'landed'),\n",
       " ('apocrine', 'eccrine'),\n",
       " ('intractable', 'tractable'),\n",
       " ('unfair', 'fair'),\n",
       " ('ingenuous', 'disingenuous'),\n",
       " ('tasteful', 'tasteless'),\n",
       " ('overhead', 'surface'),\n",
       " ('cursorial', 'fossorial'),\n",
       " ('cenobitic', 'eremitic'),\n",
       " ('commissioned', 'noncommissioned'),\n",
       " ('distant', 'close'),\n",
       " ('cool', 'warm'),\n",
       " ('future', 'past'),\n",
       " ('bowed', 'plucked'),\n",
       " ('confined', 'invasive'),\n",
       " ('atomistic', 'holistic'),\n",
       " ('illegal', 'legal'),\n",
       " ('ashamed', 'unashamed'),\n",
       " ('honorable', 'dishonorable'),\n",
       " ('unawed', 'awed'),\n",
       " ('offensive', 'defensive'),\n",
       " ('unparented', 'parented'),\n",
       " ('supportive', 'unsupportive'),\n",
       " ('actinomorphic', 'zygomorphic'),\n",
       " ('wrinkled', 'unwrinkled'),\n",
       " ('heuristic', 'algorithmic'),\n",
       " ('unenforced', 'enforced'),\n",
       " ('diploid', 'polyploid'),\n",
       " ('unreasonable', 'reasonable'),\n",
       " ('improper', 'proper'),\n",
       " ('christian', 'unchristian'),\n",
       " ('inshore', 'offshore'),\n",
       " ('unconditioned', 'conditioned'),\n",
       " ('clear', 'unclear'),\n",
       " ('congenial', 'uncongenial'),\n",
       " ('untidy', 'tidy'),\n",
       " ('unlaced', 'laced'),\n",
       " ('west', 'east'),\n",
       " ('informal', 'formal'),\n",
       " ('unpunished', 'punished'),\n",
       " ('full-time', 'part-time'),\n",
       " ('epidemic', 'endemic'),\n",
       " ('contracted', 'expanded'),\n",
       " ('lamented', 'unlamented'),\n",
       " ('plain', 'patterned'),\n",
       " ('running', 'standing'),\n",
       " ('significant', 'nonsignificant'),\n",
       " ('tangled', 'untangled'),\n",
       " ('unfurnished', 'furnished'),\n",
       " ('incommensurate', 'commensurate'),\n",
       " ('late', 'early'),\n",
       " ('lean', 'rich'),\n",
       " ('parented', 'unparented'),\n",
       " ('unconventional', 'conventional'),\n",
       " ('evil', 'good'),\n",
       " ('unbranded', 'branded'),\n",
       " ('popular', 'unpopular'),\n",
       " ('worthy', 'unworthy'),\n",
       " ('professional', 'unprofessional'),\n",
       " ('nocturnal', 'diurnal'),\n",
       " ('anticlinal', 'synclinal'),\n",
       " ('tonic', 'atonic'),\n",
       " ('unscripted', 'scripted'),\n",
       " ('egoistic', 'altruistic'),\n",
       " ('unconscious', 'conscious'),\n",
       " ('inexpedient', 'expedient'),\n",
       " ('malignant', 'benign'),\n",
       " ('nonhuman', 'human'),\n",
       " ('midi', 'maxi'),\n",
       " ('nonharmonic', 'harmonic'),\n",
       " ('propitious', 'unpropitious'),\n",
       " ('ignoble', 'noble'),\n",
       " ('unregenerate', 'regenerate'),\n",
       " ('holistic', 'atomistic'),\n",
       " ('detachable', 'attachable'),\n",
       " ('just', 'unjust'),\n",
       " ('unsteady', 'steady'),\n",
       " ('unostentatious', 'ostentatious'),\n",
       " ('uncomfortable', 'comfortable'),\n",
       " ('unsalable', 'salable'),\n",
       " ('mental', 'physical'),\n",
       " ('igneous', 'aqueous'),\n",
       " ('found', 'lost'),\n",
       " ('suspected', 'unsuspected'),\n",
       " ('distrustful', 'trustful'),\n",
       " ('warm', 'cool'),\n",
       " ('juicy', 'juiceless'),\n",
       " ('unlamented', 'lamented'),\n",
       " ('shod', 'unshod'),\n",
       " ('multiple', 'single'),\n",
       " ('modest', 'immodest'),\n",
       " ('nonlinguistic', 'linguistic'),\n",
       " ('dull', 'sharp'),\n",
       " ('heavy-duty', 'light-duty'),\n",
       " ('subsequent', 'antecedent'),\n",
       " ('unconcerned', 'concerned'),\n",
       " ('bivalve', 'univalve'),\n",
       " ('inoperable', 'operable'),\n",
       " ('sessile', 'pedunculate'),\n",
       " ('new', 'old'),\n",
       " ('backless', 'backed'),\n",
       " ('troubled', 'untroubled'),\n",
       " ('satisfactory', 'unsatisfactory'),\n",
       " ('turned', 'unturned'),\n",
       " ('silenced', 'unsilenced'),\n",
       " ('selected', 'unselected'),\n",
       " ('rusted', 'rustless'),\n",
       " ('irreverent', 'reverent'),\n",
       " ('ripe', 'green'),\n",
       " ('unsusceptible', 'susceptible'),\n",
       " ('unholy', 'holy'),\n",
       " ('lax', 'tense'),\n",
       " ('outdoor', 'indoor'),\n",
       " ('whole', 'fractional'),\n",
       " ('toneless', 'toned'),\n",
       " ('underhand', 'overhand'),\n",
       " ('mature', 'immature'),\n",
       " ('inactive', 'active'),\n",
       " ('insufficient', 'sufficient'),\n",
       " ('serious', 'frivolous'),\n",
       " ('low-interest', 'high-interest'),\n",
       " ('immutable', 'mutable'),\n",
       " ('energetic', 'lethargic'),\n",
       " ('restricted', 'unrestricted'),\n",
       " ('postmeridian', 'antemeridian'),\n",
       " ('remediable', 'irremediable'),\n",
       " ('uncritical', 'critical'),\n",
       " ('toned', 'toneless'),\n",
       " ('innumerate', 'numerate'),\n",
       " ('voiced', 'unvoiced'),\n",
       " ('peaceful', 'unpeaceful'),\n",
       " ('tapped', 'untapped'),\n",
       " ('unwelcome', 'welcome'),\n",
       " ('exculpatory', 'inculpatory'),\n",
       " ('baptized', 'unbaptized'),\n",
       " ('existent', 'nonexistent'),\n",
       " ('indispensable', 'dispensable'),\n",
       " ('calm', 'stormy'),\n",
       " ('dead', 'live'),\n",
       " ('formed', 'unformed'),\n",
       " ('familiar', 'strange'),\n",
       " ('breastless', 'breasted'),\n",
       " ('unaffected', 'affected'),\n",
       " ('implausible', 'plausible'),\n",
       " ('plausible', 'implausible'),\n",
       " ('talented', 'untalented'),\n",
       " ('uninhibited', 'inhibited'),\n",
       " ('unsheathed', 'sheathed'),\n",
       " ('disliked', 'liked'),\n",
       " ('uncombed', 'combed'),\n",
       " ('unsociable', 'sociable'),\n",
       " ('thermosetting', 'thermoplastic'),\n",
       " ('punctual', 'unpunctual'),\n",
       " ('deflationary', 'inflationary'),\n",
       " ('virulent', 'avirulent'),\n",
       " ('inclement', 'clement'),\n",
       " ('lipped', 'lipless'),\n",
       " ('ordinal', 'cardinal'),\n",
       " ('forgettable', 'unforgettable'),\n",
       " ('impalpable', 'palpable'),\n",
       " ('intensifying', 'moderating'),\n",
       " ('inefficacious', 'efficacious'),\n",
       " ('real', 'nominal'),\n",
       " ('frivolous', 'serious'),\n",
       " ('re-entrant', 'salient'),\n",
       " ('unsupportive', 'supportive'),\n",
       " ('undependable', 'dependable'),\n",
       " ('unneurotic', 'neurotic'),\n",
       " ('preventive', 'permissive'),\n",
       " ('efficacious', 'inefficacious'),\n",
       " ('isotonic', 'isometric'),\n",
       " ('adiabatic', 'diabatic'),\n",
       " ('hospitable', 'inhospitable'),\n",
       " ('logical', 'illogical'),\n",
       " ('interstate', 'intrastate'),\n",
       " ('mined', 'unmined'),\n",
       " ('unfree', 'free'),\n",
       " ('seated', 'standing'),\n",
       " ('stable', 'unstable'),\n",
       " ('unavenged', 'avenged'),\n",
       " ('autogenous', 'heterogenous'),\n",
       " ('contested', 'uncontested'),\n",
       " ('more', 'fewer'),\n",
       " ('immobile', 'mobile'),\n",
       " ('fore', 'aft'),\n",
       " ('enforceable', 'unenforceable'),\n",
       " ('unpreventable', 'preventable'),\n",
       " ('asleep', 'awake'),\n",
       " ('fatal', 'nonfatal'),\n",
       " ('undeclared', 'declared'),\n",
       " ('syntagmatic', 'paradigmatic'),\n",
       " ('subjective', 'objective'),\n",
       " ('monocotyledonous', 'dicotyledonous'),\n",
       " ('leaky', 'tight'),\n",
       " ('hardened', 'soft'),\n",
       " ('interrogatory', 'declaratory'),\n",
       " ('extinguishable', 'inextinguishable'),\n",
       " ('skilled', 'unskilled'),\n",
       " ('invertible', 'non-invertible'),\n",
       " ('ordinary', 'extraordinary'),\n",
       " ('wicked', 'virtuous'),\n",
       " ('irreligious', 'religious'),\n",
       " ('unprofitable', 'profitable'),\n",
       " ('antiseptic', 'septic'),\n",
       " ('prescriptive', 'descriptive'),\n",
       " ('pardonable', 'unpardonable'),\n",
       " ('designed', 'undesigned'),\n",
       " ('unsigned', 'signed'),\n",
       " ('cationic', 'anionic'),\n",
       " ('exogenous', 'endogenous'),\n",
       " ('distal', 'mesial'),\n",
       " ('palpable', 'impalpable'),\n",
       " ('noncommercial', 'commercial'),\n",
       " ('unwholesome', 'wholesome'),\n",
       " ('untrained', 'trained'),\n",
       " ('injured', 'uninjured'),\n",
       " ('undramatic', 'dramatic'),\n",
       " ('impractical', 'practical'),\n",
       " ('undrained', 'drained'),\n",
       " ('unemployable', 'employable'),\n",
       " ('provident', 'improvident'),\n",
       " ('autochthonous', 'allochthonous'),\n",
       " ('afebrile', 'febrile'),\n",
       " ('determinate', 'indeterminate'),\n",
       " ('narrow', 'wide'),\n",
       " ('extinct', 'extant'),\n",
       " ('low-tension', 'high-tension'),\n",
       " ('advantageous', 'disadvantageous'),\n",
       " ('unloved', 'loved'),\n",
       " ('direct', 'inverse'),\n",
       " ('disorderly', 'orderly'),\n",
       " ('private', 'public'),\n",
       " ('nominal', 'real'),\n",
       " ('unstaged', 'staged'),\n",
       " ('unlisted', 'listed'),\n",
       " ('combed', 'uncombed'),\n",
       " ('interrogative', 'declarative'),\n",
       " ('unaltered', 'altered'),\n",
       " ('unwary', 'wary'),\n",
       " ('uneasy', 'easy'),\n",
       " ('impatient', 'patient'),\n",
       " ('aphrodisiac', 'anaphrodisiac'),\n",
       " ('unenthusiastic', 'enthusiastic'),\n",
       " ('shut', 'open'),\n",
       " ('incontestable', 'contestable'),\n",
       " ('rich', 'lean'),\n",
       " ('opportune', 'inopportune'),\n",
       " ('feminine', 'neuter'),\n",
       " ('terrestrial', 'amphibious'),\n",
       " ('exothermic', 'endothermic'),\n",
       " ('disinclined', 'inclined'),\n",
       " ('on-line', 'off-line'),\n",
       " ('nonpolitical', 'political'),\n",
       " ('permissive', 'preventive'),\n",
       " ('probable', 'improbable'),\n",
       " ('integrated', 'segregated'),\n",
       " ('on-site', 'off-site'),\n",
       " ('parallel', 'perpendicular'),\n",
       " ('spoken', 'written'),\n",
       " ('illogical', 'logical'),\n",
       " ('restrictive', 'unrestrictive'),\n",
       " ('essential', 'inessential'),\n",
       " ('lossless', 'lossy'),\n",
       " ('passionate', 'passionless'),\n",
       " ('joyless', 'joyous'),\n",
       " ('plantigrade', 'digitigrade'),\n",
       " ('responsive', 'unresponsive'),\n",
       " ('intracellular', 'extracellular'),\n",
       " ('light', 'dark'),\n",
       " ('irresponsible', 'responsible'),\n",
       " ('unsystematic', 'systematic'),\n",
       " ('uneducated', 'educated'),\n",
       " ('diadromous', 'anadromous'),\n",
       " ('analyzed', 'unanalyzed'),\n",
       " ('high-rise', 'low-rise'),\n",
       " ('biological', 'adoptive'),\n",
       " ('endergonic', 'exergonic'),\n",
       " ('predictable', 'unpredictable'),\n",
       " ('unshelled', 'shelled'),\n",
       " ('polite', 'impolite'),\n",
       " ('continent', 'incontinent'),\n",
       " ('calculable', 'incalculable'),\n",
       " ('clear', 'cloudy'),\n",
       " ('patriarchal', 'matriarchal'),\n",
       " ('consecrated', 'desecrated'),\n",
       " ('moderate', 'immoderate'),\n",
       " ('handled', 'handleless'),\n",
       " ('deniable', 'undeniable'),\n",
       " ('on', 'off'),\n",
       " ('heterosexual', 'homosexual'),\n",
       " ('acceptable', 'unacceptable'),\n",
       " ('some', 'no'),\n",
       " ('decent', 'indecent'),\n",
       " ('unusual', 'usual'),\n",
       " ('downtown', 'uptown'),\n",
       " ('uncreative', 'creative'),\n",
       " ('unacknowledged', 'acknowledged'),\n",
       " ('suppressed', 'publicized'),\n",
       " ('attentive', 'inattentive'),\n",
       " ('unbodied', 'bodied'),\n",
       " ('moneyed', 'moneyless'),\n",
       " ('unresponsive', 'responsive'),\n",
       " ('dorsal', 'ventral'),\n",
       " ('imperfect', 'perfect'),\n",
       " ('foreign', 'native'),\n",
       " ('rounded', 'angular'),\n",
       " ('concentric', 'eccentric'),\n",
       " ('acyclic', 'cyclic'),\n",
       " ('nonsectarian', 'sectarian'),\n",
       " ('polished', 'unpolished'),\n",
       " ('eyed', 'eyeless'),\n",
       " ('buried', 'unburied'),\n",
       " ('caducous', 'persistent'),\n",
       " ('nonspatial', 'spatial'),\n",
       " ('specialized', 'unspecialized'),\n",
       " ('unabridged', 'abridged'),\n",
       " ('haploid', 'diploid'),\n",
       " ('peripheral', 'central'),\n",
       " ('penitent', 'impenitent'),\n",
       " ('unprotective', 'protective'),\n",
       " ('gloved', 'gloveless'),\n",
       " ('multivalent', 'univalent'),\n",
       " ('crowned', 'uncrowned'),\n",
       " ('unsent', 'sent'),\n",
       " ('inelastic', 'elastic'),\n",
       " ('desirable', 'undesirable'),\n",
       " ('unsolved', 'solved'),\n",
       " ('lidded', 'lidless'),\n",
       " ('involuntary', 'voluntary'),\n",
       " ('clothed', 'unclothed'),\n",
       " ('univalve', 'bivalve'),\n",
       " ('mown', 'unmown'),\n",
       " ('armless', 'armed'),\n",
       " ('intransitive', 'transitive'),\n",
       " ('speaking', 'nonspeaking'),\n",
       " ('functioning', 'malfunctioning'),\n",
       " ('specific', 'nonspecific'),\n",
       " ('bottomless', 'bottomed'),\n",
       " ('meaty', 'meatless'),\n",
       " ('helpful', 'unhelpful'),\n",
       " ('susceptible', 'unsusceptible'),\n",
       " ('simple', 'compound'),\n",
       " ('sharp', 'dull'),\n",
       " ('unhealthful', 'healthful'),\n",
       " ('down', 'up'),\n",
       " ('indefinite', 'definite'),\n",
       " ('intrusive', 'protrusive'),\n",
       " ('shaded', 'unshaded'),\n",
       " ('light-duty', 'heavy-duty'),\n",
       " ('aligned', 'nonaligned'),\n",
       " ('hatless', 'hatted'),\n",
       " ('anonymous', 'onymous'),\n",
       " ('representational', 'nonrepresentational'),\n",
       " ('intolerable', 'tolerable'),\n",
       " ('legato', 'staccato'),\n",
       " ('unaware', 'aware'),\n",
       " ('nonmagnetic', 'magnetic'),\n",
       " ('untrustworthy', 'trustworthy'),\n",
       " ('sympathetic', 'unsympathetic'),\n",
       " ('intemperate', 'temperate'),\n",
       " ('multiple-choice', 'true-false'),\n",
       " ('undiplomatic', 'diplomatic'),\n",
       " ('unpleasant', 'pleasant'),\n",
       " ('unflattering', 'flattering'),\n",
       " ('pro-choice', 'pro-life'),\n",
       " ('connate', 'adnate'),\n",
       " ('curly', 'straight'),\n",
       " ('naive', 'sophisticated'),\n",
       " ('unquestionable', 'questionable'),\n",
       " ('lipless', 'lipped'),\n",
       " ('topless', 'topped'),\n",
       " ('melted', 'unmelted'),\n",
       " ('unguided', 'guided'),\n",
       " ('forceful', 'forceless'),\n",
       " ('inside', 'outside'),\n",
       " ('mononuclear', 'binucleate'),\n",
       " ('consolable', 'inconsolable'),\n",
       " ('eccrine', 'apocrine'),\n",
       " ('big', 'little'),\n",
       " ('extended', 'unextended'),\n",
       " ('nonrandom', 'random'),\n",
       " ('falling', 'rising'),\n",
       " ('intrastate', 'interstate'),\n",
       " ('hurried', 'unhurried'),\n",
       " ('preserved', 'destroyed'),\n",
       " ('artless', 'artful'),\n",
       " ('malnourished', 'nourished'),\n",
       " ('marked', 'unmarked'),\n",
       " ('surmountable', 'insurmountable'),\n",
       " ('leafy', 'leafless'),\n",
       " ('exoteric', 'esoteric'),\n",
       " ('reconcilable', 'irreconcilable'),\n",
       " ('moderating', 'intensifying'),\n",
       " ('local', 'general'),\n",
       " ('unknowable', 'knowable'),\n",
       " ('soft', 'hardened'),\n",
       " ('brunet', 'blond'),\n",
       " ('lively', 'dull'),\n",
       " ('posterior', 'anterior'),\n",
       " ('unclassified', 'classified'),\n",
       " ('unimpressive', 'impressive'),\n",
       " ('soluble', 'insoluble'),\n",
       " ('quadrupedal', 'bipedal'),\n",
       " ('anisotropic', 'isotropic'),\n",
       " ('center', 'right'),\n",
       " ('linear', 'nonlinear'),\n",
       " ('adaptable', 'unadaptable'),\n",
       " ('poor', 'rich'),\n",
       " ('idle', 'busy'),\n",
       " ('unrequested', 'requested'),\n",
       " ('fossorial', 'cursorial'),\n",
       " ('potential', 'actual'),\n",
       " ('unmodified', 'modified'),\n",
       " ('comprehensible', 'incomprehensible'),\n",
       " ('asymmetrical', 'symmetrical'),\n",
       " ('permanent', 'impermanent'),\n",
       " ('good-natured', 'ill-natured'),\n",
       " ('debilitating', 'invigorating'),\n",
       " ('obvious', 'unobvious'),\n",
       " ('indiscernible', 'discernible'),\n",
       " ('bony', 'boneless'),\n",
       " ('ambitious', 'unambitious'),\n",
       " ('unprejudiced', 'prejudiced'),\n",
       " ('unaddressed', 'addressed'),\n",
       " ('irreconcilable', 'reconcilable'),\n",
       " ('inconsiderable', 'considerable'),\n",
       " ('tactless', 'tactful'),\n",
       " ('unimodal', 'bimodal'),\n",
       " ('abstemious', 'gluttonous'),\n",
       " ('hydrophilic', 'hydrophobic'),\n",
       " ('unplayable', 'playable'),\n",
       " ('bare', 'covered'),\n",
       " ('politic', 'impolitic'),\n",
       " ('unwitting', 'witting'),\n",
       " ('distinct', 'indistinct'),\n",
       " ('unpopular', 'popular'),\n",
       " ('handless', 'handed'),\n",
       " ('low-tech', 'high-tech'),\n",
       " ('noticeable', 'unnoticeable'),\n",
       " ('hopeless', 'hopeful'),\n",
       " ('unauthorized', 'authorized'),\n",
       " ('waxing', 'waning'),\n",
       " ('eradicable', 'ineradicable'),\n",
       " ('cheerful', 'depressing'),\n",
       " ('unassisted', 'assisted'),\n",
       " ('crosswise', 'lengthwise'),\n",
       " ('assigned', 'unassigned'),\n",
       " ('unfashionable', 'fashionable'),\n",
       " ('counterrevolutionary', 'revolutionary'),\n",
       " ('single-breasted', 'double-breasted'),\n",
       " ('mesic', 'xeric'),\n",
       " ('biped', 'quadruped'),\n",
       " ('scentless', 'scented'),\n",
       " ('uncomplimentary', 'complimentary'),\n",
       " ('loud', 'soft'),\n",
       " ('unorthodox', 'orthodox'),\n",
       " ('thin', 'thick'),\n",
       " ('thoughtful', 'thoughtless'),\n",
       " ('syllabic', 'accentual'),\n",
       " ('cowardly', 'brave'),\n",
       " ('conquerable', 'unconquerable'),\n",
       " ('afloat', 'aground'),\n",
       " ('commodious', 'incommodious'),\n",
       " ('unhappy', 'happy'),\n",
       " ('uncontroversial', 'controversial'),\n",
       " ('heterozygous', 'homozygous'),\n",
       " ('normotensive', 'hypertensive'),\n",
       " ('broken', 'unbroken'),\n",
       " ('inessential', 'essential'),\n",
       " ('frequent', 'infrequent'),\n",
       " ('tuneless', 'tuneful'),\n",
       " ('similar', 'dissimilar'),\n",
       " ('acidic', 'alkaline'),\n",
       " ('discontented', 'contented'),\n",
       " ('shapely', 'unshapely'),\n",
       " ('untied', 'tied'),\n",
       " ('indeterminate', 'determinate'),\n",
       " ('ionic', 'nonionic'),\n",
       " ('agnostic', 'gnostic'),\n",
       " ('unintelligent', 'intelligent'),\n",
       " ('unseeded', 'seeded'),\n",
       " ('hairy', 'hairless'),\n",
       " ('uncastrated', 'castrated'),\n",
       " ('allopatric', 'sympatric'),\n",
       " ('inferior', 'superior'),\n",
       " ('suppurative', 'nonsuppurative'),\n",
       " ('monaural', 'binaural'),\n",
       " ('uninhabited', 'inhabited'),\n",
       " ('incautious', 'cautious'),\n",
       " ('branchy', 'branchless'),\n",
       " ('uncoiled', 'coiled'),\n",
       " ('seasoned', 'unseasoned'),\n",
       " ('roofed', 'roofless'),\n",
       " ('untruthful', 'truthful'),\n",
       " ('untraceable', 'traceable'),\n",
       " ('deaf', 'hearing'),\n",
       " ('paranormal', 'normal'),\n",
       " ('pessimistic', 'optimistic'),\n",
       " ('attractive', 'repulsive'),\n",
       " ('hypotonic', 'isotonic'),\n",
       " ('limbless', 'limbed'),\n",
       " ('closing', 'opening'),\n",
       " ('surgical', 'medical'),\n",
       " ('oral', 'aboral'),\n",
       " ('nonstandard', 'standard'),\n",
       " ('foul', 'fair'),\n",
       " ('premature', 'full-term'),\n",
       " ('intrusive', 'extrusive'),\n",
       " ('dignified', 'undignified'),\n",
       " ('unstratified', 'stratified'),\n",
       " ('nontoxic', 'toxic'),\n",
       " ('infrequent', 'frequent'),\n",
       " ('onymous', 'anonymous'),\n",
       " ('changeable', 'unchangeable'),\n",
       " ('antagonistic', 'synergistic'),\n",
       " ('written', 'unwritten'),\n",
       " ('unspecialized', 'specialized'),\n",
       " ('thin', 'fat'),\n",
       " ('nonclassical', 'classical'),\n",
       " ('unwaxed', 'waxed'),\n",
       " ('avenged', 'unavenged'),\n",
       " ('regular', 'irregular'),\n",
       " ('nonreflective', 'reflective'),\n",
       " ('unaccustomed', 'accustomed'),\n",
       " ('dysgenic', 'eugenic'),\n",
       " ('secondary', 'primary'),\n",
       " ('enterprising', 'unenterprising'),\n",
       " ('left-handed', 'ambidextrous'),\n",
       " ('unperceptive', 'perceptive'),\n",
       " ('last', 'first'),\n",
       " ('nonlinear', 'linear'),\n",
       " ('nonfat', 'fatty'),\n",
       " ('alterable', 'unalterable'),\n",
       " ('uncontested', 'contested'),\n",
       " ('inner', 'outer'),\n",
       " ('imperceptible', 'perceptible'),\n",
       " ('nourished', 'malnourished'),\n",
       " ('dramatic', 'lyric'),\n",
       " ('unshod', 'shod'),\n",
       " ('forgiving', 'unforgiving'),\n",
       " ('cubic', 'linear'),\n",
       " ('complimentary', 'uncomplimentary'),\n",
       " ('reputable', 'disreputable'),\n",
       " ('nonracial', 'racial'),\n",
       " ('unsinkable', 'sinkable'),\n",
       " ('south', 'north'),\n",
       " ('hipped', 'gabled'),\n",
       " ('unanalyzed', 'analyzed'),\n",
       " ('synonymous', 'antonymous'),\n",
       " ('undiscerning', 'discerning'),\n",
       " ('synthetic', 'analytic'),\n",
       " ('artful', 'artless'),\n",
       " ('religious', 'secular'),\n",
       " ('sure', 'unsure'),\n",
       " ('coordinating', 'subordinating'),\n",
       " ('afraid', 'unafraid'),\n",
       " ('antecedent', 'subsequent'),\n",
       " ('partisan', 'nonpartisan'),\n",
       " ('homozygous', 'heterozygous'),\n",
       " ('assertive', 'unassertive'),\n",
       " ('felicitous', 'infelicitous'),\n",
       " ('unpronounceable', 'pronounceable'),\n",
       " ('irrational', 'rational'),\n",
       " ('recoverable', 'unrecoverable'),\n",
       " ('undedicated', 'dedicated'),\n",
       " ('stative', 'active'),\n",
       " ('excited', 'unexcited'),\n",
       " ('valuable', 'worthless'),\n",
       " ('inconvenient', 'convenient'),\n",
       " ('invisible', 'visible'),\n",
       " ('off-site', 'on-site'),\n",
       " ('appointive', 'elective'),\n",
       " ('overt', 'covert'),\n",
       " ('unhelpful', 'helpful'),\n",
       " ('nonindulgent', 'indulgent'),\n",
       " ('surprising', 'unsurprising'),\n",
       " ('factory-made', 'homemade'),\n",
       " ('unreliable', 'reliable'),\n",
       " ('inconsiderate', 'considerate'),\n",
       " ('bottomed', 'bottomless'),\n",
       " ('best', 'worst'),\n",
       " ('noticed', 'unnoticed'),\n",
       " ('disobedient', 'obedient'),\n",
       " ('painted', 'unpainted'),\n",
       " ('unreactive', 'reactive'),\n",
       " ('quantitative', 'syllabic'),\n",
       " ('imprecise', 'precise'),\n",
       " ('unarmed', 'armed'),\n",
       " ('unprotected', 'protected'),\n",
       " ('waxed', 'unwaxed'),\n",
       " ('thick', 'thin'),\n",
       " ('inflationary', 'deflationary'),\n",
       " ('disrespectful', 'respectful'),\n",
       " ('short', 'long'),\n",
       " ('wireless', 'wired'),\n",
       " ('unproved', 'proved'),\n",
       " ('pronounceable', 'unpronounceable'),\n",
       " ('bottom-up', 'top-down'),\n",
       " ('invasive', 'noninvasive'),\n",
       " ('unopposed', 'opposed'),\n",
       " ('shockable', 'unshockable'),\n",
       " ('southern', 'northern'),\n",
       " ('discerning', 'undiscerning'),\n",
       " ('adequate', 'inadequate'),\n",
       " ('black-and-white', 'color'),\n",
       " ('collateral', 'lineal'),\n",
       " ('elective', 'appointive'),\n",
       " ('unfortunate', 'fortunate'),\n",
       " ('implicit', 'explicit'),\n",
       " ('broad-minded', 'narrow-minded'),\n",
       " ('reducible', 'irreducible'),\n",
       " ('unable', 'able'),\n",
       " ('unexcitable', 'excitable'),\n",
       " ('hostile', 'amicable'),\n",
       " ('nonintellectual', 'intellectual'),\n",
       " ('disorganized', 'organized'),\n",
       " ('sworn', 'unsworn'),\n",
       " ('indeterminable', 'determinable'),\n",
       " ('little', 'much'),\n",
       " ('new', 'worn'),\n",
       " ('unendowed', 'endowed'),\n",
       " ('retrograde', 'direct'),\n",
       " ('present', 'future'),\n",
       " ('bettering', 'worsening'),\n",
       " ('unenterprising', 'enterprising'),\n",
       " ('honest', 'dishonest'),\n",
       " ('untalented', 'talented'),\n",
       " ('unequal', 'equal'),\n",
       " ('end-stopped', 'run-on'),\n",
       " ('healthy', 'unhealthy'),\n",
       " ('costive', 'laxative'),\n",
       " ('convertible', 'inconvertible'),\n",
       " ('much', 'little'),\n",
       " ('unambiguous', 'ambiguous'),\n",
       " ('undeciphered', 'deciphered'),\n",
       " ('unorganized', 'organized'),\n",
       " ('urban', 'rural'),\n",
       " ('adhesive', 'nonadhesive'),\n",
       " ('unmarked', 'marked'),\n",
       " ('disloyal', 'loyal'),\n",
       " ('unstable', 'stable'),\n",
       " ('nondisposable', 'disposable'),\n",
       " ('inglorious', 'glorious'),\n",
       " ('passable', 'impassable'),\n",
       " ('congruous', 'incongruous'),\n",
       " ('good', 'bad'),\n",
       " ('rehabilitative', 'punitive'),\n",
       " ('offending', 'unoffending'),\n",
       " ('offstage', 'onstage'),\n",
       " ('shaven', 'unshaven'),\n",
       " ('manned', 'unmanned'),\n",
       " ('planar', 'cubic'),\n",
       " ('aquatic', 'terrestrial'),\n",
       " ('branchless', 'branchy'),\n",
       " ('unpublishable', 'publishable'),\n",
       " ('fresh', 'stale'),\n",
       " ('vertical', 'inclined'),\n",
       " ('conventional', 'nuclear'),\n",
       " ('selfish', 'unselfish'),\n",
       " ('tense', 'lax'),\n",
       " ('magnetic', 'geographic'),\n",
       " ('diffident', 'confident'),\n",
       " ('generative', 'consumptive'),\n",
       " ('sterile', 'fertile'),\n",
       " ('unpotted', 'potted'),\n",
       " ('minimum', 'maximum'),\n",
       " ('unattractive', 'attractive'),\n",
       " ('unwrapped', 'wrapped'),\n",
       " ('exocrine', 'endocrine'),\n",
       " ('returnable', 'nonreturnable'),\n",
       " ('intrusive', 'unintrusive'),\n",
       " ('unrealistic', 'realistic'),\n",
       " ('substantive', 'adjective'),\n",
       " ('swept', 'unswept'),\n",
       " ('planted', 'unplanted'),\n",
       " ('pregnant', 'nonpregnant'),\n",
       " ('meaningless', 'meaningful'),\n",
       " ('prenatal', 'perinatal'),\n",
       " ('disabling', 'enabling'),\n",
       " ('immoral', 'moral'),\n",
       " ('contented', 'discontented'),\n",
       " ('unready', 'ready'),\n",
       " ('straight', 'curved'),\n",
       " ('unstimulating', 'stimulating'),\n",
       " ('tasteless', 'tasteful'),\n",
       " ('united', 'divided'),\n",
       " ('opposed', 'unopposed'),\n",
       " ('uncrowded', 'crowded'),\n",
       " ('custom-made', 'ready-made'),\n",
       " ('imperishable', 'perishable'),\n",
       " ('pointless', 'pointed'),\n",
       " ('upper-class', 'lower-class'),\n",
       " ('sweet', 'dry'),\n",
       " ('unidentifiable', 'identifiable'),\n",
       " ('untapped', 'tapped'),\n",
       " ('sociable', 'unsociable'),\n",
       " ('consistent', 'inconsistent'),\n",
       " ('topped', 'topless'),\n",
       " ('liberal', 'conservative'),\n",
       " ('equitable', 'inequitable'),\n",
       " ('secure', 'insecure'),\n",
       " ('proximate', 'ultimate'),\n",
       " ('pro-life', 'pro-choice'),\n",
       " ('unshared', 'shared'),\n",
       " ('alike', 'unalike'),\n",
       " ('avascular', 'vascular'),\n",
       " ('asexual', 'sexual'),\n",
       " ('identifiable', 'unidentifiable'),\n",
       " ('centripetal', 'centrifugal'),\n",
       " ('net', 'gross'),\n",
       " ('active', 'passive'),\n",
       " ('disorienting', 'orienting'),\n",
       " ('uncombined', 'combined'),\n",
       " ('rural', 'urban'),\n",
       " ('relative', 'absolute'),\n",
       " ('homogeneous', 'heterogeneous'),\n",
       " ('reflective', 'nonreflective'),\n",
       " ('sour', 'sweet'),\n",
       " ('finished', 'unfinished'),\n",
       " ('lighted', 'unlighted'),\n",
       " ('synclinal', 'anticlinal'),\n",
       " ('polytheistic', 'monotheistic'),\n",
       " ('hostile', 'friendly'),\n",
       " ('ungenerous', 'generous'),\n",
       " ('immature', 'mature'),\n",
       " ('loose', 'tight'),\n",
       " ('convincing', 'unconvincing'),\n",
       " ('discreet', 'indiscreet'),\n",
       " ('first', 'last'),\n",
       " ('awnless', 'awned'),\n",
       " ('unseasonable', 'seasonable'),\n",
       " ('live', 'dead'),\n",
       " ('unbanded', 'banded'),\n",
       " ('gradual', 'steep'),\n",
       " ('orthodox', 'unorthodox'),\n",
       " ('protected', 'unprotected'),\n",
       " ('confirmed', 'unconfirmed'),\n",
       " ('anaphrodisiac', 'aphrodisiac'),\n",
       " ('unwearable', 'wearable'),\n",
       " ('aesthetic', 'inaesthetic'),\n",
       " ('comparable', 'incomparable'),\n",
       " ('nonunion', 'union'),\n",
       " ('slow', 'fast'),\n",
       " ('extrinsic', 'intrinsic'),\n",
       " ('paradigmatic', 'syntagmatic'),\n",
       " ('pure', 'impure'),\n",
       " ('equipped', 'unequipped'),\n",
       " ('stubborn', 'docile'),\n",
       " ('unjust', 'just'),\n",
       " ('tired', 'rested'),\n",
       " ('half', 'whole'),\n",
       " ('mediate', 'immediate'),\n",
       " ('virtuous', 'wicked'),\n",
       " ('unequipped', 'equipped'),\n",
       " ('native', 'foreign'),\n",
       " ('regenerate', 'unregenerate'),\n",
       " ('multidimensional', 'unidimensional'),\n",
       " ('dull', 'bright'),\n",
       " ('tuneful', 'tuneless'),\n",
       " ('plucked', 'bowed'),\n",
       " ('fewer', 'more'),\n",
       " ('traveled', 'untraveled'),\n",
       " ('moonless', 'moonlit'),\n",
       " ('gradual', 'sudden'),\n",
       " ('compressible', 'incompressible'),\n",
       " ('stylish', 'styleless'),\n",
       " ('pretentious', 'unpretentious'),\n",
       " ('impolite', 'polite'),\n",
       " ('empirical', 'theoretical'),\n",
       " ('thermal', 'nonthermal'),\n",
       " ('edifying', 'unedifying'),\n",
       " ('xeric', 'hydric'),\n",
       " ('convex', 'concave'),\n",
       " ('surface', 'subsurface'),\n",
       " ('two-piece', 'three-piece'),\n",
       " ('uninteresting', 'interesting'),\n",
       " ('abundant', 'scarce'),\n",
       " ('premeditated', 'unpremeditated'),\n",
       " ('residential', 'nonresidential'),\n",
       " ('eukaryotic', 'prokaryotic'),\n",
       " ('inconvertible', 'convertible'),\n",
       " ('utopian', 'dystopian'),\n",
       " ('painful', 'painless'),\n",
       " ('concealing', 'revealing'),\n",
       " ('infectious', 'noninfectious'),\n",
       " ('unexploited', 'exploited'),\n",
       " ('sorrowful', 'joyful'),\n",
       " ('liked', 'disliked'),\n",
       " ('experienced', 'inexperienced'),\n",
       " ('illiterate', 'literate'),\n",
       " ('unsaturated', 'saturated'),\n",
       " ('psychoactive', 'nonpsychoactive'),\n",
       " ('absorbable', 'adsorbable'),\n",
       " ('favorable', 'unfavorable'),\n",
       " ('facultative', 'obligate'),\n",
       " ('humorless', 'humorous'),\n",
       " ('significant', 'insignificant'),\n",
       " ('descriptive', 'undescriptive'),\n",
       " ('analogous', 'homologous'),\n",
       " ('encumbered', 'unencumbered'),\n",
       " ('unmined', 'mined'),\n",
       " ('unadventurous', 'adventurous'),\n",
       " ('unappetizing', 'appetizing'),\n",
       " ('reserved', 'unreserved'),\n",
       " ('backward', 'forward'),\n",
       " ('geographic', 'magnetic'),\n",
       " ('displeasing', 'pleasing'),\n",
       " ('unadoptable', 'adoptable'),\n",
       " ('sweet', 'sour'),\n",
       " ('ahistorical', 'historical'),\n",
       " ('postnuptial', 'prenuptial'),\n",
       " ('achromatic', 'chromatic'),\n",
       " ('unavailable', 'available'),\n",
       " ('superior', 'inferior'),\n",
       " ('irremovable', 'removable'),\n",
       " ('neurotic', 'unneurotic'),\n",
       " ('successful', 'unsuccessful'),\n",
       " ('wrong', 'right'),\n",
       " ('considerable', 'inconsiderable'),\n",
       " ('androgynous', 'male'),\n",
       " ('unknown', 'known'),\n",
       " ('distal', 'proximal'),\n",
       " ('hypertensive', 'hypotensive'),\n",
       " ('woven', 'unwoven'),\n",
       " ('starless', 'starry'),\n",
       " ('noncritical', 'critical'),\n",
       " ('precedented', 'unprecedented'),\n",
       " ('lowered', 'raised'),\n",
       " ('bound', 'unbound'),\n",
       " ('junior', 'senior'),\n",
       " ('endogenous', 'exogenous'),\n",
       " ('cosmopolitan', 'provincial'),\n",
       " ('atonal', 'tonal'),\n",
       " ('undomestic', 'domestic'),\n",
       " ('irrevocable', 'revocable'),\n",
       " ('removable', 'irremovable'),\n",
       " ('quiet', 'unquiet'),\n",
       " ('humorous', 'humorless'),\n",
       " ('chartered', 'unchartered'),\n",
       " ('impossible', 'possible'),\n",
       " ('demanding', 'undemanding'),\n",
       " ('unequivocal', 'equivocal'),\n",
       " ('beneficent', 'maleficent'),\n",
       " ('compound', 'simple'),\n",
       " ('dissimilar', 'similar'),\n",
       " ('hollow', 'solid'),\n",
       " ('contestable', 'incontestable'),\n",
       " ('pleasing', 'displeasing'),\n",
       " ('hot', 'cold'),\n",
       " ('uncongenial', 'congenial'),\n",
       " ('procaryotic', 'eucaryotic'),\n",
       " ('modified', 'unmodified'),\n",
       " ('sensitizing', 'desensitizing'),\n",
       " ('thematic', 'unthematic'),\n",
       " ('lowborn', 'noble'),\n",
       " ('incompatible', 'compatible'),\n",
       " ('unscrupulous', 'scrupulous'),\n",
       " ('unlivable', 'livable'),\n",
       " ('decorous', 'indecorous'),\n",
       " ('incommodious', 'commodious'),\n",
       " ('one-piece', 'two-piece'),\n",
       " ('patient', 'impatient'),\n",
       " ('attractive', 'unattractive'),\n",
       " ('atonic', 'tonic'),\n",
       " ('major', 'minor'),\n",
       " ('adnate', 'connate'),\n",
       " ('incomplete', 'complete'),\n",
       " ('accompanied', 'unaccompanied'),\n",
       " ('repetitive', 'nonrepetitive'),\n",
       " ('allogeneic', 'xenogeneic'),\n",
       " ('deep', 'shallow'),\n",
       " ('inorganic', 'organic'),\n",
       " ('plus', 'minus'),\n",
       " ('dejected', 'elated'),\n",
       " ('extant', 'extinct'),\n",
       " ('smooth', 'rough'),\n",
       " ('juiceless', 'juicy'),\n",
       " ('unserviceable', 'serviceable'),\n",
       " ('breasted', 'breastless'),\n",
       " ('indivisible', 'divisible'),\n",
       " ('noncellular', 'cellular'),\n",
       " ('expedient', 'inexpedient'),\n",
       " ('filled', 'unfilled'),\n",
       " ('superjacent', 'subjacent'),\n",
       " ('typical', 'atypical'),\n",
       " ('noncombustible', 'combustible'),\n",
       " ('altruistic', 'egoistic'),\n",
       " ('undiversified', 'diversified'),\n",
       " ('prospective', 'retrospective'),\n",
       " ('appetizing', 'unappetizing'),\n",
       " ('breast-fed', 'bottle-fed'),\n",
       " ('unpretentious', 'pretentious'),\n",
       " ('hungry', 'thirsty'),\n",
       " ('benign', 'malign'),\n",
       " ('limbed', 'limbless'),\n",
       " ('inaccurate', 'accurate'),\n",
       " ('spineless', 'spinous'),\n",
       " ('monochromatic', 'polychromatic'),\n",
       " ('diatonic', 'chromatic'),\n",
       " ('awed', 'unawed'),\n",
       " ('autotrophic', 'heterotrophic'),\n",
       " ('unretentive', 'retentive'),\n",
       " ('gaseous', 'solid'),\n",
       " ('conventional', 'unconventional'),\n",
       " ('cathodic', 'anodic'),\n",
       " ('majuscule', 'minuscule'),\n",
       " ('made', 'unmade'),\n",
       " ('unpalatable', 'palatable'),\n",
       " ('incorrect', 'correct'),\n",
       " ('corrupt', 'incorrupt'),\n",
       " ('eared', 'earless'),\n",
       " ('open', 'closed'),\n",
       " ('unmated', 'mated'),\n",
       " ('multilingual', 'monolingual'),\n",
       " ('constitutional', 'unconstitutional'),\n",
       " ('weak', 'strong'),\n",
       " ('heterogenous', 'autogenous'),\n",
       " ('inequitable', 'equitable'),\n",
       " ('lined', 'unlined'),\n",
       " ('surface-to-air', 'air-to-surface'),\n",
       " ('unacceptable', 'acceptable'),\n",
       " ('inbred', 'outbred'),\n",
       " ('carpeted', 'uncarpeted'),\n",
       " ('opposite', 'alternate'),\n",
       " ('postmortem', 'antemortem'),\n",
       " ('lawful', 'unlawful'),\n",
       " ('soft', 'loud'),\n",
       " ('irregular', 'regular'),\n",
       " ('unvaried', 'varied'),\n",
       " ('dry', 'wet'),\n",
       " ('brave', 'cowardly'),\n",
       " ('operable', 'inoperable'),\n",
       " ('floored', 'ceilinged'),\n",
       " ('inauspicious', 'auspicious'),\n",
       " ('translatable', 'untranslatable'),\n",
       " ('sensible', 'insensible'),\n",
       " ('considerate', 'inconsiderate'),\n",
       " ('unprincipled', 'principled'),\n",
       " ('committed', 'uncommitted'),\n",
       " ('uncarpeted', 'carpeted'),\n",
       " ('handleless', 'handled'),\n",
       " ('fretted', 'unfretted'),\n",
       " ('tonal', 'atonal'),\n",
       " ('grammatical', 'ungrammatical'),\n",
       " ('invasive', 'confined'),\n",
       " ('heavy', 'light'),\n",
       " ('sober', 'intoxicated'),\n",
       " ('matched', 'mismatched'),\n",
       " ('opaque', 'clear'),\n",
       " ('radioactive', 'nonradioactive'),\n",
       " ('unmodulated', 'modulated'),\n",
       " ('explosive', 'nonexplosive'),\n",
       " ('isotonic', 'hypertonic'),\n",
       " ('unfledged', 'fledged'),\n",
       " ('unappealable', 'appealable'),\n",
       " ('studied', 'unstudied'),\n",
       " ('non-invertible', 'invertible'),\n",
       " ('lower-class', 'middle-class'),\n",
       " ('uncolored', 'colored'),\n",
       " ('downstage', 'upstage'),\n",
       " ('unemployed', 'employed'),\n",
       " ('nonconformist', 'conformist'),\n",
       " ('undignified', 'dignified'),\n",
       " ('delicate', 'rugged'),\n",
       " ('continual', 'sporadic'),\n",
       " ('rough', 'smooth'),\n",
       " ('curved', 'straight'),\n",
       " ('unsupported', 'supported'),\n",
       " ('enabling', 'disabling'),\n",
       " ('incomparable', 'comparable'),\n",
       " ('synergistic', 'antagonistic'),\n",
       " ('finite', 'infinite'),\n",
       " ('uninspiring', 'inspiring'),\n",
       " ('awakened', 'unawakened'),\n",
       " ('airworthy', 'unairworthy'),\n",
       " ('multilane', 'single-lane'),\n",
       " ('unipolar', 'bipolar'),\n",
       " ('difficult', 'easy'),\n",
       " ('inflected', 'uninflected'),\n",
       " ('independent', 'dependent'),\n",
       " ('mortal', 'immortal'),\n",
       " ('graceful', 'awkward'),\n",
       " ('moving', 'unmoving'),\n",
       " ('esoteric', 'exoteric'),\n",
       " ('increased', 'decreased'),\n",
       " ('short', 'tall'),\n",
       " ('unmerited', 'merited'),\n",
       " ('high-resolution', 'low-resolution'),\n",
       " ('indistinguishable', 'distinguishable'),\n",
       " ('faithful', 'unfaithful'),\n",
       " ('fair', 'unfair'),\n",
       " ('familiar', 'unfamiliar'),\n",
       " ('extinct', 'active'),\n",
       " ('nonpartisan', 'partisan'),\n",
       " ...}"
      ]
     },
     "execution_count": 16,
     "metadata": {},
     "output_type": "execute_result"
    }
   ],
   "source": [
    "wn_all_antonyms"
   ]
  },
  {
   "cell_type": "markdown",
   "metadata": {},
   "source": [
    "### Add Custom Antonym Pairs"
   ]
  },
  {
   "cell_type": "code",
   "execution_count": 17,
   "metadata": {},
   "outputs": [
    {
     "name": "stdout",
     "output_type": "stream",
     "text": [
      "Added ('man', 'woman')\n",
      "Added ('serviceman', 'civilian')\n",
      "Added ('man', 'woman')\n",
      "Added ('human', 'nonhuman')\n"
     ]
    }
   ],
   "source": [
    "from nltk.corpus import wordnet as wn\n",
    "\n",
    "# add words here:\n",
    "WORDS = ['man', 'human']\n",
    "\n",
    "for word in WORDS:\n",
    "    for syn in wn.synsets(word):\n",
    "        for j in syn.lemmas(): # Iterating through lemmas for each synset.\n",
    "            if j.antonyms():\n",
    "                pair1 = j.name()\n",
    "                pair2 = j.antonyms()[0].name()\n",
    "                # don't add pair to the list if at least one of them has no glove embeddings\n",
    "                if torch.all(glove[pair1] == torch.zeros(300)) or torch.all(glove[pair2] == torch.zeros(300)):\n",
    "                    print(f\"Pair {(j.name(), j.antonyms()[0].name())} cannot be added because one of them does not have GloVe embeddings.\")\n",
    "                else:\n",
    "                    print(f\"Added {(pair1, pair2)}\")\n",
    "                    wn_all_antonyms.add((pair1, pair2))"
   ]
  },
  {
   "cell_type": "code",
   "execution_count": 18,
   "metadata": {},
   "outputs": [],
   "source": [
    "microframes = wn_all_antonyms"
   ]
  },
  {
   "cell_type": "code",
   "execution_count": 19,
   "metadata": {},
   "outputs": [
    {
     "data": {
      "text/plain": [
       "3133"
      ]
     },
     "execution_count": 19,
     "metadata": {},
     "output_type": "execute_result"
    }
   ],
   "source": [
    "len(microframes)"
   ]
  },
  {
   "cell_type": "markdown",
   "metadata": {},
   "source": [
    "### Semantic Axis Vector"
   ]
  },
  {
   "cell_type": "code",
   "execution_count": 20,
   "metadata": {},
   "outputs": [],
   "source": [
    "semantic_axis_vectors = dict()\n",
    "for mframe in microframes:\n",
    "    semantic_axis_vectors['(' + ', '.join(mframe) + ')'] = np.expand_dims(glove[mframe[1]] - glove[mframe[0]], axis= 0)"
   ]
  },
  {
   "cell_type": "code",
   "execution_count": 21,
   "metadata": {},
   "outputs": [
    {
     "data": {
      "text/plain": [
       "array([[ 1.98666990e-01,  7.22199827e-02, -1.86462998e-01,\n",
       "         5.83739996e-01, -7.46250004e-02, -9.17997956e-03,\n",
       "         3.19599956e-02,  3.92699987e-02,  1.38819993e-01,\n",
       "         6.78999424e-02, -2.03620002e-01,  2.38368988e-01,\n",
       "        -2.72006691e-01, -3.08981687e-01, -1.61559999e-01,\n",
       "        -1.46412000e-01, -4.35483992e-01,  1.89160019e-01,\n",
       "        -2.95740008e-01, -3.50700021e-02,  9.05001163e-03,\n",
       "         2.55119979e-01, -1.56845003e-01, -3.59719992e-01,\n",
       "        -2.88099945e-02,  4.00590003e-01,  1.07859999e-01,\n",
       "        -2.12710008e-01, -3.14889997e-01, -1.76756993e-01,\n",
       "         1.34200007e-01, -5.70900142e-02,  2.26850003e-01,\n",
       "        -2.34786004e-01,  4.04179990e-01,  2.45397985e-01,\n",
       "         1.38130009e-01, -3.17710042e-01, -6.44200146e-02,\n",
       "         5.04499972e-02,  5.87419987e-01,  1.61250010e-01,\n",
       "        -1.27790004e-01, -5.09299934e-02,  5.82489967e-02,\n",
       "        -1.54311001e-01, -2.74599999e-01, -4.05699909e-02,\n",
       "         4.65460002e-01, -2.69311011e-01, -6.96425974e-01,\n",
       "        -7.79200047e-02, -3.73799980e-01, -5.43542981e-01,\n",
       "         1.68000162e-03,  1.99129969e-01,  8.77784044e-02,\n",
       "        -1.79803997e-01, -3.24763983e-01,  1.82830006e-01,\n",
       "         4.45810035e-02, -4.40575004e-01,  3.94324996e-02,\n",
       "         8.85499865e-02, -8.17679986e-02,  3.47799957e-02,\n",
       "         2.19610006e-01,  1.73684001e-01,  4.20599997e-01,\n",
       "         2.30540007e-01,  1.30430013e-01,  5.16099930e-02,\n",
       "        -4.50607002e-01,  2.98929989e-01,  7.14900017e-01,\n",
       "         1.87491506e-01,  1.08699799e-02, -5.88600039e-02,\n",
       "         5.82560003e-02, -4.68892992e-01,  4.13378999e-02,\n",
       "        -4.98937011e-01, -5.46519995e-01,  1.66910991e-01,\n",
       "        -2.70377010e-01,  3.10499996e-01,  1.57869995e-01,\n",
       "         6.15016997e-01,  1.12430006e-01, -3.69369984e-01,\n",
       "        -9.15000588e-03,  4.87110019e-01, -2.48100013e-02,\n",
       "        -2.01621011e-01,  7.52400011e-02, -3.43129992e-01,\n",
       "        -1.40810013e-02,  4.47310001e-01,  9.82819945e-02,\n",
       "        -1.88300014e-02,  5.63686013e-01,  2.10529983e-01,\n",
       "         4.13628012e-01, -1.24743000e-01,  5.53460047e-02,\n",
       "        -1.80729985e-01, -3.57449979e-01, -1.28450006e-01,\n",
       "        -1.75781995e-01, -3.56480032e-02,  7.30400085e-02,\n",
       "         4.91800010e-01,  1.20920002e-01, -1.28526002e-01,\n",
       "        -4.86529991e-02, -4.55290020e-01, -8.30870047e-02,\n",
       "         3.39540005e-01,  5.94336987e-01,  1.46170020e-01,\n",
       "        -1.68540001e-01,  1.09070003e-01,  6.02700114e-02,\n",
       "        -3.17530006e-01,  2.16051996e-01,  2.82433003e-01,\n",
       "         3.16039979e-01,  2.30358496e-01, -1.26025289e-01,\n",
       "         2.61260003e-01, -3.47479999e-01, -1.45045996e-01,\n",
       "        -2.68090010e-01,  1.01729989e-01, -1.27200007e-01,\n",
       "        -4.04260010e-01, -6.34609997e-01,  1.79711998e-01,\n",
       "        -9.79998708e-03,  2.38931000e-01,  4.64699984e-01,\n",
       "        -1.76903993e-01,  8.36960077e-02, -4.60195005e-01,\n",
       "        -4.16100025e-01,  1.72600001e-02, -3.49910021e-01,\n",
       "        -2.14100033e-02, -4.35580015e-01,  1.73370004e-01,\n",
       "        -1.80270016e-01,  9.36003029e-02, -2.51639992e-01,\n",
       "         1.42099991e-01, -2.10092992e-01, -7.80001283e-04,\n",
       "         3.43066007e-01, -2.51609981e-01, -4.66099977e-02,\n",
       "        -3.53880003e-02, -6.24859989e-01,  2.17449993e-01,\n",
       "         7.41870031e-02,  1.28790021e-01,  3.58000398e-03,\n",
       "        -2.48923004e-01, -1.22189999e-01,  4.16000009e-01,\n",
       "         2.22826988e-01,  1.39129996e-01,  1.72190011e-01,\n",
       "        -1.27296001e-01,  4.17232990e-01,  1.22292005e-01,\n",
       "        -2.97299922e-02, -5.83799928e-02, -3.92460018e-01,\n",
       "        -2.61685997e-01, -3.86149973e-01,  3.89891416e-01,\n",
       "        -3.67999971e-02,  2.85560012e-01, -3.07927001e-02,\n",
       "         6.20001554e-03,  6.36709988e-01,  1.53530002e-01,\n",
       "        -5.50499856e-02,  1.21794991e-01,  1.67029947e-02,\n",
       "         1.82029963e-01,  1.57999992e-03, -3.30659002e-01,\n",
       "         1.91520005e-01, -1.42351002e-01,  1.08329982e-01,\n",
       "        -2.34999001e-01, -9.23030004e-02,  3.07730019e-01,\n",
       "         2.60140002e-02, -1.31900012e-02,  4.54718977e-01,\n",
       "         6.83999956e-02,  3.20499986e-02, -1.83910012e-01,\n",
       "        -3.08539987e-01,  1.71469986e-01, -6.59100115e-02,\n",
       "         1.98130012e-02, -1.22610014e-02,  1.17440000e-01,\n",
       "        -3.86264980e-01, -1.75200015e-01, -4.24080014e-01,\n",
       "         1.81549013e-01, -3.03800106e-02,  2.17009991e-01,\n",
       "        -6.36232793e-01,  1.06850997e-01, -3.95099819e-02,\n",
       "        -1.30580008e-01, -2.64017016e-01, -5.30059993e-01,\n",
       "         3.65830004e-01, -1.97264999e-01, -1.65576994e-01,\n",
       "        -3.93014997e-01,  5.17542005e-01, -2.88830012e-01,\n",
       "         1.27000004e-01, -1.21371001e-01, -1.32304996e-01,\n",
       "        -1.08499974e-02,  5.02420008e-01,  4.33159992e-02,\n",
       "        -4.50299978e-02, -2.12270603e-01,  7.58280009e-02,\n",
       "        -1.29170001e-01,  2.91621983e-01, -3.81622016e-01,\n",
       "        -5.88220000e-01, -1.22499987e-02,  2.39500001e-01,\n",
       "        -4.64210004e-01,  1.14769995e-01, -3.27776998e-01,\n",
       "        -1.11095011e-01,  3.44668984e-01,  8.10500383e-02,\n",
       "        -2.78422982e-01, -2.45452002e-01,  2.67001987e-03,\n",
       "         4.83776003e-01, -3.45052004e-01, -3.33526015e-01,\n",
       "         2.22409993e-01, -1.59399509e-02,  1.31900012e-02,\n",
       "        -2.81378001e-01,  4.98239994e-01, -9.79419947e-02,\n",
       "         1.06079996e-01, -4.21140008e-02,  9.66100097e-02,\n",
       "         4.65829998e-01, -8.47999752e-02,  1.06710002e-01,\n",
       "        -1.05519980e-01, -6.26909971e-01, -3.17445010e-01,\n",
       "        -9.05019045e-01, -3.09626013e-01, -1.94260001e-01,\n",
       "         3.16368014e-01,  1.46500021e-02, -1.42149985e-01,\n",
       "        -2.46479988e-01, -2.14708000e-01, -1.29249990e-01,\n",
       "         4.49492991e-01,  2.39073992e-01,  2.20079988e-01,\n",
       "         4.14260000e-01, -3.96073014e-01, -3.32180023e-01,\n",
       "         4.10815001e-01, -3.69459987e-01,  1.39353991e-01,\n",
       "         2.60770023e-02,  1.66312993e-01,  4.38968986e-01,\n",
       "         6.88599944e-02,  4.24270004e-01, -1.15289986e-01,\n",
       "        -2.88700163e-02, -2.44424995e-02, -3.73439997e-01,\n",
       "        -1.85231999e-01,  2.82130003e-01, -2.73476988e-01]], dtype=float32)"
      ]
     },
     "execution_count": 21,
     "metadata": {},
     "output_type": "execute_result"
    }
   ],
   "source": [
    "semantic_axis_vectors['(man, woman)']"
   ]
  },
  {
   "cell_type": "markdown",
   "metadata": {},
   "source": [
    "## Conclusion\n",
    "\n",
    "- Total of 3131 adjective antonym pairs plus 1 or more custom pairs\n",
    "- Each pair must have GloVe embeddings (i.e. embedding not [0,0,0,0,0, ..., 0])"
   ]
  },
  {
   "cell_type": "markdown",
   "metadata": {},
   "source": [
    "# 2. Contribution of a Word to Microframes"
   ]
  },
  {
   "cell_type": "markdown",
   "metadata": {},
   "source": [
    "For calculating cosine similarity, see [documentaion](https://scikit-learn.org/stable/modules/generated/sklearn.metrics.pairwise.cosine_similarity.html) from sklearn"
   ]
  },
  {
   "cell_type": "code",
   "execution_count": 22,
   "metadata": {},
   "outputs": [
    {
     "data": {
      "text/plain": [
       "0.8498365855987975"
      ]
     },
     "execution_count": 22,
     "metadata": {},
     "output_type": "execute_result"
    }
   ],
   "source": [
    "from sklearn.metrics.pairwise import cosine_similarity\n",
    "import numpy as np\n",
    "\n",
    "# example:\n",
    "x = np.array([[1,2,2]])\n",
    "y = np.array([[3,4,1]])\n",
    "cosine_similarity(x,y).item()"
   ]
  },
  {
   "cell_type": "code",
   "execution_count": 23,
   "metadata": {},
   "outputs": [
    {
     "data": {
      "text/plain": [
       "0.740174412727356"
      ]
     },
     "execution_count": 23,
     "metadata": {},
     "output_type": "execute_result"
    }
   ],
   "source": [
    "np.expand_dims(glove['man'], axis=0).shape\n",
    "cosine_similarity(np.expand_dims(glove['man'], axis=0), np.expand_dims(glove['woman'], axis=0)).item()"
   ]
  },
  {
   "cell_type": "markdown",
   "metadata": {},
   "source": [
    "### Wrapper for cosine similarity\n",
    "Given two words, find similarity:"
   ]
  },
  {
   "cell_type": "code",
   "execution_count": 24,
   "metadata": {},
   "outputs": [
    {
     "data": {
      "text/plain": [
       "0.4572717547416687"
      ]
     },
     "execution_count": 24,
     "metadata": {},
     "output_type": "execute_result"
    }
   ],
   "source": [
    "def my_cos_similarity(func):\n",
    "    def wrapper(word, axis_vector):\n",
    "        return func(np.expand_dims(glove[word], axis=0), axis_vector)\n",
    "    return wrapper\n",
    "\n",
    "@my_cos_similarity\n",
    "def cos_similarity(x, y):\n",
    "    return cosine_similarity(x, y).item()\n",
    "\n",
    "cos_similarity('woman',semantic_axis_vectors['(man, woman)'])"
   ]
  },
  {
   "cell_type": "markdown",
   "metadata": {},
   "source": [
    "The **absolute value** of the similarity between a word vector and\n",
    "a microframe vector captures the relevance of the word to the\n",
    "microframe, while the **sign** of the similarity captures a bias toward\n",
    "one of the poles in the microframe."
   ]
  },
  {
   "cell_type": "markdown",
   "metadata": {},
   "source": [
    "# 3. Framing Bias and Intensity"
   ]
  },
  {
   "cell_type": "markdown",
   "metadata": {},
   "source": [
    "## Bias and word frequency"
   ]
  },
  {
   "cell_type": "code",
   "execution_count": 25,
   "metadata": {},
   "outputs": [],
   "source": [
    "import nltk\n",
    "from multiprocessing import Pool\n",
    "from tqdm.notebook import tqdm"
   ]
  },
  {
   "cell_type": "code",
   "execution_count": 26,
   "metadata": {},
   "outputs": [],
   "source": [
    "# f\n",
    "# word is a single word string\n",
    "# doc_tokens is a list of all document tokens\n",
    "\n",
    "def word_freq(word, doc_tokens):\n",
    "    return doc_tokens.count(word)"
   ]
  },
  {
   "cell_type": "markdown",
   "metadata": {},
   "source": [
    "### Regular function"
   ]
  },
  {
   "cell_type": "code",
   "execution_count": 27,
   "metadata": {},
   "outputs": [],
   "source": [
    "# B\n",
    "def bias(doc, frame=None):\n",
    "    doc_tokens = nltk.word_tokenize(doc)\n",
    "    \n",
    "    numerator, denominator = 0, 0\n",
    "    for word in doc_tokens:\n",
    "        numerator += word_freq(word, doc_tokens) * cos_similarity(word, semantic_axis_vectors[frame])\n",
    "        denominator += word_freq(word, doc_tokens)\n",
    "        \n",
    "    return numerator / denominator"
   ]
  },
  {
   "cell_type": "code",
   "execution_count": 28,
   "metadata": {},
   "outputs": [
    {
     "name": "stdout",
     "output_type": "stream",
     "text": [
      "98.7 ms ± 724 µs per loop (mean ± std. dev. of 7 runs, 10 loops each)\n"
     ]
    }
   ],
   "source": [
    "%%timeit\n",
    "sample = data_cleaned['RS_2020_nosleep'].iloc[0:1].selftext.item()\n",
    "bias(sample, frame='(man, woman)')"
   ]
  },
  {
   "cell_type": "markdown",
   "metadata": {},
   "source": [
    "### Same function, but with performance enhancement"
   ]
  },
  {
   "cell_type": "code",
   "execution_count": 29,
   "metadata": {},
   "outputs": [
    {
     "name": "stdout",
     "output_type": "stream",
     "text": [
      "59.4 ms ± 4.34 ms per loop (mean ± std. dev. of 7 runs, 10 loops each)\n"
     ]
    }
   ],
   "source": [
    "%%timeit\n",
    "sum1, sum2 = 0, 0\n",
    "for i in range(1_000_000):\n",
    "    sum1 += 1\n",
    "    sum2 += 2\n",
    "sum1 / sum2"
   ]
  },
  {
   "cell_type": "code",
   "execution_count": 30,
   "metadata": {},
   "outputs": [
    {
     "name": "stdout",
     "output_type": "stream",
     "text": [
      "55.2 ms ± 642 µs per loop (mean ± std. dev. of 7 runs, 10 loops each)\n"
     ]
    }
   ],
   "source": [
    "%%timeit\n",
    "sum1, sum2 = sum([1 for i in range(1_000_000)]), sum([2 for i in range(1_000_000)])\n",
    "sum1 / sum2"
   ]
  },
  {
   "cell_type": "code",
   "execution_count": 31,
   "metadata": {},
   "outputs": [],
   "source": [
    "# B\n",
    "def bias(doc, frame=None):\n",
    "    doc_tokens = nltk.word_tokenize(doc)\n",
    "    li = [ sum([word_freq(word, doc_tokens) * cos_similarity(word, semantic_axis_vectors[f\"({ant1}, {ant2})\"]) for word in doc_tokens]) / sum([word_freq(word, doc_tokens) for word in doc_tokens]) for ant1, ant2 in tqdm(frame)]\n",
    "    return np.array(li)"
   ]
  },
  {
   "cell_type": "code",
   "execution_count": 32,
   "metadata": {},
   "outputs": [
    {
     "data": {
      "application/vnd.jupyter.widget-view+json": {
       "model_id": "f228d2ece5314624807225f1677b88bd",
       "version_major": 2,
       "version_minor": 0
      },
      "text/plain": [
       "  0%|          | 0/1 [00:00<?, ?it/s]"
      ]
     },
     "metadata": {},
     "output_type": "display_data"
    },
    {
     "data": {
      "application/vnd.jupyter.widget-view+json": {
       "model_id": "adb0d30845084cd6856163c2c5bcff5a",
       "version_major": 2,
       "version_minor": 0
      },
      "text/plain": [
       "  0%|          | 0/1 [00:00<?, ?it/s]"
      ]
     },
     "metadata": {},
     "output_type": "display_data"
    },
    {
     "data": {
      "application/vnd.jupyter.widget-view+json": {
       "model_id": "61de05cb451c42c6b4ac5cfbae3479e6",
       "version_major": 2,
       "version_minor": 0
      },
      "text/plain": [
       "  0%|          | 0/1 [00:00<?, ?it/s]"
      ]
     },
     "metadata": {},
     "output_type": "display_data"
    },
    {
     "data": {
      "application/vnd.jupyter.widget-view+json": {
       "model_id": "5575de804a7949b9a25d2d12f2fd87f3",
       "version_major": 2,
       "version_minor": 0
      },
      "text/plain": [
       "  0%|          | 0/1 [00:00<?, ?it/s]"
      ]
     },
     "metadata": {},
     "output_type": "display_data"
    },
    {
     "data": {
      "application/vnd.jupyter.widget-view+json": {
       "model_id": "2fcc5da6610c426db63b87cf3ad6dac6",
       "version_major": 2,
       "version_minor": 0
      },
      "text/plain": [
       "  0%|          | 0/1 [00:00<?, ?it/s]"
      ]
     },
     "metadata": {},
     "output_type": "display_data"
    },
    {
     "data": {
      "application/vnd.jupyter.widget-view+json": {
       "model_id": "3affd178b2c343a0906e4b261cba1a12",
       "version_major": 2,
       "version_minor": 0
      },
      "text/plain": [
       "  0%|          | 0/1 [00:00<?, ?it/s]"
      ]
     },
     "metadata": {},
     "output_type": "display_data"
    },
    {
     "data": {
      "application/vnd.jupyter.widget-view+json": {
       "model_id": "9ff2cbc6c7c347559e0f524c4786eb2d",
       "version_major": 2,
       "version_minor": 0
      },
      "text/plain": [
       "  0%|          | 0/1 [00:00<?, ?it/s]"
      ]
     },
     "metadata": {},
     "output_type": "display_data"
    },
    {
     "data": {
      "application/vnd.jupyter.widget-view+json": {
       "model_id": "3c72303a6871458aafbac960a5841c50",
       "version_major": 2,
       "version_minor": 0
      },
      "text/plain": [
       "  0%|          | 0/1 [00:00<?, ?it/s]"
      ]
     },
     "metadata": {},
     "output_type": "display_data"
    },
    {
     "data": {
      "application/vnd.jupyter.widget-view+json": {
       "model_id": "0fe47d37213c45b38320213125e374d3",
       "version_major": 2,
       "version_minor": 0
      },
      "text/plain": [
       "  0%|          | 0/1 [00:00<?, ?it/s]"
      ]
     },
     "metadata": {},
     "output_type": "display_data"
    },
    {
     "data": {
      "application/vnd.jupyter.widget-view+json": {
       "model_id": "97d39cfa80194be9af01ccaf885c93ef",
       "version_major": 2,
       "version_minor": 0
      },
      "text/plain": [
       "  0%|          | 0/1 [00:00<?, ?it/s]"
      ]
     },
     "metadata": {},
     "output_type": "display_data"
    },
    {
     "data": {
      "application/vnd.jupyter.widget-view+json": {
       "model_id": "5c4799606b344dc291ad09ea71c185f2",
       "version_major": 2,
       "version_minor": 0
      },
      "text/plain": [
       "  0%|          | 0/1 [00:00<?, ?it/s]"
      ]
     },
     "metadata": {},
     "output_type": "display_data"
    },
    {
     "data": {
      "application/vnd.jupyter.widget-view+json": {
       "model_id": "25d1a15eee2a4759a4580343886868bb",
       "version_major": 2,
       "version_minor": 0
      },
      "text/plain": [
       "  0%|          | 0/1 [00:00<?, ?it/s]"
      ]
     },
     "metadata": {},
     "output_type": "display_data"
    },
    {
     "data": {
      "application/vnd.jupyter.widget-view+json": {
       "model_id": "a31cdf12866c42499335d977906d9922",
       "version_major": 2,
       "version_minor": 0
      },
      "text/plain": [
       "  0%|          | 0/1 [00:00<?, ?it/s]"
      ]
     },
     "metadata": {},
     "output_type": "display_data"
    },
    {
     "data": {
      "application/vnd.jupyter.widget-view+json": {
       "model_id": "a67ce291f1c5457f81900c732257c6dc",
       "version_major": 2,
       "version_minor": 0
      },
      "text/plain": [
       "  0%|          | 0/1 [00:00<?, ?it/s]"
      ]
     },
     "metadata": {},
     "output_type": "display_data"
    },
    {
     "data": {
      "application/vnd.jupyter.widget-view+json": {
       "model_id": "6e31a4e22b4f44d89e87df44db2a8221",
       "version_major": 2,
       "version_minor": 0
      },
      "text/plain": [
       "  0%|          | 0/1 [00:00<?, ?it/s]"
      ]
     },
     "metadata": {},
     "output_type": "display_data"
    },
    {
     "data": {
      "application/vnd.jupyter.widget-view+json": {
       "model_id": "4d0c75b1e0a64fa19a6d1ff915ad649e",
       "version_major": 2,
       "version_minor": 0
      },
      "text/plain": [
       "  0%|          | 0/1 [00:00<?, ?it/s]"
      ]
     },
     "metadata": {},
     "output_type": "display_data"
    },
    {
     "data": {
      "application/vnd.jupyter.widget-view+json": {
       "model_id": "be7ce99433b945db92bf3ac6ec81166c",
       "version_major": 2,
       "version_minor": 0
      },
      "text/plain": [
       "  0%|          | 0/1 [00:00<?, ?it/s]"
      ]
     },
     "metadata": {},
     "output_type": "display_data"
    },
    {
     "data": {
      "application/vnd.jupyter.widget-view+json": {
       "model_id": "749f3d065f6144fa914537a18ea03d20",
       "version_major": 2,
       "version_minor": 0
      },
      "text/plain": [
       "  0%|          | 0/1 [00:00<?, ?it/s]"
      ]
     },
     "metadata": {},
     "output_type": "display_data"
    },
    {
     "data": {
      "application/vnd.jupyter.widget-view+json": {
       "model_id": "71a41106bf3b4278bda17e89457ec626",
       "version_major": 2,
       "version_minor": 0
      },
      "text/plain": [
       "  0%|          | 0/1 [00:00<?, ?it/s]"
      ]
     },
     "metadata": {},
     "output_type": "display_data"
    },
    {
     "data": {
      "application/vnd.jupyter.widget-view+json": {
       "model_id": "1013e2c2294847ada9332619c4f21e18",
       "version_major": 2,
       "version_minor": 0
      },
      "text/plain": [
       "  0%|          | 0/1 [00:00<?, ?it/s]"
      ]
     },
     "metadata": {},
     "output_type": "display_data"
    },
    {
     "data": {
      "application/vnd.jupyter.widget-view+json": {
       "model_id": "94618cd1476848b097678052fe34dcc8",
       "version_major": 2,
       "version_minor": 0
      },
      "text/plain": [
       "  0%|          | 0/1 [00:00<?, ?it/s]"
      ]
     },
     "metadata": {},
     "output_type": "display_data"
    },
    {
     "data": {
      "application/vnd.jupyter.widget-view+json": {
       "model_id": "d9a38b73572a4bc0b3b5f5d44d66d46a",
       "version_major": 2,
       "version_minor": 0
      },
      "text/plain": [
       "  0%|          | 0/1 [00:00<?, ?it/s]"
      ]
     },
     "metadata": {},
     "output_type": "display_data"
    },
    {
     "data": {
      "application/vnd.jupyter.widget-view+json": {
       "model_id": "bfdb324ee3cb4e24be481ec67054ae8d",
       "version_major": 2,
       "version_minor": 0
      },
      "text/plain": [
       "  0%|          | 0/1 [00:00<?, ?it/s]"
      ]
     },
     "metadata": {},
     "output_type": "display_data"
    },
    {
     "data": {
      "application/vnd.jupyter.widget-view+json": {
       "model_id": "f5dfb2f29a074bfa880a2d86a7f16f2e",
       "version_major": 2,
       "version_minor": 0
      },
      "text/plain": [
       "  0%|          | 0/1 [00:00<?, ?it/s]"
      ]
     },
     "metadata": {},
     "output_type": "display_data"
    },
    {
     "data": {
      "application/vnd.jupyter.widget-view+json": {
       "model_id": "5d40d70b96cd49e1a7370531f8d355f8",
       "version_major": 2,
       "version_minor": 0
      },
      "text/plain": [
       "  0%|          | 0/1 [00:00<?, ?it/s]"
      ]
     },
     "metadata": {},
     "output_type": "display_data"
    },
    {
     "data": {
      "application/vnd.jupyter.widget-view+json": {
       "model_id": "50eca9a10bf6449db2e5eb1ac27a64b3",
       "version_major": 2,
       "version_minor": 0
      },
      "text/plain": [
       "  0%|          | 0/1 [00:00<?, ?it/s]"
      ]
     },
     "metadata": {},
     "output_type": "display_data"
    },
    {
     "data": {
      "application/vnd.jupyter.widget-view+json": {
       "model_id": "16d70fe55ac0400c8de8a255351feb6d",
       "version_major": 2,
       "version_minor": 0
      },
      "text/plain": [
       "  0%|          | 0/1 [00:00<?, ?it/s]"
      ]
     },
     "metadata": {},
     "output_type": "display_data"
    },
    {
     "data": {
      "application/vnd.jupyter.widget-view+json": {
       "model_id": "39766a1aee154bdaab465da185daa077",
       "version_major": 2,
       "version_minor": 0
      },
      "text/plain": [
       "  0%|          | 0/1 [00:00<?, ?it/s]"
      ]
     },
     "metadata": {},
     "output_type": "display_data"
    },
    {
     "data": {
      "application/vnd.jupyter.widget-view+json": {
       "model_id": "f5910d60dfb0424694811917db9f6773",
       "version_major": 2,
       "version_minor": 0
      },
      "text/plain": [
       "  0%|          | 0/1 [00:00<?, ?it/s]"
      ]
     },
     "metadata": {},
     "output_type": "display_data"
    },
    {
     "data": {
      "application/vnd.jupyter.widget-view+json": {
       "model_id": "c29fd20d7a7f455fb49a4a329c1d9fb3",
       "version_major": 2,
       "version_minor": 0
      },
      "text/plain": [
       "  0%|          | 0/1 [00:00<?, ?it/s]"
      ]
     },
     "metadata": {},
     "output_type": "display_data"
    },
    {
     "data": {
      "application/vnd.jupyter.widget-view+json": {
       "model_id": "a29dd4b5ca5546429e98ae44690e8044",
       "version_major": 2,
       "version_minor": 0
      },
      "text/plain": [
       "  0%|          | 0/1 [00:00<?, ?it/s]"
      ]
     },
     "metadata": {},
     "output_type": "display_data"
    },
    {
     "data": {
      "application/vnd.jupyter.widget-view+json": {
       "model_id": "96b324cd2c1e497e8d5660cd76a69602",
       "version_major": 2,
       "version_minor": 0
      },
      "text/plain": [
       "  0%|          | 0/1 [00:00<?, ?it/s]"
      ]
     },
     "metadata": {},
     "output_type": "display_data"
    },
    {
     "data": {
      "application/vnd.jupyter.widget-view+json": {
       "model_id": "30a92e2203f24007a4fb00152746a3d8",
       "version_major": 2,
       "version_minor": 0
      },
      "text/plain": [
       "  0%|          | 0/1 [00:00<?, ?it/s]"
      ]
     },
     "metadata": {},
     "output_type": "display_data"
    },
    {
     "data": {
      "application/vnd.jupyter.widget-view+json": {
       "model_id": "05946ccd72cd4ad2b9d966758a36fa0d",
       "version_major": 2,
       "version_minor": 0
      },
      "text/plain": [
       "  0%|          | 0/1 [00:00<?, ?it/s]"
      ]
     },
     "metadata": {},
     "output_type": "display_data"
    },
    {
     "data": {
      "application/vnd.jupyter.widget-view+json": {
       "model_id": "d0f84500335041f99de5331b26c4b4eb",
       "version_major": 2,
       "version_minor": 0
      },
      "text/plain": [
       "  0%|          | 0/1 [00:00<?, ?it/s]"
      ]
     },
     "metadata": {},
     "output_type": "display_data"
    },
    {
     "data": {
      "application/vnd.jupyter.widget-view+json": {
       "model_id": "b962aabd60cb4e33816356672327575f",
       "version_major": 2,
       "version_minor": 0
      },
      "text/plain": [
       "  0%|          | 0/1 [00:00<?, ?it/s]"
      ]
     },
     "metadata": {},
     "output_type": "display_data"
    },
    {
     "data": {
      "application/vnd.jupyter.widget-view+json": {
       "model_id": "9e2f8f89df8c4a6fb36de4352cdf9185",
       "version_major": 2,
       "version_minor": 0
      },
      "text/plain": [
       "  0%|          | 0/1 [00:00<?, ?it/s]"
      ]
     },
     "metadata": {},
     "output_type": "display_data"
    },
    {
     "data": {
      "application/vnd.jupyter.widget-view+json": {
       "model_id": "8a696e8fcca14461b15fda64b7cec8be",
       "version_major": 2,
       "version_minor": 0
      },
      "text/plain": [
       "  0%|          | 0/1 [00:00<?, ?it/s]"
      ]
     },
     "metadata": {},
     "output_type": "display_data"
    },
    {
     "data": {
      "application/vnd.jupyter.widget-view+json": {
       "model_id": "24ae238224f042d08651d36773bd1063",
       "version_major": 2,
       "version_minor": 0
      },
      "text/plain": [
       "  0%|          | 0/1 [00:00<?, ?it/s]"
      ]
     },
     "metadata": {},
     "output_type": "display_data"
    },
    {
     "data": {
      "application/vnd.jupyter.widget-view+json": {
       "model_id": "6f045f686c0e46058800bb0df9f41178",
       "version_major": 2,
       "version_minor": 0
      },
      "text/plain": [
       "  0%|          | 0/1 [00:00<?, ?it/s]"
      ]
     },
     "metadata": {},
     "output_type": "display_data"
    },
    {
     "data": {
      "application/vnd.jupyter.widget-view+json": {
       "model_id": "7827928f86b1461f9a5633a03eb07ecc",
       "version_major": 2,
       "version_minor": 0
      },
      "text/plain": [
       "  0%|          | 0/1 [00:00<?, ?it/s]"
      ]
     },
     "metadata": {},
     "output_type": "display_data"
    },
    {
     "data": {
      "application/vnd.jupyter.widget-view+json": {
       "model_id": "4b6fc2acdecf4eef899a5988a61ebbaf",
       "version_major": 2,
       "version_minor": 0
      },
      "text/plain": [
       "  0%|          | 0/1 [00:00<?, ?it/s]"
      ]
     },
     "metadata": {},
     "output_type": "display_data"
    },
    {
     "data": {
      "application/vnd.jupyter.widget-view+json": {
       "model_id": "7c2b4b82e1d6411da7ee7556a0a6270a",
       "version_major": 2,
       "version_minor": 0
      },
      "text/plain": [
       "  0%|          | 0/1 [00:00<?, ?it/s]"
      ]
     },
     "metadata": {},
     "output_type": "display_data"
    },
    {
     "data": {
      "application/vnd.jupyter.widget-view+json": {
       "model_id": "beee460d5b914490adf824294de429bc",
       "version_major": 2,
       "version_minor": 0
      },
      "text/plain": [
       "  0%|          | 0/1 [00:00<?, ?it/s]"
      ]
     },
     "metadata": {},
     "output_type": "display_data"
    },
    {
     "data": {
      "application/vnd.jupyter.widget-view+json": {
       "model_id": "5590b39d11f34627aeb6a593411bffeb",
       "version_major": 2,
       "version_minor": 0
      },
      "text/plain": [
       "  0%|          | 0/1 [00:00<?, ?it/s]"
      ]
     },
     "metadata": {},
     "output_type": "display_data"
    },
    {
     "data": {
      "application/vnd.jupyter.widget-view+json": {
       "model_id": "ccdd88dbd2c24ab08cb910a586013dcd",
       "version_major": 2,
       "version_minor": 0
      },
      "text/plain": [
       "  0%|          | 0/1 [00:00<?, ?it/s]"
      ]
     },
     "metadata": {},
     "output_type": "display_data"
    },
    {
     "data": {
      "application/vnd.jupyter.widget-view+json": {
       "model_id": "bb574c5871294885829f1d7859a54c97",
       "version_major": 2,
       "version_minor": 0
      },
      "text/plain": [
       "  0%|          | 0/1 [00:00<?, ?it/s]"
      ]
     },
     "metadata": {},
     "output_type": "display_data"
    },
    {
     "data": {
      "application/vnd.jupyter.widget-view+json": {
       "model_id": "53a8546e6f114073b415605dc90977e6",
       "version_major": 2,
       "version_minor": 0
      },
      "text/plain": [
       "  0%|          | 0/1 [00:00<?, ?it/s]"
      ]
     },
     "metadata": {},
     "output_type": "display_data"
    },
    {
     "data": {
      "application/vnd.jupyter.widget-view+json": {
       "model_id": "80d1eb6f2afd4f4fbc3f993e406d5ded",
       "version_major": 2,
       "version_minor": 0
      },
      "text/plain": [
       "  0%|          | 0/1 [00:00<?, ?it/s]"
      ]
     },
     "metadata": {},
     "output_type": "display_data"
    },
    {
     "data": {
      "application/vnd.jupyter.widget-view+json": {
       "model_id": "95096f08c19f40c0b6f8a0bc98c30229",
       "version_major": 2,
       "version_minor": 0
      },
      "text/plain": [
       "  0%|          | 0/1 [00:00<?, ?it/s]"
      ]
     },
     "metadata": {},
     "output_type": "display_data"
    },
    {
     "data": {
      "application/vnd.jupyter.widget-view+json": {
       "model_id": "49d8906fd1b84e26a50c03388c694a45",
       "version_major": 2,
       "version_minor": 0
      },
      "text/plain": [
       "  0%|          | 0/1 [00:00<?, ?it/s]"
      ]
     },
     "metadata": {},
     "output_type": "display_data"
    },
    {
     "data": {
      "application/vnd.jupyter.widget-view+json": {
       "model_id": "9dde26e04caf4b2686dd4bc83511ab93",
       "version_major": 2,
       "version_minor": 0
      },
      "text/plain": [
       "  0%|          | 0/1 [00:00<?, ?it/s]"
      ]
     },
     "metadata": {},
     "output_type": "display_data"
    },
    {
     "data": {
      "application/vnd.jupyter.widget-view+json": {
       "model_id": "fe829496ba8d4941a0b922e47c7d5c31",
       "version_major": 2,
       "version_minor": 0
      },
      "text/plain": [
       "  0%|          | 0/1 [00:00<?, ?it/s]"
      ]
     },
     "metadata": {},
     "output_type": "display_data"
    },
    {
     "data": {
      "application/vnd.jupyter.widget-view+json": {
       "model_id": "4021c36982244c03b85366064fd75efb",
       "version_major": 2,
       "version_minor": 0
      },
      "text/plain": [
       "  0%|          | 0/1 [00:00<?, ?it/s]"
      ]
     },
     "metadata": {},
     "output_type": "display_data"
    },
    {
     "data": {
      "application/vnd.jupyter.widget-view+json": {
       "model_id": "794817f036bb4088889b32ed7a66adf4",
       "version_major": 2,
       "version_minor": 0
      },
      "text/plain": [
       "  0%|          | 0/1 [00:00<?, ?it/s]"
      ]
     },
     "metadata": {},
     "output_type": "display_data"
    },
    {
     "data": {
      "application/vnd.jupyter.widget-view+json": {
       "model_id": "cf4ffbbfcff24152801e1de6a2be9b78",
       "version_major": 2,
       "version_minor": 0
      },
      "text/plain": [
       "  0%|          | 0/1 [00:00<?, ?it/s]"
      ]
     },
     "metadata": {},
     "output_type": "display_data"
    },
    {
     "data": {
      "application/vnd.jupyter.widget-view+json": {
       "model_id": "5c32edf529fe405d84a1e94e153f581c",
       "version_major": 2,
       "version_minor": 0
      },
      "text/plain": [
       "  0%|          | 0/1 [00:00<?, ?it/s]"
      ]
     },
     "metadata": {},
     "output_type": "display_data"
    },
    {
     "data": {
      "application/vnd.jupyter.widget-view+json": {
       "model_id": "aaf1e1235aeb4309b6b47714d59e2a7e",
       "version_major": 2,
       "version_minor": 0
      },
      "text/plain": [
       "  0%|          | 0/1 [00:00<?, ?it/s]"
      ]
     },
     "metadata": {},
     "output_type": "display_data"
    },
    {
     "data": {
      "application/vnd.jupyter.widget-view+json": {
       "model_id": "99927963b6704137a978bfcdce095550",
       "version_major": 2,
       "version_minor": 0
      },
      "text/plain": [
       "  0%|          | 0/1 [00:00<?, ?it/s]"
      ]
     },
     "metadata": {},
     "output_type": "display_data"
    },
    {
     "data": {
      "application/vnd.jupyter.widget-view+json": {
       "model_id": "be1c7ab753e94d2583b5bfa47686d110",
       "version_major": 2,
       "version_minor": 0
      },
      "text/plain": [
       "  0%|          | 0/1 [00:00<?, ?it/s]"
      ]
     },
     "metadata": {},
     "output_type": "display_data"
    },
    {
     "data": {
      "application/vnd.jupyter.widget-view+json": {
       "model_id": "f40498023ca445eebea612f0c114d83b",
       "version_major": 2,
       "version_minor": 0
      },
      "text/plain": [
       "  0%|          | 0/1 [00:00<?, ?it/s]"
      ]
     },
     "metadata": {},
     "output_type": "display_data"
    },
    {
     "data": {
      "application/vnd.jupyter.widget-view+json": {
       "model_id": "6aceb827857844438ccfa50e9946472f",
       "version_major": 2,
       "version_minor": 0
      },
      "text/plain": [
       "  0%|          | 0/1 [00:00<?, ?it/s]"
      ]
     },
     "metadata": {},
     "output_type": "display_data"
    },
    {
     "data": {
      "application/vnd.jupyter.widget-view+json": {
       "model_id": "438a85a7364241dc91c6275efa5c5ccd",
       "version_major": 2,
       "version_minor": 0
      },
      "text/plain": [
       "  0%|          | 0/1 [00:00<?, ?it/s]"
      ]
     },
     "metadata": {},
     "output_type": "display_data"
    },
    {
     "data": {
      "application/vnd.jupyter.widget-view+json": {
       "model_id": "9572f27e12ed4e009c30f587539667ab",
       "version_major": 2,
       "version_minor": 0
      },
      "text/plain": [
       "  0%|          | 0/1 [00:00<?, ?it/s]"
      ]
     },
     "metadata": {},
     "output_type": "display_data"
    },
    {
     "data": {
      "application/vnd.jupyter.widget-view+json": {
       "model_id": "5bda1b2d76924ec7aeb76ed0956efee0",
       "version_major": 2,
       "version_minor": 0
      },
      "text/plain": [
       "  0%|          | 0/1 [00:00<?, ?it/s]"
      ]
     },
     "metadata": {},
     "output_type": "display_data"
    },
    {
     "data": {
      "application/vnd.jupyter.widget-view+json": {
       "model_id": "7fedaac1d8a84e3ba62ad7ae06362288",
       "version_major": 2,
       "version_minor": 0
      },
      "text/plain": [
       "  0%|          | 0/1 [00:00<?, ?it/s]"
      ]
     },
     "metadata": {},
     "output_type": "display_data"
    },
    {
     "data": {
      "application/vnd.jupyter.widget-view+json": {
       "model_id": "764779676ff24fb490b9c43100b4b535",
       "version_major": 2,
       "version_minor": 0
      },
      "text/plain": [
       "  0%|          | 0/1 [00:00<?, ?it/s]"
      ]
     },
     "metadata": {},
     "output_type": "display_data"
    },
    {
     "data": {
      "application/vnd.jupyter.widget-view+json": {
       "model_id": "8de4bcc355cc43edb18b886d7d9fba9a",
       "version_major": 2,
       "version_minor": 0
      },
      "text/plain": [
       "  0%|          | 0/1 [00:00<?, ?it/s]"
      ]
     },
     "metadata": {},
     "output_type": "display_data"
    },
    {
     "data": {
      "application/vnd.jupyter.widget-view+json": {
       "model_id": "a85fa1003c264ca48f0ed30dc11afb18",
       "version_major": 2,
       "version_minor": 0
      },
      "text/plain": [
       "  0%|          | 0/1 [00:00<?, ?it/s]"
      ]
     },
     "metadata": {},
     "output_type": "display_data"
    },
    {
     "data": {
      "application/vnd.jupyter.widget-view+json": {
       "model_id": "cdca71ec702a48219b04103d7eb37c5e",
       "version_major": 2,
       "version_minor": 0
      },
      "text/plain": [
       "  0%|          | 0/1 [00:00<?, ?it/s]"
      ]
     },
     "metadata": {},
     "output_type": "display_data"
    },
    {
     "data": {
      "application/vnd.jupyter.widget-view+json": {
       "model_id": "620107772718452b9d9cadc16008fd07",
       "version_major": 2,
       "version_minor": 0
      },
      "text/plain": [
       "  0%|          | 0/1 [00:00<?, ?it/s]"
      ]
     },
     "metadata": {},
     "output_type": "display_data"
    },
    {
     "data": {
      "application/vnd.jupyter.widget-view+json": {
       "model_id": "812d9df8eb6946938bc96db86e69de3b",
       "version_major": 2,
       "version_minor": 0
      },
      "text/plain": [
       "  0%|          | 0/1 [00:00<?, ?it/s]"
      ]
     },
     "metadata": {},
     "output_type": "display_data"
    },
    {
     "data": {
      "application/vnd.jupyter.widget-view+json": {
       "model_id": "faf5b836768645eb879f827a1a6c0edb",
       "version_major": 2,
       "version_minor": 0
      },
      "text/plain": [
       "  0%|          | 0/1 [00:00<?, ?it/s]"
      ]
     },
     "metadata": {},
     "output_type": "display_data"
    },
    {
     "data": {
      "application/vnd.jupyter.widget-view+json": {
       "model_id": "cea5b703dec34c3db2c227c43216ddb2",
       "version_major": 2,
       "version_minor": 0
      },
      "text/plain": [
       "  0%|          | 0/1 [00:00<?, ?it/s]"
      ]
     },
     "metadata": {},
     "output_type": "display_data"
    },
    {
     "data": {
      "application/vnd.jupyter.widget-view+json": {
       "model_id": "08a79aa0cc524ebda40607bec8df70ee",
       "version_major": 2,
       "version_minor": 0
      },
      "text/plain": [
       "  0%|          | 0/1 [00:00<?, ?it/s]"
      ]
     },
     "metadata": {},
     "output_type": "display_data"
    },
    {
     "data": {
      "application/vnd.jupyter.widget-view+json": {
       "model_id": "e516c4a1739a49bab92f3858ebcff01e",
       "version_major": 2,
       "version_minor": 0
      },
      "text/plain": [
       "  0%|          | 0/1 [00:00<?, ?it/s]"
      ]
     },
     "metadata": {},
     "output_type": "display_data"
    },
    {
     "data": {
      "application/vnd.jupyter.widget-view+json": {
       "model_id": "7ee560418a634a889e1c68ce2f5c0ac2",
       "version_major": 2,
       "version_minor": 0
      },
      "text/plain": [
       "  0%|          | 0/1 [00:00<?, ?it/s]"
      ]
     },
     "metadata": {},
     "output_type": "display_data"
    },
    {
     "data": {
      "application/vnd.jupyter.widget-view+json": {
       "model_id": "fd94679fd9ca44b5829add10004f4235",
       "version_major": 2,
       "version_minor": 0
      },
      "text/plain": [
       "  0%|          | 0/1 [00:00<?, ?it/s]"
      ]
     },
     "metadata": {},
     "output_type": "display_data"
    },
    {
     "data": {
      "application/vnd.jupyter.widget-view+json": {
       "model_id": "1aa03625f23545f4b75ff48c1fb8875b",
       "version_major": 2,
       "version_minor": 0
      },
      "text/plain": [
       "  0%|          | 0/1 [00:00<?, ?it/s]"
      ]
     },
     "metadata": {},
     "output_type": "display_data"
    },
    {
     "data": {
      "application/vnd.jupyter.widget-view+json": {
       "model_id": "7d7343e648474544bc3874ac73a48818",
       "version_major": 2,
       "version_minor": 0
      },
      "text/plain": [
       "  0%|          | 0/1 [00:00<?, ?it/s]"
      ]
     },
     "metadata": {},
     "output_type": "display_data"
    },
    {
     "data": {
      "application/vnd.jupyter.widget-view+json": {
       "model_id": "9667b55c77754b9dae3f1809b423176f",
       "version_major": 2,
       "version_minor": 0
      },
      "text/plain": [
       "  0%|          | 0/1 [00:00<?, ?it/s]"
      ]
     },
     "metadata": {},
     "output_type": "display_data"
    },
    {
     "name": "stdout",
     "output_type": "stream",
     "text": [
      "122 ms ± 1.92 ms per loop (mean ± std. dev. of 7 runs, 10 loops each)\n"
     ]
    }
   ],
   "source": [
    "%%timeit\n",
    "sample = data_cleaned['RS_2020_nosleep'].iloc[0:1].selftext.item()\n",
    "bias(sample, frame={('man', 'woman')})"
   ]
  },
  {
   "cell_type": "markdown",
   "metadata": {},
   "source": [
    "# $B^T$ (failed for now)"
   ]
  },
  {
   "cell_type": "code",
   "execution_count": 33,
   "metadata": {},
   "outputs": [],
   "source": [
    "import pandas as pd\n",
    "concat_df = pd.concat([data_cleaned['RS_2020_self'], data_cleaned['RS_2020_nosleep']])"
   ]
  },
  {
   "cell_type": "code",
   "execution_count": 34,
   "metadata": {},
   "outputs": [],
   "source": [
    "np.savetxt(\"Download/concat_texts.txt\", concat_df['selftext'].astype('string').values, fmt='%s')"
   ]
  },
  {
   "cell_type": "code",
   "execution_count": 35,
   "metadata": {},
   "outputs": [],
   "source": [
    "with open('Download/concat_texts.txt', 'r') as file:\n",
    "    concat_texts = file.read()"
   ]
  },
  {
   "cell_type": "code",
   "execution_count": 36,
   "metadata": {},
   "outputs": [],
   "source": [
    "# bias(concat_texts, frame = 'man - woman')"
   ]
  },
  {
   "cell_type": "markdown",
   "metadata": {},
   "source": [
    "## Intensity (failed for now)"
   ]
  },
  {
   "cell_type": "markdown",
   "metadata": {},
   "source": [
    "### Create the entire corpus *T*"
   ]
  },
  {
   "cell_type": "code",
   "execution_count": 37,
   "metadata": {},
   "outputs": [],
   "source": [
    "# I\n",
    "def intensity(doc, frame=None, corpus = concat_texts):\n",
    "    doc_tokens = nltk.word_tokenize(doc)\n",
    "    \n",
    "    print('Calculating B^T')\n",
    "    B_T = bias(corpus, frame = frame)\n",
    "    print('Done')\n",
    "    numerator, denominator = sum([word_freq(word, doc_tokens) * (cos_similarity(word, semantic_axis_vectors[frame]) - B_T)**2 for word in doc_tokens]), sum([word_freq(word, doc_tokens) for word in doc_tokens])\n",
    "        \n",
    "    return numerator / denominator"
   ]
  },
  {
   "cell_type": "code",
   "execution_count": 38,
   "metadata": {},
   "outputs": [],
   "source": [
    "sample = data_cleaned['RS_2020_nosleep'].iloc[0:1].selftext.item()\n",
    "# intensity(sample, frame='man - woman', corpus = concat_texts)"
   ]
  },
  {
   "cell_type": "code",
   "execution_count": null,
   "metadata": {},
   "outputs": [],
   "source": []
  },
  {
   "cell_type": "markdown",
   "metadata": {},
   "source": [
    "# 4. Statistical Significance of Microframes"
   ]
  },
  {
   "cell_type": "code",
   "execution_count": 39,
   "metadata": {},
   "outputs": [],
   "source": [
    "import pandas as pd\n",
    "import numpy as np\n",
    "\n",
    "def df_mframes(df, microframes=microframes, topn=None):\n",
    "    # if not specify topn\n",
    "    if not topn:\n",
    "        iterables = [df['id'].to_list(), list(microframes)]\n",
    "        index = pd.MultiIndex.from_product(iterables, names=['id', 'microframe'])\n",
    "        df_new = pd.DataFrame(np.repeat(df[['title', 'selftext', 'score']].values, \n",
    "                                    len(microframes), \n",
    "                                    axis = 0),\n",
    "                          index=index,\n",
    "                          columns=['title', 'selftext', 'score']).copy()\n",
    "        # map semantic axis vector to index\n",
    "        # how it works: index -> get 2nd level index -> to series -> convert tuple to string -> map values\n",
    "        a = df_new.index.get_level_values(1).to_series().apply(lambda row: f\"({row[0]}, {row[1]})\").map(semantic_axis_vectors)\n",
    "        df_new['Semantic Axis Vector'] = a.to_list()\n",
    "        return df_new\n",
    "    else:\n",
    "        iterables = [df['id'].head(topn).to_list(), list(microframes)]\n",
    "        index = pd.MultiIndex.from_product(iterables, names=['id', 'microframe'])\n",
    "        df_new = pd.DataFrame(np.repeat(df[['title', 'selftext', 'score']].head(topn).values, \n",
    "                                    len(microframes), \n",
    "                                    axis = 0),\n",
    "                          index=index,\n",
    "                          columns=['title', 'selftext', 'score']).copy()\n",
    "        # map semantic axis vector to index\n",
    "        # how it works: index -> get 2nd level index -> to series -> convert tuple to string -> map values\n",
    "        a = df_new.index.get_level_values(1).to_series().apply(lambda row: f\"({row[0]}, {row[1]})\").map(semantic_axis_vectors)\n",
    "        df_new['Semantic Axis Vector'] = a.to_list()\n",
    "        return df_new"
   ]
  },
  {
   "cell_type": "code",
   "execution_count": 40,
   "metadata": {},
   "outputs": [],
   "source": [
    "sample_doc = data_cleaned['RS_2020_nosleep'].iloc[0:1].selftext.item()"
   ]
  },
  {
   "cell_type": "code",
   "execution_count": 41,
   "metadata": {},
   "outputs": [
    {
     "data": {
      "text/plain": [
       "\"This is the only rule of our household. If you feel a presence standing over you while you sleep, do **NOT** open your eyes. Ignore it and try to fall asleep. This may sound a bit like the show Bird Box from Netflix but this is real, this is serious. You don't want to know what happens if you open your eyes. Let me start from the beginning, from where it all began.\\n\\n------------------------\\n\\nMy family had just moved to a new house in a new city in an eerily quiet neighborhood. We barely ever saw the neighbors and there were almost no animals around. It threw me off a little bit but i quickly got accustomed to it. My school was pretty close to my house so it was not difficult to make friends that I could regularly bring home. So, a few months in the new house, when i was sleeping one night, i felt a figure standing over me. Now, I have always been a bit of a scaredy cat so I slammed my eyes shut and waited. A few moments later, I felt it go away. This happened to me every night and I continuously told my parents about it but they never believed me. They said that i was dreaming and not to think about it too much but i kept on badgering them until they finally installed a camera in every room just as a precaution. The next night when the presence came again, i followed the same routine of keeping my eyes shut until it went away. The next morning i asked my parents to check the cameras. Even though they were skeptical, they checked the camera and what they saw apparently shocked them to the core but me, not so much.\\n\\nThe camera showed that when i go to sleep, or act like it, a shadowy figure came and stood over my bed with its face hidden in such a fashion that it can only be seen if the person in the bed looked straight up. The figure/creature appeared to be wearing some sort of cloak with a 5 point star drawn on it. Now, my family is not very religious but seemed to horrify my parents. The problem was, which we soon figured out, we could not go to the church or temple or any kind of holy place without angering this creature. Every time any of my parents set out to go to any of these places, dangerous incidents seem to happen which, don't happen to kill, but seem to be some kind of warning like the car swerving off the road or a car speeding dangerously close while crossing the road. We soon realized that something supernatural was at play.\\n\\nIt was after my mom almost got run over by a cement mixture truck that we gave up our attempts to contact a holy leader. We made the rule and to this day we have never had a single incident except ONE. But that is a story for some other time...\""
      ]
     },
     "execution_count": 41,
     "metadata": {},
     "output_type": "execute_result"
    }
   ],
   "source": [
    "sample_doc"
   ]
  },
  {
   "cell_type": "code",
   "execution_count": 42,
   "metadata": {},
   "outputs": [],
   "source": [
    "with open('Download/concat_texts.txt', 'r') as file:\n",
    "    concat_texts = file.read()\n",
    "    T = nltk.word_tokenize(concat_texts)"
   ]
  },
  {
   "cell_type": "code",
   "execution_count": 43,
   "metadata": {},
   "outputs": [
    {
     "data": {
      "text/plain": [
       "575"
      ]
     },
     "execution_count": 43,
     "metadata": {},
     "output_type": "execute_result"
    }
   ],
   "source": [
    "len(nltk.word_tokenize(sample_doc))"
   ]
  },
  {
   "cell_type": "code",
   "execution_count": 40,
   "metadata": {
    "collapsed": true,
    "jupyter": {
     "outputs_hidden": true
    }
   },
   "outputs": [
    {
     "data": {
      "application/vnd.jupyter.widget-view+json": {
       "model_id": "6b41d0161bb544b1b08ab22e85fffc80",
       "version_major": 2,
       "version_minor": 0
      },
      "text/plain": [
       "  0%|          | 0/140 [00:00<?, ?it/s]"
      ]
     },
     "metadata": {},
     "output_type": "display_data"
    },
    {
     "data": {
      "application/vnd.jupyter.widget-view+json": {
       "model_id": "b8d07553690e4c81b43b6a3f0da20ed7",
       "version_major": 2,
       "version_minor": 0
      },
      "text/plain": [
       "  0%|          | 0/3133 [00:00<?, ?it/s]"
      ]
     },
     "metadata": {},
     "output_type": "display_data"
    },
    {
     "data": {
      "application/vnd.jupyter.widget-view+json": {
       "model_id": "d64f532b45304eb2af8e77e891ab3524",
       "version_major": 2,
       "version_minor": 0
      },
      "text/plain": [
       "  0%|          | 0/3133 [00:00<?, ?it/s]"
      ]
     },
     "metadata": {},
     "output_type": "display_data"
    },
    {
     "data": {
      "application/vnd.jupyter.widget-view+json": {
       "model_id": "4af4b6b7ec5a4dd18c0e5e421fc509ff",
       "version_major": 2,
       "version_minor": 0
      },
      "text/plain": [
       "  0%|          | 0/3133 [00:00<?, ?it/s]"
      ]
     },
     "metadata": {},
     "output_type": "display_data"
    },
    {
     "data": {
      "application/vnd.jupyter.widget-view+json": {
       "model_id": "dc45f3f8e380445c90976a86cf9454a0",
       "version_major": 2,
       "version_minor": 0
      },
      "text/plain": [
       "  0%|          | 0/3133 [00:00<?, ?it/s]"
      ]
     },
     "metadata": {},
     "output_type": "display_data"
    },
    {
     "data": {
      "application/vnd.jupyter.widget-view+json": {
       "model_id": "304df3384a134a3e957956e70082720c",
       "version_major": 2,
       "version_minor": 0
      },
      "text/plain": [
       "  0%|          | 0/3133 [00:00<?, ?it/s]"
      ]
     },
     "metadata": {},
     "output_type": "display_data"
    },
    {
     "data": {
      "application/vnd.jupyter.widget-view+json": {
       "model_id": "2fbed18f242b44dc8fa3fda5c6a1f3bc",
       "version_major": 2,
       "version_minor": 0
      },
      "text/plain": [
       "  0%|          | 0/3133 [00:00<?, ?it/s]"
      ]
     },
     "metadata": {},
     "output_type": "display_data"
    },
    {
     "data": {
      "application/vnd.jupyter.widget-view+json": {
       "model_id": "6978aabc1e954c129796fdb731f288d6",
       "version_major": 2,
       "version_minor": 0
      },
      "text/plain": [
       "  0%|          | 0/3133 [00:00<?, ?it/s]"
      ]
     },
     "metadata": {},
     "output_type": "display_data"
    },
    {
     "data": {
      "application/vnd.jupyter.widget-view+json": {
       "model_id": "3a4235616f0c4b6cbcf82ab818c51368",
       "version_major": 2,
       "version_minor": 0
      },
      "text/plain": [
       "  0%|          | 0/3133 [00:00<?, ?it/s]"
      ]
     },
     "metadata": {},
     "output_type": "display_data"
    },
    {
     "data": {
      "application/vnd.jupyter.widget-view+json": {
       "model_id": "0c9e2ef863584f94b7d768de1f95aa18",
       "version_major": 2,
       "version_minor": 0
      },
      "text/plain": [
       "  0%|          | 0/3133 [00:00<?, ?it/s]"
      ]
     },
     "metadata": {},
     "output_type": "display_data"
    },
    {
     "data": {
      "application/vnd.jupyter.widget-view+json": {
       "model_id": "3cd3809d5f4745009663dd8058e2fcaa",
       "version_major": 2,
       "version_minor": 0
      },
      "text/plain": [
       "  0%|          | 0/3133 [00:00<?, ?it/s]"
      ]
     },
     "metadata": {},
     "output_type": "display_data"
    },
    {
     "data": {
      "application/vnd.jupyter.widget-view+json": {
       "model_id": "1d22f1675122423398a97de68cc4c5fe",
       "version_major": 2,
       "version_minor": 0
      },
      "text/plain": [
       "  0%|          | 0/3133 [00:00<?, ?it/s]"
      ]
     },
     "metadata": {},
     "output_type": "display_data"
    },
    {
     "data": {
      "application/vnd.jupyter.widget-view+json": {
       "model_id": "827a4b5f53024c4aabd6ef80de1a9889",
       "version_major": 2,
       "version_minor": 0
      },
      "text/plain": [
       "  0%|          | 0/3133 [00:00<?, ?it/s]"
      ]
     },
     "metadata": {},
     "output_type": "display_data"
    },
    {
     "data": {
      "application/vnd.jupyter.widget-view+json": {
       "model_id": "f448d902024745a1a226cc3bc6f5a514",
       "version_major": 2,
       "version_minor": 0
      },
      "text/plain": [
       "  0%|          | 0/3133 [00:00<?, ?it/s]"
      ]
     },
     "metadata": {},
     "output_type": "display_data"
    },
    {
     "data": {
      "application/vnd.jupyter.widget-view+json": {
       "model_id": "cb4099d47bdd4eecbdcb53f410eca8e3",
       "version_major": 2,
       "version_minor": 0
      },
      "text/plain": [
       "  0%|          | 0/3133 [00:00<?, ?it/s]"
      ]
     },
     "metadata": {},
     "output_type": "display_data"
    },
    {
     "data": {
      "application/vnd.jupyter.widget-view+json": {
       "model_id": "e15f1d74bcda43e6ac873679e20ae483",
       "version_major": 2,
       "version_minor": 0
      },
      "text/plain": [
       "  0%|          | 0/3133 [00:00<?, ?it/s]"
      ]
     },
     "metadata": {},
     "output_type": "display_data"
    },
    {
     "data": {
      "application/vnd.jupyter.widget-view+json": {
       "model_id": "4612b04f72fe4fd591571f52a539f321",
       "version_major": 2,
       "version_minor": 0
      },
      "text/plain": [
       "  0%|          | 0/3133 [00:00<?, ?it/s]"
      ]
     },
     "metadata": {},
     "output_type": "display_data"
    },
    {
     "data": {
      "application/vnd.jupyter.widget-view+json": {
       "model_id": "7ae2b47f0ff64c5486bab9fbb47aab8b",
       "version_major": 2,
       "version_minor": 0
      },
      "text/plain": [
       "  0%|          | 0/3133 [00:00<?, ?it/s]"
      ]
     },
     "metadata": {},
     "output_type": "display_data"
    },
    {
     "data": {
      "application/vnd.jupyter.widget-view+json": {
       "model_id": "b14703b75fe645588d034b479e295156",
       "version_major": 2,
       "version_minor": 0
      },
      "text/plain": [
       "  0%|          | 0/3133 [00:00<?, ?it/s]"
      ]
     },
     "metadata": {},
     "output_type": "display_data"
    },
    {
     "data": {
      "application/vnd.jupyter.widget-view+json": {
       "model_id": "a721f99253e74f6a91f04800053ddb16",
       "version_major": 2,
       "version_minor": 0
      },
      "text/plain": [
       "  0%|          | 0/3133 [00:00<?, ?it/s]"
      ]
     },
     "metadata": {},
     "output_type": "display_data"
    },
    {
     "data": {
      "application/vnd.jupyter.widget-view+json": {
       "model_id": "825b695469184be3ae42cbdfba241bb9",
       "version_major": 2,
       "version_minor": 0
      },
      "text/plain": [
       "  0%|          | 0/3133 [00:00<?, ?it/s]"
      ]
     },
     "metadata": {},
     "output_type": "display_data"
    },
    {
     "data": {
      "application/vnd.jupyter.widget-view+json": {
       "model_id": "c2842476b54b4cafa1f6b6c3dd104f1b",
       "version_major": 2,
       "version_minor": 0
      },
      "text/plain": [
       "  0%|          | 0/3133 [00:00<?, ?it/s]"
      ]
     },
     "metadata": {},
     "output_type": "display_data"
    },
    {
     "data": {
      "application/vnd.jupyter.widget-view+json": {
       "model_id": "56920a99ff90447084de44f2cc071fa6",
       "version_major": 2,
       "version_minor": 0
      },
      "text/plain": [
       "  0%|          | 0/3133 [00:00<?, ?it/s]"
      ]
     },
     "metadata": {},
     "output_type": "display_data"
    },
    {
     "data": {
      "application/vnd.jupyter.widget-view+json": {
       "model_id": "754ebfd45d8340108b58f343a4b2365c",
       "version_major": 2,
       "version_minor": 0
      },
      "text/plain": [
       "  0%|          | 0/3133 [00:00<?, ?it/s]"
      ]
     },
     "metadata": {},
     "output_type": "display_data"
    },
    {
     "data": {
      "application/vnd.jupyter.widget-view+json": {
       "model_id": "9c21b57a7cf645cea369aab3c266dc2f",
       "version_major": 2,
       "version_minor": 0
      },
      "text/plain": [
       "  0%|          | 0/3133 [00:00<?, ?it/s]"
      ]
     },
     "metadata": {},
     "output_type": "display_data"
    },
    {
     "data": {
      "application/vnd.jupyter.widget-view+json": {
       "model_id": "cda6f0eda4f2408ea69c831c26580216",
       "version_major": 2,
       "version_minor": 0
      },
      "text/plain": [
       "  0%|          | 0/3133 [00:00<?, ?it/s]"
      ]
     },
     "metadata": {},
     "output_type": "display_data"
    },
    {
     "data": {
      "application/vnd.jupyter.widget-view+json": {
       "model_id": "6f743ea4d2a1414cafb0250789d0d0ef",
       "version_major": 2,
       "version_minor": 0
      },
      "text/plain": [
       "  0%|          | 0/3133 [00:00<?, ?it/s]"
      ]
     },
     "metadata": {},
     "output_type": "display_data"
    },
    {
     "data": {
      "application/vnd.jupyter.widget-view+json": {
       "model_id": "84766d95726449b48fdf2c444b451423",
       "version_major": 2,
       "version_minor": 0
      },
      "text/plain": [
       "  0%|          | 0/3133 [00:00<?, ?it/s]"
      ]
     },
     "metadata": {},
     "output_type": "display_data"
    },
    {
     "data": {
      "application/vnd.jupyter.widget-view+json": {
       "model_id": "04650c0103cd4eb98cbbd022027c1458",
       "version_major": 2,
       "version_minor": 0
      },
      "text/plain": [
       "  0%|          | 0/3133 [00:00<?, ?it/s]"
      ]
     },
     "metadata": {},
     "output_type": "display_data"
    },
    {
     "data": {
      "application/vnd.jupyter.widget-view+json": {
       "model_id": "77a1fc7144c3441e9aee85ae55408a8c",
       "version_major": 2,
       "version_minor": 0
      },
      "text/plain": [
       "  0%|          | 0/3133 [00:00<?, ?it/s]"
      ]
     },
     "metadata": {},
     "output_type": "display_data"
    },
    {
     "data": {
      "application/vnd.jupyter.widget-view+json": {
       "model_id": "49dffdaaba224b51ba4046877464027d",
       "version_major": 2,
       "version_minor": 0
      },
      "text/plain": [
       "  0%|          | 0/3133 [00:00<?, ?it/s]"
      ]
     },
     "metadata": {},
     "output_type": "display_data"
    },
    {
     "data": {
      "application/vnd.jupyter.widget-view+json": {
       "model_id": "f6453454b85444df9dd51d82217e6609",
       "version_major": 2,
       "version_minor": 0
      },
      "text/plain": [
       "  0%|          | 0/3133 [00:00<?, ?it/s]"
      ]
     },
     "metadata": {},
     "output_type": "display_data"
    },
    {
     "data": {
      "application/vnd.jupyter.widget-view+json": {
       "model_id": "a151f921a5ac46e58fe732fc6bf44ea7",
       "version_major": 2,
       "version_minor": 0
      },
      "text/plain": [
       "  0%|          | 0/3133 [00:00<?, ?it/s]"
      ]
     },
     "metadata": {},
     "output_type": "display_data"
    },
    {
     "data": {
      "application/vnd.jupyter.widget-view+json": {
       "model_id": "d3f89495d45a4dbf9064c80aa521f6cd",
       "version_major": 2,
       "version_minor": 0
      },
      "text/plain": [
       "  0%|          | 0/3133 [00:00<?, ?it/s]"
      ]
     },
     "metadata": {},
     "output_type": "display_data"
    },
    {
     "data": {
      "application/vnd.jupyter.widget-view+json": {
       "model_id": "b8d157bc557b4bc390459f6c658b8412",
       "version_major": 2,
       "version_minor": 0
      },
      "text/plain": [
       "  0%|          | 0/3133 [00:00<?, ?it/s]"
      ]
     },
     "metadata": {},
     "output_type": "display_data"
    },
    {
     "data": {
      "application/vnd.jupyter.widget-view+json": {
       "model_id": "0e03cc2f5bd845b195d637d39eaafbac",
       "version_major": 2,
       "version_minor": 0
      },
      "text/plain": [
       "  0%|          | 0/3133 [00:00<?, ?it/s]"
      ]
     },
     "metadata": {},
     "output_type": "display_data"
    },
    {
     "data": {
      "application/vnd.jupyter.widget-view+json": {
       "model_id": "b7bd7b5fde114121bf92cefa7b8a5b17",
       "version_major": 2,
       "version_minor": 0
      },
      "text/plain": [
       "  0%|          | 0/3133 [00:00<?, ?it/s]"
      ]
     },
     "metadata": {},
     "output_type": "display_data"
    },
    {
     "data": {
      "application/vnd.jupyter.widget-view+json": {
       "model_id": "5cf759f60d1f40df88d3bff251945e8e",
       "version_major": 2,
       "version_minor": 0
      },
      "text/plain": [
       "  0%|          | 0/3133 [00:00<?, ?it/s]"
      ]
     },
     "metadata": {},
     "output_type": "display_data"
    },
    {
     "data": {
      "application/vnd.jupyter.widget-view+json": {
       "model_id": "fe340786bf284bf3aa75a74594fe06fc",
       "version_major": 2,
       "version_minor": 0
      },
      "text/plain": [
       "  0%|          | 0/3133 [00:00<?, ?it/s]"
      ]
     },
     "metadata": {},
     "output_type": "display_data"
    },
    {
     "data": {
      "application/vnd.jupyter.widget-view+json": {
       "model_id": "d99ab762782d4dd7a7f4aab2a3f55a9b",
       "version_major": 2,
       "version_minor": 0
      },
      "text/plain": [
       "  0%|          | 0/3133 [00:00<?, ?it/s]"
      ]
     },
     "metadata": {},
     "output_type": "display_data"
    },
    {
     "data": {
      "application/vnd.jupyter.widget-view+json": {
       "model_id": "b3cbc52fa7434d5d80d9ee3fb9ad3697",
       "version_major": 2,
       "version_minor": 0
      },
      "text/plain": [
       "  0%|          | 0/3133 [00:00<?, ?it/s]"
      ]
     },
     "metadata": {},
     "output_type": "display_data"
    },
    {
     "data": {
      "application/vnd.jupyter.widget-view+json": {
       "model_id": "2468f47ddf8547a88e2f9500ee3d566c",
       "version_major": 2,
       "version_minor": 0
      },
      "text/plain": [
       "  0%|          | 0/3133 [00:00<?, ?it/s]"
      ]
     },
     "metadata": {},
     "output_type": "display_data"
    },
    {
     "data": {
      "application/vnd.jupyter.widget-view+json": {
       "model_id": "99ea285f1fb148ec9bdcfc2192a4cc0a",
       "version_major": 2,
       "version_minor": 0
      },
      "text/plain": [
       "  0%|          | 0/3133 [00:00<?, ?it/s]"
      ]
     },
     "metadata": {},
     "output_type": "display_data"
    },
    {
     "data": {
      "application/vnd.jupyter.widget-view+json": {
       "model_id": "0216f8279bdf468895a2a0917c145885",
       "version_major": 2,
       "version_minor": 0
      },
      "text/plain": [
       "  0%|          | 0/3133 [00:00<?, ?it/s]"
      ]
     },
     "metadata": {},
     "output_type": "display_data"
    },
    {
     "data": {
      "application/vnd.jupyter.widget-view+json": {
       "model_id": "380f6d1ca0344b21b7ca19f00a9ed2ff",
       "version_major": 2,
       "version_minor": 0
      },
      "text/plain": [
       "  0%|          | 0/3133 [00:00<?, ?it/s]"
      ]
     },
     "metadata": {},
     "output_type": "display_data"
    },
    {
     "data": {
      "application/vnd.jupyter.widget-view+json": {
       "model_id": "e9b1f2897ab24180b46b583e14d4ed9e",
       "version_major": 2,
       "version_minor": 0
      },
      "text/plain": [
       "  0%|          | 0/3133 [00:00<?, ?it/s]"
      ]
     },
     "metadata": {},
     "output_type": "display_data"
    },
    {
     "data": {
      "application/vnd.jupyter.widget-view+json": {
       "model_id": "c34e3479f03a4f07b87625e6ee6da1f9",
       "version_major": 2,
       "version_minor": 0
      },
      "text/plain": [
       "  0%|          | 0/3133 [00:00<?, ?it/s]"
      ]
     },
     "metadata": {},
     "output_type": "display_data"
    },
    {
     "data": {
      "application/vnd.jupyter.widget-view+json": {
       "model_id": "e9990c034adc4eefaf780c4a930860df",
       "version_major": 2,
       "version_minor": 0
      },
      "text/plain": [
       "  0%|          | 0/3133 [00:00<?, ?it/s]"
      ]
     },
     "metadata": {},
     "output_type": "display_data"
    },
    {
     "data": {
      "application/vnd.jupyter.widget-view+json": {
       "model_id": "a897307bc9fc4605a7a2ef2bfa528b44",
       "version_major": 2,
       "version_minor": 0
      },
      "text/plain": [
       "  0%|          | 0/3133 [00:00<?, ?it/s]"
      ]
     },
     "metadata": {},
     "output_type": "display_data"
    },
    {
     "data": {
      "application/vnd.jupyter.widget-view+json": {
       "model_id": "63c3189ff9ad4a37a574f10fd33a8e78",
       "version_major": 2,
       "version_minor": 0
      },
      "text/plain": [
       "  0%|          | 0/3133 [00:00<?, ?it/s]"
      ]
     },
     "metadata": {},
     "output_type": "display_data"
    },
    {
     "data": {
      "application/vnd.jupyter.widget-view+json": {
       "model_id": "c8cbe8aaaa6b42cebf1163113586aeb8",
       "version_major": 2,
       "version_minor": 0
      },
      "text/plain": [
       "  0%|          | 0/3133 [00:00<?, ?it/s]"
      ]
     },
     "metadata": {},
     "output_type": "display_data"
    },
    {
     "data": {
      "application/vnd.jupyter.widget-view+json": {
       "model_id": "ad8d961374934777bf1f09910d23e27b",
       "version_major": 2,
       "version_minor": 0
      },
      "text/plain": [
       "  0%|          | 0/3133 [00:00<?, ?it/s]"
      ]
     },
     "metadata": {},
     "output_type": "display_data"
    },
    {
     "data": {
      "application/vnd.jupyter.widget-view+json": {
       "model_id": "c468f5a67f3f40378c065924999c9e7b",
       "version_major": 2,
       "version_minor": 0
      },
      "text/plain": [
       "  0%|          | 0/3133 [00:00<?, ?it/s]"
      ]
     },
     "metadata": {},
     "output_type": "display_data"
    },
    {
     "data": {
      "application/vnd.jupyter.widget-view+json": {
       "model_id": "6c3f6225a5e0495984e5cc49ea1de280",
       "version_major": 2,
       "version_minor": 0
      },
      "text/plain": [
       "  0%|          | 0/3133 [00:00<?, ?it/s]"
      ]
     },
     "metadata": {},
     "output_type": "display_data"
    },
    {
     "data": {
      "application/vnd.jupyter.widget-view+json": {
       "model_id": "3d62b7cb273b41c996fcf33d1b27da0a",
       "version_major": 2,
       "version_minor": 0
      },
      "text/plain": [
       "  0%|          | 0/3133 [00:00<?, ?it/s]"
      ]
     },
     "metadata": {},
     "output_type": "display_data"
    },
    {
     "data": {
      "application/vnd.jupyter.widget-view+json": {
       "model_id": "218cbefb1e8642939315bece99b7dd87",
       "version_major": 2,
       "version_minor": 0
      },
      "text/plain": [
       "  0%|          | 0/3133 [00:00<?, ?it/s]"
      ]
     },
     "metadata": {},
     "output_type": "display_data"
    },
    {
     "data": {
      "application/vnd.jupyter.widget-view+json": {
       "model_id": "d3940430157242929af03cc2996bd544",
       "version_major": 2,
       "version_minor": 0
      },
      "text/plain": [
       "  0%|          | 0/3133 [00:00<?, ?it/s]"
      ]
     },
     "metadata": {},
     "output_type": "display_data"
    },
    {
     "data": {
      "application/vnd.jupyter.widget-view+json": {
       "model_id": "a9d75640a7a743f98577ca0d5b2eba98",
       "version_major": 2,
       "version_minor": 0
      },
      "text/plain": [
       "  0%|          | 0/3133 [00:00<?, ?it/s]"
      ]
     },
     "metadata": {},
     "output_type": "display_data"
    },
    {
     "data": {
      "application/vnd.jupyter.widget-view+json": {
       "model_id": "41a5222ab2534b12941460b79dcf94c5",
       "version_major": 2,
       "version_minor": 0
      },
      "text/plain": [
       "  0%|          | 0/3133 [00:00<?, ?it/s]"
      ]
     },
     "metadata": {},
     "output_type": "display_data"
    },
    {
     "data": {
      "application/vnd.jupyter.widget-view+json": {
       "model_id": "d42957e2fd004e96871ceaf8cd794e61",
       "version_major": 2,
       "version_minor": 0
      },
      "text/plain": [
       "  0%|          | 0/3133 [00:00<?, ?it/s]"
      ]
     },
     "metadata": {},
     "output_type": "display_data"
    },
    {
     "data": {
      "application/vnd.jupyter.widget-view+json": {
       "model_id": "91472ebda6434a11aba0ae3acbc45b6d",
       "version_major": 2,
       "version_minor": 0
      },
      "text/plain": [
       "  0%|          | 0/3133 [00:00<?, ?it/s]"
      ]
     },
     "metadata": {},
     "output_type": "display_data"
    },
    {
     "data": {
      "application/vnd.jupyter.widget-view+json": {
       "model_id": "af8bbba3e3344307bd2c8df8ffd18e17",
       "version_major": 2,
       "version_minor": 0
      },
      "text/plain": [
       "  0%|          | 0/3133 [00:00<?, ?it/s]"
      ]
     },
     "metadata": {},
     "output_type": "display_data"
    },
    {
     "data": {
      "application/vnd.jupyter.widget-view+json": {
       "model_id": "d95f43610f824353b6d879d79b571557",
       "version_major": 2,
       "version_minor": 0
      },
      "text/plain": [
       "  0%|          | 0/3133 [00:00<?, ?it/s]"
      ]
     },
     "metadata": {},
     "output_type": "display_data"
    },
    {
     "data": {
      "application/vnd.jupyter.widget-view+json": {
       "model_id": "c1ddb1b2a97a43358df900f1fb5167d7",
       "version_major": 2,
       "version_minor": 0
      },
      "text/plain": [
       "  0%|          | 0/3133 [00:00<?, ?it/s]"
      ]
     },
     "metadata": {},
     "output_type": "display_data"
    },
    {
     "data": {
      "application/vnd.jupyter.widget-view+json": {
       "model_id": "24a8c041739c401bba8cb2e880d354b6",
       "version_major": 2,
       "version_minor": 0
      },
      "text/plain": [
       "  0%|          | 0/3133 [00:00<?, ?it/s]"
      ]
     },
     "metadata": {},
     "output_type": "display_data"
    },
    {
     "data": {
      "application/vnd.jupyter.widget-view+json": {
       "model_id": "a602693392ae4c8899810add96746d10",
       "version_major": 2,
       "version_minor": 0
      },
      "text/plain": [
       "  0%|          | 0/3133 [00:00<?, ?it/s]"
      ]
     },
     "metadata": {},
     "output_type": "display_data"
    },
    {
     "data": {
      "application/vnd.jupyter.widget-view+json": {
       "model_id": "d00621053c0644b698d021551ce82bdd",
       "version_major": 2,
       "version_minor": 0
      },
      "text/plain": [
       "  0%|          | 0/3133 [00:00<?, ?it/s]"
      ]
     },
     "metadata": {},
     "output_type": "display_data"
    },
    {
     "data": {
      "application/vnd.jupyter.widget-view+json": {
       "model_id": "f5941fc5cffb4970a86afc9c2de263ba",
       "version_major": 2,
       "version_minor": 0
      },
      "text/plain": [
       "  0%|          | 0/3133 [00:00<?, ?it/s]"
      ]
     },
     "metadata": {},
     "output_type": "display_data"
    },
    {
     "data": {
      "application/vnd.jupyter.widget-view+json": {
       "model_id": "b52c3b2adac84ca49db520ab01e03c6b",
       "version_major": 2,
       "version_minor": 0
      },
      "text/plain": [
       "  0%|          | 0/3133 [00:00<?, ?it/s]"
      ]
     },
     "metadata": {},
     "output_type": "display_data"
    },
    {
     "data": {
      "application/vnd.jupyter.widget-view+json": {
       "model_id": "3e9cfa23e6a64e4589b7401a062e5041",
       "version_major": 2,
       "version_minor": 0
      },
      "text/plain": [
       "  0%|          | 0/3133 [00:00<?, ?it/s]"
      ]
     },
     "metadata": {},
     "output_type": "display_data"
    },
    {
     "data": {
      "application/vnd.jupyter.widget-view+json": {
       "model_id": "23e8634a2ac64ca8831271bad205573a",
       "version_major": 2,
       "version_minor": 0
      },
      "text/plain": [
       "  0%|          | 0/3133 [00:00<?, ?it/s]"
      ]
     },
     "metadata": {},
     "output_type": "display_data"
    },
    {
     "data": {
      "application/vnd.jupyter.widget-view+json": {
       "model_id": "a9fffc6e560b4240b0c4ad44d1d65ed0",
       "version_major": 2,
       "version_minor": 0
      },
      "text/plain": [
       "  0%|          | 0/3133 [00:00<?, ?it/s]"
      ]
     },
     "metadata": {},
     "output_type": "display_data"
    },
    {
     "data": {
      "application/vnd.jupyter.widget-view+json": {
       "model_id": "ff63cdbf493145b29d09ee6a329c3a10",
       "version_major": 2,
       "version_minor": 0
      },
      "text/plain": [
       "  0%|          | 0/3133 [00:00<?, ?it/s]"
      ]
     },
     "metadata": {},
     "output_type": "display_data"
    },
    {
     "data": {
      "application/vnd.jupyter.widget-view+json": {
       "model_id": "e205f4dc9afb4b8abb6086203d18c67a",
       "version_major": 2,
       "version_minor": 0
      },
      "text/plain": [
       "  0%|          | 0/3133 [00:00<?, ?it/s]"
      ]
     },
     "metadata": {},
     "output_type": "display_data"
    },
    {
     "data": {
      "application/vnd.jupyter.widget-view+json": {
       "model_id": "937dccda70e74cf991b5f44fc06deb5c",
       "version_major": 2,
       "version_minor": 0
      },
      "text/plain": [
       "  0%|          | 0/3133 [00:00<?, ?it/s]"
      ]
     },
     "metadata": {},
     "output_type": "display_data"
    },
    {
     "data": {
      "application/vnd.jupyter.widget-view+json": {
       "model_id": "c25b890dab4f43849e54f13d99a7f279",
       "version_major": 2,
       "version_minor": 0
      },
      "text/plain": [
       "  0%|          | 0/3133 [00:00<?, ?it/s]"
      ]
     },
     "metadata": {},
     "output_type": "display_data"
    },
    {
     "data": {
      "application/vnd.jupyter.widget-view+json": {
       "model_id": "b4f07b7765a44165a14c5338f43afb3e",
       "version_major": 2,
       "version_minor": 0
      },
      "text/plain": [
       "  0%|          | 0/3133 [00:00<?, ?it/s]"
      ]
     },
     "metadata": {},
     "output_type": "display_data"
    },
    {
     "data": {
      "application/vnd.jupyter.widget-view+json": {
       "model_id": "e88b08f1ea014aa5a5918f484259251a",
       "version_major": 2,
       "version_minor": 0
      },
      "text/plain": [
       "  0%|          | 0/3133 [00:00<?, ?it/s]"
      ]
     },
     "metadata": {},
     "output_type": "display_data"
    },
    {
     "data": {
      "application/vnd.jupyter.widget-view+json": {
       "model_id": "8d7f8f0e92604e11aa25b28e8e2472ea",
       "version_major": 2,
       "version_minor": 0
      },
      "text/plain": [
       "  0%|          | 0/3133 [00:00<?, ?it/s]"
      ]
     },
     "metadata": {},
     "output_type": "display_data"
    },
    {
     "data": {
      "application/vnd.jupyter.widget-view+json": {
       "model_id": "e279eac092ee4a9d8ff28531d87b2298",
       "version_major": 2,
       "version_minor": 0
      },
      "text/plain": [
       "  0%|          | 0/3133 [00:00<?, ?it/s]"
      ]
     },
     "metadata": {},
     "output_type": "display_data"
    },
    {
     "data": {
      "application/vnd.jupyter.widget-view+json": {
       "model_id": "a26fed95bbfa499295f6dcd988ca0bf4",
       "version_major": 2,
       "version_minor": 0
      },
      "text/plain": [
       "  0%|          | 0/3133 [00:00<?, ?it/s]"
      ]
     },
     "metadata": {},
     "output_type": "display_data"
    },
    {
     "data": {
      "application/vnd.jupyter.widget-view+json": {
       "model_id": "50704447fba34aae8b69d2e1e320fe41",
       "version_major": 2,
       "version_minor": 0
      },
      "text/plain": [
       "  0%|          | 0/3133 [00:00<?, ?it/s]"
      ]
     },
     "metadata": {},
     "output_type": "display_data"
    },
    {
     "data": {
      "application/vnd.jupyter.widget-view+json": {
       "model_id": "067549b5c09f440daaf81cd957810cdf",
       "version_major": 2,
       "version_minor": 0
      },
      "text/plain": [
       "  0%|          | 0/3133 [00:00<?, ?it/s]"
      ]
     },
     "metadata": {},
     "output_type": "display_data"
    },
    {
     "data": {
      "application/vnd.jupyter.widget-view+json": {
       "model_id": "d4da08dc092649688c78509210c3e33b",
       "version_major": 2,
       "version_minor": 0
      },
      "text/plain": [
       "  0%|          | 0/3133 [00:00<?, ?it/s]"
      ]
     },
     "metadata": {},
     "output_type": "display_data"
    },
    {
     "data": {
      "application/vnd.jupyter.widget-view+json": {
       "model_id": "4926c6d4c35942f3b4ea02caf0908124",
       "version_major": 2,
       "version_minor": 0
      },
      "text/plain": [
       "  0%|          | 0/3133 [00:00<?, ?it/s]"
      ]
     },
     "metadata": {},
     "output_type": "display_data"
    },
    {
     "data": {
      "application/vnd.jupyter.widget-view+json": {
       "model_id": "1c4cdd057a9349a8987d1f06d6046f8f",
       "version_major": 2,
       "version_minor": 0
      },
      "text/plain": [
       "  0%|          | 0/3133 [00:00<?, ?it/s]"
      ]
     },
     "metadata": {},
     "output_type": "display_data"
    },
    {
     "data": {
      "application/vnd.jupyter.widget-view+json": {
       "model_id": "fefeedf47d4d479f91469b0331038d42",
       "version_major": 2,
       "version_minor": 0
      },
      "text/plain": [
       "  0%|          | 0/3133 [00:00<?, ?it/s]"
      ]
     },
     "metadata": {},
     "output_type": "display_data"
    },
    {
     "data": {
      "application/vnd.jupyter.widget-view+json": {
       "model_id": "7b318ee0633e442cb2e48328aaca84b1",
       "version_major": 2,
       "version_minor": 0
      },
      "text/plain": [
       "  0%|          | 0/3133 [00:00<?, ?it/s]"
      ]
     },
     "metadata": {},
     "output_type": "display_data"
    },
    {
     "data": {
      "application/vnd.jupyter.widget-view+json": {
       "model_id": "f2b1e5047b194068b888ba0155b05ca1",
       "version_major": 2,
       "version_minor": 0
      },
      "text/plain": [
       "  0%|          | 0/3133 [00:00<?, ?it/s]"
      ]
     },
     "metadata": {},
     "output_type": "display_data"
    },
    {
     "data": {
      "application/vnd.jupyter.widget-view+json": {
       "model_id": "9d4fe2a63bb3424b8a1e209d0aa6ce94",
       "version_major": 2,
       "version_minor": 0
      },
      "text/plain": [
       "  0%|          | 0/3133 [00:00<?, ?it/s]"
      ]
     },
     "metadata": {},
     "output_type": "display_data"
    },
    {
     "data": {
      "application/vnd.jupyter.widget-view+json": {
       "model_id": "4f135c872eee47e0a6527b8d5f4a1f8f",
       "version_major": 2,
       "version_minor": 0
      },
      "text/plain": [
       "  0%|          | 0/3133 [00:00<?, ?it/s]"
      ]
     },
     "metadata": {},
     "output_type": "display_data"
    },
    {
     "data": {
      "application/vnd.jupyter.widget-view+json": {
       "model_id": "26fdfb3a30eb48b5813df0182d6cf596",
       "version_major": 2,
       "version_minor": 0
      },
      "text/plain": [
       "  0%|          | 0/3133 [00:00<?, ?it/s]"
      ]
     },
     "metadata": {},
     "output_type": "display_data"
    },
    {
     "data": {
      "application/vnd.jupyter.widget-view+json": {
       "model_id": "f8c0467ac9894023a4ceb492b21cdb15",
       "version_major": 2,
       "version_minor": 0
      },
      "text/plain": [
       "  0%|          | 0/3133 [00:00<?, ?it/s]"
      ]
     },
     "metadata": {},
     "output_type": "display_data"
    },
    {
     "data": {
      "application/vnd.jupyter.widget-view+json": {
       "model_id": "451e9f21cc39425fb39804a4df36d56c",
       "version_major": 2,
       "version_minor": 0
      },
      "text/plain": [
       "  0%|          | 0/3133 [00:00<?, ?it/s]"
      ]
     },
     "metadata": {},
     "output_type": "display_data"
    },
    {
     "data": {
      "application/vnd.jupyter.widget-view+json": {
       "model_id": "8eef515b893943b69a33a1d20add2538",
       "version_major": 2,
       "version_minor": 0
      },
      "text/plain": [
       "  0%|          | 0/3133 [00:00<?, ?it/s]"
      ]
     },
     "metadata": {},
     "output_type": "display_data"
    },
    {
     "data": {
      "application/vnd.jupyter.widget-view+json": {
       "model_id": "0f7287bcbe2f43e4861da5422114668c",
       "version_major": 2,
       "version_minor": 0
      },
      "text/plain": [
       "  0%|          | 0/3133 [00:00<?, ?it/s]"
      ]
     },
     "metadata": {},
     "output_type": "display_data"
    },
    {
     "data": {
      "application/vnd.jupyter.widget-view+json": {
       "model_id": "fe27c6d1158748969b776f2bfb1eaba5",
       "version_major": 2,
       "version_minor": 0
      },
      "text/plain": [
       "  0%|          | 0/3133 [00:00<?, ?it/s]"
      ]
     },
     "metadata": {},
     "output_type": "display_data"
    },
    {
     "data": {
      "application/vnd.jupyter.widget-view+json": {
       "model_id": "edf54de28cd44153aecc054abc09232e",
       "version_major": 2,
       "version_minor": 0
      },
      "text/plain": [
       "  0%|          | 0/3133 [00:00<?, ?it/s]"
      ]
     },
     "metadata": {},
     "output_type": "display_data"
    },
    {
     "data": {
      "application/vnd.jupyter.widget-view+json": {
       "model_id": "e4c46e45d70a48578b9e13266565be26",
       "version_major": 2,
       "version_minor": 0
      },
      "text/plain": [
       "  0%|          | 0/3133 [00:00<?, ?it/s]"
      ]
     },
     "metadata": {},
     "output_type": "display_data"
    },
    {
     "data": {
      "application/vnd.jupyter.widget-view+json": {
       "model_id": "33a44ea12d7341258ea13aa2e5c2f3af",
       "version_major": 2,
       "version_minor": 0
      },
      "text/plain": [
       "  0%|          | 0/3133 [00:00<?, ?it/s]"
      ]
     },
     "metadata": {},
     "output_type": "display_data"
    },
    {
     "data": {
      "application/vnd.jupyter.widget-view+json": {
       "model_id": "5252080cbec74e3da7e644ec61c17562",
       "version_major": 2,
       "version_minor": 0
      },
      "text/plain": [
       "  0%|          | 0/3133 [00:00<?, ?it/s]"
      ]
     },
     "metadata": {},
     "output_type": "display_data"
    },
    {
     "data": {
      "application/vnd.jupyter.widget-view+json": {
       "model_id": "0146ba4ce3ce49dc9748a418b073acda",
       "version_major": 2,
       "version_minor": 0
      },
      "text/plain": [
       "  0%|          | 0/3133 [00:00<?, ?it/s]"
      ]
     },
     "metadata": {},
     "output_type": "display_data"
    },
    {
     "data": {
      "application/vnd.jupyter.widget-view+json": {
       "model_id": "f93edfcb7f1f4235ab999ac1a089fdd2",
       "version_major": 2,
       "version_minor": 0
      },
      "text/plain": [
       "  0%|          | 0/3133 [00:00<?, ?it/s]"
      ]
     },
     "metadata": {},
     "output_type": "display_data"
    },
    {
     "data": {
      "application/vnd.jupyter.widget-view+json": {
       "model_id": "d601ca867fae4335ba0a03ebbf7faf30",
       "version_major": 2,
       "version_minor": 0
      },
      "text/plain": [
       "  0%|          | 0/3133 [00:00<?, ?it/s]"
      ]
     },
     "metadata": {},
     "output_type": "display_data"
    },
    {
     "data": {
      "application/vnd.jupyter.widget-view+json": {
       "model_id": "82b8fba05eea48d5baf887f5b950a39a",
       "version_major": 2,
       "version_minor": 0
      },
      "text/plain": [
       "  0%|          | 0/3133 [00:00<?, ?it/s]"
      ]
     },
     "metadata": {},
     "output_type": "display_data"
    },
    {
     "data": {
      "application/vnd.jupyter.widget-view+json": {
       "model_id": "f0b491bf84de45698decea6f826fc4ef",
       "version_major": 2,
       "version_minor": 0
      },
      "text/plain": [
       "  0%|          | 0/3133 [00:00<?, ?it/s]"
      ]
     },
     "metadata": {},
     "output_type": "display_data"
    },
    {
     "data": {
      "application/vnd.jupyter.widget-view+json": {
       "model_id": "f34aa1c22d444c858b75d771fc1c0959",
       "version_major": 2,
       "version_minor": 0
      },
      "text/plain": [
       "  0%|          | 0/3133 [00:00<?, ?it/s]"
      ]
     },
     "metadata": {},
     "output_type": "display_data"
    },
    {
     "data": {
      "application/vnd.jupyter.widget-view+json": {
       "model_id": "8018a8e642674ba881e910067ce6d7ad",
       "version_major": 2,
       "version_minor": 0
      },
      "text/plain": [
       "  0%|          | 0/3133 [00:00<?, ?it/s]"
      ]
     },
     "metadata": {},
     "output_type": "display_data"
    },
    {
     "data": {
      "application/vnd.jupyter.widget-view+json": {
       "model_id": "7a9bb797919a423e9c9daf5dad02b84d",
       "version_major": 2,
       "version_minor": 0
      },
      "text/plain": [
       "  0%|          | 0/3133 [00:00<?, ?it/s]"
      ]
     },
     "metadata": {},
     "output_type": "display_data"
    },
    {
     "data": {
      "application/vnd.jupyter.widget-view+json": {
       "model_id": "fc0727ffb59d4a24b51b8cffed8e37d0",
       "version_major": 2,
       "version_minor": 0
      },
      "text/plain": [
       "  0%|          | 0/3133 [00:00<?, ?it/s]"
      ]
     },
     "metadata": {},
     "output_type": "display_data"
    },
    {
     "data": {
      "application/vnd.jupyter.widget-view+json": {
       "model_id": "ad7cf9efaa854914b55602cd733e13d8",
       "version_major": 2,
       "version_minor": 0
      },
      "text/plain": [
       "  0%|          | 0/3133 [00:00<?, ?it/s]"
      ]
     },
     "metadata": {},
     "output_type": "display_data"
    },
    {
     "data": {
      "application/vnd.jupyter.widget-view+json": {
       "model_id": "443f156777de4f9484c8bb6f10f675cd",
       "version_major": 2,
       "version_minor": 0
      },
      "text/plain": [
       "  0%|          | 0/3133 [00:00<?, ?it/s]"
      ]
     },
     "metadata": {},
     "output_type": "display_data"
    },
    {
     "data": {
      "application/vnd.jupyter.widget-view+json": {
       "model_id": "c0d4f00d1a444628891370f6f12c54c3",
       "version_major": 2,
       "version_minor": 0
      },
      "text/plain": [
       "  0%|          | 0/3133 [00:00<?, ?it/s]"
      ]
     },
     "metadata": {},
     "output_type": "display_data"
    },
    {
     "data": {
      "application/vnd.jupyter.widget-view+json": {
       "model_id": "73aeb8b300a9498b946c7662efd74841",
       "version_major": 2,
       "version_minor": 0
      },
      "text/plain": [
       "  0%|          | 0/3133 [00:00<?, ?it/s]"
      ]
     },
     "metadata": {},
     "output_type": "display_data"
    },
    {
     "data": {
      "application/vnd.jupyter.widget-view+json": {
       "model_id": "b07f6978f8134d438c537efb552742b5",
       "version_major": 2,
       "version_minor": 0
      },
      "text/plain": [
       "  0%|          | 0/3133 [00:00<?, ?it/s]"
      ]
     },
     "metadata": {},
     "output_type": "display_data"
    },
    {
     "data": {
      "application/vnd.jupyter.widget-view+json": {
       "model_id": "34962417ead642fe915cfd5173639eae",
       "version_major": 2,
       "version_minor": 0
      },
      "text/plain": [
       "  0%|          | 0/3133 [00:00<?, ?it/s]"
      ]
     },
     "metadata": {},
     "output_type": "display_data"
    },
    {
     "data": {
      "application/vnd.jupyter.widget-view+json": {
       "model_id": "b6abaac6437140de8c531c8a983ba84f",
       "version_major": 2,
       "version_minor": 0
      },
      "text/plain": [
       "  0%|          | 0/3133 [00:00<?, ?it/s]"
      ]
     },
     "metadata": {},
     "output_type": "display_data"
    },
    {
     "data": {
      "application/vnd.jupyter.widget-view+json": {
       "model_id": "bee020d6da4a4b24ada1d85ad08a2dad",
       "version_major": 2,
       "version_minor": 0
      },
      "text/plain": [
       "  0%|          | 0/3133 [00:00<?, ?it/s]"
      ]
     },
     "metadata": {},
     "output_type": "display_data"
    },
    {
     "data": {
      "application/vnd.jupyter.widget-view+json": {
       "model_id": "183a0416ce304d9ba57ce9fe11c907d2",
       "version_major": 2,
       "version_minor": 0
      },
      "text/plain": [
       "  0%|          | 0/3133 [00:00<?, ?it/s]"
      ]
     },
     "metadata": {},
     "output_type": "display_data"
    },
    {
     "data": {
      "application/vnd.jupyter.widget-view+json": {
       "model_id": "8f1a99df12294e1784ab31ebe5fc8043",
       "version_major": 2,
       "version_minor": 0
      },
      "text/plain": [
       "  0%|          | 0/3133 [00:00<?, ?it/s]"
      ]
     },
     "metadata": {},
     "output_type": "display_data"
    },
    {
     "data": {
      "application/vnd.jupyter.widget-view+json": {
       "model_id": "8c31928bcb4f4b0fb25d27c00271bb66",
       "version_major": 2,
       "version_minor": 0
      },
      "text/plain": [
       "  0%|          | 0/3133 [00:00<?, ?it/s]"
      ]
     },
     "metadata": {},
     "output_type": "display_data"
    },
    {
     "data": {
      "application/vnd.jupyter.widget-view+json": {
       "model_id": "ea7436ba614d42c7aba05d8a9142f7a4",
       "version_major": 2,
       "version_minor": 0
      },
      "text/plain": [
       "  0%|          | 0/3133 [00:00<?, ?it/s]"
      ]
     },
     "metadata": {},
     "output_type": "display_data"
    },
    {
     "data": {
      "application/vnd.jupyter.widget-view+json": {
       "model_id": "f186c5a895e1487d94e9f40bfef76169",
       "version_major": 2,
       "version_minor": 0
      },
      "text/plain": [
       "  0%|          | 0/3133 [00:00<?, ?it/s]"
      ]
     },
     "metadata": {},
     "output_type": "display_data"
    },
    {
     "data": {
      "application/vnd.jupyter.widget-view+json": {
       "model_id": "1d2b4c9f816a492da81992db3b78d339",
       "version_major": 2,
       "version_minor": 0
      },
      "text/plain": [
       "  0%|          | 0/3133 [00:00<?, ?it/s]"
      ]
     },
     "metadata": {},
     "output_type": "display_data"
    },
    {
     "data": {
      "application/vnd.jupyter.widget-view+json": {
       "model_id": "a64e1a76ee3e45e8ad7f2ed0dfaf58b8",
       "version_major": 2,
       "version_minor": 0
      },
      "text/plain": [
       "  0%|          | 0/3133 [00:00<?, ?it/s]"
      ]
     },
     "metadata": {},
     "output_type": "display_data"
    },
    {
     "data": {
      "application/vnd.jupyter.widget-view+json": {
       "model_id": "e0204aec29214f10a203e0f66e21e5ae",
       "version_major": 2,
       "version_minor": 0
      },
      "text/plain": [
       "  0%|          | 0/3133 [00:00<?, ?it/s]"
      ]
     },
     "metadata": {},
     "output_type": "display_data"
    },
    {
     "data": {
      "application/vnd.jupyter.widget-view+json": {
       "model_id": "4fa0039106734c1684126da67c59201e",
       "version_major": 2,
       "version_minor": 0
      },
      "text/plain": [
       "  0%|          | 0/3133 [00:00<?, ?it/s]"
      ]
     },
     "metadata": {},
     "output_type": "display_data"
    },
    {
     "data": {
      "application/vnd.jupyter.widget-view+json": {
       "model_id": "4d837915c9dd4084842ba6cfc0d4dd61",
       "version_major": 2,
       "version_minor": 0
      },
      "text/plain": [
       "  0%|          | 0/3133 [00:00<?, ?it/s]"
      ]
     },
     "metadata": {},
     "output_type": "display_data"
    },
    {
     "data": {
      "application/vnd.jupyter.widget-view+json": {
       "model_id": "ff38428e6fc34babafa2cc3c2825cdda",
       "version_major": 2,
       "version_minor": 0
      },
      "text/plain": [
       "  0%|          | 0/3133 [00:00<?, ?it/s]"
      ]
     },
     "metadata": {},
     "output_type": "display_data"
    },
    {
     "data": {
      "application/vnd.jupyter.widget-view+json": {
       "model_id": "56ef32c7564849e0aa00af0c66c6f81e",
       "version_major": 2,
       "version_minor": 0
      },
      "text/plain": [
       "  0%|          | 0/3133 [00:00<?, ?it/s]"
      ]
     },
     "metadata": {},
     "output_type": "display_data"
    },
    {
     "data": {
      "application/vnd.jupyter.widget-view+json": {
       "model_id": "3db7c3f7cf594dc4abf0d7e8634dfd6a",
       "version_major": 2,
       "version_minor": 0
      },
      "text/plain": [
       "  0%|          | 0/3133 [00:00<?, ?it/s]"
      ]
     },
     "metadata": {},
     "output_type": "display_data"
    },
    {
     "data": {
      "application/vnd.jupyter.widget-view+json": {
       "model_id": "9c177b1a92174129bcfd9437ec0049b2",
       "version_major": 2,
       "version_minor": 0
      },
      "text/plain": [
       "  0%|          | 0/3133 [00:00<?, ?it/s]"
      ]
     },
     "metadata": {},
     "output_type": "display_data"
    },
    {
     "data": {
      "application/vnd.jupyter.widget-view+json": {
       "model_id": "06e521e4c251442fbf7ac9148770ffe3",
       "version_major": 2,
       "version_minor": 0
      },
      "text/plain": [
       "  0%|          | 0/3133 [00:00<?, ?it/s]"
      ]
     },
     "metadata": {},
     "output_type": "display_data"
    },
    {
     "data": {
      "application/vnd.jupyter.widget-view+json": {
       "model_id": "281c5e46955343c49d7b6a8ec9893100",
       "version_major": 2,
       "version_minor": 0
      },
      "text/plain": [
       "  0%|          | 0/3133 [00:00<?, ?it/s]"
      ]
     },
     "metadata": {},
     "output_type": "display_data"
    },
    {
     "data": {
      "application/vnd.jupyter.widget-view+json": {
       "model_id": "c36e1aaa92474d5cba95e7e057906082",
       "version_major": 2,
       "version_minor": 0
      },
      "text/plain": [
       "  0%|          | 0/3133 [00:00<?, ?it/s]"
      ]
     },
     "metadata": {},
     "output_type": "display_data"
    },
    {
     "data": {
      "application/vnd.jupyter.widget-view+json": {
       "model_id": "70a4cec38359440e83e665692bad6022",
       "version_major": 2,
       "version_minor": 0
      },
      "text/plain": [
       "  0%|          | 0/3133 [00:00<?, ?it/s]"
      ]
     },
     "metadata": {},
     "output_type": "display_data"
    },
    {
     "data": {
      "application/vnd.jupyter.widget-view+json": {
       "model_id": "06e7f48e87204f28bd7d9781a7659967",
       "version_major": 2,
       "version_minor": 0
      },
      "text/plain": [
       "  0%|          | 0/3133 [00:00<?, ?it/s]"
      ]
     },
     "metadata": {},
     "output_type": "display_data"
    },
    {
     "data": {
      "application/vnd.jupyter.widget-view+json": {
       "model_id": "b3312ad7feac46ebb2f6ca48151f77ab",
       "version_major": 2,
       "version_minor": 0
      },
      "text/plain": [
       "  0%|          | 0/3133 [00:00<?, ?it/s]"
      ]
     },
     "metadata": {},
     "output_type": "display_data"
    },
    {
     "data": {
      "application/vnd.jupyter.widget-view+json": {
       "model_id": "2fc3c55584e647158cc4e3fbde5edb1f",
       "version_major": 2,
       "version_minor": 0
      },
      "text/plain": [
       "  0%|          | 0/3133 [00:00<?, ?it/s]"
      ]
     },
     "metadata": {},
     "output_type": "display_data"
    },
    {
     "data": {
      "application/vnd.jupyter.widget-view+json": {
       "model_id": "b5850699c40c46ab9087bef90be9ac64",
       "version_major": 2,
       "version_minor": 0
      },
      "text/plain": [
       "  0%|          | 0/3133 [00:00<?, ?it/s]"
      ]
     },
     "metadata": {},
     "output_type": "display_data"
    },
    {
     "data": {
      "application/vnd.jupyter.widget-view+json": {
       "model_id": "01c11ac8bb5e4854b52cfa77b4ee5453",
       "version_major": 2,
       "version_minor": 0
      },
      "text/plain": [
       "  0%|          | 0/3133 [00:00<?, ?it/s]"
      ]
     },
     "metadata": {},
     "output_type": "display_data"
    }
   ],
   "source": [
    "from sklearn.utils import resample\n",
    "import pandas as pd\n",
    "import numpy as np\n",
    "from tqdm.notebook import tqdm\n",
    "\n",
    "N = 140\n",
    "t = len(nltk.word_tokenize(sample_doc))\n",
    "df = pd.DataFrame(columns=microframes)\n",
    "\n",
    "for i in tqdm(range(N)):\n",
    "    s = ' '.join(resample(T, replace=True, n_samples=t))\n",
    "    biases = bias(s, frame=microframes)\n",
    "        \n",
    "    df.loc[i] = biases\n",
    "\n",
    "import pickle\n",
    "pickle.dump( df, open( \"Download/sample_biases_df.pickle\", \"wb\" ) )"
   ]
  },
  {
   "cell_type": "code",
   "execution_count": 44,
   "metadata": {},
   "outputs": [
    {
     "data": {
      "text/html": [
       "<div>\n",
       "<style scoped>\n",
       "    .dataframe tbody tr th:only-of-type {\n",
       "        vertical-align: middle;\n",
       "    }\n",
       "\n",
       "    .dataframe tbody tr th {\n",
       "        vertical-align: top;\n",
       "    }\n",
       "\n",
       "    .dataframe thead tr th {\n",
       "        text-align: left;\n",
       "    }\n",
       "</style>\n",
       "<table border=\"1\" class=\"dataframe\">\n",
       "  <thead>\n",
       "    <tr>\n",
       "      <th></th>\n",
       "      <th>discontented</th>\n",
       "      <th>immediate</th>\n",
       "      <th>hipped</th>\n",
       "      <th>necessary</th>\n",
       "      <th>autumnal</th>\n",
       "      <th>declarative</th>\n",
       "      <th>maxi</th>\n",
       "      <th>humorous</th>\n",
       "      <th>monovalent</th>\n",
       "      <th>indiscreet</th>\n",
       "      <th>...</th>\n",
       "      <th>alcoholic</th>\n",
       "      <th>assertive</th>\n",
       "      <th>unlivable</th>\n",
       "      <th>original</th>\n",
       "      <th>individual</th>\n",
       "      <th>principled</th>\n",
       "      <th>immoderate</th>\n",
       "      <th>unknown</th>\n",
       "      <th>freelance</th>\n",
       "      <th>forceless</th>\n",
       "    </tr>\n",
       "    <tr>\n",
       "      <th></th>\n",
       "      <th>contented</th>\n",
       "      <th>mediate</th>\n",
       "      <th>gabled</th>\n",
       "      <th>unnecessary</th>\n",
       "      <th>wintry</th>\n",
       "      <th>interrogative</th>\n",
       "      <th>mini</th>\n",
       "      <th>humorless</th>\n",
       "      <th>polyvalent</th>\n",
       "      <th>discreet</th>\n",
       "      <th>...</th>\n",
       "      <th>nonalcoholic</th>\n",
       "      <th>unassertive</th>\n",
       "      <th>livable</th>\n",
       "      <th>unoriginal</th>\n",
       "      <th>common</th>\n",
       "      <th>unprincipled</th>\n",
       "      <th>moderate</th>\n",
       "      <th>known</th>\n",
       "      <th>salaried</th>\n",
       "      <th>forceful</th>\n",
       "    </tr>\n",
       "  </thead>\n",
       "  <tbody>\n",
       "    <tr>\n",
       "      <th>0</th>\n",
       "      <td>0.165546</td>\n",
       "      <td>-0.154739</td>\n",
       "      <td>-0.002083</td>\n",
       "      <td>-0.115420</td>\n",
       "      <td>0.065003</td>\n",
       "      <td>-0.088813</td>\n",
       "      <td>0.146881</td>\n",
       "      <td>-0.159049</td>\n",
       "      <td>0.008047</td>\n",
       "      <td>0.162146</td>\n",
       "      <td>...</td>\n",
       "      <td>-0.224326</td>\n",
       "      <td>-0.242138</td>\n",
       "      <td>0.158984</td>\n",
       "      <td>-0.189906</td>\n",
       "      <td>0.007315</td>\n",
       "      <td>-0.125275</td>\n",
       "      <td>0.244697</td>\n",
       "      <td>0.071690</td>\n",
       "      <td>-0.100881</td>\n",
       "      <td>0.282711</td>\n",
       "    </tr>\n",
       "    <tr>\n",
       "      <th>1</th>\n",
       "      <td>0.177506</td>\n",
       "      <td>-0.150237</td>\n",
       "      <td>-0.007614</td>\n",
       "      <td>-0.107309</td>\n",
       "      <td>0.070593</td>\n",
       "      <td>-0.081920</td>\n",
       "      <td>0.137711</td>\n",
       "      <td>-0.165901</td>\n",
       "      <td>0.014199</td>\n",
       "      <td>0.156433</td>\n",
       "      <td>...</td>\n",
       "      <td>-0.225266</td>\n",
       "      <td>-0.246804</td>\n",
       "      <td>0.155883</td>\n",
       "      <td>-0.176094</td>\n",
       "      <td>0.007535</td>\n",
       "      <td>-0.130717</td>\n",
       "      <td>0.247655</td>\n",
       "      <td>0.056833</td>\n",
       "      <td>-0.096931</td>\n",
       "      <td>0.284652</td>\n",
       "    </tr>\n",
       "    <tr>\n",
       "      <th>2</th>\n",
       "      <td>0.169375</td>\n",
       "      <td>-0.156033</td>\n",
       "      <td>-0.005874</td>\n",
       "      <td>-0.110519</td>\n",
       "      <td>0.065521</td>\n",
       "      <td>-0.085905</td>\n",
       "      <td>0.146263</td>\n",
       "      <td>-0.163001</td>\n",
       "      <td>0.009533</td>\n",
       "      <td>0.160838</td>\n",
       "      <td>...</td>\n",
       "      <td>-0.226490</td>\n",
       "      <td>-0.245076</td>\n",
       "      <td>0.156482</td>\n",
       "      <td>-0.188997</td>\n",
       "      <td>0.008848</td>\n",
       "      <td>-0.127639</td>\n",
       "      <td>0.245994</td>\n",
       "      <td>0.069606</td>\n",
       "      <td>-0.101717</td>\n",
       "      <td>0.283759</td>\n",
       "    </tr>\n",
       "    <tr>\n",
       "      <th>3</th>\n",
       "      <td>0.170841</td>\n",
       "      <td>-0.157961</td>\n",
       "      <td>-0.001664</td>\n",
       "      <td>-0.104724</td>\n",
       "      <td>0.062080</td>\n",
       "      <td>-0.086970</td>\n",
       "      <td>0.141440</td>\n",
       "      <td>-0.161939</td>\n",
       "      <td>0.013173</td>\n",
       "      <td>0.160702</td>\n",
       "      <td>...</td>\n",
       "      <td>-0.221755</td>\n",
       "      <td>-0.237164</td>\n",
       "      <td>0.149789</td>\n",
       "      <td>-0.182591</td>\n",
       "      <td>0.019616</td>\n",
       "      <td>-0.123959</td>\n",
       "      <td>0.245925</td>\n",
       "      <td>0.064065</td>\n",
       "      <td>-0.103672</td>\n",
       "      <td>0.279415</td>\n",
       "    </tr>\n",
       "    <tr>\n",
       "      <th>4</th>\n",
       "      <td>0.175307</td>\n",
       "      <td>-0.148986</td>\n",
       "      <td>-0.011530</td>\n",
       "      <td>-0.108341</td>\n",
       "      <td>0.065765</td>\n",
       "      <td>-0.083990</td>\n",
       "      <td>0.138884</td>\n",
       "      <td>-0.166447</td>\n",
       "      <td>0.018695</td>\n",
       "      <td>0.158907</td>\n",
       "      <td>...</td>\n",
       "      <td>-0.227087</td>\n",
       "      <td>-0.245679</td>\n",
       "      <td>0.154710</td>\n",
       "      <td>-0.174680</td>\n",
       "      <td>0.017252</td>\n",
       "      <td>-0.131417</td>\n",
       "      <td>0.248683</td>\n",
       "      <td>0.057177</td>\n",
       "      <td>-0.108773</td>\n",
       "      <td>0.285297</td>\n",
       "    </tr>\n",
       "    <tr>\n",
       "      <th>...</th>\n",
       "      <td>...</td>\n",
       "      <td>...</td>\n",
       "      <td>...</td>\n",
       "      <td>...</td>\n",
       "      <td>...</td>\n",
       "      <td>...</td>\n",
       "      <td>...</td>\n",
       "      <td>...</td>\n",
       "      <td>...</td>\n",
       "      <td>...</td>\n",
       "      <td>...</td>\n",
       "      <td>...</td>\n",
       "      <td>...</td>\n",
       "      <td>...</td>\n",
       "      <td>...</td>\n",
       "      <td>...</td>\n",
       "      <td>...</td>\n",
       "      <td>...</td>\n",
       "      <td>...</td>\n",
       "      <td>...</td>\n",
       "      <td>...</td>\n",
       "    </tr>\n",
       "    <tr>\n",
       "      <th>135</th>\n",
       "      <td>0.174030</td>\n",
       "      <td>-0.157935</td>\n",
       "      <td>-0.006736</td>\n",
       "      <td>-0.104627</td>\n",
       "      <td>0.063156</td>\n",
       "      <td>-0.084405</td>\n",
       "      <td>0.142071</td>\n",
       "      <td>-0.166416</td>\n",
       "      <td>0.015494</td>\n",
       "      <td>0.160062</td>\n",
       "      <td>...</td>\n",
       "      <td>-0.224311</td>\n",
       "      <td>-0.244643</td>\n",
       "      <td>0.150649</td>\n",
       "      <td>-0.181650</td>\n",
       "      <td>0.013336</td>\n",
       "      <td>-0.126066</td>\n",
       "      <td>0.245580</td>\n",
       "      <td>0.062228</td>\n",
       "      <td>-0.103226</td>\n",
       "      <td>0.284359</td>\n",
       "    </tr>\n",
       "    <tr>\n",
       "      <th>136</th>\n",
       "      <td>0.172434</td>\n",
       "      <td>-0.146922</td>\n",
       "      <td>-0.031942</td>\n",
       "      <td>-0.102224</td>\n",
       "      <td>0.066450</td>\n",
       "      <td>-0.086326</td>\n",
       "      <td>0.138581</td>\n",
       "      <td>-0.167259</td>\n",
       "      <td>0.019127</td>\n",
       "      <td>0.151235</td>\n",
       "      <td>...</td>\n",
       "      <td>-0.238764</td>\n",
       "      <td>-0.249297</td>\n",
       "      <td>0.151840</td>\n",
       "      <td>-0.169481</td>\n",
       "      <td>0.014482</td>\n",
       "      <td>-0.135287</td>\n",
       "      <td>0.251480</td>\n",
       "      <td>0.065976</td>\n",
       "      <td>-0.112789</td>\n",
       "      <td>0.286763</td>\n",
       "    </tr>\n",
       "    <tr>\n",
       "      <th>137</th>\n",
       "      <td>0.174234</td>\n",
       "      <td>-0.153681</td>\n",
       "      <td>-0.011042</td>\n",
       "      <td>-0.104586</td>\n",
       "      <td>0.065546</td>\n",
       "      <td>-0.082413</td>\n",
       "      <td>0.137912</td>\n",
       "      <td>-0.166008</td>\n",
       "      <td>0.012966</td>\n",
       "      <td>0.158591</td>\n",
       "      <td>...</td>\n",
       "      <td>-0.227856</td>\n",
       "      <td>-0.244326</td>\n",
       "      <td>0.155517</td>\n",
       "      <td>-0.176637</td>\n",
       "      <td>0.012130</td>\n",
       "      <td>-0.129457</td>\n",
       "      <td>0.250048</td>\n",
       "      <td>0.063810</td>\n",
       "      <td>-0.103120</td>\n",
       "      <td>0.281563</td>\n",
       "    </tr>\n",
       "    <tr>\n",
       "      <th>138</th>\n",
       "      <td>0.174427</td>\n",
       "      <td>-0.156169</td>\n",
       "      <td>-0.005981</td>\n",
       "      <td>-0.089861</td>\n",
       "      <td>0.051854</td>\n",
       "      <td>-0.090725</td>\n",
       "      <td>0.140425</td>\n",
       "      <td>-0.165273</td>\n",
       "      <td>0.014739</td>\n",
       "      <td>0.158256</td>\n",
       "      <td>...</td>\n",
       "      <td>-0.216647</td>\n",
       "      <td>-0.235032</td>\n",
       "      <td>0.145497</td>\n",
       "      <td>-0.156429</td>\n",
       "      <td>0.023597</td>\n",
       "      <td>-0.125767</td>\n",
       "      <td>0.233690</td>\n",
       "      <td>0.042400</td>\n",
       "      <td>-0.113347</td>\n",
       "      <td>0.269686</td>\n",
       "    </tr>\n",
       "    <tr>\n",
       "      <th>139</th>\n",
       "      <td>0.163544</td>\n",
       "      <td>-0.150024</td>\n",
       "      <td>-0.010398</td>\n",
       "      <td>-0.118032</td>\n",
       "      <td>0.068422</td>\n",
       "      <td>-0.089476</td>\n",
       "      <td>0.146393</td>\n",
       "      <td>-0.161852</td>\n",
       "      <td>0.009237</td>\n",
       "      <td>0.157523</td>\n",
       "      <td>...</td>\n",
       "      <td>-0.228136</td>\n",
       "      <td>-0.244716</td>\n",
       "      <td>0.159854</td>\n",
       "      <td>-0.191116</td>\n",
       "      <td>0.009808</td>\n",
       "      <td>-0.129666</td>\n",
       "      <td>0.246694</td>\n",
       "      <td>0.079812</td>\n",
       "      <td>-0.103670</td>\n",
       "      <td>0.285048</td>\n",
       "    </tr>\n",
       "  </tbody>\n",
       "</table>\n",
       "<p>140 rows × 3133 columns</p>\n",
       "</div>"
      ],
      "text/plain": [
       "    discontented immediate    hipped   necessary  autumnal   declarative  \\\n",
       "       contented   mediate    gabled unnecessary    wintry interrogative   \n",
       "0       0.165546 -0.154739 -0.002083   -0.115420  0.065003     -0.088813   \n",
       "1       0.177506 -0.150237 -0.007614   -0.107309  0.070593     -0.081920   \n",
       "2       0.169375 -0.156033 -0.005874   -0.110519  0.065521     -0.085905   \n",
       "3       0.170841 -0.157961 -0.001664   -0.104724  0.062080     -0.086970   \n",
       "4       0.175307 -0.148986 -0.011530   -0.108341  0.065765     -0.083990   \n",
       "..           ...       ...       ...         ...       ...           ...   \n",
       "135     0.174030 -0.157935 -0.006736   -0.104627  0.063156     -0.084405   \n",
       "136     0.172434 -0.146922 -0.031942   -0.102224  0.066450     -0.086326   \n",
       "137     0.174234 -0.153681 -0.011042   -0.104586  0.065546     -0.082413   \n",
       "138     0.174427 -0.156169 -0.005981   -0.089861  0.051854     -0.090725   \n",
       "139     0.163544 -0.150024 -0.010398   -0.118032  0.068422     -0.089476   \n",
       "\n",
       "         maxi  humorous monovalent indiscreet  ...    alcoholic   assertive  \\\n",
       "         mini humorless polyvalent   discreet  ... nonalcoholic unassertive   \n",
       "0    0.146881 -0.159049   0.008047   0.162146  ...    -0.224326   -0.242138   \n",
       "1    0.137711 -0.165901   0.014199   0.156433  ...    -0.225266   -0.246804   \n",
       "2    0.146263 -0.163001   0.009533   0.160838  ...    -0.226490   -0.245076   \n",
       "3    0.141440 -0.161939   0.013173   0.160702  ...    -0.221755   -0.237164   \n",
       "4    0.138884 -0.166447   0.018695   0.158907  ...    -0.227087   -0.245679   \n",
       "..        ...       ...        ...        ...  ...          ...         ...   \n",
       "135  0.142071 -0.166416   0.015494   0.160062  ...    -0.224311   -0.244643   \n",
       "136  0.138581 -0.167259   0.019127   0.151235  ...    -0.238764   -0.249297   \n",
       "137  0.137912 -0.166008   0.012966   0.158591  ...    -0.227856   -0.244326   \n",
       "138  0.140425 -0.165273   0.014739   0.158256  ...    -0.216647   -0.235032   \n",
       "139  0.146393 -0.161852   0.009237   0.157523  ...    -0.228136   -0.244716   \n",
       "\n",
       "    unlivable   original individual   principled immoderate   unknown  \\\n",
       "      livable unoriginal     common unprincipled   moderate     known   \n",
       "0    0.158984  -0.189906   0.007315    -0.125275   0.244697  0.071690   \n",
       "1    0.155883  -0.176094   0.007535    -0.130717   0.247655  0.056833   \n",
       "2    0.156482  -0.188997   0.008848    -0.127639   0.245994  0.069606   \n",
       "3    0.149789  -0.182591   0.019616    -0.123959   0.245925  0.064065   \n",
       "4    0.154710  -0.174680   0.017252    -0.131417   0.248683  0.057177   \n",
       "..        ...        ...        ...          ...        ...       ...   \n",
       "135  0.150649  -0.181650   0.013336    -0.126066   0.245580  0.062228   \n",
       "136  0.151840  -0.169481   0.014482    -0.135287   0.251480  0.065976   \n",
       "137  0.155517  -0.176637   0.012130    -0.129457   0.250048  0.063810   \n",
       "138  0.145497  -0.156429   0.023597    -0.125767   0.233690  0.042400   \n",
       "139  0.159854  -0.191116   0.009808    -0.129666   0.246694  0.079812   \n",
       "\n",
       "    freelance forceless  \n",
       "     salaried  forceful  \n",
       "0   -0.100881  0.282711  \n",
       "1   -0.096931  0.284652  \n",
       "2   -0.101717  0.283759  \n",
       "3   -0.103672  0.279415  \n",
       "4   -0.108773  0.285297  \n",
       "..        ...       ...  \n",
       "135 -0.103226  0.284359  \n",
       "136 -0.112789  0.286763  \n",
       "137 -0.103120  0.281563  \n",
       "138 -0.113347  0.269686  \n",
       "139 -0.103670  0.285048  \n",
       "\n",
       "[140 rows x 3133 columns]"
      ]
     },
     "execution_count": 44,
     "metadata": {},
     "output_type": "execute_result"
    }
   ],
   "source": [
    "sample_biases_df = pickle.load(open('Download/sample_biases_df.pickle', 'rb'))\n",
    "sample_biases_df"
   ]
  },
  {
   "cell_type": "code",
   "execution_count": 45,
   "metadata": {},
   "outputs": [
    {
     "data": {
      "application/vnd.jupyter.widget-view+json": {
       "model_id": "56a4c6234cb545eeb76cdf73bd50b55e",
       "version_major": 2,
       "version_minor": 0
      },
      "text/plain": [
       "  0%|          | 0/3133 [00:00<?, ?it/s]"
      ]
     },
     "metadata": {},
     "output_type": "display_data"
    }
   ],
   "source": [
    "sample_bias = bias(sample_doc, frame=microframes)"
   ]
  },
  {
   "cell_type": "code",
   "execution_count": 46,
   "metadata": {},
   "outputs": [],
   "source": [
    "sample_boot_bias = sample_biases_df.mean(axis=0).to_numpy()"
   ]
  },
  {
   "cell_type": "code",
   "execution_count": 53,
   "metadata": {},
   "outputs": [],
   "source": [
    "from operator import itemgetter\n",
    "rank = itemgetter(*np.argsort(- sample_bias + sample_boot_bias))(list(microframes))"
   ]
  },
  {
   "cell_type": "code",
   "execution_count": 54,
   "metadata": {
    "collapsed": true,
    "jupyter": {
     "outputs_hidden": true
    }
   },
   "outputs": [
    {
     "data": {
      "text/plain": [
       "(('nondisposable', 'disposable'),\n",
       " ('unwooded', 'wooded'),\n",
       " ('unamended', 'amended'),\n",
       " ('unmoved', 'moved'),\n",
       " ('inessential', 'essential'),\n",
       " ('uncomplaining', 'complaining'),\n",
       " ('nonexplosive', 'explosive'),\n",
       " ('unguided', 'guided'),\n",
       " ('inefficacious', 'efficacious'),\n",
       " ('onymous', 'anonymous'),\n",
       " ('irreligious', 'religious'),\n",
       " ('deniable', 'undeniable'),\n",
       " ('nonbearing', 'bearing'),\n",
       " ('evitable', 'inevitable'),\n",
       " ('nonspeaking', 'speaking'),\n",
       " ('nonrigid', 'rigid'),\n",
       " ('nonlinguistic', 'linguistic'),\n",
       " ('ordinal', 'cardinal'),\n",
       " ('unhappy', 'happy'),\n",
       " ('uncontaminated', 'contaminated'),\n",
       " ('uncommitted', 'committed'),\n",
       " ('inexact', 'exact'),\n",
       " ('uninvolved', 'involved'),\n",
       " ('maladjusted', 'adjusted'),\n",
       " ('styleless', 'stylish'),\n",
       " ('handless', 'handed'),\n",
       " ('unquiet', 'quiet'),\n",
       " ('unacknowledged', 'acknowledged'),\n",
       " ('nonpolitical', 'political'),\n",
       " ('unsurprised', 'surprised'),\n",
       " ('unabused', 'abused'),\n",
       " ('ungeared', 'geared'),\n",
       " ('insufficient', 'sufficient'),\n",
       " ('purposeless', 'purposeful'),\n",
       " ('phlegmy', 'dry'),\n",
       " ('nonsurgical', 'surgical'),\n",
       " ('unmined', 'mined'),\n",
       " ('downmarket', 'upmarket'),\n",
       " ('unenforced', 'enforced'),\n",
       " ('invariable', 'variable'),\n",
       " ('unsaddled', 'saddled'),\n",
       " ('coarse', 'fine'),\n",
       " ('unplowed', 'plowed'),\n",
       " ('nonfictional', 'fictional'),\n",
       " ('undamaged', 'damaged'),\n",
       " ('underived', 'derived'),\n",
       " ('unhurried', 'hurried'),\n",
       " ('unidimensional', 'multidimensional'),\n",
       " ('consolable', 'inconsolable'),\n",
       " ('unanimated', 'animated'),\n",
       " ('unalike', 'alike'),\n",
       " ('unequipped', 'equipped'),\n",
       " ('unmoving', 'moving'),\n",
       " ('unretentive', 'retentive'),\n",
       " ('unfree', 'free'),\n",
       " ('undramatic', 'dramatic'),\n",
       " ('unidentifiable', 'identifiable'),\n",
       " ('undemocratic', 'democratic'),\n",
       " ('misused', 'used'),\n",
       " ('incommensurate', 'commensurate'),\n",
       " ('unoriented', 'oriented'),\n",
       " ('walleyed', 'cross-eyed'),\n",
       " ('unfrozen', 'frozen'),\n",
       " ('achromatic', 'chromatic'),\n",
       " ('unsurprising', 'surprising'),\n",
       " ('displeased', 'pleased'),\n",
       " ('joyless', 'joyous'),\n",
       " ('unsexy', 'sexy'),\n",
       " ('nonracial', 'racial'),\n",
       " ('unbranded', 'branded'),\n",
       " ('unshapely', 'shapely'),\n",
       " ('machine-made', 'handmade'),\n",
       " ('nonrandom', 'random'),\n",
       " ('low-resolution', 'high-resolution'),\n",
       " ('unpunished', 'punished'),\n",
       " ('insincere', 'sincere'),\n",
       " ('impalpable', 'palpable'),\n",
       " ('uninviting', 'inviting'),\n",
       " ('unfixed', 'fixed'),\n",
       " ('untalented', 'talented'),\n",
       " ('fractional', 'whole'),\n",
       " ('unoffending', 'offending'),\n",
       " ('unnoticed', 'noticed'),\n",
       " ('unassigned', 'assigned'),\n",
       " ('nonreflective', 'reflective'),\n",
       " ('insecure', 'secure'),\n",
       " ('unavenged', 'avenged'),\n",
       " ('disloyal', 'loyal'),\n",
       " ('nonnative', 'native'),\n",
       " ('lowborn', 'noble'),\n",
       " ('unmindful', 'mindful'),\n",
       " ('beseeching', 'imperative'),\n",
       " ('placable', 'implacable'),\n",
       " ('brunet', 'blond'),\n",
       " ('nonclassical', 'classical'),\n",
       " ('nonunion', 'union'),\n",
       " ('resistible', 'irresistible'),\n",
       " ('incautious', 'cautious'),\n",
       " ('unambitious', 'ambitious'),\n",
       " ('uninjured', 'injured'),\n",
       " ('dissimilar', 'similar'),\n",
       " ('undue', 'due'),\n",
       " ('effortful', 'effortless'),\n",
       " ('unlaced', 'laced'),\n",
       " ('uncrossed', 'crossed'),\n",
       " ('unrepeatable', 'repeatable'),\n",
       " ('sinkable', 'unsinkable'),\n",
       " ('unmotivated', 'motivated'),\n",
       " ('unneurotic', 'neurotic'),\n",
       " ('nonreciprocal', 'reciprocal'),\n",
       " ('unwary', 'wary'),\n",
       " ('unmilitary', 'military'),\n",
       " ('uncrowded', 'crowded'),\n",
       " ('nonharmonic', 'harmonic'),\n",
       " ('unrespectable', 'respectable'),\n",
       " ('unwomanly', 'womanly'),\n",
       " ('unsupported', 'supported'),\n",
       " ('factory-made', 'homemade'),\n",
       " ('unfeathered', 'feathered'),\n",
       " ('unworldly', 'worldly'),\n",
       " ('immoral', 'moral'),\n",
       " ('noncrystalline', 'crystalline'),\n",
       " ('matriarchal', 'patriarchal'),\n",
       " ('handleless', 'handled'),\n",
       " ('untrustworthy', 'trustworthy'),\n",
       " ('uneducated', 'educated'),\n",
       " ('unwelcome', 'welcome'),\n",
       " ('nonhuman', 'human'),\n",
       " ('unassisted', 'assisted'),\n",
       " ('unaffected', 'affected'),\n",
       " ('unregenerate', 'regenerate'),\n",
       " ('mutable', 'immutable'),\n",
       " ('earless', 'eared'),\n",
       " ('unheaded', 'headed'),\n",
       " ('unestablished', 'established'),\n",
       " ('unsigned', 'signed'),\n",
       " ('incontinent', 'continent'),\n",
       " ('unreceptive', 'receptive'),\n",
       " ('masochistic', 'sadistic'),\n",
       " ('unprotected', 'protected'),\n",
       " ('unframed', 'framed'),\n",
       " ('nonaddictive', 'addictive'),\n",
       " ('undiscerning', 'discerning'),\n",
       " ('syntagmatic', 'paradigmatic'),\n",
       " ('careless', 'careful'),\n",
       " ('equatorial', 'polar'),\n",
       " ('unsettled', 'settled'),\n",
       " ('nondeductible', 'deductible'),\n",
       " ('unconnected', 'connected'),\n",
       " ('mismatched', 'matched'),\n",
       " ('unselected', 'selected'),\n",
       " ('unofficial', 'official'),\n",
       " ('unholy', 'holy'),\n",
       " ('nascent', 'dying'),\n",
       " ('antecedent', 'subsequent'),\n",
       " ('near', 'far'),\n",
       " ('deaf', 'hearing'),\n",
       " ('unaccommodating', 'accommodating'),\n",
       " ('undifferentiated', 'differentiated'),\n",
       " ('unchristian', 'christian'),\n",
       " ('exterior', 'interior'),\n",
       " ('downstage', 'upstage'),\n",
       " ('discomposed', 'composed'),\n",
       " ('wired', 'wireless'),\n",
       " ('skinless', 'skinned'),\n",
       " ('majuscule', 'minuscule'),\n",
       " ('distributive', 'collective'),\n",
       " ('unaccompanied', 'accompanied'),\n",
       " ('unfriendly', 'friendly'),\n",
       " ('planar', 'cubic'),\n",
       " ('indiscreet', 'discreet'),\n",
       " ('stale', 'fresh'),\n",
       " ('insignificant', 'significant'),\n",
       " ('unoccupied', 'occupied'),\n",
       " ('forte', 'piano'),\n",
       " ('undiscriminating', 'discriminating'),\n",
       " ('incurious', 'curious'),\n",
       " ('unwoven', 'woven'),\n",
       " ('unconstricted', 'constricted'),\n",
       " ('artificial', 'natural'),\n",
       " ('undemonstrative', 'demonstrative'),\n",
       " ('uncoiled', 'coiled'),\n",
       " ('uncleared', 'cleared'),\n",
       " ('implausible', 'plausible'),\n",
       " ('inglorious', 'glorious'),\n",
       " ('spiritless', 'spirited'),\n",
       " ('unspecialized', 'specialized'),\n",
       " ('improbable', 'probable'),\n",
       " ('incorporeal', 'corporeal'),\n",
       " ('nonabsorbent', 'absorbent'),\n",
       " ('indiscernible', 'discernible'),\n",
       " ('nonjudgmental', 'judgmental'),\n",
       " ('curved', 'straight'),\n",
       " ('theoretical', 'applied'),\n",
       " ('nontechnical', 'technical'),\n",
       " ('unapproachable', 'approachable'),\n",
       " ('low-tech', 'high-tech'),\n",
       " ('unbaptized', 'baptized'),\n",
       " ('endemic', 'epidemic'),\n",
       " ('decreasing', 'increasing'),\n",
       " ('ungenerous', 'generous'),\n",
       " ('outbred', 'inbred'),\n",
       " ('retroactive', 'proactive'),\n",
       " ('maxi', 'mini'),\n",
       " ('ceilinged', 'floored'),\n",
       " ('unfit', 'fit'),\n",
       " ('unimpaired', 'impaired'),\n",
       " ('dystopian', 'utopian'),\n",
       " ('present', 'future'),\n",
       " ('frivolous', 'serious'),\n",
       " ('nomothetic', 'idiographic'),\n",
       " ('unimpressive', 'impressive'),\n",
       " ('thermosetting', 'thermoplastic'),\n",
       " ('mesial', 'distal'),\n",
       " ('nonviolent', 'violent'),\n",
       " ('unreasonable', 'reasonable'),\n",
       " ('unswept', 'swept'),\n",
       " ('ungroomed', 'groomed'),\n",
       " ('unattributable', 'attributable'),\n",
       " ('cursed', 'blessed'),\n",
       " ('unready', 'ready'),\n",
       " ('unarmored', 'armored'),\n",
       " ('unscalable', 'scalable'),\n",
       " ('shallow', 'deep'),\n",
       " ('untangled', 'tangled'),\n",
       " ('unairworthy', 'airworthy'),\n",
       " ('allochthonous', 'autochthonous'),\n",
       " ('nonmigratory', 'migratory'),\n",
       " ('unfilled', 'filled'),\n",
       " ('passionless', 'passionate'),\n",
       " ('intolerant', 'tolerant'),\n",
       " ('ungracious', 'gracious'),\n",
       " ('ungathered', 'gathered'),\n",
       " ('unsuccessful', 'successful'),\n",
       " ('backless', 'backed'),\n",
       " ('unwilling', 'willing'),\n",
       " ('disreputable', 'reputable'),\n",
       " ('noninstitutional', 'institutional'),\n",
       " ('illogical', 'logical'),\n",
       " ('compound', 'simple'),\n",
       " ('decreased', 'increased'),\n",
       " ('discontinuous', 'continuous'),\n",
       " ('nonmoving', 'moving'),\n",
       " ('untucked', 'tucked'),\n",
       " ('nonporous', 'porous'),\n",
       " ('unintrusive', 'intrusive'),\n",
       " ('dissuasive', 'persuasive'),\n",
       " ('unexcited', 'excited'),\n",
       " ('unerect', 'erect'),\n",
       " ('unclean', 'clean'),\n",
       " ('undeciphered', 'deciphered'),\n",
       " ('unmodifiable', 'modifiable'),\n",
       " ('toneless', 'toned'),\n",
       " ('unregulated', 'regulated'),\n",
       " ('unchanged', 'changed'),\n",
       " ('undescriptive', 'descriptive'),\n",
       " ('nonsignificant', 'significant'),\n",
       " ('unquestionable', 'questionable'),\n",
       " ('unwrinkled', 'wrinkled'),\n",
       " ('thirsty', 'hungry'),\n",
       " ('testate', 'intestate'),\n",
       " ('no-go', 'go'),\n",
       " ('uncombed', 'combed'),\n",
       " ('unprejudiced', 'prejudiced'),\n",
       " ('undrained', 'drained'),\n",
       " ('manual', 'automatic'),\n",
       " ('anaphrodisiac', 'aphrodisiac'),\n",
       " ('nonsectarian', 'sectarian'),\n",
       " ('indefinite', 'definite'),\n",
       " ('jawless', 'jawed'),\n",
       " ('catabolic', 'anabolic'),\n",
       " ('intraspecies', 'interspecies'),\n",
       " ('unnoticeable', 'noticeable'),\n",
       " ('indiscriminate', 'discriminate'),\n",
       " ('unfinished', 'finished'),\n",
       " ('euphonious', 'cacophonous'),\n",
       " ('diffident', 'confident'),\n",
       " ('saved', 'lost'),\n",
       " ('stingy', 'generous'),\n",
       " ('witting', 'unwitting'),\n",
       " ('noncurrent', 'current'),\n",
       " ('unreproducible', 'reproducible'),\n",
       " ('unloving', 'loving'),\n",
       " ('unafraid', 'afraid'),\n",
       " ('asexual', 'sexual'),\n",
       " ('unprofitable', 'profitable'),\n",
       " ('unadjusted', 'adjusted'),\n",
       " ('extrinsic', 'intrinsic'),\n",
       " ('off-line', 'on-line'),\n",
       " ('re-entrant', 'salient'),\n",
       " ('unsized', 'sized'),\n",
       " ('anti', 'pro'),\n",
       " ('isotonic', 'hypertonic'),\n",
       " ('permissive', 'preventive'),\n",
       " ('inaesthetic', 'aesthetic'),\n",
       " ('dysgenic', 'eugenic'),\n",
       " ('uncharitable', 'charitable'),\n",
       " ('aboral', 'oral'),\n",
       " ('uncertain', 'certain'),\n",
       " ('impersonal', 'personal'),\n",
       " ('untroubled', 'troubled'),\n",
       " ('unshared', 'shared'),\n",
       " ('hornless', 'horned'),\n",
       " ('unoriginal', 'original'),\n",
       " ('legless', 'legged'),\n",
       " ('heavy-footed', 'light-footed'),\n",
       " ('unborn', 'born'),\n",
       " ('tasteless', 'tasteful'),\n",
       " ('unsent', 'sent'),\n",
       " ('end-stopped', 'run-on'),\n",
       " ('inefficient', 'efficient'),\n",
       " ('untempered', 'tempered'),\n",
       " ('wieldy', 'unwieldy'),\n",
       " ('stative', 'active'),\n",
       " ('right-handed', 'left-handed'),\n",
       " ('improper', 'proper'),\n",
       " ('distant', 'close'),\n",
       " ('well-advised', 'ill-advised'),\n",
       " ('armless', 'armed'),\n",
       " ('inexpedient', 'expedient'),\n",
       " ('nonpregnant', 'pregnant'),\n",
       " ('unlabeled', 'labeled'),\n",
       " ('limbed', 'limbless'),\n",
       " ('noncombustible', 'combustible'),\n",
       " ('bad', 'good'),\n",
       " ('hairless', 'hairy'),\n",
       " ('anaerobic', 'aerobic'),\n",
       " ('polygamous', 'monogamous'),\n",
       " ('unsold', 'sold'),\n",
       " ('warm-blooded', 'cold-blooded'),\n",
       " ('unobvious', 'obvious'),\n",
       " ('second', 'first'),\n",
       " ('unchaste', 'chaste'),\n",
       " ('minus', 'plus'),\n",
       " ('unpackaged', 'packaged'),\n",
       " ('inadvisable', 'advisable'),\n",
       " ('aground', 'afloat'),\n",
       " ('ahistorical', 'historical'),\n",
       " ('atomistic', 'holistic'),\n",
       " ('alternate', 'opposite'),\n",
       " ('contrasty', 'flat'),\n",
       " ('stormy', 'calm'),\n",
       " ('synclinal', 'anticlinal'),\n",
       " ('disinclined', 'inclined'),\n",
       " ('unmerited', 'merited'),\n",
       " ('induced', 'spontaneous'),\n",
       " ('cold', 'hot'),\n",
       " ('intense', 'mild'),\n",
       " ('noninvasive', 'invasive'),\n",
       " ('fast', 'slow'),\n",
       " ('undynamic', 'dynamic'),\n",
       " ('husbandly', 'wifely'),\n",
       " ('bony', 'boneless'),\n",
       " ('unmalted', 'malted'),\n",
       " ('irregular', 'regular'),\n",
       " ('unportable', 'portable'),\n",
       " ('congruous', 'incongruous'),\n",
       " ('untapped', 'tapped'),\n",
       " ('air-to-surface', 'air-to-air'),\n",
       " ('unreserved', 'reserved'),\n",
       " ('unpunctual', 'punctual'),\n",
       " ('replaceable', 'irreplaceable'),\n",
       " ('joint', 'separate'),\n",
       " ('thinkable', 'unthinkable'),\n",
       " ('inclined', 'horizontal'),\n",
       " ('unanalyzed', 'analyzed'),\n",
       " ('unpublishable', 'publishable'),\n",
       " ('unrestrictive', 'restrictive'),\n",
       " ('dispensable', 'indispensable'),\n",
       " ('custom-made', 'ready-made'),\n",
       " ('desecrated', 'consecrated'),\n",
       " ('blue-collar', 'white-collar'),\n",
       " ('overhead', 'surface'),\n",
       " ('unmelted', 'melted'),\n",
       " ('unpaid', 'paid'),\n",
       " ('precedented', 'unprecedented'),\n",
       " ('connate', 'adnate'),\n",
       " ('uninucleate', 'multinucleate'),\n",
       " ('discourteous', 'courteous'),\n",
       " ('off-site', 'on-site'),\n",
       " ('unstable', 'stable'),\n",
       " ('avirulent', 'virulent'),\n",
       " ('awnless', 'awned'),\n",
       " ('unjust', 'just'),\n",
       " ('nonintegrated', 'integrated'),\n",
       " ('unbound', 'bound'),\n",
       " ('endemic', 'cosmopolitan'),\n",
       " ('nonproprietary', 'proprietary'),\n",
       " ('untied', 'tied'),\n",
       " ('weak', 'strong'),\n",
       " ('unbalanced', 'balanced'),\n",
       " ('opaque', 'clear'),\n",
       " ('incorrect', 'correct'),\n",
       " ('prescriptive', 'descriptive'),\n",
       " ('middle', 'late'),\n",
       " ('unpeaceful', 'peaceful'),\n",
       " ('coastal', 'inland'),\n",
       " ('fraternal', 'identical'),\n",
       " ('noncyclic', 'cyclic'),\n",
       " ('uncommon', 'common'),\n",
       " ('nonsuppurative', 'suppurative'),\n",
       " ('procaryotic', 'eucaryotic'),\n",
       " ('intermediate', 'terminal'),\n",
       " ('unfunded', 'funded'),\n",
       " ('unmelodious', 'melodious'),\n",
       " ('most', 'least'),\n",
       " ('unscholarly', 'scholarly'),\n",
       " ('nonradioactive', 'radioactive'),\n",
       " ('synergistic', 'antagonistic'),\n",
       " ('uncombined', 'combined'),\n",
       " ('unoiled', 'oiled'),\n",
       " ('maladroit', 'adroit'),\n",
       " ('endogamous', 'exogamous'),\n",
       " ('unsworn', 'sworn'),\n",
       " ('reparable', 'irreparable'),\n",
       " ('disobedient', 'obedient'),\n",
       " ('white-collar', 'blue-collar'),\n",
       " ('uneventful', 'eventful'),\n",
       " ('amphibious', 'aquatic'),\n",
       " ('noseless', 'nosed'),\n",
       " ('inconvenient', 'convenient'),\n",
       " ('unpredictable', 'predictable'),\n",
       " ('accordant', 'discordant'),\n",
       " ('unconstitutional', 'constitutional'),\n",
       " ('androgynous', 'male'),\n",
       " ('away', 'home'),\n",
       " ('onside', 'offside'),\n",
       " ('graceful', 'awkward'),\n",
       " ('difficult', 'easy'),\n",
       " ('unendowed', 'endowed'),\n",
       " ('subordinating', 'coordinating'),\n",
       " ('patterned', 'plain'),\n",
       " ('nonaligned', 'aligned'),\n",
       " ('open', 'shut'),\n",
       " ('ignoble', 'noble'),\n",
       " ('true-false', 'multiple-choice'),\n",
       " ('unsolved', 'solved'),\n",
       " ('insensitive', 'sensitive'),\n",
       " ('undependable', 'dependable'),\n",
       " ('nonvolatile', 'volatile'),\n",
       " ('unpotted', 'potted'),\n",
       " ('intracellular', 'extracellular'),\n",
       " ('incompressible', 'compressible'),\n",
       " ('eastern', 'western'),\n",
       " ('inculpatory', 'exculpatory'),\n",
       " ('uncharged', 'charged'),\n",
       " ('accentual', 'quantitative'),\n",
       " ('stemless', 'stemmed'),\n",
       " ('unvaried', 'varied'),\n",
       " ('unveiled', 'veiled'),\n",
       " ('unrighteous', 'righteous'),\n",
       " ('disarranged', 'arranged'),\n",
       " ('alternating', 'direct'),\n",
       " ('inboard', 'outboard'),\n",
       " ('uncorrected', 'corrected'),\n",
       " ('paranormal', 'normal'),\n",
       " ('best', 'worst'),\n",
       " ('unaltered', 'altered'),\n",
       " ('hydrous', 'anhydrous'),\n",
       " ('organic', 'functional'),\n",
       " ('found', 'lost'),\n",
       " ('mild', 'intense'),\n",
       " ('autogenous', 'heterogenous'),\n",
       " ('sane', 'insane'),\n",
       " ('windward', 'leeward'),\n",
       " ('censored', 'uncensored'),\n",
       " ('undefeated', 'defeated'),\n",
       " ('clearheaded', 'confused'),\n",
       " ('uninfluential', 'influential'),\n",
       " ('unrealistic', 'realistic'),\n",
       " ('unreal', 'real'),\n",
       " ('continent', 'incontinent'),\n",
       " ('impermeable', 'permeable'),\n",
       " ('complex', 'simple'),\n",
       " ('unadoptable', 'adoptable'),\n",
       " ('glad', 'sad'),\n",
       " ('unrequested', 'requested'),\n",
       " ('maximal', 'minimal'),\n",
       " ('unostentatious', 'ostentatious'),\n",
       " ('predicative', 'attributive'),\n",
       " ('sidereal', 'civil'),\n",
       " ('humorless', 'humorous'),\n",
       " ('unrecoverable', 'recoverable'),\n",
       " ('extraterritorial', 'territorial'),\n",
       " ('nonspherical', 'spherical'),\n",
       " ('nominal', 'real'),\n",
       " ('nonfat', 'fatty'),\n",
       " ('unsure', 'sure'),\n",
       " ('unexploited', 'exploited'),\n",
       " ('uncarved', 'carved'),\n",
       " ('aft', 'fore'),\n",
       " ('immunocompetent', 'immunodeficient'),\n",
       " ('profane', 'sacred'),\n",
       " ('specific', 'general'),\n",
       " ('exhaustible', 'inexhaustible'),\n",
       " ('dry', 'sweet'),\n",
       " ('unenterprising', 'enterprising'),\n",
       " ('round', 'square'),\n",
       " ('rich', 'poor'),\n",
       " ('soluble', 'insoluble'),\n",
       " ('invisible', 'visible'),\n",
       " ('facultative', 'obligate'),\n",
       " ('crooked', 'straight'),\n",
       " ('inharmonious', 'harmonious'),\n",
       " ('unregistered', 'registered'),\n",
       " ('exogenic', 'endogenic'),\n",
       " ('unenlightening', 'enlightening'),\n",
       " ('impure', 'pure'),\n",
       " ('underprivileged', 'privileged'),\n",
       " ('zygomorphic', 'actinomorphic'),\n",
       " ('fallible', 'infallible'),\n",
       " ('weedless', 'weedy'),\n",
       " ('anticholinergic', 'cholinergic'),\n",
       " ('prokaryotic', 'eukaryotic'),\n",
       " ('early', 'late'),\n",
       " ('uninformative', 'informative'),\n",
       " ('lovable', 'hateful'),\n",
       " ('supernal', 'infernal'),\n",
       " ('malignant', 'benign'),\n",
       " ('acidic', 'alkaline'),\n",
       " ('salty', 'fresh'),\n",
       " ('nontoxic', 'toxic'),\n",
       " ('on', 'off'),\n",
       " ('uptown', 'downtown'),\n",
       " ('subtractive', 'additive'),\n",
       " ('analytic', 'synthetic'),\n",
       " ('unfavorable', 'favorable'),\n",
       " ('unexciting', 'exciting'),\n",
       " ('unwholesome', 'wholesome'),\n",
       " ('discouraging', 'encouraging'),\n",
       " ('heuristic', 'algorithmic'),\n",
       " ('tuneless', 'tuneful'),\n",
       " ('undocumented', 'documented'),\n",
       " ('impermanent', 'permanent'),\n",
       " ('odorless', 'odorous'),\n",
       " ('nonfatal', 'fatal'),\n",
       " ('unattached', 'attached'),\n",
       " ('undiplomatic', 'diplomatic'),\n",
       " ('humble', 'proud'),\n",
       " ('unlivable', 'livable'),\n",
       " ('unextended', 'extended'),\n",
       " ('bisexual', 'heterosexual'),\n",
       " ('united', 'divided'),\n",
       " ('displeasing', 'pleasing'),\n",
       " ('foul', 'fair'),\n",
       " ('immoderate', 'moderate'),\n",
       " ('offstage', 'onstage'),\n",
       " ('unassertive', 'assertive'),\n",
       " ('responsible', 'irresponsible'),\n",
       " ('monovalent', 'polyvalent'),\n",
       " ('top', 'bottom'),\n",
       " ('unsusceptible', 'susceptible'),\n",
       " ('unintended', 'intended'),\n",
       " ('nonassociative', 'associative'),\n",
       " ('docile', 'stubborn'),\n",
       " ('unpowered', 'powered'),\n",
       " ('impartial', 'partial'),\n",
       " ('filial', 'parental'),\n",
       " ('unrigged', 'rigged'),\n",
       " ('hypertonic', 'hypotonic'),\n",
       " ('unconvinced', 'convinced'),\n",
       " ('indehiscent', 'dehiscent'),\n",
       " ('diabatic', 'adiabatic'),\n",
       " ('undetermined', 'determined'),\n",
       " ('credulous', 'incredulous'),\n",
       " ('nonmagnetic', 'magnetic'),\n",
       " ('uncommunicative', 'communicative'),\n",
       " ('monocotyledonous', 'dicotyledonous'),\n",
       " ('familiar', 'unfamiliar'),\n",
       " ('buttoned', 'unbuttoned'),\n",
       " ('dysphoric', 'euphoric'),\n",
       " ('uncultivated', 'cultivated'),\n",
       " ('breastless', 'breasted'),\n",
       " ('harmless', 'harmful'),\n",
       " ('unsound', 'sound'),\n",
       " ('unbanded', 'banded'),\n",
       " ('enfranchised', 'disenfranchised'),\n",
       " ('passive', 'active'),\n",
       " ('tense', 'relaxed'),\n",
       " ('adulterating', 'purifying'),\n",
       " ('hypotonic', 'hypertonic'),\n",
       " ('literate', 'illiterate'),\n",
       " ('unrepentant', 'repentant'),\n",
       " ('footless', 'footed'),\n",
       " ('illiterate', 'literate'),\n",
       " ('unsanitary', 'sanitary'),\n",
       " ('unseaworthy', 'seaworthy'),\n",
       " ('penetrable', 'impenetrable'),\n",
       " ('unshaded', 'shaded'),\n",
       " ('obligatory', 'optional'),\n",
       " ('gnostic', 'agnostic'),\n",
       " ('disabling', 'enabling'),\n",
       " ('adsorbable', 'absorbable'),\n",
       " ('unmanly', 'manly'),\n",
       " ('igneous', 'aqueous'),\n",
       " ('unreflected', 'reflected'),\n",
       " ('antonymous', 'synonymous'),\n",
       " ('on-street', 'off-street'),\n",
       " ('unconvincing', 'convincing'),\n",
       " ('irreversible', 'reversible'),\n",
       " ('malfunctioning', 'functioning'),\n",
       " ('aquatic', 'terrestrial'),\n",
       " ('insane', 'sane'),\n",
       " ('indecent', 'decent'),\n",
       " ('intolerable', 'tolerable'),\n",
       " ('fossorial', 'cursorial'),\n",
       " ('unemployable', 'employable'),\n",
       " ('absorbent', 'nonabsorbent'),\n",
       " ('unnecessary', 'necessary'),\n",
       " ('false', 'true'),\n",
       " ('divisible', 'indivisible'),\n",
       " ('efferent', 'afferent'),\n",
       " ('black', 'white'),\n",
       " ('eccentric', 'concentric'),\n",
       " ('toeless', 'toed'),\n",
       " ('early', 'middle'),\n",
       " ('nonresidential', 'residential'),\n",
       " ('strong', 'weak'),\n",
       " ('proportionate', 'disproportionate'),\n",
       " ('uncontrolled', 'controlled'),\n",
       " ('same', 'different'),\n",
       " ('tonal', 'atonal'),\n",
       " ('plantigrade', 'digitigrade'),\n",
       " ('nonreversible', 'reversible'),\n",
       " ('univalent', 'bivalent'),\n",
       " ('debilitating', 'invigorating'),\n",
       " ('sparkling', 'still'),\n",
       " ('meager', 'ample'),\n",
       " ('spinous', 'spineless'),\n",
       " ('home', 'away'),\n",
       " ('unfruitful', 'fruitful'),\n",
       " ('unbelted', 'belted'),\n",
       " ('unmusical', 'musical'),\n",
       " ('hot', 'cold'),\n",
       " ('inedible', 'edible'),\n",
       " ('unloved', 'loved'),\n",
       " ('unwritten', 'written'),\n",
       " ('fewer', 'more'),\n",
       " ('anodic', 'cathodic'),\n",
       " ('surface-to-air', 'air-to-surface'),\n",
       " ('live', 'dead'),\n",
       " ('impolite', 'polite'),\n",
       " ('unsavory', 'savory'),\n",
       " ('germfree', 'germy'),\n",
       " ('irrelevant', 'relevant'),\n",
       " ('incapable', 'capable'),\n",
       " ('wifely', 'husbandly'),\n",
       " ('nonexempt', 'exempt'),\n",
       " ('west', 'east'),\n",
       " ('incurable', 'curable'),\n",
       " ('infrequent', 'frequent'),\n",
       " ('uncollected', 'collected'),\n",
       " ('acyclic', 'cyclic'),\n",
       " ('unexpired', 'expired'),\n",
       " ('unskilled', 'skilled'),\n",
       " ('unequal', 'equal'),\n",
       " ('merited', 'unmerited'),\n",
       " ('functional', 'organic'),\n",
       " ('civilian', 'military'),\n",
       " ('safe', 'out'),\n",
       " ('unweaned', 'weaned'),\n",
       " ('surmountable', 'insurmountable'),\n",
       " ('unusual', 'usual'),\n",
       " ('normotensive', 'hypertensive'),\n",
       " ('malodorous', 'fragrant'),\n",
       " ('lethargic', 'energetic'),\n",
       " ('undomestic', 'domestic'),\n",
       " ('unreported', 'reported'),\n",
       " ('left', 'right'),\n",
       " ('indeterminate', 'determinate'),\n",
       " ('nonmonotonic', 'monotonic'),\n",
       " ('fancy', 'plain'),\n",
       " ('immobile', 'mobile'),\n",
       " ('native', 'foreign'),\n",
       " ('legible', 'illegible'),\n",
       " ('noninfectious', 'infectious'),\n",
       " ('unrhymed', 'rhymed'),\n",
       " ('recoverable', 'unrecoverable'),\n",
       " ('pretentious', 'unpretentious'),\n",
       " ('uppercase', 'lowercase'),\n",
       " ('coldhearted', 'warmhearted'),\n",
       " ('rich', 'lean'),\n",
       " ('hard', 'soft'),\n",
       " ('avascular', 'vascular'),\n",
       " ('convergent', 'divergent'),\n",
       " ('toothless', 'toothed'),\n",
       " ('desensitizing', 'sensitizing'),\n",
       " ('uncut', 'cut'),\n",
       " ('unenthusiastic', 'enthusiastic'),\n",
       " ('nonoperational', 'operational'),\n",
       " ('unlined', 'lined'),\n",
       " ('autumnal', 'wintry'),\n",
       " ('unorganized', 'organized'),\n",
       " ('heterogenous', 'autogenous'),\n",
       " ('unexhausted', 'exhausted'),\n",
       " ('unprovocative', 'provocative'),\n",
       " ('nonhierarchical', 'hierarchical'),\n",
       " ('white', 'black'),\n",
       " ('least', 'most'),\n",
       " ('broad-minded', 'narrow-minded'),\n",
       " ('antimagnetic', 'magnetic'),\n",
       " ('convex', 'concave'),\n",
       " ('nonrepresentative', 'representative'),\n",
       " ('nontraditional', 'traditional'),\n",
       " ('clement', 'inclement'),\n",
       " ('continual', 'sporadic'),\n",
       " ('antemeridian', 'postmeridian'),\n",
       " ('nonfinancial', 'financial'),\n",
       " ('inconclusive', 'conclusive'),\n",
       " ('atonal', 'tonal'),\n",
       " ('unstructured', 'structured'),\n",
       " ('ventral', 'dorsal'),\n",
       " ('quantitative', 'qualitative'),\n",
       " ('nonretractile', 'retractile'),\n",
       " ('contestable', 'incontestable'),\n",
       " ('spoken', 'written'),\n",
       " ('socialistic', 'capitalistic'),\n",
       " ('leading', 'following'),\n",
       " ('inactive', 'active'),\n",
       " ('encumbered', 'unencumbered'),\n",
       " ('hateful', 'lovable'),\n",
       " ('merciless', 'merciful'),\n",
       " ('outer', 'inner'),\n",
       " ('unthematic', 'thematic'),\n",
       " ('forceless', 'forceful'),\n",
       " ('nonarbitrary', 'arbitrary'),\n",
       " ('unrefined', 'refined'),\n",
       " ('reverse', 'forward'),\n",
       " ('relative', 'absolute'),\n",
       " ('male', 'female'),\n",
       " ('same', 'other'),\n",
       " ('unsilenced', 'silenced'),\n",
       " ('bottomless', 'bottomed'),\n",
       " ('nonconductive', 'conductive'),\n",
       " ('narrow', 'wide'),\n",
       " ('first', 'last'),\n",
       " ('sisterly', 'brotherly'),\n",
       " ('lossy', 'lossless'),\n",
       " ('unpatriotic', 'patriotic'),\n",
       " ('ambiguous', 'unambiguous'),\n",
       " ('imprecise', 'precise'),\n",
       " ('unplayable', 'playable'),\n",
       " ('insolvent', 'solvent'),\n",
       " ('unarticulated', 'articulated'),\n",
       " ('three-piece', 'one-piece'),\n",
       " ('fit', 'unfit'),\n",
       " ('thick', 'thin'),\n",
       " ('preserved', 'fresh'),\n",
       " ('useful', 'useless'),\n",
       " ('unknowable', 'knowable'),\n",
       " ('starless', 'starry'),\n",
       " ('precocious', 'retarded'),\n",
       " ('egoistic', 'altruistic'),\n",
       " ('distal', 'proximal'),\n",
       " ('nonreturnable', 'returnable'),\n",
       " ('subsonic', 'supersonic'),\n",
       " ('cosmopolitan', 'provincial'),\n",
       " ('leaky', 'tight'),\n",
       " ('allopatric', 'sympatric'),\n",
       " ('unfamiliar', 'familiar'),\n",
       " ('unlikely', 'likely'),\n",
       " ('headless', 'headed'),\n",
       " ('unmown', 'mown'),\n",
       " ('probable', 'improbable'),\n",
       " ('incorrupt', 'corrupt'),\n",
       " ('afebrile', 'febrile'),\n",
       " ('low', 'high'),\n",
       " ('qualitative', 'quantitative'),\n",
       " ('cowardly', 'brave'),\n",
       " ('faceless', 'faced'),\n",
       " ('incoming', 'outgoing'),\n",
       " ('cyclic', 'acyclic'),\n",
       " ('compact', 'loose'),\n",
       " ('conciliatory', 'antagonistic'),\n",
       " ('flattering', 'unflattering'),\n",
       " ('worthless', 'valuable'),\n",
       " ('spontaneous', 'induced'),\n",
       " ('inconsistent', 'consistent'),\n",
       " ('uncongenial', 'congenial'),\n",
       " ('invertebrate', 'vertebrate'),\n",
       " ('measurable', 'immeasurable'),\n",
       " ('numerical', 'verbal'),\n",
       " ('unshaven', 'shaven'),\n",
       " ('unmade', 'made'),\n",
       " ('tasty', 'tasteless'),\n",
       " ('unwaxed', 'waxed'),\n",
       " ('impenitent', 'penitent'),\n",
       " ('tender', 'tough'),\n",
       " ('anterior', 'posterior'),\n",
       " ('atonic', 'tonic'),\n",
       " ('sessile', 'pedunculate'),\n",
       " ('curly', 'straight'),\n",
       " ('inaudible', 'audible'),\n",
       " ('unattractive', 'attractive'),\n",
       " ('unimproved', 'improved'),\n",
       " ('cauline', 'radical'),\n",
       " ('unowned', 'owned'),\n",
       " ('adaptive', 'maladaptive'),\n",
       " ('gloveless', 'gloved'),\n",
       " ('unobstructed', 'obstructed'),\n",
       " ('figurative', 'literal'),\n",
       " ('corrigible', 'incorrigible'),\n",
       " ('inverse', 'direct'),\n",
       " ('seated', 'standing'),\n",
       " ('indefeasible', 'defeasible'),\n",
       " ('extinct', 'extant'),\n",
       " ('nonionized', 'ionized'),\n",
       " ('unplanted', 'planted'),\n",
       " ('attractive', 'unattractive'),\n",
       " ('uncompromising', 'compromising'),\n",
       " ('recessive', 'dominant'),\n",
       " ('apocrine', 'eccrine'),\n",
       " ('faced', 'faceless'),\n",
       " ('mediate', 'immediate'),\n",
       " ('myelinated', 'unmyelinated'),\n",
       " ('unhelpful', 'helpful'),\n",
       " ('cephalic', 'caudal'),\n",
       " ('unilateral', 'multilateral'),\n",
       " ('irresponsible', 'responsible'),\n",
       " ('unprotective', 'protective'),\n",
       " ('unsheathed', 'sheathed'),\n",
       " ('unwearable', 'wearable'),\n",
       " ('credible', 'incredible'),\n",
       " ('rhymed', 'unrhymed'),\n",
       " ('mental', 'physical'),\n",
       " ('inclusive', 'exclusive'),\n",
       " ('unqualified', 'qualified'),\n",
       " ('unrewarding', 'rewarding'),\n",
       " ('unprintable', 'printable'),\n",
       " ('full-term', 'premature'),\n",
       " ('undesirable', 'desirable'),\n",
       " ('palatable', 'unpalatable'),\n",
       " ('unperceptive', 'perceptive'),\n",
       " ('negligent', 'diligent'),\n",
       " ('inclement', 'clement'),\n",
       " ('all', 'some'),\n",
       " ('inelastic', 'elastic'),\n",
       " ('solid', 'hollow'),\n",
       " ('uninteresting', 'interesting'),\n",
       " ('unfashionable', 'fashionable'),\n",
       " ('fewest', 'most'),\n",
       " ('legitimate', 'illegitimate'),\n",
       " ('shut', 'open'),\n",
       " ('obtrusive', 'unobtrusive'),\n",
       " ('insectivorous', 'carnivorous'),\n",
       " ('nonspecific', 'specific'),\n",
       " ('odd', 'even'),\n",
       " ('unpremeditated', 'premeditated'),\n",
       " ('running', 'standing'),\n",
       " ('violable', 'inviolable'),\n",
       " ('veiled', 'unveiled'),\n",
       " ('timid', 'bold'),\n",
       " ('stimulative', 'depressant'),\n",
       " ('wasteful', 'thrifty'),\n",
       " ('lower-class', 'middle-class'),\n",
       " ('pro-American', 'anti-American'),\n",
       " ('genuine', 'counterfeit'),\n",
       " ('perinatal', 'postnatal'),\n",
       " ('singular', 'plural'),\n",
       " ('unconscientious', 'conscientious'),\n",
       " ('rising', 'falling'),\n",
       " ('unidirectional', 'bidirectional'),\n",
       " ('unrestricted', 'restricted'),\n",
       " ('uncompassionate', 'compassionate'),\n",
       " ('unobligated', 'obligated'),\n",
       " ('unimportant', 'important'),\n",
       " ('ambidextrous', 'right-handed'),\n",
       " ('employable', 'unemployable'),\n",
       " ('leafless', 'leafy'),\n",
       " ('instrumental', 'vocal'),\n",
       " ('protrusive', 'intrusive'),\n",
       " ('manageable', 'unmanageable'),\n",
       " ('unplanned', 'planned'),\n",
       " ('hostile', 'friendly'),\n",
       " ('nonrepresentational', 'representational'),\n",
       " ('ill', 'well'),\n",
       " ('flowerless', 'flowering'),\n",
       " ('meatless', 'meaty'),\n",
       " ('respectful', 'disrespectful'),\n",
       " ('lipless', 'lipped'),\n",
       " ('postprandial', 'preprandial'),\n",
       " ('unemotional', 'emotional'),\n",
       " ('intensifying', 'moderating'),\n",
       " ('unintelligent', 'intelligent'),\n",
       " ('unparented', 'parented'),\n",
       " ('masculine', 'feminine'),\n",
       " ('abstract', 'concrete'),\n",
       " ('nonspatial', 'spatial'),\n",
       " ('costive', 'laxative'),\n",
       " ('undiversified', 'diversified'),\n",
       " ('useless', 'useful'),\n",
       " ('wide', 'narrow'),\n",
       " ('perpendicular', 'oblique'),\n",
       " ('moral', 'immoral'),\n",
       " ('forehand', 'backhand'),\n",
       " ('dishonorable', 'honorable'),\n",
       " ('nonintellectual', 'intellectual'),\n",
       " ('bold', 'timid'),\n",
       " ('chaste', 'unchaste'),\n",
       " ('univalve', 'bivalve'),\n",
       " ('lidless', 'lidded'),\n",
       " ('abstemious', 'gluttonous'),\n",
       " ('unaggressive', 'aggressive'),\n",
       " ('first', 'second'),\n",
       " ('unconfined', 'confined'),\n",
       " ('close', 'distant'),\n",
       " ('right', 'wrong'),\n",
       " ('tough', 'tender'),\n",
       " ('animate', 'inanimate'),\n",
       " ('preprandial', 'postprandial'),\n",
       " ('neuter', 'masculine'),\n",
       " ('big', 'little'),\n",
       " ('mortal', 'immortal'),\n",
       " ('full', 'empty'),\n",
       " ('uneasy', 'easy'),\n",
       " ('uncoated', 'coated'),\n",
       " ('deciduous', 'evergreen'),\n",
       " ('unstratified', 'stratified'),\n",
       " ('unencumbered', 'encumbered'),\n",
       " ('rational', 'irrational'),\n",
       " ('unconsummated', 'consummated'),\n",
       " ('rimmed', 'rimless'),\n",
       " ('inequitable', 'equitable'),\n",
       " ('uncivil', 'civil'),\n",
       " ('disjunct', 'conjunct'),\n",
       " ('unadaptable', 'adaptable'),\n",
       " ('uninformed', 'informed'),\n",
       " ('unagitated', 'agitated'),\n",
       " ('overhand', 'underhand'),\n",
       " ('unipolar', 'bipolar'),\n",
       " ('long', 'short'),\n",
       " ('breast-fed', 'bottle-fed'),\n",
       " ('unadventurous', 'adventurous'),\n",
       " ('institutionalized', 'noninstitutionalized'),\n",
       " ('intradepartmental', 'interdepartmental'),\n",
       " ('unequivocal', 'equivocal'),\n",
       " ('seasonable', 'unseasonable'),\n",
       " ('intramural', 'extramural'),\n",
       " ('rugged', 'delicate'),\n",
       " ('evil', 'good'),\n",
       " ('ordinary', 'extraordinary'),\n",
       " ('regressive', 'progressive'),\n",
       " ('ascending', 'descending'),\n",
       " ('unbridgeable', 'bridgeable'),\n",
       " ('nonthermal', 'thermal'),\n",
       " ('heliocentric', 'geocentric'),\n",
       " ('preventive', 'permissive'),\n",
       " ('painful', 'painless'),\n",
       " ('ungrateful', 'grateful'),\n",
       " ('tubed', 'tubeless'),\n",
       " ('safe', 'dangerous'),\n",
       " ('eventful', 'uneventful'),\n",
       " ('plain', 'fancy'),\n",
       " ('unventilated', 'ventilated'),\n",
       " ('wearable', 'unwearable'),\n",
       " ('unclassified', 'classified'),\n",
       " ('brotherly', 'sisterly'),\n",
       " ('unleaded', 'leaded'),\n",
       " ('grassless', 'grassy'),\n",
       " ('noncritical', 'critical'),\n",
       " ('foreign', 'domestic'),\n",
       " ('negative', 'positive'),\n",
       " ('anterograde', 'retrograde'),\n",
       " ('differentiated', 'undifferentiated'),\n",
       " ('tasteless', 'tasty'),\n",
       " ('noneffervescent', 'effervescent'),\n",
       " ('adopted', 'native'),\n",
       " ('undemanding', 'demanding'),\n",
       " ('nonpsychoactive', 'psychoactive'),\n",
       " ('decentralizing', 'centralizing'),\n",
       " ('northern', 'southern'),\n",
       " ('worn', 'new'),\n",
       " ('sophisticated', 'naive'),\n",
       " ('expensive', 'cheap'),\n",
       " ('unstimulating', 'stimulating'),\n",
       " ('unblended', 'blended'),\n",
       " ('ponderable', 'imponderable'),\n",
       " ('monophonic', 'polyphonic'),\n",
       " ('thin', 'full'),\n",
       " ('single-lane', 'multilane'),\n",
       " ('cursorial', 'fossorial'),\n",
       " ('scentless', 'scented'),\n",
       " ('popular', 'unpopular'),\n",
       " ('imponderable', 'ponderable'),\n",
       " ('wrong', 'right'),\n",
       " ('adnate', 'connate'),\n",
       " ('unaware', 'aware'),\n",
       " ('unshod', 'shod'),\n",
       " ('descriptive', 'prescriptive'),\n",
       " ('accusatorial', 'inquisitorial'),\n",
       " ('incompetent', 'competent'),\n",
       " ('married', 'unmarried'),\n",
       " ('moving', 'still'),\n",
       " ('ectomorphic', 'endomorphic'),\n",
       " ('on-site', 'off-site'),\n",
       " ('indoor', 'outdoor'),\n",
       " ('eyeless', 'eyed'),\n",
       " ('colorless', 'colorful'),\n",
       " ('unbroken', 'broken'),\n",
       " ('untidy', 'tidy'),\n",
       " ...)"
      ]
     },
     "execution_count": 54,
     "metadata": {},
     "output_type": "execute_result"
    }
   ],
   "source": [
    "rank"
   ]
  },
  {
   "cell_type": "code",
   "execution_count": 46,
   "metadata": {},
   "outputs": [
    {
     "data": {
      "text/plain": [
       "('abc', 'eed')"
      ]
     },
     "execution_count": 46,
     "metadata": {},
     "output_type": "execute_result"
    }
   ],
   "source": [
    "tuple(sorted(('eed','abc')))"
   ]
  },
  {
   "cell_type": "code",
   "execution_count": 55,
   "metadata": {},
   "outputs": [],
   "source": [
    "new_rank = []\n",
    "for ant1, ant2 in rank:\n",
    "    new_rank.append(tuple(sorted((ant1,ant2))))"
   ]
  },
  {
   "cell_type": "code",
   "execution_count": 56,
   "metadata": {},
   "outputs": [
    {
     "data": {
      "text/plain": [
       "3133"
      ]
     },
     "execution_count": 56,
     "metadata": {},
     "output_type": "execute_result"
    }
   ],
   "source": [
    "len(new_rank)"
   ]
  },
  {
   "cell_type": "code",
   "execution_count": 57,
   "metadata": {},
   "outputs": [
    {
     "data": {
      "text/plain": [
       "3133"
      ]
     },
     "execution_count": 57,
     "metadata": {},
     "output_type": "execute_result"
    }
   ],
   "source": [
    "len(rank)"
   ]
  },
  {
   "cell_type": "code",
   "execution_count": 58,
   "metadata": {},
   "outputs": [],
   "source": [
    "new_rank = list(dict.fromkeys(new_rank))"
   ]
  },
  {
   "cell_type": "code",
   "execution_count": 59,
   "metadata": {},
   "outputs": [
    {
     "data": {
      "text/plain": [
       "[('disposable', 'nondisposable'),\n",
       " ('unwooded', 'wooded'),\n",
       " ('amended', 'unamended'),\n",
       " ('moved', 'unmoved'),\n",
       " ('essential', 'inessential'),\n",
       " ('complaining', 'uncomplaining'),\n",
       " ('explosive', 'nonexplosive'),\n",
       " ('guided', 'unguided'),\n",
       " ('efficacious', 'inefficacious'),\n",
       " ('anonymous', 'onymous')]"
      ]
     },
     "execution_count": 59,
     "metadata": {},
     "output_type": "execute_result"
    }
   ],
   "source": [
    "new_rank[:10]"
   ]
  },
  {
   "cell_type": "code",
   "execution_count": 60,
   "metadata": {},
   "outputs": [
    {
     "data": {
      "text/plain": [
       "[('colourful', 'colourless'),\n",
       " ('natural', 'sharp'),\n",
       " ('one-piece', 'two-piece'),\n",
       " ('hypotensive', 'normotensive'),\n",
       " ('carnivorous', 'herbivorous'),\n",
       " ('alkaline', 'amphoteric'),\n",
       " ('anadromous', 'catadromous'),\n",
       " ('sonic', 'subsonic'),\n",
       " ('subsurface', 'surface'),\n",
       " ('feminine', 'neuter')]"
      ]
     },
     "execution_count": 60,
     "metadata": {},
     "output_type": "execute_result"
    }
   ],
   "source": [
    "new_rank[-10:]"
   ]
  },
  {
   "cell_type": "code",
   "execution_count": null,
   "metadata": {},
   "outputs": [],
   "source": []
  }
 ],
 "metadata": {
  "kernelspec": {
   "display_name": "creepy-venv",
   "language": "python",
   "name": "creepy-venv"
  },
  "language_info": {
   "codemirror_mode": {
    "name": "ipython",
    "version": 3
   },
   "file_extension": ".py",
   "mimetype": "text/x-python",
   "name": "python",
   "nbconvert_exporter": "python",
   "pygments_lexer": "ipython3",
   "version": "3.8.5"
  }
 },
 "nbformat": 4,
 "nbformat_minor": 4
}
