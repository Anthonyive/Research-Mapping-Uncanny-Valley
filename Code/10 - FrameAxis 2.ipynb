{
 "cells": [
  {
   "cell_type": "markdown",
   "metadata": {},
   "source": [
    "# FrameAxis analysis for r/self and r/nosleep"
   ]
  },
  {
   "cell_type": "code",
   "execution_count": 1,
   "metadata": {},
   "outputs": [
    {
     "name": "stdout",
     "output_type": "stream",
     "text": [
      "Num GPUs Available:  1\n"
     ]
    }
   ],
   "source": [
    "import tensorflow as tf\n",
    "physical_devices = tf.config.list_physical_devices('GPU')\n",
    "tf.config.experimental.set_memory_growth(physical_devices[0], enable=True)\n",
    "print(\"Num GPUs Available: \", len(physical_devices))"
   ]
  },
  {
   "cell_type": "code",
   "execution_count": 2,
   "metadata": {},
   "outputs": [],
   "source": [
    "import pickle\n",
    "with open('./Download/data_cleaned.pickle', 'rb') as handle:\n",
    "    data_cleaned = pickle.load(handle)"
   ]
  },
  {
   "cell_type": "markdown",
   "metadata": {},
   "source": [
    "# 1. Building a Set of Microframes"
   ]
  },
  {
   "cell_type": "code",
   "execution_count": 3,
   "metadata": {},
   "outputs": [
    {
     "name": "stderr",
     "output_type": "stream",
     "text": [
      "[nltk_data] Downloading package wordnet to /home/anthony/nltk_data...\n",
      "[nltk_data]   Package wordnet is already up-to-date!\n",
      "[nltk_data] Downloading package punkt to /home/anthony/nltk_data...\n",
      "[nltk_data]   Package punkt is already up-to-date!\n"
     ]
    },
    {
     "data": {
      "text/plain": [
       "True"
      ]
     },
     "execution_count": 3,
     "metadata": {},
     "output_type": "execute_result"
    }
   ],
   "source": [
    "import nltk\n",
    "from nltk.corpus import wordnet as wn\n",
    "nltk.download('wordnet')\n",
    "nltk.download('punkt')"
   ]
  },
  {
   "cell_type": "markdown",
   "metadata": {},
   "source": [
    "### Show all antonyms in WordNet:"
   ]
  },
  {
   "cell_type": "code",
   "execution_count": 4,
   "metadata": {},
   "outputs": [],
   "source": [
    "from nltk.corpus import wordnet as wn\n",
    "\n",
    "def antonyms_for(word):\n",
    "    antonyms = set()\n",
    "    for ss in wn.synsets(word):\n",
    "        for lemma in ss.lemmas():\n",
    "            any_pos_antonyms = [ antonym.name() for antonym in lemma.antonyms() ]\n",
    "            for antonym in any_pos_antonyms:\n",
    "                antonym_synsets = wn.synsets(antonym)\n",
    "                if wn.ADJ not in [ ss.pos() for ss in antonym_synsets ]:\n",
    "                    continue\n",
    "                antonyms.add(antonym)\n",
    "    return antonyms"
   ]
  },
  {
   "cell_type": "code",
   "execution_count": 7,
   "metadata": {},
   "outputs": [
    {
     "data": {
      "text/plain": [
       "set()"
      ]
     },
     "execution_count": 7,
     "metadata": {},
     "output_type": "execute_result"
    }
   ],
   "source": [
    "antonyms_for('scary')"
   ]
  },
  {
   "cell_type": "code",
   "execution_count": 8,
   "metadata": {},
   "outputs": [],
   "source": [
    "from nltk.corpus import wordnet as wn\n",
    "\n",
    "wn_all_antonyms = set()\n",
    "\n",
    "for i in wn.all_synsets():\n",
    "    if i.pos() in ['a', 's']: # If synset is adj or satelite-adj.\n",
    "        for j in i.lemmas(): # Iterating through lemmas for each synset.\n",
    "            if j.antonyms(): # If adj has antonym.\n",
    "                # Prints the adj-antonym pair.\n",
    "                wn_all_antonyms.add((j.name(), j.antonyms()[0].name()))"
   ]
  },
  {
   "cell_type": "code",
   "execution_count": 9,
   "metadata": {},
   "outputs": [
    {
     "data": {
      "text/plain": [
       "3531"
      ]
     },
     "execution_count": 9,
     "metadata": {},
     "output_type": "execute_result"
    }
   ],
   "source": [
    "len(wn_all_antonyms)"
   ]
  },
  {
   "cell_type": "markdown",
   "metadata": {},
   "source": [
    "### Import pretrained embeddings"
   ]
  },
  {
   "cell_type": "markdown",
   "metadata": {},
   "source": [
    "### **Options**\n",
    "\n",
    "`CLASStorchtext.vocab.GloVe(name='840B', dim=300, **kwargs)`\n",
    "\n",
    "`CLASStorchtext.vocab.FastText(language='en', **kwargs)`\n",
    "\n",
    "`CLASStorchtext.vocab.CharNGram(**kwargs)`"
   ]
  },
  {
   "cell_type": "code",
   "execution_count": 10,
   "metadata": {},
   "outputs": [],
   "source": [
    "import torch\n",
    "import torchtext\n",
    "import numpy as np"
   ]
  },
  {
   "cell_type": "code",
   "execution_count": 11,
   "metadata": {},
   "outputs": [],
   "source": [
    "glove = torchtext.vocab.GloVe(name=\"840B\",dim=300)"
   ]
  },
  {
   "cell_type": "code",
   "execution_count": 12,
   "metadata": {},
   "outputs": [],
   "source": [
    "import spacy\n",
    "nlp = spacy.load('en_core_web_lg')"
   ]
  },
  {
   "cell_type": "code",
   "execution_count": 13,
   "metadata": {},
   "outputs": [],
   "source": [
    "from nltk.corpus import wordnet as wn\n",
    "\n",
    "wn_all_antonyms_words = set()\n",
    "\n",
    "for ant_pair in wn_all_antonyms:\n",
    "    wn_all_antonyms_words = set(tuple(wn_all_antonyms_words) + ant_pair)"
   ]
  },
  {
   "cell_type": "code",
   "execution_count": 14,
   "metadata": {},
   "outputs": [],
   "source": [
    "no_emb_words = set()\n",
    "for adj in wn_all_antonyms_words:\n",
    "    if torch.all(glove[adj] == torch.zeros(300)):\n",
    "        no_emb_words.add(adj)"
   ]
  },
  {
   "cell_type": "code",
   "execution_count": 15,
   "metadata": {},
   "outputs": [
    {
     "data": {
      "text/plain": [
       "3531"
      ]
     },
     "execution_count": 15,
     "metadata": {},
     "output_type": "execute_result"
    }
   ],
   "source": [
    "len(wn_all_antonyms)"
   ]
  },
  {
   "cell_type": "code",
   "execution_count": 16,
   "metadata": {},
   "outputs": [],
   "source": [
    "copy = wn_all_antonyms.copy()\n",
    "for pair in wn_all_antonyms:\n",
    "    pair1, pair2 = pair\n",
    "    if pair1 in no_emb_words or pair2 in no_emb_words:\n",
    "        copy.remove(pair)\n",
    "        \n",
    "wn_all_antonyms = copy"
   ]
  },
  {
   "cell_type": "code",
   "execution_count": 17,
   "metadata": {},
   "outputs": [
    {
     "data": {
      "text/plain": [
       "3131"
      ]
     },
     "execution_count": 17,
     "metadata": {},
     "output_type": "execute_result"
    }
   ],
   "source": [
    "len(wn_all_antonyms)"
   ]
  },
  {
   "cell_type": "code",
   "execution_count": 18,
   "metadata": {},
   "outputs": [
    {
     "data": {
      "text/plain": [
       "400"
      ]
     },
     "execution_count": 18,
     "metadata": {},
     "output_type": "execute_result"
    }
   ],
   "source": [
    "3531-3131"
   ]
  },
  {
   "cell_type": "code",
   "execution_count": 19,
   "metadata": {},
   "outputs": [
    {
     "data": {
      "text/plain": [
       "{('unprofessional', 'professional'),\n",
       " ('nonporous', 'porous'),\n",
       " ('amphibious', 'aquatic'),\n",
       " ('sighted', 'blind'),\n",
       " ('inexact', 'exact'),\n",
       " ('nonsurgical', 'surgical'),\n",
       " ('contemptible', 'estimable'),\n",
       " ('credible', 'incredible'),\n",
       " ('fretted', 'unfretted'),\n",
       " ('normal', 'abnormal'),\n",
       " ('certified', 'uncertified'),\n",
       " ('mutable', 'immutable'),\n",
       " ('parallel', 'perpendicular'),\n",
       " ('unreproducible', 'reproducible'),\n",
       " ('compromising', 'uncompromising'),\n",
       " ('untalented', 'talented'),\n",
       " ('offstage', 'onstage'),\n",
       " ('detachable', 'attachable'),\n",
       " ('seedy', 'seedless'),\n",
       " ('local', 'general'),\n",
       " ('acidic', 'alkaline'),\n",
       " ('vocal', 'instrumental'),\n",
       " ('receptive', 'unreceptive'),\n",
       " ('disinclined', 'inclined'),\n",
       " ('wary', 'unwary'),\n",
       " ('topless', 'topped'),\n",
       " ('vocalic', 'consonantal'),\n",
       " ('attractive', 'unattractive'),\n",
       " ('noncrystalline', 'crystalline'),\n",
       " ('short', 'long'),\n",
       " ('unowned', 'owned'),\n",
       " ('lowercase', 'uppercase'),\n",
       " ('unmoving', 'moving'),\n",
       " ('supersonic', 'sonic'),\n",
       " ('argillaceous', 'arenaceous'),\n",
       " ('unshapely', 'shapely'),\n",
       " ('multilingual', 'monolingual'),\n",
       " ('coiled', 'uncoiled'),\n",
       " ('passing', 'running'),\n",
       " ('fruitful', 'unfruitful'),\n",
       " ('anodic', 'cathodic'),\n",
       " ('direct', 'alternating'),\n",
       " ('plowed', 'unplowed'),\n",
       " ('stale', 'fresh'),\n",
       " ('legless', 'legged'),\n",
       " ('chromatic', 'achromatic'),\n",
       " ('extinct', 'active'),\n",
       " ('unmodifiable', 'modifiable'),\n",
       " ('important', 'unimportant'),\n",
       " ('uninhibited', 'inhibited'),\n",
       " ('positive', 'negative'),\n",
       " ('uncut', 'cut'),\n",
       " ('accusatorial', 'inquisitorial'),\n",
       " ('unsheathed', 'sheathed'),\n",
       " ('diploid', 'polyploid'),\n",
       " ('digitigrade', 'plantigrade'),\n",
       " ('nonabsorbent', 'absorbent'),\n",
       " ('incapable', 'capable'),\n",
       " ('demanding', 'undemanding'),\n",
       " ('unproductive', 'productive'),\n",
       " ('charitable', 'uncharitable'),\n",
       " ('heliocentric', 'geocentric'),\n",
       " ('operable', 'inoperable'),\n",
       " ('landed', 'landless'),\n",
       " ('unprincipled', 'principled'),\n",
       " ('odd', 'even'),\n",
       " ('rising', 'falling'),\n",
       " ('prewar', 'postwar'),\n",
       " ('compassionate', 'uncompassionate'),\n",
       " ('salable', 'unsalable'),\n",
       " ('unconditioned', 'conditioned'),\n",
       " ('valid', 'invalid'),\n",
       " ('nonexempt', 'exempt'),\n",
       " ('unequivocal', 'equivocal'),\n",
       " ('meatless', 'meaty'),\n",
       " ('lost', 'won'),\n",
       " ('obligated', 'unobligated'),\n",
       " ('uncultivated', 'cultivated'),\n",
       " ('haploid', 'diploid'),\n",
       " ('cyclic', 'acyclic'),\n",
       " ('skilled', 'unskilled'),\n",
       " ('eyeless', 'eyed'),\n",
       " ('playable', 'unplayable'),\n",
       " ('untied', 'tied'),\n",
       " ('ill', 'well'),\n",
       " ('offending', 'unoffending'),\n",
       " ('noticeable', 'unnoticeable'),\n",
       " ('spoken', 'written'),\n",
       " ('obtuse', 'acute'),\n",
       " ('dicotyledonous', 'monocotyledonous'),\n",
       " ('inessential', 'essential'),\n",
       " ('spherical', 'nonspherical'),\n",
       " ('declared', 'undeclared'),\n",
       " ('varied', 'unvaried'),\n",
       " ('gutsy', 'gutless'),\n",
       " ('germfree', 'germy'),\n",
       " ('displeased', 'pleased'),\n",
       " ('nonjudgmental', 'judgmental'),\n",
       " ('ordinary', 'extraordinary'),\n",
       " ('emotional', 'unemotional'),\n",
       " ('unloved', 'loved'),\n",
       " ('peripheral', 'central'),\n",
       " ('unrestricted', 'restricted'),\n",
       " ('commensurate', 'incommensurate'),\n",
       " ('fingered', 'fingerless'),\n",
       " ('handleless', 'handled'),\n",
       " ('nonmetallic', 'metallic'),\n",
       " ('legged', 'legless'),\n",
       " ('pro-life', 'pro-choice'),\n",
       " ('evitable', 'inevitable'),\n",
       " ('considerate', 'inconsiderate'),\n",
       " ('mitigated', 'unmitigated'),\n",
       " ('quantitative', 'qualitative'),\n",
       " ('acknowledged', 'unacknowledged'),\n",
       " ('outboard', 'inboard'),\n",
       " ('starry', 'starless'),\n",
       " ('extracellular', 'intracellular'),\n",
       " ('uncorrected', 'corrected'),\n",
       " ('impotent', 'potent'),\n",
       " ('benign', 'malignant'),\n",
       " ('interrogatory', 'declaratory'),\n",
       " ('born', 'unborn'),\n",
       " ('disabling', 'enabling'),\n",
       " ('reverent', 'irreverent'),\n",
       " ('marked', 'unmarked'),\n",
       " ('unadaptable', 'adaptable'),\n",
       " ('unknown', 'known'),\n",
       " ('dorsal', 'ventral'),\n",
       " ('unappetizing', 'appetizing'),\n",
       " ('indiscriminate', 'discriminate'),\n",
       " ('colourless', 'colourful'),\n",
       " ('unbalanced', 'balanced'),\n",
       " ('running', 'standing'),\n",
       " ('incontinent', 'continent'),\n",
       " ('thermal', 'nonthermal'),\n",
       " ('determinate', 'indeterminate'),\n",
       " ('mild', 'intense'),\n",
       " ('unchartered', 'chartered'),\n",
       " ('unconvinced', 'convinced'),\n",
       " ('sorrowful', 'joyful'),\n",
       " ('constant', 'inconstant'),\n",
       " ('loaded', 'unloaded'),\n",
       " ('registered', 'unregistered'),\n",
       " ('coarse', 'fine'),\n",
       " ('inconsistent', 'consistent'),\n",
       " ('keyed', 'keyless'),\n",
       " ('accentual', 'quantitative'),\n",
       " ('well-defined', 'ill-defined'),\n",
       " ('nonarbitrary', 'arbitrary'),\n",
       " ('modulated', 'unmodulated'),\n",
       " ('impermeable', 'permeable'),\n",
       " ('inhibited', 'uninhibited'),\n",
       " ('contracted', 'expanded'),\n",
       " ('cosmopolitan', 'provincial'),\n",
       " ('purebred', 'crossbred'),\n",
       " ('nonfinancial', 'financial'),\n",
       " ('superscript', 'subscript'),\n",
       " ('afebrile', 'febrile'),\n",
       " ('inaudible', 'audible'),\n",
       " ('headed', 'headless'),\n",
       " ('signed', 'unsigned'),\n",
       " ('responsive', 'unresponsive'),\n",
       " ('induced', 'spontaneous'),\n",
       " ('antiseptic', 'septic'),\n",
       " ('equivocal', 'unequivocal'),\n",
       " ('crowded', 'uncrowded'),\n",
       " ('unostentatious', 'ostentatious'),\n",
       " ('depressing', 'cheerful'),\n",
       " ('effervescent', 'noneffervescent'),\n",
       " ('attractive', 'repulsive'),\n",
       " ('preventable', 'unpreventable'),\n",
       " ('noncyclic', 'cyclic'),\n",
       " ('untucked', 'tucked'),\n",
       " ('derivational', 'inflectional'),\n",
       " ('odorous', 'odorless'),\n",
       " ('inconstant', 'constant'),\n",
       " ('first', 'last'),\n",
       " ('tubeless', 'tubed'),\n",
       " ('nomothetic', 'idiographic'),\n",
       " ('ironed', 'unironed'),\n",
       " ('joyless', 'joyous'),\n",
       " ('malodorous', 'fragrant'),\n",
       " ('proportionate', 'disproportionate'),\n",
       " ('discontinuous', 'continuous'),\n",
       " ('implicit', 'explicit'),\n",
       " ('subjective', 'objective'),\n",
       " ('quantitative', 'syllabic'),\n",
       " ('unsure', 'sure'),\n",
       " ('nonfatal', 'fatal'),\n",
       " ('educated', 'uneducated'),\n",
       " ('maladaptive', 'adaptive'),\n",
       " ('welcome', 'unwelcome'),\n",
       " ('expensive', 'cheap'),\n",
       " ('true-false', 'multiple-choice'),\n",
       " ('remediable', 'irremediable'),\n",
       " ('uncontrolled', 'controlled'),\n",
       " ('impenitent', 'penitent'),\n",
       " ('forceful', 'forceless'),\n",
       " ('noisy', 'quiet'),\n",
       " ('unturned', 'turned'),\n",
       " ('sympatric', 'allopatric'),\n",
       " ('downstairs', 'upstairs'),\n",
       " ('articulated', 'unarticulated'),\n",
       " ('unimportant', 'important'),\n",
       " ('unguided', 'guided'),\n",
       " ('dangerous', 'safe'),\n",
       " ('black', 'white'),\n",
       " ('irremovable', 'removable'),\n",
       " ('stable', 'unstable'),\n",
       " ('allogeneic', 'xenogeneic'),\n",
       " ('nonhierarchical', 'hierarchical'),\n",
       " ('low-interest', 'high-interest'),\n",
       " ('unseasoned', 'seasoned'),\n",
       " ('unmoved', 'moved'),\n",
       " ('radical', 'cauline'),\n",
       " ('stupid', 'smart'),\n",
       " ('unnecessary', 'necessary'),\n",
       " ('uppercase', 'lowercase'),\n",
       " ('year-round', 'seasonal'),\n",
       " ('uncoated', 'coated'),\n",
       " ('unavenged', 'avenged'),\n",
       " ('unconstricted', 'constricted'),\n",
       " ('brave', 'cowardly'),\n",
       " ('contested', 'uncontested'),\n",
       " ('end-stopped', 'run-on'),\n",
       " ('far', 'near'),\n",
       " ('unoccupied', 'occupied'),\n",
       " ('right', 'left'),\n",
       " ('farsighted', 'nearsighted'),\n",
       " ('smokeless', 'smoky'),\n",
       " ('lethargic', 'energetic'),\n",
       " ('tractable', 'intractable'),\n",
       " ('nonsuppurative', 'suppurative'),\n",
       " ('overhand', 'underhand'),\n",
       " ('immodest', 'modest'),\n",
       " ('steep', 'gradual'),\n",
       " ('cooperative', 'uncooperative'),\n",
       " ('scrupulous', 'unscrupulous'),\n",
       " ('nonradioactive', 'radioactive'),\n",
       " ('arenaceous', 'argillaceous'),\n",
       " ('publishable', 'unpublishable'),\n",
       " ('unmodulated', 'modulated'),\n",
       " ('undiluted', 'diluted'),\n",
       " ('bowed', 'plucked'),\n",
       " ('unobligated', 'obligated'),\n",
       " ('ectomorphic', 'endomorphic'),\n",
       " ('unpredictable', 'predictable'),\n",
       " ('unpublishable', 'publishable'),\n",
       " ('maternal', 'paternal'),\n",
       " ('unpunctual', 'punctual'),\n",
       " ('limited', 'unlimited'),\n",
       " ('uncontaminated', 'contaminated'),\n",
       " ('white', 'black'),\n",
       " ('ugly', 'beautiful'),\n",
       " ('imperfect', 'perfect'),\n",
       " ('unnoticeable', 'noticeable'),\n",
       " ('bloody', 'bloodless'),\n",
       " ('toxic', 'nontoxic'),\n",
       " ('single-lane', 'multilane'),\n",
       " ('powerless', 'powerful'),\n",
       " ('pointed', 'pointless'),\n",
       " ('untouched', 'touched'),\n",
       " ('lotic', 'lentic'),\n",
       " ('undue', 'due'),\n",
       " ('interspecies', 'intraspecies'),\n",
       " ('unprotective', 'protective'),\n",
       " ('paranormal', 'normal'),\n",
       " ('exogamous', 'endogamous'),\n",
       " ('wooded', 'unwooded'),\n",
       " ('turned', 'unturned'),\n",
       " ('nonaligned', 'aligned'),\n",
       " ('colourful', 'colourless'),\n",
       " ('pervious', 'impervious'),\n",
       " ('nontoxic', 'toxic'),\n",
       " ('unconscious', 'conscious'),\n",
       " ('glorious', 'inglorious'),\n",
       " ('specified', 'unspecified'),\n",
       " ('nondeductible', 'deductible'),\n",
       " ('written', 'unwritten'),\n",
       " ('dioecious', 'monoecious'),\n",
       " ('constitutional', 'unconstitutional'),\n",
       " ('conscientious', 'unconscientious'),\n",
       " ('attachable', 'detachable'),\n",
       " ('prolix', 'concise'),\n",
       " ('inferior', 'superior'),\n",
       " ('dolichocephalic', 'brachycephalic'),\n",
       " ('overt', 'covert'),\n",
       " ('formed', 'unformed'),\n",
       " ('ordinal', 'cardinal'),\n",
       " ('excited', 'unexcited'),\n",
       " ('creative', 'uncreative'),\n",
       " ('silenced', 'unsilenced'),\n",
       " ('heterozygous', 'homozygous'),\n",
       " ('subsurface', 'overhead'),\n",
       " ('disposable', 'nondisposable'),\n",
       " ('intrinsic', 'extrinsic'),\n",
       " ('proud', 'humble'),\n",
       " ('on-site', 'off-site'),\n",
       " ('gaseous', 'solid'),\n",
       " ('perennial', 'annual'),\n",
       " ('admissible', 'inadmissible'),\n",
       " ('discordant', 'accordant'),\n",
       " ('dramatic', 'undramatic'),\n",
       " ('utopian', 'dystopian'),\n",
       " ('obligatory', 'optional'),\n",
       " ('whole', 'fractional'),\n",
       " ('uncrossed', 'crossed'),\n",
       " ('bad', 'good'),\n",
       " ('uncommunicative', 'communicative'),\n",
       " ('leaded', 'unleaded'),\n",
       " ('peaceful', 'unpeaceful'),\n",
       " ('multivalent', 'univalent'),\n",
       " ('septic', 'antiseptic'),\n",
       " ('downmarket', 'upmarket'),\n",
       " ('oral', 'anal'),\n",
       " ('polyphonic', 'monophonic'),\n",
       " ('heterologous', 'analogous'),\n",
       " ('synonymous', 'antonymous'),\n",
       " ('half', 'whole'),\n",
       " ('improved', 'unimproved'),\n",
       " ('conscious', 'unconscious'),\n",
       " ('focused', 'unfocused'),\n",
       " ('curable', 'incurable'),\n",
       " ('preserved', 'destroyed'),\n",
       " ('nonrigid', 'rigid'),\n",
       " ('foreign', 'native'),\n",
       " ('unsystematic', 'systematic'),\n",
       " ('unanalyzed', 'analyzed'),\n",
       " ('empirical', 'theoretical'),\n",
       " ('inexcusable', 'excusable'),\n",
       " ('smooth', 'rough'),\n",
       " ('counterfeit', 'genuine'),\n",
       " ('net', 'gross'),\n",
       " ('significant', 'nonsignificant'),\n",
       " ('guilty', 'innocent'),\n",
       " ('relative', 'absolute'),\n",
       " ('dissuasive', 'persuasive'),\n",
       " ('grassy', 'grassless'),\n",
       " ('branded', 'unbranded'),\n",
       " ('untrained', 'trained'),\n",
       " ('algorithmic', 'heuristic'),\n",
       " ('tasteless', 'tasty'),\n",
       " ('normotensive', 'hypertensive'),\n",
       " ('untempered', 'tempered'),\n",
       " ('toothless', 'toothed'),\n",
       " ('perpendicular', 'oblique'),\n",
       " ('scheduled', 'unscheduled'),\n",
       " ('procaryotic', 'eucaryotic'),\n",
       " ('revolutionary', 'counterrevolutionary'),\n",
       " ('unbreakable', 'breakable'),\n",
       " ('unanimated', 'animated'),\n",
       " ('discernible', 'indiscernible'),\n",
       " ('corrupt', 'incorrupt'),\n",
       " ('judgmental', 'nonjudgmental'),\n",
       " ('truthful', 'untruthful'),\n",
       " ('concrete', 'abstract'),\n",
       " ('insensitive', 'sensitive'),\n",
       " ('virtuous', 'wicked'),\n",
       " ('straight', 'curved'),\n",
       " ('untrimmed', 'trimmed'),\n",
       " ('strong', 'weak'),\n",
       " ('viviparous', 'oviparous'),\n",
       " ('unsound', 'sound'),\n",
       " ('concerned', 'unconcerned'),\n",
       " ('nonbearing', 'bearing'),\n",
       " ('lighted', 'unlighted'),\n",
       " ('common', 'uncommon'),\n",
       " ('reversible', 'nonreversible'),\n",
       " ('sure', 'unsure'),\n",
       " ('parental', 'filial'),\n",
       " ('off-site', 'on-site'),\n",
       " ('easy', 'difficult'),\n",
       " ('lost', 'saved'),\n",
       " ('wise', 'foolish'),\n",
       " ('favorable', 'unfavorable'),\n",
       " ('unadorned', 'adorned'),\n",
       " ('fore', 'aft'),\n",
       " ('nonindustrial', 'industrial'),\n",
       " ('armed', 'unarmed'),\n",
       " ('refined', 'unrefined'),\n",
       " ('pregnant', 'nonpregnant'),\n",
       " ('atomistic', 'holistic'),\n",
       " ('anti', 'pro'),\n",
       " ('synchronic', 'diachronic'),\n",
       " ('commissioned', 'noncommissioned'),\n",
       " ('colorful', 'colorless'),\n",
       " ('uncomplaining', 'complaining'),\n",
       " ('serious', 'frivolous'),\n",
       " ('unrepeatable', 'repeatable'),\n",
       " ('reverse', 'forward'),\n",
       " ('efficient', 'inefficient'),\n",
       " ('conditional', 'unconditional'),\n",
       " ('alive', 'dead'),\n",
       " ('dissimilar', 'similar'),\n",
       " ('unforgettable', 'forgettable'),\n",
       " ('published', 'unpublished'),\n",
       " ('uncensored', 'censored'),\n",
       " ('glad', 'sad'),\n",
       " ('unfixed', 'fixed'),\n",
       " ('bisexual', 'heterosexual'),\n",
       " ('unrelated', 'related'),\n",
       " ('tubed', 'tubeless'),\n",
       " ('forgettable', 'unforgettable'),\n",
       " ('local', 'national'),\n",
       " ('nonaddictive', 'addictive'),\n",
       " ('thoughtless', 'thoughtful'),\n",
       " ('unmindful', 'mindful'),\n",
       " ('east', 'west'),\n",
       " ('conditioned', 'unconditioned'),\n",
       " ('uninjured', 'injured'),\n",
       " ('reasonable', 'unreasonable'),\n",
       " ('wanted', 'unwanted'),\n",
       " ('talented', 'untalented'),\n",
       " ('passable', 'impassable'),\n",
       " ('irresponsible', 'responsible'),\n",
       " ('homozygous', 'heterozygous'),\n",
       " ('inflectional', 'derivational'),\n",
       " ('hypotonic', 'hypertonic'),\n",
       " ('adopted', 'native'),\n",
       " ('unoriginal', 'original'),\n",
       " ('integrated', 'segregated'),\n",
       " ('other', 'same'),\n",
       " ('unsaturated', 'saturated'),\n",
       " ('apocrine', 'eccrine'),\n",
       " ('unsent', 'sent'),\n",
       " ('potential', 'actual'),\n",
       " ('run-on', 'end-stopped'),\n",
       " ('idle', 'busy'),\n",
       " ('unauthorized', 'authorized'),\n",
       " ('quadrupedal', 'bipedal'),\n",
       " ('homologous', 'heterologous'),\n",
       " ('geared', 'ungeared'),\n",
       " ('predictable', 'unpredictable'),\n",
       " ('curtainless', 'curtained'),\n",
       " ('confirmed', 'unconfirmed'),\n",
       " ('incompetent', 'competent'),\n",
       " ('uncastrated', 'castrated'),\n",
       " ('laxative', 'costive'),\n",
       " ('monovalent', 'polyvalent'),\n",
       " ('unwholesome', 'wholesome'),\n",
       " ('disintegrative', 'integrative'),\n",
       " ('uncreative', 'creative'),\n",
       " ('noticed', 'unnoticed'),\n",
       " ('persistent', 'caducous'),\n",
       " ('violent', 'nonviolent'),\n",
       " ('seamless', 'seamed'),\n",
       " ('reproducible', 'unreproducible'),\n",
       " ('unfair', 'fair'),\n",
       " ('unlaced', 'laced'),\n",
       " ('sensible', 'insensible'),\n",
       " ('informed', 'uninformed'),\n",
       " ('backhand', 'forehand'),\n",
       " ('unpronounceable', 'pronounceable'),\n",
       " ('hypertonic', 'hypotonic'),\n",
       " ('stoppable', 'unstoppable'),\n",
       " ('alternate', 'opposite'),\n",
       " ('anticlinal', 'synclinal'),\n",
       " ('uncertified', 'certified'),\n",
       " ('defiant', 'compliant'),\n",
       " ('submissive', 'domineering'),\n",
       " ('confused', 'clearheaded'),\n",
       " ('grateful', 'ungrateful'),\n",
       " ('regular', 'irregular'),\n",
       " ('reserved', 'unreserved'),\n",
       " ('illiterate', 'literate'),\n",
       " ('unmitigated', 'mitigated'),\n",
       " ('unnoticed', 'noticed'),\n",
       " ('moneyless', 'moneyed'),\n",
       " ('exothermic', 'endothermic'),\n",
       " ('essential', 'inessential'),\n",
       " ('practical', 'impractical'),\n",
       " ('cursorial', 'fossorial'),\n",
       " ('legal', 'illegal'),\n",
       " ('differentiated', 'undifferentiated'),\n",
       " ('unpretentious', 'pretentious'),\n",
       " ('insurmountable', 'surmountable'),\n",
       " ('unaccustomed', 'accustomed'),\n",
       " ('unstressed', 'stressed'),\n",
       " ('postwar', 'prewar'),\n",
       " ('additive', 'subtractive'),\n",
       " ('unbaptized', 'baptized'),\n",
       " ('desecrated', 'consecrated'),\n",
       " ('ahistorical', 'historical'),\n",
       " ('flat', 'natural'),\n",
       " ('predicative', 'attributive'),\n",
       " ('variable', 'invariable'),\n",
       " ('prescriptive', 'descriptive'),\n",
       " ('pious', 'impious'),\n",
       " ('foul', 'fair'),\n",
       " ('sufficient', 'insufficient'),\n",
       " ('dormant', 'active'),\n",
       " ('nontechnical', 'technical'),\n",
       " ('avascular', 'vascular'),\n",
       " ('infelicitous', 'felicitous'),\n",
       " ('unqualified', 'qualified'),\n",
       " ('aboral', 'oral'),\n",
       " ('horned', 'hornless'),\n",
       " ('prescription', 'nonprescription'),\n",
       " ('moonlit', 'moonless'),\n",
       " ('manual', 'automatic'),\n",
       " ('lipped', 'lipless'),\n",
       " ('handmade', 'machine-made'),\n",
       " ('atrophied', 'hypertrophied'),\n",
       " ('undamaged', 'damaged'),\n",
       " ('able', 'unable'),\n",
       " ('scented', 'scentless'),\n",
       " ('drinkable', 'undrinkable'),\n",
       " ('distant', 'close'),\n",
       " ('impartial', 'partial'),\n",
       " ('privileged', 'underprivileged'),\n",
       " ('anticholinergic', 'cholinergic'),\n",
       " ('confident', 'diffident'),\n",
       " ('free', 'bound'),\n",
       " ('offensive', 'defensive'),\n",
       " ('unimpressive', 'impressive'),\n",
       " ('minimal', 'maximal'),\n",
       " ('straight', 'curly'),\n",
       " ('onymous', 'anonymous'),\n",
       " ('estrous', 'anestrous'),\n",
       " ('motivated', 'unmotivated'),\n",
       " ('animated', 'unanimated'),\n",
       " ('processed', 'unprocessed'),\n",
       " ('theoretical', 'empirical'),\n",
       " ('incredulous', 'credulous'),\n",
       " ('deaf', 'hearing'),\n",
       " ('cursed', 'blessed'),\n",
       " ('monogamous', 'polygamous'),\n",
       " ('dominant', 'subordinate'),\n",
       " ('guided', 'unguided'),\n",
       " ('unappealing', 'appealing'),\n",
       " ('gathered', 'ungathered'),\n",
       " ('unworldly', 'worldly'),\n",
       " ('ineffective', 'effective'),\n",
       " ('sudden', 'gradual'),\n",
       " ('substantive', 'adjective'),\n",
       " ('flat', 'contrasty'),\n",
       " ('seamed', 'seamless'),\n",
       " ('nonspatial', 'spatial'),\n",
       " ('pleasant', 'unpleasant'),\n",
       " ('lyric', 'dramatic'),\n",
       " ('unlimited', 'limited'),\n",
       " ('implausible', 'plausible'),\n",
       " ('top-down', 'bottom-up'),\n",
       " ('unplayable', 'playable'),\n",
       " ('intelligent', 'unintelligent'),\n",
       " ('continent', 'incontinent'),\n",
       " ('multilane', 'single-lane'),\n",
       " ('quiet', 'noisy'),\n",
       " ('inactive', 'active'),\n",
       " ('intransitive', 'transitive'),\n",
       " ('double-breasted', 'single-breasted'),\n",
       " ('nontaxable', 'taxable'),\n",
       " ('endemic', 'epidemic'),\n",
       " ('discontented', 'contented'),\n",
       " ('unexploited', 'exploited'),\n",
       " ('cleared', 'uncleared'),\n",
       " ('lax', 'tense'),\n",
       " ('civilian', 'military'),\n",
       " ('leafy', 'leafless'),\n",
       " ('defeated', 'undefeated'),\n",
       " ('unexpired', 'expired'),\n",
       " ('fractional', 'whole'),\n",
       " ('tipped', 'untipped'),\n",
       " ('relaxed', 'tense'),\n",
       " ('immortal', 'mortal'),\n",
       " ('approachable', 'unapproachable'),\n",
       " ('planted', 'unplanted'),\n",
       " ('thermosetting', 'thermoplastic'),\n",
       " ('accordant', 'discordant'),\n",
       " ('monochromatic', 'polychromatic'),\n",
       " ('antemeridian', 'postmeridian'),\n",
       " ('hydrokinetic', 'hydrostatic'),\n",
       " ('unabused', 'abused'),\n",
       " ('outward', 'inward'),\n",
       " ('moderate', 'immoderate'),\n",
       " ('informative', 'uninformative'),\n",
       " ('loved', 'unloved'),\n",
       " ('collected', 'uncollected'),\n",
       " ('upper-class', 'lower-class'),\n",
       " ('irreplaceable', 'replaceable'),\n",
       " ('unenlightened', 'enlightened'),\n",
       " ('integrative', 'disintegrative'),\n",
       " ('inculpatory', 'exculpatory'),\n",
       " ('breast-fed', 'bottle-fed'),\n",
       " ('costive', 'laxative'),\n",
       " ('inexplicable', 'explicable'),\n",
       " ('thoughtful', 'thoughtless'),\n",
       " ('nonassociative', 'associative'),\n",
       " ('emotional', 'cerebral'),\n",
       " ('hydrophobic', 'hydrophilic'),\n",
       " ('elated', 'dejected'),\n",
       " ('sane', 'insane'),\n",
       " ('precedented', 'unprecedented'),\n",
       " ('diabatic', 'adiabatic'),\n",
       " ('unburdened', 'burdened'),\n",
       " ('nascent', 'dying'),\n",
       " ('datable', 'undatable'),\n",
       " ('exogenous', 'endogenous'),\n",
       " ('unagitated', 'agitated'),\n",
       " ('sweet', 'dry'),\n",
       " ('climactic', 'anticlimactic'),\n",
       " ('synchronous', 'asynchronous'),\n",
       " ('jawless', 'jawed'),\n",
       " ('asymmetrical', 'symmetrical'),\n",
       " ('homeopathic', 'allopathic'),\n",
       " ('determinable', 'indeterminable'),\n",
       " ('retrograde', 'anterograde'),\n",
       " ('moderating', 'intensifying'),\n",
       " ('unparented', 'parented'),\n",
       " ('intrusive', 'unintrusive'),\n",
       " ('running', 'passing'),\n",
       " ('xenogeneic', 'allogeneic'),\n",
       " ('influential', 'uninfluential'),\n",
       " ('original', 'unoriginal'),\n",
       " ('supportive', 'unsupportive'),\n",
       " ('uncertain', 'certain'),\n",
       " ('conventional', 'unconventional'),\n",
       " ('patient', 'impatient'),\n",
       " ('worn', 'new'),\n",
       " ('some', 'no'),\n",
       " ('skinned', 'skinless'),\n",
       " ('unreceptive', 'receptive'),\n",
       " ('clement', 'inclement'),\n",
       " ('shut', 'open'),\n",
       " ('desirable', 'undesirable'),\n",
       " ('diurnal', 'nocturnal'),\n",
       " ('factory-made', 'homemade'),\n",
       " ('toneless', 'toned'),\n",
       " ('uncooperative', 'cooperative'),\n",
       " ('institutionalized', 'noninstitutionalized'),\n",
       " ('nonfunctional', 'functional'),\n",
       " ('mobile', 'immobile'),\n",
       " ('postprandial', 'preprandial'),\n",
       " ('unalterable', 'alterable'),\n",
       " ('convincing', 'unconvincing'),\n",
       " ('opportune', 'inopportune'),\n",
       " ('unveiled', 'veiled'),\n",
       " ('suppurative', 'nonsuppurative'),\n",
       " ('fresh', 'salty'),\n",
       " ('artificial', 'natural'),\n",
       " ('related', 'unrelated'),\n",
       " ('furnished', 'unfurnished'),\n",
       " ('left', 'center'),\n",
       " ('dishonest', 'honest'),\n",
       " ('righteous', 'unrighteous'),\n",
       " ('tonal', 'atonal'),\n",
       " ('bodied', 'unbodied'),\n",
       " ('incorrupt', 'corrupt'),\n",
       " ('illegible', 'legible'),\n",
       " ('melted', 'unmelted'),\n",
       " ('flexible', 'inflexible'),\n",
       " ('inevitable', 'evitable'),\n",
       " ('discerning', 'undiscerning'),\n",
       " ('scarce', 'abundant'),\n",
       " ('enforceable', 'unenforceable'),\n",
       " ('manned', 'unmanned'),\n",
       " ('stained', 'unstained'),\n",
       " ('plucked', 'bowed'),\n",
       " ('unwanted', 'wanted'),\n",
       " ('starless', 'starry'),\n",
       " ('intrusive', 'protrusive'),\n",
       " ('eared', 'earless'),\n",
       " ('ordered', 'disordered'),\n",
       " ('unpackaged', 'packaged'),\n",
       " ('inbred', 'outbred'),\n",
       " ('misused', 'used'),\n",
       " ('unfretted', 'fretted'),\n",
       " ('incredible', 'credible'),\n",
       " ('concentric', 'eccentric'),\n",
       " ('hatless', 'hatted'),\n",
       " ('inclined', 'horizontal'),\n",
       " ('rusted', 'rustless'),\n",
       " ('ungrateful', 'grateful'),\n",
       " ('undetermined', 'determined'),\n",
       " ('organic', 'functional'),\n",
       " ('worst', 'best'),\n",
       " ('topped', 'topless'),\n",
       " ('adjective', 'substantive'),\n",
       " ('benign', 'malign'),\n",
       " ('excusable', 'inexcusable'),\n",
       " ('patterned', 'plain'),\n",
       " ('unsuspected', 'suspected'),\n",
       " ('generous', 'ungenerous'),\n",
       " ('equitable', 'inequitable'),\n",
       " ('impossible', 'possible'),\n",
       " ('deciphered', 'undeciphered'),\n",
       " ('minuscule', 'majuscule'),\n",
       " ('won', 'lost'),\n",
       " ('immobile', 'mobile'),\n",
       " ('blemished', 'unblemished'),\n",
       " ('evergreen', 'deciduous'),\n",
       " ('vascular', 'avascular'),\n",
       " ('uninformed', 'informed'),\n",
       " ('conclusive', 'inconclusive'),\n",
       " ('intermediate', 'terminal'),\n",
       " ('unmanageable', 'manageable'),\n",
       " ('exoteric', 'esoteric'),\n",
       " ('continental', 'intercontinental'),\n",
       " ('ionized', 'nonionized'),\n",
       " ('surprised', 'unsurprised'),\n",
       " ('aware', 'unaware'),\n",
       " ('recorded', 'live'),\n",
       " ('unrecoverable', 'recoverable'),\n",
       " ('immiscible', 'miscible'),\n",
       " ('restless', 'restful'),\n",
       " ('seasonal', 'year-round'),\n",
       " ('equatorial', 'polar'),\n",
       " ('incautious', 'cautious'),\n",
       " ('unironed', 'ironed'),\n",
       " ('anestrous', 'estrous'),\n",
       " ('committed', 'uncommitted'),\n",
       " ('most', 'fewest'),\n",
       " ('disordered', 'ordered'),\n",
       " ('congruous', 'incongruous'),\n",
       " ('unfriendly', 'friendly'),\n",
       " ('literate', 'illiterate'),\n",
       " ('continuous', 'discontinuous'),\n",
       " ('tame', 'wild'),\n",
       " ('noseless', 'nosed'),\n",
       " ('direct', 'retrograde'),\n",
       " ('unexcitable', 'excitable'),\n",
       " ('unpolished', 'polished'),\n",
       " ('cultivated', 'uncultivated'),\n",
       " ('eligible', 'ineligible'),\n",
       " ('permeable', 'impermeable'),\n",
       " ('suppressed', 'publicized'),\n",
       " ('unequipped', 'equipped'),\n",
       " ('mature', 'immature'),\n",
       " ('air-to-air', 'surface-to-air'),\n",
       " ('myelinated', 'unmyelinated'),\n",
       " ('loud', 'soft'),\n",
       " ('operational', 'nonoperational'),\n",
       " ('armored', 'unarmored'),\n",
       " ('sad', 'glad'),\n",
       " ('combined', 'uncombined'),\n",
       " ('new', 'old'),\n",
       " ('unfashionable', 'fashionable'),\n",
       " ('improbable', 'probable'),\n",
       " ('unattached', 'attached'),\n",
       " ('fledged', 'unfledged'),\n",
       " ('irremediable', 'remediable'),\n",
       " ('smart', 'stupid'),\n",
       " ('unclassified', 'classified'),\n",
       " ('future', 'past'),\n",
       " ('fair', 'foul'),\n",
       " ('necessary', 'unnecessary'),\n",
       " ('uncritical', 'critical'),\n",
       " ('punitive', 'rehabilitative'),\n",
       " ('distributed', 'concentrated'),\n",
       " ('descriptive', 'undescriptive'),\n",
       " ('porous', 'nonporous'),\n",
       " ('virulent', 'avirulent'),\n",
       " ('raw', 'cooked'),\n",
       " ('inconspicuous', 'conspicuous'),\n",
       " ('unrealistic', 'realistic'),\n",
       " ('enlightened', 'unenlightened'),\n",
       " ('odorless', 'odorous'),\n",
       " ('rough', 'smooth'),\n",
       " ('internal', 'external'),\n",
       " ('abundant', 'scarce'),\n",
       " ('unloaded', 'loaded'),\n",
       " ('antecedent', 'subsequent'),\n",
       " ('coated', 'uncoated'),\n",
       " ('racial', 'nonracial'),\n",
       " ('ready-made', 'custom-made'),\n",
       " ('unmined', 'mined'),\n",
       " ('inshore', 'offshore'),\n",
       " ('dedicated', 'undedicated'),\n",
       " ('ungrammatical', 'grammatical'),\n",
       " ('sealed', 'unsealed'),\n",
       " ('assisted', 'unassisted'),\n",
       " ('unipolar', 'bipolar'),\n",
       " ('anaerobic', 'aerobic'),\n",
       " ('anhydrous', 'hydrous'),\n",
       " ('elective', 'appointive'),\n",
       " ('fewest', 'most'),\n",
       " ('warmhearted', 'coldhearted'),\n",
       " ('indiscernible', 'discernible'),\n",
       " ('expressible', 'inexpressible'),\n",
       " ('postnatal', 'prenatal'),\n",
       " ('military', 'unmilitary'),\n",
       " ('adulterating', 'purifying'),\n",
       " ('unsurprising', 'surprising'),\n",
       " ('preprandial', 'postprandial'),\n",
       " ('unpatriotic', 'patriotic'),\n",
       " ('nonpolitical', 'political'),\n",
       " ('valuable', 'worthless'),\n",
       " ('natural', 'unnatural'),\n",
       " ('unaccompanied', 'accompanied'),\n",
       " ('consolable', 'inconsolable'),\n",
       " ('generous', 'stingy'),\n",
       " ('posterior', 'anterior'),\n",
       " ('past', 'present'),\n",
       " ('unemployable', 'employable'),\n",
       " ('unemotional', 'emotional'),\n",
       " ('surface', 'subsurface'),\n",
       " ('polyvalent', 'monovalent'),\n",
       " ('homologous', 'analogous'),\n",
       " ('unblended', 'blended'),\n",
       " ('uncombined', 'combined'),\n",
       " ('polygamous', 'monogamous'),\n",
       " ('undiscerning', 'discerning'),\n",
       " ('friendly', 'unfriendly'),\n",
       " ('undiversified', 'diversified'),\n",
       " ('uninhabited', 'inhabited'),\n",
       " ('avenged', 'unavenged'),\n",
       " ('terrestrial', 'amphibious'),\n",
       " ('indistinct', 'distinct'),\n",
       " ('ungroomed', 'groomed'),\n",
       " ('lubricated', 'unlubricated'),\n",
       " ('general', 'specific'),\n",
       " ('off-street', 'on-street'),\n",
       " ('scholarly', 'unscholarly'),\n",
       " ('ineradicable', 'eradicable'),\n",
       " ('indefeasible', 'defeasible'),\n",
       " ('monocotyledonous', 'dicotyledonous'),\n",
       " ('surgical', 'medical'),\n",
       " ('frozen', 'unfrozen'),\n",
       " ('incomprehensible', 'comprehensible'),\n",
       " ('bimodal', 'unimodal'),\n",
       " ('persuasive', 'dissuasive'),\n",
       " ('diversified', 'undiversified'),\n",
       " ('hospitable', 'inhospitable'),\n",
       " ('igneous', 'aqueous'),\n",
       " ('unencumbered', 'encumbered'),\n",
       " ('latter', 'former'),\n",
       " ('noninvasive', 'invasive'),\n",
       " ('sociable', 'unsociable'),\n",
       " ('unselfish', 'selfish'),\n",
       " ('considerable', 'inconsiderable'),\n",
       " ('lawful', 'unlawful'),\n",
       " ('omnidirectional', 'directional'),\n",
       " ('diachronic', 'synchronic'),\n",
       " ('revocable', 'irrevocable'),\n",
       " ('convinced', 'unconvinced'),\n",
       " ('saddled', 'unsaddled'),\n",
       " ('color', 'black-and-white'),\n",
       " ('unambitious', 'ambitious'),\n",
       " ('deflationary', 'inflationary'),\n",
       " ('unfurnished', 'furnished'),\n",
       " ('artful', 'artless'),\n",
       " ('assertive', 'unassertive'),\n",
       " ('consecrated', 'desecrated'),\n",
       " ('crossbred', 'purebred'),\n",
       " ('applied', 'theoretical'),\n",
       " ('clean', 'unclean'),\n",
       " ('purposeful', 'purposeless'),\n",
       " ('bottom-up', 'top-down'),\n",
       " ('unsilenced', 'silenced'),\n",
       " ('incomparable', 'comparable'),\n",
       " ('robust', 'frail'),\n",
       " ('unsupportive', 'supportive'),\n",
       " ('concise', 'prolix'),\n",
       " ('painted', 'unpainted'),\n",
       " ('footless', 'footed'),\n",
       " ('unprepared', 'prepared'),\n",
       " ('disreputable', 'reputable'),\n",
       " ('antipyretic', 'pyretic'),\n",
       " ('reciprocal', 'nonreciprocal'),\n",
       " ('heterotrophic', 'autotrophic'),\n",
       " ('like', 'unlike'),\n",
       " ('unenterprising', 'enterprising'),\n",
       " ('away', 'home'),\n",
       " ('constructive', 'destructive'),\n",
       " ('unexcited', 'excited'),\n",
       " ('staccato', 'legato'),\n",
       " ('unfunded', 'funded'),\n",
       " ('antonymous', 'synonymous'),\n",
       " ('indistinguishable', 'distinguishable'),\n",
       " ('midi', 'maxi'),\n",
       " ('cephalic', 'caudal'),\n",
       " ('close', 'distant'),\n",
       " ('affirmative', 'negative'),\n",
       " ('reactive', 'unreactive'),\n",
       " ('unsworn', 'sworn'),\n",
       " ('descriptive', 'prescriptive'),\n",
       " ('finite', 'infinite'),\n",
       " ('unmanly', 'manly'),\n",
       " ('rational', 'irrational'),\n",
       " ('unskilled', 'skilled'),\n",
       " ('front', 'back'),\n",
       " ('unconcerned', 'concerned'),\n",
       " ('little', 'much'),\n",
       " ('nonionized', 'ionized'),\n",
       " ('irreligious', 'religious'),\n",
       " ('flowering', 'flowerless'),\n",
       " ('adaptive', 'maladaptive'),\n",
       " ('penitent', 'impenitent'),\n",
       " ('determined', 'undetermined'),\n",
       " ('machine-made', 'handmade'),\n",
       " ('decisive', 'indecisive'),\n",
       " ('low', 'high'),\n",
       " ('saved', 'lost'),\n",
       " ('intolerant', 'tolerant'),\n",
       " ('unwrinkled', 'wrinkled'),\n",
       " ('distributive', 'collective'),\n",
       " ('residential', 'nonresidential'),\n",
       " ('indispensable', 'dispensable'),\n",
       " ('omnivorous', 'insectivorous'),\n",
       " ('acyclic', 'cyclic'),\n",
       " ('partisan', 'nonpartisan'),\n",
       " ('hierarchical', 'nonhierarchical'),\n",
       " ('nonreturnable', 'returnable'),\n",
       " ('thin', 'full'),\n",
       " ('upland', 'lowland'),\n",
       " ('shaded', 'unshaded'),\n",
       " ('ovoviviparous', 'viviparous'),\n",
       " ('lossy', 'lossless'),\n",
       " ('opposite', 'alternate'),\n",
       " ('clear', 'cloudy'),\n",
       " ('short', 'tall'),\n",
       " ('foolish', 'wise'),\n",
       " ('christian', 'unchristian'),\n",
       " ('incongruous', 'congruous'),\n",
       " ('unmotivated', 'motivated'),\n",
       " ('noxious', 'innocuous'),\n",
       " ('waning', 'waxing'),\n",
       " ('hypotonic', 'isotonic'),\n",
       " ('sessile', 'pedunculate'),\n",
       " ('cheerful', 'depressing'),\n",
       " ('clear', 'opaque'),\n",
       " ('blue-collar', 'white-collar'),\n",
       " ('waxing', 'waning'),\n",
       " ('thinkable', 'unthinkable'),\n",
       " ('upstairs', 'downstairs'),\n",
       " ('inappropriate', 'appropriate'),\n",
       " ('one-piece', 'two-piece'),\n",
       " ('all', 'some'),\n",
       " ('undedicated', 'dedicated'),\n",
       " ('headless', 'headed'),\n",
       " ('low-resolution', 'high-resolution'),\n",
       " ('indecent', 'decent'),\n",
       " ('inductive', 'deductive'),\n",
       " ('incompatible', 'compatible'),\n",
       " ('hostile', 'friendly'),\n",
       " ('late', 'early'),\n",
       " ('unrenewable', 'renewable'),\n",
       " ('technical', 'nontechnical'),\n",
       " ('unopposed', 'opposed'),\n",
       " ('impious', 'pious'),\n",
       " ('weightless', 'weighty'),\n",
       " ('afferent', 'efferent'),\n",
       " ('zygomorphic', 'actinomorphic'),\n",
       " ('clearheaded', 'confused'),\n",
       " ('disenfranchised', 'enfranchised'),\n",
       " ('appealable', 'unappealable'),\n",
       " ('professional', 'unprofessional'),\n",
       " ('hydrous', 'anhydrous'),\n",
       " ('undramatic', 'dramatic'),\n",
       " ('unicameral', 'bicameral'),\n",
       " ('nonnative', 'native'),\n",
       " ('inspiring', 'uninspiring'),\n",
       " ('idiographic', 'nomothetic'),\n",
       " ('incongruent', 'congruent'),\n",
       " ('lesser', 'greater'),\n",
       " ('shelled', 'unshelled'),\n",
       " ('sexual', 'asexual'),\n",
       " ('functional', 'nonfunctional'),\n",
       " ('restful', 'restless'),\n",
       " ('gross', 'net'),\n",
       " ('owned', 'unowned'),\n",
       " ('discomposed', 'composed'),\n",
       " ('expanded', 'contracted'),\n",
       " ('agitated', 'unagitated'),\n",
       " ('dominant', 'recessive'),\n",
       " ('bettering', 'worsening'),\n",
       " ('even', 'uneven'),\n",
       " ('interested', 'uninterested'),\n",
       " ('unacceptable', 'acceptable'),\n",
       " ('unsalable', 'salable'),\n",
       " ('hypertensive', 'hypotensive'),\n",
       " ('headed', 'unheaded'),\n",
       " ('stratified', 'unstratified'),\n",
       " ('still', 'sparkling'),\n",
       " ('actinomorphic', 'zygomorphic'),\n",
       " ('insecure', 'secure'),\n",
       " ('linear', 'nonlinear'),\n",
       " ('polyploid', 'haploid'),\n",
       " ('exterior', 'interior'),\n",
       " ('lower-class', 'middle-class'),\n",
       " ('impractical', 'practical'),\n",
       " ('international', 'national'),\n",
       " ('anterior', 'posterior'),\n",
       " ('dextral', 'sinistral'),\n",
       " ('knowable', 'unknowable'),\n",
       " ('untraceable', 'traceable'),\n",
       " ('estimable', 'contemptible'),\n",
       " ('trustful', 'distrustful'),\n",
       " ('inelastic', 'elastic'),\n",
       " ('obtrusive', 'unobtrusive'),\n",
       " ('xeric', 'hydric'),\n",
       " ('unthinkable', 'thinkable'),\n",
       " ('happy', 'unhappy'),\n",
       " ('bicameral', 'unicameral'),\n",
       " ('light', 'heavy'),\n",
       " ('unstudied', 'studied'),\n",
       " ('organic', 'inorganic'),\n",
       " ('diffident', 'confident'),\n",
       " ('integrated', 'nonintegrated'),\n",
       " ('requested', 'unrequested'),\n",
       " ...}"
      ]
     },
     "execution_count": 19,
     "metadata": {},
     "output_type": "execute_result"
    }
   ],
   "source": [
    "wn_all_antonyms"
   ]
  },
  {
   "cell_type": "markdown",
   "metadata": {},
   "source": [
    "### Add Custom Antonym Pairs"
   ]
  },
  {
   "cell_type": "code",
   "execution_count": 20,
   "metadata": {},
   "outputs": [
    {
     "name": "stdout",
     "output_type": "stream",
     "text": [
      "Added ('man', 'woman')\n",
      "Added ('serviceman', 'civilian')\n",
      "Added ('man', 'woman')\n",
      "Added ('human', 'nonhuman')\n"
     ]
    }
   ],
   "source": [
    "from nltk.corpus import wordnet as wn\n",
    "\n",
    "# add words here:\n",
    "WORDS = ['man', 'human']\n",
    "\n",
    "for word in WORDS:\n",
    "    for syn in wn.synsets(word):\n",
    "        for j in syn.lemmas(): # Iterating through lemmas for each synset.\n",
    "            if j.antonyms():\n",
    "                pair1 = j.name()\n",
    "                pair2 = j.antonyms()[0].name()\n",
    "                # don't add pair to the list if at least one of them has no glove embeddings\n",
    "                if torch.all(glove[pair1] == torch.zeros(300)) or torch.all(glove[pair2] == torch.zeros(300)):\n",
    "                    print(f\"Pair {(j.name(), j.antonyms()[0].name())} cannot be added because one of them does not have GloVe embeddings.\")\n",
    "                else:\n",
    "                    print(f\"Added {(pair1, pair2)}\")\n",
    "                    wn_all_antonyms.add((pair1, pair2))"
   ]
  },
  {
   "cell_type": "code",
   "execution_count": null,
   "metadata": {},
   "outputs": [],
   "source": []
  },
  {
   "cell_type": "code",
   "execution_count": 55,
   "metadata": {},
   "outputs": [],
   "source": [
    "microframes = {('man', 'woman'), ('human', 'nonhuman'), ('creepy', 'pleasant')}"
   ]
  },
  {
   "cell_type": "code",
   "execution_count": 56,
   "metadata": {},
   "outputs": [
    {
     "data": {
      "text/plain": [
       "3"
      ]
     },
     "execution_count": 56,
     "metadata": {},
     "output_type": "execute_result"
    }
   ],
   "source": [
    "len(microframes)"
   ]
  },
  {
   "cell_type": "markdown",
   "metadata": {},
   "source": [
    "### Semantic Axis Vector"
   ]
  },
  {
   "cell_type": "code",
   "execution_count": 61,
   "metadata": {},
   "outputs": [],
   "source": [
    "semantic_axis_vectors = dict()\n",
    "for mframe in microframes:\n",
    "    semantic_axis_vectors['(' + ', '.join(mframe) + ')'] = np.expand_dims(glove[mframe[1]] - glove[mframe[0]], axis= 0)"
   ]
  },
  {
   "cell_type": "code",
   "execution_count": 62,
   "metadata": {},
   "outputs": [
    {
     "data": {
      "text/plain": [
       "array([[ 1.98666990e-01,  7.22199827e-02, -1.86462998e-01,\n",
       "         5.83739996e-01, -7.46250004e-02, -9.17997956e-03,\n",
       "         3.19599956e-02,  3.92699987e-02,  1.38819993e-01,\n",
       "         6.78999424e-02, -2.03620002e-01,  2.38368988e-01,\n",
       "        -2.72006691e-01, -3.08981687e-01, -1.61559999e-01,\n",
       "        -1.46412000e-01, -4.35483992e-01,  1.89160019e-01,\n",
       "        -2.95740008e-01, -3.50700021e-02,  9.05001163e-03,\n",
       "         2.55119979e-01, -1.56845003e-01, -3.59719992e-01,\n",
       "        -2.88099945e-02,  4.00590003e-01,  1.07859999e-01,\n",
       "        -2.12710008e-01, -3.14889997e-01, -1.76756993e-01,\n",
       "         1.34200007e-01, -5.70900142e-02,  2.26850003e-01,\n",
       "        -2.34786004e-01,  4.04179990e-01,  2.45397985e-01,\n",
       "         1.38130009e-01, -3.17710042e-01, -6.44200146e-02,\n",
       "         5.04499972e-02,  5.87419987e-01,  1.61250010e-01,\n",
       "        -1.27790004e-01, -5.09299934e-02,  5.82489967e-02,\n",
       "        -1.54311001e-01, -2.74599999e-01, -4.05699909e-02,\n",
       "         4.65460002e-01, -2.69311011e-01, -6.96425974e-01,\n",
       "        -7.79200047e-02, -3.73799980e-01, -5.43542981e-01,\n",
       "         1.68000162e-03,  1.99129969e-01,  8.77784044e-02,\n",
       "        -1.79803997e-01, -3.24763983e-01,  1.82830006e-01,\n",
       "         4.45810035e-02, -4.40575004e-01,  3.94324996e-02,\n",
       "         8.85499865e-02, -8.17679986e-02,  3.47799957e-02,\n",
       "         2.19610006e-01,  1.73684001e-01,  4.20599997e-01,\n",
       "         2.30540007e-01,  1.30430013e-01,  5.16099930e-02,\n",
       "        -4.50607002e-01,  2.98929989e-01,  7.14900017e-01,\n",
       "         1.87491506e-01,  1.08699799e-02, -5.88600039e-02,\n",
       "         5.82560003e-02, -4.68892992e-01,  4.13378999e-02,\n",
       "        -4.98937011e-01, -5.46519995e-01,  1.66910991e-01,\n",
       "        -2.70377010e-01,  3.10499996e-01,  1.57869995e-01,\n",
       "         6.15016997e-01,  1.12430006e-01, -3.69369984e-01,\n",
       "        -9.15000588e-03,  4.87110019e-01, -2.48100013e-02,\n",
       "        -2.01621011e-01,  7.52400011e-02, -3.43129992e-01,\n",
       "        -1.40810013e-02,  4.47310001e-01,  9.82819945e-02,\n",
       "        -1.88300014e-02,  5.63686013e-01,  2.10529983e-01,\n",
       "         4.13628012e-01, -1.24743000e-01,  5.53460047e-02,\n",
       "        -1.80729985e-01, -3.57449979e-01, -1.28450006e-01,\n",
       "        -1.75781995e-01, -3.56480032e-02,  7.30400085e-02,\n",
       "         4.91800010e-01,  1.20920002e-01, -1.28526002e-01,\n",
       "        -4.86529991e-02, -4.55290020e-01, -8.30870047e-02,\n",
       "         3.39540005e-01,  5.94336987e-01,  1.46170020e-01,\n",
       "        -1.68540001e-01,  1.09070003e-01,  6.02700114e-02,\n",
       "        -3.17530006e-01,  2.16051996e-01,  2.82433003e-01,\n",
       "         3.16039979e-01,  2.30358496e-01, -1.26025289e-01,\n",
       "         2.61260003e-01, -3.47479999e-01, -1.45045996e-01,\n",
       "        -2.68090010e-01,  1.01729989e-01, -1.27200007e-01,\n",
       "        -4.04260010e-01, -6.34609997e-01,  1.79711998e-01,\n",
       "        -9.79998708e-03,  2.38931000e-01,  4.64699984e-01,\n",
       "        -1.76903993e-01,  8.36960077e-02, -4.60195005e-01,\n",
       "        -4.16100025e-01,  1.72600001e-02, -3.49910021e-01,\n",
       "        -2.14100033e-02, -4.35580015e-01,  1.73370004e-01,\n",
       "        -1.80270016e-01,  9.36003029e-02, -2.51639992e-01,\n",
       "         1.42099991e-01, -2.10092992e-01, -7.80001283e-04,\n",
       "         3.43066007e-01, -2.51609981e-01, -4.66099977e-02,\n",
       "        -3.53880003e-02, -6.24859989e-01,  2.17449993e-01,\n",
       "         7.41870031e-02,  1.28790021e-01,  3.58000398e-03,\n",
       "        -2.48923004e-01, -1.22189999e-01,  4.16000009e-01,\n",
       "         2.22826988e-01,  1.39129996e-01,  1.72190011e-01,\n",
       "        -1.27296001e-01,  4.17232990e-01,  1.22292005e-01,\n",
       "        -2.97299922e-02, -5.83799928e-02, -3.92460018e-01,\n",
       "        -2.61685997e-01, -3.86149973e-01,  3.89891416e-01,\n",
       "        -3.67999971e-02,  2.85560012e-01, -3.07927001e-02,\n",
       "         6.20001554e-03,  6.36709988e-01,  1.53530002e-01,\n",
       "        -5.50499856e-02,  1.21794991e-01,  1.67029947e-02,\n",
       "         1.82029963e-01,  1.57999992e-03, -3.30659002e-01,\n",
       "         1.91520005e-01, -1.42351002e-01,  1.08329982e-01,\n",
       "        -2.34999001e-01, -9.23030004e-02,  3.07730019e-01,\n",
       "         2.60140002e-02, -1.31900012e-02,  4.54718977e-01,\n",
       "         6.83999956e-02,  3.20499986e-02, -1.83910012e-01,\n",
       "        -3.08539987e-01,  1.71469986e-01, -6.59100115e-02,\n",
       "         1.98130012e-02, -1.22610014e-02,  1.17440000e-01,\n",
       "        -3.86264980e-01, -1.75200015e-01, -4.24080014e-01,\n",
       "         1.81549013e-01, -3.03800106e-02,  2.17009991e-01,\n",
       "        -6.36232793e-01,  1.06850997e-01, -3.95099819e-02,\n",
       "        -1.30580008e-01, -2.64017016e-01, -5.30059993e-01,\n",
       "         3.65830004e-01, -1.97264999e-01, -1.65576994e-01,\n",
       "        -3.93014997e-01,  5.17542005e-01, -2.88830012e-01,\n",
       "         1.27000004e-01, -1.21371001e-01, -1.32304996e-01,\n",
       "        -1.08499974e-02,  5.02420008e-01,  4.33159992e-02,\n",
       "        -4.50299978e-02, -2.12270603e-01,  7.58280009e-02,\n",
       "        -1.29170001e-01,  2.91621983e-01, -3.81622016e-01,\n",
       "        -5.88220000e-01, -1.22499987e-02,  2.39500001e-01,\n",
       "        -4.64210004e-01,  1.14769995e-01, -3.27776998e-01,\n",
       "        -1.11095011e-01,  3.44668984e-01,  8.10500383e-02,\n",
       "        -2.78422982e-01, -2.45452002e-01,  2.67001987e-03,\n",
       "         4.83776003e-01, -3.45052004e-01, -3.33526015e-01,\n",
       "         2.22409993e-01, -1.59399509e-02,  1.31900012e-02,\n",
       "        -2.81378001e-01,  4.98239994e-01, -9.79419947e-02,\n",
       "         1.06079996e-01, -4.21140008e-02,  9.66100097e-02,\n",
       "         4.65829998e-01, -8.47999752e-02,  1.06710002e-01,\n",
       "        -1.05519980e-01, -6.26909971e-01, -3.17445010e-01,\n",
       "        -9.05019045e-01, -3.09626013e-01, -1.94260001e-01,\n",
       "         3.16368014e-01,  1.46500021e-02, -1.42149985e-01,\n",
       "        -2.46479988e-01, -2.14708000e-01, -1.29249990e-01,\n",
       "         4.49492991e-01,  2.39073992e-01,  2.20079988e-01,\n",
       "         4.14260000e-01, -3.96073014e-01, -3.32180023e-01,\n",
       "         4.10815001e-01, -3.69459987e-01,  1.39353991e-01,\n",
       "         2.60770023e-02,  1.66312993e-01,  4.38968986e-01,\n",
       "         6.88599944e-02,  4.24270004e-01, -1.15289986e-01,\n",
       "        -2.88700163e-02, -2.44424995e-02, -3.73439997e-01,\n",
       "        -1.85231999e-01,  2.82130003e-01, -2.73476988e-01]], dtype=float32)"
      ]
     },
     "execution_count": 62,
     "metadata": {},
     "output_type": "execute_result"
    }
   ],
   "source": [
    "semantic_axis_vectors['(man, woman)']"
   ]
  },
  {
   "cell_type": "markdown",
   "metadata": {},
   "source": [
    "## Conclusion\n",
    "\n",
    "- Total of 3131 adjective antonym pairs plus 1 or more custom pairs\n",
    "- Each pair must have GloVe embeddings (i.e. embedding not [0,0,0,0,0, ..., 0])"
   ]
  },
  {
   "cell_type": "markdown",
   "metadata": {},
   "source": [
    "# 2. Contribution of a Word to Microframes"
   ]
  },
  {
   "cell_type": "markdown",
   "metadata": {},
   "source": [
    "For calculating cosine similarity, see [documentaion](https://scikit-learn.org/stable/modules/generated/sklearn.metrics.pairwise.cosine_similarity.html) from sklearn"
   ]
  },
  {
   "cell_type": "code",
   "execution_count": 25,
   "metadata": {},
   "outputs": [
    {
     "data": {
      "text/plain": [
       "0.8498365855987975"
      ]
     },
     "execution_count": 25,
     "metadata": {},
     "output_type": "execute_result"
    }
   ],
   "source": [
    "from sklearn.metrics.pairwise import cosine_similarity\n",
    "import numpy as np\n",
    "\n",
    "# example:\n",
    "x = np.array([[1,2,2]])\n",
    "y = np.array([[3,4,1]])\n",
    "cosine_similarity(x,y).item()"
   ]
  },
  {
   "cell_type": "code",
   "execution_count": 26,
   "metadata": {},
   "outputs": [
    {
     "data": {
      "text/plain": [
       "0.740174412727356"
      ]
     },
     "execution_count": 26,
     "metadata": {},
     "output_type": "execute_result"
    }
   ],
   "source": [
    "np.expand_dims(glove['man'], axis=0).shape\n",
    "cosine_similarity(np.expand_dims(glove['man'], axis=0), np.expand_dims(glove['woman'], axis=0)).item()"
   ]
  },
  {
   "cell_type": "markdown",
   "metadata": {},
   "source": [
    "### Wrapper for cosine similarity\n",
    "Given two words, find similarity:"
   ]
  },
  {
   "cell_type": "code",
   "execution_count": 27,
   "metadata": {},
   "outputs": [
    {
     "data": {
      "text/plain": [
       "0.4572717547416687"
      ]
     },
     "execution_count": 27,
     "metadata": {},
     "output_type": "execute_result"
    }
   ],
   "source": [
    "def my_cos_similarity(func):\n",
    "    def wrapper(word, axis_vector):\n",
    "        return func(np.expand_dims(glove[word], axis=0), axis_vector)\n",
    "    return wrapper\n",
    "\n",
    "@my_cos_similarity\n",
    "def cos_similarity(x, y):\n",
    "    return cosine_similarity(x, y).item()\n",
    "\n",
    "cos_similarity('woman',semantic_axis_vectors['(man, woman)'])"
   ]
  },
  {
   "cell_type": "markdown",
   "metadata": {},
   "source": [
    "The **absolute value** of the similarity between a word vector and\n",
    "a microframe vector captures the relevance of the word to the\n",
    "microframe, while the **sign** of the similarity captures a bias toward\n",
    "one of the poles in the microframe."
   ]
  },
  {
   "cell_type": "markdown",
   "metadata": {},
   "source": [
    "# 3. Framing Bias and Intensity"
   ]
  },
  {
   "cell_type": "markdown",
   "metadata": {},
   "source": [
    "## Bias and word frequency"
   ]
  },
  {
   "cell_type": "code",
   "execution_count": 28,
   "metadata": {},
   "outputs": [],
   "source": [
    "import nltk\n",
    "from multiprocessing import Pool\n",
    "from tqdm.notebook import tqdm"
   ]
  },
  {
   "cell_type": "code",
   "execution_count": 29,
   "metadata": {},
   "outputs": [],
   "source": [
    "# f\n",
    "# word is a single word string\n",
    "# doc_tokens is a list of all document tokens\n",
    "\n",
    "def word_freq(word, doc_tokens):\n",
    "    return doc_tokens.count(word)"
   ]
  },
  {
   "cell_type": "markdown",
   "metadata": {},
   "source": [
    "### Regular function"
   ]
  },
  {
   "cell_type": "code",
   "execution_count": 30,
   "metadata": {},
   "outputs": [],
   "source": [
    "# B\n",
    "def bias(doc, frame=None):\n",
    "    doc_tokens = nltk.word_tokenize(doc)\n",
    "    \n",
    "    numerator, denominator = 0, 0\n",
    "    for word in doc_tokens:\n",
    "        numerator += word_freq(word, doc_tokens) * cos_similarity(word, semantic_axis_vectors[frame])\n",
    "        denominator += word_freq(word, doc_tokens)\n",
    "        \n",
    "    return numerator / denominator"
   ]
  },
  {
   "cell_type": "code",
   "execution_count": 31,
   "metadata": {},
   "outputs": [
    {
     "name": "stdout",
     "output_type": "stream",
     "text": [
      "101 ms ± 718 µs per loop (mean ± std. dev. of 7 runs, 10 loops each)\n"
     ]
    }
   ],
   "source": [
    "%%timeit\n",
    "sample = data_cleaned['RS_2020_nosleep'].iloc[0:1].selftext.item()\n",
    "bias(sample, frame='(man, woman)')"
   ]
  },
  {
   "cell_type": "markdown",
   "metadata": {},
   "source": [
    "### Same function, but with performance enhancement"
   ]
  },
  {
   "cell_type": "code",
   "execution_count": 32,
   "metadata": {},
   "outputs": [
    {
     "name": "stdout",
     "output_type": "stream",
     "text": [
      "76.1 ms ± 5.58 ms per loop (mean ± std. dev. of 7 runs, 10 loops each)\n"
     ]
    }
   ],
   "source": [
    "%%timeit\n",
    "sum1, sum2 = 0, 0\n",
    "for i in range(1_000_000):\n",
    "    sum1 += 1\n",
    "    sum2 += 2\n",
    "sum1 / sum2"
   ]
  },
  {
   "cell_type": "code",
   "execution_count": 33,
   "metadata": {},
   "outputs": [
    {
     "name": "stdout",
     "output_type": "stream",
     "text": [
      "57.3 ms ± 976 µs per loop (mean ± std. dev. of 7 runs, 10 loops each)\n"
     ]
    }
   ],
   "source": [
    "%%timeit\n",
    "sum1, sum2 = sum([1 for i in range(1_000_000)]), sum([2 for i in range(1_000_000)])\n",
    "sum1 / sum2"
   ]
  },
  {
   "cell_type": "code",
   "execution_count": 34,
   "metadata": {},
   "outputs": [],
   "source": [
    "# B\n",
    "def bias(doc, frame=None):\n",
    "    doc_tokens = nltk.word_tokenize(doc)\n",
    "    li = [ sum([word_freq(word, doc_tokens) * cos_similarity(word, semantic_axis_vectors[f\"({ant1}, {ant2})\"]) for word in doc_tokens]) / sum([word_freq(word, doc_tokens) for word in doc_tokens]) for ant1, ant2 in tqdm(frame)]\n",
    "    return np.array(li)"
   ]
  },
  {
   "cell_type": "code",
   "execution_count": 35,
   "metadata": {},
   "outputs": [
    {
     "data": {
      "application/vnd.jupyter.widget-view+json": {
       "model_id": "b6c179e5ec5547288f8fbd06ac8a72b9",
       "version_major": 2,
       "version_minor": 0
      },
      "text/plain": [
       "  0%|          | 0/1 [00:00<?, ?it/s]"
      ]
     },
     "metadata": {},
     "output_type": "display_data"
    },
    {
     "data": {
      "application/vnd.jupyter.widget-view+json": {
       "model_id": "d514e7db95e2437a82bc28f5191475a7",
       "version_major": 2,
       "version_minor": 0
      },
      "text/plain": [
       "  0%|          | 0/1 [00:00<?, ?it/s]"
      ]
     },
     "metadata": {},
     "output_type": "display_data"
    },
    {
     "data": {
      "application/vnd.jupyter.widget-view+json": {
       "model_id": "4d61d2b8b2fa4302aac46525739c4abb",
       "version_major": 2,
       "version_minor": 0
      },
      "text/plain": [
       "  0%|          | 0/1 [00:00<?, ?it/s]"
      ]
     },
     "metadata": {},
     "output_type": "display_data"
    },
    {
     "data": {
      "application/vnd.jupyter.widget-view+json": {
       "model_id": "54f7bb496be5464c8579749a497e2207",
       "version_major": 2,
       "version_minor": 0
      },
      "text/plain": [
       "  0%|          | 0/1 [00:00<?, ?it/s]"
      ]
     },
     "metadata": {},
     "output_type": "display_data"
    },
    {
     "data": {
      "application/vnd.jupyter.widget-view+json": {
       "model_id": "e4d8b3e746d843259954f9a02a9f2434",
       "version_major": 2,
       "version_minor": 0
      },
      "text/plain": [
       "  0%|          | 0/1 [00:00<?, ?it/s]"
      ]
     },
     "metadata": {},
     "output_type": "display_data"
    },
    {
     "data": {
      "application/vnd.jupyter.widget-view+json": {
       "model_id": "a40a51fe98234ec3b8456c815d7fbc05",
       "version_major": 2,
       "version_minor": 0
      },
      "text/plain": [
       "  0%|          | 0/1 [00:00<?, ?it/s]"
      ]
     },
     "metadata": {},
     "output_type": "display_data"
    },
    {
     "data": {
      "application/vnd.jupyter.widget-view+json": {
       "model_id": "10d5ebe0d7b043958730bfe967c97e50",
       "version_major": 2,
       "version_minor": 0
      },
      "text/plain": [
       "  0%|          | 0/1 [00:00<?, ?it/s]"
      ]
     },
     "metadata": {},
     "output_type": "display_data"
    },
    {
     "data": {
      "application/vnd.jupyter.widget-view+json": {
       "model_id": "e4a9dc3aa12e41fc8475ab58bd1fe1bf",
       "version_major": 2,
       "version_minor": 0
      },
      "text/plain": [
       "  0%|          | 0/1 [00:00<?, ?it/s]"
      ]
     },
     "metadata": {},
     "output_type": "display_data"
    },
    {
     "data": {
      "application/vnd.jupyter.widget-view+json": {
       "model_id": "61b9b8250b02441ba69024de876d6f84",
       "version_major": 2,
       "version_minor": 0
      },
      "text/plain": [
       "  0%|          | 0/1 [00:00<?, ?it/s]"
      ]
     },
     "metadata": {},
     "output_type": "display_data"
    },
    {
     "data": {
      "application/vnd.jupyter.widget-view+json": {
       "model_id": "c128812869c447249467b26dbcef9d79",
       "version_major": 2,
       "version_minor": 0
      },
      "text/plain": [
       "  0%|          | 0/1 [00:00<?, ?it/s]"
      ]
     },
     "metadata": {},
     "output_type": "display_data"
    },
    {
     "data": {
      "application/vnd.jupyter.widget-view+json": {
       "model_id": "a49ddcfc53034c46991f255be57e7fa7",
       "version_major": 2,
       "version_minor": 0
      },
      "text/plain": [
       "  0%|          | 0/1 [00:00<?, ?it/s]"
      ]
     },
     "metadata": {},
     "output_type": "display_data"
    },
    {
     "data": {
      "application/vnd.jupyter.widget-view+json": {
       "model_id": "b5878a96ab914350b9a2ca5ba913005c",
       "version_major": 2,
       "version_minor": 0
      },
      "text/plain": [
       "  0%|          | 0/1 [00:00<?, ?it/s]"
      ]
     },
     "metadata": {},
     "output_type": "display_data"
    },
    {
     "data": {
      "application/vnd.jupyter.widget-view+json": {
       "model_id": "eb435bc11d1b438caeaf1501172358b9",
       "version_major": 2,
       "version_minor": 0
      },
      "text/plain": [
       "  0%|          | 0/1 [00:00<?, ?it/s]"
      ]
     },
     "metadata": {},
     "output_type": "display_data"
    },
    {
     "data": {
      "application/vnd.jupyter.widget-view+json": {
       "model_id": "3d270e3216fb4c73b85f56d20d4ea438",
       "version_major": 2,
       "version_minor": 0
      },
      "text/plain": [
       "  0%|          | 0/1 [00:00<?, ?it/s]"
      ]
     },
     "metadata": {},
     "output_type": "display_data"
    },
    {
     "data": {
      "application/vnd.jupyter.widget-view+json": {
       "model_id": "ecca4f675e09430097133eb8e682e013",
       "version_major": 2,
       "version_minor": 0
      },
      "text/plain": [
       "  0%|          | 0/1 [00:00<?, ?it/s]"
      ]
     },
     "metadata": {},
     "output_type": "display_data"
    },
    {
     "data": {
      "application/vnd.jupyter.widget-view+json": {
       "model_id": "56f7a0b2ead2438e9e5a30942944e5ba",
       "version_major": 2,
       "version_minor": 0
      },
      "text/plain": [
       "  0%|          | 0/1 [00:00<?, ?it/s]"
      ]
     },
     "metadata": {},
     "output_type": "display_data"
    },
    {
     "data": {
      "application/vnd.jupyter.widget-view+json": {
       "model_id": "899e1cec65d34225914fd036fcc368e4",
       "version_major": 2,
       "version_minor": 0
      },
      "text/plain": [
       "  0%|          | 0/1 [00:00<?, ?it/s]"
      ]
     },
     "metadata": {},
     "output_type": "display_data"
    },
    {
     "data": {
      "application/vnd.jupyter.widget-view+json": {
       "model_id": "95bf1670ef314862871d120cc0bcd1c3",
       "version_major": 2,
       "version_minor": 0
      },
      "text/plain": [
       "  0%|          | 0/1 [00:00<?, ?it/s]"
      ]
     },
     "metadata": {},
     "output_type": "display_data"
    },
    {
     "data": {
      "application/vnd.jupyter.widget-view+json": {
       "model_id": "36985d13e91b44078bffdc9f05f185e4",
       "version_major": 2,
       "version_minor": 0
      },
      "text/plain": [
       "  0%|          | 0/1 [00:00<?, ?it/s]"
      ]
     },
     "metadata": {},
     "output_type": "display_data"
    },
    {
     "data": {
      "application/vnd.jupyter.widget-view+json": {
       "model_id": "b7df116b2d2c48f9a969dea0ce161c11",
       "version_major": 2,
       "version_minor": 0
      },
      "text/plain": [
       "  0%|          | 0/1 [00:00<?, ?it/s]"
      ]
     },
     "metadata": {},
     "output_type": "display_data"
    },
    {
     "data": {
      "application/vnd.jupyter.widget-view+json": {
       "model_id": "d27cad1e299046508023acc35b6d7577",
       "version_major": 2,
       "version_minor": 0
      },
      "text/plain": [
       "  0%|          | 0/1 [00:00<?, ?it/s]"
      ]
     },
     "metadata": {},
     "output_type": "display_data"
    },
    {
     "data": {
      "application/vnd.jupyter.widget-view+json": {
       "model_id": "f015ba8df1f54bd68bc42c123070a52b",
       "version_major": 2,
       "version_minor": 0
      },
      "text/plain": [
       "  0%|          | 0/1 [00:00<?, ?it/s]"
      ]
     },
     "metadata": {},
     "output_type": "display_data"
    },
    {
     "data": {
      "application/vnd.jupyter.widget-view+json": {
       "model_id": "7b86be94fe4f4844b5aa88fb3813c304",
       "version_major": 2,
       "version_minor": 0
      },
      "text/plain": [
       "  0%|          | 0/1 [00:00<?, ?it/s]"
      ]
     },
     "metadata": {},
     "output_type": "display_data"
    },
    {
     "data": {
      "application/vnd.jupyter.widget-view+json": {
       "model_id": "3b7da64e50c14acaa04c3f30665a8bc2",
       "version_major": 2,
       "version_minor": 0
      },
      "text/plain": [
       "  0%|          | 0/1 [00:00<?, ?it/s]"
      ]
     },
     "metadata": {},
     "output_type": "display_data"
    },
    {
     "data": {
      "application/vnd.jupyter.widget-view+json": {
       "model_id": "49896fb7ebcb4b38abf1a44b2672e516",
       "version_major": 2,
       "version_minor": 0
      },
      "text/plain": [
       "  0%|          | 0/1 [00:00<?, ?it/s]"
      ]
     },
     "metadata": {},
     "output_type": "display_data"
    },
    {
     "data": {
      "application/vnd.jupyter.widget-view+json": {
       "model_id": "59a0af73cf4247b69f1a4acd99dc38ac",
       "version_major": 2,
       "version_minor": 0
      },
      "text/plain": [
       "  0%|          | 0/1 [00:00<?, ?it/s]"
      ]
     },
     "metadata": {},
     "output_type": "display_data"
    },
    {
     "data": {
      "application/vnd.jupyter.widget-view+json": {
       "model_id": "51e8e23acb404e88a719d000f87a5c0e",
       "version_major": 2,
       "version_minor": 0
      },
      "text/plain": [
       "  0%|          | 0/1 [00:00<?, ?it/s]"
      ]
     },
     "metadata": {},
     "output_type": "display_data"
    },
    {
     "data": {
      "application/vnd.jupyter.widget-view+json": {
       "model_id": "dd1a0e8454544d38bf73b4bc6d934728",
       "version_major": 2,
       "version_minor": 0
      },
      "text/plain": [
       "  0%|          | 0/1 [00:00<?, ?it/s]"
      ]
     },
     "metadata": {},
     "output_type": "display_data"
    },
    {
     "data": {
      "application/vnd.jupyter.widget-view+json": {
       "model_id": "80ceccc5d3574e3a8ed2e058d502ae57",
       "version_major": 2,
       "version_minor": 0
      },
      "text/plain": [
       "  0%|          | 0/1 [00:00<?, ?it/s]"
      ]
     },
     "metadata": {},
     "output_type": "display_data"
    },
    {
     "data": {
      "application/vnd.jupyter.widget-view+json": {
       "model_id": "b3a88a88967f495ba30a8642b5b31dcb",
       "version_major": 2,
       "version_minor": 0
      },
      "text/plain": [
       "  0%|          | 0/1 [00:00<?, ?it/s]"
      ]
     },
     "metadata": {},
     "output_type": "display_data"
    },
    {
     "data": {
      "application/vnd.jupyter.widget-view+json": {
       "model_id": "de5fb1bc6d3f43668a083e70e90feb13",
       "version_major": 2,
       "version_minor": 0
      },
      "text/plain": [
       "  0%|          | 0/1 [00:00<?, ?it/s]"
      ]
     },
     "metadata": {},
     "output_type": "display_data"
    },
    {
     "data": {
      "application/vnd.jupyter.widget-view+json": {
       "model_id": "37fed0f74ab146419c107e3c796ad507",
       "version_major": 2,
       "version_minor": 0
      },
      "text/plain": [
       "  0%|          | 0/1 [00:00<?, ?it/s]"
      ]
     },
     "metadata": {},
     "output_type": "display_data"
    },
    {
     "data": {
      "application/vnd.jupyter.widget-view+json": {
       "model_id": "3b8d88066ecc4253b49e9a23a0edc789",
       "version_major": 2,
       "version_minor": 0
      },
      "text/plain": [
       "  0%|          | 0/1 [00:00<?, ?it/s]"
      ]
     },
     "metadata": {},
     "output_type": "display_data"
    },
    {
     "data": {
      "application/vnd.jupyter.widget-view+json": {
       "model_id": "69fe2006eca24007b133ae8e2483bac8",
       "version_major": 2,
       "version_minor": 0
      },
      "text/plain": [
       "  0%|          | 0/1 [00:00<?, ?it/s]"
      ]
     },
     "metadata": {},
     "output_type": "display_data"
    },
    {
     "data": {
      "application/vnd.jupyter.widget-view+json": {
       "model_id": "49b1726744af4329bc96332be1ee3c34",
       "version_major": 2,
       "version_minor": 0
      },
      "text/plain": [
       "  0%|          | 0/1 [00:00<?, ?it/s]"
      ]
     },
     "metadata": {},
     "output_type": "display_data"
    },
    {
     "data": {
      "application/vnd.jupyter.widget-view+json": {
       "model_id": "87700595c087405aa72e541fabfc1129",
       "version_major": 2,
       "version_minor": 0
      },
      "text/plain": [
       "  0%|          | 0/1 [00:00<?, ?it/s]"
      ]
     },
     "metadata": {},
     "output_type": "display_data"
    },
    {
     "data": {
      "application/vnd.jupyter.widget-view+json": {
       "model_id": "89f3ff48bf724255b9d1a1a0296cd828",
       "version_major": 2,
       "version_minor": 0
      },
      "text/plain": [
       "  0%|          | 0/1 [00:00<?, ?it/s]"
      ]
     },
     "metadata": {},
     "output_type": "display_data"
    },
    {
     "data": {
      "application/vnd.jupyter.widget-view+json": {
       "model_id": "050bea7233554735ac9f4479557f3f85",
       "version_major": 2,
       "version_minor": 0
      },
      "text/plain": [
       "  0%|          | 0/1 [00:00<?, ?it/s]"
      ]
     },
     "metadata": {},
     "output_type": "display_data"
    },
    {
     "data": {
      "application/vnd.jupyter.widget-view+json": {
       "model_id": "b24c3bb4c06142f4ab73706fe5e07eef",
       "version_major": 2,
       "version_minor": 0
      },
      "text/plain": [
       "  0%|          | 0/1 [00:00<?, ?it/s]"
      ]
     },
     "metadata": {},
     "output_type": "display_data"
    },
    {
     "data": {
      "application/vnd.jupyter.widget-view+json": {
       "model_id": "00393c04b36741cba3ca7e8cd4f61a75",
       "version_major": 2,
       "version_minor": 0
      },
      "text/plain": [
       "  0%|          | 0/1 [00:00<?, ?it/s]"
      ]
     },
     "metadata": {},
     "output_type": "display_data"
    },
    {
     "data": {
      "application/vnd.jupyter.widget-view+json": {
       "model_id": "8d7e413cfb454bc68581b1cc6fd8aafd",
       "version_major": 2,
       "version_minor": 0
      },
      "text/plain": [
       "  0%|          | 0/1 [00:00<?, ?it/s]"
      ]
     },
     "metadata": {},
     "output_type": "display_data"
    },
    {
     "data": {
      "application/vnd.jupyter.widget-view+json": {
       "model_id": "158dc9bfe7634b3799aba7a90a27ac02",
       "version_major": 2,
       "version_minor": 0
      },
      "text/plain": [
       "  0%|          | 0/1 [00:00<?, ?it/s]"
      ]
     },
     "metadata": {},
     "output_type": "display_data"
    },
    {
     "data": {
      "application/vnd.jupyter.widget-view+json": {
       "model_id": "8ea72f3ff53948fa9dba7b3cef548cbc",
       "version_major": 2,
       "version_minor": 0
      },
      "text/plain": [
       "  0%|          | 0/1 [00:00<?, ?it/s]"
      ]
     },
     "metadata": {},
     "output_type": "display_data"
    },
    {
     "data": {
      "application/vnd.jupyter.widget-view+json": {
       "model_id": "b117e09b6d424473b2766a0c9edc5bc1",
       "version_major": 2,
       "version_minor": 0
      },
      "text/plain": [
       "  0%|          | 0/1 [00:00<?, ?it/s]"
      ]
     },
     "metadata": {},
     "output_type": "display_data"
    },
    {
     "data": {
      "application/vnd.jupyter.widget-view+json": {
       "model_id": "f574d511b6bc4b09b2fc18dbe5ee3d3e",
       "version_major": 2,
       "version_minor": 0
      },
      "text/plain": [
       "  0%|          | 0/1 [00:00<?, ?it/s]"
      ]
     },
     "metadata": {},
     "output_type": "display_data"
    },
    {
     "data": {
      "application/vnd.jupyter.widget-view+json": {
       "model_id": "825785a75a6042fba8531a895d91d5f0",
       "version_major": 2,
       "version_minor": 0
      },
      "text/plain": [
       "  0%|          | 0/1 [00:00<?, ?it/s]"
      ]
     },
     "metadata": {},
     "output_type": "display_data"
    },
    {
     "data": {
      "application/vnd.jupyter.widget-view+json": {
       "model_id": "96a876cb84dc40cea813b6075e2df139",
       "version_major": 2,
       "version_minor": 0
      },
      "text/plain": [
       "  0%|          | 0/1 [00:00<?, ?it/s]"
      ]
     },
     "metadata": {},
     "output_type": "display_data"
    },
    {
     "data": {
      "application/vnd.jupyter.widget-view+json": {
       "model_id": "a1f2e9018a484f0792a1fcb6d8fee093",
       "version_major": 2,
       "version_minor": 0
      },
      "text/plain": [
       "  0%|          | 0/1 [00:00<?, ?it/s]"
      ]
     },
     "metadata": {},
     "output_type": "display_data"
    },
    {
     "data": {
      "application/vnd.jupyter.widget-view+json": {
       "model_id": "a53053718d134dd3b8cfcc8485b495b8",
       "version_major": 2,
       "version_minor": 0
      },
      "text/plain": [
       "  0%|          | 0/1 [00:00<?, ?it/s]"
      ]
     },
     "metadata": {},
     "output_type": "display_data"
    },
    {
     "data": {
      "application/vnd.jupyter.widget-view+json": {
       "model_id": "568026b73e934e0c92bc13d95e36b422",
       "version_major": 2,
       "version_minor": 0
      },
      "text/plain": [
       "  0%|          | 0/1 [00:00<?, ?it/s]"
      ]
     },
     "metadata": {},
     "output_type": "display_data"
    },
    {
     "data": {
      "application/vnd.jupyter.widget-view+json": {
       "model_id": "8734ea1c98ea4398b4b857191288031a",
       "version_major": 2,
       "version_minor": 0
      },
      "text/plain": [
       "  0%|          | 0/1 [00:00<?, ?it/s]"
      ]
     },
     "metadata": {},
     "output_type": "display_data"
    },
    {
     "data": {
      "application/vnd.jupyter.widget-view+json": {
       "model_id": "2e819d87502e4fa099d989dabf77dbfe",
       "version_major": 2,
       "version_minor": 0
      },
      "text/plain": [
       "  0%|          | 0/1 [00:00<?, ?it/s]"
      ]
     },
     "metadata": {},
     "output_type": "display_data"
    },
    {
     "data": {
      "application/vnd.jupyter.widget-view+json": {
       "model_id": "7d63017a739c4bc89d3fb0c557171c58",
       "version_major": 2,
       "version_minor": 0
      },
      "text/plain": [
       "  0%|          | 0/1 [00:00<?, ?it/s]"
      ]
     },
     "metadata": {},
     "output_type": "display_data"
    },
    {
     "data": {
      "application/vnd.jupyter.widget-view+json": {
       "model_id": "22423bb58ee3448485db1a8e222752d5",
       "version_major": 2,
       "version_minor": 0
      },
      "text/plain": [
       "  0%|          | 0/1 [00:00<?, ?it/s]"
      ]
     },
     "metadata": {},
     "output_type": "display_data"
    },
    {
     "data": {
      "application/vnd.jupyter.widget-view+json": {
       "model_id": "da455f226f7b45c994cac67be90b935c",
       "version_major": 2,
       "version_minor": 0
      },
      "text/plain": [
       "  0%|          | 0/1 [00:00<?, ?it/s]"
      ]
     },
     "metadata": {},
     "output_type": "display_data"
    },
    {
     "data": {
      "application/vnd.jupyter.widget-view+json": {
       "model_id": "4e920aacd3174afbbafbb93358b4a09f",
       "version_major": 2,
       "version_minor": 0
      },
      "text/plain": [
       "  0%|          | 0/1 [00:00<?, ?it/s]"
      ]
     },
     "metadata": {},
     "output_type": "display_data"
    },
    {
     "data": {
      "application/vnd.jupyter.widget-view+json": {
       "model_id": "7fe256a508fd4a2daacc2300badad83e",
       "version_major": 2,
       "version_minor": 0
      },
      "text/plain": [
       "  0%|          | 0/1 [00:00<?, ?it/s]"
      ]
     },
     "metadata": {},
     "output_type": "display_data"
    },
    {
     "data": {
      "application/vnd.jupyter.widget-view+json": {
       "model_id": "c73211fa2bd149d3b54c0d62050bb0fd",
       "version_major": 2,
       "version_minor": 0
      },
      "text/plain": [
       "  0%|          | 0/1 [00:00<?, ?it/s]"
      ]
     },
     "metadata": {},
     "output_type": "display_data"
    },
    {
     "data": {
      "application/vnd.jupyter.widget-view+json": {
       "model_id": "2b550e07ce224b3fb9e7617a7c3dc558",
       "version_major": 2,
       "version_minor": 0
      },
      "text/plain": [
       "  0%|          | 0/1 [00:00<?, ?it/s]"
      ]
     },
     "metadata": {},
     "output_type": "display_data"
    },
    {
     "data": {
      "application/vnd.jupyter.widget-view+json": {
       "model_id": "daa8d1f3ea384bf0a6c994c7a311f88e",
       "version_major": 2,
       "version_minor": 0
      },
      "text/plain": [
       "  0%|          | 0/1 [00:00<?, ?it/s]"
      ]
     },
     "metadata": {},
     "output_type": "display_data"
    },
    {
     "data": {
      "application/vnd.jupyter.widget-view+json": {
       "model_id": "6d181bb2b9b94a55b301374e271cbf21",
       "version_major": 2,
       "version_minor": 0
      },
      "text/plain": [
       "  0%|          | 0/1 [00:00<?, ?it/s]"
      ]
     },
     "metadata": {},
     "output_type": "display_data"
    },
    {
     "data": {
      "application/vnd.jupyter.widget-view+json": {
       "model_id": "2c2caf4b43444a82b4849d913e4b0712",
       "version_major": 2,
       "version_minor": 0
      },
      "text/plain": [
       "  0%|          | 0/1 [00:00<?, ?it/s]"
      ]
     },
     "metadata": {},
     "output_type": "display_data"
    },
    {
     "data": {
      "application/vnd.jupyter.widget-view+json": {
       "model_id": "636edbf9b9c54c57a57d6b189bacc1ce",
       "version_major": 2,
       "version_minor": 0
      },
      "text/plain": [
       "  0%|          | 0/1 [00:00<?, ?it/s]"
      ]
     },
     "metadata": {},
     "output_type": "display_data"
    },
    {
     "data": {
      "application/vnd.jupyter.widget-view+json": {
       "model_id": "e1683f4eafbf42c9937f70552f4ee01e",
       "version_major": 2,
       "version_minor": 0
      },
      "text/plain": [
       "  0%|          | 0/1 [00:00<?, ?it/s]"
      ]
     },
     "metadata": {},
     "output_type": "display_data"
    },
    {
     "data": {
      "application/vnd.jupyter.widget-view+json": {
       "model_id": "74fdc954a2a944dfb67600f8a76a4ab0",
       "version_major": 2,
       "version_minor": 0
      },
      "text/plain": [
       "  0%|          | 0/1 [00:00<?, ?it/s]"
      ]
     },
     "metadata": {},
     "output_type": "display_data"
    },
    {
     "data": {
      "application/vnd.jupyter.widget-view+json": {
       "model_id": "c14e918a79d0490a929b325f488ebfec",
       "version_major": 2,
       "version_minor": 0
      },
      "text/plain": [
       "  0%|          | 0/1 [00:00<?, ?it/s]"
      ]
     },
     "metadata": {},
     "output_type": "display_data"
    },
    {
     "data": {
      "application/vnd.jupyter.widget-view+json": {
       "model_id": "a03ad85cf669416fb45a94ef07468441",
       "version_major": 2,
       "version_minor": 0
      },
      "text/plain": [
       "  0%|          | 0/1 [00:00<?, ?it/s]"
      ]
     },
     "metadata": {},
     "output_type": "display_data"
    },
    {
     "data": {
      "application/vnd.jupyter.widget-view+json": {
       "model_id": "8986189e07364cb0be4dcc9cfc7d6684",
       "version_major": 2,
       "version_minor": 0
      },
      "text/plain": [
       "  0%|          | 0/1 [00:00<?, ?it/s]"
      ]
     },
     "metadata": {},
     "output_type": "display_data"
    },
    {
     "data": {
      "application/vnd.jupyter.widget-view+json": {
       "model_id": "99aeeab888e04fac81c6beffd2c59174",
       "version_major": 2,
       "version_minor": 0
      },
      "text/plain": [
       "  0%|          | 0/1 [00:00<?, ?it/s]"
      ]
     },
     "metadata": {},
     "output_type": "display_data"
    },
    {
     "data": {
      "application/vnd.jupyter.widget-view+json": {
       "model_id": "f3dca8ebe9034be3a6e36ffc21e7c613",
       "version_major": 2,
       "version_minor": 0
      },
      "text/plain": [
       "  0%|          | 0/1 [00:00<?, ?it/s]"
      ]
     },
     "metadata": {},
     "output_type": "display_data"
    },
    {
     "data": {
      "application/vnd.jupyter.widget-view+json": {
       "model_id": "af8644b9543a42268461cfd976c18a30",
       "version_major": 2,
       "version_minor": 0
      },
      "text/plain": [
       "  0%|          | 0/1 [00:00<?, ?it/s]"
      ]
     },
     "metadata": {},
     "output_type": "display_data"
    },
    {
     "data": {
      "application/vnd.jupyter.widget-view+json": {
       "model_id": "0841f0eb6de247e085a749633f473ce4",
       "version_major": 2,
       "version_minor": 0
      },
      "text/plain": [
       "  0%|          | 0/1 [00:00<?, ?it/s]"
      ]
     },
     "metadata": {},
     "output_type": "display_data"
    },
    {
     "data": {
      "application/vnd.jupyter.widget-view+json": {
       "model_id": "285fbab69d7a439fa609e2ca73bacd40",
       "version_major": 2,
       "version_minor": 0
      },
      "text/plain": [
       "  0%|          | 0/1 [00:00<?, ?it/s]"
      ]
     },
     "metadata": {},
     "output_type": "display_data"
    },
    {
     "data": {
      "application/vnd.jupyter.widget-view+json": {
       "model_id": "577fc04ef75f43e3972b9ffd2c42ca10",
       "version_major": 2,
       "version_minor": 0
      },
      "text/plain": [
       "  0%|          | 0/1 [00:00<?, ?it/s]"
      ]
     },
     "metadata": {},
     "output_type": "display_data"
    },
    {
     "data": {
      "application/vnd.jupyter.widget-view+json": {
       "model_id": "8b39f7c343b54b74b3db8ad3b86bff55",
       "version_major": 2,
       "version_minor": 0
      },
      "text/plain": [
       "  0%|          | 0/1 [00:00<?, ?it/s]"
      ]
     },
     "metadata": {},
     "output_type": "display_data"
    },
    {
     "data": {
      "application/vnd.jupyter.widget-view+json": {
       "model_id": "fef165293af3484a89bf9918923d6769",
       "version_major": 2,
       "version_minor": 0
      },
      "text/plain": [
       "  0%|          | 0/1 [00:00<?, ?it/s]"
      ]
     },
     "metadata": {},
     "output_type": "display_data"
    },
    {
     "data": {
      "application/vnd.jupyter.widget-view+json": {
       "model_id": "fd946011965a42459746fad5ccaee37b",
       "version_major": 2,
       "version_minor": 0
      },
      "text/plain": [
       "  0%|          | 0/1 [00:00<?, ?it/s]"
      ]
     },
     "metadata": {},
     "output_type": "display_data"
    },
    {
     "data": {
      "application/vnd.jupyter.widget-view+json": {
       "model_id": "cae3960dc12749f5a7b8af944832e2e9",
       "version_major": 2,
       "version_minor": 0
      },
      "text/plain": [
       "  0%|          | 0/1 [00:00<?, ?it/s]"
      ]
     },
     "metadata": {},
     "output_type": "display_data"
    },
    {
     "data": {
      "application/vnd.jupyter.widget-view+json": {
       "model_id": "f6d165b3e3bf49df9c28f97ca85b6eb9",
       "version_major": 2,
       "version_minor": 0
      },
      "text/plain": [
       "  0%|          | 0/1 [00:00<?, ?it/s]"
      ]
     },
     "metadata": {},
     "output_type": "display_data"
    },
    {
     "data": {
      "application/vnd.jupyter.widget-view+json": {
       "model_id": "972662b970de4b7a9a08ae41ff474486",
       "version_major": 2,
       "version_minor": 0
      },
      "text/plain": [
       "  0%|          | 0/1 [00:00<?, ?it/s]"
      ]
     },
     "metadata": {},
     "output_type": "display_data"
    },
    {
     "data": {
      "application/vnd.jupyter.widget-view+json": {
       "model_id": "35da00e9ab5f473e99469583c7e8fca4",
       "version_major": 2,
       "version_minor": 0
      },
      "text/plain": [
       "  0%|          | 0/1 [00:00<?, ?it/s]"
      ]
     },
     "metadata": {},
     "output_type": "display_data"
    },
    {
     "name": "stdout",
     "output_type": "stream",
     "text": [
      "121 ms ± 1.55 ms per loop (mean ± std. dev. of 7 runs, 10 loops each)\n"
     ]
    }
   ],
   "source": [
    "%%timeit\n",
    "sample = data_cleaned['RS_2020_nosleep'].iloc[0:1].selftext.item()\n",
    "bias(sample, frame={('man', 'woman')})"
   ]
  },
  {
   "cell_type": "markdown",
   "metadata": {},
   "source": [
    "# $B^T$ (failed for now)"
   ]
  },
  {
   "cell_type": "code",
   "execution_count": 36,
   "metadata": {},
   "outputs": [],
   "source": [
    "import pandas as pd\n",
    "concat_df = pd.concat([data_cleaned['RS_2020_self'], data_cleaned['RS_2020_nosleep']])"
   ]
  },
  {
   "cell_type": "code",
   "execution_count": 37,
   "metadata": {},
   "outputs": [],
   "source": [
    "np.savetxt(\"Download/concat_texts.txt\", concat_df['selftext'].astype('string').values, fmt='%s')"
   ]
  },
  {
   "cell_type": "code",
   "execution_count": 38,
   "metadata": {},
   "outputs": [],
   "source": [
    "with open('Download/concat_texts.txt', 'r') as file:\n",
    "    concat_texts = file.read()"
   ]
  },
  {
   "cell_type": "code",
   "execution_count": 39,
   "metadata": {},
   "outputs": [],
   "source": [
    "# bias(concat_texts, frame = 'man - woman')"
   ]
  },
  {
   "cell_type": "markdown",
   "metadata": {},
   "source": [
    "## Intensity (failed for now)"
   ]
  },
  {
   "cell_type": "markdown",
   "metadata": {},
   "source": [
    "### Create the entire corpus *T*"
   ]
  },
  {
   "cell_type": "code",
   "execution_count": 40,
   "metadata": {},
   "outputs": [],
   "source": [
    "# I\n",
    "def intensity(doc, frame=None, corpus = concat_texts):\n",
    "    doc_tokens = nltk.word_tokenize(doc)\n",
    "    \n",
    "    print('Calculating B^T')\n",
    "    B_T = bias(corpus, frame = frame)\n",
    "    print('Done')\n",
    "    numerator, denominator = sum([word_freq(word, doc_tokens) * (cos_similarity(word, semantic_axis_vectors[frame]) - B_T)**2 for word in doc_tokens]), sum([word_freq(word, doc_tokens) for word in doc_tokens])\n",
    "        \n",
    "    return numerator / denominator"
   ]
  },
  {
   "cell_type": "code",
   "execution_count": 41,
   "metadata": {},
   "outputs": [],
   "source": [
    "sample = data_cleaned['RS_2020_nosleep'].iloc[0:1].selftext.item()\n",
    "# intensity(sample, frame='man - woman', corpus = concat_texts)"
   ]
  },
  {
   "cell_type": "code",
   "execution_count": null,
   "metadata": {},
   "outputs": [],
   "source": []
  },
  {
   "cell_type": "markdown",
   "metadata": {},
   "source": [
    "# 4. Statistical Significance of Microframes"
   ]
  },
  {
   "cell_type": "code",
   "execution_count": 42,
   "metadata": {},
   "outputs": [],
   "source": [
    "import pandas as pd\n",
    "import numpy as np\n",
    "\n",
    "def df_mframes(df, microframes=microframes, topn=None):\n",
    "    # if not specify topn\n",
    "    if not topn:\n",
    "        iterables = [df['id'].to_list(), list(microframes)]\n",
    "        index = pd.MultiIndex.from_product(iterables, names=['id', 'microframe'])\n",
    "        df_new = pd.DataFrame(np.repeat(df[['title', 'selftext', 'score']].values, \n",
    "                                    len(microframes), \n",
    "                                    axis = 0),\n",
    "                          index=index,\n",
    "                          columns=['title', 'selftext', 'score']).copy()\n",
    "        # map semantic axis vector to index\n",
    "        # how it works: index -> get 2nd level index -> to series -> convert tuple to string -> map values\n",
    "        a = df_new.index.get_level_values(1).to_series().apply(lambda row: f\"({row[0]}, {row[1]})\").map(semantic_axis_vectors)\n",
    "        df_new['Semantic Axis Vector'] = a.to_list()\n",
    "        return df_new\n",
    "    else:\n",
    "        iterables = [df['id'].head(topn).to_list(), list(microframes)]\n",
    "        index = pd.MultiIndex.from_product(iterables, names=['id', 'microframe'])\n",
    "        df_new = pd.DataFrame(np.repeat(df[['title', 'selftext', 'score']].head(topn).values, \n",
    "                                    len(microframes), \n",
    "                                    axis = 0),\n",
    "                          index=index,\n",
    "                          columns=['title', 'selftext', 'score']).copy()\n",
    "        # map semantic axis vector to index\n",
    "        # how it works: index -> get 2nd level index -> to series -> convert tuple to string -> map values\n",
    "        a = df_new.index.get_level_values(1).to_series().apply(lambda row: f\"({row[0]}, {row[1]})\").map(semantic_axis_vectors)\n",
    "        df_new['Semantic Axis Vector'] = a.to_list()\n",
    "        return df_new"
   ]
  },
  {
   "cell_type": "code",
   "execution_count": 78,
   "metadata": {},
   "outputs": [],
   "source": [
    "sample_doc = data_cleaned['RS_2020_nosleep'].iloc[0:1].selftext.item()"
   ]
  },
  {
   "cell_type": "code",
   "execution_count": 79,
   "metadata": {},
   "outputs": [
    {
     "data": {
      "text/plain": [
       "\"This is the only rule of our household. If you feel a presence standing over you while you sleep, do **NOT** open your eyes. Ignore it and try to fall asleep. This may sound a bit like the show Bird Box from Netflix but this is real, this is serious. You don't want to know what happens if you open your eyes. Let me start from the beginning, from where it all began.\\n\\n------------------------\\n\\nMy family had just moved to a new house in a new city in an eerily quiet neighborhood. We barely ever saw the neighbors and there were almost no animals around. It threw me off a little bit but i quickly got accustomed to it. My school was pretty close to my house so it was not difficult to make friends that I could regularly bring home. So, a few months in the new house, when i was sleeping one night, i felt a figure standing over me. Now, I have always been a bit of a scaredy cat so I slammed my eyes shut and waited. A few moments later, I felt it go away. This happened to me every night and I continuously told my parents about it but they never believed me. They said that i was dreaming and not to think about it too much but i kept on badgering them until they finally installed a camera in every room just as a precaution. The next night when the presence came again, i followed the same routine of keeping my eyes shut until it went away. The next morning i asked my parents to check the cameras. Even though they were skeptical, they checked the camera and what they saw apparently shocked them to the core but me, not so much.\\n\\nThe camera showed that when i go to sleep, or act like it, a shadowy figure came and stood over my bed with its face hidden in such a fashion that it can only be seen if the person in the bed looked straight up. The figure/creature appeared to be wearing some sort of cloak with a 5 point star drawn on it. Now, my family is not very religious but seemed to horrify my parents. The problem was, which we soon figured out, we could not go to the church or temple or any kind of holy place without angering this creature. Every time any of my parents set out to go to any of these places, dangerous incidents seem to happen which, don't happen to kill, but seem to be some kind of warning like the car swerving off the road or a car speeding dangerously close while crossing the road. We soon realized that something supernatural was at play.\\n\\nIt was after my mom almost got run over by a cement mixture truck that we gave up our attempts to contact a holy leader. We made the rule and to this day we have never had a single incident except ONE. But that is a story for some other time...\""
      ]
     },
     "execution_count": 79,
     "metadata": {},
     "output_type": "execute_result"
    }
   ],
   "source": [
    "sample_doc"
   ]
  },
  {
   "cell_type": "code",
   "execution_count": 68,
   "metadata": {
    "collapsed": true,
    "jupyter": {
     "outputs_hidden": true
    }
   },
   "outputs": [
    {
     "ename": "KeyboardInterrupt",
     "evalue": "",
     "output_type": "error",
     "traceback": [
      "\u001b[0;31m---------------------------------------------------------------------------\u001b[0m",
      "\u001b[0;31mKeyboardInterrupt\u001b[0m                         Traceback (most recent call last)",
      "\u001b[0;32m<ipython-input-68-63ff983b9425>\u001b[0m in \u001b[0;36m<module>\u001b[0;34m\u001b[0m\n\u001b[1;32m      1\u001b[0m \u001b[0;32mwith\u001b[0m \u001b[0mopen\u001b[0m\u001b[0;34m(\u001b[0m\u001b[0;34m'Download/concat_texts.txt'\u001b[0m\u001b[0;34m,\u001b[0m \u001b[0;34m'r'\u001b[0m\u001b[0;34m)\u001b[0m \u001b[0;32mas\u001b[0m \u001b[0mfile\u001b[0m\u001b[0;34m:\u001b[0m\u001b[0;34m\u001b[0m\u001b[0;34m\u001b[0m\u001b[0m\n\u001b[1;32m      2\u001b[0m     \u001b[0mconcat_texts\u001b[0m \u001b[0;34m=\u001b[0m \u001b[0mfile\u001b[0m\u001b[0;34m.\u001b[0m\u001b[0mread\u001b[0m\u001b[0;34m(\u001b[0m\u001b[0;34m)\u001b[0m\u001b[0;34m\u001b[0m\u001b[0;34m\u001b[0m\u001b[0m\n\u001b[0;32m----> 3\u001b[0;31m     \u001b[0mT\u001b[0m \u001b[0;34m=\u001b[0m \u001b[0mnltk\u001b[0m\u001b[0;34m.\u001b[0m\u001b[0mword_tokenize\u001b[0m\u001b[0;34m(\u001b[0m\u001b[0mconcat_texts\u001b[0m\u001b[0;34m)\u001b[0m\u001b[0;34m\u001b[0m\u001b[0;34m\u001b[0m\u001b[0m\n\u001b[0m",
      "\u001b[0;32m~/.local/share/virtualenvs/Research-Mapping-Uncanny-Valley-DSc8QBrC/lib/python3.8/site-packages/nltk/tokenize/__init__.py\u001b[0m in \u001b[0;36mword_tokenize\u001b[0;34m(text, language, preserve_line)\u001b[0m\n\u001b[1;32m    127\u001b[0m     \u001b[0;34m:\u001b[0m\u001b[0mtype\u001b[0m \u001b[0mpreserve_line\u001b[0m\u001b[0;34m:\u001b[0m \u001b[0mbool\u001b[0m\u001b[0;34m\u001b[0m\u001b[0;34m\u001b[0m\u001b[0m\n\u001b[1;32m    128\u001b[0m     \"\"\"\n\u001b[0;32m--> 129\u001b[0;31m     \u001b[0msentences\u001b[0m \u001b[0;34m=\u001b[0m \u001b[0;34m[\u001b[0m\u001b[0mtext\u001b[0m\u001b[0;34m]\u001b[0m \u001b[0;32mif\u001b[0m \u001b[0mpreserve_line\u001b[0m \u001b[0;32melse\u001b[0m \u001b[0msent_tokenize\u001b[0m\u001b[0;34m(\u001b[0m\u001b[0mtext\u001b[0m\u001b[0;34m,\u001b[0m \u001b[0mlanguage\u001b[0m\u001b[0;34m)\u001b[0m\u001b[0;34m\u001b[0m\u001b[0;34m\u001b[0m\u001b[0m\n\u001b[0m\u001b[1;32m    130\u001b[0m     return [\n\u001b[1;32m    131\u001b[0m         \u001b[0mtoken\u001b[0m \u001b[0;32mfor\u001b[0m \u001b[0msent\u001b[0m \u001b[0;32min\u001b[0m \u001b[0msentences\u001b[0m \u001b[0;32mfor\u001b[0m \u001b[0mtoken\u001b[0m \u001b[0;32min\u001b[0m \u001b[0m_treebank_word_tokenizer\u001b[0m\u001b[0;34m.\u001b[0m\u001b[0mtokenize\u001b[0m\u001b[0;34m(\u001b[0m\u001b[0msent\u001b[0m\u001b[0;34m)\u001b[0m\u001b[0;34m\u001b[0m\u001b[0;34m\u001b[0m\u001b[0m\n",
      "\u001b[0;32m~/.local/share/virtualenvs/Research-Mapping-Uncanny-Valley-DSc8QBrC/lib/python3.8/site-packages/nltk/tokenize/__init__.py\u001b[0m in \u001b[0;36msent_tokenize\u001b[0;34m(text, language)\u001b[0m\n\u001b[1;32m    105\u001b[0m     \"\"\"\n\u001b[1;32m    106\u001b[0m     \u001b[0mtokenizer\u001b[0m \u001b[0;34m=\u001b[0m \u001b[0mload\u001b[0m\u001b[0;34m(\u001b[0m\u001b[0;34m\"tokenizers/punkt/{0}.pickle\"\u001b[0m\u001b[0;34m.\u001b[0m\u001b[0mformat\u001b[0m\u001b[0;34m(\u001b[0m\u001b[0mlanguage\u001b[0m\u001b[0;34m)\u001b[0m\u001b[0;34m)\u001b[0m\u001b[0;34m\u001b[0m\u001b[0;34m\u001b[0m\u001b[0m\n\u001b[0;32m--> 107\u001b[0;31m     \u001b[0;32mreturn\u001b[0m \u001b[0mtokenizer\u001b[0m\u001b[0;34m.\u001b[0m\u001b[0mtokenize\u001b[0m\u001b[0;34m(\u001b[0m\u001b[0mtext\u001b[0m\u001b[0;34m)\u001b[0m\u001b[0;34m\u001b[0m\u001b[0;34m\u001b[0m\u001b[0m\n\u001b[0m\u001b[1;32m    108\u001b[0m \u001b[0;34m\u001b[0m\u001b[0m\n\u001b[1;32m    109\u001b[0m \u001b[0;34m\u001b[0m\u001b[0m\n",
      "\u001b[0;32m~/.local/share/virtualenvs/Research-Mapping-Uncanny-Valley-DSc8QBrC/lib/python3.8/site-packages/nltk/tokenize/punkt.py\u001b[0m in \u001b[0;36mtokenize\u001b[0;34m(self, text, realign_boundaries)\u001b[0m\n\u001b[1;32m   1270\u001b[0m         \u001b[0mGiven\u001b[0m \u001b[0ma\u001b[0m \u001b[0mtext\u001b[0m\u001b[0;34m,\u001b[0m \u001b[0mreturns\u001b[0m \u001b[0ma\u001b[0m \u001b[0mlist\u001b[0m \u001b[0mof\u001b[0m \u001b[0mthe\u001b[0m \u001b[0msentences\u001b[0m \u001b[0;32min\u001b[0m \u001b[0mthat\u001b[0m \u001b[0mtext\u001b[0m\u001b[0;34m.\u001b[0m\u001b[0;34m\u001b[0m\u001b[0;34m\u001b[0m\u001b[0m\n\u001b[1;32m   1271\u001b[0m         \"\"\"\n\u001b[0;32m-> 1272\u001b[0;31m         \u001b[0;32mreturn\u001b[0m \u001b[0mlist\u001b[0m\u001b[0;34m(\u001b[0m\u001b[0mself\u001b[0m\u001b[0;34m.\u001b[0m\u001b[0msentences_from_text\u001b[0m\u001b[0;34m(\u001b[0m\u001b[0mtext\u001b[0m\u001b[0;34m,\u001b[0m \u001b[0mrealign_boundaries\u001b[0m\u001b[0;34m)\u001b[0m\u001b[0;34m)\u001b[0m\u001b[0;34m\u001b[0m\u001b[0;34m\u001b[0m\u001b[0m\n\u001b[0m\u001b[1;32m   1273\u001b[0m \u001b[0;34m\u001b[0m\u001b[0m\n\u001b[1;32m   1274\u001b[0m     \u001b[0;32mdef\u001b[0m \u001b[0mdebug_decisions\u001b[0m\u001b[0;34m(\u001b[0m\u001b[0mself\u001b[0m\u001b[0;34m,\u001b[0m \u001b[0mtext\u001b[0m\u001b[0;34m)\u001b[0m\u001b[0;34m:\u001b[0m\u001b[0;34m\u001b[0m\u001b[0;34m\u001b[0m\u001b[0m\n",
      "\u001b[0;32m~/.local/share/virtualenvs/Research-Mapping-Uncanny-Valley-DSc8QBrC/lib/python3.8/site-packages/nltk/tokenize/punkt.py\u001b[0m in \u001b[0;36msentences_from_text\u001b[0;34m(self, text, realign_boundaries)\u001b[0m\n\u001b[1;32m   1324\u001b[0m         \u001b[0mfollows\u001b[0m \u001b[0mthe\u001b[0m \u001b[0mperiod\u001b[0m\u001b[0;34m.\u001b[0m\u001b[0;34m\u001b[0m\u001b[0;34m\u001b[0m\u001b[0m\n\u001b[1;32m   1325\u001b[0m         \"\"\"\n\u001b[0;32m-> 1326\u001b[0;31m         \u001b[0;32mreturn\u001b[0m \u001b[0;34m[\u001b[0m\u001b[0mtext\u001b[0m\u001b[0;34m[\u001b[0m\u001b[0ms\u001b[0m\u001b[0;34m:\u001b[0m\u001b[0me\u001b[0m\u001b[0;34m]\u001b[0m \u001b[0;32mfor\u001b[0m \u001b[0ms\u001b[0m\u001b[0;34m,\u001b[0m \u001b[0me\u001b[0m \u001b[0;32min\u001b[0m \u001b[0mself\u001b[0m\u001b[0;34m.\u001b[0m\u001b[0mspan_tokenize\u001b[0m\u001b[0;34m(\u001b[0m\u001b[0mtext\u001b[0m\u001b[0;34m,\u001b[0m \u001b[0mrealign_boundaries\u001b[0m\u001b[0;34m)\u001b[0m\u001b[0;34m]\u001b[0m\u001b[0;34m\u001b[0m\u001b[0;34m\u001b[0m\u001b[0m\n\u001b[0m\u001b[1;32m   1327\u001b[0m \u001b[0;34m\u001b[0m\u001b[0m\n\u001b[1;32m   1328\u001b[0m     \u001b[0;32mdef\u001b[0m \u001b[0m_slices_from_text\u001b[0m\u001b[0;34m(\u001b[0m\u001b[0mself\u001b[0m\u001b[0;34m,\u001b[0m \u001b[0mtext\u001b[0m\u001b[0;34m)\u001b[0m\u001b[0;34m:\u001b[0m\u001b[0;34m\u001b[0m\u001b[0;34m\u001b[0m\u001b[0m\n",
      "\u001b[0;32m~/.local/share/virtualenvs/Research-Mapping-Uncanny-Valley-DSc8QBrC/lib/python3.8/site-packages/nltk/tokenize/punkt.py\u001b[0m in \u001b[0;36m<listcomp>\u001b[0;34m(.0)\u001b[0m\n\u001b[1;32m   1324\u001b[0m         \u001b[0mfollows\u001b[0m \u001b[0mthe\u001b[0m \u001b[0mperiod\u001b[0m\u001b[0;34m.\u001b[0m\u001b[0;34m\u001b[0m\u001b[0;34m\u001b[0m\u001b[0m\n\u001b[1;32m   1325\u001b[0m         \"\"\"\n\u001b[0;32m-> 1326\u001b[0;31m         \u001b[0;32mreturn\u001b[0m \u001b[0;34m[\u001b[0m\u001b[0mtext\u001b[0m\u001b[0;34m[\u001b[0m\u001b[0ms\u001b[0m\u001b[0;34m:\u001b[0m\u001b[0me\u001b[0m\u001b[0;34m]\u001b[0m \u001b[0;32mfor\u001b[0m \u001b[0ms\u001b[0m\u001b[0;34m,\u001b[0m \u001b[0me\u001b[0m \u001b[0;32min\u001b[0m \u001b[0mself\u001b[0m\u001b[0;34m.\u001b[0m\u001b[0mspan_tokenize\u001b[0m\u001b[0;34m(\u001b[0m\u001b[0mtext\u001b[0m\u001b[0;34m,\u001b[0m \u001b[0mrealign_boundaries\u001b[0m\u001b[0;34m)\u001b[0m\u001b[0;34m]\u001b[0m\u001b[0;34m\u001b[0m\u001b[0;34m\u001b[0m\u001b[0m\n\u001b[0m\u001b[1;32m   1327\u001b[0m \u001b[0;34m\u001b[0m\u001b[0m\n\u001b[1;32m   1328\u001b[0m     \u001b[0;32mdef\u001b[0m \u001b[0m_slices_from_text\u001b[0m\u001b[0;34m(\u001b[0m\u001b[0mself\u001b[0m\u001b[0;34m,\u001b[0m \u001b[0mtext\u001b[0m\u001b[0;34m)\u001b[0m\u001b[0;34m:\u001b[0m\u001b[0;34m\u001b[0m\u001b[0;34m\u001b[0m\u001b[0m\n",
      "\u001b[0;32m~/.local/share/virtualenvs/Research-Mapping-Uncanny-Valley-DSc8QBrC/lib/python3.8/site-packages/nltk/tokenize/punkt.py\u001b[0m in \u001b[0;36mspan_tokenize\u001b[0;34m(self, text, realign_boundaries)\u001b[0m\n\u001b[1;32m   1314\u001b[0m         \u001b[0;32mif\u001b[0m \u001b[0mrealign_boundaries\u001b[0m\u001b[0;34m:\u001b[0m\u001b[0;34m\u001b[0m\u001b[0;34m\u001b[0m\u001b[0m\n\u001b[1;32m   1315\u001b[0m             \u001b[0mslices\u001b[0m \u001b[0;34m=\u001b[0m \u001b[0mself\u001b[0m\u001b[0;34m.\u001b[0m\u001b[0m_realign_boundaries\u001b[0m\u001b[0;34m(\u001b[0m\u001b[0mtext\u001b[0m\u001b[0;34m,\u001b[0m \u001b[0mslices\u001b[0m\u001b[0;34m)\u001b[0m\u001b[0;34m\u001b[0m\u001b[0;34m\u001b[0m\u001b[0m\n\u001b[0;32m-> 1316\u001b[0;31m         \u001b[0;32mfor\u001b[0m \u001b[0msl\u001b[0m \u001b[0;32min\u001b[0m \u001b[0mslices\u001b[0m\u001b[0;34m:\u001b[0m\u001b[0;34m\u001b[0m\u001b[0;34m\u001b[0m\u001b[0m\n\u001b[0m\u001b[1;32m   1317\u001b[0m             \u001b[0;32myield\u001b[0m \u001b[0;34m(\u001b[0m\u001b[0msl\u001b[0m\u001b[0;34m.\u001b[0m\u001b[0mstart\u001b[0m\u001b[0;34m,\u001b[0m \u001b[0msl\u001b[0m\u001b[0;34m.\u001b[0m\u001b[0mstop\u001b[0m\u001b[0;34m)\u001b[0m\u001b[0;34m\u001b[0m\u001b[0;34m\u001b[0m\u001b[0m\n\u001b[1;32m   1318\u001b[0m \u001b[0;34m\u001b[0m\u001b[0m\n",
      "\u001b[0;32m~/.local/share/virtualenvs/Research-Mapping-Uncanny-Valley-DSc8QBrC/lib/python3.8/site-packages/nltk/tokenize/punkt.py\u001b[0m in \u001b[0;36m_realign_boundaries\u001b[0;34m(self, text, slices)\u001b[0m\n\u001b[1;32m   1355\u001b[0m         \"\"\"\n\u001b[1;32m   1356\u001b[0m         \u001b[0mrealign\u001b[0m \u001b[0;34m=\u001b[0m \u001b[0;36m0\u001b[0m\u001b[0;34m\u001b[0m\u001b[0;34m\u001b[0m\u001b[0m\n\u001b[0;32m-> 1357\u001b[0;31m         \u001b[0;32mfor\u001b[0m \u001b[0msl1\u001b[0m\u001b[0;34m,\u001b[0m \u001b[0msl2\u001b[0m \u001b[0;32min\u001b[0m \u001b[0m_pair_iter\u001b[0m\u001b[0;34m(\u001b[0m\u001b[0mslices\u001b[0m\u001b[0;34m)\u001b[0m\u001b[0;34m:\u001b[0m\u001b[0;34m\u001b[0m\u001b[0;34m\u001b[0m\u001b[0m\n\u001b[0m\u001b[1;32m   1358\u001b[0m             \u001b[0msl1\u001b[0m \u001b[0;34m=\u001b[0m \u001b[0mslice\u001b[0m\u001b[0;34m(\u001b[0m\u001b[0msl1\u001b[0m\u001b[0;34m.\u001b[0m\u001b[0mstart\u001b[0m \u001b[0;34m+\u001b[0m \u001b[0mrealign\u001b[0m\u001b[0;34m,\u001b[0m \u001b[0msl1\u001b[0m\u001b[0;34m.\u001b[0m\u001b[0mstop\u001b[0m\u001b[0;34m)\u001b[0m\u001b[0;34m\u001b[0m\u001b[0;34m\u001b[0m\u001b[0m\n\u001b[1;32m   1359\u001b[0m             \u001b[0;32mif\u001b[0m \u001b[0;32mnot\u001b[0m \u001b[0msl2\u001b[0m\u001b[0;34m:\u001b[0m\u001b[0;34m\u001b[0m\u001b[0;34m\u001b[0m\u001b[0m\n",
      "\u001b[0;32m~/.local/share/virtualenvs/Research-Mapping-Uncanny-Valley-DSc8QBrC/lib/python3.8/site-packages/nltk/tokenize/punkt.py\u001b[0m in \u001b[0;36m_pair_iter\u001b[0;34m(it)\u001b[0m\n\u001b[1;32m    315\u001b[0m     \u001b[0;32mexcept\u001b[0m \u001b[0mStopIteration\u001b[0m\u001b[0;34m:\u001b[0m\u001b[0;34m\u001b[0m\u001b[0;34m\u001b[0m\u001b[0m\n\u001b[1;32m    316\u001b[0m         \u001b[0;32mreturn\u001b[0m\u001b[0;34m\u001b[0m\u001b[0;34m\u001b[0m\u001b[0m\n\u001b[0;32m--> 317\u001b[0;31m     \u001b[0;32mfor\u001b[0m \u001b[0mel\u001b[0m \u001b[0;32min\u001b[0m \u001b[0mit\u001b[0m\u001b[0;34m:\u001b[0m\u001b[0;34m\u001b[0m\u001b[0;34m\u001b[0m\u001b[0m\n\u001b[0m\u001b[1;32m    318\u001b[0m         \u001b[0;32myield\u001b[0m \u001b[0;34m(\u001b[0m\u001b[0mprev\u001b[0m\u001b[0;34m,\u001b[0m \u001b[0mel\u001b[0m\u001b[0;34m)\u001b[0m\u001b[0;34m\u001b[0m\u001b[0;34m\u001b[0m\u001b[0m\n\u001b[1;32m    319\u001b[0m         \u001b[0mprev\u001b[0m \u001b[0;34m=\u001b[0m \u001b[0mel\u001b[0m\u001b[0;34m\u001b[0m\u001b[0;34m\u001b[0m\u001b[0m\n",
      "\u001b[0;32m~/.local/share/virtualenvs/Research-Mapping-Uncanny-Valley-DSc8QBrC/lib/python3.8/site-packages/nltk/tokenize/punkt.py\u001b[0m in \u001b[0;36m_slices_from_text\u001b[0;34m(self, text)\u001b[0m\n\u001b[1;32m   1330\u001b[0m         \u001b[0;32mfor\u001b[0m \u001b[0mmatch\u001b[0m \u001b[0;32min\u001b[0m \u001b[0mself\u001b[0m\u001b[0;34m.\u001b[0m\u001b[0m_lang_vars\u001b[0m\u001b[0;34m.\u001b[0m\u001b[0mperiod_context_re\u001b[0m\u001b[0;34m(\u001b[0m\u001b[0;34m)\u001b[0m\u001b[0;34m.\u001b[0m\u001b[0mfinditer\u001b[0m\u001b[0;34m(\u001b[0m\u001b[0mtext\u001b[0m\u001b[0;34m)\u001b[0m\u001b[0;34m:\u001b[0m\u001b[0;34m\u001b[0m\u001b[0;34m\u001b[0m\u001b[0m\n\u001b[1;32m   1331\u001b[0m             \u001b[0mcontext\u001b[0m \u001b[0;34m=\u001b[0m \u001b[0mmatch\u001b[0m\u001b[0;34m.\u001b[0m\u001b[0mgroup\u001b[0m\u001b[0;34m(\u001b[0m\u001b[0;34m)\u001b[0m \u001b[0;34m+\u001b[0m \u001b[0mmatch\u001b[0m\u001b[0;34m.\u001b[0m\u001b[0mgroup\u001b[0m\u001b[0;34m(\u001b[0m\u001b[0;34m\"after_tok\"\u001b[0m\u001b[0;34m)\u001b[0m\u001b[0;34m\u001b[0m\u001b[0;34m\u001b[0m\u001b[0m\n\u001b[0;32m-> 1332\u001b[0;31m             \u001b[0;32mif\u001b[0m \u001b[0mself\u001b[0m\u001b[0;34m.\u001b[0m\u001b[0mtext_contains_sentbreak\u001b[0m\u001b[0;34m(\u001b[0m\u001b[0mcontext\u001b[0m\u001b[0;34m)\u001b[0m\u001b[0;34m:\u001b[0m\u001b[0;34m\u001b[0m\u001b[0;34m\u001b[0m\u001b[0m\n\u001b[0m\u001b[1;32m   1333\u001b[0m                 \u001b[0;32myield\u001b[0m \u001b[0mslice\u001b[0m\u001b[0;34m(\u001b[0m\u001b[0mlast_break\u001b[0m\u001b[0;34m,\u001b[0m \u001b[0mmatch\u001b[0m\u001b[0;34m.\u001b[0m\u001b[0mend\u001b[0m\u001b[0;34m(\u001b[0m\u001b[0;34m)\u001b[0m\u001b[0;34m)\u001b[0m\u001b[0;34m\u001b[0m\u001b[0;34m\u001b[0m\u001b[0m\n\u001b[1;32m   1334\u001b[0m                 \u001b[0;32mif\u001b[0m \u001b[0mmatch\u001b[0m\u001b[0;34m.\u001b[0m\u001b[0mgroup\u001b[0m\u001b[0;34m(\u001b[0m\u001b[0;34m\"next_tok\"\u001b[0m\u001b[0;34m)\u001b[0m\u001b[0;34m:\u001b[0m\u001b[0;34m\u001b[0m\u001b[0;34m\u001b[0m\u001b[0m\n",
      "\u001b[0;32m~/.local/share/virtualenvs/Research-Mapping-Uncanny-Valley-DSc8QBrC/lib/python3.8/site-packages/nltk/tokenize/punkt.py\u001b[0m in \u001b[0;36mtext_contains_sentbreak\u001b[0;34m(self, text)\u001b[0m\n\u001b[1;32m   1376\u001b[0m         \"\"\"\n\u001b[1;32m   1377\u001b[0m         \u001b[0mfound\u001b[0m \u001b[0;34m=\u001b[0m \u001b[0;32mFalse\u001b[0m  \u001b[0;31m# used to ignore last token\u001b[0m\u001b[0;34m\u001b[0m\u001b[0;34m\u001b[0m\u001b[0m\n\u001b[0;32m-> 1378\u001b[0;31m         \u001b[0;32mfor\u001b[0m \u001b[0mt\u001b[0m \u001b[0;32min\u001b[0m \u001b[0mself\u001b[0m\u001b[0;34m.\u001b[0m\u001b[0m_annotate_tokens\u001b[0m\u001b[0;34m(\u001b[0m\u001b[0mself\u001b[0m\u001b[0;34m.\u001b[0m\u001b[0m_tokenize_words\u001b[0m\u001b[0;34m(\u001b[0m\u001b[0mtext\u001b[0m\u001b[0;34m)\u001b[0m\u001b[0;34m)\u001b[0m\u001b[0;34m:\u001b[0m\u001b[0;34m\u001b[0m\u001b[0;34m\u001b[0m\u001b[0m\n\u001b[0m\u001b[1;32m   1379\u001b[0m             \u001b[0;32mif\u001b[0m \u001b[0mfound\u001b[0m\u001b[0;34m:\u001b[0m\u001b[0;34m\u001b[0m\u001b[0;34m\u001b[0m\u001b[0m\n\u001b[1;32m   1380\u001b[0m                 \u001b[0;32mreturn\u001b[0m \u001b[0;32mTrue\u001b[0m\u001b[0;34m\u001b[0m\u001b[0;34m\u001b[0m\u001b[0m\n",
      "\u001b[0;32m~/.local/share/virtualenvs/Research-Mapping-Uncanny-Valley-DSc8QBrC/lib/python3.8/site-packages/nltk/tokenize/punkt.py\u001b[0m in \u001b[0;36m_annotate_second_pass\u001b[0;34m(self, tokens)\u001b[0m\n\u001b[1;32m   1512\u001b[0m         \u001b[0mheuristic\u001b[0m \u001b[0;34m(\u001b[0m\u001b[0;36m4.1\u001b[0m\u001b[0;36m.2\u001b[0m\u001b[0;34m)\u001b[0m \u001b[0;32mand\u001b[0m \u001b[0mfrequent\u001b[0m \u001b[0msentence\u001b[0m \u001b[0mstarter\u001b[0m \u001b[0mheuristic\u001b[0m \u001b[0;34m(\u001b[0m\u001b[0;36m4.1\u001b[0m\u001b[0;36m.3\u001b[0m\u001b[0;34m)\u001b[0m\u001b[0;34m.\u001b[0m\u001b[0;34m\u001b[0m\u001b[0;34m\u001b[0m\u001b[0m\n\u001b[1;32m   1513\u001b[0m         \"\"\"\n\u001b[0;32m-> 1514\u001b[0;31m         \u001b[0;32mfor\u001b[0m \u001b[0mt1\u001b[0m\u001b[0;34m,\u001b[0m \u001b[0mt2\u001b[0m \u001b[0;32min\u001b[0m \u001b[0m_pair_iter\u001b[0m\u001b[0;34m(\u001b[0m\u001b[0mtokens\u001b[0m\u001b[0;34m)\u001b[0m\u001b[0;34m:\u001b[0m\u001b[0;34m\u001b[0m\u001b[0;34m\u001b[0m\u001b[0m\n\u001b[0m\u001b[1;32m   1515\u001b[0m             \u001b[0mself\u001b[0m\u001b[0;34m.\u001b[0m\u001b[0m_second_pass_annotation\u001b[0m\u001b[0;34m(\u001b[0m\u001b[0mt1\u001b[0m\u001b[0;34m,\u001b[0m \u001b[0mt2\u001b[0m\u001b[0;34m)\u001b[0m\u001b[0;34m\u001b[0m\u001b[0;34m\u001b[0m\u001b[0m\n\u001b[1;32m   1516\u001b[0m             \u001b[0;32myield\u001b[0m \u001b[0mt1\u001b[0m\u001b[0;34m\u001b[0m\u001b[0;34m\u001b[0m\u001b[0m\n",
      "\u001b[0;32m~/.local/share/virtualenvs/Research-Mapping-Uncanny-Valley-DSc8QBrC/lib/python3.8/site-packages/nltk/tokenize/punkt.py\u001b[0m in \u001b[0;36m_pair_iter\u001b[0;34m(it)\u001b[0m\n\u001b[1;32m    312\u001b[0m     \u001b[0mit\u001b[0m \u001b[0;34m=\u001b[0m \u001b[0miter\u001b[0m\u001b[0;34m(\u001b[0m\u001b[0mit\u001b[0m\u001b[0;34m)\u001b[0m\u001b[0;34m\u001b[0m\u001b[0;34m\u001b[0m\u001b[0m\n\u001b[1;32m    313\u001b[0m     \u001b[0;32mtry\u001b[0m\u001b[0;34m:\u001b[0m\u001b[0;34m\u001b[0m\u001b[0;34m\u001b[0m\u001b[0m\n\u001b[0;32m--> 314\u001b[0;31m         \u001b[0mprev\u001b[0m \u001b[0;34m=\u001b[0m \u001b[0mnext\u001b[0m\u001b[0;34m(\u001b[0m\u001b[0mit\u001b[0m\u001b[0;34m)\u001b[0m\u001b[0;34m\u001b[0m\u001b[0;34m\u001b[0m\u001b[0m\n\u001b[0m\u001b[1;32m    315\u001b[0m     \u001b[0;32mexcept\u001b[0m \u001b[0mStopIteration\u001b[0m\u001b[0;34m:\u001b[0m\u001b[0;34m\u001b[0m\u001b[0;34m\u001b[0m\u001b[0m\n\u001b[1;32m    316\u001b[0m         \u001b[0;32mreturn\u001b[0m\u001b[0;34m\u001b[0m\u001b[0;34m\u001b[0m\u001b[0m\n",
      "\u001b[0;32m~/.local/share/virtualenvs/Research-Mapping-Uncanny-Valley-DSc8QBrC/lib/python3.8/site-packages/nltk/tokenize/punkt.py\u001b[0m in \u001b[0;36m_annotate_first_pass\u001b[0;34m(self, tokens)\u001b[0m\n\u001b[1;32m    593\u001b[0m         \"\"\"\n\u001b[1;32m    594\u001b[0m         \u001b[0;32mfor\u001b[0m \u001b[0maug_tok\u001b[0m \u001b[0;32min\u001b[0m \u001b[0mtokens\u001b[0m\u001b[0;34m:\u001b[0m\u001b[0;34m\u001b[0m\u001b[0;34m\u001b[0m\u001b[0m\n\u001b[0;32m--> 595\u001b[0;31m             \u001b[0mself\u001b[0m\u001b[0;34m.\u001b[0m\u001b[0m_first_pass_annotation\u001b[0m\u001b[0;34m(\u001b[0m\u001b[0maug_tok\u001b[0m\u001b[0;34m)\u001b[0m\u001b[0;34m\u001b[0m\u001b[0;34m\u001b[0m\u001b[0m\n\u001b[0m\u001b[1;32m    596\u001b[0m             \u001b[0;32myield\u001b[0m \u001b[0maug_tok\u001b[0m\u001b[0;34m\u001b[0m\u001b[0;34m\u001b[0m\u001b[0m\n\u001b[1;32m    597\u001b[0m \u001b[0;34m\u001b[0m\u001b[0m\n",
      "\u001b[0;32m~/.local/share/virtualenvs/Research-Mapping-Uncanny-Valley-DSc8QBrC/lib/python3.8/site-packages/nltk/tokenize/punkt.py\u001b[0m in \u001b[0;36m_first_pass_annotation\u001b[0;34m(self, aug_tok)\u001b[0m\n\u001b[1;32m    605\u001b[0m         \u001b[0;32mif\u001b[0m \u001b[0mtok\u001b[0m \u001b[0;32min\u001b[0m \u001b[0mself\u001b[0m\u001b[0;34m.\u001b[0m\u001b[0m_lang_vars\u001b[0m\u001b[0;34m.\u001b[0m\u001b[0msent_end_chars\u001b[0m\u001b[0;34m:\u001b[0m\u001b[0;34m\u001b[0m\u001b[0;34m\u001b[0m\u001b[0m\n\u001b[1;32m    606\u001b[0m             \u001b[0maug_tok\u001b[0m\u001b[0;34m.\u001b[0m\u001b[0msentbreak\u001b[0m \u001b[0;34m=\u001b[0m \u001b[0;32mTrue\u001b[0m\u001b[0;34m\u001b[0m\u001b[0;34m\u001b[0m\u001b[0m\n\u001b[0;32m--> 607\u001b[0;31m         \u001b[0;32melif\u001b[0m \u001b[0maug_tok\u001b[0m\u001b[0;34m.\u001b[0m\u001b[0mis_ellipsis\u001b[0m\u001b[0;34m:\u001b[0m\u001b[0;34m\u001b[0m\u001b[0;34m\u001b[0m\u001b[0m\n\u001b[0m\u001b[1;32m    608\u001b[0m             \u001b[0maug_tok\u001b[0m\u001b[0;34m.\u001b[0m\u001b[0mellipsis\u001b[0m \u001b[0;34m=\u001b[0m \u001b[0;32mTrue\u001b[0m\u001b[0;34m\u001b[0m\u001b[0;34m\u001b[0m\u001b[0m\n\u001b[1;32m    609\u001b[0m         \u001b[0;32melif\u001b[0m \u001b[0maug_tok\u001b[0m\u001b[0;34m.\u001b[0m\u001b[0mperiod_final\u001b[0m \u001b[0;32mand\u001b[0m \u001b[0;32mnot\u001b[0m \u001b[0mtok\u001b[0m\u001b[0;34m.\u001b[0m\u001b[0mendswith\u001b[0m\u001b[0;34m(\u001b[0m\u001b[0;34m\"..\"\u001b[0m\u001b[0;34m)\u001b[0m\u001b[0;34m:\u001b[0m\u001b[0;34m\u001b[0m\u001b[0;34m\u001b[0m\u001b[0m\n",
      "\u001b[0;31mKeyboardInterrupt\u001b[0m: "
     ]
    }
   ],
   "source": [
    "with open('Download/concat_texts.txt', 'r') as file:\n",
    "    concat_texts = file.read()\n",
    "    T = nltk.word_tokenize(concat_texts)"
   ]
  },
  {
   "cell_type": "code",
   "execution_count": 69,
   "metadata": {},
   "outputs": [
    {
     "data": {
      "text/plain": [
       "575"
      ]
     },
     "execution_count": 69,
     "metadata": {},
     "output_type": "execute_result"
    }
   ],
   "source": [
    "len(nltk.word_tokenize(sample_doc))"
   ]
  },
  {
   "cell_type": "code",
   "execution_count": 77,
   "metadata": {},
   "outputs": [
    {
     "data": {
      "application/vnd.jupyter.widget-view+json": {
       "model_id": "01b041414a4344fc8721b809a8936fe7",
       "version_major": 2,
       "version_minor": 0
      },
      "text/plain": [
       "  0%|          | 0/140 [00:00<?, ?it/s]"
      ]
     },
     "metadata": {},
     "output_type": "display_data"
    },
    {
     "data": {
      "application/vnd.jupyter.widget-view+json": {
       "model_id": "7bfcb3ec0f02419f8d6e4f3c04f3f4a2",
       "version_major": 2,
       "version_minor": 0
      },
      "text/plain": [
       "  0%|          | 0/3 [00:00<?, ?it/s]"
      ]
     },
     "metadata": {},
     "output_type": "display_data"
    },
    {
     "data": {
      "application/vnd.jupyter.widget-view+json": {
       "model_id": "dc4b458003ec4c4a8d47d8e59efef125",
       "version_major": 2,
       "version_minor": 0
      },
      "text/plain": [
       "  0%|          | 0/3 [00:00<?, ?it/s]"
      ]
     },
     "metadata": {},
     "output_type": "display_data"
    },
    {
     "data": {
      "application/vnd.jupyter.widget-view+json": {
       "model_id": "aec78b7025654dd3adbae7e60f5c4c83",
       "version_major": 2,
       "version_minor": 0
      },
      "text/plain": [
       "  0%|          | 0/3 [00:00<?, ?it/s]"
      ]
     },
     "metadata": {},
     "output_type": "display_data"
    },
    {
     "data": {
      "application/vnd.jupyter.widget-view+json": {
       "model_id": "5d74aa35457a4ce682f072f62ae394a0",
       "version_major": 2,
       "version_minor": 0
      },
      "text/plain": [
       "  0%|          | 0/3 [00:00<?, ?it/s]"
      ]
     },
     "metadata": {},
     "output_type": "display_data"
    },
    {
     "data": {
      "application/vnd.jupyter.widget-view+json": {
       "model_id": "35f056b7435347a68fe35c3699cf87a5",
       "version_major": 2,
       "version_minor": 0
      },
      "text/plain": [
       "  0%|          | 0/3 [00:00<?, ?it/s]"
      ]
     },
     "metadata": {},
     "output_type": "display_data"
    },
    {
     "data": {
      "application/vnd.jupyter.widget-view+json": {
       "model_id": "afdd52af3fb240c28156eb0ffe6ded68",
       "version_major": 2,
       "version_minor": 0
      },
      "text/plain": [
       "  0%|          | 0/3 [00:00<?, ?it/s]"
      ]
     },
     "metadata": {},
     "output_type": "display_data"
    },
    {
     "data": {
      "application/vnd.jupyter.widget-view+json": {
       "model_id": "de01afcac2624691a63828f77d20d135",
       "version_major": 2,
       "version_minor": 0
      },
      "text/plain": [
       "  0%|          | 0/3 [00:00<?, ?it/s]"
      ]
     },
     "metadata": {},
     "output_type": "display_data"
    },
    {
     "data": {
      "application/vnd.jupyter.widget-view+json": {
       "model_id": "5be47413fb1349eaaddcebe3a542f31c",
       "version_major": 2,
       "version_minor": 0
      },
      "text/plain": [
       "  0%|          | 0/3 [00:00<?, ?it/s]"
      ]
     },
     "metadata": {},
     "output_type": "display_data"
    },
    {
     "data": {
      "application/vnd.jupyter.widget-view+json": {
       "model_id": "e13b82580f0244e9b61ca8c13d2b8025",
       "version_major": 2,
       "version_minor": 0
      },
      "text/plain": [
       "  0%|          | 0/3 [00:00<?, ?it/s]"
      ]
     },
     "metadata": {},
     "output_type": "display_data"
    },
    {
     "data": {
      "application/vnd.jupyter.widget-view+json": {
       "model_id": "1237033b23914c64abb46fa9f7539456",
       "version_major": 2,
       "version_minor": 0
      },
      "text/plain": [
       "  0%|          | 0/3 [00:00<?, ?it/s]"
      ]
     },
     "metadata": {},
     "output_type": "display_data"
    },
    {
     "data": {
      "application/vnd.jupyter.widget-view+json": {
       "model_id": "ee46d9d129df4490a25a4be147d92121",
       "version_major": 2,
       "version_minor": 0
      },
      "text/plain": [
       "  0%|          | 0/3 [00:00<?, ?it/s]"
      ]
     },
     "metadata": {},
     "output_type": "display_data"
    },
    {
     "data": {
      "application/vnd.jupyter.widget-view+json": {
       "model_id": "8b60c21ffc114372bd08efe4e84986ac",
       "version_major": 2,
       "version_minor": 0
      },
      "text/plain": [
       "  0%|          | 0/3 [00:00<?, ?it/s]"
      ]
     },
     "metadata": {},
     "output_type": "display_data"
    },
    {
     "data": {
      "application/vnd.jupyter.widget-view+json": {
       "model_id": "cd44d09aad7442898b3f9cc2e45fee2a",
       "version_major": 2,
       "version_minor": 0
      },
      "text/plain": [
       "  0%|          | 0/3 [00:00<?, ?it/s]"
      ]
     },
     "metadata": {},
     "output_type": "display_data"
    },
    {
     "data": {
      "application/vnd.jupyter.widget-view+json": {
       "model_id": "1c38556dcd7942b99b32893c5cdb4f94",
       "version_major": 2,
       "version_minor": 0
      },
      "text/plain": [
       "  0%|          | 0/3 [00:00<?, ?it/s]"
      ]
     },
     "metadata": {},
     "output_type": "display_data"
    },
    {
     "data": {
      "application/vnd.jupyter.widget-view+json": {
       "model_id": "8e9e3fe554d24873ade5e930e9cc672b",
       "version_major": 2,
       "version_minor": 0
      },
      "text/plain": [
       "  0%|          | 0/3 [00:00<?, ?it/s]"
      ]
     },
     "metadata": {},
     "output_type": "display_data"
    },
    {
     "data": {
      "application/vnd.jupyter.widget-view+json": {
       "model_id": "cc3e65f92ae045a8bb1afca52d166355",
       "version_major": 2,
       "version_minor": 0
      },
      "text/plain": [
       "  0%|          | 0/3 [00:00<?, ?it/s]"
      ]
     },
     "metadata": {},
     "output_type": "display_data"
    },
    {
     "data": {
      "application/vnd.jupyter.widget-view+json": {
       "model_id": "762f2d05268d45f3a6691d2d67d492d6",
       "version_major": 2,
       "version_minor": 0
      },
      "text/plain": [
       "  0%|          | 0/3 [00:00<?, ?it/s]"
      ]
     },
     "metadata": {},
     "output_type": "display_data"
    },
    {
     "data": {
      "application/vnd.jupyter.widget-view+json": {
       "model_id": "30ca84861fa44879be92351a4a23f88f",
       "version_major": 2,
       "version_minor": 0
      },
      "text/plain": [
       "  0%|          | 0/3 [00:00<?, ?it/s]"
      ]
     },
     "metadata": {},
     "output_type": "display_data"
    },
    {
     "data": {
      "application/vnd.jupyter.widget-view+json": {
       "model_id": "7180875b15cf4497aa33a0035378d423",
       "version_major": 2,
       "version_minor": 0
      },
      "text/plain": [
       "  0%|          | 0/3 [00:00<?, ?it/s]"
      ]
     },
     "metadata": {},
     "output_type": "display_data"
    },
    {
     "data": {
      "application/vnd.jupyter.widget-view+json": {
       "model_id": "fdd2ca1126ba48d488a84a17255ebc20",
       "version_major": 2,
       "version_minor": 0
      },
      "text/plain": [
       "  0%|          | 0/3 [00:00<?, ?it/s]"
      ]
     },
     "metadata": {},
     "output_type": "display_data"
    },
    {
     "data": {
      "application/vnd.jupyter.widget-view+json": {
       "model_id": "339dc5874d1a4406bb51cac406fddd68",
       "version_major": 2,
       "version_minor": 0
      },
      "text/plain": [
       "  0%|          | 0/3 [00:00<?, ?it/s]"
      ]
     },
     "metadata": {},
     "output_type": "display_data"
    },
    {
     "data": {
      "application/vnd.jupyter.widget-view+json": {
       "model_id": "cba41b9b0b8e41c484ce64651a02c7bb",
       "version_major": 2,
       "version_minor": 0
      },
      "text/plain": [
       "  0%|          | 0/3 [00:00<?, ?it/s]"
      ]
     },
     "metadata": {},
     "output_type": "display_data"
    },
    {
     "data": {
      "application/vnd.jupyter.widget-view+json": {
       "model_id": "160f3621f04a4c0aacd075b6dc1ae085",
       "version_major": 2,
       "version_minor": 0
      },
      "text/plain": [
       "  0%|          | 0/3 [00:00<?, ?it/s]"
      ]
     },
     "metadata": {},
     "output_type": "display_data"
    },
    {
     "data": {
      "application/vnd.jupyter.widget-view+json": {
       "model_id": "f4e0b19470f841e8b00668166ce52e80",
       "version_major": 2,
       "version_minor": 0
      },
      "text/plain": [
       "  0%|          | 0/3 [00:00<?, ?it/s]"
      ]
     },
     "metadata": {},
     "output_type": "display_data"
    },
    {
     "data": {
      "application/vnd.jupyter.widget-view+json": {
       "model_id": "72a86dde607c41a2a2d90b96128fbf16",
       "version_major": 2,
       "version_minor": 0
      },
      "text/plain": [
       "  0%|          | 0/3 [00:00<?, ?it/s]"
      ]
     },
     "metadata": {},
     "output_type": "display_data"
    },
    {
     "data": {
      "application/vnd.jupyter.widget-view+json": {
       "model_id": "b3f06536739c43ef98fc4955449c06e2",
       "version_major": 2,
       "version_minor": 0
      },
      "text/plain": [
       "  0%|          | 0/3 [00:00<?, ?it/s]"
      ]
     },
     "metadata": {},
     "output_type": "display_data"
    },
    {
     "data": {
      "application/vnd.jupyter.widget-view+json": {
       "model_id": "454174572b924559bc475e8d1a6ee601",
       "version_major": 2,
       "version_minor": 0
      },
      "text/plain": [
       "  0%|          | 0/3 [00:00<?, ?it/s]"
      ]
     },
     "metadata": {},
     "output_type": "display_data"
    },
    {
     "data": {
      "application/vnd.jupyter.widget-view+json": {
       "model_id": "c3d476a1fe0b4431ae302234cf3faccd",
       "version_major": 2,
       "version_minor": 0
      },
      "text/plain": [
       "  0%|          | 0/3 [00:00<?, ?it/s]"
      ]
     },
     "metadata": {},
     "output_type": "display_data"
    },
    {
     "data": {
      "application/vnd.jupyter.widget-view+json": {
       "model_id": "88f63c54bc8440eea92bf039fde99ea5",
       "version_major": 2,
       "version_minor": 0
      },
      "text/plain": [
       "  0%|          | 0/3 [00:00<?, ?it/s]"
      ]
     },
     "metadata": {},
     "output_type": "display_data"
    },
    {
     "data": {
      "application/vnd.jupyter.widget-view+json": {
       "model_id": "8ff8692326074c80a77db7a11f5ea508",
       "version_major": 2,
       "version_minor": 0
      },
      "text/plain": [
       "  0%|          | 0/3 [00:00<?, ?it/s]"
      ]
     },
     "metadata": {},
     "output_type": "display_data"
    },
    {
     "data": {
      "application/vnd.jupyter.widget-view+json": {
       "model_id": "3ae7d7a5ef4f477d85086c4b4698e414",
       "version_major": 2,
       "version_minor": 0
      },
      "text/plain": [
       "  0%|          | 0/3 [00:00<?, ?it/s]"
      ]
     },
     "metadata": {},
     "output_type": "display_data"
    },
    {
     "data": {
      "application/vnd.jupyter.widget-view+json": {
       "model_id": "7f8eaeb40cf14b61b951841576c0e051",
       "version_major": 2,
       "version_minor": 0
      },
      "text/plain": [
       "  0%|          | 0/3 [00:00<?, ?it/s]"
      ]
     },
     "metadata": {},
     "output_type": "display_data"
    },
    {
     "data": {
      "application/vnd.jupyter.widget-view+json": {
       "model_id": "a0ef3949408747f0afff646952fbe473",
       "version_major": 2,
       "version_minor": 0
      },
      "text/plain": [
       "  0%|          | 0/3 [00:00<?, ?it/s]"
      ]
     },
     "metadata": {},
     "output_type": "display_data"
    },
    {
     "data": {
      "application/vnd.jupyter.widget-view+json": {
       "model_id": "b25597d156734045abaa4806e93d80ec",
       "version_major": 2,
       "version_minor": 0
      },
      "text/plain": [
       "  0%|          | 0/3 [00:00<?, ?it/s]"
      ]
     },
     "metadata": {},
     "output_type": "display_data"
    },
    {
     "data": {
      "application/vnd.jupyter.widget-view+json": {
       "model_id": "1305cc0763494e3faa667c5579890e8c",
       "version_major": 2,
       "version_minor": 0
      },
      "text/plain": [
       "  0%|          | 0/3 [00:00<?, ?it/s]"
      ]
     },
     "metadata": {},
     "output_type": "display_data"
    },
    {
     "data": {
      "application/vnd.jupyter.widget-view+json": {
       "model_id": "da7bc3d64f9a4393b9afb36bd7cd48c9",
       "version_major": 2,
       "version_minor": 0
      },
      "text/plain": [
       "  0%|          | 0/3 [00:00<?, ?it/s]"
      ]
     },
     "metadata": {},
     "output_type": "display_data"
    },
    {
     "data": {
      "application/vnd.jupyter.widget-view+json": {
       "model_id": "78c911ae128d4da1a2d7d5087a9b5115",
       "version_major": 2,
       "version_minor": 0
      },
      "text/plain": [
       "  0%|          | 0/3 [00:00<?, ?it/s]"
      ]
     },
     "metadata": {},
     "output_type": "display_data"
    },
    {
     "data": {
      "application/vnd.jupyter.widget-view+json": {
       "model_id": "32d6086e73ea454c9144805f72abc61d",
       "version_major": 2,
       "version_minor": 0
      },
      "text/plain": [
       "  0%|          | 0/3 [00:00<?, ?it/s]"
      ]
     },
     "metadata": {},
     "output_type": "display_data"
    },
    {
     "data": {
      "application/vnd.jupyter.widget-view+json": {
       "model_id": "591881b45c314a7e80d65dd4de4f7ecb",
       "version_major": 2,
       "version_minor": 0
      },
      "text/plain": [
       "  0%|          | 0/3 [00:00<?, ?it/s]"
      ]
     },
     "metadata": {},
     "output_type": "display_data"
    },
    {
     "data": {
      "application/vnd.jupyter.widget-view+json": {
       "model_id": "953a0529945741e8874e7c077b04997e",
       "version_major": 2,
       "version_minor": 0
      },
      "text/plain": [
       "  0%|          | 0/3 [00:00<?, ?it/s]"
      ]
     },
     "metadata": {},
     "output_type": "display_data"
    },
    {
     "data": {
      "application/vnd.jupyter.widget-view+json": {
       "model_id": "5336ea799dc14356887195cf0c3e8939",
       "version_major": 2,
       "version_minor": 0
      },
      "text/plain": [
       "  0%|          | 0/3 [00:00<?, ?it/s]"
      ]
     },
     "metadata": {},
     "output_type": "display_data"
    },
    {
     "data": {
      "application/vnd.jupyter.widget-view+json": {
       "model_id": "4c3a67d88ab4448ab328d8bbfe2d07d6",
       "version_major": 2,
       "version_minor": 0
      },
      "text/plain": [
       "  0%|          | 0/3 [00:00<?, ?it/s]"
      ]
     },
     "metadata": {},
     "output_type": "display_data"
    },
    {
     "data": {
      "application/vnd.jupyter.widget-view+json": {
       "model_id": "ac45ea0efc124283b32cf37536652791",
       "version_major": 2,
       "version_minor": 0
      },
      "text/plain": [
       "  0%|          | 0/3 [00:00<?, ?it/s]"
      ]
     },
     "metadata": {},
     "output_type": "display_data"
    },
    {
     "data": {
      "application/vnd.jupyter.widget-view+json": {
       "model_id": "57869021089f45ae91c837cd7612d8d3",
       "version_major": 2,
       "version_minor": 0
      },
      "text/plain": [
       "  0%|          | 0/3 [00:00<?, ?it/s]"
      ]
     },
     "metadata": {},
     "output_type": "display_data"
    },
    {
     "data": {
      "application/vnd.jupyter.widget-view+json": {
       "model_id": "17d59d643fd94d22bcae2d79b00e5b1f",
       "version_major": 2,
       "version_minor": 0
      },
      "text/plain": [
       "  0%|          | 0/3 [00:00<?, ?it/s]"
      ]
     },
     "metadata": {},
     "output_type": "display_data"
    },
    {
     "data": {
      "application/vnd.jupyter.widget-view+json": {
       "model_id": "e5c145b82a9f4a1cbe0fcf3fab15099c",
       "version_major": 2,
       "version_minor": 0
      },
      "text/plain": [
       "  0%|          | 0/3 [00:00<?, ?it/s]"
      ]
     },
     "metadata": {},
     "output_type": "display_data"
    },
    {
     "data": {
      "application/vnd.jupyter.widget-view+json": {
       "model_id": "4a843bda890f45c696f6efa7b537259e",
       "version_major": 2,
       "version_minor": 0
      },
      "text/plain": [
       "  0%|          | 0/3 [00:00<?, ?it/s]"
      ]
     },
     "metadata": {},
     "output_type": "display_data"
    },
    {
     "data": {
      "application/vnd.jupyter.widget-view+json": {
       "model_id": "1019eead4f2d46ec86bf6803d4be0ce8",
       "version_major": 2,
       "version_minor": 0
      },
      "text/plain": [
       "  0%|          | 0/3 [00:00<?, ?it/s]"
      ]
     },
     "metadata": {},
     "output_type": "display_data"
    },
    {
     "data": {
      "application/vnd.jupyter.widget-view+json": {
       "model_id": "033d0a727c514531b02546bf47898fac",
       "version_major": 2,
       "version_minor": 0
      },
      "text/plain": [
       "  0%|          | 0/3 [00:00<?, ?it/s]"
      ]
     },
     "metadata": {},
     "output_type": "display_data"
    },
    {
     "data": {
      "application/vnd.jupyter.widget-view+json": {
       "model_id": "f262768fb8514692b6618f7dab1f3912",
       "version_major": 2,
       "version_minor": 0
      },
      "text/plain": [
       "  0%|          | 0/3 [00:00<?, ?it/s]"
      ]
     },
     "metadata": {},
     "output_type": "display_data"
    },
    {
     "data": {
      "application/vnd.jupyter.widget-view+json": {
       "model_id": "066857fdd5184dbe910b681f93700cd7",
       "version_major": 2,
       "version_minor": 0
      },
      "text/plain": [
       "  0%|          | 0/3 [00:00<?, ?it/s]"
      ]
     },
     "metadata": {},
     "output_type": "display_data"
    },
    {
     "data": {
      "application/vnd.jupyter.widget-view+json": {
       "model_id": "062869b3ebbe49bdb6429fc47be0c34f",
       "version_major": 2,
       "version_minor": 0
      },
      "text/plain": [
       "  0%|          | 0/3 [00:00<?, ?it/s]"
      ]
     },
     "metadata": {},
     "output_type": "display_data"
    },
    {
     "data": {
      "application/vnd.jupyter.widget-view+json": {
       "model_id": "034ee3d15ee44222922d17b40631aea6",
       "version_major": 2,
       "version_minor": 0
      },
      "text/plain": [
       "  0%|          | 0/3 [00:00<?, ?it/s]"
      ]
     },
     "metadata": {},
     "output_type": "display_data"
    },
    {
     "data": {
      "application/vnd.jupyter.widget-view+json": {
       "model_id": "371b6c795ae748dab3bc1a2af8661c46",
       "version_major": 2,
       "version_minor": 0
      },
      "text/plain": [
       "  0%|          | 0/3 [00:00<?, ?it/s]"
      ]
     },
     "metadata": {},
     "output_type": "display_data"
    },
    {
     "data": {
      "application/vnd.jupyter.widget-view+json": {
       "model_id": "8207938e3b054eb5aaf83aaebb38a786",
       "version_major": 2,
       "version_minor": 0
      },
      "text/plain": [
       "  0%|          | 0/3 [00:00<?, ?it/s]"
      ]
     },
     "metadata": {},
     "output_type": "display_data"
    },
    {
     "data": {
      "application/vnd.jupyter.widget-view+json": {
       "model_id": "3a4ee77dc1a64b23bfead4ec2d5635d1",
       "version_major": 2,
       "version_minor": 0
      },
      "text/plain": [
       "  0%|          | 0/3 [00:00<?, ?it/s]"
      ]
     },
     "metadata": {},
     "output_type": "display_data"
    },
    {
     "data": {
      "application/vnd.jupyter.widget-view+json": {
       "model_id": "55649ab7d390417fbf7938cc9ab4259d",
       "version_major": 2,
       "version_minor": 0
      },
      "text/plain": [
       "  0%|          | 0/3 [00:00<?, ?it/s]"
      ]
     },
     "metadata": {},
     "output_type": "display_data"
    },
    {
     "data": {
      "application/vnd.jupyter.widget-view+json": {
       "model_id": "9291973b86cd48c0bdbcc24a3674e27d",
       "version_major": 2,
       "version_minor": 0
      },
      "text/plain": [
       "  0%|          | 0/3 [00:00<?, ?it/s]"
      ]
     },
     "metadata": {},
     "output_type": "display_data"
    },
    {
     "data": {
      "application/vnd.jupyter.widget-view+json": {
       "model_id": "290de819f3404567a42021097c23c1c7",
       "version_major": 2,
       "version_minor": 0
      },
      "text/plain": [
       "  0%|          | 0/3 [00:00<?, ?it/s]"
      ]
     },
     "metadata": {},
     "output_type": "display_data"
    },
    {
     "data": {
      "application/vnd.jupyter.widget-view+json": {
       "model_id": "edfb04ddf6cc46019e6e72e3fa364e60",
       "version_major": 2,
       "version_minor": 0
      },
      "text/plain": [
       "  0%|          | 0/3 [00:00<?, ?it/s]"
      ]
     },
     "metadata": {},
     "output_type": "display_data"
    },
    {
     "data": {
      "application/vnd.jupyter.widget-view+json": {
       "model_id": "eb1a6d4a53e04fa1bffe92387bec68bf",
       "version_major": 2,
       "version_minor": 0
      },
      "text/plain": [
       "  0%|          | 0/3 [00:00<?, ?it/s]"
      ]
     },
     "metadata": {},
     "output_type": "display_data"
    },
    {
     "data": {
      "application/vnd.jupyter.widget-view+json": {
       "model_id": "4b76e57046a74a27ae7b32a3c9cbd40f",
       "version_major": 2,
       "version_minor": 0
      },
      "text/plain": [
       "  0%|          | 0/3 [00:00<?, ?it/s]"
      ]
     },
     "metadata": {},
     "output_type": "display_data"
    },
    {
     "data": {
      "application/vnd.jupyter.widget-view+json": {
       "model_id": "2a9cffbbc8d24a2494851261d21aca82",
       "version_major": 2,
       "version_minor": 0
      },
      "text/plain": [
       "  0%|          | 0/3 [00:00<?, ?it/s]"
      ]
     },
     "metadata": {},
     "output_type": "display_data"
    },
    {
     "data": {
      "application/vnd.jupyter.widget-view+json": {
       "model_id": "b620fbc240434bf08cbaf6b2178a539d",
       "version_major": 2,
       "version_minor": 0
      },
      "text/plain": [
       "  0%|          | 0/3 [00:00<?, ?it/s]"
      ]
     },
     "metadata": {},
     "output_type": "display_data"
    },
    {
     "data": {
      "application/vnd.jupyter.widget-view+json": {
       "model_id": "aefc462d22874d1989f906b95216f717",
       "version_major": 2,
       "version_minor": 0
      },
      "text/plain": [
       "  0%|          | 0/3 [00:00<?, ?it/s]"
      ]
     },
     "metadata": {},
     "output_type": "display_data"
    },
    {
     "data": {
      "application/vnd.jupyter.widget-view+json": {
       "model_id": "f8baee07285d4871a861c88b542261e8",
       "version_major": 2,
       "version_minor": 0
      },
      "text/plain": [
       "  0%|          | 0/3 [00:00<?, ?it/s]"
      ]
     },
     "metadata": {},
     "output_type": "display_data"
    },
    {
     "data": {
      "application/vnd.jupyter.widget-view+json": {
       "model_id": "e504ca7d3c8641498e4efa055d364386",
       "version_major": 2,
       "version_minor": 0
      },
      "text/plain": [
       "  0%|          | 0/3 [00:00<?, ?it/s]"
      ]
     },
     "metadata": {},
     "output_type": "display_data"
    },
    {
     "data": {
      "application/vnd.jupyter.widget-view+json": {
       "model_id": "aed010274db84431a59f74f8061cdec2",
       "version_major": 2,
       "version_minor": 0
      },
      "text/plain": [
       "  0%|          | 0/3 [00:00<?, ?it/s]"
      ]
     },
     "metadata": {},
     "output_type": "display_data"
    },
    {
     "data": {
      "application/vnd.jupyter.widget-view+json": {
       "model_id": "0833d4d8b7f449829f434d61ebf4f70b",
       "version_major": 2,
       "version_minor": 0
      },
      "text/plain": [
       "  0%|          | 0/3 [00:00<?, ?it/s]"
      ]
     },
     "metadata": {},
     "output_type": "display_data"
    },
    {
     "data": {
      "application/vnd.jupyter.widget-view+json": {
       "model_id": "c43d5bcd4db54b7fa4bd4e8a337a09c3",
       "version_major": 2,
       "version_minor": 0
      },
      "text/plain": [
       "  0%|          | 0/3 [00:00<?, ?it/s]"
      ]
     },
     "metadata": {},
     "output_type": "display_data"
    },
    {
     "data": {
      "application/vnd.jupyter.widget-view+json": {
       "model_id": "0d40b932aca342d5ab92ffabc5df3751",
       "version_major": 2,
       "version_minor": 0
      },
      "text/plain": [
       "  0%|          | 0/3 [00:00<?, ?it/s]"
      ]
     },
     "metadata": {},
     "output_type": "display_data"
    },
    {
     "data": {
      "application/vnd.jupyter.widget-view+json": {
       "model_id": "e755f4260de64ae7a6966bb0ef093dc0",
       "version_major": 2,
       "version_minor": 0
      },
      "text/plain": [
       "  0%|          | 0/3 [00:00<?, ?it/s]"
      ]
     },
     "metadata": {},
     "output_type": "display_data"
    },
    {
     "data": {
      "application/vnd.jupyter.widget-view+json": {
       "model_id": "2b41ad3954c348159b856b7e30e5d6af",
       "version_major": 2,
       "version_minor": 0
      },
      "text/plain": [
       "  0%|          | 0/3 [00:00<?, ?it/s]"
      ]
     },
     "metadata": {},
     "output_type": "display_data"
    },
    {
     "data": {
      "application/vnd.jupyter.widget-view+json": {
       "model_id": "b4f3734856fe4035ac92f270d735282c",
       "version_major": 2,
       "version_minor": 0
      },
      "text/plain": [
       "  0%|          | 0/3 [00:00<?, ?it/s]"
      ]
     },
     "metadata": {},
     "output_type": "display_data"
    },
    {
     "data": {
      "application/vnd.jupyter.widget-view+json": {
       "model_id": "a9ba6d7a1ecf4ad9ac3759896bc5ecef",
       "version_major": 2,
       "version_minor": 0
      },
      "text/plain": [
       "  0%|          | 0/3 [00:00<?, ?it/s]"
      ]
     },
     "metadata": {},
     "output_type": "display_data"
    },
    {
     "data": {
      "application/vnd.jupyter.widget-view+json": {
       "model_id": "ba7ebd3a4b014bb19a3fbeb0a352d301",
       "version_major": 2,
       "version_minor": 0
      },
      "text/plain": [
       "  0%|          | 0/3 [00:00<?, ?it/s]"
      ]
     },
     "metadata": {},
     "output_type": "display_data"
    },
    {
     "data": {
      "application/vnd.jupyter.widget-view+json": {
       "model_id": "5f19fc9599f3472db7b35e08f58bdefb",
       "version_major": 2,
       "version_minor": 0
      },
      "text/plain": [
       "  0%|          | 0/3 [00:00<?, ?it/s]"
      ]
     },
     "metadata": {},
     "output_type": "display_data"
    },
    {
     "data": {
      "application/vnd.jupyter.widget-view+json": {
       "model_id": "809ffa94dc314ce1b2416349ee87686b",
       "version_major": 2,
       "version_minor": 0
      },
      "text/plain": [
       "  0%|          | 0/3 [00:00<?, ?it/s]"
      ]
     },
     "metadata": {},
     "output_type": "display_data"
    },
    {
     "data": {
      "application/vnd.jupyter.widget-view+json": {
       "model_id": "b54522119741438ba2fb1bf773a7759c",
       "version_major": 2,
       "version_minor": 0
      },
      "text/plain": [
       "  0%|          | 0/3 [00:00<?, ?it/s]"
      ]
     },
     "metadata": {},
     "output_type": "display_data"
    },
    {
     "data": {
      "application/vnd.jupyter.widget-view+json": {
       "model_id": "0b574c2d77a64c65bb8e6342a2ffac6e",
       "version_major": 2,
       "version_minor": 0
      },
      "text/plain": [
       "  0%|          | 0/3 [00:00<?, ?it/s]"
      ]
     },
     "metadata": {},
     "output_type": "display_data"
    },
    {
     "data": {
      "application/vnd.jupyter.widget-view+json": {
       "model_id": "aac63b3da049483ea6d2c940e9b05d04",
       "version_major": 2,
       "version_minor": 0
      },
      "text/plain": [
       "  0%|          | 0/3 [00:00<?, ?it/s]"
      ]
     },
     "metadata": {},
     "output_type": "display_data"
    },
    {
     "data": {
      "application/vnd.jupyter.widget-view+json": {
       "model_id": "4f3bd39dc27d4d06a6d4dc0f59bdecae",
       "version_major": 2,
       "version_minor": 0
      },
      "text/plain": [
       "  0%|          | 0/3 [00:00<?, ?it/s]"
      ]
     },
     "metadata": {},
     "output_type": "display_data"
    },
    {
     "data": {
      "application/vnd.jupyter.widget-view+json": {
       "model_id": "ac0c3fd5818d44e69196ba7bf8eb3901",
       "version_major": 2,
       "version_minor": 0
      },
      "text/plain": [
       "  0%|          | 0/3 [00:00<?, ?it/s]"
      ]
     },
     "metadata": {},
     "output_type": "display_data"
    },
    {
     "data": {
      "application/vnd.jupyter.widget-view+json": {
       "model_id": "2f632d1688604b5dbc427fcad901abad",
       "version_major": 2,
       "version_minor": 0
      },
      "text/plain": [
       "  0%|          | 0/3 [00:00<?, ?it/s]"
      ]
     },
     "metadata": {},
     "output_type": "display_data"
    },
    {
     "data": {
      "application/vnd.jupyter.widget-view+json": {
       "model_id": "507fbd8ceea14ca4953ae32214e28322",
       "version_major": 2,
       "version_minor": 0
      },
      "text/plain": [
       "  0%|          | 0/3 [00:00<?, ?it/s]"
      ]
     },
     "metadata": {},
     "output_type": "display_data"
    },
    {
     "data": {
      "application/vnd.jupyter.widget-view+json": {
       "model_id": "44184c96c07f490496dc6f617cbce64e",
       "version_major": 2,
       "version_minor": 0
      },
      "text/plain": [
       "  0%|          | 0/3 [00:00<?, ?it/s]"
      ]
     },
     "metadata": {},
     "output_type": "display_data"
    },
    {
     "data": {
      "application/vnd.jupyter.widget-view+json": {
       "model_id": "6a66ca2175fb4ed7931ab6a0ad9b6beb",
       "version_major": 2,
       "version_minor": 0
      },
      "text/plain": [
       "  0%|          | 0/3 [00:00<?, ?it/s]"
      ]
     },
     "metadata": {},
     "output_type": "display_data"
    },
    {
     "data": {
      "application/vnd.jupyter.widget-view+json": {
       "model_id": "15b1965c9ea443b581fbc3b349ef1880",
       "version_major": 2,
       "version_minor": 0
      },
      "text/plain": [
       "  0%|          | 0/3 [00:00<?, ?it/s]"
      ]
     },
     "metadata": {},
     "output_type": "display_data"
    },
    {
     "data": {
      "application/vnd.jupyter.widget-view+json": {
       "model_id": "3a6ecb6f676e4851a88e7bdc4346660c",
       "version_major": 2,
       "version_minor": 0
      },
      "text/plain": [
       "  0%|          | 0/3 [00:00<?, ?it/s]"
      ]
     },
     "metadata": {},
     "output_type": "display_data"
    },
    {
     "data": {
      "application/vnd.jupyter.widget-view+json": {
       "model_id": "791d1ad4bc304103a2a94194ea7a26b9",
       "version_major": 2,
       "version_minor": 0
      },
      "text/plain": [
       "  0%|          | 0/3 [00:00<?, ?it/s]"
      ]
     },
     "metadata": {},
     "output_type": "display_data"
    },
    {
     "data": {
      "application/vnd.jupyter.widget-view+json": {
       "model_id": "aa3e7d6ed8fd463c9e61e8324a290d55",
       "version_major": 2,
       "version_minor": 0
      },
      "text/plain": [
       "  0%|          | 0/3 [00:00<?, ?it/s]"
      ]
     },
     "metadata": {},
     "output_type": "display_data"
    },
    {
     "data": {
      "application/vnd.jupyter.widget-view+json": {
       "model_id": "512aa71b694f46e4a49091a7f361cfc2",
       "version_major": 2,
       "version_minor": 0
      },
      "text/plain": [
       "  0%|          | 0/3 [00:00<?, ?it/s]"
      ]
     },
     "metadata": {},
     "output_type": "display_data"
    },
    {
     "data": {
      "application/vnd.jupyter.widget-view+json": {
       "model_id": "050c1b3ff3d04d27a561dfd62495f11b",
       "version_major": 2,
       "version_minor": 0
      },
      "text/plain": [
       "  0%|          | 0/3 [00:00<?, ?it/s]"
      ]
     },
     "metadata": {},
     "output_type": "display_data"
    },
    {
     "data": {
      "application/vnd.jupyter.widget-view+json": {
       "model_id": "ba489d64994c49aa80085e03f1ccd8f8",
       "version_major": 2,
       "version_minor": 0
      },
      "text/plain": [
       "  0%|          | 0/3 [00:00<?, ?it/s]"
      ]
     },
     "metadata": {},
     "output_type": "display_data"
    },
    {
     "data": {
      "application/vnd.jupyter.widget-view+json": {
       "model_id": "e77e7db6c60e4b56928e85a9bc7a1927",
       "version_major": 2,
       "version_minor": 0
      },
      "text/plain": [
       "  0%|          | 0/3 [00:00<?, ?it/s]"
      ]
     },
     "metadata": {},
     "output_type": "display_data"
    },
    {
     "data": {
      "application/vnd.jupyter.widget-view+json": {
       "model_id": "f3144792c84f4ef49403c7fb08f2c88f",
       "version_major": 2,
       "version_minor": 0
      },
      "text/plain": [
       "  0%|          | 0/3 [00:00<?, ?it/s]"
      ]
     },
     "metadata": {},
     "output_type": "display_data"
    },
    {
     "data": {
      "application/vnd.jupyter.widget-view+json": {
       "model_id": "b28d6583ecfa4832a249ae87fe7d9f3a",
       "version_major": 2,
       "version_minor": 0
      },
      "text/plain": [
       "  0%|          | 0/3 [00:00<?, ?it/s]"
      ]
     },
     "metadata": {},
     "output_type": "display_data"
    },
    {
     "data": {
      "application/vnd.jupyter.widget-view+json": {
       "model_id": "f8538fea3cf742a8a59aa1fa94d4630f",
       "version_major": 2,
       "version_minor": 0
      },
      "text/plain": [
       "  0%|          | 0/3 [00:00<?, ?it/s]"
      ]
     },
     "metadata": {},
     "output_type": "display_data"
    },
    {
     "data": {
      "application/vnd.jupyter.widget-view+json": {
       "model_id": "d916a1954d0d4988931056200123df55",
       "version_major": 2,
       "version_minor": 0
      },
      "text/plain": [
       "  0%|          | 0/3 [00:00<?, ?it/s]"
      ]
     },
     "metadata": {},
     "output_type": "display_data"
    },
    {
     "data": {
      "application/vnd.jupyter.widget-view+json": {
       "model_id": "22bcd574998845c08510f1b283116fb4",
       "version_major": 2,
       "version_minor": 0
      },
      "text/plain": [
       "  0%|          | 0/3 [00:00<?, ?it/s]"
      ]
     },
     "metadata": {},
     "output_type": "display_data"
    },
    {
     "data": {
      "application/vnd.jupyter.widget-view+json": {
       "model_id": "a8cc11e92f594e119b73a9e87707b17e",
       "version_major": 2,
       "version_minor": 0
      },
      "text/plain": [
       "  0%|          | 0/3 [00:00<?, ?it/s]"
      ]
     },
     "metadata": {},
     "output_type": "display_data"
    },
    {
     "data": {
      "application/vnd.jupyter.widget-view+json": {
       "model_id": "c080cf30d1834b72b986060edca0903d",
       "version_major": 2,
       "version_minor": 0
      },
      "text/plain": [
       "  0%|          | 0/3 [00:00<?, ?it/s]"
      ]
     },
     "metadata": {},
     "output_type": "display_data"
    },
    {
     "data": {
      "application/vnd.jupyter.widget-view+json": {
       "model_id": "faa7104836db4b3080c881bd992fb334",
       "version_major": 2,
       "version_minor": 0
      },
      "text/plain": [
       "  0%|          | 0/3 [00:00<?, ?it/s]"
      ]
     },
     "metadata": {},
     "output_type": "display_data"
    },
    {
     "data": {
      "application/vnd.jupyter.widget-view+json": {
       "model_id": "0770be547a2e4148acd34fd095c8a927",
       "version_major": 2,
       "version_minor": 0
      },
      "text/plain": [
       "  0%|          | 0/3 [00:00<?, ?it/s]"
      ]
     },
     "metadata": {},
     "output_type": "display_data"
    },
    {
     "data": {
      "application/vnd.jupyter.widget-view+json": {
       "model_id": "1271c83fd93b45ffa14e569783ab66aa",
       "version_major": 2,
       "version_minor": 0
      },
      "text/plain": [
       "  0%|          | 0/3 [00:00<?, ?it/s]"
      ]
     },
     "metadata": {},
     "output_type": "display_data"
    },
    {
     "data": {
      "application/vnd.jupyter.widget-view+json": {
       "model_id": "13fef0e4e5c64951b1f96f31a978a398",
       "version_major": 2,
       "version_minor": 0
      },
      "text/plain": [
       "  0%|          | 0/3 [00:00<?, ?it/s]"
      ]
     },
     "metadata": {},
     "output_type": "display_data"
    },
    {
     "data": {
      "application/vnd.jupyter.widget-view+json": {
       "model_id": "7739b2be737d4e418070ab061f9856f2",
       "version_major": 2,
       "version_minor": 0
      },
      "text/plain": [
       "  0%|          | 0/3 [00:00<?, ?it/s]"
      ]
     },
     "metadata": {},
     "output_type": "display_data"
    },
    {
     "data": {
      "application/vnd.jupyter.widget-view+json": {
       "model_id": "9bcae1e9af334c7390ff3be2b06d5847",
       "version_major": 2,
       "version_minor": 0
      },
      "text/plain": [
       "  0%|          | 0/3 [00:00<?, ?it/s]"
      ]
     },
     "metadata": {},
     "output_type": "display_data"
    },
    {
     "data": {
      "application/vnd.jupyter.widget-view+json": {
       "model_id": "9284e71506ce4ab8afd6e20ca117e991",
       "version_major": 2,
       "version_minor": 0
      },
      "text/plain": [
       "  0%|          | 0/3 [00:00<?, ?it/s]"
      ]
     },
     "metadata": {},
     "output_type": "display_data"
    },
    {
     "data": {
      "application/vnd.jupyter.widget-view+json": {
       "model_id": "ecfe50c983af43348434d0932fa7ee72",
       "version_major": 2,
       "version_minor": 0
      },
      "text/plain": [
       "  0%|          | 0/3 [00:00<?, ?it/s]"
      ]
     },
     "metadata": {},
     "output_type": "display_data"
    },
    {
     "data": {
      "application/vnd.jupyter.widget-view+json": {
       "model_id": "f5158bd453da4cf18028f0b383eb110a",
       "version_major": 2,
       "version_minor": 0
      },
      "text/plain": [
       "  0%|          | 0/3 [00:00<?, ?it/s]"
      ]
     },
     "metadata": {},
     "output_type": "display_data"
    },
    {
     "data": {
      "application/vnd.jupyter.widget-view+json": {
       "model_id": "866121a6e9384b3bb37c3de1bc0fe759",
       "version_major": 2,
       "version_minor": 0
      },
      "text/plain": [
       "  0%|          | 0/3 [00:00<?, ?it/s]"
      ]
     },
     "metadata": {},
     "output_type": "display_data"
    },
    {
     "data": {
      "application/vnd.jupyter.widget-view+json": {
       "model_id": "6184acf2aa29446ea055ceca45240f3e",
       "version_major": 2,
       "version_minor": 0
      },
      "text/plain": [
       "  0%|          | 0/3 [00:00<?, ?it/s]"
      ]
     },
     "metadata": {},
     "output_type": "display_data"
    },
    {
     "data": {
      "application/vnd.jupyter.widget-view+json": {
       "model_id": "10b30fc63f8c48a094a99897cc9ae57c",
       "version_major": 2,
       "version_minor": 0
      },
      "text/plain": [
       "  0%|          | 0/3 [00:00<?, ?it/s]"
      ]
     },
     "metadata": {},
     "output_type": "display_data"
    },
    {
     "data": {
      "application/vnd.jupyter.widget-view+json": {
       "model_id": "96662d60d19c494fa61174d95fd68f91",
       "version_major": 2,
       "version_minor": 0
      },
      "text/plain": [
       "  0%|          | 0/3 [00:00<?, ?it/s]"
      ]
     },
     "metadata": {},
     "output_type": "display_data"
    },
    {
     "data": {
      "application/vnd.jupyter.widget-view+json": {
       "model_id": "4597489970754c35aecd07ab8cfb8f18",
       "version_major": 2,
       "version_minor": 0
      },
      "text/plain": [
       "  0%|          | 0/3 [00:00<?, ?it/s]"
      ]
     },
     "metadata": {},
     "output_type": "display_data"
    },
    {
     "data": {
      "application/vnd.jupyter.widget-view+json": {
       "model_id": "41a2e5867e224ff59276c78552ca657c",
       "version_major": 2,
       "version_minor": 0
      },
      "text/plain": [
       "  0%|          | 0/3 [00:00<?, ?it/s]"
      ]
     },
     "metadata": {},
     "output_type": "display_data"
    },
    {
     "data": {
      "application/vnd.jupyter.widget-view+json": {
       "model_id": "f759539ebca047b1b8b25e46b2714296",
       "version_major": 2,
       "version_minor": 0
      },
      "text/plain": [
       "  0%|          | 0/3 [00:00<?, ?it/s]"
      ]
     },
     "metadata": {},
     "output_type": "display_data"
    },
    {
     "data": {
      "application/vnd.jupyter.widget-view+json": {
       "model_id": "d543cac2d5e441f4bb679e3547e910e2",
       "version_major": 2,
       "version_minor": 0
      },
      "text/plain": [
       "  0%|          | 0/3 [00:00<?, ?it/s]"
      ]
     },
     "metadata": {},
     "output_type": "display_data"
    },
    {
     "data": {
      "application/vnd.jupyter.widget-view+json": {
       "model_id": "30c127efb9ad41b0a97ce9b9caa20a35",
       "version_major": 2,
       "version_minor": 0
      },
      "text/plain": [
       "  0%|          | 0/3 [00:00<?, ?it/s]"
      ]
     },
     "metadata": {},
     "output_type": "display_data"
    },
    {
     "data": {
      "application/vnd.jupyter.widget-view+json": {
       "model_id": "d36a4d7ddc034f238424082739da2626",
       "version_major": 2,
       "version_minor": 0
      },
      "text/plain": [
       "  0%|          | 0/3 [00:00<?, ?it/s]"
      ]
     },
     "metadata": {},
     "output_type": "display_data"
    },
    {
     "data": {
      "application/vnd.jupyter.widget-view+json": {
       "model_id": "90fd2442ae20437aab7d78d1b0815153",
       "version_major": 2,
       "version_minor": 0
      },
      "text/plain": [
       "  0%|          | 0/3 [00:00<?, ?it/s]"
      ]
     },
     "metadata": {},
     "output_type": "display_data"
    },
    {
     "data": {
      "application/vnd.jupyter.widget-view+json": {
       "model_id": "2002a3af7d48469994171be70ad646f5",
       "version_major": 2,
       "version_minor": 0
      },
      "text/plain": [
       "  0%|          | 0/3 [00:00<?, ?it/s]"
      ]
     },
     "metadata": {},
     "output_type": "display_data"
    },
    {
     "data": {
      "application/vnd.jupyter.widget-view+json": {
       "model_id": "6482e847695040e7b76b4f6a33d13d1b",
       "version_major": 2,
       "version_minor": 0
      },
      "text/plain": [
       "  0%|          | 0/3 [00:00<?, ?it/s]"
      ]
     },
     "metadata": {},
     "output_type": "display_data"
    },
    {
     "data": {
      "application/vnd.jupyter.widget-view+json": {
       "model_id": "77cc62ecc7094f9baf1cf728d7a15f4a",
       "version_major": 2,
       "version_minor": 0
      },
      "text/plain": [
       "  0%|          | 0/3 [00:00<?, ?it/s]"
      ]
     },
     "metadata": {},
     "output_type": "display_data"
    },
    {
     "data": {
      "application/vnd.jupyter.widget-view+json": {
       "model_id": "e361a6f598e24419be6837f92e25c642",
       "version_major": 2,
       "version_minor": 0
      },
      "text/plain": [
       "  0%|          | 0/3 [00:00<?, ?it/s]"
      ]
     },
     "metadata": {},
     "output_type": "display_data"
    },
    {
     "data": {
      "application/vnd.jupyter.widget-view+json": {
       "model_id": "4c0ae3227aff4ea680a7d383116afea9",
       "version_major": 2,
       "version_minor": 0
      },
      "text/plain": [
       "  0%|          | 0/3 [00:00<?, ?it/s]"
      ]
     },
     "metadata": {},
     "output_type": "display_data"
    },
    {
     "data": {
      "application/vnd.jupyter.widget-view+json": {
       "model_id": "3b6d9c84a43b4d2382eaf8f45c425cf7",
       "version_major": 2,
       "version_minor": 0
      },
      "text/plain": [
       "  0%|          | 0/3 [00:00<?, ?it/s]"
      ]
     },
     "metadata": {},
     "output_type": "display_data"
    },
    {
     "data": {
      "application/vnd.jupyter.widget-view+json": {
       "model_id": "e472cca8240a4a2f9e9dbb4ed0727eb8",
       "version_major": 2,
       "version_minor": 0
      },
      "text/plain": [
       "  0%|          | 0/3 [00:00<?, ?it/s]"
      ]
     },
     "metadata": {},
     "output_type": "display_data"
    },
    {
     "data": {
      "application/vnd.jupyter.widget-view+json": {
       "model_id": "42caf31b0d034390b9103e559d526b5a",
       "version_major": 2,
       "version_minor": 0
      },
      "text/plain": [
       "  0%|          | 0/3 [00:00<?, ?it/s]"
      ]
     },
     "metadata": {},
     "output_type": "display_data"
    },
    {
     "data": {
      "application/vnd.jupyter.widget-view+json": {
       "model_id": "f0b1ef8aa0b94dda84847029f36c903e",
       "version_major": 2,
       "version_minor": 0
      },
      "text/plain": [
       "  0%|          | 0/3 [00:00<?, ?it/s]"
      ]
     },
     "metadata": {},
     "output_type": "display_data"
    },
    {
     "data": {
      "application/vnd.jupyter.widget-view+json": {
       "model_id": "8553facfccda455388077ca52f960f1e",
       "version_major": 2,
       "version_minor": 0
      },
      "text/plain": [
       "  0%|          | 0/3 [00:00<?, ?it/s]"
      ]
     },
     "metadata": {},
     "output_type": "display_data"
    },
    {
     "data": {
      "application/vnd.jupyter.widget-view+json": {
       "model_id": "234db6ad19a94396b8484cc4f427e666",
       "version_major": 2,
       "version_minor": 0
      },
      "text/plain": [
       "  0%|          | 0/3 [00:00<?, ?it/s]"
      ]
     },
     "metadata": {},
     "output_type": "display_data"
    },
    {
     "data": {
      "application/vnd.jupyter.widget-view+json": {
       "model_id": "08d1638e722e4c44bbb0c9eeda45976b",
       "version_major": 2,
       "version_minor": 0
      },
      "text/plain": [
       "  0%|          | 0/3 [00:00<?, ?it/s]"
      ]
     },
     "metadata": {},
     "output_type": "display_data"
    },
    {
     "data": {
      "application/vnd.jupyter.widget-view+json": {
       "model_id": "ff6fdb9cf595454f9c373c5e7892d491",
       "version_major": 2,
       "version_minor": 0
      },
      "text/plain": [
       "  0%|          | 0/3 [00:00<?, ?it/s]"
      ]
     },
     "metadata": {},
     "output_type": "display_data"
    },
    {
     "data": {
      "application/vnd.jupyter.widget-view+json": {
       "model_id": "2612587a48e343c583a65737643695a1",
       "version_major": 2,
       "version_minor": 0
      },
      "text/plain": [
       "  0%|          | 0/3 [00:00<?, ?it/s]"
      ]
     },
     "metadata": {},
     "output_type": "display_data"
    },
    {
     "data": {
      "application/vnd.jupyter.widget-view+json": {
       "model_id": "e5638526b7a44390811da11fd0ee6f3c",
       "version_major": 2,
       "version_minor": 0
      },
      "text/plain": [
       "  0%|          | 0/3 [00:00<?, ?it/s]"
      ]
     },
     "metadata": {},
     "output_type": "display_data"
    },
    {
     "data": {
      "application/vnd.jupyter.widget-view+json": {
       "model_id": "417da2f6c1c742c28fe2c7ad5fc6a668",
       "version_major": 2,
       "version_minor": 0
      },
      "text/plain": [
       "  0%|          | 0/3 [00:00<?, ?it/s]"
      ]
     },
     "metadata": {},
     "output_type": "display_data"
    },
    {
     "data": {
      "application/vnd.jupyter.widget-view+json": {
       "model_id": "a58a7e2d040549dabcba5220a53a0c2d",
       "version_major": 2,
       "version_minor": 0
      },
      "text/plain": [
       "  0%|          | 0/3 [00:00<?, ?it/s]"
      ]
     },
     "metadata": {},
     "output_type": "display_data"
    },
    {
     "data": {
      "application/vnd.jupyter.widget-view+json": {
       "model_id": "1c23c145516345129c464b9078426eb1",
       "version_major": 2,
       "version_minor": 0
      },
      "text/plain": [
       "  0%|          | 0/3 [00:00<?, ?it/s]"
      ]
     },
     "metadata": {},
     "output_type": "display_data"
    }
   ],
   "source": [
    "from sklearn.utils import resample\n",
    "import pandas as pd\n",
    "import numpy as np\n",
    "from tqdm.notebook import tqdm\n",
    "\n",
    "N = 140\n",
    "t = len(nltk.word_tokenize(sample_doc))\n",
    "df = pd.DataFrame(columns=microframes)\n",
    "\n",
    "for i in tqdm(range(N)):\n",
    "    s = ' '.join(resample(T, replace=True, n_samples=t))\n",
    "    biases = bias(s, frame=microframes)\n",
    "        \n",
    "    df.loc[i] = biases\n",
    "\n",
    "# import pickle\n",
    "# pickle.dump( df, open( \"Download/sample_biases_df.pickle\", \"wb\" ) )"
   ]
  },
  {
   "cell_type": "code",
   "execution_count": 71,
   "metadata": {},
   "outputs": [
    {
     "data": {
      "text/html": [
       "<div>\n",
       "<style scoped>\n",
       "    .dataframe tbody tr th:only-of-type {\n",
       "        vertical-align: middle;\n",
       "    }\n",
       "\n",
       "    .dataframe tbody tr th {\n",
       "        vertical-align: top;\n",
       "    }\n",
       "\n",
       "    .dataframe thead tr th {\n",
       "        text-align: left;\n",
       "    }\n",
       "</style>\n",
       "<table border=\"1\" class=\"dataframe\">\n",
       "  <thead>\n",
       "    <tr>\n",
       "      <th></th>\n",
       "      <th>man</th>\n",
       "      <th>creepy</th>\n",
       "      <th>human</th>\n",
       "    </tr>\n",
       "    <tr>\n",
       "      <th></th>\n",
       "      <th>woman</th>\n",
       "      <th>pleasant</th>\n",
       "      <th>nonhuman</th>\n",
       "    </tr>\n",
       "  </thead>\n",
       "  <tbody>\n",
       "    <tr>\n",
       "      <th>0</th>\n",
       "      <td>-0.036779</td>\n",
       "      <td>0.045565</td>\n",
       "      <td>-0.357121</td>\n",
       "    </tr>\n",
       "    <tr>\n",
       "      <th>1</th>\n",
       "      <td>-0.037995</td>\n",
       "      <td>0.049996</td>\n",
       "      <td>-0.353584</td>\n",
       "    </tr>\n",
       "    <tr>\n",
       "      <th>2</th>\n",
       "      <td>-0.026426</td>\n",
       "      <td>0.044231</td>\n",
       "      <td>-0.347726</td>\n",
       "    </tr>\n",
       "    <tr>\n",
       "      <th>3</th>\n",
       "      <td>-0.028199</td>\n",
       "      <td>0.050562</td>\n",
       "      <td>-0.330185</td>\n",
       "    </tr>\n",
       "    <tr>\n",
       "      <th>4</th>\n",
       "      <td>-0.031033</td>\n",
       "      <td>0.042708</td>\n",
       "      <td>-0.344572</td>\n",
       "    </tr>\n",
       "    <tr>\n",
       "      <th>...</th>\n",
       "      <td>...</td>\n",
       "      <td>...</td>\n",
       "      <td>...</td>\n",
       "    </tr>\n",
       "    <tr>\n",
       "      <th>135</th>\n",
       "      <td>-0.025431</td>\n",
       "      <td>0.048873</td>\n",
       "      <td>-0.349170</td>\n",
       "    </tr>\n",
       "    <tr>\n",
       "      <th>136</th>\n",
       "      <td>-0.031482</td>\n",
       "      <td>0.051112</td>\n",
       "      <td>-0.359157</td>\n",
       "    </tr>\n",
       "    <tr>\n",
       "      <th>137</th>\n",
       "      <td>-0.024772</td>\n",
       "      <td>0.045595</td>\n",
       "      <td>-0.343701</td>\n",
       "    </tr>\n",
       "    <tr>\n",
       "      <th>138</th>\n",
       "      <td>-0.014855</td>\n",
       "      <td>0.063317</td>\n",
       "      <td>-0.345282</td>\n",
       "    </tr>\n",
       "    <tr>\n",
       "      <th>139</th>\n",
       "      <td>-0.023761</td>\n",
       "      <td>0.045136</td>\n",
       "      <td>-0.350696</td>\n",
       "    </tr>\n",
       "  </tbody>\n",
       "</table>\n",
       "<p>140 rows × 3 columns</p>\n",
       "</div>"
      ],
      "text/plain": [
       "          man    creepy     human\n",
       "        woman  pleasant  nonhuman\n",
       "0   -0.036779  0.045565 -0.357121\n",
       "1   -0.037995  0.049996 -0.353584\n",
       "2   -0.026426  0.044231 -0.347726\n",
       "3   -0.028199  0.050562 -0.330185\n",
       "4   -0.031033  0.042708 -0.344572\n",
       "..        ...       ...       ...\n",
       "135 -0.025431  0.048873 -0.349170\n",
       "136 -0.031482  0.051112 -0.359157\n",
       "137 -0.024772  0.045595 -0.343701\n",
       "138 -0.014855  0.063317 -0.345282\n",
       "139 -0.023761  0.045136 -0.350696\n",
       "\n",
       "[140 rows x 3 columns]"
      ]
     },
     "execution_count": 71,
     "metadata": {},
     "output_type": "execute_result"
    }
   ],
   "source": [
    "sample_biases_df = df\n",
    "sample_biases_df"
   ]
  },
  {
   "cell_type": "code",
   "execution_count": 72,
   "metadata": {},
   "outputs": [
    {
     "data": {
      "application/vnd.jupyter.widget-view+json": {
       "model_id": "241e80fcf68c4f8bac25a7ae056abad4",
       "version_major": 2,
       "version_minor": 0
      },
      "text/plain": [
       "  0%|          | 0/3 [00:00<?, ?it/s]"
      ]
     },
     "metadata": {},
     "output_type": "display_data"
    },
    {
     "data": {
      "text/plain": [
       "array([-0.02326027,  0.05281185, -0.35184012])"
      ]
     },
     "execution_count": 72,
     "metadata": {},
     "output_type": "execute_result"
    }
   ],
   "source": [
    "sample_bias = bias(sample_doc, frame=microframes)\n",
    "sample_bias"
   ]
  },
  {
   "cell_type": "code",
   "execution_count": 73,
   "metadata": {},
   "outputs": [],
   "source": [
    "sample_boot_bias = sample_biases_df.mean(axis=0).to_numpy()"
   ]
  },
  {
   "cell_type": "code",
   "execution_count": 74,
   "metadata": {},
   "outputs": [],
   "source": [
    "from operator import itemgetter\n",
    "rank = itemgetter(*np.argsort(- sample_bias + sample_boot_bias))(list(microframes))"
   ]
  },
  {
   "cell_type": "code",
   "execution_count": 66,
   "metadata": {},
   "outputs": [
    {
     "data": {
      "text/plain": [
       "array([-0.00309378,  0.00473373])"
      ]
     },
     "execution_count": 66,
     "metadata": {},
     "output_type": "execute_result"
    }
   ],
   "source": [
    "sample_bias-sample_boot_bias"
   ]
  },
  {
   "cell_type": "code",
   "execution_count": 49,
   "metadata": {},
   "outputs": [
    {
     "data": {
      "text/plain": [
       "('abc', 'eed')"
      ]
     },
     "execution_count": 49,
     "metadata": {},
     "output_type": "execute_result"
    }
   ],
   "source": [
    "tuple(sorted(('eed','abc')))"
   ]
  },
  {
   "cell_type": "code",
   "execution_count": 50,
   "metadata": {},
   "outputs": [],
   "source": [
    "new_rank = []\n",
    "for ant1, ant2 in rank:\n",
    "    new_rank.append(tuple(sorted((ant1,ant2))))"
   ]
  },
  {
   "cell_type": "code",
   "execution_count": 51,
   "metadata": {},
   "outputs": [
    {
     "data": {
      "text/plain": [
       "2"
      ]
     },
     "execution_count": 51,
     "metadata": {},
     "output_type": "execute_result"
    }
   ],
   "source": [
    "len(new_rank)"
   ]
  },
  {
   "cell_type": "code",
   "execution_count": 52,
   "metadata": {},
   "outputs": [
    {
     "data": {
      "text/plain": [
       "2"
      ]
     },
     "execution_count": 52,
     "metadata": {},
     "output_type": "execute_result"
    }
   ],
   "source": [
    "len(rank)"
   ]
  },
  {
   "cell_type": "code",
   "execution_count": 53,
   "metadata": {},
   "outputs": [],
   "source": [
    "new_rank = list(dict.fromkeys(new_rank))"
   ]
  },
  {
   "cell_type": "code",
   "execution_count": 54,
   "metadata": {},
   "outputs": [
    {
     "data": {
      "text/plain": [
       "[('man', 'woman'), ('human', 'nonhuman')]"
      ]
     },
     "execution_count": 54,
     "metadata": {},
     "output_type": "execute_result"
    }
   ],
   "source": [
    "new_rank[:10]"
   ]
  },
  {
   "cell_type": "code",
   "execution_count": 55,
   "metadata": {},
   "outputs": [
    {
     "data": {
      "text/plain": [
       "[('man', 'woman'), ('human', 'nonhuman')]"
      ]
     },
     "execution_count": 55,
     "metadata": {},
     "output_type": "execute_result"
    }
   ],
   "source": [
    "new_rank[-10:]"
   ]
  },
  {
   "cell_type": "code",
   "execution_count": null,
   "metadata": {},
   "outputs": [],
   "source": []
  }
 ],
 "metadata": {
  "kernelspec": {
   "display_name": "creepy-venv",
   "language": "python",
   "name": "creepy-venv"
  },
  "language_info": {
   "codemirror_mode": {
    "name": "ipython",
    "version": 3
   },
   "file_extension": ".py",
   "mimetype": "text/x-python",
   "name": "python",
   "nbconvert_exporter": "python",
   "pygments_lexer": "ipython3",
   "version": "3.8.5"
  }
 },
 "nbformat": 4,
 "nbformat_minor": 4
}
