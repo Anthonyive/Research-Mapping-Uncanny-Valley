{
 "cells": [
  {
   "cell_type": "markdown",
   "metadata": {},
   "source": [
    "# FrameAxis analysis for r/self and r/nosleep"
   ]
  },
  {
   "cell_type": "code",
   "execution_count": 1,
   "metadata": {},
   "outputs": [
    {
     "name": "stdout",
     "output_type": "stream",
     "text": [
      "Num GPUs Available:  1\n"
     ]
    }
   ],
   "source": [
    "import tensorflow as tf\n",
    "physical_devices = tf.config.list_physical_devices('GPU')\n",
    "tf.config.experimental.set_memory_growth(physical_devices[0], enable=True)\n",
    "print(\"Num GPUs Available: \", len(physical_devices))"
   ]
  },
  {
   "cell_type": "code",
   "execution_count": 2,
   "metadata": {},
   "outputs": [],
   "source": [
    "import pickle\n",
    "with open('./Download/data_cleaned.pickle', 'rb') as handle:\n",
    "    data_cleaned = pickle.load(handle)"
   ]
  },
  {
   "cell_type": "markdown",
   "metadata": {},
   "source": [
    "# 1. Building a Set of Microframes"
   ]
  },
  {
   "cell_type": "code",
   "execution_count": 3,
   "metadata": {},
   "outputs": [
    {
     "name": "stderr",
     "output_type": "stream",
     "text": [
      "[nltk_data] Downloading package wordnet to /home/anthony/nltk_data...\n",
      "[nltk_data]   Package wordnet is already up-to-date!\n",
      "[nltk_data] Downloading package punkt to /home/anthony/nltk_data...\n",
      "[nltk_data]   Package punkt is already up-to-date!\n"
     ]
    },
    {
     "data": {
      "text/plain": [
       "True"
      ]
     },
     "execution_count": 3,
     "metadata": {},
     "output_type": "execute_result"
    }
   ],
   "source": [
    "import nltk\n",
    "from nltk.corpus import wordnet as wn\n",
    "nltk.download('wordnet')\n",
    "nltk.download('punkt')"
   ]
  },
  {
   "cell_type": "markdown",
   "metadata": {},
   "source": [
    "### Show all antonyms in WordNet:"
   ]
  },
  {
   "cell_type": "code",
   "execution_count": 4,
   "metadata": {},
   "outputs": [],
   "source": [
    "from nltk.corpus import wordnet as wn\n",
    "\n",
    "def antonyms_for(word):\n",
    "    antonyms = set()\n",
    "    for ss in wn.synsets(word):\n",
    "        for lemma in ss.lemmas():\n",
    "            any_pos_antonyms = [ antonym.name() for antonym in lemma.antonyms() ]\n",
    "            for antonym in any_pos_antonyms:\n",
    "                antonym_synsets = wn.synsets(antonym)\n",
    "                if wn.ADJ not in [ ss.pos() for ss in antonym_synsets ]:\n",
    "                    continue\n",
    "                antonyms.add(antonym)\n",
    "    return antonyms"
   ]
  },
  {
   "cell_type": "code",
   "execution_count": 5,
   "metadata": {},
   "outputs": [],
   "source": [
    "from nltk.corpus import wordnet as wn\n",
    "\n",
    "wn_all_antonyms = set()\n",
    "\n",
    "for i in wn.all_synsets():\n",
    "    if i.pos() in ['a', 's']: # If synset is adj or satelite-adj.\n",
    "        for j in i.lemmas(): # Iterating through lemmas for each synset.\n",
    "            if j.antonyms(): # If adj has antonym.\n",
    "                # Prints the adj-antonym pair.\n",
    "                wn_all_antonyms.add((j.name(), j.antonyms()[0].name()))"
   ]
  },
  {
   "cell_type": "code",
   "execution_count": 6,
   "metadata": {},
   "outputs": [
    {
     "data": {
      "text/plain": [
       "3531"
      ]
     },
     "execution_count": 6,
     "metadata": {},
     "output_type": "execute_result"
    }
   ],
   "source": [
    "len(wn_all_antonyms)"
   ]
  },
  {
   "cell_type": "markdown",
   "metadata": {},
   "source": [
    "### Import pretrained embeddings"
   ]
  },
  {
   "cell_type": "markdown",
   "metadata": {},
   "source": [
    "### **Options**\n",
    "\n",
    "`CLASStorchtext.vocab.GloVe(name='840B', dim=300, **kwargs)`\n",
    "\n",
    "`CLASStorchtext.vocab.FastText(language='en', **kwargs)`\n",
    "\n",
    "`CLASStorchtext.vocab.CharNGram(**kwargs)`"
   ]
  },
  {
   "cell_type": "code",
   "execution_count": 7,
   "metadata": {},
   "outputs": [],
   "source": [
    "import torch\n",
    "import torchtext\n",
    "import numpy as np"
   ]
  },
  {
   "cell_type": "code",
   "execution_count": 8,
   "metadata": {},
   "outputs": [],
   "source": [
    "glove = torchtext.vocab.GloVe(name=\"840B\",dim=300)"
   ]
  },
  {
   "cell_type": "code",
   "execution_count": 9,
   "metadata": {},
   "outputs": [],
   "source": [
    "import spacy\n",
    "nlp = spacy.load('en_core_web_lg')"
   ]
  },
  {
   "cell_type": "code",
   "execution_count": 10,
   "metadata": {},
   "outputs": [],
   "source": [
    "from nltk.corpus import wordnet as wn\n",
    "\n",
    "wn_all_antonyms_words = set()\n",
    "\n",
    "for ant_pair in wn_all_antonyms:\n",
    "    wn_all_antonyms_words = set(tuple(wn_all_antonyms_words) + ant_pair)"
   ]
  },
  {
   "cell_type": "code",
   "execution_count": 11,
   "metadata": {},
   "outputs": [],
   "source": [
    "no_emb_words = set()\n",
    "for adj in wn_all_antonyms_words:\n",
    "    if torch.all(glove[adj] == torch.zeros(300)):\n",
    "        no_emb_words.add(adj)"
   ]
  },
  {
   "cell_type": "code",
   "execution_count": 12,
   "metadata": {},
   "outputs": [
    {
     "data": {
      "text/plain": [
       "3531"
      ]
     },
     "execution_count": 12,
     "metadata": {},
     "output_type": "execute_result"
    }
   ],
   "source": [
    "len(wn_all_antonyms)"
   ]
  },
  {
   "cell_type": "code",
   "execution_count": 13,
   "metadata": {},
   "outputs": [],
   "source": [
    "copy = wn_all_antonyms.copy()\n",
    "for pair in wn_all_antonyms:\n",
    "    pair1, pair2 = pair\n",
    "    if pair1 in no_emb_words or pair2 in no_emb_words:\n",
    "        copy.remove(pair)\n",
    "        \n",
    "wn_all_antonyms = copy"
   ]
  },
  {
   "cell_type": "code",
   "execution_count": 14,
   "metadata": {},
   "outputs": [
    {
     "data": {
      "text/plain": [
       "3131"
      ]
     },
     "execution_count": 14,
     "metadata": {},
     "output_type": "execute_result"
    }
   ],
   "source": [
    "len(wn_all_antonyms)"
   ]
  },
  {
   "cell_type": "code",
   "execution_count": 15,
   "metadata": {},
   "outputs": [
    {
     "data": {
      "text/plain": [
       "400"
      ]
     },
     "execution_count": 15,
     "metadata": {},
     "output_type": "execute_result"
    }
   ],
   "source": [
    "3531-3131"
   ]
  },
  {
   "cell_type": "code",
   "execution_count": 16,
   "metadata": {
    "collapsed": true,
    "jupyter": {
     "outputs_hidden": true
    }
   },
   "outputs": [
    {
     "data": {
      "text/plain": [
       "{('salable', 'unsalable'),\n",
       " ('active', 'quiet'),\n",
       " ('inalienable', 'alienable'),\n",
       " ('profound', 'superficial'),\n",
       " ('wearable', 'unwearable'),\n",
       " ('changeable', 'unchangeable'),\n",
       " ('catabolic', 'anabolic'),\n",
       " ('modest', 'immodest'),\n",
       " ('most', 'least'),\n",
       " ('double-breasted', 'single-breasted'),\n",
       " ('eastern', 'western'),\n",
       " ('middle-class', 'upper-class'),\n",
       " ('abnormal', 'normal'),\n",
       " ('faced', 'faceless'),\n",
       " ('disadvantageous', 'advantageous'),\n",
       " ('unsure', 'sure'),\n",
       " ('disenfranchised', 'enfranchised'),\n",
       " ('stable', 'unstable'),\n",
       " ('mortal', 'immortal'),\n",
       " ('peripheral', 'central'),\n",
       " ('adjusted', 'unadjusted'),\n",
       " ('allochthonous', 'autochthonous'),\n",
       " ('respectful', 'disrespectful'),\n",
       " ('revealing', 'concealing'),\n",
       " ('skilled', 'unskilled'),\n",
       " ('allopathic', 'homeopathic'),\n",
       " ('desecrated', 'consecrated'),\n",
       " ('nonprofessional', 'professional'),\n",
       " ('good-natured', 'ill-natured'),\n",
       " ('worsening', 'bettering'),\n",
       " ('bound', 'unbound'),\n",
       " ('uninjured', 'injured'),\n",
       " ('major', 'minor'),\n",
       " ('attributive', 'predicative'),\n",
       " ('supersonic', 'sonic'),\n",
       " ('inhospitable', 'hospitable'),\n",
       " ('atomistic', 'holistic'),\n",
       " ('lovable', 'hateful'),\n",
       " ('endemic', 'epidemic'),\n",
       " ('centralized', 'decentralized'),\n",
       " ('rounded', 'angular'),\n",
       " ('sensitive', 'insensitive'),\n",
       " ('unprejudiced', 'prejudiced'),\n",
       " ('terrestrial', 'amphibious'),\n",
       " ('formal', 'informal'),\n",
       " ('uncastrated', 'castrated'),\n",
       " ('loud', 'soft'),\n",
       " ('untied', 'tied'),\n",
       " ('dextral', 'sinistral'),\n",
       " ('immature', 'mature'),\n",
       " ('radical', 'cauline'),\n",
       " ('hierarchical', 'nonhierarchical'),\n",
       " ('adequate', 'inadequate'),\n",
       " ('unburdened', 'burdened'),\n",
       " ('incorrect', 'correct'),\n",
       " ('nonracial', 'racial'),\n",
       " ('deflationary', 'inflationary'),\n",
       " ('damaged', 'undamaged'),\n",
       " ('tasteless', 'tasty'),\n",
       " ('clear', 'cloudy'),\n",
       " ('unassisted', 'assisted'),\n",
       " ('native', 'adopted'),\n",
       " ('incongruous', 'congruous'),\n",
       " ('disjunctive', 'conjunctive'),\n",
       " ('unchristian', 'christian'),\n",
       " ('unknowable', 'knowable'),\n",
       " ('heterologous', 'analogous'),\n",
       " ('concerned', 'unconcerned'),\n",
       " ('warmhearted', 'coldhearted'),\n",
       " ('catadromous', 'diadromous'),\n",
       " ('contestable', 'incontestable'),\n",
       " ('complimentary', 'uncomplimentary'),\n",
       " ('hungry', 'thirsty'),\n",
       " ('unprovocative', 'provocative'),\n",
       " ('up', 'down'),\n",
       " ('lidless', 'lidded'),\n",
       " ('born', 'unborn'),\n",
       " ('discordant', 'accordant'),\n",
       " ('auspicious', 'inauspicious'),\n",
       " ('topless', 'topped'),\n",
       " ('undrinkable', 'drinkable'),\n",
       " ('seasonal', 'year-round'),\n",
       " ('sidereal', 'civil'),\n",
       " ('compatible', 'incompatible'),\n",
       " ('rewarding', 'unrewarding'),\n",
       " ('noseless', 'nosed'),\n",
       " ('radiopaque', 'radiolucent'),\n",
       " ('common', 'uncommon'),\n",
       " ('corrigible', 'incorrigible'),\n",
       " ('federal', 'unitary'),\n",
       " ('negative', 'neutral'),\n",
       " ('ordinal', 'cardinal'),\n",
       " ('stoppable', 'unstoppable'),\n",
       " ('tonic', 'atonic'),\n",
       " ('residential', 'nonresidential'),\n",
       " ('poor', 'rich'),\n",
       " ('unsound', 'sound'),\n",
       " ('avenged', 'unavenged'),\n",
       " ('unagitated', 'agitated'),\n",
       " ('maladjusted', 'adjusted'),\n",
       " ('anisotropic', 'isotropic'),\n",
       " ('enforced', 'unenforced'),\n",
       " ('apocrine', 'eccrine'),\n",
       " ('uncreative', 'creative'),\n",
       " ('appropriate', 'inappropriate'),\n",
       " ('closed', 'open'),\n",
       " ('paid', 'unpaid'),\n",
       " ('insane', 'sane'),\n",
       " ('seasonable', 'unseasonable'),\n",
       " ('questionable', 'unquestionable'),\n",
       " ('downtown', 'uptown'),\n",
       " ('analytic', 'synthetic'),\n",
       " ('estrous', 'anestrous'),\n",
       " ('obligate', 'facultative'),\n",
       " ('uninfluential', 'influential'),\n",
       " ('immoral', 'moral'),\n",
       " ('conservative', 'liberal'),\n",
       " ('monoclinic', 'triclinic'),\n",
       " ('directional', 'omnidirectional'),\n",
       " ('tight', 'loose'),\n",
       " ('unequipped', 'equipped'),\n",
       " ('lean', 'rich'),\n",
       " ('concentrated', 'distributed'),\n",
       " ('present', 'absent'),\n",
       " ('antiseptic', 'septic'),\n",
       " ('unarticulated', 'articulated'),\n",
       " ('successful', 'unsuccessful'),\n",
       " ('ascending', 'descending'),\n",
       " ('multilateral', 'unilateral'),\n",
       " ('outgoing', 'incoming'),\n",
       " ('contented', 'discontented'),\n",
       " ('unvaried', 'varied'),\n",
       " ('ovoviviparous', 'viviparous'),\n",
       " ('unpaved', 'paved'),\n",
       " ('tanned', 'untanned'),\n",
       " ('lentic', 'lotic'),\n",
       " ('dystopian', 'utopian'),\n",
       " ('wild', 'tame'),\n",
       " ('unproved', 'proved'),\n",
       " ('young', 'old'),\n",
       " ('onymous', 'anonymous'),\n",
       " ('untanned', 'tanned'),\n",
       " ('propitious', 'unpropitious'),\n",
       " ('smoky', 'smokeless'),\n",
       " ('relative', 'absolute'),\n",
       " ('covert', 'overt'),\n",
       " ('sensible', 'insensible'),\n",
       " ('incoherent', 'coherent'),\n",
       " ('sacred', 'profane'),\n",
       " ('bridgeable', 'unbridgeable'),\n",
       " ('unleavened', 'leavened'),\n",
       " ('straight', 'curly'),\n",
       " ('tender', 'tough'),\n",
       " ('prejudiced', 'unprejudiced'),\n",
       " ('diffident', 'confident'),\n",
       " ('steep', 'gradual'),\n",
       " ('anabolic', 'catabolic'),\n",
       " ('glorious', 'inglorious'),\n",
       " ('hypotonic', 'isotonic'),\n",
       " ('registered', 'unregistered'),\n",
       " ('all', 'some'),\n",
       " ('linear', 'nonlinear'),\n",
       " ('patterned', 'plain'),\n",
       " ('multiple', 'single'),\n",
       " ('nasty', 'nice'),\n",
       " ('unenforced', 'enforced'),\n",
       " ('buttoned', 'unbuttoned'),\n",
       " ('crystalline', 'noncrystalline'),\n",
       " ('common', 'individual'),\n",
       " ('pleasant', 'unpleasant'),\n",
       " ('noncommissioned', 'commissioned'),\n",
       " ('unwritten', 'written'),\n",
       " ('thrifty', 'wasteful'),\n",
       " ('decorous', 'indecorous'),\n",
       " ('unfit', 'fit'),\n",
       " ('moderating', 'intensifying'),\n",
       " ('lined', 'unlined'),\n",
       " ('apologetic', 'unapologetic'),\n",
       " ('unfortunate', 'fortunate'),\n",
       " ('unfeathered', 'feathered'),\n",
       " ('unappealable', 'appealable'),\n",
       " ('offside', 'onside'),\n",
       " ('diabatic', 'adiabatic'),\n",
       " ('bottom', 'side'),\n",
       " ('high-tech', 'low-tech'),\n",
       " ('depressing', 'cheerful'),\n",
       " ('unadventurous', 'adventurous'),\n",
       " ('undiversified', 'diversified'),\n",
       " ('autumnal', 'wintry'),\n",
       " ('anticholinergic', 'cholinergic'),\n",
       " ('creative', 'uncreative'),\n",
       " ('shut', 'open'),\n",
       " ('differentiated', 'undifferentiated'),\n",
       " ('national', 'international'),\n",
       " ('open', 'closed'),\n",
       " ('compound', 'simple'),\n",
       " ('climactic', 'anticlimactic'),\n",
       " ('feminine', 'neuter'),\n",
       " ('nondeductible', 'deductible'),\n",
       " ('unlikely', 'likely'),\n",
       " ('feminine', 'masculine'),\n",
       " ('identical', 'fraternal'),\n",
       " ('asleep', 'awake'),\n",
       " ('nonlinear', 'linear'),\n",
       " ('unpeaceful', 'peaceful'),\n",
       " ('honest', 'dishonest'),\n",
       " ('privileged', 'underprivileged'),\n",
       " ('aesthetic', 'inaesthetic'),\n",
       " ('uninhabited', 'inhabited'),\n",
       " ('noble', 'ignoble'),\n",
       " ('extinguishable', 'inextinguishable'),\n",
       " ('profitable', 'unprofitable'),\n",
       " ('utopian', 'dystopian'),\n",
       " ('robust', 'frail'),\n",
       " ('no', 'all'),\n",
       " ('negligent', 'diligent'),\n",
       " ('undesirable', 'desirable'),\n",
       " ('unselected', 'selected'),\n",
       " ('spontaneous', 'induced'),\n",
       " ('wide', 'narrow'),\n",
       " ('low-interest', 'high-interest'),\n",
       " ('unapologetic', 'apologetic'),\n",
       " ('glad', 'sad'),\n",
       " ('revocable', 'irrevocable'),\n",
       " ('processed', 'unprocessed'),\n",
       " ('continued', 'discontinued'),\n",
       " ('plantigrade', 'digitigrade'),\n",
       " ('accusatorial', 'inquisitorial'),\n",
       " ('tonal', 'atonal'),\n",
       " ('heterogeneous', 'homogeneous'),\n",
       " ('cursorial', 'fossorial'),\n",
       " ('gutless', 'gutsy'),\n",
       " ('cerebral', 'emotional'),\n",
       " ('unpredictable', 'predictable'),\n",
       " ('prescription', 'nonprescription'),\n",
       " ('busy', 'idle'),\n",
       " ('quiet', 'unquiet'),\n",
       " ('unsigned', 'signed'),\n",
       " ('lowland', 'upland'),\n",
       " ('cut', 'uncut'),\n",
       " ('inaudible', 'audible'),\n",
       " ('unapproachable', 'approachable'),\n",
       " ('uncorrected', 'corrected'),\n",
       " ('whole', 'half'),\n",
       " ('wasteful', 'thrifty'),\n",
       " ('biped', 'quadruped'),\n",
       " ('energetic', 'lethargic'),\n",
       " ('incomparable', 'comparable'),\n",
       " ('competitive', 'noncompetitive'),\n",
       " ('postprandial', 'preprandial'),\n",
       " ('full', 'thin'),\n",
       " ('nonporous', 'porous'),\n",
       " ('homemade', 'factory-made'),\n",
       " ('intemperate', 'temperate'),\n",
       " ('civil', 'sidereal'),\n",
       " ('ingenuous', 'disingenuous'),\n",
       " ('retarded', 'precocious'),\n",
       " ('unserviceable', 'serviceable'),\n",
       " ('oleophobic', 'oleophilic'),\n",
       " ('lost', 'won'),\n",
       " ('awned', 'awnless'),\n",
       " ('noncommercial', 'commercial'),\n",
       " ('atrophied', 'hypertrophied'),\n",
       " ('recoverable', 'unrecoverable'),\n",
       " ('convincing', 'unconvincing'),\n",
       " ('horned', 'hornless'),\n",
       " ('unrealistic', 'realistic'),\n",
       " ('clement', 'inclement'),\n",
       " ('convenient', 'inconvenient'),\n",
       " ('unspecialized', 'specialized'),\n",
       " ('manly', 'unmanly'),\n",
       " ('inadequate', 'adequate'),\n",
       " ('hipped', 'gabled'),\n",
       " ('humble', 'proud'),\n",
       " ('unsinkable', 'sinkable'),\n",
       " ('radioactive', 'nonradioactive'),\n",
       " ('clothed', 'unclothed'),\n",
       " ('unexpired', 'expired'),\n",
       " ('nonmagnetic', 'magnetic'),\n",
       " ('disintegrative', 'integrative'),\n",
       " ('won', 'lost'),\n",
       " ('afraid', 'unafraid'),\n",
       " ('nonpregnant', 'pregnant'),\n",
       " ('unmalted', 'malted'),\n",
       " ('enlightening', 'unenlightening'),\n",
       " ('tasty', 'tasteless'),\n",
       " ('unclassified', 'classified'),\n",
       " ('disloyal', 'loyal'),\n",
       " ('undefeated', 'defeated'),\n",
       " ('invariable', 'variable'),\n",
       " ('surgical', 'nonsurgical'),\n",
       " ('asexual', 'sexual'),\n",
       " ('informed', 'uninformed'),\n",
       " ('fertile', 'sterile'),\n",
       " ('vernal', 'summery'),\n",
       " ('undependable', 'dependable'),\n",
       " ('coherent', 'incoherent'),\n",
       " ('known', 'unknown'),\n",
       " ('powered', 'unpowered'),\n",
       " ('unvoiced', 'voiced'),\n",
       " ('inhabited', 'uninhabited'),\n",
       " ('demonstrative', 'undemonstrative'),\n",
       " ('unglazed', 'glazed'),\n",
       " ('anionic', 'cationic'),\n",
       " ('unseaworthy', 'seaworthy'),\n",
       " ('unbuttoned', 'buttoned'),\n",
       " ('oleophilic', 'oleophobic'),\n",
       " ('unforgiving', 'forgiving'),\n",
       " ('impatient', 'patient'),\n",
       " ('unprintable', 'printable'),\n",
       " ('native', 'nonnative'),\n",
       " ('tall', 'short'),\n",
       " ('adaxial', 'abaxial'),\n",
       " ('inexpressible', 'expressible'),\n",
       " ('narrow-minded', 'broad-minded'),\n",
       " ('communicative', 'uncommunicative'),\n",
       " ('shallow', 'deep'),\n",
       " ('local', 'general'),\n",
       " ('exclusive', 'inclusive'),\n",
       " ('unwearable', 'wearable'),\n",
       " ('lively', 'dull'),\n",
       " ('dying', 'nascent'),\n",
       " ('downmarket', 'upmarket'),\n",
       " ('unattributable', 'attributable'),\n",
       " ('meaningless', 'meaningful'),\n",
       " ('comprehensible', 'incomprehensible'),\n",
       " ('deciduous', 'evergreen'),\n",
       " ('upland', 'lowland'),\n",
       " ('sexy', 'unsexy'),\n",
       " ('melted', 'unmelted'),\n",
       " ('unusual', 'usual'),\n",
       " ('like', 'unlike'),\n",
       " ('racial', 'nonracial'),\n",
       " ('multilingual', 'monolingual'),\n",
       " ('piano', 'forte'),\n",
       " ('unattached', 'attached'),\n",
       " ('idle', 'busy'),\n",
       " ('protrusive', 'intrusive'),\n",
       " ('weak', 'strong'),\n",
       " ('bottomless', 'bottomed'),\n",
       " ('brachycephalic', 'dolichocephalic'),\n",
       " ('familiar', 'unfamiliar'),\n",
       " ('isometric', 'isotonic'),\n",
       " ('clean', 'unclean'),\n",
       " ('framed', 'unframed'),\n",
       " ('historical', 'ahistorical'),\n",
       " ('essential', 'inessential'),\n",
       " ('least', 'most'),\n",
       " ('mediate', 'immediate'),\n",
       " ('clockwise', 'counterclockwise'),\n",
       " ('unambiguous', 'ambiguous'),\n",
       " ('representational', 'nonrepresentational'),\n",
       " ('violable', 'inviolable'),\n",
       " ('little', 'much'),\n",
       " ('expensive', 'cheap'),\n",
       " ('close', 'distant'),\n",
       " ('unanalyzed', 'analyzed'),\n",
       " ('amended', 'unamended'),\n",
       " ('unventilated', 'ventilated'),\n",
       " ('unlimited', 'limited'),\n",
       " ('spineless', 'spinous'),\n",
       " ('uninspiring', 'inspiring'),\n",
       " ('adhesive', 'nonadhesive'),\n",
       " ('edible', 'inedible'),\n",
       " ('unidirectional', 'bidirectional'),\n",
       " ('reflected', 'unreflected'),\n",
       " ('unsold', 'sold'),\n",
       " ('hydrokinetic', 'hydrostatic'),\n",
       " ('exploited', 'unexploited'),\n",
       " ('present', 'future'),\n",
       " ('negative', 'positive'),\n",
       " ('contemptible', 'estimable'),\n",
       " ('greater', 'lesser'),\n",
       " ('aggressive', 'unaggressive'),\n",
       " ('two-piece', 'three-piece'),\n",
       " ('flexible', 'inflexible'),\n",
       " ('consonantal', 'vocalic'),\n",
       " ('discriminate', 'indiscriminate'),\n",
       " ('proximal', 'distal'),\n",
       " ('unsized', 'sized'),\n",
       " ('hearing', 'deaf'),\n",
       " ('divergent', 'convergent'),\n",
       " ('noncellular', 'cellular'),\n",
       " ('potential', 'actual'),\n",
       " ('incoming', 'outgoing'),\n",
       " ('defensive', 'offensive'),\n",
       " ('insurmountable', 'surmountable'),\n",
       " ('emotional', 'unemotional'),\n",
       " ('unarmored', 'armored'),\n",
       " ('discontented', 'contented'),\n",
       " ('unenlightening', 'enlightening'),\n",
       " ('impaired', 'unimpaired'),\n",
       " ('undynamic', 'dynamic'),\n",
       " ('insatiate', 'satiate'),\n",
       " ('proved', 'unproved'),\n",
       " ('acidic', 'alkaline'),\n",
       " ('sane', 'insane'),\n",
       " ('insincere', 'sincere'),\n",
       " ('wholesome', 'unwholesome'),\n",
       " ('sleeveless', 'sleeved'),\n",
       " ('experienced', 'inexperienced'),\n",
       " ('sympathetic', 'unsympathetic'),\n",
       " ('charged', 'uncharged'),\n",
       " ('unfaceted', 'faceted'),\n",
       " ('married', 'unmarried'),\n",
       " ('available', 'unavailable'),\n",
       " ('singular', 'plural'),\n",
       " ('gutsy', 'gutless'),\n",
       " ('obligatory', 'optional'),\n",
       " ('eukaryotic', 'prokaryotic'),\n",
       " ('fit', 'unfit'),\n",
       " ('curly', 'straight'),\n",
       " ('jawless', 'jawed'),\n",
       " ('unhappy', 'happy'),\n",
       " ('away', 'home'),\n",
       " ('masculine', 'feminine'),\n",
       " ('predicative', 'attributive'),\n",
       " ('impenetrable', 'penetrable'),\n",
       " ('convinced', 'unconvinced'),\n",
       " ('lossless', 'lossy'),\n",
       " ('intolerable', 'tolerable'),\n",
       " ('corrupt', 'incorrupt'),\n",
       " ('unfamiliar', 'familiar'),\n",
       " ('synonymous', 'antonymous'),\n",
       " ('convex', 'concave'),\n",
       " ('supportive', 'unsupportive'),\n",
       " ('north', 'south'),\n",
       " ('lengthwise', 'crosswise'),\n",
       " ('random', 'nonrandom'),\n",
       " ('incorrupt', 'corrupt'),\n",
       " ('unoffending', 'offending'),\n",
       " ('defeasible', 'indefeasible'),\n",
       " ('diachronic', 'synchronic'),\n",
       " ('unbelted', 'belted'),\n",
       " ('inactive', 'active'),\n",
       " ('unreceptive', 'receptive'),\n",
       " ('combed', 'uncombed'),\n",
       " ('recessive', 'dominant'),\n",
       " ('derived', 'underived'),\n",
       " ('comfortable', 'uncomfortable'),\n",
       " ('indistinct', 'distinct'),\n",
       " ('perennial', 'annual'),\n",
       " ('unconditioned', 'conditioned'),\n",
       " ('direct', 'alternating'),\n",
       " ('chronic', 'acute'),\n",
       " ('lipless', 'lipped'),\n",
       " ('suppressed', 'publicized'),\n",
       " ('stressed', 'unstressed'),\n",
       " ('real', 'nominal'),\n",
       " ('smart', 'stupid'),\n",
       " ('unbaptized', 'baptized'),\n",
       " ('negative', 'affirmative'),\n",
       " ('unreconstructed', 'reconstructed'),\n",
       " ('new', 'old'),\n",
       " ('employed', 'unemployed'),\n",
       " ('illegitimate', 'legitimate'),\n",
       " ('undeclared', 'declared'),\n",
       " ('weedy', 'weedless'),\n",
       " ('funded', 'unfunded'),\n",
       " ('inhumane', 'humane'),\n",
       " ('displeasing', 'pleasing'),\n",
       " ('convertible', 'inconvertible'),\n",
       " ('motivated', 'unmotivated'),\n",
       " ('official', 'unofficial'),\n",
       " ('unexcited', 'excited'),\n",
       " ('altered', 'unaltered'),\n",
       " ('inadvisable', 'advisable'),\n",
       " ('inappropriate', 'appropriate'),\n",
       " ('unaltered', 'altered'),\n",
       " ('clean', 'dirty'),\n",
       " ('unhealthful', 'healthful'),\n",
       " ('nonthermal', 'thermal'),\n",
       " ('modifiable', 'unmodifiable'),\n",
       " ('mated', 'unmated'),\n",
       " ('unsheathed', 'sheathed'),\n",
       " ('foreign', 'native'),\n",
       " ('thin', 'full'),\n",
       " ('myelinated', 'unmyelinated'),\n",
       " ('white', 'black'),\n",
       " ('sessile', 'pedunculate'),\n",
       " ('untranslatable', 'translatable'),\n",
       " ('necked', 'neckless'),\n",
       " ('nonspeaking', 'speaking'),\n",
       " ('infectious', 'noninfectious'),\n",
       " ('intelligible', 'unintelligible'),\n",
       " ('fatty', 'nonfat'),\n",
       " ('liked', 'disliked'),\n",
       " ('epidemic', 'endemic'),\n",
       " ('bottle-fed', 'breast-fed'),\n",
       " ('incurious', 'curious'),\n",
       " ('submissive', 'domineering'),\n",
       " ('intractable', 'tractable'),\n",
       " ('military', 'unmilitary'),\n",
       " ('nonsuppurative', 'suppurative'),\n",
       " ('fraternal', 'identical'),\n",
       " ('homogeneous', 'heterogeneous'),\n",
       " ('coordinating', 'subordinating'),\n",
       " ('undeniable', 'deniable'),\n",
       " ('unfriendly', 'friendly'),\n",
       " ('tough', 'tender'),\n",
       " ('nonresidential', 'residential'),\n",
       " ('distinct', 'indistinct'),\n",
       " ('odd', 'even'),\n",
       " ('homosexual', 'bisexual'),\n",
       " ('haploid', 'diploid'),\n",
       " ('explicit', 'implicit'),\n",
       " ('impassable', 'passable'),\n",
       " ('incidental', 'basic'),\n",
       " ('posterior', 'anterior'),\n",
       " ('miscible', 'immiscible'),\n",
       " ('restful', 'restless'),\n",
       " ('worldly', 'unworldly'),\n",
       " ('multivalent', 'univalent'),\n",
       " ('intradepartmental', 'interdepartmental'),\n",
       " ('deep', 'shallow'),\n",
       " ('high-interest', 'low-interest'),\n",
       " ('intensive', 'extensive'),\n",
       " ('declarative', 'interrogative'),\n",
       " ('alienable', 'inalienable'),\n",
       " ('noninfectious', 'infectious'),\n",
       " ('first', 'last'),\n",
       " ('tactful', 'tactless'),\n",
       " ('friendly', 'unfriendly'),\n",
       " ('leading', 'following'),\n",
       " ('incomprehensible', 'comprehensible'),\n",
       " ('graceful', 'awkward'),\n",
       " ('unregulated', 'regulated'),\n",
       " ('disposable', 'nondisposable'),\n",
       " ('fair', 'foul'),\n",
       " ('normal', 'paranormal'),\n",
       " ('pregnant', 'nonpregnant'),\n",
       " ('sweet', 'dry'),\n",
       " ('unturned', 'turned'),\n",
       " ('illegible', 'legible'),\n",
       " ('afebrile', 'febrile'),\n",
       " ('crowded', 'uncrowded'),\n",
       " ('numerate', 'innumerate'),\n",
       " ('unloaded', 'loaded'),\n",
       " ('magnetic', 'nonmagnetic'),\n",
       " ('impure', 'pure'),\n",
       " ('unmindful', 'mindful'),\n",
       " ('irreconcilable', 'reconcilable'),\n",
       " ('unpronounceable', 'pronounceable'),\n",
       " ('persuasive', 'dissuasive'),\n",
       " ('dysgenic', 'eugenic'),\n",
       " ('unmoved', 'moved'),\n",
       " ('enabling', 'disabling'),\n",
       " ('holy', 'unholy'),\n",
       " ('attached', 'unattached'),\n",
       " ('bare', 'covered'),\n",
       " ('parallel', 'perpendicular'),\n",
       " ('overhead', 'surface'),\n",
       " ('undimmed', 'dimmed'),\n",
       " ('unrestricted', 'restricted'),\n",
       " ('satiate', 'insatiate'),\n",
       " ('intense', 'mild'),\n",
       " ('ceilinged', 'floored'),\n",
       " ('unimpaired', 'impaired'),\n",
       " ('cephalic', 'caudal'),\n",
       " ('undescriptive', 'descriptive'),\n",
       " ('professional', 'nonprofessional'),\n",
       " ('alive', 'dead'),\n",
       " ('established', 'unestablished'),\n",
       " ('headed', 'headless'),\n",
       " ('censored', 'uncensored'),\n",
       " ('acute', 'chronic'),\n",
       " ('uncrowded', 'crowded'),\n",
       " ('dishonorable', 'honorable'),\n",
       " ('inspiring', 'uninspiring'),\n",
       " ('stemless', 'stemmed'),\n",
       " ('colorful', 'colorless'),\n",
       " ('destroyed', 'preserved'),\n",
       " ('unadjusted', 'adjusted'),\n",
       " ('dolichocephalic', 'brachycephalic'),\n",
       " ('significant', 'nonsignificant'),\n",
       " ('territorial', 'extraterritorial'),\n",
       " ('home', 'away'),\n",
       " ('inconsistent', 'consistent'),\n",
       " ('seasoned', 'unseasoned'),\n",
       " ('incontinent', 'continent'),\n",
       " ('pessimistic', 'optimistic'),\n",
       " ('sure', 'unsure'),\n",
       " ('undeciphered', 'deciphered'),\n",
       " ('material', 'immaterial'),\n",
       " ('undiluted', 'diluted'),\n",
       " ('soft', 'hard'),\n",
       " ('foreign', 'domestic'),\n",
       " ('normal', 'abnormal'),\n",
       " ('insoluble', 'soluble'),\n",
       " ('serviceable', 'unserviceable'),\n",
       " ('bicameral', 'unicameral'),\n",
       " ('exoteric', 'esoteric'),\n",
       " ('resistible', 'irresistible'),\n",
       " ('underprivileged', 'privileged'),\n",
       " ('bodied', 'unbodied'),\n",
       " ('laced', 'unlaced'),\n",
       " ('uncensored', 'censored'),\n",
       " ('nondisposable', 'disposable'),\n",
       " ('former', 'latter'),\n",
       " ('specialized', 'unspecialized'),\n",
       " ('broken', 'unbroken'),\n",
       " ('exculpatory', 'inculpatory'),\n",
       " ('ectomorphic', 'endomorphic'),\n",
       " ('meaningful', 'meaningless'),\n",
       " ('inglorious', 'glorious'),\n",
       " ('attachable', 'detachable'),\n",
       " ('synchronic', 'diachronic'),\n",
       " ('contralateral', 'ipsilateral'),\n",
       " ('acute', 'obtuse'),\n",
       " ('religious', 'secular'),\n",
       " ('congruous', 'incongruous'),\n",
       " ('curtained', 'curtainless'),\n",
       " ('gross', 'net'),\n",
       " ('nonfinancial', 'financial'),\n",
       " ('secular', 'religious'),\n",
       " ('verbal', 'numerical'),\n",
       " ('distributive', 'collective'),\n",
       " ('connected', 'unconnected'),\n",
       " ('postmortem', 'antemortem'),\n",
       " ('breast-fed', 'bottle-fed'),\n",
       " ('general', 'local'),\n",
       " ('unconquerable', 'conquerable'),\n",
       " ('subsequent', 'antecedent'),\n",
       " ('kind', 'unkind'),\n",
       " ('unmoving', 'moving'),\n",
       " ('unleaded', 'leaded'),\n",
       " ('unoccupied', 'occupied'),\n",
       " ('same', 'different'),\n",
       " ('reactive', 'unreactive'),\n",
       " ('extrusive', 'intrusive'),\n",
       " ('variable', 'invariable'),\n",
       " ('nonfunctional', 'functional'),\n",
       " ('sad', 'glad'),\n",
       " ('well', 'ill'),\n",
       " ('drained', 'undrained'),\n",
       " ('unoriented', 'oriented'),\n",
       " ('unpretentious', 'pretentious'),\n",
       " ('untrimmed', 'trimmed'),\n",
       " ('unmanageable', 'manageable'),\n",
       " ('vertebrate', 'invertebrate'),\n",
       " ('different', 'same'),\n",
       " ('inconsiderable', 'considerable'),\n",
       " ('operative', 'inoperative'),\n",
       " ('raised', 'lowered'),\n",
       " ('vocalic', 'consonantal'),\n",
       " ('practical', 'impractical'),\n",
       " ('pronounceable', 'unpronounceable'),\n",
       " ('unaccompanied', 'accompanied'),\n",
       " ('penitent', 'impenitent'),\n",
       " ('indispensable', 'dispensable'),\n",
       " ('unquiet', 'quiet'),\n",
       " ('employable', 'unemployable'),\n",
       " ('unwary', 'wary'),\n",
       " ('fallible', 'infallible'),\n",
       " ('last', 'first'),\n",
       " ('superhuman', 'subhuman'),\n",
       " ('unchangeable', 'changeable'),\n",
       " ('isotonic', 'hypertonic'),\n",
       " ('unsurprised', 'surprised'),\n",
       " ('beautiful', 'ugly'),\n",
       " ('leaded', 'unleaded'),\n",
       " ('unlaced', 'laced'),\n",
       " ('supernatural', 'natural'),\n",
       " ('ponderable', 'imponderable'),\n",
       " ('endogenous', 'exogenous'),\n",
       " ('unrefined', 'refined'),\n",
       " ('favorable', 'unfavorable'),\n",
       " ('unidimensional', 'multidimensional'),\n",
       " ('moving', 'nonmoving'),\n",
       " ('germy', 'germfree'),\n",
       " ('unsupervised', 'supervised'),\n",
       " ('overhand', 'underhand'),\n",
       " ('intestate', 'testate'),\n",
       " ('licit', 'illicit'),\n",
       " ('dead', 'live'),\n",
       " ('unscalable', 'scalable'),\n",
       " ('sisterly', 'brotherly'),\n",
       " ('inward', 'outward'),\n",
       " ('rugged', 'delicate'),\n",
       " ('herbivorous', 'omnivorous'),\n",
       " ('quadruped', 'biped'),\n",
       " ('civilian', 'military'),\n",
       " ('compliant', 'defiant'),\n",
       " ('theoretical', 'empirical'),\n",
       " ('subsurface', 'overhead'),\n",
       " ('malign', 'benign'),\n",
       " ('unadorned', 'adorned'),\n",
       " ('atonic', 'tonic'),\n",
       " ('unambitious', 'ambitious'),\n",
       " ('opposite', 'alternate'),\n",
       " ('professional', 'unprofessional'),\n",
       " ('acknowledged', 'unacknowledged'),\n",
       " ('deductive', 'inductive'),\n",
       " ('extracellular', 'intracellular'),\n",
       " ('unflattering', 'flattering'),\n",
       " ('fragrant', 'malodorous'),\n",
       " ('enchanted', 'disenchanted'),\n",
       " ('inboard', 'outboard'),\n",
       " ('hostile', 'amicable'),\n",
       " ('most', 'fewest'),\n",
       " ('unclear', 'clear'),\n",
       " ('fictional', 'nonfictional'),\n",
       " ('nonindustrial', 'industrial'),\n",
       " ('additive', 'subtractive'),\n",
       " ('systematic', 'unsystematic'),\n",
       " ('wifely', 'husbandly'),\n",
       " ('meager', 'ample'),\n",
       " ('colorless', 'colorful'),\n",
       " ('unwoven', 'woven'),\n",
       " ('unicameral', 'bicameral'),\n",
       " ('live', 'recorded'),\n",
       " ('disagreeable', 'agreeable'),\n",
       " ('immoderate', 'moderate'),\n",
       " ('subtractive', 'additive'),\n",
       " ('conventional', 'unconventional'),\n",
       " ('synchronous', 'asynchronous'),\n",
       " ('multidimensional', 'unidimensional'),\n",
       " ('progressive', 'regressive'),\n",
       " ('noisy', 'quiet'),\n",
       " ('friendly', 'hostile'),\n",
       " ('plus', 'minus'),\n",
       " ('avirulent', 'virulent'),\n",
       " ('light', 'dark'),\n",
       " ('original', 'unoriginal'),\n",
       " ('wrinkled', 'unwrinkled'),\n",
       " ('maladaptive', 'adaptive'),\n",
       " ('relaxed', 'tense'),\n",
       " ('fretted', 'unfretted'),\n",
       " ('simple', 'complex'),\n",
       " ('untouched', 'touched'),\n",
       " ('uncomplaining', 'complaining'),\n",
       " ('groomed', 'ungroomed'),\n",
       " ('unfruitful', 'fruitful'),\n",
       " ('hopeful', 'hopeless'),\n",
       " ('indeterminable', 'determinable'),\n",
       " ('accommodating', 'unaccommodating'),\n",
       " ('unfretted', 'fretted'),\n",
       " ('adopted', 'native'),\n",
       " ('theoretical', 'applied'),\n",
       " ('unresponsive', 'responsive'),\n",
       " ('burdened', 'unburdened'),\n",
       " ('mature', 'immature'),\n",
       " ('triclinic', 'monoclinic'),\n",
       " ('unappealing', 'appealing'),\n",
       " ('eyeless', 'eyed'),\n",
       " ('reversible', 'irreversible'),\n",
       " ('audible', 'inaudible'),\n",
       " ('narrow', 'wide'),\n",
       " ('chromatic', 'diatonic'),\n",
       " ('automatic', 'manual'),\n",
       " ('determinate', 'indeterminate'),\n",
       " ('unstressed', 'stressed'),\n",
       " ('published', 'unpublished'),\n",
       " ('reciprocal', 'nonreciprocal'),\n",
       " ('confined', 'unconfined'),\n",
       " ('unawed', 'awed'),\n",
       " ('sensitizing', 'desensitizing'),\n",
       " ('unmarried', 'married'),\n",
       " ('impenitent', 'penitent'),\n",
       " ('advisable', 'inadvisable'),\n",
       " ('discouraging', 'encouraging'),\n",
       " ('left', 'right'),\n",
       " ('uncut', 'cut'),\n",
       " ('beseeching', 'imperative'),\n",
       " ('heavy', 'light'),\n",
       " ('insured', 'uninsured'),\n",
       " ('toothed', 'toothless'),\n",
       " ('unpowered', 'powered'),\n",
       " ('felicitous', 'infelicitous'),\n",
       " ('unattractive', 'attractive'),\n",
       " ('tuneful', 'tuneless'),\n",
       " ('irreverent', 'reverent'),\n",
       " ('antagonistic', 'conciliatory'),\n",
       " ('unaccommodating', 'accommodating'),\n",
       " ('maladroit', 'adroit'),\n",
       " ('quantitative', 'qualitative'),\n",
       " ('unburied', 'buried'),\n",
       " ('avascular', 'vascular'),\n",
       " ('scalable', 'unscalable'),\n",
       " ('thoughtless', 'thoughtful'),\n",
       " ('exhausted', 'unexhausted'),\n",
       " ('sour', 'sweet'),\n",
       " ('mobile', 'immobile'),\n",
       " ('small', 'large'),\n",
       " ('inconspicuous', 'conspicuous'),\n",
       " ('anaerobic', 'aerobic'),\n",
       " ('figurative', 'literal'),\n",
       " ('monovalent', 'polyvalent'),\n",
       " ('unthinkable', 'thinkable'),\n",
       " ('unrenewable', 'renewable'),\n",
       " ('handmade', 'machine-made'),\n",
       " ('unfurnished', 'furnished'),\n",
       " ('destructible', 'indestructible'),\n",
       " ('inclined', 'disinclined'),\n",
       " ('uptown', 'downtown'),\n",
       " ('moving', 'unmoving'),\n",
       " ('unorthodox', 'orthodox'),\n",
       " ('unqualified', 'qualified'),\n",
       " ('immaterial', 'material'),\n",
       " ('exterior', 'interior'),\n",
       " ('dormant', 'active'),\n",
       " ('no-go', 'go'),\n",
       " ('institutional', 'noninstitutional'),\n",
       " ('nonintegrated', 'integrated'),\n",
       " ('synclinal', 'anticlinal'),\n",
       " ('unbanded', 'banded'),\n",
       " ('adoptive', 'biological'),\n",
       " ('integrative', 'disintegrative'),\n",
       " ('immunocompetent', 'immunodeficient'),\n",
       " ('unofficial', 'official'),\n",
       " ('conjunct', 'disjunct'),\n",
       " ('undrained', 'drained'),\n",
       " ('hardened', 'soft'),\n",
       " ('supernal', 'infernal'),\n",
       " ('inclined', 'horizontal'),\n",
       " ('unadaptable', 'adaptable'),\n",
       " ('stubborn', 'docile'),\n",
       " ('nonaddictive', 'addictive'),\n",
       " ('inoperable', 'operable'),\n",
       " ('debilitating', 'invigorating'),\n",
       " ('preceding', 'succeeding'),\n",
       " ('unpainted', 'painted'),\n",
       " ('compressible', 'incompressible'),\n",
       " ('adnate', 'connate'),\n",
       " ('political', 'nonpolitical'),\n",
       " ('affirmative', 'negative'),\n",
       " ('oiled', 'unoiled'),\n",
       " ('aware', 'unaware'),\n",
       " ('written', 'spoken'),\n",
       " ('detected', 'undetected'),\n",
       " ('assertive', 'unassertive'),\n",
       " ('ungroomed', 'groomed'),\n",
       " ('rough', 'smooth'),\n",
       " ('purposeless', 'purposeful'),\n",
       " ('anodic', 'cathodic'),\n",
       " ('syllabic', 'accentual'),\n",
       " ('unexhausted', 'exhausted'),\n",
       " ('irregular', 'regular'),\n",
       " ('indeterminate', 'determinate'),\n",
       " ('handleless', 'handled'),\n",
       " ('disproportionate', 'proportionate'),\n",
       " ('reflective', 'nonreflective'),\n",
       " ('commercial', 'noncommercial'),\n",
       " ('bottom-up', 'top-down'),\n",
       " ('irreplaceable', 'replaceable'),\n",
       " ('unmotivated', 'motivated'),\n",
       " ('unassertive', 'assertive'),\n",
       " ('old', 'young'),\n",
       " ('mitigated', 'unmitigated'),\n",
       " ('cloudy', 'clear'),\n",
       " ('indistinguishable', 'distinguishable'),\n",
       " ('maternal', 'paternal'),\n",
       " ('irreversible', 'reversible'),\n",
       " ('bisexual', 'heterosexual'),\n",
       " ('approachable', 'unapproachable'),\n",
       " ('hollow', 'solid'),\n",
       " ('provocative', 'unprovocative'),\n",
       " ('cursed', 'blessed'),\n",
       " ('unrigged', 'rigged'),\n",
       " ('attentive', 'inattentive'),\n",
       " ('indefeasible', 'defeasible'),\n",
       " ('hardhearted', 'softhearted'),\n",
       " ('fat', 'thin'),\n",
       " ('grassy', 'grassless'),\n",
       " ('righteous', 'unrighteous'),\n",
       " ('unsensational', 'sensational'),\n",
       " ('insectivorous', 'carnivorous'),\n",
       " ('undomestic', 'domestic'),\n",
       " ('implausible', 'plausible'),\n",
       " ('factory-made', 'homemade'),\n",
       " ('reasonable', 'unreasonable'),\n",
       " ('moneyed', 'moneyless'),\n",
       " ('trackless', 'tracked'),\n",
       " ('unequivocal', 'equivocal'),\n",
       " ('dominant', 'recessive'),\n",
       " ('prospective', 'retrospective'),\n",
       " ('repetitive', 'nonrepetitive'),\n",
       " ('accurate', 'inaccurate'),\n",
       " ('inconsolable', 'consolable'),\n",
       " ('uncommunicative', 'communicative'),\n",
       " ('passable', 'impassable'),\n",
       " ('willing', 'unwilling'),\n",
       " ('unsociable', 'sociable'),\n",
       " ('unprecedented', 'precedented'),\n",
       " ('democratic', 'undemocratic'),\n",
       " ('unconcealed', 'concealed'),\n",
       " ('precedented', 'unprecedented'),\n",
       " ('cellular', 'noncellular'),\n",
       " ('direct', 'retrograde'),\n",
       " ('saddled', 'unsaddled'),\n",
       " ('tracked', 'trackless'),\n",
       " ('cheerful', 'depressing'),\n",
       " ('hairy', 'hairless'),\n",
       " ('optional', 'obligatory'),\n",
       " ('unhelpful', 'helpful'),\n",
       " ('rustless', 'rusted'),\n",
       " ('clear', 'unclear'),\n",
       " ('coarse', 'fine'),\n",
       " ('unsympathetic', 'sympathetic'),\n",
       " ('outside', 'inside'),\n",
       " ('unpublished', 'published'),\n",
       " ('lost', 'saved'),\n",
       " ('segregated', 'integrated'),\n",
       " ('desirable', 'undesirable'),\n",
       " ('armed', 'armless'),\n",
       " ('unpremeditated', 'premeditated'),\n",
       " ('well-advised', 'ill-advised'),\n",
       " ('incredible', 'credible'),\n",
       " ('waxing', 'waning'),\n",
       " ('fast', 'slow'),\n",
       " ('softhearted', 'hardhearted'),\n",
       " ('obvious', 'unobvious'),\n",
       " ('distinguishable', 'indistinguishable'),\n",
       " ('stingy', 'generous'),\n",
       " ('limbless', 'limbed'),\n",
       " ('excited', 'unexcited'),\n",
       " ('uppercase', 'lowercase'),\n",
       " ('modulated', 'unmodulated'),\n",
       " ('forehand', 'backhand'),\n",
       " ('unlamented', 'lamented'),\n",
       " ('passing', 'running'),\n",
       " ('salient', 're-entrant'),\n",
       " ('printable', 'unprintable'),\n",
       " ('womanly', 'unwomanly'),\n",
       " ('oriented', 'unoriented'),\n",
       " ('untraveled', 'traveled'),\n",
       " ('indiscernible', 'discernible'),\n",
       " ('nonjudgmental', 'judgmental'),\n",
       " ('round', 'square'),\n",
       " ('renewable', 'unrenewable'),\n",
       " ('numerical', 'verbal'),\n",
       " ('scholarly', 'unscholarly'),\n",
       " ('minimum', 'maximum'),\n",
       " ('unethical', 'ethical'),\n",
       " ('intrinsic', 'extrinsic'),\n",
       " ('minus', 'plus'),\n",
       " ('joyous', 'joyless'),\n",
       " ('ungenerous', 'generous'),\n",
       " ('characteristic', 'uncharacteristic'),\n",
       " ('polytheistic', 'monotheistic'),\n",
       " ('unnatural', 'natural'),\n",
       " ('disorderly', 'orderly'),\n",
       " ('active', 'inactive'),\n",
       " ('illicit', 'licit'),\n",
       " ('civil', 'uncivil'),\n",
       " ('nonassociative', 'associative'),\n",
       " ('unstratified', 'stratified'),\n",
       " ('even', 'uneven'),\n",
       " ('footed', 'footless'),\n",
       " ('orienting', 'disorienting'),\n",
       " ('undifferentiated', 'differentiated'),\n",
       " ('specific', 'nonspecific'),\n",
       " ('excitable', 'unexcitable'),\n",
       " ('musical', 'unmusical'),\n",
       " ('mechanical', 'nonmechanical'),\n",
       " ('interspecies', 'intraspecies'),\n",
       " ('immeasurable', 'measurable'),\n",
       " ('nonclassical', 'classical'),\n",
       " ('untangled', 'tangled'),\n",
       " ('undemanding', 'demanding'),\n",
       " ('solid', 'liquid'),\n",
       " ('intracellular', 'extracellular'),\n",
       " ('incommensurate', 'commensurate'),\n",
       " ('plural', 'singular'),\n",
       " ('addictive', 'nonaddictive'),\n",
       " ('walleyed', 'cross-eyed'),\n",
       " ('reparable', 'irreparable'),\n",
       " ('unobtrusive', 'obtrusive'),\n",
       " ('irreligious', 'religious'),\n",
       " ('viviparous', 'oviparous'),\n",
       " ('increased', 'decreased'),\n",
       " ('unconvincing', 'convincing'),\n",
       " ('antimagnetic', 'magnetic'),\n",
       " ('salty', 'fresh'),\n",
       " ('ill-advised', 'well-advised'),\n",
       " ('judgmental', 'nonjudgmental'),\n",
       " ('empirical', 'theoretical'),\n",
       " ('incapable', 'capable'),\n",
       " ('powerless', 'powerful'),\n",
       " ('testate', 'intestate'),\n",
       " ('tied', 'untied'),\n",
       " ('advantageous', 'disadvantageous'),\n",
       " ('compromising', 'uncompromising'),\n",
       " ('repulsive', 'attractive'),\n",
       " ('top', 'bottom'),\n",
       " ('appetizing', 'unappetizing'),\n",
       " ('off-site', 'on-site'),\n",
       " ('standing', 'running'),\n",
       " ('calm', 'stormy'),\n",
       " ('anhydrous', 'hydrous'),\n",
       " ('unequal', 'equal'),\n",
       " ('scented', 'scentless'),\n",
       " ('nonpsychoactive', 'psychoactive'),\n",
       " ('euphonious', 'cacophonous'),\n",
       " ('unconstricted', 'constricted'),\n",
       " ('nonalcoholic', 'alcoholic'),\n",
       " ('unconnected', 'connected'),\n",
       " ('nonmonotonic', 'monotonic'),\n",
       " ('scarce', 'abundant'),\n",
       " ('inoffensive', 'offensive'),\n",
       " ...}"
      ]
     },
     "execution_count": 16,
     "metadata": {},
     "output_type": "execute_result"
    }
   ],
   "source": [
    "wn_all_antonyms"
   ]
  },
  {
   "cell_type": "markdown",
   "metadata": {},
   "source": [
    "### Add Custom Antonym Pairs"
   ]
  },
  {
   "cell_type": "code",
   "execution_count": 17,
   "metadata": {},
   "outputs": [
    {
     "name": "stdout",
     "output_type": "stream",
     "text": [
      "Added ('man', 'woman')\n",
      "Added ('serviceman', 'civilian')\n",
      "Added ('man', 'woman')\n",
      "Added ('human', 'nonhuman')\n"
     ]
    }
   ],
   "source": [
    "from nltk.corpus import wordnet as wn\n",
    "\n",
    "# add words here:\n",
    "WORDS = ['man', 'human']\n",
    "\n",
    "for word in WORDS:\n",
    "    for syn in wn.synsets(word):\n",
    "        for j in syn.lemmas(): # Iterating through lemmas for each synset.\n",
    "            if j.antonyms():\n",
    "                pair1 = j.name()\n",
    "                pair2 = j.antonyms()[0].name()\n",
    "                # don't add pair to the list if at least one of them has no glove embeddings\n",
    "                if torch.all(glove[pair1] == torch.zeros(300)) or torch.all(glove[pair2] == torch.zeros(300)):\n",
    "                    print(f\"Pair {(j.name(), j.antonyms()[0].name())} cannot be added because one of them does not have GloVe embeddings.\")\n",
    "                else:\n",
    "                    print(f\"Added {(pair1, pair2)}\")\n",
    "                    wn_all_antonyms.add((pair1, pair2))"
   ]
  },
  {
   "cell_type": "code",
   "execution_count": 18,
   "metadata": {},
   "outputs": [],
   "source": [
    "microframes = wn_all_antonyms"
   ]
  },
  {
   "cell_type": "code",
   "execution_count": 19,
   "metadata": {},
   "outputs": [
    {
     "data": {
      "text/plain": [
       "3133"
      ]
     },
     "execution_count": 19,
     "metadata": {},
     "output_type": "execute_result"
    }
   ],
   "source": [
    "len(microframes)"
   ]
  },
  {
   "cell_type": "markdown",
   "metadata": {},
   "source": [
    "### Semantic Axis Vector"
   ]
  },
  {
   "cell_type": "code",
   "execution_count": 20,
   "metadata": {},
   "outputs": [],
   "source": [
    "semantic_axis_vectors = dict()\n",
    "for mframe in microframes:\n",
    "    semantic_axis_vectors['(' + ', '.join(mframe) + ')'] = np.expand_dims(glove[mframe[1]] - glove[mframe[0]], axis= 0)"
   ]
  },
  {
   "cell_type": "code",
   "execution_count": 21,
   "metadata": {
    "collapsed": true,
    "jupyter": {
     "outputs_hidden": true
    }
   },
   "outputs": [
    {
     "data": {
      "text/plain": [
       "array([[ 1.98666990e-01,  7.22199827e-02, -1.86462998e-01,\n",
       "         5.83739996e-01, -7.46250004e-02, -9.17997956e-03,\n",
       "         3.19599956e-02,  3.92699987e-02,  1.38819993e-01,\n",
       "         6.78999424e-02, -2.03620002e-01,  2.38368988e-01,\n",
       "        -2.72006691e-01, -3.08981687e-01, -1.61559999e-01,\n",
       "        -1.46412000e-01, -4.35483992e-01,  1.89160019e-01,\n",
       "        -2.95740008e-01, -3.50700021e-02,  9.05001163e-03,\n",
       "         2.55119979e-01, -1.56845003e-01, -3.59719992e-01,\n",
       "        -2.88099945e-02,  4.00590003e-01,  1.07859999e-01,\n",
       "        -2.12710008e-01, -3.14889997e-01, -1.76756993e-01,\n",
       "         1.34200007e-01, -5.70900142e-02,  2.26850003e-01,\n",
       "        -2.34786004e-01,  4.04179990e-01,  2.45397985e-01,\n",
       "         1.38130009e-01, -3.17710042e-01, -6.44200146e-02,\n",
       "         5.04499972e-02,  5.87419987e-01,  1.61250010e-01,\n",
       "        -1.27790004e-01, -5.09299934e-02,  5.82489967e-02,\n",
       "        -1.54311001e-01, -2.74599999e-01, -4.05699909e-02,\n",
       "         4.65460002e-01, -2.69311011e-01, -6.96425974e-01,\n",
       "        -7.79200047e-02, -3.73799980e-01, -5.43542981e-01,\n",
       "         1.68000162e-03,  1.99129969e-01,  8.77784044e-02,\n",
       "        -1.79803997e-01, -3.24763983e-01,  1.82830006e-01,\n",
       "         4.45810035e-02, -4.40575004e-01,  3.94324996e-02,\n",
       "         8.85499865e-02, -8.17679986e-02,  3.47799957e-02,\n",
       "         2.19610006e-01,  1.73684001e-01,  4.20599997e-01,\n",
       "         2.30540007e-01,  1.30430013e-01,  5.16099930e-02,\n",
       "        -4.50607002e-01,  2.98929989e-01,  7.14900017e-01,\n",
       "         1.87491506e-01,  1.08699799e-02, -5.88600039e-02,\n",
       "         5.82560003e-02, -4.68892992e-01,  4.13378999e-02,\n",
       "        -4.98937011e-01, -5.46519995e-01,  1.66910991e-01,\n",
       "        -2.70377010e-01,  3.10499996e-01,  1.57869995e-01,\n",
       "         6.15016997e-01,  1.12430006e-01, -3.69369984e-01,\n",
       "        -9.15000588e-03,  4.87110019e-01, -2.48100013e-02,\n",
       "        -2.01621011e-01,  7.52400011e-02, -3.43129992e-01,\n",
       "        -1.40810013e-02,  4.47310001e-01,  9.82819945e-02,\n",
       "        -1.88300014e-02,  5.63686013e-01,  2.10529983e-01,\n",
       "         4.13628012e-01, -1.24743000e-01,  5.53460047e-02,\n",
       "        -1.80729985e-01, -3.57449979e-01, -1.28450006e-01,\n",
       "        -1.75781995e-01, -3.56480032e-02,  7.30400085e-02,\n",
       "         4.91800010e-01,  1.20920002e-01, -1.28526002e-01,\n",
       "        -4.86529991e-02, -4.55290020e-01, -8.30870047e-02,\n",
       "         3.39540005e-01,  5.94336987e-01,  1.46170020e-01,\n",
       "        -1.68540001e-01,  1.09070003e-01,  6.02700114e-02,\n",
       "        -3.17530006e-01,  2.16051996e-01,  2.82433003e-01,\n",
       "         3.16039979e-01,  2.30358496e-01, -1.26025289e-01,\n",
       "         2.61260003e-01, -3.47479999e-01, -1.45045996e-01,\n",
       "        -2.68090010e-01,  1.01729989e-01, -1.27200007e-01,\n",
       "        -4.04260010e-01, -6.34609997e-01,  1.79711998e-01,\n",
       "        -9.79998708e-03,  2.38931000e-01,  4.64699984e-01,\n",
       "        -1.76903993e-01,  8.36960077e-02, -4.60195005e-01,\n",
       "        -4.16100025e-01,  1.72600001e-02, -3.49910021e-01,\n",
       "        -2.14100033e-02, -4.35580015e-01,  1.73370004e-01,\n",
       "        -1.80270016e-01,  9.36003029e-02, -2.51639992e-01,\n",
       "         1.42099991e-01, -2.10092992e-01, -7.80001283e-04,\n",
       "         3.43066007e-01, -2.51609981e-01, -4.66099977e-02,\n",
       "        -3.53880003e-02, -6.24859989e-01,  2.17449993e-01,\n",
       "         7.41870031e-02,  1.28790021e-01,  3.58000398e-03,\n",
       "        -2.48923004e-01, -1.22189999e-01,  4.16000009e-01,\n",
       "         2.22826988e-01,  1.39129996e-01,  1.72190011e-01,\n",
       "        -1.27296001e-01,  4.17232990e-01,  1.22292005e-01,\n",
       "        -2.97299922e-02, -5.83799928e-02, -3.92460018e-01,\n",
       "        -2.61685997e-01, -3.86149973e-01,  3.89891416e-01,\n",
       "        -3.67999971e-02,  2.85560012e-01, -3.07927001e-02,\n",
       "         6.20001554e-03,  6.36709988e-01,  1.53530002e-01,\n",
       "        -5.50499856e-02,  1.21794991e-01,  1.67029947e-02,\n",
       "         1.82029963e-01,  1.57999992e-03, -3.30659002e-01,\n",
       "         1.91520005e-01, -1.42351002e-01,  1.08329982e-01,\n",
       "        -2.34999001e-01, -9.23030004e-02,  3.07730019e-01,\n",
       "         2.60140002e-02, -1.31900012e-02,  4.54718977e-01,\n",
       "         6.83999956e-02,  3.20499986e-02, -1.83910012e-01,\n",
       "        -3.08539987e-01,  1.71469986e-01, -6.59100115e-02,\n",
       "         1.98130012e-02, -1.22610014e-02,  1.17440000e-01,\n",
       "        -3.86264980e-01, -1.75200015e-01, -4.24080014e-01,\n",
       "         1.81549013e-01, -3.03800106e-02,  2.17009991e-01,\n",
       "        -6.36232793e-01,  1.06850997e-01, -3.95099819e-02,\n",
       "        -1.30580008e-01, -2.64017016e-01, -5.30059993e-01,\n",
       "         3.65830004e-01, -1.97264999e-01, -1.65576994e-01,\n",
       "        -3.93014997e-01,  5.17542005e-01, -2.88830012e-01,\n",
       "         1.27000004e-01, -1.21371001e-01, -1.32304996e-01,\n",
       "        -1.08499974e-02,  5.02420008e-01,  4.33159992e-02,\n",
       "        -4.50299978e-02, -2.12270603e-01,  7.58280009e-02,\n",
       "        -1.29170001e-01,  2.91621983e-01, -3.81622016e-01,\n",
       "        -5.88220000e-01, -1.22499987e-02,  2.39500001e-01,\n",
       "        -4.64210004e-01,  1.14769995e-01, -3.27776998e-01,\n",
       "        -1.11095011e-01,  3.44668984e-01,  8.10500383e-02,\n",
       "        -2.78422982e-01, -2.45452002e-01,  2.67001987e-03,\n",
       "         4.83776003e-01, -3.45052004e-01, -3.33526015e-01,\n",
       "         2.22409993e-01, -1.59399509e-02,  1.31900012e-02,\n",
       "        -2.81378001e-01,  4.98239994e-01, -9.79419947e-02,\n",
       "         1.06079996e-01, -4.21140008e-02,  9.66100097e-02,\n",
       "         4.65829998e-01, -8.47999752e-02,  1.06710002e-01,\n",
       "        -1.05519980e-01, -6.26909971e-01, -3.17445010e-01,\n",
       "        -9.05019045e-01, -3.09626013e-01, -1.94260001e-01,\n",
       "         3.16368014e-01,  1.46500021e-02, -1.42149985e-01,\n",
       "        -2.46479988e-01, -2.14708000e-01, -1.29249990e-01,\n",
       "         4.49492991e-01,  2.39073992e-01,  2.20079988e-01,\n",
       "         4.14260000e-01, -3.96073014e-01, -3.32180023e-01,\n",
       "         4.10815001e-01, -3.69459987e-01,  1.39353991e-01,\n",
       "         2.60770023e-02,  1.66312993e-01,  4.38968986e-01,\n",
       "         6.88599944e-02,  4.24270004e-01, -1.15289986e-01,\n",
       "        -2.88700163e-02, -2.44424995e-02, -3.73439997e-01,\n",
       "        -1.85231999e-01,  2.82130003e-01, -2.73476988e-01]], dtype=float32)"
      ]
     },
     "execution_count": 21,
     "metadata": {},
     "output_type": "execute_result"
    }
   ],
   "source": [
    "semantic_axis_vectors['(man, woman)']"
   ]
  },
  {
   "cell_type": "markdown",
   "metadata": {},
   "source": [
    "## Conclusion\n",
    "\n",
    "- Total of 3131 adjective antonym pairs plus 1 or more custom pairs\n",
    "- Each pair must have GloVe embeddings (i.e. embedding not [0,0,0,0,0, ..., 0])"
   ]
  },
  {
   "cell_type": "markdown",
   "metadata": {},
   "source": [
    "# 2. Contribution of a Word to Microframes"
   ]
  },
  {
   "cell_type": "markdown",
   "metadata": {},
   "source": [
    "For calculating cosine similarity, see [documentaion](https://scikit-learn.org/stable/modules/generated/sklearn.metrics.pairwise.cosine_similarity.html) from sklearn"
   ]
  },
  {
   "cell_type": "code",
   "execution_count": 22,
   "metadata": {},
   "outputs": [
    {
     "data": {
      "text/plain": [
       "0.8498365855987975"
      ]
     },
     "execution_count": 22,
     "metadata": {},
     "output_type": "execute_result"
    }
   ],
   "source": [
    "from sklearn.metrics.pairwise import cosine_similarity\n",
    "import numpy as np\n",
    "\n",
    "# example:\n",
    "x = np.array([[1,2,2]])\n",
    "y = np.array([[3,4,1]])\n",
    "cosine_similarity(x,y).item()"
   ]
  },
  {
   "cell_type": "code",
   "execution_count": 23,
   "metadata": {},
   "outputs": [
    {
     "data": {
      "text/plain": [
       "0.740174412727356"
      ]
     },
     "execution_count": 23,
     "metadata": {},
     "output_type": "execute_result"
    }
   ],
   "source": [
    "np.expand_dims(glove['man'], axis=0).shape\n",
    "cosine_similarity(np.expand_dims(glove['man'], axis=0), np.expand_dims(glove['woman'], axis=0)).item()"
   ]
  },
  {
   "cell_type": "markdown",
   "metadata": {},
   "source": [
    "### Wrapper for cosine similarity\n",
    "Given two words, find similarity:"
   ]
  },
  {
   "cell_type": "code",
   "execution_count": 24,
   "metadata": {},
   "outputs": [
    {
     "data": {
      "text/plain": [
       "0.4572717547416687"
      ]
     },
     "execution_count": 24,
     "metadata": {},
     "output_type": "execute_result"
    }
   ],
   "source": [
    "def my_cos_similarity(func):\n",
    "    def wrapper(word, axis_vector):\n",
    "        return func(np.expand_dims(glove[word], axis=0), axis_vector)\n",
    "    return wrapper\n",
    "\n",
    "@my_cos_similarity\n",
    "def cos_similarity(x, y):\n",
    "    return cosine_similarity(x, y).item()\n",
    "\n",
    "cos_similarity('woman',semantic_axis_vectors['(man, woman)'])"
   ]
  },
  {
   "cell_type": "markdown",
   "metadata": {},
   "source": [
    "The **absolute value** of the similarity between a word vector and\n",
    "a microframe vector captures the relevance of the word to the\n",
    "microframe, while the **sign** of the similarity captures a bias toward\n",
    "one of the poles in the microframe."
   ]
  },
  {
   "cell_type": "markdown",
   "metadata": {},
   "source": [
    "# 3. Framing Bias and Intensity"
   ]
  },
  {
   "cell_type": "markdown",
   "metadata": {},
   "source": [
    "## Bias and word frequency"
   ]
  },
  {
   "cell_type": "code",
   "execution_count": 25,
   "metadata": {},
   "outputs": [],
   "source": [
    "import nltk\n",
    "from multiprocessing import Pool\n",
    "from tqdm.notebook import tqdm"
   ]
  },
  {
   "cell_type": "code",
   "execution_count": 26,
   "metadata": {},
   "outputs": [],
   "source": [
    "# f\n",
    "# word is a single word string\n",
    "# doc_tokens is a list of all document tokens\n",
    "\n",
    "def word_freq(word, doc_tokens):\n",
    "    return doc_tokens.count(word)"
   ]
  },
  {
   "cell_type": "markdown",
   "metadata": {},
   "source": [
    "### Regular function"
   ]
  },
  {
   "cell_type": "code",
   "execution_count": 27,
   "metadata": {},
   "outputs": [],
   "source": [
    "# B\n",
    "def bias(doc, frame=None):\n",
    "    doc_tokens = nltk.word_tokenize(doc)\n",
    "    \n",
    "    numerator, denominator = 0, 0\n",
    "    for word in doc_tokens:\n",
    "        numerator += word_freq(word, doc_tokens) * cos_similarity(word, semantic_axis_vectors[frame])\n",
    "        denominator += word_freq(word, doc_tokens)\n",
    "        \n",
    "    return numerator / denominator"
   ]
  },
  {
   "cell_type": "code",
   "execution_count": 28,
   "metadata": {},
   "outputs": [
    {
     "name": "stdout",
     "output_type": "stream",
     "text": [
      "99.2 ms ± 2.16 ms per loop (mean ± std. dev. of 7 runs, 10 loops each)\n"
     ]
    }
   ],
   "source": [
    "%%timeit\n",
    "sample = data_cleaned['RS_2020_nosleep'].iloc[0:1].selftext.item()\n",
    "bias(sample, frame='(man, woman)')"
   ]
  },
  {
   "cell_type": "markdown",
   "metadata": {},
   "source": [
    "### Same function, but with performance enhancement"
   ]
  },
  {
   "cell_type": "code",
   "execution_count": 29,
   "metadata": {},
   "outputs": [
    {
     "name": "stdout",
     "output_type": "stream",
     "text": [
      "67.9 ms ± 553 µs per loop (mean ± std. dev. of 7 runs, 10 loops each)\n"
     ]
    }
   ],
   "source": [
    "%%timeit\n",
    "sum1, sum2 = 0, 0\n",
    "for i in range(1_000_000):\n",
    "    sum1 += 1\n",
    "    sum2 += 2\n",
    "sum1 / sum2"
   ]
  },
  {
   "cell_type": "code",
   "execution_count": 30,
   "metadata": {},
   "outputs": [
    {
     "name": "stdout",
     "output_type": "stream",
     "text": [
      "55.3 ms ± 795 µs per loop (mean ± std. dev. of 7 runs, 10 loops each)\n"
     ]
    }
   ],
   "source": [
    "%%timeit\n",
    "sum1, sum2 = sum([1 for i in range(1_000_000)]), sum([2 for i in range(1_000_000)])\n",
    "sum1 / sum2"
   ]
  },
  {
   "cell_type": "code",
   "execution_count": 31,
   "metadata": {},
   "outputs": [],
   "source": [
    "# B\n",
    "def bias(doc, frame=None):\n",
    "    doc_tokens = nltk.word_tokenize(doc)\n",
    "    li = [ sum([word_freq(word, doc_tokens) * cos_similarity(word, semantic_axis_vectors[f\"({ant1}, {ant2})\"]) for word in doc_tokens]) / sum([word_freq(word, doc_tokens) for word in doc_tokens]) for ant1, ant2 in tqdm(frame)]\n",
    "    return np.array(li)"
   ]
  },
  {
   "cell_type": "code",
   "execution_count": 32,
   "metadata": {
    "collapsed": true,
    "jupyter": {
     "outputs_hidden": true
    }
   },
   "outputs": [
    {
     "data": {
      "application/vnd.jupyter.widget-view+json": {
       "model_id": "ba411922762743f6bacfd5df0305c061",
       "version_major": 2,
       "version_minor": 0
      },
      "text/plain": [
       "  0%|          | 0/1 [00:00<?, ?it/s]"
      ]
     },
     "metadata": {},
     "output_type": "display_data"
    },
    {
     "data": {
      "application/vnd.jupyter.widget-view+json": {
       "model_id": "08be50df9f7a4f7c8f6a325128e302d3",
       "version_major": 2,
       "version_minor": 0
      },
      "text/plain": [
       "  0%|          | 0/1 [00:00<?, ?it/s]"
      ]
     },
     "metadata": {},
     "output_type": "display_data"
    },
    {
     "data": {
      "application/vnd.jupyter.widget-view+json": {
       "model_id": "aa8dfe6689194bcaba1c60517e7d882f",
       "version_major": 2,
       "version_minor": 0
      },
      "text/plain": [
       "  0%|          | 0/1 [00:00<?, ?it/s]"
      ]
     },
     "metadata": {},
     "output_type": "display_data"
    },
    {
     "data": {
      "application/vnd.jupyter.widget-view+json": {
       "model_id": "fdc4cce7bed64e689e8cbe7f24e2edc1",
       "version_major": 2,
       "version_minor": 0
      },
      "text/plain": [
       "  0%|          | 0/1 [00:00<?, ?it/s]"
      ]
     },
     "metadata": {},
     "output_type": "display_data"
    },
    {
     "data": {
      "application/vnd.jupyter.widget-view+json": {
       "model_id": "88c96cd0ffdf439180de8b45a4984ce1",
       "version_major": 2,
       "version_minor": 0
      },
      "text/plain": [
       "  0%|          | 0/1 [00:00<?, ?it/s]"
      ]
     },
     "metadata": {},
     "output_type": "display_data"
    },
    {
     "data": {
      "application/vnd.jupyter.widget-view+json": {
       "model_id": "0d5952d68caf4c1bb4517fc29e6eeb38",
       "version_major": 2,
       "version_minor": 0
      },
      "text/plain": [
       "  0%|          | 0/1 [00:00<?, ?it/s]"
      ]
     },
     "metadata": {},
     "output_type": "display_data"
    },
    {
     "data": {
      "application/vnd.jupyter.widget-view+json": {
       "model_id": "ae6a790e23574c45bb6e2693799e4f6d",
       "version_major": 2,
       "version_minor": 0
      },
      "text/plain": [
       "  0%|          | 0/1 [00:00<?, ?it/s]"
      ]
     },
     "metadata": {},
     "output_type": "display_data"
    },
    {
     "data": {
      "application/vnd.jupyter.widget-view+json": {
       "model_id": "89bdac4cbb9148c696d96e5e11837dbe",
       "version_major": 2,
       "version_minor": 0
      },
      "text/plain": [
       "  0%|          | 0/1 [00:00<?, ?it/s]"
      ]
     },
     "metadata": {},
     "output_type": "display_data"
    },
    {
     "data": {
      "application/vnd.jupyter.widget-view+json": {
       "model_id": "09a3a6e80bdb460aa464a96837f67b9d",
       "version_major": 2,
       "version_minor": 0
      },
      "text/plain": [
       "  0%|          | 0/1 [00:00<?, ?it/s]"
      ]
     },
     "metadata": {},
     "output_type": "display_data"
    },
    {
     "data": {
      "application/vnd.jupyter.widget-view+json": {
       "model_id": "b021cc0746704bb59544ddd5f087a550",
       "version_major": 2,
       "version_minor": 0
      },
      "text/plain": [
       "  0%|          | 0/1 [00:00<?, ?it/s]"
      ]
     },
     "metadata": {},
     "output_type": "display_data"
    },
    {
     "data": {
      "application/vnd.jupyter.widget-view+json": {
       "model_id": "4bf967aca2a040488130f64df6e7bb8c",
       "version_major": 2,
       "version_minor": 0
      },
      "text/plain": [
       "  0%|          | 0/1 [00:00<?, ?it/s]"
      ]
     },
     "metadata": {},
     "output_type": "display_data"
    },
    {
     "data": {
      "application/vnd.jupyter.widget-view+json": {
       "model_id": "ba29a54524e34f8fba8abf3dd8b0d64c",
       "version_major": 2,
       "version_minor": 0
      },
      "text/plain": [
       "  0%|          | 0/1 [00:00<?, ?it/s]"
      ]
     },
     "metadata": {},
     "output_type": "display_data"
    },
    {
     "data": {
      "application/vnd.jupyter.widget-view+json": {
       "model_id": "94b57c071e3e48578deca0e68d6378d6",
       "version_major": 2,
       "version_minor": 0
      },
      "text/plain": [
       "  0%|          | 0/1 [00:00<?, ?it/s]"
      ]
     },
     "metadata": {},
     "output_type": "display_data"
    },
    {
     "data": {
      "application/vnd.jupyter.widget-view+json": {
       "model_id": "3b08da3a15df42a6b2b7184fb33d3333",
       "version_major": 2,
       "version_minor": 0
      },
      "text/plain": [
       "  0%|          | 0/1 [00:00<?, ?it/s]"
      ]
     },
     "metadata": {},
     "output_type": "display_data"
    },
    {
     "data": {
      "application/vnd.jupyter.widget-view+json": {
       "model_id": "629f6639940e480cb03d17f5cb4480df",
       "version_major": 2,
       "version_minor": 0
      },
      "text/plain": [
       "  0%|          | 0/1 [00:00<?, ?it/s]"
      ]
     },
     "metadata": {},
     "output_type": "display_data"
    },
    {
     "data": {
      "application/vnd.jupyter.widget-view+json": {
       "model_id": "c88bb55488ad41b190d279bae4b39475",
       "version_major": 2,
       "version_minor": 0
      },
      "text/plain": [
       "  0%|          | 0/1 [00:00<?, ?it/s]"
      ]
     },
     "metadata": {},
     "output_type": "display_data"
    },
    {
     "data": {
      "application/vnd.jupyter.widget-view+json": {
       "model_id": "078b6aa726a64a67b8bc4e381655d6b8",
       "version_major": 2,
       "version_minor": 0
      },
      "text/plain": [
       "  0%|          | 0/1 [00:00<?, ?it/s]"
      ]
     },
     "metadata": {},
     "output_type": "display_data"
    },
    {
     "data": {
      "application/vnd.jupyter.widget-view+json": {
       "model_id": "a04db07783a04d8b85d0fa215cf57c5c",
       "version_major": 2,
       "version_minor": 0
      },
      "text/plain": [
       "  0%|          | 0/1 [00:00<?, ?it/s]"
      ]
     },
     "metadata": {},
     "output_type": "display_data"
    },
    {
     "data": {
      "application/vnd.jupyter.widget-view+json": {
       "model_id": "24739392f52e4e7e805d010e7caaaf80",
       "version_major": 2,
       "version_minor": 0
      },
      "text/plain": [
       "  0%|          | 0/1 [00:00<?, ?it/s]"
      ]
     },
     "metadata": {},
     "output_type": "display_data"
    },
    {
     "data": {
      "application/vnd.jupyter.widget-view+json": {
       "model_id": "b871426251d04b549bfdeffa0d4c7631",
       "version_major": 2,
       "version_minor": 0
      },
      "text/plain": [
       "  0%|          | 0/1 [00:00<?, ?it/s]"
      ]
     },
     "metadata": {},
     "output_type": "display_data"
    },
    {
     "data": {
      "application/vnd.jupyter.widget-view+json": {
       "model_id": "f0ff09f0b6cf4d149065e6f3757ce9e2",
       "version_major": 2,
       "version_minor": 0
      },
      "text/plain": [
       "  0%|          | 0/1 [00:00<?, ?it/s]"
      ]
     },
     "metadata": {},
     "output_type": "display_data"
    },
    {
     "data": {
      "application/vnd.jupyter.widget-view+json": {
       "model_id": "f4f0863dfd60457faad82c61ecea66df",
       "version_major": 2,
       "version_minor": 0
      },
      "text/plain": [
       "  0%|          | 0/1 [00:00<?, ?it/s]"
      ]
     },
     "metadata": {},
     "output_type": "display_data"
    },
    {
     "data": {
      "application/vnd.jupyter.widget-view+json": {
       "model_id": "63ea97083e344738b7db4b0e62ad1478",
       "version_major": 2,
       "version_minor": 0
      },
      "text/plain": [
       "  0%|          | 0/1 [00:00<?, ?it/s]"
      ]
     },
     "metadata": {},
     "output_type": "display_data"
    },
    {
     "data": {
      "application/vnd.jupyter.widget-view+json": {
       "model_id": "ee65049dc1fc465b8564c0a3e53232c8",
       "version_major": 2,
       "version_minor": 0
      },
      "text/plain": [
       "  0%|          | 0/1 [00:00<?, ?it/s]"
      ]
     },
     "metadata": {},
     "output_type": "display_data"
    },
    {
     "data": {
      "application/vnd.jupyter.widget-view+json": {
       "model_id": "53ab254545e649bdbff74c4b6a813448",
       "version_major": 2,
       "version_minor": 0
      },
      "text/plain": [
       "  0%|          | 0/1 [00:00<?, ?it/s]"
      ]
     },
     "metadata": {},
     "output_type": "display_data"
    },
    {
     "data": {
      "application/vnd.jupyter.widget-view+json": {
       "model_id": "e23a485f4fb141cfac64aede7e446fad",
       "version_major": 2,
       "version_minor": 0
      },
      "text/plain": [
       "  0%|          | 0/1 [00:00<?, ?it/s]"
      ]
     },
     "metadata": {},
     "output_type": "display_data"
    },
    {
     "data": {
      "application/vnd.jupyter.widget-view+json": {
       "model_id": "2d7888832be8443c9f943bef48a76ae3",
       "version_major": 2,
       "version_minor": 0
      },
      "text/plain": [
       "  0%|          | 0/1 [00:00<?, ?it/s]"
      ]
     },
     "metadata": {},
     "output_type": "display_data"
    },
    {
     "data": {
      "application/vnd.jupyter.widget-view+json": {
       "model_id": "56b13397040e47eabf8b3d87503794a4",
       "version_major": 2,
       "version_minor": 0
      },
      "text/plain": [
       "  0%|          | 0/1 [00:00<?, ?it/s]"
      ]
     },
     "metadata": {},
     "output_type": "display_data"
    },
    {
     "data": {
      "application/vnd.jupyter.widget-view+json": {
       "model_id": "f1318f4a87754bf8a7fcc103bfe5f149",
       "version_major": 2,
       "version_minor": 0
      },
      "text/plain": [
       "  0%|          | 0/1 [00:00<?, ?it/s]"
      ]
     },
     "metadata": {},
     "output_type": "display_data"
    },
    {
     "data": {
      "application/vnd.jupyter.widget-view+json": {
       "model_id": "a4c1026183954bd8b7a45ec95d5218f8",
       "version_major": 2,
       "version_minor": 0
      },
      "text/plain": [
       "  0%|          | 0/1 [00:00<?, ?it/s]"
      ]
     },
     "metadata": {},
     "output_type": "display_data"
    },
    {
     "data": {
      "application/vnd.jupyter.widget-view+json": {
       "model_id": "0bc07bb6576f452b9268c6ad635272b7",
       "version_major": 2,
       "version_minor": 0
      },
      "text/plain": [
       "  0%|          | 0/1 [00:00<?, ?it/s]"
      ]
     },
     "metadata": {},
     "output_type": "display_data"
    },
    {
     "data": {
      "application/vnd.jupyter.widget-view+json": {
       "model_id": "506e189f40414124a87d402aed5fd8d4",
       "version_major": 2,
       "version_minor": 0
      },
      "text/plain": [
       "  0%|          | 0/1 [00:00<?, ?it/s]"
      ]
     },
     "metadata": {},
     "output_type": "display_data"
    },
    {
     "data": {
      "application/vnd.jupyter.widget-view+json": {
       "model_id": "9c51e259805e4e57b4384e4ac7aaa6fa",
       "version_major": 2,
       "version_minor": 0
      },
      "text/plain": [
       "  0%|          | 0/1 [00:00<?, ?it/s]"
      ]
     },
     "metadata": {},
     "output_type": "display_data"
    },
    {
     "data": {
      "application/vnd.jupyter.widget-view+json": {
       "model_id": "2e8a6df6e06e4924a563978a66399dc3",
       "version_major": 2,
       "version_minor": 0
      },
      "text/plain": [
       "  0%|          | 0/1 [00:00<?, ?it/s]"
      ]
     },
     "metadata": {},
     "output_type": "display_data"
    },
    {
     "data": {
      "application/vnd.jupyter.widget-view+json": {
       "model_id": "e339595a9cc040719fee0766d3e51780",
       "version_major": 2,
       "version_minor": 0
      },
      "text/plain": [
       "  0%|          | 0/1 [00:00<?, ?it/s]"
      ]
     },
     "metadata": {},
     "output_type": "display_data"
    },
    {
     "data": {
      "application/vnd.jupyter.widget-view+json": {
       "model_id": "18c188f611a04baa9f9040812f20faec",
       "version_major": 2,
       "version_minor": 0
      },
      "text/plain": [
       "  0%|          | 0/1 [00:00<?, ?it/s]"
      ]
     },
     "metadata": {},
     "output_type": "display_data"
    },
    {
     "data": {
      "application/vnd.jupyter.widget-view+json": {
       "model_id": "dfb1d9e6ea0b49eb97778609f1200c13",
       "version_major": 2,
       "version_minor": 0
      },
      "text/plain": [
       "  0%|          | 0/1 [00:00<?, ?it/s]"
      ]
     },
     "metadata": {},
     "output_type": "display_data"
    },
    {
     "data": {
      "application/vnd.jupyter.widget-view+json": {
       "model_id": "ef5ca254eb1d41ea997d5acca752bd53",
       "version_major": 2,
       "version_minor": 0
      },
      "text/plain": [
       "  0%|          | 0/1 [00:00<?, ?it/s]"
      ]
     },
     "metadata": {},
     "output_type": "display_data"
    },
    {
     "data": {
      "application/vnd.jupyter.widget-view+json": {
       "model_id": "8bfceb1cf9b6436cacd9f75f51cf2cd1",
       "version_major": 2,
       "version_minor": 0
      },
      "text/plain": [
       "  0%|          | 0/1 [00:00<?, ?it/s]"
      ]
     },
     "metadata": {},
     "output_type": "display_data"
    },
    {
     "data": {
      "application/vnd.jupyter.widget-view+json": {
       "model_id": "87063c13b0b04bb5aaf95a6b6b66963d",
       "version_major": 2,
       "version_minor": 0
      },
      "text/plain": [
       "  0%|          | 0/1 [00:00<?, ?it/s]"
      ]
     },
     "metadata": {},
     "output_type": "display_data"
    },
    {
     "data": {
      "application/vnd.jupyter.widget-view+json": {
       "model_id": "3f3342f63d434aae85addd295d1935e7",
       "version_major": 2,
       "version_minor": 0
      },
      "text/plain": [
       "  0%|          | 0/1 [00:00<?, ?it/s]"
      ]
     },
     "metadata": {},
     "output_type": "display_data"
    },
    {
     "data": {
      "application/vnd.jupyter.widget-view+json": {
       "model_id": "4cda8da525d147bd97ca829151a1d002",
       "version_major": 2,
       "version_minor": 0
      },
      "text/plain": [
       "  0%|          | 0/1 [00:00<?, ?it/s]"
      ]
     },
     "metadata": {},
     "output_type": "display_data"
    },
    {
     "data": {
      "application/vnd.jupyter.widget-view+json": {
       "model_id": "d93c9429127d48b18d6342640f67ee33",
       "version_major": 2,
       "version_minor": 0
      },
      "text/plain": [
       "  0%|          | 0/1 [00:00<?, ?it/s]"
      ]
     },
     "metadata": {},
     "output_type": "display_data"
    },
    {
     "data": {
      "application/vnd.jupyter.widget-view+json": {
       "model_id": "c28aadbd5c864127a1a585212f0feac7",
       "version_major": 2,
       "version_minor": 0
      },
      "text/plain": [
       "  0%|          | 0/1 [00:00<?, ?it/s]"
      ]
     },
     "metadata": {},
     "output_type": "display_data"
    },
    {
     "data": {
      "application/vnd.jupyter.widget-view+json": {
       "model_id": "6c47803bf9db4be2acd1b72f42caf38c",
       "version_major": 2,
       "version_minor": 0
      },
      "text/plain": [
       "  0%|          | 0/1 [00:00<?, ?it/s]"
      ]
     },
     "metadata": {},
     "output_type": "display_data"
    },
    {
     "data": {
      "application/vnd.jupyter.widget-view+json": {
       "model_id": "61e1c08976db481dadb5c3c215ddf294",
       "version_major": 2,
       "version_minor": 0
      },
      "text/plain": [
       "  0%|          | 0/1 [00:00<?, ?it/s]"
      ]
     },
     "metadata": {},
     "output_type": "display_data"
    },
    {
     "data": {
      "application/vnd.jupyter.widget-view+json": {
       "model_id": "86cc1c813e4141f7964fbb223627e4e5",
       "version_major": 2,
       "version_minor": 0
      },
      "text/plain": [
       "  0%|          | 0/1 [00:00<?, ?it/s]"
      ]
     },
     "metadata": {},
     "output_type": "display_data"
    },
    {
     "data": {
      "application/vnd.jupyter.widget-view+json": {
       "model_id": "a60d9916f1da4de7960d66de3e7b50a4",
       "version_major": 2,
       "version_minor": 0
      },
      "text/plain": [
       "  0%|          | 0/1 [00:00<?, ?it/s]"
      ]
     },
     "metadata": {},
     "output_type": "display_data"
    },
    {
     "data": {
      "application/vnd.jupyter.widget-view+json": {
       "model_id": "7a21b984de854b9d820d8706f8f6de64",
       "version_major": 2,
       "version_minor": 0
      },
      "text/plain": [
       "  0%|          | 0/1 [00:00<?, ?it/s]"
      ]
     },
     "metadata": {},
     "output_type": "display_data"
    },
    {
     "data": {
      "application/vnd.jupyter.widget-view+json": {
       "model_id": "408f4f9b6d854219a45bf01598dbec2c",
       "version_major": 2,
       "version_minor": 0
      },
      "text/plain": [
       "  0%|          | 0/1 [00:00<?, ?it/s]"
      ]
     },
     "metadata": {},
     "output_type": "display_data"
    },
    {
     "data": {
      "application/vnd.jupyter.widget-view+json": {
       "model_id": "b853fa3a92f94178846c96925cd69293",
       "version_major": 2,
       "version_minor": 0
      },
      "text/plain": [
       "  0%|          | 0/1 [00:00<?, ?it/s]"
      ]
     },
     "metadata": {},
     "output_type": "display_data"
    },
    {
     "data": {
      "application/vnd.jupyter.widget-view+json": {
       "model_id": "375562e6968c411ca1e7561bb820da30",
       "version_major": 2,
       "version_minor": 0
      },
      "text/plain": [
       "  0%|          | 0/1 [00:00<?, ?it/s]"
      ]
     },
     "metadata": {},
     "output_type": "display_data"
    },
    {
     "data": {
      "application/vnd.jupyter.widget-view+json": {
       "model_id": "4f99176d6b2e48ddbf1de2b924b08e81",
       "version_major": 2,
       "version_minor": 0
      },
      "text/plain": [
       "  0%|          | 0/1 [00:00<?, ?it/s]"
      ]
     },
     "metadata": {},
     "output_type": "display_data"
    },
    {
     "data": {
      "application/vnd.jupyter.widget-view+json": {
       "model_id": "519ce694bf0b40ee9b17441d52980e23",
       "version_major": 2,
       "version_minor": 0
      },
      "text/plain": [
       "  0%|          | 0/1 [00:00<?, ?it/s]"
      ]
     },
     "metadata": {},
     "output_type": "display_data"
    },
    {
     "data": {
      "application/vnd.jupyter.widget-view+json": {
       "model_id": "38607242be584624ad80f203e0ef5622",
       "version_major": 2,
       "version_minor": 0
      },
      "text/plain": [
       "  0%|          | 0/1 [00:00<?, ?it/s]"
      ]
     },
     "metadata": {},
     "output_type": "display_data"
    },
    {
     "data": {
      "application/vnd.jupyter.widget-view+json": {
       "model_id": "a707ae0766484c7eaf18bc3711bd21d3",
       "version_major": 2,
       "version_minor": 0
      },
      "text/plain": [
       "  0%|          | 0/1 [00:00<?, ?it/s]"
      ]
     },
     "metadata": {},
     "output_type": "display_data"
    },
    {
     "data": {
      "application/vnd.jupyter.widget-view+json": {
       "model_id": "4c5ae4ee24eb4ba3b2ae20c32e15c220",
       "version_major": 2,
       "version_minor": 0
      },
      "text/plain": [
       "  0%|          | 0/1 [00:00<?, ?it/s]"
      ]
     },
     "metadata": {},
     "output_type": "display_data"
    },
    {
     "data": {
      "application/vnd.jupyter.widget-view+json": {
       "model_id": "ba3cbb3a768b4e518e14eff1b8d15c1e",
       "version_major": 2,
       "version_minor": 0
      },
      "text/plain": [
       "  0%|          | 0/1 [00:00<?, ?it/s]"
      ]
     },
     "metadata": {},
     "output_type": "display_data"
    },
    {
     "data": {
      "application/vnd.jupyter.widget-view+json": {
       "model_id": "efab54e38af4465298aee7a185d4d23b",
       "version_major": 2,
       "version_minor": 0
      },
      "text/plain": [
       "  0%|          | 0/1 [00:00<?, ?it/s]"
      ]
     },
     "metadata": {},
     "output_type": "display_data"
    },
    {
     "data": {
      "application/vnd.jupyter.widget-view+json": {
       "model_id": "291f1302816d4979ba1db6d9e7256807",
       "version_major": 2,
       "version_minor": 0
      },
      "text/plain": [
       "  0%|          | 0/1 [00:00<?, ?it/s]"
      ]
     },
     "metadata": {},
     "output_type": "display_data"
    },
    {
     "data": {
      "application/vnd.jupyter.widget-view+json": {
       "model_id": "fb4cf15f77e24edbb8fedd2bab3bfcd8",
       "version_major": 2,
       "version_minor": 0
      },
      "text/plain": [
       "  0%|          | 0/1 [00:00<?, ?it/s]"
      ]
     },
     "metadata": {},
     "output_type": "display_data"
    },
    {
     "data": {
      "application/vnd.jupyter.widget-view+json": {
       "model_id": "8d4ce5c1f058457cbaa3ac969aab62d1",
       "version_major": 2,
       "version_minor": 0
      },
      "text/plain": [
       "  0%|          | 0/1 [00:00<?, ?it/s]"
      ]
     },
     "metadata": {},
     "output_type": "display_data"
    },
    {
     "data": {
      "application/vnd.jupyter.widget-view+json": {
       "model_id": "d3d16db0199f498f88c297b94a940fcb",
       "version_major": 2,
       "version_minor": 0
      },
      "text/plain": [
       "  0%|          | 0/1 [00:00<?, ?it/s]"
      ]
     },
     "metadata": {},
     "output_type": "display_data"
    },
    {
     "data": {
      "application/vnd.jupyter.widget-view+json": {
       "model_id": "d90145aae27e4568b6380d3fba5b5c17",
       "version_major": 2,
       "version_minor": 0
      },
      "text/plain": [
       "  0%|          | 0/1 [00:00<?, ?it/s]"
      ]
     },
     "metadata": {},
     "output_type": "display_data"
    },
    {
     "data": {
      "application/vnd.jupyter.widget-view+json": {
       "model_id": "314bf99845014a02b7d48ce217644bb9",
       "version_major": 2,
       "version_minor": 0
      },
      "text/plain": [
       "  0%|          | 0/1 [00:00<?, ?it/s]"
      ]
     },
     "metadata": {},
     "output_type": "display_data"
    },
    {
     "data": {
      "application/vnd.jupyter.widget-view+json": {
       "model_id": "5d924fa07b114d959bb6bfed4bcc97cf",
       "version_major": 2,
       "version_minor": 0
      },
      "text/plain": [
       "  0%|          | 0/1 [00:00<?, ?it/s]"
      ]
     },
     "metadata": {},
     "output_type": "display_data"
    },
    {
     "data": {
      "application/vnd.jupyter.widget-view+json": {
       "model_id": "43ac5eee79c04044adccff72a61b51d6",
       "version_major": 2,
       "version_minor": 0
      },
      "text/plain": [
       "  0%|          | 0/1 [00:00<?, ?it/s]"
      ]
     },
     "metadata": {},
     "output_type": "display_data"
    },
    {
     "data": {
      "application/vnd.jupyter.widget-view+json": {
       "model_id": "94afd36b46c347f199e31130763bd401",
       "version_major": 2,
       "version_minor": 0
      },
      "text/plain": [
       "  0%|          | 0/1 [00:00<?, ?it/s]"
      ]
     },
     "metadata": {},
     "output_type": "display_data"
    },
    {
     "data": {
      "application/vnd.jupyter.widget-view+json": {
       "model_id": "9eece88701084da39dc19a2a28ab0575",
       "version_major": 2,
       "version_minor": 0
      },
      "text/plain": [
       "  0%|          | 0/1 [00:00<?, ?it/s]"
      ]
     },
     "metadata": {},
     "output_type": "display_data"
    },
    {
     "data": {
      "application/vnd.jupyter.widget-view+json": {
       "model_id": "bf05177f387542d381febbced3fac6f6",
       "version_major": 2,
       "version_minor": 0
      },
      "text/plain": [
       "  0%|          | 0/1 [00:00<?, ?it/s]"
      ]
     },
     "metadata": {},
     "output_type": "display_data"
    },
    {
     "data": {
      "application/vnd.jupyter.widget-view+json": {
       "model_id": "2be122e544984e20bb4f4be23d7fe68e",
       "version_major": 2,
       "version_minor": 0
      },
      "text/plain": [
       "  0%|          | 0/1 [00:00<?, ?it/s]"
      ]
     },
     "metadata": {},
     "output_type": "display_data"
    },
    {
     "data": {
      "application/vnd.jupyter.widget-view+json": {
       "model_id": "87c71507bd4e4174bda280c5ee12043c",
       "version_major": 2,
       "version_minor": 0
      },
      "text/plain": [
       "  0%|          | 0/1 [00:00<?, ?it/s]"
      ]
     },
     "metadata": {},
     "output_type": "display_data"
    },
    {
     "data": {
      "application/vnd.jupyter.widget-view+json": {
       "model_id": "3fb076e7e0da4c58ae26d8e3da05adf0",
       "version_major": 2,
       "version_minor": 0
      },
      "text/plain": [
       "  0%|          | 0/1 [00:00<?, ?it/s]"
      ]
     },
     "metadata": {},
     "output_type": "display_data"
    },
    {
     "data": {
      "application/vnd.jupyter.widget-view+json": {
       "model_id": "106de84fbbcd412ba2b59d1f96100fa8",
       "version_major": 2,
       "version_minor": 0
      },
      "text/plain": [
       "  0%|          | 0/1 [00:00<?, ?it/s]"
      ]
     },
     "metadata": {},
     "output_type": "display_data"
    },
    {
     "data": {
      "application/vnd.jupyter.widget-view+json": {
       "model_id": "f075429b9dd4479c89027d7165a5a990",
       "version_major": 2,
       "version_minor": 0
      },
      "text/plain": [
       "  0%|          | 0/1 [00:00<?, ?it/s]"
      ]
     },
     "metadata": {},
     "output_type": "display_data"
    },
    {
     "data": {
      "application/vnd.jupyter.widget-view+json": {
       "model_id": "bd39c6e6e3594baeb6a746bd4768ae7d",
       "version_major": 2,
       "version_minor": 0
      },
      "text/plain": [
       "  0%|          | 0/1 [00:00<?, ?it/s]"
      ]
     },
     "metadata": {},
     "output_type": "display_data"
    },
    {
     "data": {
      "application/vnd.jupyter.widget-view+json": {
       "model_id": "e71f1616dedf4b3bb6f19d0aa1f36e47",
       "version_major": 2,
       "version_minor": 0
      },
      "text/plain": [
       "  0%|          | 0/1 [00:00<?, ?it/s]"
      ]
     },
     "metadata": {},
     "output_type": "display_data"
    },
    {
     "data": {
      "application/vnd.jupyter.widget-view+json": {
       "model_id": "aa81fe4c270542849d04105dfdb14076",
       "version_major": 2,
       "version_minor": 0
      },
      "text/plain": [
       "  0%|          | 0/1 [00:00<?, ?it/s]"
      ]
     },
     "metadata": {},
     "output_type": "display_data"
    },
    {
     "data": {
      "application/vnd.jupyter.widget-view+json": {
       "model_id": "5bca55f158ed439b98346ef90a6b89a9",
       "version_major": 2,
       "version_minor": 0
      },
      "text/plain": [
       "  0%|          | 0/1 [00:00<?, ?it/s]"
      ]
     },
     "metadata": {},
     "output_type": "display_data"
    },
    {
     "data": {
      "application/vnd.jupyter.widget-view+json": {
       "model_id": "d47a319766c145849bf15198f96a52c2",
       "version_major": 2,
       "version_minor": 0
      },
      "text/plain": [
       "  0%|          | 0/1 [00:00<?, ?it/s]"
      ]
     },
     "metadata": {},
     "output_type": "display_data"
    },
    {
     "data": {
      "application/vnd.jupyter.widget-view+json": {
       "model_id": "9a3a405373944879a7398dbc2fb28cdd",
       "version_major": 2,
       "version_minor": 0
      },
      "text/plain": [
       "  0%|          | 0/1 [00:00<?, ?it/s]"
      ]
     },
     "metadata": {},
     "output_type": "display_data"
    },
    {
     "name": "stdout",
     "output_type": "stream",
     "text": [
      "119 ms ± 1.94 ms per loop (mean ± std. dev. of 7 runs, 10 loops each)\n"
     ]
    }
   ],
   "source": [
    "%%timeit\n",
    "sample = data_cleaned['RS_2020_nosleep'].iloc[0:1].selftext.item()\n",
    "bias(sample, frame={('man', 'woman')})"
   ]
  },
  {
   "cell_type": "markdown",
   "metadata": {},
   "source": [
    "# $B^T$ (failed for now)"
   ]
  },
  {
   "cell_type": "code",
   "execution_count": 33,
   "metadata": {},
   "outputs": [],
   "source": [
    "import pandas as pd\n",
    "concat_df = pd.concat([data_cleaned['RS_2020_self'], data_cleaned['RS_2020_nosleep']])"
   ]
  },
  {
   "cell_type": "code",
   "execution_count": 34,
   "metadata": {},
   "outputs": [],
   "source": [
    "np.savetxt(\"Download/concat_texts.txt\", concat_df['selftext'].astype('string').values, fmt='%s')"
   ]
  },
  {
   "cell_type": "code",
   "execution_count": 35,
   "metadata": {},
   "outputs": [],
   "source": [
    "with open('Download/concat_texts.txt', 'r') as file:\n",
    "    concat_texts = file.read()"
   ]
  },
  {
   "cell_type": "code",
   "execution_count": 35,
   "metadata": {},
   "outputs": [],
   "source": [
    "# bias(concat_texts, frame = 'man - woman')"
   ]
  },
  {
   "cell_type": "markdown",
   "metadata": {},
   "source": [
    "## Intensity (failed for now)"
   ]
  },
  {
   "cell_type": "markdown",
   "metadata": {},
   "source": [
    "### Create the entire corpus *T*"
   ]
  },
  {
   "cell_type": "code",
   "execution_count": 45,
   "metadata": {},
   "outputs": [],
   "source": [
    "# I\n",
    "def intensity(doc, frame=None, corpus = concat_texts):\n",
    "    doc_tokens = nltk.word_tokenize(doc)\n",
    "    \n",
    "    print('Calculating B^T')\n",
    "    B_T = bias(corpus, frame = frame)\n",
    "    print('Done')\n",
    "    numerator, denominator = sum([word_freq(word, doc_tokens) * (cos_similarity(word, semantic_axis_vectors[frame]) - B_T)**2 for word in doc_tokens]), sum([word_freq(word, doc_tokens) for word in doc_tokens])\n",
    "        \n",
    "    return numerator / denominator"
   ]
  },
  {
   "cell_type": "code",
   "execution_count": 36,
   "metadata": {},
   "outputs": [],
   "source": [
    "sample = data_cleaned['RS_2020_nosleep'].iloc[0:1].selftext.item()\n",
    "# intensity(sample, frame='man - woman', corpus = concat_texts)"
   ]
  },
  {
   "cell_type": "code",
   "execution_count": null,
   "metadata": {},
   "outputs": [],
   "source": []
  },
  {
   "cell_type": "markdown",
   "metadata": {},
   "source": [
    "# 4. Statistical Significance of Microframes"
   ]
  },
  {
   "cell_type": "code",
   "execution_count": 33,
   "metadata": {},
   "outputs": [],
   "source": [
    "import pandas as pd\n",
    "import numpy as np\n",
    "\n",
    "def df_mframes(df, microframes=microframes, topn=None):\n",
    "    # if not specify topn\n",
    "    if not topn:\n",
    "        iterables = [df['id'].to_list(), list(microframes)]\n",
    "        index = pd.MultiIndex.from_product(iterables, names=['id', 'microframe'])\n",
    "        df_new = pd.DataFrame(np.repeat(df[['title', 'selftext', 'score']].values, \n",
    "                                    len(microframes), \n",
    "                                    axis = 0),\n",
    "                          index=index,\n",
    "                          columns=['title', 'selftext', 'score']).copy()\n",
    "        # map semantic axis vector to index\n",
    "        # how it works: index -> get 2nd level index -> to series -> convert tuple to string -> map values\n",
    "        a = df_new.index.get_level_values(1).to_series().apply(lambda row: f\"({row[0]}, {row[1]})\").map(semantic_axis_vectors)\n",
    "        df_new['Semantic Axis Vector'] = a.to_list()\n",
    "        return df_new\n",
    "    else:\n",
    "        iterables = [df['id'].head(topn).to_list(), list(microframes)]\n",
    "        index = pd.MultiIndex.from_product(iterables, names=['id', 'microframe'])\n",
    "        df_new = pd.DataFrame(np.repeat(df[['title', 'selftext', 'score']].head(topn).values, \n",
    "                                    len(microframes), \n",
    "                                    axis = 0),\n",
    "                          index=index,\n",
    "                          columns=['title', 'selftext', 'score']).copy()\n",
    "        # map semantic axis vector to index\n",
    "        # how it works: index -> get 2nd level index -> to series -> convert tuple to string -> map values\n",
    "        a = df_new.index.get_level_values(1).to_series().apply(lambda row: f\"({row[0]}, {row[1]})\").map(semantic_axis_vectors)\n",
    "        df_new['Semantic Axis Vector'] = a.to_list()\n",
    "        return df_new"
   ]
  },
  {
   "cell_type": "code",
   "execution_count": 34,
   "metadata": {},
   "outputs": [],
   "source": [
    "sample_doc = data_cleaned['RS_2020_nosleep'].iloc[0:1].selftext.item()"
   ]
  },
  {
   "cell_type": "code",
   "execution_count": 35,
   "metadata": {},
   "outputs": [
    {
     "data": {
      "text/plain": [
       "\"This is the only rule of our household. If you feel a presence standing over you while you sleep, do **NOT** open your eyes. Ignore it and try to fall asleep. This may sound a bit like the show Bird Box from Netflix but this is real, this is serious. You don't want to know what happens if you open your eyes. Let me start from the beginning, from where it all began.\\n\\n------------------------\\n\\nMy family had just moved to a new house in a new city in an eerily quiet neighborhood. We barely ever saw the neighbors and there were almost no animals around. It threw me off a little bit but i quickly got accustomed to it. My school was pretty close to my house so it was not difficult to make friends that I could regularly bring home. So, a few months in the new house, when i was sleeping one night, i felt a figure standing over me. Now, I have always been a bit of a scaredy cat so I slammed my eyes shut and waited. A few moments later, I felt it go away. This happened to me every night and I continuously told my parents about it but they never believed me. They said that i was dreaming and not to think about it too much but i kept on badgering them until they finally installed a camera in every room just as a precaution. The next night when the presence came again, i followed the same routine of keeping my eyes shut until it went away. The next morning i asked my parents to check the cameras. Even though they were skeptical, they checked the camera and what they saw apparently shocked them to the core but me, not so much.\\n\\nThe camera showed that when i go to sleep, or act like it, a shadowy figure came and stood over my bed with its face hidden in such a fashion that it can only be seen if the person in the bed looked straight up. The figure/creature appeared to be wearing some sort of cloak with a 5 point star drawn on it. Now, my family is not very religious but seemed to horrify my parents. The problem was, which we soon figured out, we could not go to the church or temple or any kind of holy place without angering this creature. Every time any of my parents set out to go to any of these places, dangerous incidents seem to happen which, don't happen to kill, but seem to be some kind of warning like the car swerving off the road or a car speeding dangerously close while crossing the road. We soon realized that something supernatural was at play.\\n\\nIt was after my mom almost got run over by a cement mixture truck that we gave up our attempts to contact a holy leader. We made the rule and to this day we have never had a single incident except ONE. But that is a story for some other time...\""
      ]
     },
     "execution_count": 35,
     "metadata": {},
     "output_type": "execute_result"
    }
   ],
   "source": [
    "sample_doc"
   ]
  },
  {
   "cell_type": "code",
   "execution_count": 36,
   "metadata": {},
   "outputs": [],
   "source": [
    "with open('Download/concat_texts.txt', 'r') as file:\n",
    "    concat_texts = file.read()\n",
    "    T = nltk.word_tokenize(concat_texts)"
   ]
  },
  {
   "cell_type": "code",
   "execution_count": 37,
   "metadata": {},
   "outputs": [
    {
     "data": {
      "text/plain": [
       "575"
      ]
     },
     "execution_count": 37,
     "metadata": {},
     "output_type": "execute_result"
    }
   ],
   "source": [
    "len(nltk.word_tokenize(sample_doc))"
   ]
  },
  {
   "cell_type": "code",
   "execution_count": 40,
   "metadata": {
    "collapsed": true,
    "jupyter": {
     "outputs_hidden": true
    }
   },
   "outputs": [
    {
     "data": {
      "application/vnd.jupyter.widget-view+json": {
       "model_id": "6b41d0161bb544b1b08ab22e85fffc80",
       "version_major": 2,
       "version_minor": 0
      },
      "text/plain": [
       "  0%|          | 0/140 [00:00<?, ?it/s]"
      ]
     },
     "metadata": {},
     "output_type": "display_data"
    },
    {
     "data": {
      "application/vnd.jupyter.widget-view+json": {
       "model_id": "b8d07553690e4c81b43b6a3f0da20ed7",
       "version_major": 2,
       "version_minor": 0
      },
      "text/plain": [
       "  0%|          | 0/3133 [00:00<?, ?it/s]"
      ]
     },
     "metadata": {},
     "output_type": "display_data"
    },
    {
     "data": {
      "application/vnd.jupyter.widget-view+json": {
       "model_id": "d64f532b45304eb2af8e77e891ab3524",
       "version_major": 2,
       "version_minor": 0
      },
      "text/plain": [
       "  0%|          | 0/3133 [00:00<?, ?it/s]"
      ]
     },
     "metadata": {},
     "output_type": "display_data"
    },
    {
     "data": {
      "application/vnd.jupyter.widget-view+json": {
       "model_id": "4af4b6b7ec5a4dd18c0e5e421fc509ff",
       "version_major": 2,
       "version_minor": 0
      },
      "text/plain": [
       "  0%|          | 0/3133 [00:00<?, ?it/s]"
      ]
     },
     "metadata": {},
     "output_type": "display_data"
    },
    {
     "data": {
      "application/vnd.jupyter.widget-view+json": {
       "model_id": "dc45f3f8e380445c90976a86cf9454a0",
       "version_major": 2,
       "version_minor": 0
      },
      "text/plain": [
       "  0%|          | 0/3133 [00:00<?, ?it/s]"
      ]
     },
     "metadata": {},
     "output_type": "display_data"
    },
    {
     "data": {
      "application/vnd.jupyter.widget-view+json": {
       "model_id": "304df3384a134a3e957956e70082720c",
       "version_major": 2,
       "version_minor": 0
      },
      "text/plain": [
       "  0%|          | 0/3133 [00:00<?, ?it/s]"
      ]
     },
     "metadata": {},
     "output_type": "display_data"
    },
    {
     "data": {
      "application/vnd.jupyter.widget-view+json": {
       "model_id": "2fbed18f242b44dc8fa3fda5c6a1f3bc",
       "version_major": 2,
       "version_minor": 0
      },
      "text/plain": [
       "  0%|          | 0/3133 [00:00<?, ?it/s]"
      ]
     },
     "metadata": {},
     "output_type": "display_data"
    },
    {
     "data": {
      "application/vnd.jupyter.widget-view+json": {
       "model_id": "6978aabc1e954c129796fdb731f288d6",
       "version_major": 2,
       "version_minor": 0
      },
      "text/plain": [
       "  0%|          | 0/3133 [00:00<?, ?it/s]"
      ]
     },
     "metadata": {},
     "output_type": "display_data"
    },
    {
     "data": {
      "application/vnd.jupyter.widget-view+json": {
       "model_id": "3a4235616f0c4b6cbcf82ab818c51368",
       "version_major": 2,
       "version_minor": 0
      },
      "text/plain": [
       "  0%|          | 0/3133 [00:00<?, ?it/s]"
      ]
     },
     "metadata": {},
     "output_type": "display_data"
    },
    {
     "data": {
      "application/vnd.jupyter.widget-view+json": {
       "model_id": "0c9e2ef863584f94b7d768de1f95aa18",
       "version_major": 2,
       "version_minor": 0
      },
      "text/plain": [
       "  0%|          | 0/3133 [00:00<?, ?it/s]"
      ]
     },
     "metadata": {},
     "output_type": "display_data"
    },
    {
     "data": {
      "application/vnd.jupyter.widget-view+json": {
       "model_id": "3cd3809d5f4745009663dd8058e2fcaa",
       "version_major": 2,
       "version_minor": 0
      },
      "text/plain": [
       "  0%|          | 0/3133 [00:00<?, ?it/s]"
      ]
     },
     "metadata": {},
     "output_type": "display_data"
    },
    {
     "data": {
      "application/vnd.jupyter.widget-view+json": {
       "model_id": "1d22f1675122423398a97de68cc4c5fe",
       "version_major": 2,
       "version_minor": 0
      },
      "text/plain": [
       "  0%|          | 0/3133 [00:00<?, ?it/s]"
      ]
     },
     "metadata": {},
     "output_type": "display_data"
    },
    {
     "data": {
      "application/vnd.jupyter.widget-view+json": {
       "model_id": "827a4b5f53024c4aabd6ef80de1a9889",
       "version_major": 2,
       "version_minor": 0
      },
      "text/plain": [
       "  0%|          | 0/3133 [00:00<?, ?it/s]"
      ]
     },
     "metadata": {},
     "output_type": "display_data"
    },
    {
     "data": {
      "application/vnd.jupyter.widget-view+json": {
       "model_id": "f448d902024745a1a226cc3bc6f5a514",
       "version_major": 2,
       "version_minor": 0
      },
      "text/plain": [
       "  0%|          | 0/3133 [00:00<?, ?it/s]"
      ]
     },
     "metadata": {},
     "output_type": "display_data"
    },
    {
     "data": {
      "application/vnd.jupyter.widget-view+json": {
       "model_id": "cb4099d47bdd4eecbdcb53f410eca8e3",
       "version_major": 2,
       "version_minor": 0
      },
      "text/plain": [
       "  0%|          | 0/3133 [00:00<?, ?it/s]"
      ]
     },
     "metadata": {},
     "output_type": "display_data"
    },
    {
     "data": {
      "application/vnd.jupyter.widget-view+json": {
       "model_id": "e15f1d74bcda43e6ac873679e20ae483",
       "version_major": 2,
       "version_minor": 0
      },
      "text/plain": [
       "  0%|          | 0/3133 [00:00<?, ?it/s]"
      ]
     },
     "metadata": {},
     "output_type": "display_data"
    },
    {
     "data": {
      "application/vnd.jupyter.widget-view+json": {
       "model_id": "4612b04f72fe4fd591571f52a539f321",
       "version_major": 2,
       "version_minor": 0
      },
      "text/plain": [
       "  0%|          | 0/3133 [00:00<?, ?it/s]"
      ]
     },
     "metadata": {},
     "output_type": "display_data"
    },
    {
     "data": {
      "application/vnd.jupyter.widget-view+json": {
       "model_id": "7ae2b47f0ff64c5486bab9fbb47aab8b",
       "version_major": 2,
       "version_minor": 0
      },
      "text/plain": [
       "  0%|          | 0/3133 [00:00<?, ?it/s]"
      ]
     },
     "metadata": {},
     "output_type": "display_data"
    },
    {
     "data": {
      "application/vnd.jupyter.widget-view+json": {
       "model_id": "b14703b75fe645588d034b479e295156",
       "version_major": 2,
       "version_minor": 0
      },
      "text/plain": [
       "  0%|          | 0/3133 [00:00<?, ?it/s]"
      ]
     },
     "metadata": {},
     "output_type": "display_data"
    },
    {
     "data": {
      "application/vnd.jupyter.widget-view+json": {
       "model_id": "a721f99253e74f6a91f04800053ddb16",
       "version_major": 2,
       "version_minor": 0
      },
      "text/plain": [
       "  0%|          | 0/3133 [00:00<?, ?it/s]"
      ]
     },
     "metadata": {},
     "output_type": "display_data"
    },
    {
     "data": {
      "application/vnd.jupyter.widget-view+json": {
       "model_id": "825b695469184be3ae42cbdfba241bb9",
       "version_major": 2,
       "version_minor": 0
      },
      "text/plain": [
       "  0%|          | 0/3133 [00:00<?, ?it/s]"
      ]
     },
     "metadata": {},
     "output_type": "display_data"
    },
    {
     "data": {
      "application/vnd.jupyter.widget-view+json": {
       "model_id": "c2842476b54b4cafa1f6b6c3dd104f1b",
       "version_major": 2,
       "version_minor": 0
      },
      "text/plain": [
       "  0%|          | 0/3133 [00:00<?, ?it/s]"
      ]
     },
     "metadata": {},
     "output_type": "display_data"
    },
    {
     "data": {
      "application/vnd.jupyter.widget-view+json": {
       "model_id": "56920a99ff90447084de44f2cc071fa6",
       "version_major": 2,
       "version_minor": 0
      },
      "text/plain": [
       "  0%|          | 0/3133 [00:00<?, ?it/s]"
      ]
     },
     "metadata": {},
     "output_type": "display_data"
    },
    {
     "data": {
      "application/vnd.jupyter.widget-view+json": {
       "model_id": "754ebfd45d8340108b58f343a4b2365c",
       "version_major": 2,
       "version_minor": 0
      },
      "text/plain": [
       "  0%|          | 0/3133 [00:00<?, ?it/s]"
      ]
     },
     "metadata": {},
     "output_type": "display_data"
    },
    {
     "data": {
      "application/vnd.jupyter.widget-view+json": {
       "model_id": "9c21b57a7cf645cea369aab3c266dc2f",
       "version_major": 2,
       "version_minor": 0
      },
      "text/plain": [
       "  0%|          | 0/3133 [00:00<?, ?it/s]"
      ]
     },
     "metadata": {},
     "output_type": "display_data"
    },
    {
     "data": {
      "application/vnd.jupyter.widget-view+json": {
       "model_id": "cda6f0eda4f2408ea69c831c26580216",
       "version_major": 2,
       "version_minor": 0
      },
      "text/plain": [
       "  0%|          | 0/3133 [00:00<?, ?it/s]"
      ]
     },
     "metadata": {},
     "output_type": "display_data"
    },
    {
     "data": {
      "application/vnd.jupyter.widget-view+json": {
       "model_id": "6f743ea4d2a1414cafb0250789d0d0ef",
       "version_major": 2,
       "version_minor": 0
      },
      "text/plain": [
       "  0%|          | 0/3133 [00:00<?, ?it/s]"
      ]
     },
     "metadata": {},
     "output_type": "display_data"
    },
    {
     "data": {
      "application/vnd.jupyter.widget-view+json": {
       "model_id": "84766d95726449b48fdf2c444b451423",
       "version_major": 2,
       "version_minor": 0
      },
      "text/plain": [
       "  0%|          | 0/3133 [00:00<?, ?it/s]"
      ]
     },
     "metadata": {},
     "output_type": "display_data"
    },
    {
     "data": {
      "application/vnd.jupyter.widget-view+json": {
       "model_id": "04650c0103cd4eb98cbbd022027c1458",
       "version_major": 2,
       "version_minor": 0
      },
      "text/plain": [
       "  0%|          | 0/3133 [00:00<?, ?it/s]"
      ]
     },
     "metadata": {},
     "output_type": "display_data"
    },
    {
     "data": {
      "application/vnd.jupyter.widget-view+json": {
       "model_id": "77a1fc7144c3441e9aee85ae55408a8c",
       "version_major": 2,
       "version_minor": 0
      },
      "text/plain": [
       "  0%|          | 0/3133 [00:00<?, ?it/s]"
      ]
     },
     "metadata": {},
     "output_type": "display_data"
    },
    {
     "data": {
      "application/vnd.jupyter.widget-view+json": {
       "model_id": "49dffdaaba224b51ba4046877464027d",
       "version_major": 2,
       "version_minor": 0
      },
      "text/plain": [
       "  0%|          | 0/3133 [00:00<?, ?it/s]"
      ]
     },
     "metadata": {},
     "output_type": "display_data"
    },
    {
     "data": {
      "application/vnd.jupyter.widget-view+json": {
       "model_id": "f6453454b85444df9dd51d82217e6609",
       "version_major": 2,
       "version_minor": 0
      },
      "text/plain": [
       "  0%|          | 0/3133 [00:00<?, ?it/s]"
      ]
     },
     "metadata": {},
     "output_type": "display_data"
    },
    {
     "data": {
      "application/vnd.jupyter.widget-view+json": {
       "model_id": "a151f921a5ac46e58fe732fc6bf44ea7",
       "version_major": 2,
       "version_minor": 0
      },
      "text/plain": [
       "  0%|          | 0/3133 [00:00<?, ?it/s]"
      ]
     },
     "metadata": {},
     "output_type": "display_data"
    },
    {
     "data": {
      "application/vnd.jupyter.widget-view+json": {
       "model_id": "d3f89495d45a4dbf9064c80aa521f6cd",
       "version_major": 2,
       "version_minor": 0
      },
      "text/plain": [
       "  0%|          | 0/3133 [00:00<?, ?it/s]"
      ]
     },
     "metadata": {},
     "output_type": "display_data"
    },
    {
     "data": {
      "application/vnd.jupyter.widget-view+json": {
       "model_id": "b8d157bc557b4bc390459f6c658b8412",
       "version_major": 2,
       "version_minor": 0
      },
      "text/plain": [
       "  0%|          | 0/3133 [00:00<?, ?it/s]"
      ]
     },
     "metadata": {},
     "output_type": "display_data"
    },
    {
     "data": {
      "application/vnd.jupyter.widget-view+json": {
       "model_id": "0e03cc2f5bd845b195d637d39eaafbac",
       "version_major": 2,
       "version_minor": 0
      },
      "text/plain": [
       "  0%|          | 0/3133 [00:00<?, ?it/s]"
      ]
     },
     "metadata": {},
     "output_type": "display_data"
    },
    {
     "data": {
      "application/vnd.jupyter.widget-view+json": {
       "model_id": "b7bd7b5fde114121bf92cefa7b8a5b17",
       "version_major": 2,
       "version_minor": 0
      },
      "text/plain": [
       "  0%|          | 0/3133 [00:00<?, ?it/s]"
      ]
     },
     "metadata": {},
     "output_type": "display_data"
    },
    {
     "data": {
      "application/vnd.jupyter.widget-view+json": {
       "model_id": "5cf759f60d1f40df88d3bff251945e8e",
       "version_major": 2,
       "version_minor": 0
      },
      "text/plain": [
       "  0%|          | 0/3133 [00:00<?, ?it/s]"
      ]
     },
     "metadata": {},
     "output_type": "display_data"
    },
    {
     "data": {
      "application/vnd.jupyter.widget-view+json": {
       "model_id": "fe340786bf284bf3aa75a74594fe06fc",
       "version_major": 2,
       "version_minor": 0
      },
      "text/plain": [
       "  0%|          | 0/3133 [00:00<?, ?it/s]"
      ]
     },
     "metadata": {},
     "output_type": "display_data"
    },
    {
     "data": {
      "application/vnd.jupyter.widget-view+json": {
       "model_id": "d99ab762782d4dd7a7f4aab2a3f55a9b",
       "version_major": 2,
       "version_minor": 0
      },
      "text/plain": [
       "  0%|          | 0/3133 [00:00<?, ?it/s]"
      ]
     },
     "metadata": {},
     "output_type": "display_data"
    },
    {
     "data": {
      "application/vnd.jupyter.widget-view+json": {
       "model_id": "b3cbc52fa7434d5d80d9ee3fb9ad3697",
       "version_major": 2,
       "version_minor": 0
      },
      "text/plain": [
       "  0%|          | 0/3133 [00:00<?, ?it/s]"
      ]
     },
     "metadata": {},
     "output_type": "display_data"
    },
    {
     "data": {
      "application/vnd.jupyter.widget-view+json": {
       "model_id": "2468f47ddf8547a88e2f9500ee3d566c",
       "version_major": 2,
       "version_minor": 0
      },
      "text/plain": [
       "  0%|          | 0/3133 [00:00<?, ?it/s]"
      ]
     },
     "metadata": {},
     "output_type": "display_data"
    },
    {
     "data": {
      "application/vnd.jupyter.widget-view+json": {
       "model_id": "99ea285f1fb148ec9bdcfc2192a4cc0a",
       "version_major": 2,
       "version_minor": 0
      },
      "text/plain": [
       "  0%|          | 0/3133 [00:00<?, ?it/s]"
      ]
     },
     "metadata": {},
     "output_type": "display_data"
    },
    {
     "data": {
      "application/vnd.jupyter.widget-view+json": {
       "model_id": "0216f8279bdf468895a2a0917c145885",
       "version_major": 2,
       "version_minor": 0
      },
      "text/plain": [
       "  0%|          | 0/3133 [00:00<?, ?it/s]"
      ]
     },
     "metadata": {},
     "output_type": "display_data"
    },
    {
     "data": {
      "application/vnd.jupyter.widget-view+json": {
       "model_id": "380f6d1ca0344b21b7ca19f00a9ed2ff",
       "version_major": 2,
       "version_minor": 0
      },
      "text/plain": [
       "  0%|          | 0/3133 [00:00<?, ?it/s]"
      ]
     },
     "metadata": {},
     "output_type": "display_data"
    },
    {
     "data": {
      "application/vnd.jupyter.widget-view+json": {
       "model_id": "e9b1f2897ab24180b46b583e14d4ed9e",
       "version_major": 2,
       "version_minor": 0
      },
      "text/plain": [
       "  0%|          | 0/3133 [00:00<?, ?it/s]"
      ]
     },
     "metadata": {},
     "output_type": "display_data"
    },
    {
     "data": {
      "application/vnd.jupyter.widget-view+json": {
       "model_id": "c34e3479f03a4f07b87625e6ee6da1f9",
       "version_major": 2,
       "version_minor": 0
      },
      "text/plain": [
       "  0%|          | 0/3133 [00:00<?, ?it/s]"
      ]
     },
     "metadata": {},
     "output_type": "display_data"
    },
    {
     "data": {
      "application/vnd.jupyter.widget-view+json": {
       "model_id": "e9990c034adc4eefaf780c4a930860df",
       "version_major": 2,
       "version_minor": 0
      },
      "text/plain": [
       "  0%|          | 0/3133 [00:00<?, ?it/s]"
      ]
     },
     "metadata": {},
     "output_type": "display_data"
    },
    {
     "data": {
      "application/vnd.jupyter.widget-view+json": {
       "model_id": "a897307bc9fc4605a7a2ef2bfa528b44",
       "version_major": 2,
       "version_minor": 0
      },
      "text/plain": [
       "  0%|          | 0/3133 [00:00<?, ?it/s]"
      ]
     },
     "metadata": {},
     "output_type": "display_data"
    },
    {
     "data": {
      "application/vnd.jupyter.widget-view+json": {
       "model_id": "63c3189ff9ad4a37a574f10fd33a8e78",
       "version_major": 2,
       "version_minor": 0
      },
      "text/plain": [
       "  0%|          | 0/3133 [00:00<?, ?it/s]"
      ]
     },
     "metadata": {},
     "output_type": "display_data"
    },
    {
     "data": {
      "application/vnd.jupyter.widget-view+json": {
       "model_id": "c8cbe8aaaa6b42cebf1163113586aeb8",
       "version_major": 2,
       "version_minor": 0
      },
      "text/plain": [
       "  0%|          | 0/3133 [00:00<?, ?it/s]"
      ]
     },
     "metadata": {},
     "output_type": "display_data"
    },
    {
     "data": {
      "application/vnd.jupyter.widget-view+json": {
       "model_id": "ad8d961374934777bf1f09910d23e27b",
       "version_major": 2,
       "version_minor": 0
      },
      "text/plain": [
       "  0%|          | 0/3133 [00:00<?, ?it/s]"
      ]
     },
     "metadata": {},
     "output_type": "display_data"
    },
    {
     "data": {
      "application/vnd.jupyter.widget-view+json": {
       "model_id": "c468f5a67f3f40378c065924999c9e7b",
       "version_major": 2,
       "version_minor": 0
      },
      "text/plain": [
       "  0%|          | 0/3133 [00:00<?, ?it/s]"
      ]
     },
     "metadata": {},
     "output_type": "display_data"
    },
    {
     "data": {
      "application/vnd.jupyter.widget-view+json": {
       "model_id": "6c3f6225a5e0495984e5cc49ea1de280",
       "version_major": 2,
       "version_minor": 0
      },
      "text/plain": [
       "  0%|          | 0/3133 [00:00<?, ?it/s]"
      ]
     },
     "metadata": {},
     "output_type": "display_data"
    },
    {
     "data": {
      "application/vnd.jupyter.widget-view+json": {
       "model_id": "3d62b7cb273b41c996fcf33d1b27da0a",
       "version_major": 2,
       "version_minor": 0
      },
      "text/plain": [
       "  0%|          | 0/3133 [00:00<?, ?it/s]"
      ]
     },
     "metadata": {},
     "output_type": "display_data"
    },
    {
     "data": {
      "application/vnd.jupyter.widget-view+json": {
       "model_id": "218cbefb1e8642939315bece99b7dd87",
       "version_major": 2,
       "version_minor": 0
      },
      "text/plain": [
       "  0%|          | 0/3133 [00:00<?, ?it/s]"
      ]
     },
     "metadata": {},
     "output_type": "display_data"
    },
    {
     "data": {
      "application/vnd.jupyter.widget-view+json": {
       "model_id": "d3940430157242929af03cc2996bd544",
       "version_major": 2,
       "version_minor": 0
      },
      "text/plain": [
       "  0%|          | 0/3133 [00:00<?, ?it/s]"
      ]
     },
     "metadata": {},
     "output_type": "display_data"
    },
    {
     "data": {
      "application/vnd.jupyter.widget-view+json": {
       "model_id": "a9d75640a7a743f98577ca0d5b2eba98",
       "version_major": 2,
       "version_minor": 0
      },
      "text/plain": [
       "  0%|          | 0/3133 [00:00<?, ?it/s]"
      ]
     },
     "metadata": {},
     "output_type": "display_data"
    },
    {
     "data": {
      "application/vnd.jupyter.widget-view+json": {
       "model_id": "41a5222ab2534b12941460b79dcf94c5",
       "version_major": 2,
       "version_minor": 0
      },
      "text/plain": [
       "  0%|          | 0/3133 [00:00<?, ?it/s]"
      ]
     },
     "metadata": {},
     "output_type": "display_data"
    },
    {
     "data": {
      "application/vnd.jupyter.widget-view+json": {
       "model_id": "d42957e2fd004e96871ceaf8cd794e61",
       "version_major": 2,
       "version_minor": 0
      },
      "text/plain": [
       "  0%|          | 0/3133 [00:00<?, ?it/s]"
      ]
     },
     "metadata": {},
     "output_type": "display_data"
    },
    {
     "data": {
      "application/vnd.jupyter.widget-view+json": {
       "model_id": "91472ebda6434a11aba0ae3acbc45b6d",
       "version_major": 2,
       "version_minor": 0
      },
      "text/plain": [
       "  0%|          | 0/3133 [00:00<?, ?it/s]"
      ]
     },
     "metadata": {},
     "output_type": "display_data"
    },
    {
     "data": {
      "application/vnd.jupyter.widget-view+json": {
       "model_id": "af8bbba3e3344307bd2c8df8ffd18e17",
       "version_major": 2,
       "version_minor": 0
      },
      "text/plain": [
       "  0%|          | 0/3133 [00:00<?, ?it/s]"
      ]
     },
     "metadata": {},
     "output_type": "display_data"
    },
    {
     "data": {
      "application/vnd.jupyter.widget-view+json": {
       "model_id": "d95f43610f824353b6d879d79b571557",
       "version_major": 2,
       "version_minor": 0
      },
      "text/plain": [
       "  0%|          | 0/3133 [00:00<?, ?it/s]"
      ]
     },
     "metadata": {},
     "output_type": "display_data"
    },
    {
     "data": {
      "application/vnd.jupyter.widget-view+json": {
       "model_id": "c1ddb1b2a97a43358df900f1fb5167d7",
       "version_major": 2,
       "version_minor": 0
      },
      "text/plain": [
       "  0%|          | 0/3133 [00:00<?, ?it/s]"
      ]
     },
     "metadata": {},
     "output_type": "display_data"
    },
    {
     "data": {
      "application/vnd.jupyter.widget-view+json": {
       "model_id": "24a8c041739c401bba8cb2e880d354b6",
       "version_major": 2,
       "version_minor": 0
      },
      "text/plain": [
       "  0%|          | 0/3133 [00:00<?, ?it/s]"
      ]
     },
     "metadata": {},
     "output_type": "display_data"
    },
    {
     "data": {
      "application/vnd.jupyter.widget-view+json": {
       "model_id": "a602693392ae4c8899810add96746d10",
       "version_major": 2,
       "version_minor": 0
      },
      "text/plain": [
       "  0%|          | 0/3133 [00:00<?, ?it/s]"
      ]
     },
     "metadata": {},
     "output_type": "display_data"
    },
    {
     "data": {
      "application/vnd.jupyter.widget-view+json": {
       "model_id": "d00621053c0644b698d021551ce82bdd",
       "version_major": 2,
       "version_minor": 0
      },
      "text/plain": [
       "  0%|          | 0/3133 [00:00<?, ?it/s]"
      ]
     },
     "metadata": {},
     "output_type": "display_data"
    },
    {
     "data": {
      "application/vnd.jupyter.widget-view+json": {
       "model_id": "f5941fc5cffb4970a86afc9c2de263ba",
       "version_major": 2,
       "version_minor": 0
      },
      "text/plain": [
       "  0%|          | 0/3133 [00:00<?, ?it/s]"
      ]
     },
     "metadata": {},
     "output_type": "display_data"
    },
    {
     "data": {
      "application/vnd.jupyter.widget-view+json": {
       "model_id": "b52c3b2adac84ca49db520ab01e03c6b",
       "version_major": 2,
       "version_minor": 0
      },
      "text/plain": [
       "  0%|          | 0/3133 [00:00<?, ?it/s]"
      ]
     },
     "metadata": {},
     "output_type": "display_data"
    },
    {
     "data": {
      "application/vnd.jupyter.widget-view+json": {
       "model_id": "3e9cfa23e6a64e4589b7401a062e5041",
       "version_major": 2,
       "version_minor": 0
      },
      "text/plain": [
       "  0%|          | 0/3133 [00:00<?, ?it/s]"
      ]
     },
     "metadata": {},
     "output_type": "display_data"
    },
    {
     "data": {
      "application/vnd.jupyter.widget-view+json": {
       "model_id": "23e8634a2ac64ca8831271bad205573a",
       "version_major": 2,
       "version_minor": 0
      },
      "text/plain": [
       "  0%|          | 0/3133 [00:00<?, ?it/s]"
      ]
     },
     "metadata": {},
     "output_type": "display_data"
    },
    {
     "data": {
      "application/vnd.jupyter.widget-view+json": {
       "model_id": "a9fffc6e560b4240b0c4ad44d1d65ed0",
       "version_major": 2,
       "version_minor": 0
      },
      "text/plain": [
       "  0%|          | 0/3133 [00:00<?, ?it/s]"
      ]
     },
     "metadata": {},
     "output_type": "display_data"
    },
    {
     "data": {
      "application/vnd.jupyter.widget-view+json": {
       "model_id": "ff63cdbf493145b29d09ee6a329c3a10",
       "version_major": 2,
       "version_minor": 0
      },
      "text/plain": [
       "  0%|          | 0/3133 [00:00<?, ?it/s]"
      ]
     },
     "metadata": {},
     "output_type": "display_data"
    },
    {
     "data": {
      "application/vnd.jupyter.widget-view+json": {
       "model_id": "e205f4dc9afb4b8abb6086203d18c67a",
       "version_major": 2,
       "version_minor": 0
      },
      "text/plain": [
       "  0%|          | 0/3133 [00:00<?, ?it/s]"
      ]
     },
     "metadata": {},
     "output_type": "display_data"
    },
    {
     "data": {
      "application/vnd.jupyter.widget-view+json": {
       "model_id": "937dccda70e74cf991b5f44fc06deb5c",
       "version_major": 2,
       "version_minor": 0
      },
      "text/plain": [
       "  0%|          | 0/3133 [00:00<?, ?it/s]"
      ]
     },
     "metadata": {},
     "output_type": "display_data"
    },
    {
     "data": {
      "application/vnd.jupyter.widget-view+json": {
       "model_id": "c25b890dab4f43849e54f13d99a7f279",
       "version_major": 2,
       "version_minor": 0
      },
      "text/plain": [
       "  0%|          | 0/3133 [00:00<?, ?it/s]"
      ]
     },
     "metadata": {},
     "output_type": "display_data"
    },
    {
     "data": {
      "application/vnd.jupyter.widget-view+json": {
       "model_id": "b4f07b7765a44165a14c5338f43afb3e",
       "version_major": 2,
       "version_minor": 0
      },
      "text/plain": [
       "  0%|          | 0/3133 [00:00<?, ?it/s]"
      ]
     },
     "metadata": {},
     "output_type": "display_data"
    },
    {
     "data": {
      "application/vnd.jupyter.widget-view+json": {
       "model_id": "e88b08f1ea014aa5a5918f484259251a",
       "version_major": 2,
       "version_minor": 0
      },
      "text/plain": [
       "  0%|          | 0/3133 [00:00<?, ?it/s]"
      ]
     },
     "metadata": {},
     "output_type": "display_data"
    },
    {
     "data": {
      "application/vnd.jupyter.widget-view+json": {
       "model_id": "8d7f8f0e92604e11aa25b28e8e2472ea",
       "version_major": 2,
       "version_minor": 0
      },
      "text/plain": [
       "  0%|          | 0/3133 [00:00<?, ?it/s]"
      ]
     },
     "metadata": {},
     "output_type": "display_data"
    },
    {
     "data": {
      "application/vnd.jupyter.widget-view+json": {
       "model_id": "e279eac092ee4a9d8ff28531d87b2298",
       "version_major": 2,
       "version_minor": 0
      },
      "text/plain": [
       "  0%|          | 0/3133 [00:00<?, ?it/s]"
      ]
     },
     "metadata": {},
     "output_type": "display_data"
    },
    {
     "data": {
      "application/vnd.jupyter.widget-view+json": {
       "model_id": "a26fed95bbfa499295f6dcd988ca0bf4",
       "version_major": 2,
       "version_minor": 0
      },
      "text/plain": [
       "  0%|          | 0/3133 [00:00<?, ?it/s]"
      ]
     },
     "metadata": {},
     "output_type": "display_data"
    },
    {
     "data": {
      "application/vnd.jupyter.widget-view+json": {
       "model_id": "50704447fba34aae8b69d2e1e320fe41",
       "version_major": 2,
       "version_minor": 0
      },
      "text/plain": [
       "  0%|          | 0/3133 [00:00<?, ?it/s]"
      ]
     },
     "metadata": {},
     "output_type": "display_data"
    },
    {
     "data": {
      "application/vnd.jupyter.widget-view+json": {
       "model_id": "067549b5c09f440daaf81cd957810cdf",
       "version_major": 2,
       "version_minor": 0
      },
      "text/plain": [
       "  0%|          | 0/3133 [00:00<?, ?it/s]"
      ]
     },
     "metadata": {},
     "output_type": "display_data"
    },
    {
     "data": {
      "application/vnd.jupyter.widget-view+json": {
       "model_id": "d4da08dc092649688c78509210c3e33b",
       "version_major": 2,
       "version_minor": 0
      },
      "text/plain": [
       "  0%|          | 0/3133 [00:00<?, ?it/s]"
      ]
     },
     "metadata": {},
     "output_type": "display_data"
    },
    {
     "data": {
      "application/vnd.jupyter.widget-view+json": {
       "model_id": "4926c6d4c35942f3b4ea02caf0908124",
       "version_major": 2,
       "version_minor": 0
      },
      "text/plain": [
       "  0%|          | 0/3133 [00:00<?, ?it/s]"
      ]
     },
     "metadata": {},
     "output_type": "display_data"
    },
    {
     "data": {
      "application/vnd.jupyter.widget-view+json": {
       "model_id": "1c4cdd057a9349a8987d1f06d6046f8f",
       "version_major": 2,
       "version_minor": 0
      },
      "text/plain": [
       "  0%|          | 0/3133 [00:00<?, ?it/s]"
      ]
     },
     "metadata": {},
     "output_type": "display_data"
    },
    {
     "data": {
      "application/vnd.jupyter.widget-view+json": {
       "model_id": "fefeedf47d4d479f91469b0331038d42",
       "version_major": 2,
       "version_minor": 0
      },
      "text/plain": [
       "  0%|          | 0/3133 [00:00<?, ?it/s]"
      ]
     },
     "metadata": {},
     "output_type": "display_data"
    },
    {
     "data": {
      "application/vnd.jupyter.widget-view+json": {
       "model_id": "7b318ee0633e442cb2e48328aaca84b1",
       "version_major": 2,
       "version_minor": 0
      },
      "text/plain": [
       "  0%|          | 0/3133 [00:00<?, ?it/s]"
      ]
     },
     "metadata": {},
     "output_type": "display_data"
    },
    {
     "data": {
      "application/vnd.jupyter.widget-view+json": {
       "model_id": "f2b1e5047b194068b888ba0155b05ca1",
       "version_major": 2,
       "version_minor": 0
      },
      "text/plain": [
       "  0%|          | 0/3133 [00:00<?, ?it/s]"
      ]
     },
     "metadata": {},
     "output_type": "display_data"
    },
    {
     "data": {
      "application/vnd.jupyter.widget-view+json": {
       "model_id": "9d4fe2a63bb3424b8a1e209d0aa6ce94",
       "version_major": 2,
       "version_minor": 0
      },
      "text/plain": [
       "  0%|          | 0/3133 [00:00<?, ?it/s]"
      ]
     },
     "metadata": {},
     "output_type": "display_data"
    },
    {
     "data": {
      "application/vnd.jupyter.widget-view+json": {
       "model_id": "4f135c872eee47e0a6527b8d5f4a1f8f",
       "version_major": 2,
       "version_minor": 0
      },
      "text/plain": [
       "  0%|          | 0/3133 [00:00<?, ?it/s]"
      ]
     },
     "metadata": {},
     "output_type": "display_data"
    },
    {
     "data": {
      "application/vnd.jupyter.widget-view+json": {
       "model_id": "26fdfb3a30eb48b5813df0182d6cf596",
       "version_major": 2,
       "version_minor": 0
      },
      "text/plain": [
       "  0%|          | 0/3133 [00:00<?, ?it/s]"
      ]
     },
     "metadata": {},
     "output_type": "display_data"
    },
    {
     "data": {
      "application/vnd.jupyter.widget-view+json": {
       "model_id": "f8c0467ac9894023a4ceb492b21cdb15",
       "version_major": 2,
       "version_minor": 0
      },
      "text/plain": [
       "  0%|          | 0/3133 [00:00<?, ?it/s]"
      ]
     },
     "metadata": {},
     "output_type": "display_data"
    },
    {
     "data": {
      "application/vnd.jupyter.widget-view+json": {
       "model_id": "451e9f21cc39425fb39804a4df36d56c",
       "version_major": 2,
       "version_minor": 0
      },
      "text/plain": [
       "  0%|          | 0/3133 [00:00<?, ?it/s]"
      ]
     },
     "metadata": {},
     "output_type": "display_data"
    },
    {
     "data": {
      "application/vnd.jupyter.widget-view+json": {
       "model_id": "8eef515b893943b69a33a1d20add2538",
       "version_major": 2,
       "version_minor": 0
      },
      "text/plain": [
       "  0%|          | 0/3133 [00:00<?, ?it/s]"
      ]
     },
     "metadata": {},
     "output_type": "display_data"
    },
    {
     "data": {
      "application/vnd.jupyter.widget-view+json": {
       "model_id": "0f7287bcbe2f43e4861da5422114668c",
       "version_major": 2,
       "version_minor": 0
      },
      "text/plain": [
       "  0%|          | 0/3133 [00:00<?, ?it/s]"
      ]
     },
     "metadata": {},
     "output_type": "display_data"
    },
    {
     "data": {
      "application/vnd.jupyter.widget-view+json": {
       "model_id": "fe27c6d1158748969b776f2bfb1eaba5",
       "version_major": 2,
       "version_minor": 0
      },
      "text/plain": [
       "  0%|          | 0/3133 [00:00<?, ?it/s]"
      ]
     },
     "metadata": {},
     "output_type": "display_data"
    },
    {
     "data": {
      "application/vnd.jupyter.widget-view+json": {
       "model_id": "edf54de28cd44153aecc054abc09232e",
       "version_major": 2,
       "version_minor": 0
      },
      "text/plain": [
       "  0%|          | 0/3133 [00:00<?, ?it/s]"
      ]
     },
     "metadata": {},
     "output_type": "display_data"
    },
    {
     "data": {
      "application/vnd.jupyter.widget-view+json": {
       "model_id": "e4c46e45d70a48578b9e13266565be26",
       "version_major": 2,
       "version_minor": 0
      },
      "text/plain": [
       "  0%|          | 0/3133 [00:00<?, ?it/s]"
      ]
     },
     "metadata": {},
     "output_type": "display_data"
    },
    {
     "data": {
      "application/vnd.jupyter.widget-view+json": {
       "model_id": "33a44ea12d7341258ea13aa2e5c2f3af",
       "version_major": 2,
       "version_minor": 0
      },
      "text/plain": [
       "  0%|          | 0/3133 [00:00<?, ?it/s]"
      ]
     },
     "metadata": {},
     "output_type": "display_data"
    },
    {
     "data": {
      "application/vnd.jupyter.widget-view+json": {
       "model_id": "5252080cbec74e3da7e644ec61c17562",
       "version_major": 2,
       "version_minor": 0
      },
      "text/plain": [
       "  0%|          | 0/3133 [00:00<?, ?it/s]"
      ]
     },
     "metadata": {},
     "output_type": "display_data"
    },
    {
     "data": {
      "application/vnd.jupyter.widget-view+json": {
       "model_id": "0146ba4ce3ce49dc9748a418b073acda",
       "version_major": 2,
       "version_minor": 0
      },
      "text/plain": [
       "  0%|          | 0/3133 [00:00<?, ?it/s]"
      ]
     },
     "metadata": {},
     "output_type": "display_data"
    },
    {
     "data": {
      "application/vnd.jupyter.widget-view+json": {
       "model_id": "f93edfcb7f1f4235ab999ac1a089fdd2",
       "version_major": 2,
       "version_minor": 0
      },
      "text/plain": [
       "  0%|          | 0/3133 [00:00<?, ?it/s]"
      ]
     },
     "metadata": {},
     "output_type": "display_data"
    },
    {
     "data": {
      "application/vnd.jupyter.widget-view+json": {
       "model_id": "d601ca867fae4335ba0a03ebbf7faf30",
       "version_major": 2,
       "version_minor": 0
      },
      "text/plain": [
       "  0%|          | 0/3133 [00:00<?, ?it/s]"
      ]
     },
     "metadata": {},
     "output_type": "display_data"
    },
    {
     "data": {
      "application/vnd.jupyter.widget-view+json": {
       "model_id": "82b8fba05eea48d5baf887f5b950a39a",
       "version_major": 2,
       "version_minor": 0
      },
      "text/plain": [
       "  0%|          | 0/3133 [00:00<?, ?it/s]"
      ]
     },
     "metadata": {},
     "output_type": "display_data"
    },
    {
     "data": {
      "application/vnd.jupyter.widget-view+json": {
       "model_id": "f0b491bf84de45698decea6f826fc4ef",
       "version_major": 2,
       "version_minor": 0
      },
      "text/plain": [
       "  0%|          | 0/3133 [00:00<?, ?it/s]"
      ]
     },
     "metadata": {},
     "output_type": "display_data"
    },
    {
     "data": {
      "application/vnd.jupyter.widget-view+json": {
       "model_id": "f34aa1c22d444c858b75d771fc1c0959",
       "version_major": 2,
       "version_minor": 0
      },
      "text/plain": [
       "  0%|          | 0/3133 [00:00<?, ?it/s]"
      ]
     },
     "metadata": {},
     "output_type": "display_data"
    },
    {
     "data": {
      "application/vnd.jupyter.widget-view+json": {
       "model_id": "8018a8e642674ba881e910067ce6d7ad",
       "version_major": 2,
       "version_minor": 0
      },
      "text/plain": [
       "  0%|          | 0/3133 [00:00<?, ?it/s]"
      ]
     },
     "metadata": {},
     "output_type": "display_data"
    },
    {
     "data": {
      "application/vnd.jupyter.widget-view+json": {
       "model_id": "7a9bb797919a423e9c9daf5dad02b84d",
       "version_major": 2,
       "version_minor": 0
      },
      "text/plain": [
       "  0%|          | 0/3133 [00:00<?, ?it/s]"
      ]
     },
     "metadata": {},
     "output_type": "display_data"
    },
    {
     "data": {
      "application/vnd.jupyter.widget-view+json": {
       "model_id": "fc0727ffb59d4a24b51b8cffed8e37d0",
       "version_major": 2,
       "version_minor": 0
      },
      "text/plain": [
       "  0%|          | 0/3133 [00:00<?, ?it/s]"
      ]
     },
     "metadata": {},
     "output_type": "display_data"
    },
    {
     "data": {
      "application/vnd.jupyter.widget-view+json": {
       "model_id": "ad7cf9efaa854914b55602cd733e13d8",
       "version_major": 2,
       "version_minor": 0
      },
      "text/plain": [
       "  0%|          | 0/3133 [00:00<?, ?it/s]"
      ]
     },
     "metadata": {},
     "output_type": "display_data"
    },
    {
     "data": {
      "application/vnd.jupyter.widget-view+json": {
       "model_id": "443f156777de4f9484c8bb6f10f675cd",
       "version_major": 2,
       "version_minor": 0
      },
      "text/plain": [
       "  0%|          | 0/3133 [00:00<?, ?it/s]"
      ]
     },
     "metadata": {},
     "output_type": "display_data"
    },
    {
     "data": {
      "application/vnd.jupyter.widget-view+json": {
       "model_id": "c0d4f00d1a444628891370f6f12c54c3",
       "version_major": 2,
       "version_minor": 0
      },
      "text/plain": [
       "  0%|          | 0/3133 [00:00<?, ?it/s]"
      ]
     },
     "metadata": {},
     "output_type": "display_data"
    },
    {
     "data": {
      "application/vnd.jupyter.widget-view+json": {
       "model_id": "73aeb8b300a9498b946c7662efd74841",
       "version_major": 2,
       "version_minor": 0
      },
      "text/plain": [
       "  0%|          | 0/3133 [00:00<?, ?it/s]"
      ]
     },
     "metadata": {},
     "output_type": "display_data"
    },
    {
     "data": {
      "application/vnd.jupyter.widget-view+json": {
       "model_id": "b07f6978f8134d438c537efb552742b5",
       "version_major": 2,
       "version_minor": 0
      },
      "text/plain": [
       "  0%|          | 0/3133 [00:00<?, ?it/s]"
      ]
     },
     "metadata": {},
     "output_type": "display_data"
    },
    {
     "data": {
      "application/vnd.jupyter.widget-view+json": {
       "model_id": "34962417ead642fe915cfd5173639eae",
       "version_major": 2,
       "version_minor": 0
      },
      "text/plain": [
       "  0%|          | 0/3133 [00:00<?, ?it/s]"
      ]
     },
     "metadata": {},
     "output_type": "display_data"
    },
    {
     "data": {
      "application/vnd.jupyter.widget-view+json": {
       "model_id": "b6abaac6437140de8c531c8a983ba84f",
       "version_major": 2,
       "version_minor": 0
      },
      "text/plain": [
       "  0%|          | 0/3133 [00:00<?, ?it/s]"
      ]
     },
     "metadata": {},
     "output_type": "display_data"
    },
    {
     "data": {
      "application/vnd.jupyter.widget-view+json": {
       "model_id": "bee020d6da4a4b24ada1d85ad08a2dad",
       "version_major": 2,
       "version_minor": 0
      },
      "text/plain": [
       "  0%|          | 0/3133 [00:00<?, ?it/s]"
      ]
     },
     "metadata": {},
     "output_type": "display_data"
    },
    {
     "data": {
      "application/vnd.jupyter.widget-view+json": {
       "model_id": "183a0416ce304d9ba57ce9fe11c907d2",
       "version_major": 2,
       "version_minor": 0
      },
      "text/plain": [
       "  0%|          | 0/3133 [00:00<?, ?it/s]"
      ]
     },
     "metadata": {},
     "output_type": "display_data"
    },
    {
     "data": {
      "application/vnd.jupyter.widget-view+json": {
       "model_id": "8f1a99df12294e1784ab31ebe5fc8043",
       "version_major": 2,
       "version_minor": 0
      },
      "text/plain": [
       "  0%|          | 0/3133 [00:00<?, ?it/s]"
      ]
     },
     "metadata": {},
     "output_type": "display_data"
    },
    {
     "data": {
      "application/vnd.jupyter.widget-view+json": {
       "model_id": "8c31928bcb4f4b0fb25d27c00271bb66",
       "version_major": 2,
       "version_minor": 0
      },
      "text/plain": [
       "  0%|          | 0/3133 [00:00<?, ?it/s]"
      ]
     },
     "metadata": {},
     "output_type": "display_data"
    },
    {
     "data": {
      "application/vnd.jupyter.widget-view+json": {
       "model_id": "ea7436ba614d42c7aba05d8a9142f7a4",
       "version_major": 2,
       "version_minor": 0
      },
      "text/plain": [
       "  0%|          | 0/3133 [00:00<?, ?it/s]"
      ]
     },
     "metadata": {},
     "output_type": "display_data"
    },
    {
     "data": {
      "application/vnd.jupyter.widget-view+json": {
       "model_id": "f186c5a895e1487d94e9f40bfef76169",
       "version_major": 2,
       "version_minor": 0
      },
      "text/plain": [
       "  0%|          | 0/3133 [00:00<?, ?it/s]"
      ]
     },
     "metadata": {},
     "output_type": "display_data"
    },
    {
     "data": {
      "application/vnd.jupyter.widget-view+json": {
       "model_id": "1d2b4c9f816a492da81992db3b78d339",
       "version_major": 2,
       "version_minor": 0
      },
      "text/plain": [
       "  0%|          | 0/3133 [00:00<?, ?it/s]"
      ]
     },
     "metadata": {},
     "output_type": "display_data"
    },
    {
     "data": {
      "application/vnd.jupyter.widget-view+json": {
       "model_id": "a64e1a76ee3e45e8ad7f2ed0dfaf58b8",
       "version_major": 2,
       "version_minor": 0
      },
      "text/plain": [
       "  0%|          | 0/3133 [00:00<?, ?it/s]"
      ]
     },
     "metadata": {},
     "output_type": "display_data"
    },
    {
     "data": {
      "application/vnd.jupyter.widget-view+json": {
       "model_id": "e0204aec29214f10a203e0f66e21e5ae",
       "version_major": 2,
       "version_minor": 0
      },
      "text/plain": [
       "  0%|          | 0/3133 [00:00<?, ?it/s]"
      ]
     },
     "metadata": {},
     "output_type": "display_data"
    },
    {
     "data": {
      "application/vnd.jupyter.widget-view+json": {
       "model_id": "4fa0039106734c1684126da67c59201e",
       "version_major": 2,
       "version_minor": 0
      },
      "text/plain": [
       "  0%|          | 0/3133 [00:00<?, ?it/s]"
      ]
     },
     "metadata": {},
     "output_type": "display_data"
    },
    {
     "data": {
      "application/vnd.jupyter.widget-view+json": {
       "model_id": "4d837915c9dd4084842ba6cfc0d4dd61",
       "version_major": 2,
       "version_minor": 0
      },
      "text/plain": [
       "  0%|          | 0/3133 [00:00<?, ?it/s]"
      ]
     },
     "metadata": {},
     "output_type": "display_data"
    },
    {
     "data": {
      "application/vnd.jupyter.widget-view+json": {
       "model_id": "ff38428e6fc34babafa2cc3c2825cdda",
       "version_major": 2,
       "version_minor": 0
      },
      "text/plain": [
       "  0%|          | 0/3133 [00:00<?, ?it/s]"
      ]
     },
     "metadata": {},
     "output_type": "display_data"
    },
    {
     "data": {
      "application/vnd.jupyter.widget-view+json": {
       "model_id": "56ef32c7564849e0aa00af0c66c6f81e",
       "version_major": 2,
       "version_minor": 0
      },
      "text/plain": [
       "  0%|          | 0/3133 [00:00<?, ?it/s]"
      ]
     },
     "metadata": {},
     "output_type": "display_data"
    },
    {
     "data": {
      "application/vnd.jupyter.widget-view+json": {
       "model_id": "3db7c3f7cf594dc4abf0d7e8634dfd6a",
       "version_major": 2,
       "version_minor": 0
      },
      "text/plain": [
       "  0%|          | 0/3133 [00:00<?, ?it/s]"
      ]
     },
     "metadata": {},
     "output_type": "display_data"
    },
    {
     "data": {
      "application/vnd.jupyter.widget-view+json": {
       "model_id": "9c177b1a92174129bcfd9437ec0049b2",
       "version_major": 2,
       "version_minor": 0
      },
      "text/plain": [
       "  0%|          | 0/3133 [00:00<?, ?it/s]"
      ]
     },
     "metadata": {},
     "output_type": "display_data"
    },
    {
     "data": {
      "application/vnd.jupyter.widget-view+json": {
       "model_id": "06e521e4c251442fbf7ac9148770ffe3",
       "version_major": 2,
       "version_minor": 0
      },
      "text/plain": [
       "  0%|          | 0/3133 [00:00<?, ?it/s]"
      ]
     },
     "metadata": {},
     "output_type": "display_data"
    },
    {
     "data": {
      "application/vnd.jupyter.widget-view+json": {
       "model_id": "281c5e46955343c49d7b6a8ec9893100",
       "version_major": 2,
       "version_minor": 0
      },
      "text/plain": [
       "  0%|          | 0/3133 [00:00<?, ?it/s]"
      ]
     },
     "metadata": {},
     "output_type": "display_data"
    },
    {
     "data": {
      "application/vnd.jupyter.widget-view+json": {
       "model_id": "c36e1aaa92474d5cba95e7e057906082",
       "version_major": 2,
       "version_minor": 0
      },
      "text/plain": [
       "  0%|          | 0/3133 [00:00<?, ?it/s]"
      ]
     },
     "metadata": {},
     "output_type": "display_data"
    },
    {
     "data": {
      "application/vnd.jupyter.widget-view+json": {
       "model_id": "70a4cec38359440e83e665692bad6022",
       "version_major": 2,
       "version_minor": 0
      },
      "text/plain": [
       "  0%|          | 0/3133 [00:00<?, ?it/s]"
      ]
     },
     "metadata": {},
     "output_type": "display_data"
    },
    {
     "data": {
      "application/vnd.jupyter.widget-view+json": {
       "model_id": "06e7f48e87204f28bd7d9781a7659967",
       "version_major": 2,
       "version_minor": 0
      },
      "text/plain": [
       "  0%|          | 0/3133 [00:00<?, ?it/s]"
      ]
     },
     "metadata": {},
     "output_type": "display_data"
    },
    {
     "data": {
      "application/vnd.jupyter.widget-view+json": {
       "model_id": "b3312ad7feac46ebb2f6ca48151f77ab",
       "version_major": 2,
       "version_minor": 0
      },
      "text/plain": [
       "  0%|          | 0/3133 [00:00<?, ?it/s]"
      ]
     },
     "metadata": {},
     "output_type": "display_data"
    },
    {
     "data": {
      "application/vnd.jupyter.widget-view+json": {
       "model_id": "2fc3c55584e647158cc4e3fbde5edb1f",
       "version_major": 2,
       "version_minor": 0
      },
      "text/plain": [
       "  0%|          | 0/3133 [00:00<?, ?it/s]"
      ]
     },
     "metadata": {},
     "output_type": "display_data"
    },
    {
     "data": {
      "application/vnd.jupyter.widget-view+json": {
       "model_id": "b5850699c40c46ab9087bef90be9ac64",
       "version_major": 2,
       "version_minor": 0
      },
      "text/plain": [
       "  0%|          | 0/3133 [00:00<?, ?it/s]"
      ]
     },
     "metadata": {},
     "output_type": "display_data"
    },
    {
     "data": {
      "application/vnd.jupyter.widget-view+json": {
       "model_id": "01c11ac8bb5e4854b52cfa77b4ee5453",
       "version_major": 2,
       "version_minor": 0
      },
      "text/plain": [
       "  0%|          | 0/3133 [00:00<?, ?it/s]"
      ]
     },
     "metadata": {},
     "output_type": "display_data"
    }
   ],
   "source": [
    "from sklearn.utils import resample\n",
    "import pandas as pd\n",
    "import numpy as np\n",
    "from tqdm.notebook import tqdm\n",
    "\n",
    "N = 140\n",
    "t = len(nltk.word_tokenize(sample_doc))\n",
    "df = pd.DataFrame(columns=microframes)\n",
    "\n",
    "for i in tqdm(range(N)):\n",
    "    s = ' '.join(resample(T, replace=True, n_samples=t))\n",
    "    biases = bias(s, frame=microframes)\n",
    "        \n",
    "    df.loc[i] = biases\n",
    "\n",
    "import pickle\n",
    "pickle.dump( df, open( \"Download/sample_biases_df.pickle\", \"wb\" ) )"
   ]
  },
  {
   "cell_type": "code",
   "execution_count": 53,
   "metadata": {},
   "outputs": [
    {
     "data": {
      "text/html": [
       "<div>\n",
       "<style scoped>\n",
       "    .dataframe tbody tr th:only-of-type {\n",
       "        vertical-align: middle;\n",
       "    }\n",
       "\n",
       "    .dataframe tbody tr th {\n",
       "        vertical-align: top;\n",
       "    }\n",
       "\n",
       "    .dataframe thead tr th {\n",
       "        text-align: left;\n",
       "    }\n",
       "</style>\n",
       "<table border=\"1\" class=\"dataframe\">\n",
       "  <thead>\n",
       "    <tr>\n",
       "      <th></th>\n",
       "      <th>discontented</th>\n",
       "      <th>immediate</th>\n",
       "      <th>hipped</th>\n",
       "      <th>necessary</th>\n",
       "      <th>autumnal</th>\n",
       "      <th>declarative</th>\n",
       "      <th>maxi</th>\n",
       "      <th>humorous</th>\n",
       "      <th>monovalent</th>\n",
       "      <th>indiscreet</th>\n",
       "      <th>...</th>\n",
       "      <th>alcoholic</th>\n",
       "      <th>assertive</th>\n",
       "      <th>unlivable</th>\n",
       "      <th>original</th>\n",
       "      <th>individual</th>\n",
       "      <th>principled</th>\n",
       "      <th>immoderate</th>\n",
       "      <th>unknown</th>\n",
       "      <th>freelance</th>\n",
       "      <th>forceless</th>\n",
       "    </tr>\n",
       "    <tr>\n",
       "      <th></th>\n",
       "      <th>contented</th>\n",
       "      <th>mediate</th>\n",
       "      <th>gabled</th>\n",
       "      <th>unnecessary</th>\n",
       "      <th>wintry</th>\n",
       "      <th>interrogative</th>\n",
       "      <th>mini</th>\n",
       "      <th>humorless</th>\n",
       "      <th>polyvalent</th>\n",
       "      <th>discreet</th>\n",
       "      <th>...</th>\n",
       "      <th>nonalcoholic</th>\n",
       "      <th>unassertive</th>\n",
       "      <th>livable</th>\n",
       "      <th>unoriginal</th>\n",
       "      <th>common</th>\n",
       "      <th>unprincipled</th>\n",
       "      <th>moderate</th>\n",
       "      <th>known</th>\n",
       "      <th>salaried</th>\n",
       "      <th>forceful</th>\n",
       "    </tr>\n",
       "  </thead>\n",
       "  <tbody>\n",
       "    <tr>\n",
       "      <th>0</th>\n",
       "      <td>0.165546</td>\n",
       "      <td>-0.154739</td>\n",
       "      <td>-0.002083</td>\n",
       "      <td>-0.115420</td>\n",
       "      <td>0.065003</td>\n",
       "      <td>-0.088813</td>\n",
       "      <td>0.146881</td>\n",
       "      <td>-0.159049</td>\n",
       "      <td>0.008047</td>\n",
       "      <td>0.162146</td>\n",
       "      <td>...</td>\n",
       "      <td>-0.224326</td>\n",
       "      <td>-0.242138</td>\n",
       "      <td>0.158984</td>\n",
       "      <td>-0.189906</td>\n",
       "      <td>0.007315</td>\n",
       "      <td>-0.125275</td>\n",
       "      <td>0.244697</td>\n",
       "      <td>0.071690</td>\n",
       "      <td>-0.100881</td>\n",
       "      <td>0.282711</td>\n",
       "    </tr>\n",
       "    <tr>\n",
       "      <th>1</th>\n",
       "      <td>0.177506</td>\n",
       "      <td>-0.150237</td>\n",
       "      <td>-0.007614</td>\n",
       "      <td>-0.107309</td>\n",
       "      <td>0.070593</td>\n",
       "      <td>-0.081920</td>\n",
       "      <td>0.137711</td>\n",
       "      <td>-0.165901</td>\n",
       "      <td>0.014199</td>\n",
       "      <td>0.156433</td>\n",
       "      <td>...</td>\n",
       "      <td>-0.225266</td>\n",
       "      <td>-0.246804</td>\n",
       "      <td>0.155883</td>\n",
       "      <td>-0.176094</td>\n",
       "      <td>0.007535</td>\n",
       "      <td>-0.130717</td>\n",
       "      <td>0.247655</td>\n",
       "      <td>0.056833</td>\n",
       "      <td>-0.096931</td>\n",
       "      <td>0.284652</td>\n",
       "    </tr>\n",
       "    <tr>\n",
       "      <th>2</th>\n",
       "      <td>0.169375</td>\n",
       "      <td>-0.156033</td>\n",
       "      <td>-0.005874</td>\n",
       "      <td>-0.110519</td>\n",
       "      <td>0.065521</td>\n",
       "      <td>-0.085905</td>\n",
       "      <td>0.146263</td>\n",
       "      <td>-0.163001</td>\n",
       "      <td>0.009533</td>\n",
       "      <td>0.160838</td>\n",
       "      <td>...</td>\n",
       "      <td>-0.226490</td>\n",
       "      <td>-0.245076</td>\n",
       "      <td>0.156482</td>\n",
       "      <td>-0.188997</td>\n",
       "      <td>0.008848</td>\n",
       "      <td>-0.127639</td>\n",
       "      <td>0.245994</td>\n",
       "      <td>0.069606</td>\n",
       "      <td>-0.101717</td>\n",
       "      <td>0.283759</td>\n",
       "    </tr>\n",
       "    <tr>\n",
       "      <th>3</th>\n",
       "      <td>0.170841</td>\n",
       "      <td>-0.157961</td>\n",
       "      <td>-0.001664</td>\n",
       "      <td>-0.104724</td>\n",
       "      <td>0.062080</td>\n",
       "      <td>-0.086970</td>\n",
       "      <td>0.141440</td>\n",
       "      <td>-0.161939</td>\n",
       "      <td>0.013173</td>\n",
       "      <td>0.160702</td>\n",
       "      <td>...</td>\n",
       "      <td>-0.221755</td>\n",
       "      <td>-0.237164</td>\n",
       "      <td>0.149789</td>\n",
       "      <td>-0.182591</td>\n",
       "      <td>0.019616</td>\n",
       "      <td>-0.123959</td>\n",
       "      <td>0.245925</td>\n",
       "      <td>0.064065</td>\n",
       "      <td>-0.103672</td>\n",
       "      <td>0.279415</td>\n",
       "    </tr>\n",
       "    <tr>\n",
       "      <th>4</th>\n",
       "      <td>0.175307</td>\n",
       "      <td>-0.148986</td>\n",
       "      <td>-0.011530</td>\n",
       "      <td>-0.108341</td>\n",
       "      <td>0.065765</td>\n",
       "      <td>-0.083990</td>\n",
       "      <td>0.138884</td>\n",
       "      <td>-0.166447</td>\n",
       "      <td>0.018695</td>\n",
       "      <td>0.158907</td>\n",
       "      <td>...</td>\n",
       "      <td>-0.227087</td>\n",
       "      <td>-0.245679</td>\n",
       "      <td>0.154710</td>\n",
       "      <td>-0.174680</td>\n",
       "      <td>0.017252</td>\n",
       "      <td>-0.131417</td>\n",
       "      <td>0.248683</td>\n",
       "      <td>0.057177</td>\n",
       "      <td>-0.108773</td>\n",
       "      <td>0.285297</td>\n",
       "    </tr>\n",
       "    <tr>\n",
       "      <th>...</th>\n",
       "      <td>...</td>\n",
       "      <td>...</td>\n",
       "      <td>...</td>\n",
       "      <td>...</td>\n",
       "      <td>...</td>\n",
       "      <td>...</td>\n",
       "      <td>...</td>\n",
       "      <td>...</td>\n",
       "      <td>...</td>\n",
       "      <td>...</td>\n",
       "      <td>...</td>\n",
       "      <td>...</td>\n",
       "      <td>...</td>\n",
       "      <td>...</td>\n",
       "      <td>...</td>\n",
       "      <td>...</td>\n",
       "      <td>...</td>\n",
       "      <td>...</td>\n",
       "      <td>...</td>\n",
       "      <td>...</td>\n",
       "      <td>...</td>\n",
       "    </tr>\n",
       "    <tr>\n",
       "      <th>135</th>\n",
       "      <td>0.174030</td>\n",
       "      <td>-0.157935</td>\n",
       "      <td>-0.006736</td>\n",
       "      <td>-0.104627</td>\n",
       "      <td>0.063156</td>\n",
       "      <td>-0.084405</td>\n",
       "      <td>0.142071</td>\n",
       "      <td>-0.166416</td>\n",
       "      <td>0.015494</td>\n",
       "      <td>0.160062</td>\n",
       "      <td>...</td>\n",
       "      <td>-0.224311</td>\n",
       "      <td>-0.244643</td>\n",
       "      <td>0.150649</td>\n",
       "      <td>-0.181650</td>\n",
       "      <td>0.013336</td>\n",
       "      <td>-0.126066</td>\n",
       "      <td>0.245580</td>\n",
       "      <td>0.062228</td>\n",
       "      <td>-0.103226</td>\n",
       "      <td>0.284359</td>\n",
       "    </tr>\n",
       "    <tr>\n",
       "      <th>136</th>\n",
       "      <td>0.172434</td>\n",
       "      <td>-0.146922</td>\n",
       "      <td>-0.031942</td>\n",
       "      <td>-0.102224</td>\n",
       "      <td>0.066450</td>\n",
       "      <td>-0.086326</td>\n",
       "      <td>0.138581</td>\n",
       "      <td>-0.167259</td>\n",
       "      <td>0.019127</td>\n",
       "      <td>0.151235</td>\n",
       "      <td>...</td>\n",
       "      <td>-0.238764</td>\n",
       "      <td>-0.249297</td>\n",
       "      <td>0.151840</td>\n",
       "      <td>-0.169481</td>\n",
       "      <td>0.014482</td>\n",
       "      <td>-0.135287</td>\n",
       "      <td>0.251480</td>\n",
       "      <td>0.065976</td>\n",
       "      <td>-0.112789</td>\n",
       "      <td>0.286763</td>\n",
       "    </tr>\n",
       "    <tr>\n",
       "      <th>137</th>\n",
       "      <td>0.174234</td>\n",
       "      <td>-0.153681</td>\n",
       "      <td>-0.011042</td>\n",
       "      <td>-0.104586</td>\n",
       "      <td>0.065546</td>\n",
       "      <td>-0.082413</td>\n",
       "      <td>0.137912</td>\n",
       "      <td>-0.166008</td>\n",
       "      <td>0.012966</td>\n",
       "      <td>0.158591</td>\n",
       "      <td>...</td>\n",
       "      <td>-0.227856</td>\n",
       "      <td>-0.244326</td>\n",
       "      <td>0.155517</td>\n",
       "      <td>-0.176637</td>\n",
       "      <td>0.012130</td>\n",
       "      <td>-0.129457</td>\n",
       "      <td>0.250048</td>\n",
       "      <td>0.063810</td>\n",
       "      <td>-0.103120</td>\n",
       "      <td>0.281563</td>\n",
       "    </tr>\n",
       "    <tr>\n",
       "      <th>138</th>\n",
       "      <td>0.174427</td>\n",
       "      <td>-0.156169</td>\n",
       "      <td>-0.005981</td>\n",
       "      <td>-0.089861</td>\n",
       "      <td>0.051854</td>\n",
       "      <td>-0.090725</td>\n",
       "      <td>0.140425</td>\n",
       "      <td>-0.165273</td>\n",
       "      <td>0.014739</td>\n",
       "      <td>0.158256</td>\n",
       "      <td>...</td>\n",
       "      <td>-0.216647</td>\n",
       "      <td>-0.235032</td>\n",
       "      <td>0.145497</td>\n",
       "      <td>-0.156429</td>\n",
       "      <td>0.023597</td>\n",
       "      <td>-0.125767</td>\n",
       "      <td>0.233690</td>\n",
       "      <td>0.042400</td>\n",
       "      <td>-0.113347</td>\n",
       "      <td>0.269686</td>\n",
       "    </tr>\n",
       "    <tr>\n",
       "      <th>139</th>\n",
       "      <td>0.163544</td>\n",
       "      <td>-0.150024</td>\n",
       "      <td>-0.010398</td>\n",
       "      <td>-0.118032</td>\n",
       "      <td>0.068422</td>\n",
       "      <td>-0.089476</td>\n",
       "      <td>0.146393</td>\n",
       "      <td>-0.161852</td>\n",
       "      <td>0.009237</td>\n",
       "      <td>0.157523</td>\n",
       "      <td>...</td>\n",
       "      <td>-0.228136</td>\n",
       "      <td>-0.244716</td>\n",
       "      <td>0.159854</td>\n",
       "      <td>-0.191116</td>\n",
       "      <td>0.009808</td>\n",
       "      <td>-0.129666</td>\n",
       "      <td>0.246694</td>\n",
       "      <td>0.079812</td>\n",
       "      <td>-0.103670</td>\n",
       "      <td>0.285048</td>\n",
       "    </tr>\n",
       "  </tbody>\n",
       "</table>\n",
       "<p>140 rows × 3133 columns</p>\n",
       "</div>"
      ],
      "text/plain": [
       "    discontented immediate    hipped   necessary  autumnal   declarative  \\\n",
       "       contented   mediate    gabled unnecessary    wintry interrogative   \n",
       "0       0.165546 -0.154739 -0.002083   -0.115420  0.065003     -0.088813   \n",
       "1       0.177506 -0.150237 -0.007614   -0.107309  0.070593     -0.081920   \n",
       "2       0.169375 -0.156033 -0.005874   -0.110519  0.065521     -0.085905   \n",
       "3       0.170841 -0.157961 -0.001664   -0.104724  0.062080     -0.086970   \n",
       "4       0.175307 -0.148986 -0.011530   -0.108341  0.065765     -0.083990   \n",
       "..           ...       ...       ...         ...       ...           ...   \n",
       "135     0.174030 -0.157935 -0.006736   -0.104627  0.063156     -0.084405   \n",
       "136     0.172434 -0.146922 -0.031942   -0.102224  0.066450     -0.086326   \n",
       "137     0.174234 -0.153681 -0.011042   -0.104586  0.065546     -0.082413   \n",
       "138     0.174427 -0.156169 -0.005981   -0.089861  0.051854     -0.090725   \n",
       "139     0.163544 -0.150024 -0.010398   -0.118032  0.068422     -0.089476   \n",
       "\n",
       "         maxi  humorous monovalent indiscreet  ...    alcoholic   assertive  \\\n",
       "         mini humorless polyvalent   discreet  ... nonalcoholic unassertive   \n",
       "0    0.146881 -0.159049   0.008047   0.162146  ...    -0.224326   -0.242138   \n",
       "1    0.137711 -0.165901   0.014199   0.156433  ...    -0.225266   -0.246804   \n",
       "2    0.146263 -0.163001   0.009533   0.160838  ...    -0.226490   -0.245076   \n",
       "3    0.141440 -0.161939   0.013173   0.160702  ...    -0.221755   -0.237164   \n",
       "4    0.138884 -0.166447   0.018695   0.158907  ...    -0.227087   -0.245679   \n",
       "..        ...       ...        ...        ...  ...          ...         ...   \n",
       "135  0.142071 -0.166416   0.015494   0.160062  ...    -0.224311   -0.244643   \n",
       "136  0.138581 -0.167259   0.019127   0.151235  ...    -0.238764   -0.249297   \n",
       "137  0.137912 -0.166008   0.012966   0.158591  ...    -0.227856   -0.244326   \n",
       "138  0.140425 -0.165273   0.014739   0.158256  ...    -0.216647   -0.235032   \n",
       "139  0.146393 -0.161852   0.009237   0.157523  ...    -0.228136   -0.244716   \n",
       "\n",
       "    unlivable   original individual   principled immoderate   unknown  \\\n",
       "      livable unoriginal     common unprincipled   moderate     known   \n",
       "0    0.158984  -0.189906   0.007315    -0.125275   0.244697  0.071690   \n",
       "1    0.155883  -0.176094   0.007535    -0.130717   0.247655  0.056833   \n",
       "2    0.156482  -0.188997   0.008848    -0.127639   0.245994  0.069606   \n",
       "3    0.149789  -0.182591   0.019616    -0.123959   0.245925  0.064065   \n",
       "4    0.154710  -0.174680   0.017252    -0.131417   0.248683  0.057177   \n",
       "..        ...        ...        ...          ...        ...       ...   \n",
       "135  0.150649  -0.181650   0.013336    -0.126066   0.245580  0.062228   \n",
       "136  0.151840  -0.169481   0.014482    -0.135287   0.251480  0.065976   \n",
       "137  0.155517  -0.176637   0.012130    -0.129457   0.250048  0.063810   \n",
       "138  0.145497  -0.156429   0.023597    -0.125767   0.233690  0.042400   \n",
       "139  0.159854  -0.191116   0.009808    -0.129666   0.246694  0.079812   \n",
       "\n",
       "    freelance forceless  \n",
       "     salaried  forceful  \n",
       "0   -0.100881  0.282711  \n",
       "1   -0.096931  0.284652  \n",
       "2   -0.101717  0.283759  \n",
       "3   -0.103672  0.279415  \n",
       "4   -0.108773  0.285297  \n",
       "..        ...       ...  \n",
       "135 -0.103226  0.284359  \n",
       "136 -0.112789  0.286763  \n",
       "137 -0.103120  0.281563  \n",
       "138 -0.113347  0.269686  \n",
       "139 -0.103670  0.285048  \n",
       "\n",
       "[140 rows x 3133 columns]"
      ]
     },
     "execution_count": 53,
     "metadata": {},
     "output_type": "execute_result"
    }
   ],
   "source": [
    "sample_biases_df = pickle.load(open('Download/sample_biases_df.pickle', 'rb'))\n",
    "sample_biases_df"
   ]
  },
  {
   "cell_type": "code",
   "execution_count": 39,
   "metadata": {},
   "outputs": [
    {
     "data": {
      "application/vnd.jupyter.widget-view+json": {
       "model_id": "766a938d93ac40c980959d005b0edead",
       "version_major": 2,
       "version_minor": 0
      },
      "text/plain": [
       "  0%|          | 0/3133 [00:00<?, ?it/s]"
      ]
     },
     "metadata": {},
     "output_type": "display_data"
    }
   ],
   "source": [
    "sample_bias = bias(sample_doc, frame=microframes)"
   ]
  },
  {
   "cell_type": "code",
   "execution_count": 40,
   "metadata": {},
   "outputs": [],
   "source": [
    "sample_boot_bias = sample_biases_df.mean(axis=0).to_numpy()"
   ]
  },
  {
   "cell_type": "code",
   "execution_count": 44,
   "metadata": {},
   "outputs": [],
   "source": [
    "from operator import itemgetter\n",
    "rank = itemgetter(*np.argsort(-np.absolute(sample_bias - sample_boot_bias)))(list(microframes))"
   ]
  },
  {
   "cell_type": "code",
   "execution_count": 45,
   "metadata": {},
   "outputs": [
    {
     "data": {
      "text/plain": [
       "(('unsurprised', 'surprised'),\n",
       " ('significant', 'nonsignificant'),\n",
       " ('unsized', 'sized'),\n",
       " ('susceptible', 'unsusceptible'))"
      ]
     },
     "execution_count": 45,
     "metadata": {},
     "output_type": "execute_result"
    }
   ],
   "source": [
    "rank[:4]"
   ]
  },
  {
   "cell_type": "code",
   "execution_count": 46,
   "metadata": {},
   "outputs": [
    {
     "data": {
      "text/plain": [
       "('abc', 'eed')"
      ]
     },
     "execution_count": 46,
     "metadata": {},
     "output_type": "execute_result"
    }
   ],
   "source": [
    "tuple(sorted(('eed','abc')))"
   ]
  },
  {
   "cell_type": "code",
   "execution_count": 47,
   "metadata": {},
   "outputs": [],
   "source": [
    "new_rank = []\n",
    "for ant1, ant2 in rank:\n",
    "    new_rank.append(tuple(sorted((ant1,ant2))))"
   ]
  },
  {
   "cell_type": "code",
   "execution_count": 48,
   "metadata": {},
   "outputs": [
    {
     "data": {
      "text/plain": [
       "3133"
      ]
     },
     "execution_count": 48,
     "metadata": {},
     "output_type": "execute_result"
    }
   ],
   "source": [
    "len(new_rank)"
   ]
  },
  {
   "cell_type": "code",
   "execution_count": 49,
   "metadata": {},
   "outputs": [
    {
     "data": {
      "text/plain": [
       "3133"
      ]
     },
     "execution_count": 49,
     "metadata": {},
     "output_type": "execute_result"
    }
   ],
   "source": [
    "len(rank)"
   ]
  },
  {
   "cell_type": "code",
   "execution_count": 50,
   "metadata": {},
   "outputs": [],
   "source": [
    "new_rank = list(dict.fromkeys(new_rank))"
   ]
  },
  {
   "cell_type": "code",
   "execution_count": 51,
   "metadata": {},
   "outputs": [
    {
     "data": {
      "text/plain": [
       "[('surprised', 'unsurprised'),\n",
       " ('nonsignificant', 'significant'),\n",
       " ('sized', 'unsized'),\n",
       " ('susceptible', 'unsusceptible'),\n",
       " ('social', 'unsocial'),\n",
       " ('silenced', 'unsilenced'),\n",
       " ('nonpregnant', 'pregnant'),\n",
       " ('active', 'stative'),\n",
       " ('frozen', 'unfrozen'),\n",
       " ('steady', 'unsteady')]"
      ]
     },
     "execution_count": 51,
     "metadata": {},
     "output_type": "execute_result"
    }
   ],
   "source": [
    "new_rank[:10]"
   ]
  },
  {
   "cell_type": "code",
   "execution_count": 52,
   "metadata": {},
   "outputs": [
    {
     "data": {
      "text/plain": [
       "[('cubic', 'planar'),\n",
       " ('respectable', 'unrespectable'),\n",
       " ('ectomorphic', 'mesomorphic'),\n",
       " ('east', 'west'),\n",
       " ('rural', 'urban'),\n",
       " ('hypertonic', 'isotonic'),\n",
       " ('traceable', 'untraceable'),\n",
       " ('local', 'national'),\n",
       " ('oblique', 'perpendicular'),\n",
       " ('catadromous', 'diadromous')]"
      ]
     },
     "execution_count": 52,
     "metadata": {},
     "output_type": "execute_result"
    }
   ],
   "source": [
    "new_rank[-10:]"
   ]
  },
  {
   "cell_type": "code",
   "execution_count": null,
   "metadata": {},
   "outputs": [],
   "source": []
  }
 ],
 "metadata": {
  "kernelspec": {
   "display_name": "creepy-venv",
   "language": "python",
   "name": "creepy-venv"
  },
  "language_info": {
   "codemirror_mode": {
    "name": "ipython",
    "version": 3
   },
   "file_extension": ".py",
   "mimetype": "text/x-python",
   "name": "python",
   "nbconvert_exporter": "python",
   "pygments_lexer": "ipython3",
   "version": "3.8.5"
  }
 },
 "nbformat": 4,
 "nbformat_minor": 4
}
