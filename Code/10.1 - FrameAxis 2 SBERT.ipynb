{
 "cells": [
  {
   "cell_type": "code",
   "execution_count": 8,
   "metadata": {},
   "outputs": [
    {
     "name": "stdout",
     "output_type": "stream",
     "text": [
      "Num GPUs Available:  1\n"
     ]
    }
   ],
   "source": [
    "import tensorflow as tf\n",
    "physical_devices = tf.config.list_physical_devices('GPU')\n",
    "tf.config.experimental.set_memory_growth(physical_devices[0], enable=True)\n",
    "print(\"Num GPUs Available: \", len(physical_devices))"
   ]
  },
  {
   "cell_type": "code",
   "execution_count": 9,
   "metadata": {},
   "outputs": [],
   "source": [
    "import pickle\n",
    "with open('./Download/data_cleaned.pickle', 'rb') as handle:\n",
    "    data_cleaned = pickle.load(handle)"
   ]
  },
  {
   "cell_type": "markdown",
   "metadata": {},
   "source": [
    "# 1. Building a Set of Microframes"
   ]
  },
  {
   "cell_type": "code",
   "execution_count": 10,
   "metadata": {},
   "outputs": [
    {
     "name": "stderr",
     "output_type": "stream",
     "text": [
      "[nltk_data] Downloading package wordnet to /home/anthony/nltk_data...\n",
      "[nltk_data]   Package wordnet is already up-to-date!\n",
      "[nltk_data] Downloading package punkt to /home/anthony/nltk_data...\n",
      "[nltk_data]   Package punkt is already up-to-date!\n"
     ]
    },
    {
     "data": {
      "text/plain": [
       "True"
      ]
     },
     "execution_count": 10,
     "metadata": {},
     "output_type": "execute_result"
    }
   ],
   "source": [
    "import nltk\n",
    "from nltk.corpus import wordnet as wn\n",
    "nltk.download('wordnet')\n",
    "nltk.download('punkt')"
   ]
  },
  {
   "cell_type": "markdown",
   "metadata": {},
   "source": [
    "### Show all antonyms in WordNet:"
   ]
  },
  {
   "cell_type": "code",
   "execution_count": 11,
   "metadata": {},
   "outputs": [],
   "source": [
    "from nltk.corpus import wordnet as wn\n",
    "\n",
    "def antonyms_for(word):\n",
    "    antonyms = set()\n",
    "    for ss in wn.synsets(word):\n",
    "        for lemma in ss.lemmas():\n",
    "            any_pos_antonyms = [ antonym.name() for antonym in lemma.antonyms() ]\n",
    "            for antonym in any_pos_antonyms:\n",
    "                antonym_synsets = wn.synsets(antonym)\n",
    "                if wn.ADJ not in [ ss.pos() for ss in antonym_synsets ]:\n",
    "                    continue\n",
    "                antonyms.add(antonym)\n",
    "    return antonyms"
   ]
  },
  {
   "cell_type": "code",
   "execution_count": 12,
   "metadata": {},
   "outputs": [],
   "source": [
    "from nltk.corpus import wordnet as wn\n",
    "\n",
    "wn_all_antonyms = set()\n",
    "\n",
    "for i in wn.all_synsets():\n",
    "    if i.pos() in ['a', 's']: # If synset is adj or satelite-adj.\n",
    "        for j in i.lemmas(): # Iterating through lemmas for each synset.\n",
    "            if j.antonyms(): # If adj has antonym.\n",
    "                # Prints the adj-antonym pair.\n",
    "                wn_all_antonyms.add((j.name(), j.antonyms()[0].name()))"
   ]
  },
  {
   "cell_type": "code",
   "execution_count": 13,
   "metadata": {},
   "outputs": [
    {
     "data": {
      "text/plain": [
       "3531"
      ]
     },
     "execution_count": 13,
     "metadata": {},
     "output_type": "execute_result"
    }
   ],
   "source": [
    "len(wn_all_antonyms)"
   ]
  },
  {
   "cell_type": "code",
   "execution_count": null,
   "metadata": {},
   "outputs": [],
   "source": []
  },
  {
   "cell_type": "markdown",
   "metadata": {},
   "source": [
    "### Import pretrained embeddings"
   ]
  },
  {
   "cell_type": "markdown",
   "metadata": {},
   "source": [
    "### **Options**\n",
    "\n",
    "`CLASStorchtext.vocab.GloVe(name='840B', dim=300, **kwargs)`\n",
    "\n",
    "`CLASStorchtext.vocab.FastText(language='en', **kwargs)`\n",
    "\n",
    "`CLASStorchtext.vocab.CharNGram(**kwargs)`"
   ]
  },
  {
   "cell_type": "code",
   "execution_count": 14,
   "metadata": {},
   "outputs": [],
   "source": [
    "from sentence_transformers import SentenceTransformer\n",
    "import numpy as np"
   ]
  },
  {
   "cell_type": "code",
   "execution_count": 15,
   "metadata": {},
   "outputs": [],
   "source": [
    "sbert = SentenceTransformer('distilbert-base-nli-stsb-mean-tokens')"
   ]
  },
  {
   "cell_type": "code",
   "execution_count": 16,
   "metadata": {},
   "outputs": [],
   "source": [
    "import spacy\n",
    "nlp = spacy.load('en_core_web_lg')"
   ]
  },
  {
   "cell_type": "code",
   "execution_count": 17,
   "metadata": {},
   "outputs": [],
   "source": [
    "from nltk.corpus import wordnet as wn\n",
    "\n",
    "wn_all_antonyms_words = set()\n",
    "\n",
    "for ant_pair in wn_all_antonyms:\n",
    "    wn_all_antonyms_words = set(tuple(wn_all_antonyms_words) + ant_pair)"
   ]
  },
  {
   "cell_type": "code",
   "execution_count": 18,
   "metadata": {},
   "outputs": [
    {
     "data": {
      "text/plain": [
       "3531"
      ]
     },
     "execution_count": 18,
     "metadata": {},
     "output_type": "execute_result"
    }
   ],
   "source": [
    "len(wn_all_antonyms)"
   ]
  },
  {
   "cell_type": "code",
   "execution_count": 19,
   "metadata": {
    "collapsed": true,
    "jupyter": {
     "outputs_hidden": true
    }
   },
   "outputs": [
    {
     "data": {
      "text/plain": [
       "{('uncertain', 'certain'),\n",
       " ('fair', 'unfair'),\n",
       " ('disrespectful', 'respectful'),\n",
       " ('unabused', 'abused'),\n",
       " ('nonreturnable', 'returnable'),\n",
       " ('skinned', 'skinless'),\n",
       " ('seamed', 'seamless'),\n",
       " ('defeated', 'undefeated'),\n",
       " ('unimpaired', 'impaired'),\n",
       " ('adoptive', 'biological'),\n",
       " ('leptosporangiate', 'eusporangiate'),\n",
       " ('live', 'recorded'),\n",
       " ('shuttered', 'unshuttered'),\n",
       " ('diatonic', 'chromatic'),\n",
       " ('coordinating', 'subordinating'),\n",
       " ('endemic', 'cosmopolitan'),\n",
       " ('off', 'on'),\n",
       " ('avascular', 'vascular'),\n",
       " ('congenial', 'uncongenial'),\n",
       " ('colorful', 'colorless'),\n",
       " ('campylotropous', 'orthotropous'),\n",
       " ('unobligated', 'obligated'),\n",
       " ('expendable', 'unexpendable'),\n",
       " ('exothermic', 'endothermic'),\n",
       " ('abnormal', 'normal'),\n",
       " ('oiled', 'unoiled'),\n",
       " ('angular', 'rounded'),\n",
       " ('ungulate', 'unguiculate'),\n",
       " ('uninformative', 'informative'),\n",
       " ('hydrostatic', 'hydrokinetic'),\n",
       " ('light', 'dark'),\n",
       " ('rich', 'lean'),\n",
       " ('pointless', 'pointed'),\n",
       " ('indehiscent', 'dehiscent'),\n",
       " ('postnatal', 'prenatal'),\n",
       " ('artificial', 'natural'),\n",
       " ('inflationary', 'deflationary'),\n",
       " ('end-stopped', 'run-on'),\n",
       " ('moonless', 'moonlit'),\n",
       " ('processed', 'unprocessed'),\n",
       " ('summery', 'autumnal'),\n",
       " ('fossorial', 'cursorial'),\n",
       " ('quiet', 'unquiet'),\n",
       " ('hostile', 'amicable'),\n",
       " ('interspecies', 'intraspecies'),\n",
       " ('unretentive', 'retentive'),\n",
       " ('high-tension', 'low-tension'),\n",
       " ('linear', 'planar'),\n",
       " ('unwoven', 'woven'),\n",
       " ('oleophilic', 'oleophobic'),\n",
       " ('unshelled', 'shelled'),\n",
       " ('addictive', 'nonaddictive'),\n",
       " ('capitalistic', 'socialistic'),\n",
       " ('extracellular', 'intracellular'),\n",
       " ('indiscernible', 'discernible'),\n",
       " ('typical', 'atypical'),\n",
       " ('fragrant', 'malodorous'),\n",
       " ('warm-blooded', 'cold-blooded'),\n",
       " ('exocrine', 'endocrine'),\n",
       " ('unexchangeable', 'exchangeable'),\n",
       " ('happy', 'unhappy'),\n",
       " ('counterclockwise', 'clockwise'),\n",
       " ('lively', 'dull'),\n",
       " ('unstimulating', 'stimulating'),\n",
       " ('trackless', 'tracked'),\n",
       " ('undedicated', 'dedicated'),\n",
       " ('unconcerned', 'concerned'),\n",
       " ('balconied', 'unbalconied'),\n",
       " ('plausible', 'implausible'),\n",
       " ('unfriendly', 'friendly'),\n",
       " ('toxic', 'nontoxic'),\n",
       " ('stable', 'unstable'),\n",
       " ('near', 'far'),\n",
       " ('descriptive', 'prescriptive'),\n",
       " ('dramatic', 'undramatic'),\n",
       " ('tough', 'tender'),\n",
       " ('omnidirectional', 'directional'),\n",
       " ('faithful', 'unfaithful'),\n",
       " ('continued', 'discontinued'),\n",
       " ('metallic', 'nonmetallic'),\n",
       " ('tame', 'wild'),\n",
       " ('immaterial', 'material'),\n",
       " ('decentralizing', 'centralizing'),\n",
       " ('inglorious', 'glorious'),\n",
       " ('unfavorable', 'favorable'),\n",
       " ('senior', 'junior'),\n",
       " ('diachronic', 'synchronic'),\n",
       " ('committed', 'uncommitted'),\n",
       " ('tasteful', 'tasteless'),\n",
       " ('nonspatial', 'spatial'),\n",
       " ('abundant', 'scarce'),\n",
       " ('caulked', 'uncaulked'),\n",
       " ('discontented', 'contented'),\n",
       " ('restricted', 'unrestricted'),\n",
       " ('lawful', 'unlawful'),\n",
       " ('extricable', 'inextricable'),\n",
       " ('on-street', 'off-street'),\n",
       " ('prenuptial', 'postnuptial'),\n",
       " ('national', 'local'),\n",
       " ('blended', 'unblended'),\n",
       " ('declaratory', 'interrogatory'),\n",
       " ('selfish', 'unselfish'),\n",
       " ('unhealthful', 'healthful'),\n",
       " ('legged', 'legless'),\n",
       " ('metabolic', 'ametabolic'),\n",
       " ('right-handed', 'left-handed'),\n",
       " ('major', 'minor'),\n",
       " ('secure', 'insecure'),\n",
       " ('exact', 'inexact'),\n",
       " ('epidemic', 'endemic'),\n",
       " ('loose', 'compact'),\n",
       " ('womanly', 'unwomanly'),\n",
       " ('fresh', 'preserved'),\n",
       " ('cephalic', 'caudal'),\n",
       " ('unexportable', 'exportable'),\n",
       " ('unprejudiced', 'prejudiced'),\n",
       " ('articulated', 'unarticulated'),\n",
       " ('intrusive', 'unintrusive'),\n",
       " ('subtractive', 'additive'),\n",
       " ('scentless', 'scented'),\n",
       " ('rough', 'smooth'),\n",
       " ('raised', 'lowered'),\n",
       " ('punctureless', 'puncturable'),\n",
       " ('catabolic', 'anabolic'),\n",
       " ('retractile', 'nonretractile'),\n",
       " ('nonclassical', 'classical'),\n",
       " ('unswept', 'swept'),\n",
       " ('heterogenous', 'autogenous'),\n",
       " ('pleurocarpous', 'acrocarpous'),\n",
       " ('vagile', 'sessile'),\n",
       " ('hipped', 'hipless'),\n",
       " ('uncleared', 'cleared'),\n",
       " ('unshrinkable', 'shrinkable'),\n",
       " ('better', 'worse'),\n",
       " ('specific', 'general'),\n",
       " ('unmodified', 'modified'),\n",
       " ('invasive', 'noninvasive'),\n",
       " ('dicotyledonous', 'monocotyledonous'),\n",
       " ('subhuman', 'superhuman'),\n",
       " ('postwar', 'prewar'),\n",
       " ('high', 'low'),\n",
       " ('atrophied', 'hypertrophied'),\n",
       " ('natural', 'supernatural'),\n",
       " ('maximum', 'minimum'),\n",
       " ('astringent', 'nonastringent'),\n",
       " ('inquiring', 'uninquiring'),\n",
       " ('unsound', 'sound'),\n",
       " ('overhand', 'underhand'),\n",
       " ('unrefined', 'refined'),\n",
       " ('nonindulgent', 'indulgent'),\n",
       " ('discontinued', 'continued'),\n",
       " ('tucked', 'untucked'),\n",
       " ('untraceable', 'traceable'),\n",
       " ('noncombustible', 'combustible'),\n",
       " ('middle-class', 'upper-class'),\n",
       " ('patient', 'impatient'),\n",
       " ('unrigged', 'rigged'),\n",
       " ('open', 'closed'),\n",
       " ('formal', 'informal'),\n",
       " ('attributive', 'predicative'),\n",
       " ('sound', 'unsound'),\n",
       " ('penitent', 'impenitent'),\n",
       " ('brachycephalic', 'dolichocephalic'),\n",
       " ('willing', 'unwilling'),\n",
       " ('immiscible', 'miscible'),\n",
       " ('zygodactyl', 'heterodactyl'),\n",
       " ('uncooperative', 'cooperative'),\n",
       " ('undeniable', 'deniable'),\n",
       " ('branded', 'unbranded'),\n",
       " ('backed', 'backless'),\n",
       " ('natural', 'artificial'),\n",
       " ('worldly', 'unworldly'),\n",
       " ('nonassociative', 'associative'),\n",
       " ('superjacent', 'subjacent'),\n",
       " ('worst', 'best'),\n",
       " ('inconspicuous', 'conspicuous'),\n",
       " ('whole', 'half'),\n",
       " ('dysphemistic', 'euphemistic'),\n",
       " ('direct', 'alternating'),\n",
       " ('unsympathetic', 'sympathetic'),\n",
       " ('acid-loving', 'alkaline-loving'),\n",
       " ('inviolable', 'violable'),\n",
       " ('laureled', 'unlaureled'),\n",
       " ('military', 'civilian'),\n",
       " ('politic', 'impolitic'),\n",
       " ('heavenly', 'earthly'),\n",
       " ('brave', 'cowardly'),\n",
       " ('unmindful', 'mindful'),\n",
       " ('standard', 'nonstandard'),\n",
       " ('depressing', 'cheerful'),\n",
       " ('loving', 'unloving'),\n",
       " ('tuneless', 'tuneful'),\n",
       " ('satiate', 'insatiate'),\n",
       " ('unloving', 'loving'),\n",
       " ('reflected', 'unreflected'),\n",
       " ('past', 'present'),\n",
       " ('dystopian', 'utopian'),\n",
       " ('moonlit', 'moonless'),\n",
       " ('fast', 'slow'),\n",
       " ('northern', 'southern'),\n",
       " ('toothless', 'toothed'),\n",
       " ('lowercase', 'uppercase'),\n",
       " ('secondary', 'primary'),\n",
       " ('improper', 'proper'),\n",
       " ('unburdened', 'burdened'),\n",
       " ('free', 'bound'),\n",
       " ('radioactive', 'nonradioactive'),\n",
       " ('successful', 'unsuccessful'),\n",
       " ('talented', 'untalented'),\n",
       " ('supersonic', 'sonic'),\n",
       " ('scientific', 'unscientific'),\n",
       " ('civil', 'uncivil'),\n",
       " ('full', 'empty'),\n",
       " ('some', 'no'),\n",
       " ('rising', 'falling'),\n",
       " ('unangry', 'angry'),\n",
       " ('commodious', 'incommodious'),\n",
       " ('uninteresting', 'interesting'),\n",
       " ('compound', 'simple'),\n",
       " ('coarse', 'fine'),\n",
       " ('unrelated', 'related'),\n",
       " ('north', 'south'),\n",
       " ('incontestable', 'contestable'),\n",
       " ('petalous', 'apetalous'),\n",
       " ('unpropitious', 'propitious'),\n",
       " ('judgmental', 'nonjudgmental'),\n",
       " ('interdepartmental', 'intradepartmental'),\n",
       " ('unframed', 'framed'),\n",
       " ('unconstitutional', 'constitutional'),\n",
       " ('encumbered', 'unencumbered'),\n",
       " ('capable', 'incapable'),\n",
       " ('basipetal', 'acropetal'),\n",
       " ('easy', 'uneasy'),\n",
       " ('toothed', 'toothless'),\n",
       " ('penetrable', 'impenetrable'),\n",
       " ('easy', 'difficult'),\n",
       " ('alert', 'unalert'),\n",
       " ('detected', 'undetected'),\n",
       " ('acroscopic', 'basiscopic'),\n",
       " ('delineated', 'undelineated'),\n",
       " ('unrighteous', 'righteous'),\n",
       " ('gathered', 'ungathered'),\n",
       " ('unprovocative', 'provocative'),\n",
       " ('adiabatic', 'diabatic'),\n",
       " ('unclothed', 'clothed'),\n",
       " ('fernless', 'ferned'),\n",
       " ('algorithmic', 'heuristic'),\n",
       " ('unsalable', 'salable'),\n",
       " ('moneyed', 'moneyless'),\n",
       " ('unmitigated', 'mitigated'),\n",
       " ('eukaryotic', 'prokaryotic'),\n",
       " ('finished', 'unfinished'),\n",
       " ('emotional', 'cerebral'),\n",
       " ('unapologetic', 'apologetic'),\n",
       " ('arenaceous', 'argillaceous'),\n",
       " ('untreated', 'treated'),\n",
       " ('magnetic', 'nonmagnetic'),\n",
       " ('allopathic', 'homeopathic'),\n",
       " ('defined', 'undefined'),\n",
       " ('military', 'unmilitary'),\n",
       " ('pretentious', 'unpretentious'),\n",
       " ('pigeon-toed', 'splayfooted'),\n",
       " ('common', 'individual'),\n",
       " ('crowned', 'uncrowned'),\n",
       " ('commercial', 'noncommercial'),\n",
       " ('eager', 'uneager'),\n",
       " ('savory', 'unsavory'),\n",
       " ('unknown', 'known'),\n",
       " ('low-tension', 'high-tension'),\n",
       " ('trinucleate', 'mononuclear'),\n",
       " ('unfurnished', 'furnished'),\n",
       " ('still', 'sparkling'),\n",
       " ('full', 'thin'),\n",
       " ('antrorse', 'retrorse'),\n",
       " ('catalectic', 'hypercatalectic'),\n",
       " ('compressible', 'incompressible'),\n",
       " ('noisy', 'quiet'),\n",
       " ('succeeding', 'preceding'),\n",
       " ('subsonic', 'supersonic'),\n",
       " ('dry', 'wet'),\n",
       " ('lined', 'unlined'),\n",
       " ('unventilated', 'ventilated'),\n",
       " ('superhuman', 'subhuman'),\n",
       " ('healthful', 'unhealthful'),\n",
       " ('professional', 'nonprofessional'),\n",
       " ('lowered', 'raised'),\n",
       " ('unmanned', 'manned'),\n",
       " ('ethical', 'unethical'),\n",
       " ('homeopathic', 'allopathic'),\n",
       " ('hardened', 'soft'),\n",
       " ('seedless', 'seedy'),\n",
       " ('nontraditional', 'traditional'),\n",
       " ('artless', 'artful'),\n",
       " ('unrhymed', 'rhymed'),\n",
       " ('stoppable', 'unstoppable'),\n",
       " ('off-site', 'on-site'),\n",
       " ('go', 'no-go'),\n",
       " ('uncombed', 'combed'),\n",
       " ('preventive', 'permissive'),\n",
       " ('oblique', 'parallel'),\n",
       " ('instrumental', 'vocal'),\n",
       " ('diluted', 'undiluted'),\n",
       " ('sympathetic', 'unsympathetic'),\n",
       " ('unreserved', 'reserved'),\n",
       " ('assigned', 'unassigned'),\n",
       " ('rh-negative', 'rh-positive'),\n",
       " ('impressionable', 'unimpressionable'),\n",
       " ('multiple-choice', 'true-false'),\n",
       " ('undeciphered', 'deciphered'),\n",
       " ('bearing', 'nonbearing'),\n",
       " ('undynamic', 'dynamic'),\n",
       " ('palpable', 'impalpable'),\n",
       " ('open', 'shut'),\n",
       " ('undetected', 'detected'),\n",
       " ('unrespectable', 'respectable'),\n",
       " ('wicked', 'virtuous'),\n",
       " ('triclinic', 'monoclinic'),\n",
       " ('nonsyllabic', 'syllabic'),\n",
       " ('joyful', 'sorrowful'),\n",
       " ('interrogatory', 'declaratory'),\n",
       " ('respectable', 'unrespectable'),\n",
       " ('seasonable', 'unseasonable'),\n",
       " ('saddled', 'unsaddled'),\n",
       " ('incoming', 'outgoing'),\n",
       " ('unorthodox', 'orthodox'),\n",
       " ('blemished', 'unblemished'),\n",
       " ('unwholesome', 'wholesome'),\n",
       " ('seamless', 'seamed'),\n",
       " ('deciduous', 'evergreen'),\n",
       " ('normotensive', 'hypertensive'),\n",
       " ('disproportionate', 'proportionate'),\n",
       " ('hypotonic', 'isotonic'),\n",
       " ('unlisted', 'listed'),\n",
       " ('incalculable', 'calculable'),\n",
       " ('spoken', 'written'),\n",
       " ('revolutionary', 'counterrevolutionary'),\n",
       " ('unchangeable', 'changeable'),\n",
       " ('susceptible', 'unsusceptible'),\n",
       " ('fastened', 'unfastened'),\n",
       " ('multinucleate', 'uninucleate'),\n",
       " ('mini', 'midi'),\n",
       " ('nonreticulate', 'reticulate'),\n",
       " ('preventable', 'unpreventable'),\n",
       " ('intense', 'mild'),\n",
       " ('homosexual', 'bisexual'),\n",
       " ('syllabic', 'accentual'),\n",
       " ('fancy', 'plain'),\n",
       " ('magnetic', 'antimagnetic'),\n",
       " ('deaf', 'hearing'),\n",
       " ('unairworthy', 'airworthy'),\n",
       " ('hipless', 'hipped'),\n",
       " ('unmyelinated', 'myelinated'),\n",
       " ('unbuttoned', 'buttoned'),\n",
       " ('expressible', 'inexpressible'),\n",
       " ('uncollected', 'collected'),\n",
       " ('uninhabited', 'inhabited'),\n",
       " ('second', 'first'),\n",
       " ('dead', 'live'),\n",
       " ('unconscious', 'conscious'),\n",
       " ('extrospective', 'introspective'),\n",
       " ('conventional', 'unconventional'),\n",
       " ('unactable', 'actable'),\n",
       " ('extramural', 'intramural'),\n",
       " ('uninterested', 'interested'),\n",
       " ('mesic', 'xeric'),\n",
       " ('syncategorematic', 'categorematic'),\n",
       " ('unfinished', 'finished'),\n",
       " ('intraspecies', 'interspecies'),\n",
       " ('documented', 'undocumented'),\n",
       " ('definite', 'indefinite'),\n",
       " ('limited', 'unlimited'),\n",
       " ('robust', 'frail'),\n",
       " ('pervious', 'impervious'),\n",
       " ('uninhibited', 'inhibited'),\n",
       " ('ovoviviparous', 'viviparous'),\n",
       " ('nonarbitrable', 'arbitrable'),\n",
       " ('sorrowful', 'joyful'),\n",
       " ('valid', 'invalid'),\n",
       " ('diligent', 'negligent'),\n",
       " ('discernible', 'indiscernible'),\n",
       " ('unwrapped', 'wrapped'),\n",
       " ('nonexistent', 'existent'),\n",
       " ('inconsiderable', 'considerable'),\n",
       " ('antagonistic', 'conciliatory'),\n",
       " ('gloveless', 'gloved'),\n",
       " ('effective', 'ineffective'),\n",
       " ('non-invertible', 'invertible'),\n",
       " ('de_facto', 'de_jure'),\n",
       " ('contralateral', 'ipsilateral'),\n",
       " ('unacceptable', 'acceptable'),\n",
       " ('pessimistic', 'optimistic'),\n",
       " ('nonpsychoactive', 'psychoactive'),\n",
       " ('posterior', 'anterior'),\n",
       " ('extroversive', 'ambiversive'),\n",
       " ('acaulescent', 'caulescent'),\n",
       " ('cold-blooded', 'warm-blooded'),\n",
       " ('local', 'national'),\n",
       " ('unbalconied', 'balconied'),\n",
       " ('heterocercal', 'homocercal'),\n",
       " ('imponderable', 'ponderable'),\n",
       " ('authorized', 'unauthorized'),\n",
       " ('inharmonious', 'harmonious'),\n",
       " ('unshared', 'shared'),\n",
       " ('censored', 'uncensored'),\n",
       " ('dull', 'lively'),\n",
       " ('unstuck', 'stuck'),\n",
       " ('noninstitutional', 'institutional'),\n",
       " ('unseasonable', 'seasonable'),\n",
       " ('questionable', 'unquestionable'),\n",
       " ('purebred', 'crossbred'),\n",
       " ('compliant', 'defiant'),\n",
       " ('lost', 'won'),\n",
       " ('irresolute', 'resolute'),\n",
       " ('unassigned', 'assigned'),\n",
       " ('mechanical', 'nonmechanical'),\n",
       " ('thrifty', 'wasteful'),\n",
       " ('woody', 'nonwoody'),\n",
       " ('low', 'high'),\n",
       " ('specialized', 'unspecialized'),\n",
       " ('inclined', 'horizontal'),\n",
       " ('unsatisfactory', 'satisfactory'),\n",
       " ('unfair', 'fair'),\n",
       " ('adopted', 'native'),\n",
       " ('natural', 'sharp'),\n",
       " ('rhythmical', 'unrhythmical'),\n",
       " ('causative', 'noncausative'),\n",
       " ('rehabilitative', 'punitive'),\n",
       " ('poor', 'rich'),\n",
       " ('incompetent', 'competent'),\n",
       " ('airworthy', 'unairworthy'),\n",
       " ('immunocompetent', 'immunodeficient'),\n",
       " ('year-round', 'seasonal'),\n",
       " ('uncomplaining', 'complaining'),\n",
       " ('pleasing', 'displeasing'),\n",
       " ('earless', 'eared'),\n",
       " ('small', 'large'),\n",
       " ('unoriginal', 'original'),\n",
       " ('disloyal', 'loyal'),\n",
       " ('shared', 'unshared'),\n",
       " ('flowerless', 'flowering'),\n",
       " ('attractive', 'repulsive'),\n",
       " ('explicable', 'inexplicable'),\n",
       " ('unprotected', 'protected'),\n",
       " ('aquatic', 'terrestrial'),\n",
       " ('external', 'internal'),\n",
       " ('geared', 'ungeared'),\n",
       " ('specified', 'unspecified'),\n",
       " ('hardhearted', 'softhearted'),\n",
       " ('intrusive', 'extrusive'),\n",
       " ('uncharitable', 'charitable'),\n",
       " ('benign', 'malignant'),\n",
       " ('uneasy', 'easy'),\n",
       " ('waxing', 'waning'),\n",
       " ('lovable', 'hateful'),\n",
       " ('distinct', 'indistinct'),\n",
       " ('lost', 'saved'),\n",
       " ('solid', 'liquid'),\n",
       " ('wide', 'narrow'),\n",
       " ('gloved', 'gloveless'),\n",
       " ('linear', 'nonlinear'),\n",
       " ('dedicated', 'undedicated'),\n",
       " ('unagitated', 'agitated'),\n",
       " ('unambitious', 'ambitious'),\n",
       " ('perfect', 'imperfect'),\n",
       " ('transeunt', 'immanent'),\n",
       " ('inductive', 'deductive'),\n",
       " ('chlamydeous', 'achlamydeous'),\n",
       " ('tasteless', 'tasty'),\n",
       " ('nonviolent', 'violent'),\n",
       " ('noncombinative', 'combinative'),\n",
       " ('azonal', 'zonal'),\n",
       " ('unburied', 'buried'),\n",
       " ('determinable', 'indeterminable'),\n",
       " ('unwomanly', 'womanly'),\n",
       " ('esoteric', 'exoteric'),\n",
       " ('groomed', 'ungroomed'),\n",
       " ('homemade', 'factory-made'),\n",
       " ('studied', 'unstudied'),\n",
       " ('apropos', 'malapropos'),\n",
       " ('spirited', 'spiritless'),\n",
       " ('unfit', 'fit'),\n",
       " ('uninjectable', 'injectable'),\n",
       " ('decreasing', 'increasing'),\n",
       " ('neurotic', 'unneurotic'),\n",
       " ('unaggressive', 'aggressive'),\n",
       " ('analogous', 'homologous'),\n",
       " ('useless', 'useful'),\n",
       " ('continental', 'intercontinental'),\n",
       " ('controversial', 'uncontroversial'),\n",
       " ('correct', 'incorrect'),\n",
       " ('born', 'unborn'),\n",
       " ('vascular', 'avascular'),\n",
       " ('undiscerning', 'discerning'),\n",
       " ('animate', 'inanimate'),\n",
       " ('nosed', 'noseless'),\n",
       " ('hydrokinetic', 'hydrostatic'),\n",
       " ('oral', 'anal'),\n",
       " ('impious', 'pious'),\n",
       " ('antecedent', 'subsequent'),\n",
       " ('nonfatal', 'fatal'),\n",
       " ('unpopular', 'popular'),\n",
       " ('uninfluential', 'influential'),\n",
       " ('shod', 'unshod'),\n",
       " ('enforced', 'unenforced'),\n",
       " ('unipolar', 'bipolar'),\n",
       " ('listed', 'unlisted'),\n",
       " ('matriarchal', 'patriarchal'),\n",
       " ('same', 'different'),\n",
       " ('paved', 'unpaved'),\n",
       " ('conscientious', 'unconscientious'),\n",
       " ('anhydrous', 'hydrous'),\n",
       " ('unidentifiable', 'identifiable'),\n",
       " ('unprintable', 'printable'),\n",
       " ('front', 'back'),\n",
       " ('noncrystalline', 'crystalline'),\n",
       " ('right', 'wrong'),\n",
       " ('undemonstrative', 'demonstrative'),\n",
       " ('skinless', 'skinned'),\n",
       " ('asleep', 'awake'),\n",
       " ('custom-made', 'ready-made'),\n",
       " ('drinkable', 'undrinkable'),\n",
       " ('laxative', 'costive'),\n",
       " ('dextral', 'sinistral'),\n",
       " ('different', 'same'),\n",
       " ('stained', 'unstained'),\n",
       " ('clothed', 'unclothed'),\n",
       " ('unmalted', 'malted'),\n",
       " ('propitious', 'unpropitious'),\n",
       " ('immeasurable', 'measurable'),\n",
       " ('insurmountable', 'surmountable'),\n",
       " ('retrograde', 'anterograde'),\n",
       " ('unstatesmanlike', 'statesmanlike'),\n",
       " ('unimpressive', 'impressive'),\n",
       " ('proud', 'humble'),\n",
       " ('tangled', 'untangled'),\n",
       " ('euphoric', 'dysphoric'),\n",
       " ('consonantal', 'vocalic'),\n",
       " ('hydrous', 'anhydrous'),\n",
       " ('unprepared', 'prepared'),\n",
       " ('greater', 'lesser'),\n",
       " ('monoecious', 'dioecious'),\n",
       " ('passive', 'active'),\n",
       " ('nonaligned', 'aligned'),\n",
       " ('well-advised', 'ill-advised'),\n",
       " ('addicted', 'unaddicted'),\n",
       " ('bottle-fed', 'breast-fed'),\n",
       " ('nonionized', 'ionized'),\n",
       " ('unbreakable', 'breakable'),\n",
       " ('armless', 'armed'),\n",
       " ('illegible', 'legible'),\n",
       " ('treated', 'untreated'),\n",
       " ('atonal', 'tonal'),\n",
       " ('publishable', 'unpublishable'),\n",
       " ('clockwise', 'counterclockwise'),\n",
       " ('linguistic', 'nonlinguistic'),\n",
       " ('unashamed', 'ashamed'),\n",
       " ('carnivorous', 'herbivorous'),\n",
       " ('unenterprising', 'enterprising'),\n",
       " ('conscious', 'unconscious'),\n",
       " ('indeterminate', 'determinate'),\n",
       " ('plowed', 'unplowed'),\n",
       " ('membered', 'memberless'),\n",
       " ('proximal', 'distal'),\n",
       " ('nonfictional', 'fictional'),\n",
       " ('sidereal', 'civil'),\n",
       " ('tied', 'untied'),\n",
       " ('unpaintable', 'paintable'),\n",
       " ('intellectual', 'nonintellectual'),\n",
       " ('forward', 'backward'),\n",
       " ('unconvinced', 'convinced'),\n",
       " ('unconditioned', 'conditioned'),\n",
       " ('unadjusted', 'adjusted'),\n",
       " ('reverse', 'forward'),\n",
       " ('in_vitro', 'in_vivo'),\n",
       " ('more', 'less'),\n",
       " ('nonintegrated', 'integrated'),\n",
       " ('inexpedient', 'expedient'),\n",
       " ('unfathomable', 'fathomable'),\n",
       " ('liveried', 'unliveried'),\n",
       " ('filial', 'parental'),\n",
       " ('secular', 'religious'),\n",
       " ('submersible', 'nonsubmersible'),\n",
       " ('winged', 'wingless'),\n",
       " ('aerobic', 'anaerobic'),\n",
       " ('half', 'whole'),\n",
       " ('incurious', 'curious'),\n",
       " ('interrogative', 'declarative'),\n",
       " ('adjusted', 'unadjusted'),\n",
       " ('racial', 'nonracial'),\n",
       " ('uncommunicative', 'communicative'),\n",
       " ('infinite', 'finite'),\n",
       " ('subordinating', 'coordinating'),\n",
       " ('humane', 'inhumane'),\n",
       " ('restful', 'restless'),\n",
       " ('precocial', 'altricial'),\n",
       " ('divisible', 'indivisible'),\n",
       " ('belted', 'unbelted'),\n",
       " ('unsupportive', 'supportive'),\n",
       " ('forgettable', 'unforgettable'),\n",
       " ('noncurrent', 'current'),\n",
       " ('phlegmy', 'dry'),\n",
       " ('safe', 'dangerous'),\n",
       " ('unsure', 'sure'),\n",
       " ('incommutable', 'commutable'),\n",
       " ('feathered', 'unfeathered'),\n",
       " ('sealed', 'unsealed'),\n",
       " ('rested', 'tired'),\n",
       " ('undiscriminating', 'discriminating'),\n",
       " ('sanitary', 'unsanitary'),\n",
       " ('unassertive', 'assertive'),\n",
       " ('made', 'unmade'),\n",
       " ('unsilenced', 'silenced'),\n",
       " ('appealing', 'unappealing'),\n",
       " ('proximate', 'ultimate'),\n",
       " ('native', 'nonnative'),\n",
       " ('least', 'most'),\n",
       " ('accessible', 'inaccessible'),\n",
       " ('experienced', 'inexperienced'),\n",
       " ('unturned', 'turned'),\n",
       " ('bridgeable', 'unbridgeable'),\n",
       " ('procaryotic', 'eucaryotic'),\n",
       " ('curious', 'incurious'),\n",
       " ('unmined', 'mined'),\n",
       " ('uninquiring', 'inquiring'),\n",
       " ('unimodal', 'bimodal'),\n",
       " ('turned', 'unturned'),\n",
       " ('inboard', 'outboard'),\n",
       " ('sober', 'intoxicated'),\n",
       " ('ionic', 'nonionic'),\n",
       " ('loaded', 'unloaded'),\n",
       " ('nonrandom', 'random'),\n",
       " ('unprofitable', 'profitable'),\n",
       " ('slow', 'fast'),\n",
       " ('single-barreled', 'double-barreled'),\n",
       " ('insentient', 'sentient'),\n",
       " ('frequent', 'infrequent'),\n",
       " ('inflected', 'uninflected'),\n",
       " ('incongruous', 'congruous'),\n",
       " ('disobedient', 'obedient'),\n",
       " ('convenient', 'inconvenient'),\n",
       " ('instructive', 'uninstructive'),\n",
       " ('wanted', 'unwanted'),\n",
       " ('untimbered', 'timbered'),\n",
       " ('nonresident', 'resident'),\n",
       " ('random', 'nonrandom'),\n",
       " ('calcicolous', 'calcifugous'),\n",
       " ('sized', 'unsized'),\n",
       " ('univalent', 'bivalent'),\n",
       " ('fore', 'aft'),\n",
       " ('unreactive', 'reactive'),\n",
       " ('retarded', 'precocious'),\n",
       " ('removable', 'irremovable'),\n",
       " ('retrospective', 'prospective'),\n",
       " ('active', 'stative'),\n",
       " ('quiet', 'active'),\n",
       " ('unprincipled', 'principled'),\n",
       " ('fixed', 'unfixed'),\n",
       " ('social', 'unsocial'),\n",
       " ('relaxed', 'tense'),\n",
       " ('damaged', 'undamaged'),\n",
       " ('perennial', 'annual'),\n",
       " ('posed', 'unposed'),\n",
       " ('incautious', 'cautious'),\n",
       " ('first', 'last'),\n",
       " ('polyploid', 'haploid'),\n",
       " ('inessential', 'essential'),\n",
       " ('irreconcilable', 'reconcilable'),\n",
       " ('unforgiving', 'forgiving'),\n",
       " ('worthy', 'unworthy'),\n",
       " ('cared-for', 'uncared-for'),\n",
       " ('heterodactyl', 'zygodactyl'),\n",
       " ('ill-natured', 'good-natured'),\n",
       " ('existent', 'nonexistent'),\n",
       " ('tracked', 'trackless'),\n",
       " ('impalpable', 'palpable'),\n",
       " ('charged', 'uncharged'),\n",
       " ('waning', 'waxing'),\n",
       " ('immunodeficient', 'immunocompetent'),\n",
       " ('unarmored', 'armored'),\n",
       " ('general', 'local'),\n",
       " ('double-barreled', 'single-barreled'),\n",
       " ('unbalanced', 'balanced'),\n",
       " ('false', 'true'),\n",
       " ('bound', 'unbound'),\n",
       " ('freelance', 'salaried'),\n",
       " ('unmarried', 'married'),\n",
       " ('centralizing', 'decentralizing'),\n",
       " ('abridged', 'unabridged'),\n",
       " ('unsheathed', 'sheathed'),\n",
       " ('counterrevolutionary', 'revolutionary'),\n",
       " ('loamless', 'loamy'),\n",
       " ('endomorphic', 'mesomorphic'),\n",
       " ('unrequested', 'requested'),\n",
       " ('alternating', 'direct'),\n",
       " ('unplanned', 'planned'),\n",
       " ('rentable', 'unrentable'),\n",
       " ('moving', 'still'),\n",
       " ('hollow', 'solid'),\n",
       " ('uncontroversial', 'controversial'),\n",
       " ('unportable', 'portable'),\n",
       " ('optimistic', 'pessimistic'),\n",
       " ('noncyclic', 'cyclic'),\n",
       " ('multilingual', 'monolingual'),\n",
       " ('heavy-duty', 'light-duty'),\n",
       " ('malted', 'unmalted'),\n",
       " ('surprised', 'unsurprised'),\n",
       " ('developed', 'undeveloped'),\n",
       " ('employable', 'unemployable'),\n",
       " ('introspective', 'extrospective'),\n",
       " ('disliked', 'liked'),\n",
       " ('perceptible', 'imperceptible'),\n",
       " ('inopportune', 'opportune'),\n",
       " ('idle', 'busy'),\n",
       " ('downtown', 'uptown'),\n",
       " ('odd', 'even'),\n",
       " ('outward', 'inward'),\n",
       " ('wrinkled', 'unwrinkled'),\n",
       " ('organized', 'unorganized'),\n",
       " ('offside', 'onside'),\n",
       " ('unscientific', 'scientific'),\n",
       " ('invariable', 'variable'),\n",
       " ('breathless', 'breathing'),\n",
       " ('hearing', 'deaf'),\n",
       " ('boneless', 'bony'),\n",
       " ('curtained', 'curtainless'),\n",
       " ('unethical', 'ethical'),\n",
       " ('sacred', 'profane'),\n",
       " ('ironed', 'unironed'),\n",
       " ('round', 'square'),\n",
       " ('unpaid', 'paid'),\n",
       " ('abused', 'unabused'),\n",
       " ('implausible', 'plausible'),\n",
       " ('felicitous', 'infelicitous'),\n",
       " ('unwearable', 'wearable'),\n",
       " ('original', 'unoriginal'),\n",
       " ('unstable', 'stable'),\n",
       " ('nonmetamorphic', 'metamorphic'),\n",
       " ('leafy', 'leafless'),\n",
       " ('polite', 'impolite'),\n",
       " ('inhospitable', 'hospitable'),\n",
       " ('uncritical', 'critical'),\n",
       " ('pardonable', 'unpardonable'),\n",
       " ('enlightened', 'unenlightened'),\n",
       " ('imperfect', 'perfect'),\n",
       " ('dissuasive', 'persuasive'),\n",
       " ('undesirable', 'desirable'),\n",
       " ('coated', 'uncoated'),\n",
       " ('loamy', 'loamless'),\n",
       " ('magnetic', 'geographic'),\n",
       " ('anastigmatic', 'astigmatic'),\n",
       " ('meaningful', 'meaningless'),\n",
       " ('unseaworthy', 'seaworthy'),\n",
       " ('opposable', 'unopposable'),\n",
       " ('discomposed', 'composed'),\n",
       " ('landless', 'landed'),\n",
       " ('unpleasant', 'pleasant'),\n",
       " ('impossible', 'possible'),\n",
       " ('unservile', 'servile'),\n",
       " ('quantitative', 'qualitative'),\n",
       " ('unwritten', 'written'),\n",
       " ('bidirectional', 'unidirectional'),\n",
       " ('fraternal', 'identical'),\n",
       " ('raw', 'cooked'),\n",
       " ('beseeching', 'imperative'),\n",
       " ('carved', 'uncarved'),\n",
       " ('nice', 'nasty'),\n",
       " ('untapped', 'tapped'),\n",
       " ('most', 'least'),\n",
       " ('liquid', 'gaseous'),\n",
       " ('actable', 'unactable'),\n",
       " ('gregarious', 'ungregarious'),\n",
       " ('destroyed', 'preserved'),\n",
       " ('nonextensile', 'extensile'),\n",
       " ('provincial', 'cosmopolitan'),\n",
       " ('inelegant', 'elegant'),\n",
       " ('continual', 'sporadic'),\n",
       " ('likely', 'unlikely'),\n",
       " ('indistinct', 'distinct'),\n",
       " ('inaugural', 'exaugural'),\n",
       " ('restrictive', 'unrestrictive'),\n",
       " ('consumptive', 'generative'),\n",
       " ('irreplaceable', 'replaceable'),\n",
       " ('uncompassionate', 'compassionate'),\n",
       " ('nidicolous', 'nidifugous'),\n",
       " ('eremitic', 'cenobitic'),\n",
       " ('fewest', 'most'),\n",
       " ('unwaxed', 'waxed'),\n",
       " ('unpublishable', 'publishable'),\n",
       " ('interesting', 'uninteresting'),\n",
       " ('nonrepresentational', 'representational'),\n",
       " ('sexual', 'asexual'),\n",
       " ('herbivorous', 'omnivorous'),\n",
       " ('determinate', 'indeterminate'),\n",
       " ('wigged', 'wigless'),\n",
       " ('nonthermal', 'thermal'),\n",
       " ('undiplomatic', 'diplomatic'),\n",
       " ('unanalyzed', 'analyzed'),\n",
       " ('irreversible', 'reversible'),\n",
       " ('unfueled', 'fueled'),\n",
       " ('unfocused', 'focused'),\n",
       " ('loyal', 'disloyal'),\n",
       " ('plucked', 'bowed'),\n",
       " ('presidential', 'unpresidential'),\n",
       " ('unpunctual', 'punctual'),\n",
       " ('unpotted', 'potted'),\n",
       " ('nonsuppurative', 'suppurative'),\n",
       " ('federal', 'unitary'),\n",
       " ('unprotective', 'protective'),\n",
       " ('fretted', 'unfretted'),\n",
       " ('uncrystallized', 'crystallized'),\n",
       " ('improbable', 'probable'),\n",
       " ('comprehensive', 'noncomprehensive'),\n",
       " ('disintegrative', 'integrative'),\n",
       " ('incongruent', 'congruent'),\n",
       " ('incorrigible', 'corrigible'),\n",
       " ('nonracial', 'racial'),\n",
       " ('multiple', 'single'),\n",
       " ('deciphered', 'undeciphered'),\n",
       " ('traceable', 'untraceable'),\n",
       " ('excusable', 'inexcusable'),\n",
       " ('miscible', 'immiscible'),\n",
       " ('cooked', 'raw'),\n",
       " ('inedible', 'edible'),\n",
       " ('modulated', 'unmodulated'),\n",
       " ('nomothetic', 'idiographic'),\n",
       " ('annual', 'biennial'),\n",
       " ('indecent', 'decent'),\n",
       " ('heavy', 'light'),\n",
       " ('heterozygous', 'homozygous'),\n",
       " ('fit', 'unfit'),\n",
       " ('practical', 'impractical'),\n",
       " ('floored', 'ceilinged'),\n",
       " ('irrevocable', 'revocable'),\n",
       " ('denotative', 'connotative'),\n",
       " ('dorsal', 'ventral'),\n",
       " ('organic', 'inorganic'),\n",
       " ('caudal', 'cephalic'),\n",
       " ('discontinuous', 'continuous'),\n",
       " ('ungusseted', 'gusseted'),\n",
       " ('nonlinear', 'linear'),\n",
       " ('manageable', 'unmanageable'),\n",
       " ('unrestrictive', 'restrictive'),\n",
       " ('unappealable', 'appealable'),\n",
       " ('unpresidential', 'presidential'),\n",
       " ('modified', 'unmodified'),\n",
       " ('indistinguishable', 'distinguishable'),\n",
       " ('unconnected', 'connected'),\n",
       " ('carpellate', 'acarpelous'),\n",
       " ('derived', 'underived'),\n",
       " ('inbred', 'outbred'),\n",
       " ('artful', 'artless'),\n",
       " ('important', 'unimportant'),\n",
       " ('analogue', 'digital'),\n",
       " ('equipped', 'unequipped'),\n",
       " ('asyndetic', 'syndetic'),\n",
       " ('multivalent', 'univalent'),\n",
       " ('alphabetic', 'analphabetic'),\n",
       " ('aggressive', 'unaggressive'),\n",
       " ('bedless', 'bedded'),\n",
       " ('uncamphorated', 'camphorated'),\n",
       " ('tasteless', 'tasteful'),\n",
       " ('crucial', 'noncrucial'),\n",
       " ('nontoxic', 'toxic'),\n",
       " ('musical', 'unmusical'),\n",
       " ('irreverent', 'reverent'),\n",
       " ('sophisticated', 'naive'),\n",
       " ('precise', 'imprecise'),\n",
       " ('on', 'off'),\n",
       " ('weaned', 'unweaned'),\n",
       " ('potent', 'impotent'),\n",
       " ('multiparous', 'uniparous'),\n",
       " ('affixed', 'unaffixed'),\n",
       " ('unbroken', 'broken'),\n",
       " ('unscheduled', 'scheduled'),\n",
       " ('clean', 'dirty'),\n",
       " ('inaccurate', 'accurate'),\n",
       " ('former', 'latter'),\n",
       " ('polar', 'equatorial'),\n",
       " ('colourless', 'colourful'),\n",
       " ('critical', 'noncritical'),\n",
       " ('critical', 'uncritical'),\n",
       " ('exergonic', 'endergonic'),\n",
       " ('actinal', 'abactinal'),\n",
       " ('dolichocephalic', 'brachycephalic'),\n",
       " ('appointive', 'elective'),\n",
       " ('loose', 'tight'),\n",
       " ('abstract', 'concrete'),\n",
       " ('unexcited', 'excited'),\n",
       " ('diplomatic', 'undiplomatic'),\n",
       " ('heterologous', 'autologous'),\n",
       " ('unsoured', 'soured'),\n",
       " ('fathomable', 'unfathomable'),\n",
       " ('qualitative', 'quantitative'),\n",
       " ('alterable', 'unalterable'),\n",
       " ('unsurprised', 'surprised'),\n",
       " ('cheap', 'expensive'),\n",
       " ('aground', 'afloat'),\n",
       " ('sugarless', 'sugary'),\n",
       " ('monogamous', 'polygamous'),\n",
       " ('syncarpous', 'apocarpous'),\n",
       " ('substantial', 'insubstantial'),\n",
       " ('adjusted', 'maladjusted'),\n",
       " ('heedful', 'heedless'),\n",
       " ('humorless', 'humorous'),\n",
       " ('alarming', 'unalarming'),\n",
       " ('landed', 'landless'),\n",
       " ('acidic', 'alkaline'),\n",
       " ('emotional', 'unemotional'),\n",
       " ('unprofessional', 'professional'),\n",
       " ('unreassuring', 'reassuring'),\n",
       " ('constricted', 'unconstricted'),\n",
       " ('impenetrable', 'penetrable'),\n",
       " ('unstudied', 'studied'),\n",
       " ('adnate', 'connate'),\n",
       " ('insatiate', 'satiate'),\n",
       " ('unafraid', 'afraid'),\n",
       " ('translational', 'nontranslational'),\n",
       " ('ashamed', 'unashamed'),\n",
       " ('hatted', 'hatless'),\n",
       " ('uncut', 'cut'),\n",
       " ('preprandial', 'postprandial'),\n",
       " ('descending', 'ascending'),\n",
       " ('refined', 'unrefined'),\n",
       " ('sane', 'insane'),\n",
       " ('ebracteate', 'bracteate'),\n",
       " ('sudden', 'gradual'),\n",
       " ('profane', 'sacred'),\n",
       " ('peaceful', 'unpeaceful'),\n",
       " ('abducent', 'adducent'),\n",
       " ('inexpressible', 'expressible'),\n",
       " ('underprivileged', 'privileged'),\n",
       " ('dangerous', 'safe'),\n",
       " ('maladjusted', 'adjusted'),\n",
       " ('insensible', 'sensible'),\n",
       " ('untrustworthy', 'trustworthy'),\n",
       " ('contrasty', 'flat'),\n",
       " ('ferned', 'fernless'),\n",
       " ('ventilated', 'unventilated'),\n",
       " ('dishonest', 'honest'),\n",
       " ('found', 'lost'),\n",
       " ('stimulative', 'depressant'),\n",
       " ('unconstricted', 'constricted'),\n",
       " ('comprehensible', 'incomprehensible'),\n",
       " ('voluntary', 'involuntary'),\n",
       " ('orderly', 'disorderly'),\n",
       " ('dynamic', 'undynamic'),\n",
       " ('disorienting', 'orienting'),\n",
       " ('narrow', 'wide'),\n",
       " ('lyric', 'dramatic'),\n",
       " ('down', 'up'),\n",
       " ('nonspeaking', 'speaking'),\n",
       " ('influential', 'uninfluential'),\n",
       " ('unmoving', 'moving'),\n",
       " ('unrestricted', 'restricted'),\n",
       " ('bellied', 'bellyless'),\n",
       " ('headless', 'headed'),\n",
       " ('nontranslational', 'translational'),\n",
       " ('unwary', 'wary'),\n",
       " ('continuous', 'discontinuous'),\n",
       " ('unendowed', 'endowed'),\n",
       " ('heterotrophic', 'autotrophic'),\n",
       " ('heuristic', 'algorithmic'),\n",
       " ('biped', 'quadruped'),\n",
       " ('eusporangiate', 'leptosporangiate'),\n",
       " ('spiritless', 'spirited'),\n",
       " ('indefinite', 'definite'),\n",
       " ('lowborn', 'noble'),\n",
       " ('eastern', 'western'),\n",
       " ('determined', 'undetermined'),\n",
       " ('off-line', 'on-line'),\n",
       " ('traveled', 'untraveled'),\n",
       " ('unreported', 'reported'),\n",
       " ('ungrammatical', 'grammatical'),\n",
       " ('corrupt', 'incorrupt'),\n",
       " ('harmless', 'harmful'),\n",
       " ('thick', 'thin'),\n",
       " ('ambiversive', 'introversive'),\n",
       " ('nondisposable', 'disposable'),\n",
       " ('considerate', 'inconsiderate'),\n",
       " ('political', 'nonpolitical'),\n",
       " ('adventurous', 'unadventurous'),\n",
       " ('gabled', 'hipped'),\n",
       " ('bottomed', 'bottomless'),\n",
       " ('full-time', 'part-time'),\n",
       " ('elastic', 'inelastic'),\n",
       " ('audible', 'inaudible'),\n",
       " ('running', 'passing'),\n",
       " ('three-piece', 'one-piece'),\n",
       " ('vocalic', 'consonantal'),\n",
       " ('visible', 'invisible'),\n",
       " ('ignoble', 'noble'),\n",
       " ('radiolucent', 'radiopaque'),\n",
       " ('unable', 'able'),\n",
       " ('clean', 'unclean'),\n",
       " ('incurable', 'curable'),\n",
       " ('starchless', 'starchy'),\n",
       " ('atomistic', 'holistic'),\n",
       " ('inexhaustible', 'exhaustible'),\n",
       " ('ambitious', 'unambitious'),\n",
       " ('impermanent', 'permanent'),\n",
       " ...}"
      ]
     },
     "execution_count": 19,
     "metadata": {},
     "output_type": "execute_result"
    }
   ],
   "source": [
    "wn_all_antonyms"
   ]
  },
  {
   "cell_type": "markdown",
   "metadata": {},
   "source": [
    "### Add Custom Antonym Pairs"
   ]
  },
  {
   "cell_type": "code",
   "execution_count": 20,
   "metadata": {},
   "outputs": [
    {
     "name": "stdout",
     "output_type": "stream",
     "text": [
      "Added ('man', 'woman')\n",
      "Added ('serviceman', 'civilian')\n",
      "Added ('man', 'woman')\n",
      "Added ('human', 'nonhuman')\n"
     ]
    }
   ],
   "source": [
    "from nltk.corpus import wordnet as wn\n",
    "\n",
    "# add words here:\n",
    "WORDS = ['man', 'human']\n",
    "\n",
    "for word in WORDS:\n",
    "    for syn in wn.synsets(word):\n",
    "        for j in syn.lemmas(): # Iterating through lemmas for each synset.\n",
    "            if j.antonyms():\n",
    "                pair1 = j.name()\n",
    "                pair2 = j.antonyms()[0].name()\n",
    "                \n",
    "                print(f\"Added {(pair1, pair2)}\")\n",
    "                wn_all_antonyms.add((pair1, pair2))"
   ]
  },
  {
   "cell_type": "code",
   "execution_count": 21,
   "metadata": {},
   "outputs": [],
   "source": [
    "microframes = wn_all_antonyms"
   ]
  },
  {
   "cell_type": "code",
   "execution_count": 22,
   "metadata": {},
   "outputs": [
    {
     "data": {
      "text/plain": [
       "3533"
      ]
     },
     "execution_count": 22,
     "metadata": {},
     "output_type": "execute_result"
    }
   ],
   "source": [
    "len(microframes)"
   ]
  },
  {
   "cell_type": "markdown",
   "metadata": {},
   "source": [
    "### Semantic Axis Vector"
   ]
  },
  {
   "cell_type": "code",
   "execution_count": 23,
   "metadata": {},
   "outputs": [],
   "source": [
    "semantic_axis_vectors = dict()\n",
    "for mframe in microframes:\n",
    "    semantic_axis_vectors['(' + ', '.join(mframe) + ')'] = np.expand_dims(sbert.encode(mframe[1]) - sbert.encode(mframe[0]), axis= 0)"
   ]
  },
  {
   "cell_type": "code",
   "execution_count": 24,
   "metadata": {
    "collapsed": true,
    "jupyter": {
     "outputs_hidden": true
    }
   },
   "outputs": [
    {
     "data": {
      "text/plain": [
       "array([[ 4.61445272e-01, -1.63598835e-01, -9.09718946e-02,\n",
       "        -6.64489985e-01, -3.24462116e-01,  1.22423761e-01,\n",
       "         5.13927639e-01,  1.83106333e-01, -5.12893736e-01,\n",
       "         2.12878203e+00, -3.37066770e-01, -4.27194834e-01,\n",
       "         3.05582732e-01,  3.47756773e-01,  2.67127156e-03,\n",
       "        -1.40166426e+00,  6.70769095e-01,  7.77182937e-01,\n",
       "         1.20007157e-01,  9.96577740e-03,  1.44999897e+00,\n",
       "        -5.07247865e-01,  1.13095617e+00, -1.22853422e+00,\n",
       "         6.89658999e-01, -3.51170421e-01, -8.64769220e-02,\n",
       "         2.46869028e-01, -3.37070525e-01, -2.12183863e-01,\n",
       "        -5.65851212e-01, -7.07897902e-01,  6.56521320e-03,\n",
       "         1.21668887e+00,  1.38573337e+00,  1.08423412e+00,\n",
       "         4.30539221e-01,  8.87471914e-01, -9.77675021e-01,\n",
       "         6.12992123e-02, -5.24116695e-01, -8.19561481e-01,\n",
       "         1.60409808e-02,  8.54127645e-01,  1.14410114e+00,\n",
       "         2.92331517e-01, -7.48084784e-01, -5.29809296e-02,\n",
       "        -1.42695546e-01, -7.13742599e-02,  2.95895368e-01,\n",
       "         3.32571000e-01,  1.35783148e+00,  1.09738255e+00,\n",
       "         7.21043646e-01,  3.39995563e-01,  1.63814679e-01,\n",
       "         3.73380110e-02, -1.29009056e+00, -1.49275553e+00,\n",
       "        -9.69243407e-01, -5.42590559e-01, -1.07200122e+00,\n",
       "        -2.87251472e-02, -1.14700103e+00,  2.36245096e-01,\n",
       "         1.68604702e-01,  6.74916506e-01, -5.08815587e-01,\n",
       "         2.55155206e-01, -1.74914122e-01, -5.14719486e-01,\n",
       "        -5.69774210e-01,  8.89314592e-01, -1.58787382e+00,\n",
       "         3.07397902e-01,  6.69928908e-01, -1.21124053e+00,\n",
       "         9.77558255e-01,  4.83071804e-02,  1.38481927e+00,\n",
       "         5.14022827e-01,  2.11878777e-01, -5.91884702e-02,\n",
       "         1.44173074e+00, -2.70565748e-01,  2.73677230e-01,\n",
       "        -1.51877850e-01, -1.11678195e+00,  3.11244816e-01,\n",
       "        -4.85986471e-01, -5.53290367e-01, -6.99383020e-01,\n",
       "        -1.26642275e+00,  6.55975103e-01, -1.10835862e+00,\n",
       "         1.20377243e+00, -5.94079375e-01, -3.44350725e-01,\n",
       "         2.57237136e-01,  2.10791826e-01, -4.35255438e-01,\n",
       "        -6.18397832e-01, -9.83133078e-01, -1.37083840e+00,\n",
       "         1.27051353e-01, -6.79228663e-01, -6.61955118e-01,\n",
       "        -1.58153594e-01, -2.42490739e-01, -1.98397070e-01,\n",
       "        -1.28536463e-01, -6.18015230e-02, -1.90224171e+00,\n",
       "        -4.95074809e-01, -1.12938726e+00, -5.95395088e-01,\n",
       "         3.90092731e-02,  7.92374730e-01,  2.55984575e-01,\n",
       "         9.62239563e-01, -5.21491468e-02,  1.47211164e-01,\n",
       "        -5.21627665e-01, -5.04042745e-01,  8.69273841e-01,\n",
       "        -1.21516883e-02, -7.61464834e-02,  7.40227997e-01,\n",
       "         1.69817418e-01, -6.07738435e-01,  3.68826330e-01,\n",
       "        -9.52198803e-02,  1.28315955e-01,  9.54778850e-01,\n",
       "        -9.74917114e-01, -4.69210327e-01,  5.25200248e-01,\n",
       "         7.15194285e-01, -8.96426201e-01, -6.19339526e-01,\n",
       "         7.93457031e-03, -8.73640478e-01, -1.17949235e+00,\n",
       "         7.47836888e-01, -1.45406151e+00, -7.27001011e-01,\n",
       "         2.97169089e-02, -9.82344031e-01, -1.22999229e-01,\n",
       "        -9.11550283e-01, -2.57771045e-01,  1.75167441e-01,\n",
       "        -6.11222386e-01,  7.33493805e-01,  2.24672437e-01,\n",
       "         6.31295681e-01, -6.26052022e-01, -1.11402988e-01,\n",
       "         3.82798165e-02,  8.92166018e-01, -3.10447872e-01,\n",
       "         7.05458999e-01,  1.01785660e-01, -4.01794016e-01,\n",
       "        -6.73103333e-03,  6.36280715e-01, -4.02644247e-01,\n",
       "         2.46178389e-01,  2.11320728e-01, -6.28268957e-01,\n",
       "        -6.14383101e-01, -3.82182837e-01,  7.67929137e-01,\n",
       "        -9.42718238e-02, -6.70995563e-02,  1.18828714e-01,\n",
       "         7.50468612e-01, -7.95284390e-01,  1.42639026e-01,\n",
       "         1.29992855e+00,  2.34157890e-01, -3.08826208e-01,\n",
       "         6.20020986e-01,  1.84340507e-01, -4.89442408e-01,\n",
       "        -2.43372738e-01, -3.16068411e-01, -1.19132328e+00,\n",
       "        -3.85121852e-02,  3.57295573e-01,  1.24494731e+00,\n",
       "         3.00954223e-01,  4.15356636e-01,  5.20837605e-01,\n",
       "        -2.81823844e-01,  1.64893866e-01,  2.07204247e+00,\n",
       "        -6.18590117e-01, -7.90097475e-01, -3.60054165e-01,\n",
       "        -1.83823973e-01, -3.00542474e-01, -4.59863245e-02,\n",
       "         1.13319039e+00,  3.80882025e-01,  1.66063696e-01,\n",
       "         6.02596283e-01, -7.82223463e-01,  1.32582712e+00,\n",
       "        -1.67500925e+00, -1.39094919e-01, -7.89347887e-02,\n",
       "         1.15465057e+00, -3.96104485e-01,  5.14871120e-01,\n",
       "        -1.25801206e+00,  7.63508677e-01,  5.41567028e-01,\n",
       "        -1.01984262e-01, -4.72272277e-01,  2.91426688e-01,\n",
       "         4.92361546e-01, -1.90943027e+00,  7.41766095e-02,\n",
       "        -7.93828905e-01,  2.54556298e-01,  1.12681913e+00,\n",
       "         7.90078461e-01,  1.42064124e-01,  1.47031057e+00,\n",
       "        -2.50581264e-01, -2.18021572e-01, -4.75461006e-01,\n",
       "         1.39311707e+00, -7.46756852e-01,  4.31964248e-02,\n",
       "        -2.88631499e-01,  1.83563888e-01,  1.43716931e-01,\n",
       "        -1.75507724e-01, -7.41600990e-04, -1.12492114e-01,\n",
       "         3.27079684e-01, -9.44632590e-01,  7.52392709e-01,\n",
       "         5.67865014e-01, -1.18073845e+00,  1.02162814e+00,\n",
       "        -1.96812892e+00,  7.05882907e-01,  1.27328110e+00,\n",
       "        -4.18316960e-01, -1.00438213e+00, -1.46437097e+00,\n",
       "        -5.73575974e-01,  1.84763789e-01,  2.16427669e-01,\n",
       "         5.39751649e-01,  9.52615857e-01, -4.79751676e-01,\n",
       "        -1.53182447e-02,  2.46751070e-01,  6.43119931e-01,\n",
       "        -7.47201204e-01,  5.99475801e-02,  3.39021713e-01,\n",
       "        -8.75780165e-01, -1.76580906e-01, -5.49919963e-01,\n",
       "         1.25855100e+00,  3.15643549e-02,  1.02349734e+00,\n",
       "        -1.18016176e-01, -1.93552566e+00, -9.31288242e-01,\n",
       "        -1.83141768e-01,  1.41725934e+00, -1.53506100e-01,\n",
       "        -2.43195087e-01,  2.99206793e-01,  4.72699106e-01,\n",
       "         8.76893699e-01, -1.59390807e-01, -1.18964577e+00,\n",
       "         8.60912502e-01,  1.22905040e+00,  1.16046941e+00,\n",
       "         7.26450086e-02,  1.05171359e+00,  6.58204138e-01,\n",
       "        -4.95238423e-01, -1.34405005e+00, -9.27032232e-02,\n",
       "         8.00674260e-01, -9.12196279e-01, -7.82141507e-01,\n",
       "         1.37071693e+00, -8.10755491e-01,  4.28539291e-02,\n",
       "         6.66609883e-01,  1.27000189e+00, -6.20146751e-01,\n",
       "        -6.55805349e-01,  5.82009554e-02, -1.73583746e-01,\n",
       "         2.46078879e-01, -2.52328366e-01, -3.03862512e-01,\n",
       "         5.89398980e-01,  1.04257596e+00, -2.99468994e-01,\n",
       "        -6.21736228e-01,  5.21318078e-01,  3.95513803e-01,\n",
       "        -4.95241046e-01, -1.38987470e+00,  3.54467332e-02,\n",
       "         1.40995598e+00,  1.73931587e+00, -1.56024563e+00,\n",
       "         2.41912976e-01, -1.09155667e+00,  3.57377172e-01,\n",
       "         5.37386835e-01, -1.58391404e+00, -7.98636436e-01,\n",
       "         8.59919369e-01, -2.10016638e-01, -1.60602891e+00,\n",
       "        -1.53754354e-01,  1.00857460e+00, -2.74966896e-01,\n",
       "        -6.41687989e-01,  3.75300735e-01, -4.80139732e-01,\n",
       "        -1.24699712e-01, -4.20808971e-01,  1.10715663e+00,\n",
       "        -1.92544922e-01, -4.07794595e-01,  2.85206437e-02,\n",
       "         6.46136940e-01,  4.47665662e-01,  1.36595988e+00,\n",
       "        -1.13983250e+00,  3.36736053e-01, -2.17316341e+00,\n",
       "        -1.10179305e+00,  4.35123086e-01,  2.47580379e-01,\n",
       "         2.15960994e-01, -1.10536739e-01,  1.39388889e-01,\n",
       "        -2.56687552e-02,  2.26663142e-01, -4.61403489e-01,\n",
       "         5.29755652e-01, -5.54884896e-02, -8.48767698e-01,\n",
       "         8.48597050e-01, -5.33176363e-02, -4.59788918e-01,\n",
       "        -1.88644201e-01,  3.02824110e-01, -3.03044289e-01,\n",
       "        -1.49720520e-01, -4.31605726e-01,  2.69574285e-01,\n",
       "        -5.72102904e-01, -2.38887370e-01, -1.91990137e-02,\n",
       "        -1.25603735e+00, -1.12032914e+00,  1.22598112e-01,\n",
       "         7.78171539e-01,  2.39981413e-02, -1.34550190e+00,\n",
       "         1.51008832e+00, -8.35145116e-01, -7.81936049e-01,\n",
       "        -7.95585513e-01,  8.82475138e-01,  9.97006714e-01,\n",
       "         1.06225777e+00,  2.60196984e-01, -4.82731074e-01,\n",
       "         4.76852536e-01,  1.65201783e+00,  3.12627375e-01,\n",
       "         8.12725723e-01,  6.50307536e-03, -1.62381470e-01,\n",
       "        -2.09157273e-01,  7.77521729e-01, -7.07821548e-02,\n",
       "        -5.05694807e-01,  1.09115481e+00, -3.19626659e-01,\n",
       "        -8.85717511e-01, -1.06260657e+00, -1.83239728e-01,\n",
       "         1.65223479e-01, -1.00890517e-01, -6.96965531e-02,\n",
       "        -1.55696118e+00,  1.51451647e-01, -1.11223269e+00,\n",
       "         1.05848789e-01,  8.15124750e-01,  3.44291836e-01,\n",
       "         4.14520711e-01, -1.95207953e+00,  1.32744312e-02,\n",
       "        -8.48640874e-02,  6.26122475e-01,  5.08514881e-01,\n",
       "         2.80490518e-01, -7.52794325e-01, -4.93830264e-01,\n",
       "         6.40775204e-01,  2.88397074e-03,  5.63794672e-02,\n",
       "         9.13684785e-01,  2.35694408e-01,  4.93994027e-01,\n",
       "         1.28337812e+00, -1.52746332e+00,  3.35431099e-02,\n",
       "         1.77505541e+00, -1.09206486e+00,  2.18563348e-01,\n",
       "         4.17082906e-01, -6.93622530e-01,  7.29587376e-01,\n",
       "        -2.02346146e-01, -1.34749007e+00,  2.67106324e-01,\n",
       "         3.75416517e-01, -1.19283545e+00,  1.80271596e-01,\n",
       "        -1.05536032e+00,  1.56233311e+00, -1.06934261e+00,\n",
       "        -1.23844278e+00, -2.62787163e-01,  7.41312504e-02,\n",
       "        -4.47131336e-01,  7.94753060e-02,  1.73786950e+00,\n",
       "        -5.64742804e-01, -9.90352035e-02, -5.29350936e-01,\n",
       "        -1.68372974e-01,  1.96257412e-01, -5.98696768e-01,\n",
       "        -4.48395789e-01, -3.49035323e-01, -9.87619042e-01,\n",
       "         1.14069045e-01,  1.08847737e+00, -1.55388892e+00,\n",
       "         6.42453074e-01, -7.39178956e-01,  1.19347477e+00,\n",
       "        -2.95952857e-02, -2.16001421e-01,  5.26972890e-01,\n",
       "         5.05197495e-02, -3.85829628e-01,  9.50732470e-01,\n",
       "         1.86242834e-01, -9.46241915e-01,  6.03185654e-01,\n",
       "        -4.28680182e-02, -3.09041142e-01,  4.05421227e-01,\n",
       "         2.38078594e-01,  6.11250877e-01,  3.31002772e-01,\n",
       "        -1.74376667e-01,  1.10901809e+00,  4.33782578e-01,\n",
       "        -4.19672132e-02, -1.52583867e-01,  1.09704089e+00,\n",
       "         4.11580890e-01,  1.28244507e+00, -3.04253161e-01,\n",
       "        -7.14170635e-01,  1.17262280e+00, -4.98291910e-01,\n",
       "        -9.59765792e-01,  2.12351918e+00,  1.19326442e-01,\n",
       "         5.03169179e-01, -3.32985967e-01, -1.02297664e-01,\n",
       "         3.30463201e-01,  4.56387758e-01, -2.01576933e-01,\n",
       "         8.31472635e-01,  4.24977392e-02,  2.11134553e-01,\n",
       "         3.71238589e-03,  1.76110625e+00, -4.66922700e-01,\n",
       "        -8.24184775e-01, -1.49327612e+00, -1.64720178e-01,\n",
       "         2.11560071e-01,  1.33654857e+00, -3.94036829e-01,\n",
       "        -3.95907164e-02,  3.74627709e-01,  1.57987475e-02,\n",
       "         4.71471459e-01,  1.82861239e-01,  6.79321706e-01,\n",
       "         2.00555325e-01,  1.62256908e+00, -4.65704858e-01,\n",
       "         2.64716446e-02,  5.57290316e-01,  7.91874826e-02,\n",
       "        -7.96172976e-01,  7.50910044e-02, -1.80956215e-01,\n",
       "        -4.52991486e-01, -1.01560462e+00,  8.52806211e-01,\n",
       "         4.28441852e-01, -7.71579802e-01,  2.63532114e+00,\n",
       "        -3.62420321e-01, -3.86494040e-01, -4.29478854e-01,\n",
       "         2.62610376e-01, -3.32211286e-01,  2.41576135e-01,\n",
       "         1.05136633e-02, -7.14708030e-01,  1.05928624e+00,\n",
       "        -5.84736884e-01, -1.34585470e-01,  3.41701567e-01,\n",
       "         2.21675575e-01,  5.36886334e-01,  5.53886414e-01,\n",
       "        -9.84685779e-01,  9.60686803e-02, -9.62243319e-01,\n",
       "        -1.28959572e+00, -7.20757097e-02, -1.55057430e+00,\n",
       "        -1.73543012e+00,  2.99400240e-01, -2.86091089e-01,\n",
       "         5.65328836e-01, -5.12493372e-01,  1.35548222e+00,\n",
       "        -9.61409032e-01, -1.73721358e-01, -1.51380372e+00,\n",
       "         4.58903491e-01, -7.45896921e-02, -1.01155770e+00,\n",
       "        -8.05708349e-01,  5.82161807e-02,  1.23791575e-01,\n",
       "        -1.58494878e+00, -3.62816960e-01, -9.38675702e-01,\n",
       "        -2.48156786e-02,  9.41131711e-02, -2.32254982e-01,\n",
       "         1.10732198e-01,  2.49660343e-01,  1.73539019e+00,\n",
       "        -1.74288273e-01,  5.29012382e-01, -3.93525004e-01,\n",
       "        -7.55081177e-01,  1.08099341e+00, -4.79617178e-01,\n",
       "        -5.17596543e-01,  1.43729019e+00,  1.57844484e-01,\n",
       "         8.15944195e-01,  2.85980433e-01, -5.80333650e-01,\n",
       "         5.52659512e-01,  1.53104460e+00,  3.35120380e-01,\n",
       "         3.54554534e-01,  1.04531038e+00, -1.39988959e-01,\n",
       "        -3.18477452e-02,  1.40918627e-01,  4.67169881e-02,\n",
       "        -2.09423110e-01,  7.94180155e-01,  5.30392468e-01,\n",
       "         6.72450185e-01,  6.34407163e-01, -1.25352585e+00,\n",
       "         1.61172658e-01, -6.00308836e-01, -9.90206480e-01,\n",
       "        -7.65854955e-01,  2.90143311e-01,  2.55753547e-01,\n",
       "        -1.10725689e+00, -1.96330190e+00, -2.81359971e-01,\n",
       "         1.85286164e+00, -6.99783921e-01, -7.01435208e-02,\n",
       "        -3.85828316e-02,  6.27058685e-01,  1.79238534e+00,\n",
       "         7.75062263e-01, -3.88408899e-01,  4.44308817e-01,\n",
       "        -5.26405811e-01, -5.92082083e-01, -3.20383370e-01,\n",
       "        -6.03983462e-01, -1.41507238e-01, -3.91925871e-01,\n",
       "         4.22876656e-01,  8.52226496e-01, -1.21177530e+00,\n",
       "        -4.15588915e-01, -9.07731354e-01,  1.35027623e+00,\n",
       "        -6.20164990e-01, -3.40306103e-01,  5.43529630e-01,\n",
       "         2.67764628e-01,  5.51136911e-01, -1.81768611e-01,\n",
       "         9.49283838e-01, -1.99311948e+00,  4.66378152e-01,\n",
       "        -1.69505906e+00,  1.02299666e+00, -1.52014539e-01,\n",
       "        -1.56371295e-02, -1.02568185e+00, -1.83878988e-01,\n",
       "         6.20930970e-01, -1.06518316e+00,  6.49990320e-01,\n",
       "        -3.21707308e-01, -8.32060128e-02, -1.05134797e+00,\n",
       "        -3.06908369e-01,  2.12777227e-01,  1.64795637e-01,\n",
       "        -1.90717608e-01,  2.32470632e-02,  4.58281219e-01,\n",
       "         1.28621125e+00,  5.09751320e-01, -2.45071709e-01,\n",
       "         1.31326008e+00,  1.79534376e-01, -1.28406394e+00,\n",
       "         1.66564271e-01, -1.68315917e-02,  6.73023999e-01,\n",
       "        -5.18179357e-01, -5.74986190e-02, -3.10442984e-01,\n",
       "         1.39170241e+00, -3.53199184e-01,  1.09083390e+00,\n",
       "         8.67907822e-01,  3.05800647e-01,  6.09834939e-02,\n",
       "        -7.33297020e-02,  3.08636546e-01,  1.55606556e+00,\n",
       "         4.25106138e-01,  2.74706423e-01, -4.81657594e-01,\n",
       "        -1.02832437e-01,  7.50172138e-01,  1.12916660e+00,\n",
       "        -2.48790473e-01,  1.27373123e+00,  6.52770162e-01,\n",
       "         1.83943868e-01, -2.63664544e-01,  1.60036922e-01,\n",
       "        -2.18102932e-02,  1.23002470e-01,  1.18352938e+00,\n",
       "        -1.54382408e-01, -1.30704463e+00, -3.09272140e-01,\n",
       "        -1.31703466e-01,  1.23772240e+00, -1.40949249e-01,\n",
       "         1.24245751e+00,  4.07933414e-01,  2.79624790e-01,\n",
       "        -2.24450752e-01,  3.09647650e-01,  4.39546257e-02,\n",
       "         1.33338881e+00,  3.89014989e-01,  1.29428303e+00,\n",
       "        -1.89915746e-01,  2.13026047e-01,  2.29619145e-02,\n",
       "         2.99819708e-02, -5.35621643e-02, -6.13247752e-01,\n",
       "        -8.43818784e-02,  2.10490286e-01, -2.85704017e-01,\n",
       "         1.14574850e+00,  5.68313897e-01,  1.53646082e-01,\n",
       "        -4.73233521e-01,  1.75660849e-01, -1.14591587e+00,\n",
       "        -7.90993571e-02,  7.28254318e-02, -6.46922588e-02,\n",
       "        -2.85485506e-01,  8.15965354e-01, -1.45951009e+00,\n",
       "        -5.45266926e-01, -1.74041986e-01, -5.88909507e-01,\n",
       "        -7.04899013e-01,  5.60278893e-01,  1.18675053e-01,\n",
       "         7.19924152e-01,  2.82801211e-01,  2.17172146e-01,\n",
       "        -1.44977957e-01,  5.17859399e-01,  1.57521617e+00,\n",
       "         3.06731045e-01, -1.31937668e-01,  1.15901321e-01,\n",
       "        -8.84379745e-02, -4.54515666e-01, -1.52014065e+00,\n",
       "        -1.27047837e-01,  4.72449839e-01, -5.23298621e-01,\n",
       "         8.14676285e-04, -9.06944275e-03, -2.14577138e-01,\n",
       "        -7.13167489e-01,  3.13070714e-01, -7.53323615e-01,\n",
       "        -8.51807892e-02, -1.45315242e+00,  1.33145124e-01,\n",
       "        -4.99060035e-01, -5.62603354e-01,  6.81964457e-02]], dtype=float32)"
      ]
     },
     "execution_count": 24,
     "metadata": {},
     "output_type": "execute_result"
    }
   ],
   "source": [
    "semantic_axis_vectors['(man, woman)']"
   ]
  },
  {
   "cell_type": "markdown",
   "metadata": {},
   "source": [
    "## Conclusion\n",
    "\n",
    "- Total of 3131 adjective antonym pairs plus 1 or more custom pairs\n",
    "- Each pair must have GloVe embeddings (i.e. embedding not [0,0,0,0,0, ..., 0])"
   ]
  },
  {
   "cell_type": "markdown",
   "metadata": {},
   "source": [
    "# 2. Contribution of a Word to Microframes"
   ]
  },
  {
   "cell_type": "markdown",
   "metadata": {},
   "source": [
    "### Wrapper for cosine similarity\n",
    "Given two words, find similarity:"
   ]
  },
  {
   "cell_type": "code",
   "execution_count": 29,
   "metadata": {},
   "outputs": [
    {
     "data": {
      "text/plain": [
       "0.4079359769821167"
      ]
     },
     "execution_count": 29,
     "metadata": {},
     "output_type": "execute_result"
    }
   ],
   "source": [
    "def my_cos_similarity(func):\n",
    "    def wrapper(sent, axis_vector):\n",
    "        return func(np.expand_dims(sbert.encode(sent), axis=0), axis_vector)\n",
    "    return wrapper\n",
    "\n",
    "@my_cos_similarity\n",
    "def cos_similarity(x, y):\n",
    "    return cosine_similarity(x, y).item()\n",
    "\n",
    "cos_similarity('I am in love with a woman.',semantic_axis_vectors['(man, woman)'])"
   ]
  },
  {
   "cell_type": "markdown",
   "metadata": {},
   "source": [
    "The **absolute value** of the similarity between a word vector and\n",
    "a microframe vector captures the relevance of the word to the\n",
    "microframe, while the **sign** of the similarity captures a bias toward\n",
    "one of the poles in the microframe."
   ]
  },
  {
   "cell_type": "markdown",
   "metadata": {},
   "source": [
    "# 3. Framing Bias and Intensity"
   ]
  },
  {
   "cell_type": "markdown",
   "metadata": {},
   "source": [
    "## Bias and word frequency"
   ]
  },
  {
   "cell_type": "code",
   "execution_count": 30,
   "metadata": {},
   "outputs": [],
   "source": [
    "import nltk\n",
    "from multiprocessing import Pool\n",
    "from tqdm.notebook import tqdm"
   ]
  },
  {
   "cell_type": "code",
   "execution_count": 31,
   "metadata": {},
   "outputs": [],
   "source": [
    "# f\n",
    "# word is a single word string\n",
    "# doc_tokens is a list of all document tokens\n",
    "\n",
    "def sent_freq(sent, doc_sents):\n",
    "    return doc_sents.count(sent)"
   ]
  },
  {
   "cell_type": "markdown",
   "metadata": {},
   "source": [
    "### Regular function"
   ]
  },
  {
   "cell_type": "code",
   "execution_count": 34,
   "metadata": {},
   "outputs": [],
   "source": [
    "# B\n",
    "def bias(doc, frame=None):\n",
    "    doc_sents = nltk.sent_tokenize(doc)\n",
    "    \n",
    "    numerator, denominator = 0, 0\n",
    "    for sent in doc_sents:\n",
    "        numerator += sent_freq(sent, doc_sents) * cos_similarity(sent, semantic_axis_vectors[frame])\n",
    "        denominator += sent_freq(sent, doc_sents)\n",
    "        \n",
    "    return numerator / denominator"
   ]
  },
  {
   "cell_type": "code",
   "execution_count": 36,
   "metadata": {},
   "outputs": [
    {
     "name": "stdout",
     "output_type": "stream",
     "text": [
      "145 ms ± 1.53 ms per loop (mean ± std. dev. of 7 runs, 10 loops each)\n"
     ]
    }
   ],
   "source": [
    "%%timeit\n",
    "sample = data_cleaned['RS_2020_nosleep'].iloc[0:1].selftext.item()\n",
    "bias(sample, frame='(man, woman)')"
   ]
  },
  {
   "cell_type": "markdown",
   "metadata": {},
   "source": [
    "### Same function, but with performance enhancement"
   ]
  },
  {
   "cell_type": "code",
   "execution_count": 50,
   "metadata": {},
   "outputs": [],
   "source": [
    "# B\n",
    "def bias(doc, frame=None):\n",
    "    doc_sents = nltk.sent_tokenize(doc)\n",
    "    li = [ sum([sent_freq(sent, doc_sents) * cos_similarity(sent, semantic_axis_vectors[f\"({ant1}, {ant2})\"]) for sent in doc_sents]) / sum([sent_freq(sent, doc_sents) for sent in doc_sents]) for ant1, ant2 in tqdm(frame)]\n",
    "    return li"
   ]
  },
  {
   "cell_type": "code",
   "execution_count": 51,
   "metadata": {},
   "outputs": [
    {
     "data": {
      "application/vnd.jupyter.widget-view+json": {
       "model_id": "08bd983e22144b55ab6115b85d6c9904",
       "version_major": 2,
       "version_minor": 0
      },
      "text/plain": [
       "  0%|          | 0/1 [00:00<?, ?it/s]"
      ]
     },
     "metadata": {},
     "output_type": "display_data"
    },
    {
     "data": {
      "text/plain": [
       "[0.06302168016770372]"
      ]
     },
     "execution_count": 51,
     "metadata": {},
     "output_type": "execute_result"
    }
   ],
   "source": [
    "# %%timeit\n",
    "sample = data_cleaned['RS_2020_nosleep'].iloc[0:1].selftext.item()\n",
    "bias(sample, frame={('man', 'woman')})"
   ]
  },
  {
   "cell_type": "code",
   "execution_count": null,
   "metadata": {},
   "outputs": [],
   "source": []
  },
  {
   "cell_type": "code",
   "execution_count": 42,
   "metadata": {},
   "outputs": [],
   "source": [
    "import pandas as pd\n",
    "import numpy as np\n",
    "\n",
    "def df_mframes(df, microframes=microframes, topn=None):\n",
    "    # if not specify topn\n",
    "    if not topn:\n",
    "        iterables = [df['id'].to_list(), list(microframes)]\n",
    "        index = pd.MultiIndex.from_product(iterables, names=['id', 'microframe'])\n",
    "        df_new = pd.DataFrame(np.repeat(df[['title', 'selftext', 'score']].values, \n",
    "                                    len(microframes), \n",
    "                                    axis = 0),\n",
    "                          index=index,\n",
    "                          columns=['title', 'selftext', 'score']).copy()\n",
    "        # map semantic axis vector to index\n",
    "        # how it works: index -> get 2nd level index -> to series -> convert tuple to string -> map values\n",
    "        a = df_new.index.get_level_values(1).to_series().apply(lambda row: f\"({row[0]}, {row[1]})\").map(semantic_axis_vectors)\n",
    "        df_new['Semantic Axis Vector'] = a.to_list()\n",
    "        return df_new\n",
    "    else:\n",
    "        iterables = [df['id'].head(topn).to_list(), list(microframes)]\n",
    "        index = pd.MultiIndex.from_product(iterables, names=['id', 'microframe'])\n",
    "        df_new = pd.DataFrame(np.repeat(df[['title', 'selftext', 'score']].head(topn).values, \n",
    "                                    len(microframes), \n",
    "                                    axis = 0),\n",
    "                          index=index,\n",
    "                          columns=['title', 'selftext', 'score']).copy()\n",
    "        # map semantic axis vector to index\n",
    "        # how it works: index -> get 2nd level index -> to series -> convert tuple to string -> map values\n",
    "        a = df_new.index.get_level_values(1).to_series().apply(lambda row: f\"({row[0]}, {row[1]})\").map(semantic_axis_vectors)\n",
    "        df_new['Semantic Axis Vector'] = a.to_list()\n",
    "        return df_new"
   ]
  },
  {
   "cell_type": "code",
   "execution_count": 43,
   "metadata": {},
   "outputs": [],
   "source": [
    "sample_doc = data_cleaned['RS_2020_nosleep'].iloc[0:1].selftext.item()"
   ]
  },
  {
   "cell_type": "code",
   "execution_count": 96,
   "metadata": {},
   "outputs": [
    {
     "name": "stdout",
     "output_type": "stream",
     "text": [
      "This is the only rule of our household. If you feel a presence standing over you while you sleep, do **NOT** open your eyes. Ignore it and try to fall asleep. This may sound a bit like the show Bird Box from Netflix but this is real, this is serious. You don't want to know what happens if you open your eyes. Let me start from the beginning, from where it all began.\n",
      "\n",
      "------------------------\n",
      "\n",
      "My family had just moved to a new house in a new city in an eerily quiet neighborhood. We barely ever saw the neighbors and there were almost no animals around. It threw me off a little bit but i quickly got accustomed to it. My school was pretty close to my house so it was not difficult to make friends that I could regularly bring home. So, a few months in the new house, when i was sleeping one night, i felt a figure standing over me. Now, I have always been a bit of a scaredy cat so I slammed my eyes shut and waited. A few moments later, I felt it go away. This happened to me every night and I continuously told my parents about it but they never believed me. They said that i was dreaming and not to think about it too much but i kept on badgering them until they finally installed a camera in every room just as a precaution. The next night when the presence came again, i followed the same routine of keeping my eyes shut until it went away. The next morning i asked my parents to check the cameras. Even though they were skeptical, they checked the camera and what they saw apparently shocked them to the core but me, not so much.\n",
      "\n",
      "The camera showed that when i go to sleep, or act like it, a shadowy figure came and stood over my bed with its face hidden in such a fashion that it can only be seen if the person in the bed looked straight up. The figure/creature appeared to be wearing some sort of cloak with a 5 point star drawn on it. Now, my family is not very religious but seemed to horrify my parents. The problem was, which we soon figured out, we could not go to the church or temple or any kind of holy place without angering this creature. Every time any of my parents set out to go to any of these places, dangerous incidents seem to happen which, don't happen to kill, but seem to be some kind of warning like the car swerving off the road or a car speeding dangerously close while crossing the road. We soon realized that something supernatural was at play.\n",
      "\n",
      "It was after my mom almost got run over by a cement mixture truck that we gave up our attempts to contact a holy leader. We made the rule and to this day we have never had a single incident except ONE. But that is a story for some other time...\n"
     ]
    }
   ],
   "source": [
    "print(sample_doc)"
   ]
  },
  {
   "cell_type": "code",
   "execution_count": 46,
   "metadata": {},
   "outputs": [],
   "source": [
    "with open('Download/concat_texts.txt', 'r') as file:\n",
    "    concat_texts = file.read()\n",
    "    T = nltk.sent_tokenize(concat_texts)"
   ]
  },
  {
   "cell_type": "code",
   "execution_count": 37,
   "metadata": {},
   "outputs": [
    {
     "data": {
      "text/plain": [
       "575"
      ]
     },
     "execution_count": 37,
     "metadata": {},
     "output_type": "execute_result"
    }
   ],
   "source": [
    "len(nltk.sent_tokenize(sample_doc))"
   ]
  },
  {
   "cell_type": "code",
   "execution_count": 53,
   "metadata": {
    "collapsed": true,
    "jupyter": {
     "outputs_hidden": true
    }
   },
   "outputs": [
    {
     "data": {
      "application/vnd.jupyter.widget-view+json": {
       "model_id": "6106c7d64e634d9290b75f569d208229",
       "version_major": 2,
       "version_minor": 0
      },
      "text/plain": [
       "  0%|          | 0/140 [00:00<?, ?it/s]"
      ]
     },
     "metadata": {},
     "output_type": "display_data"
    },
    {
     "data": {
      "application/vnd.jupyter.widget-view+json": {
       "model_id": "ef86edbcb6644e3885159c0b4ebe94d7",
       "version_major": 2,
       "version_minor": 0
      },
      "text/plain": [
       "  0%|          | 0/3533 [00:00<?, ?it/s]"
      ]
     },
     "metadata": {},
     "output_type": "display_data"
    },
    {
     "data": {
      "application/vnd.jupyter.widget-view+json": {
       "model_id": "3df8ddbc6b4f4c4fa4b3ad8e3ed43d57",
       "version_major": 2,
       "version_minor": 0
      },
      "text/plain": [
       "  0%|          | 0/3533 [00:00<?, ?it/s]"
      ]
     },
     "metadata": {},
     "output_type": "display_data"
    },
    {
     "data": {
      "application/vnd.jupyter.widget-view+json": {
       "model_id": "d5bf98400eba48b18842ba4335e5befe",
       "version_major": 2,
       "version_minor": 0
      },
      "text/plain": [
       "  0%|          | 0/3533 [00:00<?, ?it/s]"
      ]
     },
     "metadata": {},
     "output_type": "display_data"
    },
    {
     "data": {
      "application/vnd.jupyter.widget-view+json": {
       "model_id": "c9f9e97560764c0a93a938324740a0bf",
       "version_major": 2,
       "version_minor": 0
      },
      "text/plain": [
       "  0%|          | 0/3533 [00:00<?, ?it/s]"
      ]
     },
     "metadata": {},
     "output_type": "display_data"
    },
    {
     "data": {
      "application/vnd.jupyter.widget-view+json": {
       "model_id": "5f1a178602ec4c3390fb0cfac2790305",
       "version_major": 2,
       "version_minor": 0
      },
      "text/plain": [
       "  0%|          | 0/3533 [00:00<?, ?it/s]"
      ]
     },
     "metadata": {},
     "output_type": "display_data"
    },
    {
     "data": {
      "application/vnd.jupyter.widget-view+json": {
       "model_id": "7ec32297f60f48aeac057fcb2e27942d",
       "version_major": 2,
       "version_minor": 0
      },
      "text/plain": [
       "  0%|          | 0/3533 [00:00<?, ?it/s]"
      ]
     },
     "metadata": {},
     "output_type": "display_data"
    },
    {
     "data": {
      "application/vnd.jupyter.widget-view+json": {
       "model_id": "6f8c845cde5343b7b78bfb618729b73a",
       "version_major": 2,
       "version_minor": 0
      },
      "text/plain": [
       "  0%|          | 0/3533 [00:00<?, ?it/s]"
      ]
     },
     "metadata": {},
     "output_type": "display_data"
    },
    {
     "data": {
      "application/vnd.jupyter.widget-view+json": {
       "model_id": "7c98262e36e740d195009585f4315bd4",
       "version_major": 2,
       "version_minor": 0
      },
      "text/plain": [
       "  0%|          | 0/3533 [00:00<?, ?it/s]"
      ]
     },
     "metadata": {},
     "output_type": "display_data"
    },
    {
     "data": {
      "application/vnd.jupyter.widget-view+json": {
       "model_id": "6892a0cbb84a41f486160877ba989621",
       "version_major": 2,
       "version_minor": 0
      },
      "text/plain": [
       "  0%|          | 0/3533 [00:00<?, ?it/s]"
      ]
     },
     "metadata": {},
     "output_type": "display_data"
    },
    {
     "data": {
      "application/vnd.jupyter.widget-view+json": {
       "model_id": "b36597de354442e8b82f7ddd9444c50a",
       "version_major": 2,
       "version_minor": 0
      },
      "text/plain": [
       "  0%|          | 0/3533 [00:00<?, ?it/s]"
      ]
     },
     "metadata": {},
     "output_type": "display_data"
    },
    {
     "data": {
      "application/vnd.jupyter.widget-view+json": {
       "model_id": "96aa907c7c614b0388a9db50c1c66a3e",
       "version_major": 2,
       "version_minor": 0
      },
      "text/plain": [
       "  0%|          | 0/3533 [00:00<?, ?it/s]"
      ]
     },
     "metadata": {},
     "output_type": "display_data"
    },
    {
     "data": {
      "application/vnd.jupyter.widget-view+json": {
       "model_id": "a250d42c052047cc96013604de69c02d",
       "version_major": 2,
       "version_minor": 0
      },
      "text/plain": [
       "  0%|          | 0/3533 [00:00<?, ?it/s]"
      ]
     },
     "metadata": {},
     "output_type": "display_data"
    },
    {
     "data": {
      "application/vnd.jupyter.widget-view+json": {
       "model_id": "69c7895c71cd45acb2fc004bb7709b80",
       "version_major": 2,
       "version_minor": 0
      },
      "text/plain": [
       "  0%|          | 0/3533 [00:00<?, ?it/s]"
      ]
     },
     "metadata": {},
     "output_type": "display_data"
    },
    {
     "data": {
      "application/vnd.jupyter.widget-view+json": {
       "model_id": "f210e9cc06464b4caad518f3210f63a9",
       "version_major": 2,
       "version_minor": 0
      },
      "text/plain": [
       "  0%|          | 0/3533 [00:00<?, ?it/s]"
      ]
     },
     "metadata": {},
     "output_type": "display_data"
    },
    {
     "data": {
      "application/vnd.jupyter.widget-view+json": {
       "model_id": "128260f940ee4d7389dbef030111dd76",
       "version_major": 2,
       "version_minor": 0
      },
      "text/plain": [
       "  0%|          | 0/3533 [00:00<?, ?it/s]"
      ]
     },
     "metadata": {},
     "output_type": "display_data"
    },
    {
     "data": {
      "application/vnd.jupyter.widget-view+json": {
       "model_id": "4a6d12978f74480c80c512e7bac62bb0",
       "version_major": 2,
       "version_minor": 0
      },
      "text/plain": [
       "  0%|          | 0/3533 [00:00<?, ?it/s]"
      ]
     },
     "metadata": {},
     "output_type": "display_data"
    },
    {
     "data": {
      "application/vnd.jupyter.widget-view+json": {
       "model_id": "cf857b6a9209456d8c63e04708c95e0b",
       "version_major": 2,
       "version_minor": 0
      },
      "text/plain": [
       "  0%|          | 0/3533 [00:00<?, ?it/s]"
      ]
     },
     "metadata": {},
     "output_type": "display_data"
    },
    {
     "data": {
      "application/vnd.jupyter.widget-view+json": {
       "model_id": "a97bd7f24e39425a979ae70428e8ad5f",
       "version_major": 2,
       "version_minor": 0
      },
      "text/plain": [
       "  0%|          | 0/3533 [00:00<?, ?it/s]"
      ]
     },
     "metadata": {},
     "output_type": "display_data"
    },
    {
     "data": {
      "application/vnd.jupyter.widget-view+json": {
       "model_id": "6c522ebcffa84e40b2f48a52c75f433f",
       "version_major": 2,
       "version_minor": 0
      },
      "text/plain": [
       "  0%|          | 0/3533 [00:00<?, ?it/s]"
      ]
     },
     "metadata": {},
     "output_type": "display_data"
    },
    {
     "data": {
      "application/vnd.jupyter.widget-view+json": {
       "model_id": "918149e5bc11441bae88a45b0fccddc4",
       "version_major": 2,
       "version_minor": 0
      },
      "text/plain": [
       "  0%|          | 0/3533 [00:00<?, ?it/s]"
      ]
     },
     "metadata": {},
     "output_type": "display_data"
    },
    {
     "data": {
      "application/vnd.jupyter.widget-view+json": {
       "model_id": "4ab7905b0e784a23b35194ea3db53b78",
       "version_major": 2,
       "version_minor": 0
      },
      "text/plain": [
       "  0%|          | 0/3533 [00:00<?, ?it/s]"
      ]
     },
     "metadata": {},
     "output_type": "display_data"
    },
    {
     "data": {
      "application/vnd.jupyter.widget-view+json": {
       "model_id": "926bf2bf89214d74a83e9e1526619da4",
       "version_major": 2,
       "version_minor": 0
      },
      "text/plain": [
       "  0%|          | 0/3533 [00:00<?, ?it/s]"
      ]
     },
     "metadata": {},
     "output_type": "display_data"
    },
    {
     "data": {
      "application/vnd.jupyter.widget-view+json": {
       "model_id": "0b73a93015f04713809babd4e0284253",
       "version_major": 2,
       "version_minor": 0
      },
      "text/plain": [
       "  0%|          | 0/3533 [00:00<?, ?it/s]"
      ]
     },
     "metadata": {},
     "output_type": "display_data"
    },
    {
     "data": {
      "application/vnd.jupyter.widget-view+json": {
       "model_id": "1abb362e0b40466ca16692822b865e1c",
       "version_major": 2,
       "version_minor": 0
      },
      "text/plain": [
       "  0%|          | 0/3533 [00:00<?, ?it/s]"
      ]
     },
     "metadata": {},
     "output_type": "display_data"
    },
    {
     "data": {
      "application/vnd.jupyter.widget-view+json": {
       "model_id": "f5ecb871e7a94d298c13f02efc83fec9",
       "version_major": 2,
       "version_minor": 0
      },
      "text/plain": [
       "  0%|          | 0/3533 [00:00<?, ?it/s]"
      ]
     },
     "metadata": {},
     "output_type": "display_data"
    },
    {
     "data": {
      "application/vnd.jupyter.widget-view+json": {
       "model_id": "9984fea904d146d48b6faecfb18554e3",
       "version_major": 2,
       "version_minor": 0
      },
      "text/plain": [
       "  0%|          | 0/3533 [00:00<?, ?it/s]"
      ]
     },
     "metadata": {},
     "output_type": "display_data"
    },
    {
     "data": {
      "application/vnd.jupyter.widget-view+json": {
       "model_id": "76d7b734e7a744afb8ce745885609a2d",
       "version_major": 2,
       "version_minor": 0
      },
      "text/plain": [
       "  0%|          | 0/3533 [00:00<?, ?it/s]"
      ]
     },
     "metadata": {},
     "output_type": "display_data"
    },
    {
     "data": {
      "application/vnd.jupyter.widget-view+json": {
       "model_id": "f7933dce935f42d5823248edd9213bbd",
       "version_major": 2,
       "version_minor": 0
      },
      "text/plain": [
       "  0%|          | 0/3533 [00:00<?, ?it/s]"
      ]
     },
     "metadata": {},
     "output_type": "display_data"
    },
    {
     "data": {
      "application/vnd.jupyter.widget-view+json": {
       "model_id": "59c016e9607741a9ae62053712ed7d47",
       "version_major": 2,
       "version_minor": 0
      },
      "text/plain": [
       "  0%|          | 0/3533 [00:00<?, ?it/s]"
      ]
     },
     "metadata": {},
     "output_type": "display_data"
    },
    {
     "data": {
      "application/vnd.jupyter.widget-view+json": {
       "model_id": "14432a1983ae4b2ba0a349998fd7e0d0",
       "version_major": 2,
       "version_minor": 0
      },
      "text/plain": [
       "  0%|          | 0/3533 [00:00<?, ?it/s]"
      ]
     },
     "metadata": {},
     "output_type": "display_data"
    },
    {
     "data": {
      "application/vnd.jupyter.widget-view+json": {
       "model_id": "9aeef395f26541d6923c1f1dbae51469",
       "version_major": 2,
       "version_minor": 0
      },
      "text/plain": [
       "  0%|          | 0/3533 [00:00<?, ?it/s]"
      ]
     },
     "metadata": {},
     "output_type": "display_data"
    },
    {
     "data": {
      "application/vnd.jupyter.widget-view+json": {
       "model_id": "ddb3bf3dd0ce4a4d85489b40aad7c9d6",
       "version_major": 2,
       "version_minor": 0
      },
      "text/plain": [
       "  0%|          | 0/3533 [00:00<?, ?it/s]"
      ]
     },
     "metadata": {},
     "output_type": "display_data"
    },
    {
     "data": {
      "application/vnd.jupyter.widget-view+json": {
       "model_id": "aa64c9cd289f4279979760c6c0f246b5",
       "version_major": 2,
       "version_minor": 0
      },
      "text/plain": [
       "  0%|          | 0/3533 [00:00<?, ?it/s]"
      ]
     },
     "metadata": {},
     "output_type": "display_data"
    },
    {
     "data": {
      "application/vnd.jupyter.widget-view+json": {
       "model_id": "dd706e2f683b46e7901ea55eb89ab946",
       "version_major": 2,
       "version_minor": 0
      },
      "text/plain": [
       "  0%|          | 0/3533 [00:00<?, ?it/s]"
      ]
     },
     "metadata": {},
     "output_type": "display_data"
    },
    {
     "data": {
      "application/vnd.jupyter.widget-view+json": {
       "model_id": "6f66b11e97d44ec5bede2395f9d3eee9",
       "version_major": 2,
       "version_minor": 0
      },
      "text/plain": [
       "  0%|          | 0/3533 [00:00<?, ?it/s]"
      ]
     },
     "metadata": {},
     "output_type": "display_data"
    },
    {
     "data": {
      "application/vnd.jupyter.widget-view+json": {
       "model_id": "c8a6869d2e384201936f683a3dd0d75c",
       "version_major": 2,
       "version_minor": 0
      },
      "text/plain": [
       "  0%|          | 0/3533 [00:00<?, ?it/s]"
      ]
     },
     "metadata": {},
     "output_type": "display_data"
    },
    {
     "data": {
      "application/vnd.jupyter.widget-view+json": {
       "model_id": "2db9e25128d64fbb8f401760ed01bed2",
       "version_major": 2,
       "version_minor": 0
      },
      "text/plain": [
       "  0%|          | 0/3533 [00:00<?, ?it/s]"
      ]
     },
     "metadata": {},
     "output_type": "display_data"
    },
    {
     "data": {
      "application/vnd.jupyter.widget-view+json": {
       "model_id": "1ff9cf1fbedc46fbb371a6b3e43ebf4c",
       "version_major": 2,
       "version_minor": 0
      },
      "text/plain": [
       "  0%|          | 0/3533 [00:00<?, ?it/s]"
      ]
     },
     "metadata": {},
     "output_type": "display_data"
    },
    {
     "data": {
      "application/vnd.jupyter.widget-view+json": {
       "model_id": "133002f7d4ee4dedb10d115cd5ce775e",
       "version_major": 2,
       "version_minor": 0
      },
      "text/plain": [
       "  0%|          | 0/3533 [00:00<?, ?it/s]"
      ]
     },
     "metadata": {},
     "output_type": "display_data"
    },
    {
     "data": {
      "application/vnd.jupyter.widget-view+json": {
       "model_id": "72a75808aaee4c1cb22545ac56fdfbd9",
       "version_major": 2,
       "version_minor": 0
      },
      "text/plain": [
       "  0%|          | 0/3533 [00:00<?, ?it/s]"
      ]
     },
     "metadata": {},
     "output_type": "display_data"
    },
    {
     "data": {
      "application/vnd.jupyter.widget-view+json": {
       "model_id": "2eb0a5c5c9e84a1c87b6c18c080c8575",
       "version_major": 2,
       "version_minor": 0
      },
      "text/plain": [
       "  0%|          | 0/3533 [00:00<?, ?it/s]"
      ]
     },
     "metadata": {},
     "output_type": "display_data"
    },
    {
     "data": {
      "application/vnd.jupyter.widget-view+json": {
       "model_id": "86cc91c010f140c4b8bbb71f7a3647f9",
       "version_major": 2,
       "version_minor": 0
      },
      "text/plain": [
       "  0%|          | 0/3533 [00:00<?, ?it/s]"
      ]
     },
     "metadata": {},
     "output_type": "display_data"
    },
    {
     "data": {
      "application/vnd.jupyter.widget-view+json": {
       "model_id": "62a925b1bd344753aafb3510e5c11de1",
       "version_major": 2,
       "version_minor": 0
      },
      "text/plain": [
       "  0%|          | 0/3533 [00:00<?, ?it/s]"
      ]
     },
     "metadata": {},
     "output_type": "display_data"
    },
    {
     "data": {
      "application/vnd.jupyter.widget-view+json": {
       "model_id": "b3e7c44bab8040a48a288a7d81980a48",
       "version_major": 2,
       "version_minor": 0
      },
      "text/plain": [
       "  0%|          | 0/3533 [00:00<?, ?it/s]"
      ]
     },
     "metadata": {},
     "output_type": "display_data"
    },
    {
     "data": {
      "application/vnd.jupyter.widget-view+json": {
       "model_id": "d78f54208d044727a6163c1fa8b83028",
       "version_major": 2,
       "version_minor": 0
      },
      "text/plain": [
       "  0%|          | 0/3533 [00:00<?, ?it/s]"
      ]
     },
     "metadata": {},
     "output_type": "display_data"
    },
    {
     "data": {
      "application/vnd.jupyter.widget-view+json": {
       "model_id": "f790464fd0b14a2f94a1679e5af262b5",
       "version_major": 2,
       "version_minor": 0
      },
      "text/plain": [
       "  0%|          | 0/3533 [00:00<?, ?it/s]"
      ]
     },
     "metadata": {},
     "output_type": "display_data"
    },
    {
     "data": {
      "application/vnd.jupyter.widget-view+json": {
       "model_id": "7e5c8e886ded433193c3a24db9570625",
       "version_major": 2,
       "version_minor": 0
      },
      "text/plain": [
       "  0%|          | 0/3533 [00:00<?, ?it/s]"
      ]
     },
     "metadata": {},
     "output_type": "display_data"
    },
    {
     "data": {
      "application/vnd.jupyter.widget-view+json": {
       "model_id": "4936f201b4f44e4b8caebaea03b584ec",
       "version_major": 2,
       "version_minor": 0
      },
      "text/plain": [
       "  0%|          | 0/3533 [00:00<?, ?it/s]"
      ]
     },
     "metadata": {},
     "output_type": "display_data"
    },
    {
     "data": {
      "application/vnd.jupyter.widget-view+json": {
       "model_id": "b938f86e617c452fb2f2be2ab176586a",
       "version_major": 2,
       "version_minor": 0
      },
      "text/plain": [
       "  0%|          | 0/3533 [00:00<?, ?it/s]"
      ]
     },
     "metadata": {},
     "output_type": "display_data"
    },
    {
     "data": {
      "application/vnd.jupyter.widget-view+json": {
       "model_id": "f9a53eca155c4c1aa85b4dc22caba66d",
       "version_major": 2,
       "version_minor": 0
      },
      "text/plain": [
       "  0%|          | 0/3533 [00:00<?, ?it/s]"
      ]
     },
     "metadata": {},
     "output_type": "display_data"
    },
    {
     "data": {
      "application/vnd.jupyter.widget-view+json": {
       "model_id": "4d29306dcc8c4d1386f57df1ec656438",
       "version_major": 2,
       "version_minor": 0
      },
      "text/plain": [
       "  0%|          | 0/3533 [00:00<?, ?it/s]"
      ]
     },
     "metadata": {},
     "output_type": "display_data"
    },
    {
     "data": {
      "application/vnd.jupyter.widget-view+json": {
       "model_id": "5b96c114f3194f9d87226e4c1dd06089",
       "version_major": 2,
       "version_minor": 0
      },
      "text/plain": [
       "  0%|          | 0/3533 [00:00<?, ?it/s]"
      ]
     },
     "metadata": {},
     "output_type": "display_data"
    },
    {
     "data": {
      "application/vnd.jupyter.widget-view+json": {
       "model_id": "ec802b2c4079467cb02c50bc4474a15c",
       "version_major": 2,
       "version_minor": 0
      },
      "text/plain": [
       "  0%|          | 0/3533 [00:00<?, ?it/s]"
      ]
     },
     "metadata": {},
     "output_type": "display_data"
    },
    {
     "data": {
      "application/vnd.jupyter.widget-view+json": {
       "model_id": "ebc379d6ff2b4f7093432405730be3f2",
       "version_major": 2,
       "version_minor": 0
      },
      "text/plain": [
       "  0%|          | 0/3533 [00:00<?, ?it/s]"
      ]
     },
     "metadata": {},
     "output_type": "display_data"
    },
    {
     "data": {
      "application/vnd.jupyter.widget-view+json": {
       "model_id": "57685ff09a404549927ec3be18fc64f3",
       "version_major": 2,
       "version_minor": 0
      },
      "text/plain": [
       "  0%|          | 0/3533 [00:00<?, ?it/s]"
      ]
     },
     "metadata": {},
     "output_type": "display_data"
    },
    {
     "data": {
      "application/vnd.jupyter.widget-view+json": {
       "model_id": "efbc41e2996d457e8f60a618b8eeff45",
       "version_major": 2,
       "version_minor": 0
      },
      "text/plain": [
       "  0%|          | 0/3533 [00:00<?, ?it/s]"
      ]
     },
     "metadata": {},
     "output_type": "display_data"
    },
    {
     "data": {
      "application/vnd.jupyter.widget-view+json": {
       "model_id": "b0b172cd26e84d1dadb6dee4b1db219e",
       "version_major": 2,
       "version_minor": 0
      },
      "text/plain": [
       "  0%|          | 0/3533 [00:00<?, ?it/s]"
      ]
     },
     "metadata": {},
     "output_type": "display_data"
    },
    {
     "data": {
      "application/vnd.jupyter.widget-view+json": {
       "model_id": "35a7849b2488459185867736a812bd47",
       "version_major": 2,
       "version_minor": 0
      },
      "text/plain": [
       "  0%|          | 0/3533 [00:00<?, ?it/s]"
      ]
     },
     "metadata": {},
     "output_type": "display_data"
    },
    {
     "data": {
      "application/vnd.jupyter.widget-view+json": {
       "model_id": "a1e8b570eed84c299d5ccc80d58b4022",
       "version_major": 2,
       "version_minor": 0
      },
      "text/plain": [
       "  0%|          | 0/3533 [00:00<?, ?it/s]"
      ]
     },
     "metadata": {},
     "output_type": "display_data"
    },
    {
     "data": {
      "application/vnd.jupyter.widget-view+json": {
       "model_id": "b9a404f6b56f43eb95ffa72b3ac82a09",
       "version_major": 2,
       "version_minor": 0
      },
      "text/plain": [
       "  0%|          | 0/3533 [00:00<?, ?it/s]"
      ]
     },
     "metadata": {},
     "output_type": "display_data"
    },
    {
     "data": {
      "application/vnd.jupyter.widget-view+json": {
       "model_id": "73db0f037e204d039b5caad1cc0e9682",
       "version_major": 2,
       "version_minor": 0
      },
      "text/plain": [
       "  0%|          | 0/3533 [00:00<?, ?it/s]"
      ]
     },
     "metadata": {},
     "output_type": "display_data"
    },
    {
     "data": {
      "application/vnd.jupyter.widget-view+json": {
       "model_id": "efdfc2ec9f664f09acc0269aceff74bd",
       "version_major": 2,
       "version_minor": 0
      },
      "text/plain": [
       "  0%|          | 0/3533 [00:00<?, ?it/s]"
      ]
     },
     "metadata": {},
     "output_type": "display_data"
    },
    {
     "data": {
      "application/vnd.jupyter.widget-view+json": {
       "model_id": "389f316661f04ae086f7bb06975794b0",
       "version_major": 2,
       "version_minor": 0
      },
      "text/plain": [
       "  0%|          | 0/3533 [00:00<?, ?it/s]"
      ]
     },
     "metadata": {},
     "output_type": "display_data"
    },
    {
     "data": {
      "application/vnd.jupyter.widget-view+json": {
       "model_id": "40808018dd39425b9b2176454c75611b",
       "version_major": 2,
       "version_minor": 0
      },
      "text/plain": [
       "  0%|          | 0/3533 [00:00<?, ?it/s]"
      ]
     },
     "metadata": {},
     "output_type": "display_data"
    },
    {
     "data": {
      "application/vnd.jupyter.widget-view+json": {
       "model_id": "5d938a0fe86c40a382e556e7f6ee31fa",
       "version_major": 2,
       "version_minor": 0
      },
      "text/plain": [
       "  0%|          | 0/3533 [00:00<?, ?it/s]"
      ]
     },
     "metadata": {},
     "output_type": "display_data"
    },
    {
     "data": {
      "application/vnd.jupyter.widget-view+json": {
       "model_id": "1b336da492674be487e8d222fff904ba",
       "version_major": 2,
       "version_minor": 0
      },
      "text/plain": [
       "  0%|          | 0/3533 [00:00<?, ?it/s]"
      ]
     },
     "metadata": {},
     "output_type": "display_data"
    },
    {
     "data": {
      "application/vnd.jupyter.widget-view+json": {
       "model_id": "bf4d5efdd64741d0a003a502f84691e8",
       "version_major": 2,
       "version_minor": 0
      },
      "text/plain": [
       "  0%|          | 0/3533 [00:00<?, ?it/s]"
      ]
     },
     "metadata": {},
     "output_type": "display_data"
    },
    {
     "data": {
      "application/vnd.jupyter.widget-view+json": {
       "model_id": "cac7ec613630478180aa312ffbc3fbbf",
       "version_major": 2,
       "version_minor": 0
      },
      "text/plain": [
       "  0%|          | 0/3533 [00:00<?, ?it/s]"
      ]
     },
     "metadata": {},
     "output_type": "display_data"
    },
    {
     "data": {
      "application/vnd.jupyter.widget-view+json": {
       "model_id": "bc4dde1f045e4993b834f545122efbb3",
       "version_major": 2,
       "version_minor": 0
      },
      "text/plain": [
       "  0%|          | 0/3533 [00:00<?, ?it/s]"
      ]
     },
     "metadata": {},
     "output_type": "display_data"
    },
    {
     "data": {
      "application/vnd.jupyter.widget-view+json": {
       "model_id": "df74a8f80fb543708d6a1bd8b894e87d",
       "version_major": 2,
       "version_minor": 0
      },
      "text/plain": [
       "  0%|          | 0/3533 [00:00<?, ?it/s]"
      ]
     },
     "metadata": {},
     "output_type": "display_data"
    },
    {
     "data": {
      "application/vnd.jupyter.widget-view+json": {
       "model_id": "9b9525ee97cc4943b81ed11962ca5724",
       "version_major": 2,
       "version_minor": 0
      },
      "text/plain": [
       "  0%|          | 0/3533 [00:00<?, ?it/s]"
      ]
     },
     "metadata": {},
     "output_type": "display_data"
    },
    {
     "data": {
      "application/vnd.jupyter.widget-view+json": {
       "model_id": "cfb514a0c81644bfa4b15666a27e1e8f",
       "version_major": 2,
       "version_minor": 0
      },
      "text/plain": [
       "  0%|          | 0/3533 [00:00<?, ?it/s]"
      ]
     },
     "metadata": {},
     "output_type": "display_data"
    },
    {
     "data": {
      "application/vnd.jupyter.widget-view+json": {
       "model_id": "2af75a8ae7084a6da654d9f53210c2d8",
       "version_major": 2,
       "version_minor": 0
      },
      "text/plain": [
       "  0%|          | 0/3533 [00:00<?, ?it/s]"
      ]
     },
     "metadata": {},
     "output_type": "display_data"
    },
    {
     "data": {
      "application/vnd.jupyter.widget-view+json": {
       "model_id": "1f84ad829b5b4d75a1576dd93964a5f1",
       "version_major": 2,
       "version_minor": 0
      },
      "text/plain": [
       "  0%|          | 0/3533 [00:00<?, ?it/s]"
      ]
     },
     "metadata": {},
     "output_type": "display_data"
    },
    {
     "data": {
      "application/vnd.jupyter.widget-view+json": {
       "model_id": "2d965b8898e74789936ac89a2dfe49a3",
       "version_major": 2,
       "version_minor": 0
      },
      "text/plain": [
       "  0%|          | 0/3533 [00:00<?, ?it/s]"
      ]
     },
     "metadata": {},
     "output_type": "display_data"
    },
    {
     "data": {
      "application/vnd.jupyter.widget-view+json": {
       "model_id": "177c94db733a4a57be3fd5b56e12a232",
       "version_major": 2,
       "version_minor": 0
      },
      "text/plain": [
       "  0%|          | 0/3533 [00:00<?, ?it/s]"
      ]
     },
     "metadata": {},
     "output_type": "display_data"
    },
    {
     "data": {
      "application/vnd.jupyter.widget-view+json": {
       "model_id": "497573af916845919bd4fabb449deab0",
       "version_major": 2,
       "version_minor": 0
      },
      "text/plain": [
       "  0%|          | 0/3533 [00:00<?, ?it/s]"
      ]
     },
     "metadata": {},
     "output_type": "display_data"
    },
    {
     "data": {
      "application/vnd.jupyter.widget-view+json": {
       "model_id": "19412836b47a48c9b12cd7162774d386",
       "version_major": 2,
       "version_minor": 0
      },
      "text/plain": [
       "  0%|          | 0/3533 [00:00<?, ?it/s]"
      ]
     },
     "metadata": {},
     "output_type": "display_data"
    },
    {
     "data": {
      "application/vnd.jupyter.widget-view+json": {
       "model_id": "ce8a3bd047d041799bc67f6f7510d830",
       "version_major": 2,
       "version_minor": 0
      },
      "text/plain": [
       "  0%|          | 0/3533 [00:00<?, ?it/s]"
      ]
     },
     "metadata": {},
     "output_type": "display_data"
    },
    {
     "data": {
      "application/vnd.jupyter.widget-view+json": {
       "model_id": "ca00fc0cfaa44cf2b25b29bff7b0ca00",
       "version_major": 2,
       "version_minor": 0
      },
      "text/plain": [
       "  0%|          | 0/3533 [00:00<?, ?it/s]"
      ]
     },
     "metadata": {},
     "output_type": "display_data"
    },
    {
     "data": {
      "application/vnd.jupyter.widget-view+json": {
       "model_id": "d91003ced8d14d6797c6db84f39b9a37",
       "version_major": 2,
       "version_minor": 0
      },
      "text/plain": [
       "  0%|          | 0/3533 [00:00<?, ?it/s]"
      ]
     },
     "metadata": {},
     "output_type": "display_data"
    },
    {
     "data": {
      "application/vnd.jupyter.widget-view+json": {
       "model_id": "6a00f7f09a93432fac3b88a485c9fa15",
       "version_major": 2,
       "version_minor": 0
      },
      "text/plain": [
       "  0%|          | 0/3533 [00:00<?, ?it/s]"
      ]
     },
     "metadata": {},
     "output_type": "display_data"
    },
    {
     "data": {
      "application/vnd.jupyter.widget-view+json": {
       "model_id": "c58181f567ba47f4bb11077cc4fb1407",
       "version_major": 2,
       "version_minor": 0
      },
      "text/plain": [
       "  0%|          | 0/3533 [00:00<?, ?it/s]"
      ]
     },
     "metadata": {},
     "output_type": "display_data"
    },
    {
     "data": {
      "application/vnd.jupyter.widget-view+json": {
       "model_id": "8a90a5bfdbde4e8c9d5f32023a9a0acd",
       "version_major": 2,
       "version_minor": 0
      },
      "text/plain": [
       "  0%|          | 0/3533 [00:00<?, ?it/s]"
      ]
     },
     "metadata": {},
     "output_type": "display_data"
    },
    {
     "data": {
      "application/vnd.jupyter.widget-view+json": {
       "model_id": "b284c3b1c83c4124b33552dd5945de3f",
       "version_major": 2,
       "version_minor": 0
      },
      "text/plain": [
       "  0%|          | 0/3533 [00:00<?, ?it/s]"
      ]
     },
     "metadata": {},
     "output_type": "display_data"
    },
    {
     "data": {
      "application/vnd.jupyter.widget-view+json": {
       "model_id": "a6d77fcda8724746a09fd2140364ab61",
       "version_major": 2,
       "version_minor": 0
      },
      "text/plain": [
       "  0%|          | 0/3533 [00:00<?, ?it/s]"
      ]
     },
     "metadata": {},
     "output_type": "display_data"
    },
    {
     "data": {
      "application/vnd.jupyter.widget-view+json": {
       "model_id": "705491a135ce405080f1816220ebe09b",
       "version_major": 2,
       "version_minor": 0
      },
      "text/plain": [
       "  0%|          | 0/3533 [00:00<?, ?it/s]"
      ]
     },
     "metadata": {},
     "output_type": "display_data"
    },
    {
     "data": {
      "application/vnd.jupyter.widget-view+json": {
       "model_id": "db09077b53f4498ca0124fa7e6a0c6ed",
       "version_major": 2,
       "version_minor": 0
      },
      "text/plain": [
       "  0%|          | 0/3533 [00:00<?, ?it/s]"
      ]
     },
     "metadata": {},
     "output_type": "display_data"
    },
    {
     "data": {
      "application/vnd.jupyter.widget-view+json": {
       "model_id": "19a9a3783c624ea69b462b59d4b2500e",
       "version_major": 2,
       "version_minor": 0
      },
      "text/plain": [
       "  0%|          | 0/3533 [00:00<?, ?it/s]"
      ]
     },
     "metadata": {},
     "output_type": "display_data"
    },
    {
     "data": {
      "application/vnd.jupyter.widget-view+json": {
       "model_id": "0de98c7dbba34293b6668ad2ea2fa32a",
       "version_major": 2,
       "version_minor": 0
      },
      "text/plain": [
       "  0%|          | 0/3533 [00:00<?, ?it/s]"
      ]
     },
     "metadata": {},
     "output_type": "display_data"
    },
    {
     "data": {
      "application/vnd.jupyter.widget-view+json": {
       "model_id": "98849656229047c995c26c3f2530d9ea",
       "version_major": 2,
       "version_minor": 0
      },
      "text/plain": [
       "  0%|          | 0/3533 [00:00<?, ?it/s]"
      ]
     },
     "metadata": {},
     "output_type": "display_data"
    },
    {
     "data": {
      "application/vnd.jupyter.widget-view+json": {
       "model_id": "561829a8eb5a4b81a68dcab772c67d5c",
       "version_major": 2,
       "version_minor": 0
      },
      "text/plain": [
       "  0%|          | 0/3533 [00:00<?, ?it/s]"
      ]
     },
     "metadata": {},
     "output_type": "display_data"
    },
    {
     "data": {
      "application/vnd.jupyter.widget-view+json": {
       "model_id": "b6a9bb82333e4b91a21b94845561ac88",
       "version_major": 2,
       "version_minor": 0
      },
      "text/plain": [
       "  0%|          | 0/3533 [00:00<?, ?it/s]"
      ]
     },
     "metadata": {},
     "output_type": "display_data"
    },
    {
     "data": {
      "application/vnd.jupyter.widget-view+json": {
       "model_id": "36d4cc46b6a64c8fb9a5ce2ff617e973",
       "version_major": 2,
       "version_minor": 0
      },
      "text/plain": [
       "  0%|          | 0/3533 [00:00<?, ?it/s]"
      ]
     },
     "metadata": {},
     "output_type": "display_data"
    },
    {
     "data": {
      "application/vnd.jupyter.widget-view+json": {
       "model_id": "93aa80cee404436599e3bc4f097e60e9",
       "version_major": 2,
       "version_minor": 0
      },
      "text/plain": [
       "  0%|          | 0/3533 [00:00<?, ?it/s]"
      ]
     },
     "metadata": {},
     "output_type": "display_data"
    },
    {
     "data": {
      "application/vnd.jupyter.widget-view+json": {
       "model_id": "792ddaf74132485b823bb06245138426",
       "version_major": 2,
       "version_minor": 0
      },
      "text/plain": [
       "  0%|          | 0/3533 [00:00<?, ?it/s]"
      ]
     },
     "metadata": {},
     "output_type": "display_data"
    },
    {
     "data": {
      "application/vnd.jupyter.widget-view+json": {
       "model_id": "9ef9cae9a7a9490f83708f4c06f65f7d",
       "version_major": 2,
       "version_minor": 0
      },
      "text/plain": [
       "  0%|          | 0/3533 [00:00<?, ?it/s]"
      ]
     },
     "metadata": {},
     "output_type": "display_data"
    },
    {
     "data": {
      "application/vnd.jupyter.widget-view+json": {
       "model_id": "2fc4c7beea85423b984c13c4aff1c7bc",
       "version_major": 2,
       "version_minor": 0
      },
      "text/plain": [
       "  0%|          | 0/3533 [00:00<?, ?it/s]"
      ]
     },
     "metadata": {},
     "output_type": "display_data"
    },
    {
     "data": {
      "application/vnd.jupyter.widget-view+json": {
       "model_id": "458a7443276048c2846cc05167056393",
       "version_major": 2,
       "version_minor": 0
      },
      "text/plain": [
       "  0%|          | 0/3533 [00:00<?, ?it/s]"
      ]
     },
     "metadata": {},
     "output_type": "display_data"
    },
    {
     "data": {
      "application/vnd.jupyter.widget-view+json": {
       "model_id": "34309cb37d224d7382b671b1eb3428d7",
       "version_major": 2,
       "version_minor": 0
      },
      "text/plain": [
       "  0%|          | 0/3533 [00:00<?, ?it/s]"
      ]
     },
     "metadata": {},
     "output_type": "display_data"
    },
    {
     "data": {
      "application/vnd.jupyter.widget-view+json": {
       "model_id": "16afee07a14a43789ed66f1582862fda",
       "version_major": 2,
       "version_minor": 0
      },
      "text/plain": [
       "  0%|          | 0/3533 [00:00<?, ?it/s]"
      ]
     },
     "metadata": {},
     "output_type": "display_data"
    },
    {
     "data": {
      "application/vnd.jupyter.widget-view+json": {
       "model_id": "ef3385066aa54895b38096cfad6457e4",
       "version_major": 2,
       "version_minor": 0
      },
      "text/plain": [
       "  0%|          | 0/3533 [00:00<?, ?it/s]"
      ]
     },
     "metadata": {},
     "output_type": "display_data"
    },
    {
     "data": {
      "application/vnd.jupyter.widget-view+json": {
       "model_id": "8169de2488de4c15a527681ed5a0177c",
       "version_major": 2,
       "version_minor": 0
      },
      "text/plain": [
       "  0%|          | 0/3533 [00:00<?, ?it/s]"
      ]
     },
     "metadata": {},
     "output_type": "display_data"
    },
    {
     "data": {
      "application/vnd.jupyter.widget-view+json": {
       "model_id": "e3d46f645f344c9085c39347151fa3f0",
       "version_major": 2,
       "version_minor": 0
      },
      "text/plain": [
       "  0%|          | 0/3533 [00:00<?, ?it/s]"
      ]
     },
     "metadata": {},
     "output_type": "display_data"
    },
    {
     "data": {
      "application/vnd.jupyter.widget-view+json": {
       "model_id": "ba0e3d4393d741c68e4bfa6346a13937",
       "version_major": 2,
       "version_minor": 0
      },
      "text/plain": [
       "  0%|          | 0/3533 [00:00<?, ?it/s]"
      ]
     },
     "metadata": {},
     "output_type": "display_data"
    },
    {
     "data": {
      "application/vnd.jupyter.widget-view+json": {
       "model_id": "4df57ad05b92463abc7f50c46cf7b113",
       "version_major": 2,
       "version_minor": 0
      },
      "text/plain": [
       "  0%|          | 0/3533 [00:00<?, ?it/s]"
      ]
     },
     "metadata": {},
     "output_type": "display_data"
    },
    {
     "data": {
      "application/vnd.jupyter.widget-view+json": {
       "model_id": "3976d15dc2d0455881387bd02b7e1344",
       "version_major": 2,
       "version_minor": 0
      },
      "text/plain": [
       "  0%|          | 0/3533 [00:00<?, ?it/s]"
      ]
     },
     "metadata": {},
     "output_type": "display_data"
    },
    {
     "data": {
      "application/vnd.jupyter.widget-view+json": {
       "model_id": "1c629b2ff07b423d830f53e76458f2b1",
       "version_major": 2,
       "version_minor": 0
      },
      "text/plain": [
       "  0%|          | 0/3533 [00:00<?, ?it/s]"
      ]
     },
     "metadata": {},
     "output_type": "display_data"
    },
    {
     "data": {
      "application/vnd.jupyter.widget-view+json": {
       "model_id": "0d26b40281be458fadb098db4177e09d",
       "version_major": 2,
       "version_minor": 0
      },
      "text/plain": [
       "  0%|          | 0/3533 [00:00<?, ?it/s]"
      ]
     },
     "metadata": {},
     "output_type": "display_data"
    },
    {
     "data": {
      "application/vnd.jupyter.widget-view+json": {
       "model_id": "128fa42940de4edb92e837abc3f95c5d",
       "version_major": 2,
       "version_minor": 0
      },
      "text/plain": [
       "  0%|          | 0/3533 [00:00<?, ?it/s]"
      ]
     },
     "metadata": {},
     "output_type": "display_data"
    },
    {
     "data": {
      "application/vnd.jupyter.widget-view+json": {
       "model_id": "8597fbd87ab54512a64c8536a83abe77",
       "version_major": 2,
       "version_minor": 0
      },
      "text/plain": [
       "  0%|          | 0/3533 [00:00<?, ?it/s]"
      ]
     },
     "metadata": {},
     "output_type": "display_data"
    },
    {
     "data": {
      "application/vnd.jupyter.widget-view+json": {
       "model_id": "984577304fe5413ca15957c0b73144a9",
       "version_major": 2,
       "version_minor": 0
      },
      "text/plain": [
       "  0%|          | 0/3533 [00:00<?, ?it/s]"
      ]
     },
     "metadata": {},
     "output_type": "display_data"
    },
    {
     "data": {
      "application/vnd.jupyter.widget-view+json": {
       "model_id": "f6bc8fd1a7b143b6a40f99cdacd130cf",
       "version_major": 2,
       "version_minor": 0
      },
      "text/plain": [
       "  0%|          | 0/3533 [00:00<?, ?it/s]"
      ]
     },
     "metadata": {},
     "output_type": "display_data"
    },
    {
     "data": {
      "application/vnd.jupyter.widget-view+json": {
       "model_id": "567ae59233024903a94627f814132267",
       "version_major": 2,
       "version_minor": 0
      },
      "text/plain": [
       "  0%|          | 0/3533 [00:00<?, ?it/s]"
      ]
     },
     "metadata": {},
     "output_type": "display_data"
    },
    {
     "data": {
      "application/vnd.jupyter.widget-view+json": {
       "model_id": "31b2d554a34f4e88b8dd61454ad8e34f",
       "version_major": 2,
       "version_minor": 0
      },
      "text/plain": [
       "  0%|          | 0/3533 [00:00<?, ?it/s]"
      ]
     },
     "metadata": {},
     "output_type": "display_data"
    },
    {
     "data": {
      "application/vnd.jupyter.widget-view+json": {
       "model_id": "ecd8abd2f8554f4f962782e82a17af13",
       "version_major": 2,
       "version_minor": 0
      },
      "text/plain": [
       "  0%|          | 0/3533 [00:00<?, ?it/s]"
      ]
     },
     "metadata": {},
     "output_type": "display_data"
    },
    {
     "data": {
      "application/vnd.jupyter.widget-view+json": {
       "model_id": "a7e6a691d5b34ed4af15f4a53d71b15e",
       "version_major": 2,
       "version_minor": 0
      },
      "text/plain": [
       "  0%|          | 0/3533 [00:00<?, ?it/s]"
      ]
     },
     "metadata": {},
     "output_type": "display_data"
    },
    {
     "data": {
      "application/vnd.jupyter.widget-view+json": {
       "model_id": "6f0d706b0d9a421bad53d7569d827da2",
       "version_major": 2,
       "version_minor": 0
      },
      "text/plain": [
       "  0%|          | 0/3533 [00:00<?, ?it/s]"
      ]
     },
     "metadata": {},
     "output_type": "display_data"
    },
    {
     "data": {
      "application/vnd.jupyter.widget-view+json": {
       "model_id": "649b6ddbbaf8455d9cddb357c23e9743",
       "version_major": 2,
       "version_minor": 0
      },
      "text/plain": [
       "  0%|          | 0/3533 [00:00<?, ?it/s]"
      ]
     },
     "metadata": {},
     "output_type": "display_data"
    },
    {
     "data": {
      "application/vnd.jupyter.widget-view+json": {
       "model_id": "af2720d4cc3f4ab788328591b538fcbb",
       "version_major": 2,
       "version_minor": 0
      },
      "text/plain": [
       "  0%|          | 0/3533 [00:00<?, ?it/s]"
      ]
     },
     "metadata": {},
     "output_type": "display_data"
    },
    {
     "data": {
      "application/vnd.jupyter.widget-view+json": {
       "model_id": "56e33316d7964b88ba9558765bad5101",
       "version_major": 2,
       "version_minor": 0
      },
      "text/plain": [
       "  0%|          | 0/3533 [00:00<?, ?it/s]"
      ]
     },
     "metadata": {},
     "output_type": "display_data"
    },
    {
     "data": {
      "application/vnd.jupyter.widget-view+json": {
       "model_id": "113443b17e6e4862b44fb14915f4c5d8",
       "version_major": 2,
       "version_minor": 0
      },
      "text/plain": [
       "  0%|          | 0/3533 [00:00<?, ?it/s]"
      ]
     },
     "metadata": {},
     "output_type": "display_data"
    },
    {
     "data": {
      "application/vnd.jupyter.widget-view+json": {
       "model_id": "e6395d7b4d164c9cad2bb232dbec2ada",
       "version_major": 2,
       "version_minor": 0
      },
      "text/plain": [
       "  0%|          | 0/3533 [00:00<?, ?it/s]"
      ]
     },
     "metadata": {},
     "output_type": "display_data"
    },
    {
     "data": {
      "application/vnd.jupyter.widget-view+json": {
       "model_id": "fb05f405323c49e5a77c5551469a1690",
       "version_major": 2,
       "version_minor": 0
      },
      "text/plain": [
       "  0%|          | 0/3533 [00:00<?, ?it/s]"
      ]
     },
     "metadata": {},
     "output_type": "display_data"
    },
    {
     "data": {
      "application/vnd.jupyter.widget-view+json": {
       "model_id": "2e68fbcd47454fa99a786b6bba33329b",
       "version_major": 2,
       "version_minor": 0
      },
      "text/plain": [
       "  0%|          | 0/3533 [00:00<?, ?it/s]"
      ]
     },
     "metadata": {},
     "output_type": "display_data"
    },
    {
     "data": {
      "application/vnd.jupyter.widget-view+json": {
       "model_id": "84a0fa1e96954c479fc058eb0932316f",
       "version_major": 2,
       "version_minor": 0
      },
      "text/plain": [
       "  0%|          | 0/3533 [00:00<?, ?it/s]"
      ]
     },
     "metadata": {},
     "output_type": "display_data"
    },
    {
     "data": {
      "application/vnd.jupyter.widget-view+json": {
       "model_id": "57322644eae349ea9724e5d45371da9f",
       "version_major": 2,
       "version_minor": 0
      },
      "text/plain": [
       "  0%|          | 0/3533 [00:00<?, ?it/s]"
      ]
     },
     "metadata": {},
     "output_type": "display_data"
    },
    {
     "data": {
      "application/vnd.jupyter.widget-view+json": {
       "model_id": "e03938f0b78640a39f2ce6842107d85f",
       "version_major": 2,
       "version_minor": 0
      },
      "text/plain": [
       "  0%|          | 0/3533 [00:00<?, ?it/s]"
      ]
     },
     "metadata": {},
     "output_type": "display_data"
    },
    {
     "data": {
      "application/vnd.jupyter.widget-view+json": {
       "model_id": "a061a9f6a8a54adbaa8bfb594cbf3d0c",
       "version_major": 2,
       "version_minor": 0
      },
      "text/plain": [
       "  0%|          | 0/3533 [00:00<?, ?it/s]"
      ]
     },
     "metadata": {},
     "output_type": "display_data"
    },
    {
     "data": {
      "application/vnd.jupyter.widget-view+json": {
       "model_id": "9b5a0693b69b4da3a649a94a8e08ba20",
       "version_major": 2,
       "version_minor": 0
      },
      "text/plain": [
       "  0%|          | 0/3533 [00:00<?, ?it/s]"
      ]
     },
     "metadata": {},
     "output_type": "display_data"
    },
    {
     "data": {
      "application/vnd.jupyter.widget-view+json": {
       "model_id": "a22c2c8c25c44a5c9edc794b3e534d3c",
       "version_major": 2,
       "version_minor": 0
      },
      "text/plain": [
       "  0%|          | 0/3533 [00:00<?, ?it/s]"
      ]
     },
     "metadata": {},
     "output_type": "display_data"
    },
    {
     "data": {
      "application/vnd.jupyter.widget-view+json": {
       "model_id": "cbb6662228b844beaac98829f3888b02",
       "version_major": 2,
       "version_minor": 0
      },
      "text/plain": [
       "  0%|          | 0/3533 [00:00<?, ?it/s]"
      ]
     },
     "metadata": {},
     "output_type": "display_data"
    },
    {
     "data": {
      "application/vnd.jupyter.widget-view+json": {
       "model_id": "df9609b234b6462aab348b0aae7da944",
       "version_major": 2,
       "version_minor": 0
      },
      "text/plain": [
       "  0%|          | 0/3533 [00:00<?, ?it/s]"
      ]
     },
     "metadata": {},
     "output_type": "display_data"
    },
    {
     "data": {
      "application/vnd.jupyter.widget-view+json": {
       "model_id": "d4dca99bac404b21a6976e1e4c64713a",
       "version_major": 2,
       "version_minor": 0
      },
      "text/plain": [
       "  0%|          | 0/3533 [00:00<?, ?it/s]"
      ]
     },
     "metadata": {},
     "output_type": "display_data"
    },
    {
     "data": {
      "application/vnd.jupyter.widget-view+json": {
       "model_id": "1137cf8aa5204e7d925a3c4aeedd4832",
       "version_major": 2,
       "version_minor": 0
      },
      "text/plain": [
       "  0%|          | 0/3533 [00:00<?, ?it/s]"
      ]
     },
     "metadata": {},
     "output_type": "display_data"
    },
    {
     "data": {
      "application/vnd.jupyter.widget-view+json": {
       "model_id": "484f7ccb61704db5b9d7595542cb906d",
       "version_major": 2,
       "version_minor": 0
      },
      "text/plain": [
       "  0%|          | 0/3533 [00:00<?, ?it/s]"
      ]
     },
     "metadata": {},
     "output_type": "display_data"
    },
    {
     "data": {
      "application/vnd.jupyter.widget-view+json": {
       "model_id": "a33007b6a7a24b31a4c6a86cd21d1307",
       "version_major": 2,
       "version_minor": 0
      },
      "text/plain": [
       "  0%|          | 0/3533 [00:00<?, ?it/s]"
      ]
     },
     "metadata": {},
     "output_type": "display_data"
    },
    {
     "data": {
      "application/vnd.jupyter.widget-view+json": {
       "model_id": "5a08f4236c054d0d8a12e8a81ffc9371",
       "version_major": 2,
       "version_minor": 0
      },
      "text/plain": [
       "  0%|          | 0/3533 [00:00<?, ?it/s]"
      ]
     },
     "metadata": {},
     "output_type": "display_data"
    },
    {
     "data": {
      "application/vnd.jupyter.widget-view+json": {
       "model_id": "1a0321fcfe9b4962807c300720e16c7d",
       "version_major": 2,
       "version_minor": 0
      },
      "text/plain": [
       "  0%|          | 0/3533 [00:00<?, ?it/s]"
      ]
     },
     "metadata": {},
     "output_type": "display_data"
    },
    {
     "data": {
      "application/vnd.jupyter.widget-view+json": {
       "model_id": "d233953c2f8e43a2ba3652e2b9b0bddd",
       "version_major": 2,
       "version_minor": 0
      },
      "text/plain": [
       "  0%|          | 0/3533 [00:00<?, ?it/s]"
      ]
     },
     "metadata": {},
     "output_type": "display_data"
    }
   ],
   "source": [
    "from sklearn.utils import resample\n",
    "import pandas as pd\n",
    "import numpy as np\n",
    "from tqdm.notebook import tqdm\n",
    "\n",
    "N = 140\n",
    "t = len(nltk.sent_tokenize(sample_doc))\n",
    "df = pd.DataFrame(columns=microframes)\n",
    "\n",
    "for i in tqdm(range(N)):\n",
    "    s = ' '.join(resample(T, replace=True, n_samples=t))\n",
    "    biases = bias(s, frame=microframes)\n",
    "        \n",
    "    df.loc[i] = biases\n",
    "\n",
    "import pickle\n",
    "pickle.dump( df, open( \"Download/sample_biases_df2.pickle\", \"wb\" ) )"
   ]
  },
  {
   "cell_type": "code",
   "execution_count": 54,
   "metadata": {},
   "outputs": [],
   "source": [
    "sample_biases_df = pickle.load(open('Download/sample_biases_df2.pickle', 'rb'))"
   ]
  },
  {
   "cell_type": "code",
   "execution_count": 56,
   "metadata": {},
   "outputs": [
    {
     "data": {
      "application/vnd.jupyter.widget-view+json": {
       "model_id": "606f24a13c0f4787a546aa8285a0447e",
       "version_major": 2,
       "version_minor": 0
      },
      "text/plain": [
       "  0%|          | 0/3533 [00:00<?, ?it/s]"
      ]
     },
     "metadata": {},
     "output_type": "display_data"
    }
   ],
   "source": [
    "sample_bias = bias(sample_doc, frame=microframes)"
   ]
  },
  {
   "cell_type": "code",
   "execution_count": 57,
   "metadata": {},
   "outputs": [],
   "source": [
    "sample_boot_bias = sample_biases_df.mean(axis=0).to_numpy()"
   ]
  },
  {
   "cell_type": "code",
   "execution_count": 70,
   "metadata": {},
   "outputs": [],
   "source": [
    "from operator import itemgetter\n",
    "rank = itemgetter(*np.argsort(-np.absolute(sample_bias - sample_boot_bias)))(list(microframes))"
   ]
  },
  {
   "cell_type": "code",
   "execution_count": 76,
   "metadata": {},
   "outputs": [
    {
     "data": {
      "text/plain": [
       "(('nonreturnable', 'returnable'),\n",
       " ('returnable', 'nonreturnable'),\n",
       " ('free', 'unfree'),\n",
       " ('unfree', 'free'))"
      ]
     },
     "execution_count": 76,
     "metadata": {},
     "output_type": "execute_result"
    }
   ],
   "source": [
    "rank[:4]"
   ]
  },
  {
   "cell_type": "code",
   "execution_count": 81,
   "metadata": {},
   "outputs": [
    {
     "data": {
      "text/plain": [
       "('abc', 'eed')"
      ]
     },
     "execution_count": 81,
     "metadata": {},
     "output_type": "execute_result"
    }
   ],
   "source": [
    "tuple(sorted(('eed','abc')))"
   ]
  },
  {
   "cell_type": "code",
   "execution_count": 89,
   "metadata": {},
   "outputs": [],
   "source": [
    "new_rank = []\n",
    "for ant1, ant2 in rank:\n",
    "    new_rank.append(tuple(sorted((ant1,ant2))))"
   ]
  },
  {
   "cell_type": "code",
   "execution_count": 90,
   "metadata": {},
   "outputs": [
    {
     "data": {
      "text/plain": [
       "3533"
      ]
     },
     "execution_count": 90,
     "metadata": {},
     "output_type": "execute_result"
    }
   ],
   "source": [
    "len(new_rank)"
   ]
  },
  {
   "cell_type": "code",
   "execution_count": 91,
   "metadata": {},
   "outputs": [
    {
     "data": {
      "text/plain": [
       "3533"
      ]
     },
     "execution_count": 91,
     "metadata": {},
     "output_type": "execute_result"
    }
   ],
   "source": [
    "len(rank)"
   ]
  },
  {
   "cell_type": "code",
   "execution_count": 93,
   "metadata": {},
   "outputs": [],
   "source": [
    "new_rank = list(dict.fromkeys(new_rank))"
   ]
  },
  {
   "cell_type": "code",
   "execution_count": 94,
   "metadata": {},
   "outputs": [
    {
     "data": {
      "text/plain": [
       "[('nonreturnable', 'returnable'),\n",
       " ('free', 'unfree'),\n",
       " ('like', 'unlike'),\n",
       " ('natural', 'supernatural'),\n",
       " ('costive', 'laxative'),\n",
       " ('faithful', 'unfaithful'),\n",
       " ('perinatal', 'prenatal'),\n",
       " ('real', 'unreal'),\n",
       " ('heterocercal', 'homocercal'),\n",
       " ('perinatal', 'postnatal')]"
      ]
     },
     "execution_count": 94,
     "metadata": {},
     "output_type": "execute_result"
    }
   ],
   "source": [
    "new_rank[:10]"
   ]
  },
  {
   "cell_type": "code",
   "execution_count": 95,
   "metadata": {},
   "outputs": [
    {
     "data": {
      "text/plain": [
       "[('columned', 'noncolumned'),\n",
       " ('friendly', 'hostile'),\n",
       " ('tracked', 'trackless'),\n",
       " ('impersonal', 'personal'),\n",
       " ('cacophonous', 'euphonious'),\n",
       " ('musical', 'unmusical'),\n",
       " ('industrial', 'nonindustrial'),\n",
       " ('absorbent', 'nonabsorbent'),\n",
       " ('integrated', 'nonintegrated'),\n",
       " ('ignoble', 'noble')]"
      ]
     },
     "execution_count": 95,
     "metadata": {},
     "output_type": "execute_result"
    }
   ],
   "source": [
    "new_rank[-10:]"
   ]
  },
  {
   "cell_type": "code",
   "execution_count": null,
   "metadata": {},
   "outputs": [],
   "source": []
  }
 ],
 "metadata": {
  "kernelspec": {
   "display_name": "creepy-venv",
   "language": "python",
   "name": "creepy-venv"
  },
  "language_info": {
   "codemirror_mode": {
    "name": "ipython",
    "version": 3
   },
   "file_extension": ".py",
   "mimetype": "text/x-python",
   "name": "python",
   "nbconvert_exporter": "python",
   "pygments_lexer": "ipython3",
   "version": "3.8.5"
  }
 },
 "nbformat": 4,
 "nbformat_minor": 4
}
