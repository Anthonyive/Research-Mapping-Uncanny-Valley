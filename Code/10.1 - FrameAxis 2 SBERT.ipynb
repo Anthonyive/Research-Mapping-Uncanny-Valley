{
 "cells": [
  {
   "cell_type": "code",
   "execution_count": 1,
   "metadata": {},
   "outputs": [
    {
     "name": "stdout",
     "output_type": "stream",
     "text": [
      "Num GPUs Available:  1\n"
     ]
    }
   ],
   "source": [
    "import tensorflow as tf\n",
    "physical_devices = tf.config.list_physical_devices('GPU')\n",
    "tf.config.experimental.set_memory_growth(physical_devices[0], enable=True)\n",
    "print(\"Num GPUs Available: \", len(physical_devices))"
   ]
  },
  {
   "cell_type": "code",
   "execution_count": 2,
   "metadata": {},
   "outputs": [],
   "source": [
    "import pickle\n",
    "with open('./Download/data_cleaned.pickle', 'rb') as handle:\n",
    "    data_cleaned = pickle.load(handle)"
   ]
  },
  {
   "cell_type": "markdown",
   "metadata": {},
   "source": [
    "# 1. Building a Set of Microframes"
   ]
  },
  {
   "cell_type": "code",
   "execution_count": 3,
   "metadata": {},
   "outputs": [
    {
     "name": "stderr",
     "output_type": "stream",
     "text": [
      "[nltk_data] Downloading package wordnet to /home/anthony/nltk_data...\n",
      "[nltk_data]   Package wordnet is already up-to-date!\n",
      "[nltk_data] Downloading package punkt to /home/anthony/nltk_data...\n",
      "[nltk_data]   Package punkt is already up-to-date!\n"
     ]
    },
    {
     "data": {
      "text/plain": [
       "True"
      ]
     },
     "execution_count": 3,
     "metadata": {},
     "output_type": "execute_result"
    }
   ],
   "source": [
    "import nltk\n",
    "from nltk.corpus import wordnet as wn\n",
    "nltk.download('wordnet')\n",
    "nltk.download('punkt')"
   ]
  },
  {
   "cell_type": "markdown",
   "metadata": {},
   "source": [
    "### Show all antonyms in WordNet:"
   ]
  },
  {
   "cell_type": "code",
   "execution_count": 4,
   "metadata": {},
   "outputs": [],
   "source": [
    "from nltk.corpus import wordnet as wn\n",
    "\n",
    "def antonyms_for(word):\n",
    "    antonyms = set()\n",
    "    for ss in wn.synsets(word):\n",
    "        for lemma in ss.lemmas():\n",
    "            any_pos_antonyms = [ antonym.name() for antonym in lemma.antonyms() ]\n",
    "            for antonym in any_pos_antonyms:\n",
    "                antonym_synsets = wn.synsets(antonym)\n",
    "                if wn.ADJ not in [ ss.pos() for ss in antonym_synsets ]:\n",
    "                    continue\n",
    "                antonyms.add(antonym)\n",
    "    return antonyms"
   ]
  },
  {
   "cell_type": "code",
   "execution_count": 5,
   "metadata": {},
   "outputs": [],
   "source": [
    "from nltk.corpus import wordnet as wn\n",
    "\n",
    "wn_all_antonyms = set()\n",
    "\n",
    "for i in wn.all_synsets():\n",
    "    if i.pos() in ['a', 's']: # If synset is adj or satelite-adj.\n",
    "        for j in i.lemmas(): # Iterating through lemmas for each synset.\n",
    "            if j.antonyms(): # If adj has antonym.\n",
    "                # Prints the adj-antonym pair.\n",
    "                wn_all_antonyms.add((j.name(), j.antonyms()[0].name()))"
   ]
  },
  {
   "cell_type": "code",
   "execution_count": 6,
   "metadata": {},
   "outputs": [
    {
     "data": {
      "text/plain": [
       "3531"
      ]
     },
     "execution_count": 6,
     "metadata": {},
     "output_type": "execute_result"
    }
   ],
   "source": [
    "len(wn_all_antonyms)"
   ]
  },
  {
   "cell_type": "code",
   "execution_count": null,
   "metadata": {},
   "outputs": [],
   "source": []
  },
  {
   "cell_type": "markdown",
   "metadata": {},
   "source": [
    "### Import pretrained embeddings"
   ]
  },
  {
   "cell_type": "markdown",
   "metadata": {},
   "source": [
    "### **Options**\n",
    "\n",
    "`CLASStorchtext.vocab.GloVe(name='840B', dim=300, **kwargs)`\n",
    "\n",
    "`CLASStorchtext.vocab.FastText(language='en', **kwargs)`\n",
    "\n",
    "`CLASStorchtext.vocab.CharNGram(**kwargs)`"
   ]
  },
  {
   "cell_type": "code",
   "execution_count": 7,
   "metadata": {},
   "outputs": [],
   "source": [
    "from sentence_transformers import SentenceTransformer\n",
    "import numpy as np"
   ]
  },
  {
   "cell_type": "code",
   "execution_count": 8,
   "metadata": {},
   "outputs": [],
   "source": [
    "sbert = SentenceTransformer('distilbert-base-nli-stsb-mean-tokens')"
   ]
  },
  {
   "cell_type": "code",
   "execution_count": 9,
   "metadata": {},
   "outputs": [],
   "source": [
    "import spacy\n",
    "nlp = spacy.load('en_core_web_lg')"
   ]
  },
  {
   "cell_type": "code",
   "execution_count": 10,
   "metadata": {},
   "outputs": [],
   "source": [
    "from nltk.corpus import wordnet as wn\n",
    "\n",
    "wn_all_antonyms_words = set()\n",
    "\n",
    "for ant_pair in wn_all_antonyms:\n",
    "    wn_all_antonyms_words = set(tuple(wn_all_antonyms_words) + ant_pair)"
   ]
  },
  {
   "cell_type": "code",
   "execution_count": 11,
   "metadata": {},
   "outputs": [
    {
     "data": {
      "text/plain": [
       "3531"
      ]
     },
     "execution_count": 11,
     "metadata": {},
     "output_type": "execute_result"
    }
   ],
   "source": [
    "len(wn_all_antonyms)"
   ]
  },
  {
   "cell_type": "code",
   "execution_count": 12,
   "metadata": {},
   "outputs": [
    {
     "data": {
      "text/plain": [
       "{('uninteresting', 'interesting'),\n",
       " ('immortal', 'mortal'),\n",
       " ('noisy', 'quiet'),\n",
       " ('staged', 'unstaged'),\n",
       " ('adducent', 'abducent'),\n",
       " ('wheelless', 'wheeled'),\n",
       " ('atonic', 'tonic'),\n",
       " ('unarmed', 'armed'),\n",
       " ('unconvincing', 'convincing'),\n",
       " ('intensive', 'extensive'),\n",
       " ('emotional', 'cerebral'),\n",
       " ('unconvinced', 'convinced'),\n",
       " ('irreligious', 'religious'),\n",
       " ('downstage', 'upstage'),\n",
       " ('ahistorical', 'historical'),\n",
       " ('greater', 'lesser'),\n",
       " ('listed', 'unlisted'),\n",
       " ('leading', 'following'),\n",
       " ('anterior', 'posterior'),\n",
       " ('disingenuous', 'ingenuous'),\n",
       " ('unrhymed', 'rhymed'),\n",
       " ('bright', 'dull'),\n",
       " ('awkward', 'graceful'),\n",
       " ('native', 'foreign'),\n",
       " ('written', 'spoken'),\n",
       " ('irreconcilable', 'reconcilable'),\n",
       " ('nondeductible', 'deductible'),\n",
       " ('relative', 'absolute'),\n",
       " ('piano', 'forte'),\n",
       " ('exclusive', 'inclusive'),\n",
       " ('untalented', 'talented'),\n",
       " ('germy', 'germfree'),\n",
       " ('unoriginal', 'original'),\n",
       " ('monolingual', 'multilingual'),\n",
       " ('nonarbitrable', 'arbitrable'),\n",
       " ('patterned', 'plain'),\n",
       " ('monogamous', 'polygamous'),\n",
       " ('full', 'empty'),\n",
       " ('local', 'national'),\n",
       " ('reproducible', 'unreproducible'),\n",
       " ('repulsive', 'attractive'),\n",
       " ('obligate', 'facultative'),\n",
       " ('lipped', 'lipless'),\n",
       " ('fatty', 'nonfat'),\n",
       " ('interdepartmental', 'intradepartmental'),\n",
       " ('unregenerate', 'regenerate'),\n",
       " ('colored', 'uncolored'),\n",
       " ('sensible', 'insensible'),\n",
       " ('unexcitable', 'excitable'),\n",
       " ('sexual', 'asexual'),\n",
       " ('regulated', 'unregulated'),\n",
       " ('unsuspected', 'suspected'),\n",
       " ('sold', 'unsold'),\n",
       " ('tangled', 'untangled'),\n",
       " ('inglorious', 'glorious'),\n",
       " ('influential', 'uninfluential'),\n",
       " ('unexpired', 'expired'),\n",
       " ('arranged', 'disarranged'),\n",
       " ('interesting', 'uninteresting'),\n",
       " ('starry', 'starless'),\n",
       " ('lax', 'tense'),\n",
       " ('collapsible', 'noncollapsible'),\n",
       " ('unencumbered', 'encumbered'),\n",
       " ('unacceptable', 'acceptable'),\n",
       " ('nonintellectual', 'intellectual'),\n",
       " ('legged', 'legless'),\n",
       " ('coordinating', 'subordinating'),\n",
       " ('maxi', 'mini'),\n",
       " ('hydrostatic', 'hydrokinetic'),\n",
       " ('infelicitous', 'felicitous'),\n",
       " ('inspiring', 'uninspiring'),\n",
       " ('unrhythmical', 'rhythmical'),\n",
       " ('straight', 'crooked'),\n",
       " ('premature', 'full-term'),\n",
       " ('untucked', 'tucked'),\n",
       " ('half', 'whole'),\n",
       " ('anastigmatic', 'astigmatic'),\n",
       " ('inculpatory', 'exculpatory'),\n",
       " ('made', 'unmade'),\n",
       " ('unoriented', 'oriented'),\n",
       " ('anticlimactic', 'climactic'),\n",
       " ('ipsilateral', 'contralateral'),\n",
       " ('unreconstructed', 'reconstructed'),\n",
       " ('ectomorphic', 'endomorphic'),\n",
       " ('impenitent', 'penitent'),\n",
       " ('unenlightening', 'enlightening'),\n",
       " ('thin', 'thick'),\n",
       " ('stingy', 'generous'),\n",
       " ('unfree', 'free'),\n",
       " ('aground', 'afloat'),\n",
       " ('advisable', 'inadvisable'),\n",
       " ('precocial', 'altricial'),\n",
       " ('anonymous', 'onymous'),\n",
       " ('pedunculate', 'sessile'),\n",
       " ('undomestic', 'domestic'),\n",
       " ('adequate', 'inadequate'),\n",
       " ('loud', 'soft'),\n",
       " ('basiscopic', 'acroscopic'),\n",
       " ('immeasurable', 'measurable'),\n",
       " ('unsaddled', 'saddled'),\n",
       " ('ostentatious', 'unostentatious'),\n",
       " ('carved', 'uncarved'),\n",
       " ('eccentric', 'concentric'),\n",
       " ('eukaryotic', 'prokaryotic'),\n",
       " ('odorous', 'odorless'),\n",
       " ('fertile', 'sterile'),\n",
       " ('unambiguous', 'ambiguous'),\n",
       " ('representative', 'nonrepresentative'),\n",
       " ('scientific', 'unscientific'),\n",
       " ('opaque', 'clear'),\n",
       " ('sufficient', 'insufficient'),\n",
       " ('sociable', 'unsociable'),\n",
       " ('carpeted', 'uncarpeted'),\n",
       " ('wary', 'unwary'),\n",
       " ('enfranchised', 'disenfranchised'),\n",
       " ('spinous', 'spineless'),\n",
       " ('subjacent', 'superjacent'),\n",
       " ('cenogenetic', 'palingenetic'),\n",
       " ('sinistral', 'dextral'),\n",
       " ('oleophilic', 'oleophobic'),\n",
       " ('analogous', 'homologous'),\n",
       " ('nonechoic', 'echoic'),\n",
       " ('re-entrant', 'salient'),\n",
       " ('unwholesome', 'wholesome'),\n",
       " ('inelastic', 'elastic'),\n",
       " ('covert', 'overt'),\n",
       " ('west', 'east'),\n",
       " ('downstream', 'upstream'),\n",
       " ('sworn', 'unsworn'),\n",
       " ('unconfirmed', 'confirmed'),\n",
       " ('homozygous', 'heterozygous'),\n",
       " ('taciturn', 'voluble'),\n",
       " ('untanned', 'tanned'),\n",
       " ('frail', 'robust'),\n",
       " ('exoteric', 'esoteric'),\n",
       " ('unaccommodating', 'accommodating'),\n",
       " ('coated', 'uncoated'),\n",
       " ('nonionized', 'ionized'),\n",
       " ('thermal', 'nonthermal'),\n",
       " ('lean', 'rich'),\n",
       " ('curtainless', 'curtained'),\n",
       " ('off-street', 'on-street'),\n",
       " ('uninfluential', 'influential'),\n",
       " ('sinkable', 'unsinkable'),\n",
       " ('thrifty', 'wasteful'),\n",
       " ('bloody', 'bloodless'),\n",
       " ('adsorbable', 'absorbable'),\n",
       " ('swept', 'unswept'),\n",
       " ('noninheritable', 'inheritable'),\n",
       " ('exhaustible', 'inexhaustible'),\n",
       " ('unborn', 'born'),\n",
       " ('ionized', 'nonionized'),\n",
       " ('undemonstrative', 'demonstrative'),\n",
       " ('intestate', 'testate'),\n",
       " ('anatropous', 'amphitropous'),\n",
       " ('bare', 'covered'),\n",
       " ('loose', 'compact'),\n",
       " ('processed', 'unprocessed'),\n",
       " ('unwooded', 'wooded'),\n",
       " ('subartesian', 'artesian'),\n",
       " ('inner', 'outer'),\n",
       " ('quadrupedal', 'bipedal'),\n",
       " ('unprincipled', 'principled'),\n",
       " ('impermeable', 'permeable'),\n",
       " ('subsequent', 'antecedent'),\n",
       " ('outboard', 'inboard'),\n",
       " ('unrepentant', 'repentant'),\n",
       " ('unoffending', 'offending'),\n",
       " ('international', 'national'),\n",
       " ('authorized', 'unauthorized'),\n",
       " ('whole', 'half'),\n",
       " ('unforgiving', 'forgiving'),\n",
       " ('upstage', 'downstage'),\n",
       " ('discourteous', 'courteous'),\n",
       " ('carpellate', 'acarpelous'),\n",
       " ('good-natured', 'ill-natured'),\n",
       " ('crossed', 'uncrossed'),\n",
       " ('unprofitable', 'profitable'),\n",
       " ('front', 'back'),\n",
       " ('federal', 'unitary'),\n",
       " ('south', 'north'),\n",
       " ('uncoated', 'coated'),\n",
       " ('maximal', 'minimal'),\n",
       " ('carnivorous', 'herbivorous'),\n",
       " ('domineering', 'submissive'),\n",
       " ('roofed', 'roofless'),\n",
       " ('straight', 'curly'),\n",
       " ('unexportable', 'exportable'),\n",
       " ('hierarchical', 'nonhierarchical'),\n",
       " ('insignificant', 'significant'),\n",
       " ('heterologous', 'autologous'),\n",
       " ('untraceable', 'traceable'),\n",
       " ('fast', 'slow'),\n",
       " ('placental', 'aplacental'),\n",
       " ('finite', 'infinite'),\n",
       " ('ungenerous', 'generous'),\n",
       " ('wrong', 'right'),\n",
       " ('sane', 'insane'),\n",
       " ('unconcealed', 'concealed'),\n",
       " ('nonfunctional', 'functional'),\n",
       " ('live', 'dead'),\n",
       " ('regretful', 'unregretful'),\n",
       " ('cross-eyed', 'walleyed'),\n",
       " ('unswept', 'swept'),\n",
       " ('annual', 'biennial'),\n",
       " ('permeable', 'impermeable'),\n",
       " ('tidy', 'untidy'),\n",
       " ('good', 'evil'),\n",
       " ('mined', 'unmined'),\n",
       " ('agreeable', 'disagreeable'),\n",
       " ('untrustworthy', 'trustworthy'),\n",
       " ('altruistic', 'egoistic'),\n",
       " ('exploited', 'unexploited'),\n",
       " ('low-rise', 'high-rise'),\n",
       " ('livable', 'unlivable'),\n",
       " ('decreased', 'increased'),\n",
       " ('lowercase', 'uppercase'),\n",
       " ('hateful', 'lovable'),\n",
       " ('backward', 'forward'),\n",
       " ('interstate', 'intrastate'),\n",
       " ('savory', 'unsavory'),\n",
       " ('penitent', 'impenitent'),\n",
       " ('purposeful', 'purposeless'),\n",
       " ('high-rise', 'low-rise'),\n",
       " ('inclined', 'disinclined'),\n",
       " ('insured', 'uninsured'),\n",
       " ('unneurotic', 'neurotic'),\n",
       " ('actable', 'unactable'),\n",
       " ('usual', 'unusual'),\n",
       " ('impolitic', 'politic'),\n",
       " ('inadvisable', 'advisable'),\n",
       " ('unpronounceable', 'pronounceable'),\n",
       " ('adsorbent', 'nonadsorbent'),\n",
       " ('restrictive', 'unrestrictive'),\n",
       " ('extant', 'extinct'),\n",
       " ('scholarly', 'unscholarly'),\n",
       " ('exterior', 'interior'),\n",
       " ('one-piece', 'two-piece'),\n",
       " ('nonrandom', 'random'),\n",
       " ('inflected', 'uninflected'),\n",
       " ('stupid', 'smart'),\n",
       " ('upmarket', 'downmarket'),\n",
       " ('unreserved', 'reserved'),\n",
       " ('unmown', 'mown'),\n",
       " ('incommutable', 'commutable'),\n",
       " ('unrestricted', 'restricted'),\n",
       " ('toneless', 'toned'),\n",
       " ('noncritical', 'critical'),\n",
       " ('untrimmed', 'trimmed'),\n",
       " ('cooked', 'raw'),\n",
       " ('aboral', 'oral'),\n",
       " ('nonslippery', 'slippery'),\n",
       " ('calcicolous', 'calcifugous'),\n",
       " ('attachable', 'detachable'),\n",
       " ('multinucleate', 'uninucleate'),\n",
       " ('disreputable', 'reputable'),\n",
       " ('appointive', 'elective'),\n",
       " ('poor', 'rich'),\n",
       " ('contested', 'uncontested'),\n",
       " ('replaceable', 'irreplaceable'),\n",
       " ('sorrowful', 'joyful'),\n",
       " ('congruent', 'incongruent'),\n",
       " ('unreassuring', 'reassuring'),\n",
       " ('mediate', 'immediate'),\n",
       " ('sincere', 'insincere'),\n",
       " ('conciliatory', 'antagonistic'),\n",
       " ('unfixed', 'fixed'),\n",
       " ('inoperative', 'operative'),\n",
       " ('silenced', 'unsilenced'),\n",
       " ('statesmanlike', 'unstatesmanlike'),\n",
       " ('open', 'closed'),\n",
       " ('cultivated', 'uncultivated'),\n",
       " ('unappetizing', 'appetizing'),\n",
       " ('incalculable', 'calculable'),\n",
       " ('uncommon', 'common'),\n",
       " ('hydrokinetic', 'hydrostatic'),\n",
       " ('gaseous', 'solid'),\n",
       " ('orderly', 'disorderly'),\n",
       " ('chondritic', 'achondritic'),\n",
       " ('portable', 'unportable'),\n",
       " ('attributable', 'unattributable'),\n",
       " ('concise', 'prolix'),\n",
       " ('feminine', 'neuter'),\n",
       " ('extinguishable', 'inextinguishable'),\n",
       " ('insensible', 'sensible'),\n",
       " ('distinguishable', 'indistinguishable'),\n",
       " ('fathomable', 'unfathomable'),\n",
       " ('medical', 'surgical'),\n",
       " ('witting', 'unwitting'),\n",
       " ('unbreakable', 'breakable'),\n",
       " ('topless', 'topped'),\n",
       " ('nonreturnable', 'returnable'),\n",
       " ('rusted', 'rustless'),\n",
       " ('combed', 'uncombed'),\n",
       " ('elated', 'dejected'),\n",
       " ('well-defined', 'ill-defined'),\n",
       " ('nonlinguistic', 'linguistic'),\n",
       " ('undetermined', 'determined'),\n",
       " ('sweet', 'sour'),\n",
       " ('dextral', 'sinistral'),\n",
       " ('standing', 'seated'),\n",
       " ('planted', 'unplanted'),\n",
       " ('bottom-up', 'top-down'),\n",
       " ('informal', 'formal'),\n",
       " ('occupied', 'unoccupied'),\n",
       " ('inanimate', 'animate'),\n",
       " ('incomplete', 'complete'),\n",
       " ('cholinergic', 'anticholinergic'),\n",
       " ('metallic', 'nonmetallic'),\n",
       " ('orienting', 'disorienting'),\n",
       " ('nonpasserine', 'passerine'),\n",
       " ('superjacent', 'subjacent'),\n",
       " ('ungulate', 'unguiculate'),\n",
       " ('gusseted', 'ungusseted'),\n",
       " ('violable', 'inviolable'),\n",
       " ('cathodic', 'anodic'),\n",
       " ('nontoxic', 'toxic'),\n",
       " ('diurnal', 'nocturnal'),\n",
       " ('breasted', 'breastless'),\n",
       " ('binucleate', 'trinucleate'),\n",
       " ('inductive', 'deductive'),\n",
       " ('civil', 'uncivil'),\n",
       " ('bold', 'timid'),\n",
       " ('defined', 'undefined'),\n",
       " ('unsheathed', 'sheathed'),\n",
       " ('low', 'high'),\n",
       " ('unprintable', 'printable'),\n",
       " ('inaugural', 'exaugural'),\n",
       " ('uninhabited', 'inhabited'),\n",
       " ('proper', 'improper'),\n",
       " ('artesian', 'subartesian'),\n",
       " ('commutable', 'incommutable'),\n",
       " ('unaware', 'aware'),\n",
       " ('crystallized', 'uncrystallized'),\n",
       " ('enlivened', 'unenlivened'),\n",
       " ('scented', 'scentless'),\n",
       " ('nonreversible', 'reversible'),\n",
       " ('unfastened', 'fastened'),\n",
       " ('tractable', 'intractable'),\n",
       " ('invulnerable', 'vulnerable'),\n",
       " ('significant', 'nonsignificant'),\n",
       " ('supported', 'unsupported'),\n",
       " ('restricted', 'unrestricted'),\n",
       " ('sent', 'unsent'),\n",
       " ('neckless', 'necked'),\n",
       " ('declaratory', 'interrogatory'),\n",
       " ('unthinkable', 'thinkable'),\n",
       " ('figurative', 'literal'),\n",
       " ('passionless', 'passionate'),\n",
       " ('unvaried', 'varied'),\n",
       " ('incautious', 'cautious'),\n",
       " ('intransitive', 'transitive'),\n",
       " ('pronounceable', 'unpronounceable'),\n",
       " ('unstoppable', 'stoppable'),\n",
       " ('gluttonous', 'abstemious'),\n",
       " ('discerning', 'undiscerning'),\n",
       " ('solid', 'liquid'),\n",
       " ('unassisted', 'assisted'),\n",
       " ('platyrrhine', 'catarrhine'),\n",
       " ('unostentatious', 'ostentatious'),\n",
       " ('gloveless', 'gloved'),\n",
       " ('full', 'thin'),\n",
       " ('terrestrial', 'amphibious'),\n",
       " ('compact', 'loose'),\n",
       " ('unmanly', 'manly'),\n",
       " ('equitable', 'inequitable'),\n",
       " ('bettering', 'worsening'),\n",
       " ('unsensational', 'sensational'),\n",
       " ('germfree', 'germy'),\n",
       " ('antecedent', 'subsequent'),\n",
       " ('contralateral', 'ipsilateral'),\n",
       " ('tearful', 'tearless'),\n",
       " ('insectivorous', 'carnivorous'),\n",
       " ('vocalic', 'consonantal'),\n",
       " ('misused', 'used'),\n",
       " ('ill', 'well'),\n",
       " ('unpermissive', 'permissive'),\n",
       " ('undatable', 'datable'),\n",
       " ('concave', 'convex'),\n",
       " ('impressive', 'unimpressive'),\n",
       " ('indecent', 'decent'),\n",
       " ('acrocarpous', 'pleurocarpous'),\n",
       " ('noble', 'ignoble'),\n",
       " ('perinatal', 'postnatal'),\n",
       " ('critical', 'noncritical'),\n",
       " ('dominant', 'subordinate'),\n",
       " ('peripteral', 'apteral'),\n",
       " ('white', 'black'),\n",
       " ('clean', 'unclean'),\n",
       " ('malign', 'benign'),\n",
       " ('esoteric', 'exoteric'),\n",
       " ('no-go', 'go'),\n",
       " ('alkaline', 'amphoteric'),\n",
       " ('honorable', 'dishonorable'),\n",
       " ('deductive', 'inductive'),\n",
       " ('accessible', 'inaccessible'),\n",
       " ('leafless', 'leafy'),\n",
       " ('surmountable', 'insurmountable'),\n",
       " ('unweaned', 'weaned'),\n",
       " ('unpotted', 'potted'),\n",
       " ('unrentable', 'rentable'),\n",
       " ('prospective', 'retrospective'),\n",
       " ('considerate', 'inconsiderate'),\n",
       " ('wieldy', 'unwieldy'),\n",
       " ('aware', 'unaware'),\n",
       " ('unaffixed', 'affixed'),\n",
       " ('unconquerable', 'conquerable'),\n",
       " ('useless', 'useful'),\n",
       " ('isometric', 'isotonic'),\n",
       " ('infrequent', 'frequent'),\n",
       " ('abused', 'unabused'),\n",
       " ('heedless', 'heedful'),\n",
       " ('unsinkable', 'sinkable'),\n",
       " ('solid', 'hollow'),\n",
       " ('anadromous', 'catadromous'),\n",
       " ('direct', 'inverse'),\n",
       " ('inadequate', 'adequate'),\n",
       " ('geographic', 'magnetic'),\n",
       " ('active', 'inactive'),\n",
       " ('bibbed', 'bibless'),\n",
       " ('unleavened', 'leavened'),\n",
       " ('bivalent', 'multivalent'),\n",
       " ('endogenous', 'exogenous'),\n",
       " ('awnless', 'awned'),\n",
       " ('landed', 'landless'),\n",
       " ('rehabilitative', 'punitive'),\n",
       " ('published', 'unpublished'),\n",
       " ('combinative', 'noncombinative'),\n",
       " ('lidless', 'lidded'),\n",
       " ('conditioned', 'unconditioned'),\n",
       " ('pleased', 'displeased'),\n",
       " ('harmonic', 'nonharmonic'),\n",
       " ('unscrupulous', 'scrupulous'),\n",
       " ('toed', 'toeless'),\n",
       " ('inconclusive', 'conclusive'),\n",
       " ('inexpedient', 'expedient'),\n",
       " ('fictional', 'nonfictional'),\n",
       " ('vascular', 'avascular'),\n",
       " ('friendly', 'hostile'),\n",
       " ('nonphotosynthetic', 'photosynthetic'),\n",
       " ('suppurative', 'nonsuppurative'),\n",
       " ('incorrupt', 'corrupt'),\n",
       " ('frozen', 'unfrozen'),\n",
       " ('holy', 'unholy'),\n",
       " ('profane', 'sacred'),\n",
       " ('diabatic', 'adiabatic'),\n",
       " ('hypercatalectic', 'acatalectic'),\n",
       " ('deflationary', 'inflationary'),\n",
       " ('cosmopolitan', 'endemic'),\n",
       " ('bottle-fed', 'breast-fed'),\n",
       " ('inconsistent', 'consistent'),\n",
       " ('absent', 'present'),\n",
       " ('bloodless', 'bloody'),\n",
       " ('secondary', 'primary'),\n",
       " ('underived', 'derived'),\n",
       " ('landless', 'landed'),\n",
       " ('diversified', 'undiversified'),\n",
       " ('uneasy', 'easy'),\n",
       " ('empirical', 'theoretical'),\n",
       " ('sleeveless', 'sleeved'),\n",
       " ('unpriestly', 'priestly'),\n",
       " ('hurried', 'unhurried'),\n",
       " ('reasonable', 'unreasonable'),\n",
       " ('nondisposable', 'disposable'),\n",
       " ('uppercase', 'lowercase'),\n",
       " ('real', 'unreal'),\n",
       " ('impassable', 'passable'),\n",
       " ('unleaded', 'leaded'),\n",
       " ('specific', 'general'),\n",
       " ('unattractive', 'attractive'),\n",
       " ('inalienable', 'alienable'),\n",
       " ('flattering', 'unflattering'),\n",
       " ('molecular', 'molar'),\n",
       " ('ventral', 'dorsal'),\n",
       " ('unbuttoned', 'buttoned'),\n",
       " ('unlabeled', 'labeled'),\n",
       " ('wigless', 'wigged'),\n",
       " ('bearing', 'nonbearing'),\n",
       " ('visible', 'invisible'),\n",
       " ('acarpelous', 'carpellate'),\n",
       " ('unvoiced', 'voiced'),\n",
       " ('calm', 'stormy'),\n",
       " ('addicted', 'unaddicted'),\n",
       " ('straight', 'curved'),\n",
       " ('nomothetic', 'idiographic'),\n",
       " ('malicious', 'unmalicious'),\n",
       " ('washable', 'nonwashable'),\n",
       " ('resentful', 'unresentful'),\n",
       " ('proportionate', 'disproportionate'),\n",
       " ('flat', 'contrasty'),\n",
       " ('dead', 'live'),\n",
       " ('tearless', 'tearful'),\n",
       " ('ambidextrous', 'right-handed'),\n",
       " ('imitative', 'nonimitative'),\n",
       " ('unwanted', 'wanted'),\n",
       " ('epizoic', 'entozoic'),\n",
       " ('intended', 'unintended'),\n",
       " ('buttoned', 'unbuttoned'),\n",
       " ('patronized', 'unpatronized'),\n",
       " ('footless', 'footed'),\n",
       " ('polar', 'equatorial'),\n",
       " ('married', 'unmarried'),\n",
       " ('involuntary', 'voluntary'),\n",
       " ('adjusted', 'maladjusted'),\n",
       " ('hopeless', 'hopeful'),\n",
       " ('uneducated', 'educated'),\n",
       " ('accordant', 'discordant'),\n",
       " ('insensitive', 'sensitive'),\n",
       " ('nonexplosive', 'explosive'),\n",
       " ('absorbent', 'nonabsorbent'),\n",
       " ('moving', 'nonmoving'),\n",
       " ('spaced', 'unspaced'),\n",
       " ('adorned', 'unadorned'),\n",
       " ('eastern', 'western'),\n",
       " ('earless', 'eared'),\n",
       " ('unopposable', 'opposable'),\n",
       " ('union', 'nonunion'),\n",
       " ('unmindful', 'mindful'),\n",
       " ('quantitative', 'syllabic'),\n",
       " ('handled', 'handleless'),\n",
       " ('unchaste', 'chaste'),\n",
       " ('moneyed', 'moneyless'),\n",
       " ('anterograde', 'retrograde'),\n",
       " ('undue', 'due'),\n",
       " ('uncontroversial', 'controversial'),\n",
       " ('advantageous', 'disadvantageous'),\n",
       " ('intrinsic', 'extrinsic'),\n",
       " ('moving', 'unmoving'),\n",
       " ('campylotropous', 'orthotropous'),\n",
       " ('appetizing', 'unappetizing'),\n",
       " ('worn', 'new'),\n",
       " ('low-resolution', 'high-resolution'),\n",
       " ('nonpregnant', 'pregnant'),\n",
       " ('shelled', 'unshelled'),\n",
       " ('unrifled', 'rifled'),\n",
       " ('uncomplimentary', 'complimentary'),\n",
       " ('dull', 'lively'),\n",
       " ('unscholarly', 'scholarly'),\n",
       " ('radiolucent', 'radiopaque'),\n",
       " ('infectious', 'noninfectious'),\n",
       " ('tense', 'relaxed'),\n",
       " ('wild', 'tame'),\n",
       " ('inflexible', 'flexible'),\n",
       " ('no', 'all'),\n",
       " ('uncrossed', 'crossed'),\n",
       " ('written', 'unwritten'),\n",
       " ('high', 'low'),\n",
       " ('irreducible', 'reducible'),\n",
       " ('unlimited', 'limited'),\n",
       " ('united', 'divided'),\n",
       " ('reticulate', 'nonreticulate'),\n",
       " ('unfamiliar', 'familiar'),\n",
       " ('heliocentric', 'geocentric'),\n",
       " ('incontestable', 'contestable'),\n",
       " ('satiate', 'insatiate'),\n",
       " ('adulterating', 'purifying'),\n",
       " ('inquiring', 'uninquiring'),\n",
       " ('efficient', 'inefficient'),\n",
       " ('bipedal', 'quadrupedal'),\n",
       " ('theatrical', 'untheatrical'),\n",
       " ('fruitful', 'unfruitful'),\n",
       " ('prepared', 'unprepared'),\n",
       " ('concealed', 'unconcealed'),\n",
       " ('spineless', 'spinous'),\n",
       " ('noncrucial', 'crucial'),\n",
       " ('dull', 'sharp'),\n",
       " ('inefficacious', 'efficacious'),\n",
       " ('sound', 'unsound'),\n",
       " ('antemeridian', 'postmeridian'),\n",
       " ('unforgettable', 'forgettable'),\n",
       " ('prudent', 'imprudent'),\n",
       " ('exact', 'inexact'),\n",
       " ('ungrammatical', 'grammatical'),\n",
       " ('blind', 'sighted'),\n",
       " ('nonsurgical', 'surgical'),\n",
       " ('uncritical', 'critical'),\n",
       " ('enclosed', 'unenclosed'),\n",
       " ('unregretful', 'regretful'),\n",
       " ('unrepeatable', 'repeatable'),\n",
       " ('prolate', 'oblate'),\n",
       " ('crossbred', 'purebred'),\n",
       " ('rhetorical', 'unrhetorical'),\n",
       " ('unservile', 'servile'),\n",
       " ('conscientious', 'unconscientious'),\n",
       " ('unpainted', 'painted'),\n",
       " ('flexible', 'inflexible'),\n",
       " ('inclined', 'horizontal'),\n",
       " ('curtained', 'curtainless'),\n",
       " ('edible', 'inedible'),\n",
       " ('consistent', 'inconsistent'),\n",
       " ('domestic', 'undomestic'),\n",
       " ('outward', 'inward'),\n",
       " ('nosed', 'noseless'),\n",
       " ('peaceful', 'unpeaceful'),\n",
       " ('considerable', 'inconsiderable'),\n",
       " ('endemic', 'epidemic'),\n",
       " ('illegal', 'legal'),\n",
       " ('nonfinancial', 'financial'),\n",
       " ('unplanned', 'planned'),\n",
       " ('sized', 'unsized'),\n",
       " ('unpremeditated', 'premeditated'),\n",
       " ('insoluble', 'soluble'),\n",
       " ('unloaded', 'loaded'),\n",
       " ('periodic', 'aperiodic'),\n",
       " ('peripheral', 'central'),\n",
       " ('unfavorable', 'favorable'),\n",
       " ('democratic', 'undemocratic'),\n",
       " ('responsible', 'irresponsible'),\n",
       " ('graceful', 'awkward'),\n",
       " ('unarmored', 'armored'),\n",
       " ('waning', 'waxing'),\n",
       " ('inaudible', 'audible'),\n",
       " ('intelligent', 'unintelligent'),\n",
       " ('inexperienced', 'experienced'),\n",
       " ('radical', 'cauline'),\n",
       " ('compartmented', 'uncompartmented'),\n",
       " ('undeniable', 'deniable'),\n",
       " ('crucial', 'noncrucial'),\n",
       " ('civil', 'sidereal'),\n",
       " ('unsaponified', 'saponified'),\n",
       " ('studied', 'unstudied'),\n",
       " ('nice', 'nasty'),\n",
       " ('catarrhine', 'leptorrhine'),\n",
       " ('fraternal', 'identical'),\n",
       " ('unseductive', 'seductive'),\n",
       " ('spirited', 'spiritless'),\n",
       " ('disorderly', 'orderly'),\n",
       " ('numerical', 'verbal'),\n",
       " ('isotonic', 'isometric'),\n",
       " ('impermanent', 'permanent'),\n",
       " ('barreled', 'unbarreled'),\n",
       " ('unsound', 'sound'),\n",
       " ('seated', 'standing'),\n",
       " ('convergent', 'divergent'),\n",
       " ('paintable', 'unpaintable'),\n",
       " ('principled', 'unprincipled'),\n",
       " ('inconspicuous', 'conspicuous'),\n",
       " ('astigmatic', 'anastigmatic'),\n",
       " ('endoergic', 'exoergic'),\n",
       " ('delineated', 'undelineated'),\n",
       " ('uptown', 'downtown'),\n",
       " ('unguiculate', 'ungulate'),\n",
       " ('softhearted', 'hardhearted'),\n",
       " ('insincere', 'sincere'),\n",
       " ('nonextensile', 'extensile'),\n",
       " ('insolvent', 'solvent'),\n",
       " ('autotrophic', 'heterotrophic'),\n",
       " ('unmelodious', 'melodious'),\n",
       " ('nonindustrial', 'industrial'),\n",
       " ('significant', 'insignificant'),\n",
       " ('tucked', 'untucked'),\n",
       " ('woven', 'unwoven'),\n",
       " ('undamaged', 'damaged'),\n",
       " ('ultra_vires', 'intra_vires'),\n",
       " ('intemperate', 'temperate'),\n",
       " ('herbivorous', 'omnivorous'),\n",
       " ('hospitable', 'inhospitable'),\n",
       " ('valid', 'invalid'),\n",
       " ('bicameral', 'unicameral'),\n",
       " ('unrevived', 'revived'),\n",
       " ('unalike', 'alike'),\n",
       " ('inflationary', 'deflationary'),\n",
       " ('harmonious', 'inharmonious'),\n",
       " ('ambiversive', 'introversive'),\n",
       " ('angular', 'rounded'),\n",
       " ('corrigible', 'incorrigible'),\n",
       " ('kind', 'unkind'),\n",
       " ('introversive', 'extroversive'),\n",
       " ('musical', 'unmusical'),\n",
       " ('deniable', 'undeniable'),\n",
       " ('ungracious', 'gracious'),\n",
       " ('discriminate', 'indiscriminate'),\n",
       " ('headed', 'headless'),\n",
       " ('unplayful', 'playful'),\n",
       " ('documented', 'undocumented'),\n",
       " ('least', 'most'),\n",
       " ('unprepared', 'prepared'),\n",
       " ('nonreflective', 'reflective'),\n",
       " ('skinless', 'skinned'),\n",
       " ('retrograde', 'anterograde'),\n",
       " ('ovoviviparous', 'viviparous'),\n",
       " ('unaggressive', 'aggressive'),\n",
       " ('beseeching', 'imperative'),\n",
       " ('zygomorphic', 'actinomorphic'),\n",
       " ('careless', 'careful'),\n",
       " ('bowed', 'plucked'),\n",
       " ('exaugural', 'inaugural'),\n",
       " ('unholy', 'holy'),\n",
       " ('sessile', 'pedunculate'),\n",
       " ('noncurrent', 'current'),\n",
       " ('institutional', 'noninstitutional'),\n",
       " ('unaddressed', 'addressed'),\n",
       " ('unpaid', 'paid'),\n",
       " ('unlubricated', 'lubricated'),\n",
       " ('effortless', 'effortful'),\n",
       " ('isotropic', 'anisotropic'),\n",
       " ('uninsured', 'insured'),\n",
       " ('loamy', 'loamless'),\n",
       " ('mini', 'midi'),\n",
       " ('unsoured', 'soured'),\n",
       " ('tempered', 'untempered'),\n",
       " ('tracked', 'trackless'),\n",
       " ('emotional', 'unemotional'),\n",
       " ('ignoble', 'noble'),\n",
       " ('katabatic', 'anabatic'),\n",
       " ('negative', 'positive'),\n",
       " ('liked', 'disliked'),\n",
       " ('rhythmical', 'unrhythmical'),\n",
       " ('acidic', 'alkaline'),\n",
       " ('laced', 'unlaced'),\n",
       " ('unmerited', 'merited'),\n",
       " ('unemployable', 'employable'),\n",
       " ('tolerable', 'intolerable'),\n",
       " ('blemished', 'unblemished'),\n",
       " ('bony', 'boneless'),\n",
       " ('separate', 'joint'),\n",
       " ('crosswise', 'lengthwise'),\n",
       " ('baptized', 'unbaptized'),\n",
       " ('forgettable', 'unforgettable'),\n",
       " ('epidemic', 'endemic'),\n",
       " ('inessential', 'essential'),\n",
       " ('prolix', 'concise'),\n",
       " ('demanding', 'undemanding'),\n",
       " ('indispensable', 'dispensable'),\n",
       " ('alcoholic', 'nonalcoholic'),\n",
       " ('artificial', 'natural'),\n",
       " ('artless', 'artful'),\n",
       " ('organic', 'inorganic'),\n",
       " ('changeable', 'unchangeable'),\n",
       " ('uncamphorated', 'camphorated'),\n",
       " ('gradual', 'sudden'),\n",
       " ('dangerous', 'safe'),\n",
       " ('human', 'nonhuman'),\n",
       " ('left-handed', 'ambidextrous'),\n",
       " ('taxable', 'nontaxable'),\n",
       " ('unrealistic', 'realistic'),\n",
       " ('unlaced', 'laced'),\n",
       " ('lowered', 'raised'),\n",
       " ('unventilated', 'ventilated'),\n",
       " ('wheeled', 'wheelless'),\n",
       " ('overt', 'covert'),\n",
       " ('imperfect', 'perfect'),\n",
       " ('unidimensional', 'multidimensional'),\n",
       " ('constitutional', 'unconstitutional'),\n",
       " ('euphoric', 'dysphoric'),\n",
       " ('treated', 'untreated'),\n",
       " ('uncollected', 'collected'),\n",
       " ('inconsiderate', 'considerate'),\n",
       " ('inactive', 'active'),\n",
       " ('actinal', 'abactinal'),\n",
       " ('sympatric', 'allopatric'),\n",
       " ('exploratory', 'nonexploratory'),\n",
       " ('nonintegrated', 'integrated'),\n",
       " ('fresh', 'stale'),\n",
       " ('good', 'bad'),\n",
       " ('unpleasant', 'pleasant'),\n",
       " ('spherical', 'nonspherical'),\n",
       " ('accurate', 'inaccurate'),\n",
       " ('fossorial', 'cursorial'),\n",
       " ('unjust', 'just'),\n",
       " ('atomistic', 'holistic'),\n",
       " ('exothermic', 'endothermic'),\n",
       " ('holophytic', 'holozoic'),\n",
       " ('high-resolution', 'low-resolution'),\n",
       " ('anestrous', 'estrous'),\n",
       " ('gradual', 'steep'),\n",
       " ('insubordinate', 'subordinate'),\n",
       " ('analyzed', 'unanalyzed'),\n",
       " ('anaphrodisiac', 'aphrodisiac'),\n",
       " ('liquid', 'gaseous'),\n",
       " ('repetitive', 'nonrepetitive'),\n",
       " ('guided', 'unguided'),\n",
       " ('end-stopped', 'run-on'),\n",
       " ('unlikely', 'likely'),\n",
       " ('unquotable', 'quotable'),\n",
       " ('comfortable', 'uncomfortable'),\n",
       " ('induced', 'spontaneous'),\n",
       " ('unfretted', 'fretted'),\n",
       " ('eremitic', 'cenobitic'),\n",
       " ('unwieldy', 'wieldy'),\n",
       " ('horizontal', 'vertical'),\n",
       " ('undynamic', 'dynamic'),\n",
       " ('unedifying', 'edifying'),\n",
       " ('noticeable', 'unnoticeable'),\n",
       " ('aerobic', 'anaerobic'),\n",
       " ('formed', 'unformed'),\n",
       " ('endogamous', 'exogamous'),\n",
       " ('historical', 'ahistorical'),\n",
       " ('unexploited', 'exploited'),\n",
       " ('afferent', 'efferent'),\n",
       " ('intermediate', 'terminal'),\n",
       " ('insubstantial', 'substantial'),\n",
       " ('noncellular', 'cellular'),\n",
       " ('headless', 'headed'),\n",
       " ('late', 'early'),\n",
       " ('salaried', 'freelance'),\n",
       " ('tasteless', 'tasty'),\n",
       " ('intracellular', 'extracellular'),\n",
       " ('euphemistic', 'dysphemistic'),\n",
       " ('abstract', 'concrete'),\n",
       " ('nonhierarchical', 'hierarchical'),\n",
       " ('fewer', 'more'),\n",
       " ('unspaced', 'spaced'),\n",
       " ('burdened', 'unburdened'),\n",
       " ('uncarved', 'carved'),\n",
       " ('unairworthy', 'airworthy'),\n",
       " ('simple', 'compound'),\n",
       " ('unwrinkled', 'wrinkled'),\n",
       " ('warm-blooded', 'cold-blooded'),\n",
       " ('rigid', 'nonrigid'),\n",
       " ('coherent', 'incoherent'),\n",
       " ('continuous', 'discontinuous'),\n",
       " ('immoderate', 'moderate'),\n",
       " ('unwrapped', 'wrapped'),\n",
       " ('standard', 'nonstandard'),\n",
       " ('inferior', 'superior'),\n",
       " ('fastidious', 'unfastidious'),\n",
       " ('hairy', 'hairless'),\n",
       " ('dispensable', 'indispensable'),\n",
       " ('plain', 'patterned'),\n",
       " ('centripetal', 'centrifugal'),\n",
       " ('unenterprising', 'enterprising'),\n",
       " ('eyeless', 'eyed'),\n",
       " ('civilized', 'noncivilized'),\n",
       " ('hungry', 'thirsty'),\n",
       " ('unplanted', 'planted'),\n",
       " ('potted', 'unpotted'),\n",
       " ('insatiate', 'satiate'),\n",
       " ('territorial', 'extraterritorial'),\n",
       " ('allogeneic', 'xenogeneic'),\n",
       " ('unretentive', 'retentive'),\n",
       " ('current', 'noncurrent'),\n",
       " ('familiar', 'strange'),\n",
       " ('eyed', 'eyeless'),\n",
       " ('careful', 'careless'),\n",
       " ('unseamanlike', 'seamanlike'),\n",
       " ('cooperative', 'uncooperative'),\n",
       " ('shod', 'unshod'),\n",
       " ('on-street', 'off-street'),\n",
       " ('go', 'no-go'),\n",
       " ('noble', 'lowborn'),\n",
       " ('clear', 'cloudy'),\n",
       " ('uncomfortable', 'comfortable'),\n",
       " ('diploid', 'polyploid'),\n",
       " ('noticed', 'unnoticed'),\n",
       " ('nonarbitrary', 'arbitrary'),\n",
       " ('soured', 'unsoured'),\n",
       " ('woody', 'nonwoody'),\n",
       " ('superficial', 'profound'),\n",
       " ('explicable', 'inexplicable'),\n",
       " ('unendowed', 'endowed'),\n",
       " ('stormy', 'calm'),\n",
       " ('increased', 'decreased'),\n",
       " ('unsized', 'sized'),\n",
       " ('removable', 'irremovable'),\n",
       " ('unpaintable', 'paintable'),\n",
       " ('sparkling', 'still'),\n",
       " ('immediate', 'mediate'),\n",
       " ('undignified', 'dignified'),\n",
       " ('reverent', 'irreverent'),\n",
       " ('ascending', 'descending'),\n",
       " ('nontaxable', 'taxable'),\n",
       " ('sure', 'unsure'),\n",
       " ('heterogeneous', 'homogeneous'),\n",
       " ('protected', 'unprotected'),\n",
       " ('destructive', 'constructive'),\n",
       " ('adjective', 'substantive'),\n",
       " ('fallible', 'infallible'),\n",
       " ('asleep', 'awake'),\n",
       " ('anti-American', 'pro-American'),\n",
       " ('palpable', 'impalpable'),\n",
       " ('uneager', 'eager'),\n",
       " ('bedless', 'bedded'),\n",
       " ('quiet', 'active'),\n",
       " ('polyphonic', 'monophonic'),\n",
       " ('bisexual', 'heterosexual'),\n",
       " ('voluble', 'taciturn'),\n",
       " ('bipolar', 'unipolar'),\n",
       " ('minimum', 'maximum'),\n",
       " ('convertible', 'inconvertible'),\n",
       " ('linguistic', 'nonlinguistic'),\n",
       " ('thirsty', 'hungry'),\n",
       " ('cursed', 'blessed'),\n",
       " ('ready-made', 'custom-made'),\n",
       " ('same', 'different'),\n",
       " ('faithful', 'unfaithful'),\n",
       " ('understood', 'ununderstood'),\n",
       " ('revived', 'unrevived'),\n",
       " ('isotonic', 'hypertonic'),\n",
       " ('unclear', 'clear'),\n",
       " ('unlighted', 'lighted'),\n",
       " ('residential', 'nonresidential'),\n",
       " ('imponderable', 'ponderable'),\n",
       " ('accommodating', 'unaccommodating'),\n",
       " ('virulent', 'avirulent'),\n",
       " ('toeless', 'toed'),\n",
       " ('merciful', 'merciless'),\n",
       " ('unaccompanied', 'accompanied'),\n",
       " ('contrasty', 'flat'),\n",
       " ('fit', 'unfit'),\n",
       " ('unbeneficed', 'beneficed'),\n",
       " ('uncommunicative', 'communicative'),\n",
       " ('windward', 'leeward'),\n",
       " ('unbalanced', 'balanced'),\n",
       " ('repeatable', 'unrepeatable'),\n",
       " ('strange', 'familiar'),\n",
       " ('overhead', 'surface'),\n",
       " ('sonic', 'subsonic'),\n",
       " ('supernal', 'infernal'),\n",
       " ('collateral', 'lineal'),\n",
       " ('well-advised', 'ill-advised'),\n",
       " ('priestly', 'unpriestly'),\n",
       " ('lovable', 'hateful'),\n",
       " ('precocious', 'retarded'),\n",
       " ('lesser', 'greater'),\n",
       " ('adscript', 'superscript'),\n",
       " ('earned', 'unearned'),\n",
       " ('tied', 'untied'),\n",
       " ('ungregarious', 'gregarious'),\n",
       " ('incommensurate', 'commensurate'),\n",
       " ('planned', 'unplanned'),\n",
       " ('minus', 'plus'),\n",
       " ('racial', 'nonracial'),\n",
       " ('asymmetrical', 'symmetrical'),\n",
       " ('vertical', 'inclined'),\n",
       " ('lossy', 'lossless'),\n",
       " ('seedy', 'seedless'),\n",
       " ('uncommitted', 'committed'),\n",
       " ('decisive', 'indecisive'),\n",
       " ('nonexploratory', 'exploratory'),\n",
       " ('unexhausted', 'exhausted'),\n",
       " ('irresolute', 'resolute'),\n",
       " ('noncollapsible', 'collapsible'),\n",
       " ('latter', 'former'),\n",
       " ('cosmopolitan', 'provincial'),\n",
       " ('leaded', 'unleaded'),\n",
       " ('some', 'no'),\n",
       " ('conditional', 'unconditional'),\n",
       " ('opposed', 'unopposed'),\n",
       " ('inclusive', 'exclusive'),\n",
       " ('wanted', 'unwanted'),\n",
       " ('unlawful', 'lawful'),\n",
       " ('bound', 'unbound'),\n",
       " ('antimagnetic', 'magnetic'),\n",
       " ('unpatriotic', 'patriotic'),\n",
       " ('decreasing', 'increasing'),\n",
       " ('exoergic', 'endoergic'),\n",
       " ('homogeneous', 'heterogeneous'),\n",
       " ('impotent', 'potent'),\n",
       " ('middle-class', 'upper-class'),\n",
       " ('rh-positive', 'rh-negative'),\n",
       " ('wooded', 'unwooded'),\n",
       " ('experienced', 'inexperienced'),\n",
       " ('mutable', 'immutable'),\n",
       " ('exportable', 'unexportable'),\n",
       " ('politic', 'impolitic'),\n",
       " ('specific', 'nonspecific'),\n",
       " ('impatient', 'patient'),\n",
       " ('instructive', 'uninstructive'),\n",
       " ('dry', 'sweet'),\n",
       " ('profound', 'superficial'),\n",
       " ('permissive', 'unpermissive'),\n",
       " (\"table_d'hote\", 'a_la_carte'),\n",
       " ('seamanlike', 'unseamanlike'),\n",
       " ('argumentative', 'unargumentative'),\n",
       " ('acute', 'chronic'),\n",
       " ('big', 'little'),\n",
       " ('negligent', 'diligent'),\n",
       " ('civilian', 'military'),\n",
       " ('unprotective', 'protective'),\n",
       " ('awake', 'asleep'),\n",
       " ('labeled', 'unlabeled'),\n",
       " ('functional', 'nonfunctional'),\n",
       " ('conclusive', 'inconclusive'),\n",
       " ('whole', 'fractional'),\n",
       " ('acute', 'obtuse'),\n",
       " ('nonabsorbent', 'absorbent'),\n",
       " ('sad', 'glad'),\n",
       " ('wireless', 'wired'),\n",
       " ('erect', 'unerect'),\n",
       " ('disloyal', 'loyal'),\n",
       " ('noninstitutional', 'institutional'),\n",
       " ('uncoiled', 'coiled'),\n",
       " ('down', 'up'),\n",
       " ('ametropic', 'emmetropic'),\n",
       " ('unhappy', 'happy'),\n",
       " ('extroversive', 'ambiversive'),\n",
       " ('passing', 'running'),\n",
       " ('appendaged', 'unappendaged'),\n",
       " ('compromising', 'uncompromising'),\n",
       " ('allopatric', 'sympatric'),\n",
       " ('unchangeable', 'changeable'),\n",
       " ('glazed', 'unglazed'),\n",
       " ('wise', 'foolish'),\n",
       " ('soft', 'hard'),\n",
       " ('nominal', 'real'),\n",
       " ('feminine', 'masculine'),\n",
       " ('technical', 'nontechnical'),\n",
       " ('exergonic', 'endergonic'),\n",
       " ('molar', 'molecular'),\n",
       " ...}"
      ]
     },
     "execution_count": 12,
     "metadata": {},
     "output_type": "execute_result"
    }
   ],
   "source": [
    "wn_all_antonyms"
   ]
  },
  {
   "cell_type": "markdown",
   "metadata": {},
   "source": [
    "### Add Custom Antonym Pairs"
   ]
  },
  {
   "cell_type": "code",
   "execution_count": 13,
   "metadata": {},
   "outputs": [
    {
     "name": "stdout",
     "output_type": "stream",
     "text": [
      "Added ('man', 'woman')\n",
      "Added ('serviceman', 'civilian')\n",
      "Added ('man', 'woman')\n",
      "Added ('human', 'nonhuman')\n"
     ]
    }
   ],
   "source": [
    "from nltk.corpus import wordnet as wn\n",
    "\n",
    "# add words here:\n",
    "WORDS = ['man', 'human']\n",
    "\n",
    "for word in WORDS:\n",
    "    for syn in wn.synsets(word):\n",
    "        for j in syn.lemmas(): # Iterating through lemmas for each synset.\n",
    "            if j.antonyms():\n",
    "                pair1 = j.name()\n",
    "                pair2 = j.antonyms()[0].name()\n",
    "                \n",
    "                print(f\"Added {(pair1, pair2)}\")\n",
    "                wn_all_antonyms.add((pair1, pair2))"
   ]
  },
  {
   "cell_type": "code",
   "execution_count": 14,
   "metadata": {},
   "outputs": [],
   "source": [
    "microframes = wn_all_antonyms"
   ]
  },
  {
   "cell_type": "code",
   "execution_count": 15,
   "metadata": {},
   "outputs": [
    {
     "data": {
      "text/plain": [
       "3533"
      ]
     },
     "execution_count": 15,
     "metadata": {},
     "output_type": "execute_result"
    }
   ],
   "source": [
    "len(microframes)"
   ]
  },
  {
   "cell_type": "markdown",
   "metadata": {},
   "source": [
    "### Semantic Axis Vector"
   ]
  },
  {
   "cell_type": "code",
   "execution_count": 16,
   "metadata": {},
   "outputs": [],
   "source": [
    "semantic_axis_vectors = dict()\n",
    "for mframe in microframes:\n",
    "    semantic_axis_vectors['(' + ', '.join(mframe) + ')'] = np.expand_dims(sbert.encode(mframe[1]) - sbert.encode(mframe[0]), axis= 0)"
   ]
  },
  {
   "cell_type": "code",
   "execution_count": 17,
   "metadata": {
    "collapsed": true,
    "jupyter": {
     "outputs_hidden": true
    }
   },
   "outputs": [
    {
     "data": {
      "text/plain": [
       "array([[ 4.61445272e-01, -1.63598835e-01, -9.09718946e-02,\n",
       "        -6.64489985e-01, -3.24462116e-01,  1.22423761e-01,\n",
       "         5.13927639e-01,  1.83106333e-01, -5.12893736e-01,\n",
       "         2.12878203e+00, -3.37066770e-01, -4.27194834e-01,\n",
       "         3.05582732e-01,  3.47756773e-01,  2.67127156e-03,\n",
       "        -1.40166426e+00,  6.70769095e-01,  7.77182937e-01,\n",
       "         1.20007157e-01,  9.96577740e-03,  1.44999897e+00,\n",
       "        -5.07247865e-01,  1.13095617e+00, -1.22853422e+00,\n",
       "         6.89658999e-01, -3.51170421e-01, -8.64769220e-02,\n",
       "         2.46869028e-01, -3.37070525e-01, -2.12183863e-01,\n",
       "        -5.65851212e-01, -7.07897902e-01,  6.56521320e-03,\n",
       "         1.21668887e+00,  1.38573337e+00,  1.08423412e+00,\n",
       "         4.30539221e-01,  8.87471914e-01, -9.77675021e-01,\n",
       "         6.12992123e-02, -5.24116695e-01, -8.19561481e-01,\n",
       "         1.60409808e-02,  8.54127645e-01,  1.14410114e+00,\n",
       "         2.92331517e-01, -7.48084784e-01, -5.29809296e-02,\n",
       "        -1.42695546e-01, -7.13742599e-02,  2.95895368e-01,\n",
       "         3.32571000e-01,  1.35783148e+00,  1.09738255e+00,\n",
       "         7.21043646e-01,  3.39995563e-01,  1.63814679e-01,\n",
       "         3.73380110e-02, -1.29009056e+00, -1.49275553e+00,\n",
       "        -9.69243407e-01, -5.42590559e-01, -1.07200122e+00,\n",
       "        -2.87251472e-02, -1.14700103e+00,  2.36245096e-01,\n",
       "         1.68604702e-01,  6.74916506e-01, -5.08815587e-01,\n",
       "         2.55155206e-01, -1.74914122e-01, -5.14719486e-01,\n",
       "        -5.69774210e-01,  8.89314592e-01, -1.58787382e+00,\n",
       "         3.07397902e-01,  6.69928908e-01, -1.21124053e+00,\n",
       "         9.77558255e-01,  4.83071804e-02,  1.38481927e+00,\n",
       "         5.14022827e-01,  2.11878777e-01, -5.91884702e-02,\n",
       "         1.44173074e+00, -2.70565748e-01,  2.73677230e-01,\n",
       "        -1.51877850e-01, -1.11678195e+00,  3.11244816e-01,\n",
       "        -4.85986471e-01, -5.53290367e-01, -6.99383020e-01,\n",
       "        -1.26642275e+00,  6.55975103e-01, -1.10835862e+00,\n",
       "         1.20377243e+00, -5.94079375e-01, -3.44350725e-01,\n",
       "         2.57237136e-01,  2.10791826e-01, -4.35255438e-01,\n",
       "        -6.18397832e-01, -9.83133078e-01, -1.37083840e+00,\n",
       "         1.27051353e-01, -6.79228663e-01, -6.61955118e-01,\n",
       "        -1.58153594e-01, -2.42490739e-01, -1.98397070e-01,\n",
       "        -1.28536463e-01, -6.18015230e-02, -1.90224171e+00,\n",
       "        -4.95074809e-01, -1.12938726e+00, -5.95395088e-01,\n",
       "         3.90092731e-02,  7.92374730e-01,  2.55984575e-01,\n",
       "         9.62239563e-01, -5.21491468e-02,  1.47211164e-01,\n",
       "        -5.21627665e-01, -5.04042745e-01,  8.69273841e-01,\n",
       "        -1.21516883e-02, -7.61464834e-02,  7.40227997e-01,\n",
       "         1.69817418e-01, -6.07738435e-01,  3.68826330e-01,\n",
       "        -9.52198803e-02,  1.28315955e-01,  9.54778850e-01,\n",
       "        -9.74917114e-01, -4.69210327e-01,  5.25200248e-01,\n",
       "         7.15194285e-01, -8.96426201e-01, -6.19339526e-01,\n",
       "         7.93457031e-03, -8.73640478e-01, -1.17949235e+00,\n",
       "         7.47836888e-01, -1.45406151e+00, -7.27001011e-01,\n",
       "         2.97169089e-02, -9.82344031e-01, -1.22999229e-01,\n",
       "        -9.11550283e-01, -2.57771045e-01,  1.75167441e-01,\n",
       "        -6.11222386e-01,  7.33493805e-01,  2.24672437e-01,\n",
       "         6.31295681e-01, -6.26052022e-01, -1.11402988e-01,\n",
       "         3.82798165e-02,  8.92166018e-01, -3.10447872e-01,\n",
       "         7.05458999e-01,  1.01785660e-01, -4.01794016e-01,\n",
       "        -6.73103333e-03,  6.36280715e-01, -4.02644247e-01,\n",
       "         2.46178389e-01,  2.11320728e-01, -6.28268957e-01,\n",
       "        -6.14383101e-01, -3.82182837e-01,  7.67929137e-01,\n",
       "        -9.42718238e-02, -6.70995563e-02,  1.18828714e-01,\n",
       "         7.50468612e-01, -7.95284390e-01,  1.42639026e-01,\n",
       "         1.29992855e+00,  2.34157890e-01, -3.08826208e-01,\n",
       "         6.20020986e-01,  1.84340507e-01, -4.89442408e-01,\n",
       "        -2.43372738e-01, -3.16068411e-01, -1.19132328e+00,\n",
       "        -3.85121852e-02,  3.57295573e-01,  1.24494731e+00,\n",
       "         3.00954223e-01,  4.15356636e-01,  5.20837605e-01,\n",
       "        -2.81823844e-01,  1.64893866e-01,  2.07204247e+00,\n",
       "        -6.18590117e-01, -7.90097475e-01, -3.60054165e-01,\n",
       "        -1.83823973e-01, -3.00542474e-01, -4.59863245e-02,\n",
       "         1.13319039e+00,  3.80882025e-01,  1.66063696e-01,\n",
       "         6.02596283e-01, -7.82223463e-01,  1.32582712e+00,\n",
       "        -1.67500925e+00, -1.39094919e-01, -7.89347887e-02,\n",
       "         1.15465057e+00, -3.96104485e-01,  5.14871120e-01,\n",
       "        -1.25801206e+00,  7.63508677e-01,  5.41567028e-01,\n",
       "        -1.01984262e-01, -4.72272277e-01,  2.91426688e-01,\n",
       "         4.92361546e-01, -1.90943027e+00,  7.41766095e-02,\n",
       "        -7.93828905e-01,  2.54556298e-01,  1.12681913e+00,\n",
       "         7.90078461e-01,  1.42064124e-01,  1.47031057e+00,\n",
       "        -2.50581264e-01, -2.18021572e-01, -4.75461006e-01,\n",
       "         1.39311707e+00, -7.46756852e-01,  4.31964248e-02,\n",
       "        -2.88631499e-01,  1.83563888e-01,  1.43716931e-01,\n",
       "        -1.75507724e-01, -7.41600990e-04, -1.12492114e-01,\n",
       "         3.27079684e-01, -9.44632590e-01,  7.52392709e-01,\n",
       "         5.67865014e-01, -1.18073845e+00,  1.02162814e+00,\n",
       "        -1.96812892e+00,  7.05882907e-01,  1.27328110e+00,\n",
       "        -4.18316960e-01, -1.00438213e+00, -1.46437097e+00,\n",
       "        -5.73575974e-01,  1.84763789e-01,  2.16427669e-01,\n",
       "         5.39751649e-01,  9.52615857e-01, -4.79751676e-01,\n",
       "        -1.53182447e-02,  2.46751070e-01,  6.43119931e-01,\n",
       "        -7.47201204e-01,  5.99475801e-02,  3.39021713e-01,\n",
       "        -8.75780165e-01, -1.76580906e-01, -5.49919963e-01,\n",
       "         1.25855100e+00,  3.15643549e-02,  1.02349734e+00,\n",
       "        -1.18016176e-01, -1.93552566e+00, -9.31288242e-01,\n",
       "        -1.83141768e-01,  1.41725934e+00, -1.53506100e-01,\n",
       "        -2.43195087e-01,  2.99206793e-01,  4.72699106e-01,\n",
       "         8.76893699e-01, -1.59390807e-01, -1.18964577e+00,\n",
       "         8.60912502e-01,  1.22905040e+00,  1.16046941e+00,\n",
       "         7.26450086e-02,  1.05171359e+00,  6.58204138e-01,\n",
       "        -4.95238423e-01, -1.34405005e+00, -9.27032232e-02,\n",
       "         8.00674260e-01, -9.12196279e-01, -7.82141507e-01,\n",
       "         1.37071693e+00, -8.10755491e-01,  4.28539291e-02,\n",
       "         6.66609883e-01,  1.27000189e+00, -6.20146751e-01,\n",
       "        -6.55805349e-01,  5.82009554e-02, -1.73583746e-01,\n",
       "         2.46078879e-01, -2.52328366e-01, -3.03862512e-01,\n",
       "         5.89398980e-01,  1.04257596e+00, -2.99468994e-01,\n",
       "        -6.21736228e-01,  5.21318078e-01,  3.95513803e-01,\n",
       "        -4.95241046e-01, -1.38987470e+00,  3.54467332e-02,\n",
       "         1.40995598e+00,  1.73931587e+00, -1.56024563e+00,\n",
       "         2.41912976e-01, -1.09155667e+00,  3.57377172e-01,\n",
       "         5.37386835e-01, -1.58391404e+00, -7.98636436e-01,\n",
       "         8.59919369e-01, -2.10016638e-01, -1.60602891e+00,\n",
       "        -1.53754354e-01,  1.00857460e+00, -2.74966896e-01,\n",
       "        -6.41687989e-01,  3.75300735e-01, -4.80139732e-01,\n",
       "        -1.24699712e-01, -4.20808971e-01,  1.10715663e+00,\n",
       "        -1.92544922e-01, -4.07794595e-01,  2.85206437e-02,\n",
       "         6.46136940e-01,  4.47665662e-01,  1.36595988e+00,\n",
       "        -1.13983250e+00,  3.36736053e-01, -2.17316341e+00,\n",
       "        -1.10179305e+00,  4.35123086e-01,  2.47580379e-01,\n",
       "         2.15960994e-01, -1.10536739e-01,  1.39388889e-01,\n",
       "        -2.56687552e-02,  2.26663142e-01, -4.61403489e-01,\n",
       "         5.29755652e-01, -5.54884896e-02, -8.48767698e-01,\n",
       "         8.48597050e-01, -5.33176363e-02, -4.59788918e-01,\n",
       "        -1.88644201e-01,  3.02824110e-01, -3.03044289e-01,\n",
       "        -1.49720520e-01, -4.31605726e-01,  2.69574285e-01,\n",
       "        -5.72102904e-01, -2.38887370e-01, -1.91990137e-02,\n",
       "        -1.25603735e+00, -1.12032914e+00,  1.22598112e-01,\n",
       "         7.78171539e-01,  2.39981413e-02, -1.34550190e+00,\n",
       "         1.51008832e+00, -8.35145116e-01, -7.81936049e-01,\n",
       "        -7.95585513e-01,  8.82475138e-01,  9.97006714e-01,\n",
       "         1.06225777e+00,  2.60196984e-01, -4.82731074e-01,\n",
       "         4.76852536e-01,  1.65201783e+00,  3.12627375e-01,\n",
       "         8.12725723e-01,  6.50307536e-03, -1.62381470e-01,\n",
       "        -2.09157273e-01,  7.77521729e-01, -7.07821548e-02,\n",
       "        -5.05694807e-01,  1.09115481e+00, -3.19626659e-01,\n",
       "        -8.85717511e-01, -1.06260657e+00, -1.83239728e-01,\n",
       "         1.65223479e-01, -1.00890517e-01, -6.96965531e-02,\n",
       "        -1.55696118e+00,  1.51451647e-01, -1.11223269e+00,\n",
       "         1.05848789e-01,  8.15124750e-01,  3.44291836e-01,\n",
       "         4.14520711e-01, -1.95207953e+00,  1.32744312e-02,\n",
       "        -8.48640874e-02,  6.26122475e-01,  5.08514881e-01,\n",
       "         2.80490518e-01, -7.52794325e-01, -4.93830264e-01,\n",
       "         6.40775204e-01,  2.88397074e-03,  5.63794672e-02,\n",
       "         9.13684785e-01,  2.35694408e-01,  4.93994027e-01,\n",
       "         1.28337812e+00, -1.52746332e+00,  3.35431099e-02,\n",
       "         1.77505541e+00, -1.09206486e+00,  2.18563348e-01,\n",
       "         4.17082906e-01, -6.93622530e-01,  7.29587376e-01,\n",
       "        -2.02346146e-01, -1.34749007e+00,  2.67106324e-01,\n",
       "         3.75416517e-01, -1.19283545e+00,  1.80271596e-01,\n",
       "        -1.05536032e+00,  1.56233311e+00, -1.06934261e+00,\n",
       "        -1.23844278e+00, -2.62787163e-01,  7.41312504e-02,\n",
       "        -4.47131336e-01,  7.94753060e-02,  1.73786950e+00,\n",
       "        -5.64742804e-01, -9.90352035e-02, -5.29350936e-01,\n",
       "        -1.68372974e-01,  1.96257412e-01, -5.98696768e-01,\n",
       "        -4.48395789e-01, -3.49035323e-01, -9.87619042e-01,\n",
       "         1.14069045e-01,  1.08847737e+00, -1.55388892e+00,\n",
       "         6.42453074e-01, -7.39178956e-01,  1.19347477e+00,\n",
       "        -2.95952857e-02, -2.16001421e-01,  5.26972890e-01,\n",
       "         5.05197495e-02, -3.85829628e-01,  9.50732470e-01,\n",
       "         1.86242834e-01, -9.46241915e-01,  6.03185654e-01,\n",
       "        -4.28680182e-02, -3.09041142e-01,  4.05421227e-01,\n",
       "         2.38078594e-01,  6.11250877e-01,  3.31002772e-01,\n",
       "        -1.74376667e-01,  1.10901809e+00,  4.33782578e-01,\n",
       "        -4.19672132e-02, -1.52583867e-01,  1.09704089e+00,\n",
       "         4.11580890e-01,  1.28244507e+00, -3.04253161e-01,\n",
       "        -7.14170635e-01,  1.17262280e+00, -4.98291910e-01,\n",
       "        -9.59765792e-01,  2.12351918e+00,  1.19326442e-01,\n",
       "         5.03169179e-01, -3.32985967e-01, -1.02297664e-01,\n",
       "         3.30463201e-01,  4.56387758e-01, -2.01576933e-01,\n",
       "         8.31472635e-01,  4.24977392e-02,  2.11134553e-01,\n",
       "         3.71238589e-03,  1.76110625e+00, -4.66922700e-01,\n",
       "        -8.24184775e-01, -1.49327612e+00, -1.64720178e-01,\n",
       "         2.11560071e-01,  1.33654857e+00, -3.94036829e-01,\n",
       "        -3.95907164e-02,  3.74627709e-01,  1.57987475e-02,\n",
       "         4.71471459e-01,  1.82861239e-01,  6.79321706e-01,\n",
       "         2.00555325e-01,  1.62256908e+00, -4.65704858e-01,\n",
       "         2.64716446e-02,  5.57290316e-01,  7.91874826e-02,\n",
       "        -7.96172976e-01,  7.50910044e-02, -1.80956215e-01,\n",
       "        -4.52991486e-01, -1.01560462e+00,  8.52806211e-01,\n",
       "         4.28441852e-01, -7.71579802e-01,  2.63532114e+00,\n",
       "        -3.62420321e-01, -3.86494040e-01, -4.29478854e-01,\n",
       "         2.62610376e-01, -3.32211286e-01,  2.41576135e-01,\n",
       "         1.05136633e-02, -7.14708030e-01,  1.05928624e+00,\n",
       "        -5.84736884e-01, -1.34585470e-01,  3.41701567e-01,\n",
       "         2.21675575e-01,  5.36886334e-01,  5.53886414e-01,\n",
       "        -9.84685779e-01,  9.60686803e-02, -9.62243319e-01,\n",
       "        -1.28959572e+00, -7.20757097e-02, -1.55057430e+00,\n",
       "        -1.73543012e+00,  2.99400240e-01, -2.86091089e-01,\n",
       "         5.65328836e-01, -5.12493372e-01,  1.35548222e+00,\n",
       "        -9.61409032e-01, -1.73721358e-01, -1.51380372e+00,\n",
       "         4.58903491e-01, -7.45896921e-02, -1.01155770e+00,\n",
       "        -8.05708349e-01,  5.82161807e-02,  1.23791575e-01,\n",
       "        -1.58494878e+00, -3.62816960e-01, -9.38675702e-01,\n",
       "        -2.48156786e-02,  9.41131711e-02, -2.32254982e-01,\n",
       "         1.10732198e-01,  2.49660343e-01,  1.73539019e+00,\n",
       "        -1.74288273e-01,  5.29012382e-01, -3.93525004e-01,\n",
       "        -7.55081177e-01,  1.08099341e+00, -4.79617178e-01,\n",
       "        -5.17596543e-01,  1.43729019e+00,  1.57844484e-01,\n",
       "         8.15944195e-01,  2.85980433e-01, -5.80333650e-01,\n",
       "         5.52659512e-01,  1.53104460e+00,  3.35120380e-01,\n",
       "         3.54554534e-01,  1.04531038e+00, -1.39988959e-01,\n",
       "        -3.18477452e-02,  1.40918627e-01,  4.67169881e-02,\n",
       "        -2.09423110e-01,  7.94180155e-01,  5.30392468e-01,\n",
       "         6.72450185e-01,  6.34407163e-01, -1.25352585e+00,\n",
       "         1.61172658e-01, -6.00308836e-01, -9.90206480e-01,\n",
       "        -7.65854955e-01,  2.90143311e-01,  2.55753547e-01,\n",
       "        -1.10725689e+00, -1.96330190e+00, -2.81359971e-01,\n",
       "         1.85286164e+00, -6.99783921e-01, -7.01435208e-02,\n",
       "        -3.85828316e-02,  6.27058685e-01,  1.79238534e+00,\n",
       "         7.75062263e-01, -3.88408899e-01,  4.44308817e-01,\n",
       "        -5.26405811e-01, -5.92082083e-01, -3.20383370e-01,\n",
       "        -6.03983462e-01, -1.41507238e-01, -3.91925871e-01,\n",
       "         4.22876656e-01,  8.52226496e-01, -1.21177530e+00,\n",
       "        -4.15588915e-01, -9.07731354e-01,  1.35027623e+00,\n",
       "        -6.20164990e-01, -3.40306103e-01,  5.43529630e-01,\n",
       "         2.67764628e-01,  5.51136911e-01, -1.81768611e-01,\n",
       "         9.49283838e-01, -1.99311948e+00,  4.66378152e-01,\n",
       "        -1.69505906e+00,  1.02299666e+00, -1.52014539e-01,\n",
       "        -1.56371295e-02, -1.02568185e+00, -1.83878988e-01,\n",
       "         6.20930970e-01, -1.06518316e+00,  6.49990320e-01,\n",
       "        -3.21707308e-01, -8.32060128e-02, -1.05134797e+00,\n",
       "        -3.06908369e-01,  2.12777227e-01,  1.64795637e-01,\n",
       "        -1.90717608e-01,  2.32470632e-02,  4.58281219e-01,\n",
       "         1.28621125e+00,  5.09751320e-01, -2.45071709e-01,\n",
       "         1.31326008e+00,  1.79534376e-01, -1.28406394e+00,\n",
       "         1.66564271e-01, -1.68315917e-02,  6.73023999e-01,\n",
       "        -5.18179357e-01, -5.74986190e-02, -3.10442984e-01,\n",
       "         1.39170241e+00, -3.53199184e-01,  1.09083390e+00,\n",
       "         8.67907822e-01,  3.05800647e-01,  6.09834939e-02,\n",
       "        -7.33297020e-02,  3.08636546e-01,  1.55606556e+00,\n",
       "         4.25106138e-01,  2.74706423e-01, -4.81657594e-01,\n",
       "        -1.02832437e-01,  7.50172138e-01,  1.12916660e+00,\n",
       "        -2.48790473e-01,  1.27373123e+00,  6.52770162e-01,\n",
       "         1.83943868e-01, -2.63664544e-01,  1.60036922e-01,\n",
       "        -2.18102932e-02,  1.23002470e-01,  1.18352938e+00,\n",
       "        -1.54382408e-01, -1.30704463e+00, -3.09272140e-01,\n",
       "        -1.31703466e-01,  1.23772240e+00, -1.40949249e-01,\n",
       "         1.24245751e+00,  4.07933414e-01,  2.79624790e-01,\n",
       "        -2.24450752e-01,  3.09647650e-01,  4.39546257e-02,\n",
       "         1.33338881e+00,  3.89014989e-01,  1.29428303e+00,\n",
       "        -1.89915746e-01,  2.13026047e-01,  2.29619145e-02,\n",
       "         2.99819708e-02, -5.35621643e-02, -6.13247752e-01,\n",
       "        -8.43818784e-02,  2.10490286e-01, -2.85704017e-01,\n",
       "         1.14574850e+00,  5.68313897e-01,  1.53646082e-01,\n",
       "        -4.73233521e-01,  1.75660849e-01, -1.14591587e+00,\n",
       "        -7.90993571e-02,  7.28254318e-02, -6.46922588e-02,\n",
       "        -2.85485506e-01,  8.15965354e-01, -1.45951009e+00,\n",
       "        -5.45266926e-01, -1.74041986e-01, -5.88909507e-01,\n",
       "        -7.04899013e-01,  5.60278893e-01,  1.18675053e-01,\n",
       "         7.19924152e-01,  2.82801211e-01,  2.17172146e-01,\n",
       "        -1.44977957e-01,  5.17859399e-01,  1.57521617e+00,\n",
       "         3.06731045e-01, -1.31937668e-01,  1.15901321e-01,\n",
       "        -8.84379745e-02, -4.54515666e-01, -1.52014065e+00,\n",
       "        -1.27047837e-01,  4.72449839e-01, -5.23298621e-01,\n",
       "         8.14676285e-04, -9.06944275e-03, -2.14577138e-01,\n",
       "        -7.13167489e-01,  3.13070714e-01, -7.53323615e-01,\n",
       "        -8.51807892e-02, -1.45315242e+00,  1.33145124e-01,\n",
       "        -4.99060035e-01, -5.62603354e-01,  6.81964457e-02]], dtype=float32)"
      ]
     },
     "execution_count": 17,
     "metadata": {},
     "output_type": "execute_result"
    }
   ],
   "source": [
    "semantic_axis_vectors['(man, woman)']"
   ]
  },
  {
   "cell_type": "markdown",
   "metadata": {},
   "source": [
    "## Conclusion\n",
    "\n",
    "- Total of 3131 adjective antonym pairs plus 1 or more custom pairs\n",
    "- Each pair must have GloVe embeddings (i.e. embedding not [0,0,0,0,0, ..., 0])"
   ]
  },
  {
   "cell_type": "markdown",
   "metadata": {},
   "source": [
    "# 2. Contribution of a Word to Microframes"
   ]
  },
  {
   "cell_type": "markdown",
   "metadata": {},
   "source": [
    "### Wrapper for cosine similarity\n",
    "Given two words, find similarity:"
   ]
  },
  {
   "cell_type": "code",
   "execution_count": 20,
   "metadata": {},
   "outputs": [
    {
     "data": {
      "text/plain": [
       "0.4079359769821167"
      ]
     },
     "execution_count": 20,
     "metadata": {},
     "output_type": "execute_result"
    }
   ],
   "source": [
    "from sklearn.metrics.pairwise import cosine_similarity\n",
    "def my_cos_similarity(func):\n",
    "    def wrapper(sent, axis_vector):\n",
    "        return func(np.expand_dims(sbert.encode(sent), axis=0), axis_vector)\n",
    "    return wrapper\n",
    "\n",
    "@my_cos_similarity\n",
    "def cos_similarity(x, y):\n",
    "    return cosine_similarity(x, y).item()\n",
    "\n",
    "cos_similarity('I am in love with a woman.',semantic_axis_vectors['(man, woman)'])"
   ]
  },
  {
   "cell_type": "markdown",
   "metadata": {},
   "source": [
    "The **absolute value** of the similarity between a word vector and\n",
    "a microframe vector captures the relevance of the word to the\n",
    "microframe, while the **sign** of the similarity captures a bias toward\n",
    "one of the poles in the microframe."
   ]
  },
  {
   "cell_type": "markdown",
   "metadata": {},
   "source": [
    "# 3. Framing Bias and Intensity"
   ]
  },
  {
   "cell_type": "markdown",
   "metadata": {},
   "source": [
    "## Bias and word frequency"
   ]
  },
  {
   "cell_type": "code",
   "execution_count": 21,
   "metadata": {},
   "outputs": [],
   "source": [
    "import nltk\n",
    "from multiprocessing import Pool\n",
    "from tqdm.notebook import tqdm"
   ]
  },
  {
   "cell_type": "code",
   "execution_count": 22,
   "metadata": {},
   "outputs": [],
   "source": [
    "# f\n",
    "# word is a single word string\n",
    "# doc_tokens is a list of all document tokens\n",
    "\n",
    "def sent_freq(sent, doc_sents):\n",
    "    return doc_sents.count(sent)"
   ]
  },
  {
   "cell_type": "markdown",
   "metadata": {},
   "source": [
    "### Regular function"
   ]
  },
  {
   "cell_type": "code",
   "execution_count": 23,
   "metadata": {},
   "outputs": [],
   "source": [
    "# B\n",
    "def bias(doc, frame=None):\n",
    "    doc_sents = nltk.sent_tokenize(doc)\n",
    "    \n",
    "    numerator, denominator = 0, 0\n",
    "    for sent in doc_sents:\n",
    "        numerator += sent_freq(sent, doc_sents) * cos_similarity(sent, semantic_axis_vectors[frame])\n",
    "        denominator += sent_freq(sent, doc_sents)\n",
    "        \n",
    "    return numerator / denominator"
   ]
  },
  {
   "cell_type": "code",
   "execution_count": 24,
   "metadata": {},
   "outputs": [
    {
     "name": "stdout",
     "output_type": "stream",
     "text": [
      "150 ms ± 960 µs per loop (mean ± std. dev. of 7 runs, 10 loops each)\n"
     ]
    }
   ],
   "source": [
    "%%timeit\n",
    "sample = data_cleaned['RS_2020_nosleep'].iloc[0:1].selftext.item()\n",
    "bias(sample, frame='(man, woman)')"
   ]
  },
  {
   "cell_type": "markdown",
   "metadata": {},
   "source": [
    "### Same function, but with performance enhancement"
   ]
  },
  {
   "cell_type": "code",
   "execution_count": 25,
   "metadata": {},
   "outputs": [],
   "source": [
    "# B\n",
    "def bias(doc, frame=None):\n",
    "    doc_sents = nltk.sent_tokenize(doc)\n",
    "    li = [ sum([sent_freq(sent, doc_sents) * cos_similarity(sent, semantic_axis_vectors[f\"({ant1}, {ant2})\"]) for sent in doc_sents]) / sum([sent_freq(sent, doc_sents) for sent in doc_sents]) for ant1, ant2 in tqdm(frame)]\n",
    "    return li"
   ]
  },
  {
   "cell_type": "code",
   "execution_count": 26,
   "metadata": {},
   "outputs": [
    {
     "data": {
      "application/vnd.jupyter.widget-view+json": {
       "model_id": "2d9a9571766d4708a7224ca12b9af602",
       "version_major": 2,
       "version_minor": 0
      },
      "text/plain": [
       "  0%|          | 0/1 [00:00<?, ?it/s]"
      ]
     },
     "metadata": {},
     "output_type": "display_data"
    },
    {
     "data": {
      "text/plain": [
       "[0.06302168016770372]"
      ]
     },
     "execution_count": 26,
     "metadata": {},
     "output_type": "execute_result"
    }
   ],
   "source": [
    "# %%timeit\n",
    "sample = data_cleaned['RS_2020_nosleep'].iloc[0:1].selftext.item()\n",
    "bias(sample, frame={('man', 'woman')})"
   ]
  },
  {
   "cell_type": "code",
   "execution_count": null,
   "metadata": {},
   "outputs": [],
   "source": []
  },
  {
   "cell_type": "code",
   "execution_count": 27,
   "metadata": {},
   "outputs": [],
   "source": [
    "import pandas as pd\n",
    "import numpy as np\n",
    "\n",
    "def df_mframes(df, microframes=microframes, topn=None):\n",
    "    # if not specify topn\n",
    "    if not topn:\n",
    "        iterables = [df['id'].to_list(), list(microframes)]\n",
    "        index = pd.MultiIndex.from_product(iterables, names=['id', 'microframe'])\n",
    "        df_new = pd.DataFrame(np.repeat(df[['title', 'selftext', 'score']].values, \n",
    "                                    len(microframes), \n",
    "                                    axis = 0),\n",
    "                          index=index,\n",
    "                          columns=['title', 'selftext', 'score']).copy()\n",
    "        # map semantic axis vector to index\n",
    "        # how it works: index -> get 2nd level index -> to series -> convert tuple to string -> map values\n",
    "        a = df_new.index.get_level_values(1).to_series().apply(lambda row: f\"({row[0]}, {row[1]})\").map(semantic_axis_vectors)\n",
    "        df_new['Semantic Axis Vector'] = a.to_list()\n",
    "        return df_new\n",
    "    else:\n",
    "        iterables = [df['id'].head(topn).to_list(), list(microframes)]\n",
    "        index = pd.MultiIndex.from_product(iterables, names=['id', 'microframe'])\n",
    "        df_new = pd.DataFrame(np.repeat(df[['title', 'selftext', 'score']].head(topn).values, \n",
    "                                    len(microframes), \n",
    "                                    axis = 0),\n",
    "                          index=index,\n",
    "                          columns=['title', 'selftext', 'score']).copy()\n",
    "        # map semantic axis vector to index\n",
    "        # how it works: index -> get 2nd level index -> to series -> convert tuple to string -> map values\n",
    "        a = df_new.index.get_level_values(1).to_series().apply(lambda row: f\"({row[0]}, {row[1]})\").map(semantic_axis_vectors)\n",
    "        df_new['Semantic Axis Vector'] = a.to_list()\n",
    "        return df_new"
   ]
  },
  {
   "cell_type": "code",
   "execution_count": 28,
   "metadata": {},
   "outputs": [],
   "source": [
    "sample_doc = data_cleaned['RS_2020_nosleep'].iloc[0:1].selftext.item()"
   ]
  },
  {
   "cell_type": "code",
   "execution_count": 29,
   "metadata": {},
   "outputs": [
    {
     "name": "stdout",
     "output_type": "stream",
     "text": [
      "This is the only rule of our household. If you feel a presence standing over you while you sleep, do **NOT** open your eyes. Ignore it and try to fall asleep. This may sound a bit like the show Bird Box from Netflix but this is real, this is serious. You don't want to know what happens if you open your eyes. Let me start from the beginning, from where it all began.\n",
      "\n",
      "------------------------\n",
      "\n",
      "My family had just moved to a new house in a new city in an eerily quiet neighborhood. We barely ever saw the neighbors and there were almost no animals around. It threw me off a little bit but i quickly got accustomed to it. My school was pretty close to my house so it was not difficult to make friends that I could regularly bring home. So, a few months in the new house, when i was sleeping one night, i felt a figure standing over me. Now, I have always been a bit of a scaredy cat so I slammed my eyes shut and waited. A few moments later, I felt it go away. This happened to me every night and I continuously told my parents about it but they never believed me. They said that i was dreaming and not to think about it too much but i kept on badgering them until they finally installed a camera in every room just as a precaution. The next night when the presence came again, i followed the same routine of keeping my eyes shut until it went away. The next morning i asked my parents to check the cameras. Even though they were skeptical, they checked the camera and what they saw apparently shocked them to the core but me, not so much.\n",
      "\n",
      "The camera showed that when i go to sleep, or act like it, a shadowy figure came and stood over my bed with its face hidden in such a fashion that it can only be seen if the person in the bed looked straight up. The figure/creature appeared to be wearing some sort of cloak with a 5 point star drawn on it. Now, my family is not very religious but seemed to horrify my parents. The problem was, which we soon figured out, we could not go to the church or temple or any kind of holy place without angering this creature. Every time any of my parents set out to go to any of these places, dangerous incidents seem to happen which, don't happen to kill, but seem to be some kind of warning like the car swerving off the road or a car speeding dangerously close while crossing the road. We soon realized that something supernatural was at play.\n",
      "\n",
      "It was after my mom almost got run over by a cement mixture truck that we gave up our attempts to contact a holy leader. We made the rule and to this day we have never had a single incident except ONE. But that is a story for some other time...\n"
     ]
    }
   ],
   "source": [
    "print(sample_doc)"
   ]
  },
  {
   "cell_type": "code",
   "execution_count": 30,
   "metadata": {},
   "outputs": [],
   "source": [
    "with open('Download/concat_texts.txt', 'r') as file:\n",
    "    concat_texts = file.read()\n",
    "    T = nltk.sent_tokenize(concat_texts)"
   ]
  },
  {
   "cell_type": "code",
   "execution_count": 31,
   "metadata": {},
   "outputs": [
    {
     "data": {
      "text/plain": [
       "27"
      ]
     },
     "execution_count": 31,
     "metadata": {},
     "output_type": "execute_result"
    }
   ],
   "source": [
    "len(nltk.sent_tokenize(sample_doc))"
   ]
  },
  {
   "cell_type": "code",
   "execution_count": 53,
   "metadata": {
    "collapsed": true,
    "jupyter": {
     "outputs_hidden": true
    }
   },
   "outputs": [
    {
     "data": {
      "application/vnd.jupyter.widget-view+json": {
       "model_id": "6106c7d64e634d9290b75f569d208229",
       "version_major": 2,
       "version_minor": 0
      },
      "text/plain": [
       "  0%|          | 0/140 [00:00<?, ?it/s]"
      ]
     },
     "metadata": {},
     "output_type": "display_data"
    },
    {
     "data": {
      "application/vnd.jupyter.widget-view+json": {
       "model_id": "ef86edbcb6644e3885159c0b4ebe94d7",
       "version_major": 2,
       "version_minor": 0
      },
      "text/plain": [
       "  0%|          | 0/3533 [00:00<?, ?it/s]"
      ]
     },
     "metadata": {},
     "output_type": "display_data"
    },
    {
     "data": {
      "application/vnd.jupyter.widget-view+json": {
       "model_id": "3df8ddbc6b4f4c4fa4b3ad8e3ed43d57",
       "version_major": 2,
       "version_minor": 0
      },
      "text/plain": [
       "  0%|          | 0/3533 [00:00<?, ?it/s]"
      ]
     },
     "metadata": {},
     "output_type": "display_data"
    },
    {
     "data": {
      "application/vnd.jupyter.widget-view+json": {
       "model_id": "d5bf98400eba48b18842ba4335e5befe",
       "version_major": 2,
       "version_minor": 0
      },
      "text/plain": [
       "  0%|          | 0/3533 [00:00<?, ?it/s]"
      ]
     },
     "metadata": {},
     "output_type": "display_data"
    },
    {
     "data": {
      "application/vnd.jupyter.widget-view+json": {
       "model_id": "c9f9e97560764c0a93a938324740a0bf",
       "version_major": 2,
       "version_minor": 0
      },
      "text/plain": [
       "  0%|          | 0/3533 [00:00<?, ?it/s]"
      ]
     },
     "metadata": {},
     "output_type": "display_data"
    },
    {
     "data": {
      "application/vnd.jupyter.widget-view+json": {
       "model_id": "5f1a178602ec4c3390fb0cfac2790305",
       "version_major": 2,
       "version_minor": 0
      },
      "text/plain": [
       "  0%|          | 0/3533 [00:00<?, ?it/s]"
      ]
     },
     "metadata": {},
     "output_type": "display_data"
    },
    {
     "data": {
      "application/vnd.jupyter.widget-view+json": {
       "model_id": "7ec32297f60f48aeac057fcb2e27942d",
       "version_major": 2,
       "version_minor": 0
      },
      "text/plain": [
       "  0%|          | 0/3533 [00:00<?, ?it/s]"
      ]
     },
     "metadata": {},
     "output_type": "display_data"
    },
    {
     "data": {
      "application/vnd.jupyter.widget-view+json": {
       "model_id": "6f8c845cde5343b7b78bfb618729b73a",
       "version_major": 2,
       "version_minor": 0
      },
      "text/plain": [
       "  0%|          | 0/3533 [00:00<?, ?it/s]"
      ]
     },
     "metadata": {},
     "output_type": "display_data"
    },
    {
     "data": {
      "application/vnd.jupyter.widget-view+json": {
       "model_id": "7c98262e36e740d195009585f4315bd4",
       "version_major": 2,
       "version_minor": 0
      },
      "text/plain": [
       "  0%|          | 0/3533 [00:00<?, ?it/s]"
      ]
     },
     "metadata": {},
     "output_type": "display_data"
    },
    {
     "data": {
      "application/vnd.jupyter.widget-view+json": {
       "model_id": "6892a0cbb84a41f486160877ba989621",
       "version_major": 2,
       "version_minor": 0
      },
      "text/plain": [
       "  0%|          | 0/3533 [00:00<?, ?it/s]"
      ]
     },
     "metadata": {},
     "output_type": "display_data"
    },
    {
     "data": {
      "application/vnd.jupyter.widget-view+json": {
       "model_id": "b36597de354442e8b82f7ddd9444c50a",
       "version_major": 2,
       "version_minor": 0
      },
      "text/plain": [
       "  0%|          | 0/3533 [00:00<?, ?it/s]"
      ]
     },
     "metadata": {},
     "output_type": "display_data"
    },
    {
     "data": {
      "application/vnd.jupyter.widget-view+json": {
       "model_id": "96aa907c7c614b0388a9db50c1c66a3e",
       "version_major": 2,
       "version_minor": 0
      },
      "text/plain": [
       "  0%|          | 0/3533 [00:00<?, ?it/s]"
      ]
     },
     "metadata": {},
     "output_type": "display_data"
    },
    {
     "data": {
      "application/vnd.jupyter.widget-view+json": {
       "model_id": "a250d42c052047cc96013604de69c02d",
       "version_major": 2,
       "version_minor": 0
      },
      "text/plain": [
       "  0%|          | 0/3533 [00:00<?, ?it/s]"
      ]
     },
     "metadata": {},
     "output_type": "display_data"
    },
    {
     "data": {
      "application/vnd.jupyter.widget-view+json": {
       "model_id": "69c7895c71cd45acb2fc004bb7709b80",
       "version_major": 2,
       "version_minor": 0
      },
      "text/plain": [
       "  0%|          | 0/3533 [00:00<?, ?it/s]"
      ]
     },
     "metadata": {},
     "output_type": "display_data"
    },
    {
     "data": {
      "application/vnd.jupyter.widget-view+json": {
       "model_id": "f210e9cc06464b4caad518f3210f63a9",
       "version_major": 2,
       "version_minor": 0
      },
      "text/plain": [
       "  0%|          | 0/3533 [00:00<?, ?it/s]"
      ]
     },
     "metadata": {},
     "output_type": "display_data"
    },
    {
     "data": {
      "application/vnd.jupyter.widget-view+json": {
       "model_id": "128260f940ee4d7389dbef030111dd76",
       "version_major": 2,
       "version_minor": 0
      },
      "text/plain": [
       "  0%|          | 0/3533 [00:00<?, ?it/s]"
      ]
     },
     "metadata": {},
     "output_type": "display_data"
    },
    {
     "data": {
      "application/vnd.jupyter.widget-view+json": {
       "model_id": "4a6d12978f74480c80c512e7bac62bb0",
       "version_major": 2,
       "version_minor": 0
      },
      "text/plain": [
       "  0%|          | 0/3533 [00:00<?, ?it/s]"
      ]
     },
     "metadata": {},
     "output_type": "display_data"
    },
    {
     "data": {
      "application/vnd.jupyter.widget-view+json": {
       "model_id": "cf857b6a9209456d8c63e04708c95e0b",
       "version_major": 2,
       "version_minor": 0
      },
      "text/plain": [
       "  0%|          | 0/3533 [00:00<?, ?it/s]"
      ]
     },
     "metadata": {},
     "output_type": "display_data"
    },
    {
     "data": {
      "application/vnd.jupyter.widget-view+json": {
       "model_id": "a97bd7f24e39425a979ae70428e8ad5f",
       "version_major": 2,
       "version_minor": 0
      },
      "text/plain": [
       "  0%|          | 0/3533 [00:00<?, ?it/s]"
      ]
     },
     "metadata": {},
     "output_type": "display_data"
    },
    {
     "data": {
      "application/vnd.jupyter.widget-view+json": {
       "model_id": "6c522ebcffa84e40b2f48a52c75f433f",
       "version_major": 2,
       "version_minor": 0
      },
      "text/plain": [
       "  0%|          | 0/3533 [00:00<?, ?it/s]"
      ]
     },
     "metadata": {},
     "output_type": "display_data"
    },
    {
     "data": {
      "application/vnd.jupyter.widget-view+json": {
       "model_id": "918149e5bc11441bae88a45b0fccddc4",
       "version_major": 2,
       "version_minor": 0
      },
      "text/plain": [
       "  0%|          | 0/3533 [00:00<?, ?it/s]"
      ]
     },
     "metadata": {},
     "output_type": "display_data"
    },
    {
     "data": {
      "application/vnd.jupyter.widget-view+json": {
       "model_id": "4ab7905b0e784a23b35194ea3db53b78",
       "version_major": 2,
       "version_minor": 0
      },
      "text/plain": [
       "  0%|          | 0/3533 [00:00<?, ?it/s]"
      ]
     },
     "metadata": {},
     "output_type": "display_data"
    },
    {
     "data": {
      "application/vnd.jupyter.widget-view+json": {
       "model_id": "926bf2bf89214d74a83e9e1526619da4",
       "version_major": 2,
       "version_minor": 0
      },
      "text/plain": [
       "  0%|          | 0/3533 [00:00<?, ?it/s]"
      ]
     },
     "metadata": {},
     "output_type": "display_data"
    },
    {
     "data": {
      "application/vnd.jupyter.widget-view+json": {
       "model_id": "0b73a93015f04713809babd4e0284253",
       "version_major": 2,
       "version_minor": 0
      },
      "text/plain": [
       "  0%|          | 0/3533 [00:00<?, ?it/s]"
      ]
     },
     "metadata": {},
     "output_type": "display_data"
    },
    {
     "data": {
      "application/vnd.jupyter.widget-view+json": {
       "model_id": "1abb362e0b40466ca16692822b865e1c",
       "version_major": 2,
       "version_minor": 0
      },
      "text/plain": [
       "  0%|          | 0/3533 [00:00<?, ?it/s]"
      ]
     },
     "metadata": {},
     "output_type": "display_data"
    },
    {
     "data": {
      "application/vnd.jupyter.widget-view+json": {
       "model_id": "f5ecb871e7a94d298c13f02efc83fec9",
       "version_major": 2,
       "version_minor": 0
      },
      "text/plain": [
       "  0%|          | 0/3533 [00:00<?, ?it/s]"
      ]
     },
     "metadata": {},
     "output_type": "display_data"
    },
    {
     "data": {
      "application/vnd.jupyter.widget-view+json": {
       "model_id": "9984fea904d146d48b6faecfb18554e3",
       "version_major": 2,
       "version_minor": 0
      },
      "text/plain": [
       "  0%|          | 0/3533 [00:00<?, ?it/s]"
      ]
     },
     "metadata": {},
     "output_type": "display_data"
    },
    {
     "data": {
      "application/vnd.jupyter.widget-view+json": {
       "model_id": "76d7b734e7a744afb8ce745885609a2d",
       "version_major": 2,
       "version_minor": 0
      },
      "text/plain": [
       "  0%|          | 0/3533 [00:00<?, ?it/s]"
      ]
     },
     "metadata": {},
     "output_type": "display_data"
    },
    {
     "data": {
      "application/vnd.jupyter.widget-view+json": {
       "model_id": "f7933dce935f42d5823248edd9213bbd",
       "version_major": 2,
       "version_minor": 0
      },
      "text/plain": [
       "  0%|          | 0/3533 [00:00<?, ?it/s]"
      ]
     },
     "metadata": {},
     "output_type": "display_data"
    },
    {
     "data": {
      "application/vnd.jupyter.widget-view+json": {
       "model_id": "59c016e9607741a9ae62053712ed7d47",
       "version_major": 2,
       "version_minor": 0
      },
      "text/plain": [
       "  0%|          | 0/3533 [00:00<?, ?it/s]"
      ]
     },
     "metadata": {},
     "output_type": "display_data"
    },
    {
     "data": {
      "application/vnd.jupyter.widget-view+json": {
       "model_id": "14432a1983ae4b2ba0a349998fd7e0d0",
       "version_major": 2,
       "version_minor": 0
      },
      "text/plain": [
       "  0%|          | 0/3533 [00:00<?, ?it/s]"
      ]
     },
     "metadata": {},
     "output_type": "display_data"
    },
    {
     "data": {
      "application/vnd.jupyter.widget-view+json": {
       "model_id": "9aeef395f26541d6923c1f1dbae51469",
       "version_major": 2,
       "version_minor": 0
      },
      "text/plain": [
       "  0%|          | 0/3533 [00:00<?, ?it/s]"
      ]
     },
     "metadata": {},
     "output_type": "display_data"
    },
    {
     "data": {
      "application/vnd.jupyter.widget-view+json": {
       "model_id": "ddb3bf3dd0ce4a4d85489b40aad7c9d6",
       "version_major": 2,
       "version_minor": 0
      },
      "text/plain": [
       "  0%|          | 0/3533 [00:00<?, ?it/s]"
      ]
     },
     "metadata": {},
     "output_type": "display_data"
    },
    {
     "data": {
      "application/vnd.jupyter.widget-view+json": {
       "model_id": "aa64c9cd289f4279979760c6c0f246b5",
       "version_major": 2,
       "version_minor": 0
      },
      "text/plain": [
       "  0%|          | 0/3533 [00:00<?, ?it/s]"
      ]
     },
     "metadata": {},
     "output_type": "display_data"
    },
    {
     "data": {
      "application/vnd.jupyter.widget-view+json": {
       "model_id": "dd706e2f683b46e7901ea55eb89ab946",
       "version_major": 2,
       "version_minor": 0
      },
      "text/plain": [
       "  0%|          | 0/3533 [00:00<?, ?it/s]"
      ]
     },
     "metadata": {},
     "output_type": "display_data"
    },
    {
     "data": {
      "application/vnd.jupyter.widget-view+json": {
       "model_id": "6f66b11e97d44ec5bede2395f9d3eee9",
       "version_major": 2,
       "version_minor": 0
      },
      "text/plain": [
       "  0%|          | 0/3533 [00:00<?, ?it/s]"
      ]
     },
     "metadata": {},
     "output_type": "display_data"
    },
    {
     "data": {
      "application/vnd.jupyter.widget-view+json": {
       "model_id": "c8a6869d2e384201936f683a3dd0d75c",
       "version_major": 2,
       "version_minor": 0
      },
      "text/plain": [
       "  0%|          | 0/3533 [00:00<?, ?it/s]"
      ]
     },
     "metadata": {},
     "output_type": "display_data"
    },
    {
     "data": {
      "application/vnd.jupyter.widget-view+json": {
       "model_id": "2db9e25128d64fbb8f401760ed01bed2",
       "version_major": 2,
       "version_minor": 0
      },
      "text/plain": [
       "  0%|          | 0/3533 [00:00<?, ?it/s]"
      ]
     },
     "metadata": {},
     "output_type": "display_data"
    },
    {
     "data": {
      "application/vnd.jupyter.widget-view+json": {
       "model_id": "1ff9cf1fbedc46fbb371a6b3e43ebf4c",
       "version_major": 2,
       "version_minor": 0
      },
      "text/plain": [
       "  0%|          | 0/3533 [00:00<?, ?it/s]"
      ]
     },
     "metadata": {},
     "output_type": "display_data"
    },
    {
     "data": {
      "application/vnd.jupyter.widget-view+json": {
       "model_id": "133002f7d4ee4dedb10d115cd5ce775e",
       "version_major": 2,
       "version_minor": 0
      },
      "text/plain": [
       "  0%|          | 0/3533 [00:00<?, ?it/s]"
      ]
     },
     "metadata": {},
     "output_type": "display_data"
    },
    {
     "data": {
      "application/vnd.jupyter.widget-view+json": {
       "model_id": "72a75808aaee4c1cb22545ac56fdfbd9",
       "version_major": 2,
       "version_minor": 0
      },
      "text/plain": [
       "  0%|          | 0/3533 [00:00<?, ?it/s]"
      ]
     },
     "metadata": {},
     "output_type": "display_data"
    },
    {
     "data": {
      "application/vnd.jupyter.widget-view+json": {
       "model_id": "2eb0a5c5c9e84a1c87b6c18c080c8575",
       "version_major": 2,
       "version_minor": 0
      },
      "text/plain": [
       "  0%|          | 0/3533 [00:00<?, ?it/s]"
      ]
     },
     "metadata": {},
     "output_type": "display_data"
    },
    {
     "data": {
      "application/vnd.jupyter.widget-view+json": {
       "model_id": "86cc91c010f140c4b8bbb71f7a3647f9",
       "version_major": 2,
       "version_minor": 0
      },
      "text/plain": [
       "  0%|          | 0/3533 [00:00<?, ?it/s]"
      ]
     },
     "metadata": {},
     "output_type": "display_data"
    },
    {
     "data": {
      "application/vnd.jupyter.widget-view+json": {
       "model_id": "62a925b1bd344753aafb3510e5c11de1",
       "version_major": 2,
       "version_minor": 0
      },
      "text/plain": [
       "  0%|          | 0/3533 [00:00<?, ?it/s]"
      ]
     },
     "metadata": {},
     "output_type": "display_data"
    },
    {
     "data": {
      "application/vnd.jupyter.widget-view+json": {
       "model_id": "b3e7c44bab8040a48a288a7d81980a48",
       "version_major": 2,
       "version_minor": 0
      },
      "text/plain": [
       "  0%|          | 0/3533 [00:00<?, ?it/s]"
      ]
     },
     "metadata": {},
     "output_type": "display_data"
    },
    {
     "data": {
      "application/vnd.jupyter.widget-view+json": {
       "model_id": "d78f54208d044727a6163c1fa8b83028",
       "version_major": 2,
       "version_minor": 0
      },
      "text/plain": [
       "  0%|          | 0/3533 [00:00<?, ?it/s]"
      ]
     },
     "metadata": {},
     "output_type": "display_data"
    },
    {
     "data": {
      "application/vnd.jupyter.widget-view+json": {
       "model_id": "f790464fd0b14a2f94a1679e5af262b5",
       "version_major": 2,
       "version_minor": 0
      },
      "text/plain": [
       "  0%|          | 0/3533 [00:00<?, ?it/s]"
      ]
     },
     "metadata": {},
     "output_type": "display_data"
    },
    {
     "data": {
      "application/vnd.jupyter.widget-view+json": {
       "model_id": "7e5c8e886ded433193c3a24db9570625",
       "version_major": 2,
       "version_minor": 0
      },
      "text/plain": [
       "  0%|          | 0/3533 [00:00<?, ?it/s]"
      ]
     },
     "metadata": {},
     "output_type": "display_data"
    },
    {
     "data": {
      "application/vnd.jupyter.widget-view+json": {
       "model_id": "4936f201b4f44e4b8caebaea03b584ec",
       "version_major": 2,
       "version_minor": 0
      },
      "text/plain": [
       "  0%|          | 0/3533 [00:00<?, ?it/s]"
      ]
     },
     "metadata": {},
     "output_type": "display_data"
    },
    {
     "data": {
      "application/vnd.jupyter.widget-view+json": {
       "model_id": "b938f86e617c452fb2f2be2ab176586a",
       "version_major": 2,
       "version_minor": 0
      },
      "text/plain": [
       "  0%|          | 0/3533 [00:00<?, ?it/s]"
      ]
     },
     "metadata": {},
     "output_type": "display_data"
    },
    {
     "data": {
      "application/vnd.jupyter.widget-view+json": {
       "model_id": "f9a53eca155c4c1aa85b4dc22caba66d",
       "version_major": 2,
       "version_minor": 0
      },
      "text/plain": [
       "  0%|          | 0/3533 [00:00<?, ?it/s]"
      ]
     },
     "metadata": {},
     "output_type": "display_data"
    },
    {
     "data": {
      "application/vnd.jupyter.widget-view+json": {
       "model_id": "4d29306dcc8c4d1386f57df1ec656438",
       "version_major": 2,
       "version_minor": 0
      },
      "text/plain": [
       "  0%|          | 0/3533 [00:00<?, ?it/s]"
      ]
     },
     "metadata": {},
     "output_type": "display_data"
    },
    {
     "data": {
      "application/vnd.jupyter.widget-view+json": {
       "model_id": "5b96c114f3194f9d87226e4c1dd06089",
       "version_major": 2,
       "version_minor": 0
      },
      "text/plain": [
       "  0%|          | 0/3533 [00:00<?, ?it/s]"
      ]
     },
     "metadata": {},
     "output_type": "display_data"
    },
    {
     "data": {
      "application/vnd.jupyter.widget-view+json": {
       "model_id": "ec802b2c4079467cb02c50bc4474a15c",
       "version_major": 2,
       "version_minor": 0
      },
      "text/plain": [
       "  0%|          | 0/3533 [00:00<?, ?it/s]"
      ]
     },
     "metadata": {},
     "output_type": "display_data"
    },
    {
     "data": {
      "application/vnd.jupyter.widget-view+json": {
       "model_id": "ebc379d6ff2b4f7093432405730be3f2",
       "version_major": 2,
       "version_minor": 0
      },
      "text/plain": [
       "  0%|          | 0/3533 [00:00<?, ?it/s]"
      ]
     },
     "metadata": {},
     "output_type": "display_data"
    },
    {
     "data": {
      "application/vnd.jupyter.widget-view+json": {
       "model_id": "57685ff09a404549927ec3be18fc64f3",
       "version_major": 2,
       "version_minor": 0
      },
      "text/plain": [
       "  0%|          | 0/3533 [00:00<?, ?it/s]"
      ]
     },
     "metadata": {},
     "output_type": "display_data"
    },
    {
     "data": {
      "application/vnd.jupyter.widget-view+json": {
       "model_id": "efbc41e2996d457e8f60a618b8eeff45",
       "version_major": 2,
       "version_minor": 0
      },
      "text/plain": [
       "  0%|          | 0/3533 [00:00<?, ?it/s]"
      ]
     },
     "metadata": {},
     "output_type": "display_data"
    },
    {
     "data": {
      "application/vnd.jupyter.widget-view+json": {
       "model_id": "b0b172cd26e84d1dadb6dee4b1db219e",
       "version_major": 2,
       "version_minor": 0
      },
      "text/plain": [
       "  0%|          | 0/3533 [00:00<?, ?it/s]"
      ]
     },
     "metadata": {},
     "output_type": "display_data"
    },
    {
     "data": {
      "application/vnd.jupyter.widget-view+json": {
       "model_id": "35a7849b2488459185867736a812bd47",
       "version_major": 2,
       "version_minor": 0
      },
      "text/plain": [
       "  0%|          | 0/3533 [00:00<?, ?it/s]"
      ]
     },
     "metadata": {},
     "output_type": "display_data"
    },
    {
     "data": {
      "application/vnd.jupyter.widget-view+json": {
       "model_id": "a1e8b570eed84c299d5ccc80d58b4022",
       "version_major": 2,
       "version_minor": 0
      },
      "text/plain": [
       "  0%|          | 0/3533 [00:00<?, ?it/s]"
      ]
     },
     "metadata": {},
     "output_type": "display_data"
    },
    {
     "data": {
      "application/vnd.jupyter.widget-view+json": {
       "model_id": "b9a404f6b56f43eb95ffa72b3ac82a09",
       "version_major": 2,
       "version_minor": 0
      },
      "text/plain": [
       "  0%|          | 0/3533 [00:00<?, ?it/s]"
      ]
     },
     "metadata": {},
     "output_type": "display_data"
    },
    {
     "data": {
      "application/vnd.jupyter.widget-view+json": {
       "model_id": "73db0f037e204d039b5caad1cc0e9682",
       "version_major": 2,
       "version_minor": 0
      },
      "text/plain": [
       "  0%|          | 0/3533 [00:00<?, ?it/s]"
      ]
     },
     "metadata": {},
     "output_type": "display_data"
    },
    {
     "data": {
      "application/vnd.jupyter.widget-view+json": {
       "model_id": "efdfc2ec9f664f09acc0269aceff74bd",
       "version_major": 2,
       "version_minor": 0
      },
      "text/plain": [
       "  0%|          | 0/3533 [00:00<?, ?it/s]"
      ]
     },
     "metadata": {},
     "output_type": "display_data"
    },
    {
     "data": {
      "application/vnd.jupyter.widget-view+json": {
       "model_id": "389f316661f04ae086f7bb06975794b0",
       "version_major": 2,
       "version_minor": 0
      },
      "text/plain": [
       "  0%|          | 0/3533 [00:00<?, ?it/s]"
      ]
     },
     "metadata": {},
     "output_type": "display_data"
    },
    {
     "data": {
      "application/vnd.jupyter.widget-view+json": {
       "model_id": "40808018dd39425b9b2176454c75611b",
       "version_major": 2,
       "version_minor": 0
      },
      "text/plain": [
       "  0%|          | 0/3533 [00:00<?, ?it/s]"
      ]
     },
     "metadata": {},
     "output_type": "display_data"
    },
    {
     "data": {
      "application/vnd.jupyter.widget-view+json": {
       "model_id": "5d938a0fe86c40a382e556e7f6ee31fa",
       "version_major": 2,
       "version_minor": 0
      },
      "text/plain": [
       "  0%|          | 0/3533 [00:00<?, ?it/s]"
      ]
     },
     "metadata": {},
     "output_type": "display_data"
    },
    {
     "data": {
      "application/vnd.jupyter.widget-view+json": {
       "model_id": "1b336da492674be487e8d222fff904ba",
       "version_major": 2,
       "version_minor": 0
      },
      "text/plain": [
       "  0%|          | 0/3533 [00:00<?, ?it/s]"
      ]
     },
     "metadata": {},
     "output_type": "display_data"
    },
    {
     "data": {
      "application/vnd.jupyter.widget-view+json": {
       "model_id": "bf4d5efdd64741d0a003a502f84691e8",
       "version_major": 2,
       "version_minor": 0
      },
      "text/plain": [
       "  0%|          | 0/3533 [00:00<?, ?it/s]"
      ]
     },
     "metadata": {},
     "output_type": "display_data"
    },
    {
     "data": {
      "application/vnd.jupyter.widget-view+json": {
       "model_id": "cac7ec613630478180aa312ffbc3fbbf",
       "version_major": 2,
       "version_minor": 0
      },
      "text/plain": [
       "  0%|          | 0/3533 [00:00<?, ?it/s]"
      ]
     },
     "metadata": {},
     "output_type": "display_data"
    },
    {
     "data": {
      "application/vnd.jupyter.widget-view+json": {
       "model_id": "bc4dde1f045e4993b834f545122efbb3",
       "version_major": 2,
       "version_minor": 0
      },
      "text/plain": [
       "  0%|          | 0/3533 [00:00<?, ?it/s]"
      ]
     },
     "metadata": {},
     "output_type": "display_data"
    },
    {
     "data": {
      "application/vnd.jupyter.widget-view+json": {
       "model_id": "df74a8f80fb543708d6a1bd8b894e87d",
       "version_major": 2,
       "version_minor": 0
      },
      "text/plain": [
       "  0%|          | 0/3533 [00:00<?, ?it/s]"
      ]
     },
     "metadata": {},
     "output_type": "display_data"
    },
    {
     "data": {
      "application/vnd.jupyter.widget-view+json": {
       "model_id": "9b9525ee97cc4943b81ed11962ca5724",
       "version_major": 2,
       "version_minor": 0
      },
      "text/plain": [
       "  0%|          | 0/3533 [00:00<?, ?it/s]"
      ]
     },
     "metadata": {},
     "output_type": "display_data"
    },
    {
     "data": {
      "application/vnd.jupyter.widget-view+json": {
       "model_id": "cfb514a0c81644bfa4b15666a27e1e8f",
       "version_major": 2,
       "version_minor": 0
      },
      "text/plain": [
       "  0%|          | 0/3533 [00:00<?, ?it/s]"
      ]
     },
     "metadata": {},
     "output_type": "display_data"
    },
    {
     "data": {
      "application/vnd.jupyter.widget-view+json": {
       "model_id": "2af75a8ae7084a6da654d9f53210c2d8",
       "version_major": 2,
       "version_minor": 0
      },
      "text/plain": [
       "  0%|          | 0/3533 [00:00<?, ?it/s]"
      ]
     },
     "metadata": {},
     "output_type": "display_data"
    },
    {
     "data": {
      "application/vnd.jupyter.widget-view+json": {
       "model_id": "1f84ad829b5b4d75a1576dd93964a5f1",
       "version_major": 2,
       "version_minor": 0
      },
      "text/plain": [
       "  0%|          | 0/3533 [00:00<?, ?it/s]"
      ]
     },
     "metadata": {},
     "output_type": "display_data"
    },
    {
     "data": {
      "application/vnd.jupyter.widget-view+json": {
       "model_id": "2d965b8898e74789936ac89a2dfe49a3",
       "version_major": 2,
       "version_minor": 0
      },
      "text/plain": [
       "  0%|          | 0/3533 [00:00<?, ?it/s]"
      ]
     },
     "metadata": {},
     "output_type": "display_data"
    },
    {
     "data": {
      "application/vnd.jupyter.widget-view+json": {
       "model_id": "177c94db733a4a57be3fd5b56e12a232",
       "version_major": 2,
       "version_minor": 0
      },
      "text/plain": [
       "  0%|          | 0/3533 [00:00<?, ?it/s]"
      ]
     },
     "metadata": {},
     "output_type": "display_data"
    },
    {
     "data": {
      "application/vnd.jupyter.widget-view+json": {
       "model_id": "497573af916845919bd4fabb449deab0",
       "version_major": 2,
       "version_minor": 0
      },
      "text/plain": [
       "  0%|          | 0/3533 [00:00<?, ?it/s]"
      ]
     },
     "metadata": {},
     "output_type": "display_data"
    },
    {
     "data": {
      "application/vnd.jupyter.widget-view+json": {
       "model_id": "19412836b47a48c9b12cd7162774d386",
       "version_major": 2,
       "version_minor": 0
      },
      "text/plain": [
       "  0%|          | 0/3533 [00:00<?, ?it/s]"
      ]
     },
     "metadata": {},
     "output_type": "display_data"
    },
    {
     "data": {
      "application/vnd.jupyter.widget-view+json": {
       "model_id": "ce8a3bd047d041799bc67f6f7510d830",
       "version_major": 2,
       "version_minor": 0
      },
      "text/plain": [
       "  0%|          | 0/3533 [00:00<?, ?it/s]"
      ]
     },
     "metadata": {},
     "output_type": "display_data"
    },
    {
     "data": {
      "application/vnd.jupyter.widget-view+json": {
       "model_id": "ca00fc0cfaa44cf2b25b29bff7b0ca00",
       "version_major": 2,
       "version_minor": 0
      },
      "text/plain": [
       "  0%|          | 0/3533 [00:00<?, ?it/s]"
      ]
     },
     "metadata": {},
     "output_type": "display_data"
    },
    {
     "data": {
      "application/vnd.jupyter.widget-view+json": {
       "model_id": "d91003ced8d14d6797c6db84f39b9a37",
       "version_major": 2,
       "version_minor": 0
      },
      "text/plain": [
       "  0%|          | 0/3533 [00:00<?, ?it/s]"
      ]
     },
     "metadata": {},
     "output_type": "display_data"
    },
    {
     "data": {
      "application/vnd.jupyter.widget-view+json": {
       "model_id": "6a00f7f09a93432fac3b88a485c9fa15",
       "version_major": 2,
       "version_minor": 0
      },
      "text/plain": [
       "  0%|          | 0/3533 [00:00<?, ?it/s]"
      ]
     },
     "metadata": {},
     "output_type": "display_data"
    },
    {
     "data": {
      "application/vnd.jupyter.widget-view+json": {
       "model_id": "c58181f567ba47f4bb11077cc4fb1407",
       "version_major": 2,
       "version_minor": 0
      },
      "text/plain": [
       "  0%|          | 0/3533 [00:00<?, ?it/s]"
      ]
     },
     "metadata": {},
     "output_type": "display_data"
    },
    {
     "data": {
      "application/vnd.jupyter.widget-view+json": {
       "model_id": "8a90a5bfdbde4e8c9d5f32023a9a0acd",
       "version_major": 2,
       "version_minor": 0
      },
      "text/plain": [
       "  0%|          | 0/3533 [00:00<?, ?it/s]"
      ]
     },
     "metadata": {},
     "output_type": "display_data"
    },
    {
     "data": {
      "application/vnd.jupyter.widget-view+json": {
       "model_id": "b284c3b1c83c4124b33552dd5945de3f",
       "version_major": 2,
       "version_minor": 0
      },
      "text/plain": [
       "  0%|          | 0/3533 [00:00<?, ?it/s]"
      ]
     },
     "metadata": {},
     "output_type": "display_data"
    },
    {
     "data": {
      "application/vnd.jupyter.widget-view+json": {
       "model_id": "a6d77fcda8724746a09fd2140364ab61",
       "version_major": 2,
       "version_minor": 0
      },
      "text/plain": [
       "  0%|          | 0/3533 [00:00<?, ?it/s]"
      ]
     },
     "metadata": {},
     "output_type": "display_data"
    },
    {
     "data": {
      "application/vnd.jupyter.widget-view+json": {
       "model_id": "705491a135ce405080f1816220ebe09b",
       "version_major": 2,
       "version_minor": 0
      },
      "text/plain": [
       "  0%|          | 0/3533 [00:00<?, ?it/s]"
      ]
     },
     "metadata": {},
     "output_type": "display_data"
    },
    {
     "data": {
      "application/vnd.jupyter.widget-view+json": {
       "model_id": "db09077b53f4498ca0124fa7e6a0c6ed",
       "version_major": 2,
       "version_minor": 0
      },
      "text/plain": [
       "  0%|          | 0/3533 [00:00<?, ?it/s]"
      ]
     },
     "metadata": {},
     "output_type": "display_data"
    },
    {
     "data": {
      "application/vnd.jupyter.widget-view+json": {
       "model_id": "19a9a3783c624ea69b462b59d4b2500e",
       "version_major": 2,
       "version_minor": 0
      },
      "text/plain": [
       "  0%|          | 0/3533 [00:00<?, ?it/s]"
      ]
     },
     "metadata": {},
     "output_type": "display_data"
    },
    {
     "data": {
      "application/vnd.jupyter.widget-view+json": {
       "model_id": "0de98c7dbba34293b6668ad2ea2fa32a",
       "version_major": 2,
       "version_minor": 0
      },
      "text/plain": [
       "  0%|          | 0/3533 [00:00<?, ?it/s]"
      ]
     },
     "metadata": {},
     "output_type": "display_data"
    },
    {
     "data": {
      "application/vnd.jupyter.widget-view+json": {
       "model_id": "98849656229047c995c26c3f2530d9ea",
       "version_major": 2,
       "version_minor": 0
      },
      "text/plain": [
       "  0%|          | 0/3533 [00:00<?, ?it/s]"
      ]
     },
     "metadata": {},
     "output_type": "display_data"
    },
    {
     "data": {
      "application/vnd.jupyter.widget-view+json": {
       "model_id": "561829a8eb5a4b81a68dcab772c67d5c",
       "version_major": 2,
       "version_minor": 0
      },
      "text/plain": [
       "  0%|          | 0/3533 [00:00<?, ?it/s]"
      ]
     },
     "metadata": {},
     "output_type": "display_data"
    },
    {
     "data": {
      "application/vnd.jupyter.widget-view+json": {
       "model_id": "b6a9bb82333e4b91a21b94845561ac88",
       "version_major": 2,
       "version_minor": 0
      },
      "text/plain": [
       "  0%|          | 0/3533 [00:00<?, ?it/s]"
      ]
     },
     "metadata": {},
     "output_type": "display_data"
    },
    {
     "data": {
      "application/vnd.jupyter.widget-view+json": {
       "model_id": "36d4cc46b6a64c8fb9a5ce2ff617e973",
       "version_major": 2,
       "version_minor": 0
      },
      "text/plain": [
       "  0%|          | 0/3533 [00:00<?, ?it/s]"
      ]
     },
     "metadata": {},
     "output_type": "display_data"
    },
    {
     "data": {
      "application/vnd.jupyter.widget-view+json": {
       "model_id": "93aa80cee404436599e3bc4f097e60e9",
       "version_major": 2,
       "version_minor": 0
      },
      "text/plain": [
       "  0%|          | 0/3533 [00:00<?, ?it/s]"
      ]
     },
     "metadata": {},
     "output_type": "display_data"
    },
    {
     "data": {
      "application/vnd.jupyter.widget-view+json": {
       "model_id": "792ddaf74132485b823bb06245138426",
       "version_major": 2,
       "version_minor": 0
      },
      "text/plain": [
       "  0%|          | 0/3533 [00:00<?, ?it/s]"
      ]
     },
     "metadata": {},
     "output_type": "display_data"
    },
    {
     "data": {
      "application/vnd.jupyter.widget-view+json": {
       "model_id": "9ef9cae9a7a9490f83708f4c06f65f7d",
       "version_major": 2,
       "version_minor": 0
      },
      "text/plain": [
       "  0%|          | 0/3533 [00:00<?, ?it/s]"
      ]
     },
     "metadata": {},
     "output_type": "display_data"
    },
    {
     "data": {
      "application/vnd.jupyter.widget-view+json": {
       "model_id": "2fc4c7beea85423b984c13c4aff1c7bc",
       "version_major": 2,
       "version_minor": 0
      },
      "text/plain": [
       "  0%|          | 0/3533 [00:00<?, ?it/s]"
      ]
     },
     "metadata": {},
     "output_type": "display_data"
    },
    {
     "data": {
      "application/vnd.jupyter.widget-view+json": {
       "model_id": "458a7443276048c2846cc05167056393",
       "version_major": 2,
       "version_minor": 0
      },
      "text/plain": [
       "  0%|          | 0/3533 [00:00<?, ?it/s]"
      ]
     },
     "metadata": {},
     "output_type": "display_data"
    },
    {
     "data": {
      "application/vnd.jupyter.widget-view+json": {
       "model_id": "34309cb37d224d7382b671b1eb3428d7",
       "version_major": 2,
       "version_minor": 0
      },
      "text/plain": [
       "  0%|          | 0/3533 [00:00<?, ?it/s]"
      ]
     },
     "metadata": {},
     "output_type": "display_data"
    },
    {
     "data": {
      "application/vnd.jupyter.widget-view+json": {
       "model_id": "16afee07a14a43789ed66f1582862fda",
       "version_major": 2,
       "version_minor": 0
      },
      "text/plain": [
       "  0%|          | 0/3533 [00:00<?, ?it/s]"
      ]
     },
     "metadata": {},
     "output_type": "display_data"
    },
    {
     "data": {
      "application/vnd.jupyter.widget-view+json": {
       "model_id": "ef3385066aa54895b38096cfad6457e4",
       "version_major": 2,
       "version_minor": 0
      },
      "text/plain": [
       "  0%|          | 0/3533 [00:00<?, ?it/s]"
      ]
     },
     "metadata": {},
     "output_type": "display_data"
    },
    {
     "data": {
      "application/vnd.jupyter.widget-view+json": {
       "model_id": "8169de2488de4c15a527681ed5a0177c",
       "version_major": 2,
       "version_minor": 0
      },
      "text/plain": [
       "  0%|          | 0/3533 [00:00<?, ?it/s]"
      ]
     },
     "metadata": {},
     "output_type": "display_data"
    },
    {
     "data": {
      "application/vnd.jupyter.widget-view+json": {
       "model_id": "e3d46f645f344c9085c39347151fa3f0",
       "version_major": 2,
       "version_minor": 0
      },
      "text/plain": [
       "  0%|          | 0/3533 [00:00<?, ?it/s]"
      ]
     },
     "metadata": {},
     "output_type": "display_data"
    },
    {
     "data": {
      "application/vnd.jupyter.widget-view+json": {
       "model_id": "ba0e3d4393d741c68e4bfa6346a13937",
       "version_major": 2,
       "version_minor": 0
      },
      "text/plain": [
       "  0%|          | 0/3533 [00:00<?, ?it/s]"
      ]
     },
     "metadata": {},
     "output_type": "display_data"
    },
    {
     "data": {
      "application/vnd.jupyter.widget-view+json": {
       "model_id": "4df57ad05b92463abc7f50c46cf7b113",
       "version_major": 2,
       "version_minor": 0
      },
      "text/plain": [
       "  0%|          | 0/3533 [00:00<?, ?it/s]"
      ]
     },
     "metadata": {},
     "output_type": "display_data"
    },
    {
     "data": {
      "application/vnd.jupyter.widget-view+json": {
       "model_id": "3976d15dc2d0455881387bd02b7e1344",
       "version_major": 2,
       "version_minor": 0
      },
      "text/plain": [
       "  0%|          | 0/3533 [00:00<?, ?it/s]"
      ]
     },
     "metadata": {},
     "output_type": "display_data"
    },
    {
     "data": {
      "application/vnd.jupyter.widget-view+json": {
       "model_id": "1c629b2ff07b423d830f53e76458f2b1",
       "version_major": 2,
       "version_minor": 0
      },
      "text/plain": [
       "  0%|          | 0/3533 [00:00<?, ?it/s]"
      ]
     },
     "metadata": {},
     "output_type": "display_data"
    },
    {
     "data": {
      "application/vnd.jupyter.widget-view+json": {
       "model_id": "0d26b40281be458fadb098db4177e09d",
       "version_major": 2,
       "version_minor": 0
      },
      "text/plain": [
       "  0%|          | 0/3533 [00:00<?, ?it/s]"
      ]
     },
     "metadata": {},
     "output_type": "display_data"
    },
    {
     "data": {
      "application/vnd.jupyter.widget-view+json": {
       "model_id": "128fa42940de4edb92e837abc3f95c5d",
       "version_major": 2,
       "version_minor": 0
      },
      "text/plain": [
       "  0%|          | 0/3533 [00:00<?, ?it/s]"
      ]
     },
     "metadata": {},
     "output_type": "display_data"
    },
    {
     "data": {
      "application/vnd.jupyter.widget-view+json": {
       "model_id": "8597fbd87ab54512a64c8536a83abe77",
       "version_major": 2,
       "version_minor": 0
      },
      "text/plain": [
       "  0%|          | 0/3533 [00:00<?, ?it/s]"
      ]
     },
     "metadata": {},
     "output_type": "display_data"
    },
    {
     "data": {
      "application/vnd.jupyter.widget-view+json": {
       "model_id": "984577304fe5413ca15957c0b73144a9",
       "version_major": 2,
       "version_minor": 0
      },
      "text/plain": [
       "  0%|          | 0/3533 [00:00<?, ?it/s]"
      ]
     },
     "metadata": {},
     "output_type": "display_data"
    },
    {
     "data": {
      "application/vnd.jupyter.widget-view+json": {
       "model_id": "f6bc8fd1a7b143b6a40f99cdacd130cf",
       "version_major": 2,
       "version_minor": 0
      },
      "text/plain": [
       "  0%|          | 0/3533 [00:00<?, ?it/s]"
      ]
     },
     "metadata": {},
     "output_type": "display_data"
    },
    {
     "data": {
      "application/vnd.jupyter.widget-view+json": {
       "model_id": "567ae59233024903a94627f814132267",
       "version_major": 2,
       "version_minor": 0
      },
      "text/plain": [
       "  0%|          | 0/3533 [00:00<?, ?it/s]"
      ]
     },
     "metadata": {},
     "output_type": "display_data"
    },
    {
     "data": {
      "application/vnd.jupyter.widget-view+json": {
       "model_id": "31b2d554a34f4e88b8dd61454ad8e34f",
       "version_major": 2,
       "version_minor": 0
      },
      "text/plain": [
       "  0%|          | 0/3533 [00:00<?, ?it/s]"
      ]
     },
     "metadata": {},
     "output_type": "display_data"
    },
    {
     "data": {
      "application/vnd.jupyter.widget-view+json": {
       "model_id": "ecd8abd2f8554f4f962782e82a17af13",
       "version_major": 2,
       "version_minor": 0
      },
      "text/plain": [
       "  0%|          | 0/3533 [00:00<?, ?it/s]"
      ]
     },
     "metadata": {},
     "output_type": "display_data"
    },
    {
     "data": {
      "application/vnd.jupyter.widget-view+json": {
       "model_id": "a7e6a691d5b34ed4af15f4a53d71b15e",
       "version_major": 2,
       "version_minor": 0
      },
      "text/plain": [
       "  0%|          | 0/3533 [00:00<?, ?it/s]"
      ]
     },
     "metadata": {},
     "output_type": "display_data"
    },
    {
     "data": {
      "application/vnd.jupyter.widget-view+json": {
       "model_id": "6f0d706b0d9a421bad53d7569d827da2",
       "version_major": 2,
       "version_minor": 0
      },
      "text/plain": [
       "  0%|          | 0/3533 [00:00<?, ?it/s]"
      ]
     },
     "metadata": {},
     "output_type": "display_data"
    },
    {
     "data": {
      "application/vnd.jupyter.widget-view+json": {
       "model_id": "649b6ddbbaf8455d9cddb357c23e9743",
       "version_major": 2,
       "version_minor": 0
      },
      "text/plain": [
       "  0%|          | 0/3533 [00:00<?, ?it/s]"
      ]
     },
     "metadata": {},
     "output_type": "display_data"
    },
    {
     "data": {
      "application/vnd.jupyter.widget-view+json": {
       "model_id": "af2720d4cc3f4ab788328591b538fcbb",
       "version_major": 2,
       "version_minor": 0
      },
      "text/plain": [
       "  0%|          | 0/3533 [00:00<?, ?it/s]"
      ]
     },
     "metadata": {},
     "output_type": "display_data"
    },
    {
     "data": {
      "application/vnd.jupyter.widget-view+json": {
       "model_id": "56e33316d7964b88ba9558765bad5101",
       "version_major": 2,
       "version_minor": 0
      },
      "text/plain": [
       "  0%|          | 0/3533 [00:00<?, ?it/s]"
      ]
     },
     "metadata": {},
     "output_type": "display_data"
    },
    {
     "data": {
      "application/vnd.jupyter.widget-view+json": {
       "model_id": "113443b17e6e4862b44fb14915f4c5d8",
       "version_major": 2,
       "version_minor": 0
      },
      "text/plain": [
       "  0%|          | 0/3533 [00:00<?, ?it/s]"
      ]
     },
     "metadata": {},
     "output_type": "display_data"
    },
    {
     "data": {
      "application/vnd.jupyter.widget-view+json": {
       "model_id": "e6395d7b4d164c9cad2bb232dbec2ada",
       "version_major": 2,
       "version_minor": 0
      },
      "text/plain": [
       "  0%|          | 0/3533 [00:00<?, ?it/s]"
      ]
     },
     "metadata": {},
     "output_type": "display_data"
    },
    {
     "data": {
      "application/vnd.jupyter.widget-view+json": {
       "model_id": "fb05f405323c49e5a77c5551469a1690",
       "version_major": 2,
       "version_minor": 0
      },
      "text/plain": [
       "  0%|          | 0/3533 [00:00<?, ?it/s]"
      ]
     },
     "metadata": {},
     "output_type": "display_data"
    },
    {
     "data": {
      "application/vnd.jupyter.widget-view+json": {
       "model_id": "2e68fbcd47454fa99a786b6bba33329b",
       "version_major": 2,
       "version_minor": 0
      },
      "text/plain": [
       "  0%|          | 0/3533 [00:00<?, ?it/s]"
      ]
     },
     "metadata": {},
     "output_type": "display_data"
    },
    {
     "data": {
      "application/vnd.jupyter.widget-view+json": {
       "model_id": "84a0fa1e96954c479fc058eb0932316f",
       "version_major": 2,
       "version_minor": 0
      },
      "text/plain": [
       "  0%|          | 0/3533 [00:00<?, ?it/s]"
      ]
     },
     "metadata": {},
     "output_type": "display_data"
    },
    {
     "data": {
      "application/vnd.jupyter.widget-view+json": {
       "model_id": "57322644eae349ea9724e5d45371da9f",
       "version_major": 2,
       "version_minor": 0
      },
      "text/plain": [
       "  0%|          | 0/3533 [00:00<?, ?it/s]"
      ]
     },
     "metadata": {},
     "output_type": "display_data"
    },
    {
     "data": {
      "application/vnd.jupyter.widget-view+json": {
       "model_id": "e03938f0b78640a39f2ce6842107d85f",
       "version_major": 2,
       "version_minor": 0
      },
      "text/plain": [
       "  0%|          | 0/3533 [00:00<?, ?it/s]"
      ]
     },
     "metadata": {},
     "output_type": "display_data"
    },
    {
     "data": {
      "application/vnd.jupyter.widget-view+json": {
       "model_id": "a061a9f6a8a54adbaa8bfb594cbf3d0c",
       "version_major": 2,
       "version_minor": 0
      },
      "text/plain": [
       "  0%|          | 0/3533 [00:00<?, ?it/s]"
      ]
     },
     "metadata": {},
     "output_type": "display_data"
    },
    {
     "data": {
      "application/vnd.jupyter.widget-view+json": {
       "model_id": "9b5a0693b69b4da3a649a94a8e08ba20",
       "version_major": 2,
       "version_minor": 0
      },
      "text/plain": [
       "  0%|          | 0/3533 [00:00<?, ?it/s]"
      ]
     },
     "metadata": {},
     "output_type": "display_data"
    },
    {
     "data": {
      "application/vnd.jupyter.widget-view+json": {
       "model_id": "a22c2c8c25c44a5c9edc794b3e534d3c",
       "version_major": 2,
       "version_minor": 0
      },
      "text/plain": [
       "  0%|          | 0/3533 [00:00<?, ?it/s]"
      ]
     },
     "metadata": {},
     "output_type": "display_data"
    },
    {
     "data": {
      "application/vnd.jupyter.widget-view+json": {
       "model_id": "cbb6662228b844beaac98829f3888b02",
       "version_major": 2,
       "version_minor": 0
      },
      "text/plain": [
       "  0%|          | 0/3533 [00:00<?, ?it/s]"
      ]
     },
     "metadata": {},
     "output_type": "display_data"
    },
    {
     "data": {
      "application/vnd.jupyter.widget-view+json": {
       "model_id": "df9609b234b6462aab348b0aae7da944",
       "version_major": 2,
       "version_minor": 0
      },
      "text/plain": [
       "  0%|          | 0/3533 [00:00<?, ?it/s]"
      ]
     },
     "metadata": {},
     "output_type": "display_data"
    },
    {
     "data": {
      "application/vnd.jupyter.widget-view+json": {
       "model_id": "d4dca99bac404b21a6976e1e4c64713a",
       "version_major": 2,
       "version_minor": 0
      },
      "text/plain": [
       "  0%|          | 0/3533 [00:00<?, ?it/s]"
      ]
     },
     "metadata": {},
     "output_type": "display_data"
    },
    {
     "data": {
      "application/vnd.jupyter.widget-view+json": {
       "model_id": "1137cf8aa5204e7d925a3c4aeedd4832",
       "version_major": 2,
       "version_minor": 0
      },
      "text/plain": [
       "  0%|          | 0/3533 [00:00<?, ?it/s]"
      ]
     },
     "metadata": {},
     "output_type": "display_data"
    },
    {
     "data": {
      "application/vnd.jupyter.widget-view+json": {
       "model_id": "484f7ccb61704db5b9d7595542cb906d",
       "version_major": 2,
       "version_minor": 0
      },
      "text/plain": [
       "  0%|          | 0/3533 [00:00<?, ?it/s]"
      ]
     },
     "metadata": {},
     "output_type": "display_data"
    },
    {
     "data": {
      "application/vnd.jupyter.widget-view+json": {
       "model_id": "a33007b6a7a24b31a4c6a86cd21d1307",
       "version_major": 2,
       "version_minor": 0
      },
      "text/plain": [
       "  0%|          | 0/3533 [00:00<?, ?it/s]"
      ]
     },
     "metadata": {},
     "output_type": "display_data"
    },
    {
     "data": {
      "application/vnd.jupyter.widget-view+json": {
       "model_id": "5a08f4236c054d0d8a12e8a81ffc9371",
       "version_major": 2,
       "version_minor": 0
      },
      "text/plain": [
       "  0%|          | 0/3533 [00:00<?, ?it/s]"
      ]
     },
     "metadata": {},
     "output_type": "display_data"
    },
    {
     "data": {
      "application/vnd.jupyter.widget-view+json": {
       "model_id": "1a0321fcfe9b4962807c300720e16c7d",
       "version_major": 2,
       "version_minor": 0
      },
      "text/plain": [
       "  0%|          | 0/3533 [00:00<?, ?it/s]"
      ]
     },
     "metadata": {},
     "output_type": "display_data"
    },
    {
     "data": {
      "application/vnd.jupyter.widget-view+json": {
       "model_id": "d233953c2f8e43a2ba3652e2b9b0bddd",
       "version_major": 2,
       "version_minor": 0
      },
      "text/plain": [
       "  0%|          | 0/3533 [00:00<?, ?it/s]"
      ]
     },
     "metadata": {},
     "output_type": "display_data"
    }
   ],
   "source": [
    "from sklearn.utils import resample\n",
    "import pandas as pd\n",
    "import numpy as np\n",
    "from tqdm.notebook import tqdm\n",
    "\n",
    "N = 140\n",
    "t = len(nltk.sent_tokenize(sample_doc))\n",
    "df = pd.DataFrame(columns=microframes)\n",
    "\n",
    "for i in tqdm(range(N)):\n",
    "    s = ' '.join(resample(T, replace=True, n_samples=t))\n",
    "    biases = bias(s, frame=microframes)\n",
    "        \n",
    "    df.loc[i] = biases\n",
    "\n",
    "import pickle\n",
    "pickle.dump( df, open( \"Download/sample_biases_df2.pickle\", \"wb\" ) )"
   ]
  },
  {
   "cell_type": "code",
   "execution_count": 32,
   "metadata": {},
   "outputs": [],
   "source": [
    "sample_biases_df = pickle.load(open('Download/sample_biases_df2.pickle', 'rb'))"
   ]
  },
  {
   "cell_type": "code",
   "execution_count": 33,
   "metadata": {},
   "outputs": [
    {
     "data": {
      "application/vnd.jupyter.widget-view+json": {
       "model_id": "5e54df8c61f14c22aa7be749e184edc4",
       "version_major": 2,
       "version_minor": 0
      },
      "text/plain": [
       "  0%|          | 0/3533 [00:00<?, ?it/s]"
      ]
     },
     "metadata": {},
     "output_type": "display_data"
    }
   ],
   "source": [
    "sample_bias = bias(sample_doc, frame=microframes)"
   ]
  },
  {
   "cell_type": "code",
   "execution_count": 34,
   "metadata": {},
   "outputs": [],
   "source": [
    "sample_boot_bias = sample_biases_df.mean(axis=0).to_numpy()"
   ]
  },
  {
   "cell_type": "code",
   "execution_count": 47,
   "metadata": {},
   "outputs": [],
   "source": [
    "from operator import itemgetter\n",
    "rank = itemgetter(*np.argsort(sample_boot_bias- np.array(sample_bias)))(list(microframes))"
   ]
  },
  {
   "cell_type": "code",
   "execution_count": null,
   "metadata": {},
   "outputs": [],
   "source": []
  },
  {
   "cell_type": "code",
   "execution_count": 48,
   "metadata": {},
   "outputs": [
    {
     "data": {
      "text/plain": [
       "('abc', 'eed')"
      ]
     },
     "execution_count": 48,
     "metadata": {},
     "output_type": "execute_result"
    }
   ],
   "source": [
    "tuple(sorted(('eed','abc')))"
   ]
  },
  {
   "cell_type": "code",
   "execution_count": 49,
   "metadata": {},
   "outputs": [],
   "source": [
    "new_rank = []\n",
    "for ant1, ant2 in rank:\n",
    "    new_rank.append(tuple(sorted((ant1,ant2))))"
   ]
  },
  {
   "cell_type": "code",
   "execution_count": 50,
   "metadata": {},
   "outputs": [
    {
     "data": {
      "text/plain": [
       "3533"
      ]
     },
     "execution_count": 50,
     "metadata": {},
     "output_type": "execute_result"
    }
   ],
   "source": [
    "len(new_rank)"
   ]
  },
  {
   "cell_type": "code",
   "execution_count": 51,
   "metadata": {},
   "outputs": [
    {
     "data": {
      "text/plain": [
       "3533"
      ]
     },
     "execution_count": 51,
     "metadata": {},
     "output_type": "execute_result"
    }
   ],
   "source": [
    "len(rank)"
   ]
  },
  {
   "cell_type": "code",
   "execution_count": 52,
   "metadata": {},
   "outputs": [],
   "source": [
    "new_rank = list(dict.fromkeys(new_rank))"
   ]
  },
  {
   "cell_type": "code",
   "execution_count": 53,
   "metadata": {},
   "outputs": [
    {
     "data": {
      "text/plain": [
       "[('passing', 'running'),\n",
       " ('perinatal', 'postnatal'),\n",
       " ('nonreturnable', 'returnable'),\n",
       " ('antemortem', 'postmortem'),\n",
       " ('immoderate', 'moderate'),\n",
       " ('ambidextrous', 'left-handed'),\n",
       " ('manly', 'unmanly'),\n",
       " ('lost', 'won'),\n",
       " ('ethical', 'unethical'),\n",
       " ('multilateral', 'unilateral')]"
      ]
     },
     "execution_count": 53,
     "metadata": {},
     "output_type": "execute_result"
    }
   ],
   "source": [
    "new_rank[:10]"
   ]
  },
  {
   "cell_type": "code",
   "execution_count": 54,
   "metadata": {},
   "outputs": [
    {
     "data": {
      "text/plain": [
       "[('annual', 'biennial'),\n",
       " ('perinatal', 'prenatal'),\n",
       " ('acatalectic', 'hypercatalectic'),\n",
       " ('amphibious', 'aquatic'),\n",
       " ('endomorphic', 'mesomorphic'),\n",
       " ('oviparous', 'viviparous'),\n",
       " ('air-to-air', 'surface-to-air'),\n",
       " ('early', 'middle'),\n",
       " ('analogous', 'heterologous'),\n",
       " ('ambidextrous', 'right-handed')]"
      ]
     },
     "execution_count": 54,
     "metadata": {},
     "output_type": "execute_result"
    }
   ],
   "source": [
    "new_rank[-10:]"
   ]
  },
  {
   "cell_type": "code",
   "execution_count": null,
   "metadata": {},
   "outputs": [],
   "source": []
  }
 ],
 "metadata": {
  "kernelspec": {
   "display_name": "creepy-venv",
   "language": "python",
   "name": "creepy-venv"
  },
  "language_info": {
   "codemirror_mode": {
    "name": "ipython",
    "version": 3
   },
   "file_extension": ".py",
   "mimetype": "text/x-python",
   "name": "python",
   "nbconvert_exporter": "python",
   "pygments_lexer": "ipython3",
   "version": "3.8.5"
  }
 },
 "nbformat": 4,
 "nbformat_minor": 4
}
