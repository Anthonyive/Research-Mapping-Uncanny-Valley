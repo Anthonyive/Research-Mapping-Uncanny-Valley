{
 "cells": [
  {
   "cell_type": "code",
   "execution_count": 1,
   "metadata": {},
   "outputs": [
    {
     "name": "stdout",
     "output_type": "stream",
     "text": [
      "Num GPUs Available:  1\n"
     ]
    }
   ],
   "source": [
    "import tensorflow as tf\n",
    "physical_devices = tf.config.list_physical_devices('GPU')\n",
    "tf.config.experimental.set_memory_growth(physical_devices[0], enable=True)\n",
    "print(\"Num GPUs Available: \", len(physical_devices))"
   ]
  },
  {
   "cell_type": "markdown",
   "metadata": {},
   "source": [
    "# Import data"
   ]
  },
  {
   "cell_type": "code",
   "execution_count": 2,
   "metadata": {},
   "outputs": [],
   "source": [
    "import pickle\n",
    "import gdown"
   ]
  },
  {
   "cell_type": "code",
   "execution_count": 3,
   "metadata": {},
   "outputs": [
    {
     "name": "stderr",
     "output_type": "stream",
     "text": [
      "Downloading...\n",
      "From: https://drive.google.com/uc?id=1-I5k-1NlFozfdbRb5JVy7nEfQEXqYP9c\n",
      "To: /home/anthony/Documents/Research-Mapping-Uncanny-Valley/Code/Download/data_cleaned_gdown.zip\n",
      "786MB [00:14, 54.5MB/s] \n"
     ]
    },
    {
     "data": {
      "text/plain": [
       "'./Download/data_cleaned_gdown.zip'"
      ]
     },
     "execution_count": 3,
     "metadata": {},
     "output_type": "execute_result"
    }
   ],
   "source": [
    "data_cleaned_url = \"https://drive.google.com/uc?id=1-I5k-1NlFozfdbRb5JVy7nEfQEXqYP9c\"\n",
    "output = './Download/data_cleaned_gdown.zip'\n",
    "gdown.download(data_cleaned_url, output, quiet=False)"
   ]
  },
  {
   "cell_type": "markdown",
   "metadata": {},
   "source": [
    "module zipfile does not support the compression format (I don't know why). \n",
    "You can use\n",
    "```bash\n",
    "sudo apt-get update\n",
    "sudo apt-get install unzip\n",
    "unzip ./Download/data_cleaned_gdown.zip\n",
    "```\n",
    "to unzip the file to `/Code/Download` directory"
   ]
  },
  {
   "cell_type": "code",
   "execution_count": 3,
   "metadata": {},
   "outputs": [],
   "source": [
    "with open('./Download/data_cleaned.pickle', 'rb') as handle:\n",
    "    data_cleaned = pickle.load(handle)"
   ]
  },
  {
   "cell_type": "code",
   "execution_count": 4,
   "metadata": {},
   "outputs": [
    {
     "data": {
      "text/html": [
       "<div>\n",
       "<style scoped>\n",
       "    .dataframe tbody tr th:only-of-type {\n",
       "        vertical-align: middle;\n",
       "    }\n",
       "\n",
       "    .dataframe tbody tr th {\n",
       "        vertical-align: top;\n",
       "    }\n",
       "\n",
       "    .dataframe thead th {\n",
       "        text-align: right;\n",
       "    }\n",
       "</style>\n",
       "<table border=\"1\" class=\"dataframe\">\n",
       "  <thead>\n",
       "    <tr style=\"text-align: right;\">\n",
       "      <th></th>\n",
       "      <th>id</th>\n",
       "      <th>title</th>\n",
       "      <th>selftext</th>\n",
       "      <th>score</th>\n",
       "      <th>title_language</th>\n",
       "      <th>selftext_language</th>\n",
       "    </tr>\n",
       "  </thead>\n",
       "  <tbody>\n",
       "    <tr>\n",
       "      <th>0</th>\n",
       "      <td>gxsa0i</td>\n",
       "      <td>Do NOT Open Your Eyes... (Pt. 1)</td>\n",
       "      <td>This is the only rule of our household. If you...</td>\n",
       "      <td>1</td>\n",
       "      <td>en</td>\n",
       "      <td>en</td>\n",
       "    </tr>\n",
       "    <tr>\n",
       "      <th>1</th>\n",
       "      <td>gxs6jf</td>\n",
       "      <td>Do NOT open your eyes. (The Beginning)</td>\n",
       "      <td>This is the only rule of our household. If you...</td>\n",
       "      <td>1</td>\n",
       "      <td>en</td>\n",
       "      <td>en</td>\n",
       "    </tr>\n",
       "    <tr>\n",
       "      <th>3</th>\n",
       "      <td>gxrytp</td>\n",
       "      <td>My Best Friend Saw Bugs Under His Skin</td>\n",
       "      <td>It is hard for me to talk about my old friend ...</td>\n",
       "      <td>1</td>\n",
       "      <td>de</td>\n",
       "      <td>en</td>\n",
       "    </tr>\n",
       "    <tr>\n",
       "      <th>5</th>\n",
       "      <td>gxrnj7</td>\n",
       "      <td>I picked up a hitchhiker by mistake, now he's ...</td>\n",
       "      <td>They say the devil is in the details.  Well th...</td>\n",
       "      <td>1</td>\n",
       "      <td>en</td>\n",
       "      <td>en</td>\n",
       "    </tr>\n",
       "    <tr>\n",
       "      <th>6</th>\n",
       "      <td>gxrm8v</td>\n",
       "      <td>I'm tasked with killing nameless things out in...</td>\n",
       "      <td>\"Any sign of 'em yet?\" \\n\\nI continued staring...</td>\n",
       "      <td>1</td>\n",
       "      <td>en</td>\n",
       "      <td>en</td>\n",
       "    </tr>\n",
       "    <tr>\n",
       "      <th>...</th>\n",
       "      <td>...</td>\n",
       "      <td>...</td>\n",
       "      <td>...</td>\n",
       "      <td>...</td>\n",
       "      <td>...</td>\n",
       "      <td>...</td>\n",
       "    </tr>\n",
       "    <tr>\n",
       "      <th>21218</th>\n",
       "      <td>eihp0m</td>\n",
       "      <td>Hylophobia</td>\n",
       "      <td>*There is no cure for trauma. Once it enters t...</td>\n",
       "      <td>1</td>\n",
       "      <td>vi</td>\n",
       "      <td>en</td>\n",
       "    </tr>\n",
       "    <tr>\n",
       "      <th>21219</th>\n",
       "      <td>eihmg7</td>\n",
       "      <td>I adopted my late sisters orphaned child. This...</td>\n",
       "      <td>I knew Persephone would need time to adjust, b...</td>\n",
       "      <td>1</td>\n",
       "      <td>en</td>\n",
       "      <td>en</td>\n",
       "    </tr>\n",
       "    <tr>\n",
       "      <th>21221</th>\n",
       "      <td>eihgtp</td>\n",
       "      <td>My first paranormal experience!!</td>\n",
       "      <td>This isnt much, but this is surely the first u...</td>\n",
       "      <td>1</td>\n",
       "      <td>en</td>\n",
       "      <td>en</td>\n",
       "    </tr>\n",
       "    <tr>\n",
       "      <th>21223</th>\n",
       "      <td>eigzgj</td>\n",
       "      <td>I met the demon under my bed... Its not what I...</td>\n",
       "      <td>Okay. for context, this story started about a ...</td>\n",
       "      <td>1</td>\n",
       "      <td>en</td>\n",
       "      <td>en</td>\n",
       "    </tr>\n",
       "    <tr>\n",
       "      <th>21225</th>\n",
       "      <td>eiggxr</td>\n",
       "      <td>The Perfect Wife</td>\n",
       "      <td>I  was never able to find love, therefore I ne...</td>\n",
       "      <td>1</td>\n",
       "      <td>en</td>\n",
       "      <td>en</td>\n",
       "    </tr>\n",
       "  </tbody>\n",
       "</table>\n",
       "<p>15426 rows × 6 columns</p>\n",
       "</div>"
      ],
      "text/plain": [
       "           id                                              title  \\\n",
       "0      gxsa0i                   Do NOT Open Your Eyes... (Pt. 1)   \n",
       "1      gxs6jf             Do NOT open your eyes. (The Beginning)   \n",
       "3      gxrytp             My Best Friend Saw Bugs Under His Skin   \n",
       "5      gxrnj7  I picked up a hitchhiker by mistake, now he's ...   \n",
       "6      gxrm8v  I'm tasked with killing nameless things out in...   \n",
       "...       ...                                                ...   \n",
       "21218  eihp0m                                         Hylophobia   \n",
       "21219  eihmg7  I adopted my late sisters orphaned child. This...   \n",
       "21221  eihgtp                   My first paranormal experience!!   \n",
       "21223  eigzgj  I met the demon under my bed... Its not what I...   \n",
       "21225  eiggxr                                   The Perfect Wife   \n",
       "\n",
       "                                                selftext  score  \\\n",
       "0      This is the only rule of our household. If you...      1   \n",
       "1      This is the only rule of our household. If you...      1   \n",
       "3      It is hard for me to talk about my old friend ...      1   \n",
       "5      They say the devil is in the details.  Well th...      1   \n",
       "6      \"Any sign of 'em yet?\" \\n\\nI continued staring...      1   \n",
       "...                                                  ...    ...   \n",
       "21218  *There is no cure for trauma. Once it enters t...      1   \n",
       "21219  I knew Persephone would need time to adjust, b...      1   \n",
       "21221  This isnt much, but this is surely the first u...      1   \n",
       "21223  Okay. for context, this story started about a ...      1   \n",
       "21225  I  was never able to find love, therefore I ne...      1   \n",
       "\n",
       "      title_language selftext_language  \n",
       "0                 en                en  \n",
       "1                 en                en  \n",
       "3                 de                en  \n",
       "5                 en                en  \n",
       "6                 en                en  \n",
       "...              ...               ...  \n",
       "21218             vi                en  \n",
       "21219             en                en  \n",
       "21221             en                en  \n",
       "21223             en                en  \n",
       "21225             en                en  \n",
       "\n",
       "[15426 rows x 6 columns]"
      ]
     },
     "execution_count": 4,
     "metadata": {},
     "output_type": "execute_result"
    }
   ],
   "source": [
    "data_cleaned['RS_2020_nosleep']"
   ]
  },
  {
   "cell_type": "markdown",
   "metadata": {},
   "source": [
    "# Cosine similarity with emotions"
   ]
  },
  {
   "cell_type": "code",
   "execution_count": 5,
   "metadata": {},
   "outputs": [
    {
     "data": {
      "text/plain": [
       "array([[ 0.21698272,  0.20960012,  0.19537641, ..., -0.02441338,\n",
       "        -0.0326806 , -0.06282185],\n",
       "       [ 0.42663223,  0.37293845,  0.36481518, ...,  0.10002041,\n",
       "         0.05779833,  0.03616553],\n",
       "       [ 0.30050087,  0.21807092,  0.19975151, ...,  0.03358124,\n",
       "        -0.00511191, -0.02358057],\n",
       "       ...,\n",
       "       [ 0.55303162,  0.49452001,  0.4796218 , ..., -0.03603059,\n",
       "        -0.06295857, -0.07457595],\n",
       "       [ 0.26004642,  0.24877664,  0.22177438, ..., -0.0289279 ,\n",
       "        -0.04870765, -0.09610555],\n",
       "       [ 0.23916952,  0.2003721 ,  0.14978789, ..., -0.09678131,\n",
       "        -0.12432525, -0.17019036]])"
      ]
     },
     "execution_count": 5,
     "metadata": {},
     "output_type": "execute_result"
    }
   ],
   "source": [
    "from util import semantic_search\n",
    "sents_emotion_vec = semantic_search(data_cleaned['RS_2020_nosleep']['selftext'][5], verbose = False)\n",
    "sents_emotion_vec"
   ]
  },
  {
   "cell_type": "code",
   "execution_count": 6,
   "metadata": {},
   "outputs": [],
   "source": [
    "from sklearn.preprocessing import MinMaxScaler\n",
    "import numpy as np\n",
    "scaler = MinMaxScaler(feature_range=(-1, 1))\n",
    "scaled_sents_emotion_vec = scaler.fit_transform(sents_emotion_vec)"
   ]
  },
  {
   "cell_type": "code",
   "execution_count": 7,
   "metadata": {},
   "outputs": [
    {
     "data": {
      "text/plain": [
       "array([[-0.58307311, -0.54791709, -0.54447741, ..., -0.20292152,\n",
       "        -0.092175  , -0.13933973],\n",
       "       [-0.02789105, -0.11317501, -0.09906804, ...,  0.39033676,\n",
       "         0.33625014,  0.30587438],\n",
       "       [-0.36190504, -0.52537116, -0.53297644, ...,  0.07357725,\n",
       "         0.038365  ,  0.03715519],\n",
       "       ...,\n",
       "       [ 0.30683274,  0.21042704,  0.20272799, ..., -0.25830845,\n",
       "        -0.23554366, -0.19220596],\n",
       "       [-0.46903424, -0.44364467, -0.47508417, ..., -0.22444521,\n",
       "        -0.16806437, -0.28903936],\n",
       "       [-0.52431927, -0.57247844, -0.66431749, ..., -0.54794736,\n",
       "        -0.52611991, -0.62224954]])"
      ]
     },
     "execution_count": 7,
     "metadata": {},
     "output_type": "execute_result"
    }
   ],
   "source": [
    "scaled_sents_emotion_vec"
   ]
  },
  {
   "cell_type": "markdown",
   "metadata": {},
   "source": [
    "# Construct E, S matrices"
   ]
  },
  {
   "cell_type": "markdown",
   "metadata": {},
   "source": [
    "## Idea: maybe a custom layer in the end before the last layer.\n",
    "\n",
    "For each sentence in a document, we have a (1,768) sentence embeddings. Combining all sentence embeddings, we have a matrix S of dimension (N,768)\n",
    "\n",
    "$$\n",
    "S = \n",
    "\\begin{bmatrix}\n",
    "    s_{1,1} & s_{1,2} & s_{1,3} & \\dots  & s_{1,d} \\\\\n",
    "    s_{2,1} & s_{2,2} & s_{2,3} & \\dots  & s_{2,d} \\\\\n",
    "    \\vdots & \\vdots & \\vdots & \\ddots & \\vdots \\\\\n",
    "    s_{N,1} & s_{N,2} & s_{N,3} & \\dots  & s_{N,d}\n",
    "\\end{bmatrix} \\\\\n",
    "\\text{where d is the embedding dimension (in this case, 768) and N is number of sentences in a document}\n",
    "$$"
   ]
  },
  {
   "cell_type": "markdown",
   "metadata": {},
   "source": [
    "Based on these embeddings, we can get the emotional scores by calculating the cosine similarity between each motion and a sentence. We can combine these scores into another matrix E. E has dimension of (27,N)\n",
    "\n",
    "$$\n",
    "E = \n",
    "\\begin{bmatrix}\n",
    "    e_{1,1} & e_{2,1} & e_{3,1} & \\dots  & e_{N,1} \\\\\n",
    "    e_{1,2} & e_{2,2} & e_{3,2} & \\dots  & e_{N,2} \\\\\n",
    "    \\vdots & \\vdots & \\vdots & \\ddots & \\vdots \\\\\n",
    "    e_{1,27} & e_{2,27} & e_{3,27} & \\dots  & e_{N,27}\n",
    "\\end{bmatrix} \\\\\n",
    "\\text{where N is number of sentences in a document}\n",
    "$$"
   ]
  },
  {
   "cell_type": "markdown",
   "metadata": {},
   "source": [
    "Natually, we want to have the same dimension for each post (document). So, we can multiply these two matrices together: \n",
    "\n",
    "$$E\\times S$$\n",
    "$$(27,N) \\times (N,768) = (27,768)$$\n",
    "\n",
    "Then we will have the same dimension for each post."
   ]
  },
  {
   "cell_type": "code",
   "execution_count": 11,
   "metadata": {},
   "outputs": [
    {
     "name": "stdout",
     "output_type": "stream",
     "text": [
      "\n",
      "\n",
      "======================\n",
      "\n",
      "Dataset: RS_2020_nosleep\n",
      "\n",
      "Calculating...\n"
     ]
    },
    {
     "data": {
      "application/vnd.jupyter.widget-view+json": {
       "model_id": "9228219842c04611a37da509fef755ac",
       "version_major": 2,
       "version_minor": 0
      },
      "text/plain": [
       "HBox(children=(HTML(value='Calculating Emotion Matrix E'), FloatProgress(value=0.0, max=1000.0), HTML(value=''…"
      ]
     },
     "metadata": {},
     "output_type": "display_data"
    },
    {
     "name": "stdout",
     "output_type": "stream",
     "text": [
      "\n"
     ]
    },
    {
     "data": {
      "application/vnd.jupyter.widget-view+json": {
       "model_id": "3bdd19bbd27e4caabfffc70a0bc2d4e8",
       "version_major": 2,
       "version_minor": 0
      },
      "text/plain": [
       "HBox(children=(HTML(value='Scaling E'), FloatProgress(value=0.0, max=1000.0), HTML(value='')))"
      ]
     },
     "metadata": {},
     "output_type": "display_data"
    },
    {
     "name": "stdout",
     "output_type": "stream",
     "text": [
      "\n"
     ]
    },
    {
     "data": {
      "application/vnd.jupyter.widget-view+json": {
       "model_id": "1a5bd4e69e534394bc0c28fc4d6c3904",
       "version_major": 2,
       "version_minor": 0
      },
      "text/plain": [
       "HBox(children=(HTML(value='Calculating SBERT embeddings S'), FloatProgress(value=0.0, max=1000.0), HTML(value=…"
      ]
     },
     "metadata": {},
     "output_type": "display_data"
    },
    {
     "name": "stdout",
     "output_type": "stream",
     "text": [
      "\n"
     ]
    },
    {
     "data": {
      "application/vnd.jupyter.widget-view+json": {
       "model_id": "d7bdeab3ec6d41d9a00097b28fcd269a",
       "version_major": 2,
       "version_minor": 0
      },
      "text/plain": [
       "HBox(children=(HTML(value='Calculating multiplication of scaled E and S'), FloatProgress(value=0.0, max=1000.0…"
      ]
     },
     "metadata": {},
     "output_type": "display_data"
    },
    {
     "name": "stdout",
     "output_type": "stream",
     "text": [
      "\n",
      "\n",
      "\n",
      "======================\n",
      "\n",
      "Dataset: RS_2020_self\n",
      "\n",
      "Calculating...\n"
     ]
    },
    {
     "data": {
      "application/vnd.jupyter.widget-view+json": {
       "model_id": "3fdc3caf87074ff591798c890ab3c9e6",
       "version_major": 2,
       "version_minor": 0
      },
      "text/plain": [
       "HBox(children=(HTML(value='Calculating Emotion Matrix E'), FloatProgress(value=0.0, max=1000.0), HTML(value=''…"
      ]
     },
     "metadata": {},
     "output_type": "display_data"
    },
    {
     "name": "stdout",
     "output_type": "stream",
     "text": [
      "\n"
     ]
    },
    {
     "data": {
      "application/vnd.jupyter.widget-view+json": {
       "model_id": "c112e214f8c242d0818adf7d8b905fcf",
       "version_major": 2,
       "version_minor": 0
      },
      "text/plain": [
       "HBox(children=(HTML(value='Scaling E'), FloatProgress(value=0.0, max=1000.0), HTML(value='')))"
      ]
     },
     "metadata": {},
     "output_type": "display_data"
    },
    {
     "name": "stdout",
     "output_type": "stream",
     "text": [
      "\n"
     ]
    },
    {
     "data": {
      "application/vnd.jupyter.widget-view+json": {
       "model_id": "4ab94829fde74cd085319160bdc91c60",
       "version_major": 2,
       "version_minor": 0
      },
      "text/plain": [
       "HBox(children=(HTML(value='Calculating SBERT embeddings S'), FloatProgress(value=0.0, max=1000.0), HTML(value=…"
      ]
     },
     "metadata": {},
     "output_type": "display_data"
    },
    {
     "name": "stdout",
     "output_type": "stream",
     "text": [
      "\n"
     ]
    },
    {
     "data": {
      "application/vnd.jupyter.widget-view+json": {
       "model_id": "7c505c8b7072484e80de2b3e9a89be5e",
       "version_major": 2,
       "version_minor": 0
      },
      "text/plain": [
       "HBox(children=(HTML(value='Calculating multiplication of scaled E and S'), FloatProgress(value=0.0, max=1000.0…"
      ]
     },
     "metadata": {},
     "output_type": "display_data"
    },
    {
     "name": "stdout",
     "output_type": "stream",
     "text": [
      "\n"
     ]
    }
   ],
   "source": [
    "from util import semantic_search\n",
    "from sentence_transformers import SentenceTransformer\n",
    "import spacy\n",
    "nlp = spacy.load('en_core_web_lg')\n",
    "import swifter\n",
    "from sklearn.preprocessing import MinMaxScaler\n",
    "import numpy as np\n",
    "\n",
    "\n",
    "def apply_semantic_search(row):\n",
    "    E = semantic_search(row['selftext'],sort_by='alphabetical', verbose = False)\n",
    "    return np.transpose(E)\n",
    "\n",
    "def apply_scaled_E(row):\n",
    "    scaler = MinMaxScaler(feature_range=(-1, 1))\n",
    "    return scaler.fit_transform(row['E'])\n",
    "\n",
    "def apply_SBERT(row):\n",
    "    model = SentenceTransformer('distilbert-base-nli-stsb-mean-tokens')\n",
    "\n",
    "    doc = nlp(row['selftext'])\n",
    "    #Our sentences we like to encode\n",
    "    sentences = [repr(sent) for sent in doc.sents]\n",
    "\n",
    "    #Sentences are encoded by calling model.encode()\n",
    "    S = model.encode(sentences)\n",
    "    return S\n",
    "\n",
    "feature_dfs = dict()\n",
    "\n",
    "for key, df in data_cleaned.items():\n",
    "    if not key.endswith('comments'):\n",
    "        if key.endswith(('self','nosleep')):\n",
    "            print(\"\\n\\n======================\\n\")\n",
    "            print(\"Dataset:\", key)\n",
    "            print(\"\\nCalculating...\")\n",
    "            df_new = df.head(1000).copy()\n",
    "            df_new['E'] = df_new.swifter.progress_bar(enable=True, desc=\"Calculating Emotion Matrix E\").apply(apply_semantic_search, axis=1)\n",
    "            df_new['scaled_E'] = df_new.swifter.progress_bar(enable=True, desc=\"Scaling E\").apply(apply_scaled_E, axis=1)\n",
    "            df_new['S'] = df_new.swifter.progress_bar(enable=True, desc=\"Calculating SBERT embeddings S\").apply(apply_SBERT, axis=1)\n",
    "            df_new['scaled_E*S'] = df_new.swifter.progress_bar(enable=True, desc=\"Calculating multiplication of scaled E and S\").apply(lambda x: np.matmul(x['scaled_E'], x['S']), axis=1)\n",
    "            \n",
    "            feature_dfs[key] = df_new"
   ]
  },
  {
   "cell_type": "code",
   "execution_count": 12,
   "metadata": {},
   "outputs": [],
   "source": [
    "pickle.dump(feature_dfs, open(\"./Download/feature_dfs.pickle\", \"wb\" ))"
   ]
  },
  {
   "cell_type": "markdown",
   "metadata": {},
   "source": [
    "## Re-import featue_dfs"
   ]
  },
  {
   "cell_type": "code",
   "execution_count": 13,
   "metadata": {},
   "outputs": [],
   "source": [
    "with open('./Download/feature_dfs.pickle', 'rb') as handle:\n",
    "    feature_dfs = pickle.load(handle)"
   ]
  },
  {
   "cell_type": "markdown",
   "metadata": {},
   "source": [
    "## Pre-processing"
   ]
  },
  {
   "cell_type": "markdown",
   "metadata": {},
   "source": [
    "Extract features"
   ]
  },
  {
   "cell_type": "code",
   "execution_count": 14,
   "metadata": {},
   "outputs": [],
   "source": [
    "non_creepy_features = np.array(feature_dfs['RS_2020_self']['scaled_E*S'].to_list())\n",
    "creepy_features = np.array(feature_dfs['RS_2020_nosleep']['scaled_E*S'].to_list())\n",
    "\n",
    "features = np.concatenate((creepy_features, non_creepy_features))\n",
    "labels = np.concatenate((np.zeros(len(non_creepy_features)), np.ones(len(creepy_features))))"
   ]
  },
  {
   "cell_type": "markdown",
   "metadata": {},
   "source": [
    "Show shapes"
   ]
  },
  {
   "cell_type": "code",
   "execution_count": 15,
   "metadata": {},
   "outputs": [
    {
     "name": "stdout",
     "output_type": "stream",
     "text": [
      "(2000, 27, 768)\n",
      "(2000,)\n"
     ]
    }
   ],
   "source": [
    "print(features.shape)\n",
    "print(labels.shape)"
   ]
  },
  {
   "cell_type": "markdown",
   "metadata": {},
   "source": [
    "Shuffle the features and labels correspondingly"
   ]
  },
  {
   "cell_type": "code",
   "execution_count": 16,
   "metadata": {},
   "outputs": [
    {
     "name": "stdout",
     "output_type": "stream",
     "text": [
      "[0. 1. 1. ... 0. 1. 1.]\n"
     ]
    }
   ],
   "source": [
    "from sklearn.utils import shuffle\n",
    "\n",
    "features, labels = shuffle(features, labels)\n",
    "print(labels)"
   ]
  },
  {
   "cell_type": "markdown",
   "metadata": {},
   "source": [
    "Scale to 0 to 1"
   ]
  },
  {
   "cell_type": "code",
   "execution_count": 17,
   "metadata": {},
   "outputs": [
    {
     "data": {
      "text/plain": [
       "(2000, 27, 768)"
      ]
     },
     "execution_count": 17,
     "metadata": {},
     "output_type": "execute_result"
    }
   ],
   "source": [
    "# flatten each matrix\n",
    "features.reshape((features.shape[0],features.shape[1]*features.shape[2]))\n",
    "features.shape"
   ]
  },
  {
   "cell_type": "code",
   "execution_count": 18,
   "metadata": {},
   "outputs": [
    {
     "name": "stdout",
     "output_type": "stream",
     "text": [
      "[[[0.45158834 0.39958594 0.46386614 ... 0.09625109 0.77999941 0.60210577]\n",
      "  [0.48840179 0.42031904 0.42289717 ... 0.0823121  0.87732851 0.7242431 ]\n",
      "  [0.23069307 0.69981898 0.81878588 ... 0.05374356 0.31135857 0.72202441]\n",
      "  ...\n",
      "  [0.18143064 0.67122877 0.72597831 ... 0.77162082 0.31065062 0.63867106]\n",
      "  [0.85911608 0.43389607 0.45735651 ... 0.22666264 0.72829174 0.1595353 ]\n",
      "  [0.63623709 0.32310516 0.58401514 ... 0.57882507 0.59607988 0.56162569]]\n",
      "\n",
      " [[0.497172   0.3946385  0.51446808 ... 0.0918968  0.78310183 0.56076889]\n",
      "  [0.51569877 0.45358778 0.46300599 ... 0.06966471 0.87584066 0.69404485]\n",
      "  [0.2572685  0.69806368 0.85148442 ... 0.04038505 0.31141238 0.67961302]\n",
      "  ...\n",
      "  [0.19897237 0.61454952 0.77802085 ... 0.7966681  0.31137624 0.63653817]\n",
      "  [0.87684128 0.40497923 0.5188632  ... 0.20717498 0.72165528 0.1067987 ]\n",
      "  [0.63782095 0.33006175 0.60192248 ... 0.5799107  0.57547104 0.55474804]]\n",
      "\n",
      " [[0.50455058 0.42371824 0.5328646  ... 0.10000095 0.75489812 0.53741527]\n",
      "  [0.56315746 0.47283621 0.48798156 ... 0.07567724 0.82645953 0.64743851]\n",
      "  [0.26202753 0.70500589 0.85537966 ... 0.05455475 0.3093151  0.63805488]\n",
      "  ...\n",
      "  [0.18043394 0.64058466 0.72912696 ... 0.82568879 0.32625685 0.62246996]\n",
      "  [0.86324554 0.45230048 0.54849972 ... 0.25421871 0.68952782 0.09364601]\n",
      "  [0.64604072 0.32678974 0.59114714 ... 0.5368373  0.60365054 0.54040545]]\n",
      "\n",
      " ...\n",
      "\n",
      " [[0.49652798 0.43569192 0.52234638 ... 0.12839467 0.79801017 0.51244059]\n",
      "  [0.52186021 0.51475011 0.53308727 ... 0.12522412 0.86604771 0.59220667]\n",
      "  [0.28318935 0.69011656 0.83553463 ... 0.0835555  0.37421851 0.65699749]\n",
      "  ...\n",
      "  [0.27169381 0.55575084 0.55613545 ... 0.77910711 0.36344772 0.69552193]\n",
      "  [0.84027388 0.40594983 0.48492698 ... 0.20208233 0.74012059 0.1252751 ]\n",
      "  [0.6975847  0.27031765 0.50943087 ... 0.54785958 0.59744859 0.55300732]]\n",
      "\n",
      " [[0.50546769 0.41824756 0.50551888 ... 0.07696183 0.80193713 0.55245314]\n",
      "  [0.55121936 0.45516346 0.45966051 ... 0.05413247 0.88058459 0.66695453]\n",
      "  [0.26702747 0.69911085 0.8374974  ... 0.05012673 0.33514607 0.65504969]\n",
      "  ...\n",
      "  [0.17091843 0.63886278 0.75047232 ... 0.81632569 0.32234663 0.63200301]\n",
      "  [0.8521306  0.45113248 0.47271203 ... 0.23381867 0.76374647 0.09068142]\n",
      "  [0.65550444 0.32057035 0.60622587 ... 0.55746987 0.57636954 0.55908036]]\n",
      "\n",
      " [[0.48977772 0.45032716 0.51768695 ... 0.08235366 0.77431756 0.55030222]\n",
      "  [0.53436976 0.49494705 0.46592832 ... 0.05929786 0.85592064 0.66352106]\n",
      "  [0.26677512 0.71594812 0.83887175 ... 0.05455753 0.31653676 0.65773306]\n",
      "  ...\n",
      "  [0.17421365 0.63176337 0.73971067 ... 0.81454949 0.33284775 0.60862892]\n",
      "  [0.85364453 0.48484224 0.53640509 ... 0.22234193 0.74965178 0.10604624]\n",
      "  [0.64978314 0.32252992 0.58659318 ... 0.56737367 0.56314292 0.54628528]]] [0. 1. 1. ... 0. 1. 1.]\n"
     ]
    }
   ],
   "source": [
    "from sklearn.preprocessing import MinMaxScaler\n",
    "scaler = MinMaxScaler(feature_range=(0, 1))\n",
    "scaled_features = scaler.fit_transform(features.reshape((features.shape[0],features.shape[1]*features.shape[2])))\n",
    "scaled_features = scaled_features.reshape(features.shape)\n",
    "print(scaled_features, labels)"
   ]
  },
  {
   "cell_type": "markdown",
   "metadata": {},
   "source": [
    "Split the data\n",
    "\n",
    "- [ ] 70% train, 15% val, 15% test\n",
    "- [x] 80% train, 10% val, 10% test\n",
    "- [ ] 60% train, 20% val, 20% test"
   ]
  },
  {
   "cell_type": "code",
   "execution_count": 19,
   "metadata": {},
   "outputs": [],
   "source": [
    "from sklearn.model_selection import train_test_split\n",
    "\n",
    "X = scaled_features.reshape(-1, 27, 768, 1)\n",
    "y = labels\n",
    "\n",
    "X_train, X_test, y_train, y_test = train_test_split(X, y, test_size=0.2, random_state=1)\n",
    "X_test, X_val, y_test, y_val = train_test_split(X_test, y_test, test_size=0.5, random_state=1)"
   ]
  },
  {
   "cell_type": "markdown",
   "metadata": {},
   "source": [
    "# Recall: our best \"hand-tuned\" model"
   ]
  },
  {
   "cell_type": "markdown",
   "metadata": {},
   "source": [
    "```python\n",
    "model = keras.Sequential([\n",
    "    keras.layers.Dense(units = 303, input_shape = (769,), activation = 'relu'),\n",
    "    keras.layers.Dropout(0.1),\n",
    "    keras.layers.Dense(units = 128, activation = 'relu'),\n",
    "    keras.layers.Dense(units = 64, activation = 'relu'),\n",
    "    keras.layers.Dense(units = 32, activation = 'relu'),\n",
    "    keras.layers.Dense(units = 16, activation = 'relu'),\n",
    "    keras.layers.Dense(units = 1, activation = 'sigmoid')\n",
    "])\n",
    "```"
   ]
  },
  {
   "cell_type": "markdown",
   "metadata": {},
   "source": [
    "## Model here"
   ]
  },
  {
   "cell_type": "code",
   "execution_count": 20,
   "metadata": {},
   "outputs": [],
   "source": [
    "from tensorflow import keras\n",
    "from tensorflow.keras.models import Sequential\n",
    "from tensorflow.keras.layers import Dense, Dropout, Activation, Flatten, Conv2D, MaxPooling2D"
   ]
  },
  {
   "cell_type": "code",
   "execution_count": 93,
   "metadata": {},
   "outputs": [
    {
     "name": "stdout",
     "output_type": "stream",
     "text": [
      "Epoch 1/30\n",
      "50/50 [==============================] - 1s 17ms/step - loss: 0.8809 - accuracy: 0.5144 - val_loss: 0.6643 - val_accuracy: 0.6500\n",
      "Epoch 2/30\n",
      "50/50 [==============================] - 1s 15ms/step - loss: 0.5451 - accuracy: 0.7231 - val_loss: 0.3402 - val_accuracy: 0.9400\n",
      "Epoch 3/30\n",
      "50/50 [==============================] - 1s 15ms/step - loss: 0.3274 - accuracy: 0.8737 - val_loss: 0.2157 - val_accuracy: 0.9050\n",
      "Epoch 4/30\n",
      "50/50 [==============================] - 1s 15ms/step - loss: 0.3032 - accuracy: 0.8756 - val_loss: 0.2296 - val_accuracy: 0.9050\n",
      "Epoch 5/30\n",
      "50/50 [==============================] - 1s 15ms/step - loss: 0.2790 - accuracy: 0.8944 - val_loss: 0.3360 - val_accuracy: 0.8550\n",
      "Epoch 6/30\n",
      "50/50 [==============================] - 1s 15ms/step - loss: 0.2636 - accuracy: 0.9081 - val_loss: 0.1598 - val_accuracy: 0.9450\n",
      "Epoch 7/30\n",
      "50/50 [==============================] - 1s 15ms/step - loss: 0.2387 - accuracy: 0.9206 - val_loss: 0.1651 - val_accuracy: 0.9400\n",
      "Epoch 8/30\n",
      "50/50 [==============================] - 1s 15ms/step - loss: 0.2383 - accuracy: 0.9137 - val_loss: 0.1394 - val_accuracy: 0.9500\n",
      "Epoch 9/30\n",
      "50/50 [==============================] - 1s 15ms/step - loss: 0.2405 - accuracy: 0.9125 - val_loss: 0.1426 - val_accuracy: 0.9500\n",
      "Epoch 10/30\n",
      "50/50 [==============================] - 1s 15ms/step - loss: 0.2822 - accuracy: 0.8956 - val_loss: 0.1716 - val_accuracy: 0.9400\n",
      "Epoch 11/30\n",
      "50/50 [==============================] - 1s 15ms/step - loss: 0.2401 - accuracy: 0.9175 - val_loss: 0.1634 - val_accuracy: 0.9400\n",
      "Epoch 12/30\n",
      "50/50 [==============================] - 1s 15ms/step - loss: 0.2194 - accuracy: 0.9187 - val_loss: 0.1529 - val_accuracy: 0.9400\n",
      "Epoch 13/30\n",
      "50/50 [==============================] - 1s 15ms/step - loss: 0.2173 - accuracy: 0.9175 - val_loss: 0.1604 - val_accuracy: 0.9400\n",
      "Epoch 14/30\n",
      "50/50 [==============================] - 1s 15ms/step - loss: 0.2079 - accuracy: 0.9281 - val_loss: 0.1324 - val_accuracy: 0.9550\n",
      "Epoch 15/30\n",
      "50/50 [==============================] - 1s 16ms/step - loss: 0.2141 - accuracy: 0.9231 - val_loss: 0.1219 - val_accuracy: 0.9550\n",
      "Epoch 16/30\n",
      "50/50 [==============================] - 1s 15ms/step - loss: 0.1941 - accuracy: 0.9356 - val_loss: 0.1478 - val_accuracy: 0.9400\n",
      "Epoch 17/30\n",
      "50/50 [==============================] - 1s 15ms/step - loss: 0.1980 - accuracy: 0.9281 - val_loss: 0.1199 - val_accuracy: 0.9500\n",
      "Epoch 18/30\n",
      "50/50 [==============================] - 1s 15ms/step - loss: 0.1833 - accuracy: 0.9331 - val_loss: 0.1113 - val_accuracy: 0.9600\n",
      "Epoch 19/30\n",
      "50/50 [==============================] - 1s 16ms/step - loss: 0.1793 - accuracy: 0.9362 - val_loss: 0.1036 - val_accuracy: 0.9650\n",
      "Epoch 20/30\n",
      "50/50 [==============================] - 1s 15ms/step - loss: 0.1884 - accuracy: 0.9369 - val_loss: 0.1046 - val_accuracy: 0.9600\n",
      "Epoch 21/30\n",
      "50/50 [==============================] - 1s 15ms/step - loss: 0.1757 - accuracy: 0.9362 - val_loss: 0.1233 - val_accuracy: 0.9550\n",
      "Epoch 22/30\n",
      "50/50 [==============================] - 1s 15ms/step - loss: 0.1775 - accuracy: 0.9388 - val_loss: 0.1012 - val_accuracy: 0.9500\n",
      "Epoch 23/30\n",
      "50/50 [==============================] - 1s 15ms/step - loss: 0.1609 - accuracy: 0.9394 - val_loss: 0.0885 - val_accuracy: 0.9650\n",
      "Epoch 24/30\n",
      "50/50 [==============================] - 1s 15ms/step - loss: 0.1461 - accuracy: 0.9500 - val_loss: 0.0830 - val_accuracy: 0.9700\n",
      "Epoch 25/30\n",
      "50/50 [==============================] - 1s 16ms/step - loss: 0.1541 - accuracy: 0.9431 - val_loss: 0.1107 - val_accuracy: 0.9600\n",
      "Epoch 26/30\n",
      "50/50 [==============================] - 1s 15ms/step - loss: 0.1492 - accuracy: 0.9463 - val_loss: 0.0784 - val_accuracy: 0.9700\n",
      "Epoch 27/30\n",
      "50/50 [==============================] - 1s 16ms/step - loss: 0.1383 - accuracy: 0.9575 - val_loss: 0.0763 - val_accuracy: 0.9650\n",
      "Epoch 28/30\n",
      "50/50 [==============================] - 1s 16ms/step - loss: 0.1314 - accuracy: 0.9575 - val_loss: 0.0695 - val_accuracy: 0.9600\n",
      "Epoch 29/30\n",
      "50/50 [==============================] - 1s 15ms/step - loss: 0.1344 - accuracy: 0.9531 - val_loss: 0.0691 - val_accuracy: 0.9700\n",
      "Epoch 30/30\n",
      "50/50 [==============================] - 1s 16ms/step - loss: 0.1176 - accuracy: 0.9638 - val_loss: 0.1116 - val_accuracy: 0.9600\n"
     ]
    }
   ],
   "source": [
    "model = Sequential([\n",
    "    Conv2D(64, (2,2), input_shape = X.shape[1:], activation='relu'),\n",
    "    MaxPooling2D(pool_size=(2, 2)),\n",
    "    \n",
    "    Conv2D(64, (2,2), activation='relu'),\n",
    "    MaxPooling2D(pool_size=(2, 2)),\n",
    "    \n",
    "    Flatten(),\n",
    "    Dense(64, activation=\"relu\"),\n",
    "    Dropout(0.1),\n",
    "    \n",
    "    Dense(units = 1, activation = 'sigmoid')\n",
    "])\n",
    "\n",
    "model.compile(loss = 'binary_crossentropy',\n",
    "             optimizer = \"Adam\", # you can tune the learning rate here. Default lr = 0.01\n",
    "             metrics=['accuracy'])\n",
    "history = model.fit(X_train, y_train, validation_data = (X_val, y_val), epochs = 30)"
   ]
  },
  {
   "cell_type": "code",
   "execution_count": 95,
   "metadata": {},
   "outputs": [
    {
     "name": "stdout",
     "output_type": "stream",
     "text": [
      "7/7 [==============================] - 0s 5ms/step - loss: 0.1388 - accuracy: 0.9500\n"
     ]
    },
    {
     "data": {
      "text/plain": [
       "[0.13882271945476532, 0.949999988079071]"
      ]
     },
     "execution_count": 95,
     "metadata": {},
     "output_type": "execute_result"
    }
   ],
   "source": [
    "model.evaluate(X_test, y_test)"
   ]
  },
  {
   "cell_type": "code",
   "execution_count": 81,
   "metadata": {
    "collapsed": true,
    "jupyter": {
     "outputs_hidden": true
    }
   },
   "outputs": [
    {
     "data": {
      "text/plain": [
       "{'loss': [0.7257594466209412,\n",
       "  0.4061872065067291,\n",
       "  0.2810940146446228,\n",
       "  0.28455784916877747,\n",
       "  0.24052120745182037,\n",
       "  0.32429349422454834,\n",
       "  0.2344907820224762,\n",
       "  0.23350727558135986,\n",
       "  0.22135426104068756,\n",
       "  0.21554894745349884,\n",
       "  0.20446152985095978,\n",
       "  0.22217626869678497,\n",
       "  0.21152402460575104,\n",
       "  0.1885930895805359,\n",
       "  0.1981273889541626,\n",
       "  0.21038810908794403,\n",
       "  0.1897449642419815,\n",
       "  0.17066071927547455,\n",
       "  0.16098220646381378,\n",
       "  0.1500529944896698,\n",
       "  0.1863759160041809,\n",
       "  0.1484728455543518,\n",
       "  0.14701558649539948,\n",
       "  0.14109860360622406,\n",
       "  0.1358884871006012,\n",
       "  0.1298246532678604,\n",
       "  0.13727745413780212,\n",
       "  0.1292582005262375,\n",
       "  0.12267307192087173,\n",
       "  0.11597440391778946,\n",
       "  0.1199750006198883,\n",
       "  0.12443175911903381,\n",
       "  0.12122596800327301,\n",
       "  0.1142381876707077,\n",
       "  0.12468563765287399,\n",
       "  0.09972534328699112,\n",
       "  0.11822706460952759,\n",
       "  0.09660541266202927,\n",
       "  0.1056113988161087,\n",
       "  0.09912773221731186],\n",
       " 'accuracy': [0.6118749976158142,\n",
       "  0.8287500143051147,\n",
       "  0.8849999904632568,\n",
       "  0.8862500190734863,\n",
       "  0.9100000262260437,\n",
       "  0.8656250238418579,\n",
       "  0.9049999713897705,\n",
       "  0.9049999713897705,\n",
       "  0.9212499856948853,\n",
       "  0.9237499833106995,\n",
       "  0.9237499833106995,\n",
       "  0.921875,\n",
       "  0.9212499856948853,\n",
       "  0.9300000071525574,\n",
       "  0.9287499785423279,\n",
       "  0.9287499785423279,\n",
       "  0.9293749928474426,\n",
       "  0.9412500262260437,\n",
       "  0.9387500286102295,\n",
       "  0.9387500286102295,\n",
       "  0.9256250262260437,\n",
       "  0.9468749761581421,\n",
       "  0.9506250023841858,\n",
       "  0.9468749761581421,\n",
       "  0.9493749737739563,\n",
       "  0.9581249952316284,\n",
       "  0.9537500143051147,\n",
       "  0.9581249952316284,\n",
       "  0.9624999761581421,\n",
       "  0.9643750190734863,\n",
       "  0.9606249928474426,\n",
       "  0.9593750238418579,\n",
       "  0.9593750238418579,\n",
       "  0.9599999785423279,\n",
       "  0.956250011920929,\n",
       "  0.9693750143051147,\n",
       "  0.9612500071525574,\n",
       "  0.9681249856948853,\n",
       "  0.9662500023841858,\n",
       "  0.9693750143051147],\n",
       " 'val_loss': [0.6063869595527649,\n",
       "  0.19957298040390015,\n",
       "  0.31570369005203247,\n",
       "  0.1706957221031189,\n",
       "  0.19524341821670532,\n",
       "  0.17111970484256744,\n",
       "  0.1367546170949936,\n",
       "  0.13001947104930878,\n",
       "  0.14440776407718658,\n",
       "  0.15148887038230896,\n",
       "  0.28891652822494507,\n",
       "  0.17365095019340515,\n",
       "  0.1438683569431305,\n",
       "  0.11213558167219162,\n",
       "  0.1490820050239563,\n",
       "  0.097177654504776,\n",
       "  0.09505203366279602,\n",
       "  0.1045132577419281,\n",
       "  0.11432775855064392,\n",
       "  0.14920243620872498,\n",
       "  0.11324726045131683,\n",
       "  0.08140143752098083,\n",
       "  0.11534681171178818,\n",
       "  0.08598010241985321,\n",
       "  0.08135665953159332,\n",
       "  0.0757114589214325,\n",
       "  0.07181164622306824,\n",
       "  0.09374111890792847,\n",
       "  0.06421827524900436,\n",
       "  0.06939003616571426,\n",
       "  0.0585794635117054,\n",
       "  0.08226616680622101,\n",
       "  0.07704930752515793,\n",
       "  0.08427824079990387,\n",
       "  0.058601561933755875,\n",
       "  0.06598656624555588,\n",
       "  0.05428935959935188,\n",
       "  0.11545392870903015,\n",
       "  0.05375067889690399,\n",
       "  0.08196612447500229],\n",
       " 'val_accuracy': [0.6299999952316284,\n",
       "  0.925000011920929,\n",
       "  0.8799999952316284,\n",
       "  0.925000011920929,\n",
       "  0.9399999976158142,\n",
       "  0.9300000071525574,\n",
       "  0.949999988079071,\n",
       "  0.9549999833106995,\n",
       "  0.9350000023841858,\n",
       "  0.9399999976158142,\n",
       "  0.8899999856948853,\n",
       "  0.9449999928474426,\n",
       "  0.9449999928474426,\n",
       "  0.9599999785423279,\n",
       "  0.9449999928474426,\n",
       "  0.9599999785423279,\n",
       "  0.9599999785423279,\n",
       "  0.9549999833106995,\n",
       "  0.9599999785423279,\n",
       "  0.9549999833106995,\n",
       "  0.9599999785423279,\n",
       "  0.9599999785423279,\n",
       "  0.949999988079071,\n",
       "  0.9599999785423279,\n",
       "  0.9700000286102295,\n",
       "  0.9649999737739563,\n",
       "  0.9649999737739563,\n",
       "  0.9599999785423279,\n",
       "  0.9649999737739563,\n",
       "  0.9750000238418579,\n",
       "  0.9649999737739563,\n",
       "  0.9750000238418579,\n",
       "  0.9649999737739563,\n",
       "  0.9750000238418579,\n",
       "  0.9700000286102295,\n",
       "  0.9750000238418579,\n",
       "  0.9700000286102295,\n",
       "  0.9599999785423279,\n",
       "  0.9700000286102295,\n",
       "  0.9700000286102295]}"
      ]
     },
     "execution_count": 81,
     "metadata": {},
     "output_type": "execute_result"
    }
   ],
   "source": [
    "history.history"
   ]
  },
  {
   "cell_type": "code",
   "execution_count": 99,
   "metadata": {},
   "outputs": [
    {
     "data": {
      "image/png": "[encoded data removed]",
      "text/plain": [
       "<Figure size 576x360 with 1 Axes>"
      ]
     },
     "metadata": {
      "needs_background": "light"
     },
     "output_type": "display_data"
    }
   ],
   "source": [
    "import matplotlib.pyplot as plt\n",
    "import pandas as pd\n",
    "pd.DataFrame(history.history).plot(figsize = (8,5))\n",
    "plt.title(\"Accuracy and Loss Plot\")\n",
    "plt.xlabel(\"epochs\")\n",
    "plt.ylabel(\"val\")\n",
    "plt.grid = True\n",
    "plt.gca().set_ylim(0,1)\n",
    "\n",
    "plt.savefig('./Download/acc_plot')"
   ]
  },
  {
   "cell_type": "markdown",
   "metadata": {},
   "source": [
    "# Visualizations"
   ]
  },
  {
   "cell_type": "code",
   "execution_count": 56,
   "metadata": {},
   "outputs": [],
   "source": [
    "emotions = ['Admiration',\n",
    "                'Adoration',\n",
    "                'Aesthetic Appreciation',\n",
    "                'Amusement',\n",
    "                'Anxiety',\n",
    "                'Awe',\n",
    "                'Awkwardness',\n",
    "                'Boredom',\n",
    "                'Calmness',\n",
    "                'Confusion',\n",
    "                'Craving',\n",
    "                'Disgust',\n",
    "                'Empathetic pain',\n",
    "                'Entrancement',\n",
    "                'Envy',\n",
    "                'Excitement',\n",
    "                'Fear',\n",
    "                'Horror',\n",
    "                'Interest',\n",
    "                'Joy',\n",
    "                'Nostalgia',\n",
    "                'Romance',\n",
    "                'Sadness',\n",
    "                'Satisfaction',\n",
    "                'Sexual desire',\n",
    "                'Sympathy',\n",
    "                'Triumph',\n",
    "              ]"
   ]
  },
  {
   "cell_type": "code",
   "execution_count": 91,
   "metadata": {},
   "outputs": [
    {
     "data": {
      "image/png": "[encoded data removed]",
      "text/plain": [
       "<Figure size 1080x1080 with 5 Axes>"
      ]
     },
     "metadata": {
      "needs_background": "light"
     },
     "output_type": "display_data"
    }
   ],
   "source": [
    "import matplotlib.pyplot as plt\n",
    "import numpy as np\n",
    "from matplotlib.pyplot import figure\n",
    "\n",
    "dataset_str = 'RS_2020_nosleep'\n",
    "idx = 1\n",
    "creepy_E = feature_dfs[dataset_str]['E'].iloc[idx]\n",
    "creepy_scaled_E = feature_dfs[dataset_str]['scaled_E'].iloc[idx]\n",
    "creepy_S = feature_dfs[dataset_str]['S'].iloc[idx]\n",
    "creepy_scaled_ES = feature_dfs[dataset_str]['scaled_E*S'].iloc[idx]\n",
    "\n",
    "fig, axs = plt.subplots(2,2,figsize=(15,15))\n",
    "fig.suptitle(f'Heatmaps for {dataset_str}')\n",
    "axs[0,0].imshow(creepy_E, cmap='hot')\n",
    "axs[0,0].set_title('E')\n",
    "axs[0,0].set(ylabel='Emotion index', xlabel='Sentence index')\n",
    "plt.sca(axs[0, 0])\n",
    "plt.yticks(range(len(emotions)), emotions)\n",
    "\n",
    "axs[1,0].imshow(creepy_scaled_E, cmap='hot')\n",
    "axs[1,0].set_title('Scaled E')\n",
    "axs[1,0].set(ylabel='Emotion index', xlabel='Sentence index')\n",
    "plt.sca(axs[1, 0])\n",
    "plt.yticks(range(len(emotions)), emotions)\n",
    "\n",
    "cutoff_value = creepy_E.shape[1]\n",
    "\n",
    "axs[0,1].imshow(creepy_S[:,:cutoff_value], cmap='hot')\n",
    "axs[0,1].set_title('S')\n",
    "axs[0,1].set(xlabel=f'Embedding dimension ({cutoff_value}/768)', ylabel='Sentence index')\n",
    "\n",
    "axs[1,1].imshow(creepy_scaled_ES[:,:cutoff_value], cmap='hot')\n",
    "axs[1,1].set_title('Scaled ES')\n",
    "axs[1,1].set(xlabel=f'Embedding dimension ({cutoff_value}/768)', ylabel='Emotion index')\n",
    "\n",
    "fig.tight_layout()\n",
    "\n",
    "fig.subplots_adjust(right=0.8)\n",
    "cbar_ax = fig.add_axes([0.85, 0.15, 0.05, 0.7])\n",
    "fig.colorbar(im, cax=cbar_ax)\n",
    "\n",
    "fig.savefig(f'./Download/Heatmaps for {dataset_str}')"
   ]
  },
  {
   "cell_type": "code",
   "execution_count": 88,
   "metadata": {},
   "outputs": [
    {
     "data": {
      "text/plain": [
       "<Figure size 640x480 with 0 Axes>"
      ]
     },
     "metadata": {},
     "output_type": "display_data"
    },
    {
     "data": {
      "image/png": "[encoded data removed]",
      "text/plain": [
       "<Figure size 1080x1080 with 5 Axes>"
      ]
     },
     "metadata": {
      "needs_background": "light"
     },
     "output_type": "display_data"
    }
   ],
   "source": [
    "figure(num=None, figsize=(8,6), dpi=80, facecolor='w', edgecolor='k')\n",
    "\n",
    "dataset_str = 'RS_2020_self'\n",
    "idx = 11\n",
    "non_creepy_E = feature_dfs[dataset_str]['E'].iloc[idx]\n",
    "non_creepy_scaled_E = feature_dfs[dataset_str]['scaled_E'].iloc[idx]\n",
    "non_creepy_S = feature_dfs[dataset_str]['S'].iloc[idx]\n",
    "non_creepy_scaled_ES = feature_dfs[dataset_str]['scaled_E*S'].iloc[idx]\n",
    "\n",
    "fig, axs = plt.subplots(2,2,figsize=(15,15))\n",
    "fig.suptitle(f'Heatmaps for {dataset_str}')\n",
    "axs[0,0].imshow(non_creepy_E, cmap='hot')\n",
    "axs[0,0].set_title('E')\n",
    "axs[0,0].set(ylabel='Emotion index', xlabel='Sentence index')\n",
    "plt.sca(axs[0, 0])\n",
    "plt.yticks(range(len(emotions)), emotions)\n",
    "\n",
    "axs[1,0].imshow(non_creepy_scaled_E, cmap='hot')\n",
    "axs[1,0].set_title('Scaled E')\n",
    "axs[1,0].set(ylabel='Emotion index', xlabel='Sentence index')\n",
    "plt.sca(axs[1, 0])\n",
    "plt.yticks(range(len(emotions)), emotions)\n",
    "\n",
    "cutoff_value = non_creepy_E.shape[1]\n",
    "\n",
    "axs[0,1].imshow(non_creepy_S[:,:cutoff_value], cmap='hot')\n",
    "axs[0,1].set_title('S')\n",
    "axs[0,1].set(xlabel=f'Embedding dimension ({cutoff_value}/768)', ylabel='Sentence index')\n",
    "\n",
    "axs[1,1].imshow(non_creepy_scaled_ES[:,:cutoff_value], cmap='hot')\n",
    "axs[1,1].set_title('Scaled ES')\n",
    "axs[1,1].set(xlabel=f'Embedding dimension ({cutoff_value}/768)', ylabel='Emotion index')\n",
    "fig.tight_layout()\n",
    "\n",
    "fig.subplots_adjust(right=0.8)\n",
    "cbar_ax = fig.add_axes([0.85, 0.15, 0.05, 0.7])\n",
    "fig.colorbar(im, cax=cbar_ax)\n",
    "\n",
    "fig.savefig(f'./Download/Heatmaps for {dataset_str}')"
   ]
  },
  {
   "cell_type": "code",
   "execution_count": null,
   "metadata": {},
   "outputs": [],
   "source": []
  }
 ],
 "metadata": {
  "kernelspec": {
   "display_name": "creepy-venv",
   "language": "python",
   "name": "creepy-venv"
  },
  "language_info": {
   "codemirror_mode": {
    "name": "ipython",
    "version": 3
   },
   "file_extension": ".py",
   "mimetype": "text/x-python",
   "name": "python",
   "nbconvert_exporter": "python",
   "pygments_lexer": "ipython3",
   "version": "3.8.5"
  },
  "toc-showmarkdowntxt": true
 },
 "nbformat": 4,
 "nbformat_minor": 4
}
