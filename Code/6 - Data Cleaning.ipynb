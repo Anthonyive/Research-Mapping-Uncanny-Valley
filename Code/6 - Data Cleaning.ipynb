{
 "cells": [
  {
   "cell_type": "markdown",
   "metadata": {},
   "source": [
    "## Sentence-transformers test"
   ]
  },
  {
   "cell_type": "code",
   "execution_count": 1,
   "metadata": {},
   "outputs": [
    {
     "name": "stdout",
     "output_type": "stream",
     "text": [
      "\n",
      "\n",
      "======================\n",
      "\n",
      "\n",
      "Query: A cheetah chases prey on across a field.\n",
      "\n",
      "Top 5 most similar sentences in corpus:\n",
      "I feel creepy. (Score: 0.0888)\n",
      "I feel terrifying. (Score: 0.0292)\n",
      "I feel frightening. (Score: 0.0197)\n",
      "I feel chilling. (Score: -0.0419)\n",
      "I feel scaried. (Score: -0.0801)\n",
      "\n",
      "\n",
      "======================\n",
      "\n",
      "\n",
      "Query: A horrible curse befell my girlfriend and now she can only eat human meat.\n",
      "\n",
      "Top 5 most similar sentences in corpus:\n",
      "I feel terrifying. (Score: 0.2653)\n",
      "I feel scaried. (Score: 0.1889)\n",
      "I feel creepy. (Score: 0.1667)\n",
      "I feel frightening. (Score: 0.1488)\n",
      "I feel chilling. (Score: 0.0610)\n",
      "\n",
      "\n",
      "======================\n",
      "\n",
      "\n",
      "Query: Apple tress can grow as tall as 20 feet.\n",
      "\n",
      "Top 5 most similar sentences in corpus:\n",
      "I feel frightening. (Score: -0.0347)\n",
      "I feel terrifying. (Score: -0.0469)\n",
      "I feel scaried. (Score: -0.0677)\n",
      "I feel chilling. (Score: -0.0813)\n",
      "I feel creepy. (Score: -0.1176)\n"
     ]
    }
   ],
   "source": [
    "\"\"\"\n",
    "This is a simple application for sentence embeddings: semantic search\n",
    "\n",
    "We have a corpus with various sentences. Then, for a given query sentence,\n",
    "we want to find the most similar sentence in this corpus.\n",
    "\n",
    "This script outputs for various queries the top 5 most similar sentences in the corpus.\n",
    "\"\"\"\n",
    "from sentence_transformers import SentenceTransformer, util\n",
    "import torch\n",
    "\n",
    "embedder = SentenceTransformer('distilbert-base-nli-stsb-mean-tokens')\n",
    "\n",
    "# Corpus with example sentences\n",
    "corpus = ['I feel creepy.',\n",
    "          'I feel scaried.',\n",
    "          'I feel chilling.',\n",
    "          'I feel terrifying.',\n",
    "          'I feel frightening.'\n",
    "          ]\n",
    "corpus_embeddings = embedder.encode(corpus, convert_to_tensor=True)\n",
    "\n",
    "# Query sentences:\n",
    "queries = ['A cheetah chases prey on across a field.', 'A horrible curse befell my girlfriend and now she can only eat human meat.', \"Apple tress can grow as tall as 20 feet.\"]\n",
    "\n",
    "\n",
    "# Find the closest 5 sentences of the corpus for each query sentence based on cosine similarity\n",
    "top_k = 5\n",
    "for query in queries:\n",
    "    query_embedding = embedder.encode(query, convert_to_tensor=True)\n",
    "    cos_scores = util.pytorch_cos_sim(query_embedding, corpus_embeddings)[0]\n",
    "    cos_scores = cos_scores.cpu()\n",
    "\n",
    "    #We use torch.topk to find the highest 5 scores\n",
    "    top_results = torch.topk(cos_scores, k=top_k)\n",
    "\n",
    "    print(\"\\n\\n======================\\n\\n\")\n",
    "    print(\"Query:\", query)\n",
    "    print(\"\\nTop 5 most similar sentences in corpus:\")\n",
    "\n",
    "    for score, idx in zip(top_results[0], top_results[1]):\n",
    "        print(corpus[idx], \"(Score: %.4f)\" % (score))"
   ]
  },
  {
   "cell_type": "code",
   "execution_count": 1,
   "metadata": {},
   "outputs": [],
   "source": [
    "from creepy_module import clean_data, clean_comments"
   ]
  },
  {
   "cell_type": "markdown",
   "metadata": {},
   "source": [
    "## Iterate all directories"
   ]
  },
  {
   "cell_type": "code",
   "execution_count": 2,
   "metadata": {},
   "outputs": [
    {
     "data": {
      "text/plain": [
       "'\\n    (creepyvenv) Creepy Data> tree\\n    Folder PATH listing\\n    Volume serial number is 7250-E7CF\\n    C:.\\n    ├───Confession\\n    │   └───Confession\\n    ├───Confessions\\n    │   ├───Confessions\\n    │   └───__MACOSX\\n    │       └───Confessions\\n    ├───CreepyPasta\\n    │   ├───CreepyPasta\\n    │   └───__MACOSX\\n    │       └───CreepyPasta\\n    ├───NoSleep\\n    │   ├───NoSleep\\n    │   └───__MACOSX\\n    │       └───NoSleep\\n    ├───Self\\n    │   ├───Self\\n    │   └───__MACOSX\\n    │       └───Self\\n    ├───ShortScaryStories\\n    │   ├───ShortScaryStories\\n    │   └───__MACOSX\\n    │       └───ShortScaryStories\\n    ├───StoriesAboutKevin\\n    │   └───StoriesAboutKevin\\n    └───TIFU\\n        ├───TIFU\\n        └───__MACOSX\\n            └───TIFU\\n'"
      ]
     },
     "execution_count": 2,
     "metadata": {},
     "output_type": "execute_result"
    }
   ],
   "source": [
    "'''\n",
    "    (creepyvenv) Creepy Data> tree\n",
    "    Folder PATH listing\n",
    "    Volume serial number is 7250-E7CF\n",
    "    C:.\n",
    "    ├───Confession\n",
    "    │   └───Confession\n",
    "    ├───Confessions\n",
    "    │   ├───Confessions\n",
    "    │   └───__MACOSX\n",
    "    │       └───Confessions\n",
    "    ├───CreepyPasta\n",
    "    │   ├───CreepyPasta\n",
    "    │   └───__MACOSX\n",
    "    │       └───CreepyPasta\n",
    "    ├───NoSleep\n",
    "    │   ├───NoSleep\n",
    "    │   └───__MACOSX\n",
    "    │       └───NoSleep\n",
    "    ├───Self\n",
    "    │   ├───Self\n",
    "    │   └───__MACOSX\n",
    "    │       └───Self\n",
    "    ├───ShortScaryStories\n",
    "    │   ├───ShortScaryStories\n",
    "    │   └───__MACOSX\n",
    "    │       └───ShortScaryStories\n",
    "    ├───StoriesAboutKevin\n",
    "    │   └───StoriesAboutKevin\n",
    "    └───TIFU\n",
    "        ├───TIFU\n",
    "        └───__MACOSX\n",
    "            └───TIFU\n",
    "'''"
   ]
  },
  {
   "cell_type": "markdown",
   "metadata": {},
   "source": [
    "I renamed several files for easy coding. I also deleted unrelated folders. Now it's like this:"
   ]
  },
  {
   "cell_type": "code",
   "execution_count": 3,
   "metadata": {},
   "outputs": [
    {
     "data": {
      "text/plain": [
       "'\\n    (creepyvenv) Creepy Data> tree\\n    Folder PATH listing\\n    Volume serial number is 7250-E7CF\\n    C:.\\n    ├───Confession\\n    │   └───Confession\\n    ├───Confessions\\n    │   └───Confessions\\n    ├───CreepyPasta\\n    │   └───CreepyPasta\\n    ├───NoSleep\\n    │   └───NoSleep\\n    ├───Self\\n    │   └───Self\\n    ├───ShortScaryStories\\n    │   └───ShortScaryStories\\n    │       └───.ipynb_checkpoints\\n    ├───StoriesAboutKevin\\n    │   └───StoriesAboutKevin\\n    └───TIFU\\n        └───TIFU\\n'"
      ]
     },
     "execution_count": 3,
     "metadata": {},
     "output_type": "execute_result"
    }
   ],
   "source": [
    "'''\n",
    "    (creepyvenv) Creepy Data> tree\n",
    "    Folder PATH listing\n",
    "    Volume serial number is 7250-E7CF\n",
    "    C:.\n",
    "    ├───Confession\n",
    "    │   └───Confession\n",
    "    ├───Confessions\n",
    "    │   └───Confessions\n",
    "    ├───CreepyPasta\n",
    "    │   └───CreepyPasta\n",
    "    ├───NoSleep\n",
    "    │   └───NoSleep\n",
    "    ├───Self\n",
    "    │   └───Self\n",
    "    ├───ShortScaryStories\n",
    "    │   └───ShortScaryStories\n",
    "    │       └───.ipynb_checkpoints\n",
    "    ├───StoriesAboutKevin\n",
    "    │   └───StoriesAboutKevin\n",
    "    └───TIFU\n",
    "        └───TIFU\n",
    "'''"
   ]
  },
  {
   "cell_type": "code",
   "execution_count": 4,
   "metadata": {},
   "outputs": [
    {
     "name": "stdout",
     "output_type": "stream",
     "text": [
      "\n",
      "    -----------\n",
      "    Confession\n",
      "    -----------\n",
      "    \n",
      "Reading data...\n",
      "Done\n",
      "Removing nonexisting rows...\n",
      "Done\n",
      "Removing links...\n",
      "Done\n"
     ]
    },
    {
     "data": {
      "application/vnd.jupyter.widget-view+json": {
       "model_id": "",
       "version_major": 2,
       "version_minor": 0
      },
      "text/plain": [
       "HBox(children=(HTML(value='Cleaning titles'), FloatProgress(value=0.0, max=24.0), HTML(value='')))"
      ]
     },
     "metadata": {},
     "output_type": "display_data"
    },
    {
     "name": "stdout",
     "output_type": "stream",
     "text": [
      "\n"
     ]
    },
    {
     "data": {
      "application/vnd.jupyter.widget-view+json": {
       "model_id": "",
       "version_major": 2,
       "version_minor": 0
      },
      "text/plain": [
       "HBox(children=(HTML(value='Cleaning posts'), FloatProgress(value=0.0, max=24.0), HTML(value='')))"
      ]
     },
     "metadata": {},
     "output_type": "display_data"
    },
    {
     "name": "stdout",
     "output_type": "stream",
     "text": [
      "\n"
     ]
    },
    {
     "data": {
      "application/vnd.jupyter.widget-view+json": {
       "model_id": "",
       "version_major": 2,
       "version_minor": 0
      },
      "text/plain": [
       "HBox(children=(HTML(value='Detecting title language'), FloatProgress(value=0.0, max=208730.0), HTML(value=''))…"
      ]
     },
     "metadata": {},
     "output_type": "display_data"
    },
    {
     "name": "stdout",
     "output_type": "stream",
     "text": [
      "\n"
     ]
    },
    {
     "data": {
      "application/vnd.jupyter.widget-view+json": {
       "model_id": "",
       "version_major": 2,
       "version_minor": 0
      },
      "text/plain": [
       "HBox(children=(HTML(value='Detecting posts language'), FloatProgress(value=0.0, max=208730.0), HTML(value=''))…"
      ]
     },
     "metadata": {},
     "output_type": "display_data"
    },
    {
     "name": "stdout",
     "output_type": "stream",
     "text": [
      "\n",
      "Reading data...\n",
      "Done\n",
      "Removing nonexisting rows...\n",
      "Done\n",
      "Filtering indirect comments...\n",
      "Done\n",
      "Removing links...\n",
      "Done\n"
     ]
    },
    {
     "data": {
      "application/vnd.jupyter.widget-view+json": {
       "model_id": "",
       "version_major": 2,
       "version_minor": 0
      },
      "text/plain": [
       "HBox(children=(HTML(value='Cleaning comments'), FloatProgress(value=0.0, max=24.0), HTML(value='')))"
      ]
     },
     "metadata": {},
     "output_type": "display_data"
    },
    {
     "name": "stdout",
     "output_type": "stream",
     "text": [
      "\n"
     ]
    },
    {
     "data": {
      "application/vnd.jupyter.widget-view+json": {
       "model_id": "",
       "version_major": 2,
       "version_minor": 0
      },
      "text/plain": [
       "HBox(children=(HTML(value='Detecting comment language'), FloatProgress(value=0.0, max=1433364.0), HTML(value='…"
      ]
     },
     "metadata": {},
     "output_type": "display_data"
    },
    {
     "name": "stdout",
     "output_type": "stream",
     "text": [
      "\n",
      "\n",
      "    -----------\n",
      "    Confessions\n",
      "    -----------\n",
      "    \n",
      "Reading data...\n",
      "Done\n",
      "Removing nonexisting rows...\n",
      "Done\n",
      "Removing links...\n",
      "Done\n"
     ]
    },
    {
     "data": {
      "application/vnd.jupyter.widget-view+json": {
       "model_id": "",
       "version_major": 2,
       "version_minor": 0
      },
      "text/plain": [
       "HBox(children=(HTML(value='Cleaning titles'), FloatProgress(value=0.0, max=23476.0), HTML(value='')))"
      ]
     },
     "metadata": {},
     "output_type": "display_data"
    },
    {
     "name": "stdout",
     "output_type": "stream",
     "text": [
      "\n"
     ]
    },
    {
     "data": {
      "application/vnd.jupyter.widget-view+json": {
       "model_id": "",
       "version_major": 2,
       "version_minor": 0
      },
      "text/plain": [
       "HBox(children=(HTML(value='Cleaning posts'), FloatProgress(value=0.0, max=24.0), HTML(value='')))"
      ]
     },
     "metadata": {},
     "output_type": "display_data"
    },
    {
     "name": "stdout",
     "output_type": "stream",
     "text": [
      "\n"
     ]
    },
    {
     "data": {
      "application/vnd.jupyter.widget-view+json": {
       "model_id": "",
       "version_major": 2,
       "version_minor": 0
      },
      "text/plain": [
       "HBox(children=(HTML(value='Detecting title language'), FloatProgress(value=0.0, max=23476.0), HTML(value='')))"
      ]
     },
     "metadata": {},
     "output_type": "display_data"
    },
    {
     "name": "stdout",
     "output_type": "stream",
     "text": [
      "\n"
     ]
    },
    {
     "data": {
      "application/vnd.jupyter.widget-view+json": {
       "model_id": "",
       "version_major": 2,
       "version_minor": 0
      },
      "text/plain": [
       "HBox(children=(HTML(value='Detecting posts language'), FloatProgress(value=0.0, max=23476.0), HTML(value='')))"
      ]
     },
     "metadata": {},
     "output_type": "display_data"
    },
    {
     "name": "stdout",
     "output_type": "stream",
     "text": [
      "\n",
      "Reading data...\n",
      "Done\n",
      "Removing nonexisting rows...\n",
      "Done\n",
      "Filtering indirect comments...\n",
      "Done\n",
      "Removing links...\n",
      "Done\n"
     ]
    },
    {
     "data": {
      "application/vnd.jupyter.widget-view+json": {
       "model_id": "",
       "version_major": 2,
       "version_minor": 0
      },
      "text/plain": [
       "HBox(children=(HTML(value='Cleaning comments'), FloatProgress(value=0.0, max=24.0), HTML(value='')))"
      ]
     },
     "metadata": {},
     "output_type": "display_data"
    },
    {
     "name": "stdout",
     "output_type": "stream",
     "text": [
      "\n"
     ]
    },
    {
     "data": {
      "application/vnd.jupyter.widget-view+json": {
       "model_id": "",
       "version_major": 2,
       "version_minor": 0
      },
      "text/plain": [
       "HBox(children=(HTML(value='Detecting comment language'), FloatProgress(value=0.0, max=795962.0), HTML(value=''…"
      ]
     },
     "metadata": {},
     "output_type": "display_data"
    },
    {
     "name": "stdout",
     "output_type": "stream",
     "text": [
      "\n",
      "\n",
      "    -----------\n",
      "    CreepyPasta\n",
      "    -----------\n",
      "    \n",
      "Reading data...\n",
      "Done\n",
      "Removing nonexisting rows...\n",
      "Done\n",
      "Removing links...\n",
      "Done\n"
     ]
    },
    {
     "data": {
      "application/vnd.jupyter.widget-view+json": {
       "model_id": "",
       "version_major": 2,
       "version_minor": 0
      },
      "text/plain": [
       "HBox(children=(HTML(value='Cleaning titles'), FloatProgress(value=0.0, max=2481.0), HTML(value='')))"
      ]
     },
     "metadata": {},
     "output_type": "display_data"
    },
    {
     "name": "stdout",
     "output_type": "stream",
     "text": [
      "\n"
     ]
    },
    {
     "data": {
      "application/vnd.jupyter.widget-view+json": {
       "model_id": "",
       "version_major": 2,
       "version_minor": 0
      },
      "text/plain": [
       "HBox(children=(HTML(value='Cleaning posts'), FloatProgress(value=0.0, max=24.0), HTML(value='')))"
      ]
     },
     "metadata": {},
     "output_type": "display_data"
    },
    {
     "name": "stdout",
     "output_type": "stream",
     "text": [
      "\n"
     ]
    },
    {
     "data": {
      "application/vnd.jupyter.widget-view+json": {
       "model_id": "",
       "version_major": 2,
       "version_minor": 0
      },
      "text/plain": [
       "HBox(children=(HTML(value='Detecting title language'), FloatProgress(value=0.0, max=2481.0), HTML(value='')))"
      ]
     },
     "metadata": {},
     "output_type": "display_data"
    },
    {
     "name": "stdout",
     "output_type": "stream",
     "text": [
      "\n"
     ]
    },
    {
     "data": {
      "application/vnd.jupyter.widget-view+json": {
       "model_id": "",
       "version_major": 2,
       "version_minor": 0
      },
      "text/plain": [
       "HBox(children=(HTML(value='Detecting posts language'), FloatProgress(value=0.0, max=2481.0), HTML(value='')))"
      ]
     },
     "metadata": {},
     "output_type": "display_data"
    },
    {
     "name": "stdout",
     "output_type": "stream",
     "text": [
      "\n",
      "Reading data...\n",
      "Done\n",
      "Removing nonexisting rows...\n",
      "Done\n",
      "Filtering indirect comments...\n",
      "Done\n",
      "Removing links...\n",
      "Done\n"
     ]
    },
    {
     "data": {
      "application/vnd.jupyter.widget-view+json": {
       "model_id": "",
       "version_major": 2,
       "version_minor": 0
      },
      "text/plain": [
       "HBox(children=(HTML(value='Cleaning comments'), FloatProgress(value=0.0, max=24.0), HTML(value='')))"
      ]
     },
     "metadata": {},
     "output_type": "display_data"
    },
    {
     "name": "stdout",
     "output_type": "stream",
     "text": [
      "\n"
     ]
    },
    {
     "data": {
      "application/vnd.jupyter.widget-view+json": {
       "model_id": "",
       "version_major": 2,
       "version_minor": 0
      },
      "text/plain": [
       "HBox(children=(HTML(value='Detecting comment language'), FloatProgress(value=0.0, max=72358.0), HTML(value='')…"
      ]
     },
     "metadata": {},
     "output_type": "display_data"
    },
    {
     "name": "stdout",
     "output_type": "stream",
     "text": [
      "\n",
      "\n",
      "    -----------\n",
      "    Self\n",
      "    -----------\n",
      "    \n",
      "Reading data...\n",
      "Done\n",
      "Removing nonexisting rows...\n",
      "Done\n",
      "Removing links...\n",
      "Done\n"
     ]
    },
    {
     "data": {
      "application/vnd.jupyter.widget-view+json": {
       "model_id": "",
       "version_major": 2,
       "version_minor": 0
      },
      "text/plain": [
       "HBox(children=(HTML(value='Cleaning titles'), FloatProgress(value=0.0, max=18055.0), HTML(value='')))"
      ]
     },
     "metadata": {},
     "output_type": "display_data"
    },
    {
     "name": "stdout",
     "output_type": "stream",
     "text": [
      "\n"
     ]
    },
    {
     "data": {
      "application/vnd.jupyter.widget-view+json": {
       "model_id": "",
       "version_major": 2,
       "version_minor": 0
      },
      "text/plain": [
       "HBox(children=(HTML(value='Cleaning posts'), FloatProgress(value=0.0, max=24.0), HTML(value='')))"
      ]
     },
     "metadata": {},
     "output_type": "display_data"
    },
    {
     "name": "stdout",
     "output_type": "stream",
     "text": [
      "\n"
     ]
    },
    {
     "data": {
      "application/vnd.jupyter.widget-view+json": {
       "model_id": "",
       "version_major": 2,
       "version_minor": 0
      },
      "text/plain": [
       "HBox(children=(HTML(value='Detecting title language'), FloatProgress(value=0.0, max=18055.0), HTML(value='')))"
      ]
     },
     "metadata": {},
     "output_type": "display_data"
    },
    {
     "name": "stdout",
     "output_type": "stream",
     "text": [
      "\n"
     ]
    },
    {
     "data": {
      "application/vnd.jupyter.widget-view+json": {
       "model_id": "",
       "version_major": 2,
       "version_minor": 0
      },
      "text/plain": [
       "HBox(children=(HTML(value='Detecting posts language'), FloatProgress(value=0.0, max=18055.0), HTML(value='')))"
      ]
     },
     "metadata": {},
     "output_type": "display_data"
    },
    {
     "name": "stdout",
     "output_type": "stream",
     "text": [
      "\n",
      "Reading data...\n",
      "Done\n",
      "Removing nonexisting rows...\n",
      "Done\n",
      "Filtering indirect comments...\n",
      "Done\n",
      "Removing links...\n",
      "Done\n"
     ]
    },
    {
     "data": {
      "application/vnd.jupyter.widget-view+json": {
       "model_id": "",
       "version_major": 2,
       "version_minor": 0
      },
      "text/plain": [
       "HBox(children=(HTML(value='Cleaning comments'), FloatProgress(value=0.0, max=24.0), HTML(value='')))"
      ]
     },
     "metadata": {},
     "output_type": "display_data"
    },
    {
     "name": "stdout",
     "output_type": "stream",
     "text": [
      "\n"
     ]
    },
    {
     "data": {
      "application/vnd.jupyter.widget-view+json": {
       "model_id": "",
       "version_major": 2,
       "version_minor": 0
      },
      "text/plain": [
       "HBox(children=(HTML(value='Detecting comment language'), FloatProgress(value=0.0, max=883557.0), HTML(value=''…"
      ]
     },
     "metadata": {},
     "output_type": "display_data"
    },
    {
     "name": "stdout",
     "output_type": "stream",
     "text": [
      "\n",
      "\n",
      "    -----------\n",
      "    ShortScaryStories\n",
      "    -----------\n",
      "    \n",
      "Reading data...\n",
      "Done\n",
      "Removing nonexisting rows...\n",
      "Done\n",
      "Removing links...\n",
      "Done\n"
     ]
    },
    {
     "data": {
      "application/vnd.jupyter.widget-view+json": {
       "model_id": "",
       "version_major": 2,
       "version_minor": 0
      },
      "text/plain": [
       "HBox(children=(HTML(value='Cleaning titles'), FloatProgress(value=0.0, max=24.0), HTML(value='')))"
      ]
     },
     "metadata": {},
     "output_type": "display_data"
    },
    {
     "name": "stdout",
     "output_type": "stream",
     "text": [
      "\n"
     ]
    },
    {
     "data": {
      "application/vnd.jupyter.widget-view+json": {
       "model_id": "",
       "version_major": 2,
       "version_minor": 0
      },
      "text/plain": [
       "HBox(children=(HTML(value='Cleaning posts'), FloatProgress(value=0.0, max=24.0), HTML(value='')))"
      ]
     },
     "metadata": {},
     "output_type": "display_data"
    },
    {
     "name": "stdout",
     "output_type": "stream",
     "text": [
      "\n"
     ]
    },
    {
     "data": {
      "application/vnd.jupyter.widget-view+json": {
       "model_id": "",
       "version_major": 2,
       "version_minor": 0
      },
      "text/plain": [
       "HBox(children=(HTML(value='Detecting title language'), FloatProgress(value=0.0, max=55176.0), HTML(value='')))"
      ]
     },
     "metadata": {},
     "output_type": "display_data"
    },
    {
     "name": "stdout",
     "output_type": "stream",
     "text": [
      "\n"
     ]
    },
    {
     "data": {
      "application/vnd.jupyter.widget-view+json": {
       "model_id": "",
       "version_major": 2,
       "version_minor": 0
      },
      "text/plain": [
       "HBox(children=(HTML(value='Detecting posts language'), FloatProgress(value=0.0, max=55176.0), HTML(value='')))"
      ]
     },
     "metadata": {},
     "output_type": "display_data"
    },
    {
     "name": "stdout",
     "output_type": "stream",
     "text": [
      "\n",
      "Reading data...\n",
      "Done\n",
      "Removing nonexisting rows...\n",
      "Done\n",
      "Filtering indirect comments...\n",
      "Done\n",
      "Removing links...\n",
      "Done\n"
     ]
    },
    {
     "data": {
      "application/vnd.jupyter.widget-view+json": {
       "model_id": "",
       "version_major": 2,
       "version_minor": 0
      },
      "text/plain": [
       "HBox(children=(HTML(value='Cleaning comments'), FloatProgress(value=0.0, max=24.0), HTML(value='')))"
      ]
     },
     "metadata": {},
     "output_type": "display_data"
    },
    {
     "name": "stdout",
     "output_type": "stream",
     "text": [
      "\n"
     ]
    },
    {
     "data": {
      "application/vnd.jupyter.widget-view+json": {
       "model_id": "",
       "version_major": 2,
       "version_minor": 0
      },
      "text/plain": [
       "HBox(children=(HTML(value='Detecting comment language'), FloatProgress(value=0.0, max=218171.0), HTML(value=''…"
      ]
     },
     "metadata": {},
     "output_type": "display_data"
    },
    {
     "name": "stdout",
     "output_type": "stream",
     "text": [
      "\n",
      "\n",
      "    -----------\n",
      "    StoriesAboutKevin\n",
      "    -----------\n",
      "    \n",
      "Reading data...\n",
      "Done\n",
      "Removing nonexisting rows...\n",
      "Done\n",
      "Removing links...\n",
      "Done\n"
     ]
    },
    {
     "data": {
      "application/vnd.jupyter.widget-view+json": {
       "model_id": "",
       "version_major": 2,
       "version_minor": 0
      },
      "text/plain": [
       "HBox(children=(HTML(value='Cleaning titles'), FloatProgress(value=0.0, max=3421.0), HTML(value='')))"
      ]
     },
     "metadata": {},
     "output_type": "display_data"
    },
    {
     "name": "stdout",
     "output_type": "stream",
     "text": [
      "\n"
     ]
    },
    {
     "data": {
      "application/vnd.jupyter.widget-view+json": {
       "model_id": "",
       "version_major": 2,
       "version_minor": 0
      },
      "text/plain": [
       "HBox(children=(HTML(value='Cleaning posts'), FloatProgress(value=0.0, max=24.0), HTML(value='')))"
      ]
     },
     "metadata": {},
     "output_type": "display_data"
    },
    {
     "name": "stdout",
     "output_type": "stream",
     "text": [
      "\n"
     ]
    },
    {
     "data": {
      "application/vnd.jupyter.widget-view+json": {
       "model_id": "",
       "version_major": 2,
       "version_minor": 0
      },
      "text/plain": [
       "HBox(children=(HTML(value='Detecting title language'), FloatProgress(value=0.0, max=3421.0), HTML(value='')))"
      ]
     },
     "metadata": {},
     "output_type": "display_data"
    },
    {
     "name": "stdout",
     "output_type": "stream",
     "text": [
      "\n"
     ]
    },
    {
     "data": {
      "application/vnd.jupyter.widget-view+json": {
       "model_id": "",
       "version_major": 2,
       "version_minor": 0
      },
      "text/plain": [
       "HBox(children=(HTML(value='Detecting posts language'), FloatProgress(value=0.0, max=3421.0), HTML(value='')))"
      ]
     },
     "metadata": {},
     "output_type": "display_data"
    },
    {
     "name": "stdout",
     "output_type": "stream",
     "text": [
      "\n",
      "Reading data...\n",
      "Done\n",
      "Removing nonexisting rows...\n",
      "Done\n",
      "Filtering indirect comments...\n",
      "Done\n",
      "Removing links...\n",
      "Done\n"
     ]
    },
    {
     "data": {
      "application/vnd.jupyter.widget-view+json": {
       "model_id": "",
       "version_major": 2,
       "version_minor": 0
      },
      "text/plain": [
       "HBox(children=(HTML(value='Cleaning comments'), FloatProgress(value=0.0, max=24.0), HTML(value='')))"
      ]
     },
     "metadata": {},
     "output_type": "display_data"
    },
    {
     "name": "stdout",
     "output_type": "stream",
     "text": [
      "\n"
     ]
    },
    {
     "data": {
      "application/vnd.jupyter.widget-view+json": {
       "model_id": "",
       "version_major": 2,
       "version_minor": 0
      },
      "text/plain": [
       "HBox(children=(HTML(value='Detecting comment language'), FloatProgress(value=0.0, max=22796.0), HTML(value='')…"
      ]
     },
     "metadata": {},
     "output_type": "display_data"
    },
    {
     "name": "stdout",
     "output_type": "stream",
     "text": [
      "\n",
      "\n",
      "    -----------\n",
      "    TIFU\n",
      "    -----------\n",
      "    \n",
      "Reading data...\n",
      "Done\n",
      "Removing nonexisting rows...\n",
      "Done\n",
      "Removing links...\n",
      "Done\n"
     ]
    },
    {
     "data": {
      "application/vnd.jupyter.widget-view+json": {
       "model_id": "",
       "version_major": 2,
       "version_minor": 0
      },
      "text/plain": [
       "HBox(children=(HTML(value='Cleaning titles'), FloatProgress(value=0.0, max=17189.0), HTML(value='')))"
      ]
     },
     "metadata": {},
     "output_type": "display_data"
    },
    {
     "name": "stdout",
     "output_type": "stream",
     "text": [
      "\n"
     ]
    },
    {
     "data": {
      "application/vnd.jupyter.widget-view+json": {
       "model_id": "",
       "version_major": 2,
       "version_minor": 0
      },
      "text/plain": [
       "HBox(children=(HTML(value='Cleaning posts'), FloatProgress(value=0.0, max=24.0), HTML(value='')))"
      ]
     },
     "metadata": {},
     "output_type": "display_data"
    },
    {
     "name": "stdout",
     "output_type": "stream",
     "text": [
      "\n"
     ]
    },
    {
     "data": {
      "application/vnd.jupyter.widget-view+json": {
       "model_id": "",
       "version_major": 2,
       "version_minor": 0
      },
      "text/plain": [
       "HBox(children=(HTML(value='Detecting title language'), FloatProgress(value=0.0, max=17189.0), HTML(value='')))"
      ]
     },
     "metadata": {},
     "output_type": "display_data"
    },
    {
     "name": "stdout",
     "output_type": "stream",
     "text": [
      "\n"
     ]
    },
    {
     "data": {
      "application/vnd.jupyter.widget-view+json": {
       "model_id": "",
       "version_major": 2,
       "version_minor": 0
      },
      "text/plain": [
       "HBox(children=(HTML(value='Detecting posts language'), FloatProgress(value=0.0, max=17189.0), HTML(value='')))"
      ]
     },
     "metadata": {},
     "output_type": "display_data"
    },
    {
     "name": "stdout",
     "output_type": "stream",
     "text": [
      "\n",
      "Reading data...\n",
      "Done\n",
      "Removing nonexisting rows...\n",
      "Done\n",
      "Filtering indirect comments...\n",
      "Done\n",
      "Removing links...\n",
      "Done\n"
     ]
    },
    {
     "data": {
      "application/vnd.jupyter.widget-view+json": {
       "model_id": "",
       "version_major": 2,
       "version_minor": 0
      },
      "text/plain": [
       "HBox(children=(HTML(value='Cleaning comments'), FloatProgress(value=0.0, max=24.0), HTML(value='')))"
      ]
     },
     "metadata": {},
     "output_type": "display_data"
    },
    {
     "name": "stdout",
     "output_type": "stream",
     "text": [
      "\n"
     ]
    },
    {
     "data": {
      "application/vnd.jupyter.widget-view+json": {
       "model_id": "",
       "version_major": 2,
       "version_minor": 0
      },
      "text/plain": [
       "HBox(children=(HTML(value='Detecting comment language'), FloatProgress(value=0.0, max=3022035.0), HTML(value='…"
      ]
     },
     "metadata": {},
     "output_type": "display_data"
    },
    {
     "name": "stdout",
     "output_type": "stream",
     "text": [
      "\n"
     ]
    }
   ],
   "source": [
    "import os\n",
    "\n",
    "PATH = '../Creepy Data/'\n",
    "OUTPUT_PATH = '../pickles/'\n",
    "\n",
    "for subreddit in os.listdir(PATH):\n",
    "    # I have done nosleep, delete it in the future.\n",
    "    if subreddit == 'NoSleep':\n",
    "        continue\n",
    "        \n",
    "    try:\n",
    "        os.makedirs(f\"{OUTPUT_PATH + subreddit}\")\n",
    "    except FileExistsError:\n",
    "        pass\n",
    "    \n",
    "    print(f'''\n",
    "    -----------\n",
    "    {subreddit}\n",
    "    -----------\n",
    "    ''')\n",
    "    \n",
    "    # Data\n",
    "    subreddit_csv = clean_data(f\"{PATH + subreddit}/{subreddit}/RS_2020_{subreddit.lower()}.csv\")\n",
    "    subreddit_csv.to_pickle(f\"{OUTPUT_PATH + subreddit}/RS_2020_{subreddit.lower()}.pickle\")\n",
    "    \n",
    "    # Comments\n",
    "    subreddit_comments_csv = clean_comments(f\"{PATH + subreddit}/{subreddit}/{subreddit.lower()}_comments.csv\")\n",
    "    subreddit_comments_csv.to_pickle(f\"{OUTPUT_PATH + subreddit}/{subreddit.lower()}_comments.pickle\")"
   ]
  },
  {
   "cell_type": "markdown",
   "metadata": {},
   "source": [
    "Now the pickle directory look like this:"
   ]
  },
  {
   "cell_type": "code",
   "execution_count": 7,
   "metadata": {},
   "outputs": [
    {
     "data": {
      "text/plain": [
       "'\\n(creepyvenv) PS pickles> tree /f\\nFolder PATH listing\\nVolume serial number is 7250-E7CF\\nC:.\\n├───.ipynb_checkpoints\\n├───Confession\\n│       confession_comments.pickle\\n│       RS_2020_confession.pickle\\n│\\n├───Confessions\\n│       confessions_comments.pickle\\n│       RS_2020_confessions.pickle\\n│\\n├───CreepyPasta\\n│       creepypasta_comments.pickle\\n│       RS_2020_creepypasta.pickle\\n│\\n├───NoSleep\\n│   │   nosleep_comments.pickle\\n│   │   RS_2020_nosleep.pickle\\n│   │\\n│   └───.ipynb_checkpoints\\n├───Self\\n│       RS_2020_self.pickle\\n│       self_comments.pickle\\n│\\n├───ShortScaryStories\\n│       RS_2020_shortscarystories.pickle\\n│       shortscarystories_comments.pickle\\n│\\n├───StoriesAboutKevin\\n│       RS_2020_storiesaboutkevin.pickle\\n│       storiesaboutkevin_comments.pickle\\n│\\n└───TIFU\\n        RS_2020_tifu.pickle\\n        tifu_comments.pickle\\n'"
      ]
     },
     "execution_count": 7,
     "metadata": {},
     "output_type": "execute_result"
    }
   ],
   "source": [
    "'''\n",
    "(creepyvenv) PS pickles> tree /f\n",
    "Folder PATH listing\n",
    "Volume serial number is 7250-E7CF\n",
    "C:.\n",
    "├───.ipynb_checkpoints\n",
    "├───Confession\n",
    "│       confession_comments.pickle\n",
    "│       RS_2020_confession.pickle\n",
    "│\n",
    "├───Confessions\n",
    "│       confessions_comments.pickle\n",
    "│       RS_2020_confessions.pickle\n",
    "│\n",
    "├───CreepyPasta\n",
    "│       creepypasta_comments.pickle\n",
    "│       RS_2020_creepypasta.pickle\n",
    "│\n",
    "├───NoSleep\n",
    "│   │   nosleep_comments.pickle\n",
    "│   │   RS_2020_nosleep.pickle\n",
    "│   │\n",
    "│   └───.ipynb_checkpoints\n",
    "├───Self\n",
    "│       RS_2020_self.pickle\n",
    "│       self_comments.pickle\n",
    "│\n",
    "├───ShortScaryStories\n",
    "│       RS_2020_shortscarystories.pickle\n",
    "│       shortscarystories_comments.pickle\n",
    "│\n",
    "├───StoriesAboutKevin\n",
    "│       RS_2020_storiesaboutkevin.pickle\n",
    "│       storiesaboutkevin_comments.pickle\n",
    "│\n",
    "└───TIFU\n",
    "        RS_2020_tifu.pickle\n",
    "        tifu_comments.pickle\n",
    "'''"
   ]
  },
  {
   "cell_type": "code",
   "execution_count": null,
   "metadata": {},
   "outputs": [],
   "source": []
  }
 ],
 "metadata": {
  "kernelspec": {
   "display_name": "Python [conda env:creepyvenv] *",
   "language": "python",
   "name": "conda-env-creepyvenv-py"
  },
  "language_info": {
   "codemirror_mode": {
    "name": "ipython",
    "version": 3
   },
   "file_extension": ".py",
   "mimetype": "text/x-python",
   "name": "python",
   "nbconvert_exporter": "python",
   "pygments_lexer": "ipython3",
   "version": "3.7.9"
  }
 },
 "nbformat": 4,
 "nbformat_minor": 4
}
