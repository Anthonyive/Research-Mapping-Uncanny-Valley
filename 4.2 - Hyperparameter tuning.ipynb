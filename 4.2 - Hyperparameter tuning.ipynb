{
 "cells": [
  {
   "cell_type": "code",
   "execution_count": 1,
   "metadata": {},
   "outputs": [],
   "source": [
    "# Load the TensorBoard notebook extension\n",
    "%load_ext tensorboard\n",
    "\n",
    "from tensorflow.keras.callbacks import TensorBoard"
   ]
  },
  {
   "cell_type": "code",
   "execution_count": 2,
   "metadata": {},
   "outputs": [
    {
     "data": {
      "text/plain": [
       "[]"
      ]
     },
     "execution_count": 2,
     "metadata": {},
     "output_type": "execute_result"
    }
   ],
   "source": [
    "# Clear any logs from previous runs\n",
    "%rm -rf ./tensorboard_logs/\n",
    "\n",
    "import tensorflow as tf\n",
    "\n",
    "tf.config.list_physical_devices(\"GPU\")"
   ]
  },
  {
   "cell_type": "markdown",
   "metadata": {},
   "source": [
    "# Data Import and Pre-processing"
   ]
  },
  {
   "cell_type": "code",
   "execution_count": 3,
   "metadata": {},
   "outputs": [],
   "source": [
    "import pandas as pd\n",
    "import numpy as np"
   ]
  },
  {
   "cell_type": "code",
   "execution_count": 4,
   "metadata": {},
   "outputs": [],
   "source": [
    "creepy = pd.read_pickle('./pickles/creepy.pickle')\n",
    "noncreepy = pd.read_pickle('./pickles/noncreepy.pickle')"
   ]
  },
  {
   "cell_type": "code",
   "execution_count": 5,
   "metadata": {},
   "outputs": [
    {
     "data": {
      "text/html": [
       "<div>\n",
       "<style scoped>\n",
       "    .dataframe tbody tr th:only-of-type {\n",
       "        vertical-align: middle;\n",
       "    }\n",
       "\n",
       "    .dataframe tbody tr th {\n",
       "        vertical-align: top;\n",
       "    }\n",
       "\n",
       "    .dataframe thead th {\n",
       "        text-align: right;\n",
       "    }\n",
       "</style>\n",
       "<table border=\"1\" class=\"dataframe\">\n",
       "  <thead>\n",
       "    <tr style=\"text-align: right;\">\n",
       "      <th></th>\n",
       "      <th>index</th>\n",
       "      <th>id</th>\n",
       "      <th>title</th>\n",
       "      <th>selftext</th>\n",
       "      <th>score</th>\n",
       "      <th>sum_vec</th>\n",
       "      <th>log_(score+min+0.01)</th>\n",
       "      <th>sum_vec_with_log_prepended</th>\n",
       "      <th>selftext_sents_count</th>\n",
       "      <th>vec</th>\n",
       "    </tr>\n",
       "  </thead>\n",
       "  <tbody>\n",
       "    <tr>\n",
       "      <th>0</th>\n",
       "      <td>0</td>\n",
       "      <td>gxsa0i</td>\n",
       "      <td>Do NOT Open Your Eyes... (Pt. 1)</td>\n",
       "      <td>This is the only rule of our household. If you...</td>\n",
       "      <td>1</td>\n",
       "      <td>[2.940986, -5.617336, 11.896912, -15.436118, -...</td>\n",
       "      <td>0.698135</td>\n",
       "      <td>[0.6981347, 2.940986, -5.617336, 11.896912, -1...</td>\n",
       "      <td>38</td>\n",
       "      <td>[0.6981347, 0.077394366, -0.14782463, 0.313076...</td>\n",
       "    </tr>\n",
       "    <tr>\n",
       "      <th>1</th>\n",
       "      <td>1</td>\n",
       "      <td>gxs6jf</td>\n",
       "      <td>Do NOT open your eyes. (The Beginning)</td>\n",
       "      <td>This is the only rule of our household. If you...</td>\n",
       "      <td>1</td>\n",
       "      <td>[2.940986, -5.617336, 11.896912, -15.436118, -...</td>\n",
       "      <td>0.698135</td>\n",
       "      <td>[0.6981347, 2.940986, -5.617336, 11.896912, -1...</td>\n",
       "      <td>38</td>\n",
       "      <td>[0.6981347, 0.077394366, -0.14782463, 0.313076...</td>\n",
       "    </tr>\n",
       "    <tr>\n",
       "      <th>2</th>\n",
       "      <td>2</td>\n",
       "      <td>gxrytp</td>\n",
       "      <td>My Best Friend Saw Bugs Under His Skin</td>\n",
       "      <td>It is hard for me to talk about my old friend ...</td>\n",
       "      <td>1</td>\n",
       "      <td>[-19.201273, -13.715499, 24.393753, -33.97739,...</td>\n",
       "      <td>0.698135</td>\n",
       "      <td>[0.6981347, -19.201273, -13.715499, 24.393753,...</td>\n",
       "      <td>81</td>\n",
       "      <td>[0.6981347, -0.23705275, -0.16932714, 0.301157...</td>\n",
       "    </tr>\n",
       "    <tr>\n",
       "      <th>3</th>\n",
       "      <td>3</td>\n",
       "      <td>gxrnj7</td>\n",
       "      <td>I picked up a hitchhiker by mistake, now he's ...</td>\n",
       "      <td>They say the devil is in the details.  Well th...</td>\n",
       "      <td>1</td>\n",
       "      <td>[-60.77887, -33.726135, 119.47121, -95.021385,...</td>\n",
       "      <td>0.698135</td>\n",
       "      <td>[0.6981347, -60.77887, -33.726135, 119.47121, ...</td>\n",
       "      <td>429</td>\n",
       "      <td>[0.6981347, -0.14167568, -0.0786157, 0.2784876...</td>\n",
       "    </tr>\n",
       "    <tr>\n",
       "      <th>4</th>\n",
       "      <td>4</td>\n",
       "      <td>gxrm8v</td>\n",
       "      <td>I'm tasked with killing nameless things out in...</td>\n",
       "      <td>“Any sign of ‘em yet?” \\n\\nI continued staring...</td>\n",
       "      <td>1</td>\n",
       "      <td>[-22.785084, 14.806147, 26.129469, -24.832222,...</td>\n",
       "      <td>0.698135</td>\n",
       "      <td>[0.6981347, -22.785084, 14.806147, 26.129469, ...</td>\n",
       "      <td>177</td>\n",
       "      <td>[0.6981347, -0.12872928, 0.083650544, 0.147624...</td>\n",
       "    </tr>\n",
       "    <tr>\n",
       "      <th>...</th>\n",
       "      <td>...</td>\n",
       "      <td>...</td>\n",
       "      <td>...</td>\n",
       "      <td>...</td>\n",
       "      <td>...</td>\n",
       "      <td>...</td>\n",
       "      <td>...</td>\n",
       "      <td>...</td>\n",
       "      <td>...</td>\n",
       "      <td>...</td>\n",
       "    </tr>\n",
       "    <tr>\n",
       "      <th>15367</th>\n",
       "      <td>15367</td>\n",
       "      <td>eihp0m</td>\n",
       "      <td>Hylophobia</td>\n",
       "      <td>*There is no cure for trauma. Once it enters t...</td>\n",
       "      <td>1</td>\n",
       "      <td>[-51.169456, -5.836507, 70.7862, -111.05138, 7...</td>\n",
       "      <td>0.698135</td>\n",
       "      <td>[0.6981347, -51.169456, -5.836507, 70.7862, -1...</td>\n",
       "      <td>447</td>\n",
       "      <td>[0.6981347, -0.11447306, -0.013057062, 0.15835...</td>\n",
       "    </tr>\n",
       "    <tr>\n",
       "      <th>15368</th>\n",
       "      <td>15368</td>\n",
       "      <td>eihmg7</td>\n",
       "      <td>I adopted my late sisters orphaned child. This...</td>\n",
       "      <td>I knew Persephone would need time to adjust, b...</td>\n",
       "      <td>1</td>\n",
       "      <td>[-22.327501, -34.563572, 39.197514, -72.437645...</td>\n",
       "      <td>0.698135</td>\n",
       "      <td>[0.6981347, -22.327501, -34.563572, 39.197514,...</td>\n",
       "      <td>246</td>\n",
       "      <td>[0.6981347, -0.0907622, -0.14050232, 0.1593394...</td>\n",
       "    </tr>\n",
       "    <tr>\n",
       "      <th>15369</th>\n",
       "      <td>15369</td>\n",
       "      <td>eihgtp</td>\n",
       "      <td>My first paranormal experience!!</td>\n",
       "      <td>This isnt much, but this is surely the first u...</td>\n",
       "      <td>1</td>\n",
       "      <td>[-4.7810946, 0.12821773, 2.941056, -3.949329, ...</td>\n",
       "      <td>0.698135</td>\n",
       "      <td>[0.6981347, -4.7810946, 0.12821773, 2.941056, ...</td>\n",
       "      <td>12</td>\n",
       "      <td>[0.6981347, -0.39842454, 0.010684811, 0.245088...</td>\n",
       "    </tr>\n",
       "    <tr>\n",
       "      <th>15370</th>\n",
       "      <td>15370</td>\n",
       "      <td>eigzgj</td>\n",
       "      <td>I met the demon under my bed... Its not what I...</td>\n",
       "      <td>Okay. for context, this story started about a ...</td>\n",
       "      <td>1</td>\n",
       "      <td>[-1.7662485, -4.471965, 8.116567, -12.409156, ...</td>\n",
       "      <td>0.698135</td>\n",
       "      <td>[0.6981347, -1.7662485, -4.471965, 8.116567, -...</td>\n",
       "      <td>30</td>\n",
       "      <td>[0.6981347, -0.05887495, -0.1490655, 0.2705522...</td>\n",
       "    </tr>\n",
       "    <tr>\n",
       "      <th>15371</th>\n",
       "      <td>15371</td>\n",
       "      <td>eiggxr</td>\n",
       "      <td>The Perfect Wife</td>\n",
       "      <td>&amp;amp;#x200B;\\n\\nI  was never able to find love...</td>\n",
       "      <td>1</td>\n",
       "      <td>[2.2265594, -10.923081, 8.348171, -10.28161, 0...</td>\n",
       "      <td>0.698135</td>\n",
       "      <td>[0.6981347, 2.2265594, -10.923081, 8.348171, -...</td>\n",
       "      <td>49</td>\n",
       "      <td>[0.6981347, 0.04543999, -0.22292003, 0.1703708...</td>\n",
       "    </tr>\n",
       "  </tbody>\n",
       "</table>\n",
       "<p>15372 rows × 10 columns</p>\n",
       "</div>"
      ],
      "text/plain": [
       "       index      id                                              title  \\\n",
       "0          0  gxsa0i                   Do NOT Open Your Eyes... (Pt. 1)   \n",
       "1          1  gxs6jf             Do NOT open your eyes. (The Beginning)   \n",
       "2          2  gxrytp             My Best Friend Saw Bugs Under His Skin   \n",
       "3          3  gxrnj7  I picked up a hitchhiker by mistake, now he's ...   \n",
       "4          4  gxrm8v  I'm tasked with killing nameless things out in...   \n",
       "...      ...     ...                                                ...   \n",
       "15367  15367  eihp0m                                         Hylophobia   \n",
       "15368  15368  eihmg7  I adopted my late sisters orphaned child. This...   \n",
       "15369  15369  eihgtp                   My first paranormal experience!!   \n",
       "15370  15370  eigzgj  I met the demon under my bed... Its not what I...   \n",
       "15371  15371  eiggxr                                   The Perfect Wife   \n",
       "\n",
       "                                                selftext  score  \\\n",
       "0      This is the only rule of our household. If you...      1   \n",
       "1      This is the only rule of our household. If you...      1   \n",
       "2      It is hard for me to talk about my old friend ...      1   \n",
       "3      They say the devil is in the details.  Well th...      1   \n",
       "4      “Any sign of ‘em yet?” \\n\\nI continued staring...      1   \n",
       "...                                                  ...    ...   \n",
       "15367  *There is no cure for trauma. Once it enters t...      1   \n",
       "15368  I knew Persephone would need time to adjust, b...      1   \n",
       "15369  This isnt much, but this is surely the first u...      1   \n",
       "15370  Okay. for context, this story started about a ...      1   \n",
       "15371  &amp;#x200B;\\n\\nI  was never able to find love...      1   \n",
       "\n",
       "                                                 sum_vec  \\\n",
       "0      [2.940986, -5.617336, 11.896912, -15.436118, -...   \n",
       "1      [2.940986, -5.617336, 11.896912, -15.436118, -...   \n",
       "2      [-19.201273, -13.715499, 24.393753, -33.97739,...   \n",
       "3      [-60.77887, -33.726135, 119.47121, -95.021385,...   \n",
       "4      [-22.785084, 14.806147, 26.129469, -24.832222,...   \n",
       "...                                                  ...   \n",
       "15367  [-51.169456, -5.836507, 70.7862, -111.05138, 7...   \n",
       "15368  [-22.327501, -34.563572, 39.197514, -72.437645...   \n",
       "15369  [-4.7810946, 0.12821773, 2.941056, -3.949329, ...   \n",
       "15370  [-1.7662485, -4.471965, 8.116567, -12.409156, ...   \n",
       "15371  [2.2265594, -10.923081, 8.348171, -10.28161, 0...   \n",
       "\n",
       "       log_(score+min+0.01)  \\\n",
       "0                  0.698135   \n",
       "1                  0.698135   \n",
       "2                  0.698135   \n",
       "3                  0.698135   \n",
       "4                  0.698135   \n",
       "...                     ...   \n",
       "15367              0.698135   \n",
       "15368              0.698135   \n",
       "15369              0.698135   \n",
       "15370              0.698135   \n",
       "15371              0.698135   \n",
       "\n",
       "                              sum_vec_with_log_prepended  \\\n",
       "0      [0.6981347, 2.940986, -5.617336, 11.896912, -1...   \n",
       "1      [0.6981347, 2.940986, -5.617336, 11.896912, -1...   \n",
       "2      [0.6981347, -19.201273, -13.715499, 24.393753,...   \n",
       "3      [0.6981347, -60.77887, -33.726135, 119.47121, ...   \n",
       "4      [0.6981347, -22.785084, 14.806147, 26.129469, ...   \n",
       "...                                                  ...   \n",
       "15367  [0.6981347, -51.169456, -5.836507, 70.7862, -1...   \n",
       "15368  [0.6981347, -22.327501, -34.563572, 39.197514,...   \n",
       "15369  [0.6981347, -4.7810946, 0.12821773, 2.941056, ...   \n",
       "15370  [0.6981347, -1.7662485, -4.471965, 8.116567, -...   \n",
       "15371  [0.6981347, 2.2265594, -10.923081, 8.348171, -...   \n",
       "\n",
       "       selftext_sents_count                                                vec  \n",
       "0                        38  [0.6981347, 0.077394366, -0.14782463, 0.313076...  \n",
       "1                        38  [0.6981347, 0.077394366, -0.14782463, 0.313076...  \n",
       "2                        81  [0.6981347, -0.23705275, -0.16932714, 0.301157...  \n",
       "3                       429  [0.6981347, -0.14167568, -0.0786157, 0.2784876...  \n",
       "4                       177  [0.6981347, -0.12872928, 0.083650544, 0.147624...  \n",
       "...                     ...                                                ...  \n",
       "15367                   447  [0.6981347, -0.11447306, -0.013057062, 0.15835...  \n",
       "15368                   246  [0.6981347, -0.0907622, -0.14050232, 0.1593394...  \n",
       "15369                    12  [0.6981347, -0.39842454, 0.010684811, 0.245088...  \n",
       "15370                    30  [0.6981347, -0.05887495, -0.1490655, 0.2705522...  \n",
       "15371                    49  [0.6981347, 0.04543999, -0.22292003, 0.1703708...  \n",
       "\n",
       "[15372 rows x 10 columns]"
      ]
     },
     "execution_count": 5,
     "metadata": {},
     "output_type": "execute_result"
    }
   ],
   "source": [
    "creepy"
   ]
  },
  {
   "cell_type": "code",
   "execution_count": 6,
   "metadata": {},
   "outputs": [],
   "source": [
    "creepy_sum_vec_with_log_prepended = creepy.loc[:,'vec'].copy()\n",
    "noncreepy_sum_vec_with_log_prepended = noncreepy.loc[:,'vec'].copy()"
   ]
  },
  {
   "cell_type": "code",
   "execution_count": 7,
   "metadata": {},
   "outputs": [
    {
     "data": {
      "text/plain": [
       "(15372, 769)"
      ]
     },
     "execution_count": 7,
     "metadata": {},
     "output_type": "execute_result"
    }
   ],
   "source": [
    "creepy_features = pd.DataFrame(creepy_sum_vec_with_log_prepended.to_list()).to_numpy(dtype = float)\n",
    "creepy_labels = np.ones(len(creepy_features))\n",
    "creepy_features.shape"
   ]
  },
  {
   "cell_type": "code",
   "execution_count": 8,
   "metadata": {},
   "outputs": [
    {
     "data": {
      "text/plain": [
       "(22474, 769)"
      ]
     },
     "execution_count": 8,
     "metadata": {},
     "output_type": "execute_result"
    }
   ],
   "source": [
    "noncreepy_features = pd.DataFrame(noncreepy_sum_vec_with_log_prepended.to_list()).to_numpy(dtype = float)\n",
    "noncreepy_labels = np.zeros(len(noncreepy_features))\n",
    "noncreepy_features.shape"
   ]
  },
  {
   "cell_type": "code",
   "execution_count": 9,
   "metadata": {},
   "outputs": [
    {
     "data": {
      "text/plain": [
       "15372"
      ]
     },
     "execution_count": 9,
     "metadata": {},
     "output_type": "execute_result"
    }
   ],
   "source": [
    "creepy_features.shape[0]"
   ]
  },
  {
   "cell_type": "code",
   "execution_count": 10,
   "metadata": {},
   "outputs": [
    {
     "name": "stdout",
     "output_type": "stream",
     "text": [
      "[[ 0.69813472  0.07739437 -0.14782463 ... -0.12086978  0.00944329\n",
      "  -0.23866224]\n",
      " [ 0.69813472  0.07739437 -0.14782463 ... -0.12086978  0.00944329\n",
      "  -0.23866224]\n",
      " [ 0.69813472 -0.23705275 -0.16932714 ...  0.22444913 -0.20354605\n",
      "  -0.08335517]\n",
      " ...\n",
      " [ 0.69813472 -0.06071103  0.02235722 ...  0.10523307 -0.29174414\n",
      "  -0.14749481]\n",
      " [ 0.69813472  0.14904401 -0.10234425 ... -0.13638787  0.24349198\n",
      "   0.0390255 ]\n",
      " [ 0.69813472 -0.24383056 -0.36296186 ...  0.32824722 -0.14198837\n",
      "  -0.42668518]] [1. 1. 1. ... 0. 0. 0.]\n"
     ]
    }
   ],
   "source": [
    "features = np.concatenate((creepy_features, noncreepy_features))\n",
    "labels = np.concatenate((creepy_labels, noncreepy_labels))\n",
    "print(features, labels)"
   ]
  },
  {
   "cell_type": "code",
   "execution_count": 11,
   "metadata": {},
   "outputs": [
    {
     "name": "stdout",
     "output_type": "stream",
     "text": [
      "(37846, 769) (37846,)\n"
     ]
    }
   ],
   "source": [
    "print(features.shape, labels.shape)"
   ]
  },
  {
   "cell_type": "code",
   "execution_count": 12,
   "metadata": {},
   "outputs": [
    {
     "name": "stdout",
     "output_type": "stream",
     "text": [
      "[[ 0.69813472  0.05087078 -0.17453498 ... -0.10480397 -0.00878134\n",
      "  -0.02162955]\n",
      " [ 0.69813472  0.01022636 -0.02600729 ...  0.2258952  -0.11448984\n",
      "   0.0233674 ]\n",
      " [ 0.69813472  0.06874519 -0.01141187 ...  0.04425691 -0.2106467\n",
      "  -0.09333058]\n",
      " ...\n",
      " [ 0.69813472 -0.1532692  -0.02440793 ...  0.14036703  0.00953849\n",
      "   0.07714657]\n",
      " [ 1.10194004 -0.21753943 -0.20378701 ...  0.08343509  0.14993337\n",
      "   0.17935309]\n",
      " [ 0.69813472  0.29268453  0.09761263 ... -0.05415852 -0.49108347\n",
      "  -0.5703575 ]] [0. 1. 0. ... 1. 0. 1.]\n"
     ]
    }
   ],
   "source": [
    "from sklearn.utils import shuffle\n",
    "\n",
    "features, labels = shuffle(features, labels)\n",
    "print(features, labels)"
   ]
  },
  {
   "cell_type": "code",
   "execution_count": 13,
   "metadata": {},
   "outputs": [
    {
     "name": "stdout",
     "output_type": "stream",
     "text": [
      "[[0.         0.51793901 0.40268144 ... 0.47184547 0.52893419 0.43782805]\n",
      " [0.         0.5063239  0.45227568 ... 0.57464027 0.49058261 0.45035605]\n",
      " [0.         0.52304705 0.45714918 ... 0.51817968 0.45569642 0.41786513]\n",
      " ...\n",
      " [0.         0.45960116 0.45280972 ... 0.54805463 0.53558072 0.46532919]\n",
      " [0.04952086 0.44123442 0.39291401 ... 0.53035785 0.58651669 0.49378542]\n",
      " [0.         0.58704303 0.49355308 ... 0.48758815 0.35395254 0.2850518 ]] [0. 1. 0. ... 1. 0. 1.]\n"
     ]
    }
   ],
   "source": [
    "from sklearn.preprocessing import MinMaxScaler\n",
    "scaler = MinMaxScaler(feature_range=(0, 1))\n",
    "scaled_features = scaler.fit_transform(features)\n",
    "print(scaled_features, labels)"
   ]
  },
  {
   "cell_type": "markdown",
   "metadata": {},
   "source": [
    "- [x] 70% train, 15% val, 15% test\n",
    " - Train: 26500\n",
    " - Valid: 5677\n",
    " - Test: 5669\n",
    "- [ ] 80% train, 10% val, 10% test\n",
    "- [ ] 60% train, 20% val, 20% test"
   ]
  },
  {
   "cell_type": "code",
   "execution_count": 14,
   "metadata": {},
   "outputs": [
    {
     "data": {
      "text/plain": [
       "array([0.        , 0.        , 0.        , ..., 0.        , 0.04952086,\n",
       "       0.        ])"
      ]
     },
     "execution_count": 14,
     "metadata": {},
     "output_type": "execute_result"
    }
   ],
   "source": [
    "scaled_features[:,0]"
   ]
  },
  {
   "cell_type": "code",
   "execution_count": 15,
   "metadata": {},
   "outputs": [],
   "source": [
    "X_train, X_valid, X_test = scaled_features[:26500], scaled_features[26500:26500+5677], scaled_features[26500+5677:]\n",
    "y_train, y_valid, y_test = labels[:26500], labels[26500:26500+5677], labels[26500+5677:]"
   ]
  },
  {
   "cell_type": "code",
   "execution_count": 16,
   "metadata": {},
   "outputs": [],
   "source": [
    "import tensorflow as tf\n",
    "from tensorflow import keras"
   ]
  },
  {
   "cell_type": "markdown",
   "metadata": {},
   "source": [
    "# Model here"
   ]
  },
  {
   "cell_type": "code",
   "execution_count": 16,
   "metadata": {},
   "outputs": [],
   "source": [
    "model = keras.Sequential([\n",
    "#     keras.layers.Dense(units = 303, input_shape = (769,), activation = 'relu'),\n",
    "#     keras.layers.Dropout(0.5),\n",
    "    keras.layers.Dense(units = 303, input_shape = (769,), activation = 'relu'),\n",
    "    keras.layers.Dropout(0.1),\n",
    "#     keras.layers.Dense(units = 256, activation = 'relu'),\n",
    "    keras.layers.Dense(units = 128, activation = 'relu'),\n",
    "    keras.layers.Dense(units = 64, activation = 'relu'),\n",
    "    keras.layers.Dense(units = 32, activation = 'relu'),\n",
    "    keras.layers.Dense(units = 16, activation = 'relu'),\n",
    "    keras.layers.Dense(units = 1, activation = 'sigmoid') # here the units must be 1 in order for binary classifications to work\n",
    "])"
   ]
  },
  {
   "cell_type": "code",
   "execution_count": 17,
   "metadata": {},
   "outputs": [
    {
     "name": "stdout",
     "output_type": "stream",
     "text": [
      "Model: \"sequential\"\n",
      "_________________________________________________________________\n",
      "Layer (type)                 Output Shape              Param #   \n",
      "=================================================================\n",
      "dense (Dense)                (None, 303)               233310    \n",
      "_________________________________________________________________\n",
      "dropout (Dropout)            (None, 303)               0         \n",
      "_________________________________________________________________\n",
      "dense_1 (Dense)              (None, 128)               38912     \n",
      "_________________________________________________________________\n",
      "dense_2 (Dense)              (None, 64)                8256      \n",
      "_________________________________________________________________\n",
      "dense_3 (Dense)              (None, 32)                2080      \n",
      "_________________________________________________________________\n",
      "dense_4 (Dense)              (None, 16)                528       \n",
      "_________________________________________________________________\n",
      "dense_5 (Dense)              (None, 1)                 17        \n",
      "=================================================================\n",
      "Total params: 283,103\n",
      "Trainable params: 283,103\n",
      "Non-trainable params: 0\n",
      "_________________________________________________________________\n"
     ]
    }
   ],
   "source": [
    "model.summary()"
   ]
  },
  {
   "cell_type": "code",
   "execution_count": 18,
   "metadata": {},
   "outputs": [],
   "source": [
    "model.compile(loss = 'binary_crossentropy',\n",
    "             optimizer = keras.optimizers.Adam(lr=0.000959, beta_1 = 0.9, beta_2=0.999), # you can tune the learning rate here. Default lr = 0.01\n",
    "             metrics=['accuracy'])"
   ]
  },
  {
   "cell_type": "code",
   "execution_count": 19,
   "metadata": {
    "collapsed": true,
    "jupyter": {
     "outputs_hidden": true
    }
   },
   "outputs": [
    {
     "name": "stdout",
     "output_type": "stream",
     "text": [
      "Epoch 1/30\n",
      "  1/829 [..............................] - ETA: 0s - loss: 0.6924 - accuracy: 0.5000WARNING:tensorflow:From /Users/anthony/Documents/GitHub/Research-Mapping-Uncanny-Valley/.venv/creepyvenv/lib/python3.8/site-packages/tensorflow/python/ops/summary_ops_v2.py:1277: stop (from tensorflow.python.eager.profiler) is deprecated and will be removed after 2020-07-01.\n",
      "Instructions for updating:\n",
      "use `tf.profiler.experimental.stop` instead.\n",
      "WARNING:tensorflow:Callbacks method `on_train_batch_end` is slow compared to the batch time (batch time: 0.0031s vs `on_train_batch_end` time: 0.0110s). Check your callbacks.\n",
      "829/829 [==============================] - 3s 3ms/step - loss: 0.4054 - accuracy: 0.8001 - val_loss: 0.3031 - val_accuracy: 0.8723\n",
      "Epoch 2/30\n",
      "829/829 [==============================] - 2s 2ms/step - loss: 0.2622 - accuracy: 0.8973 - val_loss: 0.3511 - val_accuracy: 0.8755\n",
      "Epoch 3/30\n",
      "829/829 [==============================] - 2s 2ms/step - loss: 0.2640 - accuracy: 0.8944 - val_loss: 0.2416 - val_accuracy: 0.9010\n",
      "Epoch 4/30\n",
      "829/829 [==============================] - 2s 2ms/step - loss: 0.2841 - accuracy: 0.8798 - val_loss: 0.3652 - val_accuracy: 0.8445\n",
      "Epoch 5/30\n",
      "829/829 [==============================] - 2s 2ms/step - loss: 0.2672 - accuracy: 0.8833 - val_loss: 0.1900 - val_accuracy: 0.9292\n",
      "Epoch 6/30\n",
      "829/829 [==============================] - 2s 2ms/step - loss: 0.2714 - accuracy: 0.8809 - val_loss: 0.2171 - val_accuracy: 0.9225\n",
      "Epoch 7/30\n",
      "829/829 [==============================] - 2s 2ms/step - loss: 0.2587 - accuracy: 0.8879 - val_loss: 0.3863 - val_accuracy: 0.8351\n",
      "Epoch 8/30\n",
      "829/829 [==============================] - 2s 2ms/step - loss: 0.2578 - accuracy: 0.8888 - val_loss: 0.2007 - val_accuracy: 0.9301\n",
      "Epoch 9/30\n",
      "829/829 [==============================] - 2s 2ms/step - loss: 0.2451 - accuracy: 0.8944 - val_loss: 0.2206 - val_accuracy: 0.9267\n",
      "Epoch 10/30\n",
      "829/829 [==============================] - 2s 2ms/step - loss: 0.2569 - accuracy: 0.8879 - val_loss: 0.1700 - val_accuracy: 0.9394\n",
      "Epoch 11/30\n",
      "829/829 [==============================] - 2s 2ms/step - loss: 0.2358 - accuracy: 0.8962 - val_loss: 0.3281 - val_accuracy: 0.8364\n",
      "Epoch 12/30\n",
      "829/829 [==============================] - 2s 2ms/step - loss: 0.2477 - accuracy: 0.8938 - val_loss: 0.2237 - val_accuracy: 0.9049\n",
      "Epoch 13/30\n",
      "829/829 [==============================] - 2s 2ms/step - loss: 0.2425 - accuracy: 0.8927 - val_loss: 0.1879 - val_accuracy: 0.9341\n",
      "Epoch 14/30\n",
      "829/829 [==============================] - 2s 2ms/step - loss: 0.2359 - accuracy: 0.8986 - val_loss: 0.2430 - val_accuracy: 0.8973\n",
      "Epoch 15/30\n",
      "829/829 [==============================] - 2s 2ms/step - loss: 0.2401 - accuracy: 0.8932 - val_loss: 0.2356 - val_accuracy: 0.8968\n",
      "Epoch 16/30\n",
      "829/829 [==============================] - 2s 2ms/step - loss: 0.2337 - accuracy: 0.9000 - val_loss: 0.1636 - val_accuracy: 0.9422\n",
      "Epoch 17/30\n",
      "829/829 [==============================] - 2s 2ms/step - loss: 0.2277 - accuracy: 0.9023 - val_loss: 0.1681 - val_accuracy: 0.9399\n",
      "Epoch 18/30\n",
      "829/829 [==============================] - 2s 2ms/step - loss: 0.2324 - accuracy: 0.8996 - val_loss: 0.1683 - val_accuracy: 0.9373\n",
      "Epoch 19/30\n",
      "829/829 [==============================] - 2s 2ms/step - loss: 0.2262 - accuracy: 0.9008 - val_loss: 0.1712 - val_accuracy: 0.9454\n",
      "Epoch 20/30\n",
      "829/829 [==============================] - 2s 2ms/step - loss: 0.2295 - accuracy: 0.8995 - val_loss: 0.1580 - val_accuracy: 0.9450\n",
      "Epoch 21/30\n",
      "829/829 [==============================] - 2s 2ms/step - loss: 0.2241 - accuracy: 0.9022 - val_loss: 0.1522 - val_accuracy: 0.9435\n",
      "Epoch 22/30\n",
      "829/829 [==============================] - 2s 2ms/step - loss: 0.2232 - accuracy: 0.9020 - val_loss: 0.1585 - val_accuracy: 0.9438\n",
      "Epoch 23/30\n",
      "829/829 [==============================] - 2s 3ms/step - loss: 0.2220 - accuracy: 0.9029 - val_loss: 0.1979 - val_accuracy: 0.9369\n",
      "Epoch 24/30\n",
      "829/829 [==============================] - 2s 2ms/step - loss: 0.2244 - accuracy: 0.9021 - val_loss: 0.1503 - val_accuracy: 0.9491\n",
      "Epoch 25/30\n",
      "829/829 [==============================] - 2s 2ms/step - loss: 0.2214 - accuracy: 0.9036 - val_loss: 0.1798 - val_accuracy: 0.9304\n",
      "Epoch 26/30\n",
      "829/829 [==============================] - 2s 2ms/step - loss: 0.2256 - accuracy: 0.9014 - val_loss: 0.1936 - val_accuracy: 0.9456\n",
      "Epoch 27/30\n",
      "829/829 [==============================] - 2s 2ms/step - loss: 0.2218 - accuracy: 0.9037 - val_loss: 0.1721 - val_accuracy: 0.9315\n",
      "Epoch 28/30\n",
      "829/829 [==============================] - 2s 2ms/step - loss: 0.2205 - accuracy: 0.9020 - val_loss: 0.1708 - val_accuracy: 0.9375\n",
      "Epoch 29/30\n",
      "829/829 [==============================] - 2s 2ms/step - loss: 0.2181 - accuracy: 0.9028 - val_loss: 0.1921 - val_accuracy: 0.9195\n",
      "Epoch 30/30\n",
      "829/829 [==============================] - 2s 2ms/step - loss: 0.2159 - accuracy: 0.9055 - val_loss: 0.1573 - val_accuracy: 0.9445\n"
     ]
    },
    {
     "data": {
      "text/plain": [
       "Reusing TensorBoard on port 6007 (pid 52840), started 0:01:56 ago. (Use '!kill 52840' to kill it.)"
      ]
     },
     "metadata": {},
     "output_type": "display_data"
    },
    {
     "data": {
      "text/html": [
       "\n",
       "      <iframe id=\"tensorboard-frame-dbbf0b4ec1e0fe64\" width=\"100%\" height=\"800\" frameborder=\"0\">\n",
       "      </iframe>\n",
       "      <script>\n",
       "        (function() {\n",
       "          const frame = document.getElementById(\"tensorboard-frame-dbbf0b4ec1e0fe64\");\n",
       "          const url = new URL(\"/\", window.location);\n",
       "          const port = 6007;\n",
       "          if (port) {\n",
       "            url.port = port;\n",
       "          }\n",
       "          frame.src = url;\n",
       "        })();\n",
       "      </script>\n",
       "    "
      ],
      "text/plain": [
       "<IPython.core.display.HTML object>"
      ]
     },
     "metadata": {},
     "output_type": "display_data"
    }
   ],
   "source": [
    "import os\n",
    "root_logdir = os.path.join(os.curdir, \"tensorboard_logs\")\n",
    "\n",
    "def get_run_log_dir():\n",
    "    import time\n",
    "    run_id = time.strftime(\"run_%Y_%m_%d-%H_%M_%S\")\n",
    "    return os.path.join(root_logdir, run_id)\n",
    "\n",
    "run_logdir = get_run_log_dir()\n",
    "\n",
    "tensorboard_cb = keras.callbacks.TensorBoard(run_logdir)\n",
    "\n",
    "history = model.fit(X_train, y_train, epochs = 30, \n",
    "                   validation_data=(X_valid, y_valid),\n",
    "                   callbacks=[tensorboard_cb])\n",
    "\n",
    "%tensorboard --logdir tensorboard_logs"
   ]
  },
  {
   "cell_type": "code",
   "execution_count": 20,
   "metadata": {},
   "outputs": [
    {
     "data": {
      "image/png": "[encoded data removed]",
      "text/plain": [
       "<Figure size 576x360 with 1 Axes>"
      ]
     },
     "metadata": {
      "needs_background": "light"
     },
     "output_type": "display_data"
    }
   ],
   "source": [
    "import matplotlib.pyplot as plt\n",
    "pd.DataFrame(history.history).plot(figsize = (8,5))\n",
    "plt.grid = True\n",
    "plt.gca().set_ylim(0,1)\n",
    "plt.show()\n"
   ]
  },
  {
   "cell_type": "code",
   "execution_count": 21,
   "metadata": {},
   "outputs": [
    {
     "name": "stdout",
     "output_type": "stream",
     "text": [
      "178/178 [==============================] - 0s 1ms/step - loss: 0.1607 - accuracy: 0.9436\n"
     ]
    },
    {
     "data": {
      "text/plain": [
       "[0.16067270934581757, 0.9435526728630066]"
      ]
     },
     "execution_count": 21,
     "metadata": {},
     "output_type": "execute_result"
    }
   ],
   "source": [
    "model.evaluate(X_test, y_test)"
   ]
  },
  {
   "cell_type": "code",
   "execution_count": 22,
   "metadata": {},
   "outputs": [
    {
     "name": "stdout",
     "output_type": "stream",
     "text": [
      "WARNING:tensorflow:From /Users/anthony/Documents/GitHub/Research-Mapping-Uncanny-Valley/.venv/creepyvenv/lib/python3.8/site-packages/tensorflow/python/training/tracking/tracking.py:111: Model.state_updates (from tensorflow.python.keras.engine.training) is deprecated and will be removed in a future version.\n",
      "Instructions for updating:\n",
      "This property should not be used in TensorFlow 2.0, as updates are applied automatically.\n",
      "WARNING:tensorflow:From /Users/anthony/Documents/GitHub/Research-Mapping-Uncanny-Valley/.venv/creepyvenv/lib/python3.8/site-packages/tensorflow/python/training/tracking/tracking.py:111: Layer.updates (from tensorflow.python.keras.engine.base_layer) is deprecated and will be removed in a future version.\n",
      "Instructions for updating:\n",
      "This property should not be used in TensorFlow 2.0, as updates are applied automatically.\n",
      "INFO:tensorflow:Assets written to: ./models/self-tuned-model/assets\n"
     ]
    }
   ],
   "source": [
    "model.save('./models/self-tuned-model')"
   ]
  },
  {
   "cell_type": "markdown",
   "metadata": {},
   "source": [
    "# Tensorboard Hyperparameter Tuning"
   ]
  },
  {
   "cell_type": "code",
   "execution_count": 17,
   "metadata": {},
   "outputs": [
    {
     "name": "stdout",
     "output_type": "stream",
     "text": [
      "The tensorboard extension is already loaded. To reload it, use:\n",
      "  %reload_ext tensorboard\n"
     ]
    }
   ],
   "source": [
    "# Load the TensorBoard notebook extension\n",
    "%load_ext tensorboard"
   ]
  },
  {
   "cell_type": "code",
   "execution_count": 18,
   "metadata": {},
   "outputs": [],
   "source": [
    "# Clear any logs from previous runs\n",
    "%rm -rf ./tf_tuner_logs/"
   ]
  },
  {
   "cell_type": "code",
   "execution_count": 19,
   "metadata": {},
   "outputs": [],
   "source": [
    "import tensorflow as tf\n",
    "from tensorboard.plugins.hparams import api as hp\n",
    "from tensorflow.keras.layers import Dense, Dropout"
   ]
  },
  {
   "cell_type": "code",
   "execution_count": 20,
   "metadata": {},
   "outputs": [],
   "source": [
    "HP_NUM_UNITS = hp.HParam('num_units', hp.IntInterval(8, 512))\n",
    "HP_DROPOUT = hp.HParam('dropout', hp.RealInterval(0.0, 0.5))\n",
    "HP_OPTIMIZER = hp.HParam('optimizer', hp.Discrete(['adam', 'sgd']))\n",
    "HP_NUM_LAYERS = hp.HParam('n_layers', hp.IntInterval(2, 6))\n",
    "HP_LR = hp.HParam('learning rate', hp.RealInterval(0.0008, 0.001))\n",
    "\n",
    "METRIC_ACCURACY = 'accuracy'\n",
    "\n",
    "with tf.summary.create_file_writer('tf_tuner_logs/hparam_tuning').as_default():\n",
    "    hp.hparams_config(\n",
    "        hparams=[HP_NUM_UNITS, HP_DROPOUT, HP_OPTIMIZER, HP_NUM_LAYERS, HP_LR],\n",
    "        metrics=[hp.Metric(METRIC_ACCURACY, display_name='Accuracy')],\n",
    "    )"
   ]
  },
  {
   "cell_type": "code",
   "execution_count": 21,
   "metadata": {},
   "outputs": [],
   "source": [
    "def train_test_model(hparams):\n",
    "    model = keras.Sequential()\n",
    "    model.add(Dense(units = hparams[HP_NUM_UNITS], input_shape = (769,), activation = 'relu'))\n",
    "    \n",
    "    for i in range(hparams[HP_NUM_LAYERS]):\n",
    "        model.add(Dense(units = hparams[HP_NUM_UNITS], activation = 'relu'))\n",
    "        model.add(Dropout(hparams[HP_DROPOUT]))\n",
    "        \n",
    "    model.add(Dense(units = 1, activation = 'sigmoid'))\n",
    "    \n",
    "    model.compile(loss = 'binary_crossentropy',\n",
    "             optimizer = keras.optimizers.Adam(lr=hparams[HP_LR]), # you can tune the learning rate here. Default lr = 0.01\n",
    "             metrics=['accuracy'])\n",
    "    model.fit(X_train, y_train, epochs=1, validation_data=(X_valid, y_valid)) # Run with 1 epoch to speed things up for demo purposes\n",
    "    _, accuracy = model.evaluate(X_test, y_test)\n",
    "    return accuracy"
   ]
  },
  {
   "cell_type": "code",
   "execution_count": 22,
   "metadata": {},
   "outputs": [],
   "source": [
    "def run(run_dir, hparams):\n",
    "    with tf.summary.create_file_writer(run_dir).as_default():\n",
    "        hp.hparams(hparams)  # record the values used in this trial\n",
    "        accuracy = train_test_model(hparams)\n",
    "        tf.summary.scalar(METRIC_ACCURACY, accuracy, step=1)"
   ]
  },
  {
   "cell_type": "code",
   "execution_count": 23,
   "metadata": {},
   "outputs": [
    {
     "name": "stdout",
     "output_type": "stream",
     "text": [
      "--- Starting trial: run-0\n",
      "{'n_layers': 2, 'num_units': 8, 'dropout': 0.0, 'optimizer': 'adam', 'learning rate': 0.0008}\n",
      "829/829 [==============================] - 1s 1ms/step - loss: 0.6779 - accuracy: 0.5900 - val_loss: 0.6789 - val_accuracy: 0.5848\n",
      "  1/178 [..............................] - ETA: 0s - loss: 0.6633 - accuracy: 0.6250WARNING:tensorflow:Callbacks method `on_test_batch_end` is slow compared to the batch time (batch time: 0.0007s vs `on_test_batch_end` time: 0.0013s). Check your callbacks.\n",
      "178/178 [==============================] - 0s 753us/step - loss: 0.6717 - accuracy: 0.6035\n",
      "--- Starting trial: run-1\n",
      "{'n_layers': 2, 'num_units': 8, 'dropout': 0.0, 'optimizer': 'adam', 'learning rate': 0.0009}\n",
      "829/829 [==============================] - 1s 1ms/step - loss: 0.4946 - accuracy: 0.7515 - val_loss: 0.2818 - val_accuracy: 0.8973\n",
      "  1/178 [..............................] - ETA: 0s - loss: 0.3372 - accuracy: 0.9062WARNING:tensorflow:Callbacks method `on_test_batch_end` is slow compared to the batch time (batch time: 0.0016s vs `on_test_batch_end` time: 0.0069s). Check your callbacks.\n",
      "178/178 [==============================] - 0s 1ms/step - loss: 0.2859 - accuracy: 0.8970\n",
      "--- Starting trial: run-2\n",
      "{'n_layers': 2, 'num_units': 8, 'dropout': 0.0, 'optimizer': 'adam', 'learning rate': 0.001}\n",
      "829/829 [==============================] - 1s 1ms/step - loss: 0.5330 - accuracy: 0.7147 - val_loss: 0.3520 - val_accuracy: 0.8644\n",
      "178/178 [==============================] - 0s 807us/step - loss: 0.3392 - accuracy: 0.8751\n",
      "--- Starting trial: run-3\n",
      "{'n_layers': 2, 'num_units': 8, 'dropout': 0.0, 'optimizer': 'sgd', 'learning rate': 0.0008}\n",
      "829/829 [==============================] - 1s 1ms/step - loss: 0.4616 - accuracy: 0.7771 - val_loss: 0.2733 - val_accuracy: 0.8940\n",
      "178/178 [==============================] - 0s 552us/step - loss: 0.2735 - accuracy: 0.8989\n",
      "--- Starting trial: run-4\n",
      "{'n_layers': 2, 'num_units': 8, 'dropout': 0.0, 'optimizer': 'sgd', 'learning rate': 0.0009}\n",
      "829/829 [==============================] - 1s 1ms/step - loss: 0.4609 - accuracy: 0.7614 - val_loss: 0.2886 - val_accuracy: 0.8881\n",
      "178/178 [==============================] - 0s 776us/step - loss: 0.2875 - accuracy: 0.8929\n",
      "--- Starting trial: run-5\n",
      "{'n_layers': 2, 'num_units': 8, 'dropout': 0.0, 'optimizer': 'sgd', 'learning rate': 0.001}\n",
      "829/829 [==============================] - 1s 2ms/step - loss: 0.4955 - accuracy: 0.7372 - val_loss: 0.3540 - val_accuracy: 0.8385\n",
      "178/178 [==============================] - 0s 1ms/step - loss: 0.3391 - accuracy: 0.8506\n",
      "--- Starting trial: run-6\n",
      "{'n_layers': 2, 'num_units': 8, 'dropout': 0.1, 'optimizer': 'adam', 'learning rate': 0.0008}\n",
      "829/829 [==============================] - 1s 1ms/step - loss: 0.6784 - accuracy: 0.5906 - val_loss: 0.6788 - val_accuracy: 0.5848\n",
      "178/178 [==============================] - 0s 922us/step - loss: 0.6719 - accuracy: 0.6035\n",
      "--- Starting trial: run-7\n",
      "{'n_layers': 2, 'num_units': 8, 'dropout': 0.1, 'optimizer': 'adam', 'learning rate': 0.0009}\n",
      "829/829 [==============================] - 1s 1ms/step - loss: 0.5069 - accuracy: 0.7444 - val_loss: 0.3386 - val_accuracy: 0.8744\n",
      "178/178 [==============================] - 0s 1ms/step - loss: 0.3329 - accuracy: 0.8763\n",
      "--- Starting trial: run-8\n",
      "{'n_layers': 2, 'num_units': 8, 'dropout': 0.1, 'optimizer': 'adam', 'learning rate': 0.001}\n",
      "829/829 [==============================] - 1s 2ms/step - loss: 0.5280 - accuracy: 0.7125 - val_loss: 0.3365 - val_accuracy: 0.8688\n",
      "178/178 [==============================] - 0s 1ms/step - loss: 0.3351 - accuracy: 0.8735\n",
      "--- Starting trial: run-9\n",
      "{'n_layers': 2, 'num_units': 8, 'dropout': 0.1, 'optimizer': 'sgd', 'learning rate': 0.0008}\n",
      "829/829 [==============================] - 1s 2ms/step - loss: 0.5899 - accuracy: 0.6434 - val_loss: 0.4093 - val_accuracy: 0.8573\n",
      "178/178 [==============================] - 0s 799us/step - loss: 0.3954 - accuracy: 0.8665\n",
      "--- Starting trial: run-10\n",
      "{'n_layers': 2, 'num_units': 8, 'dropout': 0.1, 'optimizer': 'sgd', 'learning rate': 0.0009}\n",
      "829/829 [==============================] - 1s 2ms/step - loss: 0.4748 - accuracy: 0.7690 - val_loss: 0.3066 - val_accuracy: 0.8938\n",
      "178/178 [==============================] - 0s 1ms/step - loss: 0.2997 - accuracy: 0.8963\n",
      "--- Starting trial: run-11\n",
      "{'n_layers': 2, 'num_units': 8, 'dropout': 0.1, 'optimizer': 'sgd', 'learning rate': 0.001}\n",
      "829/829 [==============================] - 1s 1ms/step - loss: 0.6771 - accuracy: 0.5905 - val_loss: 0.6792 - val_accuracy: 0.5848\n",
      "178/178 [==============================] - 0s 766us/step - loss: 0.6716 - accuracy: 0.6035\n",
      "--- Starting trial: run-12\n",
      "{'n_layers': 2, 'num_units': 8, 'dropout': 0.2, 'optimizer': 'adam', 'learning rate': 0.0008}\n",
      "829/829 [==============================] - 1s 1ms/step - loss: 0.5526 - accuracy: 0.6973 - val_loss: 0.3699 - val_accuracy: 0.8404\n",
      "178/178 [==============================] - 0s 640us/step - loss: 0.3560 - accuracy: 0.8476\n",
      "--- Starting trial: run-13\n",
      "{'n_layers': 2, 'num_units': 8, 'dropout': 0.2, 'optimizer': 'adam', 'learning rate': 0.0009}\n",
      "829/829 [==============================] - 1s 2ms/step - loss: 0.6334 - accuracy: 0.6467 - val_loss: 0.4055 - val_accuracy: 0.8788\n",
      "178/178 [==============================] - 0s 879us/step - loss: 0.3998 - accuracy: 0.8823\n",
      "--- Starting trial: run-14\n",
      "{'n_layers': 2, 'num_units': 8, 'dropout': 0.2, 'optimizer': 'adam', 'learning rate': 0.001}\n",
      "829/829 [==============================] - 1s 2ms/step - loss: 0.5368 - accuracy: 0.7118 - val_loss: 0.3044 - val_accuracy: 0.8827\n",
      "178/178 [==============================] - 0s 723us/step - loss: 0.2997 - accuracy: 0.8864\n",
      "--- Starting trial: run-15\n",
      "{'n_layers': 2, 'num_units': 8, 'dropout': 0.2, 'optimizer': 'sgd', 'learning rate': 0.0008}\n",
      "829/829 [==============================] - 1s 1ms/step - loss: 0.5760 - accuracy: 0.6717 - val_loss: 0.4288 - val_accuracy: 0.7962\n",
      "178/178 [==============================] - 0s 763us/step - loss: 0.4114 - accuracy: 0.8046\n",
      "--- Starting trial: run-16\n",
      "{'n_layers': 2, 'num_units': 8, 'dropout': 0.2, 'optimizer': 'sgd', 'learning rate': 0.0009}\n",
      "829/829 [==============================] - 1s 1ms/step - loss: 0.5665 - accuracy: 0.6760 - val_loss: 0.3974 - val_accuracy: 0.8822\n",
      "178/178 [==============================] - 0s 764us/step - loss: 0.3882 - accuracy: 0.8862\n",
      "--- Starting trial: run-17\n",
      "{'n_layers': 2, 'num_units': 8, 'dropout': 0.2, 'optimizer': 'sgd', 'learning rate': 0.001}\n",
      "829/829 [==============================] - 1s 2ms/step - loss: 0.5393 - accuracy: 0.7111 - val_loss: 0.4312 - val_accuracy: 0.7971\n",
      "178/178 [==============================] - 0s 1ms/step - loss: 0.4110 - accuracy: 0.8116\n",
      "--- Starting trial: run-18\n",
      "{'n_layers': 2, 'num_units': 8, 'dropout': 0.3, 'optimizer': 'adam', 'learning rate': 0.0008}\n",
      "829/829 [==============================] - 1s 1ms/step - loss: 0.6777 - accuracy: 0.5916 - val_loss: 0.6788 - val_accuracy: 0.5848\n",
      "178/178 [==============================] - 0s 883us/step - loss: 0.6719 - accuracy: 0.6035\n",
      "--- Starting trial: run-19\n",
      "{'n_layers': 2, 'num_units': 8, 'dropout': 0.3, 'optimizer': 'adam', 'learning rate': 0.0009}\n",
      "829/829 [==============================] - 1s 1ms/step - loss: 0.6782 - accuracy: 0.5915 - val_loss: 0.6787 - val_accuracy: 0.5848\n",
      "178/178 [==============================] - 0s 837us/step - loss: 0.6723 - accuracy: 0.6035\n",
      "--- Starting trial: run-20\n",
      "{'n_layers': 2, 'num_units': 8, 'dropout': 0.3, 'optimizer': 'adam', 'learning rate': 0.001}\n",
      "  1/829 [..............................] - ETA: 0s - loss: 0.7187 - accuracy: 0.4375WARNING:tensorflow:Callbacks method `on_train_batch_end` is slow compared to the batch time (batch time: 0.0012s vs `on_train_batch_end` time: 0.0024s). Check your callbacks.\n",
      "829/829 [==============================] - 1s 1ms/step - loss: 0.6717 - accuracy: 0.5872 - val_loss: 0.6017 - val_accuracy: 0.5848\n",
      "178/178 [==============================] - 0s 908us/step - loss: 0.5925 - accuracy: 0.6035\n",
      "--- Starting trial: run-21\n",
      "{'n_layers': 2, 'num_units': 8, 'dropout': 0.3, 'optimizer': 'sgd', 'learning rate': 0.0008}\n",
      "829/829 [==============================] - 1s 1ms/step - loss: 0.5811 - accuracy: 0.6570 - val_loss: 0.4146 - val_accuracy: 0.8353\n",
      "178/178 [==============================] - 0s 970us/step - loss: 0.3993 - accuracy: 0.8479\n",
      "--- Starting trial: run-22\n",
      "{'n_layers': 2, 'num_units': 8, 'dropout': 0.3, 'optimizer': 'sgd', 'learning rate': 0.0009}\n",
      "829/829 [==============================] - 1s 2ms/step - loss: 0.6370 - accuracy: 0.6303 - val_loss: 0.4479 - val_accuracy: 0.8825\n",
      "  1/178 [..............................] - ETA: 0s - loss: 0.4392 - accuracy: 0.9062WARNING:tensorflow:Callbacks method `on_test_batch_end` is slow compared to the batch time (batch time: 0.0007s vs `on_test_batch_end` time: 0.0043s). Check your callbacks.\n",
      "178/178 [==============================] - 0s 929us/step - loss: 0.4420 - accuracy: 0.8869\n",
      "--- Starting trial: run-23\n",
      "{'n_layers': 2, 'num_units': 8, 'dropout': 0.3, 'optimizer': 'sgd', 'learning rate': 0.001}\n",
      "829/829 [==============================] - 1s 1ms/step - loss: 0.6776 - accuracy: 0.5907 - val_loss: 0.6787 - val_accuracy: 0.5848\n",
      "178/178 [==============================] - 0s 836us/step - loss: 0.6726 - accuracy: 0.6035\n",
      "--- Starting trial: run-24\n",
      "{'n_layers': 2, 'num_units': 8, 'dropout': 0.4, 'optimizer': 'adam', 'learning rate': 0.0008}\n",
      "829/829 [==============================] - 1s 2ms/step - loss: 0.5552 - accuracy: 0.7012 - val_loss: 0.3996 - val_accuracy: 0.8462\n",
      "178/178 [==============================] - 0s 876us/step - loss: 0.3830 - accuracy: 0.8561\n",
      "--- Starting trial: run-25\n",
      "{'n_layers': 2, 'num_units': 8, 'dropout': 0.4, 'optimizer': 'adam', 'learning rate': 0.0009}\n",
      "829/829 [==============================] - 1s 1ms/step - loss: 0.5904 - accuracy: 0.6498 - val_loss: 0.4045 - val_accuracy: 0.8661\n",
      "178/178 [==============================] - 0s 964us/step - loss: 0.3910 - accuracy: 0.8762\n",
      "--- Starting trial: run-26\n",
      "{'n_layers': 2, 'num_units': 8, 'dropout': 0.4, 'optimizer': 'adam', 'learning rate': 0.001}\n",
      "829/829 [==============================] - 1s 1ms/step - loss: 0.6781 - accuracy: 0.5935 - val_loss: 0.6788 - val_accuracy: 0.5848\n",
      "178/178 [==============================] - 0s 851us/step - loss: 0.6719 - accuracy: 0.6035\n",
      "--- Starting trial: run-27\n",
      "{'n_layers': 2, 'num_units': 8, 'dropout': 0.4, 'optimizer': 'sgd', 'learning rate': 0.0008}\n",
      "  1/829 [..............................] - ETA: 0s - loss: 0.8431 - accuracy: 0.4062WARNING:tensorflow:Callbacks method `on_train_batch_end` is slow compared to the batch time (batch time: 0.0014s vs `on_train_batch_end` time: 0.0040s). Check your callbacks.\n",
      "829/829 [==============================] - 1s 2ms/step - loss: 0.6802 - accuracy: 0.5915 - val_loss: 0.6787 - val_accuracy: 0.5848\n",
      "178/178 [==============================] - 0s 827us/step - loss: 0.6722 - accuracy: 0.6035\n",
      "--- Starting trial: run-28\n",
      "{'n_layers': 2, 'num_units': 8, 'dropout': 0.4, 'optimizer': 'sgd', 'learning rate': 0.0009}\n",
      "829/829 [==============================] - 1s 2ms/step - loss: 0.6669 - accuracy: 0.6084 - val_loss: 0.6678 - val_accuracy: 0.5848\n",
      "178/178 [==============================] - 0s 943us/step - loss: 0.6529 - accuracy: 0.6035\n",
      "--- Starting trial: run-29\n",
      "{'n_layers': 2, 'num_units': 8, 'dropout': 0.4, 'optimizer': 'sgd', 'learning rate': 0.001}\n",
      "829/829 [==============================] - 1s 1ms/step - loss: 0.6793 - accuracy: 0.5885 - val_loss: 0.6787 - val_accuracy: 0.5848\n",
      "178/178 [==============================] - 0s 871us/step - loss: 0.6727 - accuracy: 0.6035\n",
      "--- Starting trial: run-30\n",
      "{'n_layers': 2, 'num_units': 8, 'dropout': 0.5, 'optimizer': 'adam', 'learning rate': 0.0008}\n",
      "829/829 [==============================] - 1s 1ms/step - loss: 0.6807 - accuracy: 0.5866 - val_loss: 0.6787 - val_accuracy: 0.5848\n",
      "178/178 [==============================] - 0s 970us/step - loss: 0.6727 - accuracy: 0.6035\n",
      "--- Starting trial: run-31\n",
      "{'n_layers': 2, 'num_units': 8, 'dropout': 0.5, 'optimizer': 'adam', 'learning rate': 0.0009}\n",
      "  1/829 [..............................] - ETA: 0s - loss: 0.8060 - accuracy: 0.4375WARNING:tensorflow:Callbacks method `on_train_batch_end` is slow compared to the batch time (batch time: 0.0018s vs `on_train_batch_end` time: 0.0147s). Check your callbacks.\n",
      "829/829 [==============================] - 1s 2ms/step - loss: 0.6798 - accuracy: 0.5903 - val_loss: 0.6790 - val_accuracy: 0.5848\n",
      "178/178 [==============================] - 0s 921us/step - loss: 0.6717 - accuracy: 0.6035\n",
      "--- Starting trial: run-32\n",
      "{'n_layers': 2, 'num_units': 8, 'dropout': 0.5, 'optimizer': 'adam', 'learning rate': 0.001}\n",
      "829/829 [==============================] - 1s 1ms/step - loss: 0.6791 - accuracy: 0.5908 - val_loss: 0.6787 - val_accuracy: 0.5848\n",
      "178/178 [==============================] - 0s 805us/step - loss: 0.6726 - accuracy: 0.6035\n",
      "--- Starting trial: run-33\n",
      "{'n_layers': 2, 'num_units': 8, 'dropout': 0.5, 'optimizer': 'sgd', 'learning rate': 0.0008}\n",
      "829/829 [==============================] - 1s 1ms/step - loss: 0.5797 - accuracy: 0.6793 - val_loss: 0.3681 - val_accuracy: 0.8897\n",
      "178/178 [==============================] - 0s 998us/step - loss: 0.3606 - accuracy: 0.8931\n",
      "--- Starting trial: run-34\n",
      "{'n_layers': 2, 'num_units': 8, 'dropout': 0.5, 'optimizer': 'sgd', 'learning rate': 0.0009}\n",
      "  1/829 [..............................] - ETA: 0s - loss: 0.7382 - accuracy: 0.4062WARNING:tensorflow:Callbacks method `on_train_batch_end` is slow compared to the batch time (batch time: 0.0011s vs `on_train_batch_end` time: 0.0020s). Check your callbacks.\n",
      "829/829 [==============================] - 2s 2ms/step - loss: 0.6778 - accuracy: 0.5919 - val_loss: 0.6788 - val_accuracy: 0.5848\n",
      "  1/178 [..............................] - ETA: 0s - loss: 0.6640 - accuracy: 0.6250WARNING:tensorflow:Callbacks method `on_test_batch_end` is slow compared to the batch time (batch time: 0.0011s vs `on_test_batch_end` time: 0.0027s). Check your callbacks.\n",
      "178/178 [==============================] - 0s 974us/step - loss: 0.6719 - accuracy: 0.6035\n",
      "--- Starting trial: run-35\n",
      "{'n_layers': 2, 'num_units': 8, 'dropout': 0.5, 'optimizer': 'sgd', 'learning rate': 0.001}\n",
      "829/829 [==============================] - 1s 1ms/step - loss: 0.6794 - accuracy: 0.5932 - val_loss: 0.6787 - val_accuracy: 0.5848\n",
      "178/178 [==============================] - 0s 679us/step - loss: 0.6725 - accuracy: 0.6035\n",
      "--- Starting trial: run-36\n",
      "{'n_layers': 2, 'num_units': 512, 'dropout': 0.0, 'optimizer': 'adam', 'learning rate': 0.0008}\n",
      "829/829 [==============================] - 5s 6ms/step - loss: 0.3499 - accuracy: 0.8379 - val_loss: 0.2227 - val_accuracy: 0.9151\n",
      "178/178 [==============================] - 0s 2ms/step - loss: 0.2193 - accuracy: 0.9203\n",
      "--- Starting trial: run-37\n",
      "{'n_layers': 2, 'num_units': 512, 'dropout': 0.0, 'optimizer': 'adam', 'learning rate': 0.0009}\n",
      "829/829 [==============================] - 5s 6ms/step - loss: 0.3654 - accuracy: 0.8296 - val_loss: 0.2213 - val_accuracy: 0.9156\n",
      "178/178 [==============================] - 0s 2ms/step - loss: 0.2261 - accuracy: 0.9139\n",
      "--- Starting trial: run-38\n",
      "{'n_layers': 2, 'num_units': 512, 'dropout': 0.0, 'optimizer': 'adam', 'learning rate': 0.001}\n",
      "829/829 [==============================] - 5s 6ms/step - loss: 0.3527 - accuracy: 0.8388 - val_loss: 0.3736 - val_accuracy: 0.8360\n",
      "178/178 [==============================] - 0s 2ms/step - loss: 0.3786 - accuracy: 0.8389\n",
      "--- Starting trial: run-39\n",
      "{'n_layers': 2, 'num_units': 512, 'dropout': 0.0, 'optimizer': 'sgd', 'learning rate': 0.0008}\n",
      "829/829 [==============================] - 5s 6ms/step - loss: 0.3422 - accuracy: 0.8453 - val_loss: 0.3656 - val_accuracy: 0.8399\n",
      "178/178 [==============================] - 0s 2ms/step - loss: 0.3756 - accuracy: 0.8382\n",
      "--- Starting trial: run-40\n",
      "{'n_layers': 2, 'num_units': 512, 'dropout': 0.0, 'optimizer': 'sgd', 'learning rate': 0.0009}\n",
      "829/829 [==============================] - 5s 6ms/step - loss: 0.3513 - accuracy: 0.8329 - val_loss: 0.2128 - val_accuracy: 0.9176\n",
      "178/178 [==============================] - 0s 2ms/step - loss: 0.2168 - accuracy: 0.9169\n",
      "--- Starting trial: run-41\n",
      "{'n_layers': 2, 'num_units': 512, 'dropout': 0.0, 'optimizer': 'sgd', 'learning rate': 0.001}\n",
      "829/829 [==============================] - 5s 6ms/step - loss: 0.3694 - accuracy: 0.8262 - val_loss: 0.2359 - val_accuracy: 0.9044\n",
      "178/178 [==============================] - 0s 2ms/step - loss: 0.2408 - accuracy: 0.9046\n",
      "--- Starting trial: run-42\n",
      "{'n_layers': 2, 'num_units': 512, 'dropout': 0.1, 'optimizer': 'adam', 'learning rate': 0.0008}\n",
      "829/829 [==============================] - 5s 6ms/step - loss: 0.3644 - accuracy: 0.8315 - val_loss: 0.2234 - val_accuracy: 0.9160\n",
      "178/178 [==============================] - 0s 2ms/step - loss: 0.2237 - accuracy: 0.9160\n",
      "--- Starting trial: run-43\n",
      "{'n_layers': 2, 'num_units': 512, 'dropout': 0.1, 'optimizer': 'adam', 'learning rate': 0.0009}\n",
      "829/829 [==============================] - 5s 6ms/step - loss: 0.3528 - accuracy: 0.8351 - val_loss: 0.2242 - val_accuracy: 0.9102\n",
      "178/178 [==============================] - 0s 2ms/step - loss: 0.2271 - accuracy: 0.9127\n",
      "--- Starting trial: run-44\n",
      "{'n_layers': 2, 'num_units': 512, 'dropout': 0.1, 'optimizer': 'adam', 'learning rate': 0.001}\n",
      "829/829 [==============================] - 5s 6ms/step - loss: 0.3801 - accuracy: 0.8195 - val_loss: 0.2567 - val_accuracy: 0.9024\n",
      "178/178 [==============================] - 0s 2ms/step - loss: 0.2555 - accuracy: 0.9044\n",
      "--- Starting trial: run-45\n",
      "{'n_layers': 2, 'num_units': 512, 'dropout': 0.1, 'optimizer': 'sgd', 'learning rate': 0.0008}\n",
      "829/829 [==============================] - 5s 6ms/step - loss: 0.3744 - accuracy: 0.8220 - val_loss: 0.2975 - val_accuracy: 0.8700\n",
      "178/178 [==============================] - 0s 2ms/step - loss: 0.3008 - accuracy: 0.8721\n",
      "--- Starting trial: run-46\n",
      "{'n_layers': 2, 'num_units': 512, 'dropout': 0.1, 'optimizer': 'sgd', 'learning rate': 0.0009}\n",
      "829/829 [==============================] - 5s 6ms/step - loss: 0.3789 - accuracy: 0.8189 - val_loss: 0.2497 - val_accuracy: 0.9100\n",
      "178/178 [==============================] - 0s 2ms/step - loss: 0.2458 - accuracy: 0.9111\n",
      "--- Starting trial: run-47\n",
      "{'n_layers': 2, 'num_units': 512, 'dropout': 0.1, 'optimizer': 'sgd', 'learning rate': 0.001}\n",
      "829/829 [==============================] - 5s 6ms/step - loss: 0.3638 - accuracy: 0.8305 - val_loss: 0.7707 - val_accuracy: 0.7002\n",
      "178/178 [==============================] - 0s 2ms/step - loss: 0.7281 - accuracy: 0.7112\n",
      "--- Starting trial: run-48\n",
      "{'n_layers': 2, 'num_units': 512, 'dropout': 0.2, 'optimizer': 'adam', 'learning rate': 0.0008}\n",
      "829/829 [==============================] - 5s 6ms/step - loss: 0.3761 - accuracy: 0.8233 - val_loss: 0.5532 - val_accuracy: 0.7426\n",
      "178/178 [==============================] - 0s 2ms/step - loss: 0.5696 - accuracy: 0.7328\n",
      "--- Starting trial: run-49\n",
      "{'n_layers': 2, 'num_units': 512, 'dropout': 0.2, 'optimizer': 'adam', 'learning rate': 0.0009}\n",
      "829/829 [==============================] - 5s 6ms/step - loss: 0.3743 - accuracy: 0.8239 - val_loss: 0.2631 - val_accuracy: 0.8913\n",
      "178/178 [==============================] - 0s 2ms/step - loss: 0.2651 - accuracy: 0.8943\n",
      "--- Starting trial: run-50\n",
      "{'n_layers': 2, 'num_units': 512, 'dropout': 0.2, 'optimizer': 'adam', 'learning rate': 0.001}\n",
      "829/829 [==============================] - 5s 6ms/step - loss: 0.3662 - accuracy: 0.8317 - val_loss: 0.3434 - val_accuracy: 0.8503\n",
      "178/178 [==============================] - 0s 2ms/step - loss: 0.3465 - accuracy: 0.8557\n",
      "--- Starting trial: run-51\n",
      "{'n_layers': 2, 'num_units': 512, 'dropout': 0.2, 'optimizer': 'sgd', 'learning rate': 0.0008}\n",
      "829/829 [==============================] - 5s 6ms/step - loss: 0.3548 - accuracy: 0.8366 - val_loss: 0.2196 - val_accuracy: 0.9154\n",
      "178/178 [==============================] - 0s 2ms/step - loss: 0.2171 - accuracy: 0.9173\n",
      "--- Starting trial: run-52\n",
      "{'n_layers': 2, 'num_units': 512, 'dropout': 0.2, 'optimizer': 'sgd', 'learning rate': 0.0009}\n",
      "829/829 [==============================] - 5s 6ms/step - loss: 0.3633 - accuracy: 0.8305 - val_loss: 0.3148 - val_accuracy: 0.8682\n",
      "178/178 [==============================] - 0s 2ms/step - loss: 0.3214 - accuracy: 0.8645\n",
      "--- Starting trial: run-53\n",
      "{'n_layers': 2, 'num_units': 512, 'dropout': 0.2, 'optimizer': 'sgd', 'learning rate': 0.001}\n",
      "829/829 [==============================] - 5s 6ms/step - loss: 0.3646 - accuracy: 0.8317 - val_loss: 0.2866 - val_accuracy: 0.8762\n",
      "178/178 [==============================] - 0s 2ms/step - loss: 0.2929 - accuracy: 0.8813\n",
      "--- Starting trial: run-54\n",
      "{'n_layers': 2, 'num_units': 512, 'dropout': 0.3, 'optimizer': 'adam', 'learning rate': 0.0008}\n",
      "829/829 [==============================] - 5s 6ms/step - loss: 0.3665 - accuracy: 0.8290 - val_loss: 0.2239 - val_accuracy: 0.9121\n",
      "178/178 [==============================] - 0s 2ms/step - loss: 0.2251 - accuracy: 0.9118\n",
      "--- Starting trial: run-55\n",
      "{'n_layers': 2, 'num_units': 512, 'dropout': 0.3, 'optimizer': 'adam', 'learning rate': 0.0009}\n",
      "829/829 [==============================] - 5s 6ms/step - loss: 0.3592 - accuracy: 0.8322 - val_loss: 0.2083 - val_accuracy: 0.9214\n",
      "178/178 [==============================] - 0s 2ms/step - loss: 0.2086 - accuracy: 0.9199\n",
      "--- Starting trial: run-56\n",
      "{'n_layers': 2, 'num_units': 512, 'dropout': 0.3, 'optimizer': 'adam', 'learning rate': 0.001}\n",
      "829/829 [==============================] - 5s 6ms/step - loss: 0.3764 - accuracy: 0.8242 - val_loss: 0.2184 - val_accuracy: 0.9170\n",
      "178/178 [==============================] - 0s 2ms/step - loss: 0.2186 - accuracy: 0.9185\n",
      "--- Starting trial: run-57\n",
      "{'n_layers': 2, 'num_units': 512, 'dropout': 0.3, 'optimizer': 'sgd', 'learning rate': 0.0008}\n",
      "829/829 [==============================] - 5s 6ms/step - loss: 0.3626 - accuracy: 0.8333 - val_loss: 0.2503 - val_accuracy: 0.8978\n",
      "178/178 [==============================] - 0s 2ms/step - loss: 0.2459 - accuracy: 0.9092\n",
      "--- Starting trial: run-58\n",
      "{'n_layers': 2, 'num_units': 512, 'dropout': 0.3, 'optimizer': 'sgd', 'learning rate': 0.0009}\n",
      "829/829 [==============================] - 5s 6ms/step - loss: 0.3822 - accuracy: 0.8205 - val_loss: 0.2242 - val_accuracy: 0.9116\n",
      "178/178 [==============================] - 0s 2ms/step - loss: 0.2287 - accuracy: 0.9120\n",
      "--- Starting trial: run-59\n",
      "{'n_layers': 2, 'num_units': 512, 'dropout': 0.3, 'optimizer': 'sgd', 'learning rate': 0.001}\n",
      "829/829 [==============================] - 5s 6ms/step - loss: 0.3786 - accuracy: 0.8208 - val_loss: 0.3139 - val_accuracy: 0.8769\n",
      "178/178 [==============================] - 0s 2ms/step - loss: 0.3047 - accuracy: 0.8843\n",
      "--- Starting trial: run-60\n",
      "{'n_layers': 2, 'num_units': 512, 'dropout': 0.4, 'optimizer': 'adam', 'learning rate': 0.0008}\n",
      "829/829 [==============================] - 5s 6ms/step - loss: 0.3732 - accuracy: 0.8247 - val_loss: 0.3329 - val_accuracy: 0.8534\n",
      "178/178 [==============================] - 0s 2ms/step - loss: 0.3193 - accuracy: 0.8608\n",
      "--- Starting trial: run-61\n",
      "{'n_layers': 2, 'num_units': 512, 'dropout': 0.4, 'optimizer': 'adam', 'learning rate': 0.0009}\n",
      "829/829 [==============================] - 5s 6ms/step - loss: 0.3883 - accuracy: 0.8181 - val_loss: 0.3491 - val_accuracy: 0.8459\n",
      "178/178 [==============================] - 0s 2ms/step - loss: 0.3529 - accuracy: 0.8476\n",
      "--- Starting trial: run-62\n",
      "{'n_layers': 2, 'num_units': 512, 'dropout': 0.4, 'optimizer': 'adam', 'learning rate': 0.001}\n",
      "829/829 [==============================] - 5s 6ms/step - loss: 0.3888 - accuracy: 0.8194 - val_loss: 0.3516 - val_accuracy: 0.8667\n",
      "178/178 [==============================] - 0s 2ms/step - loss: 0.3495 - accuracy: 0.8719\n",
      "--- Starting trial: run-63\n",
      "{'n_layers': 2, 'num_units': 512, 'dropout': 0.4, 'optimizer': 'sgd', 'learning rate': 0.0008}\n",
      "829/829 [==============================] - 5s 6ms/step - loss: 0.3648 - accuracy: 0.8303 - val_loss: 0.2860 - val_accuracy: 0.8815\n",
      "178/178 [==============================] - 0s 2ms/step - loss: 0.2913 - accuracy: 0.8836\n",
      "--- Starting trial: run-64\n",
      "{'n_layers': 2, 'num_units': 512, 'dropout': 0.4, 'optimizer': 'sgd', 'learning rate': 0.0009}\n",
      "829/829 [==============================] - 5s 6ms/step - loss: 0.3817 - accuracy: 0.8163 - val_loss: 0.2614 - val_accuracy: 0.9029\n",
      "178/178 [==============================] - 0s 2ms/step - loss: 0.2549 - accuracy: 0.9097\n",
      "--- Starting trial: run-65\n",
      "{'n_layers': 2, 'num_units': 512, 'dropout': 0.4, 'optimizer': 'sgd', 'learning rate': 0.001}\n",
      "829/829 [==============================] - 5s 6ms/step - loss: 0.3746 - accuracy: 0.8251 - val_loss: 0.2354 - val_accuracy: 0.9107\n",
      "178/178 [==============================] - 0s 2ms/step - loss: 0.2307 - accuracy: 0.9155\n",
      "--- Starting trial: run-66\n",
      "{'n_layers': 2, 'num_units': 512, 'dropout': 0.5, 'optimizer': 'adam', 'learning rate': 0.0008}\n",
      "829/829 [==============================] - 5s 6ms/step - loss: 0.3735 - accuracy: 0.8260 - val_loss: 0.2338 - val_accuracy: 0.9058\n",
      "178/178 [==============================] - 0s 2ms/step - loss: 0.2289 - accuracy: 0.9136\n",
      "--- Starting trial: run-67\n",
      "{'n_layers': 2, 'num_units': 512, 'dropout': 0.5, 'optimizer': 'adam', 'learning rate': 0.0009}\n",
      "829/829 [==============================] - 5s 6ms/step - loss: 0.3792 - accuracy: 0.8225 - val_loss: 0.2496 - val_accuracy: 0.9082\n",
      "178/178 [==============================] - 0s 2ms/step - loss: 0.2465 - accuracy: 0.9123\n",
      "--- Starting trial: run-68\n",
      "{'n_layers': 2, 'num_units': 512, 'dropout': 0.5, 'optimizer': 'adam', 'learning rate': 0.001}\n",
      "829/829 [==============================] - 5s 6ms/step - loss: 0.3733 - accuracy: 0.8251 - val_loss: 0.2237 - val_accuracy: 0.9109\n",
      "178/178 [==============================] - 0s 2ms/step - loss: 0.2210 - accuracy: 0.9136\n",
      "--- Starting trial: run-69\n",
      "{'n_layers': 2, 'num_units': 512, 'dropout': 0.5, 'optimizer': 'sgd', 'learning rate': 0.0008}\n",
      "829/829 [==============================] - 5s 6ms/step - loss: 0.3772 - accuracy: 0.8239 - val_loss: 0.4594 - val_accuracy: 0.8120\n",
      "178/178 [==============================] - 0s 2ms/step - loss: 0.4340 - accuracy: 0.8199\n",
      "--- Starting trial: run-70\n",
      "{'n_layers': 2, 'num_units': 512, 'dropout': 0.5, 'optimizer': 'sgd', 'learning rate': 0.0009}\n",
      "829/829 [==============================] - 5s 6ms/step - loss: 0.3703 - accuracy: 0.8246 - val_loss: 0.2207 - val_accuracy: 0.9153\n",
      "178/178 [==============================] - 0s 2ms/step - loss: 0.2196 - accuracy: 0.9176\n",
      "--- Starting trial: run-71\n",
      "{'n_layers': 2, 'num_units': 512, 'dropout': 0.5, 'optimizer': 'sgd', 'learning rate': 0.001}\n",
      "829/829 [==============================] - 5s 6ms/step - loss: 0.4159 - accuracy: 0.7975 - val_loss: 0.2482 - val_accuracy: 0.9005\n",
      "178/178 [==============================] - 0s 2ms/step - loss: 0.2466 - accuracy: 0.9039\n",
      "--- Starting trial: run-72\n",
      "{'n_layers': 6, 'num_units': 8, 'dropout': 0.0, 'optimizer': 'adam', 'learning rate': 0.0008}\n",
      "829/829 [==============================] - 1s 2ms/step - loss: 0.4517 - accuracy: 0.7671 - val_loss: 0.2672 - val_accuracy: 0.8954\n",
      "178/178 [==============================] - 0s 814us/step - loss: 0.2649 - accuracy: 0.8980\n",
      "--- Starting trial: run-73\n",
      "{'n_layers': 6, 'num_units': 8, 'dropout': 0.0, 'optimizer': 'adam', 'learning rate': 0.0009}\n",
      "829/829 [==============================] - 1s 2ms/step - loss: 0.6778 - accuracy: 0.5926 - val_loss: 0.6791 - val_accuracy: 0.5848\n",
      "178/178 [==============================] - 0s 694us/step - loss: 0.6716 - accuracy: 0.6035\n",
      "--- Starting trial: run-74\n",
      "{'n_layers': 6, 'num_units': 8, 'dropout': 0.0, 'optimizer': 'adam', 'learning rate': 0.001}\n",
      "829/829 [==============================] - 1s 1ms/step - loss: 0.4473 - accuracy: 0.7714 - val_loss: 0.3159 - val_accuracy: 0.8600\n",
      "178/178 [==============================] - 0s 873us/step - loss: 0.3055 - accuracy: 0.8719\n",
      "--- Starting trial: run-75\n",
      "{'n_layers': 6, 'num_units': 8, 'dropout': 0.0, 'optimizer': 'sgd', 'learning rate': 0.0008}\n",
      "829/829 [==============================] - 1s 1ms/step - loss: 0.6779 - accuracy: 0.5923 - val_loss: 0.6787 - val_accuracy: 0.5848\n",
      "178/178 [==============================] - 0s 966us/step - loss: 0.6723 - accuracy: 0.6035\n",
      "--- Starting trial: run-76\n",
      "{'n_layers': 6, 'num_units': 8, 'dropout': 0.0, 'optimizer': 'sgd', 'learning rate': 0.0009}\n",
      "829/829 [==============================] - 1s 1ms/step - loss: 0.4755 - accuracy: 0.7449 - val_loss: 0.2728 - val_accuracy: 0.8908\n",
      "178/178 [==============================] - 0s 967us/step - loss: 0.2675 - accuracy: 0.8936\n",
      "--- Starting trial: run-77\n",
      "{'n_layers': 6, 'num_units': 8, 'dropout': 0.0, 'optimizer': 'sgd', 'learning rate': 0.001}\n",
      "829/829 [==============================] - 1s 1ms/step - loss: 0.4966 - accuracy: 0.7563 - val_loss: 0.3485 - val_accuracy: 0.8867\n",
      "178/178 [==============================] - 0s 789us/step - loss: 0.3369 - accuracy: 0.8942\n",
      "--- Starting trial: run-78\n",
      "{'n_layers': 6, 'num_units': 8, 'dropout': 0.1, 'optimizer': 'adam', 'learning rate': 0.0008}\n",
      "829/829 [==============================] - 1s 1ms/step - loss: 0.5612 - accuracy: 0.6868 - val_loss: 0.5843 - val_accuracy: 0.7631\n",
      "178/178 [==============================] - 0s 770us/step - loss: 0.5534 - accuracy: 0.7732\n",
      "--- Starting trial: run-79\n",
      "{'n_layers': 6, 'num_units': 8, 'dropout': 0.1, 'optimizer': 'adam', 'learning rate': 0.0009}\n",
      "829/829 [==============================] - 1s 1ms/step - loss: 0.5868 - accuracy: 0.6535 - val_loss: 0.5083 - val_accuracy: 0.8198\n",
      "  1/178 [..............................] - ETA: 0s - loss: 0.4434 - accuracy: 0.7812WARNING:tensorflow:Callbacks method `on_test_batch_end` is slow compared to the batch time (batch time: 0.0007s vs `on_test_batch_end` time: 0.0018s). Check your callbacks.\n",
      "178/178 [==============================] - 0s 793us/step - loss: 0.4816 - accuracy: 0.8262\n",
      "--- Starting trial: run-80\n",
      "{'n_layers': 6, 'num_units': 8, 'dropout': 0.1, 'optimizer': 'adam', 'learning rate': 0.001}\n",
      "829/829 [==============================] - 1s 1ms/step - loss: 0.6773 - accuracy: 0.5922 - val_loss: 0.6790 - val_accuracy: 0.5848\n",
      "178/178 [==============================] - 0s 714us/step - loss: 0.6717 - accuracy: 0.6035\n",
      "--- Starting trial: run-81\n",
      "{'n_layers': 6, 'num_units': 8, 'dropout': 0.1, 'optimizer': 'sgd', 'learning rate': 0.0008}\n",
      "  1/829 [..............................] - ETA: 0s - loss: 0.7080 - accuracy: 0.3438WARNING:tensorflow:Callbacks method `on_train_batch_end` is slow compared to the batch time (batch time: 0.0013s vs `on_train_batch_end` time: 0.0022s). Check your callbacks.\n",
      "829/829 [==============================] - 1s 1ms/step - loss: 0.5629 - accuracy: 0.6948 - val_loss: 0.3390 - val_accuracy: 0.8781\n",
      "178/178 [==============================] - 0s 661us/step - loss: 0.3260 - accuracy: 0.8839\n",
      "--- Starting trial: run-82\n",
      "{'n_layers': 6, 'num_units': 8, 'dropout': 0.1, 'optimizer': 'sgd', 'learning rate': 0.0009}\n",
      "829/829 [==============================] - 1s 1ms/step - loss: 0.5758 - accuracy: 0.6767 - val_loss: 0.3860 - val_accuracy: 0.8763\n",
      "178/178 [==============================] - 0s 664us/step - loss: 0.3743 - accuracy: 0.8827\n",
      "--- Starting trial: run-83\n",
      "{'n_layers': 6, 'num_units': 8, 'dropout': 0.1, 'optimizer': 'sgd', 'learning rate': 0.001}\n",
      "829/829 [==============================] - 1s 1ms/step - loss: 0.6182 - accuracy: 0.6313 - val_loss: 0.5334 - val_accuracy: 0.7224\n",
      "178/178 [==============================] - 0s 753us/step - loss: 0.5283 - accuracy: 0.7160\n",
      "--- Starting trial: run-84\n",
      "{'n_layers': 6, 'num_units': 8, 'dropout': 0.2, 'optimizer': 'adam', 'learning rate': 0.0008}\n",
      "829/829 [==============================] - 1s 2ms/step - loss: 0.6783 - accuracy: 0.5923 - val_loss: 0.6787 - val_accuracy: 0.5848\n",
      "178/178 [==============================] - 0s 652us/step - loss: 0.6720 - accuracy: 0.6035\n",
      "--- Starting trial: run-85\n",
      "{'n_layers': 6, 'num_units': 8, 'dropout': 0.2, 'optimizer': 'adam', 'learning rate': 0.0009}\n",
      "829/829 [==============================] - 1s 2ms/step - loss: 0.6049 - accuracy: 0.6236 - val_loss: 0.4141 - val_accuracy: 0.8756\n",
      "178/178 [==============================] - 0s 555us/step - loss: 0.3995 - accuracy: 0.8783\n",
      "--- Starting trial: run-86\n",
      "{'n_layers': 6, 'num_units': 8, 'dropout': 0.2, 'optimizer': 'adam', 'learning rate': 0.001}\n",
      "829/829 [==============================] - 1s 1ms/step - loss: 0.6545 - accuracy: 0.6003 - val_loss: 0.6788 - val_accuracy: 0.5848\n",
      "178/178 [==============================] - 0s 863us/step - loss: 0.6729 - accuracy: 0.6035\n",
      "--- Starting trial: run-87\n",
      "{'n_layers': 6, 'num_units': 8, 'dropout': 0.2, 'optimizer': 'sgd', 'learning rate': 0.0008}\n",
      "829/829 [==============================] - 1s 1ms/step - loss: 0.6793 - accuracy: 0.5915 - val_loss: 0.6787 - val_accuracy: 0.5848\n",
      "178/178 [==============================] - 0s 809us/step - loss: 0.6724 - accuracy: 0.6035\n",
      "--- Starting trial: run-88\n",
      "{'n_layers': 6, 'num_units': 8, 'dropout': 0.2, 'optimizer': 'sgd', 'learning rate': 0.0009}\n",
      "829/829 [==============================] - 1s 1ms/step - loss: 0.6764 - accuracy: 0.5905 - val_loss: 0.6787 - val_accuracy: 0.5848\n",
      "178/178 [==============================] - 0s 1ms/step - loss: 0.6723 - accuracy: 0.6035\n",
      "--- Starting trial: run-89\n",
      "{'n_layers': 6, 'num_units': 8, 'dropout': 0.2, 'optimizer': 'sgd', 'learning rate': 0.001}\n",
      "829/829 [==============================] - 1s 2ms/step - loss: 0.6779 - accuracy: 0.5929 - val_loss: 0.6787 - val_accuracy: 0.5848\n",
      "178/178 [==============================] - 0s 932us/step - loss: 0.6723 - accuracy: 0.6035\n",
      "--- Starting trial: run-90\n",
      "{'n_layers': 6, 'num_units': 8, 'dropout': 0.3, 'optimizer': 'adam', 'learning rate': 0.0008}\n",
      "829/829 [==============================] - 1s 1ms/step - loss: 0.6490 - accuracy: 0.5931 - val_loss: 0.6788 - val_accuracy: 0.5848\n",
      "178/178 [==============================] - 0s 894us/step - loss: 0.6778 - accuracy: 0.6035\n",
      "--- Starting trial: run-91\n",
      "{'n_layers': 6, 'num_units': 8, 'dropout': 0.3, 'optimizer': 'adam', 'learning rate': 0.0009}\n",
      "829/829 [==============================] - 1s 2ms/step - loss: 0.6796 - accuracy: 0.5914 - val_loss: 0.6787 - val_accuracy: 0.5848 - loss: 0.681\n",
      "178/178 [==============================] - 0s 696us/step - loss: 0.6722 - accuracy: 0.6035\n",
      "--- Starting trial: run-92\n",
      "{'n_layers': 6, 'num_units': 8, 'dropout': 0.3, 'optimizer': 'adam', 'learning rate': 0.001}\n",
      "829/829 [==============================] - 1s 1ms/step - loss: 0.6790 - accuracy: 0.5927 - val_loss: 0.6787 - val_accuracy: 0.5848\n",
      "178/178 [==============================] - 0s 742us/step - loss: 0.6722 - accuracy: 0.6035\n",
      "--- Starting trial: run-93\n",
      "{'n_layers': 6, 'num_units': 8, 'dropout': 0.3, 'optimizer': 'sgd', 'learning rate': 0.0008}\n",
      "  1/829 [..............................] - ETA: 0s - loss: 0.6898 - accuracy: 0.5312WARNING:tensorflow:Callbacks method `on_train_batch_end` is slow compared to the batch time (batch time: 0.0013s vs `on_train_batch_end` time: 0.0054s). Check your callbacks.\n",
      "829/829 [==============================] - 1s 2ms/step - loss: 0.6044 - accuracy: 0.6389 - val_loss: 0.4270 - val_accuracy: 0.8483\n",
      "178/178 [==============================] - 0s 948us/step - loss: 0.4164 - accuracy: 0.8465\n",
      "--- Starting trial: run-94\n",
      "{'n_layers': 6, 'num_units': 8, 'dropout': 0.3, 'optimizer': 'sgd', 'learning rate': 0.0009}\n",
      "829/829 [==============================] - 1s 1ms/step - loss: 0.6788 - accuracy: 0.5918 - val_loss: 0.6787 - val_accuracy: 0.5848\n",
      "178/178 [==============================] - 0s 763us/step - loss: 0.6720 - accuracy: 0.6035\n",
      "--- Starting trial: run-95\n",
      "{'n_layers': 6, 'num_units': 8, 'dropout': 0.3, 'optimizer': 'sgd', 'learning rate': 0.001}\n",
      "829/829 [==============================] - 1s 1ms/step - loss: 0.6779 - accuracy: 0.5922 - val_loss: 0.6787 - val_accuracy: 0.5848\n",
      "178/178 [==============================] - 0s 799us/step - loss: 0.6722 - accuracy: 0.6035\n",
      "--- Starting trial: run-96\n",
      "{'n_layers': 6, 'num_units': 8, 'dropout': 0.4, 'optimizer': 'adam', 'learning rate': 0.0008}\n",
      "829/829 [==============================] - 1s 2ms/step - loss: 0.6818 - accuracy: 0.5921 - val_loss: 0.6788 - val_accuracy: 0.5848\n",
      "178/178 [==============================] - 0s 633us/step - loss: 0.6729 - accuracy: 0.6035\n",
      "--- Starting trial: run-97\n",
      "{'n_layers': 6, 'num_units': 8, 'dropout': 0.4, 'optimizer': 'adam', 'learning rate': 0.0009}\n",
      "829/829 [==============================] - 1s 2ms/step - loss: 0.6789 - accuracy: 0.5917 - val_loss: 0.6787 - val_accuracy: 0.5848\n",
      "178/178 [==============================] - 0s 786us/step - loss: 0.6722 - accuracy: 0.6035\n",
      "--- Starting trial: run-98\n",
      "{'n_layers': 6, 'num_units': 8, 'dropout': 0.4, 'optimizer': 'adam', 'learning rate': 0.001}\n",
      "829/829 [==============================] - 1s 1ms/step - loss: 0.6785 - accuracy: 0.5929 - val_loss: 0.6788 - val_accuracy: 0.5848\n",
      "178/178 [==============================] - 0s 903us/step - loss: 0.6719 - accuracy: 0.6035\n",
      "--- Starting trial: run-99\n",
      "{'n_layers': 6, 'num_units': 8, 'dropout': 0.4, 'optimizer': 'sgd', 'learning rate': 0.0008}\n",
      "829/829 [==============================] - 1s 2ms/step - loss: 0.6799 - accuracy: 0.5923 - val_loss: 0.6787 - val_accuracy: 0.5848\n",
      "178/178 [==============================] - 0s 637us/step - loss: 0.6724 - accuracy: 0.6035\n",
      "--- Starting trial: run-100\n",
      "{'n_layers': 6, 'num_units': 8, 'dropout': 0.4, 'optimizer': 'sgd', 'learning rate': 0.0009}\n",
      "829/829 [==============================] - 1s 1ms/step - loss: 0.6790 - accuracy: 0.5932 - val_loss: 0.6787 - val_accuracy: 0.5848\n",
      "178/178 [==============================] - 0s 714us/step - loss: 0.6727 - accuracy: 0.6035\n",
      "--- Starting trial: run-101\n",
      "{'n_layers': 6, 'num_units': 8, 'dropout': 0.4, 'optimizer': 'sgd', 'learning rate': 0.001}\n",
      "829/829 [==============================] - 1s 1ms/step - loss: 0.6783 - accuracy: 0.5931 - val_loss: 0.6789 - val_accuracy: 0.5848\n",
      "178/178 [==============================] - 0s 981us/step - loss: 0.6718 - accuracy: 0.6035\n",
      "--- Starting trial: run-102\n",
      "{'n_layers': 6, 'num_units': 8, 'dropout': 0.5, 'optimizer': 'adam', 'learning rate': 0.0008}\n",
      "829/829 [==============================] - 2s 2ms/step - loss: 0.6807 - accuracy: 0.5930 - val_loss: 0.6787 - val_accuracy: 0.5848\n",
      "178/178 [==============================] - 0s 707us/step - loss: 0.6725 - accuracy: 0.6035\n",
      "--- Starting trial: run-103\n",
      "{'n_layers': 6, 'num_units': 8, 'dropout': 0.5, 'optimizer': 'adam', 'learning rate': 0.0009}\n",
      "829/829 [==============================] - 1s 2ms/step - loss: 0.6813 - accuracy: 0.5918 - val_loss: 0.6788 - val_accuracy: 0.5848\n",
      "178/178 [==============================] - 0s 817us/step - loss: 0.6731 - accuracy: 0.6035\n",
      "--- Starting trial: run-104\n",
      "{'n_layers': 6, 'num_units': 8, 'dropout': 0.5, 'optimizer': 'adam', 'learning rate': 0.001}\n",
      "829/829 [==============================] - 1s 1ms/step - loss: 0.6781 - accuracy: 0.5926 - val_loss: 0.6787 - val_accuracy: 0.5848\n",
      "178/178 [==============================] - 0s 938us/step - loss: 0.6720 - accuracy: 0.6035\n",
      "--- Starting trial: run-105\n",
      "{'n_layers': 6, 'num_units': 8, 'dropout': 0.5, 'optimizer': 'sgd', 'learning rate': 0.0008}\n",
      "829/829 [==============================] - 1s 2ms/step - loss: 0.6793 - accuracy: 0.5927 - val_loss: 0.6787 - val_accuracy: 0.5848\n",
      "178/178 [==============================] - 0s 901us/step - loss: 0.6723 - accuracy: 0.6035\n",
      "--- Starting trial: run-106\n",
      "{'n_layers': 6, 'num_units': 8, 'dropout': 0.5, 'optimizer': 'sgd', 'learning rate': 0.0009}\n",
      "829/829 [==============================] - 1s 2ms/step - loss: 0.6797 - accuracy: 0.5926 - val_loss: 0.6787 - val_accuracy: 0.5848\n",
      "178/178 [==============================] - 0s 645us/step - loss: 0.6721 - accuracy: 0.6035\n",
      "--- Starting trial: run-107\n",
      "{'n_layers': 6, 'num_units': 8, 'dropout': 0.5, 'optimizer': 'sgd', 'learning rate': 0.001}\n",
      "829/829 [==============================] - 1s 2ms/step - loss: 0.6792 - accuracy: 0.5927 - val_loss: 0.6787 - val_accuracy: 0.5848\n",
      "178/178 [==============================] - 0s 724us/step - loss: 0.6720 - accuracy: 0.6035\n",
      "--- Starting trial: run-108\n",
      "{'n_layers': 6, 'num_units': 512, 'dropout': 0.0, 'optimizer': 'adam', 'learning rate': 0.0008}\n",
      "829/829 [==============================] - 10s 12ms/step - loss: 0.5901 - accuracy: 0.6577 - val_loss: 0.2876 - val_accuracy: 0.8841\n",
      "178/178 [==============================] - 0s 3ms/step - loss: 0.2868 - accuracy: 0.8887\n",
      "--- Starting trial: run-109\n",
      "{'n_layers': 6, 'num_units': 512, 'dropout': 0.0, 'optimizer': 'adam', 'learning rate': 0.0009}\n",
      "829/829 [==============================] - 10s 12ms/step - loss: 0.6484 - accuracy: 0.6103 - val_loss: 0.9427 - val_accuracy: 0.6470\n",
      "178/178 [==============================] - 1s 3ms/step - loss: 0.8893 - accuracy: 0.6652\n",
      "--- Starting trial: run-110\n",
      "{'n_layers': 6, 'num_units': 512, 'dropout': 0.0, 'optimizer': 'adam', 'learning rate': 0.001}\n",
      "829/829 [==============================] - 10s 13ms/step - loss: 0.5376 - accuracy: 0.7067 - val_loss: 0.3321 - val_accuracy: 0.8485\n",
      "178/178 [==============================] - 1s 3ms/step - loss: 0.3345 - accuracy: 0.8488: 0s - loss: 0.3369 - accuracy: 0.\n",
      "--- Starting trial: run-111\n",
      "{'n_layers': 6, 'num_units': 512, 'dropout': 0.0, 'optimizer': 'sgd', 'learning rate': 0.0008}\n",
      "829/829 [==============================] - 10s 13ms/step - loss: 0.3916 - accuracy: 0.8146 - val_loss: 0.7330 - val_accuracy: 0.6850\n",
      "178/178 [==============================] - 1s 3ms/step - loss: 0.7029 - accuracy: 0.6984\n",
      "--- Starting trial: run-112\n",
      "{'n_layers': 6, 'num_units': 512, 'dropout': 0.0, 'optimizer': 'sgd', 'learning rate': 0.0009}\n",
      "829/829 [==============================] - 11s 13ms/step - loss: 0.5769 - accuracy: 0.6677 - val_loss: 0.3161 - val_accuracy: 0.8660\n",
      "178/178 [==============================] - 1s 3ms/step - loss: 0.3160 - accuracy: 0.8665: 0s - loss: 0.3150 - ac\n",
      "--- Starting trial: run-113\n",
      "{'n_layers': 6, 'num_units': 512, 'dropout': 0.0, 'optimizer': 'sgd', 'learning rate': 0.001}\n",
      "829/829 [==============================] - 10s 13ms/step - loss: 0.6448 - accuracy: 0.6124 - val_loss: 0.5378 - val_accuracy: 0.6687\n",
      "178/178 [==============================] - 0s 3ms/step - loss: 0.5350 - accuracy: 0.6608\n",
      "--- Starting trial: run-114\n",
      "{'n_layers': 6, 'num_units': 512, 'dropout': 0.1, 'optimizer': 'adam', 'learning rate': 0.0008}\n",
      "829/829 [==============================] - 11s 13ms/step - loss: 0.5162 - accuracy: 0.7220 - val_loss: 0.3126 - val_accuracy: 0.8633\n",
      "178/178 [==============================] - 0s 3ms/step - loss: 0.3110 - accuracy: 0.8656\n",
      "--- Starting trial: run-115\n",
      "{'n_layers': 6, 'num_units': 512, 'dropout': 0.1, 'optimizer': 'adam', 'learning rate': 0.0009}\n",
      "829/829 [==============================] - 11s 13ms/step - loss: 0.6316 - accuracy: 0.6364 - val_loss: 0.3806 - val_accuracy: 0.8402\n",
      "178/178 [==============================] - 1s 3ms/step - loss: 0.3634 - accuracy: 0.8492: 0s - loss: 0.3588 - accuracy: \n",
      "--- Starting trial: run-116\n",
      "{'n_layers': 6, 'num_units': 512, 'dropout': 0.1, 'optimizer': 'adam', 'learning rate': 0.001}\n",
      "829/829 [==============================] - 11s 13ms/step - loss: 0.6723 - accuracy: 0.5957 - val_loss: 0.6786 - val_accuracy: 0.5848\n",
      "178/178 [==============================] - 1s 3ms/step - loss: 0.6731 - accuracy: 0.6035\n",
      "--- Starting trial: run-117\n",
      "{'n_layers': 6, 'num_units': 512, 'dropout': 0.1, 'optimizer': 'sgd', 'learning rate': 0.0008}\n",
      "829/829 [==============================] - 11s 13ms/step - loss: 0.5759 - accuracy: 0.6731 - val_loss: 0.2846 - val_accuracy: 0.8857\n",
      "178/178 [==============================] - 0s 3ms/step - loss: 0.2816 - accuracy: 0.8890\n",
      "--- Starting trial: run-118\n",
      "{'n_layers': 6, 'num_units': 512, 'dropout': 0.1, 'optimizer': 'sgd', 'learning rate': 0.0009}\n",
      "829/829 [==============================] - 11s 13ms/step - loss: 0.6452 - accuracy: 0.6280 - val_loss: 0.4669 - val_accuracy: 0.6678\n",
      "178/178 [==============================] - 1s 3ms/step - loss: 0.4512 - accuracy: 0.6781: 0s - loss: 0.4473 - accuracy\n",
      "--- Starting trial: run-119\n",
      "{'n_layers': 6, 'num_units': 512, 'dropout': 0.1, 'optimizer': 'sgd', 'learning rate': 0.001}\n",
      "829/829 [==============================] - 11s 13ms/step - loss: 0.6687 - accuracy: 0.5939 - val_loss: 0.6827 - val_accuracy: 0.5848\n",
      "178/178 [==============================] - 1s 3ms/step - loss: 0.6783 - accuracy: 0.6035\n",
      "--- Starting trial: run-120\n",
      "{'n_layers': 6, 'num_units': 512, 'dropout': 0.2, 'optimizer': 'adam', 'learning rate': 0.0008}\n",
      "829/829 [==============================] - 11s 13ms/step - loss: 0.6200 - accuracy: 0.6403 - val_loss: 0.3339 - val_accuracy: 0.8468\n",
      "178/178 [==============================] - 1s 3ms/step - loss: 0.3241 - accuracy: 0.8585\n",
      "--- Starting trial: run-121\n",
      "{'n_layers': 6, 'num_units': 512, 'dropout': 0.2, 'optimizer': 'adam', 'learning rate': 0.0009}\n",
      "829/829 [==============================] - 11s 13ms/step - loss: 0.5371 - accuracy: 0.7075 - val_loss: 0.4809 - val_accuracy: 0.7953\n",
      "178/178 [==============================] - 1s 4ms/step - loss: 0.4936 - accuracy: 0.7889\n",
      "--- Starting trial: run-122\n",
      "{'n_layers': 6, 'num_units': 512, 'dropout': 0.2, 'optimizer': 'adam', 'learning rate': 0.001}\n",
      "829/829 [==============================] - 10s 13ms/step - loss: 0.4858 - accuracy: 0.7418 - val_loss: 0.2627 - val_accuracy: 0.9084\n",
      "178/178 [==============================] - 1s 3ms/step - loss: 0.2700 - accuracy: 0.9084\n",
      "--- Starting trial: run-123\n",
      "{'n_layers': 6, 'num_units': 512, 'dropout': 0.2, 'optimizer': 'sgd', 'learning rate': 0.0008}\n",
      "829/829 [==============================] - 11s 13ms/step - loss: 0.4127 - accuracy: 0.8059 - val_loss: 0.4097 - val_accuracy: 0.7981\n",
      "178/178 [==============================] - 0s 3ms/step - loss: 0.4114 - accuracy: 0.7996\n",
      "--- Starting trial: run-124\n",
      "{'n_layers': 6, 'num_units': 512, 'dropout': 0.2, 'optimizer': 'sgd', 'learning rate': 0.0009}\n",
      "829/829 [==============================] - 11s 13ms/step - loss: 0.6667 - accuracy: 0.5946 - val_loss: 0.5777 - val_accuracy: 0.6937\n",
      "178/178 [==============================] - 1s 3ms/step - loss: 0.5672 - accuracy: 0.7105\n",
      "--- Starting trial: run-125\n",
      "{'n_layers': 6, 'num_units': 512, 'dropout': 0.2, 'optimizer': 'sgd', 'learning rate': 0.001}\n",
      "829/829 [==============================] - 11s 13ms/step - loss: 0.6547 - accuracy: 0.6075 - val_loss: 0.4299 - val_accuracy: 0.8024\n",
      "178/178 [==============================] - 0s 3ms/step - loss: 0.4115 - accuracy: 0.8143\n",
      "--- Starting trial: run-126\n",
      "{'n_layers': 6, 'num_units': 512, 'dropout': 0.3, 'optimizer': 'adam', 'learning rate': 0.0008}\n",
      "829/829 [==============================] - 11s 13ms/step - loss: 0.4272 - accuracy: 0.7914 - val_loss: 0.3746 - val_accuracy: 0.8450\n",
      "178/178 [==============================] - 1s 3ms/step - loss: 0.3717 - accuracy: 0.8469: 0s - loss: 0.3737 - accuracy: 0.84\n",
      "--- Starting trial: run-127\n",
      "{'n_layers': 6, 'num_units': 512, 'dropout': 0.3, 'optimizer': 'adam', 'learning rate': 0.0009}\n",
      "829/829 [==============================] - 11s 13ms/step - loss: 0.4914 - accuracy: 0.7354 - val_loss: 0.3156 - val_accuracy: 0.8941\n",
      "178/178 [==============================] - 0s 3ms/step - loss: 0.3125 - accuracy: 0.9005\n",
      "--- Starting trial: run-128\n",
      "{'n_layers': 6, 'num_units': 512, 'dropout': 0.3, 'optimizer': 'adam', 'learning rate': 0.001}\n",
      "829/829 [==============================] - 11s 13ms/step - loss: 0.6748 - accuracy: 0.5920 - val_loss: 0.6814 - val_accuracy: 0.5848\n",
      "178/178 [==============================] - 1s 3ms/step - loss: 0.6722 - accuracy: 0.6035\n",
      "--- Starting trial: run-129\n",
      "{'n_layers': 6, 'num_units': 512, 'dropout': 0.3, 'optimizer': 'sgd', 'learning rate': 0.0008}\n",
      "829/829 [==============================] - 11s 13ms/step - loss: 0.4098 - accuracy: 0.8029 - val_loss: 0.2219 - val_accuracy: 0.9156\n",
      "178/178 [==============================] - 1s 3ms/step - loss: 0.2237 - accuracy: 0.9176\n",
      "--- Starting trial: run-130\n",
      "{'n_layers': 6, 'num_units': 512, 'dropout': 0.3, 'optimizer': 'sgd', 'learning rate': 0.0009}\n",
      "829/829 [==============================] - 11s 13ms/step - loss: 0.4928 - accuracy: 0.7338 - val_loss: 0.3700 - val_accuracy: 0.8394\n",
      "178/178 [==============================] - 0s 3ms/step - loss: 0.3650 - accuracy: 0.8409\n",
      "--- Starting trial: run-131\n",
      "{'n_layers': 6, 'num_units': 512, 'dropout': 0.3, 'optimizer': 'sgd', 'learning rate': 0.001}\n",
      "829/829 [==============================] - 11s 13ms/step - loss: 0.5091 - accuracy: 0.7241 - val_loss: 0.2724 - val_accuracy: 0.8911\n",
      "178/178 [==============================] - 0s 3ms/step - loss: 0.2733 - accuracy: 0.8940\n",
      "--- Starting trial: run-132\n",
      "{'n_layers': 6, 'num_units': 512, 'dropout': 0.4, 'optimizer': 'adam', 'learning rate': 0.0008}\n",
      "829/829 [==============================] - 11s 14ms/step - loss: 0.4481 - accuracy: 0.7781 - val_loss: 0.2909 - val_accuracy: 0.8832\n",
      "178/178 [==============================] - 1s 3ms/step - loss: 0.2842 - accuracy: 0.8887\n",
      "--- Starting trial: run-133\n",
      "{'n_layers': 6, 'num_units': 512, 'dropout': 0.4, 'optimizer': 'adam', 'learning rate': 0.0009}\n",
      "829/829 [==============================] - 11s 13ms/step - loss: 0.6744 - accuracy: 0.5877 - val_loss: 0.6788 - val_accuracy: 0.5848\n",
      "178/178 [==============================] - 1s 4ms/step - loss: 0.6718 - accuracy: 0.6035\n",
      "--- Starting trial: run-134\n",
      "{'n_layers': 6, 'num_units': 512, 'dropout': 0.4, 'optimizer': 'adam', 'learning rate': 0.001}\n",
      "829/829 [==============================] - 11s 14ms/step - loss: 0.4577 - accuracy: 0.7681 - val_loss: 0.2952 - val_accuracy: 0.8829\n",
      "178/178 [==============================] - 1s 3ms/step - loss: 0.2936 - accuracy: 0.8845\n",
      "--- Starting trial: run-135\n",
      "{'n_layers': 6, 'num_units': 512, 'dropout': 0.4, 'optimizer': 'sgd', 'learning rate': 0.0008}\n",
      "829/829 [==============================] - 11s 13ms/step - loss: 0.4300 - accuracy: 0.7883 - val_loss: 0.3082 - val_accuracy: 0.8832\n",
      "178/178 [==============================] - 1s 3ms/step - loss: 0.3096 - accuracy: 0.8822\n",
      "--- Starting trial: run-136\n",
      "{'n_layers': 6, 'num_units': 512, 'dropout': 0.4, 'optimizer': 'sgd', 'learning rate': 0.0009}\n",
      "829/829 [==============================] - 11s 13ms/step - loss: 0.4594 - accuracy: 0.7652 - val_loss: 0.4278 - val_accuracy: 0.8288\n",
      "178/178 [==============================] - 1s 3ms/step - loss: 0.4260 - accuracy: 0.8278\n",
      "--- Starting trial: run-137\n",
      "{'n_layers': 6, 'num_units': 512, 'dropout': 0.4, 'optimizer': 'sgd', 'learning rate': 0.001}\n",
      "829/829 [==============================] - 11s 13ms/step - loss: 0.6654 - accuracy: 0.5975 - val_loss: 0.6853 - val_accuracy: 0.5848\n",
      "178/178 [==============================] - 1s 3ms/step - loss: 0.6745 - accuracy: 0.6035\n",
      "--- Starting trial: run-138\n",
      "{'n_layers': 6, 'num_units': 512, 'dropout': 0.5, 'optimizer': 'adam', 'learning rate': 0.0008}\n",
      "829/829 [==============================] - 11s 13ms/step - loss: 0.6674 - accuracy: 0.5895 - val_loss: 0.6787 - val_accuracy: 0.5848\n",
      "178/178 [==============================] - 1s 3ms/step - loss: 0.6722 - accuracy: 0.6035\n",
      "--- Starting trial: run-139\n",
      "{'n_layers': 6, 'num_units': 512, 'dropout': 0.5, 'optimizer': 'adam', 'learning rate': 0.0009}\n",
      "829/829 [==============================] - 11s 13ms/step - loss: 0.6804 - accuracy: 0.5887 - val_loss: 0.6787 - val_accuracy: 0.5848\n",
      "178/178 [==============================] - 1s 3ms/step - loss: 0.6720 - accuracy: 0.6035\n",
      "--- Starting trial: run-140\n",
      "{'n_layers': 6, 'num_units': 512, 'dropout': 0.5, 'optimizer': 'adam', 'learning rate': 0.001}\n",
      "829/829 [==============================] - 11s 13ms/step - loss: 0.6742 - accuracy: 0.5889 - val_loss: 0.6789 - val_accuracy: 0.5848\n",
      "178/178 [==============================] - 0s 3ms/step - loss: 0.6732 - accuracy: 0.6035\n",
      "--- Starting trial: run-141\n",
      "{'n_layers': 6, 'num_units': 512, 'dropout': 0.5, 'optimizer': 'sgd', 'learning rate': 0.0008}\n",
      "829/829 [==============================] - 11s 13ms/step - loss: 0.4963 - accuracy: 0.7392 - val_loss: 0.2888 - val_accuracy: 0.8897\n",
      "178/178 [==============================] - 1s 3ms/step - loss: 0.2834 - accuracy: 0.8926\n",
      "--- Starting trial: run-142\n",
      "{'n_layers': 6, 'num_units': 512, 'dropout': 0.5, 'optimizer': 'sgd', 'learning rate': 0.0009}\n",
      "829/829 [==============================] - 11s 13ms/step - loss: 0.6668 - accuracy: 0.5924 - val_loss: 0.6802 - val_accuracy: 0.5848\n",
      "178/178 [==============================] - 1s 3ms/step - loss: 0.6717 - accuracy: 0.6035\n",
      "--- Starting trial: run-143\n",
      "{'n_layers': 6, 'num_units': 512, 'dropout': 0.5, 'optimizer': 'sgd', 'learning rate': 0.001}\n",
      "829/829 [==============================] - 13s 15ms/step - loss: 0.6822 - accuracy: 0.5908 - val_loss: 0.6793 - val_accuracy: 0.5848\n",
      "178/178 [==============================] - 0s 3ms/step - loss: 0.6716 - accuracy: 0.6035\n"
     ]
    }
   ],
   "source": [
    "session_num = 0\n",
    "for num_layers in tf.cast(tf.linspace(HP_NUM_LAYERS.domain.min_value, HP_NUM_LAYERS.domain.max_value, 2), tf.int64):\n",
    "    for num_units in tf.cast(tf.linspace(HP_NUM_UNITS.domain.min_value, HP_NUM_UNITS.domain.max_value, 2), tf.int64):\n",
    "        for dropout_rate in tf.linspace(HP_DROPOUT.domain.min_value, HP_DROPOUT.domain.max_value, 6):\n",
    "            for optimizer in HP_OPTIMIZER.domain.values:\n",
    "                for lr in tf.linspace(HP_LR.domain.min_value, HP_LR.domain.max_value, 3):\n",
    "                    hparams = {\n",
    "                        HP_NUM_LAYERS: num_layers.numpy(),\n",
    "                        HP_NUM_UNITS: num_units.numpy(),\n",
    "                        HP_DROPOUT: dropout_rate.numpy(),\n",
    "                        HP_OPTIMIZER: optimizer,\n",
    "                        HP_LR: lr.numpy()\n",
    "                    }\n",
    "                    run_name = \"run-%d\" % session_num\n",
    "                    print('--- Starting trial: %s' % run_name)\n",
    "                    print({h.name: hparams[h] for h in hparams})\n",
    "                    run('tf_tuner_logs/hparam_tuning/' + run_name, hparams)\n",
    "                    session_num += 1\n",
    "\n"
   ]
  },
  {
   "cell_type": "code",
   "execution_count": 24,
   "metadata": {},
   "outputs": [
    {
     "data": {
      "text/html": [
       "\n",
       "      <iframe id=\"tensorboard-frame-c058ea5aaca25c36\" width=\"100%\" height=\"800\" frameborder=\"0\">\n",
       "      </iframe>\n",
       "      <script>\n",
       "        (function() {\n",
       "          const frame = document.getElementById(\"tensorboard-frame-c058ea5aaca25c36\");\n",
       "          const url = new URL(\"/\", window.location);\n",
       "          const port = 6009;\n",
       "          if (port) {\n",
       "            url.port = port;\n",
       "          }\n",
       "          frame.src = url;\n",
       "        })();\n",
       "      </script>\n",
       "    "
      ],
      "text/plain": [
       "<IPython.core.display.HTML object>"
      ]
     },
     "metadata": {},
     "output_type": "display_data"
    }
   ],
   "source": [
    "%tensorboard --logdir tf_tuner_logs/hparam_tuning"
   ]
  },
  {
   "cell_type": "markdown",
   "metadata": {},
   "source": [
    "##### "
   ]
  },
  {
   "cell_type": "code",
   "execution_count": null,
   "metadata": {},
   "outputs": [],
   "source": []
  },
  {
   "cell_type": "code",
   "execution_count": null,
   "metadata": {},
   "outputs": [],
   "source": []
  },
  {
   "cell_type": "code",
   "execution_count": null,
   "metadata": {},
   "outputs": [],
   "source": []
  },
  {
   "cell_type": "markdown",
   "metadata": {},
   "source": [
    "# Real-world Test (r/shortscarystories and r/self)"
   ]
  },
  {
   "cell_type": "code",
   "execution_count": 1,
   "metadata": {},
   "outputs": [],
   "source": [
    "import numpy as np\n",
    "from tensorflow import keras\n",
    "# model = keras.models.load_model('./models/self-tuned-model')\n",
    "model = keras.models.load_model('./models/keras-tuner-tuned-model')\n",
    "\n",
    "import spacy\n",
    "\n",
    "# spacy.prefer_gpu()\n",
    "# Must return True for GPU to work\n",
    "\n",
    "nlp = spacy.load('en_core_web_lg')"
   ]
  },
  {
   "cell_type": "code",
   "execution_count": 2,
   "metadata": {},
   "outputs": [],
   "source": [
    "from sentence_transformers import SentenceTransformer\n",
    "sbert_model = SentenceTransformer('distilbert-base-nli-stsb-mean-tokens')\n",
    "\n",
    "text_creepy = \"\"\"\n",
    "Jeff the killers brother. Mc Nugget the killer. He ate so many chicken nuggets that he now craves chicken nuggets made of human flesh. So he kills and takes peoples flesh and makes them into chicken nuggies.\n",
    "\"\"\"\n",
    "\n",
    "text_non_creepy = \"\"\"\n",
    "Everything is incredibly hard for the moment.\n",
    "I got fired from my dream job because of reforms in the team. I'm currently suffering from a back injury which messes with my physical and mental health a lot. And now my long term partner wants so breakup with me. All this in a span of less than a month...\n",
    "I've been trying my best to keep my head up but when the nights grow longer, it's very difficult to stay positive and productive...\n",
    "I feel lost and don't know what to do now...\n",
    "\"\"\"\n",
    "\n",
    "# need nlp and model\n",
    "def sum_vec(text):\n",
    "    doc = nlp(text)\n",
    "    sentences = [sent.text for sent in doc.sents]\n",
    "    comment_vec = sbert_model.encode(sentences)\n",
    "    return np.sum(comment_vec, axis = 0)"
   ]
  },
  {
   "cell_type": "code",
   "execution_count": 3,
   "metadata": {},
   "outputs": [
    {
     "data": {
      "text/plain": [
       "array([[6.28291309e-05],\n",
       "       [1.35453385e-11]], dtype=float32)"
      ]
     },
     "execution_count": 3,
     "metadata": {},
     "output_type": "execute_result"
    }
   ],
   "source": [
    "from sklearn.preprocessing import MinMaxScaler\n",
    "creepy_vec = np.concatenate(([np.log(673+1+0.01)],sum_vec(text_creepy)))\n",
    "non_creepy_vec = np.concatenate(([np.log(325+1+0.01)],sum_vec(text_non_creepy)))\n",
    "vecs = np.array([creepy_vec, non_creepy_vec])\n",
    "vecs\n",
    "\n",
    "scaler = MinMaxScaler(feature_range=(0, 1))\n",
    "scaled_vecs = scaler.fit_transform(vecs)\n",
    "\n",
    "model.predict(scaled_vecs)"
   ]
  },
  {
   "cell_type": "code",
   "execution_count": 40,
   "metadata": {},
   "outputs": [
    {
     "data": {
      "text/plain": [
       "<tensorflow.python.keras.engine.sequential.Sequential at 0x7fdb6d94fe20>"
      ]
     },
     "execution_count": 40,
     "metadata": {},
     "output_type": "execute_result"
    }
   ],
   "source": [
    "model"
   ]
  },
  {
   "cell_type": "markdown",
   "metadata": {},
   "source": [
    "Failed"
   ]
  },
  {
   "cell_type": "code",
   "execution_count": 2,
   "metadata": {},
   "outputs": [],
   "source": [
    "import spacy"
   ]
  },
  {
   "cell_type": "code",
   "execution_count": 4,
   "metadata": {},
   "outputs": [
    {
     "name": "stdout",
     "output_type": "stream",
     "text": [
      "3\n"
     ]
    }
   ],
   "source": [
    "nlp = spacy.load(\"en_core_web_sm\")\n",
    "doc = nlp(text_non_creepy)\n",
    "for idx, sents in enumerate(doc.sents):\n",
    "    pass\n",
    "print(idx)"
   ]
  },
  {
   "cell_type": "code",
   "execution_count": 15,
   "metadata": {},
   "outputs": [],
   "source": [
    "from tensorflow import keras\n",
    "model = keras.models.load_model('./models/keras-tuner-tuned-model/')"
   ]
  },
  {
   "cell_type": "code",
   "execution_count": 16,
   "metadata": {},
   "outputs": [
    {
     "name": "stdout",
     "output_type": "stream",
     "text": [
      "Model: \"sequential\"\n",
      "_________________________________________________________________\n",
      "Layer (type)                 Output Shape              Param #   \n",
      "=================================================================\n",
      "dense (Dense)                (None, 408)               314160    \n",
      "_________________________________________________________________\n",
      "dense_1 (Dense)              (None, 40)                16360     \n",
      "_________________________________________________________________\n",
      "dropout (Dropout)            (None, 40)                0         \n",
      "_________________________________________________________________\n",
      "dense_2 (Dense)              (None, 344)               14104     \n",
      "_________________________________________________________________\n",
      "dropout_1 (Dropout)          (None, 344)               0         \n",
      "_________________________________________________________________\n",
      "dense_3 (Dense)              (None, 328)               113160    \n",
      "_________________________________________________________________\n",
      "dropout_2 (Dropout)          (None, 328)               0         \n",
      "_________________________________________________________________\n",
      "dense_4 (Dense)              (None, 8)                 2632      \n",
      "_________________________________________________________________\n",
      "dropout_3 (Dropout)          (None, 8)                 0         \n",
      "_________________________________________________________________\n",
      "dense_5 (Dense)              (None, 1)                 9         \n",
      "=================================================================\n",
      "Total params: 460,425\n",
      "Trainable params: 460,425\n",
      "Non-trainable params: 0\n",
      "_________________________________________________________________\n"
     ]
    }
   ],
   "source": [
    "model.summary()"
   ]
  },
  {
   "cell_type": "code",
   "execution_count": 17,
   "metadata": {},
   "outputs": [
    {
     "name": "stdout",
     "output_type": "stream",
     "text": [
      "Epoch 1/30\n",
      "  1/829 [..............................] - ETA: 0s - loss: 0.0139 - accuracy: 1.0000WARNING:tensorflow:From /Users/anthony/Documents/GitHub/Research-Mapping-Uncanny-Valley/.venv/creepyvenv/lib/python3.8/site-packages/tensorflow/python/ops/summary_ops_v2.py:1277: stop (from tensorflow.python.eager.profiler) is deprecated and will be removed after 2020-07-01.\n",
      "Instructions for updating:\n",
      "use `tf.profiler.experimental.stop` instead.\n",
      "WARNING:tensorflow:Callbacks method `on_train_batch_end` is slow compared to the batch time (batch time: 0.0060s vs `on_train_batch_end` time: 0.0126s). Check your callbacks.\n",
      "829/829 [==============================] - 3s 4ms/step - loss: 0.1151 - accuracy: 0.9583 - val_loss: 0.1168 - val_accuracy: 0.9602\n",
      "Epoch 2/30\n",
      "829/829 [==============================] - 3s 3ms/step - loss: 0.1131 - accuracy: 0.9596 - val_loss: 0.1133 - val_accuracy: 0.9609\n",
      "Epoch 3/30\n",
      "829/829 [==============================] - 3s 3ms/step - loss: 0.1130 - accuracy: 0.9587 - val_loss: 0.1568 - val_accuracy: 0.9292\n",
      "Epoch 4/30\n",
      "829/829 [==============================] - 2s 3ms/step - loss: 0.1203 - accuracy: 0.9550 - val_loss: 0.1278 - val_accuracy: 0.9554\n",
      "Epoch 5/30\n",
      "829/829 [==============================] - 3s 3ms/step - loss: 0.1174 - accuracy: 0.9569 - val_loss: 0.1197 - val_accuracy: 0.9567\n",
      "Epoch 6/30\n",
      "829/829 [==============================] - 2s 3ms/step - loss: 0.1116 - accuracy: 0.9593 - val_loss: 0.1007 - val_accuracy: 0.9644\n",
      "Epoch 7/30\n",
      "829/829 [==============================] - 2s 3ms/step - loss: 0.1131 - accuracy: 0.9587 - val_loss: 0.1146 - val_accuracy: 0.9611\n",
      "Epoch 8/30\n",
      "829/829 [==============================] - 3s 3ms/step - loss: 0.1092 - accuracy: 0.9613 - val_loss: 0.1013 - val_accuracy: 0.9653\n",
      "Epoch 9/30\n",
      "829/829 [==============================] - 3s 3ms/step - loss: 0.1069 - accuracy: 0.9605 - val_loss: 0.1007 - val_accuracy: 0.9641\n",
      "Epoch 10/30\n",
      "829/829 [==============================] - 3s 3ms/step - loss: 0.1062 - accuracy: 0.9619 - val_loss: 0.1101 - val_accuracy: 0.9583\n",
      "Epoch 11/30\n",
      "829/829 [==============================] - 2s 3ms/step - loss: 0.1121 - accuracy: 0.9602 - val_loss: 0.1123 - val_accuracy: 0.9614\n",
      "Epoch 12/30\n",
      "829/829 [==============================] - 2s 3ms/step - loss: 0.1117 - accuracy: 0.9579 - val_loss: 0.1180 - val_accuracy: 0.9574\n",
      "Epoch 13/30\n",
      "829/829 [==============================] - 2s 3ms/step - loss: 0.1145 - accuracy: 0.9598 - val_loss: 0.1173 - val_accuracy: 0.9563\n",
      "Epoch 14/30\n",
      "829/829 [==============================] - 2s 3ms/step - loss: 0.1094 - accuracy: 0.9612 - val_loss: 0.1281 - val_accuracy: 0.9530\n",
      "Epoch 15/30\n",
      "829/829 [==============================] - 2s 3ms/step - loss: 0.1054 - accuracy: 0.9614 - val_loss: 0.0952 - val_accuracy: 0.9669\n",
      "Epoch 16/30\n",
      "829/829 [==============================] - 2s 3ms/step - loss: 0.1127 - accuracy: 0.9585 - val_loss: 0.1952 - val_accuracy: 0.9253\n",
      "Epoch 17/30\n",
      "829/829 [==============================] - 2s 3ms/step - loss: 0.1083 - accuracy: 0.9605 - val_loss: 0.0995 - val_accuracy: 0.9658\n",
      "Epoch 18/30\n",
      "829/829 [==============================] - 2s 3ms/step - loss: 0.1095 - accuracy: 0.9614 - val_loss: 0.0985 - val_accuracy: 0.9660\n",
      "Epoch 19/30\n",
      "829/829 [==============================] - 3s 3ms/step - loss: 0.1062 - accuracy: 0.9616 - val_loss: 0.1407 - val_accuracy: 0.9436\n",
      "Epoch 20/30\n",
      "829/829 [==============================] - 2s 3ms/step - loss: 0.1031 - accuracy: 0.9622 - val_loss: 0.1071 - val_accuracy: 0.9612\n",
      "Epoch 21/30\n",
      "829/829 [==============================] - 2s 3ms/step - loss: 0.1015 - accuracy: 0.9632 - val_loss: 0.2785 - val_accuracy: 0.9040\n",
      "Epoch 22/30\n",
      "829/829 [==============================] - 2s 3ms/step - loss: 0.1141 - accuracy: 0.9578 - val_loss: 0.1402 - val_accuracy: 0.9461\n",
      "Epoch 23/30\n",
      "829/829 [==============================] - 3s 3ms/step - loss: 0.1049 - accuracy: 0.9625 - val_loss: 0.1181 - val_accuracy: 0.9570\n",
      "Epoch 24/30\n",
      "829/829 [==============================] - 2s 3ms/step - loss: 0.1078 - accuracy: 0.9604 - val_loss: 0.1182 - val_accuracy: 0.9595\n",
      "Epoch 25/30\n",
      "829/829 [==============================] - 2s 3ms/step - loss: 0.1104 - accuracy: 0.9594 - val_loss: 0.1038 - val_accuracy: 0.9660\n",
      "Epoch 26/30\n",
      "829/829 [==============================] - 2s 3ms/step - loss: 0.1029 - accuracy: 0.9644 - val_loss: 0.1020 - val_accuracy: 0.9625\n",
      "Epoch 27/30\n",
      "829/829 [==============================] - 2s 3ms/step - loss: 0.1089 - accuracy: 0.9595 - val_loss: 0.1182 - val_accuracy: 0.9577\n",
      "Epoch 28/30\n",
      "829/829 [==============================] - 2s 3ms/step - loss: 0.1023 - accuracy: 0.9629 - val_loss: 0.1641 - val_accuracy: 0.9465\n",
      "Epoch 29/30\n",
      "829/829 [==============================] - 2s 3ms/step - loss: 0.1038 - accuracy: 0.9634 - val_loss: 0.1049 - val_accuracy: 0.9642\n",
      "Epoch 30/30\n",
      "829/829 [==============================] - 2s 3ms/step - loss: 0.1034 - accuracy: 0.9632 - val_loss: 0.1071 - val_accuracy: 0.9628\n"
     ]
    },
    {
     "data": {
      "text/plain": [
       "Reusing TensorBoard on port 6007 (pid 52840), started 5:57:52 ago. (Use '!kill 52840' to kill it.)"
      ]
     },
     "metadata": {},
     "output_type": "display_data"
    },
    {
     "data": {
      "text/html": [
       "\n",
       "      <iframe id=\"tensorboard-frame-c571593a5284850a\" width=\"100%\" height=\"800\" frameborder=\"0\">\n",
       "      </iframe>\n",
       "      <script>\n",
       "        (function() {\n",
       "          const frame = document.getElementById(\"tensorboard-frame-c571593a5284850a\");\n",
       "          const url = new URL(\"/\", window.location);\n",
       "          const port = 6007;\n",
       "          if (port) {\n",
       "            url.port = port;\n",
       "          }\n",
       "          frame.src = url;\n",
       "        })();\n",
       "      </script>\n",
       "    "
      ],
      "text/plain": [
       "<IPython.core.display.HTML object>"
      ]
     },
     "metadata": {},
     "output_type": "display_data"
    }
   ],
   "source": [
    "import os\n",
    "root_logdir = os.path.join(os.curdir, \"tensorboard_logs\")\n",
    "\n",
    "def get_run_log_dir():\n",
    "    import time\n",
    "    run_id = time.strftime(\"run_%Y_%m_%d-%H_%M_%S\")\n",
    "    return os.path.join(root_logdir, run_id)\n",
    "\n",
    "run_logdir = get_run_log_dir()\n",
    "\n",
    "tensorboard_cb = keras.callbacks.TensorBoard(run_logdir)\n",
    "\n",
    "history = model.fit(X_train, y_train, epochs = 30, \n",
    "                   validation_data=(X_valid, y_valid),\n",
    "                   callbacks=[tensorboard_cb])\n",
    "\n",
    "%tensorboard --logdir tensorboard_logs"
   ]
  }
 ],
 "metadata": {
  "kernelspec": {
   "display_name": "creepyvenv",
   "language": "python",
   "name": "creepyvenv"
  },
  "language_info": {
   "codemirror_mode": {
    "name": "ipython",
    "version": 3
   },
   "file_extension": ".py",
   "mimetype": "text/x-python",
   "name": "python",
   "nbconvert_exporter": "python",
   "pygments_lexer": "ipython3",
   "version": "3.8.3"
  }
 },
 "nbformat": 4,
 "nbformat_minor": 4
}
