{
 "cells": [
  {
   "cell_type": "code",
   "execution_count": 1,
   "metadata": {},
   "outputs": [
    {
     "name": "stderr",
     "output_type": "stream",
     "text": [
      "/home/anthony/anaconda3/lib/python3.8/site-packages/tqdm/std.py:668: FutureWarning: The Panel class is removed from pandas. Accessing it from the top-level namespace will also be removed in the next version\n",
      "  from pandas import Panel\n"
     ]
    }
   ],
   "source": [
    "from my_util import *\n",
    "# pandas warning is fine"
   ]
  },
  {
   "cell_type": "markdown",
   "metadata": {},
   "source": [
    "# Import Cleaned Data (Check the first part of 3 - Sentence Embeddings.ipynb for clean data)"
   ]
  },
  {
   "cell_type": "code",
   "execution_count": 2,
   "metadata": {},
   "outputs": [],
   "source": [
    "nosleep2020 = pd.read_pickle('./pickles/nosleep2020.pickle')\n",
    "confessions2020 = pd.read_pickle('./pickles/confessions2020.pickle')\n",
    "nosleep_comments = pd.read_pickle('./pickles/nosleep_comments.pickle')\n",
    "confessions_comments = pd.read_pickle('./pickles/confessions_comments.pickle')"
   ]
  },
  {
   "cell_type": "code",
   "execution_count": 3,
   "metadata": {},
   "outputs": [
    {
     "data": {
      "text/plain": [
       "True"
      ]
     },
     "execution_count": 3,
     "metadata": {},
     "output_type": "execute_result"
    }
   ],
   "source": [
    "spacy.prefer_gpu()"
   ]
  },
  {
   "cell_type": "code",
   "execution_count": 5,
   "metadata": {},
   "outputs": [],
   "source": [
    "import pandas as pd"
   ]
  },
  {
   "cell_type": "code",
   "execution_count": 4,
   "metadata": {},
   "outputs": [
    {
     "name": "stderr",
     "output_type": "stream",
     "text": [
      "100%|██████████| 1000/1000 [00:24<00:00, 40.91it/s]\n",
      "100%|██████████| 100/100 [00:48<00:00,  2.05it/s]\n"
     ]
    },
    {
     "data": {
      "text/html": [
       "<div>\n",
       "<style scoped>\n",
       "    .dataframe tbody tr th:only-of-type {\n",
       "        vertical-align: middle;\n",
       "    }\n",
       "\n",
       "    .dataframe tbody tr th {\n",
       "        vertical-align: top;\n",
       "    }\n",
       "\n",
       "    .dataframe thead th {\n",
       "        text-align: right;\n",
       "    }\n",
       "</style>\n",
       "<table border=\"1\" class=\"dataframe\">\n",
       "  <thead>\n",
       "    <tr style=\"text-align: right;\">\n",
       "      <th></th>\n",
       "      <th>t_lc</th>\n",
       "      <th>c_lc</th>\n",
       "      <th>output</th>\n",
       "    </tr>\n",
       "    <tr>\n",
       "      <th>id</th>\n",
       "      <th></th>\n",
       "      <th></th>\n",
       "      <th></th>\n",
       "    </tr>\n",
       "  </thead>\n",
       "  <tbody>\n",
       "    <tr>\n",
       "      <th>gx9z4v</th>\n",
       "      <td>[-200.48175, -187.2049, 177.60037, -141.1744, ...</td>\n",
       "      <td>[-3.3310812, -2.681533, 5.278801, -1.6277364, ...</td>\n",
       "      <td>[-203.81284, -189.88643, 182.87918, -142.80212...</td>\n",
       "    </tr>\n",
       "    <tr>\n",
       "      <th>gxa2c9</th>\n",
       "      <td>[-73.81783, -64.124374, 28.833185, -39.638275,...</td>\n",
       "      <td>[-3.9392433, -0.25986248, 2.6489596, -3.971933...</td>\n",
       "      <td>[-77.75708, -64.38424, 31.482145, -43.610207, ...</td>\n",
       "    </tr>\n",
       "    <tr>\n",
       "      <th>gxan8l</th>\n",
       "      <td>[-187.62556, -92.560646, 100.093285, -120.7648...</td>\n",
       "      <td>[-44.5562, -20.197342, 37.657402, -41.27393, -...</td>\n",
       "      <td>[-232.18176, -112.75799, 137.75069, -162.03876...</td>\n",
       "    </tr>\n",
       "    <tr>\n",
       "      <th>gxazgc</th>\n",
       "      <td>[-129.37398, -91.93882, 123.89851, -125.174805...</td>\n",
       "      <td>[-21.199198, -14.505109, 27.482834, -21.540756...</td>\n",
       "      <td>[-150.57318, -106.44393, 151.38135, -146.71556...</td>\n",
       "    </tr>\n",
       "    <tr>\n",
       "      <th>gxb2a9</th>\n",
       "      <td>[-176.56712, -94.25492, 76.32829, -136.14642, ...</td>\n",
       "      <td>[-0.7008165, -0.63337255, 0.80315423, -0.06777...</td>\n",
       "      <td>[-177.26794, -94.88829, 77.13145, -136.2142, -...</td>\n",
       "    </tr>\n",
       "    <tr>\n",
       "      <th>...</th>\n",
       "      <td>...</td>\n",
       "      <td>...</td>\n",
       "      <td>...</td>\n",
       "    </tr>\n",
       "    <tr>\n",
       "      <th>gxr4ff</th>\n",
       "      <td>[-46.60243, -56.5399, 33.94343, -54.420517, -3...</td>\n",
       "      <td>[-4.124442, -0.794845, 4.482045, -5.5603256, -...</td>\n",
       "      <td>[-50.72687, -57.334747, 38.425476, -59.980843,...</td>\n",
       "    </tr>\n",
       "    <tr>\n",
       "      <th>gxr7hh</th>\n",
       "      <td>[-15.313586, -8.375985, 19.374754, -17.980627,...</td>\n",
       "      <td>[-4.805165, -1.4524518, 5.1010685, -5.4286466,...</td>\n",
       "      <td>[-20.118752, -9.828437, 24.475822, -23.409273,...</td>\n",
       "    </tr>\n",
       "    <tr>\n",
       "      <th>gxrnj7</th>\n",
       "      <td>[-191.69836, -139.24278, 187.0836, -143.5807, ...</td>\n",
       "      <td>[-0.8277999, -0.7379158, 0.07095297, -0.415737...</td>\n",
       "      <td>[-192.52617, -139.9807, 187.15456, -143.99644,...</td>\n",
       "    </tr>\n",
       "    <tr>\n",
       "      <th>gxs6jf</th>\n",
       "      <td>[-10.746326, -14.442649, 17.494566, -18.738699...</td>\n",
       "      <td>[-8.177861, -0.18242174, 3.9361427, -8.352903,...</td>\n",
       "      <td>[-18.924187, -14.625071, 21.430708, -27.091602...</td>\n",
       "    </tr>\n",
       "    <tr>\n",
       "      <th>gxsa0i</th>\n",
       "      <td>[-10.746326, -14.442649, 17.494566, -18.738699...</td>\n",
       "      <td>[-4.6811333, -1.2372178, 3.082223, -4.697426, ...</td>\n",
       "      <td>[-15.42746, -15.679867, 20.57679, -23.436125, ...</td>\n",
       "    </tr>\n",
       "  </tbody>\n",
       "</table>\n",
       "<p>73 rows × 3 columns</p>\n",
       "</div>"
      ],
      "text/plain": [
       "                                                     t_lc  \\\n",
       "id                                                          \n",
       "gx9z4v  [-200.48175, -187.2049, 177.60037, -141.1744, ...   \n",
       "gxa2c9  [-73.81783, -64.124374, 28.833185, -39.638275,...   \n",
       "gxan8l  [-187.62556, -92.560646, 100.093285, -120.7648...   \n",
       "gxazgc  [-129.37398, -91.93882, 123.89851, -125.174805...   \n",
       "gxb2a9  [-176.56712, -94.25492, 76.32829, -136.14642, ...   \n",
       "...                                                   ...   \n",
       "gxr4ff  [-46.60243, -56.5399, 33.94343, -54.420517, -3...   \n",
       "gxr7hh  [-15.313586, -8.375985, 19.374754, -17.980627,...   \n",
       "gxrnj7  [-191.69836, -139.24278, 187.0836, -143.5807, ...   \n",
       "gxs6jf  [-10.746326, -14.442649, 17.494566, -18.738699...   \n",
       "gxsa0i  [-10.746326, -14.442649, 17.494566, -18.738699...   \n",
       "\n",
       "                                                     c_lc  \\\n",
       "id                                                          \n",
       "gx9z4v  [-3.3310812, -2.681533, 5.278801, -1.6277364, ...   \n",
       "gxa2c9  [-3.9392433, -0.25986248, 2.6489596, -3.971933...   \n",
       "gxan8l  [-44.5562, -20.197342, 37.657402, -41.27393, -...   \n",
       "gxazgc  [-21.199198, -14.505109, 27.482834, -21.540756...   \n",
       "gxb2a9  [-0.7008165, -0.63337255, 0.80315423, -0.06777...   \n",
       "...                                                   ...   \n",
       "gxr4ff  [-4.124442, -0.794845, 4.482045, -5.5603256, -...   \n",
       "gxr7hh  [-4.805165, -1.4524518, 5.1010685, -5.4286466,...   \n",
       "gxrnj7  [-0.8277999, -0.7379158, 0.07095297, -0.415737...   \n",
       "gxs6jf  [-8.177861, -0.18242174, 3.9361427, -8.352903,...   \n",
       "gxsa0i  [-4.6811333, -1.2372178, 3.082223, -4.697426, ...   \n",
       "\n",
       "                                                   output  \n",
       "id                                                         \n",
       "gx9z4v  [-203.81284, -189.88643, 182.87918, -142.80212...  \n",
       "gxa2c9  [-77.75708, -64.38424, 31.482145, -43.610207, ...  \n",
       "gxan8l  [-232.18176, -112.75799, 137.75069, -162.03876...  \n",
       "gxazgc  [-150.57318, -106.44393, 151.38135, -146.71556...  \n",
       "gxb2a9  [-177.26794, -94.88829, 77.13145, -136.2142, -...  \n",
       "...                                                   ...  \n",
       "gxr4ff  [-50.72687, -57.334747, 38.425476, -59.980843,...  \n",
       "gxr7hh  [-20.118752, -9.828437, 24.475822, -23.409273,...  \n",
       "gxrnj7  [-192.52617, -139.9807, 187.15456, -143.99644,...  \n",
       "gxs6jf  [-18.924187, -14.625071, 21.430708, -27.091602...  \n",
       "gxsa0i  [-15.42746, -15.679867, 20.57679, -23.436125, ...  \n",
       "\n",
       "[73 rows x 3 columns]"
      ]
     },
     "execution_count": 4,
     "metadata": {},
     "output_type": "execute_result"
    }
   ],
   "source": [
    "nosleeplc = lc(nosleep2020, nosleep_comments)\n",
    "nosleeplc.to_pickle('./pickles/nosleeplc.pickle')"
   ]
  },
  {
   "cell_type": "code",
   "execution_count": 6,
   "metadata": {},
   "outputs": [
    {
     "name": "stderr",
     "output_type": "stream",
     "text": [
      "100%|██████████| 1000/1000 [00:22<00:00, 45.24it/s]\n",
      "100%|██████████| 100/100 [00:06<00:00, 15.12it/s]\n"
     ]
    }
   ],
   "source": [
    "confessionslc = lc(confessions2020[:100].copy(), confessions_comments[:1000].copy())\n",
    "confessionslc.to_pickle('./pickles/confessionslc.pickle')"
   ]
  },
  {
   "cell_type": "code",
   "execution_count": null,
   "metadata": {},
   "outputs": [],
   "source": []
  }
 ],
 "metadata": {
  "kernelspec": {
   "display_name": "creepyvenv",
   "language": "python",
   "name": "creepyvenv"
  },
  "language_info": {
   "codemirror_mode": {
    "name": "ipython",
    "version": 3
   },
   "file_extension": ".py",
   "mimetype": "text/x-python",
   "name": "python",
   "nbconvert_exporter": "python",
   "pygments_lexer": "ipython3",
   "version": "3.8.3"
  }
 },
 "nbformat": 4,
 "nbformat_minor": 4
}
