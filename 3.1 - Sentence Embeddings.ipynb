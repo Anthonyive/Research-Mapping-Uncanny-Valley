{
 "cells": [
  {
   "cell_type": "code",
   "execution_count": 19,
   "metadata": {},
   "outputs": [
    {
     "name": "stderr",
     "output_type": "stream",
     "text": [
      "/home/anthony/Documents/Research-Mapping-Uncanny-Valley/.venv/creepyenv/lib/python3.8/site-packages/tqdm/std.py:697: FutureWarning: The Panel class is removed from pandas. Accessing it from the top-level namespace will also be removed in the next version\n",
      "  from pandas import Panel\n"
     ]
    },
    {
     "ename": "OSError",
     "evalue": "[E050] Can't find model 'en_core_web_lg'. It doesn't seem to be a shortcut link, a Python package or a valid path to a data directory.",
     "output_type": "error",
     "traceback": [
      "\u001b[0;31m---------------------------------------------------------------------------\u001b[0m",
      "\u001b[0;31mOSError\u001b[0m                                   Traceback (most recent call last)",
      "\u001b[0;32m<ipython-input-19-8520014fbf99>\u001b[0m in \u001b[0;36m<module>\u001b[0;34m\u001b[0m\n\u001b[0;32m----> 1\u001b[0;31m \u001b[0;32mfrom\u001b[0m \u001b[0mmy_util\u001b[0m \u001b[0;32mimport\u001b[0m \u001b[0;34m*\u001b[0m\u001b[0;34m\u001b[0m\u001b[0;34m\u001b[0m\u001b[0m\n\u001b[0m\u001b[1;32m      2\u001b[0m \u001b[0;31m# pandas warning is fine\u001b[0m\u001b[0;34m\u001b[0m\u001b[0;34m\u001b[0m\u001b[0;34m\u001b[0m\u001b[0m\n",
      "\u001b[0;32m~/Documents/Research-Mapping-Uncanny-Valley/my_util.py\u001b[0m in \u001b[0;36m<module>\u001b[0;34m\u001b[0m\n\u001b[1;32m      7\u001b[0m \u001b[0mtqdm\u001b[0m\u001b[0;34m.\u001b[0m\u001b[0mpandas\u001b[0m\u001b[0;34m(\u001b[0m\u001b[0;34m)\u001b[0m\u001b[0;34m\u001b[0m\u001b[0;34m\u001b[0m\u001b[0m\n\u001b[1;32m      8\u001b[0m \u001b[0;34m\u001b[0m\u001b[0m\n\u001b[0;32m----> 9\u001b[0;31m \u001b[0mnlp\u001b[0m \u001b[0;34m=\u001b[0m \u001b[0mspacy\u001b[0m\u001b[0;34m.\u001b[0m\u001b[0mload\u001b[0m\u001b[0;34m(\u001b[0m\u001b[0;34m'en_core_web_lg'\u001b[0m\u001b[0;34m)\u001b[0m\u001b[0;34m\u001b[0m\u001b[0;34m\u001b[0m\u001b[0m\n\u001b[0m\u001b[1;32m     10\u001b[0m \u001b[0mmodel\u001b[0m \u001b[0;34m=\u001b[0m \u001b[0mSentenceTransformer\u001b[0m\u001b[0;34m(\u001b[0m\u001b[0;34m'distilbert-base-nli-mean-tokens'\u001b[0m\u001b[0;34m)\u001b[0m\u001b[0;34m\u001b[0m\u001b[0;34m\u001b[0m\u001b[0m\n\u001b[1;32m     11\u001b[0m \u001b[0;34m\u001b[0m\u001b[0m\n",
      "\u001b[0;32m~/Documents/Research-Mapping-Uncanny-Valley/.venv/creepyenv/lib/python3.8/site-packages/spacy/__init__.py\u001b[0m in \u001b[0;36mload\u001b[0;34m(name, **overrides)\u001b[0m\n\u001b[1;32m     28\u001b[0m     \u001b[0;32mif\u001b[0m \u001b[0mdepr_path\u001b[0m \u001b[0;32mnot\u001b[0m \u001b[0;32min\u001b[0m \u001b[0;34m(\u001b[0m\u001b[0;32mTrue\u001b[0m\u001b[0;34m,\u001b[0m \u001b[0;32mFalse\u001b[0m\u001b[0;34m,\u001b[0m \u001b[0;32mNone\u001b[0m\u001b[0;34m)\u001b[0m\u001b[0;34m:\u001b[0m\u001b[0;34m\u001b[0m\u001b[0;34m\u001b[0m\u001b[0m\n\u001b[1;32m     29\u001b[0m         \u001b[0mwarnings\u001b[0m\u001b[0;34m.\u001b[0m\u001b[0mwarn\u001b[0m\u001b[0;34m(\u001b[0m\u001b[0mWarnings\u001b[0m\u001b[0;34m.\u001b[0m\u001b[0mW001\u001b[0m\u001b[0;34m.\u001b[0m\u001b[0mformat\u001b[0m\u001b[0;34m(\u001b[0m\u001b[0mpath\u001b[0m\u001b[0;34m=\u001b[0m\u001b[0mdepr_path\u001b[0m\u001b[0;34m)\u001b[0m\u001b[0;34m,\u001b[0m \u001b[0mDeprecationWarning\u001b[0m\u001b[0;34m)\u001b[0m\u001b[0;34m\u001b[0m\u001b[0;34m\u001b[0m\u001b[0m\n\u001b[0;32m---> 30\u001b[0;31m     \u001b[0;32mreturn\u001b[0m \u001b[0mutil\u001b[0m\u001b[0;34m.\u001b[0m\u001b[0mload_model\u001b[0m\u001b[0;34m(\u001b[0m\u001b[0mname\u001b[0m\u001b[0;34m,\u001b[0m \u001b[0;34m**\u001b[0m\u001b[0moverrides\u001b[0m\u001b[0;34m)\u001b[0m\u001b[0;34m\u001b[0m\u001b[0;34m\u001b[0m\u001b[0m\n\u001b[0m\u001b[1;32m     31\u001b[0m \u001b[0;34m\u001b[0m\u001b[0m\n\u001b[1;32m     32\u001b[0m \u001b[0;34m\u001b[0m\u001b[0m\n",
      "\u001b[0;32m~/Documents/Research-Mapping-Uncanny-Valley/.venv/creepyenv/lib/python3.8/site-packages/spacy/util.py\u001b[0m in \u001b[0;36mload_model\u001b[0;34m(name, **overrides)\u001b[0m\n\u001b[1;32m    173\u001b[0m     \u001b[0;32melif\u001b[0m \u001b[0mhasattr\u001b[0m\u001b[0;34m(\u001b[0m\u001b[0mname\u001b[0m\u001b[0;34m,\u001b[0m \u001b[0;34m\"exists\"\u001b[0m\u001b[0;34m)\u001b[0m\u001b[0;34m:\u001b[0m  \u001b[0;31m# Path or Path-like to model data\u001b[0m\u001b[0;34m\u001b[0m\u001b[0;34m\u001b[0m\u001b[0m\n\u001b[1;32m    174\u001b[0m         \u001b[0;32mreturn\u001b[0m \u001b[0mload_model_from_path\u001b[0m\u001b[0;34m(\u001b[0m\u001b[0mname\u001b[0m\u001b[0;34m,\u001b[0m \u001b[0;34m**\u001b[0m\u001b[0moverrides\u001b[0m\u001b[0;34m)\u001b[0m\u001b[0;34m\u001b[0m\u001b[0;34m\u001b[0m\u001b[0m\n\u001b[0;32m--> 175\u001b[0;31m     \u001b[0;32mraise\u001b[0m \u001b[0mIOError\u001b[0m\u001b[0;34m(\u001b[0m\u001b[0mErrors\u001b[0m\u001b[0;34m.\u001b[0m\u001b[0mE050\u001b[0m\u001b[0;34m.\u001b[0m\u001b[0mformat\u001b[0m\u001b[0;34m(\u001b[0m\u001b[0mname\u001b[0m\u001b[0;34m=\u001b[0m\u001b[0mname\u001b[0m\u001b[0;34m)\u001b[0m\u001b[0;34m)\u001b[0m\u001b[0;34m\u001b[0m\u001b[0;34m\u001b[0m\u001b[0m\n\u001b[0m\u001b[1;32m    176\u001b[0m \u001b[0;34m\u001b[0m\u001b[0m\n\u001b[1;32m    177\u001b[0m \u001b[0;34m\u001b[0m\u001b[0m\n",
      "\u001b[0;31mOSError\u001b[0m: [E050] Can't find model 'en_core_web_lg'. It doesn't seem to be a shortcut link, a Python package or a valid path to a data directory."
     ]
    }
   ],
   "source": [
    "from my_util import *\n",
    "# pandas warning is fine"
   ]
  },
  {
   "cell_type": "markdown",
   "metadata": {},
   "source": [
    "# Import Cleaned Data (Check the first part of 3 - Sentence Embeddings.ipynb for clean data)"
   ]
  },
  {
   "cell_type": "code",
   "execution_count": 2,
   "metadata": {},
   "outputs": [],
   "source": [
    "nosleep2020 = pd.read_pickle('./pickles/nosleep2020.pickle')\n",
    "confessions2020 = pd.read_pickle('./pickles/confessions2020.pickle')\n",
    "nosleep_comments = pd.read_pickle('./pickles/nosleep_comments.pickle')\n",
    "confessions_comments = pd.read_pickle('./pickles/confessions_comments.pickle')"
   ]
  },
  {
   "cell_type": "code",
   "execution_count": 3,
   "metadata": {},
   "outputs": [
    {
     "data": {
      "text/plain": [
       "True"
      ]
     },
     "execution_count": 3,
     "metadata": {},
     "output_type": "execute_result"
    }
   ],
   "source": [
    "spacy.prefer_gpu()"
   ]
  },
  {
   "cell_type": "code",
   "execution_count": 4,
   "metadata": {},
   "outputs": [],
   "source": [
    "import pandas as pd"
   ]
  },
  {
   "cell_type": "code",
   "execution_count": 17,
   "metadata": {},
   "outputs": [
    {
     "data": {
      "text/plain": [
       "15487"
      ]
     },
     "execution_count": 17,
     "metadata": {},
     "output_type": "execute_result"
    }
   ],
   "source": [
    "len(nosleep2020)"
   ]
  },
  {
   "cell_type": "code",
   "execution_count": 7,
   "metadata": {},
   "outputs": [
    {
     "name": "stderr",
     "output_type": "stream",
     "text": [
      "100%|██████████| 200000/200000 [1:11:25<00:00, 46.67it/s]\n",
      "100%|██████████| 2000/2000 [16:37<00:00,  2.00it/s]\n"
     ]
    }
   ],
   "source": [
    "nosleeplc = lc(nosleep2020[:2000].copy(), nosleep_comments[:200000].copy())\n",
    "nosleeplc.to_pickle('./pickles/nosleeplc.pickle')"
   ]
  },
  {
   "cell_type": "code",
   "execution_count": 9,
   "metadata": {},
   "outputs": [
    {
     "name": "stderr",
     "output_type": "stream",
     "text": [
      "100%|██████████| 200000/200000 [1:11:45<00:00, 46.46it/s]\n",
      "100%|██████████| 2000/2000 [02:25<00:00, 13.77it/s]\n"
     ]
    }
   ],
   "source": [
    "confessionslc = lc(confessions2020[:2000].copy(), confessions_comments[:200000].copy())\n",
    "confessionslc.to_pickle('./pickles/confessionslc.pickle')"
   ]
  },
  {
   "cell_type": "markdown",
   "metadata": {},
   "source": [
    "# Just read it now from here"
   ]
  },
  {
   "cell_type": "code",
   "execution_count": 1,
   "metadata": {},
   "outputs": [],
   "source": [
    "import pandas as pd\n",
    "nosleeplc = pd.read_pickle('./pickles/nosleeplc.pickle')\n",
    "confessionslc = pd.read_pickle('./pickles/confessionslc.pickle')"
   ]
  },
  {
   "cell_type": "code",
   "execution_count": 2,
   "metadata": {},
   "outputs": [
    {
     "data": {
      "text/html": [
       "<div>\n",
       "<style scoped>\n",
       "    .dataframe tbody tr th:only-of-type {\n",
       "        vertical-align: middle;\n",
       "    }\n",
       "\n",
       "    .dataframe tbody tr th {\n",
       "        vertical-align: top;\n",
       "    }\n",
       "\n",
       "    .dataframe thead th {\n",
       "        text-align: right;\n",
       "    }\n",
       "</style>\n",
       "<table border=\"1\" class=\"dataframe\">\n",
       "  <thead>\n",
       "    <tr style=\"text-align: right;\">\n",
       "      <th></th>\n",
       "      <th>t_lc</th>\n",
       "      <th>c_lc</th>\n",
       "      <th>output</th>\n",
       "      <th>creepy</th>\n",
       "    </tr>\n",
       "    <tr>\n",
       "      <th>id</th>\n",
       "      <th></th>\n",
       "      <th></th>\n",
       "      <th></th>\n",
       "      <th></th>\n",
       "    </tr>\n",
       "  </thead>\n",
       "  <tbody>\n",
       "    <tr>\n",
       "      <th>gm90lz</th>\n",
       "      <td>[-43.448944, -40.90742, 31.774755, -38.43717, ...</td>\n",
       "      <td>[-8.348574, -1.5948275, 6.5946307, -6.272227, ...</td>\n",
       "      <td>[-51.797516, -42.502247, 38.369385, -44.709396...</td>\n",
       "      <td>1</td>\n",
       "    </tr>\n",
       "    <tr>\n",
       "      <th>gm9h46</th>\n",
       "      <td>[-27.826912, -38.139843, 24.683357, -36.190052...</td>\n",
       "      <td>[-3.479012, -3.3481028, 3.1868625, -5.2671967,...</td>\n",
       "      <td>[-31.305923, -41.487946, 27.87022, -41.45725, ...</td>\n",
       "      <td>1</td>\n",
       "    </tr>\n",
       "    <tr>\n",
       "      <th>gm9km0</th>\n",
       "      <td>[-38.23667, -28.275675, 43.27871, -53.35118, -...</td>\n",
       "      <td>[-1.9990637, -2.4532738, 1.2224282, -2.093637,...</td>\n",
       "      <td>[-40.235737, -30.728949, 44.501137, -55.444817...</td>\n",
       "      <td>1</td>\n",
       "    </tr>\n",
       "    <tr>\n",
       "      <th>gm9m6f</th>\n",
       "      <td>[-152.28827, -111.13088, 138.75168, -176.3487,...</td>\n",
       "      <td>[-4.7265887, -2.245382, 8.035507, -9.307725, -...</td>\n",
       "      <td>[-157.01486, -113.37627, 146.78719, -185.65642...</td>\n",
       "      <td>1</td>\n",
       "    </tr>\n",
       "    <tr>\n",
       "      <th>gm9nkx</th>\n",
       "      <td>[-82.07911, -40.25785, 75.34291, -56.98685, -6...</td>\n",
       "      <td>[-4.0219026, -0.26279643, 2.933392, -3.8764281...</td>\n",
       "      <td>[-86.10101, -40.52065, 78.276306, -60.863277, ...</td>\n",
       "      <td>1</td>\n",
       "    </tr>\n",
       "    <tr>\n",
       "      <th>...</th>\n",
       "      <td>...</td>\n",
       "      <td>...</td>\n",
       "      <td>...</td>\n",
       "      <td>...</td>\n",
       "    </tr>\n",
       "    <tr>\n",
       "      <th>gxr4ff</th>\n",
       "      <td>[-46.60243, -56.5399, 33.94343, -54.420517, -3...</td>\n",
       "      <td>[-4.124442, -0.794845, 4.482045, -5.5603256, -...</td>\n",
       "      <td>[-50.72687, -57.334747, 38.425476, -59.980843,...</td>\n",
       "      <td>1</td>\n",
       "    </tr>\n",
       "    <tr>\n",
       "      <th>gxr7hh</th>\n",
       "      <td>[-15.313586, -8.375985, 19.374754, -17.980627,...</td>\n",
       "      <td>[-4.805165, -1.4524518, 5.1010685, -5.4286466,...</td>\n",
       "      <td>[-20.118752, -9.828437, 24.475822, -23.409273,...</td>\n",
       "      <td>1</td>\n",
       "    </tr>\n",
       "    <tr>\n",
       "      <th>gxrnj7</th>\n",
       "      <td>[-191.69836, -139.24278, 187.0836, -143.5807, ...</td>\n",
       "      <td>[-0.8277999, -0.7379158, 0.07095297, -0.415737...</td>\n",
       "      <td>[-192.52617, -139.9807, 187.15456, -143.99644,...</td>\n",
       "      <td>1</td>\n",
       "    </tr>\n",
       "    <tr>\n",
       "      <th>gxs6jf</th>\n",
       "      <td>[-10.746326, -14.442649, 17.494566, -18.738699...</td>\n",
       "      <td>[-8.177861, -0.18242174, 3.9361427, -8.352903,...</td>\n",
       "      <td>[-18.924187, -14.625071, 21.430708, -27.091602...</td>\n",
       "      <td>1</td>\n",
       "    </tr>\n",
       "    <tr>\n",
       "      <th>gxsa0i</th>\n",
       "      <td>[-10.746326, -14.442649, 17.494566, -18.738699...</td>\n",
       "      <td>[-4.6811333, -1.2372178, 3.082223, -4.697426, ...</td>\n",
       "      <td>[-15.42746, -15.679867, 20.57679, -23.436125, ...</td>\n",
       "      <td>1</td>\n",
       "    </tr>\n",
       "  </tbody>\n",
       "</table>\n",
       "<p>1632 rows × 4 columns</p>\n",
       "</div>"
      ],
      "text/plain": [
       "                                                     t_lc  \\\n",
       "id                                                          \n",
       "gm90lz  [-43.448944, -40.90742, 31.774755, -38.43717, ...   \n",
       "gm9h46  [-27.826912, -38.139843, 24.683357, -36.190052...   \n",
       "gm9km0  [-38.23667, -28.275675, 43.27871, -53.35118, -...   \n",
       "gm9m6f  [-152.28827, -111.13088, 138.75168, -176.3487,...   \n",
       "gm9nkx  [-82.07911, -40.25785, 75.34291, -56.98685, -6...   \n",
       "...                                                   ...   \n",
       "gxr4ff  [-46.60243, -56.5399, 33.94343, -54.420517, -3...   \n",
       "gxr7hh  [-15.313586, -8.375985, 19.374754, -17.980627,...   \n",
       "gxrnj7  [-191.69836, -139.24278, 187.0836, -143.5807, ...   \n",
       "gxs6jf  [-10.746326, -14.442649, 17.494566, -18.738699...   \n",
       "gxsa0i  [-10.746326, -14.442649, 17.494566, -18.738699...   \n",
       "\n",
       "                                                     c_lc  \\\n",
       "id                                                          \n",
       "gm90lz  [-8.348574, -1.5948275, 6.5946307, -6.272227, ...   \n",
       "gm9h46  [-3.479012, -3.3481028, 3.1868625, -5.2671967,...   \n",
       "gm9km0  [-1.9990637, -2.4532738, 1.2224282, -2.093637,...   \n",
       "gm9m6f  [-4.7265887, -2.245382, 8.035507, -9.307725, -...   \n",
       "gm9nkx  [-4.0219026, -0.26279643, 2.933392, -3.8764281...   \n",
       "...                                                   ...   \n",
       "gxr4ff  [-4.124442, -0.794845, 4.482045, -5.5603256, -...   \n",
       "gxr7hh  [-4.805165, -1.4524518, 5.1010685, -5.4286466,...   \n",
       "gxrnj7  [-0.8277999, -0.7379158, 0.07095297, -0.415737...   \n",
       "gxs6jf  [-8.177861, -0.18242174, 3.9361427, -8.352903,...   \n",
       "gxsa0i  [-4.6811333, -1.2372178, 3.082223, -4.697426, ...   \n",
       "\n",
       "                                                   output  creepy  \n",
       "id                                                                 \n",
       "gm90lz  [-51.797516, -42.502247, 38.369385, -44.709396...       1  \n",
       "gm9h46  [-31.305923, -41.487946, 27.87022, -41.45725, ...       1  \n",
       "gm9km0  [-40.235737, -30.728949, 44.501137, -55.444817...       1  \n",
       "gm9m6f  [-157.01486, -113.37627, 146.78719, -185.65642...       1  \n",
       "gm9nkx  [-86.10101, -40.52065, 78.276306, -60.863277, ...       1  \n",
       "...                                                   ...     ...  \n",
       "gxr4ff  [-50.72687, -57.334747, 38.425476, -59.980843,...       1  \n",
       "gxr7hh  [-20.118752, -9.828437, 24.475822, -23.409273,...       1  \n",
       "gxrnj7  [-192.52617, -139.9807, 187.15456, -143.99644,...       1  \n",
       "gxs6jf  [-18.924187, -14.625071, 21.430708, -27.091602...       1  \n",
       "gxsa0i  [-15.42746, -15.679867, 20.57679, -23.436125, ...       1  \n",
       "\n",
       "[1632 rows x 4 columns]"
      ]
     },
     "execution_count": 2,
     "metadata": {},
     "output_type": "execute_result"
    }
   ],
   "source": [
    "nosleeplc['creepy'] = 1\n",
    "nosleeplc"
   ]
  },
  {
   "cell_type": "code",
   "execution_count": 3,
   "metadata": {},
   "outputs": [
    {
     "data": {
      "text/html": [
       "<div>\n",
       "<style scoped>\n",
       "    .dataframe tbody tr th:only-of-type {\n",
       "        vertical-align: middle;\n",
       "    }\n",
       "\n",
       "    .dataframe tbody tr th {\n",
       "        vertical-align: top;\n",
       "    }\n",
       "\n",
       "    .dataframe thead th {\n",
       "        text-align: right;\n",
       "    }\n",
       "</style>\n",
       "<table border=\"1\" class=\"dataframe\">\n",
       "  <thead>\n",
       "    <tr style=\"text-align: right;\">\n",
       "      <th></th>\n",
       "      <th>t_lc</th>\n",
       "      <th>c_lc</th>\n",
       "      <th>output</th>\n",
       "      <th>creepy</th>\n",
       "    </tr>\n",
       "    <tr>\n",
       "      <th>id</th>\n",
       "      <th></th>\n",
       "      <th></th>\n",
       "      <th></th>\n",
       "      <th></th>\n",
       "    </tr>\n",
       "  </thead>\n",
       "  <tbody>\n",
       "    <tr>\n",
       "      <th>gq5qxq</th>\n",
       "      <td>[-4.2211347, -3.2346933, 4.106688, -4.6284866,...</td>\n",
       "      <td>[-0.51808476, 0.0073981746, 0.38947615, -0.839...</td>\n",
       "      <td>[-4.7392197, -3.2272952, 4.4961643, -5.4679465...</td>\n",
       "      <td>0</td>\n",
       "    </tr>\n",
       "    <tr>\n",
       "      <th>gq5r1n</th>\n",
       "      <td>[-0.59724605, 0.045252368, 0.42557347, -0.2874...</td>\n",
       "      <td>[-1.112803, 0.5451723, 0.41355494, -0.42312628...</td>\n",
       "      <td>[-1.710049, 0.59042466, 0.8391284, -0.71056265...</td>\n",
       "      <td>0</td>\n",
       "    </tr>\n",
       "    <tr>\n",
       "      <th>gq5tf9</th>\n",
       "      <td>[-0.25366855, -0.023278378, 1.4053621, -1.8319...</td>\n",
       "      <td>[-0.5479347, -0.45367637, -0.73892784, -1.4348...</td>\n",
       "      <td>[-0.80160326, -0.47695476, 0.6664343, -3.26680...</td>\n",
       "      <td>0</td>\n",
       "    </tr>\n",
       "    <tr>\n",
       "      <th>gq5vj7</th>\n",
       "      <td>[-5.9038677, -6.217436, 5.5183806, -2.4951742,...</td>\n",
       "      <td>[-1.667027, -1.2814567, 0.769921, -1.3686498, ...</td>\n",
       "      <td>[-7.5708947, -7.498893, 6.2883015, -3.863824, ...</td>\n",
       "      <td>0</td>\n",
       "    </tr>\n",
       "    <tr>\n",
       "      <th>gq5wyk</th>\n",
       "      <td>[-1.8943088, 0.039124668, 0.6627472, 0.6592024...</td>\n",
       "      <td>[-1.5386828, -0.9547632, -0.1286468, 0.2768085...</td>\n",
       "      <td>[-3.4329915, -0.9156385, 0.5341004, 0.936011, ...</td>\n",
       "      <td>0</td>\n",
       "    </tr>\n",
       "    <tr>\n",
       "      <th>...</th>\n",
       "      <td>...</td>\n",
       "      <td>...</td>\n",
       "      <td>...</td>\n",
       "      <td>...</td>\n",
       "    </tr>\n",
       "    <tr>\n",
       "      <th>gxrepo</th>\n",
       "      <td>[-8.992483, -3.947889, 7.3025317, -11.3309765,...</td>\n",
       "      <td>[-2.5596943, -2.250828, 0.5942541, -0.3135411,...</td>\n",
       "      <td>[-11.552177, -6.198717, 7.8967857, -11.644518,...</td>\n",
       "      <td>0</td>\n",
       "    </tr>\n",
       "    <tr>\n",
       "      <th>gxro4y</th>\n",
       "      <td>[-1.5813004, -1.7788306, 1.943061, 0.001381754...</td>\n",
       "      <td>[-103.586685, -44.67759, 75.19151, -56.09118, ...</td>\n",
       "      <td>[-105.167984, -46.45642, 77.134575, -56.089798...</td>\n",
       "      <td>0</td>\n",
       "    </tr>\n",
       "    <tr>\n",
       "      <th>gxrvrz</th>\n",
       "      <td>[-4.069997, -5.479481, 6.6955786, -3.5458221, ...</td>\n",
       "      <td>[-6.331843, -4.9411883, 10.414454, -7.539891, ...</td>\n",
       "      <td>[-10.40184, -10.42067, 17.110033, -11.085712, ...</td>\n",
       "      <td>0</td>\n",
       "    </tr>\n",
       "    <tr>\n",
       "      <th>gxrzxh</th>\n",
       "      <td>[-2.8349352, -0.89818543, 1.9146793, -0.693764...</td>\n",
       "      <td>[-3.738345, -2.3382869, 2.9431949, -2.5634456,...</td>\n",
       "      <td>[-6.5732803, -3.2364724, 4.857874, -3.2572098,...</td>\n",
       "      <td>0</td>\n",
       "    </tr>\n",
       "    <tr>\n",
       "      <th>gxs5ks</th>\n",
       "      <td>[-4.23675, -3.0329466, 0.8071625, -4.8736043, ...</td>\n",
       "      <td>[-1.9104276, -1.3502709, 1.1346931, -2.4190605...</td>\n",
       "      <td>[-6.1471777, -4.3832173, 1.9418557, -7.2926645...</td>\n",
       "      <td>0</td>\n",
       "    </tr>\n",
       "  </tbody>\n",
       "</table>\n",
       "<p>1704 rows × 4 columns</p>\n",
       "</div>"
      ],
      "text/plain": [
       "                                                     t_lc  \\\n",
       "id                                                          \n",
       "gq5qxq  [-4.2211347, -3.2346933, 4.106688, -4.6284866,...   \n",
       "gq5r1n  [-0.59724605, 0.045252368, 0.42557347, -0.2874...   \n",
       "gq5tf9  [-0.25366855, -0.023278378, 1.4053621, -1.8319...   \n",
       "gq5vj7  [-5.9038677, -6.217436, 5.5183806, -2.4951742,...   \n",
       "gq5wyk  [-1.8943088, 0.039124668, 0.6627472, 0.6592024...   \n",
       "...                                                   ...   \n",
       "gxrepo  [-8.992483, -3.947889, 7.3025317, -11.3309765,...   \n",
       "gxro4y  [-1.5813004, -1.7788306, 1.943061, 0.001381754...   \n",
       "gxrvrz  [-4.069997, -5.479481, 6.6955786, -3.5458221, ...   \n",
       "gxrzxh  [-2.8349352, -0.89818543, 1.9146793, -0.693764...   \n",
       "gxs5ks  [-4.23675, -3.0329466, 0.8071625, -4.8736043, ...   \n",
       "\n",
       "                                                     c_lc  \\\n",
       "id                                                          \n",
       "gq5qxq  [-0.51808476, 0.0073981746, 0.38947615, -0.839...   \n",
       "gq5r1n  [-1.112803, 0.5451723, 0.41355494, -0.42312628...   \n",
       "gq5tf9  [-0.5479347, -0.45367637, -0.73892784, -1.4348...   \n",
       "gq5vj7  [-1.667027, -1.2814567, 0.769921, -1.3686498, ...   \n",
       "gq5wyk  [-1.5386828, -0.9547632, -0.1286468, 0.2768085...   \n",
       "...                                                   ...   \n",
       "gxrepo  [-2.5596943, -2.250828, 0.5942541, -0.3135411,...   \n",
       "gxro4y  [-103.586685, -44.67759, 75.19151, -56.09118, ...   \n",
       "gxrvrz  [-6.331843, -4.9411883, 10.414454, -7.539891, ...   \n",
       "gxrzxh  [-3.738345, -2.3382869, 2.9431949, -2.5634456,...   \n",
       "gxs5ks  [-1.9104276, -1.3502709, 1.1346931, -2.4190605...   \n",
       "\n",
       "                                                   output  creepy  \n",
       "id                                                                 \n",
       "gq5qxq  [-4.7392197, -3.2272952, 4.4961643, -5.4679465...       0  \n",
       "gq5r1n  [-1.710049, 0.59042466, 0.8391284, -0.71056265...       0  \n",
       "gq5tf9  [-0.80160326, -0.47695476, 0.6664343, -3.26680...       0  \n",
       "gq5vj7  [-7.5708947, -7.498893, 6.2883015, -3.863824, ...       0  \n",
       "gq5wyk  [-3.4329915, -0.9156385, 0.5341004, 0.936011, ...       0  \n",
       "...                                                   ...     ...  \n",
       "gxrepo  [-11.552177, -6.198717, 7.8967857, -11.644518,...       0  \n",
       "gxro4y  [-105.167984, -46.45642, 77.134575, -56.089798...       0  \n",
       "gxrvrz  [-10.40184, -10.42067, 17.110033, -11.085712, ...       0  \n",
       "gxrzxh  [-6.5732803, -3.2364724, 4.857874, -3.2572098,...       0  \n",
       "gxs5ks  [-6.1471777, -4.3832173, 1.9418557, -7.2926645...       0  \n",
       "\n",
       "[1704 rows x 4 columns]"
      ]
     },
     "execution_count": 3,
     "metadata": {},
     "output_type": "execute_result"
    }
   ],
   "source": [
    "confessionslc['creepy'] = 0\n",
    "confessionslc"
   ]
  },
  {
   "cell_type": "code",
   "execution_count": 4,
   "metadata": {},
   "outputs": [],
   "source": [
    "import tensorflow as tf\n",
    "from tensorflow import keras"
   ]
  },
  {
   "cell_type": "code",
   "execution_count": 5,
   "metadata": {},
   "outputs": [
    {
     "data": {
      "text/plain": [
       "'2.3.1'"
      ]
     },
     "execution_count": 5,
     "metadata": {},
     "output_type": "execute_result"
    }
   ],
   "source": [
    "tf.__version__"
   ]
  },
  {
   "cell_type": "code",
   "execution_count": 6,
   "metadata": {},
   "outputs": [
    {
     "data": {
      "text/plain": [
       "'2.4.0'"
      ]
     },
     "execution_count": 6,
     "metadata": {},
     "output_type": "execute_result"
    }
   ],
   "source": [
    "keras.__version__"
   ]
  },
  {
   "cell_type": "markdown",
   "metadata": {},
   "source": [
    "# Append two subreddits' data, and shuffle them to get X_full and y_full"
   ]
  },
  {
   "cell_type": "code",
   "execution_count": 48,
   "metadata": {},
   "outputs": [
    {
     "name": "stdout",
     "output_type": "stream",
     "text": [
      "nosleeplc's shape: (1632, 768)\n",
      "confessionslc's shape: (1704, 768)\n",
      "Total length: 3336\n"
     ]
    }
   ],
   "source": [
    "import numpy as np\n",
    "X = np.append(np.array(nosleeplc['output'].tolist()), np.array(confessionslc['output'].tolist()), axis = 0)\n",
    "print(f\"nosleeplc\\'s shape: {np.array(nosleeplc['output'].tolist()).shape}\")\n",
    "print(f\"confessionslc\\'s shape: {np.array(confessionslc['output'].tolist()).shape}\")\n",
    "print(f\"Total length: {np.array(nosleeplc['output'].tolist()).shape[0] + np.array(confessionslc['output'].tolist()).shape[0]}\")"
   ]
  },
  {
   "cell_type": "code",
   "execution_count": 45,
   "metadata": {},
   "outputs": [
    {
     "data": {
      "text/plain": [
       "array([[ 1.0000000e+00, -5.1797516e+01, -4.2502247e+01, ...,\n",
       "        -2.4768902e+01,  1.5113863e+01, -4.0954178e+01],\n",
       "       [ 2.0000000e+00, -3.1305923e+01, -4.1487946e+01, ...,\n",
       "        -5.0700655e+00,  2.0892849e+01, -3.5397038e+01],\n",
       "       [ 3.0000000e+00, -4.0235737e+01, -3.0728949e+01, ...,\n",
       "        -5.0687575e+00, -2.6036220e+00, -4.5102070e+01],\n",
       "       ...,\n",
       "       [ 3.3340000e+03, -1.0401840e+01, -1.0420670e+01, ...,\n",
       "        -1.2802319e+01,  2.4966426e+00, -1.9309353e+01],\n",
       "       [ 3.3350000e+03, -6.5732803e+00, -3.2364724e+00, ...,\n",
       "        -2.4223187e+00,  1.6510391e+00, -6.2416754e+00],\n",
       "       [ 3.3360000e+03, -6.1471777e+00, -4.3832173e+00, ...,\n",
       "        -3.9113390e+00,  3.0790896e+00, -9.7029152e+00]], dtype=float32)"
      ]
     },
     "execution_count": 45,
     "metadata": {},
     "output_type": "execute_result"
    }
   ],
   "source": [
    "idx = [i for i in range(1,len(X)+1)]\n",
    "X_idx = np.insert(X, 0, idx, axis=1)\n",
    "X_idx"
   ]
  },
  {
   "cell_type": "code",
   "execution_count": 68,
   "metadata": {},
   "outputs": [
    {
     "data": {
      "text/plain": [
       "(3336,)"
      ]
     },
     "execution_count": 68,
     "metadata": {},
     "output_type": "execute_result"
    }
   ],
   "source": [
    "y = np.append(np.ones(1632).transpose(), np.zeros(1704).transpose(), axis = 0)"
   ]
  },
  {
   "cell_type": "code",
   "execution_count": 60,
   "metadata": {},
   "outputs": [],
   "source": [
    "np.random.shuffle(X_idx)"
   ]
  },
  {
   "cell_type": "code",
   "execution_count": 73,
   "metadata": {},
   "outputs": [
    {
     "data": {
      "text/plain": [
       "array([[-4.25634289e+00, -6.63479233e+00,  3.91760850e+00, ...,\n",
       "        -9.94518518e-01,  4.20845222e+00,  1.24389601e+00],\n",
       "       [-3.48754358e+00, -2.29194093e+00,  2.14833474e+00, ...,\n",
       "         1.73340750e+00,  3.20545936e+00, -2.43628979e+00],\n",
       "       [-4.11267776e+01, -3.20942268e+01,  3.13889275e+01, ...,\n",
       "        -1.59926214e+01,  1.49328957e+01, -3.67476883e+01],\n",
       "       ...,\n",
       "       [-2.27444626e+02, -1.63983902e+02,  1.50534790e+02, ...,\n",
       "        -5.94532471e+01,  1.10993896e+02, -2.30283966e+02],\n",
       "       [-1.43810165e+00, -1.18562925e+00,  3.34490776e+00, ...,\n",
       "        -8.50201845e-01,  1.53138876e-01, -2.13089228e+00],\n",
       "       [-3.74408798e+01, -2.39914036e+01,  2.98210793e+01, ...,\n",
       "        -7.09231949e+00,  1.91469784e+01, -1.14696865e+01]], dtype=float32)"
      ]
     },
     "execution_count": 73,
     "metadata": {},
     "output_type": "execute_result"
    }
   ],
   "source": [
    "X_full = X_idx[..., 1:] \n",
    "X_full"
   ]
  },
  {
   "cell_type": "code",
   "execution_count": 74,
   "metadata": {},
   "outputs": [],
   "source": [
    "y_full = y[X_idx[:,0].astype('int64') - 1]"
   ]
  },
  {
   "cell_type": "code",
   "execution_count": 75,
   "metadata": {},
   "outputs": [
    {
     "name": "stdout",
     "output_type": "stream",
     "text": [
      "X_full's shape: (3336, 768)\n",
      "y_full's shape: (3336,)\n"
     ]
    }
   ],
   "source": [
    "print(f\"X_full\\'s shape: {X_full.shape}\")\n",
    "print(f\"y_full\\'s shape: {y_full.shape}\")"
   ]
  },
  {
   "cell_type": "code",
   "execution_count": 90,
   "metadata": {},
   "outputs": [],
   "source": [
    "X_train, X_valid, y_train, y_valid = X_full[:2600], X_full[2600:3000], y_full[:2600], y_full[2600:3000]\n",
    "X_test, y_test = X_full[3000:], y_full[3000:]"
   ]
  },
  {
   "cell_type": "code",
   "execution_count": 81,
   "metadata": {},
   "outputs": [],
   "source": [
    "model = keras.models.Sequential()\n",
    "model.add(keras.layers.Flatten(input_shape=[768]))\n",
    "model.add(keras.layers.Dense(300, activation='relu'))\n",
    "model.add(keras.layers.Dense(100, activation='relu'))\n",
    "model.add(keras.layers.Dense(10, activation='softmax'))"
   ]
  },
  {
   "cell_type": "code",
   "execution_count": 82,
   "metadata": {},
   "outputs": [
    {
     "name": "stdout",
     "output_type": "stream",
     "text": [
      "Model: \"sequential_2\"\n",
      "_________________________________________________________________\n",
      "Layer (type)                 Output Shape              Param #   \n",
      "=================================================================\n",
      "flatten_1 (Flatten)          (None, 768)               0         \n",
      "_________________________________________________________________\n",
      "dense (Dense)                (None, 300)               230700    \n",
      "_________________________________________________________________\n",
      "dense_1 (Dense)              (None, 100)               30100     \n",
      "_________________________________________________________________\n",
      "dense_2 (Dense)              (None, 10)                1010      \n",
      "=================================================================\n",
      "Total params: 261,810\n",
      "Trainable params: 261,810\n",
      "Non-trainable params: 0\n",
      "_________________________________________________________________\n"
     ]
    }
   ],
   "source": [
    "model.summary()"
   ]
  },
  {
   "cell_type": "code",
   "execution_count": 83,
   "metadata": {},
   "outputs": [
    {
     "data": {
      "text/plain": [
       "[<tensorflow.python.keras.layers.core.Flatten at 0x7f021ec8beb0>,\n",
       " <tensorflow.python.keras.layers.core.Dense at 0x7f021ec8b8e0>,\n",
       " <tensorflow.python.keras.layers.core.Dense at 0x7f021ecc5a00>,\n",
       " <tensorflow.python.keras.layers.core.Dense at 0x7f021ecc5b50>]"
      ]
     },
     "execution_count": 83,
     "metadata": {},
     "output_type": "execute_result"
    }
   ],
   "source": [
    "model.layers"
   ]
  },
  {
   "cell_type": "code",
   "execution_count": 85,
   "metadata": {},
   "outputs": [],
   "source": [
    "model.compile(loss = \"sparse_categorical_crossentropy\",\n",
    "             optimizer=\"sgd\",\n",
    "             metrics=['accuracy'])"
   ]
  },
  {
   "cell_type": "code",
   "execution_count": 91,
   "metadata": {},
   "outputs": [
    {
     "name": "stdout",
     "output_type": "stream",
     "text": [
      "Epoch 1/30\n",
      "82/82 [==============================] - 0s 2ms/step - loss: nan - accuracy: 0.5169 - val_loss: nan - val_accuracy: 0.4800\n",
      "Epoch 2/30\n",
      "82/82 [==============================] - 0s 1ms/step - loss: nan - accuracy: 0.5169 - val_loss: nan - val_accuracy: 0.4800\n",
      "Epoch 3/30\n",
      "82/82 [==============================] - 0s 1ms/step - loss: nan - accuracy: 0.5169 - val_loss: nan - val_accuracy: 0.4800\n",
      "Epoch 4/30\n",
      "82/82 [==============================] - 0s 1ms/step - loss: nan - accuracy: 0.5169 - val_loss: nan - val_accuracy: 0.4800\n",
      "Epoch 5/30\n",
      "82/82 [==============================] - 0s 1ms/step - loss: nan - accuracy: 0.5169 - val_loss: nan - val_accuracy: 0.4800\n",
      "Epoch 6/30\n",
      "82/82 [==============================] - 0s 1ms/step - loss: nan - accuracy: 0.5169 - val_loss: nan - val_accuracy: 0.4800\n",
      "Epoch 7/30\n",
      "82/82 [==============================] - 0s 1ms/step - loss: nan - accuracy: 0.5169 - val_loss: nan - val_accuracy: 0.4800\n",
      "Epoch 8/30\n",
      "82/82 [==============================] - 0s 1ms/step - loss: nan - accuracy: 0.5169 - val_loss: nan - val_accuracy: 0.4800\n",
      "Epoch 9/30\n",
      "82/82 [==============================] - 0s 1ms/step - loss: nan - accuracy: 0.5169 - val_loss: nan - val_accuracy: 0.4800\n",
      "Epoch 10/30\n",
      "82/82 [==============================] - 0s 1ms/step - loss: nan - accuracy: 0.5169 - val_loss: nan - val_accuracy: 0.4800\n",
      "Epoch 11/30\n",
      "82/82 [==============================] - 0s 1ms/step - loss: nan - accuracy: 0.5169 - val_loss: nan - val_accuracy: 0.4800\n",
      "Epoch 12/30\n",
      "82/82 [==============================] - 0s 1ms/step - loss: nan - accuracy: 0.5169 - val_loss: nan - val_accuracy: 0.4800\n",
      "Epoch 13/30\n",
      "82/82 [==============================] - 0s 1ms/step - loss: nan - accuracy: 0.5169 - val_loss: nan - val_accuracy: 0.4800\n",
      "Epoch 14/30\n",
      "82/82 [==============================] - 0s 1ms/step - loss: nan - accuracy: 0.5169 - val_loss: nan - val_accuracy: 0.4800\n",
      "Epoch 15/30\n",
      "82/82 [==============================] - 0s 1ms/step - loss: nan - accuracy: 0.5169 - val_loss: nan - val_accuracy: 0.4800\n",
      "Epoch 16/30\n",
      "82/82 [==============================] - 0s 1ms/step - loss: nan - accuracy: 0.5169 - val_loss: nan - val_accuracy: 0.4800\n",
      "Epoch 17/30\n",
      "82/82 [==============================] - 0s 1ms/step - loss: nan - accuracy: 0.5169 - val_loss: nan - val_accuracy: 0.4800\n",
      "Epoch 18/30\n",
      "82/82 [==============================] - 0s 1ms/step - loss: nan - accuracy: 0.5169 - val_loss: nan - val_accuracy: 0.4800\n",
      "Epoch 19/30\n",
      "82/82 [==============================] - 0s 1ms/step - loss: nan - accuracy: 0.5169 - val_loss: nan - val_accuracy: 0.4800\n",
      "Epoch 20/30\n",
      "82/82 [==============================] - 0s 1ms/step - loss: nan - accuracy: 0.5169 - val_loss: nan - val_accuracy: 0.4800\n",
      "Epoch 21/30\n",
      "82/82 [==============================] - 0s 1ms/step - loss: nan - accuracy: 0.5169 - val_loss: nan - val_accuracy: 0.4800\n",
      "Epoch 22/30\n",
      "82/82 [==============================] - 0s 1ms/step - loss: nan - accuracy: 0.5169 - val_loss: nan - val_accuracy: 0.4800\n",
      "Epoch 23/30\n",
      "82/82 [==============================] - 0s 1ms/step - loss: nan - accuracy: 0.5169 - val_loss: nan - val_accuracy: 0.4800\n",
      "Epoch 24/30\n",
      "82/82 [==============================] - 0s 1ms/step - loss: nan - accuracy: 0.5169 - val_loss: nan - val_accuracy: 0.4800\n",
      "Epoch 25/30\n",
      "82/82 [==============================] - 0s 1ms/step - loss: nan - accuracy: 0.5169 - val_loss: nan - val_accuracy: 0.4800\n",
      "Epoch 26/30\n",
      "82/82 [==============================] - 0s 1ms/step - loss: nan - accuracy: 0.5169 - val_loss: nan - val_accuracy: 0.4800\n",
      "Epoch 27/30\n",
      "82/82 [==============================] - 0s 1ms/step - loss: nan - accuracy: 0.5169 - val_loss: nan - val_accuracy: 0.4800\n",
      "Epoch 28/30\n",
      "82/82 [==============================] - 0s 1ms/step - loss: nan - accuracy: 0.5169 - val_loss: nan - val_accuracy: 0.4800\n",
      "Epoch 29/30\n",
      "82/82 [==============================] - 0s 1ms/step - loss: nan - accuracy: 0.5169 - val_loss: nan - val_accuracy: 0.4800\n",
      "Epoch 30/30\n",
      "82/82 [==============================] - 0s 1ms/step - loss: nan - accuracy: 0.5169 - val_loss: nan - val_accuracy: 0.4800\n"
     ]
    }
   ],
   "source": [
    "history = model.fit(X_train, y_train, epochs = 30,\n",
    "                   validation_data=(X_valid, y_valid))"
   ]
  },
  {
   "cell_type": "code",
   "execution_count": 92,
   "metadata": {},
   "outputs": [
    {
     "data": {
      "image/png": "[encoded data removed]",
      "text/plain": [
       "<Figure size 576x360 with 1 Axes>"
      ]
     },
     "metadata": {
      "needs_background": "light"
     },
     "output_type": "display_data"
    }
   ],
   "source": [
    "import pandas as pd\n",
    "import matplotlib.pyplot as plt\n",
    "\n",
    "pd.DataFrame(history.history).plot(figsize=(8,5))\n",
    "plt.grid(True)\n",
    "plt.show()"
   ]
  },
  {
   "cell_type": "code",
   "execution_count": 93,
   "metadata": {},
   "outputs": [
    {
     "name": "stdout",
     "output_type": "stream",
     "text": [
      "11/11 [==============================] - 0s 821us/step - loss: nan - accuracy: 0.5000\n"
     ]
    },
    {
     "data": {
      "text/plain": [
       "[nan, 0.5]"
      ]
     },
     "execution_count": 93,
     "metadata": {},
     "output_type": "execute_result"
    }
   ],
   "source": [
    "model.evaluate(X_test, y_test)"
   ]
  },
  {
   "cell_type": "code",
   "execution_count": null,
   "metadata": {},
   "outputs": [],
   "source": []
  }
 ],
 "metadata": {
  "kernelspec": {
   "display_name": "creepyenv",
   "language": "python",
   "name": "creepyenv"
  },
  "language_info": {
   "codemirror_mode": {
    "name": "ipython",
    "version": 3
   },
   "file_extension": ".py",
   "mimetype": "text/x-python",
   "name": "python",
   "nbconvert_exporter": "python",
   "pygments_lexer": "ipython3",
   "version": "3.8.3"
  }
 },
 "nbformat": 4,
 "nbformat_minor": 4
}
