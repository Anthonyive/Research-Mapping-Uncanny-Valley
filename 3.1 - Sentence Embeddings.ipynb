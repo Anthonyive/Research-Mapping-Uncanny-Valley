{
 "cells": [
  {
   "cell_type": "code",
   "execution_count": 1,
   "metadata": {},
   "outputs": [
    {
     "name": "stderr",
     "output_type": "stream",
     "text": [
      "/home/anthony/anaconda3/lib/python3.8/site-packages/tqdm/std.py:668: FutureWarning: The Panel class is removed from pandas. Accessing it from the top-level namespace will also be removed in the next version\n",
      "  from pandas import Panel\n"
     ]
    }
   ],
   "source": [
    "from my_util import *\n",
    "# pandas warning is fine"
   ]
  },
  {
   "cell_type": "markdown",
   "metadata": {},
   "source": [
    "# Import Cleaned Data (Check the first part of 3 - Sentence Embeddings.ipynb for clean data)"
   ]
  },
  {
   "cell_type": "code",
   "execution_count": 2,
   "metadata": {},
   "outputs": [],
   "source": [
    "nosleep2020 = pd.read_pickle('./pickles/nosleep2020.pickle')\n",
    "confessions2020 = pd.read_pickle('./pickles/confessions2020.pickle')\n",
    "nosleep_comments = pd.read_pickle('./pickles/nosleep_comments.pickle')\n",
    "confessions_comments = pd.read_pickle('./pickles/confessions_comments.pickle')"
   ]
  },
  {
   "cell_type": "code",
   "execution_count": 3,
   "metadata": {},
   "outputs": [
    {
     "data": {
      "text/plain": [
       "True"
      ]
     },
     "execution_count": 3,
     "metadata": {},
     "output_type": "execute_result"
    }
   ],
   "source": [
    "spacy.prefer_gpu()"
   ]
  },
  {
   "cell_type": "code",
   "execution_count": 4,
   "metadata": {},
   "outputs": [],
   "source": [
    "import pandas as pd"
   ]
  },
  {
   "cell_type": "code",
   "execution_count": 5,
   "metadata": {},
   "outputs": [
    {
     "data": {
      "text/plain": [
       "15487"
      ]
     },
     "execution_count": 5,
     "metadata": {},
     "output_type": "execute_result"
    }
   ],
   "source": [
    "len(nosleep2020)"
   ]
  },
  {
   "cell_type": "code",
   "execution_count": 6,
   "metadata": {},
   "outputs": [
    {
     "name": "stderr",
     "output_type": "stream",
     "text": [
      "  0%|          | 75/200000 [00:04<3:15:41, 17.03it/s] \n"
     ]
    },
    {
     "ename": "KeyboardInterrupt",
     "evalue": "",
     "output_type": "error",
     "traceback": [
      "\u001b[0;31m---------------------------------------------------------------------------\u001b[0m",
      "\u001b[0;31mKeyboardInterrupt\u001b[0m                         Traceback (most recent call last)",
      "\u001b[0;32m<ipython-input-6-d28f688466a1>\u001b[0m in \u001b[0;36m<module>\u001b[0;34m\u001b[0m\n\u001b[0;32m----> 1\u001b[0;31m \u001b[0mnosleeplc\u001b[0m \u001b[0;34m=\u001b[0m \u001b[0mlc\u001b[0m\u001b[0;34m(\u001b[0m\u001b[0mnosleep2020\u001b[0m\u001b[0;34m[\u001b[0m\u001b[0;34m:\u001b[0m\u001b[0;36m2000\u001b[0m\u001b[0;34m]\u001b[0m\u001b[0;34m.\u001b[0m\u001b[0mcopy\u001b[0m\u001b[0;34m(\u001b[0m\u001b[0;34m)\u001b[0m\u001b[0;34m,\u001b[0m \u001b[0mnosleep_comments\u001b[0m\u001b[0;34m[\u001b[0m\u001b[0;34m:\u001b[0m\u001b[0;36m200000\u001b[0m\u001b[0;34m]\u001b[0m\u001b[0;34m.\u001b[0m\u001b[0mcopy\u001b[0m\u001b[0;34m(\u001b[0m\u001b[0;34m)\u001b[0m\u001b[0;34m)\u001b[0m\u001b[0;34m\u001b[0m\u001b[0;34m\u001b[0m\u001b[0m\n\u001b[0m\u001b[1;32m      2\u001b[0m \u001b[0mnosleeplc\u001b[0m\u001b[0;34m.\u001b[0m\u001b[0mto_pickle\u001b[0m\u001b[0;34m(\u001b[0m\u001b[0;34m'./pickles/nosleeplc.pickle'\u001b[0m\u001b[0;34m)\u001b[0m\u001b[0;34m\u001b[0m\u001b[0;34m\u001b[0m\u001b[0m\n",
      "\u001b[0;32m~/Documents/Research-Mapping-Uncanny-Valley/my_util.py\u001b[0m in \u001b[0;36mlc\u001b[0;34m(df, comments_df)\u001b[0m\n\u001b[1;32m     64\u001b[0m \u001b[0;34m\u001b[0m\u001b[0m\n\u001b[1;32m     65\u001b[0m \u001b[0;32mdef\u001b[0m \u001b[0mlc\u001b[0m\u001b[0;34m(\u001b[0m\u001b[0mdf\u001b[0m\u001b[0;34m,\u001b[0m \u001b[0mcomments_df\u001b[0m\u001b[0;34m)\u001b[0m\u001b[0;34m:\u001b[0m\u001b[0;34m\u001b[0m\u001b[0;34m\u001b[0m\u001b[0m\n\u001b[0;32m---> 66\u001b[0;31m     \u001b[0mdf_merged\u001b[0m \u001b[0;34m=\u001b[0m \u001b[0mlc_comments\u001b[0m\u001b[0;34m(\u001b[0m\u001b[0mcomments_df\u001b[0m\u001b[0;34m)\u001b[0m\u001b[0;34m.\u001b[0m\u001b[0mmerge\u001b[0m\u001b[0;34m(\u001b[0m\u001b[0msum_vec_df\u001b[0m\u001b[0;34m(\u001b[0m\u001b[0mdf\u001b[0m\u001b[0;34m)\u001b[0m\u001b[0;34m,\u001b[0m \u001b[0mleft_on\u001b[0m\u001b[0;34m=\u001b[0m\u001b[0;34m'parent_id'\u001b[0m\u001b[0;34m,\u001b[0m \u001b[0mright_on\u001b[0m\u001b[0;34m=\u001b[0m\u001b[0;34m'id'\u001b[0m\u001b[0;34m)\u001b[0m\u001b[0;34m\u001b[0m\u001b[0;34m\u001b[0m\u001b[0m\n\u001b[0m\u001b[1;32m     67\u001b[0m     \u001b[0mdf_merged\u001b[0m\u001b[0;34m.\u001b[0m\u001b[0mcolumns\u001b[0m \u001b[0;34m=\u001b[0m \u001b[0;34m[\u001b[0m\u001b[0;34m'parent_id'\u001b[0m\u001b[0;34m,\u001b[0m \u001b[0;34m'comment'\u001b[0m\u001b[0;34m,\u001b[0m \u001b[0;34m'c_score'\u001b[0m\u001b[0;34m,\u001b[0m \u001b[0;34m'c_sum_vec'\u001b[0m\u001b[0;34m,\u001b[0m \u001b[0;34m'c_lc'\u001b[0m\u001b[0;34m,\u001b[0m \u001b[0;34m'id'\u001b[0m\u001b[0;34m,\u001b[0m \u001b[0;34m'title'\u001b[0m\u001b[0;34m,\u001b[0m \u001b[0;34m'selftext'\u001b[0m\u001b[0;34m,\u001b[0m \u001b[0;34m't_score'\u001b[0m\u001b[0;34m,\u001b[0m \u001b[0;34m't_sum_vec'\u001b[0m\u001b[0;34m]\u001b[0m\u001b[0;34m\u001b[0m\u001b[0;34m\u001b[0m\u001b[0m\n\u001b[1;32m     68\u001b[0m     \u001b[0mcomment_lc\u001b[0m \u001b[0;34m=\u001b[0m \u001b[0mpd\u001b[0m\u001b[0;34m.\u001b[0m\u001b[0mDataFrame\u001b[0m\u001b[0;34m(\u001b[0m\u001b[0mdf_merged\u001b[0m\u001b[0;34m.\u001b[0m\u001b[0mgroupby\u001b[0m\u001b[0;34m(\u001b[0m\u001b[0;34m[\u001b[0m\u001b[0;34m'id'\u001b[0m\u001b[0;34m]\u001b[0m\u001b[0;34m)\u001b[0m\u001b[0;34m[\u001b[0m\u001b[0;34m'c_lc'\u001b[0m\u001b[0;34m]\u001b[0m\u001b[0;34m.\u001b[0m\u001b[0mapply\u001b[0m\u001b[0;34m(\u001b[0m\u001b[0mnp\u001b[0m\u001b[0;34m.\u001b[0m\u001b[0msum\u001b[0m\u001b[0;34m)\u001b[0m\u001b[0;34m)\u001b[0m\u001b[0;34m\u001b[0m\u001b[0;34m\u001b[0m\u001b[0m\n",
      "\u001b[0;32m~/Documents/Research-Mapping-Uncanny-Valley/my_util.py\u001b[0m in \u001b[0;36mlc_comments\u001b[0;34m(comments_df)\u001b[0m\n\u001b[1;32m     48\u001b[0m \u001b[0;31m# for example, (sum vec of a comment) * score, and add them all up for each post\u001b[0m\u001b[0;34m\u001b[0m\u001b[0;34m\u001b[0m\u001b[0;34m\u001b[0m\u001b[0m\n\u001b[1;32m     49\u001b[0m \u001b[0;32mdef\u001b[0m \u001b[0mlc_comments\u001b[0m\u001b[0;34m(\u001b[0m\u001b[0mcomments_df\u001b[0m\u001b[0;34m)\u001b[0m\u001b[0;34m:\u001b[0m\u001b[0;34m\u001b[0m\u001b[0;34m\u001b[0m\u001b[0m\n\u001b[0;32m---> 50\u001b[0;31m     \u001b[0mcomments_df\u001b[0m\u001b[0;34m.\u001b[0m\u001b[0mloc\u001b[0m\u001b[0;34m[\u001b[0m\u001b[0;34m:\u001b[0m\u001b[0;34m,\u001b[0m\u001b[0;34m'sum_vec'\u001b[0m\u001b[0;34m]\u001b[0m \u001b[0;34m=\u001b[0m \u001b[0mcomments_df\u001b[0m\u001b[0;34m.\u001b[0m\u001b[0mprogress_apply\u001b[0m\u001b[0;34m(\u001b[0m\u001b[0;32mlambda\u001b[0m \u001b[0mx\u001b[0m\u001b[0;34m:\u001b[0m \u001b[0msum_vec\u001b[0m\u001b[0;34m(\u001b[0m\u001b[0mx\u001b[0m\u001b[0;34m[\u001b[0m\u001b[0;34m'body'\u001b[0m\u001b[0;34m]\u001b[0m\u001b[0;34m)\u001b[0m\u001b[0;34m,\u001b[0m \u001b[0maxis\u001b[0m\u001b[0;34m=\u001b[0m\u001b[0;36m1\u001b[0m\u001b[0;34m)\u001b[0m\u001b[0;34m\u001b[0m\u001b[0;34m\u001b[0m\u001b[0m\n\u001b[0m\u001b[1;32m     51\u001b[0m \u001b[0;34m\u001b[0m\u001b[0m\n\u001b[1;32m     52\u001b[0m     \u001b[0mcomments_df\u001b[0m\u001b[0;34m.\u001b[0m\u001b[0mloc\u001b[0m\u001b[0;34m[\u001b[0m\u001b[0;34m:\u001b[0m\u001b[0;34m,\u001b[0m\u001b[0;34m'score'\u001b[0m\u001b[0;34m]\u001b[0m \u001b[0;34m=\u001b[0m \u001b[0mpd\u001b[0m\u001b[0;34m.\u001b[0m\u001b[0mto_numeric\u001b[0m\u001b[0;34m(\u001b[0m\u001b[0mcomments_df\u001b[0m\u001b[0;34m.\u001b[0m\u001b[0mloc\u001b[0m\u001b[0;34m[\u001b[0m\u001b[0;34m:\u001b[0m\u001b[0;34m,\u001b[0m\u001b[0;34m'score'\u001b[0m\u001b[0;34m]\u001b[0m\u001b[0;34m)\u001b[0m\u001b[0;34m\u001b[0m\u001b[0;34m\u001b[0m\u001b[0m\n",
      "\u001b[0;32m~/anaconda3/lib/python3.8/site-packages/tqdm/std.py\u001b[0m in \u001b[0;36minner\u001b[0;34m(df, func, *args, **kwargs)\u001b[0m\n\u001b[1;32m    765\u001b[0m                 \u001b[0;31m# on the df using our wrapper (which provides bar updating)\u001b[0m\u001b[0;34m\u001b[0m\u001b[0;34m\u001b[0m\u001b[0;34m\u001b[0m\u001b[0m\n\u001b[1;32m    766\u001b[0m                 \u001b[0;32mtry\u001b[0m\u001b[0;34m:\u001b[0m\u001b[0;34m\u001b[0m\u001b[0;34m\u001b[0m\u001b[0m\n\u001b[0;32m--> 767\u001b[0;31m                     \u001b[0;32mreturn\u001b[0m \u001b[0mgetattr\u001b[0m\u001b[0;34m(\u001b[0m\u001b[0mdf\u001b[0m\u001b[0;34m,\u001b[0m \u001b[0mdf_function\u001b[0m\u001b[0;34m)\u001b[0m\u001b[0;34m(\u001b[0m\u001b[0mwrapper\u001b[0m\u001b[0;34m,\u001b[0m \u001b[0;34m**\u001b[0m\u001b[0mkwargs\u001b[0m\u001b[0;34m)\u001b[0m\u001b[0;34m\u001b[0m\u001b[0;34m\u001b[0m\u001b[0m\n\u001b[0m\u001b[1;32m    768\u001b[0m                 \u001b[0;32mfinally\u001b[0m\u001b[0;34m:\u001b[0m\u001b[0;34m\u001b[0m\u001b[0;34m\u001b[0m\u001b[0m\n\u001b[1;32m    769\u001b[0m                     \u001b[0mt\u001b[0m\u001b[0;34m.\u001b[0m\u001b[0mclose\u001b[0m\u001b[0;34m(\u001b[0m\u001b[0;34m)\u001b[0m\u001b[0;34m\u001b[0m\u001b[0;34m\u001b[0m\u001b[0m\n",
      "\u001b[0;32m~/anaconda3/lib/python3.8/site-packages/pandas/core/frame.py\u001b[0m in \u001b[0;36mapply\u001b[0;34m(self, func, axis, raw, result_type, args, **kwds)\u001b[0m\n\u001b[1;32m   6876\u001b[0m             \u001b[0mkwds\u001b[0m\u001b[0;34m=\u001b[0m\u001b[0mkwds\u001b[0m\u001b[0;34m,\u001b[0m\u001b[0;34m\u001b[0m\u001b[0;34m\u001b[0m\u001b[0m\n\u001b[1;32m   6877\u001b[0m         )\n\u001b[0;32m-> 6878\u001b[0;31m         \u001b[0;32mreturn\u001b[0m \u001b[0mop\u001b[0m\u001b[0;34m.\u001b[0m\u001b[0mget_result\u001b[0m\u001b[0;34m(\u001b[0m\u001b[0;34m)\u001b[0m\u001b[0;34m\u001b[0m\u001b[0;34m\u001b[0m\u001b[0m\n\u001b[0m\u001b[1;32m   6879\u001b[0m \u001b[0;34m\u001b[0m\u001b[0m\n\u001b[1;32m   6880\u001b[0m     \u001b[0;32mdef\u001b[0m \u001b[0mapplymap\u001b[0m\u001b[0;34m(\u001b[0m\u001b[0mself\u001b[0m\u001b[0;34m,\u001b[0m \u001b[0mfunc\u001b[0m\u001b[0;34m)\u001b[0m \u001b[0;34m->\u001b[0m \u001b[0;34m\"DataFrame\"\u001b[0m\u001b[0;34m:\u001b[0m\u001b[0;34m\u001b[0m\u001b[0;34m\u001b[0m\u001b[0m\n",
      "\u001b[0;32m~/anaconda3/lib/python3.8/site-packages/pandas/core/apply.py\u001b[0m in \u001b[0;36mget_result\u001b[0;34m(self)\u001b[0m\n\u001b[1;32m    184\u001b[0m             \u001b[0;32mreturn\u001b[0m \u001b[0mself\u001b[0m\u001b[0;34m.\u001b[0m\u001b[0mapply_raw\u001b[0m\u001b[0;34m(\u001b[0m\u001b[0;34m)\u001b[0m\u001b[0;34m\u001b[0m\u001b[0;34m\u001b[0m\u001b[0m\n\u001b[1;32m    185\u001b[0m \u001b[0;34m\u001b[0m\u001b[0m\n\u001b[0;32m--> 186\u001b[0;31m         \u001b[0;32mreturn\u001b[0m \u001b[0mself\u001b[0m\u001b[0;34m.\u001b[0m\u001b[0mapply_standard\u001b[0m\u001b[0;34m(\u001b[0m\u001b[0;34m)\u001b[0m\u001b[0;34m\u001b[0m\u001b[0;34m\u001b[0m\u001b[0m\n\u001b[0m\u001b[1;32m    187\u001b[0m \u001b[0;34m\u001b[0m\u001b[0m\n\u001b[1;32m    188\u001b[0m     \u001b[0;32mdef\u001b[0m \u001b[0mapply_empty_result\u001b[0m\u001b[0;34m(\u001b[0m\u001b[0mself\u001b[0m\u001b[0;34m)\u001b[0m\u001b[0;34m:\u001b[0m\u001b[0;34m\u001b[0m\u001b[0;34m\u001b[0m\u001b[0m\n",
      "\u001b[0;32m~/anaconda3/lib/python3.8/site-packages/pandas/core/apply.py\u001b[0m in \u001b[0;36mapply_standard\u001b[0;34m(self)\u001b[0m\n\u001b[1;32m    311\u001b[0m \u001b[0;34m\u001b[0m\u001b[0m\n\u001b[1;32m    312\u001b[0m         \u001b[0;31m# compute the result using the series generator\u001b[0m\u001b[0;34m\u001b[0m\u001b[0;34m\u001b[0m\u001b[0;34m\u001b[0m\u001b[0m\n\u001b[0;32m--> 313\u001b[0;31m         \u001b[0mresults\u001b[0m\u001b[0;34m,\u001b[0m \u001b[0mres_index\u001b[0m \u001b[0;34m=\u001b[0m \u001b[0mself\u001b[0m\u001b[0;34m.\u001b[0m\u001b[0mapply_series_generator\u001b[0m\u001b[0;34m(\u001b[0m\u001b[0;34m)\u001b[0m\u001b[0;34m\u001b[0m\u001b[0;34m\u001b[0m\u001b[0m\n\u001b[0m\u001b[1;32m    314\u001b[0m \u001b[0;34m\u001b[0m\u001b[0m\n\u001b[1;32m    315\u001b[0m         \u001b[0;31m# wrap results\u001b[0m\u001b[0;34m\u001b[0m\u001b[0;34m\u001b[0m\u001b[0;34m\u001b[0m\u001b[0m\n",
      "\u001b[0;32m~/anaconda3/lib/python3.8/site-packages/pandas/core/apply.py\u001b[0m in \u001b[0;36mapply_series_generator\u001b[0;34m(self)\u001b[0m\n\u001b[1;32m    339\u001b[0m         \u001b[0;32melse\u001b[0m\u001b[0;34m:\u001b[0m\u001b[0;34m\u001b[0m\u001b[0;34m\u001b[0m\u001b[0m\n\u001b[1;32m    340\u001b[0m             \u001b[0;32mfor\u001b[0m \u001b[0mi\u001b[0m\u001b[0;34m,\u001b[0m \u001b[0mv\u001b[0m \u001b[0;32min\u001b[0m \u001b[0menumerate\u001b[0m\u001b[0;34m(\u001b[0m\u001b[0mseries_gen\u001b[0m\u001b[0;34m)\u001b[0m\u001b[0;34m:\u001b[0m\u001b[0;34m\u001b[0m\u001b[0;34m\u001b[0m\u001b[0m\n\u001b[0;32m--> 341\u001b[0;31m                 \u001b[0mresults\u001b[0m\u001b[0;34m[\u001b[0m\u001b[0mi\u001b[0m\u001b[0;34m]\u001b[0m \u001b[0;34m=\u001b[0m \u001b[0mself\u001b[0m\u001b[0;34m.\u001b[0m\u001b[0mf\u001b[0m\u001b[0;34m(\u001b[0m\u001b[0mv\u001b[0m\u001b[0;34m)\u001b[0m\u001b[0;34m\u001b[0m\u001b[0;34m\u001b[0m\u001b[0m\n\u001b[0m\u001b[1;32m    342\u001b[0m                 \u001b[0mkeys\u001b[0m\u001b[0;34m.\u001b[0m\u001b[0mappend\u001b[0m\u001b[0;34m(\u001b[0m\u001b[0mv\u001b[0m\u001b[0;34m.\u001b[0m\u001b[0mname\u001b[0m\u001b[0;34m)\u001b[0m\u001b[0;34m\u001b[0m\u001b[0;34m\u001b[0m\u001b[0m\n\u001b[1;32m    343\u001b[0m \u001b[0;34m\u001b[0m\u001b[0m\n",
      "\u001b[0;32m~/anaconda3/lib/python3.8/site-packages/tqdm/std.py\u001b[0m in \u001b[0;36mwrapper\u001b[0;34m(*args, **kwargs)\u001b[0m\n\u001b[1;32m    760\u001b[0m                     \u001b[0;31m# take a fast or slow code path; so stop when t.total==t.n\u001b[0m\u001b[0;34m\u001b[0m\u001b[0;34m\u001b[0m\u001b[0;34m\u001b[0m\u001b[0m\n\u001b[1;32m    761\u001b[0m                     \u001b[0mt\u001b[0m\u001b[0;34m.\u001b[0m\u001b[0mupdate\u001b[0m\u001b[0;34m(\u001b[0m\u001b[0mn\u001b[0m\u001b[0;34m=\u001b[0m\u001b[0;36m1\u001b[0m \u001b[0;32mif\u001b[0m \u001b[0;32mnot\u001b[0m \u001b[0mt\u001b[0m\u001b[0;34m.\u001b[0m\u001b[0mtotal\u001b[0m \u001b[0;32mor\u001b[0m \u001b[0mt\u001b[0m\u001b[0;34m.\u001b[0m\u001b[0mn\u001b[0m \u001b[0;34m<\u001b[0m \u001b[0mt\u001b[0m\u001b[0;34m.\u001b[0m\u001b[0mtotal\u001b[0m \u001b[0;32melse\u001b[0m \u001b[0;36m0\u001b[0m\u001b[0;34m)\u001b[0m\u001b[0;34m\u001b[0m\u001b[0;34m\u001b[0m\u001b[0m\n\u001b[0;32m--> 762\u001b[0;31m                     \u001b[0;32mreturn\u001b[0m \u001b[0mfunc\u001b[0m\u001b[0;34m(\u001b[0m\u001b[0;34m*\u001b[0m\u001b[0margs\u001b[0m\u001b[0;34m,\u001b[0m \u001b[0;34m**\u001b[0m\u001b[0mkwargs\u001b[0m\u001b[0;34m)\u001b[0m\u001b[0;34m\u001b[0m\u001b[0;34m\u001b[0m\u001b[0m\n\u001b[0m\u001b[1;32m    763\u001b[0m \u001b[0;34m\u001b[0m\u001b[0m\n\u001b[1;32m    764\u001b[0m                 \u001b[0;31m# Apply the provided function (in **kwargs)\u001b[0m\u001b[0;34m\u001b[0m\u001b[0;34m\u001b[0m\u001b[0;34m\u001b[0m\u001b[0m\n",
      "\u001b[0;32m~/Documents/Research-Mapping-Uncanny-Valley/my_util.py\u001b[0m in \u001b[0;36m<lambda>\u001b[0;34m(x)\u001b[0m\n\u001b[1;32m     48\u001b[0m \u001b[0;31m# for example, (sum vec of a comment) * score, and add them all up for each post\u001b[0m\u001b[0;34m\u001b[0m\u001b[0;34m\u001b[0m\u001b[0;34m\u001b[0m\u001b[0m\n\u001b[1;32m     49\u001b[0m \u001b[0;32mdef\u001b[0m \u001b[0mlc_comments\u001b[0m\u001b[0;34m(\u001b[0m\u001b[0mcomments_df\u001b[0m\u001b[0;34m)\u001b[0m\u001b[0;34m:\u001b[0m\u001b[0;34m\u001b[0m\u001b[0;34m\u001b[0m\u001b[0m\n\u001b[0;32m---> 50\u001b[0;31m     \u001b[0mcomments_df\u001b[0m\u001b[0;34m.\u001b[0m\u001b[0mloc\u001b[0m\u001b[0;34m[\u001b[0m\u001b[0;34m:\u001b[0m\u001b[0;34m,\u001b[0m\u001b[0;34m'sum_vec'\u001b[0m\u001b[0;34m]\u001b[0m \u001b[0;34m=\u001b[0m \u001b[0mcomments_df\u001b[0m\u001b[0;34m.\u001b[0m\u001b[0mprogress_apply\u001b[0m\u001b[0;34m(\u001b[0m\u001b[0;32mlambda\u001b[0m \u001b[0mx\u001b[0m\u001b[0;34m:\u001b[0m \u001b[0msum_vec\u001b[0m\u001b[0;34m(\u001b[0m\u001b[0mx\u001b[0m\u001b[0;34m[\u001b[0m\u001b[0;34m'body'\u001b[0m\u001b[0;34m]\u001b[0m\u001b[0;34m)\u001b[0m\u001b[0;34m,\u001b[0m \u001b[0maxis\u001b[0m\u001b[0;34m=\u001b[0m\u001b[0;36m1\u001b[0m\u001b[0;34m)\u001b[0m\u001b[0;34m\u001b[0m\u001b[0;34m\u001b[0m\u001b[0m\n\u001b[0m\u001b[1;32m     51\u001b[0m \u001b[0;34m\u001b[0m\u001b[0m\n\u001b[1;32m     52\u001b[0m     \u001b[0mcomments_df\u001b[0m\u001b[0;34m.\u001b[0m\u001b[0mloc\u001b[0m\u001b[0;34m[\u001b[0m\u001b[0;34m:\u001b[0m\u001b[0;34m,\u001b[0m\u001b[0;34m'score'\u001b[0m\u001b[0;34m]\u001b[0m \u001b[0;34m=\u001b[0m \u001b[0mpd\u001b[0m\u001b[0;34m.\u001b[0m\u001b[0mto_numeric\u001b[0m\u001b[0;34m(\u001b[0m\u001b[0mcomments_df\u001b[0m\u001b[0;34m.\u001b[0m\u001b[0mloc\u001b[0m\u001b[0;34m[\u001b[0m\u001b[0;34m:\u001b[0m\u001b[0;34m,\u001b[0m\u001b[0;34m'score'\u001b[0m\u001b[0;34m]\u001b[0m\u001b[0;34m)\u001b[0m\u001b[0;34m\u001b[0m\u001b[0;34m\u001b[0m\u001b[0m\n",
      "\u001b[0;32m~/Documents/Research-Mapping-Uncanny-Valley/my_util.py\u001b[0m in \u001b[0;36msum_vec\u001b[0;34m(text)\u001b[0m\n\u001b[1;32m     40\u001b[0m \u001b[0;31m# using sBert model and spacy to get sum of sentence vectors.\u001b[0m\u001b[0;34m\u001b[0m\u001b[0;34m\u001b[0m\u001b[0;34m\u001b[0m\u001b[0m\n\u001b[1;32m     41\u001b[0m \u001b[0;32mdef\u001b[0m \u001b[0msum_vec\u001b[0m\u001b[0;34m(\u001b[0m\u001b[0mtext\u001b[0m\u001b[0;34m)\u001b[0m\u001b[0;34m:\u001b[0m\u001b[0;34m\u001b[0m\u001b[0;34m\u001b[0m\u001b[0m\n\u001b[0;32m---> 42\u001b[0;31m     \u001b[0mdoc\u001b[0m \u001b[0;34m=\u001b[0m \u001b[0mnlp\u001b[0m\u001b[0;34m(\u001b[0m\u001b[0mtext\u001b[0m\u001b[0;34m)\u001b[0m\u001b[0;34m\u001b[0m\u001b[0;34m\u001b[0m\u001b[0m\n\u001b[0m\u001b[1;32m     43\u001b[0m     \u001b[0msentences\u001b[0m \u001b[0;34m=\u001b[0m \u001b[0;34m[\u001b[0m\u001b[0msent\u001b[0m\u001b[0;34m.\u001b[0m\u001b[0mtext\u001b[0m \u001b[0;32mfor\u001b[0m \u001b[0msent\u001b[0m \u001b[0;32min\u001b[0m \u001b[0mdoc\u001b[0m\u001b[0;34m.\u001b[0m\u001b[0msents\u001b[0m\u001b[0;34m]\u001b[0m\u001b[0;34m\u001b[0m\u001b[0;34m\u001b[0m\u001b[0m\n\u001b[1;32m     44\u001b[0m     \u001b[0mcomment_vec\u001b[0m \u001b[0;34m=\u001b[0m \u001b[0mmodel\u001b[0m\u001b[0;34m.\u001b[0m\u001b[0mencode\u001b[0m\u001b[0;34m(\u001b[0m\u001b[0msentences\u001b[0m\u001b[0;34m)\u001b[0m\u001b[0;34m\u001b[0m\u001b[0;34m\u001b[0m\u001b[0m\n",
      "\u001b[0;32m~/anaconda3/lib/python3.8/site-packages/spacy/language.py\u001b[0m in \u001b[0;36m__call__\u001b[0;34m(self, text, disable, component_cfg)\u001b[0m\n\u001b[1;32m    447\u001b[0m             \u001b[0;32mif\u001b[0m \u001b[0;32mnot\u001b[0m \u001b[0mhasattr\u001b[0m\u001b[0;34m(\u001b[0m\u001b[0mproc\u001b[0m\u001b[0;34m,\u001b[0m \u001b[0;34m\"__call__\"\u001b[0m\u001b[0;34m)\u001b[0m\u001b[0;34m:\u001b[0m\u001b[0;34m\u001b[0m\u001b[0;34m\u001b[0m\u001b[0m\n\u001b[1;32m    448\u001b[0m                 \u001b[0;32mraise\u001b[0m \u001b[0mValueError\u001b[0m\u001b[0;34m(\u001b[0m\u001b[0mErrors\u001b[0m\u001b[0;34m.\u001b[0m\u001b[0mE003\u001b[0m\u001b[0;34m.\u001b[0m\u001b[0mformat\u001b[0m\u001b[0;34m(\u001b[0m\u001b[0mcomponent\u001b[0m\u001b[0;34m=\u001b[0m\u001b[0mtype\u001b[0m\u001b[0;34m(\u001b[0m\u001b[0mproc\u001b[0m\u001b[0;34m)\u001b[0m\u001b[0;34m,\u001b[0m \u001b[0mname\u001b[0m\u001b[0;34m=\u001b[0m\u001b[0mname\u001b[0m\u001b[0;34m)\u001b[0m\u001b[0;34m)\u001b[0m\u001b[0;34m\u001b[0m\u001b[0;34m\u001b[0m\u001b[0m\n\u001b[0;32m--> 449\u001b[0;31m             \u001b[0mdoc\u001b[0m \u001b[0;34m=\u001b[0m \u001b[0mproc\u001b[0m\u001b[0;34m(\u001b[0m\u001b[0mdoc\u001b[0m\u001b[0;34m,\u001b[0m \u001b[0;34m**\u001b[0m\u001b[0mcomponent_cfg\u001b[0m\u001b[0;34m.\u001b[0m\u001b[0mget\u001b[0m\u001b[0;34m(\u001b[0m\u001b[0mname\u001b[0m\u001b[0;34m,\u001b[0m \u001b[0;34m{\u001b[0m\u001b[0;34m}\u001b[0m\u001b[0;34m)\u001b[0m\u001b[0;34m)\u001b[0m\u001b[0;34m\u001b[0m\u001b[0;34m\u001b[0m\u001b[0m\n\u001b[0m\u001b[1;32m    450\u001b[0m             \u001b[0;32mif\u001b[0m \u001b[0mdoc\u001b[0m \u001b[0;32mis\u001b[0m \u001b[0;32mNone\u001b[0m\u001b[0;34m:\u001b[0m\u001b[0;34m\u001b[0m\u001b[0;34m\u001b[0m\u001b[0m\n\u001b[1;32m    451\u001b[0m                 \u001b[0;32mraise\u001b[0m \u001b[0mValueError\u001b[0m\u001b[0;34m(\u001b[0m\u001b[0mErrors\u001b[0m\u001b[0;34m.\u001b[0m\u001b[0mE005\u001b[0m\u001b[0;34m.\u001b[0m\u001b[0mformat\u001b[0m\u001b[0;34m(\u001b[0m\u001b[0mname\u001b[0m\u001b[0;34m=\u001b[0m\u001b[0mname\u001b[0m\u001b[0;34m)\u001b[0m\u001b[0;34m)\u001b[0m\u001b[0;34m\u001b[0m\u001b[0;34m\u001b[0m\u001b[0m\n",
      "\u001b[0;32mpipes.pyx\u001b[0m in \u001b[0;36mspacy.pipeline.pipes.Tagger.__call__\u001b[0;34m()\u001b[0m\n",
      "\u001b[0;32mpipes.pyx\u001b[0m in \u001b[0;36mspacy.pipeline.pipes.Tagger.set_annotations\u001b[0;34m()\u001b[0m\n",
      "\u001b[0;32mmorphology.pyx\u001b[0m in \u001b[0;36mspacy.morphology.Morphology.assign_tag_id\u001b[0;34m()\u001b[0m\n",
      "\u001b[0;32mmorphology.pyx\u001b[0m in \u001b[0;36mspacy.morphology.Morphology.lemmatize\u001b[0;34m()\u001b[0m\n",
      "\u001b[0;32m~/anaconda3/lib/python3.8/site-packages/spacy/lemmatizer.py\u001b[0m in \u001b[0;36m__call__\u001b[0;34m(self, string, univ_pos, morphology)\u001b[0m\n\u001b[1;32m     63\u001b[0m             \u001b[0;32melse\u001b[0m\u001b[0;34m:\u001b[0m\u001b[0;34m\u001b[0m\u001b[0;34m\u001b[0m\u001b[0m\n\u001b[1;32m     64\u001b[0m                 \u001b[0;32mreturn\u001b[0m \u001b[0;34m[\u001b[0m\u001b[0mstring\u001b[0m\u001b[0;34m.\u001b[0m\u001b[0mlower\u001b[0m\u001b[0;34m(\u001b[0m\u001b[0;34m)\u001b[0m\u001b[0;34m]\u001b[0m\u001b[0;34m\u001b[0m\u001b[0;34m\u001b[0m\u001b[0m\n\u001b[0;32m---> 65\u001b[0;31m         lemmas = self.lemmatize(\n\u001b[0m\u001b[1;32m     66\u001b[0m             \u001b[0mstring\u001b[0m\u001b[0;34m,\u001b[0m\u001b[0;34m\u001b[0m\u001b[0;34m\u001b[0m\u001b[0m\n\u001b[1;32m     67\u001b[0m             \u001b[0mindex_table\u001b[0m\u001b[0;34m.\u001b[0m\u001b[0mget\u001b[0m\u001b[0;34m(\u001b[0m\u001b[0muniv_pos\u001b[0m\u001b[0;34m,\u001b[0m \u001b[0;34m{\u001b[0m\u001b[0;34m}\u001b[0m\u001b[0;34m)\u001b[0m\u001b[0;34m,\u001b[0m\u001b[0;34m\u001b[0m\u001b[0;34m\u001b[0m\u001b[0m\n",
      "\u001b[0;32m~/anaconda3/lib/python3.8/site-packages/spacy/lemmatizer.py\u001b[0m in \u001b[0;36mlemmatize\u001b[0;34m(self, string, index, exceptions, rules)\u001b[0m\n\u001b[1;32m    121\u001b[0m                 \u001b[0;32mif\u001b[0m \u001b[0;32mnot\u001b[0m \u001b[0mform\u001b[0m\u001b[0;34m:\u001b[0m\u001b[0;34m\u001b[0m\u001b[0;34m\u001b[0m\u001b[0m\n\u001b[1;32m    122\u001b[0m                     \u001b[0;32mpass\u001b[0m\u001b[0;34m\u001b[0m\u001b[0;34m\u001b[0m\u001b[0m\n\u001b[0;32m--> 123\u001b[0;31m                 \u001b[0;32melif\u001b[0m \u001b[0mform\u001b[0m \u001b[0;32min\u001b[0m \u001b[0mindex\u001b[0m \u001b[0;32mor\u001b[0m \u001b[0;32mnot\u001b[0m \u001b[0mform\u001b[0m\u001b[0;34m.\u001b[0m\u001b[0misalpha\u001b[0m\u001b[0;34m(\u001b[0m\u001b[0;34m)\u001b[0m\u001b[0;34m:\u001b[0m\u001b[0;34m\u001b[0m\u001b[0;34m\u001b[0m\u001b[0m\n\u001b[0m\u001b[1;32m    124\u001b[0m                     \u001b[0mforms\u001b[0m\u001b[0;34m.\u001b[0m\u001b[0mappend\u001b[0m\u001b[0;34m(\u001b[0m\u001b[0mform\u001b[0m\u001b[0;34m)\u001b[0m\u001b[0;34m\u001b[0m\u001b[0;34m\u001b[0m\u001b[0m\n\u001b[1;32m    125\u001b[0m                 \u001b[0;32melse\u001b[0m\u001b[0;34m:\u001b[0m\u001b[0;34m\u001b[0m\u001b[0;34m\u001b[0m\u001b[0m\n",
      "\u001b[0;31mKeyboardInterrupt\u001b[0m: "
     ]
    }
   ],
   "source": [
    "nosleeplc = lc(nosleep2020[:2000].copy(), nosleep_comments[:200000].copy())\n",
    "nosleeplc.to_pickle('./pickles/nosleeplc.pickle')"
   ]
  },
  {
   "cell_type": "code",
   "execution_count": 9,
   "metadata": {},
   "outputs": [
    {
     "name": "stderr",
     "output_type": "stream",
     "text": [
      "100%|██████████| 200000/200000 [1:11:45<00:00, 46.46it/s]\n",
      "100%|██████████| 2000/2000 [02:25<00:00, 13.77it/s]\n"
     ]
    }
   ],
   "source": [
    "confessionslc = lc(confessions2020[:2000].copy(), confessions_comments[:200000].copy())\n",
    "confessionslc.to_pickle('./pickles/confessionslc.pickle')"
   ]
  },
  {
   "cell_type": "markdown",
   "metadata": {},
   "source": [
    "# Just read it now from here"
   ]
  },
  {
   "cell_type": "code",
   "execution_count": 1,
   "metadata": {},
   "outputs": [],
   "source": [
    "import pandas as pd\n",
    "nosleeplc = pd.read_pickle('./pickles/nosleeplc.pickle')\n",
    "confessionslc = pd.read_pickle('./pickles/confessionslc.pickle')"
   ]
  },
  {
   "cell_type": "code",
   "execution_count": 2,
   "metadata": {},
   "outputs": [
    {
     "data": {
      "text/html": [
       "<div>\n",
       "<style scoped>\n",
       "    .dataframe tbody tr th:only-of-type {\n",
       "        vertical-align: middle;\n",
       "    }\n",
       "\n",
       "    .dataframe tbody tr th {\n",
       "        vertical-align: top;\n",
       "    }\n",
       "\n",
       "    .dataframe thead th {\n",
       "        text-align: right;\n",
       "    }\n",
       "</style>\n",
       "<table border=\"1\" class=\"dataframe\">\n",
       "  <thead>\n",
       "    <tr style=\"text-align: right;\">\n",
       "      <th></th>\n",
       "      <th>t_lc</th>\n",
       "      <th>c_lc</th>\n",
       "      <th>output</th>\n",
       "      <th>creepy</th>\n",
       "    </tr>\n",
       "    <tr>\n",
       "      <th>id</th>\n",
       "      <th></th>\n",
       "      <th></th>\n",
       "      <th></th>\n",
       "      <th></th>\n",
       "    </tr>\n",
       "  </thead>\n",
       "  <tbody>\n",
       "    <tr>\n",
       "      <th>gm90lz</th>\n",
       "      <td>[-43.448944, -40.90742, 31.774755, -38.43717, ...</td>\n",
       "      <td>[-8.348574, -1.5948275, 6.5946307, -6.272227, ...</td>\n",
       "      <td>[-51.797516, -42.502247, 38.369385, -44.709396...</td>\n",
       "      <td>1</td>\n",
       "    </tr>\n",
       "    <tr>\n",
       "      <th>gm9h46</th>\n",
       "      <td>[-27.826912, -38.139843, 24.683357, -36.190052...</td>\n",
       "      <td>[-3.479012, -3.3481028, 3.1868625, -5.2671967,...</td>\n",
       "      <td>[-31.305923, -41.487946, 27.87022, -41.45725, ...</td>\n",
       "      <td>1</td>\n",
       "    </tr>\n",
       "    <tr>\n",
       "      <th>gm9km0</th>\n",
       "      <td>[-38.23667, -28.275675, 43.27871, -53.35118, -...</td>\n",
       "      <td>[-1.9990637, -2.4532738, 1.2224282, -2.093637,...</td>\n",
       "      <td>[-40.235737, -30.728949, 44.501137, -55.444817...</td>\n",
       "      <td>1</td>\n",
       "    </tr>\n",
       "    <tr>\n",
       "      <th>gm9m6f</th>\n",
       "      <td>[-152.28827, -111.13088, 138.75168, -176.3487,...</td>\n",
       "      <td>[-4.7265887, -2.245382, 8.035507, -9.307725, -...</td>\n",
       "      <td>[-157.01486, -113.37627, 146.78719, -185.65642...</td>\n",
       "      <td>1</td>\n",
       "    </tr>\n",
       "    <tr>\n",
       "      <th>gm9nkx</th>\n",
       "      <td>[-82.07911, -40.25785, 75.34291, -56.98685, -6...</td>\n",
       "      <td>[-4.0219026, -0.26279643, 2.933392, -3.8764281...</td>\n",
       "      <td>[-86.10101, -40.52065, 78.276306, -60.863277, ...</td>\n",
       "      <td>1</td>\n",
       "    </tr>\n",
       "    <tr>\n",
       "      <th>...</th>\n",
       "      <td>...</td>\n",
       "      <td>...</td>\n",
       "      <td>...</td>\n",
       "      <td>...</td>\n",
       "    </tr>\n",
       "    <tr>\n",
       "      <th>gxr4ff</th>\n",
       "      <td>[-46.60243, -56.5399, 33.94343, -54.420517, -3...</td>\n",
       "      <td>[-4.124442, -0.794845, 4.482045, -5.5603256, -...</td>\n",
       "      <td>[-50.72687, -57.334747, 38.425476, -59.980843,...</td>\n",
       "      <td>1</td>\n",
       "    </tr>\n",
       "    <tr>\n",
       "      <th>gxr7hh</th>\n",
       "      <td>[-15.313586, -8.375985, 19.374754, -17.980627,...</td>\n",
       "      <td>[-4.805165, -1.4524518, 5.1010685, -5.4286466,...</td>\n",
       "      <td>[-20.118752, -9.828437, 24.475822, -23.409273,...</td>\n",
       "      <td>1</td>\n",
       "    </tr>\n",
       "    <tr>\n",
       "      <th>gxrnj7</th>\n",
       "      <td>[-191.69836, -139.24278, 187.0836, -143.5807, ...</td>\n",
       "      <td>[-0.8277999, -0.7379158, 0.07095297, -0.415737...</td>\n",
       "      <td>[-192.52617, -139.9807, 187.15456, -143.99644,...</td>\n",
       "      <td>1</td>\n",
       "    </tr>\n",
       "    <tr>\n",
       "      <th>gxs6jf</th>\n",
       "      <td>[-10.746326, -14.442649, 17.494566, -18.738699...</td>\n",
       "      <td>[-8.177861, -0.18242174, 3.9361427, -8.352903,...</td>\n",
       "      <td>[-18.924187, -14.625071, 21.430708, -27.091602...</td>\n",
       "      <td>1</td>\n",
       "    </tr>\n",
       "    <tr>\n",
       "      <th>gxsa0i</th>\n",
       "      <td>[-10.746326, -14.442649, 17.494566, -18.738699...</td>\n",
       "      <td>[-4.6811333, -1.2372178, 3.082223, -4.697426, ...</td>\n",
       "      <td>[-15.42746, -15.679867, 20.57679, -23.436125, ...</td>\n",
       "      <td>1</td>\n",
       "    </tr>\n",
       "  </tbody>\n",
       "</table>\n",
       "<p>1632 rows × 4 columns</p>\n",
       "</div>"
      ],
      "text/plain": [
       "                                                     t_lc  \\\n",
       "id                                                          \n",
       "gm90lz  [-43.448944, -40.90742, 31.774755, -38.43717, ...   \n",
       "gm9h46  [-27.826912, -38.139843, 24.683357, -36.190052...   \n",
       "gm9km0  [-38.23667, -28.275675, 43.27871, -53.35118, -...   \n",
       "gm9m6f  [-152.28827, -111.13088, 138.75168, -176.3487,...   \n",
       "gm9nkx  [-82.07911, -40.25785, 75.34291, -56.98685, -6...   \n",
       "...                                                   ...   \n",
       "gxr4ff  [-46.60243, -56.5399, 33.94343, -54.420517, -3...   \n",
       "gxr7hh  [-15.313586, -8.375985, 19.374754, -17.980627,...   \n",
       "gxrnj7  [-191.69836, -139.24278, 187.0836, -143.5807, ...   \n",
       "gxs6jf  [-10.746326, -14.442649, 17.494566, -18.738699...   \n",
       "gxsa0i  [-10.746326, -14.442649, 17.494566, -18.738699...   \n",
       "\n",
       "                                                     c_lc  \\\n",
       "id                                                          \n",
       "gm90lz  [-8.348574, -1.5948275, 6.5946307, -6.272227, ...   \n",
       "gm9h46  [-3.479012, -3.3481028, 3.1868625, -5.2671967,...   \n",
       "gm9km0  [-1.9990637, -2.4532738, 1.2224282, -2.093637,...   \n",
       "gm9m6f  [-4.7265887, -2.245382, 8.035507, -9.307725, -...   \n",
       "gm9nkx  [-4.0219026, -0.26279643, 2.933392, -3.8764281...   \n",
       "...                                                   ...   \n",
       "gxr4ff  [-4.124442, -0.794845, 4.482045, -5.5603256, -...   \n",
       "gxr7hh  [-4.805165, -1.4524518, 5.1010685, -5.4286466,...   \n",
       "gxrnj7  [-0.8277999, -0.7379158, 0.07095297, -0.415737...   \n",
       "gxs6jf  [-8.177861, -0.18242174, 3.9361427, -8.352903,...   \n",
       "gxsa0i  [-4.6811333, -1.2372178, 3.082223, -4.697426, ...   \n",
       "\n",
       "                                                   output  creepy  \n",
       "id                                                                 \n",
       "gm90lz  [-51.797516, -42.502247, 38.369385, -44.709396...       1  \n",
       "gm9h46  [-31.305923, -41.487946, 27.87022, -41.45725, ...       1  \n",
       "gm9km0  [-40.235737, -30.728949, 44.501137, -55.444817...       1  \n",
       "gm9m6f  [-157.01486, -113.37627, 146.78719, -185.65642...       1  \n",
       "gm9nkx  [-86.10101, -40.52065, 78.276306, -60.863277, ...       1  \n",
       "...                                                   ...     ...  \n",
       "gxr4ff  [-50.72687, -57.334747, 38.425476, -59.980843,...       1  \n",
       "gxr7hh  [-20.118752, -9.828437, 24.475822, -23.409273,...       1  \n",
       "gxrnj7  [-192.52617, -139.9807, 187.15456, -143.99644,...       1  \n",
       "gxs6jf  [-18.924187, -14.625071, 21.430708, -27.091602...       1  \n",
       "gxsa0i  [-15.42746, -15.679867, 20.57679, -23.436125, ...       1  \n",
       "\n",
       "[1632 rows x 4 columns]"
      ]
     },
     "execution_count": 2,
     "metadata": {},
     "output_type": "execute_result"
    }
   ],
   "source": [
    "nosleeplc['creepy'] = 1\n",
    "nosleeplc"
   ]
  },
  {
   "cell_type": "code",
   "execution_count": 3,
   "metadata": {},
   "outputs": [
    {
     "data": {
      "text/html": [
       "<div>\n",
       "<style scoped>\n",
       "    .dataframe tbody tr th:only-of-type {\n",
       "        vertical-align: middle;\n",
       "    }\n",
       "\n",
       "    .dataframe tbody tr th {\n",
       "        vertical-align: top;\n",
       "    }\n",
       "\n",
       "    .dataframe thead th {\n",
       "        text-align: right;\n",
       "    }\n",
       "</style>\n",
       "<table border=\"1\" class=\"dataframe\">\n",
       "  <thead>\n",
       "    <tr style=\"text-align: right;\">\n",
       "      <th></th>\n",
       "      <th>t_lc</th>\n",
       "      <th>c_lc</th>\n",
       "      <th>output</th>\n",
       "      <th>creepy</th>\n",
       "    </tr>\n",
       "    <tr>\n",
       "      <th>id</th>\n",
       "      <th></th>\n",
       "      <th></th>\n",
       "      <th></th>\n",
       "      <th></th>\n",
       "    </tr>\n",
       "  </thead>\n",
       "  <tbody>\n",
       "    <tr>\n",
       "      <th>gq5qxq</th>\n",
       "      <td>[-4.2211347, -3.2346933, 4.106688, -4.6284866,...</td>\n",
       "      <td>[-0.51808476, 0.0073981746, 0.38947615, -0.839...</td>\n",
       "      <td>[-4.7392197, -3.2272952, 4.4961643, -5.4679465...</td>\n",
       "      <td>0</td>\n",
       "    </tr>\n",
       "    <tr>\n",
       "      <th>gq5r1n</th>\n",
       "      <td>[-0.59724605, 0.045252368, 0.42557347, -0.2874...</td>\n",
       "      <td>[-1.112803, 0.5451723, 0.41355494, -0.42312628...</td>\n",
       "      <td>[-1.710049, 0.59042466, 0.8391284, -0.71056265...</td>\n",
       "      <td>0</td>\n",
       "    </tr>\n",
       "    <tr>\n",
       "      <th>gq5tf9</th>\n",
       "      <td>[-0.25366855, -0.023278378, 1.4053621, -1.8319...</td>\n",
       "      <td>[-0.5479347, -0.45367637, -0.73892784, -1.4348...</td>\n",
       "      <td>[-0.80160326, -0.47695476, 0.6664343, -3.26680...</td>\n",
       "      <td>0</td>\n",
       "    </tr>\n",
       "    <tr>\n",
       "      <th>gq5vj7</th>\n",
       "      <td>[-5.9038677, -6.217436, 5.5183806, -2.4951742,...</td>\n",
       "      <td>[-1.667027, -1.2814567, 0.769921, -1.3686498, ...</td>\n",
       "      <td>[-7.5708947, -7.498893, 6.2883015, -3.863824, ...</td>\n",
       "      <td>0</td>\n",
       "    </tr>\n",
       "    <tr>\n",
       "      <th>gq5wyk</th>\n",
       "      <td>[-1.8943088, 0.039124668, 0.6627472, 0.6592024...</td>\n",
       "      <td>[-1.5386828, -0.9547632, -0.1286468, 0.2768085...</td>\n",
       "      <td>[-3.4329915, -0.9156385, 0.5341004, 0.936011, ...</td>\n",
       "      <td>0</td>\n",
       "    </tr>\n",
       "    <tr>\n",
       "      <th>...</th>\n",
       "      <td>...</td>\n",
       "      <td>...</td>\n",
       "      <td>...</td>\n",
       "      <td>...</td>\n",
       "    </tr>\n",
       "    <tr>\n",
       "      <th>gxrepo</th>\n",
       "      <td>[-8.992483, -3.947889, 7.3025317, -11.3309765,...</td>\n",
       "      <td>[-2.5596943, -2.250828, 0.5942541, -0.3135411,...</td>\n",
       "      <td>[-11.552177, -6.198717, 7.8967857, -11.644518,...</td>\n",
       "      <td>0</td>\n",
       "    </tr>\n",
       "    <tr>\n",
       "      <th>gxro4y</th>\n",
       "      <td>[-1.5813004, -1.7788306, 1.943061, 0.001381754...</td>\n",
       "      <td>[-103.586685, -44.67759, 75.19151, -56.09118, ...</td>\n",
       "      <td>[-105.167984, -46.45642, 77.134575, -56.089798...</td>\n",
       "      <td>0</td>\n",
       "    </tr>\n",
       "    <tr>\n",
       "      <th>gxrvrz</th>\n",
       "      <td>[-4.069997, -5.479481, 6.6955786, -3.5458221, ...</td>\n",
       "      <td>[-6.331843, -4.9411883, 10.414454, -7.539891, ...</td>\n",
       "      <td>[-10.40184, -10.42067, 17.110033, -11.085712, ...</td>\n",
       "      <td>0</td>\n",
       "    </tr>\n",
       "    <tr>\n",
       "      <th>gxrzxh</th>\n",
       "      <td>[-2.8349352, -0.89818543, 1.9146793, -0.693764...</td>\n",
       "      <td>[-3.738345, -2.3382869, 2.9431949, -2.5634456,...</td>\n",
       "      <td>[-6.5732803, -3.2364724, 4.857874, -3.2572098,...</td>\n",
       "      <td>0</td>\n",
       "    </tr>\n",
       "    <tr>\n",
       "      <th>gxs5ks</th>\n",
       "      <td>[-4.23675, -3.0329466, 0.8071625, -4.8736043, ...</td>\n",
       "      <td>[-1.9104276, -1.3502709, 1.1346931, -2.4190605...</td>\n",
       "      <td>[-6.1471777, -4.3832173, 1.9418557, -7.2926645...</td>\n",
       "      <td>0</td>\n",
       "    </tr>\n",
       "  </tbody>\n",
       "</table>\n",
       "<p>1704 rows × 4 columns</p>\n",
       "</div>"
      ],
      "text/plain": [
       "                                                     t_lc  \\\n",
       "id                                                          \n",
       "gq5qxq  [-4.2211347, -3.2346933, 4.106688, -4.6284866,...   \n",
       "gq5r1n  [-0.59724605, 0.045252368, 0.42557347, -0.2874...   \n",
       "gq5tf9  [-0.25366855, -0.023278378, 1.4053621, -1.8319...   \n",
       "gq5vj7  [-5.9038677, -6.217436, 5.5183806, -2.4951742,...   \n",
       "gq5wyk  [-1.8943088, 0.039124668, 0.6627472, 0.6592024...   \n",
       "...                                                   ...   \n",
       "gxrepo  [-8.992483, -3.947889, 7.3025317, -11.3309765,...   \n",
       "gxro4y  [-1.5813004, -1.7788306, 1.943061, 0.001381754...   \n",
       "gxrvrz  [-4.069997, -5.479481, 6.6955786, -3.5458221, ...   \n",
       "gxrzxh  [-2.8349352, -0.89818543, 1.9146793, -0.693764...   \n",
       "gxs5ks  [-4.23675, -3.0329466, 0.8071625, -4.8736043, ...   \n",
       "\n",
       "                                                     c_lc  \\\n",
       "id                                                          \n",
       "gq5qxq  [-0.51808476, 0.0073981746, 0.38947615, -0.839...   \n",
       "gq5r1n  [-1.112803, 0.5451723, 0.41355494, -0.42312628...   \n",
       "gq5tf9  [-0.5479347, -0.45367637, -0.73892784, -1.4348...   \n",
       "gq5vj7  [-1.667027, -1.2814567, 0.769921, -1.3686498, ...   \n",
       "gq5wyk  [-1.5386828, -0.9547632, -0.1286468, 0.2768085...   \n",
       "...                                                   ...   \n",
       "gxrepo  [-2.5596943, -2.250828, 0.5942541, -0.3135411,...   \n",
       "gxro4y  [-103.586685, -44.67759, 75.19151, -56.09118, ...   \n",
       "gxrvrz  [-6.331843, -4.9411883, 10.414454, -7.539891, ...   \n",
       "gxrzxh  [-3.738345, -2.3382869, 2.9431949, -2.5634456,...   \n",
       "gxs5ks  [-1.9104276, -1.3502709, 1.1346931, -2.4190605...   \n",
       "\n",
       "                                                   output  creepy  \n",
       "id                                                                 \n",
       "gq5qxq  [-4.7392197, -3.2272952, 4.4961643, -5.4679465...       0  \n",
       "gq5r1n  [-1.710049, 0.59042466, 0.8391284, -0.71056265...       0  \n",
       "gq5tf9  [-0.80160326, -0.47695476, 0.6664343, -3.26680...       0  \n",
       "gq5vj7  [-7.5708947, -7.498893, 6.2883015, -3.863824, ...       0  \n",
       "gq5wyk  [-3.4329915, -0.9156385, 0.5341004, 0.936011, ...       0  \n",
       "...                                                   ...     ...  \n",
       "gxrepo  [-11.552177, -6.198717, 7.8967857, -11.644518,...       0  \n",
       "gxro4y  [-105.167984, -46.45642, 77.134575, -56.089798...       0  \n",
       "gxrvrz  [-10.40184, -10.42067, 17.110033, -11.085712, ...       0  \n",
       "gxrzxh  [-6.5732803, -3.2364724, 4.857874, -3.2572098,...       0  \n",
       "gxs5ks  [-6.1471777, -4.3832173, 1.9418557, -7.2926645...       0  \n",
       "\n",
       "[1704 rows x 4 columns]"
      ]
     },
     "execution_count": 3,
     "metadata": {},
     "output_type": "execute_result"
    }
   ],
   "source": [
    "confessionslc['creepy'] = 0\n",
    "confessionslc"
   ]
  },
  {
   "cell_type": "code",
   "execution_count": 4,
   "metadata": {},
   "outputs": [],
   "source": [
    "import tensorflow as tf\n",
    "from tensorflow import keras"
   ]
  },
  {
   "cell_type": "code",
   "execution_count": 5,
   "metadata": {},
   "outputs": [
    {
     "data": {
      "text/plain": [
       "'2.3.1'"
      ]
     },
     "execution_count": 5,
     "metadata": {},
     "output_type": "execute_result"
    }
   ],
   "source": [
    "tf.__version__"
   ]
  },
  {
   "cell_type": "code",
   "execution_count": 6,
   "metadata": {},
   "outputs": [
    {
     "data": {
      "text/plain": [
       "'2.4.0'"
      ]
     },
     "execution_count": 6,
     "metadata": {},
     "output_type": "execute_result"
    }
   ],
   "source": [
    "keras.__version__"
   ]
  },
  {
   "cell_type": "markdown",
   "metadata": {},
   "source": [
    "# Append two subreddits' data, and shuffle them to get X_full and y_full"
   ]
  },
  {
   "cell_type": "code",
   "execution_count": 7,
   "metadata": {},
   "outputs": [
    {
     "name": "stdout",
     "output_type": "stream",
     "text": [
      "nosleeplc's shape: (1632, 768)\n",
      "confessionslc's shape: (1704, 768)\n",
      "Total length: 3336\n"
     ]
    }
   ],
   "source": [
    "import numpy as np\n",
    "X = np.append(np.array(nosleeplc['output'].tolist()), np.array(confessionslc['output'].tolist()), axis = 0)\n",
    "print(f\"nosleeplc\\'s shape: {np.array(nosleeplc['output'].tolist()).shape}\")\n",
    "print(f\"confessionslc\\'s shape: {np.array(confessionslc['output'].tolist()).shape}\")\n",
    "print(f\"Total length: {np.array(nosleeplc['output'].tolist()).shape[0] + np.array(confessionslc['output'].tolist()).shape[0]}\")"
   ]
  },
  {
   "cell_type": "code",
   "execution_count": 8,
   "metadata": {},
   "outputs": [
    {
     "data": {
      "text/plain": [
       "array([[ 1.0000000e+00, -5.1797516e+01, -4.2502247e+01, ...,\n",
       "        -2.4768902e+01,  1.5113863e+01, -4.0954178e+01],\n",
       "       [ 2.0000000e+00, -3.1305923e+01, -4.1487946e+01, ...,\n",
       "        -5.0700655e+00,  2.0892849e+01, -3.5397038e+01],\n",
       "       [ 3.0000000e+00, -4.0235737e+01, -3.0728949e+01, ...,\n",
       "        -5.0687575e+00, -2.6036220e+00, -4.5102070e+01],\n",
       "       ...,\n",
       "       [ 3.3340000e+03, -1.0401840e+01, -1.0420670e+01, ...,\n",
       "        -1.2802319e+01,  2.4966426e+00, -1.9309353e+01],\n",
       "       [ 3.3350000e+03, -6.5732803e+00, -3.2364724e+00, ...,\n",
       "        -2.4223187e+00,  1.6510391e+00, -6.2416754e+00],\n",
       "       [ 3.3360000e+03, -6.1471777e+00, -4.3832173e+00, ...,\n",
       "        -3.9113390e+00,  3.0790896e+00, -9.7029152e+00]], dtype=float32)"
      ]
     },
     "execution_count": 8,
     "metadata": {},
     "output_type": "execute_result"
    }
   ],
   "source": [
    "idx = [i for i in range(1,len(X)+1)]\n",
    "X_idx = np.insert(X, 0, idx, axis=1)\n",
    "X_idx"
   ]
  },
  {
   "cell_type": "code",
   "execution_count": 9,
   "metadata": {},
   "outputs": [],
   "source": [
    "y = np.append(np.ones(1632).transpose(), np.zeros(1704).transpose(), axis = 0)"
   ]
  },
  {
   "cell_type": "code",
   "execution_count": 10,
   "metadata": {},
   "outputs": [],
   "source": [
    "np.random.shuffle(X_idx)"
   ]
  },
  {
   "cell_type": "code",
   "execution_count": 11,
   "metadata": {},
   "outputs": [
    {
     "data": {
      "text/plain": [
       "array([[  -7.5887394 ,   -3.0497913 ,    1.7037423 , ...,   -4.280322  ,\n",
       "           8.167824  ,  -10.876071  ],\n",
       "       [ -15.573925  ,   -6.0505247 ,   12.755083  , ...,   -6.7025084 ,\n",
       "          -0.91764235,   -8.356814  ],\n",
       "       [ -23.321955  ,  -17.463778  ,   26.7354    , ...,   -5.218791  ,\n",
       "           1.7318602 ,  -34.697075  ],\n",
       "       ...,\n",
       "       [  -4.443457  ,   -5.684457  ,    6.474416  , ...,   -5.559418  ,\n",
       "          -0.58764225,   -8.314421  ],\n",
       "       [ -24.0781    ,  -24.138248  ,   20.13562   , ...,   -3.3007472 ,\n",
       "          -3.087653  ,  -29.841846  ],\n",
       "       [-137.25641   ,  -97.549194  ,  121.64793   , ...,  -61.158012  ,\n",
       "          28.147367  , -178.46602   ]], dtype=float32)"
      ]
     },
     "execution_count": 11,
     "metadata": {},
     "output_type": "execute_result"
    }
   ],
   "source": [
    "X_full = X_idx[..., 1:] \n",
    "X_full"
   ]
  },
  {
   "cell_type": "code",
   "execution_count": 12,
   "metadata": {},
   "outputs": [],
   "source": [
    "y_full = y[X_idx[:,0].astype('int64') - 1]"
   ]
  },
  {
   "cell_type": "code",
   "execution_count": 13,
   "metadata": {},
   "outputs": [
    {
     "name": "stdout",
     "output_type": "stream",
     "text": [
      "X_full's shape: (3336, 768)\n",
      "y_full's shape: (3336,)\n"
     ]
    }
   ],
   "source": [
    "print(f\"X_full\\'s shape: {X_full.shape}\")\n",
    "print(f\"y_full\\'s shape: {y_full.shape}\")"
   ]
  },
  {
   "cell_type": "code",
   "execution_count": 14,
   "metadata": {},
   "outputs": [],
   "source": [
    "X_train, X_valid, y_train, y_valid = X_full[:2600], X_full[2600:3000], y_full[:2600], y_full[2600:3000]\n",
    "X_test, y_test = X_full[3000:], y_full[3000:]"
   ]
  },
  {
   "cell_type": "code",
   "execution_count": 24,
   "metadata": {},
   "outputs": [],
   "source": [
    "model = keras.models.Sequential()\n",
    "model.add(keras.layers.Flatten(input_shape=[768]))\n",
    "model.add(keras.layers.Dense(300, activation='relu'))\n",
    "model.add(keras.layers.Dense(100, activation='relu'))\n",
    "model.add(keras.layers.Dense(10, activation='relu'))\n",
    "model.add(keras.layers.Dense(2, activation='softmax'))"
   ]
  },
  {
   "cell_type": "code",
   "execution_count": 22,
   "metadata": {},
   "outputs": [
    {
     "ename": "ValueError",
     "evalue": "This model has not yet been built. Build the model first by calling `build()` or calling `fit()` with some data, or specify an `input_shape` argument in the first layer(s) for automatic build.",
     "output_type": "error",
     "traceback": [
      "\u001b[0;31m---------------------------------------------------------------------------\u001b[0m",
      "\u001b[0;31mValueError\u001b[0m                                Traceback (most recent call last)",
      "\u001b[0;32m<ipython-input-22-5f15418b3570>\u001b[0m in \u001b[0;36m<module>\u001b[0;34m\u001b[0m\n\u001b[0;32m----> 1\u001b[0;31m \u001b[0mmodel\u001b[0m\u001b[0;34m.\u001b[0m\u001b[0msummary\u001b[0m\u001b[0;34m(\u001b[0m\u001b[0;34m)\u001b[0m\u001b[0;34m\u001b[0m\u001b[0;34m\u001b[0m\u001b[0m\n\u001b[0m",
      "\u001b[0;32m~/Documents/Research-Mapping-Uncanny-Valley/.venv/creepyenv/lib/python3.8/site-packages/tensorflow/python/keras/engine/training.py\u001b[0m in \u001b[0;36msummary\u001b[0;34m(self, line_length, positions, print_fn)\u001b[0m\n\u001b[1;32m   2349\u001b[0m     \"\"\"\n\u001b[1;32m   2350\u001b[0m     \u001b[0;32mif\u001b[0m \u001b[0;32mnot\u001b[0m \u001b[0mself\u001b[0m\u001b[0;34m.\u001b[0m\u001b[0mbuilt\u001b[0m\u001b[0;34m:\u001b[0m\u001b[0;34m\u001b[0m\u001b[0;34m\u001b[0m\u001b[0m\n\u001b[0;32m-> 2351\u001b[0;31m       raise ValueError('This model has not yet been built. '\n\u001b[0m\u001b[1;32m   2352\u001b[0m                        \u001b[0;34m'Build the model first by calling `build()` or calling '\u001b[0m\u001b[0;34m\u001b[0m\u001b[0;34m\u001b[0m\u001b[0m\n\u001b[1;32m   2353\u001b[0m                        \u001b[0;34m'`fit()` with some data, or specify '\u001b[0m\u001b[0;34m\u001b[0m\u001b[0;34m\u001b[0m\u001b[0m\n",
      "\u001b[0;31mValueError\u001b[0m: This model has not yet been built. Build the model first by calling `build()` or calling `fit()` with some data, or specify an `input_shape` argument in the first layer(s) for automatic build."
     ]
    }
   ],
   "source": [
    "model.summary()"
   ]
  },
  {
   "cell_type": "code",
   "execution_count": 17,
   "metadata": {},
   "outputs": [
    {
     "data": {
      "text/plain": [
       "[<tensorflow.python.keras.layers.core.Flatten at 0x7f4afc2aab80>,\n",
       " <tensorflow.python.keras.layers.core.Dense at 0x7f4afbfdac10>,\n",
       " <tensorflow.python.keras.layers.core.Dense at 0x7f4afbfe9a90>,\n",
       " <tensorflow.python.keras.layers.core.Dense at 0x7f4afbfe9fd0>,\n",
       " <tensorflow.python.keras.layers.core.Dense at 0x7f4afbf2dfa0>]"
      ]
     },
     "execution_count": 17,
     "metadata": {},
     "output_type": "execute_result"
    }
   ],
   "source": [
    "model.layers"
   ]
  },
  {
   "cell_type": "code",
   "execution_count": 18,
   "metadata": {},
   "outputs": [],
   "source": [
    "model.compile(loss = \"sparse_categorical_crossentropy\",\n",
    "             optimizer=\"sgd\",\n",
    "             metrics=['accuracy'])"
   ]
  },
  {
   "cell_type": "code",
   "execution_count": 19,
   "metadata": {},
   "outputs": [
    {
     "name": "stdout",
     "output_type": "stream",
     "text": [
      "Epoch 1/30\n",
      "82/82 [==============================] - 0s 2ms/step - loss: 8802.0508 - accuracy: 0.5038 - val_loss: 0.6928 - val_accuracy: 0.5175\n",
      "Epoch 2/30\n",
      "82/82 [==============================] - 0s 1ms/step - loss: 0.6914 - accuracy: 0.5027 - val_loss: 0.6929 - val_accuracy: 0.5175\n",
      "Epoch 3/30\n",
      "82/82 [==============================] - 0s 1ms/step - loss: 0.6914 - accuracy: 0.5027 - val_loss: 0.6929 - val_accuracy: 0.5175\n",
      "Epoch 4/30\n",
      "82/82 [==============================] - 0s 1ms/step - loss: 0.6913 - accuracy: 0.5015 - val_loss: 0.6930 - val_accuracy: 0.5175\n",
      "Epoch 5/30\n",
      "82/82 [==============================] - 0s 1ms/step - loss: 0.6913 - accuracy: 0.4938 - val_loss: 0.6929 - val_accuracy: 0.5175\n",
      "Epoch 6/30\n",
      "82/82 [==============================] - 0s 1ms/step - loss: 0.6914 - accuracy: 0.5027 - val_loss: 0.6930 - val_accuracy: 0.5175\n",
      "Epoch 7/30\n",
      "82/82 [==============================] - 0s 1ms/step - loss: 0.6914 - accuracy: 0.5027 - val_loss: 0.6930 - val_accuracy: 0.5175\n",
      "Epoch 8/30\n",
      "82/82 [==============================] - 0s 1ms/step - loss: 0.6914 - accuracy: 0.4965 - val_loss: 0.6930 - val_accuracy: 0.5175\n",
      "Epoch 9/30\n",
      "82/82 [==============================] - 0s 1ms/step - loss: 0.6914 - accuracy: 0.5015 - val_loss: 0.6930 - val_accuracy: 0.5175\n",
      "Epoch 10/30\n",
      "82/82 [==============================] - 0s 1ms/step - loss: 0.6914 - accuracy: 0.5027 - val_loss: 0.6930 - val_accuracy: 0.5175\n",
      "Epoch 11/30\n",
      "82/82 [==============================] - 0s 1ms/step - loss: 0.6913 - accuracy: 0.5027 - val_loss: 0.6931 - val_accuracy: 0.5175\n",
      "Epoch 12/30\n",
      "82/82 [==============================] - 0s 1ms/step - loss: 0.6913 - accuracy: 0.5015 - val_loss: 0.6930 - val_accuracy: 0.5175\n",
      "Epoch 13/30\n",
      "82/82 [==============================] - 0s 1ms/step - loss: 0.6913 - accuracy: 0.5027 - val_loss: 0.6930 - val_accuracy: 0.5175\n",
      "Epoch 14/30\n",
      "82/82 [==============================] - 0s 1ms/step - loss: 0.6913 - accuracy: 0.4996 - val_loss: 0.6930 - val_accuracy: 0.5175\n",
      "Epoch 15/30\n",
      "82/82 [==============================] - 0s 1ms/step - loss: 0.6913 - accuracy: 0.5027 - val_loss: 0.6930 - val_accuracy: 0.5175\n",
      "Epoch 16/30\n",
      "82/82 [==============================] - 0s 1ms/step - loss: 0.6913 - accuracy: 0.4965 - val_loss: 0.6930 - val_accuracy: 0.5175\n",
      "Epoch 17/30\n",
      "82/82 [==============================] - 0s 1ms/step - loss: 0.6914 - accuracy: 0.5027 - val_loss: 0.6931 - val_accuracy: 0.5175\n",
      "Epoch 18/30\n",
      "82/82 [==============================] - 0s 1ms/step - loss: 0.6913 - accuracy: 0.4973 - val_loss: 0.6930 - val_accuracy: 0.5175\n",
      "Epoch 19/30\n",
      "82/82 [==============================] - 0s 1ms/step - loss: 0.6913 - accuracy: 0.5027 - val_loss: 0.6930 - val_accuracy: 0.5175\n",
      "Epoch 20/30\n",
      "82/82 [==============================] - 0s 1ms/step - loss: 0.6914 - accuracy: 0.4946 - val_loss: 0.6930 - val_accuracy: 0.5175\n",
      "Epoch 21/30\n",
      "82/82 [==============================] - 0s 1ms/step - loss: 0.6913 - accuracy: 0.5027 - val_loss: 0.6930 - val_accuracy: 0.5175\n",
      "Epoch 22/30\n",
      "82/82 [==============================] - 0s 1ms/step - loss: 0.6913 - accuracy: 0.5004 - val_loss: 0.6930 - val_accuracy: 0.5175\n",
      "Epoch 23/30\n",
      "82/82 [==============================] - 0s 1ms/step - loss: 0.6914 - accuracy: 0.5027 - val_loss: 0.6931 - val_accuracy: 0.5175\n",
      "Epoch 24/30\n",
      "82/82 [==============================] - 0s 1ms/step - loss: 0.6914 - accuracy: 0.4981 - val_loss: 0.6930 - val_accuracy: 0.5175\n",
      "Epoch 25/30\n",
      "82/82 [==============================] - 0s 1ms/step - loss: 0.6914 - accuracy: 0.5027 - val_loss: 0.6931 - val_accuracy: 0.5175\n",
      "Epoch 26/30\n",
      "82/82 [==============================] - 0s 1ms/step - loss: 0.6913 - accuracy: 0.4908 - val_loss: 0.6931 - val_accuracy: 0.5175\n",
      "Epoch 27/30\n",
      "82/82 [==============================] - 0s 1ms/step - loss: 0.6914 - accuracy: 0.4812 - val_loss: 0.6931 - val_accuracy: 0.5175\n",
      "Epoch 28/30\n",
      "82/82 [==============================] - 0s 1ms/step - loss: 0.6913 - accuracy: 0.5015 - val_loss: 0.6931 - val_accuracy: 0.5175\n",
      "Epoch 29/30\n",
      "82/82 [==============================] - 0s 1ms/step - loss: 0.6913 - accuracy: 0.4873 - val_loss: 0.6931 - val_accuracy: 0.5175\n",
      "Epoch 30/30\n",
      "82/82 [==============================] - 0s 1ms/step - loss: 0.6914 - accuracy: 0.4962 - val_loss: 0.6932 - val_accuracy: 0.4825\n"
     ]
    }
   ],
   "source": [
    "history = model.fit(X_train, y_train, epochs = 30,\n",
    "                   validation_data=(X_valid, y_valid))"
   ]
  },
  {
   "cell_type": "code",
   "execution_count": 20,
   "metadata": {},
   "outputs": [
    {
     "data": {
      "image/png": "[encoded data removed]",
      "text/plain": [
       "<Figure size 576x360 with 1 Axes>"
      ]
     },
     "metadata": {
      "needs_background": "light"
     },
     "output_type": "display_data"
    }
   ],
   "source": [
    "import pandas as pd\n",
    "import matplotlib.pyplot as plt\n",
    "\n",
    "pd.DataFrame(history.history).plot(figsize=(8,5))\n",
    "plt.grid(True)\n",
    "plt.show()"
   ]
  },
  {
   "cell_type": "code",
   "execution_count": 93,
   "metadata": {},
   "outputs": [
    {
     "name": "stdout",
     "output_type": "stream",
     "text": [
      "11/11 [==============================] - 0s 821us/step - loss: nan - accuracy: 0.5000\n"
     ]
    },
    {
     "data": {
      "text/plain": [
       "[nan, 0.5]"
      ]
     },
     "execution_count": 93,
     "metadata": {},
     "output_type": "execute_result"
    }
   ],
   "source": [
    "model.evaluate(X_test, y_test)"
   ]
  },
  {
   "cell_type": "code",
   "execution_count": null,
   "metadata": {},
   "outputs": [],
   "source": []
  }
 ],
 "metadata": {
  "kernelspec": {
   "display_name": "creepyenv",
   "language": "python",
   "name": "creepyenv"
  },
  "language_info": {
   "codemirror_mode": {
    "name": "ipython",
    "version": 3
   },
   "file_extension": ".py",
   "mimetype": "text/x-python",
   "name": "python",
   "nbconvert_exporter": "python",
   "pygments_lexer": "ipython3",
   "version": "3.8.3"
  }
 },
 "nbformat": 4,
 "nbformat_minor": 4
}
